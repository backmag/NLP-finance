{
 "cells": [
  {
   "cell_type": "code",
   "execution_count": 10,
   "metadata": {},
   "outputs": [],
   "source": [
    "from tensorflow.keras.layers import Dense, Input\n",
    "from tensorflow.keras.models import Model\n",
    "from pathlib import Path\n",
    "from sklearn.feature_extraction.text import TfidfTransformer, CountVectorizer\n",
    "from nltk.tokenize import word_tokenize\n",
    "from nltk import FreqDist\n",
    "import matplotlib.pyplot as plt\n",
    "import numpy as np\n",
    "import pandas as pd \n",
    "import os\n",
    "import io\n",
    "import pickle\n",
    "import random\n",
    "import itertools\n",
    "from importnb import Notebook, reload\n",
    "with Notebook(): \n",
    "    import Utilities"
   ]
  },
  {
   "cell_type": "code",
   "execution_count": 11,
   "metadata": {},
   "outputs": [],
   "source": [
    "def preprocess_text(df):\n",
    "    \"\"\" Tokenize \"\"\"\n",
    "    conc = pd.DataFrame()\n",
    "    for i in set(df.index):\n",
    "        concat_str = ''\n",
    "        for title in df.loc[i]['title']:\n",
    "            concat_str += \" \" + title.lower()\n",
    "        concat_str = word_tokenize(concat_str)\n",
    "        conc = conc.append({'date':i, 'title':concat_str},ignore_index=True)\n",
    "    conc.set_index('date',inplace=True)\n",
    "    conc = conc.sort_values('date')\n",
    "    sents = [''.join([word + ' ' for word in title]) for title in conc['title'].values]\n",
    "    return sents"
   ]
  },
  {
   "cell_type": "code",
   "execution_count": 12,
   "metadata": {},
   "outputs": [],
   "source": [
    "config = {\n",
    "    'start_date': '2006-10-20',\n",
    "    'end_date': '2013-11-19',\n",
    "    'lookback': 1,    # Lookback is set to 1 since we only consider one previous day here\n",
    "    'delay': 5,\n",
    "    'p': 1,\n",
    "    'd': 1,\n",
    "    'q': 1,\n",
    "    'series': '1 YEAR',\n",
    "}"
   ]
  },
  {
   "cell_type": "code",
   "execution_count": 20,
   "metadata": {},
   "outputs": [],
   "source": [
    "# Load data \n",
    "news_path = Path(os.path.dirname(os.getcwd())) / \"Datasets/data/financial_headlines_20061020-20131119.pkl\"\n",
    "stock_path = Path(os.path.dirname(os.getcwd())) / \"Datasets/data/stock_data.pkl\"\n",
    "news_data = pd.DataFrame(pd.read_pickle(news_path))\n",
    "news_data.set_index('date',inplace=True)\n",
    "stock_data = pd.DataFrame(pd.read_pickle(stock_path))\n",
    "# Concatinate daily \n",
    "text = preprocess_text(news_data)"
   ]
  },
  {
   "cell_type": "code",
   "execution_count": 105,
   "metadata": {},
   "outputs": [
    {
     "name": "stdout",
     "output_type": "stream",
     "text": [
      "Shape of x: (2582, 23560)\n"
     ]
    }
   ],
   "source": [
    "# Create a matrix of size (n,vocab_size)\n",
    "count_vec = CountVectorizer()\n",
    "count_vec.fit(text)\n",
    "x_count = count_vec.transform(text)\n",
    "\n",
    "tfidf_vec = TfidfTransformer()\n",
    "tfidf_vec.fit(x_count)\n",
    "x_tf = tfidf_vec.transform(x_count)\n",
    "print(\"Shape of x:\",x_tf.shape)"
   ]
  },
  {
   "cell_type": "code",
   "execution_count": 28,
   "metadata": {},
   "outputs": [
    {
     "ename": "NameError",
     "evalue": "name 'data' is not defined",
     "output_type": "error",
     "traceback": [
      "\u001b[1;31m---------------------------------------------------------------------------\u001b[0m",
      "\u001b[1;31mNameError\u001b[0m                                 Traceback (most recent call last)",
      "\u001b[1;32m<ipython-input-28-d9990d90319e>\u001b[0m in \u001b[0;36m<module>\u001b[1;34m\u001b[0m\n\u001b[0;32m      1\u001b[0m \u001b[1;31m# Format financial data and interpolate missing values\u001b[0m\u001b[1;33m\u001b[0m\u001b[1;33m\u001b[0m\u001b[1;33m\u001b[0m\u001b[0m\n\u001b[1;32m----> 2\u001b[1;33m \u001b[0mfin_data\u001b[0m\u001b[1;33m,\u001b[0m \u001b[0mfin_stats\u001b[0m \u001b[1;33m=\u001b[0m \u001b[0mUtilities\u001b[0m\u001b[1;33m.\u001b[0m\u001b[0mformat_financial_data\u001b[0m\u001b[1;33m(\u001b[0m\u001b[0mstock_data\u001b[0m\u001b[1;33m,\u001b[0m \u001b[0mdata\u001b[0m\u001b[1;33m.\u001b[0m\u001b[0mindex\u001b[0m\u001b[1;33m,\u001b[0m \u001b[0mconfig\u001b[0m\u001b[1;33m[\u001b[0m\u001b[1;34m'start_date'\u001b[0m\u001b[1;33m]\u001b[0m\u001b[1;33m,\u001b[0m \u001b[0mconfig\u001b[0m\u001b[1;33m[\u001b[0m\u001b[1;34m'end_date'\u001b[0m\u001b[1;33m]\u001b[0m\u001b[1;33m)\u001b[0m\u001b[1;33m\u001b[0m\u001b[1;33m\u001b[0m\u001b[0m\n\u001b[0m",
      "\u001b[1;31mNameError\u001b[0m: name 'data' is not defined"
     ]
    }
   ],
   "source": [
    "# Format financial data and interpolate missing values\n",
    "fin_data, fin_stats = Utilities.format_financial_data(stock_data, data.index, config['start_date'], config['end_date'])"
   ]
  },
  {
   "cell_type": "code",
   "execution_count": null,
   "metadata": {},
   "outputs": [],
   "source": []
  },
  {
   "cell_type": "code",
   "execution_count": 25,
   "metadata": {},
   "outputs": [
    {
     "name": "stdout",
     "output_type": "stream",
     "text": [
      "Found and loaded previously constructed models.\n"
     ]
    }
   ],
   "source": [
    "# Check if the ARIMA-models has been previously calculated for this config\n",
    "# or if they have to be constructed\n",
    "path = Path(f\"../Models/ARIMA/all_mods_del{config['delay']}.pkl\")\n",
    "if os.path.exists(path):\n",
    "    # Load model if it already exists\n",
    "    ARIMA_models = pd.read_pickle(path)\n",
    "    print(\"Found and loaded previously constructed models.\")\n",
    "else: \n",
    "    # Fit ARIMA-models to all of the dates in the training data \n",
    "    print(\"Model not found, fitting models. \")\n",
    "    ARIMA_models = Utilities.fit_all_models(config, fin_data)\n",
    "    ARIMA_models.to_pickle(path)"
   ]
  },
  {
   "cell_type": "code",
   "execution_count": 26,
   "metadata": {},
   "outputs": [],
   "source": [
    "# Generate predictions from the fitted ARIMA-models\n",
    "arima_preds = Utilities.predict_arima(ARIMA_models, config['delay'])"
   ]
  },
  {
   "cell_type": "code",
   "execution_count": 27,
   "metadata": {},
   "outputs": [
    {
     "ename": "NameError",
     "evalue": "name 'fin_data' is not defined",
     "output_type": "error",
     "traceback": [
      "\u001b[1;31m---------------------------------------------------------------------------\u001b[0m",
      "\u001b[1;31mNameError\u001b[0m                                 Traceback (most recent call last)",
      "\u001b[1;32m<ipython-input-27-0e8b68dd6946>\u001b[0m in \u001b[0;36m<module>\u001b[1;34m\u001b[0m\n\u001b[0;32m      1\u001b[0m \u001b[1;31m# Drop the values not in arima_preds. This is just values in the beginning where\u001b[0m\u001b[1;33m\u001b[0m\u001b[1;33m\u001b[0m\u001b[1;33m\u001b[0m\u001b[0m\n\u001b[0;32m      2\u001b[0m \u001b[1;31m# there isn't enough data to make a prediction, varies depending on lookback and delay.\u001b[0m\u001b[1;33m\u001b[0m\u001b[1;33m\u001b[0m\u001b[1;33m\u001b[0m\u001b[0m\n\u001b[1;32m----> 3\u001b[1;33m \u001b[1;32mfor\u001b[0m \u001b[0mdate\u001b[0m \u001b[1;32min\u001b[0m \u001b[0mfin_data\u001b[0m\u001b[1;33m.\u001b[0m\u001b[0mindex\u001b[0m\u001b[1;33m:\u001b[0m\u001b[1;33m\u001b[0m\u001b[1;33m\u001b[0m\u001b[0m\n\u001b[0m\u001b[0;32m      4\u001b[0m     \u001b[1;32mif\u001b[0m \u001b[1;32mnot\u001b[0m \u001b[0mdate\u001b[0m \u001b[1;32min\u001b[0m \u001b[0marima_preds\u001b[0m\u001b[1;33m.\u001b[0m\u001b[0mindex\u001b[0m \u001b[1;33m:\u001b[0m \u001b[0mfin_data\u001b[0m\u001b[1;33m.\u001b[0m\u001b[0mdrop\u001b[0m\u001b[1;33m(\u001b[0m\u001b[0mindex\u001b[0m\u001b[1;33m=\u001b[0m\u001b[0mdate\u001b[0m\u001b[1;33m,\u001b[0m\u001b[0minplace\u001b[0m\u001b[1;33m=\u001b[0m\u001b[1;32mTrue\u001b[0m\u001b[1;33m)\u001b[0m\u001b[1;33m\u001b[0m\u001b[1;33m\u001b[0m\u001b[0m\n",
      "\u001b[1;31mNameError\u001b[0m: name 'fin_data' is not defined"
     ]
    }
   ],
   "source": [
    "# Drop the values not in arima_preds. This is just values in the beginning where\n",
    "# there isn't enough data to make a prediction, varies depending on lookback and delay. \n",
    "for date in fin_data.index: \n",
    "    if not date in arima_preds.index : fin_data.drop(index=date,inplace=True)"
   ]
  },
  {
   "cell_type": "code",
   "execution_count": null,
   "metadata": {},
   "outputs": [],
   "source": [
    "# Create a target feature which is simply the deviance between actual value in \n",
    "# delay days and the predicted value \n",
    "y = np.zeros(len(fin_data) - config['delay'])\n",
    "for i in range(len(y)):\n",
    "    y[i] = arima_preds[config['series']].iloc[i] - fin_data[config['series']].iloc[i + config['delay']]"
   ]
  },
  {
   "cell_type": "code",
   "execution_count": null,
   "metadata": {},
   "outputs": [],
   "source": [
    "# Need to remove some rows from the word embedding-matrix,\n",
    "# these numbers are specified in Utilities.fit_all_models()\n",
    "rm_start_rows = max(config['lookback'],5) + 1\n",
    "rm_end_rows = config['delay']\n",
    "x_tf = x_tf[rm_start_rows : -rm_end_rows]"
   ]
  },
  {
   "cell_type": "code",
   "execution_count": null,
   "metadata": {},
   "outputs": [],
   "source": [
    "# Shuffle for training and testing \n",
    "(x_train,y_train), (x_test, y_test) = Utilities.shuffle_and_partition(x_tf.todense(),y, test_part=0.2)\n",
    "print(\"Shape of x_train: \",x_train.shape)\n",
    "print(\"Shape of y_train: \",y_train.shape)"
   ]
  },
  {
   "cell_type": "code",
   "execution_count": null,
   "metadata": {},
   "outputs": [],
   "source": [
    "def create_nn(n_nodes, activation='relu'): \n",
    "    # n_nodes is a list with the number of nodes per layer, starting from the input \n",
    "    input_layer = Input(shape=23560, name='input')\n",
    "    prev_layer = input_layer\n",
    "    for n in n_nodes: \n",
    "        prev_layer = Dense(n, activation=activation)(prev_layer)\n",
    "    output_layer = Dense(1, activation='linear', name='output')(prev_layer)\n",
    "    \n",
    "    model = Model(inputs =[input_layer], outputs=[output_layer])\n",
    "    model.compile(optimizer='rmsprop', loss='mse')\n",
    "    return model\n",
    "\n",
    "def train_and_format(x,y,bs,epochs, results, layers, nodes):\n",
    "    name = f\"{bs}_{layers}_{nodes}\"\n",
    "    temp_history = model.fit(x, y, batch_size=bs, validation_split=0.2, epochs = epochs,verbose=0)\n",
    "    return results.append(pd.Series([np.mean(temp_history.history['val_loss'][-5:]),\n",
    "                                                temp_history, model, layers, \n",
    "                                                nodes, bs], \n",
    "                                                name=name,index=['Mean Val MSE','History','Model','Layers','Nodes','Batch Size']))\n"
   ]
  },
  {
   "cell_type": "code",
   "execution_count": 159,
   "metadata": {},
   "outputs": [
    {
     "name": "stdout",
     "output_type": "stream",
     "text": [
      "Testing 108 combinations. \n",
      "100.0 %     \r"
     ]
    }
   ],
   "source": [
    "n_layers = np.arange(2,3)\n",
    "n_nodes = [1, 5, 10, 25, 50, 100]\n",
    "batch_sizes = [8, 12, 16]\n",
    "epochs = 10\n",
    "results = pd.DataFrame(columns=['Mean Val MSE','History','Model', 'Layers', 'Nodes','Batch Size'])\n",
    "n_configs = sum([len(n_nodes)**l for l in n_layers]) * len(batch_sizes)\n",
    "ctr = 0\n",
    "print('Testing {} combinations. '.format(n_configs))\n",
    "for layers in n_layers:\n",
    "    # Hopefully the ugliest code I'll ever write. \n",
    "    if layers == 1: node_configs = list(itertools.product(n_nodes))\n",
    "    elif layers == 2: node_configs = list(itertools.product(n_nodes, n_nodes))\n",
    "    elif layers == 3: node_configs = list(itertools.product(n_nodes, n_nodes, n_nodes))\n",
    "    elif layers == 4: node_configs = list(itertools.product(n_nodes, n_nodes, n_nodes, n_nodes))\n",
    "    for bs in batch_sizes: \n",
    "        for temp_nodes in node_configs: \n",
    "            ctr += 1 \n",
    "            print(\"{} %     \".format(round(100 * ctr / n_configs,2)),end='\\r')\n",
    "            model = create_nn(temp_nodes)\n",
    "            results = train_and_format(x_train, y_train, bs, epochs, results, layers, temp_nodes)\n"
   ]
  },
  {
   "cell_type": "code",
   "execution_count": 160,
   "metadata": {},
   "outputs": [
    {
     "name": "stdout",
     "output_type": "stream",
     "text": [
      "Top 5 configs: \n"
     ]
    },
    {
     "data": {
      "text/html": [
       "<div>\n",
       "<style scoped>\n",
       "    .dataframe tbody tr th:only-of-type {\n",
       "        vertical-align: middle;\n",
       "    }\n",
       "\n",
       "    .dataframe tbody tr th {\n",
       "        vertical-align: top;\n",
       "    }\n",
       "\n",
       "    .dataframe thead th {\n",
       "        text-align: right;\n",
       "    }\n",
       "</style>\n",
       "<table border=\"1\" class=\"dataframe\">\n",
       "  <thead>\n",
       "    <tr style=\"text-align: right;\">\n",
       "      <th></th>\n",
       "      <th>Mean Val MSE</th>\n",
       "      <th>History</th>\n",
       "      <th>Model</th>\n",
       "      <th>Layers</th>\n",
       "      <th>Nodes</th>\n",
       "      <th>Batch Size</th>\n",
       "    </tr>\n",
       "  </thead>\n",
       "  <tbody>\n",
       "    <tr>\n",
       "      <td>12_2_(100, 100)</td>\n",
       "      <td>0.000244</td>\n",
       "      <td>&lt;tensorflow.python.keras.callbacks.History obj...</td>\n",
       "      <td>&lt;tensorflow.python.keras.engine.training.Model...</td>\n",
       "      <td>2</td>\n",
       "      <td>(100, 100)</td>\n",
       "      <td>12</td>\n",
       "    </tr>\n",
       "    <tr>\n",
       "      <td>8_2_(10, 10)</td>\n",
       "      <td>0.000251</td>\n",
       "      <td>&lt;tensorflow.python.keras.callbacks.History obj...</td>\n",
       "      <td>&lt;tensorflow.python.keras.engine.training.Model...</td>\n",
       "      <td>2</td>\n",
       "      <td>(10, 10)</td>\n",
       "      <td>8</td>\n",
       "    </tr>\n",
       "    <tr>\n",
       "      <td>12_2_(50, 10)</td>\n",
       "      <td>0.000240</td>\n",
       "      <td>&lt;tensorflow.python.keras.callbacks.History obj...</td>\n",
       "      <td>&lt;tensorflow.python.keras.engine.training.Model...</td>\n",
       "      <td>2</td>\n",
       "      <td>(50, 10)</td>\n",
       "      <td>12</td>\n",
       "    </tr>\n",
       "    <tr>\n",
       "      <td>12_2_(100, 25)</td>\n",
       "      <td>0.000251</td>\n",
       "      <td>&lt;tensorflow.python.keras.callbacks.History obj...</td>\n",
       "      <td>&lt;tensorflow.python.keras.engine.training.Model...</td>\n",
       "      <td>2</td>\n",
       "      <td>(100, 25)</td>\n",
       "      <td>12</td>\n",
       "    </tr>\n",
       "    <tr>\n",
       "      <td>16_2_(100, 100)</td>\n",
       "      <td>0.000251</td>\n",
       "      <td>&lt;tensorflow.python.keras.callbacks.History obj...</td>\n",
       "      <td>&lt;tensorflow.python.keras.engine.training.Model...</td>\n",
       "      <td>2</td>\n",
       "      <td>(100, 100)</td>\n",
       "      <td>16</td>\n",
       "    </tr>\n",
       "  </tbody>\n",
       "</table>\n",
       "</div>"
      ],
      "text/plain": [
       "                 Mean Val MSE  \\\n",
       "12_2_(100, 100)      0.000244   \n",
       "8_2_(10, 10)         0.000251   \n",
       "12_2_(50, 10)        0.000240   \n",
       "12_2_(100, 25)       0.000251   \n",
       "16_2_(100, 100)      0.000251   \n",
       "\n",
       "                                                           History  \\\n",
       "12_2_(100, 100)  <tensorflow.python.keras.callbacks.History obj...   \n",
       "8_2_(10, 10)     <tensorflow.python.keras.callbacks.History obj...   \n",
       "12_2_(50, 10)    <tensorflow.python.keras.callbacks.History obj...   \n",
       "12_2_(100, 25)   <tensorflow.python.keras.callbacks.History obj...   \n",
       "16_2_(100, 100)  <tensorflow.python.keras.callbacks.History obj...   \n",
       "\n",
       "                                                             Model Layers  \\\n",
       "12_2_(100, 100)  <tensorflow.python.keras.engine.training.Model...      2   \n",
       "8_2_(10, 10)     <tensorflow.python.keras.engine.training.Model...      2   \n",
       "12_2_(50, 10)    <tensorflow.python.keras.engine.training.Model...      2   \n",
       "12_2_(100, 25)   <tensorflow.python.keras.engine.training.Model...      2   \n",
       "16_2_(100, 100)  <tensorflow.python.keras.engine.training.Model...      2   \n",
       "\n",
       "                      Nodes Batch Size  \n",
       "12_2_(100, 100)  (100, 100)         12  \n",
       "8_2_(10, 10)       (10, 10)          8  \n",
       "12_2_(50, 10)      (50, 10)         12  \n",
       "12_2_(100, 25)    (100, 25)         12  \n",
       "16_2_(100, 100)  (100, 100)         16  "
      ]
     },
     "execution_count": 160,
     "metadata": {},
     "output_type": "execute_result"
    }
   ],
   "source": [
    "k = 5\n",
    "print(\"Top {} configs: \".format(k))\n",
    "k_best = np.argpartition(results['Mean Val MSE'],k)[:k]\n",
    "k_best = pd.DataFrame(results.iloc[k_best])\n",
    "k_best"
   ]
  },
  {
   "cell_type": "code",
   "execution_count": 161,
   "metadata": {},
   "outputs": [
    {
     "data": {
      "image/png": "[encoded data removed]",
      "text/plain": [
       "<Figure size 432x288 with 1 Axes>"
      ]
     },
     "metadata": {
      "needs_background": "light"
     },
     "output_type": "display_data"
    },
    {
     "name": "stdout",
     "output_type": "stream",
     "text": [
      "12_2_(100, 100)\n"
     ]
    },
    {
     "data": {
      "image/png": "[encoded data removed]",
      "text/plain": [
       "<Figure size 432x288 with 1 Axes>"
      ]
     },
     "metadata": {
      "needs_background": "light"
     },
     "output_type": "display_data"
    },
    {
     "name": "stdout",
     "output_type": "stream",
     "text": [
      "8_2_(10, 10)\n"
     ]
    },
    {
     "data": {
      "image/png": "[encoded data removed]",
      "text/plain": [
       "<Figure size 432x288 with 1 Axes>"
      ]
     },
     "metadata": {
      "needs_background": "light"
     },
     "output_type": "display_data"
    },
    {
     "name": "stdout",
     "output_type": "stream",
     "text": [
      "12_2_(50, 10)\n"
     ]
    },
    {
     "data": {
      "image/png": "[encoded data removed]",
      "text/plain": [
       "<Figure size 432x288 with 1 Axes>"
      ]
     },
     "metadata": {
      "needs_background": "light"
     },
     "output_type": "display_data"
    },
    {
     "name": "stdout",
     "output_type": "stream",
     "text": [
      "12_2_(100, 25)\n"
     ]
    },
    {
     "data": {
      "image/png": "[encoded data removed]",
      "text/plain": [
       "<Figure size 432x288 with 1 Axes>"
      ]
     },
     "metadata": {
      "needs_background": "light"
     },
     "output_type": "display_data"
    },
    {
     "name": "stdout",
     "output_type": "stream",
     "text": [
      "16_2_(100, 100)\n"
     ]
    }
   ],
   "source": [
    "k = 5\n",
    "k_best = np.argpartition(results['Mean Val MSE'],k)[:k]\n",
    "for i in k_best: \n",
    "    plt.plot(results.iloc[i]['History'].history['val_loss'])\n",
    "    plt.show()\n",
    "    print(results.index[i])\n"
   ]
  },
  {
   "cell_type": "code",
   "execution_count": 190,
   "metadata": {},
   "outputs": [
    {
     "name": "stdout",
     "output_type": "stream",
     "text": [
      "Model test score: 0.0002887960528417714\n",
      "Zero test score: 0.0002930346844819366\n"
     ]
    }
   ],
   "source": [
    "best = np.argpartition(results['Mean Val MSE'],1)[1]\n",
    "model_test = results.iloc[best]['Model'].evaluate(x_test,y_test,verbose=0)\n",
    "zero_test = np.dot(y_test,y_test) / len(y_test)\n",
    "print(\"Model test score:\",model_test)\n",
    "print(\"Zero test score:\",zero_test)"
   ]
  },
  {
   "cell_type": "markdown",
   "metadata": {},
   "source": [
    "# Evaluation\n",
    "\n",
    "This simple tf-idf model gives an MSE (normalized) on the test set of 2.88e-4 and simply guessing that the prediction is correct (i.e. the difference is zero) yields a test score of 2.93e-4. "
   ]
  }
 ],
 "metadata": {
  "kernelspec": {
   "display_name": "Python 3",
   "language": "python",
   "name": "python3"
  },
  "language_info": {
   "codemirror_mode": {
    "name": "ipython",
    "version": 3
   },
   "file_extension": ".py",
   "mimetype": "text/x-python",
   "name": "python",
   "nbconvert_exporter": "python",
   "pygments_lexer": "ipython3",
   "version": "3.7.4"
  }
 },
 "nbformat": 4,
 "nbformat_minor": 2
}
