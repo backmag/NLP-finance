{
 "cells": [
  {
   "cell_type": "code",
   "execution_count": 2,
   "metadata": {},
   "outputs": [],
   "source": [
    "from pathlib import Path\n",
    "import tensorflow as tf\n",
    "from tensorflow.keras import backend as K\n",
    "from tensorflow.keras.models import Sequential, Model\n",
    "from tensorflow.keras.layers import Dense, Embedding, Input, Flatten, Layer, Lambda, LSTM, TimeDistributed\n",
    "from tensorflow.keras.utils import plot_model\n",
    "from tensorflow.keras import optimizers\n",
    "from tensorflow.keras.preprocessing.text import Tokenizer\n",
    "from tensorflow.keras.preprocessing.sequence import pad_sequences\n",
    "from tensorflow import keras\n",
    "from sklearn.metrics import confusion_matrix, classification_report\n",
    "from datetime import datetime\n",
    "from IPython.display import Image\n",
    "from collections import deque\n",
    "from statsmodels.tsa.arima_model import ARIMA\n",
    "from nltk.tokenize import word_tokenize\n",
    "import matplotlib.pyplot as plt\n",
    "import numpy as np\n",
    "import pandas as pd\n",
    "import seaborn as sn\n",
    "import itertools\n",
    "import copy\n",
    "import random\n",
    "import pickle\n",
    "import time\n",
    "import os\n",
    "import io\n",
    "from importnb import Notebook, reload\n",
    "with Notebook(): \n",
    "    import Utilities\n",
    "# Disables error in custom keras-layer\n",
    "tf.compat.v1.disable_eager_execution()"
   ]
  },
  {
   "cell_type": "code",
   "execution_count": 3,
   "metadata": {},
   "outputs": [],
   "source": [
    "ONEDRIVE_PATH = Path(r\"C:\\Users\\gusta\\Kidbrooke Advisory Ab\\KidbrookeOneDrive - Gustaf Backman exjobb\")\n",
    "\n",
    "config = {\n",
    "    'embed_dim': 300,    # Dimensions to use for the word embedding\n",
    "    'lookback': 3,       # How far back to collect data in the recurrent layer (days)\n",
    "    'delay': 3,          # How far ahead to predict data (days)\n",
    "    'p': 1,              # Order of the AR-part of the model\n",
    "    'd': 1,              # Integrated order\n",
    "    'q': 1,              # Included moving average terms \n",
    "    'train_part' : 0.8,  # Part of data to be used for training\n",
    "    'val_part' : 0.1,    # Part of data to be used for validation\n",
    "    'test_part' : 0.1,   # Part of data to be used for testing\n",
    "    'series': '1 YEAR',   # What series we currently want to predict, '1 YEAR', '3 YEAR' or 'S&P'\n",
    "    'vocab_size': 15000,  # Include only the 'vocab_size' most common words \n",
    "    'start_date': '2006-10-20',\n",
    "    'end_date': '2013-11-19',\n",
    "}"
   ]
  },
  {
   "cell_type": "code",
   "execution_count": 4,
   "metadata": {},
   "outputs": [],
   "source": [
    "# Load data \n",
    "news_path = ONEDRIVE_PATH /  \"Input Data/financial_headlines_20061020-20131119.pkl\"\n",
    "data = pd.DataFrame(pd.read_pickle(news_path))\n",
    "data.set_index('date',inplace=True)\n",
    "text = Utilities.preprocess_text(data)"
   ]
  },
  {
   "cell_type": "code",
   "execution_count": 200,
   "metadata": {},
   "outputs": [],
   "source": [
    "# Tokenize the text data \n",
    "tokenizer = Tokenizer(num_words=config['vocab_size'])\n",
    "tokenizer.fit_on_texts(text)\n",
    "word_index = tokenizer.word_index\n",
    "sequences = tokenizer.texts_to_sequences(text)"
   ]
  },
  {
   "cell_type": "code",
   "execution_count": 201,
   "metadata": {},
   "outputs": [],
   "source": [
    "# Load dictionary of embeddings for this vocabulary (previously constructed)\n",
    "subset_embeddings = ONEDRIVE_PATH / \"Embeddings/GloVe/saved.42B.300d.pkl\"\n",
    "with open(subset_embeddings,'rb') as handle: \n",
    "    emb_dict = pickle.load(handle)"
   ]
  },
  {
   "cell_type": "code",
   "execution_count": 276,
   "metadata": {},
   "outputs": [],
   "source": [
    "# Create embedding matrix with shape (vocab_size, embed_dimension)\n",
    "embedding_weights = np.zeros((config['vocab_size'], config['embed_dim']))\n",
    "# Add pre-trained weights from GloVe\n",
    "for word,index in word_index.items(): \n",
    "    if index > config['vocab_size']: \n",
    "        break\n",
    "    temp_emb = emb_dict.get(word)\n",
    "    if temp_emb is not None: \n",
    "        embedding_weights[index - 1] = temp_emb\n",
    "    else: \n",
    "        embedding_weights[index - 1] = np.random.normal(size=config['embed_dim'])"
   ]
  },
  {
   "cell_type": "code",
   "execution_count": 277,
   "metadata": {},
   "outputs": [
    {
     "name": "stdout",
     "output_type": "stream",
     "text": [
      "Actual maximum length of one day news: 950\n"
     ]
    }
   ],
   "source": [
    "config['max_len'] = max([len(sent) for sent in sequences])\n",
    "print(\"Actual maximum length of one day news:\",config['max_len'])\n",
    "\n",
    "# Pad the text data so we get a matrix of shape (n,max_len)\n",
    "x = np.zeros((len(sequences), config['max_len']))\n",
    "for i,sent in enumerate(sequences): \n",
    "    if len(sent) > config['max_len']: \n",
    "        x[i] = sent[:config['max_len']]\n",
    "    else: \n",
    "        x[i,:len(sent)] = sent"
   ]
  },
  {
   "cell_type": "code",
   "execution_count": 279,
   "metadata": {},
   "outputs": [],
   "source": [
    "# Need to remove some rows from the word embedding-matrix,\n",
    "# these numbers are specified in Utilities.fit_all_models()\n",
    "rm_start_rows = max(config['lookback'],5) + 1\n",
    "rm_end_rows = config['delay']\n",
    "x = x[rm_start_rows : -rm_end_rows]"
   ]
  },
  {
   "cell_type": "code",
   "execution_count": 280,
   "metadata": {},
   "outputs": [
    {
     "name": "stdout",
     "output_type": "stream",
     "text": [
      "Loaded previously constructed labels.\n"
     ]
    }
   ],
   "source": [
    "y = Utilities.load_binary_labels(config)"
   ]
  },
  {
   "cell_type": "code",
   "execution_count": 281,
   "metadata": {},
   "outputs": [
    {
     "name": "stdout",
     "output_type": "stream",
     "text": [
      "Shape of x_train, y_train:  (1799, 3, 950) (1799,)\n",
      "Shape of x_val, y_val:  (513, 3, 950) (513,)\n",
      "Shape of x_test, y_test:  (255, 3, 950) (255,)\n"
     ]
    }
   ],
   "source": [
    "(x_train,y_train), (x_val,y_val), (x_test,y_test) = Utilities.shuffle_and_partition(x,y,test_part=0.1,val_part=0.2,sequences=True,config=config)\n",
    "print(\"Shape of x_train, y_train: \",x_train.shape, y_train.shape)\n",
    "print(\"Shape of x_val, y_val: \",x_val.shape, y_val.shape)\n",
    "print(\"Shape of x_test, y_test: \",x_test.shape, y_test.shape)\n"
   ]
  },
  {
   "cell_type": "markdown",
   "metadata": {},
   "source": [
    "## Model \n",
    "This model aims to take the chronology of news over a period into account. "
   ]
  },
  {
   "cell_type": "code",
   "execution_count": 321,
   "metadata": {},
   "outputs": [],
   "source": [
    "# Define some help functions for custom layer and hyper parameter optimization\n",
    "\n",
    "# Create functions for custom 'MergeEmedding'-layer which averages \n",
    "# the embeddings over all words after the embedding layer \n",
    "def merge_embeddings(x):\n",
    "    # Sum the embeddings for every word slot. If this is zero, there is no word in this slot\n",
    "    non_zero = K.sum(K.cast(K.not_equal(K.sum(x,axis=3),0),tf.float32))\n",
    "    return K.sum(x,axis=2) / non_zero\n",
    "\n",
    "def merge_output_shape(input_shape):\n",
    "    return (input_shape[0], input_shape[2])\n",
    "\n",
    "\n",
    "def train_and_format(x,y,bs,epochs, results, layers, nodes,lr,verbose=0):\n",
    "    name = f\"{bs}_{layers}_{nodes}\"\n",
    "    temp_history = model.fit(x, y, batch_size=bs, validation_split=0.2, epochs = epochs,verbose=verbose)\n",
    "    return results.append(pd.Series([np.mean(temp_history.history['val_loss'][-5:]),\n",
    "                                                temp_history, model, layers, \n",
    "                                                nodes, bs], \n",
    "                                                name=name,index=['Mean Val Acc','History','Model','Layers','Nodes','Batch Size']))\n",
    "def create_lstm(lstm_units,lr):\n",
    "    lstm_layers = len(lstm_units)\n",
    "    model = Sequential() \n",
    "    model.add(TimeDistributed(Embedding(input_dim=config['vocab_size'],\n",
    "                                        output_dim=config['embed_dim'],\n",
    "                                        input_length=config['max_len'],\n",
    "                                        weights=[embedding_weights]), input_shape=x_train.shape[1:] ))\n",
    "    model.add(Lambda(merge_embeddings, output_shape=merge_output_shape))\n",
    "    idx = 0\n",
    "    while lstm_layers > idx + 1: \n",
    "        model.add(LSTM(lstm_units[idx], return_sequences=True))\n",
    "        idx += 1\n",
    "    model.add(LSTM(lstm_units[-1],return_sequences=False))\n",
    "    model.add(Dense(1, activation='sigmoid'))\n",
    "    \n",
    "    rms = optimizers.RMSprop(learning_rate=lr)\n",
    "    model.compile(optimizer=rms, loss='binary_crossentropy', metrics=['acc'])\n",
    "    return model\n",
    "\n",
    "def train_and_format(x,y,x_val,y_val,bs,epochs, results, layers, nodes, lr, verbose=0):\n",
    "    name = f\"{bs}_{layers}_{nodes}\"\n",
    "    temp_history = model.fit(x, y, batch_size=bs, validation_data=(x_val, y_val), epochs = epochs,verbose=verbose)\n",
    "    return results.append(pd.Series([np.mean(temp_history.history['val_loss'][-3:]),\n",
    "                                                temp_history, model, layers, \n",
    "                                                nodes, bs, lr], \n",
    "                                                name=name,\n",
    "                                    index=['Mean Val Acc','History','Model','Layers','Nodes','Batch Size','Learning Rate']))"
   ]
  },
  {
   "cell_type": "code",
   "execution_count": 323,
   "metadata": {
    "scrolled": true
   },
   "outputs": [
    {
     "name": "stdout",
     "output_type": "stream",
     "text": [
      "Testing 12 combinations. \n",
      "Train on 1799 samples, validate on 513 samples\n",
      "Epoch 1/10\n",
      "1799/1799 [==============================] - 10s 6ms/sample - loss: 0.6784 - acc: 0.5970 - val_loss: 0.6347 - val_acc: 0.7466\n",
      "Epoch 2/10\n",
      "1799/1799 [==============================] - 8s 4ms/sample - loss: 0.6750 - acc: 0.5992 - val_loss: 0.6363 - val_acc: 0.7466\n",
      "Epoch 3/10\n",
      "1799/1799 [==============================] - 8s 4ms/sample - loss: 0.6740 - acc: 0.5992 - val_loss: 0.6296 - val_acc: 0.7466\n",
      "Epoch 4/10\n",
      "1799/1799 [==============================] - 8s 4ms/sample - loss: 0.6667 - acc: 0.6037 - val_loss: 0.5970 - val_acc: 0.7466\n",
      "Epoch 5/10\n",
      "1799/1799 [==============================] - 8s 5ms/sample - loss: 0.6342 - acc: 0.6265 - val_loss: 0.5856 - val_acc: 0.7485\n",
      "Epoch 6/10\n",
      "1799/1799 [==============================] - 8s 5ms/sample - loss: 0.5943 - acc: 0.6759 - val_loss: 0.6273 - val_acc: 0.6140\n",
      "Epoch 7/10\n",
      "1799/1799 [==============================] - 8s 5ms/sample - loss: 0.5329 - acc: 0.7465 - val_loss: 0.9207 - val_acc: 0.4327\n",
      "Epoch 8/10\n",
      "1799/1799 [==============================] - 8s 5ms/sample - loss: 0.4718 - acc: 0.7676 - val_loss: 0.7386 - val_acc: 0.5575\n",
      "Epoch 9/10\n",
      "1799/1799 [==============================] - 8s 5ms/sample - loss: 0.4252 - acc: 0.8127 - val_loss: 1.0400 - val_acc: 0.4639\n",
      "Epoch 10/10\n",
      "1799/1799 [==============================] - 9s 5ms/sample - loss: 0.3765 - acc: 0.8344 - val_loss: 0.9807 - val_acc: 0.7466\n",
      "8.33 %     \n",
      "Train on 1799 samples, validate on 513 samples\n",
      "Epoch 1/10\n",
      "1799/1799 [==============================] - 10s 6ms/sample - loss: 0.6792 - acc: 0.5959 - val_loss: 0.6133 - val_acc: 0.7466\n",
      "Epoch 2/10\n",
      "1799/1799 [==============================] - 8s 4ms/sample - loss: 0.6770 - acc: 0.5992 - val_loss: 0.6267 - val_acc: 0.7466\n",
      "Epoch 3/10\n",
      "1799/1799 [==============================] - 8s 4ms/sample - loss: 0.6725 - acc: 0.5931 - val_loss: 0.5814 - val_acc: 0.7466\n",
      "Epoch 4/10\n",
      "1799/1799 [==============================] - 8s 5ms/sample - loss: 0.6669 - acc: 0.5976 - val_loss: 0.5827 - val_acc: 0.7466\n",
      "Epoch 5/10\n",
      "1799/1799 [==============================] - 9s 5ms/sample - loss: 0.6486 - acc: 0.6142 - val_loss: 0.6166 - val_acc: 0.6335\n",
      "Epoch 6/10\n",
      "1799/1799 [==============================] - 9s 5ms/sample - loss: 0.6062 - acc: 0.6737 - val_loss: 0.5837 - val_acc: 0.7466\n",
      "Epoch 7/10\n",
      "1799/1799 [==============================] - 8s 5ms/sample - loss: 0.5495 - acc: 0.7087 - val_loss: 0.6536 - val_acc: 0.5945\n",
      "Epoch 8/10\n",
      "1799/1799 [==============================] - 8s 5ms/sample - loss: 0.4740 - acc: 0.7715 - val_loss: 0.9813 - val_acc: 0.4366\n",
      "Epoch 9/10\n",
      "1799/1799 [==============================] - 8s 5ms/sample - loss: 0.4247 - acc: 0.8071 - val_loss: 1.1216 - val_acc: 0.4113\n",
      "Epoch 10/10\n",
      "1799/1799 [==============================] - 8s 5ms/sample - loss: 0.3533 - acc: 0.8488 - val_loss: 1.3183 - val_acc: 0.4055\n",
      "16.67 %     \n",
      "Train on 1799 samples, validate on 513 samples\n",
      "Epoch 1/10\n",
      "1799/1799 [==============================] - 10s 6ms/sample - loss: 0.6807 - acc: 0.5881 - val_loss: 0.6415 - val_acc: 0.7466\n",
      "Epoch 2/10\n",
      "1799/1799 [==============================] - 8s 5ms/sample - loss: 0.6757 - acc: 0.5992 - val_loss: 0.5908 - val_acc: 0.7466\n",
      "Epoch 3/10\n",
      "1799/1799 [==============================] - 8s 5ms/sample - loss: 0.6751 - acc: 0.5926 - val_loss: 0.6230 - val_acc: 0.7349\n",
      "Epoch 4/10\n",
      "1799/1799 [==============================] - 8s 5ms/sample - loss: 0.6688 - acc: 0.5937 - val_loss: 0.5641 - val_acc: 0.7466\n",
      "Epoch 5/10\n",
      "1799/1799 [==============================] - 8s 5ms/sample - loss: 0.6621 - acc: 0.6087 - val_loss: 0.5981 - val_acc: 0.6901\n",
      "Epoch 6/10\n",
      "1799/1799 [==============================] - 8s 5ms/sample - loss: 0.6470 - acc: 0.6026 - val_loss: 0.6147 - val_acc: 0.6940\n",
      "Epoch 7/10\n",
      "1799/1799 [==============================] - 8s 5ms/sample - loss: 0.6084 - acc: 0.6581 - val_loss: 0.5824 - val_acc: 0.7349\n",
      "Epoch 8/10\n",
      "1799/1799 [==============================] - 8s 5ms/sample - loss: 0.5560 - acc: 0.7126 - val_loss: 0.6655 - val_acc: 0.6004\n",
      "Epoch 9/10\n",
      "1799/1799 [==============================] - 8s 5ms/sample - loss: 0.4697 - acc: 0.7721 - val_loss: 1.1450 - val_acc: 0.3548\n",
      "Epoch 10/10\n",
      "1799/1799 [==============================] - 8s 5ms/sample - loss: 0.3835 - acc: 0.8160 - val_loss: 0.7778 - val_acc: 0.5166\n",
      "25.0 %     \n",
      "Train on 1799 samples, validate on 513 samples\n",
      "Epoch 1/10\n",
      "1799/1799 [==============================] - 10s 6ms/sample - loss: 0.6787 - acc: 0.5948 - val_loss: 0.6159 - val_acc: 0.7466\n",
      "Epoch 2/10\n",
      "1799/1799 [==============================] - 8s 4ms/sample - loss: 0.6745 - acc: 0.5987 - val_loss: 0.5956 - val_acc: 0.7466\n",
      "Epoch 3/10\n",
      "1799/1799 [==============================] - 8s 4ms/sample - loss: 0.6750 - acc: 0.5981 - val_loss: 0.6089 - val_acc: 0.7466\n",
      "Epoch 4/10\n",
      "1799/1799 [==============================] - 8s 4ms/sample - loss: 0.6700 - acc: 0.5964 - val_loss: 0.5654 - val_acc: 0.7466\n",
      "Epoch 5/10\n",
      "1799/1799 [==============================] - 8s 4ms/sample - loss: 0.6600 - acc: 0.5942 - val_loss: 0.6027 - val_acc: 0.7251\n",
      "Epoch 6/10\n",
      "1799/1799 [==============================] - 8s 5ms/sample - loss: 0.6369 - acc: 0.6276 - val_loss: 0.5748 - val_acc: 0.7115\n",
      "Epoch 7/10\n",
      "1799/1799 [==============================] - 8s 5ms/sample - loss: 0.5928 - acc: 0.6870 - val_loss: 0.5725 - val_acc: 0.7368\n",
      "Epoch 8/10\n",
      "1799/1799 [==============================] - 8s 4ms/sample - loss: 0.5360 - acc: 0.7371 - val_loss: 1.0832 - val_acc: 0.3723\n",
      "Epoch 9/10\n",
      "1799/1799 [==============================] - 8s 5ms/sample - loss: 0.4717 - acc: 0.7732 - val_loss: 0.6334 - val_acc: 0.7076\n",
      "Epoch 10/10\n",
      "1799/1799 [==============================] - 8s 4ms/sample - loss: 0.4073 - acc: 0.8205 - val_loss: 0.7021 - val_acc: 0.7349\n",
      "33.33 %     \n",
      "Train on 1799 samples, validate on 513 samples\n",
      "Epoch 1/10\n",
      "1799/1799 [==============================] - 11s 6ms/sample - loss: 0.6784 - acc: 0.5976 - val_loss: 0.6437 - val_acc: 0.7466\n",
      "Epoch 2/10\n",
      "1799/1799 [==============================] - 8s 4ms/sample - loss: 0.6752 - acc: 0.5992 - val_loss: 0.6268 - val_acc: 0.7466\n",
      "Epoch 3/10\n",
      "1799/1799 [==============================] - 8s 4ms/sample - loss: 0.6755 - acc: 0.5970 - val_loss: 0.5988 - val_acc: 0.7466\n",
      "Epoch 4/10\n",
      "1799/1799 [==============================] - 8s 5ms/sample - loss: 0.6727 - acc: 0.5987 - val_loss: 0.6150 - val_acc: 0.7466\n",
      "Epoch 5/10\n",
      "1799/1799 [==============================] - 8s 5ms/sample - loss: 0.6716 - acc: 0.5998 - val_loss: 0.5941 - val_acc: 0.7446\n",
      "Epoch 6/10\n",
      "1799/1799 [==============================] - 8s 5ms/sample - loss: 0.6655 - acc: 0.5892 - val_loss: 0.6174 - val_acc: 0.6901\n",
      "Epoch 7/10\n",
      "1799/1799 [==============================] - 8s 5ms/sample - loss: 0.6628 - acc: 0.5948 - val_loss: 0.5682 - val_acc: 0.7466\n",
      "Epoch 8/10\n",
      "1799/1799 [==============================] - 8s 5ms/sample - loss: 0.6388 - acc: 0.6070 - val_loss: 0.6648 - val_acc: 0.6101\n",
      "Epoch 9/10\n",
      "1799/1799 [==============================] - 8s 5ms/sample - loss: 0.6084 - acc: 0.6559 - val_loss: 0.7886 - val_acc: 0.4113\n",
      "Epoch 10/10\n",
      "1799/1799 [==============================] - 8s 5ms/sample - loss: 0.5375 - acc: 0.7204 - val_loss: 0.6550 - val_acc: 0.6062\n",
      "41.67 %     \n",
      "Train on 1799 samples, validate on 513 samples\n",
      "Epoch 1/10\n",
      "1799/1799 [==============================] - 11s 6ms/sample - loss: 0.6816 - acc: 0.5992 - val_loss: 0.6598 - val_acc: 0.7466\n",
      "Epoch 2/10\n",
      "1799/1799 [==============================] - 8s 5ms/sample - loss: 0.6781 - acc: 0.5992 - val_loss: 0.6058 - val_acc: 0.7466\n",
      "Epoch 3/10\n",
      "1799/1799 [==============================] - 8s 5ms/sample - loss: 0.6758 - acc: 0.6003 - val_loss: 0.6382 - val_acc: 0.7485\n",
      "Epoch 4/10\n",
      "1799/1799 [==============================] - 8s 5ms/sample - loss: 0.6757 - acc: 0.5931 - val_loss: 0.6042 - val_acc: 0.7466\n",
      "Epoch 5/10\n",
      "1799/1799 [==============================] - 8s 5ms/sample - loss: 0.6688 - acc: 0.5926 - val_loss: 0.5661 - val_acc: 0.7446\n",
      "Epoch 6/10\n",
      "1799/1799 [==============================] - 8s 5ms/sample - loss: 0.6640 - acc: 0.5959 - val_loss: 0.5938 - val_acc: 0.7466\n",
      "Epoch 7/10\n",
      "1799/1799 [==============================] - 8s 5ms/sample - loss: 0.6547 - acc: 0.5987 - val_loss: 0.6111 - val_acc: 0.6394\n",
      "Epoch 8/10\n",
      "1799/1799 [==============================] - 8s 5ms/sample - loss: 0.6307 - acc: 0.6265 - val_loss: 0.6057 - val_acc: 0.7212\n",
      "Epoch 9/10\n",
      "1799/1799 [==============================] - 8s 5ms/sample - loss: 0.5999 - acc: 0.6620 - val_loss: 0.6354 - val_acc: 0.5926\n",
      "Epoch 10/10\n",
      "1799/1799 [==============================] - 8s 5ms/sample - loss: 0.5366 - acc: 0.7282 - val_loss: 0.8132 - val_acc: 0.4347\n",
      "50.0 %     \n",
      "Train on 1799 samples, validate on 513 samples\n",
      "Epoch 1/10\n",
      "1799/1799 [==============================] - 11s 6ms/sample - loss: 0.6815 - acc: 0.5992 - val_loss: 0.6246 - val_acc: 0.7466\n",
      "Epoch 2/10\n",
      "1799/1799 [==============================] - 8s 5ms/sample - loss: 0.6764 - acc: 0.5992 - val_loss: 0.6093 - val_acc: 0.7466\n",
      "Epoch 3/10\n",
      "1799/1799 [==============================] - 8s 5ms/sample - loss: 0.6747 - acc: 0.5937 - val_loss: 0.6035 - val_acc: 0.7466\n",
      "Epoch 4/10\n",
      "1799/1799 [==============================] - 8s 5ms/sample - loss: 0.6694 - acc: 0.5931 - val_loss: 0.5823 - val_acc: 0.7466\n",
      "Epoch 5/10\n",
      "1799/1799 [==============================] - 8s 5ms/sample - loss: 0.6626 - acc: 0.6064 - val_loss: 0.5690 - val_acc: 0.7446\n",
      "Epoch 6/10\n",
      "1799/1799 [==============================] - 8s 5ms/sample - loss: 0.6474 - acc: 0.6098 - val_loss: 0.5854 - val_acc: 0.6706\n",
      "Epoch 7/10\n",
      "1799/1799 [==============================] - 8s 5ms/sample - loss: 0.5884 - acc: 0.6787 - val_loss: 0.6028 - val_acc: 0.6862\n",
      "Epoch 8/10\n",
      "1799/1799 [==============================] - 8s 5ms/sample - loss: 0.5298 - acc: 0.7382 - val_loss: 0.5829 - val_acc: 0.7368\n",
      "Epoch 9/10\n",
      "1799/1799 [==============================] - 8s 5ms/sample - loss: 0.4582 - acc: 0.7804 - val_loss: 1.1915 - val_acc: 0.3899\n",
      "Epoch 10/10\n",
      "1799/1799 [==============================] - 8s 5ms/sample - loss: 0.3919 - acc: 0.8243 - val_loss: 0.7331 - val_acc: 0.5906\n",
      "58.33 %     \n",
      "Train on 1799 samples, validate on 513 samples\n",
      "Epoch 1/10\n",
      "1799/1799 [==============================] - 11s 6ms/sample - loss: 0.6811 - acc: 0.5948 - val_loss: 0.6166 - val_acc: 0.7466\n",
      "Epoch 2/10\n",
      "1799/1799 [==============================] - 8s 5ms/sample - loss: 0.6759 - acc: 0.6003 - val_loss: 0.6344 - val_acc: 0.7466\n",
      "Epoch 3/10\n",
      "1799/1799 [==============================] - 8s 5ms/sample - loss: 0.6739 - acc: 0.5976 - val_loss: 0.5568 - val_acc: 0.7466\n",
      "Epoch 4/10\n",
      "1799/1799 [==============================] - 8s 5ms/sample - loss: 0.6714 - acc: 0.5959 - val_loss: 0.6003 - val_acc: 0.7466\n",
      "Epoch 5/10\n",
      "1799/1799 [==============================] - 8s 5ms/sample - loss: 0.6654 - acc: 0.6031 - val_loss: 0.5934 - val_acc: 0.7466\n",
      "Epoch 6/10\n",
      "1799/1799 [==============================] - 8s 5ms/sample - loss: 0.6601 - acc: 0.6003 - val_loss: 0.5853 - val_acc: 0.7466\n",
      "Epoch 7/10\n",
      "1799/1799 [==============================] - 8s 5ms/sample - loss: 0.6353 - acc: 0.6298 - val_loss: 0.5607 - val_acc: 0.7466\n",
      "Epoch 8/10\n",
      "1799/1799 [==============================] - 8s 5ms/sample - loss: 0.5449 - acc: 0.7104 - val_loss: 0.7412 - val_acc: 0.5965\n",
      "Epoch 9/10\n",
      "1799/1799 [==============================] - 8s 5ms/sample - loss: 0.4605 - acc: 0.7732 - val_loss: 0.8674 - val_acc: 0.4795\n",
      "Epoch 10/10\n",
      "1799/1799 [==============================] - 8s 5ms/sample - loss: 0.3819 - acc: 0.8277 - val_loss: 0.9343 - val_acc: 0.4425\n",
      "66.67 %     \n",
      "Train on 1799 samples, validate on 513 samples\n",
      "Epoch 1/10\n",
      "1799/1799 [==============================] - 11s 6ms/sample - loss: 0.6933 - acc: 0.5942 - val_loss: 0.6308 - val_acc: 0.7466\n",
      "Epoch 2/10\n",
      "1799/1799 [==============================] - 8s 5ms/sample - loss: 0.6788 - acc: 0.5981 - val_loss: 0.6242 - val_acc: 0.7466\n",
      "Epoch 3/10\n",
      "1799/1799 [==============================] - 8s 5ms/sample - loss: 0.6757 - acc: 0.5959 - val_loss: 0.6073 - val_acc: 0.7466\n",
      "Epoch 4/10\n",
      "1799/1799 [==============================] - 8s 5ms/sample - loss: 0.6770 - acc: 0.6014 - val_loss: 0.6112 - val_acc: 0.7466\n",
      "Epoch 5/10\n",
      "1799/1799 [==============================] - 8s 5ms/sample - loss: 0.6693 - acc: 0.5948 - val_loss: 0.5888 - val_acc: 0.7466\n",
      "Epoch 6/10\n",
      "1799/1799 [==============================] - 8s 5ms/sample - loss: 0.6643 - acc: 0.5864 - val_loss: 0.5600 - val_acc: 0.7466\n",
      "Epoch 7/10\n",
      "1799/1799 [==============================] - 8s 5ms/sample - loss: 0.6447 - acc: 0.6137 - val_loss: 0.6045 - val_acc: 0.6959\n",
      "Epoch 8/10\n",
      "1799/1799 [==============================] - 8s 5ms/sample - loss: 0.5882 - acc: 0.6826 - val_loss: 0.6219 - val_acc: 0.7466\n",
      "Epoch 9/10\n",
      "1799/1799 [==============================] - 8s 5ms/sample - loss: 0.5276 - acc: 0.7315 - val_loss: 0.8364 - val_acc: 0.3801\n",
      "Epoch 10/10\n",
      "1799/1799 [==============================] - 8s 5ms/sample - loss: 0.4523 - acc: 0.7838 - val_loss: 0.6881 - val_acc: 0.6511\n",
      "75.0 %     \n",
      "Train on 1799 samples, validate on 513 samples\n",
      "Epoch 1/10\n",
      "1799/1799 [==============================] - 11s 6ms/sample - loss: 0.6793 - acc: 0.5981 - val_loss: 0.6276 - val_acc: 0.7466\n",
      "Epoch 2/10\n",
      "1799/1799 [==============================] - 8s 5ms/sample - loss: 0.6765 - acc: 0.5948 - val_loss: 0.6172 - val_acc: 0.7466\n",
      "Epoch 3/10\n",
      "1799/1799 [==============================] - 8s 5ms/sample - loss: 0.6737 - acc: 0.5992 - val_loss: 0.6242 - val_acc: 0.7466\n",
      "Epoch 4/10\n",
      "1799/1799 [==============================] - 8s 5ms/sample - loss: 0.6721 - acc: 0.5981 - val_loss: 0.6235 - val_acc: 0.6764\n",
      "Epoch 5/10\n",
      "1799/1799 [==============================] - 8s 5ms/sample - loss: 0.6737 - acc: 0.5992 - val_loss: 0.6411 - val_acc: 0.7466\n",
      "Epoch 6/10\n",
      "1799/1799 [==============================] - 8s 5ms/sample - loss: 0.6743 - acc: 0.5992 - val_loss: 0.6142 - val_acc: 0.7466\n",
      "Epoch 7/10\n",
      "1799/1799 [==============================] - 8s 5ms/sample - loss: 0.6739 - acc: 0.5992 - val_loss: 0.6141 - val_acc: 0.7466\n",
      "Epoch 8/10\n",
      "1799/1799 [==============================] - 8s 5ms/sample - loss: 0.6738 - acc: 0.5992 - val_loss: 0.6156 - val_acc: 0.7466\n",
      "Epoch 9/10\n",
      "1799/1799 [==============================] - 8s 5ms/sample - loss: 0.6739 - acc: 0.6003 - val_loss: 0.6170 - val_acc: 0.7232\n",
      "Epoch 10/10\n",
      "1799/1799 [==============================] - 8s 5ms/sample - loss: 0.6693 - acc: 0.6026 - val_loss: 0.5931 - val_acc: 0.7466\n",
      "83.33 %     \n",
      "Train on 1799 samples, validate on 513 samples\n",
      "Epoch 1/10\n",
      "1799/1799 [==============================] - 11s 6ms/sample - loss: 0.6845 - acc: 0.5937 - val_loss: 0.6122 - val_acc: 0.7466\n",
      "Epoch 2/10\n",
      "1799/1799 [==============================] - 8s 5ms/sample - loss: 0.6772 - acc: 0.5926 - val_loss: 0.5991 - val_acc: 0.7466\n",
      "Epoch 3/10\n",
      "1799/1799 [==============================] - 8s 5ms/sample - loss: 0.6760 - acc: 0.5953 - val_loss: 0.6334 - val_acc: 0.7466\n",
      "Epoch 4/10\n",
      "1799/1799 [==============================] - 8s 5ms/sample - loss: 0.6713 - acc: 0.6009 - val_loss: 0.6022 - val_acc: 0.7466\n",
      "Epoch 5/10\n",
      "1799/1799 [==============================] - 8s 5ms/sample - loss: 0.6683 - acc: 0.5903 - val_loss: 0.6112 - val_acc: 0.7466\n",
      "Epoch 6/10\n",
      "1799/1799 [==============================] - 8s 5ms/sample - loss: 0.6624 - acc: 0.6009 - val_loss: 0.5969 - val_acc: 0.7466\n",
      "Epoch 7/10\n",
      "1799/1799 [==============================] - 8s 5ms/sample - loss: 0.6541 - acc: 0.5870 - val_loss: 0.6526 - val_acc: 0.6296\n",
      "Epoch 8/10\n",
      "1799/1799 [==============================] - 9s 5ms/sample - loss: 0.6429 - acc: 0.6009 - val_loss: 0.6025 - val_acc: 0.7407\n",
      "Epoch 9/10\n",
      "1799/1799 [==============================] - 8s 5ms/sample - loss: 0.6217 - acc: 0.6337 - val_loss: 0.8466 - val_acc: 0.5380\n",
      "Epoch 10/10\n",
      "1799/1799 [==============================] - 8s 5ms/sample - loss: 0.5808 - acc: 0.6765 - val_loss: 0.6973 - val_acc: 0.5673\n",
      "91.67 %     \n",
      "Train on 1799 samples, validate on 513 samples\n",
      "Epoch 1/10\n",
      "1799/1799 [==============================] - 12s 7ms/sample - loss: 0.6823 - acc: 0.5953 - val_loss: 0.5718 - val_acc: 0.7466\n",
      "Epoch 2/10\n",
      "1799/1799 [==============================] - 8s 5ms/sample - loss: 0.6810 - acc: 0.5937 - val_loss: 0.5853 - val_acc: 0.7466\n",
      "Epoch 3/10\n",
      "1799/1799 [==============================] - 9s 5ms/sample - loss: 0.6728 - acc: 0.5970 - val_loss: 0.6194 - val_acc: 0.7466\n",
      "Epoch 4/10\n",
      "1799/1799 [==============================] - 9s 5ms/sample - loss: 0.6683 - acc: 0.5964 - val_loss: 0.5937 - val_acc: 0.7466\n",
      "Epoch 5/10\n"
     ]
    },
    {
     "name": "stdout",
     "output_type": "stream",
     "text": [
      "1799/1799 [==============================] - 9s 5ms/sample - loss: 0.6653 - acc: 0.6014 - val_loss: 0.6016 - val_acc: 0.7466\n",
      "Epoch 6/10\n",
      "1799/1799 [==============================] - 9s 5ms/sample - loss: 0.6559 - acc: 0.6014 - val_loss: 0.5715 - val_acc: 0.7524\n",
      "Epoch 7/10\n",
      "1799/1799 [==============================] - 9s 5ms/sample - loss: 0.6352 - acc: 0.6431 - val_loss: 0.5805 - val_acc: 0.7466\n",
      "Epoch 8/10\n",
      "1799/1799 [==============================] - 9s 5ms/sample - loss: 0.5905 - acc: 0.6893 - val_loss: 0.7089 - val_acc: 0.5497\n",
      "Epoch 9/10\n",
      "1799/1799 [==============================] - 9s 5ms/sample - loss: 0.5044 - acc: 0.7610 - val_loss: 0.6393 - val_acc: 0.6433\n",
      "Epoch 10/10\n",
      "1799/1799 [==============================] - 9s 5ms/sample - loss: 0.4361 - acc: 0.8032 - val_loss: 0.7380 - val_acc: 0.5965\n",
      "100.0 %     \n"
     ]
    }
   ],
   "source": [
    "n_layers = [1,2]\n",
    "n_units = [10,50,100]\n",
    "batch_sizes = [16]\n",
    "learning_rates = [0.01]\n",
    "epochs = 10\n",
    "results = pd.DataFrame(columns=['Mean Val Acc','History','Model', 'Layers', 'Nodes', 'Batch Size', 'Learning Rate'])\n",
    "n_configs = sum([len(n_units)**l for l in n_layers]) * len(batch_sizes) * len(learning_rates)\n",
    "ctr = 0\n",
    "verbose = 1\n",
    "print('Testing {} combinations. '.format(n_configs))\n",
    "for layers in n_layers:\n",
    "    # Ugliest code ever written, fix?\n",
    "    if layers == 1: node_configs = list(itertools.product(n_units))\n",
    "    elif layers == 2: node_configs = list(itertools.product(n_units, n_units))\n",
    "    elif layers == 3: node_configs = list(itertools.product(n_units, n_units, n_units))\n",
    "    elif layers == 4: node_configs = list(itertools.product(n_units, n_units, n_units, n_units))\n",
    "    for bs in batch_sizes: \n",
    "        for temp_nodes in node_configs: \n",
    "            for lr in learning_rates:\n",
    "                ctr += 1 \n",
    "                model = create_lstm(temp_nodes,lr)\n",
    "                results = train_and_format(x_train, y_train, x_val, y_val, bs, epochs, results, layers, temp_nodes,lr,verbose=verbose)\n",
    "                if verbose: \n",
    "                    print(\"{} %     \".format(round(100 * ctr / n_configs,2)))\n",
    "                else:\n",
    "                    print(\"{} %     \".format(round(100 * ctr / n_configs,2)),end='\\r')\n"
   ]
  },
  {
   "cell_type": "code",
   "execution_count": 324,
   "metadata": {},
   "outputs": [
    {
     "name": "stdout",
     "output_type": "stream",
     "text": [
      "Top 3 configs: \n"
     ]
    },
    {
     "data": {
      "text/html": [
       "<div>\n",
       "<style scoped>\n",
       "    .dataframe tbody tr th:only-of-type {\n",
       "        vertical-align: middle;\n",
       "    }\n",
       "\n",
       "    .dataframe tbody tr th {\n",
       "        vertical-align: top;\n",
       "    }\n",
       "\n",
       "    .dataframe thead th {\n",
       "        text-align: right;\n",
       "    }\n",
       "</style>\n",
       "<table border=\"1\" class=\"dataframe\">\n",
       "  <thead>\n",
       "    <tr style=\"text-align: right;\">\n",
       "      <th></th>\n",
       "      <th>Mean Val Acc</th>\n",
       "      <th>History</th>\n",
       "      <th>Model</th>\n",
       "      <th>Layers</th>\n",
       "      <th>Nodes</th>\n",
       "      <th>Batch Size</th>\n",
       "      <th>Learning Rate</th>\n",
       "    </tr>\n",
       "  </thead>\n",
       "  <tbody>\n",
       "    <tr>\n",
       "      <th>16_1_(100,)</th>\n",
       "      <td>0.757093</td>\n",
       "      <td>&lt;tensorflow.python.keras.callbacks.History obj...</td>\n",
       "      <td>&lt;tensorflow.python.keras.engine.sequential.Seq...</td>\n",
       "      <td>1</td>\n",
       "      <td>(100,)</td>\n",
       "      <td>16</td>\n",
       "      <td>0.01</td>\n",
       "    </tr>\n",
       "    <tr>\n",
       "      <th>16_1_(50,)</th>\n",
       "      <td>0.931713</td>\n",
       "      <td>&lt;tensorflow.python.keras.callbacks.History obj...</td>\n",
       "      <td>&lt;tensorflow.python.keras.engine.sequential.Seq...</td>\n",
       "      <td>1</td>\n",
       "      <td>(50,)</td>\n",
       "      <td>16</td>\n",
       "      <td>0.01</td>\n",
       "    </tr>\n",
       "    <tr>\n",
       "      <th>16_1_(10,)</th>\n",
       "      <td>0.861456</td>\n",
       "      <td>&lt;tensorflow.python.keras.callbacks.History obj...</td>\n",
       "      <td>&lt;tensorflow.python.keras.engine.sequential.Seq...</td>\n",
       "      <td>1</td>\n",
       "      <td>(10,)</td>\n",
       "      <td>16</td>\n",
       "      <td>0.01</td>\n",
       "    </tr>\n",
       "  </tbody>\n",
       "</table>\n",
       "</div>"
      ],
      "text/plain": [
       "             Mean Val Acc                                            History  \\\n",
       "16_1_(100,)      0.757093  <tensorflow.python.keras.callbacks.History obj...   \n",
       "16_1_(50,)       0.931713  <tensorflow.python.keras.callbacks.History obj...   \n",
       "16_1_(10,)       0.861456  <tensorflow.python.keras.callbacks.History obj...   \n",
       "\n",
       "                                                         Model Layers   Nodes  \\\n",
       "16_1_(100,)  <tensorflow.python.keras.engine.sequential.Seq...      1  (100,)   \n",
       "16_1_(50,)   <tensorflow.python.keras.engine.sequential.Seq...      1   (50,)   \n",
       "16_1_(10,)   <tensorflow.python.keras.engine.sequential.Seq...      1   (10,)   \n",
       "\n",
       "            Batch Size  Learning Rate  \n",
       "16_1_(100,)         16           0.01  \n",
       "16_1_(50,)          16           0.01  \n",
       "16_1_(10,)          16           0.01  "
      ]
     },
     "execution_count": 324,
     "metadata": {},
     "output_type": "execute_result"
    }
   ],
   "source": [
    "k = 3\n",
    "print(\"Top {} configs: \".format(k))\n",
    "k_best = np.argpartition(results['Mean Val Acc'],-k)[-k:]\n",
    "results.iloc[k_best]"
   ]
  },
  {
   "cell_type": "code",
   "execution_count": 326,
   "metadata": {},
   "outputs": [
    {
     "name": "stdout",
     "output_type": "stream",
     "text": [
      "Nodes: (100,), Mean validation accuracy: 0.7570933001662368\n"
     ]
    },
    {
     "data": {
      "image/png": "[encoded data removed]",
      "text/plain": [
       "<Figure size 432x288 with 2 Axes>"
      ]
     },
     "metadata": {
      "needs_background": "light"
     },
     "output_type": "display_data"
    },
    {
     "data": {
      "image/png": "[encoded data removed]",
      "text/plain": [
       "<Figure size 432x288 with 3 Axes>"
      ]
     },
     "metadata": {
      "needs_background": "light"
     },
     "output_type": "display_data"
    },
    {
     "name": "stdout",
     "output_type": "stream",
     "text": [
      "              precision    recall  f1-score   support\n",
      "\n",
      "         0.0       0.69      1.00      0.82       177\n",
      "         1.0       0.00      0.00      0.00        78\n",
      "\n",
      "    accuracy                           0.69       255\n",
      "   macro avg       0.35      0.50      0.41       255\n",
      "weighted avg       0.48      0.69      0.57       255\n",
      "\n",
      "Nodes: (50,), Mean validation accuracy: 0.9317129483929387\n"
     ]
    },
    {
     "data": {
      "image/png": "[encoded data removed]",
      "text/plain": [
       "<Figure size 432x288 with 2 Axes>"
      ]
     },
     "metadata": {
      "needs_background": "light"
     },
     "output_type": "display_data"
    },
    {
     "data": {
      "image/png": "[encoded data removed]",
      "text/plain": [
       "<Figure size 432x288 with 3 Axes>"
      ]
     },
     "metadata": {
      "needs_background": "light"
     },
     "output_type": "display_data"
    },
    {
     "name": "stdout",
     "output_type": "stream",
     "text": [
      "              precision    recall  f1-score   support\n",
      "\n",
      "         0.0       0.69      1.00      0.82       177\n",
      "         1.0       0.00      0.00      0.00        78\n",
      "\n",
      "    accuracy                           0.69       255\n",
      "   macro avg       0.35      0.50      0.41       255\n",
      "weighted avg       0.48      0.69      0.57       255\n",
      "\n",
      "Nodes: (10,), Mean validation accuracy: 0.861456082645088\n"
     ]
    },
    {
     "data": {
      "image/png": "[encoded data removed]",
      "text/plain": [
       "<Figure size 432x288 with 2 Axes>"
      ]
     },
     "metadata": {
      "needs_background": "light"
     },
     "output_type": "display_data"
    },
    {
     "data": {
      "image/png": "[encoded data removed]",
      "text/plain": [
       "<Figure size 432x288 with 3 Axes>"
      ]
     },
     "metadata": {
      "needs_background": "light"
     },
     "output_type": "display_data"
    },
    {
     "name": "stdout",
     "output_type": "stream",
     "text": [
      "              precision    recall  f1-score   support\n",
      "\n",
      "         0.0       0.69      1.00      0.82       177\n",
      "         1.0       0.00      0.00      0.00        78\n",
      "\n",
      "    accuracy                           0.69       255\n",
      "   macro avg       0.35      0.50      0.41       255\n",
      "weighted avg       0.48      0.69      0.57       255\n",
      "\n"
     ]
    }
   ],
   "source": [
    "for i in k_best: \n",
    "    print(f\"Nodes: {results.iloc[i]['Nodes']}, Mean validation accuracy: {results.iloc[i]['Mean Val Acc']}\")\n",
    "    plt.subplot(121)\n",
    "    plt.plot(results.iloc[i]['History'].history['val_loss'],label='Val loss')\n",
    "    plt.plot(results.iloc[i]['History'].history['loss'],label='Training loss')\n",
    "    plt.legend()\n",
    "    plt.subplot(122)\n",
    "    plt.plot(results.iloc[i]['History'].history['val_acc'],label='Val acc')\n",
    "    plt.plot(results.iloc[i]['History'].history['acc'],label='Training acc')\n",
    "    plt.legend()\n",
    "    plt.show()\n",
    "    results.iloc[i]['Model'].evaluate(x_test,y_test,verbose=0)\n",
    "    # Calculate the predictions on the test set \n",
    "    y_test_pred_prob = model.predict(x_test)\n",
    "    y_test_pred = np.zeros(len(y_test))\n",
    "    for i,row in enumerate(y_test_pred_prob): \n",
    "        y_test_pred[i] = np.argmax(row)\n",
    "        \n",
    "    conf_mat = confusion_matrix(y_test,y_test_pred,normalize='pred')\n",
    "    plt.subplot(121)\n",
    "    ax = sn.heatmap(conf_mat)\n",
    "    ax.set_ylabel(\"True values\")\n",
    "    ax.set_xlabel(\"Predicted values\")\n",
    "    Utilities.plot_binary_predictions(y_test_pred,subplot=122,show=True)\n",
    "    print(classification_report(y_test,y_test_pred))"
   ]
  },
  {
   "cell_type": "code",
   "execution_count": null,
   "metadata": {},
   "outputs": [],
   "source": []
  },
  {
   "cell_type": "code",
   "execution_count": null,
   "metadata": {},
   "outputs": [],
   "source": []
  },
  {
   "cell_type": "code",
   "execution_count": null,
   "metadata": {},
   "outputs": [],
   "source": []
  },
  {
   "cell_type": "code",
   "execution_count": null,
   "metadata": {},
   "outputs": [],
   "source": []
  },
  {
   "cell_type": "code",
   "execution_count": null,
   "metadata": {},
   "outputs": [],
   "source": []
  }
 ],
 "metadata": {
  "kernelspec": {
   "display_name": "Python 3",
   "language": "python",
   "name": "python3"
  },
  "language_info": {
   "codemirror_mode": {
    "name": "ipython",
    "version": 3
   },
   "file_extension": ".py",
   "mimetype": "text/x-python",
   "name": "python",
   "nbconvert_exporter": "python",
   "pygments_lexer": "ipython3",
   "version": "3.7.6"
  }
 },
 "nbformat": 4,
 "nbformat_minor": 2
}
