{
 "cells": [
  {
   "cell_type": "code",
   "execution_count": 1,
   "metadata": {},
   "outputs": [],
   "source": [
    "from pathlib import Path\n",
    "import tensorflow as tf\n",
    "from tensorflow.keras import backend as K\n",
    "from tensorflow.keras.models import Sequential, Model\n",
    "from tensorflow.keras.layers import Dense, Embedding, Input, Flatten, Layer, Lambda, LSTM, TimeDistributed\n",
    "from tensorflow.keras.utils import plot_model\n",
    "from tensorflow.keras import optimizers\n",
    "from tensorflow.keras.preprocessing.text import Tokenizer\n",
    "from tensorflow.keras.preprocessing.sequence import pad_sequences\n",
    "from tensorflow import keras\n",
    "from sklearn.metrics import confusion_matrix, classification_report\n",
    "from datetime import datetime\n",
    "from IPython.display import Image\n",
    "from collections import deque\n",
    "from statsmodels.tsa.arima_model import ARIMA\n",
    "from nltk.tokenize import word_tokenize\n",
    "import matplotlib.pyplot as plt\n",
    "import numpy as np\n",
    "import pandas as pd\n",
    "import seaborn as sn\n",
    "import itertools\n",
    "import copy\n",
    "import random\n",
    "import pickle\n",
    "import time\n",
    "import os\n",
    "import io\n",
    "from importnb import Notebook, reload\n",
    "with Notebook(): \n",
    "    import Utilities\n",
    "# Disables error in custom keras-layer\n",
    "tf.compat.v1.disable_eager_execution()"
   ]
  },
  {
   "cell_type": "code",
   "execution_count": 2,
   "metadata": {},
   "outputs": [],
   "source": [
    "ONEDRIVE_PATH = Path(r\"C:\\Users\\gusta\\Kidbrooke Advisory Ab\\KidbrookeOneDrive - Gustaf Backman exjobb\")\n",
    "\n",
    "config = {\n",
    "    'embed_dim': 300,    # Dimensions to use for the word embedding\n",
    "    'lookback': 3,       # How far back to collect data in the recurrent layer (days)\n",
    "    'delay': 3,          # How far ahead to predict data (days)\n",
    "    'p': 1,              # Order of the AR-part of the model\n",
    "    'd': 1,              # Integrated order\n",
    "    'q': 1,              # Included moving average terms \n",
    "    'train_part' : 0.8,  # Part of data to be used for training\n",
    "    'val_part' : 0.1,    # Part of data to be used for validation\n",
    "    'test_part' : 0.1,   # Part of data to be used for testing\n",
    "    'series': '1 YEAR',   # What series we currently want to predict, '1 YEAR', '3 YEAR' or 'S&P'\n",
    "    'vocab_size': 15000,  # Include only the 'vocab_size' most common words \n",
    "    'start_date': '2006-10-20',\n",
    "    'end_date': '2013-11-19',\n",
    "}"
   ]
  },
  {
   "cell_type": "code",
   "execution_count": 3,
   "metadata": {},
   "outputs": [],
   "source": [
    "# Load data \n",
    "news_path = ONEDRIVE_PATH / \"Input data/financial_headlines_20061020-20131119.pkl\"\n",
    "data = pd.DataFrame(pd.read_pickle(news_path))\n",
    "data.set_index('date',inplace=True)\n",
    "text = Utilities.preprocess_text(data)"
   ]
  },
  {
   "cell_type": "code",
   "execution_count": 4,
   "metadata": {},
   "outputs": [],
   "source": [
    "# Tokenize the text data \n",
    "tokenizer = Tokenizer(num_words=config['vocab_size'])\n",
    "tokenizer.fit_on_texts(text)\n",
    "word_index = tokenizer.word_index\n",
    "sequences = tokenizer.texts_to_sequences(text)"
   ]
  },
  {
   "cell_type": "code",
   "execution_count": 6,
   "metadata": {},
   "outputs": [],
   "source": [
    "# Load dictionary of embeddings for this vocabulary (previously constructed)\n",
    "subset_embeddings = ONEDRIVE_PATH / \"Embeddings/GloVe/saved.42B.300d.pkl\"\n",
    "with open(subset_embeddings,'rb') as handle: \n",
    "    emb_dict = pickle.load(handle)"
   ]
  },
  {
   "cell_type": "code",
   "execution_count": 7,
   "metadata": {},
   "outputs": [],
   "source": [
    "# Create embedding matrix with shape (vocab_size, embed_dimension)\n",
    "embedding_weights = np.zeros((config['vocab_size'], config['embed_dim']))\n",
    "# Add pre-trained weights from GloVe\n",
    "for word,index in word_index.items(): \n",
    "    if index > config['vocab_size']: \n",
    "        break\n",
    "    temp_emb = emb_dict.get(word)\n",
    "    if temp_emb is not None: \n",
    "        embedding_weights[index - 1] = temp_emb\n",
    "    else: \n",
    "        embedding_weights[index - 1] = np.random.normal(size=config['embed_dim'])"
   ]
  },
  {
   "cell_type": "code",
   "execution_count": 8,
   "metadata": {},
   "outputs": [
    {
     "name": "stdout",
     "output_type": "stream",
     "text": [
      "Actual maximum length of one day news: 950\n",
      "Used maximum length of one day news: 950\n"
     ]
    }
   ],
   "source": [
    "config['max_len'] = max([len(sent) for sent in sequences])\n",
    "print(\"Actual maximum length of one day news:\",config['max_len'])\n",
    "#config['max_len'] = 600\n",
    "print(\"Used maximum length of one day news:\",config['max_len'])\n",
    "\n",
    "# Pad the text data so we get a matrix of shape (n,max_len)\n",
    "x = np.zeros((len(sequences), config['max_len']))\n",
    "for i,sent in enumerate(sequences): \n",
    "    if len(sent) > config['max_len']: \n",
    "        x[i] = sent[:config['max_len']]\n",
    "    else: \n",
    "        x[i,:len(sent)] = sent"
   ]
  },
  {
   "cell_type": "code",
   "execution_count": 9,
   "metadata": {},
   "outputs": [],
   "source": [
    "# Need to remove some rows from the word embedding-matrix,\n",
    "# these numbers are specified in Utilities.fit_all_models()\n",
    "rm_start_rows = max(config['lookback'],5) + 1\n",
    "rm_end_rows = config['delay']\n",
    "x = x[rm_start_rows : -rm_end_rows]"
   ]
  },
  {
   "cell_type": "code",
   "execution_count": 73,
   "metadata": {
    "scrolled": true
   },
   "outputs": [
    {
     "name": "stdout",
     "output_type": "stream",
     "text": [
      "Loaded previously constructed labels. \n"
     ]
    },
    {
     "data": {
      "image/png": "[encoded data removed]",
      "text/plain": [
       "<Figure size 432x288 with 1 Axes>"
      ]
     },
     "metadata": {
      "needs_background": "light"
     },
     "output_type": "display_data"
    }
   ],
   "source": [
    "# Pick thresholds for the classes. Observe that these are normalized values, \n",
    "# so it's the distribution rather than the numbers that's important. \n",
    "thresholds = [-0.0045,-0.002,0,0.0025]\n",
    "nbr_classes = len(thresholds) + 1\n",
    "y = Utilities.load_multiclass_labels(config,thresholds, plot=True)"
   ]
  },
  {
   "cell_type": "code",
   "execution_count": 74,
   "metadata": {
    "scrolled": true
   },
   "outputs": [
    {
     "name": "stdout",
     "output_type": "stream",
     "text": [
      "Shape of x_train, y_train:  (2056, 3, 950) (2056,)\n",
      "Shape of x_val, y_val:  (255, 3, 950) (255,)\n",
      "Shape of x_test, y_test:  (256, 3, 950) (256,)\n"
     ]
    }
   ],
   "source": [
    "(x_train,y_train), (x_val,y_val), (x_test,y_test) = Utilities.shuffle_and_partition(x,y,test_part=config['test_part'],val_part=config['val_part'],sequences=True,config=config)\n",
    "print(\"Shape of x_train, y_train: \",x_train.shape, y_train.shape)\n",
    "print(\"Shape of x_val, y_val: \",x_val.shape, y_val.shape)\n",
    "print(\"Shape of x_test, y_test: \",x_test.shape, y_test.shape)\n"
   ]
  },
  {
   "cell_type": "markdown",
   "metadata": {},
   "source": [
    "## Model \n",
    "This model aims to take the chronology of news over a period into account. "
   ]
  },
  {
   "cell_type": "code",
   "execution_count": 75,
   "metadata": {},
   "outputs": [],
   "source": [
    "# Define some help functions for custom layer and hyper parameter optimization\n",
    "\n",
    "# Create functions for custom 'MergeEmedding'-layer which averages \n",
    "# the embeddings over all words after the embedding layer \n",
    "def merge_embeddings(x):\n",
    "    # Sum the embeddings for every word slot. If this is zero, there is no word in this slot\n",
    "    non_zero = K.sum(K.cast(K.not_equal(K.sum(x,axis=3),0),tf.float32))\n",
    "    return K.sum(x,axis=2) / non_zero\n",
    "\n",
    "def merge_output_shape(input_shape):\n",
    "    return (input_shape[0], input_shape[2])\n",
    "\n",
    "\n",
    "def train_and_format(x,y,bs,epochs, results, layers, nodes,lr,verbose=0):\n",
    "    name = f\"{bs}_{layers}_{nodes}\"\n",
    "    temp_history = model.fit(x, y, batch_size=bs, validation_split=0.2, epochs = epochs,verbose=verbose)\n",
    "    return results.append(pd.Series([np.mean(temp_history.history['val_loss'][-5:]),\n",
    "                                                temp_history, model, layers, \n",
    "                                                nodes, bs], \n",
    "                                                name=name,index=['Mean Val Acc','History','Model','Layers','Nodes','Batch Size']))\n",
    "def create_lstm(lstm_units,lr):\n",
    "    lstm_layers = len(lstm_units)\n",
    "    model = Sequential() \n",
    "    model.add(TimeDistributed(Embedding(input_dim=config['vocab_size'],\n",
    "                                        output_dim=config['embed_dim'],\n",
    "                                        input_length=config['max_len'],\n",
    "                                        weights=[embedding_weights]), input_shape=x_train.shape[1:] ))\n",
    "    model.add(Lambda(merge_embeddings, output_shape=merge_output_shape))\n",
    "    idx = 0\n",
    "    while lstm_layers > idx + 1: \n",
    "        model.add(LSTM(lstm_units[idx], return_sequences=True))\n",
    "        idx += 1\n",
    "    model.add(LSTM(lstm_units[-1],return_sequences=False))\n",
    "    model.add(Dense(nbr_classes, activation='softmax'))\n",
    "    \n",
    "    rms = optimizers.RMSprop(learning_rate=lr)\n",
    "    model.compile(optimizer=rms, loss='sparse_categorical_crossentropy', metrics=['acc'])\n",
    "    return model\n",
    "\n",
    "def train_and_format(x,y,x_val,y_val,bs,epochs, results, layers, nodes, lr, verbose=0):\n",
    "    name = f\"{bs}_{layers}_{nodes}\"\n",
    "    temp_history = model.fit(x, y, batch_size=bs, validation_data=(x_val, y_val), epochs = epochs,verbose=verbose)\n",
    "    return results.append(pd.Series([np.mean(temp_history.history['val_loss'][-3:]),\n",
    "                                                temp_history, model, layers, \n",
    "                                                nodes, bs, lr], \n",
    "                                                name=name,\n",
    "                                    index=['Mean Val Acc','History','Model','Layers','Nodes','Batch Size','Learning Rate']))"
   ]
  },
  {
   "cell_type": "code",
   "execution_count": 82,
   "metadata": {
    "scrolled": true
   },
   "outputs": [
    {
     "name": "stdout",
     "output_type": "stream",
     "text": [
      "Testing 1 combinations. \n",
      "Train on 2056 samples, validate on 255 samples\n",
      "Epoch 1/50\n",
      "2056/2056 [==============================] - 13s 6ms/sample - loss: 1.6023 - acc: 0.2466 - val_loss: 1.6576 - val_acc: 0.0627\n",
      "Epoch 2/50\n",
      "2056/2056 [==============================] - 11s 5ms/sample - loss: 1.5965 - acc: 0.2510 - val_loss: 1.6846 - val_acc: 0.0627\n",
      "Epoch 3/50\n",
      "2056/2056 [==============================] - 11s 6ms/sample - loss: 1.5952 - acc: 0.2510 - val_loss: 1.7146 - val_acc: 0.0627\n",
      "Epoch 4/50\n",
      "2056/2056 [==============================] - 11s 6ms/sample - loss: 1.5957 - acc: 0.2510 - val_loss: 1.7044 - val_acc: 0.0627\n",
      "Epoch 5/50\n",
      "2056/2056 [==============================] - 12s 6ms/sample - loss: 1.5954 - acc: 0.2446 - val_loss: 1.7091 - val_acc: 0.0627\n",
      "Epoch 6/50\n",
      "2056/2056 [==============================] - 12s 6ms/sample - loss: 1.5951 - acc: 0.2510 - val_loss: 1.7046 - val_acc: 0.0627\n",
      "Epoch 7/50\n",
      "2056/2056 [==============================] - 12s 6ms/sample - loss: 1.5948 - acc: 0.2510 - val_loss: 1.7045 - val_acc: 0.0627\n",
      "Epoch 8/50\n",
      "2056/2056 [==============================] - 12s 6ms/sample - loss: 1.5944 - acc: 0.2510 - val_loss: 1.7093 - val_acc: 0.0627\n",
      "Epoch 9/50\n",
      "2056/2056 [==============================] - 12s 6ms/sample - loss: 1.5930 - acc: 0.2510 - val_loss: 1.7151 - val_acc: 0.0627\n",
      "Epoch 10/50\n",
      "2056/2056 [==============================] - 12s 6ms/sample - loss: 1.5896 - acc: 0.2510 - val_loss: 1.6836 - val_acc: 0.0627\n",
      "Epoch 11/50\n",
      "2056/2056 [==============================] - 12s 6ms/sample - loss: 1.5699 - acc: 0.2558 - val_loss: 1.6003 - val_acc: 0.1569\n",
      "Epoch 12/50\n",
      "2056/2056 [==============================] - 12s 6ms/sample - loss: 1.5166 - acc: 0.2865 - val_loss: 1.5566 - val_acc: 0.1725\n",
      "Epoch 13/50\n",
      "2056/2056 [==============================] - 12s 6ms/sample - loss: 1.4826 - acc: 0.3089 - val_loss: 1.4353 - val_acc: 0.4588\n",
      "Epoch 14/50\n",
      "2056/2056 [==============================] - 12s 6ms/sample - loss: 1.4642 - acc: 0.3089 - val_loss: 1.4181 - val_acc: 0.4667\n",
      "Epoch 15/50\n",
      "2056/2056 [==============================] - 13s 6ms/sample - loss: 1.4506 - acc: 0.3152 - val_loss: 1.4121 - val_acc: 0.4314\n",
      "Epoch 16/50\n",
      "2056/2056 [==============================] - 13s 6ms/sample - loss: 1.4399 - acc: 0.3137 - val_loss: 1.4156 - val_acc: 0.4431\n",
      "Epoch 17/50\n",
      "2056/2056 [==============================] - 13s 6ms/sample - loss: 1.4268 - acc: 0.3254 - val_loss: 1.4136 - val_acc: 0.4471\n",
      "Epoch 18/50\n",
      "2056/2056 [==============================] - 12s 6ms/sample - loss: 1.4163 - acc: 0.3293 - val_loss: 1.3989 - val_acc: 0.4706\n",
      "Epoch 19/50\n",
      "2056/2056 [==============================] - 14s 7ms/sample - loss: 1.4010 - acc: 0.3283 - val_loss: 1.3921 - val_acc: 0.4627\n",
      "Epoch 20/50\n",
      "2056/2056 [==============================] - 12s 6ms/sample - loss: 1.3881 - acc: 0.3395 - val_loss: 1.4137 - val_acc: 0.4157\n",
      "Epoch 21/50\n",
      "2056/2056 [==============================] - 12s 6ms/sample - loss: 1.3784 - acc: 0.3390 - val_loss: 1.4462 - val_acc: 0.4118\n",
      "Epoch 22/50\n",
      "2056/2056 [==============================] - 12s 6ms/sample - loss: 1.3611 - acc: 0.3482 - val_loss: 1.3914 - val_acc: 0.4510\n",
      "Epoch 23/50\n",
      "2056/2056 [==============================] - 13s 6ms/sample - loss: 1.3420 - acc: 0.3565 - val_loss: 1.3918 - val_acc: 0.4627\n",
      "Epoch 24/50\n",
      "2056/2056 [==============================] - 12s 6ms/sample - loss: 1.3300 - acc: 0.3473 - val_loss: 1.4112 - val_acc: 0.4392\n",
      "Epoch 25/50\n",
      "2056/2056 [==============================] - 12s 6ms/sample - loss: 1.3143 - acc: 0.3813 - val_loss: 1.5750 - val_acc: 0.3647\n",
      "Epoch 26/50\n",
      "2056/2056 [==============================] - 12s 6ms/sample - loss: 1.3017 - acc: 0.3726 - val_loss: 1.4027 - val_acc: 0.4706\n",
      "Epoch 27/50\n",
      "2056/2056 [==============================] - 12s 6ms/sample - loss: 1.2859 - acc: 0.3813 - val_loss: 1.4111 - val_acc: 0.4588\n",
      "Epoch 28/50\n",
      "2056/2056 [==============================] - 12s 6ms/sample - loss: 1.2707 - acc: 0.3886 - val_loss: 1.4199 - val_acc: 0.4431\n",
      "Epoch 29/50\n",
      "2056/2056 [==============================] - 12s 6ms/sample - loss: 1.2601 - acc: 0.3876 - val_loss: 1.4340 - val_acc: 0.4157\n",
      "Epoch 30/50\n",
      "2056/2056 [==============================] - 15s 7ms/sample - loss: 1.2470 - acc: 0.3911 - val_loss: 1.4184 - val_acc: 0.4431\n",
      "Epoch 31/50\n",
      "2056/2056 [==============================] - 14s 7ms/sample - loss: 1.2296 - acc: 0.4008 - val_loss: 1.5284 - val_acc: 0.3765\n",
      "Epoch 32/50\n",
      "2056/2056 [==============================] - 14s 7ms/sample - loss: 1.2223 - acc: 0.4139 - val_loss: 1.4379 - val_acc: 0.4275\n",
      "Epoch 33/50\n",
      "2056/2056 [==============================] - 13s 7ms/sample - loss: 1.2064 - acc: 0.4027 - val_loss: 1.4505 - val_acc: 0.4039\n",
      "Epoch 34/50\n",
      "2056/2056 [==============================] - 15s 7ms/sample - loss: 1.2050 - acc: 0.4066 - val_loss: 1.4497 - val_acc: 0.4196\n",
      "Epoch 35/50\n",
      "2056/2056 [==============================] - 14s 7ms/sample - loss: 1.1853 - acc: 0.4139 - val_loss: 1.4804 - val_acc: 0.3647\n",
      "Epoch 36/50\n",
      "2056/2056 [==============================] - 12s 6ms/sample - loss: 1.1665 - acc: 0.4324 - val_loss: 1.6425 - val_acc: 0.3608\n",
      "Epoch 37/50\n",
      "2056/2056 [==============================] - 12s 6ms/sample - loss: 1.1581 - acc: 0.4373 - val_loss: 1.7276 - val_acc: 0.3490\n",
      "Epoch 38/50\n",
      "2056/2056 [==============================] - 12s 6ms/sample - loss: 1.1493 - acc: 0.4416 - val_loss: 1.7811 - val_acc: 0.3216\n",
      "Epoch 39/50\n",
      "2056/2056 [==============================] - 12s 6ms/sample - loss: 1.1390 - acc: 0.4509 - val_loss: 1.4953 - val_acc: 0.3961\n",
      "Epoch 40/50\n",
      "2056/2056 [==============================] - 13s 6ms/sample - loss: 1.1281 - acc: 0.4557 - val_loss: 1.6331 - val_acc: 0.3059\n",
      "Epoch 41/50\n",
      "2056/2056 [==============================] - 14s 7ms/sample - loss: 1.1184 - acc: 0.4611 - val_loss: 1.5108 - val_acc: 0.4078\n",
      "Epoch 42/50\n",
      "2056/2056 [==============================] - 13s 6ms/sample - loss: 1.1045 - acc: 0.4718 - val_loss: 1.5375 - val_acc: 0.4000\n",
      "Epoch 43/50\n",
      "2056/2056 [==============================] - 13s 6ms/sample - loss: 1.0936 - acc: 0.4742 - val_loss: 1.5282 - val_acc: 0.4118\n",
      "Epoch 44/50\n",
      "2056/2056 [==============================] - 14s 7ms/sample - loss: 1.0826 - acc: 0.4786 - val_loss: 1.5309 - val_acc: 0.4118\n",
      "Epoch 45/50\n",
      "2056/2056 [==============================] - 14s 7ms/sample - loss: 1.0721 - acc: 0.4951 - val_loss: 1.6153 - val_acc: 0.3882\n",
      "Epoch 46/50\n",
      "2056/2056 [==============================] - 13s 6ms/sample - loss: 1.0589 - acc: 0.4917 - val_loss: 1.7343 - val_acc: 0.3059\n",
      "Epoch 47/50\n",
      "2056/2056 [==============================] - 13s 6ms/sample - loss: 1.0434 - acc: 0.4937 - val_loss: 1.7805 - val_acc: 0.2980\n",
      "Epoch 48/50\n",
      "2056/2056 [==============================] - 14s 7ms/sample - loss: 1.0237 - acc: 0.5088 - val_loss: 1.7027 - val_acc: 0.4353\n",
      "Epoch 49/50\n",
      "2056/2056 [==============================] - 13s 6ms/sample - loss: 1.0280 - acc: 0.5190 - val_loss: 1.6086 - val_acc: 0.3882\n",
      "Epoch 50/50\n",
      "2056/2056 [==============================] - 13s 6ms/sample - loss: 1.0089 - acc: 0.5428 - val_loss: 1.6224 - val_acc: 0.3373\n",
      "100.0 %     \n"
     ]
    }
   ],
   "source": [
    "n_layers = [3]\n",
    "n_units = [10]\n",
    "batch_sizes = [8]\n",
    "learning_rates = [0.001]\n",
    "epochs = 50\n",
    "results = pd.DataFrame(columns=['Mean Val Acc','History','Model', 'Layers', 'Nodes', 'Batch Size', 'Learning Rate'])\n",
    "n_configs = sum([len(n_units)**l for l in n_layers]) * len(batch_sizes) * len(learning_rates)\n",
    "ctr = 0\n",
    "verbose = 1\n",
    "print('Testing {} combinations. '.format(n_configs))\n",
    "for layers in n_layers:\n",
    "    # Ugliest code ever written, fix?\n",
    "    if layers == 1: node_configs = list(itertools.product(n_units))\n",
    "    elif layers == 2: node_configs = list(itertools.product(n_units, n_units))\n",
    "    elif layers == 3: node_configs = list(itertools.product(n_units, n_units, n_units))\n",
    "    elif layers == 4: node_configs = list(itertools.product(n_units, n_units, n_units, n_units))\n",
    "    for bs in batch_sizes: \n",
    "        for temp_nodes in node_configs: \n",
    "            for lr in learning_rates:\n",
    "                ctr += 1 \n",
    "                model = create_lstm(temp_nodes,lr)\n",
    "                results = train_and_format(x_train, y_train, x_val, y_val, bs, epochs, results, layers, temp_nodes,lr,verbose=verbose)\n",
    "                if verbose: \n",
    "                    print(\"{} %     \".format(round(100 * ctr / n_configs,2)))\n",
    "                else:\n",
    "                    print(\"{} %     \".format(round(100 * ctr / n_configs,2)),end='\\r')\n"
   ]
  },
  {
   "cell_type": "code",
   "execution_count": 86,
   "metadata": {},
   "outputs": [
    {
     "name": "stdout",
     "output_type": "stream",
     "text": [
      "Model: \"sequential_17\"\n",
      "_________________________________________________________________\n",
      "Layer (type)                 Output Shape              Param #   \n",
      "=================================================================\n",
      "time_distributed_17 (TimeDis (None, 3, 950, 300)       4500000   \n",
      "_________________________________________________________________\n",
      "lambda_17 (Lambda)           (None, 3, 300)            0         \n",
      "_________________________________________________________________\n",
      "lstm_30 (LSTM)               (None, 3, 10)             12440     \n",
      "_________________________________________________________________\n",
      "lstm_31 (LSTM)               (None, 3, 10)             840       \n",
      "_________________________________________________________________\n",
      "lstm_32 (LSTM)               (None, 10)                840       \n",
      "_________________________________________________________________\n",
      "dense_17 (Dense)             (None, 5)                 55        \n",
      "=================================================================\n",
      "Total params: 4,514,175\n",
      "Trainable params: 4,514,175\n",
      "Non-trainable params: 0\n",
      "_________________________________________________________________\n"
     ]
    }
   ],
   "source": [
    "results.iloc[k_best]['Model'][0].summary()"
   ]
  },
  {
   "cell_type": "code",
   "execution_count": 80,
   "metadata": {},
   "outputs": [
    {
     "name": "stdout",
     "output_type": "stream",
     "text": [
      "Top 1 configs: \n"
     ]
    },
    {
     "data": {
      "text/html": [
       "<div>\n",
       "<style scoped>\n",
       "    .dataframe tbody tr th:only-of-type {\n",
       "        vertical-align: middle;\n",
       "    }\n",
       "\n",
       "    .dataframe tbody tr th {\n",
       "        vertical-align: top;\n",
       "    }\n",
       "\n",
       "    .dataframe thead th {\n",
       "        text-align: right;\n",
       "    }\n",
       "</style>\n",
       "<table border=\"1\" class=\"dataframe\">\n",
       "  <thead>\n",
       "    <tr style=\"text-align: right;\">\n",
       "      <th></th>\n",
       "      <th>Mean Val Acc</th>\n",
       "      <th>History</th>\n",
       "      <th>Model</th>\n",
       "      <th>Layers</th>\n",
       "      <th>Nodes</th>\n",
       "      <th>Batch Size</th>\n",
       "      <th>Learning Rate</th>\n",
       "    </tr>\n",
       "  </thead>\n",
       "  <tbody>\n",
       "    <tr>\n",
       "      <th>16_2_(10, 10)</th>\n",
       "      <td>1.461417</td>\n",
       "      <td>&lt;tensorflow.python.keras.callbacks.History obj...</td>\n",
       "      <td>&lt;tensorflow.python.keras.engine.sequential.Seq...</td>\n",
       "      <td>2</td>\n",
       "      <td>(10, 10)</td>\n",
       "      <td>16</td>\n",
       "      <td>0.001</td>\n",
       "    </tr>\n",
       "  </tbody>\n",
       "</table>\n",
       "</div>"
      ],
      "text/plain": [
       "               Mean Val Acc  \\\n",
       "16_2_(10, 10)      1.461417   \n",
       "\n",
       "                                                         History  \\\n",
       "16_2_(10, 10)  <tensorflow.python.keras.callbacks.History obj...   \n",
       "\n",
       "                                                           Model Layers  \\\n",
       "16_2_(10, 10)  <tensorflow.python.keras.engine.sequential.Seq...      2   \n",
       "\n",
       "                  Nodes Batch Size  Learning Rate  \n",
       "16_2_(10, 10)  (10, 10)         16          0.001  "
      ]
     },
     "execution_count": 80,
     "metadata": {},
     "output_type": "execute_result"
    }
   ],
   "source": [
    "k = 1\n",
    "print(\"Top {} configs: \".format(k))\n",
    "k_best = np.argpartition(results['Mean Val Acc'],-k)[-k:]\n",
    "results.iloc[k_best]"
   ]
  },
  {
   "cell_type": "code",
   "execution_count": 87,
   "metadata": {
    "scrolled": false
   },
   "outputs": [
    {
     "name": "stdout",
     "output_type": "stream",
     "text": [
      "Nodes: (10, 10, 10), Mean validation accuracy: 1.6445460143432118\n"
     ]
    },
    {
     "data": {
      "image/png": "[encoded data removed]",
      "text/plain": [
       "<Figure size 432x288 with 2 Axes>"
      ]
     },
     "metadata": {
      "needs_background": "light"
     },
     "output_type": "display_data"
    },
    {
     "data": {
      "image/png": "[encoded data removed]",
      "text/plain": [
       "<Figure size 432x288 with 3 Axes>"
      ]
     },
     "metadata": {
      "needs_background": "light"
     },
     "output_type": "display_data"
    },
    {
     "name": "stdout",
     "output_type": "stream",
     "text": [
      "              precision    recall  f1-score   support\n",
      "\n",
      "         0.0       0.00      0.00      0.00        14\n",
      "         1.0       0.00      0.00      0.00        55\n",
      "         2.0       0.42      1.00      0.59       108\n",
      "         3.0       0.00      0.00      0.00        71\n",
      "         4.0       0.00      0.00      0.00         8\n",
      "\n",
      "    accuracy                           0.42       256\n",
      "   macro avg       0.08      0.20      0.12       256\n",
      "weighted avg       0.18      0.42      0.25       256\n",
      "\n"
     ]
    },
    {
     "name": "stderr",
     "output_type": "stream",
     "text": [
      "C:\\ProgramData\\Anaconda3\\envs\\nlpenv\\lib\\site-packages\\sklearn\\metrics\\_classification.py:1272: UndefinedMetricWarning: Precision and F-score are ill-defined and being set to 0.0 in labels with no predicted samples. Use `zero_division` parameter to control this behavior.\n",
      "  _warn_prf(average, modifier, msg_start, len(result))\n"
     ]
    }
   ],
   "source": [
    "for i in k_best: \n",
    "    print(f\"Nodes: {results.iloc[i]['Nodes']}, Mean validation accuracy: {results.iloc[i]['Mean Val Acc']}\")\n",
    "    plt.subplot(121)\n",
    "    plt.plot(results.iloc[i]['History'].history['val_loss'],label='Val loss')\n",
    "    plt.plot(results.iloc[i]['History'].history['loss'],label='Training loss')\n",
    "    plt.legend()\n",
    "    plt.subplot(122)\n",
    "    plt.plot(results.iloc[i]['History'].history['val_acc'],label='Val acc')\n",
    "    plt.plot(results.iloc[i]['History'].history['acc'],label='Training acc')\n",
    "    plt.legend()\n",
    "    plt.show()\n",
    "    results.iloc[i]['Model'].evaluate(x_test,y_test,verbose=0)\n",
    "    # Calculate the predictions on the test set \n",
    "    y_test_pred_prob = model.predict(x_test)\n",
    "    y_test_pred = np.zeros(len(y_test))\n",
    "    for i,row in enumerate(y_test_pred_prob): \n",
    "        y_test_pred[i] = np.argmax(row)\n",
    "        \n",
    "    conf_mat = confusion_matrix(y_test,y_test_pred,normalize='pred')\n",
    "    plt.subplot(121)\n",
    "    ax = sn.heatmap(conf_mat)\n",
    "    ax.set_ylabel(\"True values\")\n",
    "    ax.set_xlabel(\"Predicted values\")\n",
    "    Utilities.plot_multi_predictions(y_test_pred,nbr_classes,subplot=122,show=True)\n",
    "    print(classification_report(y_test,y_test_pred))"
   ]
  },
  {
   "cell_type": "code",
   "execution_count": null,
   "metadata": {},
   "outputs": [],
   "source": []
  },
  {
   "cell_type": "code",
   "execution_count": null,
   "metadata": {},
   "outputs": [],
   "source": []
  }
 ],
 "metadata": {
  "kernelspec": {
   "display_name": "Python 3",
   "language": "python",
   "name": "python3"
  },
  "language_info": {
   "codemirror_mode": {
    "name": "ipython",
    "version": 3
   },
   "file_extension": ".py",
   "mimetype": "text/x-python",
   "name": "python",
   "nbconvert_exporter": "python",
   "pygments_lexer": "ipython3",
   "version": "3.7.6"
  }
 },
 "nbformat": 4,
 "nbformat_minor": 2
}
