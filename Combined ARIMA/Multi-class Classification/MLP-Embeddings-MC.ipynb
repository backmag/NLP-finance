{
 "cells": [
  {
   "cell_type": "code",
   "execution_count": 1,
   "metadata": {},
   "outputs": [],
   "source": [
    "from pathlib import Path\n",
    "import tensorflow as tf\n",
    "from tensorflow.keras import backend as K\n",
    "from tensorflow.keras.models import Sequential\n",
    "from tensorflow.keras.layers import Dense, Embedding, Input, Flatten, Layer, Lambda\n",
    "from tensorflow.keras.utils import plot_model\n",
    "from tensorflow.keras import optimizers\n",
    "from tensorflow.keras.preprocessing.text import Tokenizer\n",
    "from tensorflow.keras.preprocessing.sequence import pad_sequences\n",
    "from tensorflow import keras\n",
    "from sklearn.metrics import confusion_matrix, classification_report\n",
    "from datetime import datetime\n",
    "from IPython.display import Image\n",
    "from collections import deque\n",
    "from statsmodels.tsa.arima_model import ARIMA\n",
    "from nltk.tokenize import word_tokenize\n",
    "import matplotlib.pyplot as plt\n",
    "import numpy as np\n",
    "import pandas as pd\n",
    "import seaborn as sn\n",
    "import itertools\n",
    "import copy\n",
    "import random\n",
    "import pickle\n",
    "import time\n",
    "import os\n",
    "import io\n",
    "from importnb import Notebook, reload\n",
    "with Notebook(): \n",
    "    import Utilities\n",
    "\n",
    "# This removes error from the custom keras-layer\n",
    "tf.compat.v1.disable_eager_execution()"
   ]
  },
  {
   "cell_type": "code",
   "execution_count": 2,
   "metadata": {},
   "outputs": [],
   "source": [
    "ONEDRIVE_PATH = Path(r\"C:\\Users\\gusta\\Kidbrooke Advisory Ab\\KidbrookeOneDrive - Gustaf Backman exjobb\")\n",
    "\n",
    "config = {\n",
    "    'embed_dim': 300,    # Dimensions to use for the word embedding\n",
    "    'lookback': 1,       # Set to 1 since this model doesn't use any recurrent method\n",
    "    'delay': 1,          # How far ahead to predict data (days)\n",
    "    'batch_size': 10,    # Batch size used in generator\n",
    "    'p': 1,              # Order of the AR-part of the model\n",
    "    'd': 1,              # Integrated order\n",
    "    'q': 1,              # Included moving average terms \n",
    "    'train_part' : 0.8,  # Part of data to be used for training\n",
    "    'val_part' : 0.1,    # Part of data to be used for validation\n",
    "    'test_part' : 0.1,   # Part of data to be used for testing\n",
    "    'series': '1 YEAR',  # What series we currently want to predict, '1 YEAR', '3 YEAR' or 'S&P'\n",
    "    'vocab_size': 15000, # Include only the 'vocab_size' most common words \n",
    "    'start_date': '2006-10-20',\n",
    "    'end_date': '2013-11-19',\n",
    "}"
   ]
  },
  {
   "cell_type": "code",
   "execution_count": 3,
   "metadata": {},
   "outputs": [],
   "source": [
    "# Load data \n",
    "news_path = ONEDRIVE_PATH / \"Input data/financial_headlines_20061020-20131119.pkl\"\n",
    "data = pd.DataFrame(pd.read_pickle(news_path))\n",
    "data.set_index('date',inplace=True)\n",
    "text = Utilities.preprocess_text(data)"
   ]
  },
  {
   "cell_type": "code",
   "execution_count": 4,
   "metadata": {},
   "outputs": [],
   "source": [
    "# Tokenize the text data \n",
    "tokenizer = Tokenizer(num_words=config['vocab_size'])\n",
    "tokenizer.fit_on_texts(text)\n",
    "word_index = tokenizer.word_index\n",
    "sequences = tokenizer.texts_to_sequences(text)"
   ]
  },
  {
   "cell_type": "code",
   "execution_count": 5,
   "metadata": {},
   "outputs": [],
   "source": [
    "# Load dictionary of embeddings for this vocabulary (previously constructed)\n",
    "subset_embeddings = ONEDRIVE_PATH / \"Embeddings/GloVe/saved.42B.300d.pkl\"\n",
    "with open(subset_embeddings,'rb') as handle: \n",
    "    emb_dict = pickle.load(handle)"
   ]
  },
  {
   "cell_type": "code",
   "execution_count": 6,
   "metadata": {},
   "outputs": [],
   "source": [
    "# Create embedding matrix with shape (vocab_size, embed_dimension)\n",
    "embedding_weights = np.zeros((config['vocab_size'], config['embed_dim']))\n",
    "# Add pre-trained weights from GloVe\n",
    "for word,index in word_index.items(): \n",
    "    if index > config['vocab_size']: \n",
    "        break\n",
    "    temp_emb = emb_dict.get(word)\n",
    "    if temp_emb is not None: \n",
    "        embedding_weights[index - 1] = temp_emb\n",
    "    else: \n",
    "        embedding_weights[index - 1] = np.random.normal(size=config['embed_dim'])"
   ]
  },
  {
   "cell_type": "code",
   "execution_count": 7,
   "metadata": {},
   "outputs": [
    {
     "name": "stdout",
     "output_type": "stream",
     "text": [
      "Actual maximum length of one day news: 950\n",
      "Used maximum length of one day news: 950\n"
     ]
    }
   ],
   "source": [
    "config['max_len'] = max([len(sent) for sent in sequences])\n",
    "print(\"Actual maximum length of one day news:\",config['max_len'])\n",
    "#config['max_len'] = 600\n",
    "print(\"Used maximum length of one day news:\",config['max_len'])\n",
    "\n",
    "# Pad the text data so we get a matrix of shape (n,d)\n",
    "x = np.zeros((len(sequences), config['max_len']))\n",
    "for i,sent in enumerate(sequences): \n",
    "    if len(sent) > config['max_len']: \n",
    "        x[i] = sent[:config['max_len']]\n",
    "    else: \n",
    "        x[i,:len(sent)] = sent"
   ]
  },
  {
   "cell_type": "code",
   "execution_count": 8,
   "metadata": {
    "scrolled": true
   },
   "outputs": [
    {
     "name": "stdout",
     "output_type": "stream",
     "text": [
      "Loaded previously constructed labels. \n"
     ]
    },
    {
     "data": {
      "image/png": "[encoded data removed]",
      "text/plain": [
       "<Figure size 432x288 with 1 Axes>"
      ]
     },
     "metadata": {
      "needs_background": "light"
     },
     "output_type": "display_data"
    }
   ],
   "source": [
    "# Pick thresholds for the classes. Observe that these are normalized values, \n",
    "# so it's the distribution rather than the numbers that's important. \n",
    "thresholds = [-0.002,-0.0004,0.0004,0.002]\n",
    "nbr_classes = len(thresholds) + 1\n",
    "y = Utilities.load_multiclass_labels(config,thresholds,plot=True)"
   ]
  },
  {
   "cell_type": "code",
   "execution_count": 9,
   "metadata": {},
   "outputs": [
    {
     "name": "stdout",
     "output_type": "stream",
     "text": [
      "Shape of x_train:  (2317, 950)\n",
      "Shape of y_train:  (2317,)\n"
     ]
    }
   ],
   "source": [
    "(x_train,y_train), (x_test, y_test) = Utilities.shuffle_and_partition(x,y,test_part=config['test_part'])\n",
    "print(\"Shape of x_train: \",x_train.shape)\n",
    "print(\"Shape of y_train: \",y_train.shape)"
   ]
  },
  {
   "cell_type": "markdown",
   "metadata": {},
   "source": [
    "## Model\n",
    "We create a model similar to the one in \"MLP-PreTrained\", except for the initial Embedding-layer from Keras. A custom layer is defined to average the embedding of all words in one training sample after the embedding layer. "
   ]
  },
  {
   "cell_type": "code",
   "execution_count": 10,
   "metadata": {},
   "outputs": [],
   "source": [
    "# Define some help functions for custom layer and hyper parameter optimization\n",
    "\n",
    "# Create functions for custom 'MergeEmedding'-layer which averages \n",
    "# the embeddings over all words after the embedding layer \n",
    "def merge_embeddings(x):\n",
    "    # Sum the embeddings for every word slot. If this is zero, there is no word in this slot\n",
    "    non_zero = K.sum(K.cast(K.not_equal(K.sum(x,axis=2),0),tf.float32))\n",
    "    return K.sum(x,axis=1) / non_zero\n",
    "\n",
    "def merge_output_shape(input_shape):\n",
    "    return input_shape[0], input_shape[-1]\n",
    "\n",
    "def create_nn(n_nodes, lr=0.01): \n",
    "    # n_nodes is a list with the number of nodes per layer, starting from the input \n",
    "    model = Sequential() \n",
    "    model.add(Embedding(input_dim=config['vocab_size'],\n",
    "                       output_dim=config['embed_dim'],\n",
    "                        input_length=config['max_len'],\n",
    "                       weights=[embedding_weights]))\n",
    "    model.add(Lambda(merge_embeddings, output_shape=merge_output_shape))\n",
    "    for n in n_nodes: \n",
    "        model.add(Dense(n))\n",
    "    model.add(Dense(nbr_classes,activation='softmax'))\n",
    "    rms = optimizers.RMSprop(learning_rate=lr)\n",
    "    model.compile(optimizer=rms, \n",
    "                  loss='sparse_categorical_crossentropy', \n",
    "                  metrics=['acc'])\n",
    "    return model\n",
    "\n",
    "def train_and_format(x,y,bs,epochs, results, layers, nodes,lr,verbose=0):\n",
    "    name = f\"{bs}_{layers}_{nodes}\"\n",
    "    temp_history = model.fit(x, y, batch_size=bs, validation_split=0.2, epochs = epochs,verbose=verbose)\n",
    "    return results.append(pd.Series([np.mean(temp_history.history['val_acc'][-5:]),\n",
    "                                                temp_history, model, layers, \n",
    "                                                nodes, bs, lr], \n",
    "                                                name=name,\n",
    "                                    index=['Mean Val Acc','History','Model','Layers','Nodes','Batch Size','Learning Rate']))\n"
   ]
  },
  {
   "cell_type": "code",
   "execution_count": 11,
   "metadata": {
    "scrolled": true
   },
   "outputs": [
    {
     "name": "stdout",
     "output_type": "stream",
     "text": [
      "Testing 1 combinations. \n",
      "WARNING:tensorflow:From C:\\ProgramData\\Anaconda3\\envs\\nlpenv\\lib\\site-packages\\tensorflow_core\\python\\ops\\resource_variable_ops.py:1635: calling BaseResourceVariable.__init__ (from tensorflow.python.ops.resource_variable_ops) with constraint is deprecated and will be removed in a future version.\n",
      "Instructions for updating:\n",
      "If using Keras pass *_constraint arguments to layers.\n",
      "Train on 1853 samples, validate on 464 samples\n",
      "Epoch 1/20\n",
      "1853/1853 [==============================] - 7s 4ms/sample - loss: 1.5733 - acc: 0.2920 - val_loss: 1.5434 - val_acc: 0.3190\n",
      "Epoch 2/20\n",
      "1853/1853 [==============================] - 8s 4ms/sample - loss: 1.5664 - acc: 0.2887 - val_loss: 1.5450 - val_acc: 0.3233\n",
      "Epoch 3/20\n",
      "1853/1853 [==============================] - 7s 4ms/sample - loss: 1.5590 - acc: 0.2979 - val_loss: 1.5469 - val_acc: 0.3276\n",
      "Epoch 4/20\n",
      "1853/1853 [==============================] - 7s 4ms/sample - loss: 1.5516 - acc: 0.3130 - val_loss: 1.5369 - val_acc: 0.3341\n",
      "Epoch 5/20\n",
      "1853/1853 [==============================] - 8s 4ms/sample - loss: 1.5390 - acc: 0.3125 - val_loss: 1.5310 - val_acc: 0.3297\n",
      "Epoch 6/20\n",
      "1853/1853 [==============================] - 8s 4ms/sample - loss: 1.5164 - acc: 0.3276 - val_loss: 1.5270 - val_acc: 0.3362\n",
      "Epoch 7/20\n",
      "1853/1853 [==============================] - 7s 4ms/sample - loss: 1.4857 - acc: 0.3394 - val_loss: 1.5025 - val_acc: 0.3384\n",
      "Epoch 8/20\n",
      "1853/1853 [==============================] - 8s 4ms/sample - loss: 1.4475 - acc: 0.3616 - val_loss: 1.4740 - val_acc: 0.3319\n",
      "Epoch 9/20\n",
      "1853/1853 [==============================] - 8s 4ms/sample - loss: 1.4164 - acc: 0.3767 - val_loss: 1.6577 - val_acc: 0.3405\n",
      "Epoch 10/20\n",
      "1853/1853 [==============================] - 8s 4ms/sample - loss: 1.4045 - acc: 0.3778 - val_loss: 1.4799 - val_acc: 0.3297\n",
      "Epoch 11/20\n",
      "1853/1853 [==============================] - 8s 4ms/sample - loss: 1.3879 - acc: 0.3923 - val_loss: 1.4851 - val_acc: 0.3297\n",
      "Epoch 12/20\n",
      "1853/1853 [==============================] - 8s 4ms/sample - loss: 1.3745 - acc: 0.3886 - val_loss: 1.4724 - val_acc: 0.3405\n",
      "Epoch 13/20\n",
      "1853/1853 [==============================] - 8s 4ms/sample - loss: 1.3620 - acc: 0.4080 - val_loss: 1.5055 - val_acc: 0.3341\n",
      "Epoch 14/20\n",
      "1853/1853 [==============================] - 8s 4ms/sample - loss: 1.3420 - acc: 0.4080 - val_loss: 1.4906 - val_acc: 0.3405\n",
      "Epoch 15/20\n",
      "1853/1853 [==============================] - 8s 4ms/sample - loss: 1.3309 - acc: 0.4199 - val_loss: 1.5386 - val_acc: 0.3190\n",
      "Epoch 16/20\n",
      "1853/1853 [==============================] - 8s 4ms/sample - loss: 1.3079 - acc: 0.4150 - val_loss: 1.5650 - val_acc: 0.3147\n",
      "Epoch 17/20\n",
      "1853/1853 [==============================] - 8s 4ms/sample - loss: 1.2894 - acc: 0.4317 - val_loss: 1.5379 - val_acc: 0.3297\n",
      "Epoch 18/20\n",
      "1853/1853 [==============================] - 8s 4ms/sample - loss: 1.2711 - acc: 0.4485 - val_loss: 1.6283 - val_acc: 0.3125\n",
      "Epoch 19/20\n",
      "1853/1853 [==============================] - 8s 4ms/sample - loss: 1.2483 - acc: 0.4625 - val_loss: 1.5502 - val_acc: 0.3211\n",
      "Epoch 20/20\n",
      "1853/1853 [==============================] - 8s 4ms/sample - loss: 1.2230 - acc: 0.4798 - val_loss: 1.5891 - val_acc: 0.3362\n",
      "100.0 %     \n"
     ]
    }
   ],
   "source": [
    "n_layers = [2]\n",
    "n_nodes = [10]\n",
    "learning_rates = [0.001]\n",
    "batch_sizes = [8]\n",
    "epochs = 20\n",
    "show_progress = 1\n",
    "results = pd.DataFrame(columns=['Mean Val Acc','History','Model', 'Layers', 'Nodes', 'Batch Size', 'Learning Rate'])\n",
    "n_configs = sum([len(n_nodes)**l for l in n_layers]) * len(batch_sizes) * len(learning_rates)\n",
    "ctr = 0\n",
    "print('Testing {} combinations. '.format(n_configs))\n",
    "for layers in n_layers:\n",
    "    # Ugliest code ever written, fix?\n",
    "    if layers == 1: node_configs = list(itertools.product(n_nodes))\n",
    "    elif layers == 2: node_configs = list(itertools.product(n_nodes, n_nodes))\n",
    "    elif layers == 3: node_configs = list(itertools.product(n_nodes, n_nodes, n_nodes))\n",
    "    elif layers == 4: node_configs = list(itertools.product(n_nodes, n_nodes, n_nodes, n_nodes))\n",
    "    for bs in batch_sizes: \n",
    "        for temp_nodes in node_configs: \n",
    "            for lr in learning_rates:\n",
    "                ctr += 1 \n",
    "                model = create_nn(temp_nodes, lr)\n",
    "                results = train_and_format(x_train, y_train, bs, epochs, results, layers, temp_nodes,lr,verbose=show_progress)\n",
    "                if show_progress:\n",
    "                    print(\"{} %     \".format(round(100 * ctr / n_configs,2)))    \n",
    "                else:\n",
    "                    print(\"{} %     \".format(round(100 * ctr / n_configs,2)),end='\\r')\n"
   ]
  },
  {
   "cell_type": "code",
   "execution_count": 12,
   "metadata": {},
   "outputs": [
    {
     "name": "stdout",
     "output_type": "stream",
     "text": [
      "Top 1 configs: \n"
     ]
    },
    {
     "data": {
      "text/html": [
       "<div>\n",
       "<style scoped>\n",
       "    .dataframe tbody tr th:only-of-type {\n",
       "        vertical-align: middle;\n",
       "    }\n",
       "\n",
       "    .dataframe tbody tr th {\n",
       "        vertical-align: top;\n",
       "    }\n",
       "\n",
       "    .dataframe thead th {\n",
       "        text-align: right;\n",
       "    }\n",
       "</style>\n",
       "<table border=\"1\" class=\"dataframe\">\n",
       "  <thead>\n",
       "    <tr style=\"text-align: right;\">\n",
       "      <th></th>\n",
       "      <th>Mean Val Acc</th>\n",
       "      <th>History</th>\n",
       "      <th>Model</th>\n",
       "      <th>Layers</th>\n",
       "      <th>Nodes</th>\n",
       "      <th>Batch Size</th>\n",
       "      <th>Learning Rate</th>\n",
       "    </tr>\n",
       "  </thead>\n",
       "  <tbody>\n",
       "    <tr>\n",
       "      <th>8_2_(10, 10)</th>\n",
       "      <td>0.322845</td>\n",
       "      <td>&lt;tensorflow.python.keras.callbacks.History obj...</td>\n",
       "      <td>&lt;tensorflow.python.keras.engine.sequential.Seq...</td>\n",
       "      <td>2</td>\n",
       "      <td>(10, 10)</td>\n",
       "      <td>8</td>\n",
       "      <td>0.001</td>\n",
       "    </tr>\n",
       "  </tbody>\n",
       "</table>\n",
       "</div>"
      ],
      "text/plain": [
       "              Mean Val Acc                                            History  \\\n",
       "8_2_(10, 10)      0.322845  <tensorflow.python.keras.callbacks.History obj...   \n",
       "\n",
       "                                                          Model Layers  \\\n",
       "8_2_(10, 10)  <tensorflow.python.keras.engine.sequential.Seq...      2   \n",
       "\n",
       "                 Nodes Batch Size  Learning Rate  \n",
       "8_2_(10, 10)  (10, 10)          8          0.001  "
      ]
     },
     "execution_count": 12,
     "metadata": {},
     "output_type": "execute_result"
    }
   ],
   "source": [
    "k = 1\n",
    "print(\"Top {} configs: \".format(k))\n",
    "k_best = np.argpartition(results['Mean Val Acc'],-k)[-k:]\n",
    "results.iloc[k_best]"
   ]
  },
  {
   "cell_type": "code",
   "execution_count": 13,
   "metadata": {},
   "outputs": [
    {
     "name": "stdout",
     "output_type": "stream",
     "text": [
      "Nodes: (10, 10), Mean validation accuracy: 0.32284483313560486\n"
     ]
    },
    {
     "data": {
      "image/png": "[encoded data removed]",
      "text/plain": [
       "<Figure size 432x288 with 2 Axes>"
      ]
     },
     "metadata": {
      "needs_background": "light"
     },
     "output_type": "display_data"
    },
    {
     "data": {
      "image/png": "[encoded data removed]",
      "text/plain": [
       "<Figure size 432x288 with 3 Axes>"
      ]
     },
     "metadata": {
      "needs_background": "light"
     },
     "output_type": "display_data"
    }
   ],
   "source": [
    "for i in k_best: \n",
    "    print(f\"Nodes: {results.iloc[i]['Nodes']}, Mean validation accuracy: {results.iloc[i]['Mean Val Acc']}\")\n",
    "    plt.subplot(121)\n",
    "    plt.plot(results.iloc[i]['History'].history['val_loss'],label='Val loss')\n",
    "    plt.plot(results.iloc[i]['History'].history['loss'],label='Training loss')\n",
    "    plt.legend()\n",
    "    plt.subplot(122)\n",
    "    plt.plot(results.iloc[i]['History'].history['val_acc'],label='Val acc')\n",
    "    plt.plot(results.iloc[i]['History'].history['acc'],label='Training acc')\n",
    "    plt.legend()\n",
    "    plt.show()\n",
    "    results.iloc[i]['Model'].evaluate(x_test,y_test,verbose=0)\n",
    "    # Calculate the predictions on the test set \n",
    "    y_test_pred_prob = model.predict(x_test)\n",
    "    y_test_pred = np.zeros(len(y_test))\n",
    "    for i,row in enumerate(y_test_pred_prob): \n",
    "        y_test_pred[i] = np.argmax(row)\n",
    "        \n",
    "    conf_mat = confusion_matrix(y_test,y_test_pred,normalize='pred')\n",
    "    plt.subplot(121)\n",
    "    ax = sn.heatmap(conf_mat)\n",
    "    ax.set_ylabel(\"True values\")\n",
    "    ax.set_xlabel(\"Predicted values\")\n",
    "    Utilities.plot_multi_predictions(y_test_pred, nbr_classes,subplot=122,show=True)"
   ]
  },
  {
   "cell_type": "code",
   "execution_count": 15,
   "metadata": {},
   "outputs": [
    {
     "name": "stdout",
     "output_type": "stream",
     "text": [
      "              precision    recall  f1-score   support\n",
      "\n",
      "         0.0       0.29      0.66      0.40        58\n",
      "         1.0       0.41      0.36      0.38        80\n",
      "         2.0       0.00      0.00      0.00        47\n",
      "         3.0       0.16      0.26      0.20        34\n",
      "         4.0       0.00      0.00      0.00        39\n",
      "\n",
      "    accuracy                           0.29       258\n",
      "   macro avg       0.17      0.26      0.20       258\n",
      "weighted avg       0.21      0.29      0.24       258\n",
      "\n"
     ]
    }
   ],
   "source": [
    "print(classification_report(y_test,y_test_pred))"
   ]
  },
  {
   "cell_type": "code",
   "execution_count": null,
   "metadata": {},
   "outputs": [],
   "source": []
  },
  {
   "cell_type": "code",
   "execution_count": null,
   "metadata": {},
   "outputs": [],
   "source": []
  }
 ],
 "metadata": {
  "kernelspec": {
   "display_name": "Python 3",
   "language": "python",
   "name": "python3"
  },
  "language_info": {
   "codemirror_mode": {
    "name": "ipython",
    "version": 3
   },
   "file_extension": ".py",
   "mimetype": "text/x-python",
   "name": "python",
   "nbconvert_exporter": "python",
   "pygments_lexer": "ipython3",
   "version": "3.7.6"
  }
 },
 "nbformat": 4,
 "nbformat_minor": 2
}
