{
 "cells": [
  {
   "cell_type": "markdown",
   "metadata": {},
   "source": [
    "### Financial Index Prediction\n",
    "This notebook seeks to predict the direction of a financial index from day k to day k+1 given financial news headlines from day k. A range of different combinations between statistical and NLP-models are used. "
   ]
  },
  {
   "cell_type": "code",
   "execution_count": 2,
   "metadata": {},
   "outputs": [],
   "source": [
    "import pandas as pd\n",
    "import numpy as np\n",
    "import seaborn as sn\n",
    "import matplotlib.pyplot as plt\n",
    "from tqdm import tqdm, trange\n",
    "from sklearn.utils import parallel_backend\n",
    "from pathlib import Path\n",
    "from sklearn.feature_extraction.text import TfidfTransformer, CountVectorizer\n",
    "from sklearn.metrics import classification_report, confusion_matrix, f1_score, plot_confusion_matrix\n",
    "from sklearn.linear_model import LogisticRegression\n",
    "from sklearn.discriminant_analysis import LinearDiscriminantAnalysis\n",
    "from sklearn.ensemble import RandomForestClassifier\n",
    "from sklearn.model_selection import GridSearchCV, RandomizedSearchCV\n",
    "from sklearn import svm\n",
    "from sklearn.dummy import DummyClassifier\n",
    "from tensorflow.keras.models import Sequential\n",
    "from tensorflow.keras.layers import Dense, Dropout, Flatten\n",
    "from tensorflow.keras.optimizers import RMSprop, Adam\n",
    "from tensorflow.keras.callbacks import EarlyStopping\n",
    "from tensorflow.keras.wrappers.scikit_learn import KerasClassifier"
   ]
  },
  {
   "cell_type": "markdown",
   "metadata": {},
   "source": [
    "#### Load financial news data and financial index data"
   ]
  },
  {
   "cell_type": "code",
   "execution_count": 3,
   "metadata": {},
   "outputs": [],
   "source": [
    "ONEDRIVE_PATH = Path(r\"C:\\Users\\gusta\\Kidbrooke Advisory Ab\\KidbrookeOneDrive - Gustaf Backman exjobb\")\n",
    "\n",
    "# Read the financial data\n",
    "fin_path = ONEDRIVE_PATH / \"Input Data/stock_data.pkl\"\n",
    "fin_data = pd.read_pickle(fin_path)\n",
    "# Read from 2006-10-20 for next day preds, or 10-19 for present day preds\n",
    "fin_data = fin_data.loc['2006-10-20' : '2013-11-20']\n",
    "\n",
    "news_path = ONEDRIVE_PATH / \"Input Data/financial_headlines_20061020-20131119.pkl\"\n",
    "news_data = pd.DataFrame(pd.read_pickle(news_path))\n",
    "news_data.set_index('date',inplace=True)"
   ]
  },
  {
   "cell_type": "code",
   "execution_count": 4,
   "metadata": {},
   "outputs": [
    {
     "name": "stderr",
     "output_type": "stream",
     "text": [
      "100%|█████████████████████████████████████████████████████████████████████████████| 1846/1846 [00:03<00:00, 484.73it/s]\n"
     ]
    }
   ],
   "source": [
    "news_dates = news_data.index.drop_duplicates()\n",
    "fin_dates = fin_data.index.drop_duplicates()\n",
    "\n",
    "# Find the dates which are present in both the financial data and news data\n",
    "valid_dates = []\n",
    "for date in news_dates: \n",
    "    if date in fin_data.index: \n",
    "        valid_dates.append(date)\n",
    "valid_dates.append(fin_data.index[-1]) # Add the last index in fin_data and remove after creating targets\n",
    "# Create targets for all 3 time series \n",
    "targets = pd.DataFrame(dtype='int8')\n",
    "prev_vals = fin_data.iloc[0]\n",
    "for date in tqdm(valid_dates[1:]): # The first date is fin_data.iloc[0] \n",
    "    y_temp = []\n",
    "    # If the value has increased since yesterday, y = 1\n",
    "    if prev_vals['1 YEAR'] < fin_data.loc[date]['1 YEAR']: \n",
    "        y_temp.append(1)\n",
    "    else:\n",
    "        y_temp.append(0)\n",
    "        \n",
    "    if prev_vals['3 YEAR'] < fin_data.loc[date]['3 YEAR']: \n",
    "        y_temp.append(1)\n",
    "    else:\n",
    "        y_temp.append(0)\n",
    "        \n",
    "    if prev_vals['S&P'] < fin_data.loc[date]['S&P']: \n",
    "        y_temp.append(1)\n",
    "    else:\n",
    "        y_temp.append(0)\n",
    "    targets = targets.append({'1 YEAR':y_temp[0], '3 YEAR':y_temp[1], 'S&P':y_temp[2]}, ignore_index=True)\n",
    "    prev_vals = fin_data.loc[date]\n",
    "valid_dates.remove(fin_data.index[-1]) # Remove since this date is not present in news data\n"
   ]
  },
  {
   "cell_type": "code",
   "execution_count": 5,
   "metadata": {},
   "outputs": [
    {
     "name": "stderr",
     "output_type": "stream",
     "text": [
      "100%|██████████████████████████████████████████████████████████████████████████████| 1846/1846 [00:39<00:00, 46.36it/s]"
     ]
    },
    {
     "name": "stdout",
     "output_type": "stream",
     "text": [
      "Length of texts: 1846\n",
      "Length of targets: 1846\n"
     ]
    },
    {
     "name": "stderr",
     "output_type": "stream",
     "text": [
      "\n"
     ]
    }
   ],
   "source": [
    "# Concatenate the news for each day in the valid indices, i.e. the indices that are present in both \n",
    "# the financial data and the news data \n",
    "texts = []\n",
    "for date in tqdm(valid_dates): \n",
    "    temp_texts = \"\"\n",
    "    for i,text in enumerate(news_data.loc[date]['title']): \n",
    "        if i < len(news_data.loc[date]['title']) - 1:\n",
    "            temp_texts += text + \". \"\n",
    "        else:\n",
    "            temp_texts += text\n",
    "    texts.append(temp_texts)\n",
    "texts = np.asarray(texts)\n",
    "print(\"Length of texts:\",len(texts))\n",
    "print(\"Length of targets:\",len(targets))\n",
    "n = len(targets)"
   ]
  },
  {
   "cell_type": "markdown",
   "metadata": {},
   "source": [
    "#### Format the text with tf-idf\n",
    "The texts have now been separated into entries in a arrays for training and testing. The next step is to transform these entries into vectors using TF-IDF. "
   ]
  },
  {
   "cell_type": "code",
   "execution_count": 6,
   "metadata": {},
   "outputs": [],
   "source": [
    "# Create a matrix with the frequency of a word in each day.\n",
    "count_vec = CountVectorizer(max_features=10000) # Includes only the 10000 most frequent words \n",
    "count_vec.fit(texts)\n",
    "\n",
    "x_count = count_vec.transform(texts)\n",
    "x_count = count_vec.transform(texts)\n",
    "\n",
    "# Create a matrix with the tfidf representation of the text\n",
    "tfidf_vec = TfidfTransformer()\n",
    "tfidf_vec.fit(x_count)\n",
    "x = tfidf_vec.transform(x_count)"
   ]
  },
  {
   "cell_type": "markdown",
   "metadata": {},
   "source": [
    "#### Partition into training and test set\n",
    "The data is partitioned to a training and a test set, where the distribution of labels are respected."
   ]
  },
  {
   "cell_type": "code",
   "execution_count": 7,
   "metadata": {},
   "outputs": [
    {
     "name": "stdout",
     "output_type": "stream",
     "text": [
      " ----- 1 YEAR RATE -----\n",
      "Ratio neg labels 1 year rate: 0.6885157096424702\n",
      "Neg labels: 1271 Pos labels: 575\n",
      " ----- 3 YEAR RATE -----\n",
      "Ratio neg labels 3 year rate: 0.594257854821235\n",
      "Neg labels: 1097 Pos labels: 749\n",
      " -----     S&P     -----\n",
      "Ratio neg labels S&P: 0.4647887323943662\n",
      "Neg labels: 858 Pos labels: 988\n"
     ]
    }
   ],
   "source": [
    "zero_indices_1yr = np.where(targets['1 YEAR'] == 0)[0]\n",
    "one_indices_1yr = np.where(targets['1 YEAR'] == 1)[0]\n",
    "\n",
    "zero_indices_3yr = np.where(targets['3 YEAR'] == 0)[0]\n",
    "one_indices_3yr = np.where(targets['3 YEAR'] == 1)[0]\n",
    "\n",
    "zero_indices_sp = np.where(targets['S&P'] == 0)[0]\n",
    "one_indices_sp = np.where(targets['S&P'] == 1)[0]\n",
    "\n",
    "print(\" ----- 1 YEAR RATE -----\")\n",
    "print(\"Ratio neg labels 1 year rate:\",len(zero_indices_1yr) / len(targets))\n",
    "print(\"Neg labels:\", len(zero_indices_1yr), \"Pos labels:\",len(one_indices_1yr))\n",
    "print(\" ----- 3 YEAR RATE -----\")\n",
    "print(\"Ratio neg labels 3 year rate:\",len(zero_indices_3yr) / len(targets))\n",
    "print(\"Neg labels:\", len(zero_indices_3yr), \"Pos labels:\",len(one_indices_3yr))\n",
    "print(\" -----     S&P     -----\")\n",
    "print(\"Ratio neg labels S&P:\",len(zero_indices_sp) / len(targets))\n",
    "print(\"Neg labels:\", len(zero_indices_sp), \"Pos labels:\",len(one_indices_sp))"
   ]
  },
  {
   "cell_type": "code",
   "execution_count": 8,
   "metadata": {},
   "outputs": [
    {
     "name": "stdout",
     "output_type": "stream",
     "text": [
      " ----- 1 YEAR RATE -----\n",
      "Train data shape (x,y): (1200, 10000) , (1200,)\n",
      "Train data label ratio (0 / 1): 826 / 374\n",
      "Test data shape (x,y): (646, 10000) , (646,)\n",
      "Test data label ratio (0 / 1): 445 / 201\n",
      " ----- 3 YEAR RATE -----\n",
      "Train data shape (x,y): (1200, 10000) , (1200,)\n",
      "Train data label ratio (0 / 1): 713 / 487\n",
      "Test data shape (x,y): (646, 10000) , (646,)\n",
      "Test data label ratio (0 / 1): 384 / 262\n",
      " -----     S&P     -----\n",
      "Train data shape (x,y): (1200, 10000) , (1200,)\n",
      "Train data label ratio (0 / 1): 558 / 642\n",
      "Test data shape (x,y): (646, 10000) , (646,)\n",
      "Test data label ratio (0 / 1): 300 / 346\n"
     ]
    }
   ],
   "source": [
    "n_train = 1200\n",
    "n = len(targets)\n",
    "\n",
    "np.random.shuffle(zero_indices_1yr)\n",
    "np.random.shuffle(one_indices_1yr)\n",
    "part_zeros_1yr = len(zero_indices_1yr) / n\n",
    "train_indices_1yr = np.zeros((n_train),dtype=int)\n",
    "train_indices_1yr[:round(part_zeros_1yr * n_train)] = zero_indices_1yr[:round(part_zeros_1yr * n_train)]\n",
    "train_indices_1yr[round(part_zeros_1yr * n_train):] = one_indices_1yr[:round((1 - part_zeros_1yr) * n_train)]\n",
    "np.random.shuffle(train_indices_1yr)\n",
    "# All indices not in train is in test. \n",
    "test_indices_1yr = np.setdiff1d(np.arange(len(targets)), train_indices_1yr)\n",
    "np.random.shuffle(test_indices_1yr)\n",
    "\n",
    "np.random.shuffle(zero_indices_3yr)\n",
    "np.random.shuffle(one_indices_3yr)\n",
    "part_zeros_3yr = len(zero_indices_3yr) / n\n",
    "train_indices_3yr = np.zeros((n_train),dtype=int)\n",
    "train_indices_3yr[:round(part_zeros_3yr * n_train)] = zero_indices_3yr[:round(part_zeros_3yr * n_train)]\n",
    "train_indices_3yr[round(part_zeros_3yr * n_train):] = one_indices_3yr[:round((1 - part_zeros_3yr) * n_train)]\n",
    "np.random.shuffle(train_indices_3yr)\n",
    "# All indices not in train is in test. \n",
    "test_indices_3yr = np.setdiff1d(np.arange(len(targets)), train_indices_3yr)\n",
    "np.random.shuffle(test_indices_3yr)\n",
    "\n",
    "np.random.shuffle(zero_indices_sp)\n",
    "np.random.shuffle(one_indices_sp)\n",
    "part_zeros_sp = len(zero_indices_sp) / n\n",
    "train_indices_sp = np.zeros((n_train),dtype=int)\n",
    "train_indices_sp[:round(part_zeros_sp * n_train)] = zero_indices_sp[:round(part_zeros_sp * n_train)]\n",
    "train_indices_sp[round(part_zeros_sp * n_train):] = one_indices_sp[:round((1 - part_zeros_sp) * n_train)]\n",
    "np.random.shuffle(train_indices_sp)\n",
    "# All indices not in train is in test. \n",
    "test_indices_sp = np.setdiff1d(np.arange(len(targets)), train_indices_sp)\n",
    "np.random.shuffle(test_indices_sp)\n",
    "\n",
    "texts_train_1yr = texts[train_indices_1yr]\n",
    "texts_test_1yr = texts[test_indices_1yr]\n",
    "x_train_1yr = x[train_indices_1yr]\n",
    "x_test_1yr = x[test_indices_1yr]\n",
    "y_train_1yr = targets.iloc[train_indices_1yr]['1 YEAR'].values\n",
    "y_test_1yr = targets.iloc[test_indices_1yr]['1 YEAR'].values\n",
    "\n",
    "texts_train_3yr = texts[train_indices_3yr]\n",
    "texts_test_3yr = texts[test_indices_3yr]\n",
    "x_train_3yr = x[train_indices_3yr]\n",
    "x_test_3yr = x[test_indices_3yr]\n",
    "y_train_3yr = targets.iloc[train_indices_3yr]['3 YEAR'].values\n",
    "y_test_3yr = targets.iloc[test_indices_3yr]['3 YEAR'].values\n",
    "\n",
    "texts_train_sp = texts[train_indices_sp]\n",
    "texts_test_sp = texts[test_indices_sp]\n",
    "x_train_sp = x[train_indices_sp]\n",
    "x_test_sp = x[test_indices_sp]\n",
    "y_train_sp = targets.iloc[train_indices_sp]['S&P'].values\n",
    "y_test_sp = targets.iloc[test_indices_sp]['S&P'].values\n",
    "\n",
    "# Sanity check of shapes \n",
    "\n",
    "print(\" ----- 1 YEAR RATE -----\")\n",
    "print(\"Train data shape (x,y):\",x_train_1yr.shape,\",\", y_train_1yr.shape)\n",
    "print(\"Train data label ratio (0 / 1):\",np.sum(y_train_1yr == 0),\"/\", np.sum(y_train_1yr == 1))\n",
    "print(\"Test data shape (x,y):\",x_test_1yr.shape,\",\", y_test_1yr.shape)\n",
    "print(\"Test data label ratio (0 / 1):\",np.sum(y_test_1yr == 0),\"/\", np.sum(y_test_1yr == 1))\n",
    "\n",
    "print(\" ----- 3 YEAR RATE -----\")\n",
    "print(\"Train data shape (x,y):\",x_train_3yr.shape,\",\", y_train_3yr.shape)\n",
    "print(\"Train data label ratio (0 / 1):\",np.sum(y_train_3yr == 0),\"/\", np.sum(y_train_3yr == 1))\n",
    "print(\"Test data shape (x,y):\",x_test_3yr.shape,\",\", y_test_3yr.shape)\n",
    "print(\"Test data label ratio (0 / 1):\",np.sum(y_test_3yr == 0),\"/\", np.sum(y_test_3yr == 1))\n",
    "print(\" -----     S&P     -----\")\n",
    "print(\"Train data shape (x,y):\",x_train_sp.shape,\",\", y_train_sp.shape)\n",
    "print(\"Train data label ratio (0 / 1):\",np.sum(y_train_sp == 0),\"/\", np.sum(y_train_sp == 1))\n",
    "print(\"Test data shape (x,y):\",x_test_sp.shape,\",\", y_test_sp.shape)\n",
    "print(\"Test data label ratio (0 / 1):\",np.sum(y_test_sp == 0),\"/\", np.sum(y_test_sp == 1))"
   ]
  },
  {
   "cell_type": "markdown",
   "metadata": {},
   "source": [
    "## Models \n",
    "The data has been pre-processed and the models can be evaluated. All of the models are fitted with the three data series. "
   ]
  },
  {
   "cell_type": "code",
   "execution_count": 10,
   "metadata": {},
   "outputs": [],
   "source": [
    "# Some help functions for plotting the results \n",
    "\n",
    "def plot_results(model,x_test, y_test,save=False, name=''):\n",
    "    y_test_preds = model.predict(x_test)\n",
    "    print(classification_report(y_test, y_test_preds))\n",
    "    print(\"Test accuracy:\",model.score(x_test, y_test))\n",
    "    plot_confusion_matrix(model,x_test,y_test)\n",
    "    if save:\n",
    "        plt.savefig(\"Figs TF-IDF/\" + name + \"confmat.jpg\")\n",
    "    plt.show()\n",
    "    \n",
    "def plot_results_nn(history, model,x_test, y_test,save=False, name=''):\n",
    "    plt.subplot(121)\n",
    "    plt.plot(history.history['loss'],label='Loss')\n",
    "    plt.plot(history.history['val_loss'],label='Val loss')\n",
    "    plt.legend()\n",
    "    plt.subplot(122)\n",
    "    plt.plot(history.history['acc'],label='Acc')\n",
    "    plt.plot(history.history['val_acc'],label='Val acc')\n",
    "    plt.legend()\n",
    "    if save: \n",
    "        plt.savefig(\"Figs TF-IDF/\" + name + \"history.jpg\")\n",
    "    plt.show() \n",
    "    y_test_pred = np.round(model.predict(x_test.todense()))\n",
    "    plt.subplot(121)\n",
    "    plt.bar([0,1],[np.sum(y_test == 0), np.sum(y_test == 1)], label='Actual test dist')\n",
    "    plt.legend()\n",
    "    plt.xticks([0, 1])\n",
    "    plt.subplot(122)\n",
    "    plt.bar([0,1],[np.sum(y_test_pred == 0), np.sum(y_test_pred == 1)], label='Pred test dist')\n",
    "    plt.legend()\n",
    "    plt.xticks([0, 1])\n",
    "    plt.show()\n",
    "    conf_mat = confusion_matrix(y_test,y_test_pred,normalize='pred')\n",
    "    ax = sn.heatmap(conf_mat,)\n",
    "    ax.set_ylabel(\"True values\")\n",
    "    ax.set_xlabel(\"Predicted values\")\n",
    "    if save: \n",
    "        plt.savefig(\"Figs TF-IDF/\" + name + \"confmat.jpg\")\n",
    "    plt.show()\n",
    "    print(classification_report(y_test, y_test_pred))\n",
    "    print(\"Test accuracy:\",round(np.sum(y_test == y_test_pred[:,0]) / len(y_test),3))"
   ]
  },
  {
   "cell_type": "markdown",
   "metadata": {},
   "source": [
    "### Random Classifier\n",
    "Just for real simple comparison. \n",
    "#### 1 year rate"
   ]
  },
  {
   "cell_type": "code",
   "execution_count": 11,
   "metadata": {},
   "outputs": [
    {
     "name": "stdout",
     "output_type": "stream",
     "text": [
      "              precision    recall  f1-score   support\n",
      "\n",
      "         0.0       0.67      0.68      0.67       445\n",
      "         1.0       0.26      0.25      0.25       201\n",
      "\n",
      "    accuracy                           0.54       646\n",
      "   macro avg       0.46      0.46      0.46       646\n",
      "weighted avg       0.54      0.54      0.54       646\n",
      "\n",
      "Test accuracy: 0.5526315789473685\n"
     ]
    },
    {
     "name": "stderr",
     "output_type": "stream",
     "text": [
      "C:\\ProgramData\\Anaconda3\\envs\\nlpenv\\lib\\site-packages\\sklearn\\dummy.py:132: FutureWarning: The default value of strategy will change from stratified to prior in 0.24.\n",
      "  \"stratified to prior in 0.24.\", FutureWarning)\n"
     ]
    },
    {
     "data": {
      "image/png": "[encoded data removed]",
      "text/plain": [
       "<Figure size 432x288 with 2 Axes>"
      ]
     },
     "metadata": {
      "needs_background": "light"
     },
     "output_type": "display_data"
    }
   ],
   "source": [
    "# Dummy Classifier\n",
    "dummy_clf_1yr = DummyClassifier().fit(x_train_1yr, y_train_1yr)\n",
    "plot_results(dummy_clf_1yr, x_test_1yr, y_test_1yr,save=True,name='randclf_1yr')"
   ]
  },
  {
   "cell_type": "markdown",
   "metadata": {},
   "source": [
    "#### 3 year rate"
   ]
  },
  {
   "cell_type": "code",
   "execution_count": 10,
   "metadata": {},
   "outputs": [
    {
     "name": "stdout",
     "output_type": "stream",
     "text": [
      "              precision    recall  f1-score   support\n",
      "\n",
      "         0.0       0.60      0.60      0.60       384\n",
      "         1.0       0.42      0.42      0.42       262\n",
      "\n",
      "    accuracy                           0.52       646\n",
      "   macro avg       0.51      0.51      0.51       646\n",
      "weighted avg       0.53      0.52      0.53       646\n",
      "\n",
      "Test accuracy: 0.5356037151702786\n"
     ]
    },
    {
     "data": {
      "image/png": "[encoded data removed]",
      "text/plain": [
       "<Figure size 432x288 with 2 Axes>"
      ]
     },
     "metadata": {
      "needs_background": "light"
     },
     "output_type": "display_data"
    }
   ],
   "source": [
    "# Dummy Classifier\n",
    "dummy_clf_3yr = DummyClassifier().fit(x_train_3yr, y_train_3yr)\n",
    "plot_results(dummy_clf_3yr, x_test_3yr, y_test_3yr,save=True,name='randclf_3yr')"
   ]
  },
  {
   "cell_type": "markdown",
   "metadata": {},
   "source": [
    "#### S&P"
   ]
  },
  {
   "cell_type": "code",
   "execution_count": 11,
   "metadata": {},
   "outputs": [
    {
     "name": "stdout",
     "output_type": "stream",
     "text": [
      "              precision    recall  f1-score   support\n",
      "\n",
      "         0.0       0.48      0.47      0.47       300\n",
      "         1.0       0.55      0.56      0.55       346\n",
      "\n",
      "    accuracy                           0.52       646\n",
      "   macro avg       0.51      0.51      0.51       646\n",
      "weighted avg       0.51      0.52      0.52       646\n",
      "\n",
      "Test accuracy: 0.5061919504643962\n"
     ]
    },
    {
     "data": {
      "image/png": "[encoded data removed]",
      "text/plain": [
       "<Figure size 432x288 with 2 Axes>"
      ]
     },
     "metadata": {
      "needs_background": "light"
     },
     "output_type": "display_data"
    }
   ],
   "source": [
    "# Dummy Classifier\n",
    "dummy_clf_sp = DummyClassifier().fit(x_train_sp, y_train_sp)\n",
    "plot_results(dummy_clf_sp, x_test_sp, y_test_sp,save=True,name='randclf_sp')"
   ]
  },
  {
   "cell_type": "markdown",
   "metadata": {},
   "source": [
    "### Logistic Regression with TF-IDF\n",
    "#### 1 year rate"
   ]
  },
  {
   "cell_type": "code",
   "execution_count": 12,
   "metadata": {
    "scrolled": false
   },
   "outputs": [
    {
     "name": "stdout",
     "output_type": "stream",
     "text": [
      "              precision    recall  f1-score   support\n",
      "\n",
      "         0.0       0.69      1.00      0.81       445\n",
      "         1.0       0.00      0.00      0.00       201\n",
      "\n",
      "    accuracy                           0.69       646\n",
      "   macro avg       0.34      0.50      0.41       646\n",
      "weighted avg       0.47      0.69      0.56       646\n",
      "\n",
      "Test accuracy: 0.6873065015479877\n"
     ]
    },
    {
     "data": {
      "image/png": "[encoded data removed]",
      "text/plain": [
       "<Figure size 432x288 with 2 Axes>"
      ]
     },
     "metadata": {
      "needs_background": "light"
     },
     "output_type": "display_data"
    }
   ],
   "source": [
    "# Logistic regression\n",
    "logreg_1yr = LogisticRegression(random_state=0).fit(x_train_1yr, y_train_1yr)\n",
    "plot_results(logreg_1yr,x_test_1yr, y_test_1yr,save=True,name='logreg_1yr')"
   ]
  },
  {
   "cell_type": "markdown",
   "metadata": {},
   "source": [
    "#### 3 year rate"
   ]
  },
  {
   "cell_type": "code",
   "execution_count": 13,
   "metadata": {},
   "outputs": [
    {
     "name": "stdout",
     "output_type": "stream",
     "text": [
      "              precision    recall  f1-score   support\n",
      "\n",
      "         0.0       0.60      0.94      0.73       384\n",
      "         1.0       0.46      0.07      0.13       262\n",
      "\n",
      "    accuracy                           0.59       646\n",
      "   macro avg       0.53      0.51      0.43       646\n",
      "weighted avg       0.54      0.59      0.49       646\n",
      "\n",
      "Test accuracy: 0.5897832817337462\n"
     ]
    },
    {
     "data": {
      "image/png": "[encoded data removed]",
      "text/plain": [
       "<Figure size 432x288 with 2 Axes>"
      ]
     },
     "metadata": {
      "needs_background": "light"
     },
     "output_type": "display_data"
    }
   ],
   "source": [
    "# Logistic regression\n",
    "logreg_3yr = LogisticRegression(random_state=0).fit(x_train_3yr, y_train_3yr)\n",
    "plot_results(logreg_3yr,x_test_3yr, y_test_3yr,save=True,name='logreg_3yr')"
   ]
  },
  {
   "cell_type": "markdown",
   "metadata": {},
   "source": [
    "#### S&P"
   ]
  },
  {
   "cell_type": "code",
   "execution_count": 14,
   "metadata": {},
   "outputs": [
    {
     "name": "stdout",
     "output_type": "stream",
     "text": [
      "              precision    recall  f1-score   support\n",
      "\n",
      "         0.0       0.50      0.24      0.32       300\n",
      "         1.0       0.54      0.79      0.64       346\n",
      "\n",
      "    accuracy                           0.53       646\n",
      "   macro avg       0.52      0.51      0.48       646\n",
      "weighted avg       0.52      0.53      0.50       646\n",
      "\n",
      "Test accuracy: 0.5340557275541795\n"
     ]
    },
    {
     "data": {
      "image/png": "[encoded data removed]",
      "text/plain": [
       "<Figure size 432x288 with 2 Axes>"
      ]
     },
     "metadata": {
      "needs_background": "light"
     },
     "output_type": "display_data"
    }
   ],
   "source": [
    "# Logistic regression\n",
    "logreg_sp = LogisticRegression(random_state=0).fit(x_train_sp, y_train_sp)\n",
    "plot_results(logreg_sp,x_test_sp, y_test_sp,save=True,name='logreg_sp')"
   ]
  },
  {
   "cell_type": "markdown",
   "metadata": {},
   "source": [
    "### Support Vector Machine with TF-IDF\n",
    "#### 1 year rate"
   ]
  },
  {
   "cell_type": "code",
   "execution_count": 15,
   "metadata": {},
   "outputs": [
    {
     "name": "stdout",
     "output_type": "stream",
     "text": [
      "              precision    recall  f1-score   support\n",
      "\n",
      "         0.0       0.69      1.00      0.81       445\n",
      "         1.0       0.00      0.00      0.00       201\n",
      "\n",
      "    accuracy                           0.69       646\n",
      "   macro avg       0.34      0.50      0.41       646\n",
      "weighted avg       0.47      0.69      0.56       646\n",
      "\n",
      "Test accuracy: 0.6857585139318886\n"
     ]
    },
    {
     "data": {
      "image/png": "[encoded data removed]",
      "text/plain": [
       "<Figure size 432x288 with 2 Axes>"
      ]
     },
     "metadata": {
      "needs_background": "light"
     },
     "output_type": "display_data"
    }
   ],
   "source": [
    "svm_clf_1yr = svm.SVC().fit(x_train_1yr, y_train_1yr)\n",
    "plot_results(svm_clf_1yr, x_test_1yr, y_test_1yr,save=True,name='svm_1yr')"
   ]
  },
  {
   "cell_type": "markdown",
   "metadata": {},
   "source": [
    "#### 3 year rate"
   ]
  },
  {
   "cell_type": "code",
   "execution_count": 16,
   "metadata": {
    "scrolled": false
   },
   "outputs": [
    {
     "name": "stdout",
     "output_type": "stream",
     "text": [
      "              precision    recall  f1-score   support\n",
      "\n",
      "         0.0       0.59      0.98      0.74       384\n",
      "         1.0       0.14      0.00      0.01       262\n",
      "\n",
      "    accuracy                           0.59       646\n",
      "   macro avg       0.37      0.49      0.37       646\n",
      "weighted avg       0.41      0.59      0.44       646\n",
      "\n",
      "Test accuracy: 0.586687306501548\n"
     ]
    },
    {
     "data": {
      "image/png": "[encoded data removed]",
      "text/plain": [
       "<Figure size 432x288 with 2 Axes>"
      ]
     },
     "metadata": {
      "needs_background": "light"
     },
     "output_type": "display_data"
    }
   ],
   "source": [
    "svm_clf_3yr = svm.SVC().fit(x_train_3yr, y_train_3yr)\n",
    "plot_results(svm_clf_3yr, x_test_3yr, y_test_3yr,save=True,name='svm_3yr')"
   ]
  },
  {
   "cell_type": "markdown",
   "metadata": {},
   "source": [
    "#### S&P"
   ]
  },
  {
   "cell_type": "code",
   "execution_count": 17,
   "metadata": {},
   "outputs": [
    {
     "name": "stdout",
     "output_type": "stream",
     "text": [
      "              precision    recall  f1-score   support\n",
      "\n",
      "         0.0       0.53      0.10      0.16       300\n",
      "         1.0       0.54      0.92      0.68       346\n",
      "\n",
      "    accuracy                           0.54       646\n",
      "   macro avg       0.53      0.51      0.42       646\n",
      "weighted avg       0.53      0.54      0.44       646\n",
      "\n",
      "Test accuracy: 0.5402476780185759\n"
     ]
    },
    {
     "data": {
      "image/png": "[encoded data removed]",
      "text/plain": [
       "<Figure size 432x288 with 2 Axes>"
      ]
     },
     "metadata": {
      "needs_background": "light"
     },
     "output_type": "display_data"
    }
   ],
   "source": [
    "svm_clf_sp = svm.SVC().fit(x_train_sp, y_train_sp)\n",
    "plot_results(svm_clf_sp, x_test_sp, y_test_sp,save=True,name='svm_sp')"
   ]
  },
  {
   "cell_type": "markdown",
   "metadata": {},
   "source": [
    "### Random Forest with TF-IDF\n",
    "#### 1 year rate"
   ]
  },
  {
   "cell_type": "code",
   "execution_count": 81,
   "metadata": {},
   "outputs": [
    {
     "name": "stdout",
     "output_type": "stream",
     "text": [
      "Fitting 10 folds for each of 12 candidates, totalling 120 fits\n"
     ]
    },
    {
     "name": "stderr",
     "output_type": "stream",
     "text": [
      "[Parallel(n_jobs=-1)]: Using backend ThreadingBackend with 8 concurrent workers.\n",
      "[Parallel(n_jobs=-1)]: Done  34 tasks      | elapsed:  1.1min\n",
      "[Parallel(n_jobs=-1)]: Done 120 out of 120 | elapsed:  3.9min finished\n"
     ]
    },
    {
     "name": "stdout",
     "output_type": "stream",
     "text": [
      "Best: 0.688333 using {'max_depth': None, 'n_estimators': 1000}\n",
      "0.686667 (0.005528) with: {'max_depth': None, 'n_estimators': 250}\n",
      "0.687500 (0.005590) with: {'max_depth': None, 'n_estimators': 500}\n",
      "0.687500 (0.004167) with: {'max_depth': None, 'n_estimators': 750}\n",
      "0.688333 (0.004082) with: {'max_depth': None, 'n_estimators': 1000}\n",
      "0.686667 (0.005528) with: {'max_depth': 50, 'n_estimators': 250}\n",
      "0.687500 (0.005590) with: {'max_depth': 50, 'n_estimators': 500}\n",
      "0.688333 (0.004082) with: {'max_depth': 50, 'n_estimators': 750}\n",
      "0.688333 (0.004082) with: {'max_depth': 50, 'n_estimators': 1000}\n",
      "0.688333 (0.004082) with: {'max_depth': 100, 'n_estimators': 250}\n",
      "0.688333 (0.004082) with: {'max_depth': 100, 'n_estimators': 500}\n",
      "0.688333 (0.004082) with: {'max_depth': 100, 'n_estimators': 750}\n",
      "0.688333 (0.004082) with: {'max_depth': 100, 'n_estimators': 1000}\n"
     ]
    },
    {
     "name": "stderr",
     "output_type": "stream",
     "text": [
      "C:\\ProgramData\\Anaconda3\\envs\\nlpenv\\lib\\site-packages\\sklearn\\metrics\\_classification.py:1272: UndefinedMetricWarning: Precision and F-score are ill-defined and being set to 0.0 in labels with no predicted samples. Use `zero_division` parameter to control this behavior.\n",
      "  _warn_prf(average, modifier, msg_start, len(result))\n"
     ]
    },
    {
     "name": "stdout",
     "output_type": "stream",
     "text": [
      "              precision    recall  f1-score   support\n",
      "\n",
      "         0.0       0.69      1.00      0.82       445\n",
      "         1.0       0.00      0.00      0.00       201\n",
      "\n",
      "    accuracy                           0.69       646\n",
      "   macro avg       0.34      0.50      0.41       646\n",
      "weighted avg       0.47      0.69      0.56       646\n",
      "\n",
      "Test accuracy: 0.6888544891640866\n"
     ]
    },
    {
     "data": {
      "image/png": "[encoded data removed]",
      "text/plain": [
       "<Figure size 432x288 with 2 Axes>"
      ]
     },
     "metadata": {
      "needs_background": "light"
     },
     "output_type": "display_data"
    }
   ],
   "source": [
    "# Random Forest\n",
    "rf_param_grid = dict(max_depth=[None, 50, 100],\n",
    "                  n_estimators=[250, 500, 750, 1000, 1250, 1500, 1750, 2000])\n",
    "rf_grid = GridSearchCV(estimator=RandomForestClassifier(), \n",
    "                       param_grid=rf_param_grid, \n",
    "                       n_jobs=-1, \n",
    "                       cv=10, \n",
    "                       verbose=1)\n",
    "with parallel_backend('threading'):    # This is a bug work-around mentioned in https://github.com/scikit-learn/scikit-learn/issues/12546\n",
    "    rf_grid_result = rf_grid.fit(x_train_1yr, y_train_1yr)\n",
    "# summarize results\n",
    "print(\"Best: %f using %s\" % (rf_grid_result.best_score_, rf_grid_result.best_params_))\n",
    "rf_means = rf_grid_result.cv_results_['mean_test_score']\n",
    "rf_stds = rf_grid_result.cv_results_['std_test_score']\n",
    "rf_params = rf_grid_result.cv_results_['params']\n",
    "for mean, stdev, param in zip(rf_means, rf_stds, rf_params):\n",
    "    print(\"%f (%f) with: %r\" % (mean, stdev, param))\n",
    "\n",
    "# Fit the model with the best parameters found in the cross validation. \n",
    "randomforest_1yr = RandomForestClassifier(max_depth=rf_grid_result.best_params_['max_depth'],\n",
    "                                      n_estimators=rf_grid_result.best_params_['n_estimators']).fit(x_train_1yr, y_train_1yr)\n",
    "plot_results(randomforest_1yr,x_test_1yr, y_test_1yr,save=True,name='rf_1yr_md{}_est_{}'.format(rf_grid_result.best_params_['max_depth'],\n",
    "                                                                                rf_grid_result.best_params_['n_estimators']))"
   ]
  },
  {
   "cell_type": "markdown",
   "metadata": {},
   "source": [
    "#### 3 year rate"
   ]
  },
  {
   "cell_type": "code",
   "execution_count": 82,
   "metadata": {
    "scrolled": true
   },
   "outputs": [
    {
     "name": "stdout",
     "output_type": "stream",
     "text": [
      "Fitting 10 folds for each of 12 candidates, totalling 120 fits\n"
     ]
    },
    {
     "name": "stderr",
     "output_type": "stream",
     "text": [
      "[Parallel(n_jobs=-1)]: Using backend ThreadingBackend with 8 concurrent workers.\n",
      "[Parallel(n_jobs=-1)]: Done  34 tasks      | elapsed:  1.2min\n",
      "[Parallel(n_jobs=-1)]: Done 120 out of 120 | elapsed:  4.3min finished\n"
     ]
    },
    {
     "name": "stdout",
     "output_type": "stream",
     "text": [
      "Best: 0.595833 using {'max_depth': 50, 'n_estimators': 750}\n",
      "0.593333 (0.012802) with: {'max_depth': None, 'n_estimators': 250}\n",
      "0.591667 (0.014907) with: {'max_depth': None, 'n_estimators': 500}\n",
      "0.591667 (0.010541) with: {'max_depth': None, 'n_estimators': 750}\n",
      "0.593333 (0.009718) with: {'max_depth': None, 'n_estimators': 1000}\n",
      "0.586667 (0.017951) with: {'max_depth': 50, 'n_estimators': 250}\n",
      "0.589167 (0.009167) with: {'max_depth': 50, 'n_estimators': 500}\n",
      "0.595833 (0.006719) with: {'max_depth': 50, 'n_estimators': 750}\n",
      "0.595000 (0.004082) with: {'max_depth': 50, 'n_estimators': 1000}\n",
      "0.588333 (0.020480) with: {'max_depth': 100, 'n_estimators': 250}\n",
      "0.586667 (0.012472) with: {'max_depth': 100, 'n_estimators': 500}\n",
      "0.595000 (0.011304) with: {'max_depth': 100, 'n_estimators': 750}\n",
      "0.590833 (0.008700) with: {'max_depth': 100, 'n_estimators': 1000}\n",
      "              precision    recall  f1-score   support\n",
      "\n",
      "         0.0       0.59      0.98      0.74       384\n",
      "         1.0       0.14      0.00      0.01       262\n",
      "\n",
      "    accuracy                           0.59       646\n",
      "   macro avg       0.37      0.49      0.37       646\n",
      "weighted avg       0.41      0.59      0.44       646\n",
      "\n",
      "Test accuracy: 0.586687306501548\n"
     ]
    },
    {
     "data": {
      "image/png": "[encoded data removed]",
      "text/plain": [
       "<Figure size 432x288 with 2 Axes>"
      ]
     },
     "metadata": {
      "needs_background": "light"
     },
     "output_type": "display_data"
    }
   ],
   "source": [
    "# Random Forest\n",
    "rf_param_grid = dict(max_depth=[None, 50, 100],\n",
    "                  n_estimators=[250, 500, 750, 1000, 1250, 1500, 1750, 2000])\n",
    "rf_grid = GridSearchCV(estimator=RandomForestClassifier(), \n",
    "                       param_grid=rf_param_grid, \n",
    "                       n_jobs=-1, \n",
    "                       cv=10, \n",
    "                       verbose=1)\n",
    "with parallel_backend('threading'):    # This is a bug work-around mentioned in https://github.com/scikit-learn/scikit-learn/issues/12546\n",
    "    rf_grid_result = rf_grid.fit(x_train_3yr, y_train_3yr)\n",
    "# summarize results\n",
    "print(\"Best: %f using %s\" % (rf_grid_result.best_score_, rf_grid_result.best_params_))\n",
    "rf_means = rf_grid_result.cv_results_['mean_test_score']\n",
    "rf_stds = rf_grid_result.cv_results_['std_test_score']\n",
    "rf_params = rf_grid_result.cv_results_['params']\n",
    "for mean, stdev, param in zip(rf_means, rf_stds, rf_params):\n",
    "    print(\"%f (%f) with: %r\" % (mean, stdev, param))\n",
    "\n",
    "# Fit the model with the best parameters found in the cross validation. \n",
    "randomforest_3yr = RandomForestClassifier(max_depth=rf_grid_result.best_params_['max_depth'],\n",
    "                                      n_estimators=rf_grid_result.best_params_['n_estimators']).fit(x_train_3yr, y_train_3yr)\n",
    "plot_results(randomforest_3yr,x_test_3yr, y_test_3yr,save=True,name='rf_3yr_md{}_est_{}'.format(rf_grid_result.best_params_['max_depth'],\n",
    "                                                                                rf_grid_result.best_params_['n_estimators']))"
   ]
  },
  {
   "cell_type": "markdown",
   "metadata": {},
   "source": [
    "#### S&P"
   ]
  },
  {
   "cell_type": "code",
   "execution_count": 83,
   "metadata": {
    "scrolled": false
   },
   "outputs": [
    {
     "name": "stdout",
     "output_type": "stream",
     "text": [
      "Fitting 10 folds for each of 12 candidates, totalling 120 fits\n"
     ]
    },
    {
     "name": "stderr",
     "output_type": "stream",
     "text": [
      "[Parallel(n_jobs=-1)]: Using backend ThreadingBackend with 8 concurrent workers.\n",
      "[Parallel(n_jobs=-1)]: Done  34 tasks      | elapsed:  1.3min\n",
      "[Parallel(n_jobs=-1)]: Done 120 out of 120 | elapsed:  4.5min finished\n"
     ]
    },
    {
     "name": "stdout",
     "output_type": "stream",
     "text": [
      "Best: 0.533333 using {'max_depth': None, 'n_estimators': 1000}\n",
      "0.524167 (0.055334) with: {'max_depth': None, 'n_estimators': 250}\n",
      "0.517500 (0.033634) with: {'max_depth': None, 'n_estimators': 500}\n",
      "0.528333 (0.030092) with: {'max_depth': None, 'n_estimators': 750}\n",
      "0.533333 (0.035940) with: {'max_depth': None, 'n_estimators': 1000}\n",
      "0.530000 (0.032956) with: {'max_depth': 50, 'n_estimators': 250}\n",
      "0.519167 (0.029119) with: {'max_depth': 50, 'n_estimators': 500}\n",
      "0.525000 (0.015811) with: {'max_depth': 50, 'n_estimators': 750}\n",
      "0.528333 (0.024777) with: {'max_depth': 50, 'n_estimators': 1000}\n",
      "0.504167 (0.041374) with: {'max_depth': 100, 'n_estimators': 250}\n",
      "0.527500 (0.038197) with: {'max_depth': 100, 'n_estimators': 500}\n",
      "0.520833 (0.036372) with: {'max_depth': 100, 'n_estimators': 750}\n",
      "0.526667 (0.035316) with: {'max_depth': 100, 'n_estimators': 1000}\n",
      "              precision    recall  f1-score   support\n",
      "\n",
      "         0.0       0.50      0.23      0.32       300\n",
      "         1.0       0.55      0.80      0.65       346\n",
      "\n",
      "    accuracy                           0.54       646\n",
      "   macro avg       0.52      0.52      0.48       646\n",
      "weighted avg       0.52      0.54      0.49       646\n",
      "\n",
      "Test accuracy: 0.5356037151702786\n"
     ]
    },
    {
     "data": {
      "image/png": "[encoded data removed]",
      "text/plain": [
       "<Figure size 432x288 with 2 Axes>"
      ]
     },
     "metadata": {
      "needs_background": "light"
     },
     "output_type": "display_data"
    }
   ],
   "source": [
    "# Random Forest\n",
    "rf_param_grid = dict(max_depth=[None, 50, 100],\n",
    "                  n_estimators=[250, 500, 750, 1000, 1250, 1500, 1750, 2000])\n",
    "rf_grid = GridSearchCV(estimator=RandomForestClassifier(), \n",
    "                       param_grid=rf_param_grid, \n",
    "                       n_jobs=-1, \n",
    "                       cv=10, \n",
    "                       verbose=1)\n",
    "with parallel_backend('threading'):    # This is a bug work-around mentioned in https://github.com/scikit-learn/scikit-learn/issues/12546\n",
    "    rf_grid_result = rf_grid.fit(x_train_sp, y_train_sp)\n",
    "# summarize results\n",
    "print(\"Best: %f using %s\" % (rf_grid_result.best_score_, rf_grid_result.best_params_))\n",
    "rf_means = rf_grid_result.cv_results_['mean_test_score']\n",
    "rf_stds = rf_grid_result.cv_results_['std_test_score']\n",
    "rf_params = rf_grid_result.cv_results_['params']\n",
    "for mean, stdev, param in zip(rf_means, rf_stds, rf_params):\n",
    "    print(\"%f (%f) with: %r\" % (mean, stdev, param))\n",
    "\n",
    "# Fit the model with the best parameters found in the cross validation. \n",
    "randomforest_sp = RandomForestClassifier(max_depth=rf_grid_result.best_params_['max_depth'],\n",
    "                                      n_estimators=rf_grid_result.best_params_['n_estimators']).fit(x_train_sp, y_train_sp)\n",
    "plot_results(randomforest_sp,x_test_sp, y_test_sp,save=True,name='rf_sp_md{}_est_{}'.format(rf_grid_result.best_params_['max_depth'],\n",
    "                                                                                rf_grid_result.best_params_['n_estimators']))"
   ]
  },
  {
   "cell_type": "markdown",
   "metadata": {},
   "source": [
    "### Neural Network"
   ]
  },
  {
   "cell_type": "code",
   "execution_count": 12,
   "metadata": {},
   "outputs": [],
   "source": [
    "def create_model(nodes1=100, nodes2=50, dropout_rate=0.3, optimizer='rmsprop', learning_rate=0.001):\n",
    "    if optimizer.lower() == 'rmsprop': \n",
    "        optimizer = RMSprop(learning_rate = learning_rate)\n",
    "    elif optimizer.lower() == 'adam':\n",
    "        optimizer = Adam(learning_rate = learning_rate)\n",
    "    model = Sequential() \n",
    "    if nodes1 == 0: \n",
    "        model.add(Dense(1, input_shape=x_train_1yr.shape[1:], activation='sigmoid'))\n",
    "        model.compile(optimizer=optimizer, loss='binary_crossentropy', metrics=['acc'])\n",
    "        return model \n",
    "    model.add(Dense(nodes1, input_shape=x_train_1yr.shape[1:]))\n",
    "    model.add(Dropout(dropout_rate))\n",
    "    if nodes2 == 0: \n",
    "        model.add(Dense(1, activation='sigmoid'))\n",
    "        model.compile(optimizer=optimizer, loss='binary_crossentropy', metrics=['acc'])\n",
    "        return model\n",
    "    model.add(Dense(nodes2))\n",
    "    model.add(Dropout(dropout_rate))\n",
    "    model.add(Dense(1, activation='sigmoid'))\n",
    "    model.compile(optimizer=optimizer, loss='binary_crossentropy', metrics=['acc'])\n",
    "    return model \n",
    "\n",
    "def randomize_params(params, n):\n",
    "    test_params = []\n",
    "    for i in range(n):\n",
    "        temp_par = {}\n",
    "        while True: \n",
    "            for par in params: \n",
    "                temp_par.update({par: np.random.choice(params[par])})\n",
    "            if temp_par not in test_params: \n",
    "                test_params.append(temp_par)\n",
    "                break\n",
    "    return test_params"
   ]
  },
  {
   "cell_type": "code",
   "execution_count": null,
   "metadata": {},
   "outputs": [],
   "source": [
    "n_tests = 50\n",
    "# Define possible parameters \n",
    "possible_params = dict(batch_size = [8, 16, 32],\n",
    "                       nodes1 = [50, 100, 250, 500],\n",
    "                       nodes2 = [0, 50, 100, 250, 500], # 0 implies only one hidden layer \n",
    "                       dropout_rate = [0.1, 0.3, 0.5],\n",
    "                       learning_rate = [1e-3, 1e-4, 1e-5],\n",
    "                       optimizer = ['RMSprop','Adam'])\n",
    "test_params = randomize_params(possible_params, n_tests)"
   ]
  },
  {
   "cell_type": "markdown",
   "metadata": {},
   "source": [
    "#### 1 year rate"
   ]
  },
  {
   "cell_type": "code",
   "execution_count": 16,
   "metadata": {
    "scrolled": true
   },
   "outputs": [
    {
     "name": "stdout",
     "output_type": "stream",
     "text": [
      "Fitting 3 folds for each of 10 candidates, totalling 30 fits\n",
      "[CV] optimizer=Adam, nodes2=50, nodes1=50, learning_rate=1e-05, epochs=5, dropout_rate=0.5, batch_size=32 \n"
     ]
    },
    {
     "name": "stderr",
     "output_type": "stream",
     "text": [
      "[Parallel(n_jobs=1)]: Using backend SequentialBackend with 1 concurrent workers.\n"
     ]
    },
    {
     "name": "stdout",
     "output_type": "stream",
     "text": [
      "[CV]  optimizer=Adam, nodes2=50, nodes1=50, learning_rate=1e-05, epochs=5, dropout_rate=0.5, batch_size=32, score=0.677, total=  19.1s\n",
      "[CV] optimizer=Adam, nodes2=50, nodes1=50, learning_rate=1e-05, epochs=5, dropout_rate=0.5, batch_size=32 \n"
     ]
    },
    {
     "name": "stderr",
     "output_type": "stream",
     "text": [
      "[Parallel(n_jobs=1)]: Done   1 out of   1 | elapsed:   19.0s remaining:    0.0s\n"
     ]
    },
    {
     "name": "stdout",
     "output_type": "stream",
     "text": [
      "[CV]  optimizer=Adam, nodes2=50, nodes1=50, learning_rate=1e-05, epochs=5, dropout_rate=0.5, batch_size=32, score=0.690, total=  20.0s\n",
      "[CV] optimizer=Adam, nodes2=50, nodes1=50, learning_rate=1e-05, epochs=5, dropout_rate=0.5, batch_size=32 \n"
     ]
    },
    {
     "name": "stderr",
     "output_type": "stream",
     "text": [
      "[Parallel(n_jobs=1)]: Done   2 out of   2 | elapsed:   39.0s remaining:    0.0s\n"
     ]
    },
    {
     "name": "stdout",
     "output_type": "stream",
     "text": [
      "[CV]  optimizer=Adam, nodes2=50, nodes1=50, learning_rate=1e-05, epochs=5, dropout_rate=0.5, batch_size=32, score=0.693, total=  22.9s\n",
      "[CV] optimizer=RMSprop, nodes2=250, nodes1=50, learning_rate=1e-05, epochs=5, dropout_rate=0.1, batch_size=32 \n"
     ]
    },
    {
     "name": "stderr",
     "output_type": "stream",
     "text": [
      "[Parallel(n_jobs=1)]: Done   3 out of   3 | elapsed:  1.0min remaining:    0.0s\n"
     ]
    },
    {
     "name": "stdout",
     "output_type": "stream",
     "text": [
      "[CV]  optimizer=RMSprop, nodes2=250, nodes1=50, learning_rate=1e-05, epochs=5, dropout_rate=0.1, batch_size=32, score=0.677, total=  23.3s\n",
      "[CV] optimizer=RMSprop, nodes2=250, nodes1=50, learning_rate=1e-05, epochs=5, dropout_rate=0.1, batch_size=32 \n"
     ]
    },
    {
     "name": "stderr",
     "output_type": "stream",
     "text": [
      "[Parallel(n_jobs=1)]: Done   4 out of   4 | elapsed:  1.4min remaining:    0.0s\n"
     ]
    },
    {
     "name": "stdout",
     "output_type": "stream",
     "text": [
      "[CV]  optimizer=RMSprop, nodes2=250, nodes1=50, learning_rate=1e-05, epochs=5, dropout_rate=0.1, batch_size=32, score=0.690, total=  25.7s\n",
      "[CV] optimizer=RMSprop, nodes2=250, nodes1=50, learning_rate=1e-05, epochs=5, dropout_rate=0.1, batch_size=32 \n"
     ]
    },
    {
     "name": "stderr",
     "output_type": "stream",
     "text": [
      "[Parallel(n_jobs=1)]: Done   5 out of   5 | elapsed:  1.9min remaining:    0.0s\n"
     ]
    },
    {
     "name": "stdout",
     "output_type": "stream",
     "text": [
      "[CV]  optimizer=RMSprop, nodes2=250, nodes1=50, learning_rate=1e-05, epochs=5, dropout_rate=0.1, batch_size=32, score=0.698, total=  26.6s\n",
      "[CV] optimizer=RMSprop, nodes2=250, nodes1=500, learning_rate=0.001, epochs=5, dropout_rate=0.5, batch_size=8 \n"
     ]
    },
    {
     "name": "stderr",
     "output_type": "stream",
     "text": [
      "[Parallel(n_jobs=1)]: Done   6 out of   6 | elapsed:  2.3min remaining:    0.0s\n"
     ]
    },
    {
     "name": "stdout",
     "output_type": "stream",
     "text": [
      "[CV]  optimizer=RMSprop, nodes2=250, nodes1=500, learning_rate=0.001, epochs=5, dropout_rate=0.5, batch_size=8, score=0.608, total=  49.1s\n",
      "[CV] optimizer=RMSprop, nodes2=250, nodes1=500, learning_rate=0.001, epochs=5, dropout_rate=0.5, batch_size=8 \n"
     ]
    },
    {
     "name": "stderr",
     "output_type": "stream",
     "text": [
      "[Parallel(n_jobs=1)]: Done   7 out of   7 | elapsed:  3.1min remaining:    0.0s\n"
     ]
    },
    {
     "name": "stdout",
     "output_type": "stream",
     "text": [
      "[CV]  optimizer=RMSprop, nodes2=250, nodes1=500, learning_rate=0.001, epochs=5, dropout_rate=0.5, batch_size=8, score=0.620, total=  49.3s\n",
      "[CV] optimizer=RMSprop, nodes2=250, nodes1=500, learning_rate=0.001, epochs=5, dropout_rate=0.5, batch_size=8 \n"
     ]
    },
    {
     "name": "stderr",
     "output_type": "stream",
     "text": [
      "[Parallel(n_jobs=1)]: Done   8 out of   8 | elapsed:  3.9min remaining:    0.0s\n"
     ]
    },
    {
     "name": "stdout",
     "output_type": "stream",
     "text": [
      "[CV]  optimizer=RMSprop, nodes2=250, nodes1=500, learning_rate=0.001, epochs=5, dropout_rate=0.5, batch_size=8, score=0.670, total=  56.3s\n",
      "[CV] optimizer=RMSprop, nodes2=250, nodes1=100, learning_rate=1e-05, epochs=5, dropout_rate=0.3, batch_size=32 \n"
     ]
    },
    {
     "name": "stderr",
     "output_type": "stream",
     "text": [
      "[Parallel(n_jobs=1)]: Done   9 out of   9 | elapsed:  4.9min remaining:    0.0s\n"
     ]
    },
    {
     "name": "stdout",
     "output_type": "stream",
     "text": [
      "[CV]  optimizer=RMSprop, nodes2=250, nodes1=100, learning_rate=1e-05, epochs=5, dropout_rate=0.3, batch_size=32, score=0.677, total=  43.6s\n",
      "[CV] optimizer=RMSprop, nodes2=250, nodes1=100, learning_rate=1e-05, epochs=5, dropout_rate=0.3, batch_size=32 \n",
      "[CV]  optimizer=RMSprop, nodes2=250, nodes1=100, learning_rate=1e-05, epochs=5, dropout_rate=0.3, batch_size=32, score=0.690, total=  50.2s\n",
      "[CV] optimizer=RMSprop, nodes2=250, nodes1=100, learning_rate=1e-05, epochs=5, dropout_rate=0.3, batch_size=32 \n",
      "[CV]  optimizer=RMSprop, nodes2=250, nodes1=100, learning_rate=1e-05, epochs=5, dropout_rate=0.3, batch_size=32, score=0.698, total=  58.0s\n",
      "[CV] optimizer=Adam, nodes2=0, nodes1=50, learning_rate=0.0001, epochs=5, dropout_rate=0.5, batch_size=16 \n",
      "[CV]  optimizer=Adam, nodes2=0, nodes1=50, learning_rate=0.0001, epochs=5, dropout_rate=0.5, batch_size=16, score=0.677, total= 1.0min\n",
      "[CV] optimizer=Adam, nodes2=0, nodes1=50, learning_rate=0.0001, epochs=5, dropout_rate=0.5, batch_size=16 \n",
      "[CV]  optimizer=Adam, nodes2=0, nodes1=50, learning_rate=0.0001, epochs=5, dropout_rate=0.5, batch_size=16, score=0.690, total= 1.1min\n",
      "[CV] optimizer=Adam, nodes2=0, nodes1=50, learning_rate=0.0001, epochs=5, dropout_rate=0.5, batch_size=16 \n",
      "[CV]  optimizer=Adam, nodes2=0, nodes1=50, learning_rate=0.0001, epochs=5, dropout_rate=0.5, batch_size=16, score=0.698, total= 1.3min\n",
      "[CV] optimizer=Adam, nodes2=0, nodes1=500, learning_rate=1e-05, epochs=5, dropout_rate=0.5, batch_size=8 \n",
      "[CV]  optimizer=Adam, nodes2=0, nodes1=500, learning_rate=1e-05, epochs=5, dropout_rate=0.5, batch_size=8, score=0.677, total= 1.5min\n",
      "[CV] optimizer=Adam, nodes2=0, nodes1=500, learning_rate=1e-05, epochs=5, dropout_rate=0.5, batch_size=8 \n",
      "[CV]  optimizer=Adam, nodes2=0, nodes1=500, learning_rate=1e-05, epochs=5, dropout_rate=0.5, batch_size=8, score=0.690, total= 1.6min\n",
      "[CV] optimizer=Adam, nodes2=0, nodes1=500, learning_rate=1e-05, epochs=5, dropout_rate=0.5, batch_size=8 \n",
      "[CV]  optimizer=Adam, nodes2=0, nodes1=500, learning_rate=1e-05, epochs=5, dropout_rate=0.5, batch_size=8, score=0.698, total= 1.6min\n",
      "[CV] optimizer=RMSprop, nodes2=0, nodes1=500, learning_rate=0.001, epochs=5, dropout_rate=0.3, batch_size=32 \n",
      "[CV]  optimizer=RMSprop, nodes2=0, nodes1=500, learning_rate=0.001, epochs=5, dropout_rate=0.3, batch_size=32, score=0.650, total= 1.6min\n",
      "[CV] optimizer=RMSprop, nodes2=0, nodes1=500, learning_rate=0.001, epochs=5, dropout_rate=0.3, batch_size=32 \n",
      "[CV]  optimizer=RMSprop, nodes2=0, nodes1=500, learning_rate=0.001, epochs=5, dropout_rate=0.3, batch_size=32, score=0.655, total= 1.7min\n",
      "[CV] optimizer=RMSprop, nodes2=0, nodes1=500, learning_rate=0.001, epochs=5, dropout_rate=0.3, batch_size=32 \n",
      "[CV]  optimizer=RMSprop, nodes2=0, nodes1=500, learning_rate=0.001, epochs=5, dropout_rate=0.3, batch_size=32, score=0.675, total= 1.9min\n",
      "[CV] optimizer=RMSprop, nodes2=0, nodes1=50, learning_rate=1e-05, epochs=5, dropout_rate=0.5, batch_size=16 \n",
      "[CV]  optimizer=RMSprop, nodes2=0, nodes1=50, learning_rate=1e-05, epochs=5, dropout_rate=0.5, batch_size=16, score=0.677, total= 1.9min\n",
      "[CV] optimizer=RMSprop, nodes2=0, nodes1=50, learning_rate=1e-05, epochs=5, dropout_rate=0.5, batch_size=16 \n",
      "[CV]  optimizer=RMSprop, nodes2=0, nodes1=50, learning_rate=1e-05, epochs=5, dropout_rate=0.5, batch_size=16, score=0.690, total= 2.0min\n",
      "[CV] optimizer=RMSprop, nodes2=0, nodes1=50, learning_rate=1e-05, epochs=5, dropout_rate=0.5, batch_size=16 \n",
      "[CV]  optimizer=RMSprop, nodes2=0, nodes1=50, learning_rate=1e-05, epochs=5, dropout_rate=0.5, batch_size=16, score=0.698, total= 2.1min\n",
      "[CV] optimizer=Adam, nodes2=50, nodes1=500, learning_rate=0.0001, epochs=5, dropout_rate=0.5, batch_size=16 \n",
      "[CV]  optimizer=Adam, nodes2=50, nodes1=500, learning_rate=0.0001, epochs=5, dropout_rate=0.5, batch_size=16, score=0.677, total= 2.2min\n",
      "[CV] optimizer=Adam, nodes2=50, nodes1=500, learning_rate=0.0001, epochs=5, dropout_rate=0.5, batch_size=16 \n",
      "[CV]  optimizer=Adam, nodes2=50, nodes1=500, learning_rate=0.0001, epochs=5, dropout_rate=0.5, batch_size=16, score=0.690, total= 2.4min\n",
      "[CV] optimizer=Adam, nodes2=50, nodes1=500, learning_rate=0.0001, epochs=5, dropout_rate=0.5, batch_size=16 \n",
      "[CV]  optimizer=Adam, nodes2=50, nodes1=500, learning_rate=0.0001, epochs=5, dropout_rate=0.5, batch_size=16, score=0.698, total= 2.4min\n",
      "[CV] optimizer=Adam, nodes2=50, nodes1=50, learning_rate=0.0001, epochs=5, dropout_rate=0.1, batch_size=32 \n",
      "[CV]  optimizer=Adam, nodes2=50, nodes1=50, learning_rate=0.0001, epochs=5, dropout_rate=0.1, batch_size=32, score=0.677, total= 2.4min\n",
      "[CV] optimizer=Adam, nodes2=50, nodes1=50, learning_rate=0.0001, epochs=5, dropout_rate=0.1, batch_size=32 \n",
      "[CV]  optimizer=Adam, nodes2=50, nodes1=50, learning_rate=0.0001, epochs=5, dropout_rate=0.1, batch_size=32, score=0.690, total= 2.6min\n",
      "[CV] optimizer=Adam, nodes2=50, nodes1=50, learning_rate=0.0001, epochs=5, dropout_rate=0.1, batch_size=32 \n",
      "[CV]  optimizer=Adam, nodes2=50, nodes1=50, learning_rate=0.0001, epochs=5, dropout_rate=0.1, batch_size=32, score=0.698, total= 2.7min\n"
     ]
    },
    {
     "name": "stderr",
     "output_type": "stream",
     "text": [
      "[Parallel(n_jobs=1)]: Done  30 out of  30 | elapsed: 41.3min finished\n"
     ]
    },
    {
     "name": "stdout",
     "output_type": "stream",
     "text": [
      "Best: 0.688333 using {'optimizer': 'RMSprop', 'nodes2': 250, 'nodes1': 50, 'learning_rate': 1e-05, 'epochs': 5, 'dropout_rate': 0.1, 'batch_size': 32}\n",
      "0.686667 (0.006562) with: {'optimizer': 'Adam', 'nodes2': 50, 'nodes1': 50, 'learning_rate': 1e-05, 'epochs': 5, 'dropout_rate': 0.5, 'batch_size': 32}\n",
      "0.688333 (0.008250) with: {'optimizer': 'RMSprop', 'nodes2': 250, 'nodes1': 50, 'learning_rate': 1e-05, 'epochs': 5, 'dropout_rate': 0.1, 'batch_size': 32}\n",
      "0.632500 (0.027003) with: {'optimizer': 'RMSprop', 'nodes2': 250, 'nodes1': 500, 'learning_rate': 0.001, 'epochs': 5, 'dropout_rate': 0.5, 'batch_size': 8}\n",
      "0.688333 (0.008250) with: {'optimizer': 'RMSprop', 'nodes2': 250, 'nodes1': 100, 'learning_rate': 1e-05, 'epochs': 5, 'dropout_rate': 0.3, 'batch_size': 32}\n",
      "0.688333 (0.008250) with: {'optimizer': 'Adam', 'nodes2': 0, 'nodes1': 50, 'learning_rate': 0.0001, 'epochs': 5, 'dropout_rate': 0.5, 'batch_size': 16}\n",
      "0.688333 (0.008250) with: {'optimizer': 'Adam', 'nodes2': 0, 'nodes1': 500, 'learning_rate': 1e-05, 'epochs': 5, 'dropout_rate': 0.5, 'batch_size': 8}\n",
      "0.660000 (0.010801) with: {'optimizer': 'RMSprop', 'nodes2': 0, 'nodes1': 500, 'learning_rate': 0.001, 'epochs': 5, 'dropout_rate': 0.3, 'batch_size': 32}\n",
      "0.688333 (0.008250) with: {'optimizer': 'RMSprop', 'nodes2': 0, 'nodes1': 50, 'learning_rate': 1e-05, 'epochs': 5, 'dropout_rate': 0.5, 'batch_size': 16}\n",
      "0.688333 (0.008250) with: {'optimizer': 'Adam', 'nodes2': 50, 'nodes1': 500, 'learning_rate': 0.0001, 'epochs': 5, 'dropout_rate': 0.5, 'batch_size': 16}\n",
      "0.688333 (0.008250) with: {'optimizer': 'Adam', 'nodes2': 50, 'nodes1': 50, 'learning_rate': 0.0001, 'epochs': 5, 'dropout_rate': 0.1, 'batch_size': 32}\n",
      "Train on 960 samples, validate on 240 samples\n",
      "Epoch 1/20\n",
      "960/960 [==============================] - 107s 111ms/sample - loss: 0.6915 - acc: 0.5865 - val_loss: 0.6894 - val_acc: 0.6500\n",
      "Epoch 2/20\n",
      "960/960 [==============================] - 1s 814us/sample - loss: 0.6876 - acc: 0.6865 - val_loss: 0.6862 - val_acc: 0.6792\n",
      "Epoch 3/20\n",
      "960/960 [==============================] - 0s 401us/sample - loss: 0.6844 - acc: 0.6896 - val_loss: 0.6831 - val_acc: 0.6792\n",
      "Epoch 4/20\n",
      "960/960 [==============================] - 0s 434us/sample - loss: 0.6809 - acc: 0.6906 - val_loss: 0.6799 - val_acc: 0.6792\n",
      "Epoch 5/20\n",
      "960/960 [==============================] - 0s 418us/sample - loss: 0.6772 - acc: 0.6906 - val_loss: 0.6766 - val_acc: 0.6792\n",
      "Epoch 6/20\n",
      "960/960 [==============================] - 0s 388us/sample - loss: 0.6736 - acc: 0.6906 - val_loss: 0.6735 - val_acc: 0.6792\n",
      "Epoch 7/20\n",
      "960/960 [==============================] - 0s 448us/sample - loss: 0.6700 - acc: 0.6906 - val_loss: 0.6702 - val_acc: 0.6792\n",
      "Epoch 8/20\n",
      "960/960 [==============================] - 0s 434us/sample - loss: 0.6662 - acc: 0.6906 - val_loss: 0.6669 - val_acc: 0.6792\n",
      "Epoch 9/20\n",
      "960/960 [==============================] - 0s 434us/sample - loss: 0.6625 - acc: 0.6906 - val_loss: 0.6637 - val_acc: 0.6792\n",
      "Epoch 10/20\n",
      "960/960 [==============================] - 0s 418us/sample - loss: 0.6589 - acc: 0.6906 - val_loss: 0.6605 - val_acc: 0.6792\n",
      "Epoch 11/20\n",
      "960/960 [==============================] - 0s 434us/sample - loss: 0.6549 - acc: 0.6906 - val_loss: 0.6572 - val_acc: 0.6792\n",
      "Epoch 12/20\n",
      "960/960 [==============================] - 0s 395us/sample - loss: 0.6512 - acc: 0.6906 - val_loss: 0.6541 - val_acc: 0.6792\n",
      "Epoch 13/20\n",
      "960/960 [==============================] - 0s 401us/sample - loss: 0.6476 - acc: 0.6906 - val_loss: 0.6511 - val_acc: 0.6792\n",
      "Epoch 14/20\n",
      "960/960 [==============================] - 0s 385us/sample - loss: 0.6440 - acc: 0.6906 - val_loss: 0.6481 - val_acc: 0.6792\n",
      "Epoch 15/20\n",
      "960/960 [==============================] - 0s 385us/sample - loss: 0.6406 - acc: 0.6906 - val_loss: 0.6453 - val_acc: 0.6792\n",
      "Epoch 16/20\n",
      "960/960 [==============================] - 0s 418us/sample - loss: 0.6375 - acc: 0.6906 - val_loss: 0.6425 - val_acc: 0.6792\n",
      "Epoch 17/20\n",
      "960/960 [==============================] - 0s 417us/sample - loss: 0.6334 - acc: 0.6906 - val_loss: 0.6400 - val_acc: 0.6792\n",
      "Epoch 18/20\n",
      "960/960 [==============================] - 0s 450us/sample - loss: 0.6301 - acc: 0.6906 - val_loss: 0.6376 - val_acc: 0.6792\n",
      "Epoch 19/20\n",
      "960/960 [==============================] - 0s 401us/sample - loss: 0.6269 - acc: 0.6906 - val_loss: 0.6354 - val_acc: 0.6792\n",
      "Epoch 20/20\n",
      "960/960 [==============================] - 0s 401us/sample - loss: 0.6250 - acc: 0.6906 - val_loss: 0.6334 - val_acc: 0.6792\n"
     ]
    },
    {
     "data": {
      "image/png": "[encoded data removed]",
      "text/plain": [
       "<Figure size 432x288 with 2 Axes>"
      ]
     },
     "metadata": {
      "needs_background": "light"
     },
     "output_type": "display_data"
    },
    {
     "data": {
      "image/png": "[encoded data removed]",
      "text/plain": [
       "<Figure size 432x288 with 2 Axes>"
      ]
     },
     "metadata": {
      "needs_background": "light"
     },
     "output_type": "display_data"
    },
    {
     "data": {
      "image/png": "[encoded data removed]",
      "text/plain": [
       "<Figure size 432x288 with 2 Axes>"
      ]
     },
     "metadata": {
      "needs_background": "light"
     },
     "output_type": "display_data"
    },
    {
     "name": "stdout",
     "output_type": "stream",
     "text": [
      "              precision    recall  f1-score   support\n",
      "\n",
      "         0.0       0.69      1.00      0.82       445\n",
      "         1.0       0.00      0.00      0.00       201\n",
      "\n",
      "    accuracy                           0.69       646\n",
      "   macro avg       0.34      0.50      0.41       646\n",
      "weighted avg       0.47      0.69      0.56       646\n",
      "\n",
      "Test accuracy: 0.689\n"
     ]
    },
    {
     "name": "stderr",
     "output_type": "stream",
     "text": [
      "C:\\ProgramData\\Anaconda3\\envs\\nlpenv\\lib\\site-packages\\sklearn\\metrics\\_classification.py:1272: UndefinedMetricWarning: Precision and F-score are ill-defined and being set to 0.0 in labels with no predicted samples. Use `zero_division` parameter to control this behavior.\n",
      "  _warn_prf(average, modifier, msg_start, len(result))\n"
     ]
    }
   ],
   "source": [
    "historylist_1yr = []\n",
    "for i,params in enumerate(tqdm(test_params)): \n",
    "    bs = params.pop('batch_size')\n",
    "    model = create_model(**params)\n",
    "    params.update({'batch_size': bs})\n",
    "    history = model.fit(x_train_1yr, y_train_1yr,\n",
    "                        epochs=10000,\n",
    "                        batch_size=params['batch_size'],\n",
    "                        verbose=0,\n",
    "                        callbacks=[EarlyStopping(monitor='val_acc', patience=2, restore_best_weights=True)],\n",
    "                        validation_split=0.2)\n",
    "    historylist_1yr.append(history)\n",
    "max_acc_1yr = -1\n",
    "max_idx_1yr = -1\n",
    "for i,hist in enumerate(historylist_1yr):\n",
    "    if max(hist.history['val_acc']) > max_acc_1yr: \n",
    "        max_acc_1yr = max(hist.history['val_acc'])\n",
    "        max_idx_1yr = i\n",
    "    \n",
    "print(\"Best val acc:\",max_acc_1yr)\n",
    "print(\"For config: \",test_params[max_idx_1yr])\n"
   ]
  },
  {
   "cell_type": "code",
   "execution_count": null,
   "metadata": {},
   "outputs": [],
   "source": [
    "bs = test_params[max_idx_1yr].pop('batch_size')\n",
    "model_ff_1yr = create_model(**test_params[max_idx_1yr])\n",
    "test_params[max_idx_1yr].update({'batch_size:': bs})\n",
    "\n",
    "history_1yr = model_ff_1yr.fit(x_train_1yr, y_train_1yr,\n",
    "                               epochs=100000,\n",
    "                               batch_size = bs,\n",
    "                               verbose=1,\n",
    "                               callbacks = [Earlystopping(monitor='val_acc', patience=5, restore_best_weights=True)],\n",
    "                               validation_split=0.2)\n",
    "savename_1yr = \"nn_bs{}_n1{}_n2{}_dr{}_lr{}_opt{}\".format(test_params[max_idx_1yr]['batch_size'],\n",
    "                                                          test_params[max_idx_1yr]['nodes1'],\n",
    "                                                          test_params[max_idx_1yr]['nodes2'],\n",
    "                                                          test_params[max_idx_1yr]['dropout_rate'],\n",
    "                                                          test_params[max_idx_1yr]['learning_rate'],\n",
    "                                                          test_params[max_idx_1yr]['optimizer'])\n",
    "plot_results_nn(history_1yr,model_ff_1yr,x_test_1yr, y_test_1yr,save=True, name=savename_1yr)"
   ]
  },
  {
   "cell_type": "markdown",
   "metadata": {},
   "source": [
    "#### 3 year rate"
   ]
  },
  {
   "cell_type": "code",
   "execution_count": null,
   "metadata": {
    "scrolled": true
   },
   "outputs": [
    {
     "name": "stdout",
     "output_type": "stream",
     "text": [
      "Fitting 3 folds for each of 10 candidates, totalling 30 fits\n",
      "[CV] optimizer=Adam, nodes2=250, nodes1=500, learning_rate=0.001, epochs=5, dropout_rate=0.1, batch_size=16 \n"
     ]
    },
    {
     "name": "stderr",
     "output_type": "stream",
     "text": [
      "[Parallel(n_jobs=1)]: Using backend SequentialBackend with 1 concurrent workers.\n"
     ]
    },
    {
     "name": "stdout",
     "output_type": "stream",
     "text": [
      "[CV]  optimizer=Adam, nodes2=250, nodes1=500, learning_rate=0.001, epochs=5, dropout_rate=0.1, batch_size=16, score=0.535, total= 3.4min\n",
      "[CV] optimizer=Adam, nodes2=250, nodes1=500, learning_rate=0.001, epochs=5, dropout_rate=0.1, batch_size=16 \n"
     ]
    },
    {
     "name": "stderr",
     "output_type": "stream",
     "text": [
      "[Parallel(n_jobs=1)]: Done   1 out of   1 | elapsed:  3.4min remaining:    0.0s\n"
     ]
    },
    {
     "name": "stdout",
     "output_type": "stream",
     "text": [
      "[CV]  optimizer=Adam, nodes2=250, nodes1=500, learning_rate=0.001, epochs=5, dropout_rate=0.1, batch_size=16, score=0.532, total= 3.8min\n",
      "[CV] optimizer=Adam, nodes2=250, nodes1=500, learning_rate=0.001, epochs=5, dropout_rate=0.1, batch_size=16 \n"
     ]
    },
    {
     "name": "stderr",
     "output_type": "stream",
     "text": [
      "[Parallel(n_jobs=1)]: Done   2 out of   2 | elapsed:  7.3min remaining:    0.0s\n"
     ]
    },
    {
     "name": "stdout",
     "output_type": "stream",
     "text": [
      "[CV]  optimizer=Adam, nodes2=250, nodes1=500, learning_rate=0.001, epochs=5, dropout_rate=0.1, batch_size=16, score=0.515, total= 4.3min\n",
      "[CV] optimizer=RMSprop, nodes2=50, nodes1=500, learning_rate=0.0001, epochs=5, dropout_rate=0.3, batch_size=16 \n"
     ]
    },
    {
     "name": "stderr",
     "output_type": "stream",
     "text": [
      "[Parallel(n_jobs=1)]: Done   3 out of   3 | elapsed: 11.6min remaining:    0.0s\n"
     ]
    },
    {
     "name": "stdout",
     "output_type": "stream",
     "text": [
      "[CV]  optimizer=RMSprop, nodes2=50, nodes1=500, learning_rate=0.0001, epochs=5, dropout_rate=0.3, batch_size=16, score=0.600, total= 4.4min\n",
      "[CV] optimizer=RMSprop, nodes2=50, nodes1=500, learning_rate=0.0001, epochs=5, dropout_rate=0.3, batch_size=16 \n"
     ]
    },
    {
     "name": "stderr",
     "output_type": "stream",
     "text": [
      "[Parallel(n_jobs=1)]: Done   4 out of   4 | elapsed: 16.0min remaining:    0.0s\n"
     ]
    },
    {
     "name": "stdout",
     "output_type": "stream",
     "text": [
      "[CV]  optimizer=RMSprop, nodes2=50, nodes1=500, learning_rate=0.0001, epochs=5, dropout_rate=0.3, batch_size=16, score=0.585, total= 4.0min\n",
      "[CV] optimizer=RMSprop, nodes2=50, nodes1=500, learning_rate=0.0001, epochs=5, dropout_rate=0.3, batch_size=16 \n"
     ]
    },
    {
     "name": "stderr",
     "output_type": "stream",
     "text": [
      "[Parallel(n_jobs=1)]: Done   5 out of   5 | elapsed: 20.0min remaining:    0.0s\n"
     ]
    },
    {
     "name": "stdout",
     "output_type": "stream",
     "text": [
      "[CV]  optimizer=RMSprop, nodes2=50, nodes1=500, learning_rate=0.0001, epochs=5, dropout_rate=0.3, batch_size=16, score=0.598, total= 5.0min\n",
      "[CV] optimizer=Adam, nodes2=50, nodes1=500, learning_rate=1e-05, epochs=5, dropout_rate=0.3, batch_size=16 \n"
     ]
    },
    {
     "name": "stderr",
     "output_type": "stream",
     "text": [
      "[Parallel(n_jobs=1)]: Done   6 out of   6 | elapsed: 25.0min remaining:    0.0s\n"
     ]
    },
    {
     "name": "stdout",
     "output_type": "stream",
     "text": [
      "[CV]  optimizer=Adam, nodes2=50, nodes1=500, learning_rate=1e-05, epochs=5, dropout_rate=0.3, batch_size=16, score=0.598, total= 4.9min\n",
      "[CV] optimizer=Adam, nodes2=50, nodes1=500, learning_rate=1e-05, epochs=5, dropout_rate=0.3, batch_size=16 \n"
     ]
    },
    {
     "name": "stderr",
     "output_type": "stream",
     "text": [
      "[Parallel(n_jobs=1)]: Done   7 out of   7 | elapsed: 29.9min remaining:    0.0s\n"
     ]
    },
    {
     "name": "stdout",
     "output_type": "stream",
     "text": [
      "[CV]  optimizer=Adam, nodes2=50, nodes1=500, learning_rate=1e-05, epochs=5, dropout_rate=0.3, batch_size=16, score=0.583, total= 4.6min\n",
      "[CV] optimizer=Adam, nodes2=50, nodes1=500, learning_rate=1e-05, epochs=5, dropout_rate=0.3, batch_size=16 \n"
     ]
    },
    {
     "name": "stderr",
     "output_type": "stream",
     "text": [
      "[Parallel(n_jobs=1)]: Done   8 out of   8 | elapsed: 34.5min remaining:    0.0s\n"
     ]
    },
    {
     "name": "stdout",
     "output_type": "stream",
     "text": [
      "[CV]  optimizer=Adam, nodes2=50, nodes1=500, learning_rate=1e-05, epochs=5, dropout_rate=0.3, batch_size=16, score=0.603, total= 5.2min\n",
      "[CV] optimizer=Adam, nodes2=0, nodes1=50, learning_rate=0.0001, epochs=5, dropout_rate=0.1, batch_size=8 \n"
     ]
    },
    {
     "name": "stderr",
     "output_type": "stream",
     "text": [
      "[Parallel(n_jobs=1)]: Done   9 out of   9 | elapsed: 39.7min remaining:    0.0s\n"
     ]
    },
    {
     "name": "stdout",
     "output_type": "stream",
     "text": [
      "[CV]  optimizer=Adam, nodes2=0, nodes1=50, learning_rate=0.0001, epochs=5, dropout_rate=0.1, batch_size=8, score=0.598, total= 5.7min\n",
      "[CV] optimizer=Adam, nodes2=0, nodes1=50, learning_rate=0.0001, epochs=5, dropout_rate=0.1, batch_size=8 \n",
      "[CV]  optimizer=Adam, nodes2=0, nodes1=50, learning_rate=0.0001, epochs=5, dropout_rate=0.1, batch_size=8, score=0.583, total= 5.7min\n",
      "[CV] optimizer=Adam, nodes2=0, nodes1=50, learning_rate=0.0001, epochs=5, dropout_rate=0.1, batch_size=8 \n",
      "[CV]  optimizer=Adam, nodes2=0, nodes1=50, learning_rate=0.0001, epochs=5, dropout_rate=0.1, batch_size=8, score=0.603, total= 5.9min\n",
      "[CV] optimizer=RMSprop, nodes2=250, nodes1=100, learning_rate=0.0001, epochs=5, dropout_rate=0.3, batch_size=32 \n",
      "[CV]  optimizer=RMSprop, nodes2=250, nodes1=100, learning_rate=0.0001, epochs=5, dropout_rate=0.3, batch_size=32, score=0.598, total= 6.1min\n",
      "[CV] optimizer=RMSprop, nodes2=250, nodes1=100, learning_rate=0.0001, epochs=5, dropout_rate=0.3, batch_size=32 \n",
      "[CV]  optimizer=RMSprop, nodes2=250, nodes1=100, learning_rate=0.0001, epochs=5, dropout_rate=0.3, batch_size=32, score=0.583, total= 6.3min\n",
      "[CV] optimizer=RMSprop, nodes2=250, nodes1=100, learning_rate=0.0001, epochs=5, dropout_rate=0.3, batch_size=32 \n",
      "[CV]  optimizer=RMSprop, nodes2=250, nodes1=100, learning_rate=0.0001, epochs=5, dropout_rate=0.3, batch_size=32, score=0.603, total= 6.4min\n",
      "[CV] optimizer=RMSprop, nodes2=0, nodes1=50, learning_rate=1e-05, epochs=5, dropout_rate=0.5, batch_size=16 \n",
      "[CV]  optimizer=RMSprop, nodes2=0, nodes1=50, learning_rate=1e-05, epochs=5, dropout_rate=0.5, batch_size=16, score=0.595, total= 7.2min\n",
      "[CV] optimizer=RMSprop, nodes2=0, nodes1=50, learning_rate=1e-05, epochs=5, dropout_rate=0.5, batch_size=16 \n",
      "[CV]  optimizer=RMSprop, nodes2=0, nodes1=50, learning_rate=1e-05, epochs=5, dropout_rate=0.5, batch_size=16, score=0.585, total= 7.7min\n",
      "[CV] optimizer=RMSprop, nodes2=0, nodes1=50, learning_rate=1e-05, epochs=5, dropout_rate=0.5, batch_size=16 \n",
      "[CV]  optimizer=RMSprop, nodes2=0, nodes1=50, learning_rate=1e-05, epochs=5, dropout_rate=0.5, batch_size=16, score=0.600, total=14.8min\n",
      "[CV] optimizer=Adam, nodes2=100, nodes1=250, learning_rate=0.001, epochs=5, dropout_rate=0.5, batch_size=8 \n",
      "[CV]  optimizer=Adam, nodes2=100, nodes1=250, learning_rate=0.001, epochs=5, dropout_rate=0.5, batch_size=8, score=0.530, total=14.4min\n",
      "[CV] optimizer=Adam, nodes2=100, nodes1=250, learning_rate=0.001, epochs=5, dropout_rate=0.5, batch_size=8 \n"
     ]
    }
   ],
   "source": [
    "historylist_3yr = []\n",
    "for i,params in enumerate(tqdm(test_params)): \n",
    "    bs = params.pop('batch_size')\n",
    "    model = create_model(**params)\n",
    "    params.update({'batch_size': bs})\n",
    "    history = model.fit(x_train_3yr, y_train_3yr,\n",
    "                        epochs=10000,\n",
    "                        batch_size=params['batch_size'],\n",
    "                        verbose=0,\n",
    "                        callbacks=[EarlyStopping(monitor='val_acc', patience=2, restore_best_weights=True)],\n",
    "                        validation_split=0.2)\n",
    "    historylist_3yr.append(history)\n",
    "max_acc_3yr = -1\n",
    "max_idx_3yr = -1\n",
    "for i,hist in enumerate(historylist_3yr):\n",
    "    if max(hist.history['val_acc']) > max_acc_3yr: \n",
    "        max_acc_3yr = max(hist.history['val_acc'])\n",
    "        max_idx_3yr = i\n",
    "    \n",
    "print(\"Best val acc:\",max_acc_3yr)\n",
    "print(\"For config: \",test_params[max_idx_3yr])"
   ]
  },
  {
   "cell_type": "code",
   "execution_count": null,
   "metadata": {},
   "outputs": [],
   "source": [
    "bs = test_params[max_idx_3yr].pop('batch_size')\n",
    "model_ff_3yr = create_model(**test_params[max_idx_3yr])\n",
    "test_params[max_idx_3yr].update({'batch_size': bs})\n",
    "\n",
    "history_3yr = model_ff_3yr.fit(x_train_3yr, y_train_3yr,\n",
    "                               epochs=100000,\n",
    "                               batch_size = bs,\n",
    "                               verbose=1,\n",
    "                               callbacks = [EarlyStopping(monitor='val_acc', patience=5, restore_best_weights=True)],\n",
    "                               validation_split=0.2)\n",
    "savename_3yr = \"nn_bs{}_n1{}_n2{}_dr{}_lr{}_opt{}\".format(test_params[max_idx_3yr]['batch_size'],\n",
    "                                                          test_params[max_idx_3yr]['nodes1'],\n",
    "                                                          test_params[max_idx_3yr]['nodes2'],\n",
    "                                                          test_params[max_idx_3yr]['dropout_rate'],\n",
    "                                                          test_params[max_idx_3yr]['learning_rate'],\n",
    "                                                          test_params[max_idx_3yr]['optimizer'])\n",
    "plot_results_nn(history_3yr,model_ff_3yr,x_test_3yr, y_test_3yr,save=True, name=savename_3yr)\n"
   ]
  },
  {
   "cell_type": "markdown",
   "metadata": {},
   "source": [
    "#### S&P"
   ]
  },
  {
   "cell_type": "code",
   "execution_count": null,
   "metadata": {},
   "outputs": [],
   "source": [
    "historylist_sp = []\n",
    "for i,params in enumerate(tqdm(test_params)): \n",
    "    bs = params.pop('batch_size')\n",
    "    model = create_model(**params)\n",
    "    params.update({'batch_size': bs})\n",
    "    history = model.fit(x_train_sp, y_train_sp,\n",
    "                        epochs=10000,\n",
    "                        batch_size=params['batch_size'],\n",
    "                        verbose=0,\n",
    "                        callbacks=[EarlyStopping(monitor='val_acc', patience=2, restore_best_weights=True)],\n",
    "                        validation_split=0.2)\n",
    "    historylist_sp.append(history)\n",
    "max_acc_sp = -1\n",
    "max_idx_sp = -1\n",
    "for i,hist in enumerate(historylist_sp):\n",
    "    if max(hist.history['val_acc']) > max_acc_sp: \n",
    "        max_acc_sp = max(hist.history['val_acc'])\n",
    "        max_idx_sp = i\n",
    "    \n",
    "print(\"Best val acc:\",max_acc_sp)\n",
    "print(\"For config: \",test_params[max_idx_sp])"
   ]
  },
  {
   "cell_type": "code",
   "execution_count": null,
   "metadata": {},
   "outputs": [],
   "source": [
    "bs = test_params[max_idx_sp].pop('batch_size')\n",
    "model_ff_sp = create_model(**test_params[max_idx_sp])\n",
    "test_params[max_idx_sp].update({'batch_size': bs})\n",
    "\n",
    "history_sp = model_ff_sp.fit(x_train_sp, y_train_sp,\n",
    "                               epochs=100000,\n",
    "                               batch_size = bs,\n",
    "                               verbose=1,\n",
    "                               callbacks = [EarlyStopping(monitor='val_acc', patience=5, restore_best_weights=True)],\n",
    "                               validation_split=0.2)\n",
    "savename_sp = \"nn_bs{}_n1{}_n2{}_dr{}_lr{}_opt{}\".format(test_params[max_idx_sp]['batch_size'],\n",
    "                                                          test_params[max_idx_sp]['nodes1'],\n",
    "                                                          test_params[max_idx_sp]['nodes2'],\n",
    "                                                          test_params[max_idx_sp]['dropout_rate'],\n",
    "                                                          test_params[max_idx_sp]['learning_rate'],\n",
    "                                                          test_params[max_idx_sp]['optimizer'])\n",
    "plot_results_nn(history_sp,model_ff_sp,x_test_sp, y_test_sp,save=True, name=savename_sp)\n"
   ]
  },
  {
   "cell_type": "markdown",
   "metadata": {},
   "source": [
    "## Results\n",
    "\n",
    "The following results were achieved on the independent test set on the 1 year rate, 3 year rate and S&P-500 index. Note that only the 10000 most common words were included in the vocabulary, to reduce the dimensionality. \n",
    "### <center> 1 year rate </center>\n",
    "|               Model          |  Test Accuracy (%)  | Test weighted f1-score | Hyperparameters |\n",
    "| :--------------------------- | ------------------- | ---------------------: | --------------- |\n",
    "| Random Classifier            |          62         |          0.487         |       N/A       |\n",
    "| Logistic Regression          |          54         |          0.64          |       N/A       |\n",
    "| Support Vector Machine       |         52.4        |          0.62          |       N/A       |\n",
    "| Random Forest                |         0.00        |                        |n_estimators=3000, max_depth=None |\n",
    "| XGBoost                      |         0.00        |                        |n_estimators=1000 |\n",
    "| Multi Layer Perceptron       |         0.00        |                        |batch_size=8,depth=2,dropout_rate=0.2,nodes=250 |\n",
    "\n",
    "### <center> 3 year rate </center>\n",
    "|               Model          |  Test Accuracy (%)  | Test weighted f1-score | Hyperparameters |\n",
    "| :--------------------------- | ------------------- | ---------------------: | --------------- |\n",
    "| Random Classifier            |         53.3        |          0.50          |       N/A       |\n",
    "| Logistic Regression          |         53.3        |          0.55          |       N/A       |\n",
    "| Support Vector Machine       |         52.6        |          0.55          |       N/A       |\n",
    "| Random Forest                |         0.00        |                        |n_estimators=3000, max_depth=None |\n",
    "| XGBoost                      |         0.00        |                        |n_estimators=1000 |\n",
    "| Multi Layer Perceptron       |         0.00        |                        |batch_size=8,depth=2,dropout_rate=0.2,nodes=250 |\n",
    "\n",
    "### <center> S&P-500 </center> \n",
    "|               Model          |  Test Accuracy (%)  | Test weighted f1-score | Hyperparameters |\n",
    "| :--------------------------- | ------------------- | ---------------------: | --------------- |\n",
    "| Random Classifier            |         49.2        |          0.50          |       N/A       |\n",
    "| Logistic Regression          |         57.7        |          0.58          |       N/A       |\n",
    "| Support Vector Machine       |         56.7        |          0.57          |       N/A       |\n",
    "| Random Forest                |         0.00        |                        |n_estimators=3000, max_depth=None |\n",
    "| XGBoost                      |         0.00        |                        |n_estimators=1000 |\n",
    "| Multi Layer Perceptron       |         0.00        |                        |batch_size=8,depth=2,dropout_rate=0.2,nodes=250 |\n"
   ]
  },
  {
   "cell_type": "markdown",
   "metadata": {},
   "source": [
    "## Results\n",
    "\n",
    "The following results were achieved on the independent test set on the 1 year rate, 3 year rate and S&P-500 index. Note that only the 10000 most common words were included in the vocabulary, to reduce the dimensionality. \n",
    "\n",
    "|               Model          | Data |  Test Accuracy (%)  | Test weighted f1-score | Hyperparameters |\n",
    "| :--------------------------- | ---- | ------------------- | ---------------------: | --------------- |\n",
    "| Random Classifier| 1 year rate <br>3 year rate <br> S&P-500|62<br>53.3<br>49.2| 0.487<br>0.50<br>0.50 | N/A |\n",
    "| Logistic Regression          |      |         0.00        |                        |       N/A       |\n",
    "| Linear Discriminant Analysis |      |         0.00        |                        |       N/A       |\n",
    "| Support Vector Machine       |      |         0.00        |                        |       N/A       |\n",
    "| Random Forest                |      |         0.00        |                        |n_estimators=3000, max_depth=None |\n",
    "| XGBoost                      |      |         0.00        |                        |n_estimators=1000 |\n",
    "| Multi Layer Perceptron       |      |         0.00        |                        |batch_size=8,depth=2,dropout_rate=0.2,nodes=250 |\n"
   ]
  },
  {
   "cell_type": "code",
   "execution_count": null,
   "metadata": {},
   "outputs": [],
   "source": []
  },
  {
   "cell_type": "code",
   "execution_count": null,
   "metadata": {},
   "outputs": [],
   "source": []
  },
  {
   "cell_type": "code",
   "execution_count": null,
   "metadata": {},
   "outputs": [],
   "source": []
  },
  {
   "cell_type": "code",
   "execution_count": null,
   "metadata": {},
   "outputs": [],
   "source": []
  }
 ],
 "metadata": {
  "kernelspec": {
   "display_name": "Python 3",
   "language": "python",
   "name": "python3"
  },
  "language_info": {
   "codemirror_mode": {
    "name": "ipython",
    "version": 3
   },
   "file_extension": ".py",
   "mimetype": "text/x-python",
   "name": "python",
   "nbconvert_exporter": "python",
   "pygments_lexer": "ipython3",
   "version": "3.6.10"
  }
 },
 "nbformat": 4,
 "nbformat_minor": 4
}
