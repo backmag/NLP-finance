{
 "cells": [
  {
   "cell_type": "markdown",
   "metadata": {},
   "source": [
    "#### Financial Index Prediction\n",
    "This notebook seeks to predict the direction of a financial index from day k-1 to day k given financial news headlines from day k - 1. A range of different combinations between statistical and NLP-models are used. "
   ]
  },
  {
   "cell_type": "code",
   "execution_count": 8,
   "metadata": {},
   "outputs": [],
   "source": [
    "import pandas as pd\n",
    "import numpy as np\n",
    "import seaborn as sn\n",
    "import matplotlib.pyplot as plt\n",
    "from sklearn.utils import parallel_backend\n",
    "from pathlib import Path\n",
    "from sklearn.feature_extraction.text import TfidfTransformer, CountVectorizer\n",
    "from sklearn.metrics import classification_report, confusion_matrix, f1_score, plot_confusion_matrix\n",
    "from sklearn.linear_model import LogisticRegression\n",
    "from sklearn.discriminant_analysis import LinearDiscriminantAnalysis\n",
    "from sklearn.ensemble import RandomForestClassifier\n",
    "from sklearn.model_selection import GridSearchCV\n",
    "from sklearn import svm\n",
    "from tqdm import tqdm, trange\n",
    "from sklearn.dummy import DummyClassifier\n",
    "from tensorflow.keras.models import Sequential\n",
    "from tensorflow.keras.layers import Dense, Dropout, Flatten\n",
    "from tensorflow.keras.optimizers import RMSprop, Adam\n",
    "from tensorflow.keras.callbacks import EarlyStopping\n",
    "from tensorflow.keras.wrappers.scikit_learn import KerasClassifier"
   ]
  },
  {
   "cell_type": "markdown",
   "metadata": {},
   "source": [
    "#### Load financial news data and financial index data"
   ]
  },
  {
   "cell_type": "code",
   "execution_count": 9,
   "metadata": {},
   "outputs": [],
   "source": [
    "ONEDRIVE_PATH = Path(r\"C:\\Users\\gusta\\Kidbrooke Advisory Ab\\KidbrookeOneDrive - Gustaf Backman exjobb\")\n",
    "\n",
    "# Read the financial data \n",
    "fin_path = ONEDRIVE_PATH / \"Input Data/stock_data.pkl\"\n",
    "fin_data = pd.read_pickle(fin_path)\n",
    "# Read from 2006-10-20 for next day preds or from 2006-10-19 for current day preds\n",
    "fin_data = fin_data.loc['2006-10-20' : '2013-11-22']\n",
    "\n",
    "news_path = ONEDRIVE_PATH / \"Input Data/financial_headlines_20061020-20131119.pkl\"\n",
    "news_data = pd.DataFrame(pd.read_pickle(news_path))\n",
    "news_data.set_index('date',inplace=True)"
   ]
  },
  {
   "cell_type": "code",
   "execution_count": 10,
   "metadata": {},
   "outputs": [],
   "source": [
    "news_dates = news_data.index.drop_duplicates()\n",
    "fin_dates = fin_data.index.drop_duplicates()\n",
    "\n",
    "# Find the dates which are present in both the financial data and news data\n",
    "valid_dates = []\n",
    "for date in news_dates: \n",
    "    if date in fin_data.index: \n",
    "        valid_dates.append(date)\n",
    "        \n",
    "# Create targets for all 3 time series \n",
    "targets = pd.DataFrame(dtype='int8')\n",
    "prev_vals = fin_data.iloc[0]\n",
    "for date in valid_dates: \n",
    "    y_temp = []\n",
    "    # If the value has increased since yesterday, y = 1\n",
    "    if prev_vals['1 YEAR'] < fin_data.loc[date]['1 YEAR']: \n",
    "        y_temp.append(1)\n",
    "    else:\n",
    "        y_temp.append(0)\n",
    "        \n",
    "    if prev_vals['3 YEAR'] < fin_data.loc[date]['3 YEAR']: \n",
    "        y_temp.append(1)\n",
    "    else:\n",
    "        y_temp.append(0)\n",
    "        \n",
    "    if prev_vals['S&P'] < fin_data.loc[date]['S&P']: \n",
    "        y_temp.append(1)\n",
    "    else:\n",
    "        y_temp.append(0)\n",
    "    targets = targets.append({'1 YEAR':y_temp[0], '3 YEAR':y_temp[1], 'S&P':y_temp[2]}, ignore_index=True)\n",
    "    prev_vals = fin_data.loc[date]"
   ]
  },
  {
   "cell_type": "code",
   "execution_count": 11,
   "metadata": {},
   "outputs": [
    {
     "name": "stderr",
     "output_type": "stream",
     "text": [
      "100%|██████████████████████████████████████████████████████████████████████████████| 1846/1846 [01:11<00:00, 25.98it/s]"
     ]
    },
    {
     "name": "stdout",
     "output_type": "stream",
     "text": [
      "Length of texts: 1846\n",
      "Length of targets: 1846\n"
     ]
    },
    {
     "name": "stderr",
     "output_type": "stream",
     "text": [
      "\n"
     ]
    }
   ],
   "source": [
    "# Concatenate the news for each day in the valid indices, i.e. the indices that are present in both \n",
    "# the financial data and the news data \n",
    "texts = []\n",
    "for date in tqdm(valid_dates): \n",
    "    temp_texts = \"\"\n",
    "    for i,text in enumerate(news_data.loc[date]['title']): \n",
    "        if i < len(news_data.loc[date]['title']) - 1:\n",
    "            temp_texts += text + \". \"\n",
    "        else:\n",
    "            temp_texts += text\n",
    "    texts.append(temp_texts)\n",
    "texts = np.asarray(texts)\n",
    "print(\"Length of texts:\",len(texts))\n",
    "print(\"Length of targets:\",len(targets))"
   ]
  },
  {
   "cell_type": "markdown",
   "metadata": {},
   "source": [
    "#### Format the text with tf-idf\n",
    "The texts have now been separated into entries in a arrays for training and testing. The next step is to transform these entries into vectors using TF-IDF. "
   ]
  },
  {
   "cell_type": "code",
   "execution_count": 12,
   "metadata": {},
   "outputs": [],
   "source": [
    "# Create a matrix with the frequency of a word in each day.\n",
    "count_vec = CountVectorizer(max_features=10000) # Includes only the 10000 most frequent words \n",
    "count_vec.fit(texts)\n",
    "\n",
    "x_count = count_vec.transform(texts)\n",
    "x_count = count_vec.transform(texts)\n",
    "\n",
    "# Create a matrix with the tfidf representation of the text\n",
    "tfidf_vec = TfidfTransformer()\n",
    "tfidf_vec.fit(x_count)\n",
    "x = tfidf_vec.transform(x_count)"
   ]
  },
  {
   "cell_type": "markdown",
   "metadata": {},
   "source": [
    "#### Partition into training and test set"
   ]
  },
  {
   "cell_type": "code",
   "execution_count": 13,
   "metadata": {},
   "outputs": [
    {
     "name": "stdout",
     "output_type": "stream",
     "text": [
      " ----- 1 YEAR RATE -----\n",
      "Ratio neg labels 1 year rate: 0.6885157096424702\n",
      "Neg labels: 1271 Pos labels: 575\n",
      " ----- 3 YEAR RATE -----\n",
      "Ratio neg labels 3 year rate: 0.594257854821235\n",
      "Neg labels: 1097 Pos labels: 749\n",
      " -----     S&P     -----\n",
      "Ratio neg labels S&P: 0.4647887323943662\n",
      "Neg labels: 858 Pos labels: 988\n"
     ]
    }
   ],
   "source": [
    "zero_indices_1yr = np.where(targets['1 YEAR'] == 0)[0]\n",
    "one_indices_1yr = np.where(targets['1 YEAR'] == 1)[0]\n",
    "\n",
    "zero_indices_3yr = np.where(targets['3 YEAR'] == 0)[0]\n",
    "one_indices_3yr = np.where(targets['3 YEAR'] == 1)[0]\n",
    "\n",
    "zero_indices_sp = np.where(targets['S&P'] == 0)[0]\n",
    "one_indices_sp = np.where(targets['S&P'] == 1)[0]\n",
    "\n",
    "print(\" ----- 1 YEAR RATE -----\")\n",
    "print(\"Ratio neg labels 1 year rate:\",len(zero_indices_1yr) / len(targets))\n",
    "print(\"Neg labels:\", len(zero_indices_1yr), \"Pos labels:\",len(one_indices_1yr))\n",
    "print(\" ----- 3 YEAR RATE -----\")\n",
    "print(\"Ratio neg labels 3 year rate:\",len(zero_indices_3yr) / len(targets))\n",
    "print(\"Neg labels:\", len(zero_indices_3yr), \"Pos labels:\",len(one_indices_3yr))\n",
    "print(\" -----     S&P     -----\")\n",
    "print(\"Ratio neg labels S&P:\",len(zero_indices_sp) / len(targets))\n",
    "print(\"Neg labels:\", len(zero_indices_sp), \"Pos labels:\",len(one_indices_sp))"
   ]
  },
  {
   "cell_type": "code",
   "execution_count": 14,
   "metadata": {
    "scrolled": true
   },
   "outputs": [
    {
     "name": "stdout",
     "output_type": "stream",
     "text": [
      " ----- 1 YEAR RATE -----\n",
      "Train data shape (x,y): (1200, 10000) , (1200,)\n",
      "Train data label ratio (0 / 1): 826 / 374\n",
      "Test data shape (x,y): (646, 10000) , (646,)\n",
      "Test data label ratio (0 / 1): 445 / 201\n",
      " ----- 3 YEAR RATE -----\n",
      "Train data shape (x,y): (1200, 10000) , (1200,)\n",
      "Train data label ratio (0 / 1): 713 / 487\n",
      "Test data shape (x,y): (646, 10000) , (646,)\n",
      "Test data label ratio (0 / 1): 384 / 262\n",
      " -----     S&P     -----\n",
      "Train data shape (x,y): (1200, 10000) , (1200,)\n",
      "Train data label ratio (0 / 1): 558 / 642\n",
      "Test data shape (x,y): (646, 10000) , (646,)\n",
      "Test data label ratio (0 / 1): 300 / 346\n"
     ]
    }
   ],
   "source": [
    "n_train = 1200\n",
    "n = len(targets)\n",
    "\n",
    "np.random.shuffle(zero_indices_1yr)\n",
    "np.random.shuffle(one_indices_1yr)\n",
    "part_zeros_1yr = len(zero_indices_1yr) / n\n",
    "train_indices_1yr = np.zeros((n_train),dtype=int)\n",
    "train_indices_1yr[:round(part_zeros_1yr * n_train)] = zero_indices_1yr[:round(part_zeros_1yr * n_train)]\n",
    "train_indices_1yr[round(part_zeros_1yr * n_train):] = one_indices_1yr[:round((1 - part_zeros_1yr) * n_train)]\n",
    "np.random.shuffle(train_indices_1yr)\n",
    "# All indices not in train is in test. \n",
    "test_indices_1yr = np.setdiff1d(np.arange(len(targets)), train_indices_1yr)\n",
    "np.random.shuffle(test_indices_1yr)\n",
    "\n",
    "np.random.shuffle(zero_indices_3yr)\n",
    "np.random.shuffle(one_indices_3yr)\n",
    "part_zeros_3yr = len(zero_indices_3yr) / n\n",
    "train_indices_3yr = np.zeros((n_train),dtype=int)\n",
    "train_indices_3yr[:round(part_zeros_3yr * n_train)] = zero_indices_3yr[:round(part_zeros_3yr * n_train)]\n",
    "train_indices_3yr[round(part_zeros_3yr * n_train):] = one_indices_3yr[:round((1 - part_zeros_3yr) * n_train)]\n",
    "np.random.shuffle(train_indices_3yr)\n",
    "# All indices not in train is in test. \n",
    "test_indices_3yr = np.setdiff1d(np.arange(len(targets)), train_indices_3yr)\n",
    "np.random.shuffle(test_indices_3yr)\n",
    "\n",
    "np.random.shuffle(zero_indices_sp)\n",
    "np.random.shuffle(one_indices_sp)\n",
    "part_zeros_sp = len(zero_indices_sp) / n\n",
    "train_indices_sp = np.zeros((n_train),dtype=int)\n",
    "train_indices_sp[:round(part_zeros_sp * n_train)] = zero_indices_sp[:round(part_zeros_sp * n_train)]\n",
    "train_indices_sp[round(part_zeros_sp * n_train):] = one_indices_sp[:round((1 - part_zeros_sp) * n_train)]\n",
    "np.random.shuffle(train_indices_sp)\n",
    "# All indices not in train is in test. \n",
    "test_indices_sp = np.setdiff1d(np.arange(len(targets)), train_indices_sp)\n",
    "np.random.shuffle(test_indices_sp)\n",
    "\n",
    "texts_train_1yr = texts[train_indices_1yr]\n",
    "texts_test_1yr = texts[test_indices_1yr]\n",
    "x_train_1yr = x[train_indices_1yr]\n",
    "x_test_1yr = x[test_indices_1yr]\n",
    "y_train_1yr = targets.iloc[train_indices_1yr]['1 YEAR'].values\n",
    "y_test_1yr = targets.iloc[test_indices_1yr]['1 YEAR'].values\n",
    "\n",
    "texts_train_3yr = texts[train_indices_3yr]\n",
    "texts_test_3yr = texts[test_indices_3yr]\n",
    "x_train_3yr = x[train_indices_3yr]\n",
    "x_test_3yr = x[test_indices_3yr]\n",
    "y_train_3yr = targets.iloc[train_indices_3yr]['3 YEAR'].values\n",
    "y_test_3yr = targets.iloc[test_indices_3yr]['3 YEAR'].values\n",
    "\n",
    "texts_train_sp = texts[train_indices_sp]\n",
    "texts_test_sp = texts[test_indices_sp]\n",
    "x_train_sp = x[train_indices_sp]\n",
    "x_test_sp = x[test_indices_sp]\n",
    "y_train_sp = targets.iloc[train_indices_sp]['S&P'].values\n",
    "y_test_sp = targets.iloc[test_indices_sp]['S&P'].values\n",
    "\n",
    "# Sanity check of shapes \n",
    "\n",
    "print(\" ----- 1 YEAR RATE -----\")\n",
    "print(\"Train data shape (x,y):\",x_train_1yr.shape,\",\", y_train_1yr.shape)\n",
    "print(\"Train data label ratio (0 / 1):\",np.sum(y_train_1yr == 0),\"/\", np.sum(y_train_1yr == 1))\n",
    "print(\"Test data shape (x,y):\",x_test_1yr.shape,\",\", y_test_1yr.shape)\n",
    "print(\"Test data label ratio (0 / 1):\",np.sum(y_test_1yr == 0),\"/\", np.sum(y_test_1yr == 1))\n",
    "\n",
    "print(\" ----- 3 YEAR RATE -----\")\n",
    "print(\"Train data shape (x,y):\",x_train_3yr.shape,\",\", y_train_3yr.shape)\n",
    "print(\"Train data label ratio (0 / 1):\",np.sum(y_train_3yr == 0),\"/\", np.sum(y_train_3yr == 1))\n",
    "print(\"Test data shape (x,y):\",x_test_3yr.shape,\",\", y_test_3yr.shape)\n",
    "print(\"Test data label ratio (0 / 1):\",np.sum(y_test_3yr == 0),\"/\", np.sum(y_test_3yr == 1))\n",
    "print(\" -----     S&P     -----\")\n",
    "print(\"Train data shape (x,y):\",x_train_sp.shape,\",\", y_train_sp.shape)\n",
    "print(\"Train data label ratio (0 / 1):\",np.sum(y_train_sp == 0),\"/\", np.sum(y_train_sp == 1))\n",
    "print(\"Test data shape (x,y):\",x_test_sp.shape,\",\", y_test_sp.shape)\n",
    "print(\"Test data label ratio (0 / 1):\",np.sum(y_test_sp == 0),\"/\", np.sum(y_test_sp == 1))"
   ]
  },
  {
   "cell_type": "markdown",
   "metadata": {},
   "source": [
    "## Models \n",
    "The data has been pre-processed and the models can be evaluated. All of the models are fitted with the three data series. "
   ]
  },
  {
   "cell_type": "code",
   "execution_count": 15,
   "metadata": {},
   "outputs": [],
   "source": [
    "# Some help functions for plotting the results \n",
    "\n",
    "def plot_results(model,x_test, y_test,save=False, name=''):\n",
    "    y_test_preds = model.predict(x_test)\n",
    "    print(classification_report(y_test, y_test_preds))\n",
    "    conf_mat = confusion_matrix(y_test,y_test_preds)\n",
    "    print(\"Confusion matrix: \")\n",
    "    print(conf_mat)\n",
    "    print(\"Test accuracy:\",model.score(x_test, y_test))\n",
    "    plot_confusion_matrix(model,x_test,y_test)\n",
    "    if save:\n",
    "        plt.savefig(\"Figs TF-IDF/\" + name + \"confmat.jpg\")\n",
    "    plt.show()\n",
    "    \n",
    "def plot_results_nn(history, model,x_test, y_test,save=False, name=''):\n",
    "    plt.subplot(121)\n",
    "    plt.plot(history.history['loss'],label='Loss')\n",
    "    plt.plot(history.history['val_loss'],label='Val loss')\n",
    "    plt.legend()\n",
    "    plt.subplot(122)\n",
    "    plt.plot(history.history['acc'],label='Acc')\n",
    "    plt.plot(history.history['val_acc'],label='Val acc')\n",
    "    plt.legend()\n",
    "    if save: \n",
    "        plt.savefig(\"Figs TF-IDF/\" + name + \"history.jpg\")\n",
    "    plt.show() \n",
    "    y_test_pred = np.round(model.predict(x_test.todense()))\n",
    "    plt.subplot(121)\n",
    "    plt.bar([0,1],[np.sum(y_test == 0), np.sum(y_test == 1)], label='Actual test dist')\n",
    "    plt.legend()\n",
    "    plt.xticks([0, 1])\n",
    "    plt.subplot(122)\n",
    "    plt.bar([0,1],[np.sum(y_test_pred == 0), np.sum(y_test_pred == 1)], label='Pred test dist')\n",
    "    plt.legend()\n",
    "    plt.xticks([0, 1])\n",
    "    plt.show()\n",
    "    conf_mat = confusion_matrix(y_test,y_test_pred)\n",
    "    print(\"Confusion matrix: \")\n",
    "    print(conf_mat)\n",
    "    conf_mat = confusion_matrix(y_test,y_test_pred,normalize='pred')\n",
    "    ax = sn.heatmap(conf_mat,)\n",
    "    ax.set_ylabel(\"True values\")\n",
    "    ax.set_xlabel(\"Predicted values\")\n",
    "    if save: \n",
    "        plt.savefig(\"Figs TF-IDF/\" + name + \"confmat.jpg\")\n",
    "    plt.show()\n",
    "    print(classification_report(y_test, y_test_pred))\n",
    "    print(\"Test accuracy:\",round(np.sum(y_test == y_test_pred[:,0]) / len(y_test),3))"
   ]
  },
  {
   "cell_type": "markdown",
   "metadata": {},
   "source": [
    "### Random Classifier\n",
    "Just for real simple comparison. \n",
    "#### 1 year rate"
   ]
  },
  {
   "cell_type": "code",
   "execution_count": 16,
   "metadata": {},
   "outputs": [
    {
     "name": "stdout",
     "output_type": "stream",
     "text": [
      "              precision    recall  f1-score   support\n",
      "\n",
      "         0.0       0.69      1.00      0.82       445\n",
      "         1.0       0.00      0.00      0.00       201\n",
      "\n",
      "    accuracy                           0.69       646\n",
      "   macro avg       0.34      0.50      0.41       646\n",
      "weighted avg       0.47      0.69      0.56       646\n",
      "\n",
      "Confusion matrix: \n",
      "[[445   0]\n",
      " [201   0]]\n",
      "Test accuracy: 0.6888544891640866\n"
     ]
    },
    {
     "name": "stderr",
     "output_type": "stream",
     "text": [
      "C:\\ProgramData\\Anaconda3\\envs\\nlpenv\\lib\\site-packages\\sklearn\\metrics\\_classification.py:1272: UndefinedMetricWarning: Precision and F-score are ill-defined and being set to 0.0 in labels with no predicted samples. Use `zero_division` parameter to control this behavior.\n",
      "  _warn_prf(average, modifier, msg_start, len(result))\n"
     ]
    },
    {
     "data": {
      "image/png": "[encoded data removed]",
      "text/plain": [
       "<Figure size 432x288 with 2 Axes>"
      ]
     },
     "metadata": {
      "needs_background": "light"
     },
     "output_type": "display_data"
    }
   ],
   "source": [
    "# Dummy Classifier, most frequent\n",
    "dummy_clf_1yr = DummyClassifier(strategy='most_frequent').fit(x_train_1yr, y_train_1yr)\n",
    "plot_results(dummy_clf_1yr, x_test_1yr, y_test_1yr,save=True,name='randclf_1yr')"
   ]
  },
  {
   "cell_type": "code",
   "execution_count": 17,
   "metadata": {},
   "outputs": [
    {
     "name": "stdout",
     "output_type": "stream",
     "text": [
      "              precision    recall  f1-score   support\n",
      "\n",
      "         0.0       0.69      0.69      0.69       445\n",
      "         1.0       0.31      0.30      0.31       201\n",
      "\n",
      "    accuracy                           0.57       646\n",
      "   macro avg       0.50      0.50      0.50       646\n",
      "weighted avg       0.57      0.57      0.57       646\n",
      "\n",
      "Confusion matrix: \n",
      "[[309 136]\n",
      " [140  61]]\n",
      "Test accuracy: 0.5526315789473685\n"
     ]
    },
    {
     "data": {
      "image/png": "[encoded data removed]",
      "text/plain": [
       "<Figure size 432x288 with 2 Axes>"
      ]
     },
     "metadata": {
      "needs_background": "light"
     },
     "output_type": "display_data"
    }
   ],
   "source": [
    "# Dummy Classifier, stratified\n",
    "dummy_clf_1yr = DummyClassifier(strategy='stratified').fit(x_train_1yr, y_train_1yr)\n",
    "plot_results(dummy_clf_1yr, x_test_1yr, y_test_1yr,save=True,name='randclf_1yr')"
   ]
  },
  {
   "cell_type": "markdown",
   "metadata": {},
   "source": [
    "#### 3 year rate"
   ]
  },
  {
   "cell_type": "code",
   "execution_count": 18,
   "metadata": {},
   "outputs": [
    {
     "name": "stdout",
     "output_type": "stream",
     "text": [
      "              precision    recall  f1-score   support\n",
      "\n",
      "         0.0       0.59      1.00      0.75       384\n",
      "         1.0       0.00      0.00      0.00       262\n",
      "\n",
      "    accuracy                           0.59       646\n",
      "   macro avg       0.30      0.50      0.37       646\n",
      "weighted avg       0.35      0.59      0.44       646\n",
      "\n",
      "Confusion matrix: \n",
      "[[384   0]\n",
      " [262   0]]\n",
      "Test accuracy: 0.5944272445820433\n"
     ]
    },
    {
     "data": {
      "image/png": "[encoded data removed]",
      "text/plain": [
       "<Figure size 432x288 with 2 Axes>"
      ]
     },
     "metadata": {
      "needs_background": "light"
     },
     "output_type": "display_data"
    }
   ],
   "source": [
    "# Dummy Classifier, most frequent\n",
    "dummy_clf_3yr = DummyClassifier(strategy='most_frequent').fit(x_train_3yr, y_train_3yr)\n",
    "plot_results(dummy_clf_3yr, x_test_3yr, y_test_3yr,save=True,name='randclf_3yr')"
   ]
  },
  {
   "cell_type": "code",
   "execution_count": 19,
   "metadata": {},
   "outputs": [
    {
     "name": "stdout",
     "output_type": "stream",
     "text": [
      "              precision    recall  f1-score   support\n",
      "\n",
      "         0.0       0.59      0.56      0.57       384\n",
      "         1.0       0.39      0.42      0.40       262\n",
      "\n",
      "    accuracy                           0.50       646\n",
      "   macro avg       0.49      0.49      0.49       646\n",
      "weighted avg       0.51      0.50      0.51       646\n",
      "\n",
      "Confusion matrix: \n",
      "[[216 168]\n",
      " [153 109]]\n",
      "Test accuracy: 0.521671826625387\n"
     ]
    },
    {
     "data": {
      "image/png": "[encoded data removed]",
      "text/plain": [
       "<Figure size 432x288 with 2 Axes>"
      ]
     },
     "metadata": {
      "needs_background": "light"
     },
     "output_type": "display_data"
    }
   ],
   "source": [
    "# Dummy Classifier, stratified\n",
    "dummy_clf_3yr = DummyClassifier(strategy='stratified').fit(x_train_3yr, y_train_3yr)\n",
    "plot_results(dummy_clf_3yr, x_test_3yr, y_test_3yr,save=True,name='randclf_3yr')"
   ]
  },
  {
   "cell_type": "markdown",
   "metadata": {},
   "source": [
    "#### S&P"
   ]
  },
  {
   "cell_type": "code",
   "execution_count": 20,
   "metadata": {},
   "outputs": [
    {
     "name": "stdout",
     "output_type": "stream",
     "text": [
      "              precision    recall  f1-score   support\n",
      "\n",
      "         0.0       0.00      0.00      0.00       300\n",
      "         1.0       0.54      1.00      0.70       346\n",
      "\n",
      "    accuracy                           0.54       646\n",
      "   macro avg       0.27      0.50      0.35       646\n",
      "weighted avg       0.29      0.54      0.37       646\n",
      "\n",
      "Confusion matrix: \n",
      "[[  0 300]\n",
      " [  0 346]]\n",
      "Test accuracy: 0.5356037151702786\n"
     ]
    },
    {
     "data": {
      "image/png": "[encoded data removed]",
      "text/plain": [
       "<Figure size 432x288 with 2 Axes>"
      ]
     },
     "metadata": {
      "needs_background": "light"
     },
     "output_type": "display_data"
    }
   ],
   "source": [
    "# Dummy Classifier, most frequent\n",
    "dummy_clf_sp = DummyClassifier(strategy='most_frequent').fit(x_train_sp, y_train_sp)\n",
    "plot_results(dummy_clf_sp, x_test_sp, y_test_sp,save=True,name='randclf_sp')"
   ]
  },
  {
   "cell_type": "code",
   "execution_count": 21,
   "metadata": {},
   "outputs": [
    {
     "name": "stdout",
     "output_type": "stream",
     "text": [
      "              precision    recall  f1-score   support\n",
      "\n",
      "         0.0       0.45      0.46      0.46       300\n",
      "         1.0       0.52      0.51      0.52       346\n",
      "\n",
      "    accuracy                           0.49       646\n",
      "   macro avg       0.49      0.49      0.49       646\n",
      "weighted avg       0.49      0.49      0.49       646\n",
      "\n",
      "Confusion matrix: \n",
      "[[138 162]\n",
      " [168 178]]\n",
      "Test accuracy: 0.5154798761609907\n"
     ]
    },
    {
     "data": {
      "image/png": "[encoded data removed]",
      "text/plain": [
       "<Figure size 432x288 with 2 Axes>"
      ]
     },
     "metadata": {
      "needs_background": "light"
     },
     "output_type": "display_data"
    }
   ],
   "source": [
    "# Dummy Classifier, stratified\n",
    "dummy_clf_sp = DummyClassifier(strategy='stratified').fit(x_train_sp, y_train_sp)\n",
    "plot_results(dummy_clf_sp, x_test_sp, y_test_sp,save=True,name='randclf_sp')"
   ]
  },
  {
   "cell_type": "markdown",
   "metadata": {},
   "source": [
    "### Logistic Regression with TF-IDF\n",
    "#### 1 year rate"
   ]
  },
  {
   "cell_type": "code",
   "execution_count": 22,
   "metadata": {
    "scrolled": false
   },
   "outputs": [
    {
     "name": "stderr",
     "output_type": "stream",
     "text": [
      "C:\\ProgramData\\Anaconda3\\envs\\nlpenv\\lib\\site-packages\\sklearn\\metrics\\_classification.py:1272: UndefinedMetricWarning: Precision and F-score are ill-defined and being set to 0.0 in labels with no predicted samples. Use `zero_division` parameter to control this behavior.\n",
      "  _warn_prf(average, modifier, msg_start, len(result))\n"
     ]
    },
    {
     "name": "stdout",
     "output_type": "stream",
     "text": [
      "              precision    recall  f1-score   support\n",
      "\n",
      "         0.0       0.69      1.00      0.82       445\n",
      "         1.0       0.00      0.00      0.00       201\n",
      "\n",
      "    accuracy                           0.69       646\n",
      "   macro avg       0.34      0.50      0.41       646\n",
      "weighted avg       0.47      0.69      0.56       646\n",
      "\n",
      "Confusion matrix: \n",
      "[[445   0]\n",
      " [201   0]]\n",
      "Test accuracy: 0.6888544891640866\n"
     ]
    },
    {
     "data": {
      "image/png": "[encoded data removed]",
      "text/plain": [
       "<Figure size 432x288 with 2 Axes>"
      ]
     },
     "metadata": {
      "needs_background": "light"
     },
     "output_type": "display_data"
    }
   ],
   "source": [
    "# Logistic regression\n",
    "logreg_1yr = LogisticRegression(random_state=0).fit(x_train_1yr, y_train_1yr)\n",
    "plot_results(logreg_1yr,x_test_1yr, y_test_1yr,save=True,name='logreg_1yr')"
   ]
  },
  {
   "cell_type": "markdown",
   "metadata": {},
   "source": [
    "#### 3 year rate"
   ]
  },
  {
   "cell_type": "code",
   "execution_count": 23,
   "metadata": {},
   "outputs": [
    {
     "name": "stdout",
     "output_type": "stream",
     "text": [
      "              precision    recall  f1-score   support\n",
      "\n",
      "         0.0       0.58      0.90      0.71       384\n",
      "         1.0       0.27      0.05      0.09       262\n",
      "\n",
      "    accuracy                           0.56       646\n",
      "   macro avg       0.43      0.48      0.40       646\n",
      "weighted avg       0.46      0.56      0.46       646\n",
      "\n",
      "Confusion matrix: \n",
      "[[347  37]\n",
      " [248  14]]\n",
      "Test accuracy: 0.5588235294117647\n"
     ]
    },
    {
     "data": {
      "image/png": "[encoded data removed]",
      "text/plain": [
       "<Figure size 432x288 with 2 Axes>"
      ]
     },
     "metadata": {
      "needs_background": "light"
     },
     "output_type": "display_data"
    }
   ],
   "source": [
    "# Logistic regression\n",
    "logreg_3yr = LogisticRegression(random_state=0).fit(x_train_3yr, y_train_3yr)\n",
    "plot_results(logreg_3yr,x_test_3yr, y_test_3yr,save=True,name='logreg_3yr')"
   ]
  },
  {
   "cell_type": "markdown",
   "metadata": {},
   "source": [
    "#### S&P"
   ]
  },
  {
   "cell_type": "code",
   "execution_count": 24,
   "metadata": {},
   "outputs": [
    {
     "name": "stdout",
     "output_type": "stream",
     "text": [
      "              precision    recall  f1-score   support\n",
      "\n",
      "         0.0       0.59      0.34      0.43       300\n",
      "         1.0       0.58      0.79      0.67       346\n",
      "\n",
      "    accuracy                           0.58       646\n",
      "   macro avg       0.58      0.57      0.55       646\n",
      "weighted avg       0.58      0.58      0.56       646\n",
      "\n",
      "Confusion matrix: \n",
      "[[101 199]\n",
      " [ 71 275]]\n",
      "Test accuracy: 0.5820433436532507\n"
     ]
    },
    {
     "data": {
      "image/png": "[encoded data removed]",
      "text/plain": [
       "<Figure size 432x288 with 2 Axes>"
      ]
     },
     "metadata": {
      "needs_background": "light"
     },
     "output_type": "display_data"
    }
   ],
   "source": [
    "# Logistic regression\n",
    "logreg_sp = LogisticRegression(random_state=0).fit(x_train_sp, y_train_sp)\n",
    "plot_results(logreg_sp,x_test_sp, y_test_sp,save=True,name='logreg_sp')"
   ]
  },
  {
   "cell_type": "markdown",
   "metadata": {},
   "source": [
    "### Support Vector Machine with TF-IDF\n",
    "#### 1 year rate"
   ]
  },
  {
   "cell_type": "code",
   "execution_count": 25,
   "metadata": {},
   "outputs": [
    {
     "name": "stderr",
     "output_type": "stream",
     "text": [
      "C:\\ProgramData\\Anaconda3\\envs\\nlpenv\\lib\\site-packages\\sklearn\\metrics\\_classification.py:1272: UndefinedMetricWarning: Precision and F-score are ill-defined and being set to 0.0 in labels with no predicted samples. Use `zero_division` parameter to control this behavior.\n",
      "  _warn_prf(average, modifier, msg_start, len(result))\n"
     ]
    },
    {
     "name": "stdout",
     "output_type": "stream",
     "text": [
      "              precision    recall  f1-score   support\n",
      "\n",
      "         0.0       0.69      1.00      0.82       445\n",
      "         1.0       0.00      0.00      0.00       201\n",
      "\n",
      "    accuracy                           0.69       646\n",
      "   macro avg       0.34      0.50      0.41       646\n",
      "weighted avg       0.47      0.69      0.56       646\n",
      "\n",
      "Confusion matrix: \n",
      "[[445   0]\n",
      " [201   0]]\n",
      "Test accuracy: 0.6888544891640866\n"
     ]
    },
    {
     "data": {
      "image/png": "[encoded data removed]",
      "text/plain": [
       "<Figure size 432x288 with 2 Axes>"
      ]
     },
     "metadata": {
      "needs_background": "light"
     },
     "output_type": "display_data"
    }
   ],
   "source": [
    "svm_clf_1yr = svm.SVC().fit(x_train_1yr, y_train_1yr)\n",
    "plot_results(svm_clf_1yr, x_test_1yr, y_test_1yr,save=True,name='svm_1yr')"
   ]
  },
  {
   "cell_type": "markdown",
   "metadata": {},
   "source": [
    "#### 3 year rate"
   ]
  },
  {
   "cell_type": "code",
   "execution_count": 26,
   "metadata": {},
   "outputs": [
    {
     "name": "stdout",
     "output_type": "stream",
     "text": [
      "              precision    recall  f1-score   support\n",
      "\n",
      "         0.0       0.59      0.98      0.74       384\n",
      "         1.0       0.18      0.01      0.01       262\n",
      "\n",
      "    accuracy                           0.58       646\n",
      "   macro avg       0.39      0.49      0.38       646\n",
      "weighted avg       0.42      0.58      0.44       646\n",
      "\n",
      "Confusion matrix: \n",
      "[[375   9]\n",
      " [260   2]]\n",
      "Test accuracy: 0.5835913312693498\n"
     ]
    },
    {
     "data": {
      "image/png": "[encoded data removed]",
      "text/plain": [
       "<Figure size 432x288 with 2 Axes>"
      ]
     },
     "metadata": {
      "needs_background": "light"
     },
     "output_type": "display_data"
    }
   ],
   "source": [
    "svm_clf_3yr = svm.SVC().fit(x_train_3yr, y_train_3yr)\n",
    "plot_results(svm_clf_3yr, x_test_3yr, y_test_3yr,save=True,name='svm_3yr')"
   ]
  },
  {
   "cell_type": "markdown",
   "metadata": {},
   "source": [
    "#### S&P"
   ]
  },
  {
   "cell_type": "code",
   "execution_count": 27,
   "metadata": {},
   "outputs": [
    {
     "name": "stdout",
     "output_type": "stream",
     "text": [
      "              precision    recall  f1-score   support\n",
      "\n",
      "         0.0       0.59      0.20      0.29       300\n",
      "         1.0       0.56      0.88      0.68       346\n",
      "\n",
      "    accuracy                           0.56       646\n",
      "   macro avg       0.57      0.54      0.49       646\n",
      "weighted avg       0.57      0.56      0.50       646\n",
      "\n",
      "Confusion matrix: \n",
      "[[ 59 241]\n",
      " [ 41 305]]\n",
      "Test accuracy: 0.5634674922600619\n"
     ]
    },
    {
     "data": {
      "image/png": "[encoded data removed]",
      "text/plain": [
       "<Figure size 432x288 with 2 Axes>"
      ]
     },
     "metadata": {
      "needs_background": "light"
     },
     "output_type": "display_data"
    }
   ],
   "source": [
    "svm_clf_sp = svm.SVC().fit(x_train_sp, y_train_sp)\n",
    "plot_results(svm_clf_sp, x_test_sp, y_test_sp,save=True,name='svm_sp')"
   ]
  },
  {
   "cell_type": "markdown",
   "metadata": {},
   "source": [
    "### Random Forest with TF-IDF\n",
    "#### 1 year rate"
   ]
  },
  {
   "cell_type": "code",
   "execution_count": 28,
   "metadata": {},
   "outputs": [
    {
     "name": "stdout",
     "output_type": "stream",
     "text": [
      "Fitting 10 folds for each of 12 candidates, totalling 120 fits\n"
     ]
    },
    {
     "name": "stderr",
     "output_type": "stream",
     "text": [
      "[Parallel(n_jobs=-1)]: Using backend ThreadingBackend with 8 concurrent workers.\n",
      "[Parallel(n_jobs=-1)]: Done  34 tasks      | elapsed:  2.1min\n",
      "[Parallel(n_jobs=-1)]: Done 120 out of 120 | elapsed:  6.9min finished\n"
     ]
    },
    {
     "name": "stdout",
     "output_type": "stream",
     "text": [
      "Best: 0.562360 using {'max_depth': 50, 'n_estimators': 250}\n",
      "0.560059 (0.004583) with: {'max_depth': None, 'n_estimators': 250}\n",
      "0.560870 (0.005897) with: {'max_depth': None, 'n_estimators': 500}\n",
      "0.560870 (0.005897) with: {'max_depth': None, 'n_estimators': 750}\n",
      "0.561274 (0.005298) with: {'max_depth': None, 'n_estimators': 1000}\n",
      "0.562360 (0.006157) with: {'max_depth': 50, 'n_estimators': 250}\n",
      "0.561274 (0.005298) with: {'max_depth': 50, 'n_estimators': 500}\n",
      "0.561274 (0.005298) with: {'max_depth': 50, 'n_estimators': 750}\n",
      "0.561274 (0.005298) with: {'max_depth': 50, 'n_estimators': 1000}\n",
      "0.560869 (0.005103) with: {'max_depth': 100, 'n_estimators': 250}\n",
      "0.560460 (0.005195) with: {'max_depth': 100, 'n_estimators': 500}\n",
      "0.561274 (0.005298) with: {'max_depth': 100, 'n_estimators': 750}\n",
      "0.561274 (0.005298) with: {'max_depth': 100, 'n_estimators': 1000}\n"
     ]
    },
    {
     "name": "stderr",
     "output_type": "stream",
     "text": [
      "C:\\ProgramData\\Anaconda3\\envs\\nlpenv\\lib\\site-packages\\sklearn\\metrics\\_classification.py:1272: UndefinedMetricWarning: Precision and F-score are ill-defined and being set to 0.0 in labels with no predicted samples. Use `zero_division` parameter to control this behavior.\n",
      "  _warn_prf(average, modifier, msg_start, len(result))\n"
     ]
    },
    {
     "name": "stdout",
     "output_type": "stream",
     "text": [
      "              precision    recall  f1-score   support\n",
      "\n",
      "         0.0       0.69      1.00      0.82       445\n",
      "         1.0       0.00      0.00      0.00       201\n",
      "\n",
      "    accuracy                           0.69       646\n",
      "   macro avg       0.34      0.50      0.41       646\n",
      "weighted avg       0.47      0.69      0.56       646\n",
      "\n",
      "Confusion matrix: \n",
      "[[445   0]\n",
      " [201   0]]\n",
      "Test accuracy: 0.6888544891640866\n"
     ]
    },
    {
     "data": {
      "image/png": "[encoded data removed]",
      "text/plain": [
       "<Figure size 432x288 with 2 Axes>"
      ]
     },
     "metadata": {
      "needs_background": "light"
     },
     "output_type": "display_data"
    }
   ],
   "source": [
    "# Random Forest\n",
    "rf_param_grid = dict(max_depth=[None, 50, 100],\n",
    "                  n_estimators=[250, 500, 750, 1000])\n",
    "rf_grid = GridSearchCV(estimator=RandomForestClassifier(), \n",
    "                       param_grid=rf_param_grid, \n",
    "                       n_jobs=-1, \n",
    "                       cv=10, \n",
    "                       scoring='f1_weighted',\n",
    "                       verbose=1)\n",
    "with parallel_backend('threading'):    # This is a bug work-around mentioned in https://github.com/scikit-learn/scikit-learn/issues/12546\n",
    "    rf_grid_result = rf_grid.fit(x_train_1yr, y_train_1yr)\n",
    "# summarize results\n",
    "print(\"Best: %f using %s\" % (rf_grid_result.best_score_, rf_grid_result.best_params_))\n",
    "rf_means = rf_grid_result.cv_results_['mean_test_score']\n",
    "rf_stds = rf_grid_result.cv_results_['std_test_score']\n",
    "rf_params = rf_grid_result.cv_results_['params']\n",
    "for mean, stdev, param in zip(rf_means, rf_stds, rf_params):\n",
    "    print(\"%f (%f) with: %r\" % (mean, stdev, param))\n",
    "\n",
    "# Fit the model with the best parameters found in the cross validation. \n",
    "randomforest_1yr = RandomForestClassifier(max_depth=rf_grid_result.best_params_['max_depth'],\n",
    "                                      n_estimators=rf_grid_result.best_params_['n_estimators']).fit(x_train_1yr, y_train_1yr)\n",
    "plot_results(randomforest_1yr,x_test_1yr, y_test_1yr,save=True,name='rf_1yr_md{}_est_{}'.format(rf_grid_result.best_params_['max_depth'],\n",
    "                                                                                rf_grid_result.best_params_['n_estimators']))"
   ]
  },
  {
   "cell_type": "markdown",
   "metadata": {},
   "source": [
    "#### 3 year rate"
   ]
  },
  {
   "cell_type": "code",
   "execution_count": 29,
   "metadata": {
    "scrolled": true
   },
   "outputs": [
    {
     "name": "stdout",
     "output_type": "stream",
     "text": [
      "Fitting 10 folds for each of 12 candidates, totalling 120 fits\n"
     ]
    },
    {
     "name": "stderr",
     "output_type": "stream",
     "text": [
      "[Parallel(n_jobs=-1)]: Using backend ThreadingBackend with 8 concurrent workers.\n",
      "[Parallel(n_jobs=-1)]: Done  34 tasks      | elapsed:  1.8min\n",
      "[Parallel(n_jobs=-1)]: Done 120 out of 120 | elapsed:  6.1min finished\n"
     ]
    },
    {
     "name": "stdout",
     "output_type": "stream",
     "text": [
      "Best: 0.485942 using {'max_depth': None, 'n_estimators': 750}\n",
      "0.473483 (0.027236) with: {'max_depth': None, 'n_estimators': 250}\n",
      "0.472606 (0.021685) with: {'max_depth': None, 'n_estimators': 500}\n",
      "0.485942 (0.033250) with: {'max_depth': None, 'n_estimators': 750}\n",
      "0.477900 (0.016933) with: {'max_depth': None, 'n_estimators': 1000}\n",
      "0.482212 (0.035021) with: {'max_depth': 50, 'n_estimators': 250}\n",
      "0.472601 (0.020357) with: {'max_depth': 50, 'n_estimators': 500}\n",
      "0.467183 (0.020846) with: {'max_depth': 50, 'n_estimators': 750}\n",
      "0.466734 (0.026007) with: {'max_depth': 50, 'n_estimators': 1000}\n",
      "0.472704 (0.016760) with: {'max_depth': 100, 'n_estimators': 250}\n",
      "0.481905 (0.032320) with: {'max_depth': 100, 'n_estimators': 500}\n",
      "0.472737 (0.020644) with: {'max_depth': 100, 'n_estimators': 750}\n",
      "0.484128 (0.023214) with: {'max_depth': 100, 'n_estimators': 1000}\n",
      "              precision    recall  f1-score   support\n",
      "\n",
      "         0.0       0.59      0.95      0.73       384\n",
      "         1.0       0.38      0.04      0.08       262\n",
      "\n",
      "    accuracy                           0.58       646\n",
      "   macro avg       0.49      0.50      0.40       646\n",
      "weighted avg       0.51      0.58      0.47       646\n",
      "\n",
      "Confusion matrix: \n",
      "[[366  18]\n",
      " [251  11]]\n",
      "Test accuracy: 0.5835913312693498\n"
     ]
    },
    {
     "data": {
      "image/png": "[encoded data removed]",
      "text/plain": [
       "<Figure size 432x288 with 2 Axes>"
      ]
     },
     "metadata": {
      "needs_background": "light"
     },
     "output_type": "display_data"
    }
   ],
   "source": [
    "# Random Forest\n",
    "rf_param_grid = dict(max_depth=[None, 50, 100],\n",
    "                  n_estimators=[250, 500, 750, 1000])\n",
    "rf_grid = GridSearchCV(estimator=RandomForestClassifier(), \n",
    "                       param_grid=rf_param_grid, \n",
    "                       n_jobs=-1, \n",
    "                       cv=10, \n",
    "                       scoring='f1_weighted',\n",
    "                       verbose=1)\n",
    "with parallel_backend('threading'):    # This is a bug work-around mentioned in https://github.com/scikit-learn/scikit-learn/issues/12546\n",
    "    rf_grid_result = rf_grid.fit(x_train_3yr, y_train_3yr)\n",
    "# summarize results\n",
    "print(\"Best: %f using %s\" % (rf_grid_result.best_score_, rf_grid_result.best_params_))\n",
    "rf_means = rf_grid_result.cv_results_['mean_test_score']\n",
    "rf_stds = rf_grid_result.cv_results_['std_test_score']\n",
    "rf_params = rf_grid_result.cv_results_['params']\n",
    "for mean, stdev, param in zip(rf_means, rf_stds, rf_params):\n",
    "    print(\"%f (%f) with: %r\" % (mean, stdev, param))\n",
    "\n",
    "# Fit the model with the best parameters found in the cross validation. \n",
    "randomforest_3yr = RandomForestClassifier(max_depth=rf_grid_result.best_params_['max_depth'],\n",
    "                                      n_estimators=rf_grid_result.best_params_['n_estimators']).fit(x_train_3yr, y_train_3yr)\n",
    "plot_results(randomforest_3yr,x_test_3yr, y_test_3yr,save=True,name='rf_3yr_md{}_est_{}'.format(rf_grid_result.best_params_['max_depth'],\n",
    "                                                                                rf_grid_result.best_params_['n_estimators']))"
   ]
  },
  {
   "cell_type": "markdown",
   "metadata": {},
   "source": [
    "#### S&P"
   ]
  },
  {
   "cell_type": "code",
   "execution_count": 30,
   "metadata": {
    "scrolled": false
   },
   "outputs": [
    {
     "name": "stdout",
     "output_type": "stream",
     "text": [
      "Fitting 10 folds for each of 12 candidates, totalling 120 fits\n"
     ]
    },
    {
     "name": "stderr",
     "output_type": "stream",
     "text": [
      "[Parallel(n_jobs=-1)]: Using backend ThreadingBackend with 8 concurrent workers.\n",
      "[Parallel(n_jobs=-1)]: Done  34 tasks      | elapsed:  1.7min\n",
      "[Parallel(n_jobs=-1)]: Done 120 out of 120 | elapsed:  5.8min finished\n"
     ]
    },
    {
     "name": "stdout",
     "output_type": "stream",
     "text": [
      "Best: 0.571485 using {'max_depth': 100, 'n_estimators': 500}\n",
      "0.564926 (0.055582) with: {'max_depth': None, 'n_estimators': 250}\n",
      "0.563154 (0.049418) with: {'max_depth': None, 'n_estimators': 500}\n",
      "0.551199 (0.048140) with: {'max_depth': None, 'n_estimators': 750}\n",
      "0.553701 (0.044519) with: {'max_depth': None, 'n_estimators': 1000}\n",
      "0.547454 (0.035312) with: {'max_depth': 50, 'n_estimators': 250}\n",
      "0.559300 (0.042648) with: {'max_depth': 50, 'n_estimators': 500}\n",
      "0.562581 (0.052102) with: {'max_depth': 50, 'n_estimators': 750}\n",
      "0.539605 (0.065050) with: {'max_depth': 50, 'n_estimators': 1000}\n",
      "0.562027 (0.055717) with: {'max_depth': 100, 'n_estimators': 250}\n",
      "0.571485 (0.051586) with: {'max_depth': 100, 'n_estimators': 500}\n",
      "0.546368 (0.042284) with: {'max_depth': 100, 'n_estimators': 750}\n",
      "0.555420 (0.047202) with: {'max_depth': 100, 'n_estimators': 1000}\n",
      "              precision    recall  f1-score   support\n",
      "\n",
      "         0.0       0.64      0.28      0.39       300\n",
      "         1.0       0.58      0.86      0.69       346\n",
      "\n",
      "    accuracy                           0.59       646\n",
      "   macro avg       0.61      0.57      0.54       646\n",
      "weighted avg       0.61      0.59      0.55       646\n",
      "\n",
      "Confusion matrix: \n",
      "[[ 83 217]\n",
      " [ 47 299]]\n",
      "Test accuracy: 0.5913312693498453\n"
     ]
    },
    {
     "data": {
      "image/png": "[encoded data removed]",
      "text/plain": [
       "<Figure size 432x288 with 2 Axes>"
      ]
     },
     "metadata": {
      "needs_background": "light"
     },
     "output_type": "display_data"
    }
   ],
   "source": [
    "# Random Forest\n",
    "rf_param_grid = dict(max_depth=[None, 50, 100],\n",
    "                  n_estimators=[250, 500, 750, 1000])\n",
    "rf_grid = GridSearchCV(estimator=RandomForestClassifier(), \n",
    "                       param_grid=rf_param_grid, \n",
    "                       n_jobs=-1, \n",
    "                       cv=10, \n",
    "                       scoring='f1_weighted',\n",
    "                       verbose=1)\n",
    "with parallel_backend('threading'):    # This is a bug work-around mentioned in https://github.com/scikit-learn/scikit-learn/issues/12546\n",
    "    rf_grid_result = rf_grid.fit(x_train_sp, y_train_sp)\n",
    "# summarize results\n",
    "print(\"Best: %f using %s\" % (rf_grid_result.best_score_, rf_grid_result.best_params_))\n",
    "rf_means = rf_grid_result.cv_results_['mean_test_score']\n",
    "rf_stds = rf_grid_result.cv_results_['std_test_score']\n",
    "rf_params = rf_grid_result.cv_results_['params']\n",
    "for mean, stdev, param in zip(rf_means, rf_stds, rf_params):\n",
    "    print(\"%f (%f) with: %r\" % (mean, stdev, param))\n",
    "\n",
    "# Fit the model with the best parameters found in the cross validation. \n",
    "randomforest_sp = RandomForestClassifier(max_depth=rf_grid_result.best_params_['max_depth'],\n",
    "                                      n_estimators=rf_grid_result.best_params_['n_estimators']).fit(x_train_sp, y_train_sp)\n",
    "plot_results(randomforest_sp,x_test_sp, y_test_sp,save=True,name='rf_sp_md{}_est_{}'.format(rf_grid_result.best_params_['max_depth'],\n",
    "                                                                                rf_grid_result.best_params_['n_estimators']))"
   ]
  },
  {
   "cell_type": "markdown",
   "metadata": {},
   "source": [
    "### Neural Network"
   ]
  },
  {
   "cell_type": "code",
   "execution_count": 31,
   "metadata": {},
   "outputs": [],
   "source": [
    "def create_model(nodes1=100, nodes2=50, dropout_rate=0.3, optimizer='rmsprop', learning_rate=0.001):\n",
    "    if optimizer.lower() == 'rmsprop': \n",
    "        optimizer = RMSprop(learning_rate = learning_rate)\n",
    "    elif optimizer.lower() == 'adam':\n",
    "        optimizer = Adam(learning_rate = learning_rate)\n",
    "    model = Sequential() \n",
    "    if nodes1 == 0: \n",
    "        model.add(Dense(1, input_shape=x_train_1yr.shape[1:], activation='sigmoid'))\n",
    "        model.compile(optimizer=optimizer, loss='binary_crossentropy', metrics=['acc'])\n",
    "        return model \n",
    "    model.add(Dense(nodes1, input_shape=x_train_1yr.shape[1:]))\n",
    "    model.add(Dropout(dropout_rate))\n",
    "    if nodes2 == 0: \n",
    "        model.add(Dense(1, activation='sigmoid'))\n",
    "        model.compile(optimizer=optimizer, loss='binary_crossentropy', metrics=['acc'])\n",
    "        return model\n",
    "    model.add(Dense(nodes2))\n",
    "    model.add(Dropout(dropout_rate))\n",
    "    model.add(Dense(1, activation='sigmoid'))\n",
    "    model.compile(optimizer=optimizer, loss='binary_crossentropy', metrics=['acc'])\n",
    "    return model \n",
    "\n",
    "def randomize_params(params, n):\n",
    "    test_params = []\n",
    "    for i in range(n):\n",
    "        temp_par = {}\n",
    "        while True: \n",
    "            for par in params: \n",
    "                temp_par.update({par: np.random.choice(params[par])})\n",
    "            if temp_par not in test_params: \n",
    "                test_params.append(temp_par)\n",
    "                break\n",
    "    return test_params"
   ]
  },
  {
   "cell_type": "code",
   "execution_count": 32,
   "metadata": {},
   "outputs": [],
   "source": [
    "n_tests = 50\n",
    "# Define possible parameters \n",
    "possible_params = dict(batch_size = [8, 16, 32],\n",
    "                       nodes1 = [50, 100, 250, 500],\n",
    "                       nodes2 = [0, 50, 100, 250, 500], # 0 implies only one hidden layer \n",
    "                       dropout_rate = [0.1, 0.3, 0.5],\n",
    "                       learning_rate = [1e-3, 1e-4, 1e-5],\n",
    "                       optimizer = ['RMSprop','Adam'])\n",
    "test_params = randomize_params(possible_params, n_tests)"
   ]
  },
  {
   "cell_type": "markdown",
   "metadata": {},
   "source": [
    "#### 1 year rate"
   ]
  },
  {
   "cell_type": "code",
   "execution_count": 33,
   "metadata": {},
   "outputs": [
    {
     "name": "stderr",
     "output_type": "stream",
     "text": [
      "\r",
      "  0%|                                                                                           | 0/50 [00:00<?, ?it/s]"
     ]
    },
    {
     "name": "stdout",
     "output_type": "stream",
     "text": [
      "WARNING:tensorflow:From C:\\ProgramData\\Anaconda3\\envs\\nlpenv\\lib\\site-packages\\tensorflow_core\\python\\ops\\resource_variable_ops.py:1630: calling BaseResourceVariable.__init__ (from tensorflow.python.ops.resource_variable_ops) with constraint is deprecated and will be removed in a future version.\n",
      "Instructions for updating:\n",
      "If using Keras pass *_constraint arguments to layers.\n",
      "WARNING:tensorflow:From C:\\ProgramData\\Anaconda3\\envs\\nlpenv\\lib\\site-packages\\tensorflow_core\\python\\ops\\nn_impl.py:183: where (from tensorflow.python.ops.array_ops) is deprecated and will be removed in a future version.\n",
      "Instructions for updating:\n",
      "Use tf.where in 2.0, which has the same broadcast rule as np.where\n"
     ]
    },
    {
     "name": "stderr",
     "output_type": "stream",
     "text": [
      "100%|██████████████████████████████████████████████████████████████████████████████████| 50/50 [05:22<00:00,  6.45s/it]"
     ]
    },
    {
     "name": "stdout",
     "output_type": "stream",
     "text": [
      "Best val acc: 0.6458333\n",
      "For config:  {'nodes1': 50, 'nodes2': 250, 'dropout_rate': 0.1, 'learning_rate': 1e-05, 'optimizer': 'Adam', 'batch_size': 32}\n"
     ]
    },
    {
     "name": "stderr",
     "output_type": "stream",
     "text": [
      "\n"
     ]
    }
   ],
   "source": [
    "historylist_1yr = []\n",
    "for i,params in enumerate(tqdm(test_params)): \n",
    "    bs = params.pop('batch_size')\n",
    "    model = create_model(**params)\n",
    "    params.update({'batch_size': bs})\n",
    "    history = model.fit(x_train_1yr, y_train_1yr,\n",
    "                        epochs=10000,\n",
    "                        batch_size=params['batch_size'],\n",
    "                        verbose=0,\n",
    "                        callbacks=[EarlyStopping(monitor='val_acc', patience=2, restore_best_weights=True)],\n",
    "                        validation_split=0.2)\n",
    "    historylist_1yr.append(history)\n",
    "max_acc_1yr = -1\n",
    "max_idx_1yr = -1\n",
    "for i,hist in enumerate(historylist_1yr):\n",
    "    if max(hist.history['val_acc']) > max_acc_1yr: \n",
    "        max_acc_1yr = max(hist.history['val_acc'])\n",
    "        max_idx_1yr = i\n",
    "    \n",
    "print(\"Best val acc:\",max_acc_1yr)\n",
    "print(\"For config: \",test_params[max_idx_1yr])"
   ]
  },
  {
   "cell_type": "code",
   "execution_count": 34,
   "metadata": {},
   "outputs": [
    {
     "name": "stdout",
     "output_type": "stream",
     "text": [
      "Train on 960 samples, validate on 240 samples\n",
      "Epoch 1/100000\n",
      "960/960 [==============================] - 2s 2ms/sample - loss: 0.6923 - acc: 0.5604 - val_loss: 0.6911 - val_acc: 0.6125\n",
      "Epoch 2/100000\n",
      "960/960 [==============================] - 0s 417us/sample - loss: 0.6889 - acc: 0.6802 - val_loss: 0.6891 - val_acc: 0.6417\n",
      "Epoch 3/100000\n",
      "960/960 [==============================] - 0s 401us/sample - loss: 0.6859 - acc: 0.6979 - val_loss: 0.6870 - val_acc: 0.6417\n",
      "Epoch 4/100000\n",
      "960/960 [==============================] - 0s 385us/sample - loss: 0.6825 - acc: 0.7000 - val_loss: 0.6848 - val_acc: 0.6417\n",
      "Epoch 5/100000\n",
      "960/960 [==============================] - 0s 417us/sample - loss: 0.6792 - acc: 0.7000 - val_loss: 0.6827 - val_acc: 0.6417\n",
      "Epoch 6/100000\n",
      "960/960 [==============================] - 0s 434us/sample - loss: 0.6754 - acc: 0.7000 - val_loss: 0.6805 - val_acc: 0.6417\n",
      "Epoch 7/100000\n",
      "960/960 [==============================] - 1s 1ms/sample - loss: 0.6715 - acc: 0.7000 - val_loss: 0.6782 - val_acc: 0.6417\n"
     ]
    },
    {
     "data": {
      "image/png": "[encoded data removed]",
      "text/plain": [
       "<Figure size 432x288 with 2 Axes>"
      ]
     },
     "metadata": {
      "needs_background": "light"
     },
     "output_type": "display_data"
    },
    {
     "data": {
      "image/png": "[encoded data removed]",
      "text/plain": [
       "<Figure size 432x288 with 2 Axes>"
      ]
     },
     "metadata": {
      "needs_background": "light"
     },
     "output_type": "display_data"
    },
    {
     "name": "stdout",
     "output_type": "stream",
     "text": [
      "Confusion matrix: \n",
      "[[442   3]\n",
      " [201   0]]\n"
     ]
    },
    {
     "data": {
      "image/png": "[encoded data removed]",
      "text/plain": [
       "<Figure size 432x288 with 2 Axes>"
      ]
     },
     "metadata": {
      "needs_background": "light"
     },
     "output_type": "display_data"
    },
    {
     "name": "stdout",
     "output_type": "stream",
     "text": [
      "              precision    recall  f1-score   support\n",
      "\n",
      "         0.0       0.69      0.99      0.81       445\n",
      "         1.0       0.00      0.00      0.00       201\n",
      "\n",
      "    accuracy                           0.68       646\n",
      "   macro avg       0.34      0.50      0.41       646\n",
      "weighted avg       0.47      0.68      0.56       646\n",
      "\n",
      "Test accuracy: 0.684\n"
     ]
    }
   ],
   "source": [
    "bs = test_params[max_idx_1yr].pop('batch_size')\n",
    "model_ff_1yr = create_model(**test_params[max_idx_1yr])\n",
    "test_params[max_idx_1yr].update({'batch_size': bs})\n",
    "\n",
    "history_1yr = model_ff_1yr.fit(x_train_1yr, y_train_1yr,\n",
    "                               epochs=100000,\n",
    "                               batch_size = bs,\n",
    "                               verbose=1,\n",
    "                               callbacks = [EarlyStopping(monitor='val_acc', patience=5, restore_best_weights=True)],\n",
    "                               validation_split=0.2)\n",
    "savename_1yr = \"nn_bs{}_n1{}_n2{}_dr{}_lr{}_opt{}\".format(test_params[max_idx_1yr]['batch_size'],\n",
    "                                                          test_params[max_idx_1yr]['nodes1'],\n",
    "                                                          test_params[max_idx_1yr]['nodes2'],\n",
    "                                                          test_params[max_idx_1yr]['dropout_rate'],\n",
    "                                                          test_params[max_idx_1yr]['learning_rate'],\n",
    "                                                          test_params[max_idx_1yr]['optimizer'])\n",
    "plot_results_nn(history_1yr,model_ff_1yr,x_test_1yr, y_test_1yr,save=True, name=savename_1yr)"
   ]
  },
  {
   "cell_type": "markdown",
   "metadata": {},
   "source": [
    "#### 3 year rate"
   ]
  },
  {
   "cell_type": "code",
   "execution_count": 35,
   "metadata": {
    "scrolled": true
   },
   "outputs": [
    {
     "name": "stderr",
     "output_type": "stream",
     "text": [
      "100%|██████████████████████████████████████████████████████████████████████████████████| 50/50 [12:17<00:00, 14.76s/it]"
     ]
    },
    {
     "name": "stdout",
     "output_type": "stream",
     "text": [
      "Best val acc: 0.6125\n",
      "For config:  {'nodes1': 50, 'nodes2': 0, 'dropout_rate': 0.1, 'learning_rate': 0.001, 'optimizer': 'RMSprop', 'batch_size': 16}\n"
     ]
    },
    {
     "name": "stderr",
     "output_type": "stream",
     "text": [
      "\n"
     ]
    }
   ],
   "source": [
    "historylist_3yr = []\n",
    "for i,params in enumerate(tqdm(test_params)): \n",
    "    bs = params.pop('batch_size')\n",
    "    model = create_model(**params)\n",
    "    params.update({'batch_size': bs})\n",
    "    history = model.fit(x_train_3yr, y_train_3yr,\n",
    "                        epochs=10000,\n",
    "                        batch_size=params['batch_size'],\n",
    "                        verbose=0,\n",
    "                        callbacks=[EarlyStopping(monitor='val_acc', patience=2, restore_best_weights=True)],\n",
    "                        validation_split=0.2)\n",
    "    historylist_3yr.append(history)\n",
    "max_acc_3yr = -1\n",
    "max_idx_3yr = -1\n",
    "for i,hist in enumerate(historylist_3yr):\n",
    "    if max(hist.history['val_acc']) > max_acc_3yr: \n",
    "        max_acc_3yr = max(hist.history['val_acc'])\n",
    "        max_idx_3yr = i\n",
    "    \n",
    "print(\"Best val acc:\",max_acc_3yr)\n",
    "print(\"For config: \",test_params[max_idx_3yr])"
   ]
  },
  {
   "cell_type": "code",
   "execution_count": 36,
   "metadata": {},
   "outputs": [
    {
     "name": "stdout",
     "output_type": "stream",
     "text": [
      "Train on 960 samples, validate on 240 samples\n",
      "Epoch 1/100000\n",
      "960/960 [==============================] - 5s 6ms/sample - loss: 0.6784 - acc: 0.5927 - val_loss: 0.6739 - val_acc: 0.5792\n",
      "Epoch 2/100000\n",
      "960/960 [==============================] - 1s 1ms/sample - loss: 0.5994 - acc: 0.6510 - val_loss: 0.6699 - val_acc: 0.5917\n",
      "Epoch 3/100000\n",
      "960/960 [==============================] - 1s 1ms/sample - loss: 0.5082 - acc: 0.8156 - val_loss: 0.6650 - val_acc: 0.6083\n",
      "Epoch 4/100000\n",
      "960/960 [==============================] - 1s 1ms/sample - loss: 0.4035 - acc: 0.9396 - val_loss: 0.6675 - val_acc: 0.6125\n",
      "Epoch 5/100000\n",
      "960/960 [==============================] - 1s 1ms/sample - loss: 0.3045 - acc: 0.9792 - val_loss: 0.6809 - val_acc: 0.5917\n",
      "Epoch 6/100000\n",
      "960/960 [==============================] - 1s 1ms/sample - loss: 0.2200 - acc: 0.9927 - val_loss: 0.7037 - val_acc: 0.5875\n",
      "Epoch 7/100000\n",
      "960/960 [==============================] - 1s 1ms/sample - loss: 0.1520 - acc: 0.9979 - val_loss: 0.7502 - val_acc: 0.5875\n",
      "Epoch 8/100000\n",
      "960/960 [==============================] - 1s 1ms/sample - loss: 0.0998 - acc: 0.9979 - val_loss: 0.7789 - val_acc: 0.5583\n",
      "Epoch 9/100000\n",
      "960/960 [==============================] - 3s 3ms/sample - loss: 0.0632 - acc: 1.0000 - val_loss: 0.8474 - val_acc: 0.5750\n"
     ]
    },
    {
     "data": {
      "image/png": "[encoded data removed]",
      "text/plain": [
       "<Figure size 432x288 with 2 Axes>"
      ]
     },
     "metadata": {
      "needs_background": "light"
     },
     "output_type": "display_data"
    },
    {
     "data": {
      "image/png": "[encoded data removed]",
      "text/plain": [
       "<Figure size 432x288 with 2 Axes>"
      ]
     },
     "metadata": {
      "needs_background": "light"
     },
     "output_type": "display_data"
    },
    {
     "name": "stdout",
     "output_type": "stream",
     "text": [
      "Confusion matrix: \n",
      "[[311  73]\n",
      " [212  50]]\n"
     ]
    },
    {
     "data": {
      "image/png": "[encoded data removed]",
      "text/plain": [
       "<Figure size 432x288 with 2 Axes>"
      ]
     },
     "metadata": {
      "needs_background": "light"
     },
     "output_type": "display_data"
    },
    {
     "name": "stdout",
     "output_type": "stream",
     "text": [
      "              precision    recall  f1-score   support\n",
      "\n",
      "         0.0       0.59      0.81      0.69       384\n",
      "         1.0       0.41      0.19      0.26       262\n",
      "\n",
      "    accuracy                           0.56       646\n",
      "   macro avg       0.50      0.50      0.47       646\n",
      "weighted avg       0.52      0.56      0.51       646\n",
      "\n",
      "Test accuracy: 0.559\n"
     ]
    }
   ],
   "source": [
    "bs = test_params[max_idx_3yr].pop('batch_size')\n",
    "model_ff_3yr = create_model(**test_params[max_idx_3yr])\n",
    "test_params[max_idx_3yr].update({'batch_size': bs})\n",
    "\n",
    "history_3yr = model_ff_3yr.fit(x_train_3yr, y_train_3yr,\n",
    "                               epochs=100000,\n",
    "                               batch_size = bs,\n",
    "                               verbose=1,\n",
    "                               callbacks = [EarlyStopping(monitor='val_acc', patience=5, restore_best_weights=True)],\n",
    "                               validation_split=0.2)\n",
    "savename_3yr = \"nn_bs{}_n1{}_n2{}_dr{}_lr{}_opt{}\".format(test_params[max_idx_3yr]['batch_size'],\n",
    "                                                          test_params[max_idx_3yr]['nodes1'],\n",
    "                                                          test_params[max_idx_3yr]['nodes2'],\n",
    "                                                          test_params[max_idx_3yr]['dropout_rate'],\n",
    "                                                          test_params[max_idx_3yr]['learning_rate'],\n",
    "                                                          test_params[max_idx_3yr]['optimizer'])\n",
    "plot_results_nn(history_3yr,model_ff_3yr,x_test_3yr, y_test_3yr,save=True, name=savename_3yr)\n"
   ]
  },
  {
   "cell_type": "markdown",
   "metadata": {},
   "source": [
    "#### S&P"
   ]
  },
  {
   "cell_type": "code",
   "execution_count": 37,
   "metadata": {},
   "outputs": [
    {
     "name": "stderr",
     "output_type": "stream",
     "text": [
      "100%|██████████████████████████████████████████████████████████████████████████████████| 50/50 [21:55<00:00, 26.32s/it]"
     ]
    },
    {
     "name": "stdout",
     "output_type": "stream",
     "text": [
      "Best val acc: 0.625\n",
      "For config:  {'nodes1': 250, 'nodes2': 100, 'dropout_rate': 0.1, 'learning_rate': 0.0001, 'optimizer': 'RMSprop', 'batch_size': 16}\n"
     ]
    },
    {
     "name": "stderr",
     "output_type": "stream",
     "text": [
      "\n"
     ]
    }
   ],
   "source": [
    "historylist_sp = []\n",
    "for i,params in enumerate(tqdm(test_params)): \n",
    "    bs = params.pop('batch_size')\n",
    "    model = create_model(**params)\n",
    "    params.update({'batch_size': bs})\n",
    "    history = model.fit(x_train_sp, y_train_sp,\n",
    "                        epochs=10000,\n",
    "                        batch_size=params['batch_size'],\n",
    "                        verbose=0,\n",
    "                        callbacks=[EarlyStopping(monitor='val_acc', patience=2, restore_best_weights=True)],\n",
    "                        validation_split=0.2)\n",
    "    historylist_sp.append(history)\n",
    "max_acc_sp = -1\n",
    "max_idx_sp = -1\n",
    "for i,hist in enumerate(historylist_sp):\n",
    "    if max(hist.history['val_acc']) > max_acc_sp: \n",
    "        max_acc_sp = max(hist.history['val_acc'])\n",
    "        max_idx_sp = i\n",
    "    \n",
    "print(\"Best val acc:\",max_acc_sp)\n",
    "print(\"For config: \",test_params[max_idx_sp])"
   ]
  },
  {
   "cell_type": "code",
   "execution_count": 38,
   "metadata": {},
   "outputs": [
    {
     "name": "stdout",
     "output_type": "stream",
     "text": [
      "Train on 960 samples, validate on 240 samples\n",
      "Epoch 1/100000\n",
      "960/960 [==============================] - 13s 13ms/sample - loss: 0.6916 - acc: 0.5250 - val_loss: 0.6859 - val_acc: 0.5583\n",
      "Epoch 2/100000\n",
      "960/960 [==============================] - 3s 3ms/sample - loss: 0.6739 - acc: 0.5396 - val_loss: 0.6826 - val_acc: 0.5625\n",
      "Epoch 3/100000\n",
      "960/960 [==============================] - 3s 3ms/sample - loss: 0.6475 - acc: 0.6521 - val_loss: 0.6795 - val_acc: 0.5792\n",
      "Epoch 4/100000\n",
      "960/960 [==============================] - 3s 3ms/sample - loss: 0.6072 - acc: 0.7948 - val_loss: 0.6767 - val_acc: 0.6208\n",
      "Epoch 5/100000\n",
      "960/960 [==============================] - 3s 3ms/sample - loss: 0.5471 - acc: 0.9260 - val_loss: 0.6745 - val_acc: 0.6083\n",
      "Epoch 6/100000\n",
      "960/960 [==============================] - 3s 3ms/sample - loss: 0.4690 - acc: 0.9500 - val_loss: 0.6768 - val_acc: 0.5958\n",
      "Epoch 7/100000\n",
      "960/960 [==============================] - 3s 3ms/sample - loss: 0.3852 - acc: 0.9719 - val_loss: 0.6800 - val_acc: 0.5917\n",
      "Epoch 8/100000\n",
      "960/960 [==============================] - 3s 3ms/sample - loss: 0.3013 - acc: 0.9802 - val_loss: 0.6871 - val_acc: 0.5875\n",
      "Epoch 9/100000\n",
      "960/960 [==============================] - 8s 8ms/sample - loss: 0.2236 - acc: 0.9948 - val_loss: 0.7184 - val_acc: 0.5375\n"
     ]
    },
    {
     "data": {
      "image/png": "[encoded data removed]",
      "text/plain": [
       "<Figure size 432x288 with 2 Axes>"
      ]
     },
     "metadata": {
      "needs_background": "light"
     },
     "output_type": "display_data"
    },
    {
     "data": {
      "image/png": "[encoded data removed]",
      "text/plain": [
       "<Figure size 432x288 with 2 Axes>"
      ]
     },
     "metadata": {
      "needs_background": "light"
     },
     "output_type": "display_data"
    },
    {
     "name": "stdout",
     "output_type": "stream",
     "text": [
      "Confusion matrix: \n",
      "[[ 46 254]\n",
      " [ 31 315]]\n"
     ]
    },
    {
     "data": {
      "image/png": "[encoded data removed]",
      "text/plain": [
       "<Figure size 432x288 with 2 Axes>"
      ]
     },
     "metadata": {
      "needs_background": "light"
     },
     "output_type": "display_data"
    },
    {
     "name": "stdout",
     "output_type": "stream",
     "text": [
      "              precision    recall  f1-score   support\n",
      "\n",
      "         0.0       0.60      0.15      0.24       300\n",
      "         1.0       0.55      0.91      0.69       346\n",
      "\n",
      "    accuracy                           0.56       646\n",
      "   macro avg       0.58      0.53      0.47       646\n",
      "weighted avg       0.57      0.56      0.48       646\n",
      "\n",
      "Test accuracy: 0.559\n"
     ]
    }
   ],
   "source": [
    "bs = test_params[max_idx_sp].pop('batch_size')\n",
    "model_ff_sp = create_model(**test_params[max_idx_sp])\n",
    "test_params[max_idx_sp].update({'batch_size': bs})\n",
    "\n",
    "history_sp = model_ff_sp.fit(x_train_sp, y_train_sp,\n",
    "                               epochs=100000,\n",
    "                               batch_size = bs,\n",
    "                               verbose=1,\n",
    "                               callbacks = [EarlyStopping(monitor='val_acc', patience=5, restore_best_weights=True)],\n",
    "                               validation_split=0.2)\n",
    "savename_sp = \"nn_bs{}_n1{}_n2{}_dr{}_lr{}_opt{}\".format(test_params[max_idx_sp]['batch_size'],\n",
    "                                                          test_params[max_idx_sp]['nodes1'],\n",
    "                                                          test_params[max_idx_sp]['nodes2'],\n",
    "                                                          test_params[max_idx_sp]['dropout_rate'],\n",
    "                                                          test_params[max_idx_sp]['learning_rate'],\n",
    "                                                          test_params[max_idx_sp]['optimizer'])\n",
    "plot_results_nn(history_sp,model_ff_sp,x_test_sp, y_test_sp,save=True, name=savename_sp)\n"
   ]
  },
  {
   "cell_type": "code",
   "execution_count": null,
   "metadata": {},
   "outputs": [],
   "source": []
  },
  {
   "cell_type": "markdown",
   "metadata": {},
   "source": [
    "# Results\n",
    "\n",
    "The following results were achieved on the independent test set on the 1 year rate, 3 year rate and S&P-500 index. Note that only the 10000 most common words were included in the vocabulary, to reduce the dimensionality. \n",
    "### <center> 1 year rate </center>\n",
    "|               Model          |  Test Accuracy (%)  | Test weighted f1-score | Hyperparameters |\n",
    "| :--------------------------- | ------------------- | ---------------------: | --------------- |\n",
    "| Random Classifier            |          62         |          0.487         |       N/A       |\n",
    "| Logistic Regression          |          54         |          0.64          |       N/A       |\n",
    "| Support Vector Machine       |         52.4        |          0.62          |       N/A       |\n",
    "| Random Forest                |         0.00        |                        |n_estimators=3000, max_depth=None |\n",
    "| XGBoost                      |         0.00        |                        |n_estimators=1000 |\n",
    "| Multi Layer Perceptron       |         0.00        |                        |batch_size=8,depth=2,dropout_rate=0.2,nodes=250 |\n",
    "\n",
    "### <center> 3 year rate </center>\n",
    "|               Model          |  Test Accuracy (%)  | Test weighted f1-score | Hyperparameters |\n",
    "| :--------------------------- | ------------------- | ---------------------: | --------------- |\n",
    "| Random Classifier            |         53.3        |          0.50          |       N/A       |\n",
    "| Logistic Regression          |         53.3        |          0.55          |       N/A       |\n",
    "| Support Vector Machine       |         52.6        |          0.55          |       N/A       |\n",
    "| Random Forest                |         0.00        |                        |n_estimators=3000, max_depth=None |\n",
    "| XGBoost                      |         0.00        |                        |n_estimators=1000 |\n",
    "| Multi Layer Perceptron       |         0.00        |                        |batch_size=8,depth=2,dropout_rate=0.2,nodes=250 |\n",
    "\n",
    "### <center> S&P-500 </center> \n",
    "|               Model          |  Test Accuracy (%)  | Test weighted f1-score | Hyperparameters |\n",
    "| :--------------------------- | ------------------- | ---------------------: | --------------- |\n",
    "| Random Classifier            |         49.2        |          0.50          |       N/A       |\n",
    "| Logistic Regression          |         57.7        |          0.58          |       N/A       |\n",
    "| Support Vector Machine       |         56.7        |          0.57          |       N/A       |\n",
    "| Random Forest                |         0.00        |                        |n_estimators=3000, max_depth=None |\n",
    "| XGBoost                      |         0.00        |                        |n_estimators=1000 |\n",
    "| Multi Layer Perceptron       |         0.00        |                        |batch_size=8,depth=2,dropout_rate=0.2,nodes=250 |\n"
   ]
  },
  {
   "cell_type": "markdown",
   "metadata": {},
   "source": [
    "## Results\n",
    "\n",
    "The following results were achieved on the independent test set on the 1 year rate, 3 year rate and S&P-500 index. Note that only the 10000 most common words were included in the vocabulary, to reduce the dimensionality. \n",
    "\n",
    "|               Model          | Data |  Test Accuracy (%)  | Test weighted f1-score | Hyperparameters |\n",
    "| :--------------------------- | ---- | ------------------- | ---------------------: | --------------- |\n",
    "| Random Classifier| 1 year rate <br>3 year rate <br> S&P-500|62<br>53.3<br>49.2| 0.487<br>0.50<br>0.50 | N/A |\n",
    "| Logistic Regression          |      |         0.00        |                        |       N/A       |\n",
    "| Linear Discriminant Analysis |      |         0.00        |                        |       N/A       |\n",
    "| Support Vector Machine       |      |         0.00        |                        |       N/A       |\n",
    "| Random Forest                |      |         0.00        |                        |n_estimators=3000, max_depth=None |\n",
    "| XGBoost                      |      |         0.00        |                        |n_estimators=1000 |\n",
    "| Multi Layer Perceptron       |      |         0.00        |                        |batch_size=8,depth=2,dropout_rate=0.2,nodes=250 |\n"
   ]
  },
  {
   "cell_type": "code",
   "execution_count": null,
   "metadata": {},
   "outputs": [],
   "source": []
  },
  {
   "cell_type": "code",
   "execution_count": null,
   "metadata": {},
   "outputs": [],
   "source": []
  },
  {
   "cell_type": "code",
   "execution_count": null,
   "metadata": {},
   "outputs": [],
   "source": []
  },
  {
   "cell_type": "code",
   "execution_count": null,
   "metadata": {},
   "outputs": [],
   "source": []
  }
 ],
 "metadata": {
  "kernelspec": {
   "display_name": "Python 3",
   "language": "python",
   "name": "python3"
  },
  "language_info": {
   "codemirror_mode": {
    "name": "ipython",
    "version": 3
   },
   "file_extension": ".py",
   "mimetype": "text/x-python",
   "name": "python",
   "nbconvert_exporter": "python",
   "pygments_lexer": "ipython3",
   "version": "3.6.10"
  }
 },
 "nbformat": 4,
 "nbformat_minor": 4
}
