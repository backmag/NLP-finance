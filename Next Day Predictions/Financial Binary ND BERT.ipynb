{
 "cells": [
  {
   "cell_type": "code",
   "execution_count": 22,
   "metadata": {},
   "outputs": [],
   "source": [
    "import pandas as pd\n",
    "import numpy as np\n",
    "from pathlib import Path\n",
    "import tensorflow as tf\n",
    "import tensorflow_hub as hub\n",
    "from tensorflow import keras\n",
    "from tensorflow.keras.optimizers import Adam\n",
    "from tensorflow.keras import backend as K\n",
    "import matplotlib.pyplot as plt\n",
    "from tqdm import trange, tqdm\n",
    "import bert"
   ]
  },
  {
   "cell_type": "code",
   "execution_count": 2,
   "metadata": {},
   "outputs": [],
   "source": [
    "ONEDRIVE_PATH = Path(r\"C:\\Users\\gusta\\Kidbrooke Advisory Ab\\KidbrookeOneDrive - Gustaf Backman exjobb\")\n",
    "\n",
    "# Read the financial data \n",
    "fin_path = ONEDRIVE_PATH / \"Input Data/stock_data.pkl\"\n",
    "fin_data = pd.read_pickle(fin_path)\n",
    "fin_data = fin_data.loc['2006-10-19' : '2013-11-22']\n",
    "\n",
    "news_path = ONEDRIVE_PATH / \"Input Data/financial_headlines_20061020-20131119.pkl\"\n",
    "news_data = pd.DataFrame(pd.read_pickle(news_path))\n",
    "news_data.set_index('date',inplace=True)\n",
    "\n",
    "bert_path = \"https://tfhub.dev/google/bert_uncased_L-12_H-768_A-12/1\""
   ]
  },
  {
   "cell_type": "code",
   "execution_count": 3,
   "metadata": {},
   "outputs": [],
   "source": [
    "news_dates = news_data.index.drop_duplicates()\n",
    "fin_dates = fin_data.index.drop_duplicates\n",
    "\n",
    "# Find the dates which are present in both the financial data and news data\n",
    "valid_dates = []\n",
    "for date in news_dates: \n",
    "    if date in fin_data.index: \n",
    "        valid_dates.append(date)\n",
    "        \n",
    "# Create targets for all 3 time series \n",
    "targets = pd.DataFrame(dtype='int8')\n",
    "prev_vals = fin_data.iloc[0]\n",
    "for i in range(len(valid_dates)): \n",
    "    y_temp = []\n",
    "    # If the value has increased since yesterday, y = 1\n",
    "    if prev_vals['1 YEAR'] < fin_data.iloc[i+1]['1 YEAR']: \n",
    "        y_temp.append(1)\n",
    "    else:\n",
    "        y_temp.append(0)\n",
    "        \n",
    "    if prev_vals['3 YEAR'] < fin_data.iloc[i+1]['3 YEAR']: \n",
    "        y_temp.append(1)\n",
    "    else:\n",
    "        y_temp.append(0)\n",
    "        \n",
    "    if prev_vals['S&P'] < fin_data.iloc[i+1]['S&P']: \n",
    "        y_temp.append(1)\n",
    "    else:\n",
    "        y_temp.append(0)\n",
    "    targets = targets.append({'1 YEAR':y_temp[0], '3 YEAR':y_temp[1], 'S&P':y_temp[2]}, ignore_index=True)\n",
    "    prev_vals = fin_data.iloc[i+1]"
   ]
  },
  {
   "cell_type": "code",
   "execution_count": 11,
   "metadata": {},
   "outputs": [
    {
     "name": "stderr",
     "output_type": "stream",
     "text": [
      "100%|██████████████████████████████████████████████████████████████████████████████| 1846/1846 [00:46<00:00, 39.84it/s]"
     ]
    },
    {
     "name": "stdout",
     "output_type": "stream",
     "text": [
      "Length of texts: 1846\n",
      "Length of targets: 1846\n"
     ]
    },
    {
     "name": "stderr",
     "output_type": "stream",
     "text": [
      "\n"
     ]
    }
   ],
   "source": [
    "# Concatenate the news for each day in the valid indices, i.e. the indices that are present in both \n",
    "# the financial data and the news data \n",
    "texts = []\n",
    "for ind,date in enumerate(tqdm(valid_dates)): \n",
    "    temp_texts = \"\"\n",
    "    for i,text in enumerate(news_data.loc[date]['title']): \n",
    "        if i < len(news_data.loc[date]['title']) - 1:\n",
    "            temp_texts += text + \". \"\n",
    "        else:\n",
    "            temp_texts += text + \".\"\n",
    "    texts.append(temp_texts)\n",
    "texts = np.asarray(texts)\n",
    "print(\"Length of texts:\",len(texts))\n",
    "print(\"Length of targets:\",len(targets))"
   ]
  },
  {
   "cell_type": "code",
   "execution_count": 14,
   "metadata": {},
   "outputs": [
    {
     "name": "stdout",
     "output_type": "stream",
     "text": [
      "INFO:tensorflow:Saver not created because there are no variables in the graph to restore\n"
     ]
    },
    {
     "name": "stderr",
     "output_type": "stream",
     "text": [
      "INFO:tensorflow:Saver not created because there are no variables in the graph to restore\n"
     ]
    }
   ],
   "source": [
    "sess = tf.Session()\n",
    "\n",
    "bert_module =  hub.Module(bert_path)\n",
    "tokenization_info = bert_module(signature=\"tokenization_info\", as_dict=True)\n",
    "vocab_file, do_lower_case = sess.run([tokenization_info[\"vocab_file\"],\n",
    "                                      tokenization_info[\"do_lower_case\"],])\n",
    "tokenizer = bert.bert_tokenization.FullTokenizer(vocab_file, do_lower_case=do_lower_case)"
   ]
  },
  {
   "cell_type": "code",
   "execution_count": 75,
   "metadata": {},
   "outputs": [
    {
     "name": "stderr",
     "output_type": "stream",
     "text": [
      "100%|█████████████████████████████████████████████████████████████████████████████| 1846/1846 [00:11<00:00, 164.61it/s]\n"
     ]
    }
   ],
   "source": [
    "tokens = []\n",
    "for titles in tqdm(texts):\n",
    "    tokens.append(tokenizer.tokenize(titles.lower()))"
   ]
  },
  {
   "cell_type": "code",
   "execution_count": 105,
   "metadata": {
    "scrolled": true
   },
   "outputs": [
    {
     "data": {
      "image/png": "[encoded data removed]",
      "text/plain": [
       "<Figure size 432x288 with 1 Axes>"
      ]
     },
     "metadata": {
      "needs_background": "light"
     },
     "output_type": "display_data"
    },
    {
     "name": "stdout",
     "output_type": "stream",
     "text": [
      "Ratio under 512: 0.3504875406283857\n"
     ]
    }
   ],
   "source": [
    "# Maximum sequence length is 512, check lengths on dataset\n",
    "lengths = np.asarray([len(t) for t in tokens])\n",
    "plt.hist(lengths,20)\n",
    "plt.show()\n",
    "print(\"Ratio under 512:\",sum(lengths < 512) / n)\n"
   ]
  },
  {
   "cell_type": "code",
   "execution_count": 106,
   "metadata": {},
   "outputs": [
    {
     "name": "stderr",
     "output_type": "stream",
     "text": [
      "100%|████████████████████████████████████████████████████████████████████████████| 1846/1846 [00:00<00:00, 4661.23it/s]\n"
     ]
    }
   ],
   "source": [
    "max_length = 512\n",
    "\n",
    "# Remove line breaks (<br />) and tokenize\n",
    "input_ids = np.zeros((n,max_length))\n",
    "input_masks = np.zeros((n,max_length))\n",
    "segment_ids = np.zeros((n,max_length))\n",
    "\n",
    "for i in trange(n):\n",
    "    tok = tokens[i]\n",
    "    if len(tok) > max_length - 2:\n",
    "        tok = tok[:max_length - 2]\n",
    "    tok = ['[CLS]'] + tok + ['[SEP]']\n",
    "    token_ids = tokenizer.convert_tokens_to_ids(tok)\n",
    "    \n",
    "    if len(token_ids) > max_length:\n",
    "        token_ids = token_ids[:max_length]\n",
    "        mask = [1] * max_length\n",
    "    else: \n",
    "        mask = [1] * len(token_ids) + [0] * (max_length - len(token_ids))\n",
    "        token_ids = token_ids + [0] * (max_length - len(token_ids))\n",
    "    \n",
    "    current_segment_id = 0\n",
    "    segments = []\n",
    "    for t in tok:\n",
    "        segments.append(current_segment_id)\n",
    "        if t == '[SEP]':\n",
    "            current_segment_id = 1\n",
    "    while len(segments) < max_length: \n",
    "        segments.append(0)\n",
    "    assert len(token_ids) == max_length, \"Wrong length of ids\"\n",
    "    assert len(segments) == max_length, \"Wrong length of segments.\"\n",
    "    assert len(mask) == max_length, \"Wrong length of masks.\"\n",
    "    \n",
    "    input_ids[i] = np.asarray(token_ids)\n",
    "    segment_ids[i] = segments\n",
    "    input_masks[i] = mask"
   ]
  },
  {
   "cell_type": "code",
   "execution_count": 155,
   "metadata": {},
   "outputs": [
    {
     "name": "stdout",
     "output_type": "stream",
     "text": [
      " ----- 1 YEAR RATE -----\n",
      "Ratio neg labels 1 year rate: 0.6890574214517876\n",
      "Neg labels: 1272 Pos labels: 574\n",
      " ----- 3 YEAR RATE -----\n",
      "Ratio neg labels 3 year rate: 0.5937161430119177\n",
      "Neg labels: 1096 Pos labels: 750\n",
      " -----     S&P     -----\n",
      "Ratio neg labels S&P: 0.4637053087757313\n",
      "Neg labels: 856 Pos labels: 990\n"
     ]
    }
   ],
   "source": [
    "zero_indices_1yr = np.where(targets['1 YEAR'] == 0)[0]\n",
    "one_indices_1yr = np.where(targets['1 YEAR'] == 1)[0]\n",
    "\n",
    "zero_indices_3yr = np.where(targets['3 YEAR'] == 0)[0]\n",
    "one_indices_3yr = np.where(targets['3 YEAR'] == 1)[0]\n",
    "\n",
    "zero_indices_sp = np.where(targets['S&P'] == 0)[0]\n",
    "one_indices_sp = np.where(targets['S&P'] == 1)[0]\n",
    "\n",
    "print(\" ----- 1 YEAR RATE -----\")\n",
    "print(\"Ratio neg labels 1 year rate:\",len(zero_indices_1yr) / len(targets))\n",
    "print(\"Neg labels:\", len(zero_indices_1yr), \"Pos labels:\",len(one_indices_1yr))\n",
    "print(\" ----- 3 YEAR RATE -----\")\n",
    "print(\"Ratio neg labels 3 year rate:\",len(zero_indices_3yr) / len(targets))\n",
    "print(\"Neg labels:\", len(zero_indices_3yr), \"Pos labels:\",len(one_indices_3yr))\n",
    "print(\" -----     S&P     -----\")\n",
    "print(\"Ratio neg labels S&P:\",len(zero_indices_sp) / len(targets))\n",
    "print(\"Neg labels:\", len(zero_indices_sp), \"Pos labels:\",len(one_indices_sp))"
   ]
  },
  {
   "cell_type": "code",
   "execution_count": 163,
   "metadata": {},
   "outputs": [],
   "source": [
    "n_train = 1000\n",
    "\n",
    "np.random.shuffle(zero_indices_1yr)\n",
    "np.random.shuffle(one_indices_1yr)\n",
    "train_indices_1yr = np.zeros((n_train),dtype=int)\n",
    "train_indices_1yr[:int(n_train / 2)] = zero_indices_1yr[:int(n_train / 2)]\n",
    "train_indices_1yr[int(n_train / 2):] = one_indices_1yr[:int(n_train / 2)]\n",
    "np.random.shuffle(train_indices_1yr)\n",
    "test_indices_1yr = np.setdiff1d(np.arange(len(targets)), train_indices_1yr)\n",
    "np.random.shuffle(test_indices_1yr)\n",
    "\n",
    "np.random.shuffle(zero_indices_3yr)\n",
    "np.random.shuffle(one_indices_3yr)\n",
    "train_indices_3yr = np.zeros((n_train),dtype=int)\n",
    "train_indices_3yr[:int(n_train / 2)] = zero_indices_3yr[:int(n_train / 2)]\n",
    "train_indices_3yr[int(n_train / 2):] = one_indices_3yr[:int(n_train / 2)]\n",
    "np.random.shuffle(train_indices_3yr)\n",
    "test_indices_3yr = np.setdiff1d(np.arange(len(targets)), train_indices_3yr)\n",
    "np.random.shuffle(test_indices_3yr)\n",
    "\n",
    "np.random.shuffle(zero_indices_sp)\n",
    "np.random.shuffle(one_indices_sp)\n",
    "train_indices_sp = np.zeros((n_train),dtype=int)\n",
    "train_indices_sp[:int(n_train / 2)] = zero_indices_sp[:int(n_train / 2)]\n",
    "train_indices_sp[int(n_train / 2):] = one_indices_sp[:int(n_train / 2)]\n",
    "np.random.shuffle(train_indices_sp)\n",
    "test_indices_sp = np.setdiff1d(np.arange(len(targets)), train_indices_sp)\n",
    "np.random.shuffle(test_indices_sp)\n",
    "\n",
    "train_ids_1yr = input_ids[train_indices_1yr]\n",
    "train_segs_1yr = segment_ids[train_indices_1yr]\n",
    "train_masks_1yr = input_masks[train_indices_1yr]\n",
    "y_train_1yr = targets.loc[train_indices_1yr]['1 YEAR'].values\n",
    "\n",
    "test_ids_1yr = input_ids[test_indices_1yr]\n",
    "test_segs_1yr = segment_ids[test_indices_1yr]\n",
    "test_masks_1yr = input_masks[test_indices_1yr]\n",
    "y_test_1yr = targets.loc[test_indices_1yr]['1 YEAR'].values\n",
    "\n",
    "train_ids_3yr = input_ids[train_indices_3yr]\n",
    "train_segs_3yr = segment_ids[train_indices_3yr]\n",
    "train_masks_3yr = input_masks[train_indices_3yr]\n",
    "y_train_3yr = targets.loc[train_indices_3yr]['3 YEAR'].values\n",
    "\n",
    "test_ids_3yr = input_ids[test_indices_3yr]\n",
    "test_segs_3yr = segment_ids[test_indices_3yr]\n",
    "test_masks_3yr = input_masks[test_indices_3yr]\n",
    "y_test_3yr = targets.loc[test_indices_3yr]['3 YEAR'].values\n",
    "\n",
    "train_ids_sp = input_ids[train_indices_sp]\n",
    "train_segs_sp = segment_ids[train_indices_sp]\n",
    "train_masks_sp = input_masks[train_indices_sp]\n",
    "y_train_sp = targets.loc[train_indices_sp]['S&P'].values\n",
    "\n",
    "test_ids_sp = input_ids[test_indices_sp]\n",
    "test_segs_sp = segment_ids[test_indices_sp]\n",
    "test_masks_sp = input_masks[test_indices_sp]\n",
    "y_test_sp = targets.loc[test_indices_sp]['S&P'].values"
   ]
  },
  {
   "cell_type": "code",
   "execution_count": 164,
   "metadata": {},
   "outputs": [
    {
     "name": "stdout",
     "output_type": "stream",
     "text": [
      " ----- 1 YEAR RATE -----\n",
      "Train data label ratio (0 / 1): 500 / 500\n",
      "Test data label ratio (0 / 1): 772 / 74\n",
      " ----- 3 YEAR RATE -----\n",
      "Train data label ratio (0 / 1): 500 / 500\n",
      "Test data label ratio (0 / 1): 596 / 250\n",
      " -----     S&P     -----\n",
      "Train data label ratio (0 / 1): 500 / 500\n",
      "Test data label ratio (0 / 1): 356 / 490\n"
     ]
    }
   ],
   "source": [
    "print(\" ----- 1 YEAR RATE -----\")\n",
    "print(\"Train data label ratio (0 / 1):\",np.sum(y_train_1yr == 0),\"/\", np.sum(y_train_1yr == 1))\n",
    "print(\"Test data label ratio (0 / 1):\",np.sum(y_test_1yr == 0),\"/\", np.sum(y_test_1yr == 1))\n",
    "\n",
    "print(\" ----- 3 YEAR RATE -----\")\n",
    "print(\"Train data label ratio (0 / 1):\",np.sum(y_train_3yr == 0),\"/\", np.sum(y_train_3yr == 1))\n",
    "print(\"Test data label ratio (0 / 1):\",np.sum(y_test_3yr == 0),\"/\", np.sum(y_test_3yr == 1))\n",
    "print(\" -----     S&P     -----\")\n",
    "print(\"Train data label ratio (0 / 1):\",np.sum(y_train_sp == 0),\"/\", np.sum(y_train_sp == 1))\n",
    "print(\"Test data label ratio (0 / 1):\",np.sum(y_test_sp == 0),\"/\", np.sum(y_test_sp == 1))"
   ]
  },
  {
   "cell_type": "code",
   "execution_count": 108,
   "metadata": {},
   "outputs": [],
   "source": [
    "class BertLayer(tf.keras.layers.Layer):\n",
    "    def __init__(\n",
    "        self,\n",
    "        n_fine_tune_layers=10,\n",
    "        pooling=\"first\",\n",
    "        bert_path=\"https://tfhub.dev/google/bert_uncased_L-12_H-768_A-12/1\",\n",
    "        **kwargs,\n",
    "    ):\n",
    "        self.n_fine_tune_layers = n_fine_tune_layers\n",
    "        self.trainable = True\n",
    "        self.output_size = 768\n",
    "        self.pooling = pooling\n",
    "        self.bert_path = bert_path\n",
    "        if self.pooling not in [\"first\", \"mean\"]:\n",
    "            raise NameError(\n",
    "                f\"Undefined pooling type (must be either first or mean, but is {self.pooling}\"\n",
    "            )\n",
    "\n",
    "        super(BertLayer, self).__init__(**kwargs)\n",
    "\n",
    "    def build(self, input_shape):\n",
    "        self.bert = hub.Module(\n",
    "            self.bert_path, trainable=self.trainable, name=f\"{self.name}_module\"\n",
    "        )\n",
    "\n",
    "        # Remove unused layers\n",
    "        trainable_vars = self.bert.variables\n",
    "        if self.pooling == \"first\":\n",
    "            trainable_vars = [var for var in trainable_vars if not \"/cls/\" in var.name]\n",
    "            trainable_layers = [\"pooler/dense\"]\n",
    "\n",
    "        elif self.pooling == \"mean\":\n",
    "            trainable_vars = [\n",
    "                var\n",
    "                for var in trainable_vars\n",
    "                if not \"/cls/\" in var.name and not \"/pooler/\" in var.name\n",
    "            ]\n",
    "            trainable_layers = []\n",
    "        else:\n",
    "            raise NameError(\n",
    "                f\"Undefined pooling type (must be either first or mean, but is {self.pooling}\"\n",
    "            )\n",
    "\n",
    "        # Select how many layers to fine tune\n",
    "        for i in range(self.n_fine_tune_layers):\n",
    "            trainable_layers.append(f\"encoder/layer_{str(11 - i)}\")\n",
    "\n",
    "        # Update trainable vars to contain only the specified layers\n",
    "        trainable_vars = [\n",
    "            var\n",
    "            for var in trainable_vars\n",
    "            if any([l in var.name for l in trainable_layers])\n",
    "        ]\n",
    "\n",
    "        # Add to trainable weights\n",
    "        for var in trainable_vars:\n",
    "            self._trainable_weights.append(var)\n",
    "\n",
    "        for var in self.bert.variables:\n",
    "            if var not in self._trainable_weights:\n",
    "                self._non_trainable_weights.append(var)\n",
    "\n",
    "        super(BertLayer, self).build(input_shape)\n",
    "\n",
    "    def call(self, inputs):\n",
    "        inputs = [K.cast(x, dtype=\"int32\") for x in inputs]\n",
    "        input_ids, input_mask, segment_ids = inputs\n",
    "        bert_inputs = dict(\n",
    "            input_ids=input_ids, input_mask=input_mask, segment_ids=segment_ids\n",
    "        )\n",
    "        if self.pooling == \"first\":\n",
    "            pooled = self.bert(inputs=bert_inputs, signature=\"tokens\", as_dict=True)[\n",
    "                \"pooled_output\"\n",
    "            ]\n",
    "        elif self.pooling == \"mean\":\n",
    "            result = self.bert(inputs=bert_inputs, signature=\"tokens\", as_dict=True)[\n",
    "                \"sequence_output\"\n",
    "            ]\n",
    "\n",
    "            mul_mask = lambda x, m: x * tf.expand_dims(m, axis=-1)\n",
    "            masked_reduce_mean = lambda x, m: tf.reduce_sum(mul_mask(x, m), axis=1) / (\n",
    "                    tf.reduce_sum(m, axis=1, keepdims=True) + 1e-10)\n",
    "            input_mask = tf.cast(input_mask, tf.float32)\n",
    "            pooled = masked_reduce_mean(result, input_mask)\n",
    "        else:\n",
    "            raise NameError(f\"Undefined pooling type (must be either first or mean, but is {self.pooling}\")\n",
    "\n",
    "        return pooled\n",
    "\n",
    "    def compute_output_shape(self, input_shape):\n",
    "        return (input_shape[0], self.output_size)"
   ]
  },
  {
   "cell_type": "code",
   "execution_count": 221,
   "metadata": {},
   "outputs": [],
   "source": [
    "def create_model(dense_nodes=256, dropout_rate=0.1, learning_rate=2e-5):\n",
    "    in_ids = keras.layers.Input(shape=(max_length,), dtype=tf.int32,name='input_id')\n",
    "    in_mask = keras.layers.Input(shape=(max_length,),dtype=tf.int32,name='input_mask')\n",
    "    in_seg = keras.layers.Input(shape=(max_length,),dtype=tf.int32, name='input_segment')\n",
    "\n",
    "    bert_inputs = [in_ids, in_mask, in_seg]\n",
    "    bert_output = BertLayer(n_fine_tune_layers=2,pooling='first')(bert_inputs)\n",
    "\n",
    "    dense_layer = keras.layers.Dense(dense_nodes, activation='relu')(bert_output)\n",
    "    dropout_layer = keras.layers.Dropout(dropout_rate)(dense_layer)\n",
    "    \n",
    "    output_layer = keras.layers.Dense(1, activation='sigmoid')(dropout_layer)\n",
    "    \n",
    "    model = keras.models.Model(inputs=bert_inputs, outputs=output_layer)\n",
    "    \n",
    "    adam = keras.optimizers.Adam(learning_rate=learning_rate)\n",
    "    model.compile(loss='binary_crossentropy', optimizer=adam, metrics=['acc'])\n",
    "    return model\n",
    "\n",
    "def init_sess(sess): \n",
    "    sess.run(tf.local_variables_initializer())\n",
    "    sess.run(tf.global_variables_initializer())\n",
    "    sess.run(tf.tables_initializer())\n",
    "    K.set_session(sess)\n",
    "    \n",
    "def cont_training(model,x,y,epochs,history, validation_split=0.2): \n",
    "    temp_hist = model.fit(x,y,epochs=epochs,batch_size=32,validation_split=validation_split)\n",
    "    for metric in history.history: \n",
    "        history.history[metric].append(temp_hist.history[metric][0])\n",
    "    return history\n",
    "\n",
    "def plot_training(history):\n",
    "    plt.plot(history.history['val_acc'],label='Val acc')\n",
    "    plt.plot(history.history['acc'],label='acc')\n",
    "    plt.legend()\n",
    "    plt.show()\n",
    "    plt.plot(history.history['val_loss'],label='Val loss')\n",
    "    plt.plot(history.history['loss'],label='Loss')\n",
    "    plt.legend()\n",
    "    plt.show()"
   ]
  },
  {
   "cell_type": "code",
   "execution_count": 168,
   "metadata": {},
   "outputs": [
    {
     "name": "stdout",
     "output_type": "stream",
     "text": [
      "INFO:tensorflow:Saver not created because there are no variables in the graph to restore\n"
     ]
    },
    {
     "name": "stderr",
     "output_type": "stream",
     "text": [
      "INFO:tensorflow:Saver not created because there are no variables in the graph to restore\n"
     ]
    },
    {
     "name": "stdout",
     "output_type": "stream",
     "text": [
      "Train on 800 samples, validate on 200 samples\n",
      "800/800 [==============================] - 2037s 3s/sample - loss: 0.7045 - acc: 0.5200 - val_loss: 0.6975 - val_acc: 0.4650\n"
     ]
    }
   ],
   "source": [
    "model_1yr = create_model()\n",
    "init_sess(sess)\n",
    "history_1yr = model_1yr.fit([train_ids_1yr, train_masks_1yr, train_segs_1yr], y_train_1yr,\n",
    "                      validation_split=0.2,\n",
    "                      epochs=1,                                                                                                                   \n",
    "                      batch_size=32)"
   ]
  },
  {
   "cell_type": "code",
   "execution_count": 129,
   "metadata": {},
   "outputs": [
    {
     "name": "stdout",
     "output_type": "stream",
     "text": [
      "INFO:tensorflow:Saver not created because there are no variables in the graph to restore\n"
     ]
    },
    {
     "name": "stderr",
     "output_type": "stream",
     "text": [
      "INFO:tensorflow:Saver not created because there are no variables in the graph to restore\n"
     ]
    },
    {
     "name": "stdout",
     "output_type": "stream",
     "text": [
      "Train on 1400 samples, validate on 200 samples\n",
      "1400/1400 [==============================] - 1906s 1s/sample - loss: 0.6850 - acc: 0.5707 - val_loss: 0.6766 - val_acc: 0.6000\n"
     ]
    }
   ],
   "source": [
    "model_3yr = create_model()\n",
    "init_sess(sess)\n",
    "history_3yr = model_3yr.fit([train_ids, train_masks, train_segs], y_train_3yr,\n",
    "                      validation_data=([val_ids, val_masks, val_segs], y_val_3yr), \n",
    "                      epochs=1,                                                                                                                   \n",
    "                      batch_size=32)"
   ]
  },
  {
   "cell_type": "code",
   "execution_count": 132,
   "metadata": {},
   "outputs": [
    {
     "name": "stdout",
     "output_type": "stream",
     "text": [
      "INFO:tensorflow:Saver not created because there are no variables in the graph to restore\n"
     ]
    },
    {
     "name": "stderr",
     "output_type": "stream",
     "text": [
      "INFO:tensorflow:Saver not created because there are no variables in the graph to restore\n"
     ]
    },
    {
     "name": "stdout",
     "output_type": "stream",
     "text": [
      "Train on 1400 samples, validate on 200 samples\n",
      "1400/1400 [==============================] - 2568s 2s/sample - loss: 0.7048 - acc: 0.5114 - val_loss: 0.6953 - val_acc: 0.5300\n"
     ]
    }
   ],
   "source": [
    "model_sp = create_model() \n",
    "init_sess(sess)\n",
    "history_sp = model_sp.fit([train_ids, train_masks, train_segs], y_train_sp,\n",
    "                      validation_data=([val_ids, val_masks, val_segs], y_val_sp), \n",
    "                      epochs=1,                                                                                                                   \n",
    "                      batch_size=32)"
   ]
  },
  {
   "cell_type": "code",
   "execution_count": 218,
   "metadata": {},
   "outputs": [
    {
     "name": "stdout",
     "output_type": "stream",
     "text": [
      "Train on 800 samples, validate on 200 samples\n",
      "800/800 [==============================] - 1917s 2s/sample - loss: 0.6834 - acc: 0.5650 - val_loss: 0.6782 - val_acc: 0.5650\n"
     ]
    },
    {
     "ename": "ValueError",
     "evalue": "setting an array element with a sequence.",
     "output_type": "error",
     "traceback": [
      "\u001b[1;31m---------------------------------------------------------------------------\u001b[0m",
      "\u001b[1;31mTypeError\u001b[0m                                 Traceback (most recent call last)",
      "\u001b[1;31mTypeError\u001b[0m: float() argument must be a string or a number, not 'list'",
      "\nThe above exception was the direct cause of the following exception:\n",
      "\u001b[1;31mValueError\u001b[0m                                Traceback (most recent call last)",
      "\u001b[1;32m<ipython-input-218-589d2a9f2fde>\u001b[0m in \u001b[0;36m<module>\u001b[1;34m\u001b[0m\n\u001b[0;32m      1\u001b[0m \u001b[0mcont_training\u001b[0m\u001b[1;33m(\u001b[0m\u001b[0mmodel_1yr\u001b[0m\u001b[1;33m,\u001b[0m \u001b[1;33m[\u001b[0m\u001b[0mtrain_ids_1yr\u001b[0m\u001b[1;33m,\u001b[0m \u001b[0mtrain_masks_1yr\u001b[0m\u001b[1;33m,\u001b[0m \u001b[0mtrain_segs_1yr\u001b[0m\u001b[1;33m]\u001b[0m\u001b[1;33m,\u001b[0m \u001b[0my_train_1yr\u001b[0m\u001b[1;33m,\u001b[0m\u001b[1;36m1\u001b[0m\u001b[1;33m,\u001b[0m \u001b[0mhistory_1yr\u001b[0m\u001b[1;33m)\u001b[0m\u001b[1;33m\u001b[0m\u001b[1;33m\u001b[0m\u001b[0m\n\u001b[1;32m----> 2\u001b[1;33m \u001b[0mplot_training\u001b[0m\u001b[1;33m(\u001b[0m\u001b[0mhistory_1yr\u001b[0m\u001b[1;33m)\u001b[0m\u001b[1;33m\u001b[0m\u001b[1;33m\u001b[0m\u001b[0m\n\u001b[0m",
      "\u001b[1;32m<ipython-input-188-21d5919c1efa>\u001b[0m in \u001b[0;36mplot_training\u001b[1;34m(history)\u001b[0m\n\u001b[0;32m     31\u001b[0m \u001b[1;33m\u001b[0m\u001b[0m\n\u001b[0;32m     32\u001b[0m \u001b[1;32mdef\u001b[0m \u001b[0mplot_training\u001b[0m\u001b[1;33m(\u001b[0m\u001b[0mhistory\u001b[0m\u001b[1;33m)\u001b[0m\u001b[1;33m:\u001b[0m\u001b[1;33m\u001b[0m\u001b[1;33m\u001b[0m\u001b[0m\n\u001b[1;32m---> 33\u001b[1;33m     \u001b[0mplt\u001b[0m\u001b[1;33m.\u001b[0m\u001b[0mplot\u001b[0m\u001b[1;33m(\u001b[0m\u001b[0mhistory\u001b[0m\u001b[1;33m.\u001b[0m\u001b[0mhistory\u001b[0m\u001b[1;33m[\u001b[0m\u001b[1;34m'val_acc'\u001b[0m\u001b[1;33m]\u001b[0m\u001b[1;33m,\u001b[0m\u001b[0mlabel\u001b[0m\u001b[1;33m=\u001b[0m\u001b[1;34m'Val acc'\u001b[0m\u001b[1;33m)\u001b[0m\u001b[1;33m\u001b[0m\u001b[1;33m\u001b[0m\u001b[0m\n\u001b[0m\u001b[0;32m     34\u001b[0m     \u001b[0mplt\u001b[0m\u001b[1;33m.\u001b[0m\u001b[0mplot\u001b[0m\u001b[1;33m(\u001b[0m\u001b[0mhistory\u001b[0m\u001b[1;33m.\u001b[0m\u001b[0mhistory\u001b[0m\u001b[1;33m[\u001b[0m\u001b[1;34m'acc'\u001b[0m\u001b[1;33m]\u001b[0m\u001b[1;33m,\u001b[0m\u001b[0mlabel\u001b[0m\u001b[1;33m=\u001b[0m\u001b[1;34m'acc'\u001b[0m\u001b[1;33m)\u001b[0m\u001b[1;33m\u001b[0m\u001b[1;33m\u001b[0m\u001b[0m\n\u001b[0;32m     35\u001b[0m     \u001b[0mplt\u001b[0m\u001b[1;33m.\u001b[0m\u001b[0mlegend\u001b[0m\u001b[1;33m(\u001b[0m\u001b[1;33m)\u001b[0m\u001b[1;33m\u001b[0m\u001b[1;33m\u001b[0m\u001b[0m\n",
      "\u001b[1;32mC:\\ProgramData\\Anaconda3\\envs\\nlpenv\\lib\\site-packages\\matplotlib\\pyplot.py\u001b[0m in \u001b[0;36mplot\u001b[1;34m(scalex, scaley, data, *args, **kwargs)\u001b[0m\n\u001b[0;32m   2794\u001b[0m     return gca().plot(\n\u001b[0;32m   2795\u001b[0m         *args, scalex=scalex, scaley=scaley, **({\"data\": data} if data\n\u001b[1;32m-> 2796\u001b[1;33m         is not None else {}), **kwargs)\n\u001b[0m\u001b[0;32m   2797\u001b[0m \u001b[1;33m\u001b[0m\u001b[0m\n\u001b[0;32m   2798\u001b[0m \u001b[1;33m\u001b[0m\u001b[0m\n",
      "\u001b[1;32mC:\\ProgramData\\Anaconda3\\envs\\nlpenv\\lib\\site-packages\\matplotlib\\axes\\_axes.py\u001b[0m in \u001b[0;36mplot\u001b[1;34m(self, scalex, scaley, data, *args, **kwargs)\u001b[0m\n\u001b[0;32m   1665\u001b[0m         \u001b[0mlines\u001b[0m \u001b[1;33m=\u001b[0m \u001b[1;33m[\u001b[0m\u001b[1;33m*\u001b[0m\u001b[0mself\u001b[0m\u001b[1;33m.\u001b[0m\u001b[0m_get_lines\u001b[0m\u001b[1;33m(\u001b[0m\u001b[1;33m*\u001b[0m\u001b[0margs\u001b[0m\u001b[1;33m,\u001b[0m \u001b[0mdata\u001b[0m\u001b[1;33m=\u001b[0m\u001b[0mdata\u001b[0m\u001b[1;33m,\u001b[0m \u001b[1;33m**\u001b[0m\u001b[0mkwargs\u001b[0m\u001b[1;33m)\u001b[0m\u001b[1;33m]\u001b[0m\u001b[1;33m\u001b[0m\u001b[1;33m\u001b[0m\u001b[0m\n\u001b[0;32m   1666\u001b[0m         \u001b[1;32mfor\u001b[0m \u001b[0mline\u001b[0m \u001b[1;32min\u001b[0m \u001b[0mlines\u001b[0m\u001b[1;33m:\u001b[0m\u001b[1;33m\u001b[0m\u001b[1;33m\u001b[0m\u001b[0m\n\u001b[1;32m-> 1667\u001b[1;33m             \u001b[0mself\u001b[0m\u001b[1;33m.\u001b[0m\u001b[0madd_line\u001b[0m\u001b[1;33m(\u001b[0m\u001b[0mline\u001b[0m\u001b[1;33m)\u001b[0m\u001b[1;33m\u001b[0m\u001b[1;33m\u001b[0m\u001b[0m\n\u001b[0m\u001b[0;32m   1668\u001b[0m         \u001b[0mself\u001b[0m\u001b[1;33m.\u001b[0m\u001b[0mautoscale_view\u001b[0m\u001b[1;33m(\u001b[0m\u001b[0mscalex\u001b[0m\u001b[1;33m=\u001b[0m\u001b[0mscalex\u001b[0m\u001b[1;33m,\u001b[0m \u001b[0mscaley\u001b[0m\u001b[1;33m=\u001b[0m\u001b[0mscaley\u001b[0m\u001b[1;33m)\u001b[0m\u001b[1;33m\u001b[0m\u001b[1;33m\u001b[0m\u001b[0m\n\u001b[0;32m   1669\u001b[0m         \u001b[1;32mreturn\u001b[0m \u001b[0mlines\u001b[0m\u001b[1;33m\u001b[0m\u001b[1;33m\u001b[0m\u001b[0m\n",
      "\u001b[1;32mC:\\ProgramData\\Anaconda3\\envs\\nlpenv\\lib\\site-packages\\matplotlib\\axes\\_base.py\u001b[0m in \u001b[0;36madd_line\u001b[1;34m(self, line)\u001b[0m\n\u001b[0;32m   1900\u001b[0m             \u001b[0mline\u001b[0m\u001b[1;33m.\u001b[0m\u001b[0mset_clip_path\u001b[0m\u001b[1;33m(\u001b[0m\u001b[0mself\u001b[0m\u001b[1;33m.\u001b[0m\u001b[0mpatch\u001b[0m\u001b[1;33m)\u001b[0m\u001b[1;33m\u001b[0m\u001b[1;33m\u001b[0m\u001b[0m\n\u001b[0;32m   1901\u001b[0m \u001b[1;33m\u001b[0m\u001b[0m\n\u001b[1;32m-> 1902\u001b[1;33m         \u001b[0mself\u001b[0m\u001b[1;33m.\u001b[0m\u001b[0m_update_line_limits\u001b[0m\u001b[1;33m(\u001b[0m\u001b[0mline\u001b[0m\u001b[1;33m)\u001b[0m\u001b[1;33m\u001b[0m\u001b[1;33m\u001b[0m\u001b[0m\n\u001b[0m\u001b[0;32m   1903\u001b[0m         \u001b[1;32mif\u001b[0m \u001b[1;32mnot\u001b[0m \u001b[0mline\u001b[0m\u001b[1;33m.\u001b[0m\u001b[0mget_label\u001b[0m\u001b[1;33m(\u001b[0m\u001b[1;33m)\u001b[0m\u001b[1;33m:\u001b[0m\u001b[1;33m\u001b[0m\u001b[1;33m\u001b[0m\u001b[0m\n\u001b[0;32m   1904\u001b[0m             \u001b[0mline\u001b[0m\u001b[1;33m.\u001b[0m\u001b[0mset_label\u001b[0m\u001b[1;33m(\u001b[0m\u001b[1;34m'_line%d'\u001b[0m \u001b[1;33m%\u001b[0m \u001b[0mlen\u001b[0m\u001b[1;33m(\u001b[0m\u001b[0mself\u001b[0m\u001b[1;33m.\u001b[0m\u001b[0mlines\u001b[0m\u001b[1;33m)\u001b[0m\u001b[1;33m)\u001b[0m\u001b[1;33m\u001b[0m\u001b[1;33m\u001b[0m\u001b[0m\n",
      "\u001b[1;32mC:\\ProgramData\\Anaconda3\\envs\\nlpenv\\lib\\site-packages\\matplotlib\\axes\\_base.py\u001b[0m in \u001b[0;36m_update_line_limits\u001b[1;34m(self, line)\u001b[0m\n\u001b[0;32m   1922\u001b[0m         \u001b[0mFigures\u001b[0m \u001b[0mout\u001b[0m \u001b[0mthe\u001b[0m \u001b[0mdata\u001b[0m \u001b[0mlimit\u001b[0m \u001b[0mof\u001b[0m \u001b[0mthe\u001b[0m \u001b[0mgiven\u001b[0m \u001b[0mline\u001b[0m\u001b[1;33m,\u001b[0m \u001b[0mupdating\u001b[0m \u001b[0mself\u001b[0m\u001b[1;33m.\u001b[0m\u001b[0mdataLim\u001b[0m\u001b[1;33m.\u001b[0m\u001b[1;33m\u001b[0m\u001b[1;33m\u001b[0m\u001b[0m\n\u001b[0;32m   1923\u001b[0m         \"\"\"\n\u001b[1;32m-> 1924\u001b[1;33m         \u001b[0mpath\u001b[0m \u001b[1;33m=\u001b[0m \u001b[0mline\u001b[0m\u001b[1;33m.\u001b[0m\u001b[0mget_path\u001b[0m\u001b[1;33m(\u001b[0m\u001b[1;33m)\u001b[0m\u001b[1;33m\u001b[0m\u001b[1;33m\u001b[0m\u001b[0m\n\u001b[0m\u001b[0;32m   1925\u001b[0m         \u001b[1;32mif\u001b[0m \u001b[0mpath\u001b[0m\u001b[1;33m.\u001b[0m\u001b[0mvertices\u001b[0m\u001b[1;33m.\u001b[0m\u001b[0msize\u001b[0m \u001b[1;33m==\u001b[0m \u001b[1;36m0\u001b[0m\u001b[1;33m:\u001b[0m\u001b[1;33m\u001b[0m\u001b[1;33m\u001b[0m\u001b[0m\n\u001b[0;32m   1926\u001b[0m             \u001b[1;32mreturn\u001b[0m\u001b[1;33m\u001b[0m\u001b[1;33m\u001b[0m\u001b[0m\n",
      "\u001b[1;32mC:\\ProgramData\\Anaconda3\\envs\\nlpenv\\lib\\site-packages\\matplotlib\\lines.py\u001b[0m in \u001b[0;36mget_path\u001b[1;34m(self)\u001b[0m\n\u001b[0;32m   1025\u001b[0m         \"\"\"\n\u001b[0;32m   1026\u001b[0m         \u001b[1;32mif\u001b[0m \u001b[0mself\u001b[0m\u001b[1;33m.\u001b[0m\u001b[0m_invalidy\u001b[0m \u001b[1;32mor\u001b[0m \u001b[0mself\u001b[0m\u001b[1;33m.\u001b[0m\u001b[0m_invalidx\u001b[0m\u001b[1;33m:\u001b[0m\u001b[1;33m\u001b[0m\u001b[1;33m\u001b[0m\u001b[0m\n\u001b[1;32m-> 1027\u001b[1;33m             \u001b[0mself\u001b[0m\u001b[1;33m.\u001b[0m\u001b[0mrecache\u001b[0m\u001b[1;33m(\u001b[0m\u001b[1;33m)\u001b[0m\u001b[1;33m\u001b[0m\u001b[1;33m\u001b[0m\u001b[0m\n\u001b[0m\u001b[0;32m   1028\u001b[0m         \u001b[1;32mreturn\u001b[0m \u001b[0mself\u001b[0m\u001b[1;33m.\u001b[0m\u001b[0m_path\u001b[0m\u001b[1;33m\u001b[0m\u001b[1;33m\u001b[0m\u001b[0m\n\u001b[0;32m   1029\u001b[0m \u001b[1;33m\u001b[0m\u001b[0m\n",
      "\u001b[1;32mC:\\ProgramData\\Anaconda3\\envs\\nlpenv\\lib\\site-packages\\matplotlib\\lines.py\u001b[0m in \u001b[0;36mrecache\u001b[1;34m(self, always)\u001b[0m\n\u001b[0;32m    673\u001b[0m         \u001b[1;32mif\u001b[0m \u001b[0malways\u001b[0m \u001b[1;32mor\u001b[0m \u001b[0mself\u001b[0m\u001b[1;33m.\u001b[0m\u001b[0m_invalidy\u001b[0m\u001b[1;33m:\u001b[0m\u001b[1;33m\u001b[0m\u001b[1;33m\u001b[0m\u001b[0m\n\u001b[0;32m    674\u001b[0m             \u001b[0myconv\u001b[0m \u001b[1;33m=\u001b[0m \u001b[0mself\u001b[0m\u001b[1;33m.\u001b[0m\u001b[0mconvert_yunits\u001b[0m\u001b[1;33m(\u001b[0m\u001b[0mself\u001b[0m\u001b[1;33m.\u001b[0m\u001b[0m_yorig\u001b[0m\u001b[1;33m)\u001b[0m\u001b[1;33m\u001b[0m\u001b[1;33m\u001b[0m\u001b[0m\n\u001b[1;32m--> 675\u001b[1;33m             \u001b[0my\u001b[0m \u001b[1;33m=\u001b[0m \u001b[0m_to_unmasked_float_array\u001b[0m\u001b[1;33m(\u001b[0m\u001b[0myconv\u001b[0m\u001b[1;33m)\u001b[0m\u001b[1;33m.\u001b[0m\u001b[0mravel\u001b[0m\u001b[1;33m(\u001b[0m\u001b[1;33m)\u001b[0m\u001b[1;33m\u001b[0m\u001b[1;33m\u001b[0m\u001b[0m\n\u001b[0m\u001b[0;32m    676\u001b[0m         \u001b[1;32melse\u001b[0m\u001b[1;33m:\u001b[0m\u001b[1;33m\u001b[0m\u001b[1;33m\u001b[0m\u001b[0m\n\u001b[0;32m    677\u001b[0m             \u001b[0my\u001b[0m \u001b[1;33m=\u001b[0m \u001b[0mself\u001b[0m\u001b[1;33m.\u001b[0m\u001b[0m_y\u001b[0m\u001b[1;33m\u001b[0m\u001b[1;33m\u001b[0m\u001b[0m\n",
      "\u001b[1;32mC:\\ProgramData\\Anaconda3\\envs\\nlpenv\\lib\\site-packages\\matplotlib\\cbook\\__init__.py\u001b[0m in \u001b[0;36m_to_unmasked_float_array\u001b[1;34m(x)\u001b[0m\n\u001b[0;32m   1388\u001b[0m         \u001b[1;32mreturn\u001b[0m \u001b[0mnp\u001b[0m\u001b[1;33m.\u001b[0m\u001b[0mma\u001b[0m\u001b[1;33m.\u001b[0m\u001b[0masarray\u001b[0m\u001b[1;33m(\u001b[0m\u001b[0mx\u001b[0m\u001b[1;33m,\u001b[0m \u001b[0mfloat\u001b[0m\u001b[1;33m)\u001b[0m\u001b[1;33m.\u001b[0m\u001b[0mfilled\u001b[0m\u001b[1;33m(\u001b[0m\u001b[0mnp\u001b[0m\u001b[1;33m.\u001b[0m\u001b[0mnan\u001b[0m\u001b[1;33m)\u001b[0m\u001b[1;33m\u001b[0m\u001b[1;33m\u001b[0m\u001b[0m\n\u001b[0;32m   1389\u001b[0m     \u001b[1;32melse\u001b[0m\u001b[1;33m:\u001b[0m\u001b[1;33m\u001b[0m\u001b[1;33m\u001b[0m\u001b[0m\n\u001b[1;32m-> 1390\u001b[1;33m         \u001b[1;32mreturn\u001b[0m \u001b[0mnp\u001b[0m\u001b[1;33m.\u001b[0m\u001b[0masarray\u001b[0m\u001b[1;33m(\u001b[0m\u001b[0mx\u001b[0m\u001b[1;33m,\u001b[0m \u001b[0mfloat\u001b[0m\u001b[1;33m)\u001b[0m\u001b[1;33m\u001b[0m\u001b[1;33m\u001b[0m\u001b[0m\n\u001b[0m\u001b[0;32m   1391\u001b[0m \u001b[1;33m\u001b[0m\u001b[0m\n\u001b[0;32m   1392\u001b[0m \u001b[1;33m\u001b[0m\u001b[0m\n",
      "\u001b[1;32mC:\\ProgramData\\Anaconda3\\envs\\nlpenv\\lib\\site-packages\\numpy\\core\\_asarray.py\u001b[0m in \u001b[0;36masarray\u001b[1;34m(a, dtype, order)\u001b[0m\n\u001b[0;32m     83\u001b[0m \u001b[1;33m\u001b[0m\u001b[0m\n\u001b[0;32m     84\u001b[0m     \"\"\"\n\u001b[1;32m---> 85\u001b[1;33m     \u001b[1;32mreturn\u001b[0m \u001b[0marray\u001b[0m\u001b[1;33m(\u001b[0m\u001b[0ma\u001b[0m\u001b[1;33m,\u001b[0m \u001b[0mdtype\u001b[0m\u001b[1;33m,\u001b[0m \u001b[0mcopy\u001b[0m\u001b[1;33m=\u001b[0m\u001b[1;32mFalse\u001b[0m\u001b[1;33m,\u001b[0m \u001b[0morder\u001b[0m\u001b[1;33m=\u001b[0m\u001b[0morder\u001b[0m\u001b[1;33m)\u001b[0m\u001b[1;33m\u001b[0m\u001b[1;33m\u001b[0m\u001b[0m\n\u001b[0m\u001b[0;32m     86\u001b[0m \u001b[1;33m\u001b[0m\u001b[0m\n\u001b[0;32m     87\u001b[0m \u001b[1;33m\u001b[0m\u001b[0m\n",
      "\u001b[1;31mValueError\u001b[0m: setting an array element with a sequence."
     ]
    },
    {
     "data": {
      "image/png": "[encoded data removed]",
      "text/plain": [
       "<Figure size 432x288 with 1 Axes>"
      ]
     },
     "metadata": {
      "needs_background": "light"
     },
     "output_type": "display_data"
    }
   ],
   "source": [
    "cont_training(model_1yr, [train_ids_1yr, train_masks_1yr, train_segs_1yr], y_train_1yr,1, history_1yr)\n",
    "plot_training(history_1yr)"
   ]
  },
  {
   "cell_type": "code",
   "execution_count": 240,
   "metadata": {},
   "outputs": [
    {
     "name": "stdout",
     "output_type": "stream",
     "text": [
      "Train on 800 samples, validate on 200 samples\n",
      "800/800 [==============================] - 1838s 2s/sample - loss: 0.6984 - acc: 0.5263 - val_loss: 0.6957 - val_acc: 0.4750\n"
     ]
    },
    {
     "data": {
      "text/plain": [
       "<tensorflow.python.keras.callbacks.History at 0x2b01b135e10>"
      ]
     },
     "execution_count": 240,
     "metadata": {},
     "output_type": "execute_result"
    }
   ],
   "source": [
    "cont_training(model_3yr, [train_ids_3yr, train_masks_3yr, train_segs_3yr], y_train_3yr,1, history_3yr)\n"
   ]
  },
  {
   "cell_type": "code",
   "execution_count": 241,
   "metadata": {},
   "outputs": [
    {
     "name": "stdout",
     "output_type": "stream",
     "text": [
      "Train on 800 samples, validate on 200 samples\n",
      "800/800 [==============================] - 1899s 2s/sample - loss: 0.6905 - acc: 0.5450 - val_loss: 0.7372 - val_acc: 0.4550\n"
     ]
    },
    {
     "data": {
      "text/plain": [
       "<tensorflow.python.keras.callbacks.History at 0x2b09c0a5f98>"
      ]
     },
     "execution_count": 241,
     "metadata": {},
     "output_type": "execute_result"
    }
   ],
   "source": [
    "cont_training(model_sp, [train_ids_sp, train_masks_sp, train_segs_sp], y_train_sp,1, history_sp)\n"
   ]
  },
  {
   "cell_type": "code",
   "execution_count": 242,
   "metadata": {},
   "outputs": [
    {
     "data": {
      "image/png": "[encoded data removed]",
      "text/plain": [
       "<Figure size 432x288 with 1 Axes>"
      ]
     },
     "metadata": {
      "needs_background": "light"
     },
     "output_type": "display_data"
    },
    {
     "data": {
      "image/png": "[encoded data removed]",
      "text/plain": [
       "<Figure size 432x288 with 1 Axes>"
      ]
     },
     "metadata": {
      "needs_background": "light"
     },
     "output_type": "display_data"
    }
   ],
   "source": [
    "plot_training(history_1yr)"
   ]
  },
  {
   "cell_type": "code",
   "execution_count": 243,
   "metadata": {},
   "outputs": [
    {
     "data": {
      "image/png": "[encoded data removed]",
      "text/plain": [
       "<Figure size 432x288 with 1 Axes>"
      ]
     },
     "metadata": {
      "needs_background": "light"
     },
     "output_type": "display_data"
    },
    {
     "data": {
      "image/png": "[encoded data removed]",
      "text/plain": [
       "<Figure size 432x288 with 1 Axes>"
      ]
     },
     "metadata": {
      "needs_background": "light"
     },
     "output_type": "display_data"
    }
   ],
   "source": [
    "plot_training(history_3yr)"
   ]
  },
  {
   "cell_type": "code",
   "execution_count": 244,
   "metadata": {},
   "outputs": [
    {
     "data": {
      "image/png": "[encoded data removed]",
      "text/plain": [
       "<Figure size 432x288 with 1 Axes>"
      ]
     },
     "metadata": {
      "needs_background": "light"
     },
     "output_type": "display_data"
    },
    {
     "data": {
      "image/png": "[encoded data removed]",
      "text/plain": [
       "<Figure size 432x288 with 1 Axes>"
      ]
     },
     "metadata": {
      "needs_background": "light"
     },
     "output_type": "display_data"
    }
   ],
   "source": [
    "plot_training(history_sp)"
   ]
  },
  {
   "cell_type": "code",
   "execution_count": null,
   "metadata": {},
   "outputs": [],
   "source": []
  },
  {
   "cell_type": "code",
   "execution_count": null,
   "metadata": {},
   "outputs": [],
   "source": []
  },
  {
   "cell_type": "code",
   "execution_count": null,
   "metadata": {},
   "outputs": [],
   "source": []
  },
  {
   "cell_type": "code",
   "execution_count": null,
   "metadata": {},
   "outputs": [],
   "source": []
  },
  {
   "cell_type": "code",
   "execution_count": null,
   "metadata": {},
   "outputs": [],
   "source": []
  },
  {
   "cell_type": "code",
   "execution_count": 112,
   "metadata": {},
   "outputs": [
    {
     "name": "stdout",
     "output_type": "stream",
     "text": [
      "246/246 [==============================] - 185s 753ms/sample - loss: 0.6040 - acc: 0.7073\n"
     ]
    },
    {
     "data": {
      "text/plain": [
       "[0.6040388806079461, 0.70731705]"
      ]
     },
     "execution_count": 112,
     "metadata": {},
     "output_type": "execute_result"
    }
   ],
   "source": [
    "model.evaluate([test_ids, test_masks, test_segs], y_test_1yr)"
   ]
  },
  {
   "cell_type": "code",
   "execution_count": null,
   "metadata": {},
   "outputs": [],
   "source": [
    "y_preds_1yr = model.predict([test_ids, test_masks, test_segs])\n",
    "y_preds_3yr = model_3yr.predict([test_ids, test_masks, test_segs])\n",
    "y_preds_sp = model_sp.predict([test_ids, test_masks, test_segs])"
   ]
  },
  {
   "cell_type": "code",
   "execution_count": null,
   "metadata": {
    "scrolled": false
   },
   "outputs": [],
   "source": []
  },
  {
   "cell_type": "code",
   "execution_count": 124,
   "metadata": {},
   "outputs": [
    {
     "name": "stdout",
     "output_type": "stream",
     "text": [
      "[246]\n",
      "[0]\n",
      "174\n",
      "72\n",
      "0.7073170731707317\n"
     ]
    }
   ],
   "source": [
    "print(sum(y_preds < 0.5))\n",
    "print(sum(y_preds > 0.5))\n",
    "print(sum(y_test_1yr < 0.5))\n",
    "print(sum(y_test_1yr > 0.5))"
   ]
  },
  {
   "cell_type": "code",
   "execution_count": null,
   "metadata": {},
   "outputs": [],
   "source": [
    "plt.hist(y_preds_1yr)"
   ]
  },
  {
   "cell_type": "code",
   "execution_count": 113,
   "metadata": {},
   "outputs": [
    {
     "data": {
      "text/plain": [
       "(array([174.,   0.,   0.,   0.,   0.,   0.,   0.,   0.,   0.,  72.]),\n",
       " array([0. , 0.1, 0.2, 0.3, 0.4, 0.5, 0.6, 0.7, 0.8, 0.9, 1. ]),\n",
       " <a list of 10 Patch objects>)"
      ]
     },
     "execution_count": 113,
     "metadata": {},
     "output_type": "execute_result"
    },
    {
     "data": {
      "image/png": "[encoded data removed]",
      "text/plain": [
       "<Figure size 432x288 with 1 Axes>"
      ]
     },
     "metadata": {
      "needs_background": "light"
     },
     "output_type": "display_data"
    }
   ],
   "source": [
    "plt.hist(y_test_1yr)"
   ]
  },
  {
   "cell_type": "code",
   "execution_count": null,
   "metadata": {},
   "outputs": [],
   "source": []
  }
 ],
 "metadata": {
  "kernelspec": {
   "display_name": "Python 3",
   "language": "python",
   "name": "python3"
  },
  "language_info": {
   "codemirror_mode": {
    "name": "ipython",
    "version": 3
   },
   "file_extension": ".py",
   "mimetype": "text/x-python",
   "name": "python",
   "nbconvert_exporter": "python",
   "pygments_lexer": "ipython3",
   "version": "3.6.10"
  }
 },
 "nbformat": 4,
 "nbformat_minor": 4
}
