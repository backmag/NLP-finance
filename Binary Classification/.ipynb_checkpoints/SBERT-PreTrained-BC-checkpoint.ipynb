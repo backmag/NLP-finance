{
 "cells": [
  {
   "cell_type": "code",
   "execution_count": 2,
   "metadata": {},
   "outputs": [],
   "source": [
    "from sentence_transformers import SentenceTransformer\n",
    "import tensorflow as tf\n",
    "from tensorflow.keras import backend as K\n",
    "from tensorflow.keras.layers import Dense, Dropout, Embedding, Masking, Lambda, Layer\n",
    "from tensorflow.keras.models import Sequential\n",
    "from tensorflow.keras import optimizers\n",
    "from sklearn.metrics import confusion_matrix, classification_report\n",
    "import pandas as pd\n",
    "import numpy as np\n",
    "import seaborn as sn\n",
    "import matplotlib.pyplot as plt\n",
    "from pathlib import Path\n",
    "import os\n",
    "import itertools\n",
    "from importnb import Notebook\n",
    "with Notebook(): \n",
    "    import Utilities"
   ]
  },
  {
   "cell_type": "code",
   "execution_count": 3,
   "metadata": {},
   "outputs": [],
   "source": [
    "sbert_model = SentenceTransformer('bert-base-nli-mean-tokens')"
   ]
  },
  {
   "cell_type": "code",
   "execution_count": 4,
   "metadata": {},
   "outputs": [],
   "source": [
    "# Load data \n",
    "news_path = Path(\"../Datasets/data/financial_headlines_20061020-20131119.pkl\")\n",
    "data = pd.DataFrame(pd.read_pickle(news_path))\n",
    "data.set_index('date',inplace=True)"
   ]
  },
  {
   "cell_type": "code",
   "execution_count": null,
   "metadata": {},
   "outputs": [],
   "source": []
  },
  {
   "cell_type": "code",
   "execution_count": 5,
   "metadata": {},
   "outputs": [
    {
     "name": "stdout",
     "output_type": "stream",
     "text": [
      "Loaded previously saved embeddings.\n"
     ]
    }
   ],
   "source": [
    "path = Path(\"../Input Data/all_reuters_news_embedded_bert_base_nli_mean.npy\")\n",
    "if os.path.exists(path):\n",
    "    x = np.load(path)\n",
    "    embed_dim = x.shape[-1]\n",
    "    max_nbr_titles = x.shape[-2]\n",
    "    print(\"Loaded previously saved embeddings.\")\n",
    "else:\n",
    "    texts = []\n",
    "    for i,date in enumerate(data.index.drop_duplicates()): \n",
    "        if i % 100: \n",
    "            print(\"{} % ...\".format(round(100 * i / len(data.index.drop_duplicates()),3)),end='\\r')\n",
    "        temp_titles = []\n",
    "        for title in data.loc[date].values:\n",
    "            temp_titles.append(title[0])\n",
    "        texts.append(sbert_model.encode(temp_titles))\n",
    "    print(\"100 % ...\")\n",
    "    max_nbr_titles = max([len(text) for text in texts])\n",
    "    embed_dim = texts[0][0].shape[0]\n",
    "    x = np.zeros((n,max_nbr_titles,embed_dim))\n",
    "    # Include embeddings in matrix and pad with (tensors) of zeros. \n",
    "    for i,titles in enumerate(texts): \n",
    "        for j,title in enumerate(titles): \n",
    "            x[i,j] = title\n",
    "    np.save(path,x)"
   ]
  },
  {
   "cell_type": "code",
   "execution_count": 6,
   "metadata": {},
   "outputs": [],
   "source": [
    "config = {\n",
    "    'embed_dim': embed_dim,    # Dimensions to use for the word embedding\n",
    "    'max_len': max_nbr_titles,\n",
    "    'lookback': 1,        # How far back to collect data in the recurrent layer (days)\n",
    "    'delay': 1,           # How far ahead to predict data (days)\n",
    "    'p': 1,               # Order of the AR-part of the model\n",
    "    'd': 1,               # Integrated order\n",
    "    'q': 1,               # Included moving average terms \n",
    "    'train_part' : 0.8,   # Part of data to be used for training\n",
    "    'val_part' : 0.1,     # Part of data to be used for validation\n",
    "    'test_part' : 0.1,    # Part of data to be used for testing\n",
    "    'series': '1 YEAR',   # What series we currently want to predict, '1 YEAR', '3 YEAR' or 'S&P'\n",
    "    'start_date': '2006-10-20',\n",
    "    'end_date': '2013-11-19',\n",
    "}"
   ]
  },
  {
   "cell_type": "code",
   "execution_count": 7,
   "metadata": {},
   "outputs": [
    {
     "name": "stdout",
     "output_type": "stream",
     "text": [
      "Loaded previously constructed labels.\n"
     ]
    }
   ],
   "source": [
    "y = Utilities.load_binary_labels(config)"
   ]
  },
  {
   "cell_type": "code",
   "execution_count": 8,
   "metadata": {},
   "outputs": [],
   "source": [
    "# Need to remove some rows from the word embedding-matrix,\n",
    "# these numbers are specified in Utilities.fit_all_models()\n",
    "rm_start_rows = max(config['lookback'],5) + 1\n",
    "rm_end_rows = config['delay']\n",
    "x = x[rm_start_rows : -rm_end_rows]"
   ]
  },
  {
   "cell_type": "code",
   "execution_count": 9,
   "metadata": {},
   "outputs": [
    {
     "name": "stdout",
     "output_type": "stream",
     "text": [
      "Shape of x_train: (2317, 104, 768)\n",
      "Shape of y_train: (2317,)\n",
      "Shape of x_test: (258, 104, 768)\n",
      "Shape of y_test: (258,)\n"
     ]
    }
   ],
   "source": [
    "(x_train, y_train), (x_test, y_test) = Utilities.shuffle_and_partition(x,y,test_part = config['test_part'])\n",
    "print(\"Shape of x_train:\",x_train.shape)\n",
    "print(\"Shape of y_train:\",y_train.shape)\n",
    "print(\"Shape of x_test:\",x_test.shape)\n",
    "print(\"Shape of y_test:\",y_test.shape)"
   ]
  },
  {
   "cell_type": "code",
   "execution_count": 10,
   "metadata": {},
   "outputs": [],
   "source": [
    "# Create functions for custom 'MergeEmedding'-layer which averages \n",
    "# the embeddings over all words after the embedding layer \n",
    "\n",
    "def merge_embeddings(x):\n",
    "    # Sum the embeddings for every word slot. If this is zero, there is no word in this slot\n",
    "    non_zero = K.sum(K.cast(K.not_equal(K.sum(x,axis=2),0),tf.float32))\n",
    "    return K.sum(x,axis=1) / non_zero\n",
    "\n",
    "\n",
    "def merge_output_shape(input_shape):\n",
    "    return (input_shape[0], input_shape[2])"
   ]
  },
  {
   "cell_type": "code",
   "execution_count": 11,
   "metadata": {
    "scrolled": false
   },
   "outputs": [],
   "source": [
    "def create_nn(n_nodes, lr=0.001):\n",
    "    # n_nodes is a list with the number of nodes per layer, starting from the input \n",
    "    model = Sequential()\n",
    "    model.add(Lambda(merge_embeddings, merge_output_shape, input_shape=x_train.shape[1:]))\n",
    "    for n in n_nodes:\n",
    "        model.add(Dense(n,activation='relu'))\n",
    "    model.add(Dense(1, activation='sigmoid'))\n",
    "    rms = optimizers.RMSprop(learning_rate=lr)\n",
    "    model.compile(optimizer=rms, loss='binary_crossentropy', metrics=['acc'])\n",
    "    return model\n",
    "\n",
    "def train_and_format(x,y,bs,epochs, results, layers, nodes,lr,verbose):\n",
    "    name = f\"{bs}_{layers}_{nodes}\"\n",
    "    temp_history = model.fit(x, y, batch_size=bs, validation_split=0.2, epochs = epochs,verbose=verbose)\n",
    "    return results.append(pd.Series([np.mean(temp_history.history['val_acc'][-5:]),\n",
    "                                     temp_history,model,\n",
    "                                     layers,nodes,\n",
    "                                     bs, lr],name=name,\n",
    "                                    index=['Mean Val Acc','History','Model','Layers','Nodes','Batch Size','Learning Rate']))\n"
   ]
  },
  {
   "cell_type": "code",
   "execution_count": 12,
   "metadata": {
    "scrolled": true
   },
   "outputs": [
    {
     "name": "stdout",
     "output_type": "stream",
     "text": [
      "Testing 9 combinations. \n",
      "Train on 1853 samples, validate on 464 samples\n",
      "Epoch 1/20\n",
      "1853/1853 [==============================] - 1s 596us/sample - loss: 0.6878 - acc: 0.6589 - val_loss: 0.6829 - val_acc: 0.6616\n",
      "Epoch 2/20\n",
      "1853/1853 [==============================] - 1s 313us/sample - loss: 0.6802 - acc: 0.6649 - val_loss: 0.6756 - val_acc: 0.6616\n",
      "Epoch 3/20\n",
      "1853/1853 [==============================] - 1s 310us/sample - loss: 0.6735 - acc: 0.6649 - val_loss: 0.6689 - val_acc: 0.6616\n",
      "Epoch 4/20\n",
      "1853/1853 [==============================] - 1s 316us/sample - loss: 0.6670 - acc: 0.6649 - val_loss: 0.6630 - val_acc: 0.6616\n",
      "Epoch 5/20\n",
      "1853/1853 [==============================] - 1s 305us/sample - loss: 0.6615 - acc: 0.6649 - val_loss: 0.6588 - val_acc: 0.6616\n",
      "Epoch 6/20\n",
      "1853/1853 [==============================] - 1s 307us/sample - loss: 0.6580 - acc: 0.6649 - val_loss: 0.6559 - val_acc: 0.6616\n",
      "Epoch 7/20\n",
      "1853/1853 [==============================] - 1s 316us/sample - loss: 0.6550 - acc: 0.6649 - val_loss: 0.6541 - val_acc: 0.6616\n",
      "Epoch 8/20\n",
      "1853/1853 [==============================] - 1s 316us/sample - loss: 0.6534 - acc: 0.6649 - val_loss: 0.6529 - val_acc: 0.6616\n",
      "Epoch 9/20\n",
      "1853/1853 [==============================] - 1s 320us/sample - loss: 0.6517 - acc: 0.6649 - val_loss: 0.6520 - val_acc: 0.6616\n",
      "Epoch 10/20\n",
      "1853/1853 [==============================] - 1s 312us/sample - loss: 0.6511 - acc: 0.6649 - val_loss: 0.6512 - val_acc: 0.6616\n",
      "Epoch 11/20\n",
      "1853/1853 [==============================] - 1s 366us/sample - loss: 0.6500 - acc: 0.6649 - val_loss: 0.6504 - val_acc: 0.6616\n",
      "Epoch 12/20\n",
      "1853/1853 [==============================] - 1s 337us/sample - loss: 0.6491 - acc: 0.6649 - val_loss: 0.6497 - val_acc: 0.6616\n",
      "Epoch 13/20\n",
      "1853/1853 [==============================] - 1s 333us/sample - loss: 0.6481 - acc: 0.6649 - val_loss: 0.6488 - val_acc: 0.6616\n",
      "Epoch 14/20\n",
      "1853/1853 [==============================] - 1s 324us/sample - loss: 0.6476 - acc: 0.6649 - val_loss: 0.6479 - val_acc: 0.6616\n",
      "Epoch 15/20\n",
      "1853/1853 [==============================] - 1s 325us/sample - loss: 0.6464 - acc: 0.6649 - val_loss: 0.6471 - val_acc: 0.6616\n",
      "Epoch 16/20\n",
      "1853/1853 [==============================] - 1s 333us/sample - loss: 0.6456 - acc: 0.6649 - val_loss: 0.6462 - val_acc: 0.6616\n",
      "Epoch 17/20\n",
      "1853/1853 [==============================] - 1s 330us/sample - loss: 0.6446 - acc: 0.6649 - val_loss: 0.6454 - val_acc: 0.6616\n",
      "Epoch 18/20\n",
      "1853/1853 [==============================] - 1s 310us/sample - loss: 0.6439 - acc: 0.6649 - val_loss: 0.6446 - val_acc: 0.6616\n",
      "Epoch 19/20\n",
      "1853/1853 [==============================] - 1s 327us/sample - loss: 0.6429 - acc: 0.6649 - val_loss: 0.6437 - val_acc: 0.6616\n",
      "Epoch 20/20\n",
      "1853/1853 [==============================] - 1s 331us/sample - loss: 0.6424 - acc: 0.6649 - val_loss: 0.6430 - val_acc: 0.6616\n",
      "Train on 1853 samples, validate on 464 samples\n",
      "Epoch 1/20\n",
      "1853/1853 [==============================] - 1s 659us/sample - loss: 0.6879 - acc: 0.6519 - val_loss: 0.6829 - val_acc: 0.6616\n",
      "Epoch 2/20\n",
      "1853/1853 [==============================] - 1s 321us/sample - loss: 0.6794 - acc: 0.6649 - val_loss: 0.6745 - val_acc: 0.6616\n",
      "Epoch 3/20\n",
      "1853/1853 [==============================] - 1s 321us/sample - loss: 0.6710 - acc: 0.6649 - val_loss: 0.6657 - val_acc: 0.6616\n",
      "Epoch 4/20\n",
      "1853/1853 [==============================] - 1s 316us/sample - loss: 0.6632 - acc: 0.6649 - val_loss: 0.6591 - val_acc: 0.6616\n",
      "Epoch 5/20\n",
      "1853/1853 [==============================] - 1s 324us/sample - loss: 0.6576 - acc: 0.6649 - val_loss: 0.6545 - val_acc: 0.6616\n",
      "Epoch 6/20\n",
      "1853/1853 [==============================] - 1s 345us/sample - loss: 0.6534 - acc: 0.6649 - val_loss: 0.6513 - val_acc: 0.6616\n",
      "Epoch 7/20\n",
      "1853/1853 [==============================] - 1s 341us/sample - loss: 0.6500 - acc: 0.6649 - val_loss: 0.6496 - val_acc: 0.6616\n",
      "Epoch 8/20\n",
      "1853/1853 [==============================] - 1s 341us/sample - loss: 0.6486 - acc: 0.6649 - val_loss: 0.6484 - val_acc: 0.6616\n",
      "Epoch 9/20\n",
      "1853/1853 [==============================] - 1s 336us/sample - loss: 0.6468 - acc: 0.6649 - val_loss: 0.6474 - val_acc: 0.6616\n",
      "Epoch 10/20\n",
      "1853/1853 [==============================] - 1s 333us/sample - loss: 0.6461 - acc: 0.6649 - val_loss: 0.6464 - val_acc: 0.6616\n",
      "Epoch 11/20\n",
      "1853/1853 [==============================] - 1s 333us/sample - loss: 0.6447 - acc: 0.6649 - val_loss: 0.6456 - val_acc: 0.6616\n",
      "Epoch 12/20\n",
      "1853/1853 [==============================] - 1s 333us/sample - loss: 0.6442 - acc: 0.6649 - val_loss: 0.6447 - val_acc: 0.6616\n",
      "Epoch 13/20\n",
      "1853/1853 [==============================] - 1s 333us/sample - loss: 0.6431 - acc: 0.6649 - val_loss: 0.6437 - val_acc: 0.6616\n",
      "Epoch 14/20\n",
      "1853/1853 [==============================] - 1s 324us/sample - loss: 0.6422 - acc: 0.6649 - val_loss: 0.6427 - val_acc: 0.6616\n",
      "Epoch 15/20\n",
      "1853/1853 [==============================] - 1s 325us/sample - loss: 0.6412 - acc: 0.6649 - val_loss: 0.6419 - val_acc: 0.6616\n",
      "Epoch 16/20\n",
      "1853/1853 [==============================] - 1s 345us/sample - loss: 0.6402 - acc: 0.6649 - val_loss: 0.6411 - val_acc: 0.6616\n",
      "Epoch 17/20\n",
      "1853/1853 [==============================] - 1s 333us/sample - loss: 0.6394 - acc: 0.6649 - val_loss: 0.6401 - val_acc: 0.6616\n",
      "Epoch 18/20\n",
      "1853/1853 [==============================] - 1s 324us/sample - loss: 0.6382 - acc: 0.6649 - val_loss: 0.6392 - val_acc: 0.6616\n",
      "Epoch 19/20\n",
      "1853/1853 [==============================] - 1s 333us/sample - loss: 0.6373 - acc: 0.6649 - val_loss: 0.6384 - val_acc: 0.6616\n",
      "Epoch 20/20\n",
      "1853/1853 [==============================] - 1s 316us/sample - loss: 0.6363 - acc: 0.6649 - val_loss: 0.6377 - val_acc: 0.6616\n",
      "Train on 1853 samples, validate on 464 samples\n",
      "Epoch 1/20\n",
      "1853/1853 [==============================] - 1s 616us/sample - loss: 0.6860 - acc: 0.6670 - val_loss: 0.6786 - val_acc: 0.6616\n",
      "Epoch 2/20\n",
      "1853/1853 [==============================] - 1s 331us/sample - loss: 0.6735 - acc: 0.6649 - val_loss: 0.6670 - val_acc: 0.6616\n",
      "Epoch 3/20\n",
      "1853/1853 [==============================] - 1s 333us/sample - loss: 0.6624 - acc: 0.6649 - val_loss: 0.6572 - val_acc: 0.6616\n",
      "Epoch 4/20\n",
      "1853/1853 [==============================] - 1s 356us/sample - loss: 0.6548 - acc: 0.6649 - val_loss: 0.6517 - val_acc: 0.6616\n",
      "Epoch 5/20\n",
      "1853/1853 [==============================] - 1s 330us/sample - loss: 0.6499 - acc: 0.6649 - val_loss: 0.6491 - val_acc: 0.6616\n",
      "Epoch 6/20\n",
      "1853/1853 [==============================] - 1s 370us/sample - loss: 0.6475 - acc: 0.6649 - val_loss: 0.6479 - val_acc: 0.6616\n",
      "Epoch 7/20\n",
      "1853/1853 [==============================] - 1s 333us/sample - loss: 0.6465 - acc: 0.6649 - val_loss: 0.6466 - val_acc: 0.6616\n",
      "Epoch 8/20\n",
      "1853/1853 [==============================] - 1s 333us/sample - loss: 0.6448 - acc: 0.6649 - val_loss: 0.6454 - val_acc: 0.6616\n",
      "Epoch 9/20\n",
      "1853/1853 [==============================] - 1s 362us/sample - loss: 0.6437 - acc: 0.6649 - val_loss: 0.6444 - val_acc: 0.6616\n",
      "Epoch 10/20\n",
      "1853/1853 [==============================] - 1s 358us/sample - loss: 0.6426 - acc: 0.6649 - val_loss: 0.6432 - val_acc: 0.6616\n",
      "Epoch 11/20\n",
      "1853/1853 [==============================] - 1s 328us/sample - loss: 0.6416 - acc: 0.6649 - val_loss: 0.6422 - val_acc: 0.6616\n",
      "Epoch 12/20\n",
      "1853/1853 [==============================] - 1s 349us/sample - loss: 0.6399 - acc: 0.6649 - val_loss: 0.6411 - val_acc: 0.6616\n",
      "Epoch 13/20\n",
      "1853/1853 [==============================] - 1s 333us/sample - loss: 0.6392 - acc: 0.6649 - val_loss: 0.6401 - val_acc: 0.6616\n",
      "Epoch 14/20\n",
      "1853/1853 [==============================] - 1s 324us/sample - loss: 0.6380 - acc: 0.6649 - val_loss: 0.6391 - val_acc: 0.6616\n",
      "Epoch 15/20\n",
      "1853/1853 [==============================] - 1s 333us/sample - loss: 0.6369 - acc: 0.6649 - val_loss: 0.6383 - val_acc: 0.6616\n",
      "Epoch 16/20\n",
      "1853/1853 [==============================] - 1s 337us/sample - loss: 0.6360 - acc: 0.6649 - val_loss: 0.6376 - val_acc: 0.6616\n",
      "Epoch 17/20\n",
      "1853/1853 [==============================] - 1s 325us/sample - loss: 0.6349 - acc: 0.6649 - val_loss: 0.6369 - val_acc: 0.6616\n",
      "Epoch 18/20\n",
      "1853/1853 [==============================] - 1s 333us/sample - loss: 0.6340 - acc: 0.6649 - val_loss: 0.6363 - val_acc: 0.6616\n"
     ]
    },
    {
     "name": "stdout",
     "output_type": "stream",
     "text": [
      "Epoch 19/20\n",
      "1853/1853 [==============================] - 1s 325us/sample - loss: 0.6329 - acc: 0.6649 - val_loss: 0.6358 - val_acc: 0.6616\n",
      "Epoch 20/20\n",
      "1853/1853 [==============================] - 1s 304us/sample - loss: 0.6319 - acc: 0.6649 - val_loss: 0.6351 - val_acc: 0.6616\n",
      "Train on 1853 samples, validate on 464 samples\n",
      "Epoch 1/20\n",
      "1853/1853 [==============================] - 1s 639us/sample - loss: 0.6815 - acc: 0.6649 - val_loss: 0.6725 - val_acc: 0.6616\n",
      "Epoch 2/20\n",
      "1853/1853 [==============================] - 1s 350us/sample - loss: 0.6682 - acc: 0.6649 - val_loss: 0.6619 - val_acc: 0.6616\n",
      "Epoch 3/20\n",
      "1853/1853 [==============================] - 1s 353us/sample - loss: 0.6596 - acc: 0.6649 - val_loss: 0.6567 - val_acc: 0.6616\n",
      "Epoch 4/20\n",
      "1853/1853 [==============================] - 1s 350us/sample - loss: 0.6552 - acc: 0.6649 - val_loss: 0.6543 - val_acc: 0.6616\n",
      "Epoch 5/20\n",
      "1853/1853 [==============================] - 1s 337us/sample - loss: 0.6524 - acc: 0.6649 - val_loss: 0.6530 - val_acc: 0.6616\n",
      "Epoch 6/20\n",
      "1853/1853 [==============================] - 1s 341us/sample - loss: 0.6509 - acc: 0.6649 - val_loss: 0.6511 - val_acc: 0.6616\n",
      "Epoch 7/20\n",
      "1853/1853 [==============================] - 1s 344us/sample - loss: 0.6491 - acc: 0.6649 - val_loss: 0.6497 - val_acc: 0.6616\n",
      "Epoch 8/20\n",
      "1853/1853 [==============================] - 1s 338us/sample - loss: 0.6479 - acc: 0.6649 - val_loss: 0.6480 - val_acc: 0.6616\n",
      "Epoch 9/20\n",
      "1853/1853 [==============================] - 1s 336us/sample - loss: 0.6465 - acc: 0.6649 - val_loss: 0.6464 - val_acc: 0.6616\n",
      "Epoch 10/20\n",
      "1853/1853 [==============================] - 1s 341us/sample - loss: 0.6446 - acc: 0.6649 - val_loss: 0.6448 - val_acc: 0.6616\n",
      "Epoch 11/20\n",
      "1853/1853 [==============================] - 1s 342us/sample - loss: 0.6424 - acc: 0.6649 - val_loss: 0.6431 - val_acc: 0.6616\n",
      "Epoch 12/20\n",
      "1853/1853 [==============================] - 1s 337us/sample - loss: 0.6412 - acc: 0.6649 - val_loss: 0.6415 - val_acc: 0.6616\n",
      "Epoch 13/20\n",
      "1853/1853 [==============================] - 1s 341us/sample - loss: 0.6392 - acc: 0.6649 - val_loss: 0.6400 - val_acc: 0.6616\n",
      "Epoch 14/20\n",
      "1853/1853 [==============================] - 1s 341us/sample - loss: 0.6379 - acc: 0.6649 - val_loss: 0.6389 - val_acc: 0.6616\n",
      "Epoch 15/20\n",
      "1853/1853 [==============================] - 1s 345us/sample - loss: 0.6366 - acc: 0.6649 - val_loss: 0.6378 - val_acc: 0.6616\n",
      "Epoch 16/20\n",
      "1853/1853 [==============================] - 1s 341us/sample - loss: 0.6350 - acc: 0.6649 - val_loss: 0.6366 - val_acc: 0.6616\n",
      "Epoch 17/20\n",
      "1853/1853 [==============================] - 1s 361us/sample - loss: 0.6337 - acc: 0.6649 - val_loss: 0.6359 - val_acc: 0.6616\n",
      "Epoch 18/20\n",
      "1853/1853 [==============================] - 1s 351us/sample - loss: 0.6324 - acc: 0.6649 - val_loss: 0.6349 - val_acc: 0.6616\n",
      "Epoch 19/20\n",
      "1853/1853 [==============================] - 1s 352us/sample - loss: 0.6310 - acc: 0.6649 - val_loss: 0.6342 - val_acc: 0.6616\n",
      "Epoch 20/20\n",
      "1853/1853 [==============================] - 1s 324us/sample - loss: 0.6299 - acc: 0.6649 - val_loss: 0.6335 - val_acc: 0.6595\n",
      "Train on 1853 samples, validate on 464 samples\n",
      "Epoch 1/20\n",
      "1853/1853 [==============================] - 1s 726us/sample - loss: 0.6855 - acc: 0.6541 - val_loss: 0.6763 - val_acc: 0.6616\n",
      "Epoch 2/20\n",
      "1853/1853 [==============================] - 1s 340us/sample - loss: 0.6706 - acc: 0.6649 - val_loss: 0.6632 - val_acc: 0.6616\n",
      "Epoch 3/20\n",
      "1853/1853 [==============================] - 1s 370us/sample - loss: 0.6600 - acc: 0.6649 - val_loss: 0.6557 - val_acc: 0.6616\n",
      "Epoch 4/20\n",
      "1853/1853 [==============================] - 1s 358us/sample - loss: 0.6541 - acc: 0.6649 - val_loss: 0.6530 - val_acc: 0.6616\n",
      "Epoch 5/20\n",
      "1853/1853 [==============================] - 1s 353us/sample - loss: 0.6512 - acc: 0.6649 - val_loss: 0.6510 - val_acc: 0.6616\n",
      "Epoch 6/20\n",
      "1853/1853 [==============================] - 1s 352us/sample - loss: 0.6492 - acc: 0.6649 - val_loss: 0.6495 - val_acc: 0.6616\n",
      "Epoch 7/20\n",
      "1853/1853 [==============================] - 1s 351us/sample - loss: 0.6476 - acc: 0.6649 - val_loss: 0.6473 - val_acc: 0.6616\n",
      "Epoch 8/20\n",
      "1853/1853 [==============================] - 1s 350us/sample - loss: 0.6451 - acc: 0.6649 - val_loss: 0.6452 - val_acc: 0.6616\n",
      "Epoch 9/20\n",
      "1853/1853 [==============================] - 1s 387us/sample - loss: 0.6432 - acc: 0.6649 - val_loss: 0.6434 - val_acc: 0.6616\n",
      "Epoch 10/20\n",
      "1853/1853 [==============================] - 1s 346us/sample - loss: 0.6416 - acc: 0.6649 - val_loss: 0.6416 - val_acc: 0.6616\n",
      "Epoch 11/20\n",
      "1853/1853 [==============================] - 1s 341us/sample - loss: 0.6395 - acc: 0.6649 - val_loss: 0.6400 - val_acc: 0.6616\n",
      "Epoch 12/20\n",
      "1853/1853 [==============================] - 1s 335us/sample - loss: 0.6374 - acc: 0.6649 - val_loss: 0.6383 - val_acc: 0.6616\n",
      "Epoch 13/20\n",
      "1853/1853 [==============================] - 1s 334us/sample - loss: 0.6355 - acc: 0.6649 - val_loss: 0.6367 - val_acc: 0.6616\n",
      "Epoch 14/20\n",
      "1853/1853 [==============================] - 1s 341us/sample - loss: 0.6334 - acc: 0.6649 - val_loss: 0.6357 - val_acc: 0.6616\n",
      "Epoch 15/20\n",
      "1853/1853 [==============================] - 1s 329us/sample - loss: 0.6318 - acc: 0.6649 - val_loss: 0.6347 - val_acc: 0.6616\n",
      "Epoch 16/20\n",
      "1853/1853 [==============================] - 1s 328us/sample - loss: 0.6304 - acc: 0.6649 - val_loss: 0.6336 - val_acc: 0.6616\n",
      "Epoch 17/20\n",
      "1853/1853 [==============================] - 1s 342us/sample - loss: 0.6288 - acc: 0.6649 - val_loss: 0.6331 - val_acc: 0.6616\n",
      "Epoch 18/20\n",
      "1853/1853 [==============================] - 1s 336us/sample - loss: 0.6273 - acc: 0.6649 - val_loss: 0.6322 - val_acc: 0.6616\n",
      "Epoch 19/20\n",
      "1853/1853 [==============================] - 1s 333us/sample - loss: 0.6260 - acc: 0.6649 - val_loss: 0.6324 - val_acc: 0.6573\n",
      "Epoch 20/20\n",
      "1853/1853 [==============================] - 1s 316us/sample - loss: 0.6253 - acc: 0.6643 - val_loss: 0.6313 - val_acc: 0.6595\n",
      "Train on 1853 samples, validate on 464 samples\n",
      "Epoch 1/20\n",
      "1853/1853 [==============================] - 1s 615us/sample - loss: 0.6790 - acc: 0.6649 - val_loss: 0.6668 - val_acc: 0.6616\n",
      "Epoch 2/20\n",
      "1853/1853 [==============================] - 1s 337us/sample - loss: 0.6618 - acc: 0.6649 - val_loss: 0.6560 - val_acc: 0.6616\n",
      "Epoch 3/20\n",
      "1853/1853 [==============================] - 1s 341us/sample - loss: 0.6530 - acc: 0.6649 - val_loss: 0.6522 - val_acc: 0.6616\n",
      "Epoch 4/20\n",
      "1853/1853 [==============================] - 1s 341us/sample - loss: 0.6498 - acc: 0.6649 - val_loss: 0.6496 - val_acc: 0.6616\n",
      "Epoch 5/20\n",
      "1853/1853 [==============================] - 1s 359us/sample - loss: 0.6473 - acc: 0.6649 - val_loss: 0.6470 - val_acc: 0.6616\n",
      "Epoch 6/20\n",
      "1853/1853 [==============================] - 1s 336us/sample - loss: 0.6445 - acc: 0.6649 - val_loss: 0.6446 - val_acc: 0.6616\n",
      "Epoch 7/20\n",
      "1853/1853 [==============================] - 1s 370us/sample - loss: 0.6424 - acc: 0.6649 - val_loss: 0.6422 - val_acc: 0.6616\n",
      "Epoch 8/20\n",
      "1853/1853 [==============================] - 1s 325us/sample - loss: 0.6399 - acc: 0.6649 - val_loss: 0.6398 - val_acc: 0.6616\n",
      "Epoch 9/20\n",
      "1853/1853 [==============================] - 1s 333us/sample - loss: 0.6372 - acc: 0.6649 - val_loss: 0.6375 - val_acc: 0.6616\n",
      "Epoch 10/20\n",
      "1853/1853 [==============================] - 1s 333us/sample - loss: 0.6350 - acc: 0.6649 - val_loss: 0.6358 - val_acc: 0.6616\n",
      "Epoch 11/20\n",
      "1853/1853 [==============================] - 1s 333us/sample - loss: 0.6328 - acc: 0.6649 - val_loss: 0.6343 - val_acc: 0.6616\n",
      "Epoch 12/20\n",
      "1853/1853 [==============================] - 1s 345us/sample - loss: 0.6306 - acc: 0.6649 - val_loss: 0.6331 - val_acc: 0.6616\n",
      "Epoch 13/20\n",
      "1853/1853 [==============================] - 1s 333us/sample - loss: 0.6286 - acc: 0.6649 - val_loss: 0.6323 - val_acc: 0.6616\n",
      "Epoch 14/20\n",
      "1853/1853 [==============================] - 1s 342us/sample - loss: 0.6271 - acc: 0.6649 - val_loss: 0.6316 - val_acc: 0.6616\n",
      "Epoch 15/20\n",
      "1853/1853 [==============================] - 1s 333us/sample - loss: 0.6254 - acc: 0.6649 - val_loss: 0.6308 - val_acc: 0.6595\n",
      "Epoch 16/20\n",
      "1853/1853 [==============================] - 1s 333us/sample - loss: 0.6240 - acc: 0.6649 - val_loss: 0.6310 - val_acc: 0.6530\n",
      "Epoch 17/20\n"
     ]
    },
    {
     "name": "stdout",
     "output_type": "stream",
     "text": [
      "1853/1853 [==============================] - 1s 336us/sample - loss: 0.6228 - acc: 0.6649 - val_loss: 0.6301 - val_acc: 0.6595\n",
      "Epoch 18/20\n",
      "1853/1853 [==============================] - 1s 333us/sample - loss: 0.6216 - acc: 0.6649 - val_loss: 0.6301 - val_acc: 0.6509\n",
      "Epoch 19/20\n",
      "1853/1853 [==============================] - 1s 333us/sample - loss: 0.6215 - acc: 0.6654 - val_loss: 0.6297 - val_acc: 0.6487\n",
      "Epoch 20/20\n",
      "1853/1853 [==============================] - 1s 320us/sample - loss: 0.6201 - acc: 0.6643 - val_loss: 0.6293 - val_acc: 0.6487\n",
      "Train on 1853 samples, validate on 464 samples\n",
      "Epoch 1/20\n",
      "1853/1853 [==============================] - 1s 640us/sample - loss: 0.6799 - acc: 0.6498 - val_loss: 0.6677 - val_acc: 0.6616\n",
      "Epoch 2/20\n",
      "1853/1853 [==============================] - 1s 366us/sample - loss: 0.6639 - acc: 0.6649 - val_loss: 0.6586 - val_acc: 0.6616\n",
      "Epoch 3/20\n",
      "1853/1853 [==============================] - 1s 370us/sample - loss: 0.6568 - acc: 0.6649 - val_loss: 0.6550 - val_acc: 0.6616\n",
      "Epoch 4/20\n",
      "1853/1853 [==============================] - 1s 362us/sample - loss: 0.6533 - acc: 0.6649 - val_loss: 0.6528 - val_acc: 0.6616\n",
      "Epoch 5/20\n",
      "1853/1853 [==============================] - 1s 353us/sample - loss: 0.6511 - acc: 0.6649 - val_loss: 0.6507 - val_acc: 0.6616\n",
      "Epoch 6/20\n",
      "1853/1853 [==============================] - 1s 370us/sample - loss: 0.6484 - acc: 0.6649 - val_loss: 0.6488 - val_acc: 0.6616\n",
      "Epoch 7/20\n",
      "1853/1853 [==============================] - 1s 375us/sample - loss: 0.6464 - acc: 0.6649 - val_loss: 0.6467 - val_acc: 0.6616\n",
      "Epoch 8/20\n",
      "1853/1853 [==============================] - 1s 370us/sample - loss: 0.6443 - acc: 0.6649 - val_loss: 0.6449 - val_acc: 0.6616\n",
      "Epoch 9/20\n",
      "1853/1853 [==============================] - 1s 370us/sample - loss: 0.6426 - acc: 0.6649 - val_loss: 0.6426 - val_acc: 0.6616\n",
      "Epoch 10/20\n",
      "1853/1853 [==============================] - 1s 370us/sample - loss: 0.6403 - acc: 0.6649 - val_loss: 0.6410 - val_acc: 0.6616\n",
      "Epoch 11/20\n",
      "1853/1853 [==============================] - 1s 370us/sample - loss: 0.6387 - acc: 0.6649 - val_loss: 0.6390 - val_acc: 0.6616\n",
      "Epoch 12/20\n",
      "1853/1853 [==============================] - 1s 370us/sample - loss: 0.6358 - acc: 0.6649 - val_loss: 0.6380 - val_acc: 0.6616\n",
      "Epoch 13/20\n",
      "1853/1853 [==============================] - 1s 379us/sample - loss: 0.6346 - acc: 0.6649 - val_loss: 0.6361 - val_acc: 0.6616\n",
      "Epoch 14/20\n",
      "1853/1853 [==============================] - 1s 395us/sample - loss: 0.6330 - acc: 0.6649 - val_loss: 0.6350 - val_acc: 0.6616\n",
      "Epoch 15/20\n",
      "1853/1853 [==============================] - 1s 370us/sample - loss: 0.6308 - acc: 0.6649 - val_loss: 0.6348 - val_acc: 0.6638\n",
      "Epoch 16/20\n",
      "1853/1853 [==============================] - 1s 370us/sample - loss: 0.6293 - acc: 0.6649 - val_loss: 0.6330 - val_acc: 0.6616\n",
      "Epoch 17/20\n",
      "1853/1853 [==============================] - 1s 370us/sample - loss: 0.6278 - acc: 0.6649 - val_loss: 0.6324 - val_acc: 0.6638\n",
      "Epoch 18/20\n",
      "1853/1853 [==============================] - 1s 375us/sample - loss: 0.6259 - acc: 0.6649 - val_loss: 0.6319 - val_acc: 0.6595\n",
      "Epoch 19/20\n",
      "1853/1853 [==============================] - 1s 370us/sample - loss: 0.6251 - acc: 0.6654 - val_loss: 0.6317 - val_acc: 0.6595\n",
      "Epoch 20/20\n",
      "1853/1853 [==============================] - 1s 354us/sample - loss: 0.6238 - acc: 0.6654 - val_loss: 0.6322 - val_acc: 0.6509\n",
      "Train on 1853 samples, validate on 464 samples\n",
      "Epoch 1/20\n",
      "1853/1853 [==============================] - 1s 644us/sample - loss: 0.6785 - acc: 0.6519 - val_loss: 0.6649 - val_acc: 0.6616\n",
      "Epoch 2/20\n",
      "1853/1853 [==============================] - 1s 379us/sample - loss: 0.6596 - acc: 0.6649 - val_loss: 0.6551 - val_acc: 0.6616\n",
      "Epoch 3/20\n",
      "1853/1853 [==============================] - 1s 412us/sample - loss: 0.6530 - acc: 0.6649 - val_loss: 0.6521 - val_acc: 0.6616\n",
      "Epoch 4/20\n",
      "1853/1853 [==============================] - 1s 377us/sample - loss: 0.6498 - acc: 0.6649 - val_loss: 0.6499 - val_acc: 0.6616\n",
      "Epoch 5/20\n",
      "1853/1853 [==============================] - 1s 371us/sample - loss: 0.6476 - acc: 0.6649 - val_loss: 0.6468 - val_acc: 0.6616\n",
      "Epoch 6/20\n",
      "1853/1853 [==============================] - 1s 370us/sample - loss: 0.6442 - acc: 0.6649 - val_loss: 0.6438 - val_acc: 0.6616\n",
      "Epoch 7/20\n",
      "1853/1853 [==============================] - 1s 378us/sample - loss: 0.6411 - acc: 0.6649 - val_loss: 0.6405 - val_acc: 0.6616\n",
      "Epoch 8/20\n",
      "1853/1853 [==============================] - 1s 379us/sample - loss: 0.6381 - acc: 0.6649 - val_loss: 0.6382 - val_acc: 0.6616\n",
      "Epoch 9/20\n",
      "1853/1853 [==============================] - 1s 371us/sample - loss: 0.6349 - acc: 0.6649 - val_loss: 0.6357 - val_acc: 0.6616\n",
      "Epoch 10/20\n",
      "1853/1853 [==============================] - 1s 369us/sample - loss: 0.6329 - acc: 0.6649 - val_loss: 0.6344 - val_acc: 0.6616\n",
      "Epoch 11/20\n",
      "1853/1853 [==============================] - 1s 379us/sample - loss: 0.6305 - acc: 0.6649 - val_loss: 0.6328 - val_acc: 0.6616\n",
      "Epoch 12/20\n",
      "1853/1853 [==============================] - 1s 403us/sample - loss: 0.6285 - acc: 0.6649 - val_loss: 0.6317 - val_acc: 0.6616\n",
      "Epoch 13/20\n",
      "1853/1853 [==============================] - 1s 416us/sample - loss: 0.6260 - acc: 0.6649 - val_loss: 0.6308 - val_acc: 0.6638\n",
      "Epoch 14/20\n",
      "1853/1853 [==============================] - 1s 405us/sample - loss: 0.6238 - acc: 0.6649 - val_loss: 0.6302 - val_acc: 0.6595\n",
      "Epoch 15/20\n",
      "1853/1853 [==============================] - 1s 389us/sample - loss: 0.6234 - acc: 0.6654 - val_loss: 0.6299 - val_acc: 0.6552\n",
      "Epoch 16/20\n",
      "1853/1853 [==============================] - 1s 395us/sample - loss: 0.6211 - acc: 0.6649 - val_loss: 0.6309 - val_acc: 0.6487\n",
      "Epoch 17/20\n",
      "1853/1853 [==============================] - 1s 395us/sample - loss: 0.6203 - acc: 0.6654 - val_loss: 0.6293 - val_acc: 0.6487\n",
      "Epoch 18/20\n",
      "1853/1853 [==============================] - 1s 399us/sample - loss: 0.6188 - acc: 0.6665 - val_loss: 0.6294 - val_acc: 0.6509\n",
      "Epoch 19/20\n",
      "1853/1853 [==============================] - 1s 429us/sample - loss: 0.6192 - acc: 0.6643 - val_loss: 0.6292 - val_acc: 0.6530\n",
      "Epoch 20/20\n",
      "1853/1853 [==============================] - 1s 391us/sample - loss: 0.6177 - acc: 0.6659 - val_loss: 0.6294 - val_acc: 0.6552\n",
      "Train on 1853 samples, validate on 464 samples\n",
      "Epoch 1/20\n",
      "1853/1853 [==============================] - 1s 767us/sample - loss: 0.6721 - acc: 0.6632 - val_loss: 0.6583 - val_acc: 0.6616\n",
      "Epoch 2/20\n",
      "1853/1853 [==============================] - 1s 424us/sample - loss: 0.6551 - acc: 0.6649 - val_loss: 0.6532 - val_acc: 0.6616\n",
      "Epoch 3/20\n",
      "1853/1853 [==============================] - 1s 404us/sample - loss: 0.6510 - acc: 0.6649 - val_loss: 0.6496 - val_acc: 0.6616\n",
      "Epoch 4/20\n",
      "1853/1853 [==============================] - 1s 395us/sample - loss: 0.6467 - acc: 0.6649 - val_loss: 0.6461 - val_acc: 0.6616\n",
      "Epoch 5/20\n",
      "1853/1853 [==============================] - 1s 400us/sample - loss: 0.6434 - acc: 0.6649 - val_loss: 0.6420 - val_acc: 0.6616\n",
      "Epoch 6/20\n",
      "1853/1853 [==============================] - 1s 403us/sample - loss: 0.6392 - acc: 0.6649 - val_loss: 0.6386 - val_acc: 0.6616\n",
      "Epoch 7/20\n",
      "1853/1853 [==============================] - 1s 399us/sample - loss: 0.6347 - acc: 0.6649 - val_loss: 0.6350 - val_acc: 0.6616\n",
      "Epoch 8/20\n",
      "1853/1853 [==============================] - 1s 404us/sample - loss: 0.6316 - acc: 0.6649 - val_loss: 0.6331 - val_acc: 0.6616\n",
      "Epoch 9/20\n",
      "1853/1853 [==============================] - 1s 398us/sample - loss: 0.6280 - acc: 0.6649 - val_loss: 0.6315 - val_acc: 0.6595\n",
      "Epoch 10/20\n",
      "1853/1853 [==============================] - 1s 396us/sample - loss: 0.6259 - acc: 0.6649 - val_loss: 0.6305 - val_acc: 0.6616\n",
      "Epoch 11/20\n",
      "1853/1853 [==============================] - 1s 395us/sample - loss: 0.6239 - acc: 0.6649 - val_loss: 0.6302 - val_acc: 0.6530\n",
      "Epoch 12/20\n",
      "1853/1853 [==============================] - 1s 395us/sample - loss: 0.6215 - acc: 0.6643 - val_loss: 0.6304 - val_acc: 0.6595\n",
      "Epoch 13/20\n",
      "1853/1853 [==============================] - 1s 398us/sample - loss: 0.6209 - acc: 0.6659 - val_loss: 0.6292 - val_acc: 0.6487\n",
      "Epoch 14/20\n",
      "1853/1853 [==============================] - 1s 388us/sample - loss: 0.6192 - acc: 0.6643 - val_loss: 0.6293 - val_acc: 0.6552\n",
      "Epoch 15/20\n"
     ]
    },
    {
     "name": "stdout",
     "output_type": "stream",
     "text": [
      "1853/1853 [==============================] - 1s 399us/sample - loss: 0.6178 - acc: 0.6654 - val_loss: 0.6289 - val_acc: 0.6552\n",
      "Epoch 16/20\n",
      "1853/1853 [==============================] - 1s 395us/sample - loss: 0.6168 - acc: 0.6681 - val_loss: 0.6290 - val_acc: 0.6530\n",
      "Epoch 17/20\n",
      "1853/1853 [==============================] - 1s 396us/sample - loss: 0.6173 - acc: 0.6686 - val_loss: 0.6290 - val_acc: 0.6573\n",
      "Epoch 18/20\n",
      "1853/1853 [==============================] - 1s 387us/sample - loss: 0.6161 - acc: 0.6654 - val_loss: 0.6285 - val_acc: 0.6595\n",
      "Epoch 19/20\n",
      "1853/1853 [==============================] - 1s 404us/sample - loss: 0.6160 - acc: 0.6643 - val_loss: 0.6284 - val_acc: 0.6595\n",
      "Epoch 20/20\n",
      "1853/1853 [==============================] - 1s 381us/sample - loss: 0.6143 - acc: 0.6676 - val_loss: 0.6283 - val_acc: 0.6595\n",
      "100.0 %     \r"
     ]
    }
   ],
   "source": [
    "n_layers = [2]\n",
    "n_nodes = [50, 200, 500]\n",
    "learning_rates = [0.0001]\n",
    "batch_sizes = [64]\n",
    "verbose = 1 \n",
    "epochs = 20\n",
    "results = pd.DataFrame(columns=['Mean Val Acc','History','Model', 'Layers', 'Nodes','Batch Size','Learning Rate'])\n",
    "n_configs = sum([len(n_nodes)**l for l in n_layers]) * len(batch_sizes) * len(learning_rates)\n",
    "ctr = 0\n",
    "print('Testing {} combinations. '.format(n_configs))\n",
    "for layers in n_layers:\n",
    "    if layers == 1: node_configs = list(itertools.product(n_nodes))\n",
    "    elif layers == 2: node_configs = list(itertools.product(n_nodes, n_nodes))\n",
    "    elif layers == 3: node_configs = list(itertools.product(n_nodes, n_nodes, n_nodes))\n",
    "    elif layers == 4: node_configs = list(itertools.product(n_nodes, n_nodes, n_nodes, n_nodes))\n",
    "    for bs in batch_sizes: \n",
    "        for temp_nodes in node_configs:\n",
    "            for lr in learning_rates: \n",
    "                ctr += 1 \n",
    "                model = create_nn(temp_nodes, lr)\n",
    "                results = train_and_format(x_train, y_train, bs, epochs, results, layers, temp_nodes, lr,verbose=verbose)\n",
    "                print(\"{} %     \".format(round(100 * ctr / n_configs,2)),end='\\r')\n",
    "            \n",
    "            "
   ]
  },
  {
   "cell_type": "code",
   "execution_count": 1,
   "metadata": {},
   "outputs": [
    {
     "name": "stdout",
     "output_type": "stream",
     "text": [
      "Top 3 configs: \n"
     ]
    },
    {
     "ename": "NameError",
     "evalue": "name 'np' is not defined",
     "output_type": "error",
     "traceback": [
      "\u001b[1;31m---------------------------------------------------------------------------\u001b[0m",
      "\u001b[1;31mNameError\u001b[0m                                 Traceback (most recent call last)",
      "\u001b[1;32m<ipython-input-1-c5058ca0f799>\u001b[0m in \u001b[0;36m<module>\u001b[1;34m\u001b[0m\n\u001b[0;32m      1\u001b[0m \u001b[0mk\u001b[0m \u001b[1;33m=\u001b[0m \u001b[1;36m3\u001b[0m\u001b[1;33m\u001b[0m\u001b[1;33m\u001b[0m\u001b[0m\n\u001b[0;32m      2\u001b[0m \u001b[0mprint\u001b[0m\u001b[1;33m(\u001b[0m\u001b[1;34m\"Top {} configs: \"\u001b[0m\u001b[1;33m.\u001b[0m\u001b[0mformat\u001b[0m\u001b[1;33m(\u001b[0m\u001b[0mk\u001b[0m\u001b[1;33m)\u001b[0m\u001b[1;33m)\u001b[0m\u001b[1;33m\u001b[0m\u001b[1;33m\u001b[0m\u001b[0m\n\u001b[1;32m----> 3\u001b[1;33m \u001b[0mk_best\u001b[0m \u001b[1;33m=\u001b[0m \u001b[0mnp\u001b[0m\u001b[1;33m.\u001b[0m\u001b[0margpartition\u001b[0m\u001b[1;33m(\u001b[0m\u001b[0mresults\u001b[0m\u001b[1;33m[\u001b[0m\u001b[1;34m'Mean Val Acc'\u001b[0m\u001b[1;33m]\u001b[0m\u001b[1;33m,\u001b[0m\u001b[1;33m-\u001b[0m\u001b[0mk\u001b[0m\u001b[1;33m)\u001b[0m\u001b[1;33m[\u001b[0m\u001b[1;33m-\u001b[0m\u001b[0mk\u001b[0m\u001b[1;33m:\u001b[0m\u001b[1;33m]\u001b[0m\u001b[1;33m\u001b[0m\u001b[1;33m\u001b[0m\u001b[0m\n\u001b[0m\u001b[0;32m      4\u001b[0m \u001b[0mresults\u001b[0m\u001b[1;33m.\u001b[0m\u001b[0miloc\u001b[0m\u001b[1;33m[\u001b[0m\u001b[0mk_best\u001b[0m\u001b[1;33m]\u001b[0m\u001b[1;33m\u001b[0m\u001b[1;33m\u001b[0m\u001b[0m\n",
      "\u001b[1;31mNameError\u001b[0m: name 'np' is not defined"
     ]
    }
   ],
   "source": [
    "k = 3\n",
    "print(\"Top {} configs: \".format(k))\n",
    "k_best = np.argpartition(results['Mean Val Acc'],-k)[-k:]\n",
    "results.iloc[k_best]"
   ]
  },
  {
   "cell_type": "code",
   "execution_count": null,
   "metadata": {},
   "outputs": [],
   "source": [
    "for index in k_best: \n",
    "    Utilities.plot_history(results,index)\n",
    "    y_test_pred_prob = model.predict(x_test)\n",
    "    Utilities.test_summary(y_test, y_test_pred_prob)"
   ]
  },
  {
   "cell_type": "code",
   "execution_count": 13,
   "metadata": {},
   "outputs": [
    {
     "ename": "NameError",
     "evalue": "name 'reload' is not defined",
     "output_type": "error",
     "traceback": [
      "\u001b[1;31m---------------------------------------------------------------------------\u001b[0m",
      "\u001b[1;31mNameError\u001b[0m                                 Traceback (most recent call last)",
      "\u001b[1;32m<ipython-input-13-bf504b0eb461>\u001b[0m in \u001b[0;36m<module>\u001b[1;34m\u001b[0m\n\u001b[0;32m      1\u001b[0m \u001b[1;32mwith\u001b[0m \u001b[0mNotebook\u001b[0m\u001b[1;33m(\u001b[0m\u001b[1;33m)\u001b[0m\u001b[1;33m:\u001b[0m\u001b[1;33m\u001b[0m\u001b[1;33m\u001b[0m\u001b[0m\n\u001b[1;32m----> 2\u001b[1;33m     \u001b[0mreload\u001b[0m\u001b[1;33m(\u001b[0m\u001b[0mUtilities\u001b[0m\u001b[1;33m)\u001b[0m\u001b[1;33m\u001b[0m\u001b[1;33m\u001b[0m\u001b[0m\n\u001b[0m",
      "\u001b[1;31mNameError\u001b[0m: name 'reload' is not defined"
     ]
    }
   ],
   "source": [
    "with Notebook(): \n",
    "    reload(Utilities)"
   ]
  },
  {
   "cell_type": "code",
   "execution_count": 40,
   "metadata": {
    "scrolled": false
   },
   "outputs": [
    {
     "data": {
      "image/png": "[encoded data removed]",
      "text/plain": [
       "<Figure size 432x288 with 1 Axes>"
      ]
     },
     "metadata": {
      "needs_background": "light"
     },
     "output_type": "display_data"
    },
    {
     "data": {
      "image/png": "[encoded data removed]",
      "text/plain": [
       "<Figure size 432x288 with 1 Axes>"
      ]
     },
     "metadata": {
      "needs_background": "light"
     },
     "output_type": "display_data"
    },
    {
     "data": {
      "image/png": "[encoded data removed]",
      "text/plain": [
       "<Figure size 432x288 with 2 Axes>"
      ]
     },
     "metadata": {
      "needs_background": "light"
     },
     "output_type": "display_data"
    },
    {
     "data": {
      "image/png": "[encoded data removed]",
      "text/plain": [
       "<Figure size 432x288 with 1 Axes>"
      ]
     },
     "metadata": {
      "needs_background": "light"
     },
     "output_type": "display_data"
    },
    {
     "name": "stdout",
     "output_type": "stream",
     "text": [
      "              precision    recall  f1-score   support\n",
      "\n",
      "         0.0       0.70      1.00      0.82       180\n",
      "         1.0       0.00      0.00      0.00        78\n",
      "\n",
      "    accuracy                           0.70       258\n",
      "   macro avg       0.35      0.50      0.41       258\n",
      "weighted avg       0.49      0.70      0.57       258\n",
      "\n",
      "12_2_(25, 50)\n"
     ]
    },
    {
     "name": "stderr",
     "output_type": "stream",
     "text": [
      "C:\\ProgramData\\Anaconda3\\envs\\nlpenv\\lib\\site-packages\\sklearn\\metrics\\_classification.py:1272: UndefinedMetricWarning: Precision and F-score are ill-defined and being set to 0.0 in labels with no predicted samples. Use `zero_division` parameter to control this behavior.\n",
      "  _warn_prf(average, modifier, msg_start, len(result))\n"
     ]
    },
    {
     "data": {
      "image/png": "[encoded data removed]",
      "text/plain": [
       "<Figure size 432x288 with 1 Axes>"
      ]
     },
     "metadata": {
      "needs_background": "light"
     },
     "output_type": "display_data"
    },
    {
     "data": {
      "image/png": "[encoded data removed]",
      "text/plain": [
       "<Figure size 432x288 with 1 Axes>"
      ]
     },
     "metadata": {
      "needs_background": "light"
     },
     "output_type": "display_data"
    },
    {
     "data": {
      "image/png": "[encoded data removed]",
      "text/plain": [
       "<Figure size 432x288 with 2 Axes>"
      ]
     },
     "metadata": {
      "needs_background": "light"
     },
     "output_type": "display_data"
    },
    {
     "data": {
      "image/png": "[encoded data removed]",
      "text/plain": [
       "<Figure size 432x288 with 1 Axes>"
      ]
     },
     "metadata": {
      "needs_background": "light"
     },
     "output_type": "display_data"
    },
    {
     "name": "stdout",
     "output_type": "stream",
     "text": [
      "              precision    recall  f1-score   support\n",
      "\n",
      "         0.0       0.70      1.00      0.82       180\n",
      "         1.0       0.00      0.00      0.00        78\n",
      "\n",
      "    accuracy                           0.70       258\n",
      "   macro avg       0.35      0.50      0.41       258\n",
      "weighted avg       0.49      0.70      0.57       258\n",
      "\n",
      "12_2_(25, 100)\n"
     ]
    },
    {
     "data": {
      "image/png": "[encoded data removed]",
      "text/plain": [
       "<Figure size 432x288 with 1 Axes>"
      ]
     },
     "metadata": {
      "needs_background": "light"
     },
     "output_type": "display_data"
    },
    {
     "data": {
      "image/png": "[encoded data removed]",
      "text/plain": [
       "<Figure size 432x288 with 1 Axes>"
      ]
     },
     "metadata": {
      "needs_background": "light"
     },
     "output_type": "display_data"
    },
    {
     "data": {
      "image/png": "[encoded data removed]",
      "text/plain": [
       "<Figure size 432x288 with 2 Axes>"
      ]
     },
     "metadata": {
      "needs_background": "light"
     },
     "output_type": "display_data"
    },
    {
     "data": {
      "image/png": "[encoded data removed]",
      "text/plain": [
       "<Figure size 432x288 with 1 Axes>"
      ]
     },
     "metadata": {
      "needs_background": "light"
     },
     "output_type": "display_data"
    },
    {
     "name": "stdout",
     "output_type": "stream",
     "text": [
      "              precision    recall  f1-score   support\n",
      "\n",
      "         0.0       0.70      1.00      0.82       180\n",
      "         1.0       0.00      0.00      0.00        78\n",
      "\n",
      "    accuracy                           0.70       258\n",
      "   macro avg       0.35      0.50      0.41       258\n",
      "weighted avg       0.49      0.70      0.57       258\n",
      "\n",
      "12_2_(25, 25)\n"
     ]
    }
   ],
   "source": [
    "for i in k_best: \n",
    "    plt.plot(results.iloc[i]['History'].history['val_loss'],label='Val loss')\n",
    "    plt.plot(results.iloc[i]['History'].history['loss'],label='Training loss')\n",
    "    plt.legend()\n",
    "    plt.show()\n",
    "    plt.plot(results.iloc[i]['History'].history['val_acc'],label='Val acc')\n",
    "    plt.plot(results.iloc[i]['History'].history['acc'],label='Training acc')\n",
    "    plt.legend()\n",
    "    plt.show()\n",
    "    model = results.iloc[i]['Model']\n",
    "    model.evaluate(x_test,y_test,verbose=0)\n",
    "    y_test_pred = np.round(model.predict(x_test))\n",
    "    conf_mat = confusion_matrix(y_test,y_test_pred,normalize='pred')\n",
    "    ax = sn.heatmap(conf_mat,)\n",
    "    ax.set_ylabel(\"True values\")\n",
    "    ax.set_xlabel(\"Predicted values\")\n",
    "    plt.show()\n",
    "    fig,ax = plt.subplots() \n",
    "    ax.hist(y_test_pred,2,align='mid',label='Number of preds')\n",
    "    ax.set(xticks=range(2), xlim=[0, 1])\n",
    "    plt.legend()\n",
    "    plt.show()\n",
    "    print(classification_report(y_test, y_test_pred))\n",
    "    print(results.index[i])\n"
   ]
  },
  {
   "cell_type": "code",
   "execution_count": null,
   "metadata": {},
   "outputs": [],
   "source": []
  },
  {
   "cell_type": "code",
   "execution_count": null,
   "metadata": {},
   "outputs": [],
   "source": []
  },
  {
   "cell_type": "code",
   "execution_count": null,
   "metadata": {},
   "outputs": [],
   "source": [
    "plt.plot(h.history['val_loss'], label='Val loss')\n",
    "plt.plot(h.history['loss'], label='Training Loss')\n",
    "plt.yscale('log')\n",
    "plt.legend()\n",
    "plt.show()\n",
    "score = model.evaluate(x_test, y_test, verbose=0)\n",
    "zero_score = np.dot(y_test, y_test) / len(y_test)\n",
    "print(\"Model test score:\",score)\n",
    "print(\"Zero test score:\",zero_score)"
   ]
  },
  {
   "cell_type": "code",
   "execution_count": null,
   "metadata": {},
   "outputs": [],
   "source": []
  },
  {
   "cell_type": "code",
   "execution_count": null,
   "metadata": {},
   "outputs": [],
   "source": []
  },
  {
   "cell_type": "code",
   "execution_count": null,
   "metadata": {},
   "outputs": [],
   "source": []
  },
  {
   "cell_type": "code",
   "execution_count": null,
   "metadata": {},
   "outputs": [],
   "source": []
  },
  {
   "cell_type": "code",
   "execution_count": null,
   "metadata": {},
   "outputs": [],
   "source": []
  },
  {
   "cell_type": "code",
   "execution_count": null,
   "metadata": {},
   "outputs": [],
   "source": []
  },
  {
   "cell_type": "code",
   "execution_count": null,
   "metadata": {},
   "outputs": [],
   "source": []
  },
  {
   "cell_type": "code",
   "execution_count": null,
   "metadata": {},
   "outputs": [],
   "source": []
  },
  {
   "cell_type": "code",
   "execution_count": null,
   "metadata": {},
   "outputs": [],
   "source": [
    "test_sents = [\n",
    "    \"Veberöd Mushroom Factory claims quality award.\"\n",
    "    \"The economy is dead.\",\n",
    "    \"The American President has committed suicide.\", \n",
    "    \"Worst crisis in 1000 years. \",\n",
    "    \"Corona virus stopps all production in 100 countries.\",\n",
    "    \"BEST DAY EVER!\",\n",
    "    \"Amazing comeback from american stocks\",\n",
    "    \"Truly awesome day on the market today.\"\n",
    "]\n",
    "enc_sents = sbert_model.encode(test_sents)\n",
    "x_inp = np.zeros((1, config['max_len'], config['embed_dim'])) \n",
    "for i,row in enumerate(enc_sents):\n",
    "    x_inp[0,i] = row\n"
   ]
  },
  {
   "cell_type": "code",
   "execution_count": null,
   "metadata": {},
   "outputs": [],
   "source": [
    "y_pred = model.predict(x_inp)"
   ]
  },
  {
   "cell_type": "code",
   "execution_count": null,
   "metadata": {},
   "outputs": [],
   "source": [
    "y_pred"
   ]
  },
  {
   "cell_type": "code",
   "execution_count": null,
   "metadata": {},
   "outputs": [],
   "source": []
  },
  {
   "cell_type": "code",
   "execution_count": null,
   "metadata": {},
   "outputs": [],
   "source": []
  }
 ],
 "metadata": {
  "kernelspec": {
   "display_name": "Python 3",
   "language": "python",
   "name": "python3"
  },
  "language_info": {
   "codemirror_mode": {
    "name": "ipython",
    "version": 3
   },
   "file_extension": ".py",
   "mimetype": "text/x-python",
   "name": "python",
   "nbconvert_exporter": "python",
   "pygments_lexer": "ipython3",
   "version": "3.7.6"
  }
 },
 "nbformat": 4,
 "nbformat_minor": 4
}
