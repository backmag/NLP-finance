{
 "cells": [
  {
   "cell_type": "code",
   "execution_count": 321,
   "metadata": {},
   "outputs": [],
   "source": [
    "from sklearn.feature_extraction.text import TfidfTransformer, CountVectorizer\n",
    "from sklearn.metrics import classification_report, plot_confusion_matrix, confusion_matrix\n",
    "from sklearn.linear_model import LogisticRegression\n",
    "from sklearn.ensemble import RandomForestClassifier\n",
    "from sklearn.model_selection import GridSearchCV\n",
    "from tensorflow.keras.models import Sequential\n",
    "from tensorflow.keras.layers import Dense, Dropout, Flatten\n",
    "from tensorflow.keras.optimizers import RMSprop\n",
    "from tensorflow.keras.callbacks import EarlyStopping\n",
    "from tensorflow.keras.wrappers.scikit_learn import KerasClassifier\n",
    "import numpy as np\n",
    "import pandas as pd\n",
    "import seaborn as sn\n",
    "from datetime import datetime\n",
    "from pathlib import Path\n",
    "import matplotlib.pyplot as plt\n",
    "from xgboost import XGBClassifier\n",
    "from collections import deque"
   ]
  },
  {
   "cell_type": "markdown",
   "metadata": {},
   "source": [
    "## Load Data\n",
    "First, we load and format the news data and the financial data. The data is formatted so each entry in the financial data is kept as is, but the news data is concatenated to the indices in the financial data. The titles in the news data are concatenated to one stirng for every data point. "
   ]
  },
  {
   "cell_type": "code",
   "execution_count": 229,
   "metadata": {},
   "outputs": [
    {
     "data": {
      "text/html": [
       "<div>\n",
       "<style scoped>\n",
       "    .dataframe tbody tr th:only-of-type {\n",
       "        vertical-align: middle;\n",
       "    }\n",
       "\n",
       "    .dataframe tbody tr th {\n",
       "        vertical-align: top;\n",
       "    }\n",
       "\n",
       "    .dataframe thead th {\n",
       "        text-align: right;\n",
       "    }\n",
       "</style>\n",
       "<table border=\"1\" class=\"dataframe\">\n",
       "  <thead>\n",
       "    <tr style=\"text-align: right;\">\n",
       "      <th></th>\n",
       "      <th>title</th>\n",
       "    </tr>\n",
       "    <tr>\n",
       "      <th>date</th>\n",
       "      <th></th>\n",
       "    </tr>\n",
       "  </thead>\n",
       "  <tbody>\n",
       "    <tr>\n",
       "      <th>2006-10-20</th>\n",
       "      <td>Exxon Mobil offers plan to end Alaska dispute</td>\n",
       "    </tr>\n",
       "    <tr>\n",
       "      <th>2006-10-20</th>\n",
       "      <td>Hey buddy, can you spare $600 for a Google share?</td>\n",
       "    </tr>\n",
       "    <tr>\n",
       "      <th>2006-10-21</th>\n",
       "      <td>AOL CEO says sales may shrink for two years -p...</td>\n",
       "    </tr>\n",
       "    <tr>\n",
       "      <th>2006-10-22</th>\n",
       "      <td>Fed to keep hawkish tone, hold rates steady</td>\n",
       "    </tr>\n",
       "    <tr>\n",
       "      <th>2006-10-21</th>\n",
       "      <td>Pluspetrol says losing $2.4 mln/day in Peru pr...</td>\n",
       "    </tr>\n",
       "    <tr>\n",
       "      <th>...</th>\n",
       "      <td>...</td>\n",
       "    </tr>\n",
       "    <tr>\n",
       "      <th>2013-11-19</th>\n",
       "      <td>JPMorgan agrees $13 billion settlement with U....</td>\n",
       "    </tr>\n",
       "    <tr>\n",
       "      <th>2013-11-19</th>\n",
       "      <td>Dow, S&amp;P retreat for second day; Best Buy weighs</td>\n",
       "    </tr>\n",
       "    <tr>\n",
       "      <th>2013-11-19</th>\n",
       "      <td>Bernanke: looking forward to writing, speaking...</td>\n",
       "    </tr>\n",
       "    <tr>\n",
       "      <th>2013-11-19</th>\n",
       "      <td>Bernanke: Fed committed to easy policy for as ...</td>\n",
       "    </tr>\n",
       "    <tr>\n",
       "      <th>2013-11-19</th>\n",
       "      <td>Analysis: U.S. retailers brace for margin hit ...</td>\n",
       "    </tr>\n",
       "  </tbody>\n",
       "</table>\n",
       "<p>106494 rows × 1 columns</p>\n",
       "</div>"
      ],
      "text/plain": [
       "                                                        title\n",
       "date                                                         \n",
       "2006-10-20      Exxon Mobil offers plan to end Alaska dispute\n",
       "2006-10-20  Hey buddy, can you spare $600 for a Google share?\n",
       "2006-10-21  AOL CEO says sales may shrink for two years -p...\n",
       "2006-10-22        Fed to keep hawkish tone, hold rates steady\n",
       "2006-10-21  Pluspetrol says losing $2.4 mln/day in Peru pr...\n",
       "...                                                       ...\n",
       "2013-11-19  JPMorgan agrees $13 billion settlement with U....\n",
       "2013-11-19   Dow, S&P retreat for second day; Best Buy weighs\n",
       "2013-11-19  Bernanke: looking forward to writing, speaking...\n",
       "2013-11-19  Bernanke: Fed committed to easy policy for as ...\n",
       "2013-11-19  Analysis: U.S. retailers brace for margin hit ...\n",
       "\n",
       "[106494 rows x 1 columns]"
      ]
     },
     "execution_count": 229,
     "metadata": {},
     "output_type": "execute_result"
    }
   ],
   "source": [
    "# Path to the data-folder, files too large for git. \n",
    "ONEDRIVE_PATH = Path(r\"C:\\Users\\gusta\\Kidbrooke Advisory Ab\\KidbrookeOneDrive - Gustaf Backman exjobb\")\n",
    "\n",
    "news_path = ONEDRIVE_PATH / \"Input Data/financial_headlines_20061020-20131119.pkl\"\n",
    "news_data = pd.DataFrame(pd.read_pickle(news_path))\n",
    "news_data.set_index('date',inplace=True)\n",
    "news_data"
   ]
  },
  {
   "cell_type": "code",
   "execution_count": 230,
   "metadata": {},
   "outputs": [],
   "source": [
    "# Read the financial data \n",
    "fin_path = ONEDRIVE_PATH / \"Input Data/stock_data.pkl\"\n",
    "fin_data = pd.read_pickle(fin_path)\n",
    "fin_data = fin_data.loc['2006-10-20' : '2013-11-22']"
   ]
  },
  {
   "cell_type": "code",
   "execution_count": 231,
   "metadata": {},
   "outputs": [
    {
     "data": {
      "text/html": [
       "<div>\n",
       "<style scoped>\n",
       "    .dataframe tbody tr th:only-of-type {\n",
       "        vertical-align: middle;\n",
       "    }\n",
       "\n",
       "    .dataframe tbody tr th {\n",
       "        vertical-align: top;\n",
       "    }\n",
       "\n",
       "    .dataframe thead th {\n",
       "        text-align: right;\n",
       "    }\n",
       "</style>\n",
       "<table border=\"1\" class=\"dataframe\">\n",
       "  <thead>\n",
       "    <tr style=\"text-align: right;\">\n",
       "      <th></th>\n",
       "      <th>1 YEAR</th>\n",
       "      <th>3 YEAR</th>\n",
       "      <th>S&amp;P</th>\n",
       "    </tr>\n",
       "    <tr>\n",
       "      <th>Date</th>\n",
       "      <th></th>\n",
       "      <th></th>\n",
       "      <th></th>\n",
       "    </tr>\n",
       "  </thead>\n",
       "  <tbody>\n",
       "    <tr>\n",
       "      <th>2006-10-20</th>\n",
       "      <td>0.986111</td>\n",
       "      <td>0.931959</td>\n",
       "      <td>0.471000</td>\n",
       "    </tr>\n",
       "    <tr>\n",
       "      <th>2006-10-23</th>\n",
       "      <td>0.994048</td>\n",
       "      <td>0.940206</td>\n",
       "      <td>0.477069</td>\n",
       "    </tr>\n",
       "    <tr>\n",
       "      <th>2006-10-24</th>\n",
       "      <td>0.996032</td>\n",
       "      <td>0.940206</td>\n",
       "      <td>0.477321</td>\n",
       "    </tr>\n",
       "    <tr>\n",
       "      <th>2006-10-25</th>\n",
       "      <td>0.992063</td>\n",
       "      <td>0.929897</td>\n",
       "      <td>0.480819</td>\n",
       "    </tr>\n",
       "    <tr>\n",
       "      <th>2006-10-26</th>\n",
       "      <td>0.988095</td>\n",
       "      <td>0.919588</td>\n",
       "      <td>0.485764</td>\n",
       "    </tr>\n",
       "    <tr>\n",
       "      <th>...</th>\n",
       "      <td>...</td>\n",
       "      <td>...</td>\n",
       "      <td>...</td>\n",
       "    </tr>\n",
       "    <tr>\n",
       "      <th>2013-11-18</th>\n",
       "      <td>0.009921</td>\n",
       "      <td>0.057732</td>\n",
       "      <td>0.988256</td>\n",
       "    </tr>\n",
       "    <tr>\n",
       "      <th>2013-11-19</th>\n",
       "      <td>0.011905</td>\n",
       "      <td>0.061856</td>\n",
       "      <td>0.985469</td>\n",
       "    </tr>\n",
       "    <tr>\n",
       "      <th>2013-11-20</th>\n",
       "      <td>0.007937</td>\n",
       "      <td>0.059794</td>\n",
       "      <td>0.980098</td>\n",
       "    </tr>\n",
       "    <tr>\n",
       "      <th>2013-11-21</th>\n",
       "      <td>0.007937</td>\n",
       "      <td>0.055670</td>\n",
       "      <td>0.992330</td>\n",
       "    </tr>\n",
       "    <tr>\n",
       "      <th>2013-11-22</th>\n",
       "      <td>0.007937</td>\n",
       "      <td>0.059794</td>\n",
       "      <td>1.000000</td>\n",
       "    </tr>\n",
       "  </tbody>\n",
       "</table>\n",
       "<p>1851 rows × 3 columns</p>\n",
       "</div>"
      ],
      "text/plain": [
       "              1 YEAR    3 YEAR       S&P\n",
       "Date                                    \n",
       "2006-10-20  0.986111  0.931959  0.471000\n",
       "2006-10-23  0.994048  0.940206  0.477069\n",
       "2006-10-24  0.996032  0.940206  0.477321\n",
       "2006-10-25  0.992063  0.929897  0.480819\n",
       "2006-10-26  0.988095  0.919588  0.485764\n",
       "...              ...       ...       ...\n",
       "2013-11-18  0.009921  0.057732  0.988256\n",
       "2013-11-19  0.011905  0.061856  0.985469\n",
       "2013-11-20  0.007937  0.059794  0.980098\n",
       "2013-11-21  0.007937  0.055670  0.992330\n",
       "2013-11-22  0.007937  0.059794  1.000000\n",
       "\n",
       "[1851 rows x 3 columns]"
      ]
     },
     "execution_count": 231,
     "metadata": {},
     "output_type": "execute_result"
    }
   ],
   "source": [
    "# Normalize the financial data to [0,1]\n",
    "fin_data_norm = pd.DataFrame(columns=fin_data.columns) \n",
    "fin_stats = pd.DataFrame(columns=['min', 'max'],index=fin_data.columns)\n",
    "for col in fin_data.columns:\n",
    "    fin_stats.loc[col]['min'] = np.min(fin_data[col])\n",
    "    fin_stats.loc[col]['max'] = np.max(fin_data[col])\n",
    "    \n",
    "for i in range(len(fin_data)): \n",
    "    temp_series = {}\n",
    "    for col in fin_data.columns:\n",
    "        temp_series.update({col: (fin_data.iloc[i][col] - fin_stats.loc[col]['min']) / (fin_stats.loc[col]['max'] - fin_stats.loc[col]['min'])})\n",
    "    fin_data_norm = fin_data_norm.append(temp_series,ignore_index=True)\n",
    "fin_data_norm.index = fin_data.index\n",
    "fin_data_norm"
   ]
  },
  {
   "cell_type": "code",
   "execution_count": 232,
   "metadata": {},
   "outputs": [
    {
     "data": {
      "text/html": [
       "<div>\n",
       "<style scoped>\n",
       "    .dataframe tbody tr th:only-of-type {\n",
       "        vertical-align: middle;\n",
       "    }\n",
       "\n",
       "    .dataframe tbody tr th {\n",
       "        vertical-align: top;\n",
       "    }\n",
       "\n",
       "    .dataframe thead th {\n",
       "        text-align: right;\n",
       "    }\n",
       "</style>\n",
       "<table border=\"1\" class=\"dataframe\">\n",
       "  <thead>\n",
       "    <tr style=\"text-align: right;\">\n",
       "      <th></th>\n",
       "      <th>title</th>\n",
       "    </tr>\n",
       "    <tr>\n",
       "      <th>date</th>\n",
       "      <th></th>\n",
       "    </tr>\n",
       "  </thead>\n",
       "  <tbody>\n",
       "    <tr>\n",
       "      <th>2006-10-20</th>\n",
       "      <td>Exxon Mobil offers plan to end Alaska dispute ...</td>\n",
       "    </tr>\n",
       "    <tr>\n",
       "      <th>2006-10-21</th>\n",
       "      <td>AOL CEO says sales may shrink for two years -p...</td>\n",
       "    </tr>\n",
       "    <tr>\n",
       "      <th>2006-10-22</th>\n",
       "      <td>Fed to keep hawkish tone, hold rates steady EU...</td>\n",
       "    </tr>\n",
       "    <tr>\n",
       "      <th>2006-10-23</th>\n",
       "      <td>DaimlerChrysler talks to 2 firms on small car:...</td>\n",
       "    </tr>\n",
       "    <tr>\n",
       "      <th>2006-10-24</th>\n",
       "      <td>Options scandal hits 153 companies: US study J...</td>\n",
       "    </tr>\n",
       "    <tr>\n",
       "      <th>...</th>\n",
       "      <td>...</td>\n",
       "    </tr>\n",
       "    <tr>\n",
       "      <th>2013-11-15</th>\n",
       "      <td>Big Retailer is watching you: stores seek to m...</td>\n",
       "    </tr>\n",
       "    <tr>\n",
       "      <th>2013-11-16</th>\n",
       "      <td>Boeing says no plans to reopen union talks on ...</td>\n",
       "    </tr>\n",
       "    <tr>\n",
       "      <th>2013-11-17</th>\n",
       "      <td>Boeing launches new 777 with 259 orders Emirat...</td>\n",
       "    </tr>\n",
       "    <tr>\n",
       "      <th>2013-11-18</th>\n",
       "      <td>Google, Microsoft tighten online searches to c...</td>\n",
       "    </tr>\n",
       "    <tr>\n",
       "      <th>2013-11-19</th>\n",
       "      <td>Air Algerie orders three Airbus passenger airc...</td>\n",
       "    </tr>\n",
       "  </tbody>\n",
       "</table>\n",
       "<p>2582 rows × 1 columns</p>\n",
       "</div>"
      ],
      "text/plain": [
       "                                                        title\n",
       "date                                                         \n",
       "2006-10-20  Exxon Mobil offers plan to end Alaska dispute ...\n",
       "2006-10-21  AOL CEO says sales may shrink for two years -p...\n",
       "2006-10-22  Fed to keep hawkish tone, hold rates steady EU...\n",
       "2006-10-23  DaimlerChrysler talks to 2 firms on small car:...\n",
       "2006-10-24  Options scandal hits 153 companies: US study J...\n",
       "...                                                       ...\n",
       "2013-11-15  Big Retailer is watching you: stores seek to m...\n",
       "2013-11-16  Boeing says no plans to reopen union talks on ...\n",
       "2013-11-17  Boeing launches new 777 with 259 orders Emirat...\n",
       "2013-11-18  Google, Microsoft tighten online searches to c...\n",
       "2013-11-19  Air Algerie orders three Airbus passenger airc...\n",
       "\n",
       "[2582 rows x 1 columns]"
      ]
     },
     "execution_count": 232,
     "metadata": {},
     "output_type": "execute_result"
    }
   ],
   "source": [
    "concat_news = pd.DataFrame()\n",
    "for date in news_data.index.drop_duplicates():\n",
    "    temp_titles = \"\"\n",
    "    for title in news_data.loc[date]['title']: \n",
    "        temp_titles += title + \" \"\n",
    "    concat_news = concat_news.append({'date':date, 'title':temp_titles},ignore_index=True)\n",
    "concat_news.set_index('date',inplace=True)\n",
    "concat_news"
   ]
  },
  {
   "cell_type": "code",
   "execution_count": 233,
   "metadata": {},
   "outputs": [],
   "source": [
    "# Concatenate the news title up to the day in the financial index. \n",
    "data = pd.DataFrame(columns=['title'],index=['date'])\n",
    "temp_titles = \"\"\n",
    "for date in concat_news.index:\n",
    "    temp_titles += concat_news.loc[date]['title'] + \" \"\n",
    "    if date in fin_data_norm.index: \n",
    "        data = data.append({'date':date, 'title':temp_titles}, ignore_index=True)\n",
    "        temp_titles = \"\"\n",
    "data.set_index('date', inplace=True)\n",
    "data = data.drop(data.index[0])"
   ]
  },
  {
   "cell_type": "markdown",
   "metadata": {},
   "source": [
    "## Vectorize the data \n",
    "'CountVectorizer' from the sklearn-library is used to vectorize the data into frequency-vectors, i.e. how many times each word occurs in every day. The frequency matrix is then used as input to a Tfidf-vectorizer, which normalizes the vectors based on term vs document frequency."
   ]
  },
  {
   "cell_type": "code",
   "execution_count": 234,
   "metadata": {},
   "outputs": [
    {
     "name": "stdout",
     "output_type": "stream",
     "text": [
      "Number of samples: 1846\n",
      "Size of the vocabulary: 23571\n",
      "Represantation of row 0:\n",
      "Word        Index\n",
      "600       575\n",
      "alaska       1403\n",
      "buddy       3577\n",
      "can       3852\n",
      "dispute       6633\n",
      "end       7475\n",
      "exxon       8029\n",
      "for       8672\n",
      "google       9434\n",
      "hey       10120\n",
      "mobil       13603\n",
      "offers       14562\n",
      "plan       15728\n",
      "share       18878\n",
      "spare       19683\n",
      "to       21324\n",
      "you       23465\n"
     ]
    }
   ],
   "source": [
    "# Create a matrix with the frequency of a word in each day.\n",
    "count_vec = CountVectorizer()\n",
    "count_vec.fit(data['title'])\n",
    "x_count = count_vec.transform(data['title'])\n",
    "print('Number of samples:',x_count.shape[0])\n",
    "print('Size of the vocabulary:',x_count.shape[1])\n",
    "print('Represantation of row 0:')\n",
    "indices = np.where(x_count[0].todense() != 0)[1]\n",
    "print(\"Word        Index\")\n",
    "for i in indices:\n",
    "    print(count_vec.get_feature_names()[i],\"     \",i)"
   ]
  },
  {
   "cell_type": "code",
   "execution_count": 235,
   "metadata": {},
   "outputs": [
    {
     "name": "stdout",
     "output_type": "stream",
     "text": [
      "Number of samples: 1846\n",
      "Size of the vocabulary: 23571\n",
      "Representation of row 0:\n",
      "Word      Value\n",
      "600       0.23128611217246556\n",
      "alaska       0.28466900768609965\n",
      "buddy       0.41131744879090604\n",
      "can       0.14778686826531356\n",
      "dispute       0.20252761916821657\n",
      "end       0.12276537461564675\n",
      "exxon       0.2007720710541982\n",
      "for       0.060483275600373795\n",
      "google       0.13225041938075813\n",
      "hey       0.4417160509489998\n",
      "mobil       0.3205037223791542\n",
      "offers       0.16457599923731622\n",
      "plan       0.09938755586688157\n",
      "share       0.14850126778512673\n",
      "spare       0.34209978023216314\n",
      "to       0.05957323851633483\n",
      "you       0.28190065899355005\n"
     ]
    }
   ],
   "source": [
    "# Create a matrix with the frequency of a word in each day.\n",
    "tfidf_vec = TfidfTransformer()\n",
    "tfidf_vec.fit(x_count)\n",
    "x_tfidf = tfidf_vec.transform(x_count)\n",
    "print('Number of samples:',x_tfidf.shape[0])\n",
    "print('Size of the vocabulary:',x_tfidf.shape[1])\n",
    "print('Representation of row 0:')\n",
    "indices = np.where(x_tfidf[0].todense() != 0)[1]\n",
    "print(\"Word      Value\")\n",
    "for i in indices: \n",
    "    print(count_vec.get_feature_names()[i],\"     \",x_tfidf[0,i])"
   ]
  },
  {
   "cell_type": "markdown",
   "metadata": {},
   "source": [
    "## Synchronize the data\n",
    "We have now prepared the news data with TF-IDF and normalized the financial data. We'll now create labels as the direction of the price change. If the price the following day is higher, y = 1. If it is equal or lower, y = 0."
   ]
  },
  {
   "cell_type": "code",
   "execution_count": 236,
   "metadata": {},
   "outputs": [],
   "source": [
    "series = 'S&P'\n",
    "y_binary = np.zeros(x_tfidf.shape[0])\n",
    "for i in range(len(y_binary)): \n",
    "    if i < len(data) - 1:\n",
    "        if fin_data_norm.loc[data.index[i]][series] < fin_data_norm.loc[data.index[i+1]][series]: \n",
    "            y_binary[i] = 1\n",
    "        else: \n",
    "            y_binary[i] = 0\n",
    "    else: \n",
    "        fin_idx = np.where(fin_data_norm.index == data.index[-1])[0][0]\n",
    "        if fin_data_norm.iloc[fin_idx][series] < fin_data_norm.iloc[fin_idx + 1][series]: \n",
    "            y_binary[i] = 1\n",
    "        else: \n",
    "            y_binary[i] = 0        "
   ]
  },
  {
   "cell_type": "code",
   "execution_count": 237,
   "metadata": {},
   "outputs": [
    {
     "name": "stdout",
     "output_type": "stream",
     "text": [
      "Shape of y: (1846,)\n",
      "Shape of x: (1846, 23571)\n"
     ]
    }
   ],
   "source": [
    "print(\"Shape of y:\",y_binary.shape)\n",
    "print(\"Shape of x:\",x_tfidf.shape)"
   ]
  },
  {
   "cell_type": "code",
   "execution_count": 238,
   "metadata": {},
   "outputs": [
    {
     "name": "stdout",
     "output_type": "stream",
     "text": [
      "Shape of x,y train: (1400, 23571) (1400,)\n",
      "Shape of x,y test: (446, 23571) (446,)\n"
     ]
    }
   ],
   "source": [
    "# Shuffle and partition into training and test set (non-sequential data)\n",
    "indices = np.arange(len(y_binary))\n",
    "np.random.shuffle(indices)\n",
    "n_train = 1400\n",
    "\n",
    "x_train = x_tfidf[indices[:n_train]].todense()\n",
    "y_train = y_binary[indices[:n_train]]\n",
    "\n",
    "x_test = x_tfidf[indices[n_train:]].todense()\n",
    "y_test = y_binary[indices[n_train:]]\n",
    "\n",
    "print(\"Shape of x,y train:\",x_train.shape, y_train.shape)\n",
    "print(\"Shape of x,y test:\",x_test.shape, y_test.shape)"
   ]
  },
  {
   "cell_type": "code",
   "execution_count": 239,
   "metadata": {},
   "outputs": [
    {
     "name": "stdout",
     "output_type": "stream",
     "text": [
      "Shape of x,y train: (1400, 3, 23571) (1400,)\n",
      "Shape of x,y test: (444, 3, 23571) (444,)\n"
     ]
    }
   ],
   "source": [
    "# Shuffle and partition into training and test set (sequential data)\n",
    "lookback = 3\n",
    "x_seq = np.zeros((x_tfidf.shape[0] - lookback + 1, lookback, x_tfidf.shape[-1]))\n",
    "prev_data = deque(maxlen=lookback)\n",
    "index = 0\n",
    "for i,row_tfidf in enumerate(x_tfidf): \n",
    "    row = np.asarray(row_tfidf.todense()).reshape(x_tfidf.shape[-1])\n",
    "    prev_data.append(row)\n",
    "    if len(prev_data) == lookback: \n",
    "        x_seq[index,:] = np.asarray(prev_data)\n",
    "        index += 1\n",
    "y_seq = y_binary[lookback - 1 :]\n",
    "\n",
    "\n",
    "indices = np.arange(len(y_seq))\n",
    "np.random.shuffle(indices)\n",
    "n_train = 1400\n",
    "\n",
    "x_seq_train = x_seq[indices[:n_train]]\n",
    "y_seq_train = y_seq[indices[:n_train]]\n",
    "\n",
    "x_seq_test = x_seq[indices[n_train:]]\n",
    "y_seq_test = y_seq[indices[n_train:]]\n",
    "\n",
    "print(\"Shape of x,y train:\",x_seq_train.shape, y_seq_train.shape)\n",
    "print(\"Shape of x,y test:\",x_seq_test.shape, y_seq_test.shape)"
   ]
  },
  {
   "cell_type": "markdown",
   "metadata": {},
   "source": [
    "## Train and evaluate models \n",
    "A few different models are trained and compared, namely: \n",
    " - Logistic regression \n",
    " - Random Forest\n",
    " - XGBoost\n",
    " - Neural Network\n",
    " The regular data is used for the first three models, and the sequential data is used for the neural network. It is however only a regular feed-forward network, so multi-dimensional is probably a better wording than sequential. "
   ]
  },
  {
   "cell_type": "code",
   "execution_count": 365,
   "metadata": {},
   "outputs": [],
   "source": [
    "def plot_results(model,x_test, y_test):\n",
    "    y_test_preds = model.predict(x_test)\n",
    "    print(classification_report(y_test, y_test_preds))\n",
    "    print(\"Test accuracy:\",model.score(x_test, y_test))\n",
    "    plot_confusion_matrix(model,x_test,y_test)\n",
    "    plt.show()\n",
    "    plt.bar([0,1],[np.sum(y_test == 0), np.sum(y_test == 1)], label='Test distribution')\n",
    "    plt.legend()\n",
    "    plt.xticks([0, 1])\n",
    "    plt.show()\n",
    "    \n",
    "\n",
    "def plot_results_nn(history, model):\n",
    "    plt.subplot(121)\n",
    "    plt.plot(history.history['loss'],label='Loss')\n",
    "    plt.plot(history.history['val_loss'],label='Val loss')\n",
    "    plt.legend()\n",
    "    plt.subplot(122)\n",
    "    plt.plot(history.history['acc'],label='Acc')\n",
    "    plt.plot(history.history['val_acc'],label='Val acc')\n",
    "    plt.legend()\n",
    "    plt.show() \n",
    "    y_seq_test_pred = np.round(model.predict(x_seq_test))\n",
    "    plt.subplot(121)\n",
    "    plt.bar([0,1],[np.sum(y_seq_test == 0), np.sum(y_seq_test == 1)], label='Actual test dist')\n",
    "    plt.legend()\n",
    "    plt.xticks([0, 1])\n",
    "    plt.subplot(122)\n",
    "    plt.bar([0,1],[np.sum(y_seq_test_pred == 0), np.sum(y_seq_test_pred == 1)], label='Pred test dist')\n",
    "    plt.legend()\n",
    "    plt.xticks([0, 1])\n",
    "    plt.show()\n",
    "    conf_mat = confusion_matrix(y_seq_test,y_seq_test_pred,normalize='pred')\n",
    "    ax = sn.heatmap(conf_mat,)\n",
    "    ax.set_ylabel(\"True values\")\n",
    "    ax.set_xlabel(\"Predicted values\")\n",
    "    plt.show()\n",
    "    print(classification_report(y_seq_test, y_seq_test_pred))\n",
    "    print(\"Test accuracy:\",model.evaluate(x_seq_test, y_seq_test, verbose=0)[1])"
   ]
  },
  {
   "cell_type": "markdown",
   "metadata": {},
   "source": [
    "## Logistic Regression"
   ]
  },
  {
   "cell_type": "code",
   "execution_count": 351,
   "metadata": {},
   "outputs": [
    {
     "name": "stdout",
     "output_type": "stream",
     "text": [
      "              precision    recall  f1-score   support\n",
      "\n",
      "         0.0       0.48      0.28      0.36       203\n",
      "         1.0       0.55      0.75      0.64       243\n",
      "\n",
      "    accuracy                           0.54       446\n",
      "   macro avg       0.52      0.51      0.50       446\n",
      "weighted avg       0.52      0.54      0.51       446\n",
      "\n",
      "Test accuracy: 0.5358744394618834\n"
     ]
    },
    {
     "data": {
      "image/png": "[encoded data removed]",
      "text/plain": [
       "<Figure size 432x288 with 2 Axes>"
      ]
     },
     "metadata": {
      "needs_background": "light"
     },
     "output_type": "display_data"
    },
    {
     "data": {
      "image/png": "[encoded data removed]",
      "text/plain": [
       "<Figure size 432x288 with 1 Axes>"
      ]
     },
     "metadata": {
      "needs_background": "light"
     },
     "output_type": "display_data"
    }
   ],
   "source": [
    "# Logistic regression\n",
    "logreg = LogisticRegression(random_state=0).fit(x_train, y_train)\n",
    "plot_results(logreg,x_test, y_test)"
   ]
  },
  {
   "cell_type": "markdown",
   "metadata": {},
   "source": [
    "### Results Logistic Regression\n",
    "Logistic regression yields a weighted f1-score of 0.51. "
   ]
  },
  {
   "cell_type": "markdown",
   "metadata": {},
   "source": [
    "## Random Forest"
   ]
  },
  {
   "cell_type": "code",
   "execution_count": 353,
   "metadata": {
    "scrolled": true
   },
   "outputs": [
    {
     "name": "stdout",
     "output_type": "stream",
     "text": [
      "              precision    recall  f1-score   support\n",
      "\n",
      "         0.0       0.46      0.35      0.40       203\n",
      "         1.0       0.55      0.65      0.59       243\n",
      "\n",
      "    accuracy                           0.51       446\n",
      "   macro avg       0.50      0.50      0.50       446\n",
      "weighted avg       0.50      0.51      0.50       446\n",
      "\n",
      "Test accuracy: 0.5134529147982063\n"
     ]
    },
    {
     "data": {
      "image/png": "[encoded data removed]",
      "text/plain": [
       "<Figure size 432x288 with 2 Axes>"
      ]
     },
     "metadata": {
      "needs_background": "light"
     },
     "output_type": "display_data"
    },
    {
     "data": {
      "image/png": "[encoded data removed]",
      "text/plain": [
       "<Figure size 432x288 with 1 Axes>"
      ]
     },
     "metadata": {
      "needs_background": "light"
     },
     "output_type": "display_data"
    }
   ],
   "source": [
    "# Random Forest\n",
    "randomforest = RandomForestClassifier(n_estimators=50).fit(x_train, y_train)\n",
    "plot_results(randomforest,x_test, y_test)"
   ]
  },
  {
   "cell_type": "markdown",
   "metadata": {},
   "source": [
    "### Results Random Forest \n",
    "Optimizing over the estimators (50, 100, 250, 500, 1000, 5000) gives a weighted average f1-score 0.53 for the best configuration with 50 estimators. It does however vary quite a bit for different runs. "
   ]
  },
  {
   "cell_type": "markdown",
   "metadata": {},
   "source": [
    "## XGBoost"
   ]
  },
  {
   "cell_type": "code",
   "execution_count": 355,
   "metadata": {
    "scrolled": false
   },
   "outputs": [
    {
     "name": "stdout",
     "output_type": "stream",
     "text": [
      "              precision    recall  f1-score   support\n",
      "\n",
      "         0.0       0.44      0.43      0.44       203\n",
      "         1.0       0.53      0.54      0.54       243\n",
      "\n",
      "    accuracy                           0.49       446\n",
      "   macro avg       0.49      0.49      0.49       446\n",
      "weighted avg       0.49      0.49      0.49       446\n",
      "\n",
      "Test accuracy: 0.49327354260089684\n"
     ]
    },
    {
     "data": {
      "image/png": "[encoded data removed]",
      "text/plain": [
       "<Figure size 432x288 with 2 Axes>"
      ]
     },
     "metadata": {
      "needs_background": "light"
     },
     "output_type": "display_data"
    },
    {
     "data": {
      "image/png": "[encoded data removed]",
      "text/plain": [
       "<Figure size 432x288 with 1 Axes>"
      ]
     },
     "metadata": {
      "needs_background": "light"
     },
     "output_type": "display_data"
    }
   ],
   "source": [
    "# XGBoost\n",
    "xgb = XGBClassifier(n_estimators=250).fit(x_train, y_train)\n",
    "plot_results(xgb,x_test, y_test)"
   ]
  },
  {
   "cell_type": "markdown",
   "metadata": {},
   "source": [
    "### Results XGBoost\n",
    "\n",
    "XGBoost gives a slightly worse weighted f1-score to the Random Forest-model with 0.49 using 250 estimators, which was the best of the tested (50, 100, 250, 500, 1000, 5000). The variation between runs is however quite large.\n"
   ]
  },
  {
   "cell_type": "markdown",
   "metadata": {},
   "source": [
    "## Neural Network"
   ]
  },
  {
   "cell_type": "code",
   "execution_count": 336,
   "metadata": {},
   "outputs": [],
   "source": [
    "def create_model(nodes=100, dropout_rate=0.3):\n",
    "    model = Sequential() \n",
    "    model.add(Dense(nodes, input_shape=x_seq_train.shape[1:]))\n",
    "    model.add(Flatten())\n",
    "    model.add(Dense(nodes))\n",
    "    model.add(Dropout(dropout_rate))\n",
    "    model.add(Dense(1, activation='sigmoid'))\n",
    "    \n",
    "    model.compile(optimizer='rmsprop',loss='binary_crossentropy',metrics=['acc'])\n",
    "    return model "
   ]
  },
  {
   "cell_type": "markdown",
   "metadata": {},
   "source": [
    "### Hyperparameters Grid Search\n",
    "Optimize with respect to batch size, epochs, nodes and dropout rate. Two layers are used. "
   ]
  },
  {
   "cell_type": "code",
   "execution_count": 338,
   "metadata": {
    "scrolled": true
   },
   "outputs": [
    {
     "name": "stdout",
     "output_type": "stream",
     "text": [
      "Best: 0.548577 using {'batch_size': 8, 'dropout_rate': 0.5, 'epochs': 4, 'nodes': 100}\n",
      "0.507835 (0.025810) with: {'batch_size': 8, 'dropout_rate': 0.3, 'epochs': 3, 'nodes': 10}\n",
      "0.530711 (0.006310) with: {'batch_size': 8, 'dropout_rate': 0.3, 'epochs': 3, 'nodes': 50}\n",
      "0.516405 (0.023803) with: {'batch_size': 8, 'dropout_rate': 0.3, 'epochs': 3, 'nodes': 100}\n",
      "0.517143 (0.006119) with: {'batch_size': 8, 'dropout_rate': 0.3, 'epochs': 3, 'nodes': 500}\n",
      "0.521424 (0.004853) with: {'batch_size': 8, 'dropout_rate': 0.3, 'epochs': 4, 'nodes': 10}\n",
      "0.517880 (0.022411) with: {'batch_size': 8, 'dropout_rate': 0.3, 'epochs': 4, 'nodes': 50}\n",
      "0.530005 (0.009869) with: {'batch_size': 8, 'dropout_rate': 0.3, 'epochs': 4, 'nodes': 100}\n",
      "0.514280 (0.011866) with: {'batch_size': 8, 'dropout_rate': 0.3, 'epochs': 4, 'nodes': 500}\n",
      "0.488567 (0.004829) with: {'batch_size': 8, 'dropout_rate': 0.3, 'epochs': 5, 'nodes': 10}\n",
      "0.537136 (0.006763) with: {'batch_size': 8, 'dropout_rate': 0.3, 'epochs': 5, 'nodes': 50}\n",
      "0.535000 (0.005266) with: {'batch_size': 8, 'dropout_rate': 0.3, 'epochs': 5, 'nodes': 100}\n",
      "0.515703 (0.011933) with: {'batch_size': 8, 'dropout_rate': 0.3, 'epochs': 5, 'nodes': 500}\n",
      "0.505722 (0.008507) with: {'batch_size': 8, 'dropout_rate': 0.3, 'epochs': 7, 'nodes': 10}\n",
      "0.512136 (0.014894) with: {'batch_size': 8, 'dropout_rate': 0.3, 'epochs': 7, 'nodes': 50}\n",
      "0.519987 (0.015349) with: {'batch_size': 8, 'dropout_rate': 0.3, 'epochs': 7, 'nodes': 100}\n",
      "0.514277 (0.016408) with: {'batch_size': 8, 'dropout_rate': 0.3, 'epochs': 7, 'nodes': 500}\n",
      "0.506435 (0.016054) with: {'batch_size': 8, 'dropout_rate': 0.3, 'epochs': 10, 'nodes': 10}\n",
      "0.524276 (0.011860) with: {'batch_size': 8, 'dropout_rate': 0.3, 'epochs': 10, 'nodes': 50}\n",
      "0.522135 (0.010123) with: {'batch_size': 8, 'dropout_rate': 0.3, 'epochs': 10, 'nodes': 100}\n",
      "0.515695 (0.019951) with: {'batch_size': 8, 'dropout_rate': 0.3, 'epochs': 10, 'nodes': 500}\n",
      "0.500715 (0.001337) with: {'batch_size': 8, 'dropout_rate': 0.5, 'epochs': 3, 'nodes': 10}\n",
      "0.517131 (0.014444) with: {'batch_size': 8, 'dropout_rate': 0.5, 'epochs': 3, 'nodes': 50}\n",
      "0.534277 (0.010062) with: {'batch_size': 8, 'dropout_rate': 0.5, 'epochs': 3, 'nodes': 100}\n",
      "0.520716 (0.016735) with: {'batch_size': 8, 'dropout_rate': 0.5, 'epochs': 3, 'nodes': 500}\n",
      "0.513577 (0.007653) with: {'batch_size': 8, 'dropout_rate': 0.5, 'epochs': 4, 'nodes': 10}\n",
      "0.510727 (0.012904) with: {'batch_size': 8, 'dropout_rate': 0.5, 'epochs': 4, 'nodes': 50}\n",
      "0.548577 (0.012458) with: {'batch_size': 8, 'dropout_rate': 0.5, 'epochs': 4, 'nodes': 100}\n",
      "0.521448 (0.020041) with: {'batch_size': 8, 'dropout_rate': 0.5, 'epochs': 4, 'nodes': 500}\n",
      "0.504289 (0.004013) with: {'batch_size': 8, 'dropout_rate': 0.5, 'epochs': 5, 'nodes': 10}\n",
      "0.515715 (0.006205) with: {'batch_size': 8, 'dropout_rate': 0.5, 'epochs': 5, 'nodes': 50}\n",
      "0.532144 (0.003824) with: {'batch_size': 8, 'dropout_rate': 0.5, 'epochs': 5, 'nodes': 100}\n",
      "0.523565 (0.006586) with: {'batch_size': 8, 'dropout_rate': 0.5, 'epochs': 5, 'nodes': 500}\n",
      "0.495730 (0.015384) with: {'batch_size': 8, 'dropout_rate': 0.5, 'epochs': 7, 'nodes': 10}\n",
      "0.515714 (0.012248) with: {'batch_size': 8, 'dropout_rate': 0.5, 'epochs': 7, 'nodes': 50}\n",
      "0.529280 (0.005530) with: {'batch_size': 8, 'dropout_rate': 0.5, 'epochs': 7, 'nodes': 100}\n",
      "0.532118 (0.030398) with: {'batch_size': 8, 'dropout_rate': 0.5, 'epochs': 7, 'nodes': 500}\n",
      "0.508584 (0.019189) with: {'batch_size': 8, 'dropout_rate': 0.5, 'epochs': 10, 'nodes': 10}\n",
      "0.522144 (0.009671) with: {'batch_size': 8, 'dropout_rate': 0.5, 'epochs': 10, 'nodes': 50}\n",
      "0.522845 (0.015641) with: {'batch_size': 8, 'dropout_rate': 0.5, 'epochs': 10, 'nodes': 100}\n",
      "0.514997 (0.003142) with: {'batch_size': 8, 'dropout_rate': 0.5, 'epochs': 10, 'nodes': 500}\n",
      "0.498563 (0.016920) with: {'batch_size': 16, 'dropout_rate': 0.3, 'epochs': 3, 'nodes': 10}\n",
      "0.531414 (0.015538) with: {'batch_size': 16, 'dropout_rate': 0.3, 'epochs': 3, 'nodes': 50}\n",
      "0.515691 (0.023251) with: {'batch_size': 16, 'dropout_rate': 0.3, 'epochs': 3, 'nodes': 100}\n",
      "0.520719 (0.009363) with: {'batch_size': 16, 'dropout_rate': 0.3, 'epochs': 3, 'nodes': 500}\n",
      "0.513580 (0.012267) with: {'batch_size': 16, 'dropout_rate': 0.3, 'epochs': 4, 'nodes': 10}\n",
      "0.530014 (0.014648) with: {'batch_size': 16, 'dropout_rate': 0.3, 'epochs': 4, 'nodes': 50}\n",
      "0.512145 (0.003319) with: {'batch_size': 16, 'dropout_rate': 0.3, 'epochs': 4, 'nodes': 100}\n",
      "0.520701 (0.024009) with: {'batch_size': 16, 'dropout_rate': 0.3, 'epochs': 4, 'nodes': 500}\n",
      "0.517866 (0.009293) with: {'batch_size': 16, 'dropout_rate': 0.3, 'epochs': 5, 'nodes': 10}\n",
      "0.517847 (0.010203) with: {'batch_size': 16, 'dropout_rate': 0.3, 'epochs': 5, 'nodes': 50}\n",
      "0.521416 (0.012874) with: {'batch_size': 16, 'dropout_rate': 0.3, 'epochs': 5, 'nodes': 100}\n",
      "0.533566 (0.007619) with: {'batch_size': 16, 'dropout_rate': 0.3, 'epochs': 5, 'nodes': 500}\n",
      "0.507862 (0.007942) with: {'batch_size': 16, 'dropout_rate': 0.3, 'epochs': 7, 'nodes': 10}\n",
      "0.517152 (0.015970) with: {'batch_size': 16, 'dropout_rate': 0.3, 'epochs': 7, 'nodes': 50}\n",
      "0.529985 (0.022470) with: {'batch_size': 16, 'dropout_rate': 0.3, 'epochs': 7, 'nodes': 100}\n",
      "0.541430 (0.011413) with: {'batch_size': 16, 'dropout_rate': 0.3, 'epochs': 7, 'nodes': 500}\n",
      "0.512128 (0.014749) with: {'batch_size': 16, 'dropout_rate': 0.3, 'epochs': 10, 'nodes': 10}\n",
      "0.500706 (0.011282) with: {'batch_size': 16, 'dropout_rate': 0.3, 'epochs': 10, 'nodes': 50}\n",
      "0.513569 (0.011541) with: {'batch_size': 16, 'dropout_rate': 0.3, 'epochs': 10, 'nodes': 100}\n",
      "0.512848 (0.009127) with: {'batch_size': 16, 'dropout_rate': 0.3, 'epochs': 10, 'nodes': 500}\n",
      "0.535727 (0.013146) with: {'batch_size': 16, 'dropout_rate': 0.5, 'epochs': 3, 'nodes': 10}\n",
      "0.525739 (0.027601) with: {'batch_size': 16, 'dropout_rate': 0.5, 'epochs': 3, 'nodes': 50}\n",
      "0.504258 (0.031074) with: {'batch_size': 16, 'dropout_rate': 0.5, 'epochs': 3, 'nodes': 100}\n",
      "0.508565 (0.008610) with: {'batch_size': 16, 'dropout_rate': 0.5, 'epochs': 3, 'nodes': 500}\n",
      "0.521422 (0.006106) with: {'batch_size': 16, 'dropout_rate': 0.5, 'epochs': 4, 'nodes': 10}\n",
      "0.522147 (0.010440) with: {'batch_size': 16, 'dropout_rate': 0.5, 'epochs': 4, 'nodes': 50}\n",
      "0.539291 (0.005866) with: {'batch_size': 16, 'dropout_rate': 0.5, 'epochs': 4, 'nodes': 100}\n",
      "0.503547 (0.024324) with: {'batch_size': 16, 'dropout_rate': 0.5, 'epochs': 4, 'nodes': 500}\n",
      "0.522885 (0.039454) with: {'batch_size': 16, 'dropout_rate': 0.5, 'epochs': 5, 'nodes': 10}\n",
      "0.519290 (0.009864) with: {'batch_size': 16, 'dropout_rate': 0.5, 'epochs': 5, 'nodes': 50}\n",
      "0.516429 (0.010503) with: {'batch_size': 16, 'dropout_rate': 0.5, 'epochs': 5, 'nodes': 100}\n",
      "0.520704 (0.010126) with: {'batch_size': 16, 'dropout_rate': 0.5, 'epochs': 5, 'nodes': 500}\n",
      "0.500015 (0.015188) with: {'batch_size': 16, 'dropout_rate': 0.5, 'epochs': 7, 'nodes': 10}\n",
      "0.518567 (0.005942) with: {'batch_size': 16, 'dropout_rate': 0.5, 'epochs': 7, 'nodes': 50}\n",
      "0.519989 (0.012675) with: {'batch_size': 16, 'dropout_rate': 0.5, 'epochs': 7, 'nodes': 100}\n",
      "0.527145 (0.008130) with: {'batch_size': 16, 'dropout_rate': 0.5, 'epochs': 7, 'nodes': 500}\n",
      "0.522149 (0.015060) with: {'batch_size': 16, 'dropout_rate': 0.5, 'epochs': 10, 'nodes': 10}\n",
      "0.523568 (0.003133) with: {'batch_size': 16, 'dropout_rate': 0.5, 'epochs': 10, 'nodes': 50}\n",
      "0.517855 (0.002186) with: {'batch_size': 16, 'dropout_rate': 0.5, 'epochs': 10, 'nodes': 100}\n",
      "0.515695 (0.019951) with: {'batch_size': 16, 'dropout_rate': 0.5, 'epochs': 10, 'nodes': 500}\n",
      "0.525731 (0.017067) with: {'batch_size': 64, 'dropout_rate': 0.3, 'epochs': 3, 'nodes': 10}\n",
      "0.518566 (0.011864) with: {'batch_size': 64, 'dropout_rate': 0.3, 'epochs': 3, 'nodes': 50}\n",
      "0.517844 (0.015350) with: {'batch_size': 64, 'dropout_rate': 0.3, 'epochs': 3, 'nodes': 100}\n",
      "0.539999 (0.002796) with: {'batch_size': 64, 'dropout_rate': 0.3, 'epochs': 3, 'nodes': 500}\n",
      "0.512148 (0.014058) with: {'batch_size': 64, 'dropout_rate': 0.3, 'epochs': 4, 'nodes': 10}\n",
      "0.503586 (0.014183) with: {'batch_size': 64, 'dropout_rate': 0.3, 'epochs': 4, 'nodes': 50}\n",
      "0.530014 (0.014117) with: {'batch_size': 64, 'dropout_rate': 0.3, 'epochs': 4, 'nodes': 100}\n",
      "0.528560 (0.011921) with: {'batch_size': 64, 'dropout_rate': 0.3, 'epochs': 4, 'nodes': 500}\n",
      "0.505035 (0.042712) with: {'batch_size': 64, 'dropout_rate': 0.3, 'epochs': 5, 'nodes': 10}\n",
      "0.509293 (0.024644) with: {'batch_size': 64, 'dropout_rate': 0.3, 'epochs': 5, 'nodes': 50}\n",
      "0.527128 (0.015542) with: {'batch_size': 64, 'dropout_rate': 0.3, 'epochs': 5, 'nodes': 100}\n",
      "0.529277 (0.008740) with: {'batch_size': 64, 'dropout_rate': 0.3, 'epochs': 5, 'nodes': 500}\n",
      "0.517878 (0.025017) with: {'batch_size': 64, 'dropout_rate': 0.3, 'epochs': 7, 'nodes': 10}\n",
      "0.513576 (0.012067) with: {'batch_size': 64, 'dropout_rate': 0.3, 'epochs': 7, 'nodes': 50}\n",
      "0.515702 (0.013667) with: {'batch_size': 64, 'dropout_rate': 0.3, 'epochs': 7, 'nodes': 100}\n",
      "0.518561 (0.010128) with: {'batch_size': 64, 'dropout_rate': 0.3, 'epochs': 7, 'nodes': 500}\n",
      "0.498592 (0.021014) with: {'batch_size': 64, 'dropout_rate': 0.3, 'epochs': 10, 'nodes': 10}\n",
      "0.515005 (0.004564) with: {'batch_size': 64, 'dropout_rate': 0.3, 'epochs': 10, 'nodes': 50}\n",
      "0.519284 (0.002302) with: {'batch_size': 64, 'dropout_rate': 0.3, 'epochs': 10, 'nodes': 100}\n",
      "0.530702 (0.014415) with: {'batch_size': 64, 'dropout_rate': 0.3, 'epochs': 10, 'nodes': 500}\n",
      "0.522878 (0.020410) with: {'batch_size': 64, 'dropout_rate': 0.5, 'epochs': 3, 'nodes': 10}\n",
      "0.515012 (0.012426) with: {'batch_size': 64, 'dropout_rate': 0.5, 'epochs': 3, 'nodes': 50}\n",
      "0.517843 (0.018136) with: {'batch_size': 64, 'dropout_rate': 0.5, 'epochs': 3, 'nodes': 100}\n",
      "0.528556 (0.015640) with: {'batch_size': 64, 'dropout_rate': 0.5, 'epochs': 3, 'nodes': 500}\n",
      "0.517860 (0.003088) with: {'batch_size': 64, 'dropout_rate': 0.5, 'epochs': 4, 'nodes': 10}\n",
      "0.521436 (0.010330) with: {'batch_size': 64, 'dropout_rate': 0.5, 'epochs': 4, 'nodes': 50}\n",
      "0.510704 (0.011830) with: {'batch_size': 64, 'dropout_rate': 0.5, 'epochs': 4, 'nodes': 100}\n",
      "0.531409 (0.019195) with: {'batch_size': 64, 'dropout_rate': 0.5, 'epochs': 4, 'nodes': 500}\n",
      "0.517155 (0.012910) with: {'batch_size': 64, 'dropout_rate': 0.5, 'epochs': 5, 'nodes': 10}\n",
      "0.521448 (0.022349) with: {'batch_size': 64, 'dropout_rate': 0.5, 'epochs': 5, 'nodes': 50}\n",
      "0.512157 (0.015430) with: {'batch_size': 64, 'dropout_rate': 0.5, 'epochs': 5, 'nodes': 100}\n",
      "0.535724 (0.013013) with: {'batch_size': 64, 'dropout_rate': 0.5, 'epochs': 5, 'nodes': 500}\n",
      "0.498589 (0.019731) with: {'batch_size': 64, 'dropout_rate': 0.5, 'epochs': 7, 'nodes': 10}\n",
      "0.512836 (0.022080) with: {'batch_size': 64, 'dropout_rate': 0.5, 'epochs': 7, 'nodes': 50}\n",
      "0.509281 (0.005686) with: {'batch_size': 64, 'dropout_rate': 0.5, 'epochs': 7, 'nodes': 100}\n",
      "0.532846 (0.011121) with: {'batch_size': 64, 'dropout_rate': 0.5, 'epochs': 7, 'nodes': 500}\n",
      "0.510005 (0.005139) with: {'batch_size': 64, 'dropout_rate': 0.5, 'epochs': 10, 'nodes': 10}\n",
      "0.507147 (0.005959) with: {'batch_size': 64, 'dropout_rate': 0.5, 'epochs': 10, 'nodes': 50}\n",
      "0.515011 (0.011190) with: {'batch_size': 64, 'dropout_rate': 0.5, 'epochs': 10, 'nodes': 100}\n",
      "0.521413 (0.015760) with: {'batch_size': 64, 'dropout_rate': 0.5, 'epochs': 10, 'nodes': 500}\n",
      "0.527168 (0.025039) with: {'batch_size': 128, 'dropout_rate': 0.3, 'epochs': 3, 'nodes': 10}\n",
      "0.479264 (0.024152) with: {'batch_size': 128, 'dropout_rate': 0.3, 'epochs': 3, 'nodes': 50}\n",
      "0.543577 (0.008962) with: {'batch_size': 128, 'dropout_rate': 0.3, 'epochs': 3, 'nodes': 100}\n",
      "0.522879 (0.024963) with: {'batch_size': 128, 'dropout_rate': 0.3, 'epochs': 3, 'nodes': 500}\n",
      "0.528602 (0.030307) with: {'batch_size': 128, 'dropout_rate': 0.3, 'epochs': 4, 'nodes': 10}\n",
      "0.512849 (0.011563) with: {'batch_size': 128, 'dropout_rate': 0.3, 'epochs': 4, 'nodes': 50}\n",
      "0.513582 (0.020964) with: {'batch_size': 128, 'dropout_rate': 0.3, 'epochs': 4, 'nodes': 100}\n",
      "0.519277 (0.010076) with: {'batch_size': 128, 'dropout_rate': 0.3, 'epochs': 4, 'nodes': 500}\n",
      "0.520732 (0.017752) with: {'batch_size': 128, 'dropout_rate': 0.3, 'epochs': 5, 'nodes': 10}\n",
      "0.537879 (0.023462) with: {'batch_size': 128, 'dropout_rate': 0.3, 'epochs': 5, 'nodes': 50}\n",
      "0.517880 (0.029994) with: {'batch_size': 128, 'dropout_rate': 0.3, 'epochs': 5, 'nodes': 100}\n",
      "0.521407 (0.021225) with: {'batch_size': 128, 'dropout_rate': 0.3, 'epochs': 5, 'nodes': 500}\n",
      "0.507153 (0.010450) with: {'batch_size': 128, 'dropout_rate': 0.3, 'epochs': 7, 'nodes': 10}\n",
      "0.501417 (0.011754) with: {'batch_size': 128, 'dropout_rate': 0.3, 'epochs': 7, 'nodes': 50}\n",
      "0.515005 (0.005750) with: {'batch_size': 128, 'dropout_rate': 0.3, 'epochs': 7, 'nodes': 100}\n",
      "0.531417 (0.012109) with: {'batch_size': 128, 'dropout_rate': 0.3, 'epochs': 7, 'nodes': 500}\n",
      "0.510733 (0.021462) with: {'batch_size': 128, 'dropout_rate': 0.3, 'epochs': 10, 'nodes': 10}\n",
      "0.507145 (0.002534) with: {'batch_size': 128, 'dropout_rate': 0.3, 'epochs': 10, 'nodes': 50}\n",
      "0.511422 (0.007433) with: {'batch_size': 128, 'dropout_rate': 0.3, 'epochs': 10, 'nodes': 100}\n",
      "0.517849 (0.008116) with: {'batch_size': 128, 'dropout_rate': 0.3, 'epochs': 10, 'nodes': 500}\n",
      "0.532886 (0.028459) with: {'batch_size': 128, 'dropout_rate': 0.5, 'epochs': 3, 'nodes': 10}\n",
      "0.520715 (0.001826) with: {'batch_size': 128, 'dropout_rate': 0.5, 'epochs': 3, 'nodes': 50}\n",
      "0.519300 (0.016223) with: {'batch_size': 128, 'dropout_rate': 0.5, 'epochs': 3, 'nodes': 100}\n",
      "0.537149 (0.007671) with: {'batch_size': 128, 'dropout_rate': 0.5, 'epochs': 3, 'nodes': 500}\n",
      "0.517141 (0.005455) with: {'batch_size': 128, 'dropout_rate': 0.5, 'epochs': 4, 'nodes': 10}\n",
      "0.516434 (0.005146) with: {'batch_size': 128, 'dropout_rate': 0.5, 'epochs': 4, 'nodes': 50}\n",
      "0.538593 (0.021712) with: {'batch_size': 128, 'dropout_rate': 0.5, 'epochs': 4, 'nodes': 100}\n",
      "0.527833 (0.024249) with: {'batch_size': 128, 'dropout_rate': 0.5, 'epochs': 4, 'nodes': 500}\n",
      "0.513566 (0.005116) with: {'batch_size': 128, 'dropout_rate': 0.5, 'epochs': 5, 'nodes': 10}\n",
      "0.502132 (0.012709) with: {'batch_size': 128, 'dropout_rate': 0.5, 'epochs': 5, 'nodes': 50}\n",
      "0.504989 (0.022974) with: {'batch_size': 128, 'dropout_rate': 0.5, 'epochs': 5, 'nodes': 100}\n",
      "0.531420 (0.009247) with: {'batch_size': 128, 'dropout_rate': 0.5, 'epochs': 5, 'nodes': 500}\n",
      "0.519996 (0.007828) with: {'batch_size': 128, 'dropout_rate': 0.5, 'epochs': 7, 'nodes': 10}\n",
      "0.527857 (0.000875) with: {'batch_size': 128, 'dropout_rate': 0.5, 'epochs': 7, 'nodes': 50}\n",
      "0.527140 (0.010784) with: {'batch_size': 128, 'dropout_rate': 0.5, 'epochs': 7, 'nodes': 100}\n",
      "0.527130 (0.013143) with: {'batch_size': 128, 'dropout_rate': 0.5, 'epochs': 7, 'nodes': 500}\n",
      "0.527882 (0.026123) with: {'batch_size': 128, 'dropout_rate': 0.5, 'epochs': 10, 'nodes': 10}\n",
      "0.518563 (0.013548) with: {'batch_size': 128, 'dropout_rate': 0.5, 'epochs': 10, 'nodes': 50}\n",
      "0.501417 (0.012752) with: {'batch_size': 128, 'dropout_rate': 0.5, 'epochs': 10, 'nodes': 100}\n",
      "0.519990 (0.010201) with: {'batch_size': 128, 'dropout_rate': 0.5, 'epochs': 10, 'nodes': 500}\n"
     ]
    }
   ],
   "source": [
    "model = KerasClassifier(build_fn=create_model, verbose=0)\n",
    "# define the grid search parameters\n",
    "batch_size = [8, 16, 64, 128]\n",
    "epochs = [3,4,5,7,10]\n",
    "nodes = [10, 50, 100, 500]\n",
    "dropout_rates = [0.3, 0.5]\n",
    "#optimizer = ['SGD', 'RMSprop', 'Adagrad', 'Adadelta', 'Adam', 'Adamax', 'Nadam']\n",
    "param_grid = dict(batch_size=batch_size, epochs=epochs, nodes=nodes, dropout_rate=dropout_rates)\n",
    "grid = GridSearchCV(estimator=model, param_grid=param_grid, n_jobs=1, cv=3)\n",
    "grid_result = grid.fit(x_seq_train, y_seq_train)\n",
    "# summarize results\n",
    "print(\"Best: %f using %s\" % (grid_result.best_score_, grid_result.best_params_))\n",
    "means = grid_result.cv_results_['mean_test_score']\n",
    "stds = grid_result.cv_results_['std_test_score']\n",
    "params = grid_result.cv_results_['params']\n",
    "for mean, stdev, param in zip(means, stds, params):\n",
    "    print(\"%f (%f) with: %r\" % (mean, stdev, param))"
   ]
  },
  {
   "cell_type": "markdown",
   "metadata": {},
   "source": [
    "### Model Training\n",
    "The model is trained using the hyperparameters found above. "
   ]
  },
  {
   "cell_type": "code",
   "execution_count": 341,
   "metadata": {},
   "outputs": [
    {
     "data": {
      "text/plain": [
       "{'batch_size': 8, 'dropout_rate': 0.5, 'epochs': 4, 'nodes': 100}"
      ]
     },
     "execution_count": 341,
     "metadata": {},
     "output_type": "execute_result"
    }
   ],
   "source": [
    "grid_result.best_params_"
   ]
  },
  {
   "cell_type": "code",
   "execution_count": 346,
   "metadata": {},
   "outputs": [
    {
     "name": "stdout",
     "output_type": "stream",
     "text": [
      "Train on 1120 samples, validate on 280 samples\n",
      "Epoch 1/8\n",
      "1120/1120 [==============================] - 3s 3ms/sample - loss: 0.6964 - acc: 0.5205 - val_loss: 0.7196 - val_acc: 0.4357\n",
      "Epoch 2/8\n",
      "1120/1120 [==============================] - 3s 3ms/sample - loss: 0.3177 - acc: 0.9464 - val_loss: 0.9343 - val_acc: 0.5393\n",
      "Epoch 3/8\n",
      "1120/1120 [==============================] - 4s 3ms/sample - loss: 0.0047 - acc: 1.0000 - val_loss: 1.3783 - val_acc: 0.4821\n",
      "Epoch 4/8\n",
      "1120/1120 [==============================] - 4s 3ms/sample - loss: 1.3880e-05 - acc: 1.0000 - val_loss: 1.7863 - val_acc: 0.4857\n",
      "Epoch 5/8\n",
      "1120/1120 [==============================] - 3s 3ms/sample - loss: 3.2002e-07 - acc: 1.0000 - val_loss: 1.9621 - val_acc: 0.4929\n",
      "Epoch 6/8\n",
      "1120/1120 [==============================] - 3s 3ms/sample - loss: 6.4641e-08 - acc: 1.0000 - val_loss: 2.0488 - val_acc: 0.4786\n",
      "Epoch 7/8\n",
      "1120/1120 [==============================] - 3s 3ms/sample - loss: 1.8745e-08 - acc: 1.0000 - val_loss: 2.0953 - val_acc: 0.4857\n",
      "Epoch 8/8\n",
      "1120/1120 [==============================] - 3s 3ms/sample - loss: 1.5709e-08 - acc: 1.0000 - val_loss: 2.1548 - val_acc: 0.4821\n"
     ]
    }
   ],
   "source": [
    "model = create_model(nodes=grid_result.best_params_['nodes'],\n",
    "                     dropout_rate=grid_result.best_params_['dropout_rate'])\n",
    "\n",
    "earlystop = EarlyStopping(monitor='val_loss',\n",
    "                          patience=2,\n",
    "                          restore_best_weights=True)\n",
    "                         \n",
    "\n",
    "history = model.fit(x_seq_train, y_seq_train,\n",
    "                    validation_split=0.2,\n",
    "                    epochs=8,\n",
    "                    batch_size=grid_result.best_params_['batch_size'],\n",
    "                    verbose=1)"
   ]
  },
  {
   "cell_type": "code",
   "execution_count": 366,
   "metadata": {
    "scrolled": false
   },
   "outputs": [
    {
     "data": {
      "image/png": "[encoded data removed]",
      "text/plain": [
       "<Figure size 432x288 with 2 Axes>"
      ]
     },
     "metadata": {
      "needs_background": "light"
     },
     "output_type": "display_data"
    },
    {
     "data": {
      "image/png": "[encoded data removed]",
      "text/plain": [
       "<Figure size 432x288 with 2 Axes>"
      ]
     },
     "metadata": {
      "needs_background": "light"
     },
     "output_type": "display_data"
    },
    {
     "data": {
      "image/png": "[encoded data removed]",
      "text/plain": [
       "<Figure size 432x288 with 2 Axes>"
      ]
     },
     "metadata": {
      "needs_background": "light"
     },
     "output_type": "display_data"
    },
    {
     "name": "stdout",
     "output_type": "stream",
     "text": [
      "              precision    recall  f1-score   support\n",
      "\n",
      "         0.0       0.47      0.50      0.49       201\n",
      "         1.0       0.57      0.53      0.55       243\n",
      "\n",
      "    accuracy                           0.52       444\n",
      "   macro avg       0.52      0.52      0.52       444\n",
      "weighted avg       0.52      0.52      0.52       444\n",
      "\n",
      "Test accuracy: 0.5202703\n"
     ]
    }
   ],
   "source": [
    "plot_results_nn(history, model)"
   ]
  },
  {
   "cell_type": "markdown",
   "metadata": {},
   "source": [
    "##  Summary\n",
    "None of the models performed significantly better than the other, snce the variation between fittings was rather large. \n",
    "\n",
    "| Model | Weighted avg f1-score | Test Accuracy |\n",
    "|------|------| ----|\n",
    "| Logistic Regression  | 0.51 | 0.536 |\n",
    "| Random Forest  | 0.51 | 0.513 |\n",
    "| XGBoost  | 0.49 | 0.493 |\n",
    "| Neural Network  | 0.52 | 0.520 |"
   ]
  }
 ],
 "metadata": {
  "kernelspec": {
   "display_name": "Python 3",
   "language": "python",
   "name": "python3"
  },
  "language_info": {
   "codemirror_mode": {
    "name": "ipython",
    "version": 3
   },
   "file_extension": ".py",
   "mimetype": "text/x-python",
   "name": "python",
   "nbconvert_exporter": "python",
   "pygments_lexer": "ipython3",
   "version": "3.7.6"
  }
 },
 "nbformat": 4,
 "nbformat_minor": 4
}
