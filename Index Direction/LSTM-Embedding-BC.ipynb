{
 "cells": [
  {
   "cell_type": "code",
   "execution_count": 7,
   "metadata": {},
   "outputs": [],
   "source": [
    "from pathlib import Path\n",
    "import tensorflow as tf\n",
    "from tensorflow.keras import backend as K\n",
    "from tensorflow.keras.models import Sequential, Model\n",
    "from tensorflow.keras.layers import Dense, Embedding, Input, Flatten, Layer, Lambda, LSTM, TimeDistributed\n",
    "from tensorflow.keras.utils import plot_model\n",
    "from tensorflow.keras import optimizers\n",
    "from tensorflow.keras.preprocessing.text import Tokenizer\n",
    "from tensorflow.keras.preprocessing.sequence import pad_sequences\n",
    "from tensorflow import keras\n",
    "from sklearn.metrics import confusion_matrix, classification_report\n",
    "from datetime import datetime\n",
    "from IPython.display import Image\n",
    "from collections import deque\n",
    "from statsmodels.tsa.arima_model import ARIMA\n",
    "from nltk.tokenize import word_tokenize\n",
    "import matplotlib.pyplot as plt\n",
    "import numpy as np\n",
    "import pandas as pd\n",
    "import seaborn as sn\n",
    "import itertools\n",
    "import copy\n",
    "import random\n",
    "import pickle\n",
    "import time\n",
    "import os\n",
    "import io\n",
    "from importnb import Notebook, reload\n",
    "with Notebook(): \n",
    "    import Utilities\n",
    "# Disables error in custom keras-layer\n",
    "tf.compat.v1.disable_eager_execution()"
   ]
  },
  {
   "cell_type": "code",
   "execution_count": 10,
   "metadata": {},
   "outputs": [],
   "source": [
    "# Specify the path to OneDrive\n",
    "ONEDRIVE_PATH = Path(r\"C:\\Users\\gusta\\Kidbrooke Advisory Ab\\KidbrookeOneDrive - Gustaf Backman exjobb\")\n",
    "\n",
    "config = {\n",
    "    'embed_dim': 300,    # Dimensions to use for the word embedding\n",
    "    'lookback': 3,       # How far back to collect data in the recurrent layer (days)\n",
    "    'delay': 3,          # How far ahead to predict data (days)\n",
    "    'p': 1,              # Order of the AR-part of the model\n",
    "    'd': 1,              # Integrated order\n",
    "    'q': 1,              # Included moving average terms \n",
    "    'train_part' : 0.8,  # Part of data to be used for training\n",
    "    'val_part' : 0.1,    # Part of data to be used for validation\n",
    "    'test_part' : 0.1,   # Part of data to be used for testing\n",
    "    'series': '1 YEAR',   # What series we currently want to predict, '1 YEAR', '3 YEAR' or 'S&P'\n",
    "    'vocab_size': 15000,  # Include only the 'vocab_size' most common words \n",
    "    'start_date': '2006-10-20',\n",
    "    'end_date': '2013-11-19',\n",
    "}"
   ]
  },
  {
   "cell_type": "code",
   "execution_count": 11,
   "metadata": {},
   "outputs": [],
   "source": [
    "# Load data \n",
    "news_path = ONEDRIVE_PATH / \"Input Data/financial_headlines_20061020-20131119.pkl\"\n",
    "data = pd.DataFrame(pd.read_pickle(news_path))\n",
    "data.set_index('date',inplace=True)\n",
    "text = Utilities.preprocess_text(data)"
   ]
  },
  {
   "cell_type": "code",
   "execution_count": 12,
   "metadata": {},
   "outputs": [],
   "source": [
    "# Tokenize the text data \n",
    "tokenizer = Tokenizer(num_words=config['vocab_size'])\n",
    "tokenizer.fit_on_texts(text)\n",
    "word_index = tokenizer.word_index\n",
    "sequences = tokenizer.texts_to_sequences(text)"
   ]
  },
  {
   "cell_type": "code",
   "execution_count": 13,
   "metadata": {},
   "outputs": [],
   "source": [
    "# Load dictionary of embeddings for this vocabulary (previously constructed)\n",
    "subset_embeddings = ONEDRIVE_PATH / \"Embeddings/GloVe/saved.42B.300d.pkl\"\n",
    "with open(subset_embeddings,'rb') as handle: \n",
    "    emb_dict = pickle.load(handle)"
   ]
  },
  {
   "cell_type": "code",
   "execution_count": 14,
   "metadata": {},
   "outputs": [],
   "source": [
    "# Create embedding matrix with shape (vocab_size, embed_dimension)\n",
    "embedding_weights = np.zeros((config['vocab_size'], config['embed_dim']))\n",
    "# Add pre-trained weights from GloVe\n",
    "for word,index in word_index.items(): \n",
    "    if index > config['vocab_size']: \n",
    "        break\n",
    "    temp_emb = emb_dict.get(word)\n",
    "    if temp_emb is not None: \n",
    "        embedding_weights[index - 1] = temp_emb\n",
    "    else: \n",
    "        embedding_weights[index - 1] = np.random.normal(size=config['embed_dim'])"
   ]
  },
  {
   "cell_type": "code",
   "execution_count": 15,
   "metadata": {},
   "outputs": [
    {
     "name": "stdout",
     "output_type": "stream",
     "text": [
      "Actual maximum length of one day news: 950\n"
     ]
    }
   ],
   "source": [
    "config['max_len'] = max([len(sent) for sent in sequences])\n",
    "print(\"Actual maximum length of one day news:\",config['max_len'])\n",
    "\n",
    "# Pad the text data so we get a matrix of shape (n,max_len)\n",
    "x = np.zeros((len(sequences), config['max_len']))\n",
    "for i,sent in enumerate(sequences): \n",
    "    if len(sent) > config['max_len']: \n",
    "        x[i] = sent[:config['max_len']]\n",
    "    else: \n",
    "        x[i,:len(sent)] = sent"
   ]
  },
  {
   "cell_type": "code",
   "execution_count": 16,
   "metadata": {},
   "outputs": [],
   "source": [
    "y = Utilities.load_direction_labels(config)\n",
    "\n",
    "# Remove last row of the x-matrix, since there's no label for that entry\n",
    "if x.shape[0] != len(y): \n",
    "    x = x[:-1]"
   ]
  },
  {
   "cell_type": "code",
   "execution_count": 9,
   "metadata": {},
   "outputs": [
    {
     "name": "stdout",
     "output_type": "stream",
     "text": [
      "Shape of x_train, y_train:  (1805, 3, 950) (1805,)\n",
      "Shape of x_val, y_val:  (514, 3, 950) (514,)\n",
      "Shape of x_test, y_test:  (256, 3, 950) (256,)\n"
     ]
    }
   ],
   "source": [
    "(x_train,y_train), (x_val,y_val), (x_test,y_test) = Utilities.shuffle_and_partition(x,y,test_part=0.1,val_part=0.2,sequences=True,config=config)\n",
    "print(\"Shape of x_train, y_train: \",x_train.shape, y_train.shape)\n",
    "print(\"Shape of x_val, y_val: \",x_val.shape, y_val.shape)\n",
    "print(\"Shape of x_test, y_test: \",x_test.shape, y_test.shape)\n"
   ]
  },
  {
   "cell_type": "markdown",
   "metadata": {},
   "source": [
    "## Model \n",
    "This model aims to take the chronology of news over a period into account. "
   ]
  },
  {
   "cell_type": "code",
   "execution_count": 10,
   "metadata": {},
   "outputs": [],
   "source": [
    "# Define some help functions for custom layer and hyper parameter optimization\n",
    "\n",
    "# Create functions for custom 'MergeEmedding'-layer which averages \n",
    "# the embeddings over all words after the embedding layer \n",
    "def merge_embeddings(x):\n",
    "    # Sum the embeddings for every word slot. If this is zero, there is no word in this slot\n",
    "    non_zero = K.sum(K.cast(K.not_equal(K.sum(x,axis=3),0),tf.float32))\n",
    "    return K.sum(x,axis=2) / non_zero\n",
    "\n",
    "def merge_output_shape(input_shape):\n",
    "    return (input_shape[0], input_shape[2])\n",
    "\n",
    "\n",
    "def train_and_format(x,y,bs,epochs, results, layers, nodes,lr,verbose=0):\n",
    "    name = f\"{bs}_{layers}_{nodes}\"\n",
    "    temp_history = model.fit(x, y, batch_size=bs, validation_split=0.2, epochs = epochs,verbose=verbose)\n",
    "    return results.append(pd.Series([np.mean(temp_history.history['val_loss'][-5:]),\n",
    "                                                temp_history, model, layers, \n",
    "                                                nodes, bs], \n",
    "                                                name=name,index=['Mean Val Acc','History','Model','Layers','Nodes','Batch Size']))\n",
    "def create_lstm(lstm_units,lr):\n",
    "    lstm_layers = len(lstm_units)\n",
    "    model = Sequential() \n",
    "    model.add(TimeDistributed(Embedding(input_dim=config['vocab_size'],\n",
    "                                        output_dim=config['embed_dim'],\n",
    "                                        input_length=config['max_len'],\n",
    "                                        weights=[embedding_weights]), input_shape=x_train.shape[1:] ))\n",
    "    model.add(Lambda(merge_embeddings, output_shape=merge_output_shape))\n",
    "    idx = 0\n",
    "    while lstm_layers > idx + 1: \n",
    "        model.add(LSTM(lstm_units[idx], return_sequences=True))\n",
    "        idx += 1\n",
    "    model.add(LSTM(lstm_units[-1],return_sequences=False))\n",
    "    model.add(Dense(1, activation='sigmoid'))\n",
    "    \n",
    "    rms = optimizers.RMSprop(learning_rate=lr)\n",
    "    model.compile(optimizer=rms, loss='binary_crossentropy', metrics=['acc'])\n",
    "    return model\n",
    "\n",
    "def train_and_format(x,y,x_val,y_val,bs,epochs, results, layers, nodes, lr, verbose=0):\n",
    "    name = f\"{bs}_{layers}_{nodes}\"\n",
    "    temp_history = model.fit(x, y, batch_size=bs, validation_data=(x_val, y_val), epochs = epochs,verbose=verbose)\n",
    "    return results.append(pd.Series([np.mean(temp_history.history['val_loss'][-3:]),\n",
    "                                                temp_history, model, layers, \n",
    "                                                nodes, bs, lr], \n",
    "                                                name=name,\n",
    "                                    index=['Mean Val Acc','History','Model','Layers','Nodes','Batch Size','Learning Rate']))"
   ]
  },
  {
   "cell_type": "code",
   "execution_count": 11,
   "metadata": {
    "scrolled": true
   },
   "outputs": [
    {
     "name": "stdout",
     "output_type": "stream",
     "text": [
      "Testing 12 combinations. \n",
      "WARNING:tensorflow:From C:\\ProgramData\\Anaconda3\\envs\\nlpenv\\lib\\site-packages\\tensorflow_core\\python\\ops\\resource_variable_ops.py:1635: calling BaseResourceVariable.__init__ (from tensorflow.python.ops.resource_variable_ops) with constraint is deprecated and will be removed in a future version.\n",
      "Instructions for updating:\n",
      "If using Keras pass *_constraint arguments to layers.\n",
      "Train on 1805 samples, validate on 514 samples\n",
      "Epoch 1/10\n",
      "1805/1805 [==============================] - 8s 4ms/sample - loss: 0.6591 - acc: 0.6399 - val_loss: 0.6019 - val_acc: 0.7763\n",
      "Epoch 2/10\n",
      "1805/1805 [==============================] - 7s 4ms/sample - loss: 0.6575 - acc: 0.6399 - val_loss: 0.5682 - val_acc: 0.7763\n",
      "Epoch 3/10\n",
      "1805/1805 [==============================] - 8s 4ms/sample - loss: 0.6551 - acc: 0.6399 - val_loss: 0.5758 - val_acc: 0.7763\n",
      "Epoch 4/10\n",
      "1805/1805 [==============================] - 8s 4ms/sample - loss: 0.6540 - acc: 0.6399 - val_loss: 0.5912 - val_acc: 0.7763\n",
      "Epoch 5/10\n",
      "1805/1805 [==============================] - 8s 4ms/sample - loss: 0.6536 - acc: 0.6399 - val_loss: 0.5680 - val_acc: 0.7763\n",
      "Epoch 6/10\n",
      "1805/1805 [==============================] - 8s 4ms/sample - loss: 0.6491 - acc: 0.6399 - val_loss: 0.5947 - val_acc: 0.7763\n",
      "Epoch 7/10\n",
      "1805/1805 [==============================] - 8s 4ms/sample - loss: 0.6166 - acc: 0.6626 - val_loss: 0.5502 - val_acc: 0.7743\n",
      "Epoch 8/10\n",
      "1805/1805 [==============================] - 8s 4ms/sample - loss: 0.5590 - acc: 0.7108 - val_loss: 0.5465 - val_acc: 0.7743\n",
      "Epoch 9/10\n",
      "1805/1805 [==============================] - 8s 4ms/sample - loss: 0.4944 - acc: 0.7723 - val_loss: 0.7987 - val_acc: 0.4455\n",
      "Epoch 10/10\n",
      "1805/1805 [==============================] - 8s 4ms/sample - loss: 0.4479 - acc: 0.8006 - val_loss: 0.6306 - val_acc: 0.6868\n",
      "8.33 %     \n",
      "Train on 1805 samples, validate on 514 samples\n",
      "Epoch 1/10\n",
      "1805/1805 [==============================] - 9s 5ms/sample - loss: 0.6612 - acc: 0.6382 - val_loss: 0.5741 - val_acc: 0.7763\n",
      "Epoch 2/10\n",
      "1805/1805 [==============================] - 8s 4ms/sample - loss: 0.6571 - acc: 0.6399 - val_loss: 0.6087 - val_acc: 0.7763\n",
      "Epoch 3/10\n",
      "1805/1805 [==============================] - 8s 4ms/sample - loss: 0.6569 - acc: 0.6399 - val_loss: 0.5485 - val_acc: 0.7763\n",
      "Epoch 4/10\n",
      "1805/1805 [==============================] - 8s 4ms/sample - loss: 0.6557 - acc: 0.6399 - val_loss: 0.5919 - val_acc: 0.7763\n",
      "Epoch 5/10\n",
      "1805/1805 [==============================] - 8s 4ms/sample - loss: 0.6546 - acc: 0.6399 - val_loss: 0.5572 - val_acc: 0.7763\n",
      "Epoch 6/10\n",
      "1805/1805 [==============================] - 8s 4ms/sample - loss: 0.6549 - acc: 0.6399 - val_loss: 0.5607 - val_acc: 0.7763\n",
      "Epoch 7/10\n",
      "1805/1805 [==============================] - 8s 4ms/sample - loss: 0.6494 - acc: 0.6399 - val_loss: 0.5813 - val_acc: 0.7763\n",
      "Epoch 8/10\n",
      "1805/1805 [==============================] - 8s 4ms/sample - loss: 0.6128 - acc: 0.6637 - val_loss: 0.5603 - val_acc: 0.7704\n",
      "Epoch 9/10\n",
      "1805/1805 [==============================] - 8s 4ms/sample - loss: 0.5049 - acc: 0.7429 - val_loss: 0.6737 - val_acc: 0.7763\n",
      "Epoch 10/10\n",
      "1805/1805 [==============================] - 8s 4ms/sample - loss: 0.3643 - acc: 0.8432 - val_loss: 0.8126 - val_acc: 0.7704\n",
      "16.67 %     \n",
      "Train on 1805 samples, validate on 514 samples\n",
      "Epoch 1/10\n",
      "1805/1805 [==============================] - 8s 5ms/sample - loss: 0.6653 - acc: 0.6299 - val_loss: 0.5584 - val_acc: 0.7763\n",
      "Epoch 2/10\n",
      "1805/1805 [==============================] - 8s 4ms/sample - loss: 0.6580 - acc: 0.6399 - val_loss: 0.5995 - val_acc: 0.7763\n",
      "Epoch 3/10\n",
      "1805/1805 [==============================] - 8s 4ms/sample - loss: 0.6577 - acc: 0.6327 - val_loss: 0.5807 - val_acc: 0.7763\n",
      "Epoch 4/10\n",
      "1805/1805 [==============================] - 8s 4ms/sample - loss: 0.6556 - acc: 0.6399 - val_loss: 0.5575 - val_acc: 0.7763\n",
      "Epoch 5/10\n",
      "1805/1805 [==============================] - 8s 4ms/sample - loss: 0.6556 - acc: 0.6399 - val_loss: 0.5666 - val_acc: 0.7763\n",
      "Epoch 6/10\n",
      "1805/1805 [==============================] - 8s 5ms/sample - loss: 0.6528 - acc: 0.6399 - val_loss: 0.5544 - val_acc: 0.7763\n",
      "Epoch 7/10\n",
      "1805/1805 [==============================] - 8s 4ms/sample - loss: 0.6545 - acc: 0.6388 - val_loss: 0.5807 - val_acc: 0.7763\n",
      "Epoch 8/10\n",
      "1805/1805 [==============================] - 8s 4ms/sample - loss: 0.6533 - acc: 0.6399 - val_loss: 0.5667 - val_acc: 0.7763\n",
      "Epoch 9/10\n",
      "1805/1805 [==============================] - 8s 4ms/sample - loss: 0.6385 - acc: 0.6421 - val_loss: 0.5569 - val_acc: 0.7763\n",
      "Epoch 10/10\n",
      "1805/1805 [==============================] - 8s 4ms/sample - loss: 0.5778 - acc: 0.6853 - val_loss: 0.5966 - val_acc: 0.7023\n",
      "25.0 %     \n",
      "Train on 1805 samples, validate on 514 samples\n",
      "Epoch 1/10\n",
      "1805/1805 [==============================] - 9s 5ms/sample - loss: 0.6589 - acc: 0.6377 - val_loss: 0.6058 - val_acc: 0.7763\n",
      "Epoch 2/10\n",
      "1805/1805 [==============================] - 8s 4ms/sample - loss: 0.6557 - acc: 0.6399 - val_loss: 0.5447 - val_acc: 0.7763\n",
      "Epoch 3/10\n",
      "1805/1805 [==============================] - 8s 5ms/sample - loss: 0.6551 - acc: 0.6399 - val_loss: 0.5512 - val_acc: 0.7763\n",
      "Epoch 4/10\n",
      "1805/1805 [==============================] - 8s 5ms/sample - loss: 0.6551 - acc: 0.6399 - val_loss: 0.6009 - val_acc: 0.7763\n",
      "Epoch 5/10\n",
      "1805/1805 [==============================] - 8s 5ms/sample - loss: 0.6551 - acc: 0.6399 - val_loss: 0.5843 - val_acc: 0.7763\n",
      "Epoch 6/10\n",
      "1805/1805 [==============================] - 8s 5ms/sample - loss: 0.6556 - acc: 0.6399 - val_loss: 0.5812 - val_acc: 0.7763\n",
      "Epoch 7/10\n",
      "1805/1805 [==============================] - 8s 5ms/sample - loss: 0.6539 - acc: 0.6399 - val_loss: 0.5911 - val_acc: 0.7763\n",
      "Epoch 8/10\n",
      "1805/1805 [==============================] - 8s 5ms/sample - loss: 0.6419 - acc: 0.6388 - val_loss: 0.5335 - val_acc: 0.7763\n",
      "Epoch 9/10\n",
      "1805/1805 [==============================] - 8s 5ms/sample - loss: 0.5995 - acc: 0.6892 - val_loss: 0.6823 - val_acc: 0.5253\n",
      "Epoch 10/10\n",
      "1805/1805 [==============================] - 8s 5ms/sample - loss: 0.5366 - acc: 0.7357 - val_loss: 0.5778 - val_acc: 0.7374\n",
      "33.33 %     \n",
      "Train on 1805 samples, validate on 514 samples\n",
      "Epoch 1/10\n",
      "1805/1805 [==============================] - 9s 5ms/sample - loss: 0.6615 - acc: 0.6399 - val_loss: 0.5756 - val_acc: 0.7763\n",
      "Epoch 2/10\n",
      "1805/1805 [==============================] - 9s 5ms/sample - loss: 0.6577 - acc: 0.6399 - val_loss: 0.5652 - val_acc: 0.7763\n",
      "Epoch 3/10\n",
      "1805/1805 [==============================] - 8s 5ms/sample - loss: 0.6576 - acc: 0.6399 - val_loss: 0.5597 - val_acc: 0.7763\n",
      "Epoch 4/10\n",
      "1805/1805 [==============================] - 8s 5ms/sample - loss: 0.6548 - acc: 0.6399 - val_loss: 0.5656 - val_acc: 0.7763\n",
      "Epoch 5/10\n",
      "1805/1805 [==============================] - 8s 5ms/sample - loss: 0.6550 - acc: 0.6399 - val_loss: 0.5763 - val_acc: 0.7763\n",
      "Epoch 6/10\n",
      "1805/1805 [==============================] - 8s 5ms/sample - loss: 0.6552 - acc: 0.6399 - val_loss: 0.5516 - val_acc: 0.7763\n",
      "Epoch 7/10\n",
      "1805/1805 [==============================] - 8s 5ms/sample - loss: 0.6553 - acc: 0.6399 - val_loss: 0.5761 - val_acc: 0.7763\n",
      "Epoch 8/10\n",
      "1805/1805 [==============================] - 9s 5ms/sample - loss: 0.6551 - acc: 0.6399 - val_loss: 0.5989 - val_acc: 0.7763\n",
      "Epoch 9/10\n",
      "1805/1805 [==============================] - 9s 5ms/sample - loss: 0.6554 - acc: 0.6399 - val_loss: 0.5790 - val_acc: 0.7763\n",
      "Epoch 10/10\n",
      "1805/1805 [==============================] - 9s 5ms/sample - loss: 0.6550 - acc: 0.6399 - val_loss: 0.5733 - val_acc: 0.7763\n",
      "41.67 %     \n",
      "Train on 1805 samples, validate on 514 samples\n",
      "Epoch 1/10\n",
      "1805/1805 [==============================] - 9s 5ms/sample - loss: 0.6617 - acc: 0.6366 - val_loss: 0.5980 - val_acc: 0.7763\n",
      "Epoch 2/10\n",
      "1805/1805 [==============================] - 8s 4ms/sample - loss: 0.6577 - acc: 0.6399 - val_loss: 0.5770 - val_acc: 0.7763\n",
      "Epoch 3/10\n",
      "1805/1805 [==============================] - 8s 4ms/sample - loss: 0.6566 - acc: 0.6399 - val_loss: 0.6114 - val_acc: 0.7763\n",
      "Epoch 4/10\n",
      "1805/1805 [==============================] - 8s 5ms/sample - loss: 0.6567 - acc: 0.6399 - val_loss: 0.5696 - val_acc: 0.7763\n",
      "Epoch 5/10\n",
      "1805/1805 [==============================] - 8s 5ms/sample - loss: 0.6579 - acc: 0.6366 - val_loss: 0.5870 - val_acc: 0.7763\n"
     ]
    },
    {
     "name": "stdout",
     "output_type": "stream",
     "text": [
      "Epoch 6/10\n",
      "1805/1805 [==============================] - 8s 5ms/sample - loss: 0.6558 - acc: 0.6399 - val_loss: 0.5816 - val_acc: 0.7763\n",
      "Epoch 7/10\n",
      "1805/1805 [==============================] - 9s 5ms/sample - loss: 0.6540 - acc: 0.6399 - val_loss: 0.5817 - val_acc: 0.7763\n",
      "Epoch 8/10\n",
      "1805/1805 [==============================] - 9s 5ms/sample - loss: 0.6558 - acc: 0.6377 - val_loss: 0.5863 - val_acc: 0.7763\n",
      "Epoch 9/10\n",
      "1805/1805 [==============================] - 9s 5ms/sample - loss: 0.6556 - acc: 0.6399 - val_loss: 0.5801 - val_acc: 0.7763\n",
      "Epoch 10/10\n",
      "1805/1805 [==============================] - 9s 5ms/sample - loss: 0.6550 - acc: 0.6399 - val_loss: 0.5671 - val_acc: 0.7763\n",
      "50.0 %     \n",
      "Train on 1805 samples, validate on 514 samples\n",
      "Epoch 1/10\n",
      "1805/1805 [==============================] - 10s 5ms/sample - loss: 0.6590 - acc: 0.6377 - val_loss: 0.6003 - val_acc: 0.7763\n",
      "Epoch 2/10\n",
      "1805/1805 [==============================] - 9s 5ms/sample - loss: 0.6559 - acc: 0.6399 - val_loss: 0.6162 - val_acc: 0.7763\n",
      "Epoch 3/10\n",
      "1805/1805 [==============================] - 9s 5ms/sample - loss: 0.6560 - acc: 0.6399 - val_loss: 0.5592 - val_acc: 0.7763\n",
      "Epoch 4/10\n",
      "1805/1805 [==============================] - 9s 5ms/sample - loss: 0.6561 - acc: 0.6399 - val_loss: 0.5619 - val_acc: 0.7763\n",
      "Epoch 5/10\n",
      "1805/1805 [==============================] - 9s 5ms/sample - loss: 0.6560 - acc: 0.6399 - val_loss: 0.5906 - val_acc: 0.7763\n",
      "Epoch 6/10\n",
      "1805/1805 [==============================] - 10s 5ms/sample - loss: 0.6550 - acc: 0.6399 - val_loss: 0.5605 - val_acc: 0.7763\n",
      "Epoch 7/10\n",
      "1805/1805 [==============================] - 8s 5ms/sample - loss: 0.6483 - acc: 0.6382 - val_loss: 0.5594 - val_acc: 0.7763\n",
      "Epoch 8/10\n",
      "1805/1805 [==============================] - 8s 5ms/sample - loss: 0.6199 - acc: 0.6681 - val_loss: 0.5307 - val_acc: 0.7763\n",
      "Epoch 9/10\n",
      "1805/1805 [==============================] - 8s 5ms/sample - loss: 0.5630 - acc: 0.7313 - val_loss: 0.5407 - val_acc: 0.7685\n",
      "Epoch 10/10\n",
      "1805/1805 [==============================] - 8s 5ms/sample - loss: 0.4792 - acc: 0.7778 - val_loss: 0.6364 - val_acc: 0.7062\n",
      "58.33 %     \n",
      "Train on 1805 samples, validate on 514 samples\n",
      "Epoch 1/10\n",
      "1805/1805 [==============================] - 10s 6ms/sample - loss: 0.6610 - acc: 0.6355 - val_loss: 0.5519 - val_acc: 0.7763\n",
      "Epoch 2/10\n",
      "1805/1805 [==============================] - 9s 5ms/sample - loss: 0.6593 - acc: 0.6399 - val_loss: 0.5700 - val_acc: 0.7763\n",
      "Epoch 3/10\n",
      "1805/1805 [==============================] - 9s 5ms/sample - loss: 0.6571 - acc: 0.6399 - val_loss: 0.5849 - val_acc: 0.7763\n",
      "Epoch 4/10\n",
      "1805/1805 [==============================] - 9s 5ms/sample - loss: 0.6560 - acc: 0.6399 - val_loss: 0.5985 - val_acc: 0.7763\n",
      "Epoch 5/10\n",
      "1805/1805 [==============================] - 9s 5ms/sample - loss: 0.6555 - acc: 0.6399 - val_loss: 0.5660 - val_acc: 0.7763\n",
      "Epoch 6/10\n",
      "1805/1805 [==============================] - 9s 5ms/sample - loss: 0.6550 - acc: 0.6399 - val_loss: 0.5590 - val_acc: 0.7763\n",
      "Epoch 7/10\n",
      "1805/1805 [==============================] - 9s 5ms/sample - loss: 0.6550 - acc: 0.6399 - val_loss: 0.5618 - val_acc: 0.7763\n",
      "Epoch 8/10\n",
      "1805/1805 [==============================] - 9s 5ms/sample - loss: 0.6545 - acc: 0.6399 - val_loss: 0.5529 - val_acc: 0.7763\n",
      "Epoch 9/10\n",
      "1805/1805 [==============================] - 9s 5ms/sample - loss: 0.6547 - acc: 0.6399 - val_loss: 0.5842 - val_acc: 0.7763\n",
      "Epoch 10/10\n",
      "1805/1805 [==============================] - 9s 5ms/sample - loss: 0.6541 - acc: 0.6399 - val_loss: 0.5712 - val_acc: 0.7763\n",
      "66.67 %     \n",
      "Train on 1805 samples, validate on 514 samples\n",
      "Epoch 1/10\n",
      "1805/1805 [==============================] - 10s 6ms/sample - loss: 0.6699 - acc: 0.6360 - val_loss: 0.5711 - val_acc: 0.7763\n",
      "Epoch 2/10\n",
      "1805/1805 [==============================] - 9s 5ms/sample - loss: 0.6576 - acc: 0.6399 - val_loss: 0.5511 - val_acc: 0.7763\n",
      "Epoch 3/10\n",
      "1805/1805 [==============================] - 9s 5ms/sample - loss: 0.6564 - acc: 0.6399 - val_loss: 0.5452 - val_acc: 0.7763\n",
      "Epoch 4/10\n",
      "1805/1805 [==============================] - 9s 5ms/sample - loss: 0.6561 - acc: 0.6399 - val_loss: 0.5852 - val_acc: 0.7763\n",
      "Epoch 5/10\n",
      "1805/1805 [==============================] - 9s 5ms/sample - loss: 0.6581 - acc: 0.6399 - val_loss: 0.5564 - val_acc: 0.7763\n",
      "Epoch 6/10\n",
      "1805/1805 [==============================] - 9s 5ms/sample - loss: 0.6556 - acc: 0.6399 - val_loss: 0.5747 - val_acc: 0.7763\n",
      "Epoch 7/10\n",
      "1805/1805 [==============================] - 9s 5ms/sample - loss: 0.6885 - acc: 0.6144 - val_loss: 0.5702 - val_acc: 0.7763\n",
      "Epoch 8/10\n",
      "1805/1805 [==============================] - 9s 5ms/sample - loss: 0.6561 - acc: 0.6343 - val_loss: 0.5735 - val_acc: 0.7763\n",
      "Epoch 9/10\n",
      "1805/1805 [==============================] - 9s 5ms/sample - loss: 0.6560 - acc: 0.6399 - val_loss: 0.5890 - val_acc: 0.7763\n",
      "Epoch 10/10\n",
      "1805/1805 [==============================] - 9s 5ms/sample - loss: 0.6546 - acc: 0.6399 - val_loss: 0.6010 - val_acc: 0.7763\n",
      "75.0 %     \n",
      "Train on 1805 samples, validate on 514 samples\n",
      "Epoch 1/10\n",
      "1805/1805 [==============================] - 10s 6ms/sample - loss: 0.6626 - acc: 0.6355 - val_loss: 0.5583 - val_acc: 0.7763\n",
      "Epoch 2/10\n",
      "1805/1805 [==============================] - 9s 5ms/sample - loss: 0.6582 - acc: 0.6399 - val_loss: 0.5874 - val_acc: 0.7763\n",
      "Epoch 3/10\n",
      "1805/1805 [==============================] - 9s 5ms/sample - loss: 0.6572 - acc: 0.6399 - val_loss: 0.5691 - val_acc: 0.7763\n",
      "Epoch 4/10\n",
      "1805/1805 [==============================] - 9s 5ms/sample - loss: 0.6563 - acc: 0.6399 - val_loss: 0.5878 - val_acc: 0.7763\n",
      "Epoch 5/10\n",
      "1805/1805 [==============================] - 9s 5ms/sample - loss: 0.6556 - acc: 0.6399 - val_loss: 0.5925 - val_acc: 0.7763\n",
      "Epoch 6/10\n",
      "1805/1805 [==============================] - 9s 5ms/sample - loss: 0.6553 - acc: 0.6399 - val_loss: 0.5744 - val_acc: 0.7763\n",
      "Epoch 7/10\n",
      "1805/1805 [==============================] - 9s 5ms/sample - loss: 0.6548 - acc: 0.6388 - val_loss: 0.5648 - val_acc: 0.7763\n",
      "Epoch 8/10\n",
      "1805/1805 [==============================] - 9s 5ms/sample - loss: 0.6543 - acc: 0.6399 - val_loss: 0.5953 - val_acc: 0.7763\n",
      "Epoch 9/10\n",
      "1805/1805 [==============================] - 9s 5ms/sample - loss: 0.6535 - acc: 0.6410 - val_loss: 0.5709 - val_acc: 0.7763\n",
      "Epoch 10/10\n",
      "1805/1805 [==============================] - 9s 5ms/sample - loss: 0.6383 - acc: 0.6499 - val_loss: 0.5332 - val_acc: 0.7763\n",
      "83.33 %     \n",
      "Train on 1805 samples, validate on 514 samples\n",
      "Epoch 1/10\n",
      "1805/1805 [==============================] - 10s 6ms/sample - loss: 0.6696 - acc: 0.6310 - val_loss: 0.5639 - val_acc: 0.7763\n",
      "Epoch 2/10\n",
      "1805/1805 [==============================] - 9s 5ms/sample - loss: 0.6573 - acc: 0.6399 - val_loss: 0.5737 - val_acc: 0.7763\n",
      "Epoch 3/10\n",
      "1805/1805 [==============================] - 9s 5ms/sample - loss: 0.6557 - acc: 0.6399 - val_loss: 0.5873 - val_acc: 0.7763\n",
      "Epoch 4/10\n",
      "1805/1805 [==============================] - 9s 5ms/sample - loss: 0.6559 - acc: 0.6399 - val_loss: 0.5563 - val_acc: 0.7763\n",
      "Epoch 5/10\n",
      "1805/1805 [==============================] - 9s 5ms/sample - loss: 0.6542 - acc: 0.6399 - val_loss: 0.5923 - val_acc: 0.7763\n",
      "Epoch 6/10\n",
      "1805/1805 [==============================] - 9s 5ms/sample - loss: 0.6545 - acc: 0.6399 - val_loss: 0.5569 - val_acc: 0.7763\n",
      "Epoch 7/10\n",
      "1805/1805 [==============================] - 10s 5ms/sample - loss: 0.6616 - acc: 0.6360 - val_loss: 0.5664 - val_acc: 0.7763\n",
      "Epoch 8/10\n",
      "1805/1805 [==============================] - 9s 5ms/sample - loss: 0.6510 - acc: 0.6360 - val_loss: 0.6121 - val_acc: 0.7529\n",
      "Epoch 9/10\n",
      "1805/1805 [==============================] - 9s 5ms/sample - loss: 0.6379 - acc: 0.6582 - val_loss: 0.6489 - val_acc: 0.6323\n",
      "Epoch 10/10\n",
      "1805/1805 [==============================] - 9s 5ms/sample - loss: 0.5869 - acc: 0.6931 - val_loss: 0.5424 - val_acc: 0.7568\n",
      "91.67 %     \n",
      "Train on 1805 samples, validate on 514 samples\n",
      "Epoch 1/10\n",
      "1805/1805 [==============================] - 10s 6ms/sample - loss: 0.6720 - acc: 0.6377 - val_loss: 0.6183 - val_acc: 0.7763\n",
      "Epoch 2/10\n",
      "1805/1805 [==============================] - 9s 5ms/sample - loss: 0.6577 - acc: 0.6399 - val_loss: 0.5832 - val_acc: 0.7763\n",
      "Epoch 3/10\n",
      "1805/1805 [==============================] - 10s 6ms/sample - loss: 0.6660 - acc: 0.6399 - val_loss: 0.5594 - val_acc: 0.7763\n",
      "Epoch 4/10\n",
      "1805/1805 [==============================] - 10s 6ms/sample - loss: 0.6567 - acc: 0.6399 - val_loss: 0.5965 - val_acc: 0.7763\n",
      "Epoch 5/10\n",
      "1805/1805 [==============================] - 10s 5ms/sample - loss: 0.6549 - acc: 0.6399 - val_loss: 0.6053 - val_acc: 0.7763\n",
      "Epoch 6/10\n",
      "1805/1805 [==============================] - 10s 5ms/sample - loss: 0.6559 - acc: 0.6399 - val_loss: 0.5756 - val_acc: 0.7763\n",
      "Epoch 7/10\n",
      "1805/1805 [==============================] - 10s 5ms/sample - loss: 0.6546 - acc: 0.6399 - val_loss: 0.5975 - val_acc: 0.7763\n",
      "Epoch 8/10\n",
      "1805/1805 [==============================] - 10s 5ms/sample - loss: 0.6554 - acc: 0.6399 - val_loss: 0.5804 - val_acc: 0.7763\n",
      "Epoch 9/10\n",
      "1805/1805 [==============================] - 10s 5ms/sample - loss: 0.6645 - acc: 0.6366 - val_loss: 0.5721 - val_acc: 0.7763\n",
      "Epoch 10/10\n",
      "1805/1805 [==============================] - 9s 5ms/sample - loss: 0.6556 - acc: 0.6399 - val_loss: 0.5678 - val_acc: 0.7763\n",
      "100.0 %     \n"
     ]
    }
   ],
   "source": [
    "n_layers = [1,2]\n",
    "n_units = [10,50,100]\n",
    "batch_sizes = [16]\n",
    "learning_rates = [0.01]\n",
    "epochs = 10\n",
    "results = pd.DataFrame(columns=['Mean Val Acc','History','Model', 'Layers', 'Nodes', 'Batch Size', 'Learning Rate'])\n",
    "n_configs = sum([len(n_units)**l for l in n_layers]) * len(batch_sizes) * len(learning_rates)\n",
    "ctr = 0\n",
    "verbose = 1\n",
    "print('Testing {} combinations. '.format(n_configs))\n",
    "for layers in n_layers:\n",
    "    # Ugliest code ever written, fix?\n",
    "    if layers == 1: node_configs = list(itertools.product(n_units))\n",
    "    elif layers == 2: node_configs = list(itertools.product(n_units, n_units))\n",
    "    elif layers == 3: node_configs = list(itertools.product(n_units, n_units, n_units))\n",
    "    elif layers == 4: node_configs = list(itertools.product(n_units, n_units, n_units, n_units))\n",
    "    for bs in batch_sizes: \n",
    "        for temp_nodes in node_configs: \n",
    "            for lr in learning_rates:\n",
    "                ctr += 1 \n",
    "                model = create_lstm(temp_nodes,lr)\n",
    "                results = train_and_format(x_train, y_train, x_val, y_val, bs, epochs, results, layers, temp_nodes,lr,verbose=verbose)\n",
    "                if verbose: \n",
    "                    print(\"{} %     \".format(round(100 * ctr / n_configs,2)))\n",
    "                else:\n",
    "                    print(\"{} %     \".format(round(100 * ctr / n_configs,2)),end='\\r')\n"
   ]
  },
  {
   "cell_type": "code",
   "execution_count": 12,
   "metadata": {},
   "outputs": [
    {
     "name": "stdout",
     "output_type": "stream",
     "text": [
      "Top 3 configs: \n"
     ]
    },
    {
     "data": {
      "text/html": [
       "<div>\n",
       "<style scoped>\n",
       "    .dataframe tbody tr th:only-of-type {\n",
       "        vertical-align: middle;\n",
       "    }\n",
       "\n",
       "    .dataframe tbody tr th {\n",
       "        vertical-align: top;\n",
       "    }\n",
       "\n",
       "    .dataframe thead th {\n",
       "        text-align: right;\n",
       "    }\n",
       "</style>\n",
       "<table border=\"1\" class=\"dataframe\">\n",
       "  <thead>\n",
       "    <tr style=\"text-align: right;\">\n",
       "      <th></th>\n",
       "      <th>Mean Val Acc</th>\n",
       "      <th>History</th>\n",
       "      <th>Model</th>\n",
       "      <th>Layers</th>\n",
       "      <th>Nodes</th>\n",
       "      <th>Batch Size</th>\n",
       "      <th>Learning Rate</th>\n",
       "    </tr>\n",
       "  </thead>\n",
       "  <tbody>\n",
       "    <tr>\n",
       "      <th>16_2_(100, 50)</th>\n",
       "      <td>0.601110</td>\n",
       "      <td>&lt;tensorflow.python.keras.callbacks.History obj...</td>\n",
       "      <td>&lt;tensorflow.python.keras.engine.sequential.Seq...</td>\n",
       "      <td>2</td>\n",
       "      <td>(100, 50)</td>\n",
       "      <td>16</td>\n",
       "      <td>0.01</td>\n",
       "    </tr>\n",
       "    <tr>\n",
       "      <th>16_1_(10,)</th>\n",
       "      <td>0.658589</td>\n",
       "      <td>&lt;tensorflow.python.keras.callbacks.History obj...</td>\n",
       "      <td>&lt;tensorflow.python.keras.engine.sequential.Seq...</td>\n",
       "      <td>1</td>\n",
       "      <td>(10,)</td>\n",
       "      <td>16</td>\n",
       "      <td>0.01</td>\n",
       "    </tr>\n",
       "    <tr>\n",
       "      <th>16_1_(50,)</th>\n",
       "      <td>0.682183</td>\n",
       "      <td>&lt;tensorflow.python.keras.callbacks.History obj...</td>\n",
       "      <td>&lt;tensorflow.python.keras.engine.sequential.Seq...</td>\n",
       "      <td>1</td>\n",
       "      <td>(50,)</td>\n",
       "      <td>16</td>\n",
       "      <td>0.01</td>\n",
       "    </tr>\n",
       "  </tbody>\n",
       "</table>\n",
       "</div>"
      ],
      "text/plain": [
       "                Mean Val Acc  \\\n",
       "16_2_(100, 50)      0.601110   \n",
       "16_1_(10,)          0.658589   \n",
       "16_1_(50,)          0.682183   \n",
       "\n",
       "                                                          History  \\\n",
       "16_2_(100, 50)  <tensorflow.python.keras.callbacks.History obj...   \n",
       "16_1_(10,)      <tensorflow.python.keras.callbacks.History obj...   \n",
       "16_1_(50,)      <tensorflow.python.keras.callbacks.History obj...   \n",
       "\n",
       "                                                            Model Layers  \\\n",
       "16_2_(100, 50)  <tensorflow.python.keras.engine.sequential.Seq...      2   \n",
       "16_1_(10,)      <tensorflow.python.keras.engine.sequential.Seq...      1   \n",
       "16_1_(50,)      <tensorflow.python.keras.engine.sequential.Seq...      1   \n",
       "\n",
       "                    Nodes Batch Size  Learning Rate  \n",
       "16_2_(100, 50)  (100, 50)         16           0.01  \n",
       "16_1_(10,)          (10,)         16           0.01  \n",
       "16_1_(50,)          (50,)         16           0.01  "
      ]
     },
     "execution_count": 12,
     "metadata": {},
     "output_type": "execute_result"
    }
   ],
   "source": [
    "k = 3\n",
    "print(\"Top {} configs: \".format(k))\n",
    "k_best = np.argpartition(results['Mean Val Acc'],-k)[-k:]\n",
    "results.iloc[k_best]"
   ]
  },
  {
   "cell_type": "code",
   "execution_count": 13,
   "metadata": {
    "scrolled": false
   },
   "outputs": [
    {
     "name": "stdout",
     "output_type": "stream",
     "text": [
      "Nodes: (100, 50), Mean validation accuracy: 0.6011100366962868\n"
     ]
    },
    {
     "data": {
      "image/png": "[encoded data removed]",
      "text/plain": [
       "<Figure size 432x288 with 2 Axes>"
      ]
     },
     "metadata": {
      "needs_background": "light"
     },
     "output_type": "display_data"
    },
    {
     "data": {
      "image/png": "[encoded data removed]",
      "text/plain": [
       "<Figure size 432x288 with 3 Axes>"
      ]
     },
     "metadata": {
      "needs_background": "light"
     },
     "output_type": "display_data"
    },
    {
     "name": "stderr",
     "output_type": "stream",
     "text": [
      "C:\\ProgramData\\Anaconda3\\envs\\nlpenv\\lib\\site-packages\\sklearn\\metrics\\_classification.py:1272: UndefinedMetricWarning: Precision and F-score are ill-defined and being set to 0.0 in labels with no predicted samples. Use `zero_division` parameter to control this behavior.\n",
      "  _warn_prf(average, modifier, msg_start, len(result))\n"
     ]
    },
    {
     "name": "stdout",
     "output_type": "stream",
     "text": [
      "              precision    recall  f1-score   support\n",
      "\n",
      "         0.0       0.79      1.00      0.88       203\n",
      "         1.0       0.00      0.00      0.00        53\n",
      "\n",
      "    accuracy                           0.79       256\n",
      "   macro avg       0.40      0.50      0.44       256\n",
      "weighted avg       0.63      0.79      0.70       256\n",
      "\n",
      "Nodes: (10,), Mean validation accuracy: 0.6585885378074302\n"
     ]
    },
    {
     "data": {
      "image/png": "[encoded data removed]",
      "text/plain": [
       "<Figure size 432x288 with 2 Axes>"
      ]
     },
     "metadata": {
      "needs_background": "light"
     },
     "output_type": "display_data"
    },
    {
     "data": {
      "image/png": "[encoded data removed]",
      "text/plain": [
       "<Figure size 432x288 with 3 Axes>"
      ]
     },
     "metadata": {
      "needs_background": "light"
     },
     "output_type": "display_data"
    },
    {
     "name": "stdout",
     "output_type": "stream",
     "text": [
      "              precision    recall  f1-score   support\n",
      "\n",
      "         0.0       0.79      1.00      0.88       203\n",
      "         1.0       0.00      0.00      0.00        53\n",
      "\n",
      "    accuracy                           0.79       256\n",
      "   macro avg       0.40      0.50      0.44       256\n",
      "weighted avg       0.63      0.79      0.70       256\n",
      "\n",
      "Nodes: (50,), Mean validation accuracy: 0.6821833205390172\n"
     ]
    },
    {
     "data": {
      "image/png": "[encoded data removed]",
      "text/plain": [
       "<Figure size 432x288 with 2 Axes>"
      ]
     },
     "metadata": {
      "needs_background": "light"
     },
     "output_type": "display_data"
    },
    {
     "data": {
      "image/png": "[encoded data removed]",
      "text/plain": [
       "<Figure size 432x288 with 3 Axes>"
      ]
     },
     "metadata": {
      "needs_background": "light"
     },
     "output_type": "display_data"
    },
    {
     "name": "stdout",
     "output_type": "stream",
     "text": [
      "              precision    recall  f1-score   support\n",
      "\n",
      "         0.0       0.79      1.00      0.88       203\n",
      "         1.0       0.00      0.00      0.00        53\n",
      "\n",
      "    accuracy                           0.79       256\n",
      "   macro avg       0.40      0.50      0.44       256\n",
      "weighted avg       0.63      0.79      0.70       256\n",
      "\n"
     ]
    }
   ],
   "source": [
    "for i in k_best: \n",
    "    print(f\"Nodes: {results.iloc[i]['Nodes']}, Mean validation accuracy: {results.iloc[i]['Mean Val Acc']}\")\n",
    "    plt.subplot(121)\n",
    "    plt.plot(results.iloc[i]['History'].history['val_loss'],label='Val loss')\n",
    "    plt.plot(results.iloc[i]['History'].history['loss'],label='Training loss')\n",
    "    plt.legend()\n",
    "    plt.subplot(122)\n",
    "    plt.plot(results.iloc[i]['History'].history['val_acc'],label='Val acc')\n",
    "    plt.plot(results.iloc[i]['History'].history['acc'],label='Training acc')\n",
    "    plt.legend()\n",
    "    plt.show()\n",
    "    results.iloc[i]['Model'].evaluate(x_test,y_test,verbose=0)\n",
    "    # Calculate the predictions on the test set \n",
    "    y_test_pred_prob = model.predict(x_test)\n",
    "    y_test_pred = np.zeros(len(y_test))\n",
    "    for i,row in enumerate(y_test_pred_prob): \n",
    "        y_test_pred[i] = np.argmax(row)\n",
    "    conf_mat = confusion_matrix(y_test,y_test_pred,normalize='pred')\n",
    "    plt.subplot(121)\n",
    "    ax = sn.heatmap(conf_mat)\n",
    "    ax.set_ylabel(\"True values\")\n",
    "    ax.set_xlabel(\"Predicted values\")\n",
    "    Utilities.plot_binary_predictions(y_test_pred,subplot=122,show=True)\n",
    "    print(classification_report(y_test,y_test_pred))"
   ]
  },
  {
   "cell_type": "code",
   "execution_count": null,
   "metadata": {},
   "outputs": [],
   "source": []
  },
  {
   "cell_type": "code",
   "execution_count": null,
   "metadata": {},
   "outputs": [],
   "source": []
  },
  {
   "cell_type": "code",
   "execution_count": null,
   "metadata": {},
   "outputs": [],
   "source": []
  },
  {
   "cell_type": "code",
   "execution_count": null,
   "metadata": {},
   "outputs": [],
   "source": []
  },
  {
   "cell_type": "code",
   "execution_count": null,
   "metadata": {},
   "outputs": [],
   "source": []
  }
 ],
 "metadata": {
  "kernelspec": {
   "display_name": "Python 3",
   "language": "python",
   "name": "python3"
  },
  "language_info": {
   "codemirror_mode": {
    "name": "ipython",
    "version": 3
   },
   "file_extension": ".py",
   "mimetype": "text/x-python",
   "name": "python",
   "nbconvert_exporter": "python",
   "pygments_lexer": "ipython3",
   "version": "3.7.6"
  }
 },
 "nbformat": 4,
 "nbformat_minor": 2
}
