{
 "cells": [
  {
   "cell_type": "code",
   "execution_count": 1,
   "metadata": {},
   "outputs": [],
   "source": [
    "from sentence_transformers import SentenceTransformer\n",
    "import tensorflow as tf\n",
    "from tensorflow.keras import backend as K\n",
    "from tensorflow.keras.layers import Dense, Dropout, Embedding, Masking, Lambda, Layer\n",
    "from tensorflow.keras.models import Sequential\n",
    "from tensorflow.keras import optimizers\n",
    "from sklearn.metrics import confusion_matrix, classification_report\n",
    "import pandas as pd\n",
    "import numpy as np\n",
    "import seaborn as sn\n",
    "import matplotlib.pyplot as plt\n",
    "from pathlib import Path\n",
    "import os\n",
    "import itertools\n",
    "from importnb import Notebook\n",
    "with Notebook(): \n",
    "    import Utilities"
   ]
  },
  {
   "cell_type": "code",
   "execution_count": 2,
   "metadata": {},
   "outputs": [],
   "source": [
    "# Specify the path to OneDrive\n",
    "ONEDRIVE_PATH = Path(r\"C:\\Users\\gusta\\Kidbrooke Advisory Ab\\KidbrookeOneDrive - Gustaf Backman exjobb\")"
   ]
  },
  {
   "cell_type": "code",
   "execution_count": 3,
   "metadata": {},
   "outputs": [],
   "source": [
    "sbert_model = SentenceTransformer('bert-base-nli-mean-tokens')"
   ]
  },
  {
   "cell_type": "code",
   "execution_count": 4,
   "metadata": {},
   "outputs": [],
   "source": [
    "# Load data \n",
    "news_path = ONEDRIVE_PATH / \"Input Data/financial_headlines_20061020-20131119.pkl\"\n",
    "data = pd.DataFrame(pd.read_pickle(news_path))\n",
    "data.set_index('date',inplace=True)"
   ]
  },
  {
   "cell_type": "code",
   "execution_count": 6,
   "metadata": {},
   "outputs": [
    {
     "name": "stdout",
     "output_type": "stream",
     "text": [
      "Loaded previously saved embeddings.\n"
     ]
    }
   ],
   "source": [
    "path = ONEDRIVE_PATH / \"Input Data/all_reuters_news_embedded_bert_base_nli_mean.npy\"\n",
    "if os.path.exists(path):\n",
    "    x = np.load(path)\n",
    "    embed_dim = x.shape[-1]\n",
    "    max_nbr_titles = x.shape[-2]\n",
    "    print(\"Loaded previously saved embeddings.\")\n",
    "else:\n",
    "    texts = []\n",
    "    for i,date in enumerate(data.index.drop_duplicates()): \n",
    "        if i % 100: \n",
    "            print(\"{} % ...\".format(round(100 * i / len(data.index.drop_duplicates()),3)),end='\\r')\n",
    "        temp_titles = []\n",
    "        for title in data.loc[date].values:\n",
    "            temp_titles.append(title[0])\n",
    "        texts.append(sbert_model.encode(temp_titles))\n",
    "    print(\"100 % ...\")\n",
    "    max_nbr_titles = max([len(text) for text in texts])\n",
    "    embed_dim = texts[0][0].shape[0]\n",
    "    x = np.zeros((n,max_nbr_titles,embed_dim))\n",
    "    # Include embeddings in matrix and pad with (tensors) of zeros. \n",
    "    for i,titles in enumerate(texts): \n",
    "        for j,title in enumerate(titles): \n",
    "            x[i,j] = title\n",
    "    np.save(path,x)"
   ]
  },
  {
   "cell_type": "code",
   "execution_count": 110,
   "metadata": {},
   "outputs": [],
   "source": [
    "config = {\n",
    "    'embed_dim': embed_dim,    # Dimensions to use for the word embedding\n",
    "    'max_len': max_nbr_titles,\n",
    "    'lookback': 1,        # How far back to collect data in the recurrent layer (days)\n",
    "    'delay': 1,           # How far ahead to predict data (days)\n",
    "    'p': 1,               # Order of the AR-part of the model\n",
    "    'd': 1,               # Integrated order\n",
    "    'q': 1,               # Included moving average terms \n",
    "    'train_part' : 0.8,   # Part of data to be used for training\n",
    "    'val_part' : 0.1,     # Part of data to be used for validation\n",
    "    'test_part' : 0.1,    # Part of data to be used for testing\n",
    "    'series': '1 YEAR',   # What series we currently want to predict, '1 YEAR', '3 YEAR' or 'S&P'\n",
    "    'start_date': '2006-10-20',\n",
    "    'end_date': '2013-11-19',\n",
    "}"
   ]
  },
  {
   "cell_type": "code",
   "execution_count": 111,
   "metadata": {},
   "outputs": [],
   "source": [
    "y = Utilities.load_direction_labels(config)\n",
    "\n",
    "# Remove last row of the x-matrix, since there's no label for that entry\n",
    "if x.shape[0] != len(y): \n",
    "    x = x[:-1]"
   ]
  },
  {
   "cell_type": "code",
   "execution_count": 112,
   "metadata": {},
   "outputs": [
    {
     "name": "stdout",
     "output_type": "stream",
     "text": [
      "Shape of x_train: (2322, 104, 768)\n",
      "Shape of y_train: (2322,)\n",
      "Shape of x_test: (259, 104, 768)\n",
      "Shape of y_test: (259,)\n"
     ]
    }
   ],
   "source": [
    "(x_train, y_train), (x_test, y_test) = Utilities.shuffle_and_partition(x,y,test_part = config['test_part'])\n",
    "print(\"Shape of x_train:\",x_train.shape)\n",
    "print(\"Shape of y_train:\",y_train.shape)\n",
    "print(\"Shape of x_test:\",x_test.shape)\n",
    "print(\"Shape of y_test:\",y_test.shape)"
   ]
  },
  {
   "cell_type": "code",
   "execution_count": 113,
   "metadata": {},
   "outputs": [],
   "source": [
    "# Create functions for custom 'MergeEmedding'-layer which averages \n",
    "# the embeddings over all words after the embedding layer \n",
    "\n",
    "def merge_embeddings(x):\n",
    "    # Sum the embeddings for every word slot. If this is zero, there is no word in this slot\n",
    "    non_zero = K.sum(K.cast(K.not_equal(K.sum(x,axis=2),0),tf.float32))\n",
    "    return K.sum(x,axis=1) / non_zero\n",
    "\n",
    "\n",
    "def merge_output_shape(input_shape):\n",
    "    return (input_shape[0], input_shape[2])"
   ]
  },
  {
   "cell_type": "code",
   "execution_count": 114,
   "metadata": {
    "scrolled": false
   },
   "outputs": [],
   "source": [
    "def create_nn(n_nodes, lr=0.001):\n",
    "    # n_nodes is a list with the number of nodes per layer, starting from the input \n",
    "    model = Sequential()\n",
    "    model.add(Lambda(merge_embeddings, merge_output_shape, input_shape=x_train.shape[1:]))\n",
    "    for n in n_nodes:\n",
    "        model.add(Dense(n,activation='relu'))\n",
    "    model.add(Dense(1, activation='sigmoid'))\n",
    "    rms = optimizers.RMSprop(learning_rate=lr)\n",
    "    model.compile(optimizer=rms, loss='binary_crossentropy', metrics=['acc'])\n",
    "    return model\n",
    "\n",
    "def train_and_format(model,x,y,bs,epochs, results, layers, nodes,lr,verbose):\n",
    "    name = f\"{bs}_{layers}_{nodes}\"\n",
    "    temp_history = model.fit(x, y, batch_size=bs, validation_split=0.2, epochs = epochs,verbose=verbose)\n",
    "    return results.append(pd.Series([np.mean(temp_history.history['val_acc'][-5:]),\n",
    "                                     temp_history,model,\n",
    "                                     layers,nodes,\n",
    "                                     bs, lr],name=name,\n",
    "                                    index=['Mean Val Acc','History','Model','Layers','Nodes','Batch Size','Learning Rate']))\n",
    "\n",
    "def continue_training(results_row,x_train,y_train, epochs, validation_split=0.2, verbose=0): \n",
    "    temp_history = results_row['Model'].fit(x_train, y_train, validation_split=validation_split, epochs=epochs, verbose=verbose)\n",
    "    [results_row['History'].history['loss'].append(val) for val in temp_history.history['loss']]\n",
    "    [results_row['History'].history['val_loss'].append(val) for val in temp_history.history['val_loss']]\n",
    "    [results_row['History'].history['acc'].append(val) for val in temp_history.history['acc']]\n",
    "    [results_row['History'].history['val_acc'].append(val) for val in temp_history.history['val_acc']]\n",
    "    \n",
    "    \n",
    "    "
   ]
  },
  {
   "cell_type": "code",
   "execution_count": 117,
   "metadata": {},
   "outputs": [
    {
     "name": "stdout",
     "output_type": "stream",
     "text": [
      "Testing 300 combinations. \n",
      "100.0 %     \r"
     ]
    }
   ],
   "source": [
    "n_layers = [2,3]\n",
    "n_nodes = [25, 50, 100, 300, 500]\n",
    "learning_rates = [0.0001]\n",
    "batch_sizes = [12,36]\n",
    "verbose = 0\n",
    "epochs = 30\n",
    "results = pd.DataFrame(columns=['Mean Val Acc','History','Model', 'Layers', 'Nodes','Batch Size','Learning Rate'])\n",
    "n_configs = sum([len(n_nodes)**l for l in n_layers]) * len(batch_sizes) * len(learning_rates)\n",
    "ctr = 0\n",
    "print('Testing {} combinations. '.format(n_configs))\n",
    "for layers in n_layers:\n",
    "    if layers == 1: node_configs = list(itertools.product(n_nodes))\n",
    "    elif layers == 2: node_configs = list(itertools.product(n_nodes, n_nodes))\n",
    "    elif layers == 3: node_configs = list(itertools.product(n_nodes, n_nodes, n_nodes))\n",
    "    elif layers == 4: node_configs = list(itertools.product(n_nodes, n_nodes, n_nodes, n_nodes))\n",
    "    for bs in batch_sizes: \n",
    "        for temp_nodes in node_configs:\n",
    "            for lr in learning_rates: \n",
    "                ctr += 1 \n",
    "                model = create_nn(temp_nodes, lr)\n",
    "                results = train_and_format(model, x_train, y_train, bs, epochs, results, layers, temp_nodes, lr,verbose=verbose)\n",
    "                print(\"{} %     \".format(round(100 * ctr / n_configs,2)),end='\\r')\n",
    "            \n",
    "            "
   ]
  },
  {
   "cell_type": "code",
   "execution_count": 118,
   "metadata": {},
   "outputs": [
    {
     "name": "stdout",
     "output_type": "stream",
     "text": [
      "Top 3 configs: \n"
     ]
    },
    {
     "data": {
      "text/html": [
       "<div>\n",
       "<style scoped>\n",
       "    .dataframe tbody tr th:only-of-type {\n",
       "        vertical-align: middle;\n",
       "    }\n",
       "\n",
       "    .dataframe tbody tr th {\n",
       "        vertical-align: top;\n",
       "    }\n",
       "\n",
       "    .dataframe thead th {\n",
       "        text-align: right;\n",
       "    }\n",
       "</style>\n",
       "<table border=\"1\" class=\"dataframe\">\n",
       "  <thead>\n",
       "    <tr style=\"text-align: right;\">\n",
       "      <th></th>\n",
       "      <th>Mean Val Acc</th>\n",
       "      <th>History</th>\n",
       "      <th>Model</th>\n",
       "      <th>Layers</th>\n",
       "      <th>Nodes</th>\n",
       "      <th>Batch Size</th>\n",
       "      <th>Learning Rate</th>\n",
       "    </tr>\n",
       "  </thead>\n",
       "  <tbody>\n",
       "    <tr>\n",
       "      <th>12_3_(100, 25, 300)</th>\n",
       "      <td>0.705806</td>\n",
       "      <td>&lt;tensorflow.python.keras.callbacks.History obj...</td>\n",
       "      <td>&lt;tensorflow.python.keras.engine.sequential.Seq...</td>\n",
       "      <td>3</td>\n",
       "      <td>(100, 25, 300)</td>\n",
       "      <td>12</td>\n",
       "      <td>0.0001</td>\n",
       "    </tr>\n",
       "    <tr>\n",
       "      <th>12_3_(50, 500, 25)</th>\n",
       "      <td>0.705806</td>\n",
       "      <td>&lt;tensorflow.python.keras.callbacks.History obj...</td>\n",
       "      <td>&lt;tensorflow.python.keras.engine.sequential.Seq...</td>\n",
       "      <td>3</td>\n",
       "      <td>(50, 500, 25)</td>\n",
       "      <td>12</td>\n",
       "      <td>0.0001</td>\n",
       "    </tr>\n",
       "    <tr>\n",
       "      <th>12_3_(50, 500, 50)</th>\n",
       "      <td>0.705806</td>\n",
       "      <td>&lt;tensorflow.python.keras.callbacks.History obj...</td>\n",
       "      <td>&lt;tensorflow.python.keras.engine.sequential.Seq...</td>\n",
       "      <td>3</td>\n",
       "      <td>(50, 500, 50)</td>\n",
       "      <td>12</td>\n",
       "      <td>0.0001</td>\n",
       "    </tr>\n",
       "  </tbody>\n",
       "</table>\n",
       "</div>"
      ],
      "text/plain": [
       "                     Mean Val Acc  \\\n",
       "12_3_(100, 25, 300)      0.705806   \n",
       "12_3_(50, 500, 25)       0.705806   \n",
       "12_3_(50, 500, 50)       0.705806   \n",
       "\n",
       "                                                               History  \\\n",
       "12_3_(100, 25, 300)  <tensorflow.python.keras.callbacks.History obj...   \n",
       "12_3_(50, 500, 25)   <tensorflow.python.keras.callbacks.History obj...   \n",
       "12_3_(50, 500, 50)   <tensorflow.python.keras.callbacks.History obj...   \n",
       "\n",
       "                                                                 Model Layers  \\\n",
       "12_3_(100, 25, 300)  <tensorflow.python.keras.engine.sequential.Seq...      3   \n",
       "12_3_(50, 500, 25)   <tensorflow.python.keras.engine.sequential.Seq...      3   \n",
       "12_3_(50, 500, 50)   <tensorflow.python.keras.engine.sequential.Seq...      3   \n",
       "\n",
       "                              Nodes Batch Size  Learning Rate  \n",
       "12_3_(100, 25, 300)  (100, 25, 300)         12         0.0001  \n",
       "12_3_(50, 500, 25)    (50, 500, 25)         12         0.0001  \n",
       "12_3_(50, 500, 50)    (50, 500, 50)         12         0.0001  "
      ]
     },
     "execution_count": 118,
     "metadata": {},
     "output_type": "execute_result"
    }
   ],
   "source": [
    "k = 3\n",
    "print(\"Top {} configs: \".format(k))\n",
    "k_best = np.argpartition(results['Mean Val Acc'],-k)[-k:]\n",
    "results.iloc[k_best]"
   ]
  },
  {
   "cell_type": "code",
   "execution_count": 119,
   "metadata": {
    "scrolled": false
   },
   "outputs": [
    {
     "data": {
      "image/png": "[encoded data removed]",
      "text/plain": [
       "<Figure size 432x288 with 1 Axes>"
      ]
     },
     "metadata": {
      "needs_background": "light"
     },
     "output_type": "display_data"
    },
    {
     "data": {
      "image/png": "[encoded data removed]",
      "text/plain": [
       "<Figure size 432x288 with 1 Axes>"
      ]
     },
     "metadata": {
      "needs_background": "light"
     },
     "output_type": "display_data"
    },
    {
     "data": {
      "image/png": "[encoded data removed]",
      "text/plain": [
       "<Figure size 432x288 with 2 Axes>"
      ]
     },
     "metadata": {
      "needs_background": "light"
     },
     "output_type": "display_data"
    },
    {
     "data": {
      "image/png": "[encoded data removed]",
      "text/plain": [
       "<Figure size 432x288 with 1 Axes>"
      ]
     },
     "metadata": {
      "needs_background": "light"
     },
     "output_type": "display_data"
    },
    {
     "name": "stdout",
     "output_type": "stream",
     "text": [
      "              precision    recall  f1-score   support\n",
      "\n",
      "         0.0       0.66      0.99      0.80       172\n",
      "         1.0       0.00      0.00      0.00        87\n",
      "\n",
      "    accuracy                           0.66       259\n",
      "   macro avg       0.33      0.50      0.40       259\n",
      "weighted avg       0.44      0.66      0.53       259\n",
      "\n",
      "12_3_(100, 25, 300)\n"
     ]
    },
    {
     "data": {
      "image/png": "[encoded data removed]",
      "text/plain": [
       "<Figure size 432x288 with 1 Axes>"
      ]
     },
     "metadata": {
      "needs_background": "light"
     },
     "output_type": "display_data"
    },
    {
     "data": {
      "image/png": "[encoded data removed]",
      "text/plain": [
       "<Figure size 432x288 with 1 Axes>"
      ]
     },
     "metadata": {
      "needs_background": "light"
     },
     "output_type": "display_data"
    },
    {
     "data": {
      "image/png": "[encoded data removed]",
      "text/plain": [
       "<Figure size 432x288 with 2 Axes>"
      ]
     },
     "metadata": {
      "needs_background": "light"
     },
     "output_type": "display_data"
    },
    {
     "data": {
      "image/png": "[encoded data removed]",
      "text/plain": [
       "<Figure size 432x288 with 1 Axes>"
      ]
     },
     "metadata": {
      "needs_background": "light"
     },
     "output_type": "display_data"
    },
    {
     "name": "stdout",
     "output_type": "stream",
     "text": [
      "              precision    recall  f1-score   support\n",
      "\n",
      "         0.0       0.66      0.99      0.80       172\n",
      "         1.0       0.00      0.00      0.00        87\n",
      "\n",
      "    accuracy                           0.66       259\n",
      "   macro avg       0.33      0.50      0.40       259\n",
      "weighted avg       0.44      0.66      0.53       259\n",
      "\n",
      "12_3_(50, 500, 25)\n"
     ]
    },
    {
     "data": {
      "image/png": "[encoded data removed]",
      "text/plain": [
       "<Figure size 432x288 with 1 Axes>"
      ]
     },
     "metadata": {
      "needs_background": "light"
     },
     "output_type": "display_data"
    },
    {
     "data": {
      "image/png": "[encoded data removed]",
      "text/plain": [
       "<Figure size 432x288 with 1 Axes>"
      ]
     },
     "metadata": {
      "needs_background": "light"
     },
     "output_type": "display_data"
    },
    {
     "data": {
      "image/png": "[encoded data removed]",
      "text/plain": [
       "<Figure size 432x288 with 2 Axes>"
      ]
     },
     "metadata": {
      "needs_background": "light"
     },
     "output_type": "display_data"
    },
    {
     "data": {
      "image/png": "[encoded data removed]",
      "text/plain": [
       "<Figure size 432x288 with 1 Axes>"
      ]
     },
     "metadata": {
      "needs_background": "light"
     },
     "output_type": "display_data"
    },
    {
     "name": "stdout",
     "output_type": "stream",
     "text": [
      "              precision    recall  f1-score   support\n",
      "\n",
      "         0.0       0.66      0.99      0.80       172\n",
      "         1.0       0.00      0.00      0.00        87\n",
      "\n",
      "    accuracy                           0.66       259\n",
      "   macro avg       0.33      0.50      0.40       259\n",
      "weighted avg       0.44      0.66      0.53       259\n",
      "\n",
      "12_3_(50, 500, 50)\n"
     ]
    }
   ],
   "source": [
    "for i in k_best: \n",
    "    plt.plot(results.iloc[i]['History'].history['val_loss'],label='Val loss')\n",
    "    plt.plot(results.iloc[i]['History'].history['loss'],label='Training loss')\n",
    "    plt.legend()\n",
    "    plt.show()\n",
    "    plt.plot(results.iloc[i]['History'].history['val_acc'],label='Val acc')\n",
    "    plt.plot(results.iloc[i]['History'].history['acc'],label='Training acc')\n",
    "    plt.legend()\n",
    "    plt.show()\n",
    "    model = results.iloc[i]['Model']\n",
    "    model.evaluate(x_test,y_test,verbose=0)\n",
    "    y_test_pred = np.round(model.predict(x_test))\n",
    "    conf_mat = confusion_matrix(y_test,y_test_pred,normalize='pred')\n",
    "    ax = sn.heatmap(conf_mat,)\n",
    "    ax.set_ylabel(\"True values\")\n",
    "    ax.set_xlabel(\"Predicted values\")\n",
    "    plt.show()\n",
    "    y_sums = np.zeros(2)\n",
    "    y_sums[0] = sum(y_test_pred == 0)\n",
    "    y_sums[1] = sum(y_test_pred == 1)\n",
    "    plt.bar([0,1],y_sums,label='Number of preds')\n",
    "    plt.xticks([0,1])\n",
    "    plt.legend()\n",
    "    plt.show()\n",
    "    print(classification_report(y_test, y_test_pred))\n",
    "    print(results.index[i])\n"
   ]
  },
  {
   "cell_type": "code",
   "execution_count": 69,
   "metadata": {},
   "outputs": [],
   "source": [
    "for k in k_best:\n",
    "    continue_training(results.iloc[k],x_train, y_train, epochs=50,verbose=1)"
   ]
  },
  {
   "cell_type": "code",
   "execution_count": 122,
   "metadata": {},
   "outputs": [
    {
     "name": "stdout",
     "output_type": "stream",
     "text": [
      "PREDICTION: \n",
      "0: 258\n",
      "1: 1\n",
      "ACTUAL VALUES: \n",
      "0: 172\n",
      "1: 87\n"
     ]
    }
   ],
   "source": [
    "print(\"PREDICTION: \")\n",
    "print(\"0:\",sum(y_test_pred == 0)[0])\n",
    "print(\"1:\",sum(y_test_pred == 1)[0])\n",
    "print(\"ACTUAL VALUES: \")\n",
    "print(\"0:\",sum(y_test == 0))\n",
    "print(\"1:\",sum(y_test == 1))"
   ]
  },
  {
   "cell_type": "code",
   "execution_count": null,
   "metadata": {},
   "outputs": [],
   "source": []
  },
  {
   "cell_type": "code",
   "execution_count": null,
   "metadata": {},
   "outputs": [],
   "source": []
  },
  {
   "cell_type": "code",
   "execution_count": null,
   "metadata": {},
   "outputs": [],
   "source": []
  },
  {
   "cell_type": "code",
   "execution_count": null,
   "metadata": {},
   "outputs": [],
   "source": []
  },
  {
   "cell_type": "code",
   "execution_count": null,
   "metadata": {},
   "outputs": [],
   "source": []
  },
  {
   "cell_type": "code",
   "execution_count": null,
   "metadata": {},
   "outputs": [],
   "source": []
  },
  {
   "cell_type": "code",
   "execution_count": null,
   "metadata": {},
   "outputs": [],
   "source": []
  },
  {
   "cell_type": "code",
   "execution_count": null,
   "metadata": {},
   "outputs": [],
   "source": []
  },
  {
   "cell_type": "code",
   "execution_count": null,
   "metadata": {},
   "outputs": [],
   "source": []
  },
  {
   "cell_type": "code",
   "execution_count": 13,
   "metadata": {},
   "outputs": [],
   "source": [
    "test_sents = [\n",
    "    \"Veberöd Mushroom Factory claims quality award.\"\n",
    "    \"The economy is dead.\",\n",
    "    \"The American President has committed suicide.\", \n",
    "    \"Worst crisis in 1000 years. \",\n",
    "    \"Corona virus stopps all production in 100 countries.\",\n",
    "    \"BEST DAY EVER!\",\n",
    "    \"Amazing comeback from american stocks\",\n",
    "    \"Truly awesome day on the market today.\"\n",
    "]\n",
    "enc_sents = sbert_model.encode(test_sents)\n",
    "x_inp = np.zeros((1, config['max_len'], config['embed_dim'])) \n",
    "for i,row in enumerate(enc_sents):\n",
    "    x_inp[0,i] = row\n"
   ]
  },
  {
   "cell_type": "code",
   "execution_count": 14,
   "metadata": {},
   "outputs": [],
   "source": [
    "y_pred = model.predict(x_inp)"
   ]
  },
  {
   "cell_type": "code",
   "execution_count": 15,
   "metadata": {},
   "outputs": [
    {
     "data": {
      "text/plain": [
       "array([[0.31967512]], dtype=float32)"
      ]
     },
     "execution_count": 15,
     "metadata": {},
     "output_type": "execute_result"
    }
   ],
   "source": [
    "y_pred"
   ]
  },
  {
   "cell_type": "code",
   "execution_count": 76,
   "metadata": {},
   "outputs": [
    {
     "name": "stdout",
     "output_type": "stream",
     "text": [
      "Loaded previously constructed labels. \n"
     ]
    }
   ],
   "source": [
    "reg = Utilities.load_regression_labels(config)"
   ]
  },
  {
   "cell_type": "code",
   "execution_count": 78,
   "metadata": {},
   "outputs": [
    {
     "data": {
      "text/plain": [
       "691"
      ]
     },
     "execution_count": 78,
     "metadata": {},
     "output_type": "execute_result"
    }
   ],
   "source": [
    "np.argmin(reg)"
   ]
  },
  {
   "cell_type": "code",
   "execution_count": 85,
   "metadata": {},
   "outputs": [
    {
     "data": {
      "text/plain": [
       "Timestamp('2008-09-13 00:00:00')"
      ]
     },
     "execution_count": 85,
     "metadata": {},
     "output_type": "execute_result"
    }
   ],
   "source": [
    "data.index.drop_duplicates()[692]"
   ]
  },
  {
   "cell_type": "code",
   "execution_count": 88,
   "metadata": {},
   "outputs": [
    {
     "name": "stdout",
     "output_type": "stream",
     "text": [
      "Cisco to outline long-term growth strategy next week\n",
      "Health Net to pay $3.6 million in fine: report\n",
      "J&J Vice Chairman Poon to retire in March\n",
      "JPMorgan not in talks to buy WaMu: report\n",
      "AIG could hold investor call as soon as Monday: source\n",
      "Alitalia unions get extra day to salvage bid\n",
      "Italian investors say Alitalia talks can't go on\n",
      "Alitalia to start layoff process Friday: union\n",
      "Alitalia receives offers for maintenance, cargo\n",
      "Pope prays for Alitalia as 3rd rescue bid falters\n",
      "TIMELINE: Alitalia's troubled sale process\n",
      "Amazon.com hires Microsoft exec: NY Post\n",
      "Wagoner tells Congress: \"not seeking bailouts\"\n",
      "GM CEO says automakers not seeking bailout\n",
      "Bank of America likely to win Lehman: analyst Bove\n",
      "Mexico's Cemex shares plunge on outlook cut\n",
      "Chrysler sees U.S. auto market gains toward end 2009\n",
      "GM to provide $10.6 billion to support Delphi\n",
      "Deutsche Bank to swoop on $13 billion Postbank\n",
      "Fidelity settles N.Y. and Mass. auction rate probes\n",
      "TIMELINE: Recent German bank sector mergers\n",
      "Lehman-owned student lender to shut HQ: report\n",
      "Lehman employees to be paid more than firm is worth\n",
      "Lehman's Fuld suffers wealth hit as shares fall\n",
      "FACTBOX: A brief history of Lehman Brothers\n",
      "Lehman shares slide on Paulson bailout reluctance\n",
      "KDB CEO says no talks ongoing with Lehman\n",
      "Lehman's worries spill over to nearby businesses\n",
      "NYC economy could take hit as Lehman falters\n",
      "Lehman credit ratings may be raised if acquired: S&P\n",
      "S&P analyst says does not expect Lehman to fail\n",
      "U.S. trying to avoid government money in Lehman deal: Shelby\n",
      "Lehman a test of government will on bailouts\n",
      "TIMELINE: A brief history of Lehman Brothers\n",
      "Paulson \"adamant\" no goverment funds for Lehman: source\n",
      "Financial industry dealing with \"challenges\": WHouse\n",
      "Wall St. ends flat amid Lehman vigil; oil a boost\n",
      "Merrill now in shorts' sights as Lehman crumbles\n",
      "FACTBOX: Terms of Deutsche Bank deal for Postbank\n",
      "Deutsche Bank swoops on $13 billion Postbank\n",
      "Ike bears down on U.S. oil hub, pump prices rise\n",
      "FACTBOX: Ike shuts 22 pct of U.S. refining capacity\n",
      "GM, Ford shares rally more on loan prospects\n",
      "Retail sales off but optimism rises\n",
      "Producer prices biggest dip in almost two years\n",
      "Retail sales fall for second straight month\n",
      "INSTANT VIEW: Retail sales, producer prices fall\n",
      "Consumer mood hits 8-month high in September: survey\n",
      "INSTANT VIEW: Consumer mood hits 8-month high-UMich\n",
      "Branson says to spend millions to block BA/AA deal\n",
      "Ford's Volvo Car says to cut more staff\n",
      "Walgreen offers to buy Longs for $3 bln including debt\n",
      "WaMu CEO gets $7.5 million bonus, stock options\n",
      "WaMu outlook weak but soothes some investors\n",
      "Reports conflict on JPMorgan talks with WaMu\n",
      "Britain's XL in administration, thousands stranded\n",
      "Berlusconi calls on unions as Alitalia faces abyss\n",
      "Bankruptcy chief calls urgent Alitalia union talks\n",
      "Wide financial sector fears to drive market\n",
      "GM to provide $10.6 billion to support Delphi\n",
      "EADS denies backing out of U.S. tanker contest\n",
      "Regulators set to review Fannie, Freddie exit pay\n",
      "India's Nano car deadlock continues as talks fail\n",
      "FACTBOX: A brief history of Lehman Brothers\n",
      "Fed's options limited if Lehman talks fail\n",
      "Lehman fate in balance as talks set to resume on Sunday\n",
      "NY Fed says Lehman meeting ends, to resume Sunday\n",
      "Lehman's worries spill over to nearby businesses\n",
      "McCain adviser: avoid taxpayer bailout for Lehman\n",
      "Obama favors \"private solution\" to Lehman woes: aide\n",
      "Obama and McCain favor private solution to Lehman woes\n",
      "Lehman a test of government will on bailouts\n",
      "Walgreen offers to buy Longs for $3 billion including debt\n",
      "AIG to sell assets including aircraft leasing: report\n",
      "AIG seeking capital from KKR, Flowers: report\n",
      "FACTBOX: \"Cursed\" Alitalia, Pope's airline, on the ropes\n",
      "Italy seeks last-minute deal to save Alitalia\n",
      "TIMELINE: Alitalia's troubled sale process\n",
      "Bank of America and Merrill Lynch in merger talks: report\n",
      "Boeing CEO McNerney gambles on strike\n",
      "Wide financial sector fears to drive market\n",
      "Ebay may cut 1,500 jobs: Barron's\n",
      "Retailers grapple with impacts of Hurricane Ike\n",
      "Lachlan Murdoch Jakarta trip spurs Riady deal talk\n",
      "Lehman CEO Fuld's hubris contributed to meltdown\n",
      "Bank of America no longer bidding for Lehman: report\n",
      "Lehman set for three-way break up: paper\n",
      "Lehman's woes heighten worries about other firms\n",
      "Fed's options limited if Lehman talks fail\n",
      "U.S. bank rescue fund would provide $50 bln in loans: report\n",
      "Lehman may face failure, Merrill may be bought\n",
      "Lehman's worries spill over to nearby businesses\n",
      "FACTBOX: Possible outcomes for Lehman Brothers\n",
      "Source repeats Paulson wants no government funds for Lehman\n",
      "Pimco's Gross sees tsunami of risk if Lehman fails\n",
      "Obama, McCain favor private solution to Lehman woes\n",
      "TIMELINE: U.S. financial rescues, failures in last century\n",
      "Derivatives market trades on Sunday to cut Lehman risk\n",
      "Lehman office joins New York City tourist circuit\n",
      "Website says BofA will lead Lehman buyout\n",
      "White House declines comment on Lehman developments\n",
      "Oil drops to six-month low in Ike aftermath\n",
      "Futures plummet amid uncertainty about U.S. banks\n",
      "Stressed markets eye Fed, inflation\n",
      "Bank of America in talks to buy Merrill\n",
      "FACTBOX: Five facts about Merrill Lynch and Bank of America\n",
      "UBS to write down extra $5 billion in H2: report\n",
      "Fed likely to keep rates steady, signal on hold\n",
      "Greenspan: Other big U.S. finance firms may fail\n",
      "AIG turns down private equity infusion, turns to Fed: report\n",
      "New York insurance regulator in talks with AIG\n",
      "U.S. banking woes seen hitting Wall St.\n",
      "Fannie, Freddie CEOs denied exit bonuses: report\n",
      "Brewers face challenge as Japanese lose taste for beer\n",
      "Lehman CEO Fuld's hubris contributed to meltdown\n",
      "CFTC working to protect Lehman customers\n",
      "Fed to take broader range of collateral on loans\n",
      "FACTBOX: New Fed steps to settle markets\n",
      "Fed braces markets for likely Lehman collapse\n",
      "FACTBOX: Five facts about Lehman's past and present\n",
      "Lehman debt may get 60 cents/dollar in bankruptcy: report\n",
      "Derivatives market trades on Sunday to cut Lehman risk\n",
      "Statement by Treasury's Paulson on markets\n",
      "BofA-Merrill deal to close in 3-4 months: report\n",
      "Merrill talked to Morgan Stanley before BofA deal: CNBC\n",
      "TIMELINE: Fed actions to boost liquidity\n"
     ]
    },
    {
     "data": {
      "text/plain": [
       "[None,\n",
       " None,\n",
       " None,\n",
       " None,\n",
       " None,\n",
       " None,\n",
       " None,\n",
       " None,\n",
       " None,\n",
       " None,\n",
       " None,\n",
       " None,\n",
       " None,\n",
       " None,\n",
       " None,\n",
       " None,\n",
       " None,\n",
       " None,\n",
       " None,\n",
       " None,\n",
       " None,\n",
       " None,\n",
       " None,\n",
       " None,\n",
       " None,\n",
       " None,\n",
       " None,\n",
       " None,\n",
       " None,\n",
       " None,\n",
       " None,\n",
       " None,\n",
       " None,\n",
       " None,\n",
       " None,\n",
       " None,\n",
       " None,\n",
       " None,\n",
       " None,\n",
       " None,\n",
       " None,\n",
       " None,\n",
       " None,\n",
       " None,\n",
       " None,\n",
       " None,\n",
       " None,\n",
       " None,\n",
       " None,\n",
       " None,\n",
       " None,\n",
       " None,\n",
       " None,\n",
       " None,\n",
       " None,\n",
       " None,\n",
       " None,\n",
       " None,\n",
       " None,\n",
       " None,\n",
       " None,\n",
       " None,\n",
       " None,\n",
       " None,\n",
       " None,\n",
       " None,\n",
       " None,\n",
       " None,\n",
       " None,\n",
       " None,\n",
       " None,\n",
       " None,\n",
       " None,\n",
       " None,\n",
       " None,\n",
       " None,\n",
       " None,\n",
       " None,\n",
       " None,\n",
       " None,\n",
       " None,\n",
       " None,\n",
       " None,\n",
       " None,\n",
       " None,\n",
       " None,\n",
       " None,\n",
       " None,\n",
       " None,\n",
       " None,\n",
       " None,\n",
       " None,\n",
       " None,\n",
       " None,\n",
       " None,\n",
       " None,\n",
       " None,\n",
       " None,\n",
       " None,\n",
       " None,\n",
       " None,\n",
       " None,\n",
       " None,\n",
       " None,\n",
       " None,\n",
       " None,\n",
       " None,\n",
       " None,\n",
       " None,\n",
       " None,\n",
       " None,\n",
       " None,\n",
       " None,\n",
       " None,\n",
       " None,\n",
       " None,\n",
       " None,\n",
       " None,\n",
       " None,\n",
       " None,\n",
       " None,\n",
       " None,\n",
       " None,\n",
       " None,\n",
       " None,\n",
       " None]"
      ]
     },
     "execution_count": 88,
     "metadata": {},
     "output_type": "execute_result"
    }
   ],
   "source": [
    "[print(val) for val in data['2008-09-12':'2008-09-14']['title']]"
   ]
  },
  {
   "cell_type": "code",
   "execution_count": null,
   "metadata": {},
   "outputs": [],
   "source": []
  },
  {
   "cell_type": "code",
   "execution_count": null,
   "metadata": {},
   "outputs": [],
   "source": []
  },
  {
   "cell_type": "code",
   "execution_count": null,
   "metadata": {},
   "outputs": [],
   "source": []
  }
 ],
 "metadata": {
  "kernelspec": {
   "display_name": "Python 3",
   "language": "python",
   "name": "python3"
  },
  "language_info": {
   "codemirror_mode": {
    "name": "ipython",
    "version": 3
   },
   "file_extension": ".py",
   "mimetype": "text/x-python",
   "name": "python",
   "nbconvert_exporter": "python",
   "pygments_lexer": "ipython3",
   "version": "3.7.6"
  }
 },
 "nbformat": 4,
 "nbformat_minor": 4
}
