{
 "cells": [
  {
   "cell_type": "code",
   "execution_count": 1,
   "metadata": {},
   "outputs": [],
   "source": [
    "from sklearn.metrics import classification_report, plot_confusion_matrix, confusion_matrix\n",
    "from sklearn.linear_model import LogisticRegression\n",
    "from sklearn.ensemble import RandomForestClassifier\n",
    "from sklearn.model_selection import GridSearchCV\n",
    "from sentence_transformers import SentenceTransformer\n",
    "from tensorflow.keras.models import Sequential\n",
    "from tensorflow.keras.layers import Dense, Dropout, Flatten\n",
    "from tensorflow.keras.optimizers import RMSprop\n",
    "from tensorflow.keras.callbacks import EarlyStopping\n",
    "from tensorflow.keras.wrappers.scikit_learn import KerasClassifier\n",
    "import numpy as np\n",
    "import pandas as pd\n",
    "import seaborn as sn\n",
    "from datetime import datetime\n",
    "from pathlib import Path\n",
    "import os\n",
    "import matplotlib.pyplot as plt\n",
    "from xgboost import XGBClassifier\n",
    "from collections import deque"
   ]
  },
  {
   "cell_type": "markdown",
   "metadata": {},
   "source": [
    "## Load Data\n",
    "First, we load and format the news data and the financial data. The data is formatted so each entry in the financial data is kept as is, but the news data is concatenated to the indices in the financial data. The titles in the news data are concatenated to one stirng for every data point. "
   ]
  },
  {
   "cell_type": "code",
   "execution_count": 2,
   "metadata": {},
   "outputs": [
    {
     "data": {
      "text/html": [
       "<div>\n",
       "<style scoped>\n",
       "    .dataframe tbody tr th:only-of-type {\n",
       "        vertical-align: middle;\n",
       "    }\n",
       "\n",
       "    .dataframe tbody tr th {\n",
       "        vertical-align: top;\n",
       "    }\n",
       "\n",
       "    .dataframe thead th {\n",
       "        text-align: right;\n",
       "    }\n",
       "</style>\n",
       "<table border=\"1\" class=\"dataframe\">\n",
       "  <thead>\n",
       "    <tr style=\"text-align: right;\">\n",
       "      <th></th>\n",
       "      <th>title</th>\n",
       "    </tr>\n",
       "    <tr>\n",
       "      <th>date</th>\n",
       "      <th></th>\n",
       "    </tr>\n",
       "  </thead>\n",
       "  <tbody>\n",
       "    <tr>\n",
       "      <th>2006-10-20</th>\n",
       "      <td>Exxon Mobil offers plan to end Alaska dispute</td>\n",
       "    </tr>\n",
       "    <tr>\n",
       "      <th>2006-10-20</th>\n",
       "      <td>Hey buddy, can you spare $600 for a Google share?</td>\n",
       "    </tr>\n",
       "    <tr>\n",
       "      <th>2006-10-21</th>\n",
       "      <td>AOL CEO says sales may shrink for two years -p...</td>\n",
       "    </tr>\n",
       "    <tr>\n",
       "      <th>2006-10-22</th>\n",
       "      <td>Fed to keep hawkish tone, hold rates steady</td>\n",
       "    </tr>\n",
       "    <tr>\n",
       "      <th>2006-10-21</th>\n",
       "      <td>Pluspetrol says losing $2.4 mln/day in Peru pr...</td>\n",
       "    </tr>\n",
       "    <tr>\n",
       "      <th>...</th>\n",
       "      <td>...</td>\n",
       "    </tr>\n",
       "    <tr>\n",
       "      <th>2013-11-19</th>\n",
       "      <td>JPMorgan agrees $13 billion settlement with U....</td>\n",
       "    </tr>\n",
       "    <tr>\n",
       "      <th>2013-11-19</th>\n",
       "      <td>Dow, S&amp;P retreat for second day; Best Buy weighs</td>\n",
       "    </tr>\n",
       "    <tr>\n",
       "      <th>2013-11-19</th>\n",
       "      <td>Bernanke: looking forward to writing, speaking...</td>\n",
       "    </tr>\n",
       "    <tr>\n",
       "      <th>2013-11-19</th>\n",
       "      <td>Bernanke: Fed committed to easy policy for as ...</td>\n",
       "    </tr>\n",
       "    <tr>\n",
       "      <th>2013-11-19</th>\n",
       "      <td>Analysis: U.S. retailers brace for margin hit ...</td>\n",
       "    </tr>\n",
       "  </tbody>\n",
       "</table>\n",
       "<p>106494 rows × 1 columns</p>\n",
       "</div>"
      ],
      "text/plain": [
       "                                                        title\n",
       "date                                                         \n",
       "2006-10-20      Exxon Mobil offers plan to end Alaska dispute\n",
       "2006-10-20  Hey buddy, can you spare $600 for a Google share?\n",
       "2006-10-21  AOL CEO says sales may shrink for two years -p...\n",
       "2006-10-22        Fed to keep hawkish tone, hold rates steady\n",
       "2006-10-21  Pluspetrol says losing $2.4 mln/day in Peru pr...\n",
       "...                                                       ...\n",
       "2013-11-19  JPMorgan agrees $13 billion settlement with U....\n",
       "2013-11-19   Dow, S&P retreat for second day; Best Buy weighs\n",
       "2013-11-19  Bernanke: looking forward to writing, speaking...\n",
       "2013-11-19  Bernanke: Fed committed to easy policy for as ...\n",
       "2013-11-19  Analysis: U.S. retailers brace for margin hit ...\n",
       "\n",
       "[106494 rows x 1 columns]"
      ]
     },
     "execution_count": 2,
     "metadata": {},
     "output_type": "execute_result"
    }
   ],
   "source": [
    "# Path to the data-folder, files too large for git. \n",
    "ONEDRIVE_PATH = Path(r\"C:\\Users\\gusta\\Kidbrooke Advisory Ab\\KidbrookeOneDrive - Gustaf Backman exjobb\")\n",
    "\n",
    "news_path = ONEDRIVE_PATH / \"Input Data/financial_headlines_20061020-20131119.pkl\"\n",
    "news_data = pd.DataFrame(pd.read_pickle(news_path))\n",
    "news_data.set_index('date',inplace=True)\n",
    "news_data"
   ]
  },
  {
   "cell_type": "code",
   "execution_count": 3,
   "metadata": {},
   "outputs": [],
   "source": [
    "# Read the financial data \n",
    "fin_path = ONEDRIVE_PATH / \"Input Data/stock_data.pkl\"\n",
    "fin_data = pd.read_pickle(fin_path)\n",
    "fin_data = fin_data.loc['2006-10-20' : '2013-11-22']"
   ]
  },
  {
   "cell_type": "code",
   "execution_count": 4,
   "metadata": {},
   "outputs": [
    {
     "data": {
      "text/html": [
       "<div>\n",
       "<style scoped>\n",
       "    .dataframe tbody tr th:only-of-type {\n",
       "        vertical-align: middle;\n",
       "    }\n",
       "\n",
       "    .dataframe tbody tr th {\n",
       "        vertical-align: top;\n",
       "    }\n",
       "\n",
       "    .dataframe thead th {\n",
       "        text-align: right;\n",
       "    }\n",
       "</style>\n",
       "<table border=\"1\" class=\"dataframe\">\n",
       "  <thead>\n",
       "    <tr style=\"text-align: right;\">\n",
       "      <th></th>\n",
       "      <th>1 YEAR</th>\n",
       "      <th>3 YEAR</th>\n",
       "      <th>S&amp;P</th>\n",
       "    </tr>\n",
       "    <tr>\n",
       "      <th>Date</th>\n",
       "      <th></th>\n",
       "      <th></th>\n",
       "      <th></th>\n",
       "    </tr>\n",
       "  </thead>\n",
       "  <tbody>\n",
       "    <tr>\n",
       "      <th>2006-10-20</th>\n",
       "      <td>0.986111</td>\n",
       "      <td>0.931959</td>\n",
       "      <td>0.471000</td>\n",
       "    </tr>\n",
       "    <tr>\n",
       "      <th>2006-10-23</th>\n",
       "      <td>0.994048</td>\n",
       "      <td>0.940206</td>\n",
       "      <td>0.477069</td>\n",
       "    </tr>\n",
       "    <tr>\n",
       "      <th>2006-10-24</th>\n",
       "      <td>0.996032</td>\n",
       "      <td>0.940206</td>\n",
       "      <td>0.477321</td>\n",
       "    </tr>\n",
       "    <tr>\n",
       "      <th>2006-10-25</th>\n",
       "      <td>0.992063</td>\n",
       "      <td>0.929897</td>\n",
       "      <td>0.480819</td>\n",
       "    </tr>\n",
       "    <tr>\n",
       "      <th>2006-10-26</th>\n",
       "      <td>0.988095</td>\n",
       "      <td>0.919588</td>\n",
       "      <td>0.485764</td>\n",
       "    </tr>\n",
       "    <tr>\n",
       "      <th>...</th>\n",
       "      <td>...</td>\n",
       "      <td>...</td>\n",
       "      <td>...</td>\n",
       "    </tr>\n",
       "    <tr>\n",
       "      <th>2013-11-18</th>\n",
       "      <td>0.009921</td>\n",
       "      <td>0.057732</td>\n",
       "      <td>0.988256</td>\n",
       "    </tr>\n",
       "    <tr>\n",
       "      <th>2013-11-19</th>\n",
       "      <td>0.011905</td>\n",
       "      <td>0.061856</td>\n",
       "      <td>0.985469</td>\n",
       "    </tr>\n",
       "    <tr>\n",
       "      <th>2013-11-20</th>\n",
       "      <td>0.007937</td>\n",
       "      <td>0.059794</td>\n",
       "      <td>0.980098</td>\n",
       "    </tr>\n",
       "    <tr>\n",
       "      <th>2013-11-21</th>\n",
       "      <td>0.007937</td>\n",
       "      <td>0.055670</td>\n",
       "      <td>0.992330</td>\n",
       "    </tr>\n",
       "    <tr>\n",
       "      <th>2013-11-22</th>\n",
       "      <td>0.007937</td>\n",
       "      <td>0.059794</td>\n",
       "      <td>1.000000</td>\n",
       "    </tr>\n",
       "  </tbody>\n",
       "</table>\n",
       "<p>1851 rows × 3 columns</p>\n",
       "</div>"
      ],
      "text/plain": [
       "              1 YEAR    3 YEAR       S&P\n",
       "Date                                    \n",
       "2006-10-20  0.986111  0.931959  0.471000\n",
       "2006-10-23  0.994048  0.940206  0.477069\n",
       "2006-10-24  0.996032  0.940206  0.477321\n",
       "2006-10-25  0.992063  0.929897  0.480819\n",
       "2006-10-26  0.988095  0.919588  0.485764\n",
       "...              ...       ...       ...\n",
       "2013-11-18  0.009921  0.057732  0.988256\n",
       "2013-11-19  0.011905  0.061856  0.985469\n",
       "2013-11-20  0.007937  0.059794  0.980098\n",
       "2013-11-21  0.007937  0.055670  0.992330\n",
       "2013-11-22  0.007937  0.059794  1.000000\n",
       "\n",
       "[1851 rows x 3 columns]"
      ]
     },
     "execution_count": 4,
     "metadata": {},
     "output_type": "execute_result"
    }
   ],
   "source": [
    "# Normalize the financial data to [0,1]\n",
    "fin_data_norm = pd.DataFrame(columns=fin_data.columns) \n",
    "fin_stats = pd.DataFrame(columns=['min', 'max'],index=fin_data.columns)\n",
    "for col in fin_data.columns:\n",
    "    fin_stats.loc[col]['min'] = np.min(fin_data[col])\n",
    "    fin_stats.loc[col]['max'] = np.max(fin_data[col])\n",
    "    \n",
    "for i in range(len(fin_data)): \n",
    "    temp_series = {}\n",
    "    for col in fin_data.columns:\n",
    "        temp_series.update({col: (fin_data.iloc[i][col] - fin_stats.loc[col]['min']) / (fin_stats.loc[col]['max'] - fin_stats.loc[col]['min'])})\n",
    "    fin_data_norm = fin_data_norm.append(temp_series,ignore_index=True)\n",
    "fin_data_norm.index = fin_data.index\n",
    "fin_data_norm"
   ]
  },
  {
   "cell_type": "code",
   "execution_count": 5,
   "metadata": {},
   "outputs": [
    {
     "data": {
      "text/html": [
       "<div>\n",
       "<style scoped>\n",
       "    .dataframe tbody tr th:only-of-type {\n",
       "        vertical-align: middle;\n",
       "    }\n",
       "\n",
       "    .dataframe tbody tr th {\n",
       "        vertical-align: top;\n",
       "    }\n",
       "\n",
       "    .dataframe thead th {\n",
       "        text-align: right;\n",
       "    }\n",
       "</style>\n",
       "<table border=\"1\" class=\"dataframe\">\n",
       "  <thead>\n",
       "    <tr style=\"text-align: right;\">\n",
       "      <th></th>\n",
       "      <th>title</th>\n",
       "    </tr>\n",
       "    <tr>\n",
       "      <th>date</th>\n",
       "      <th></th>\n",
       "    </tr>\n",
       "  </thead>\n",
       "  <tbody>\n",
       "    <tr>\n",
       "      <th>2006-10-20</th>\n",
       "      <td>Exxon Mobil offers plan to end Alaska dispute ...</td>\n",
       "    </tr>\n",
       "    <tr>\n",
       "      <th>2006-10-21</th>\n",
       "      <td>AOL CEO says sales may shrink for two years -p...</td>\n",
       "    </tr>\n",
       "    <tr>\n",
       "      <th>2006-10-22</th>\n",
       "      <td>Fed to keep hawkish tone, hold rates steady EU...</td>\n",
       "    </tr>\n",
       "    <tr>\n",
       "      <th>2006-10-23</th>\n",
       "      <td>DaimlerChrysler talks to 2 firms on small car:...</td>\n",
       "    </tr>\n",
       "    <tr>\n",
       "      <th>2006-10-24</th>\n",
       "      <td>Options scandal hits 153 companies: US study J...</td>\n",
       "    </tr>\n",
       "    <tr>\n",
       "      <th>...</th>\n",
       "      <td>...</td>\n",
       "    </tr>\n",
       "    <tr>\n",
       "      <th>2013-11-15</th>\n",
       "      <td>Big Retailer is watching you: stores seek to m...</td>\n",
       "    </tr>\n",
       "    <tr>\n",
       "      <th>2013-11-16</th>\n",
       "      <td>Boeing says no plans to reopen union talks on ...</td>\n",
       "    </tr>\n",
       "    <tr>\n",
       "      <th>2013-11-17</th>\n",
       "      <td>Boeing launches new 777 with 259 orders Emirat...</td>\n",
       "    </tr>\n",
       "    <tr>\n",
       "      <th>2013-11-18</th>\n",
       "      <td>Google, Microsoft tighten online searches to c...</td>\n",
       "    </tr>\n",
       "    <tr>\n",
       "      <th>2013-11-19</th>\n",
       "      <td>Air Algerie orders three Airbus passenger airc...</td>\n",
       "    </tr>\n",
       "  </tbody>\n",
       "</table>\n",
       "<p>2582 rows × 1 columns</p>\n",
       "</div>"
      ],
      "text/plain": [
       "                                                        title\n",
       "date                                                         \n",
       "2006-10-20  Exxon Mobil offers plan to end Alaska dispute ...\n",
       "2006-10-21  AOL CEO says sales may shrink for two years -p...\n",
       "2006-10-22  Fed to keep hawkish tone, hold rates steady EU...\n",
       "2006-10-23  DaimlerChrysler talks to 2 firms on small car:...\n",
       "2006-10-24  Options scandal hits 153 companies: US study J...\n",
       "...                                                       ...\n",
       "2013-11-15  Big Retailer is watching you: stores seek to m...\n",
       "2013-11-16  Boeing says no plans to reopen union talks on ...\n",
       "2013-11-17  Boeing launches new 777 with 259 orders Emirat...\n",
       "2013-11-18  Google, Microsoft tighten online searches to c...\n",
       "2013-11-19  Air Algerie orders three Airbus passenger airc...\n",
       "\n",
       "[2582 rows x 1 columns]"
      ]
     },
     "execution_count": 5,
     "metadata": {},
     "output_type": "execute_result"
    }
   ],
   "source": [
    "concat_news = pd.DataFrame()\n",
    "for date in news_data.index.drop_duplicates():\n",
    "    temp_titles = \"\"\n",
    "    for title in news_data.loc[date]['title']: \n",
    "        temp_titles += title + \" \"\n",
    "    concat_news = concat_news.append({'date':date, 'title':temp_titles},ignore_index=True)\n",
    "concat_news.set_index('date',inplace=True)\n",
    "concat_news"
   ]
  },
  {
   "cell_type": "code",
   "execution_count": 6,
   "metadata": {},
   "outputs": [],
   "source": [
    "# Concatenate the news title up to the day in the financial index. \n",
    "data = pd.DataFrame(columns=['title'],index=['date'])\n",
    "temp_titles = \"\"\n",
    "for date in concat_news.index:\n",
    "    temp_titles += concat_news.loc[date]['title'] + \" \"\n",
    "    if date in fin_data_norm.index: \n",
    "        data = data.append({'date':date, 'title':temp_titles}, ignore_index=True)\n",
    "        temp_titles = \"\"\n",
    "data.set_index('date', inplace=True)\n",
    "data = data.drop(data.index[0])"
   ]
  },
  {
   "cell_type": "markdown",
   "metadata": {},
   "source": [
    "## Vectorize the data \n",
    "Sentence-BERT is used to vectorize the each sample of concatenated titles to a vector with 768 dimensions. "
   ]
  },
  {
   "cell_type": "code",
   "execution_count": 14,
   "metadata": {},
   "outputs": [],
   "source": [
    "sbert_model = SentenceTransformer('bert-base-nli-mean-tokens')"
   ]
  },
  {
   "cell_type": "code",
   "execution_count": 34,
   "metadata": {},
   "outputs": [],
   "source": [
    "sbert_path = Path(\"./sbert_embeddings.npy\")\n",
    "if os.path.exists(sbert_path): \n",
    "    x_sbert = np.load(sbert_path)\n",
    "else:\n",
    "    encodings = sbert_model.encode(data['title'])\n",
    "    x_sbert = np.asarray(encodings)\n",
    "    np.save(sbert_path, x_sbert)"
   ]
  },
  {
   "cell_type": "markdown",
   "metadata": {},
   "source": [
    "## Synchronize the data\n",
    "We have now prepared the news data with SBERT and normalized the financial data. Next, we'll create labels as the direction of the price change. If the price the following day is higher, y = 1. If it is equal or lower, y = 0."
   ]
  },
  {
   "cell_type": "code",
   "execution_count": 35,
   "metadata": {},
   "outputs": [],
   "source": [
    "series = 'S&P'\n",
    "y_binary = np.zeros(x_sbert.shape[0])\n",
    "for i in range(len(y_binary)): \n",
    "    if i < len(data) - 1:\n",
    "        if fin_data_norm.loc[data.index[i]][series] < fin_data_norm.loc[data.index[i+1]][series]: \n",
    "            y_binary[i] = 1\n",
    "        else: \n",
    "            y_binary[i] = 0\n",
    "    else: \n",
    "        fin_idx = np.where(fin_data_norm.index == data.index[-1])[0][0]\n",
    "        if fin_data_norm.iloc[fin_idx][series] < fin_data_norm.iloc[fin_idx + 1][series]: \n",
    "            y_binary[i] = 1\n",
    "        else: \n",
    "            y_binary[i] = 0        "
   ]
  },
  {
   "cell_type": "code",
   "execution_count": 36,
   "metadata": {},
   "outputs": [
    {
     "name": "stdout",
     "output_type": "stream",
     "text": [
      "Shape of y: (1846,)\n",
      "Shape of x: (1846, 768)\n"
     ]
    }
   ],
   "source": [
    "print(\"Shape of y:\",y_binary.shape)\n",
    "print(\"Shape of x:\",x_sbert.shape)"
   ]
  },
  {
   "cell_type": "code",
   "execution_count": 37,
   "metadata": {},
   "outputs": [
    {
     "name": "stdout",
     "output_type": "stream",
     "text": [
      "Shape of x,y train: (1400, 768) (1400,)\n",
      "Shape of x,y test: (446, 768) (446,)\n"
     ]
    }
   ],
   "source": [
    "# Shuffle and partition into training and test set (non-sequential data)\n",
    "indices = np.arange(len(y_binary))\n",
    "np.random.shuffle(indices)\n",
    "n_train = 1400\n",
    "\n",
    "x_train = x_sbert[indices[:n_train]]\n",
    "y_train = y_binary[indices[:n_train]]\n",
    "\n",
    "x_test = x_sbert[indices[n_train:]]\n",
    "y_test = y_binary[indices[n_train:]]\n",
    "\n",
    "print(\"Shape of x,y train:\",x_train.shape, y_train.shape)\n",
    "print(\"Shape of x,y test:\",x_test.shape, y_test.shape)"
   ]
  },
  {
   "cell_type": "code",
   "execution_count": 38,
   "metadata": {},
   "outputs": [
    {
     "name": "stdout",
     "output_type": "stream",
     "text": [
      "Shape of x,y train: (1400, 3, 768) (1400,)\n",
      "Shape of x,y test: (444, 3, 768) (444,)\n"
     ]
    }
   ],
   "source": [
    "# Shuffle and partition into training and test set (sequential data)\n",
    "lookback = 3\n",
    "x_seq = np.zeros((x_sbert.shape[0] - lookback + 1, lookback, x_sbert.shape[-1]))\n",
    "prev_data = deque(maxlen=lookback)\n",
    "index = 0\n",
    "for i,row in enumerate(x_sbert): \n",
    "    prev_data.append(row)\n",
    "    if len(prev_data) == lookback: \n",
    "        x_seq[index,:] = np.asarray(prev_data)\n",
    "        index += 1\n",
    "y_seq = y_binary[lookback - 1 :]\n",
    "\n",
    "\n",
    "indices = np.arange(len(y_seq))\n",
    "np.random.shuffle(indices)\n",
    "n_train = 1400\n",
    "\n",
    "x_seq_train = x_seq[indices[:n_train]]\n",
    "y_seq_train = y_seq[indices[:n_train]]\n",
    "\n",
    "x_seq_test = x_seq[indices[n_train:]]\n",
    "y_seq_test = y_seq[indices[n_train:]]\n",
    "\n",
    "print(\"Shape of x,y train:\",x_seq_train.shape, y_seq_train.shape)\n",
    "print(\"Shape of x,y test:\",x_seq_test.shape, y_seq_test.shape)"
   ]
  },
  {
   "cell_type": "markdown",
   "metadata": {},
   "source": [
    "## Train and evaluate models \n",
    "A few different models are trained and compared, namely: \n",
    " - Logistic regression \n",
    " - Random Forest\n",
    " - XGBoost\n",
    " - Neural Network\n",
    " The regular data is used for the first three models, and the sequential data is used for the neural network. It is however only a regular feed-forward network, so multi-dimensional is probably a better wording than sequential. "
   ]
  },
  {
   "cell_type": "code",
   "execution_count": 39,
   "metadata": {},
   "outputs": [],
   "source": [
    "def plot_results(model,x_test, y_test):\n",
    "    y_test_preds = model.predict(x_test)\n",
    "    print(classification_report(y_test, y_test_preds))\n",
    "    print(\"Test accuracy:\",model.score(x_test, y_test))\n",
    "    plot_confusion_matrix(model,x_test,y_test)\n",
    "    plt.show()\n",
    "    plt.bar([0,1],[np.sum(y_test == 0), np.sum(y_test == 1)], label='Test distribution')\n",
    "    plt.legend()\n",
    "    plt.xticks([0, 1])\n",
    "    plt.show()\n",
    "    \n",
    "\n",
    "def plot_results_nn(history, model):\n",
    "    plt.subplot(121)\n",
    "    plt.plot(history.history['loss'],label='Loss')\n",
    "    plt.plot(history.history['val_loss'],label='Val loss')\n",
    "    plt.legend()\n",
    "    plt.subplot(122)\n",
    "    plt.plot(history.history['acc'],label='Acc')\n",
    "    plt.plot(history.history['val_acc'],label='Val acc')\n",
    "    plt.legend()\n",
    "    plt.show() \n",
    "    y_seq_test_pred = np.round(model.predict(x_seq_test))\n",
    "    plt.subplot(121)\n",
    "    plt.bar([0,1],[np.sum(y_seq_test == 0), np.sum(y_seq_test == 1)], label='Actual test dist')\n",
    "    plt.legend()\n",
    "    plt.xticks([0, 1])\n",
    "    plt.subplot(122)\n",
    "    plt.bar([0,1],[np.sum(y_seq_test_pred == 0), np.sum(y_seq_test_pred == 1)], label='Pred test dist')\n",
    "    plt.legend()\n",
    "    plt.xticks([0, 1])\n",
    "    plt.show()\n",
    "    conf_mat = confusion_matrix(y_seq_test,y_seq_test_pred,normalize='pred')\n",
    "    ax = sn.heatmap(conf_mat,)\n",
    "    ax.set_ylabel(\"True values\")\n",
    "    ax.set_xlabel(\"Predicted values\")\n",
    "    plt.show()\n",
    "    print(classification_report(y_seq_test, y_seq_test_pred))"
   ]
  },
  {
   "cell_type": "markdown",
   "metadata": {},
   "source": [
    "## Logistic Regression"
   ]
  },
  {
   "cell_type": "code",
   "execution_count": 42,
   "metadata": {},
   "outputs": [
    {
     "name": "stdout",
     "output_type": "stream",
     "text": [
      "              precision    recall  f1-score   support\n",
      "\n",
      "         0.0       0.52      0.48      0.50       226\n",
      "         1.0       0.51      0.55      0.53       220\n",
      "\n",
      "    accuracy                           0.52       446\n",
      "   macro avg       0.52      0.52      0.52       446\n",
      "weighted avg       0.52      0.52      0.52       446\n",
      "\n",
      "Test accuracy: 0.515695067264574\n"
     ]
    },
    {
     "data": {
      "image/png": "[encoded data removed]",
      "text/plain": [
       "<Figure size 432x288 with 2 Axes>"
      ]
     },
     "metadata": {
      "needs_background": "light"
     },
     "output_type": "display_data"
    },
    {
     "data": {
      "image/png": "[encoded data removed]",
      "text/plain": [
       "<Figure size 432x288 with 1 Axes>"
      ]
     },
     "metadata": {
      "needs_background": "light"
     },
     "output_type": "display_data"
    }
   ],
   "source": [
    "# Logistic regression\n",
    "logreg = LogisticRegression(random_state=0,max_iter=1000).fit(x_train, y_train)\n",
    "plot_results(logreg,x_test, y_test)"
   ]
  },
  {
   "cell_type": "markdown",
   "metadata": {},
   "source": [
    "### Results Logistic Regression\n",
    "Logistic regression yields a weighted f1-score of 0.52. "
   ]
  },
  {
   "cell_type": "markdown",
   "metadata": {},
   "source": [
    "## Random Forest"
   ]
  },
  {
   "cell_type": "code",
   "execution_count": 45,
   "metadata": {
    "scrolled": false
   },
   "outputs": [
    {
     "name": "stdout",
     "output_type": "stream",
     "text": [
      "              precision    recall  f1-score   support\n",
      "\n",
      "         0.0       0.59      0.32      0.41       226\n",
      "         1.0       0.52      0.77      0.62       220\n",
      "\n",
      "    accuracy                           0.54       446\n",
      "   macro avg       0.55      0.54      0.52       446\n",
      "weighted avg       0.55      0.54      0.52       446\n",
      "\n",
      "Test accuracy: 0.5403587443946188\n"
     ]
    },
    {
     "data": {
      "image/png": "[encoded data removed]",
      "text/plain": [
       "<Figure size 432x288 with 2 Axes>"
      ]
     },
     "metadata": {
      "needs_background": "light"
     },
     "output_type": "display_data"
    },
    {
     "data": {
      "image/png": "[encoded data removed]",
      "text/plain": [
       "<Figure size 432x288 with 1 Axes>"
      ]
     },
     "metadata": {
      "needs_background": "light"
     },
     "output_type": "display_data"
    }
   ],
   "source": [
    "# Random Forest\n",
    "randomforest = RandomForestClassifier(n_estimators=250).fit(x_train, y_train)\n",
    "plot_results(randomforest,x_test, y_test)"
   ]
  },
  {
   "cell_type": "markdown",
   "metadata": {},
   "source": [
    "### Results Random Forest \n",
    "Optimizing over the estimators (50, 100, 250, 500, 1000, 5000) gives a weighted average f1-score 0.53 for the best configuration with 250 estimators. It does however vary quite a bit for different runs. "
   ]
  },
  {
   "cell_type": "markdown",
   "metadata": {},
   "source": [
    "## XGBoost"
   ]
  },
  {
   "cell_type": "code",
   "execution_count": 48,
   "metadata": {
    "scrolled": false
   },
   "outputs": [
    {
     "name": "stdout",
     "output_type": "stream",
     "text": [
      "              precision    recall  f1-score   support\n",
      "\n",
      "         0.0       0.56      0.46      0.51       226\n",
      "         1.0       0.53      0.63      0.58       220\n",
      "\n",
      "    accuracy                           0.55       446\n",
      "   macro avg       0.55      0.55      0.54       446\n",
      "weighted avg       0.55      0.55      0.54       446\n",
      "\n",
      "Test accuracy: 0.547085201793722\n"
     ]
    },
    {
     "data": {
      "image/png": "[encoded data removed]",
      "text/plain": [
       "<Figure size 432x288 with 2 Axes>"
      ]
     },
     "metadata": {
      "needs_background": "light"
     },
     "output_type": "display_data"
    },
    {
     "data": {
      "image/png": "[encoded data removed]",
      "text/plain": [
       "<Figure size 432x288 with 1 Axes>"
      ]
     },
     "metadata": {
      "needs_background": "light"
     },
     "output_type": "display_data"
    }
   ],
   "source": [
    "# XGBoost\n",
    "xgb = XGBClassifier(n_estimators=250).fit(x_train, y_train)\n",
    "plot_results(xgb,x_test, y_test)"
   ]
  },
  {
   "cell_type": "markdown",
   "metadata": {},
   "source": [
    "### Results XGBoost\n",
    "\n",
    "XGBoost gives a similar weighted f1-score to the previous models with 0.54 using 250 estimators, which was the best of the tested (50, 100, 250, 500, 1000, 5000). "
   ]
  },
  {
   "cell_type": "markdown",
   "metadata": {},
   "source": [
    "## Neural Network"
   ]
  },
  {
   "cell_type": "code",
   "execution_count": 49,
   "metadata": {},
   "outputs": [],
   "source": [
    "def create_model(nodes=100, dropout_rate=0.3):\n",
    "    model = Sequential() \n",
    "    model.add(Dense(nodes, input_shape=x_seq_train.shape[1:]))\n",
    "    model.add(Flatten())\n",
    "    model.add(Dense(nodes))\n",
    "    model.add(Dropout(dropout_rate))\n",
    "    model.add(Dense(1, activation='sigmoid'))\n",
    "    \n",
    "    model.compile(optimizer='rmsprop',loss='binary_crossentropy',metrics=['acc'])\n",
    "    return model "
   ]
  },
  {
   "cell_type": "markdown",
   "metadata": {},
   "source": [
    "### Hyperparameters Grid Search\n",
    "Optimize with respect to batch size, epochs, nodes and dropout rate. Two layers are used. "
   ]
  },
  {
   "cell_type": "code",
   "execution_count": 53,
   "metadata": {
    "scrolled": true
   },
   "outputs": [
    {
     "name": "stdout",
     "output_type": "stream",
     "text": [
      "Best: 0.538573 using {'batch_size': 128, 'dropout_rate': 0.3, 'epochs': 7, 'nodes': 50}\n",
      "0.527162 (0.019449) with: {'batch_size': 8, 'dropout_rate': 0.3, 'epochs': 3, 'nodes': 10}\n",
      "0.515021 (0.021405) with: {'batch_size': 8, 'dropout_rate': 0.3, 'epochs': 3, 'nodes': 50}\n",
      "0.497143 (0.015743) with: {'batch_size': 8, 'dropout_rate': 0.3, 'epochs': 3, 'nodes': 100}\n",
      "0.490006 (0.011868) with: {'batch_size': 8, 'dropout_rate': 0.3, 'epochs': 3, 'nodes': 500}\n",
      "0.489999 (0.008757) with: {'batch_size': 8, 'dropout_rate': 0.3, 'epochs': 4, 'nodes': 10}\n",
      "0.520010 (0.011834) with: {'batch_size': 8, 'dropout_rate': 0.3, 'epochs': 4, 'nodes': 50}\n",
      "0.488567 (0.004148) with: {'batch_size': 8, 'dropout_rate': 0.3, 'epochs': 4, 'nodes': 100}\n",
      "0.515014 (0.029571) with: {'batch_size': 8, 'dropout_rate': 0.3, 'epochs': 4, 'nodes': 500}\n",
      "0.502864 (0.010584) with: {'batch_size': 8, 'dropout_rate': 0.3, 'epochs': 5, 'nodes': 10}\n",
      "0.519277 (0.012013) with: {'batch_size': 8, 'dropout_rate': 0.3, 'epochs': 5, 'nodes': 50}\n",
      "0.494967 (0.035064) with: {'batch_size': 8, 'dropout_rate': 0.3, 'epochs': 5, 'nodes': 100}\n",
      "0.507159 (0.019773) with: {'batch_size': 8, 'dropout_rate': 0.3, 'epochs': 5, 'nodes': 500}\n",
      "0.517864 (0.011950) with: {'batch_size': 8, 'dropout_rate': 0.3, 'epochs': 7, 'nodes': 10}\n",
      "0.505699 (0.014756) with: {'batch_size': 8, 'dropout_rate': 0.3, 'epochs': 7, 'nodes': 50}\n",
      "0.494999 (0.001340) with: {'batch_size': 8, 'dropout_rate': 0.3, 'epochs': 7, 'nodes': 100}\n",
      "0.489273 (0.012904) with: {'batch_size': 8, 'dropout_rate': 0.3, 'epochs': 7, 'nodes': 500}\n",
      "0.504989 (0.011420) with: {'batch_size': 8, 'dropout_rate': 0.3, 'epochs': 10, 'nodes': 10}\n",
      "0.505007 (0.014903) with: {'batch_size': 8, 'dropout_rate': 0.3, 'epochs': 10, 'nodes': 50}\n",
      "0.494993 (0.007551) with: {'batch_size': 8, 'dropout_rate': 0.3, 'epochs': 10, 'nodes': 100}\n",
      "0.497122 (0.021019) with: {'batch_size': 8, 'dropout_rate': 0.3, 'epochs': 10, 'nodes': 500}\n",
      "0.480711 (0.004024) with: {'batch_size': 8, 'dropout_rate': 0.5, 'epochs': 3, 'nodes': 10}\n",
      "0.524276 (0.010197) with: {'batch_size': 8, 'dropout_rate': 0.5, 'epochs': 3, 'nodes': 50}\n",
      "0.514295 (0.026299) with: {'batch_size': 8, 'dropout_rate': 0.5, 'epochs': 3, 'nodes': 100}\n",
      "0.487843 (0.026044) with: {'batch_size': 8, 'dropout_rate': 0.5, 'epochs': 3, 'nodes': 500}\n",
      "0.515715 (0.001348) with: {'batch_size': 8, 'dropout_rate': 0.5, 'epochs': 4, 'nodes': 10}\n",
      "0.518566 (0.006552) with: {'batch_size': 8, 'dropout_rate': 0.5, 'epochs': 4, 'nodes': 50}\n",
      "0.519993 (0.009582) with: {'batch_size': 8, 'dropout_rate': 0.5, 'epochs': 4, 'nodes': 100}\n",
      "0.479258 (0.029161) with: {'batch_size': 8, 'dropout_rate': 0.5, 'epochs': 4, 'nodes': 500}\n",
      "0.526439 (0.010173) with: {'batch_size': 8, 'dropout_rate': 0.5, 'epochs': 5, 'nodes': 10}\n",
      "0.517860 (0.005830) with: {'batch_size': 8, 'dropout_rate': 0.5, 'epochs': 5, 'nodes': 50}\n",
      "0.487128 (0.015793) with: {'batch_size': 8, 'dropout_rate': 0.5, 'epochs': 5, 'nodes': 100}\n",
      "0.504287 (0.019292) with: {'batch_size': 8, 'dropout_rate': 0.5, 'epochs': 5, 'nodes': 500}\n",
      "0.519993 (0.010924) with: {'batch_size': 8, 'dropout_rate': 0.5, 'epochs': 7, 'nodes': 10}\n",
      "0.512133 (0.010432) with: {'batch_size': 8, 'dropout_rate': 0.5, 'epochs': 7, 'nodes': 50}\n",
      "0.522130 (0.015347) with: {'batch_size': 8, 'dropout_rate': 0.5, 'epochs': 7, 'nodes': 100}\n",
      "0.513545 (0.026400) with: {'batch_size': 8, 'dropout_rate': 0.5, 'epochs': 7, 'nodes': 500}\n",
      "0.510710 (0.008337) with: {'batch_size': 8, 'dropout_rate': 0.5, 'epochs': 10, 'nodes': 10}\n",
      "0.515002 (0.007159) with: {'batch_size': 8, 'dropout_rate': 0.5, 'epochs': 10, 'nodes': 50}\n",
      "0.527145 (0.004827) with: {'batch_size': 8, 'dropout_rate': 0.5, 'epochs': 10, 'nodes': 100}\n",
      "0.525014 (0.024602) with: {'batch_size': 8, 'dropout_rate': 0.5, 'epochs': 10, 'nodes': 500}\n",
      "0.527859 (0.008877) with: {'batch_size': 16, 'dropout_rate': 0.3, 'epochs': 3, 'nodes': 10}\n",
      "0.499980 (0.030086) with: {'batch_size': 16, 'dropout_rate': 0.3, 'epochs': 3, 'nodes': 50}\n",
      "0.501421 (0.026320) with: {'batch_size': 16, 'dropout_rate': 0.3, 'epochs': 3, 'nodes': 100}\n",
      "0.505021 (0.023231) with: {'batch_size': 16, 'dropout_rate': 0.3, 'epochs': 3, 'nodes': 500}\n",
      "0.496445 (0.016382) with: {'batch_size': 16, 'dropout_rate': 0.3, 'epochs': 4, 'nodes': 10}\n",
      "0.501441 (0.018851) with: {'batch_size': 16, 'dropout_rate': 0.3, 'epochs': 4, 'nodes': 50}\n",
      "0.497146 (0.004972) with: {'batch_size': 16, 'dropout_rate': 0.3, 'epochs': 4, 'nodes': 100}\n",
      "0.497130 (0.021181) with: {'batch_size': 16, 'dropout_rate': 0.3, 'epochs': 4, 'nodes': 500}\n",
      "0.531440 (0.014725) with: {'batch_size': 16, 'dropout_rate': 0.3, 'epochs': 5, 'nodes': 10}\n",
      "0.509273 (0.013102) with: {'batch_size': 16, 'dropout_rate': 0.3, 'epochs': 5, 'nodes': 50}\n",
      "0.509296 (0.012817) with: {'batch_size': 16, 'dropout_rate': 0.3, 'epochs': 5, 'nodes': 100}\n",
      "0.499256 (0.030026) with: {'batch_size': 16, 'dropout_rate': 0.3, 'epochs': 5, 'nodes': 500}\n",
      "0.506410 (0.023488) with: {'batch_size': 16, 'dropout_rate': 0.3, 'epochs': 7, 'nodes': 10}\n",
      "0.509293 (0.010588) with: {'batch_size': 16, 'dropout_rate': 0.3, 'epochs': 7, 'nodes': 50}\n",
      "0.526436 (0.013402) with: {'batch_size': 16, 'dropout_rate': 0.3, 'epochs': 7, 'nodes': 100}\n",
      "0.517126 (0.016754) with: {'batch_size': 16, 'dropout_rate': 0.3, 'epochs': 7, 'nodes': 500}\n",
      "0.503563 (0.012255) with: {'batch_size': 16, 'dropout_rate': 0.3, 'epochs': 10, 'nodes': 10}\n",
      "0.516431 (0.008127) with: {'batch_size': 16, 'dropout_rate': 0.3, 'epochs': 10, 'nodes': 50}\n",
      "0.530711 (0.004952) with: {'batch_size': 16, 'dropout_rate': 0.3, 'epochs': 10, 'nodes': 100}\n",
      "0.502832 (0.027623) with: {'batch_size': 16, 'dropout_rate': 0.3, 'epochs': 10, 'nodes': 500}\n",
      "0.538562 (0.011999) with: {'batch_size': 16, 'dropout_rate': 0.5, 'epochs': 3, 'nodes': 10}\n",
      "0.512133 (0.011806) with: {'batch_size': 16, 'dropout_rate': 0.5, 'epochs': 3, 'nodes': 50}\n",
      "0.522855 (0.010785) with: {'batch_size': 16, 'dropout_rate': 0.5, 'epochs': 3, 'nodes': 100}\n",
      "0.511396 (0.032348) with: {'batch_size': 16, 'dropout_rate': 0.5, 'epochs': 3, 'nodes': 500}\n",
      "0.524278 (0.015393) with: {'batch_size': 16, 'dropout_rate': 0.5, 'epochs': 4, 'nodes': 10}\n",
      "0.499298 (0.016422) with: {'batch_size': 16, 'dropout_rate': 0.5, 'epochs': 4, 'nodes': 50}\n",
      "0.537853 (0.004787) with: {'batch_size': 16, 'dropout_rate': 0.5, 'epochs': 4, 'nodes': 100}\n",
      "0.515009 (0.023679) with: {'batch_size': 16, 'dropout_rate': 0.5, 'epochs': 4, 'nodes': 500}\n",
      "0.501431 (0.013268) with: {'batch_size': 16, 'dropout_rate': 0.5, 'epochs': 5, 'nodes': 10}\n",
      "0.507853 (0.004813) with: {'batch_size': 16, 'dropout_rate': 0.5, 'epochs': 5, 'nodes': 50}\n",
      "0.517141 (0.001499) with: {'batch_size': 16, 'dropout_rate': 0.5, 'epochs': 5, 'nodes': 100}\n",
      "0.495693 (0.029242) with: {'batch_size': 16, 'dropout_rate': 0.5, 'epochs': 5, 'nodes': 500}\n",
      "0.510013 (0.030700) with: {'batch_size': 16, 'dropout_rate': 0.5, 'epochs': 7, 'nodes': 10}\n",
      "0.510731 (0.016690) with: {'batch_size': 16, 'dropout_rate': 0.5, 'epochs': 7, 'nodes': 50}\n",
      "0.510682 (0.032261) with: {'batch_size': 16, 'dropout_rate': 0.5, 'epochs': 7, 'nodes': 100}\n",
      "0.525724 (0.020500) with: {'batch_size': 16, 'dropout_rate': 0.5, 'epochs': 7, 'nodes': 500}\n",
      "0.523567 (0.005719) with: {'batch_size': 16, 'dropout_rate': 0.5, 'epochs': 10, 'nodes': 10}\n",
      "0.505715 (0.012249) with: {'batch_size': 16, 'dropout_rate': 0.5, 'epochs': 10, 'nodes': 50}\n",
      "0.510713 (0.007154) with: {'batch_size': 16, 'dropout_rate': 0.5, 'epochs': 10, 'nodes': 100}\n",
      "0.504975 (0.024761) with: {'batch_size': 16, 'dropout_rate': 0.5, 'epochs': 10, 'nodes': 500}\n",
      "0.525001 (0.005272) with: {'batch_size': 64, 'dropout_rate': 0.3, 'epochs': 3, 'nodes': 10}\n",
      "0.504975 (0.033612) with: {'batch_size': 64, 'dropout_rate': 0.3, 'epochs': 3, 'nodes': 50}\n",
      "0.504278 (0.022307) with: {'batch_size': 64, 'dropout_rate': 0.3, 'epochs': 3, 'nodes': 100}\n",
      "0.531429 (0.015745) with: {'batch_size': 64, 'dropout_rate': 0.3, 'epochs': 3, 'nodes': 500}\n",
      "0.512154 (0.022982) with: {'batch_size': 64, 'dropout_rate': 0.3, 'epochs': 4, 'nodes': 10}\n",
      "0.526437 (0.021075) with: {'batch_size': 64, 'dropout_rate': 0.3, 'epochs': 4, 'nodes': 50}\n",
      "0.524279 (0.020316) with: {'batch_size': 64, 'dropout_rate': 0.3, 'epochs': 4, 'nodes': 100}\n",
      "0.483553 (0.018718) with: {'batch_size': 64, 'dropout_rate': 0.3, 'epochs': 4, 'nodes': 500}\n",
      "0.504287 (0.008873) with: {'batch_size': 64, 'dropout_rate': 0.3, 'epochs': 5, 'nodes': 10}\n",
      "0.533560 (0.011722) with: {'batch_size': 64, 'dropout_rate': 0.3, 'epochs': 5, 'nodes': 50}\n",
      "0.512151 (0.013955) with: {'batch_size': 64, 'dropout_rate': 0.3, 'epochs': 5, 'nodes': 100}\n",
      "0.516417 (0.014532) with: {'batch_size': 64, 'dropout_rate': 0.3, 'epochs': 5, 'nodes': 500}\n",
      "0.497162 (0.020641) with: {'batch_size': 64, 'dropout_rate': 0.3, 'epochs': 7, 'nodes': 10}\n",
      "0.523584 (0.014479) with: {'batch_size': 64, 'dropout_rate': 0.3, 'epochs': 7, 'nodes': 50}\n",
      "0.510722 (0.011579) with: {'batch_size': 64, 'dropout_rate': 0.3, 'epochs': 7, 'nodes': 100}\n",
      "0.509284 (0.009824) with: {'batch_size': 64, 'dropout_rate': 0.3, 'epochs': 7, 'nodes': 500}\n",
      "0.509996 (0.022224) with: {'batch_size': 64, 'dropout_rate': 0.3, 'epochs': 10, 'nodes': 10}\n",
      "0.509293 (0.009362) with: {'batch_size': 64, 'dropout_rate': 0.3, 'epochs': 10, 'nodes': 50}\n",
      "0.507130 (0.013104) with: {'batch_size': 64, 'dropout_rate': 0.3, 'epochs': 10, 'nodes': 100}\n",
      "0.521421 (0.007560) with: {'batch_size': 64, 'dropout_rate': 0.3, 'epochs': 10, 'nodes': 500}\n",
      "0.520022 (0.022277) with: {'batch_size': 64, 'dropout_rate': 0.5, 'epochs': 3, 'nodes': 10}\n",
      "0.523570 (0.003802) with: {'batch_size': 64, 'dropout_rate': 0.5, 'epochs': 3, 'nodes': 50}\n",
      "0.499989 (0.011175) with: {'batch_size': 64, 'dropout_rate': 0.5, 'epochs': 3, 'nodes': 100}\n",
      "0.531431 (0.006455) with: {'batch_size': 64, 'dropout_rate': 0.5, 'epochs': 3, 'nodes': 500}\n",
      "0.514272 (0.013156) with: {'batch_size': 64, 'dropout_rate': 0.5, 'epochs': 4, 'nodes': 10}\n",
      "0.522133 (0.014207) with: {'batch_size': 64, 'dropout_rate': 0.5, 'epochs': 4, 'nodes': 50}\n",
      "0.516423 (0.013436) with: {'batch_size': 64, 'dropout_rate': 0.5, 'epochs': 4, 'nodes': 100}\n",
      "0.514992 (0.010303) with: {'batch_size': 64, 'dropout_rate': 0.5, 'epochs': 4, 'nodes': 500}\n",
      "0.512143 (0.017492) with: {'batch_size': 64, 'dropout_rate': 0.5, 'epochs': 5, 'nodes': 10}\n",
      "0.519992 (0.008482) with: {'batch_size': 64, 'dropout_rate': 0.5, 'epochs': 5, 'nodes': 50}\n",
      "0.502149 (0.012883) with: {'batch_size': 64, 'dropout_rate': 0.5, 'epochs': 5, 'nodes': 100}\n",
      "0.528582 (0.011841) with: {'batch_size': 64, 'dropout_rate': 0.5, 'epochs': 5, 'nodes': 500}\n",
      "0.515008 (0.025629) with: {'batch_size': 64, 'dropout_rate': 0.5, 'epochs': 7, 'nodes': 10}\n",
      "0.520704 (0.011799) with: {'batch_size': 64, 'dropout_rate': 0.5, 'epochs': 7, 'nodes': 50}\n",
      "0.499983 (0.028192) with: {'batch_size': 64, 'dropout_rate': 0.5, 'epochs': 7, 'nodes': 100}\n",
      "0.492125 (0.030632) with: {'batch_size': 64, 'dropout_rate': 0.5, 'epochs': 7, 'nodes': 500}\n",
      "0.506444 (0.015195) with: {'batch_size': 64, 'dropout_rate': 0.5, 'epochs': 10, 'nodes': 10}\n",
      "0.516428 (0.007930) with: {'batch_size': 64, 'dropout_rate': 0.5, 'epochs': 10, 'nodes': 50}\n",
      "0.502140 (0.010082) with: {'batch_size': 64, 'dropout_rate': 0.5, 'epochs': 10, 'nodes': 100}\n",
      "0.486417 (0.021003) with: {'batch_size': 64, 'dropout_rate': 0.5, 'epochs': 10, 'nodes': 500}\n",
      "0.474995 (0.006701) with: {'batch_size': 128, 'dropout_rate': 0.3, 'epochs': 3, 'nodes': 10}\n",
      "0.510005 (0.024140) with: {'batch_size': 128, 'dropout_rate': 0.3, 'epochs': 3, 'nodes': 50}\n",
      "0.535715 (0.001830) with: {'batch_size': 128, 'dropout_rate': 0.3, 'epochs': 3, 'nodes': 100}\n",
      "0.517149 (0.008628) with: {'batch_size': 128, 'dropout_rate': 0.3, 'epochs': 3, 'nodes': 500}\n",
      "0.522862 (0.005715) with: {'batch_size': 128, 'dropout_rate': 0.3, 'epochs': 4, 'nodes': 10}\n",
      "0.525713 (0.010596) with: {'batch_size': 128, 'dropout_rate': 0.3, 'epochs': 4, 'nodes': 50}\n",
      "0.532141 (0.002293) with: {'batch_size': 128, 'dropout_rate': 0.3, 'epochs': 4, 'nodes': 100}\n",
      "0.500702 (0.023011) with: {'batch_size': 128, 'dropout_rate': 0.3, 'epochs': 4, 'nodes': 500}\n",
      "0.536418 (0.016176) with: {'batch_size': 128, 'dropout_rate': 0.3, 'epochs': 5, 'nodes': 10}\n",
      "0.515679 (0.037146) with: {'batch_size': 128, 'dropout_rate': 0.3, 'epochs': 5, 'nodes': 50}\n",
      "0.512859 (0.014070) with: {'batch_size': 128, 'dropout_rate': 0.3, 'epochs': 5, 'nodes': 100}\n",
      "0.507875 (0.030632) with: {'batch_size': 128, 'dropout_rate': 0.3, 'epochs': 5, 'nodes': 500}\n",
      "0.516435 (0.020329) with: {'batch_size': 128, 'dropout_rate': 0.3, 'epochs': 7, 'nodes': 10}\n",
      "0.538573 (0.007164) with: {'batch_size': 128, 'dropout_rate': 0.3, 'epochs': 7, 'nodes': 50}\n",
      "0.505701 (0.019834) with: {'batch_size': 128, 'dropout_rate': 0.3, 'epochs': 7, 'nodes': 100}\n",
      "0.512120 (0.024218) with: {'batch_size': 128, 'dropout_rate': 0.3, 'epochs': 7, 'nodes': 500}\n",
      "0.504309 (0.023346) with: {'batch_size': 128, 'dropout_rate': 0.3, 'epochs': 10, 'nodes': 10}\n",
      "0.498586 (0.018024) with: {'batch_size': 128, 'dropout_rate': 0.3, 'epochs': 10, 'nodes': 50}\n",
      "0.512166 (0.026704) with: {'batch_size': 128, 'dropout_rate': 0.3, 'epochs': 10, 'nodes': 100}\n",
      "0.519972 (0.029694) with: {'batch_size': 128, 'dropout_rate': 0.3, 'epochs': 10, 'nodes': 500}\n",
      "0.517864 (0.041695) with: {'batch_size': 128, 'dropout_rate': 0.5, 'epochs': 3, 'nodes': 10}\n",
      "0.519981 (0.019005) with: {'batch_size': 128, 'dropout_rate': 0.5, 'epochs': 3, 'nodes': 50}\n",
      "0.512831 (0.026001) with: {'batch_size': 128, 'dropout_rate': 0.5, 'epochs': 3, 'nodes': 100}\n",
      "0.507162 (0.022323) with: {'batch_size': 128, 'dropout_rate': 0.5, 'epochs': 3, 'nodes': 500}\n",
      "0.481445 (0.016736) with: {'batch_size': 128, 'dropout_rate': 0.5, 'epochs': 4, 'nodes': 10}\n",
      "0.514972 (0.027292) with: {'batch_size': 128, 'dropout_rate': 0.5, 'epochs': 4, 'nodes': 50}\n",
      "0.499992 (0.019057) with: {'batch_size': 128, 'dropout_rate': 0.5, 'epochs': 4, 'nodes': 100}\n",
      "0.514314 (0.032852) with: {'batch_size': 128, 'dropout_rate': 0.5, 'epochs': 4, 'nodes': 500}\n",
      "0.505018 (0.017782) with: {'batch_size': 128, 'dropout_rate': 0.5, 'epochs': 5, 'nodes': 10}\n",
      "0.508565 (0.029477) with: {'batch_size': 128, 'dropout_rate': 0.5, 'epochs': 5, 'nodes': 50}\n",
      "0.517846 (0.017181) with: {'batch_size': 128, 'dropout_rate': 0.5, 'epochs': 5, 'nodes': 100}\n",
      "0.510730 (0.032596) with: {'batch_size': 128, 'dropout_rate': 0.5, 'epochs': 5, 'nodes': 500}\n",
      "0.523559 (0.013565) with: {'batch_size': 128, 'dropout_rate': 0.5, 'epochs': 7, 'nodes': 10}\n",
      "0.529295 (0.013008) with: {'batch_size': 128, 'dropout_rate': 0.5, 'epochs': 7, 'nodes': 50}\n",
      "0.499298 (0.021572) with: {'batch_size': 128, 'dropout_rate': 0.5, 'epochs': 7, 'nodes': 100}\n",
      "0.507876 (0.021449) with: {'batch_size': 128, 'dropout_rate': 0.5, 'epochs': 7, 'nodes': 500}\n",
      "0.518563 (0.013548) with: {'batch_size': 128, 'dropout_rate': 0.5, 'epochs': 10, 'nodes': 10}\n",
      "0.522152 (0.014967) with: {'batch_size': 128, 'dropout_rate': 0.5, 'epochs': 10, 'nodes': 50}\n",
      "0.512879 (0.022652) with: {'batch_size': 128, 'dropout_rate': 0.5, 'epochs': 10, 'nodes': 100}\n",
      "0.521439 (0.012729) with: {'batch_size': 128, 'dropout_rate': 0.5, 'epochs': 10, 'nodes': 500}\n"
     ]
    }
   ],
   "source": [
    "model = KerasClassifier(build_fn=create_model, verbose=0)\n",
    "# define the grid search parameters\n",
    "batch_size = [8, 16, 64, 128]\n",
    "epochs = [3,4,5,7,10]\n",
    "nodes = [10, 50, 100, 500]\n",
    "dropout_rates = [0.3, 0.5]\n",
    "#optimizer = ['SGD', 'RMSprop', 'Adagrad', 'Adadelta', 'Adam', 'Adamax', 'Nadam']\n",
    "param_grid = dict(batch_size=batch_size, epochs=epochs, nodes=nodes, dropout_rate=dropout_rates)\n",
    "grid = GridSearchCV(estimator=model, param_grid=param_grid, n_jobs=1, cv=3, verbose=1)\n",
    "grid_result = grid.fit(x_seq_train, y_seq_train)\n",
    "# summarize results\n",
    "print(\"Best: %f using %s\" % (grid_result.best_score_, grid_result.best_params_))\n",
    "means = grid_result.cv_results_['mean_test_score']\n",
    "stds = grid_result.cv_results_['std_test_score']\n",
    "params = grid_result.cv_results_['params']\n",
    "for mean, stdev, param in zip(means, stds, params):\n",
    "    print(\"%f (%f) with: %r\" % (mean, stdev, param))"
   ]
  },
  {
   "cell_type": "markdown",
   "metadata": {},
   "source": [
    "### Model Training\n",
    "The model is trained using the hyperparameters found above. "
   ]
  },
  {
   "cell_type": "code",
   "execution_count": 54,
   "metadata": {},
   "outputs": [
    {
     "name": "stdout",
     "output_type": "stream",
     "text": [
      "Train on 1120 samples, validate on 280 samples\n",
      "Epoch 1/8\n",
      "1120/1120 [==============================] - 2s 2ms/sample - loss: 1.2732 - acc: 0.5134 - val_loss: 0.7569 - val_acc: 0.4321\n",
      "Epoch 2/8\n",
      "1120/1120 [==============================] - 0s 149us/sample - loss: 0.7709 - acc: 0.5188 - val_loss: 0.7283 - val_acc: 0.4679\n",
      "Epoch 3/8\n",
      "1120/1120 [==============================] - 0s 127us/sample - loss: 0.7514 - acc: 0.5259 - val_loss: 0.6972 - val_acc: 0.5393\n",
      "Epoch 4/8\n",
      "1120/1120 [==============================] - 0s 85us/sample - loss: 0.6897 - acc: 0.5804 - val_loss: 0.7027 - val_acc: 0.5250\n",
      "Epoch 5/8\n",
      "1120/1120 [==============================] - 0s 92us/sample - loss: 0.6965 - acc: 0.5884 - val_loss: 0.8699 - val_acc: 0.4429\n",
      "Epoch 6/8\n",
      "1120/1120 [==============================] - 0s 115us/sample - loss: 0.7092 - acc: 0.5696 - val_loss: 0.7028 - val_acc: 0.5357\n",
      "Epoch 7/8\n",
      "1120/1120 [==============================] - 0s 116us/sample - loss: 0.6857 - acc: 0.5607 - val_loss: 0.7299 - val_acc: 0.5393\n",
      "Epoch 8/8\n",
      "1120/1120 [==============================] - 0s 99us/sample - loss: 0.6767 - acc: 0.6089 - val_loss: 0.7176 - val_acc: 0.5214\n"
     ]
    }
   ],
   "source": [
    "model = create_model(nodes=grid_result.best_params_['nodes'],\n",
    "                     dropout_rate=grid_result.best_params_['dropout_rate'])\n",
    "\n",
    "earlystop = EarlyStopping(monitor='val_loss',\n",
    "                          patience=2,\n",
    "                          restore_best_weights=True)\n",
    "                         \n",
    "\n",
    "history = model.fit(x_seq_train, y_seq_train,\n",
    "                    validation_split=0.2,\n",
    "                    epochs=8,\n",
    "                    batch_size=grid_result.best_params_['batch_size'],\n",
    "                    verbose=1)"
   ]
  },
  {
   "cell_type": "code",
   "execution_count": 55,
   "metadata": {},
   "outputs": [
    {
     "data": {
      "image/png": "[encoded data removed]",
      "text/plain": [
       "<Figure size 432x288 with 2 Axes>"
      ]
     },
     "metadata": {
      "needs_background": "light"
     },
     "output_type": "display_data"
    },
    {
     "data": {
      "image/png": "[encoded data removed]",
      "text/plain": [
       "<Figure size 432x288 with 2 Axes>"
      ]
     },
     "metadata": {
      "needs_background": "light"
     },
     "output_type": "display_data"
    },
    {
     "data": {
      "image/png": "[encoded data removed]",
      "text/plain": [
       "<Figure size 432x288 with 2 Axes>"
      ]
     },
     "metadata": {
      "needs_background": "light"
     },
     "output_type": "display_data"
    },
    {
     "name": "stdout",
     "output_type": "stream",
     "text": [
      "              precision    recall  f1-score   support\n",
      "\n",
      "         0.0       0.47      0.58      0.52       202\n",
      "         1.0       0.56      0.45      0.50       242\n",
      "\n",
      "    accuracy                           0.51       444\n",
      "   macro avg       0.51      0.51      0.51       444\n",
      "weighted avg       0.52      0.51      0.51       444\n",
      "\n"
     ]
    }
   ],
   "source": [
    "plot_results_nn(history, model)"
   ]
  },
  {
   "cell_type": "markdown",
   "metadata": {},
   "source": [
    "##  Summary\n",
    "None of the models performed significantly better than the other. \n",
    "\n",
    "| Model | Weighted f1-score | Test Accuracy |\n",
    "|------|------| ----|\n",
    "| Logistic Regression  | 0.52 | 0.516 |\n",
    "| Random Forest  | 0.52 | 0.540 |\n",
    "| XGBoost  | 0.54 | 0.547 |\n",
    "| Neural Network  | 0.52 | |"
   ]
  },
  {
   "cell_type": "code",
   "execution_count": null,
   "metadata": {},
   "outputs": [],
   "source": []
  }
 ],
 "metadata": {
  "kernelspec": {
   "display_name": "Python 3",
   "language": "python",
   "name": "python3"
  },
  "language_info": {
   "codemirror_mode": {
    "name": "ipython",
    "version": 3
   },
   "file_extension": ".py",
   "mimetype": "text/x-python",
   "name": "python",
   "nbconvert_exporter": "python",
   "pygments_lexer": "ipython3",
   "version": "3.7.6"
  }
 },
 "nbformat": 4,
 "nbformat_minor": 4
}
