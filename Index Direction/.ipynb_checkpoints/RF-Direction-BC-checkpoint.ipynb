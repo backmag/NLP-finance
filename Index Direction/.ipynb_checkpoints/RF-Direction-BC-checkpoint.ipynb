{
 "cells": [
  {
   "cell_type": "code",
   "execution_count": 13,
   "metadata": {},
   "outputs": [],
   "source": [
    "from tensorflow.keras.layers import Embedding, Dense, Dropout\n",
    "from tensorflow.keras.models import Model, Sequential\n",
    "from tensorflow.keras import optimizers\n",
    "from nltk import word_tokenize\n",
    "from pathlib import Path\n",
    "from sklearn.metrics import confusion_matrix, classification_report\n",
    "from sklearn.ensemble import RandomForestClassifier\n",
    "from xgboost import XGBClassifier\n",
    "import matplotlib.pyplot as plt\n",
    "import gensim\n",
    "import numpy as np\n",
    "import pandas as pd \n",
    "import seaborn as sn\n",
    "import os\n",
    "import io\n",
    "import pickle\n",
    "import random\n",
    "import itertools\n",
    "from importnb import Notebook, reload\n",
    "with Notebook(): \n",
    "    import Utilities"
   ]
  },
  {
   "cell_type": "code",
   "execution_count": 2,
   "metadata": {},
   "outputs": [],
   "source": [
    "def preprocess_text(df):\n",
    "    \"\"\" Tokenize \"\"\"\n",
    "    conc = pd.DataFrame()\n",
    "    for i in set(df.index):\n",
    "        concat_str = ''\n",
    "        for title in df.loc[i]['title']:\n",
    "            concat_str += \" \" + title.lower()\n",
    "        concat_str = word_tokenize(concat_str)\n",
    "        conc = conc.append({'date':i, 'title':concat_str},ignore_index=True)\n",
    "    conc.set_index('date',inplace=True)\n",
    "    conc = conc.sort_values('date')\n",
    "    return conc\n",
    "\n",
    "def title2vec(data, emb_dict,index): \n",
    "    \"\"\"Embed a title with an arbitrary number of words to a vector \n",
    "     with shape(d), where d is the dimension of the embedding. \"\"\"\n",
    "    d = 300\n",
    "    x = np.zeros((len(data), d))\n",
    "    for i,row in enumerate(data.values): \n",
    "        n = 0\n",
    "        temp = np.zeros(d)\n",
    "        for word in row[0]: \n",
    "            if word in emb_dict.keys(): \n",
    "                n += 1\n",
    "                temp = np.add(temp, emb_dict.get(word))\n",
    "        x[i] = temp / n\n",
    "    return x"
   ]
  },
  {
   "cell_type": "code",
   "execution_count": 3,
   "metadata": {},
   "outputs": [],
   "source": [
    "# Specify the path to OneDrive\n",
    "ONEDRIVE_PATH = Path(r\"C:\\Users\\gusta\\Kidbrooke Advisory Ab\\KidbrookeOneDrive - Gustaf Backman exjobb\")\n",
    "\n",
    "config = {\n",
    "    'start_date': '2006-10-20',\n",
    "    'end_date': '2013-11-19',\n",
    "    'lookback': 5,       # Using lookback > 1 is not yet implemented\n",
    "    'delay': 3,\n",
    "    'p': 1,\n",
    "    'd': 1,\n",
    "    'q': 1,\n",
    "    'series': '1 YEAR',\n",
    "}"
   ]
  },
  {
   "cell_type": "code",
   "execution_count": 4,
   "metadata": {},
   "outputs": [],
   "source": [
    "# Load data \n",
    "news_path = ONEDRIVE_PATH / \"Input Data/financial_headlines_20061020-20131119.pkl\"\n",
    "news_data = pd.DataFrame(pd.read_pickle(news_path))\n",
    "news_data.set_index('date',inplace=True)\n",
    "# Tokenize\n",
    "data = preprocess_text(news_data)"
   ]
  },
  {
   "cell_type": "code",
   "execution_count": 5,
   "metadata": {},
   "outputs": [],
   "source": [
    "# Load dictionary of embeddings for this vocabulary (previously constructed)\n",
    "subset_embeddings = ONEDRIVE_PATH / \"Embeddings/GloVe/saved.42B.300d.pkl\"\n",
    "with open(subset_embeddings,'rb') as handle: \n",
    "    emb_dict = pickle.load(handle)"
   ]
  },
  {
   "cell_type": "code",
   "execution_count": 6,
   "metadata": {},
   "outputs": [],
   "source": [
    "# Create an index mapping for all words in the vocabulary\n",
    "word_index = {}\n",
    "i = 1\n",
    "for word in emb_dict.keys(): \n",
    "    word_index.update({word:i})\n",
    "    i += 1"
   ]
  },
  {
   "cell_type": "code",
   "execution_count": 7,
   "metadata": {},
   "outputs": [
    {
     "name": "stdout",
     "output_type": "stream",
     "text": [
      "Total vocabulary size: 29083\n",
      "Words not included in GloVe: 2850\n"
     ]
    }
   ],
   "source": [
    "unique_words = set() \n",
    "for title in data['title']:\n",
    "    for word in title: \n",
    "        unique_words.add(word)\n",
    "print(\"Total vocabulary size:\",len(unique_words))\n",
    "print(\"Words not included in GloVe:\",len(unique_words) - len(emb_dict))\n"
   ]
  },
  {
   "cell_type": "code",
   "execution_count": 8,
   "metadata": {},
   "outputs": [],
   "source": [
    "# Transform the data to the average word embedding each day\n",
    "x = title2vec(data,emb_dict,word_index)\n",
    "\n",
    "# Load the label data\n",
    "y = Utilities.load_direction_labels(config)\n",
    "\n",
    "# Remove last row of the x-matrix, since there's no label for that entry\n",
    "if x.shape[0] != len(y): \n",
    "    x = x[:-1]"
   ]
  },
  {
   "cell_type": "code",
   "execution_count": 9,
   "metadata": {},
   "outputs": [
    {
     "name": "stdout",
     "output_type": "stream",
     "text": [
      "Shape of x_train:  (2064, 300)\n",
      "Shape of y_train:  (2064,)\n"
     ]
    }
   ],
   "source": [
    "(x_train,y_train), (x_test, y_test) = Utilities.shuffle_and_partition(x,y, test_part=0.2)\n",
    "print(\"Shape of x_train: \",x_train.shape)\n",
    "print(\"Shape of y_train: \",y_train.shape)"
   ]
  },
  {
   "cell_type": "code",
   "execution_count": 69,
   "metadata": {},
   "outputs": [],
   "source": [
    "def print_test_data(y_test, y_test_pred): \n",
    "    conf_mat = confusion_matrix(y_test,y_test_pred,normalize='pred')\n",
    "    ax = sn.heatmap(conf_mat,)\n",
    "    ax.set_ylabel(\"True values\")\n",
    "    ax.set_xlabel(\"Predicted values\")\n",
    "    plt.show()\n",
    "    y_sums = np.zeros(2)\n",
    "    y_sums[0] = sum(y_test_pred == 0)\n",
    "    y_sums[1] = sum(y_test_pred == 1)\n",
    "    plt.bar([0,1],y_sums,label='Number of preds')\n",
    "    plt.xticks([0,1])\n",
    "    plt.legend()\n",
    "    plt.show()\n",
    "    y_train_sums = np.zeros(2)\n",
    "    y_train_sums[0] = sum(y_train == 0)\n",
    "    y_train_sums[1] = sum(y_train == 1)\n",
    "    plt.bar([0,1],y_train_sums,label='Distribution in train data')\n",
    "    plt.xticks([0,1])\n",
    "    plt.legend()\n",
    "    plt.show()\n",
    "    print(classification_report(y_test, y_test_pred))"
   ]
  },
  {
   "cell_type": "code",
   "execution_count": 70,
   "metadata": {
    "scrolled": true
   },
   "outputs": [],
   "source": [
    "# Random forest classifier\n",
    "rf_model = RandomForestClassifier(n_estimators=1000)\n",
    "rf_model.fit(x_train,y_train)\n",
    "y_test_pred = rf_model.predict(x_test)"
   ]
  },
  {
   "cell_type": "code",
   "execution_count": 71,
   "metadata": {},
   "outputs": [
    {
     "data": {
      "image/png": "[encoded data removed]",
      "text/plain": [
       "<Figure size 432x288 with 2 Axes>"
      ]
     },
     "metadata": {
      "needs_background": "light"
     },
     "output_type": "display_data"
    },
    {
     "data": {
      "image/png": "[encoded data removed]",
      "text/plain": [
       "<Figure size 432x288 with 1 Axes>"
      ]
     },
     "metadata": {
      "needs_background": "light"
     },
     "output_type": "display_data"
    },
    {
     "data": {
      "image/png": "[encoded data removed]",
      "text/plain": [
       "<Figure size 432x288 with 1 Axes>"
      ]
     },
     "metadata": {
      "needs_background": "light"
     },
     "output_type": "display_data"
    },
    {
     "name": "stdout",
     "output_type": "stream",
     "text": [
      "              precision    recall  f1-score   support\n",
      "\n",
      "         0.0       0.89      0.07      0.12      1061\n",
      "         1.0       0.10      0.93      0.18       120\n",
      "\n",
      "    accuracy                           0.15      1181\n",
      "   macro avg       0.49      0.50      0.15      1181\n",
      "weighted avg       0.81      0.15      0.13      1181\n",
      "\n"
     ]
    }
   ],
   "source": [
    "print_test_data(y_test, y_test_pred)"
   ]
  },
  {
   "cell_type": "code",
   "execution_count": 72,
   "metadata": {},
   "outputs": [
    {
     "data": {
      "image/png": "[encoded data removed]",
      "text/plain": [
       "<Figure size 432x288 with 2 Axes>"
      ]
     },
     "metadata": {
      "needs_background": "light"
     },
     "output_type": "display_data"
    },
    {
     "data": {
      "image/png": "[encoded data removed]",
      "text/plain": [
       "<Figure size 432x288 with 1 Axes>"
      ]
     },
     "metadata": {
      "needs_background": "light"
     },
     "output_type": "display_data"
    },
    {
     "data": {
      "image/png": "[encoded data removed]",
      "text/plain": [
       "<Figure size 432x288 with 1 Axes>"
      ]
     },
     "metadata": {
      "needs_background": "light"
     },
     "output_type": "display_data"
    },
    {
     "name": "stdout",
     "output_type": "stream",
     "text": [
      "              precision    recall  f1-score   support\n",
      "\n",
      "         0.0       0.96      0.09      0.16      1061\n",
      "         1.0       0.11      0.97      0.19       120\n",
      "\n",
      "    accuracy                           0.18      1181\n",
      "   macro avg       0.53      0.53      0.18      1181\n",
      "weighted avg       0.87      0.18      0.16      1181\n",
      "\n"
     ]
    }
   ],
   "source": [
    "# XGBoost classifier\n",
    "xgb_model = XGBClassifier()\n",
    "xgb_model.fit(x_train,y_train)\n",
    "y_test_pred = xgb_model.predict(x_test)\n",
    "print_test_data(y_test, y_test_pred)"
   ]
  },
  {
   "cell_type": "code",
   "execution_count": null,
   "metadata": {},
   "outputs": [],
   "source": []
  },
  {
   "cell_type": "code",
   "execution_count": null,
   "metadata": {},
   "outputs": [],
   "source": []
  },
  {
   "cell_type": "code",
   "execution_count": null,
   "metadata": {},
   "outputs": [],
   "source": []
  }
 ],
 "metadata": {
  "kernelspec": {
   "display_name": "Python 3",
   "language": "python",
   "name": "python3"
  },
  "language_info": {
   "codemirror_mode": {
    "name": "ipython",
    "version": 3
   },
   "file_extension": ".py",
   "mimetype": "text/x-python",
   "name": "python",
   "nbconvert_exporter": "python",
   "pygments_lexer": "ipython3",
   "version": "3.7.6"
  }
 },
 "nbformat": 4,
 "nbformat_minor": 4
}
