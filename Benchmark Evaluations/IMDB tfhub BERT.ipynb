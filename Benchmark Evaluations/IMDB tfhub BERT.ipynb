{
 "cells": [
  {
   "cell_type": "code",
   "execution_count": 44,
   "metadata": {},
   "outputs": [],
   "source": [
    "import tensorflow as tf\n",
    "import tensorflow_hub as hub\n",
    "from tensorflow import keras\n",
    "import bert"
   ]
  },
  {
   "cell_type": "code",
   "execution_count": 30,
   "metadata": {},
   "outputs": [
    {
     "name": "stdout",
     "output_type": "stream",
     "text": [
      "WARNING:tensorflow:From C:\\ProgramData\\Anaconda3\\envs\\nlpenv\\lib\\site-packages\\tensorflow_core\\python\\ops\\resource_variable_ops.py:1786: calling BaseResourceVariable.__init__ (from tensorflow.python.ops.resource_variable_ops) with constraint is deprecated and will be removed in a future version.\n",
      "Instructions for updating:\n",
      "If using Keras pass *_constraint arguments to layers.\n"
     ]
    },
    {
     "name": "stderr",
     "output_type": "stream",
     "text": [
      "WARNING:tensorflow:From C:\\ProgramData\\Anaconda3\\envs\\nlpenv\\lib\\site-packages\\tensorflow_core\\python\\ops\\resource_variable_ops.py:1786: calling BaseResourceVariable.__init__ (from tensorflow.python.ops.resource_variable_ops) with constraint is deprecated and will be removed in a future version.\n",
      "Instructions for updating:\n",
      "If using Keras pass *_constraint arguments to layers.\n"
     ]
    }
   ],
   "source": [
    "module_url = \"https://tfhub.dev/tensorflow/bert_en_uncased_L-12_H-768_A-12/2\"\n",
    "bert_layer = hub.KerasLayer(module_url, trainable=True)\n"
   ]
  },
  {
   "cell_type": "code",
   "execution_count": 40,
   "metadata": {},
   "outputs": [
    {
     "data": {
      "text/plain": [
       "TensorShape([])"
      ]
     },
     "execution_count": 40,
     "metadata": {},
     "output_type": "execute_result"
    }
   ],
   "source": []
  },
  {
   "cell_type": "code",
   "execution_count": 28,
   "metadata": {},
   "outputs": [],
   "source": [
    "vocab_file = bert_layer.resolved_object.vocab_file.asset_path.numpy()\n",
    "do_lower_case = bert_layer.resolved_object.do_lower_case.numpy()\n",
    "tokenizer = tokenization.FullTokenizer(vocab_file, do_lower_case)\n"
   ]
  },
  {
   "cell_type": "code",
   "execution_count": null,
   "metadata": {},
   "outputs": [],
   "source": [
    "max_seq_length = 128  # Your choice here.\n",
    "input_word_ids = tf.keras.layers.Input(shape=(max_seq_length,), dtype=tf.int32,\n",
    "                                       name=\"input_word_ids\")\n",
    "input_mask = tf.keras.layers.Input(shape=(max_seq_length,), dtype=tf.int32,\n",
    "                                   name=\"input_mask\")\n",
    "segment_ids = tf.keras.layers.Input(shape=(max_seq_length,), dtype=tf.int32,\n",
    "                                    name=\"segment_ids\")\n"
   ]
  },
  {
   "cell_type": "code",
   "execution_count": null,
   "metadata": {},
   "outputs": [],
   "source": []
  },
  {
   "cell_type": "code",
   "execution_count": null,
   "metadata": {},
   "outputs": [],
   "source": []
  },
  {
   "cell_type": "code",
   "execution_count": null,
   "metadata": {},
   "outputs": [],
   "source": []
  },
  {
   "cell_type": "code",
   "execution_count": null,
   "metadata": {},
   "outputs": [],
   "source": []
  },
  {
   "cell_type": "code",
   "execution_count": 13,
   "metadata": {},
   "outputs": [
    {
     "ename": "ValueError",
     "evalue": "This model has not yet been built. Build the model first by calling `build()` or calling `fit()` with some data, or specify an `input_shape` argument in the first layer(s) for automatic build.",
     "output_type": "error",
     "traceback": [
      "\u001b[1;31m---------------------------------------------------------------------------\u001b[0m",
      "\u001b[1;31mValueError\u001b[0m                                Traceback (most recent call last)",
      "\u001b[1;32m<ipython-input-13-68db699f9cc0>\u001b[0m in \u001b[0;36m<module>\u001b[1;34m\u001b[0m\n\u001b[0;32m      3\u001b[0m \u001b[0mmodel\u001b[0m\u001b[1;33m.\u001b[0m\u001b[0madd\u001b[0m\u001b[1;33m(\u001b[0m\u001b[0mkeras\u001b[0m\u001b[1;33m.\u001b[0m\u001b[0mlayers\u001b[0m\u001b[1;33m.\u001b[0m\u001b[0mDense\u001b[0m\u001b[1;33m(\u001b[0m\u001b[1;36m1\u001b[0m\u001b[1;33m,\u001b[0m \u001b[0mactivation\u001b[0m\u001b[1;33m=\u001b[0m\u001b[1;34m'sigmoid'\u001b[0m\u001b[1;33m)\u001b[0m\u001b[1;33m)\u001b[0m\u001b[1;33m\u001b[0m\u001b[1;33m\u001b[0m\u001b[0m\n\u001b[0;32m      4\u001b[0m \u001b[0mmodel\u001b[0m\u001b[1;33m.\u001b[0m\u001b[0mcompile\u001b[0m\u001b[1;33m(\u001b[0m\u001b[0mloss\u001b[0m\u001b[1;33m=\u001b[0m\u001b[1;34m'binary_crossentropy'\u001b[0m\u001b[1;33m)\u001b[0m\u001b[1;33m\u001b[0m\u001b[1;33m\u001b[0m\u001b[0m\n\u001b[1;32m----> 5\u001b[1;33m \u001b[0mmodel\u001b[0m\u001b[1;33m.\u001b[0m\u001b[0msummary\u001b[0m\u001b[1;33m(\u001b[0m\u001b[1;33m)\u001b[0m\u001b[1;33m\u001b[0m\u001b[1;33m\u001b[0m\u001b[0m\n\u001b[0m",
      "\u001b[1;32mC:\\ProgramData\\Anaconda3\\envs\\nlpenv\\lib\\site-packages\\tensorflow_core\\python\\keras\\engine\\network.py\u001b[0m in \u001b[0;36msummary\u001b[1;34m(self, line_length, positions, print_fn)\u001b[0m\n\u001b[0;32m   1300\u001b[0m     \"\"\"\n\u001b[0;32m   1301\u001b[0m     \u001b[1;32mif\u001b[0m \u001b[1;32mnot\u001b[0m \u001b[0mself\u001b[0m\u001b[1;33m.\u001b[0m\u001b[0mbuilt\u001b[0m\u001b[1;33m:\u001b[0m\u001b[1;33m\u001b[0m\u001b[1;33m\u001b[0m\u001b[0m\n\u001b[1;32m-> 1302\u001b[1;33m       raise ValueError('This model has not yet been built. '\n\u001b[0m\u001b[0;32m   1303\u001b[0m                        \u001b[1;34m'Build the model first by calling `build()` or calling '\u001b[0m\u001b[1;33m\u001b[0m\u001b[1;33m\u001b[0m\u001b[0m\n\u001b[0;32m   1304\u001b[0m                        \u001b[1;34m'`fit()` with some data, or specify '\u001b[0m\u001b[1;33m\u001b[0m\u001b[1;33m\u001b[0m\u001b[0m\n",
      "\u001b[1;31mValueError\u001b[0m: This model has not yet been built. Build the model first by calling `build()` or calling `fit()` with some data, or specify an `input_shape` argument in the first layer(s) for automatic build."
     ]
    }
   ],
   "source": [
    "model = keras.models.Sequential()\n",
    "model.add(embed)\n",
    "model.add(keras.layers.Dense(1, activation='sigmoid'))\n",
    "model.compile(loss='binary_crossentropy')\n",
    "model.summary()"
   ]
  },
  {
   "cell_type": "code",
   "execution_count": 7,
   "metadata": {},
   "outputs": [
    {
     "name": "stdout",
     "output_type": "stream",
     "text": [
      "tf.Tensor(\n",
      "[[ 3.09448037e-02  7.95426778e-03 -8.45847279e-02  9.60434675e-02\n",
      "   8.41869880e-03 -2.03709513e-01  8.90742764e-02  6.98780045e-02\n",
      "  -1.94889940e-02  2.03302577e-02  1.95790112e-01  4.07546945e-02\n",
      "  -3.25810462e-02 -9.74791050e-02  1.42266229e-01  3.49054188e-02\n",
      "   8.35704356e-02  3.25212479e-02  3.81346345e-02  6.50090724e-02\n",
      "  -1.93361808e-02 -4.86893300e-03  7.03553483e-02 -3.70951258e-02\n",
      "  -7.50075979e-03 -8.20044130e-02  5.37993424e-02 -1.08134568e-01\n",
      "  -6.72038570e-02  2.29126513e-02 -6.44834712e-02  4.68812138e-02\n",
      "  -1.20584711e-01  7.35548958e-02  1.07751586e-01  1.09585546e-01\n",
      "   1.77604030e-03 -3.98439467e-02 -2.18374487e-02  6.22166507e-02\n",
      "   2.35900693e-02  3.00479438e-02  4.66471836e-02  1.64284110e-01\n",
      "  -4.01231237e-02  1.42713249e-01 -1.90753803e-01  5.26756644e-02\n",
      "   2.53401753e-02  4.60510254e-02  7.29086250e-02 -7.16525540e-02\n",
      "  -2.47096136e-01  1.51038289e-01 -7.76702631e-03  1.35624051e-01\n",
      "  -2.40315404e-02 -1.19594876e-02  8.44296366e-02 -1.02575988e-01\n",
      "   9.98479351e-02 -2.31028143e-02  6.82706013e-02  8.86551812e-02\n",
      "  -5.68663515e-02 -3.56380120e-02  2.66838577e-02  8.26430395e-02\n",
      "   2.56629586e-01  7.60897398e-02  9.01171193e-02 -1.63528904e-01\n",
      "  -1.32091373e-01  6.92932978e-02 -1.07116774e-01 -8.36328790e-02\n",
      "  -1.08989716e-01 -3.60458978e-02 -9.38539207e-02 -2.41469163e-02\n",
      "  -1.29763931e-01 -7.39983916e-02  3.23264091e-03  6.61170483e-02\n",
      "  -5.51831461e-02  1.10853650e-01  3.47804911e-02 -3.23075540e-02\n",
      "  -2.16539484e-02 -3.04292217e-02  6.49309233e-02 -6.92880824e-02\n",
      "  -6.27991185e-02  3.75949070e-02  3.22860740e-02  1.97531562e-02\n",
      "   1.46902176e-02 -3.17324847e-02 -2.22651996e-02  1.18167251e-01\n",
      "   7.88788050e-02 -5.11682257e-02  7.88403861e-03  2.60633379e-02\n",
      "   1.00065067e-01  1.15657315e-01  7.52750337e-02  3.24605964e-02\n",
      "   1.05262727e-01  7.49784485e-02  1.37994429e-02 -1.18503850e-02\n",
      "  -1.63733971e-03  9.17149037e-02 -7.42737502e-02 -1.74795374e-01\n",
      "  -6.84147626e-02 -2.02458389e-02 -1.17667452e-01  5.03853709e-02\n",
      "   1.56732574e-01 -4.79842797e-02  1.30472019e-01  3.13908719e-02\n",
      "  -1.04115613e-01  1.65620416e-01 -2.53777839e-02  2.32460117e-03]\n",
      " [-1.11038424e-01  3.77766155e-02 -1.89219400e-01 -5.35208406e-03\n",
      "   2.44413331e-01 -3.59707978e-03 -1.08036637e-01  1.21582225e-01\n",
      "   1.35338724e-01 -1.11184224e-01 -1.42781734e-01  9.89719853e-02\n",
      "   1.44567937e-02  1.06639102e-01  8.77338126e-02 -1.83511656e-02\n",
      "  -4.03270498e-02  2.37856824e-02  1.48475477e-02 -1.88448474e-01\n",
      "   9.63178426e-02 -6.43709600e-02 -2.44476851e-02  4.50750217e-02\n",
      "  -4.69583087e-02 -8.80519003e-02 -7.60550424e-02  1.23124748e-01\n",
      "   1.14475727e-01  1.99885413e-01 -8.01633373e-02 -2.27243807e-02\n",
      "  -3.73943523e-02 -1.49577945e-01 -1.04642324e-01  5.18768514e-03\n",
      "   1.39832586e-01 -3.19489054e-02  1.57824397e-04  1.32288396e-01\n",
      "   2.26519872e-02  1.35085329e-01 -5.71936816e-02 -5.88831380e-02\n",
      "  -1.54506370e-01  5.99771179e-02  1.07082009e-01 -8.69777277e-02\n",
      "  -7.47493282e-02  7.89538026e-02 -9.99376625e-02 -2.98377629e-02\n",
      "  -1.57834068e-01  2.01519467e-02  2.32250914e-02 -8.86319391e-03\n",
      "  -3.21194567e-02  4.45802659e-02 -2.38755960e-02 -1.59983728e-02\n",
      "  -1.28481165e-01 -7.75891319e-02 -3.99369776e-04  5.80384694e-02\n",
      "  -2.17992328e-02 -5.06873801e-02  5.28850146e-02 -1.05489843e-01\n",
      "  -8.69506523e-02  8.06262717e-02 -1.66429654e-02 -6.70587271e-02\n",
      "   2.48926785e-02  1.53794527e-01  6.95064664e-02 -7.89323226e-02\n",
      "  -2.02116258e-02 -6.13169596e-02 -4.21349891e-02 -6.01425115e-03\n",
      "  -2.17561889e-02  1.94043085e-01  3.82045209e-02  3.73004787e-02\n",
      "  -5.33683784e-02  5.08253090e-02  1.19034745e-01 -9.36481655e-02\n",
      "  -2.10105941e-01 -1.11984551e-01 -5.33907935e-02 -3.16911116e-02\n",
      "   1.21794930e-02  2.57871479e-01 -4.10106704e-02 -5.29030450e-02\n",
      "   1.37392968e-01 -1.05570309e-01  3.66473496e-02 -8.66378546e-02\n",
      "   1.88504666e-01  1.16615489e-01 -7.12580606e-02  1.66927818e-02\n",
      "  -8.92053545e-02 -1.72379225e-01 -2.03299820e-02 -3.76043618e-02\n",
      "   6.51691183e-02  7.00111538e-02  1.67428050e-02 -2.12236289e-02\n",
      "   3.94664593e-02  5.40921725e-02  2.80080289e-02  2.60787427e-01\n",
      "  -4.69311439e-02  1.88039869e-01 -8.39077160e-02 -1.23760067e-01\n",
      "   2.23214850e-01  2.25832701e-01  1.30909100e-01  6.58860654e-02\n",
      "  -8.06891769e-02  2.16308057e-01 -1.94933899e-02  5.88639034e-03]\n",
      " [-1.36025608e-01 -1.95490733e-01 -1.36122003e-01  2.32202038e-02\n",
      "  -1.97391480e-01  1.19992502e-01 -7.93170631e-02 -1.30810672e-02\n",
      "   1.64018691e-01 -6.98380619e-02 -1.50886234e-02  4.62767594e-02\n",
      "  -1.30817285e-02  8.81847143e-02  5.35930358e-02  9.50965881e-02\n",
      "   1.56991065e-01 -8.43904093e-02 -4.27199341e-02  1.55123211e-02\n",
      "  -4.62000221e-02 -3.80828008e-02  2.30796352e-01  5.51258400e-02\n",
      "  -1.33057043e-01 -1.97329726e-02  1.50978528e-02  6.49008602e-02\n",
      "   4.30867933e-02 -5.82614765e-02  4.85559553e-02  4.21435572e-03\n",
      "  -2.50590947e-02 -1.05538994e-01  4.86534946e-02 -6.66645095e-02\n",
      "   5.34904264e-02 -3.69476750e-02  3.43753444e-03 -2.80305855e-02\n",
      "   6.49050623e-02  2.85001267e-02  1.63497105e-01 -8.07845742e-02\n",
      "   9.18169916e-02 -5.58509454e-02 -5.20109199e-02 -1.33938223e-01\n",
      "  -2.85492446e-02 -6.50364012e-02 -1.26355097e-01  3.34671400e-02\n",
      "   6.58848435e-02 -2.35193655e-01 -1.59458332e-02  8.28509405e-02\n",
      "  -5.70508651e-02 -7.16089159e-02  2.12425273e-02  1.05628911e-02\n",
      "   1.12300046e-01  1.00218780e-01 -6.08583838e-02  1.23200811e-01\n",
      "   5.22855558e-02 -1.40601590e-01 -2.62414981e-02 -3.41046043e-02\n",
      "   1.06377840e-01  1.20472327e-01  3.90934665e-03 -8.61655921e-02\n",
      "  -5.97439967e-02 -1.86990693e-01 -1.01022180e-02 -2.91215368e-02\n",
      "  -9.75979492e-02  4.10740785e-02  6.44781590e-02  1.05953820e-01\n",
      "  -3.13061103e-02  6.10488579e-02  6.86935112e-02  1.32143768e-02\n",
      "  -8.36828202e-02  7.74797052e-02  6.36401922e-02 -2.49053799e-02\n",
      "  -3.29661034e-02 -9.22956094e-02 -1.02869697e-01  2.70127729e-02\n",
      "  -3.32275331e-02  9.32093933e-02  1.18875705e-01  1.55877220e-02\n",
      "  -4.79958802e-02  5.03109358e-02 -2.99779437e-02  1.30235374e-01\n",
      "  -1.18031085e-01  4.89582866e-02 -7.90297836e-02  9.15928185e-03\n",
      "   1.91453192e-02  3.63572501e-02 -3.60196158e-02 -8.40214640e-02\n",
      "   1.00957699e-01 -5.33660538e-02  2.57906839e-02  1.73141062e-01\n",
      "  -9.45919678e-02  9.98840705e-02 -8.42368752e-02  1.23869978e-01\n",
      "   9.47836190e-02  1.36204332e-01  1.10179536e-01 -1.60987645e-01\n",
      "   1.37478728e-02  1.16132736e-01  7.06740618e-02 -1.27653778e-01\n",
      "   2.34161150e-02  1.02979235e-01  6.13618158e-02 -1.18638173e-01]], shape=(3, 128), dtype=float32)\n"
     ]
    }
   ],
   "source": [
    "embeddings = embed([\"A long sentence.\", \"single-word\",\"http://example.com\"])\n",
    "print(embeddings)  #(3,128)"
   ]
  },
  {
   "cell_type": "code",
   "execution_count": null,
   "metadata": {},
   "outputs": [],
   "source": []
  }
 ],
 "metadata": {
  "kernelspec": {
   "display_name": "Python 3",
   "language": "python",
   "name": "python3"
  },
  "language_info": {
   "codemirror_mode": {
    "name": "ipython",
    "version": 3
   },
   "file_extension": ".py",
   "mimetype": "text/x-python",
   "name": "python",
   "nbconvert_exporter": "python",
   "pygments_lexer": "ipython3",
   "version": "3.6.10"
  }
 },
 "nbformat": 4,
 "nbformat_minor": 4
}
