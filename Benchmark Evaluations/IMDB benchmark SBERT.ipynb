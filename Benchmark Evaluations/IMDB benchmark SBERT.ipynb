{
 "cells": [
  {
   "cell_type": "markdown",
   "metadata": {},
   "source": [
    "### IMDB Benchmarking\n",
    "This notebook trains and evaluates different language representations and classification models on the IMDB movie review dataset. The dataset contains 50,000 highily polarized reviews of movies which is labeled as positive or negative. State of the art models currently have an accuracy of ~91 - 96 %, according to [nlpprogress.com](http://nlpprogress.com/english/sentiment_analysis.html)."
   ]
  },
  {
   "cell_type": "code",
   "execution_count": 15,
   "metadata": {},
   "outputs": [],
   "source": [
    "import pandas as pd\n",
    "import numpy as np\n",
    "import seaborn as sn\n",
    "import matplotlib.pyplot as plt\n",
    "from pathlib import Path\n",
    "from nltk.tokenize import word_tokenize, sent_tokenize\n",
    "from sklearn.metrics import classification_report, plot_confusion_matrix, confusion_matrix, f1_score\n",
    "from sklearn.linear_model import LogisticRegression\n",
    "from sklearn.discriminant_analysis import LinearDiscriminantAnalysis\n",
    "from sklearn.ensemble import RandomForestClassifier\n",
    "from sklearn.model_selection import GridSearchCV\n",
    "from sklearn import svm\n",
    "from sklearn.dummy import DummyClassifier\n",
    "from sklearn.base import ClassifierMixin, BaseEstimator\n",
    "from tensorflow.keras.optimizers import RMSprop\n",
    "from tensorflow.keras.callbacks import EarlyStopping\n",
    "from tensorflow.keras.wrappers.scikit_learn import KerasClassifier\n",
    "from sentence_transformers import SentenceTransformer\n",
    "import tensorflow as tf\n",
    "from tensorflow.keras import backend as K\n",
    "from tensorflow.keras.layers import Dense, Dropout, Embedding, Masking, Lambda, Layer, Flatten\n",
    "from tensorflow.keras.models import Sequential\n",
    "from tensorflow.keras.optimizers import RMSprop, Adam\n",
    "import os\n",
    "import itertools\n",
    "from tqdm import tqdm, trange"
   ]
  },
  {
   "cell_type": "markdown",
   "metadata": {},
   "source": [
    "#### Load the IMDB data as raw text and labels"
   ]
  },
  {
   "cell_type": "code",
   "execution_count": 3,
   "metadata": {},
   "outputs": [
    {
     "data": {
      "text/html": [
       "<div>\n",
       "<style scoped>\n",
       "    .dataframe tbody tr th:only-of-type {\n",
       "        vertical-align: middle;\n",
       "    }\n",
       "\n",
       "    .dataframe tbody tr th {\n",
       "        vertical-align: top;\n",
       "    }\n",
       "\n",
       "    .dataframe thead th {\n",
       "        text-align: right;\n",
       "    }\n",
       "</style>\n",
       "<table border=\"1\" class=\"dataframe\">\n",
       "  <thead>\n",
       "    <tr style=\"text-align: right;\">\n",
       "      <th></th>\n",
       "      <th>review</th>\n",
       "      <th>sentiment</th>\n",
       "    </tr>\n",
       "  </thead>\n",
       "  <tbody>\n",
       "    <tr>\n",
       "      <th>0</th>\n",
       "      <td>One of the other reviewers has mentioned that ...</td>\n",
       "      <td>positive</td>\n",
       "    </tr>\n",
       "    <tr>\n",
       "      <th>1</th>\n",
       "      <td>A wonderful little production. &lt;br /&gt;&lt;br /&gt;The...</td>\n",
       "      <td>positive</td>\n",
       "    </tr>\n",
       "    <tr>\n",
       "      <th>2</th>\n",
       "      <td>I thought this was a wonderful way to spend ti...</td>\n",
       "      <td>positive</td>\n",
       "    </tr>\n",
       "    <tr>\n",
       "      <th>3</th>\n",
       "      <td>Basically there's a family where a little boy ...</td>\n",
       "      <td>negative</td>\n",
       "    </tr>\n",
       "    <tr>\n",
       "      <th>4</th>\n",
       "      <td>Petter Mattei's \"Love in the Time of Money\" is...</td>\n",
       "      <td>positive</td>\n",
       "    </tr>\n",
       "  </tbody>\n",
       "</table>\n",
       "</div>"
      ],
      "text/plain": [
       "                                              review sentiment\n",
       "0  One of the other reviewers has mentioned that ...  positive\n",
       "1  A wonderful little production. <br /><br />The...  positive\n",
       "2  I thought this was a wonderful way to spend ti...  positive\n",
       "3  Basically there's a family where a little boy ...  negative\n",
       "4  Petter Mattei's \"Love in the Time of Money\" is...  positive"
      ]
     },
     "execution_count": 3,
     "metadata": {},
     "output_type": "execute_result"
    }
   ],
   "source": [
    "ONEDRIVE_PATH = Path(r\"C:\\Users\\gusta\\Kidbrooke Advisory Ab\\KidbrookeOneDrive - Gustaf Backman exjobb\")\n",
    "\n",
    "imdb_path = ONEDRIVE_PATH / 'Benchmark Datasets/IMDB Dataset.csv'\n",
    "imdb = pd.read_csv(imdb_path)\n",
    "imdb.head()"
   ]
  },
  {
   "cell_type": "code",
   "execution_count": 4,
   "metadata": {},
   "outputs": [],
   "source": [
    "# Remove line breaks (<br />)\n",
    "# Remove single line breaks (<br />)\n",
    "for i in range(len(imdb)):\n",
    "    imdb.iloc[i]['review'] = imdb.iloc[i]['review'].replace('<br />', ' ')"
   ]
  },
  {
   "cell_type": "markdown",
   "metadata": {},
   "source": [
    "#### Format the data with SBERT\n"
   ]
  },
  {
   "cell_type": "code",
   "execution_count": 5,
   "metadata": {},
   "outputs": [],
   "source": [
    "# Load a pre-trained SBERT-model \n",
    "sbert_model = SentenceTransformer('bert-base-nli-mean-tokens')"
   ]
  },
  {
   "cell_type": "code",
   "execution_count": 6,
   "metadata": {},
   "outputs": [
    {
     "name": "stdout",
     "output_type": "stream",
     "text": [
      "Loaded previously saved embeddings.\n"
     ]
    }
   ],
   "source": [
    "path = ONEDRIVE_PATH / \"Input Data/IMDB_embedded_bert_base_nli_mean.npy\"\n",
    "# Check if an embedding matrix for the IMDB dataset has been previously constructed \n",
    "if os.path.exists(path):\n",
    "    x = np.load(path)\n",
    "    embed_dim = x.shape[-1]\n",
    "    print(\"Loaded previously saved embeddings.\")\n",
    "else:\n",
    "    # Create embedding matrix for every sample with the mean embedding over all sentences in that review\n",
    "    x = np.zeros((50000, 768)) \n",
    "    for i,review in enumerate(imdb['review']):\n",
    "        if i % 100: \n",
    "            print(\"{} % ...\".format(round(100 * i / len(imdb['review']),3)),end='\\r')\n",
    "        sbert_revs = sbert_model.encode(sent_tokenize(review))\n",
    "        x[i] = np.mean(sbert_revs,axis=0)\n",
    "    print(\"100 %           \",end='\\r')\n",
    "    np.save(path,x)"
   ]
  },
  {
   "cell_type": "code",
   "execution_count": 7,
   "metadata": {},
   "outputs": [],
   "source": [
    "# Partition into training/test set (data is already shuffled)\n",
    "x_train = x[:25000]\n",
    "x_test = x[25000:]\n",
    "\n",
    "# Assign labels to variables for convenience\n",
    "y_train = np.zeros((25000))\n",
    "y_test = np.zeros((25000))\n",
    "for i in range(len(y_train)):\n",
    "    if imdb.iloc[i]['sentiment'] == 'positive':\n",
    "        y_train[i] = 1\n",
    "    if imdb.iloc[25000 + i]['sentiment'] == 'positive':\n",
    "        y_test[i] = 1"
   ]
  },
  {
   "cell_type": "code",
   "execution_count": 8,
   "metadata": {
    "scrolled": true
   },
   "outputs": [
    {
     "name": "stdout",
     "output_type": "stream",
     "text": [
      "Shape of training data: (25000, 768)\n",
      "Shape of test data: (25000, 768)\n",
      "Ratio positive reviews in training data: 0.49896\n",
      "Ratio positive reviews in test data: 0.50104\n"
     ]
    }
   ],
   "source": [
    "# Sanity check of shapes and label balance\n",
    "print(\"Shape of training data:\",x_train.shape)\n",
    "print(\"Shape of test data:\",x_test.shape)\n",
    "print(\"Ratio positive reviews in training data:\",np.sum(y_train) / len(y_train))\n",
    "print(\"Ratio positive reviews in test data:\",np.sum(y_test) / len(y_test))"
   ]
  },
  {
   "cell_type": "code",
   "execution_count": 10,
   "metadata": {},
   "outputs": [],
   "source": [
    "def plot_results(model,x_test, y_test,save=False, name=''):\n",
    "    y_test_preds = model.predict(x_test)\n",
    "    print(classification_report(y_test, y_test_preds))\n",
    "    print(\"Test accuracy:\",model.score(x_test, y_test))\n",
    "    plot_confusion_matrix(model,x_test,y_test)\n",
    "    if save:\n",
    "        plt.savefig(\"Figs SBERT/\" + name + \"confmat.jpg\")\n",
    "    plt.show()\n",
    "    \n",
    "def plot_results_nn(history, model,save=False, name=''):\n",
    "    plt.subplot(121)\n",
    "    plt.plot(history.history['loss'],label='Loss')\n",
    "    plt.plot(history.history['val_loss'],label='Val loss')\n",
    "    plt.legend()\n",
    "    plt.subplot(122)\n",
    "    plt.plot(history.history['acc'],label='Acc')\n",
    "    plt.plot(history.history['val_acc'],label='Val acc')\n",
    "    plt.legend()\n",
    "    if save:\n",
    "        plt.savefig(\"Figs SBERT/\" + name + \"history.jpg\")\n",
    "    plt.show() \n",
    "    y_test_pred = np.round(model.predict(x_test))\n",
    "    plt.subplot(121)\n",
    "    plt.bar([0,1],[np.sum(y_test == 0), np.sum(y_test == 1)], label='Actual test dist')\n",
    "    plt.legend()\n",
    "    plt.xticks([0, 1])\n",
    "    plt.subplot(122)\n",
    "    plt.bar([0,1],[np.sum(y_test_pred == 0), np.sum(y_test_pred == 1)], label='Pred test dist')\n",
    "    plt.legend()\n",
    "    plt.xticks([0, 1])\n",
    "    plt.show()\n",
    "    conf_mat = confusion_matrix(y_test,y_test_pred,normalize='pred')\n",
    "    ax = sn.heatmap(conf_mat,)\n",
    "    ax.set_ylabel(\"True values\")\n",
    "    ax.set_xlabel(\"Predicted values\")\n",
    "    if save: \n",
    "        plt.savefig(\"Figs SBERT/\" + name + \"confmat.jpg\")\n",
    "    plt.show()\n",
    "    print(classification_report(y_test, y_test_pred))\n",
    "    print(\"Test accuracy:\",sum((np.transpose(y_test_pred) == y_test)[0]) / len(y_test))"
   ]
  },
  {
   "cell_type": "markdown",
   "metadata": {},
   "source": [
    "## Random Classifier\n",
    "Just for real simple comparison. "
   ]
  },
  {
   "cell_type": "code",
   "execution_count": 55,
   "metadata": {},
   "outputs": [
    {
     "name": "stdout",
     "output_type": "stream",
     "text": [
      "              precision    recall  f1-score   support\n",
      "\n",
      "         0.0       0.50      0.50      0.50     12474\n",
      "         1.0       0.50      0.50      0.50     12526\n",
      "\n",
      "    accuracy                           0.50     25000\n",
      "   macro avg       0.50      0.50      0.50     25000\n",
      "weighted avg       0.50      0.50      0.50     25000\n",
      "\n",
      "Test accuracy: 0.50592\n"
     ]
    },
    {
     "name": "stderr",
     "output_type": "stream",
     "text": [
      "C:\\ProgramData\\Anaconda3\\envs\\nlpenv\\lib\\site-packages\\sklearn\\dummy.py:132: FutureWarning: The default value of strategy will change from stratified to prior in 0.24.\n",
      "  \"stratified to prior in 0.24.\", FutureWarning)\n"
     ]
    },
    {
     "data": {
      "image/png": "[encoded data removed]",
      "text/plain": [
       "<Figure size 432x288 with 2 Axes>"
      ]
     },
     "metadata": {
      "needs_background": "light"
     },
     "output_type": "display_data"
    }
   ],
   "source": [
    "# Dummy Classifier\n",
    "dummy_clf = DummyClassifier().fit(x_train, y_train)\n",
    "plot_results(dummy_clf, x_test, y_test)"
   ]
  },
  {
   "cell_type": "markdown",
   "metadata": {},
   "source": [
    "### Logistic Regression with SBERT"
   ]
  },
  {
   "cell_type": "code",
   "execution_count": 11,
   "metadata": {},
   "outputs": [
    {
     "name": "stdout",
     "output_type": "stream",
     "text": [
      "              precision    recall  f1-score   support\n",
      "\n",
      "         0.0       0.91      0.91      0.91     12474\n",
      "         1.0       0.91      0.91      0.91     12526\n",
      "\n",
      "    accuracy                           0.91     25000\n",
      "   macro avg       0.91      0.91      0.91     25000\n",
      "weighted avg       0.91      0.91      0.91     25000\n",
      "\n",
      "Test accuracy: 0.90712\n"
     ]
    },
    {
     "data": {
      "image/png": "[encoded data removed]",
      "text/plain": [
       "<Figure size 432x288 with 2 Axes>"
      ]
     },
     "metadata": {
      "needs_background": "light"
     },
     "output_type": "display_data"
    }
   ],
   "source": [
    "# Logistic regression\n",
    "logreg = LogisticRegression(random_state=0,max_iter=1000).fit(x_train, y_train)\n",
    "plot_results(logreg,x_test, y_test)"
   ]
  },
  {
   "cell_type": "markdown",
   "metadata": {},
   "source": [
    "### Support Vector Machine with SBERT"
   ]
  },
  {
   "cell_type": "code",
   "execution_count": 158,
   "metadata": {},
   "outputs": [
    {
     "name": "stdout",
     "output_type": "stream",
     "text": [
      "              precision    recall  f1-score   support\n",
      "\n",
      "         0.0       0.90      0.90      0.90     12474\n",
      "         1.0       0.90      0.90      0.90     12526\n",
      "\n",
      "    accuracy                           0.90     25000\n",
      "   macro avg       0.90      0.90      0.90     25000\n",
      "weighted avg       0.90      0.90      0.90     25000\n",
      "\n",
      "Test accuracy: 0.89996\n"
     ]
    },
    {
     "data": {
      "image/png": "[encoded data removed]",
      "text/plain": [
       "<Figure size 432x288 with 2 Axes>"
      ]
     },
     "metadata": {
      "needs_background": "light"
     },
     "output_type": "display_data"
    }
   ],
   "source": [
    "svm_clf = svm.SVC().fit(x_train, y_train)\n",
    "plot_results(svm_clf, x_test, y_test,save=True,name='svm')"
   ]
  },
  {
   "cell_type": "markdown",
   "metadata": {},
   "source": [
    "### Random Forest with SBERT"
   ]
  },
  {
   "cell_type": "code",
   "execution_count": 162,
   "metadata": {
    "scrolled": true
   },
   "outputs": [
    {
     "name": "stdout",
     "output_type": "stream",
     "text": [
      "Fitting 3 folds for each of 20 candidates, totalling 60 fits\n"
     ]
    },
    {
     "name": "stderr",
     "output_type": "stream",
     "text": [
      "[Parallel(n_jobs=-1)]: Using backend LokyBackend with 8 concurrent workers.\n",
      "[Parallel(n_jobs=-1)]: Done  34 tasks      | elapsed: 298.8min\n",
      "[Parallel(n_jobs=-1)]: Done  60 out of  60 | elapsed: 588.7min finished\n"
     ]
    },
    {
     "name": "stdout",
     "output_type": "stream",
     "text": [
      "Best: 0.865358 using {'max_depth': None, 'n_estimators': 5000}\n",
      "0.864358 (0.005104) with: {'max_depth': None, 'n_estimators': 1000}\n",
      "0.864598 (0.005344) with: {'max_depth': None, 'n_estimators': 2500}\n",
      "0.865358 (0.004788) with: {'max_depth': None, 'n_estimators': 5000}\n",
      "0.864918 (0.004947) with: {'max_depth': None, 'n_estimators': 7500}\n",
      "0.862035 (0.004965) with: {'max_depth': 10, 'n_estimators': 1000}\n",
      "0.862796 (0.004313) with: {'max_depth': 10, 'n_estimators': 2500}\n",
      "0.862676 (0.004586) with: {'max_depth': 10, 'n_estimators': 5000}\n",
      "0.862395 (0.004355) with: {'max_depth': 10, 'n_estimators': 7500}\n",
      "0.864598 (0.005218) with: {'max_depth': 50, 'n_estimators': 1000}\n",
      "0.864838 (0.004200) with: {'max_depth': 50, 'n_estimators': 2500}\n",
      "0.864558 (0.004656) with: {'max_depth': 50, 'n_estimators': 5000}\n",
      "0.864998 (0.005246) with: {'max_depth': 50, 'n_estimators': 7500}\n",
      "0.864118 (0.005641) with: {'max_depth': 100, 'n_estimators': 1000}\n",
      "0.864239 (0.004521) with: {'max_depth': 100, 'n_estimators': 2500}\n",
      "0.864518 (0.005149) with: {'max_depth': 100, 'n_estimators': 5000}\n",
      "0.865118 (0.004740) with: {'max_depth': 100, 'n_estimators': 7500}\n",
      "0.864518 (0.003800) with: {'max_depth': 500, 'n_estimators': 1000}\n",
      "0.864958 (0.004046) with: {'max_depth': 500, 'n_estimators': 2500}\n",
      "0.864917 (0.005157) with: {'max_depth': 500, 'n_estimators': 5000}\n",
      "0.864838 (0.005598) with: {'max_depth': 500, 'n_estimators': 7500}\n",
      "              precision    recall  f1-score   support\n",
      "\n",
      "         0.0       0.88      0.86      0.87     12474\n",
      "         1.0       0.86      0.88      0.87     12526\n",
      "\n",
      "    accuracy                           0.87     25000\n",
      "   macro avg       0.87      0.87      0.87     25000\n",
      "weighted avg       0.87      0.87      0.87     25000\n",
      "\n",
      "Test accuracy: 0.8706\n"
     ]
    },
    {
     "data": {
      "image/png": "[encoded data removed]",
      "text/plain": [
       "<Figure size 432x288 with 2 Axes>"
      ]
     },
     "metadata": {
      "needs_background": "light"
     },
     "output_type": "display_data"
    }
   ],
   "source": [
    "# Random Forest\n",
    "\n",
    "rf_param_grid = dict(max_depth=[None, 10, 50, 100, 500],\n",
    "                  n_estimators=[1000, 2500, 5000, 7500])\n",
    "rf_grid = GridSearchCV(estimator=RandomForestClassifier(), \n",
    "                       param_grid=rf_param_grid, \n",
    "                       n_jobs=-1, \n",
    "                       cv=3, \n",
    "                       scoring='f1_weighted',\n",
    "                       verbose=1)\n",
    "rf_grid_result = rf_grid.fit(x_train, y_train)\n",
    "# summarize results\n",
    "print(\"Best: %f using %s\" % (rf_grid_result.best_score_, rf_grid_result.best_params_))\n",
    "rf_means = rf_grid_result.cv_results_['mean_test_score']\n",
    "rf_stds = rf_grid_result.cv_results_['std_test_score']\n",
    "rf_params = rf_grid_result.cv_results_['params']\n",
    "for mean, stdev, param in zip(rf_means, rf_stds, rf_params):\n",
    "    print(\"%f (%f) with: %r\" % (mean, stdev, param))\n",
    "\n",
    "# Fit the model with the best parameters found in the cross validation. \n",
    "randomforest = RandomForestClassifier(max_depth=rf_grid_result.best_params_['max_depth'],\n",
    "                                      n_estimators=rf_grid_result.best_params_['n_estimators']).fit(x_train, y_train)\n",
    "plot_results(randomforest,x_test, y_test)"
   ]
  },
  {
   "cell_type": "markdown",
   "metadata": {},
   "source": [
    "### Neural Network\n",
    "The SBERT-embeddings are here simply used as a pre-processing step and the data is fed into a regular feed-forward netowrk. "
   ]
  },
  {
   "cell_type": "code",
   "execution_count": 12,
   "metadata": {},
   "outputs": [],
   "source": [
    "def create_model_ff(nodes1=100, nodes2=50, dropout_rate=0.3, optimizer='rmsprop', learning_rate=0.001):\n",
    "    if optimizer.lower() == 'rmsprop': \n",
    "        optimizer = RMSprop(learning_rate = learning_rate)\n",
    "    elif optimizer.lower() == 'adam':\n",
    "        optimizer = Adam(learning_rate = learning_rate)\n",
    "    model = Sequential() \n",
    "    if nodes1 == 0: \n",
    "        model.add(Dense(1, input_shape=x_train.shape[1:], activation='sigmoid'))\n",
    "        model.compile(optimizer=optimizer, loss='binary_crossentropy', metrics=['acc'])\n",
    "        return model \n",
    "    model.add(Dense(nodes1, input_shape=x_train.shape[1:]))\n",
    "    model.add(Dropout(dropout_rate))\n",
    "    if nodes2 == 0: \n",
    "        model.add(Dense(1, activation='sigmoid'))\n",
    "        model.compile(optimizer=optimizer, loss='binary_crossentropy', metrics=['acc'])\n",
    "        return model\n",
    "    model.add(Dense(nodes2))\n",
    "    model.add(Dropout(dropout_rate))\n",
    "    model.add(Dense(1, activation='sigmoid'))\n",
    "    model.compile(optimizer=optimizer, loss='binary_crossentropy', metrics=['acc'])\n",
    "    return model \n",
    "\n",
    "\n",
    "def randomize_params(params, n):\n",
    "    test_params = []\n",
    "    for i in range(n):\n",
    "        temp_par = {}\n",
    "        while True: \n",
    "            for par in params: \n",
    "                temp_par.update({par: np.random.choice(params[par])})\n",
    "            if temp_par not in test_params: \n",
    "                test_params.append(temp_par)\n",
    "                break\n",
    "    return test_params"
   ]
  },
  {
   "cell_type": "code",
   "execution_count": 20,
   "metadata": {},
   "outputs": [],
   "source": [
    "n_tests = 20\n",
    "# Define possible parameters \n",
    "possible_params = dict(batch_size = [4, 8],\n",
    "                       nodes1 = [50, 100, 250, 500],\n",
    "                       nodes2 = [0, 50, 100, 250, 500], # 0 implies only one hidden layer \n",
    "                       dropout_rate = [0.1, 0.3, 0.5],\n",
    "                       learning_rate = [1e-3, 1e-4, 1e-5],\n",
    "                       optimizer = ['RMSprop','Adam'])\n",
    "test_params = randomize_params(possible_params, n_tests)"
   ]
  },
  {
   "cell_type": "code",
   "execution_count": 22,
   "metadata": {},
   "outputs": [
    {
     "name": "stderr",
     "output_type": "stream",
     "text": [
      "100%|███████████████████████████████████████████████████████████████████████████████| 20/20 [1:24:19<00:00, 252.97s/it]"
     ]
    },
    {
     "name": "stdout",
     "output_type": "stream",
     "text": [
      "Best val acc: 0.8886\n",
      "For config:  {'nodes1': 500, 'nodes2': 50, 'dropout_rate': 0.1, 'learning_rate': 0.001, 'optimizer': 'Adam', 'batch_size': 8}\n"
     ]
    },
    {
     "name": "stderr",
     "output_type": "stream",
     "text": [
      "\n"
     ]
    }
   ],
   "source": [
    "val_accs = []\n",
    "for i,params in enumerate(tqdm(test_params)): \n",
    "    bs = params.pop('batch_size')\n",
    "    model = create_model_ff(**params)\n",
    "    params.update({'batch_size': bs})\n",
    "    history = model.fit(x_train, y_train,\n",
    "                        epochs=10000,\n",
    "                        batch_size=params['batch_size'],\n",
    "                        verbose=0,\n",
    "                        callbacks=[EarlyStopping(monitor='val_acc', patience=5, restore_best_weights=True)],\n",
    "                        validation_split=0.2)\n",
    "    val_accs.append(max(history.history['val_acc']))\n",
    "print(\"Best val acc:\",max(val_accs))\n",
    "print(\"For config: \",test_params[np.argmax(val_accs)])"
   ]
  },
  {
   "cell_type": "code",
   "execution_count": 30,
   "metadata": {},
   "outputs": [
    {
     "name": "stdout",
     "output_type": "stream",
     "text": [
      "Train on 20000 samples, validate on 5000 samples\n",
      "Epoch 1/10000\n",
      "20000/20000 [==============================] - 10s 506us/sample - loss: 0.3590 - acc: 0.8511 - val_loss: 0.3044 - val_acc: 0.8722\n",
      "Epoch 2/10000\n",
      "20000/20000 [==============================] - 9s 459us/sample - loss: 0.2947 - acc: 0.8782 - val_loss: 0.3237 - val_acc: 0.8642\n",
      "Epoch 3/10000\n",
      "20000/20000 [==============================] - 9s 458us/sample - loss: 0.2877 - acc: 0.8831 - val_loss: 0.2935 - val_acc: 0.8766\n",
      "Epoch 4/10000\n",
      "20000/20000 [==============================] - 10s 484us/sample - loss: 0.2804 - acc: 0.8852 - val_loss: 0.3167 - val_acc: 0.8690\n",
      "Epoch 5/10000\n",
      "20000/20000 [==============================] - 9s 468us/sample - loss: 0.2754 - acc: 0.8901 - val_loss: 0.3099 - val_acc: 0.8770\n",
      "Epoch 6/10000\n",
      "20000/20000 [==============================] - 9s 466us/sample - loss: 0.2734 - acc: 0.8914 - val_loss: 0.2844 - val_acc: 0.8826\n",
      "Epoch 7/10000\n",
      "20000/20000 [==============================] - 10s 495us/sample - loss: 0.2688 - acc: 0.8952 - val_loss: 0.3113 - val_acc: 0.8766\n",
      "Epoch 8/10000\n",
      "20000/20000 [==============================] - 10s 515us/sample - loss: 0.2676 - acc: 0.8945 - val_loss: 0.2775 - val_acc: 0.8876\n",
      "Epoch 9/10000\n",
      "20000/20000 [==============================] - 12s 586us/sample - loss: 0.2667 - acc: 0.8966 - val_loss: 0.3311 - val_acc: 0.8758\n",
      "Epoch 10/10000\n",
      "20000/20000 [==============================] - 10s 516us/sample - loss: 0.2640 - acc: 0.8956 - val_loss: 0.3190 - val_acc: 0.8742\n",
      "Epoch 11/10000\n",
      "20000/20000 [==============================] - 9s 453us/sample - loss: 0.2596 - acc: 0.8970 - val_loss: 0.2810 - val_acc: 0.8830\n",
      "Epoch 12/10000\n",
      "20000/20000 [==============================] - 9s 470us/sample - loss: 0.2604 - acc: 0.8960 - val_loss: 0.2871 - val_acc: 0.8828\n",
      "Epoch 13/10000\n",
      "20000/20000 [==============================] - 10s 511us/sample - loss: 0.2601 - acc: 0.8978 - val_loss: 0.3142 - val_acc: 0.8720\n"
     ]
    },
    {
     "data": {
      "image/png": "[encoded data removed]",
      "text/plain": [
       "<Figure size 432x288 with 2 Axes>"
      ]
     },
     "metadata": {
      "needs_background": "light"
     },
     "output_type": "display_data"
    },
    {
     "data": {
      "image/png": "[encoded data removed]",
      "text/plain": [
       "<Figure size 432x288 with 2 Axes>"
      ]
     },
     "metadata": {
      "needs_background": "light"
     },
     "output_type": "display_data"
    },
    {
     "data": {
      "image/png": "[encoded data removed]",
      "text/plain": [
       "<Figure size 432x288 with 2 Axes>"
      ]
     },
     "metadata": {
      "needs_background": "light"
     },
     "output_type": "display_data"
    },
    {
     "name": "stdout",
     "output_type": "stream",
     "text": [
      "              precision    recall  f1-score   support\n",
      "\n",
      "         0.0       0.90      0.89      0.90     12474\n",
      "         1.0       0.90      0.91      0.90     12526\n",
      "\n",
      "    accuracy                           0.90     25000\n",
      "   macro avg       0.90      0.90      0.90     25000\n",
      "weighted avg       0.90      0.90      0.90     25000\n",
      "\n",
      "Test accuracy: 0.90056\n"
     ]
    }
   ],
   "source": [
    "# Fit a model with the best parameters \n",
    "best_params = test_params[np.argmax(val_accs)]\n",
    "bs = best_params.pop('batch_size')\n",
    "model = create_model_ff(**best_params) \n",
    "best_params.update({'batch_size':bs})\n",
    "history = model.fit(x_train, y_train, \n",
    "                    epochs=10000,\n",
    "                    validation_split=0.2,\n",
    "                    batch_size=bs,\n",
    "                    verbose=1,\n",
    "                    callbacks=[EarlyStopping(monitor='val_acc', patience=5, restore_best_weights=True)])\n",
    "\n",
    "\n",
    "plot_results_nn(history, model,save=True,name='nn_n1{}_n2{}_dr{}_lr{}_opt{}'.format(best_params['nodes1'],\n",
    "                                                                                    best_params['nodes2'],\n",
    "                                                                                    best_params['dropout_rate'],\n",
    "                                                                                    best_params['learning_rate'],\n",
    "                                                                                    best_params['optimizer']))"
   ]
  },
  {
   "cell_type": "markdown",
   "metadata": {},
   "source": [
    "## Results\n",
    "\n",
    "The following results were achieved on the independent test set on the IMDB dataset. The reviews were encoded into 768-dimensional vectors using Sentence-BERT on each sentence in the reviews, and then reduced to one vector per review by taking the elementwise average over each dimension. \n",
    "\n",
    "| Model |  Test Accuracy (%)  | Hyperparameters |\n",
    "| :----- | --------------- | --- | \n",
    "| Logistic Regression | __90.7__  | N/A |\n",
    "| Support Vector Machine | 90.0 | N/A |\n",
    "| Random Forest | 87.1  | n_estimators=5000, max_depth=None |\n",
    "| Multi Layer Perceptron | 90.1 | batch_size=8,depth=2,dropout_rate=0.2,nodes=250 |\n",
    "\n",
    "Logistic Regression currently performs best. The hyperparameter tuning of the neural network-approaches is however not ideal, and would need more time/computational power to optimize further. It should however not be a too large improvement. Looking at the validation accuracy achieved from different configurations of hyperparameters on the neural network, it rarely reaches above 89 %. \n",
    "\n",
    "For comparison, the table below displays state-of-the-art models for the IMDB classification task. \n",
    "\n",
    "| Model |\tAccuracy (%) |\tPaper / Source|\n",
    "|:----- | ---------- | -------------- |  \n",
    "| XLNet (Yang et al., 2019) |\t__96.21__ |\tXLNet: Generalized Autoregressive Pretraining for Language Understanding|\n",
    "| BERT_large+ITPT (Sun et al., 2019) \t|95.79 |\tHow to Fine-Tune BERT for Text Classification?|\n",
    "| BERT_base+ITPT (Sun et al., 2019) |\t95.63 |\tHow to Fine-Tune BERT for Text Classification?|\n",
    "| ULMFiT (Howard and Ruder, 2018) |\t95.4 |\tUniversal Language Model Fine-tuning for Text Classification|\n",
    "| Block-sparse LSTM (Gray et al., 2017) |\t94.99 |\tGPU Kernels for Block-Sparse Weights|\n",
    "| oh-LSTM (Johnson and Zhang, 2016)| \t94.1| \tSupervised and Semi-Supervised Text Categorization using LSTM for Region Embeddings |\n",
    "| Virtual adversarial training (Miyato et al., 2016) |\t94.1 \t|Adversarial Training Methods for Semi-Supervised Text Classification |\n",
    "| BCN+Char+CoVe (McCann et al., 2017) |\t91.8 |\tLearned in Translation: Contextualized Word Vectors |\n"
   ]
  },
  {
   "cell_type": "code",
   "execution_count": null,
   "metadata": {},
   "outputs": [],
   "source": []
  },
  {
   "cell_type": "code",
   "execution_count": null,
   "metadata": {},
   "outputs": [],
   "source": []
  },
  {
   "cell_type": "code",
   "execution_count": null,
   "metadata": {},
   "outputs": [],
   "source": []
  }
 ],
 "metadata": {
  "kernelspec": {
   "display_name": "Python 3",
   "language": "python",
   "name": "python3"
  },
  "language_info": {
   "codemirror_mode": {
    "name": "ipython",
    "version": 3
   },
   "file_extension": ".py",
   "mimetype": "text/x-python",
   "name": "python",
   "nbconvert_exporter": "python",
   "pygments_lexer": "ipython3",
   "version": "3.6.10"
  }
 },
 "nbformat": 4,
 "nbformat_minor": 4
}
