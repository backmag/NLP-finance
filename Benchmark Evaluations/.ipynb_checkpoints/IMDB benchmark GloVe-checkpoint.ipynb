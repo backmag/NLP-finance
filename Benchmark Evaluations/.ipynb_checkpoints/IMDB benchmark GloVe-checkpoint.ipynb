{
 "cells": [
  {
   "cell_type": "markdown",
   "metadata": {},
   "source": [
    "### IMDB Benchmarking\n",
    "This notebook trains and evaluates different language representations and classification models on the IMDB movie review dataset. The dataset contains 50,000 highily polarized reviews of movies which is labeled as positive or negative. State of the art models currently have an accuracy of ~91 - 96 %, according to [nlpprogress.com](http://nlpprogress.com/english/sentiment_analysis.html)."
   ]
  },
  {
   "cell_type": "code",
   "execution_count": 31,
   "metadata": {},
   "outputs": [],
   "source": [
    "import pandas as pd\n",
    "import numpy as np\n",
    "import seaborn as sn\n",
    "import os\n",
    "import matplotlib.pyplot as plt\n",
    "from pathlib import Path\n",
    "from nltk.tokenize import word_tokenize\n",
    "from sklearn.metrics import classification_report, plot_confusion_matrix, confusion_matrix, f1_score\n",
    "from sklearn.linear_model import LogisticRegression\n",
    "from sklearn.discriminant_analysis import LinearDiscriminantAnalysis\n",
    "from sklearn.ensemble import RandomForestClassifier\n",
    "from sklearn.model_selection import GridSearchCV, RandomizedSearchCV\n",
    "from sklearn.dummy import DummyClassifier\n",
    "from sklearn import svm\n",
    "import tensorflow as tf\n",
    "from tensorflow.keras import backend as K\n",
    "from tensorflow.keras.models import Sequential\n",
    "from tensorflow.keras.layers import Dense, Dropout, Flatten, LSTM, Embedding, GRU, Bidirectional, Lambda\n",
    "from tensorflow.keras.optimizers import RMSprop\n",
    "from tensorflow.keras.callbacks import EarlyStopping\n",
    "from tensorflow.keras.wrappers.scikit_learn import KerasClassifier\n",
    "from tensorflow.keras.preprocessing.sequence import pad_sequences\n",
    "from tensorflow.keras.preprocessing.text import Tokenizer\n",
    "from tqdm import tqdm, trange"
   ]
  },
  {
   "cell_type": "markdown",
   "metadata": {},
   "source": [
    "#### Load the IMDB data as raw text and labels"
   ]
  },
  {
   "cell_type": "code",
   "execution_count": 2,
   "metadata": {},
   "outputs": [
    {
     "data": {
      "text/html": [
       "<div>\n",
       "<style scoped>\n",
       "    .dataframe tbody tr th:only-of-type {\n",
       "        vertical-align: middle;\n",
       "    }\n",
       "\n",
       "    .dataframe tbody tr th {\n",
       "        vertical-align: top;\n",
       "    }\n",
       "\n",
       "    .dataframe thead th {\n",
       "        text-align: right;\n",
       "    }\n",
       "</style>\n",
       "<table border=\"1\" class=\"dataframe\">\n",
       "  <thead>\n",
       "    <tr style=\"text-align: right;\">\n",
       "      <th></th>\n",
       "      <th>review</th>\n",
       "      <th>sentiment</th>\n",
       "    </tr>\n",
       "  </thead>\n",
       "  <tbody>\n",
       "    <tr>\n",
       "      <th>0</th>\n",
       "      <td>One of the other reviewers has mentioned that ...</td>\n",
       "      <td>positive</td>\n",
       "    </tr>\n",
       "    <tr>\n",
       "      <th>1</th>\n",
       "      <td>A wonderful little production. &lt;br /&gt;&lt;br /&gt;The...</td>\n",
       "      <td>positive</td>\n",
       "    </tr>\n",
       "    <tr>\n",
       "      <th>2</th>\n",
       "      <td>I thought this was a wonderful way to spend ti...</td>\n",
       "      <td>positive</td>\n",
       "    </tr>\n",
       "    <tr>\n",
       "      <th>3</th>\n",
       "      <td>Basically there's a family where a little boy ...</td>\n",
       "      <td>negative</td>\n",
       "    </tr>\n",
       "    <tr>\n",
       "      <th>4</th>\n",
       "      <td>Petter Mattei's \"Love in the Time of Money\" is...</td>\n",
       "      <td>positive</td>\n",
       "    </tr>\n",
       "  </tbody>\n",
       "</table>\n",
       "</div>"
      ],
      "text/plain": [
       "                                              review sentiment\n",
       "0  One of the other reviewers has mentioned that ...  positive\n",
       "1  A wonderful little production. <br /><br />The...  positive\n",
       "2  I thought this was a wonderful way to spend ti...  positive\n",
       "3  Basically there's a family where a little boy ...  negative\n",
       "4  Petter Mattei's \"Love in the Time of Money\" is...  positive"
      ]
     },
     "execution_count": 2,
     "metadata": {},
     "output_type": "execute_result"
    }
   ],
   "source": [
    "ONEDRIVE_PATH = Path(r\"C:\\Users\\gusta\\Kidbrooke Advisory Ab\\KidbrookeOneDrive - Gustaf Backman exjobb\")\n",
    "\n",
    "imdb_path = ONEDRIVE_PATH / \"Benchmark Datasets/IMDB Dataset.csv\"\n",
    "glove_path = ONEDRIVE_PATH / \"Benchmark Datasets/glove_embeddings.npy\"\n",
    "lengths_path = ONEDRIVE_PATH / \"Benchmark Datasets/glove_lengths.npy\"\n",
    "imdb = pd.read_csv(imdb_path)\n",
    "imdb.head()"
   ]
  },
  {
   "cell_type": "markdown",
   "metadata": {},
   "source": [
    "#### Vectorize the reviews using GloVe\n",
    "Remove line breaks and vectorize the text using pre-trained GloVe-embeddings. The reviews are tokenized into words, and a vector of length 300 is constructed by the elementwise average of the GloVe-embeddings for one review. "
   ]
  },
  {
   "cell_type": "code",
   "execution_count": 3,
   "metadata": {},
   "outputs": [],
   "source": [
    "# Remove single line breaks (<br />)\n",
    "for i in range(len(imdb)):\n",
    "    imdb.iloc[i]['review'] = imdb.iloc[i]['review'].replace('<br />', ' ')"
   ]
  },
  {
   "cell_type": "code",
   "execution_count": 4,
   "metadata": {},
   "outputs": [],
   "source": [
    "# Tokenize the text data \n",
    "tokenizer = Tokenizer()\n",
    "tokenizer.fit_on_texts(imdb['review'])\n",
    "word_index = tokenizer.word_index"
   ]
  },
  {
   "cell_type": "code",
   "execution_count": 5,
   "metadata": {},
   "outputs": [
    {
     "name": "stdout",
     "output_type": "stream",
     "text": [
      "Done. 88481 words loaded!\n"
     ]
    }
   ],
   "source": [
    "embedding_matrix = np.zeros((len(tokenizer.word_index) + 1, 300)) # Need one extra row since '0' is not an index\n",
    "glove_path = ONEDRIVE_PATH / \"Embeddings\\GloVe\\glove.42B.300d\\glove.42B.300d.txt\"\n",
    "words_found = 0\n",
    "f = open(glove_path,'r', encoding='UTF-8')\n",
    "for line in f:\n",
    "    splitLine = line.split()\n",
    "    word = splitLine[0]\n",
    "    if word in word_index.keys():\n",
    "        words_found += 1\n",
    "        embedding_matrix[word_index[word]] = np.array([float(val) for val in splitLine[1:]])\n",
    "print(\"Done.\",words_found,\"words loaded!\")"
   ]
  },
  {
   "cell_type": "code",
   "execution_count": 16,
   "metadata": {
    "scrolled": false
   },
   "outputs": [
    {
     "name": "stdout",
     "output_type": "stream",
     "text": [
      "Embeddings loaded from file. \n"
     ]
    }
   ],
   "source": [
    "if os.path.exists(glove_path):\n",
    "    x = np.load(glove_path)\n",
    "    rev_lengths = np.load(lengths_path)\n",
    "    print(\"Embeddings loaded from file. \")\n",
    "else:\n",
    "    x = np.zeros((50000, 300))\n",
    "    rev_lengths = np.zeros((50000))  # Record the length of every review to determine suitable maxlength for sequential data. \n",
    "    for i,review in tqdm(enumerate(imdb['review'])):\n",
    "        tokenized_review = tokenizer.texts_to_sequences(word_tokenize(review))\n",
    "        temp_array = np.zeros((300))\n",
    "        n_words = 0\n",
    "        rev_lengths[i] = len(tokenized_review)\n",
    "        for word in tokenized_review:     \n",
    "            if len(word) == 1:\n",
    "                temp_array += embedding_matrix[word[0]]\n",
    "                n_words += 1\n",
    "        x[i] = temp_array / n_words\n",
    "    np.save(glove_path, x)\n",
    "    np.save(lengths_path, rev_lengths)"
   ]
  },
  {
   "cell_type": "code",
   "execution_count": 17,
   "metadata": {},
   "outputs": [
    {
     "name": "stderr",
     "output_type": "stream",
     "text": [
      "100%|██████████████████████████████████████████████████████████████████████████| 50000/50000 [00:12<00:00, 4135.95it/s]\n"
     ]
    }
   ],
   "source": [
    "# Divide into training and test set. The data is already shuffled. \n",
    "x_train = x[:25000]\n",
    "x_test = x[25000:]\n",
    "\n",
    "# Assign labels to variables for convenience\n",
    "y = np.zeros((50000))\n",
    "for i in trange(len(y)): \n",
    "    if imdb.iloc[i]['sentiment'] == 'positive':\n",
    "        y[i] = 1\n",
    "        \n",
    "y_train = y[:25000]\n",
    "y_test = y[25000:]"
   ]
  },
  {
   "cell_type": "code",
   "execution_count": 18,
   "metadata": {
    "scrolled": true
   },
   "outputs": [
    {
     "name": "stdout",
     "output_type": "stream",
     "text": [
      "Shape of training data: (25000, 300)\n",
      "Shape of test data: (25000, 300)\n",
      "Ratio positive reviews in training data: 0.49896\n",
      "Ratio positive reviews in test data: 0.50104\n"
     ]
    }
   ],
   "source": [
    "# Sanity check of shapes and label balance\n",
    "print(\"Shape of training data:\",x_train.shape)\n",
    "print(\"Shape of test data:\",x_test.shape)\n",
    "print(\"Ratio positive reviews in training data:\",np.sum(y_train) / len(y_train))\n",
    "print(\"Ratio positive reviews in test data:\",np.sum(y_test) / len(y_test))"
   ]
  },
  {
   "cell_type": "markdown",
   "metadata": {},
   "source": [
    "#### Vectorize sequences using GloVe\n",
    "We'll also try a recurrent approach with sequences as input. Instead of taking the average of the GloVe-embedding in one review, a sequence of word indices is fed into an embedding layer where the embeddings are initialized as pretrained GloVe-embeddings. However, using all of the words in the vocabulary gives a too slow model so we have to re-tokenize with a restricted vocabulary size. We'll also restrict the maximum word length from oen review to cover the majority of the training samples without being too inefficient. "
   ]
  },
  {
   "cell_type": "code",
   "execution_count": 19,
   "metadata": {
    "scrolled": false
   },
   "outputs": [
    {
     "data": {
      "image/png": "[encoded data removed]",
      "text/plain": [
       "<Figure size 432x288 with 1 Axes>"
      ]
     },
     "metadata": {
      "needs_background": "light"
     },
     "output_type": "display_data"
    }
   ],
   "source": [
    "plt.hist(rev_lengths,50,label='Nbr words')\n",
    "plt.legend()\n",
    "plt.show() "
   ]
  },
  {
   "cell_type": "markdown",
   "metadata": {},
   "source": [
    "A maximum sentence length of 500 seems reasonable to cover the majority. Furthermore, we restrict the size of the vocabulary to make the task computationally feasible. "
   ]
  },
  {
   "cell_type": "code",
   "execution_count": 26,
   "metadata": {},
   "outputs": [
    {
     "name": "stdout",
     "output_type": "stream",
     "text": [
      "Loaded previously calculated data.\n"
     ]
    }
   ],
   "source": [
    "sequential_path = ONEDRIVE_PATH / \"Benchmark Datasets/glove_seq.npy\"\n",
    "embedding_path = ONEDRIVE_PATH / \"Benchmark Datasets/glove_emb_mat.npy\"\n",
    "\n",
    "# Tokenize the text data \n",
    "maxlen = 500\n",
    "# Restrict size of the vocabulary\n",
    "vocab_size = 5000\n",
    "if os.path.exists(sequential_path): \n",
    "    x_padded = np.load(sequential_path)\n",
    "    trainable_embeddings = np.load(embedding_path)\n",
    "    print(\"Loaded previously calculated data.\")\n",
    "else: \n",
    "    restricted_tokenizer = Tokenizer(num_words=vocab_size)\n",
    "    restricted_tokenizer.fit_on_texts(imdb['review'])\n",
    "    x_restr = restricted_tokenizer.texts_to_sequences(imdb['review'])\n",
    "    # Pad the data with zeroes so all samples are of equal length\n",
    "    x_padded = pad_sequences(x_restr,maxlen=maxlen)\n",
    "    \n",
    "    # Create a new embedding matrix for the restricted vocabulary ('embedding_matrix' includes the full vocaabulary)\n",
    "    trainable_embeddings = np.zeros((vocab_size + 1, 300))    \n",
    "    for i,word in enumerate(list(restricted_tokenizer.word_index.keys())[:vocab_size]):\n",
    "        trainable_embeddings[i] = embedding_matrix[word_index[word]]\n",
    "    np.save(sequential_path, x_padded)\n",
    "    np.save(embedding_path, trainable_embeddings)\n",
    "# Partition into training and test set\n",
    "x_train_pad = x_padded[:25000]\n",
    "x_test_pad = x_padded[25000:]"
   ]
  },
  {
   "cell_type": "code",
   "execution_count": 27,
   "metadata": {},
   "outputs": [],
   "source": [
    "def plot_results(model,x_test, y_test,save=False, name=''):\n",
    "    y_test_preds = model.predict(x_test)\n",
    "    print(classification_report(y_test, y_test_preds))\n",
    "    print(\"Test accuracy:\",model.score(x_test, y_test))\n",
    "    plot_confusion_matrix(model,x_test,y_test)\n",
    "    if save:\n",
    "        plt.savefig(\"Figs GloVe/\" + name + \"confmat.jpg\")\n",
    "    plt.show()\n",
    "    \n",
    "def plot_results_nn(history, model,x_test, y_test,save=False, name=''):\n",
    "    plt.subplot(121)\n",
    "    plt.plot(history.history['loss'],label='Loss')\n",
    "    plt.plot(history.history['val_loss'],label='Val loss')\n",
    "    plt.legend()\n",
    "    plt.subplot(122)\n",
    "    plt.plot(history.history['acc'],label='Acc')\n",
    "    plt.plot(history.history['val_acc'],label='Val acc')\n",
    "    plt.legend()\n",
    "    if save:\n",
    "        plt.savefig(\"Figs GloVe/\" + name + \"history.jpg\")\n",
    "    plt.show() \n",
    "    y_test_pred = np.round(model.predict(x_test))\n",
    "    plt.subplot(121)\n",
    "    plt.bar([0,1],[np.sum(y_test == 0), np.sum(y_test == 1)], label='Actual test dist')\n",
    "    plt.legend()\n",
    "    plt.xticks([0, 1])\n",
    "    plt.subplot(122)\n",
    "    plt.bar([0,1],[np.sum(y_test_pred == 0), np.sum(y_test_pred == 1)], label='Pred test dist')\n",
    "    plt.legend()\n",
    "    plt.xticks([0, 1])\n",
    "    plt.show()\n",
    "    conf_mat = confusion_matrix(y_test,y_test_pred,normalize='pred')\n",
    "    ax = sn.heatmap(conf_mat,)\n",
    "    ax.set_ylabel(\"True values\")\n",
    "    ax.set_xlabel(\"Predicted values\")\n",
    "    if save: \n",
    "        plt.savefig(\"Figs GloVe/\" + name + \"confmat.jpg\")\n",
    "    plt.show()\n",
    "    print(classification_report(y_test, y_test_pred))\n",
    "    print(\"Test accuracy:\",sum((np.transpose(y_test_pred) == y_test)[0]) / len(y_test))"
   ]
  },
  {
   "cell_type": "markdown",
   "metadata": {},
   "source": [
    "### Logistic Regression with GloVe"
   ]
  },
  {
   "cell_type": "code",
   "execution_count": 28,
   "metadata": {
    "scrolled": false
   },
   "outputs": [
    {
     "name": "stdout",
     "output_type": "stream",
     "text": [
      "              precision    recall  f1-score   support\n",
      "\n",
      "         0.0       0.85      0.85      0.85     12474\n",
      "         1.0       0.85      0.85      0.85     12526\n",
      "\n",
      "    accuracy                           0.85     25000\n",
      "   macro avg       0.85      0.85      0.85     25000\n",
      "weighted avg       0.85      0.85      0.85     25000\n",
      "\n",
      "Test accuracy: 0.85224\n"
     ]
    },
    {
     "data": {
      "image/png": "[encoded data removed]",
      "text/plain": [
       "<Figure size 432x288 with 2 Axes>"
      ]
     },
     "metadata": {
      "needs_background": "light"
     },
     "output_type": "display_data"
    }
   ],
   "source": [
    "# Logistic regression\n",
    "logreg = LogisticRegression(random_state=0,max_iter=10000).fit(x_train, y_train)\n",
    "plot_results(logreg,x_test, y_test,save=True,name='logreg')"
   ]
  },
  {
   "cell_type": "markdown",
   "metadata": {},
   "source": [
    "### Support Vector Machine with GloVe"
   ]
  },
  {
   "cell_type": "code",
   "execution_count": 16,
   "metadata": {},
   "outputs": [
    {
     "name": "stdout",
     "output_type": "stream",
     "text": [
      "              precision    recall  f1-score   support\n",
      "\n",
      "         0.0       0.84      0.85      0.84     12474\n",
      "         1.0       0.84      0.84      0.84     12526\n",
      "\n",
      "    accuracy                           0.84     25000\n",
      "   macro avg       0.84      0.84      0.84     25000\n",
      "weighted avg       0.84      0.84      0.84     25000\n",
      "\n",
      "Test accuracy: 0.84068\n"
     ]
    },
    {
     "data": {
      "image/png": "[encoded data removed]",
      "text/plain": [
       "<Figure size 432x288 with 2 Axes>"
      ]
     },
     "metadata": {
      "needs_background": "light"
     },
     "output_type": "display_data"
    }
   ],
   "source": [
    "svm_clf = svm.SVC().fit(x_train, y_train)\n",
    "plot_results(svm_clf, x_test, y_test,save=True,name='svm')"
   ]
  },
  {
   "cell_type": "markdown",
   "metadata": {},
   "source": [
    "### Random Forest with GloVe"
   ]
  },
  {
   "cell_type": "code",
   "execution_count": null,
   "metadata": {
    "scrolled": true
   },
   "outputs": [
    {
     "name": "stdout",
     "output_type": "stream",
     "text": [
      "Fitting 3 folds for each of 20 candidates, totalling 60 fits\n",
      "[CV] max_depth=None, n_estimators=1000 ...............................\n"
     ]
    },
    {
     "name": "stderr",
     "output_type": "stream",
     "text": [
      "[Parallel(n_jobs=1)]: Using backend SequentialBackend with 1 concurrent workers.\n"
     ]
    },
    {
     "name": "stdout",
     "output_type": "stream",
     "text": [
      "[CV] ... max_depth=None, n_estimators=1000, score=0.810, total= 9.4min\n",
      "[CV] max_depth=None, n_estimators=1000 ...............................\n"
     ]
    },
    {
     "name": "stderr",
     "output_type": "stream",
     "text": [
      "[Parallel(n_jobs=1)]: Done   1 out of   1 | elapsed:  9.4min remaining:    0.0s\n"
     ]
    },
    {
     "name": "stdout",
     "output_type": "stream",
     "text": [
      "[CV] ... max_depth=None, n_estimators=1000, score=0.801, total= 9.4min\n",
      "[CV] max_depth=None, n_estimators=1000 ...............................\n"
     ]
    },
    {
     "name": "stderr",
     "output_type": "stream",
     "text": [
      "[Parallel(n_jobs=1)]: Done   2 out of   2 | elapsed: 18.8min remaining:    0.0s\n"
     ]
    },
    {
     "name": "stdout",
     "output_type": "stream",
     "text": [
      "[CV] ... max_depth=None, n_estimators=1000, score=0.803, total= 8.8min\n",
      "[CV] max_depth=None, n_estimators=2500 ...............................\n"
     ]
    },
    {
     "name": "stderr",
     "output_type": "stream",
     "text": [
      "[Parallel(n_jobs=1)]: Done   3 out of   3 | elapsed: 27.6min remaining:    0.0s\n"
     ]
    },
    {
     "name": "stdout",
     "output_type": "stream",
     "text": [
      "[CV] ... max_depth=None, n_estimators=2500, score=0.809, total=20.9min\n"
     ]
    },
    {
     "name": "stderr",
     "output_type": "stream",
     "text": [
      "[Parallel(n_jobs=1)]: Done   4 out of   4 | elapsed: 48.6min remaining:    0.0s\n"
     ]
    },
    {
     "name": "stdout",
     "output_type": "stream",
     "text": [
      "[CV] max_depth=None, n_estimators=2500 ...............................\n",
      "[CV] ... max_depth=None, n_estimators=2500, score=0.803, total=15.8min\n"
     ]
    },
    {
     "name": "stderr",
     "output_type": "stream",
     "text": [
      "[Parallel(n_jobs=1)]: Done   5 out of   5 | elapsed: 64.4min remaining:    0.0s\n"
     ]
    },
    {
     "name": "stdout",
     "output_type": "stream",
     "text": [
      "[CV] max_depth=None, n_estimators=2500 ...............................\n",
      "[CV] ... max_depth=None, n_estimators=2500, score=0.808, total=15.9min\n",
      "[CV] max_depth=None, n_estimators=5000 ...............................\n"
     ]
    },
    {
     "name": "stderr",
     "output_type": "stream",
     "text": [
      "[Parallel(n_jobs=1)]: Done   6 out of   6 | elapsed: 80.3min remaining:    0.0s\n"
     ]
    },
    {
     "name": "stdout",
     "output_type": "stream",
     "text": [
      "[CV] ... max_depth=None, n_estimators=5000, score=0.809, total=20.3min\n",
      "[CV] max_depth=None, n_estimators=5000 ...............................\n"
     ]
    },
    {
     "name": "stderr",
     "output_type": "stream",
     "text": [
      "[Parallel(n_jobs=1)]: Done   7 out of   7 | elapsed: 100.5min remaining:    0.0s\n"
     ]
    },
    {
     "name": "stdout",
     "output_type": "stream",
     "text": [
      "[CV] ... max_depth=None, n_estimators=5000, score=0.803, total=18.0min\n",
      "[CV] max_depth=None, n_estimators=5000 ...............................\n"
     ]
    },
    {
     "name": "stderr",
     "output_type": "stream",
     "text": [
      "[Parallel(n_jobs=1)]: Done   8 out of   8 | elapsed: 118.6min remaining:    0.0s\n"
     ]
    },
    {
     "name": "stdout",
     "output_type": "stream",
     "text": [
      "[CV] ... max_depth=None, n_estimators=5000, score=0.807, total=20.2min\n",
      "[CV] max_depth=None, n_estimators=7500 ...............................\n"
     ]
    },
    {
     "name": "stderr",
     "output_type": "stream",
     "text": [
      "[Parallel(n_jobs=1)]: Done   9 out of   9 | elapsed: 138.8min remaining:    0.0s\n"
     ]
    },
    {
     "name": "stdout",
     "output_type": "stream",
     "text": [
      "[CV] ... max_depth=None, n_estimators=7500, score=0.811, total=25.5min\n",
      "[CV] max_depth=None, n_estimators=7500 ...............................\n",
      "[CV] ... max_depth=None, n_estimators=7500, score=0.803, total=25.2min\n",
      "[CV] max_depth=None, n_estimators=7500 ...............................\n",
      "[CV] ... max_depth=None, n_estimators=7500, score=0.808, total=25.0min\n",
      "[CV] max_depth=10, n_estimators=1000 .................................\n",
      "[CV] ..... max_depth=10, n_estimators=1000, score=0.802, total= 2.4min\n",
      "[CV] max_depth=10, n_estimators=1000 .................................\n",
      "[CV] ..... max_depth=10, n_estimators=1000, score=0.795, total= 2.4min\n",
      "[CV] max_depth=10, n_estimators=1000 .................................\n",
      "[CV] ..... max_depth=10, n_estimators=1000, score=0.801, total= 2.4min\n",
      "[CV] max_depth=10, n_estimators=2500 .................................\n",
      "[CV] ..... max_depth=10, n_estimators=2500, score=0.804, total= 6.1min\n",
      "[CV] max_depth=10, n_estimators=2500 .................................\n",
      "[CV] ..... max_depth=10, n_estimators=2500, score=0.795, total= 6.1min\n",
      "[CV] max_depth=10, n_estimators=2500 .................................\n",
      "[CV] ..... max_depth=10, n_estimators=2500, score=0.800, total= 6.0min\n",
      "[CV] max_depth=10, n_estimators=5000 .................................\n",
      "[CV] ..... max_depth=10, n_estimators=5000, score=0.804, total=12.0min\n",
      "[CV] max_depth=10, n_estimators=5000 .................................\n",
      "[CV] ..... max_depth=10, n_estimators=5000, score=0.793, total=12.1min\n",
      "[CV] max_depth=10, n_estimators=5000 .................................\n",
      "[CV] ..... max_depth=10, n_estimators=5000, score=0.799, total=12.0min\n",
      "[CV] max_depth=10, n_estimators=7500 .................................\n",
      "[CV] ..... max_depth=10, n_estimators=7500, score=0.803, total=18.2min\n",
      "[CV] max_depth=10, n_estimators=7500 .................................\n",
      "[CV] ..... max_depth=10, n_estimators=7500, score=0.793, total=18.2min\n",
      "[CV] max_depth=10, n_estimators=7500 .................................\n",
      "[CV] ..... max_depth=10, n_estimators=7500, score=0.799, total=18.1min\n",
      "[CV] max_depth=50, n_estimators=1000 .................................\n",
      "[CV] ..... max_depth=50, n_estimators=1000, score=0.810, total= 3.2min\n",
      "[CV] max_depth=50, n_estimators=1000 .................................\n",
      "[CV] ..... max_depth=50, n_estimators=1000, score=0.803, total= 3.2min\n",
      "[CV] max_depth=50, n_estimators=1000 .................................\n",
      "[CV] ..... max_depth=50, n_estimators=1000, score=0.805, total= 3.2min\n",
      "[CV] max_depth=50, n_estimators=2500 .................................\n",
      "[CV] ..... max_depth=50, n_estimators=2500, score=0.810, total= 8.1min\n",
      "[CV] max_depth=50, n_estimators=2500 .................................\n",
      "[CV] ..... max_depth=50, n_estimators=2500, score=0.805, total= 8.2min\n",
      "[CV] max_depth=50, n_estimators=2500 .................................\n",
      "[CV] ..... max_depth=50, n_estimators=2500, score=0.806, total= 8.1min\n",
      "[CV] max_depth=50, n_estimators=5000 .................................\n",
      "[CV] ..... max_depth=50, n_estimators=5000, score=0.810, total=16.5min\n",
      "[CV] max_depth=50, n_estimators=5000 .................................\n",
      "[CV] ..... max_depth=50, n_estimators=5000, score=0.803, total=16.5min\n",
      "[CV] max_depth=50, n_estimators=5000 .................................\n",
      "[CV] ..... max_depth=50, n_estimators=5000, score=0.807, total=16.4min\n",
      "[CV] max_depth=50, n_estimators=7500 .................................\n",
      "[CV] ..... max_depth=50, n_estimators=7500, score=0.810, total=25.1min\n",
      "[CV] max_depth=50, n_estimators=7500 .................................\n",
      "[CV] ..... max_depth=50, n_estimators=7500, score=0.804, total=25.4min\n",
      "[CV] max_depth=50, n_estimators=7500 .................................\n",
      "[CV] ..... max_depth=50, n_estimators=7500, score=0.806, total=32.4min\n",
      "[CV] max_depth=100, n_estimators=1000 ................................\n",
      "[CV] .... max_depth=100, n_estimators=1000, score=0.809, total= 4.2min\n",
      "[CV] max_depth=100, n_estimators=1000 ................................\n",
      "[CV] .... max_depth=100, n_estimators=1000, score=0.802, total= 4.7min\n",
      "[CV] max_depth=100, n_estimators=1000 ................................\n",
      "[CV] .... max_depth=100, n_estimators=1000, score=0.807, total= 4.6min\n",
      "[CV] max_depth=100, n_estimators=2500 ................................\n",
      "[CV] .... max_depth=100, n_estimators=2500, score=0.809, total=12.7min\n",
      "[CV] max_depth=100, n_estimators=2500 ................................\n",
      "[CV] .... max_depth=100, n_estimators=2500, score=0.804, total=12.3min\n",
      "[CV] max_depth=100, n_estimators=2500 ................................\n",
      "[CV] .... max_depth=100, n_estimators=2500, score=0.806, total=10.8min\n",
      "[CV] max_depth=100, n_estimators=5000 ................................\n",
      "[CV] .... max_depth=100, n_estimators=5000, score=0.810, total=18.9min\n",
      "[CV] max_depth=100, n_estimators=5000 ................................\n",
      "[CV] .... max_depth=100, n_estimators=5000, score=0.803, total=21.4min\n",
      "[CV] max_depth=100, n_estimators=5000 ................................\n"
     ]
    }
   ],
   "source": [
    "rf_param_grid = dict(max_depth=[None, 10, 50],\n",
    "                  n_estimators=[1000, 2500, 5000])\n",
    "\n",
    "rf_grid = GridSearchCV(estimator=RandomForestClassifier(), \n",
    "                       param_grid=rf_param_grid, \n",
    "                       n_jobs=1, \n",
    "                       cv=3, \n",
    "                       scoring='accuracy',\n",
    "                       verbose=10)\n",
    "rf_grid_result = rf_grid.fit(x_train, y_train)\n",
    "# summarize results\n",
    "print(\"Best: %f using %s\" % (rf_grid_result.best_score_, rf_grid_result.best_params_))\n",
    "rf_means = rf_grid_result.cv_results_['mean_test_score']\n",
    "rf_stds = rf_grid_result.cv_results_['std_test_score']\n",
    "rf_params = rf_grid_result.cv_results_['params']\n",
    "for mean, stdev, param in zip(rf_means, rf_stds, rf_params):\n",
    "    print(\"%f (%f) with: %r\" % (mean, stdev, param))\n",
    "\n",
    "# Fit the model with the best parameters found in the cross validation. \n",
    "randomforest = RandomForestClassifier(max_depth=rf_grid_result.best_params_['max_depth'],\n",
    "                                      n_estimators=rf_grid_result.best_params_['n_estimators']).fit(x_train, y_train)\n",
    "plot_results(randomforest,x_test, y_test,save=True,name='rf_md{}_est_{}'.format(rf_grid_result.best_params_['max_depth'],\n",
    "                                                                                rf_grid_result.best_params_['n_estimators']))"
   ]
  },
  {
   "cell_type": "markdown",
   "metadata": {},
   "source": [
    "### Neural Network - GloVe embeddings as pre-processing layer"
   ]
  },
  {
   "cell_type": "code",
   "execution_count": 32,
   "metadata": {},
   "outputs": [],
   "source": [
    "def create_model_ff(nodes1=100, nodes2=50, dropout_rate=0.3, optimizer='rmsprop', learning_rate=0.001):\n",
    "    if optimizer.lower() == 'rmsprop': \n",
    "        optimizer = RMSprop(learning_rate = learning_rate)\n",
    "    elif optimizer.lower() == 'adam':\n",
    "        optimizer = Adam(learning_rate = learning_rate)\n",
    "    model = Sequential() \n",
    "    if nodes1 == 0: \n",
    "        model.add(Dense(1, input_shape=x_train.shape[1:], activation='sigmoid'))\n",
    "        model.compile(optimizer=optimizer, loss='binary_crossentropy', metrics=['acc'])\n",
    "        return model \n",
    "    model.add(Dense(nodes1, input_shape=x_train.shape[1:]))\n",
    "    model.add(Dropout(dropout_rate))\n",
    "    if nodes2 == 0: \n",
    "        model.add(Dense(1, activation='sigmoid'))\n",
    "        model.compile(optimizer=optimizer, loss='binary_crossentropy', metrics=['acc'])\n",
    "        return model\n",
    "    model.add(Dense(nodes2))\n",
    "    model.add(Dropout(dropout_rate))\n",
    "    model.add(Dense(1, activation='sigmoid'))\n",
    "    model.compile(optimizer=optimizer, loss='binary_crossentropy', metrics=['acc'])\n",
    "    return model "
   ]
  },
  {
   "cell_type": "code",
   "execution_count": 33,
   "metadata": {
    "scrolled": true
   },
   "outputs": [
    {
     "name": "stdout",
     "output_type": "stream",
     "text": [
      "Fitting 3 folds for each of 10 candidates, totalling 30 fits\n",
      "[CV] optimizer=RMSprop, nodes2=50, nodes1=500, learning_rate=0.001, epochs=3, dropout_rate=0.1, batch_size=4 \n",
      "WARNING:tensorflow:From C:\\ProgramData\\Anaconda3\\envs\\nlpenv\\lib\\site-packages\\tensorflow_core\\python\\ops\\resource_variable_ops.py:1630: calling BaseResourceVariable.__init__ (from tensorflow.python.ops.resource_variable_ops) with constraint is deprecated and will be removed in a future version.\n",
      "Instructions for updating:\n",
      "If using Keras pass *_constraint arguments to layers.\n"
     ]
    },
    {
     "name": "stderr",
     "output_type": "stream",
     "text": [
      "[Parallel(n_jobs=1)]: Using backend SequentialBackend with 1 concurrent workers.\n"
     ]
    },
    {
     "name": "stdout",
     "output_type": "stream",
     "text": [
      "WARNING:tensorflow:From C:\\ProgramData\\Anaconda3\\envs\\nlpenv\\lib\\site-packages\\tensorflow_core\\python\\ops\\nn_impl.py:183: where (from tensorflow.python.ops.array_ops) is deprecated and will be removed in a future version.\n",
      "Instructions for updating:\n",
      "Use tf.where in 2.0, which has the same broadcast rule as np.where\n",
      "[CV]  optimizer=RMSprop, nodes2=50, nodes1=500, learning_rate=0.001, epochs=3, dropout_rate=0.1, batch_size=4, score=0.854, total=  39.8s\n",
      "[CV] optimizer=RMSprop, nodes2=50, nodes1=500, learning_rate=0.001, epochs=3, dropout_rate=0.1, batch_size=4 \n"
     ]
    },
    {
     "name": "stderr",
     "output_type": "stream",
     "text": [
      "[Parallel(n_jobs=1)]: Done   1 out of   1 | elapsed:   39.7s remaining:    0.0s\n"
     ]
    },
    {
     "name": "stdout",
     "output_type": "stream",
     "text": [
      "[CV]  optimizer=RMSprop, nodes2=50, nodes1=500, learning_rate=0.001, epochs=3, dropout_rate=0.1, batch_size=4, score=0.823, total=  39.5s\n",
      "[CV] optimizer=RMSprop, nodes2=50, nodes1=500, learning_rate=0.001, epochs=3, dropout_rate=0.1, batch_size=4 \n"
     ]
    },
    {
     "name": "stderr",
     "output_type": "stream",
     "text": [
      "[Parallel(n_jobs=1)]: Done   2 out of   2 | elapsed:  1.3min remaining:    0.0s\n"
     ]
    },
    {
     "name": "stdout",
     "output_type": "stream",
     "text": [
      "[CV]  optimizer=RMSprop, nodes2=50, nodes1=500, learning_rate=0.001, epochs=3, dropout_rate=0.1, batch_size=4, score=0.840, total=  40.7s\n",
      "[CV] optimizer=RMSprop, nodes2=250, nodes1=100, learning_rate=1e-05, epochs=3, dropout_rate=0.3, batch_size=8 \n"
     ]
    },
    {
     "name": "stderr",
     "output_type": "stream",
     "text": [
      "[Parallel(n_jobs=1)]: Done   3 out of   3 | elapsed:  2.0min remaining:    0.0s\n"
     ]
    },
    {
     "name": "stdout",
     "output_type": "stream",
     "text": [
      "[CV]  optimizer=RMSprop, nodes2=250, nodes1=100, learning_rate=1e-05, epochs=3, dropout_rate=0.3, batch_size=8, score=0.730, total=  16.9s\n",
      "[CV] optimizer=RMSprop, nodes2=250, nodes1=100, learning_rate=1e-05, epochs=3, dropout_rate=0.3, batch_size=8 \n"
     ]
    },
    {
     "name": "stderr",
     "output_type": "stream",
     "text": [
      "[Parallel(n_jobs=1)]: Done   4 out of   4 | elapsed:  2.3min remaining:    0.0s\n"
     ]
    },
    {
     "name": "stdout",
     "output_type": "stream",
     "text": [
      "[CV]  optimizer=RMSprop, nodes2=250, nodes1=100, learning_rate=1e-05, epochs=3, dropout_rate=0.3, batch_size=8, score=0.710, total=  16.0s\n",
      "[CV] optimizer=RMSprop, nodes2=250, nodes1=100, learning_rate=1e-05, epochs=3, dropout_rate=0.3, batch_size=8 \n"
     ]
    },
    {
     "name": "stderr",
     "output_type": "stream",
     "text": [
      "[Parallel(n_jobs=1)]: Done   5 out of   5 | elapsed:  2.5min remaining:    0.0s\n"
     ]
    },
    {
     "name": "stdout",
     "output_type": "stream",
     "text": [
      "[CV]  optimizer=RMSprop, nodes2=250, nodes1=100, learning_rate=1e-05, epochs=3, dropout_rate=0.3, batch_size=8, score=0.716, total=  17.2s\n",
      "[CV] optimizer=RMSprop, nodes2=100, nodes1=50, learning_rate=1e-05, epochs=3, dropout_rate=0.5, batch_size=4 \n"
     ]
    },
    {
     "name": "stderr",
     "output_type": "stream",
     "text": [
      "[Parallel(n_jobs=1)]: Done   6 out of   6 | elapsed:  2.8min remaining:    0.0s\n"
     ]
    },
    {
     "name": "stdout",
     "output_type": "stream",
     "text": [
      "[CV]  optimizer=RMSprop, nodes2=100, nodes1=50, learning_rate=1e-05, epochs=3, dropout_rate=0.5, batch_size=4, score=0.700, total=  26.4s\n",
      "[CV] optimizer=RMSprop, nodes2=100, nodes1=50, learning_rate=1e-05, epochs=3, dropout_rate=0.5, batch_size=4 \n"
     ]
    },
    {
     "name": "stderr",
     "output_type": "stream",
     "text": [
      "[Parallel(n_jobs=1)]: Done   7 out of   7 | elapsed:  3.3min remaining:    0.0s\n"
     ]
    },
    {
     "name": "stdout",
     "output_type": "stream",
     "text": [
      "[CV]  optimizer=RMSprop, nodes2=100, nodes1=50, learning_rate=1e-05, epochs=3, dropout_rate=0.5, batch_size=4, score=0.700, total=  26.0s\n",
      "[CV] optimizer=RMSprop, nodes2=100, nodes1=50, learning_rate=1e-05, epochs=3, dropout_rate=0.5, batch_size=4 \n"
     ]
    },
    {
     "name": "stderr",
     "output_type": "stream",
     "text": [
      "[Parallel(n_jobs=1)]: Done   8 out of   8 | elapsed:  3.7min remaining:    0.0s\n"
     ]
    },
    {
     "name": "stdout",
     "output_type": "stream",
     "text": [
      "[CV]  optimizer=RMSprop, nodes2=100, nodes1=50, learning_rate=1e-05, epochs=3, dropout_rate=0.5, batch_size=4, score=0.696, total=  27.5s\n",
      "[CV] optimizer=Adam, nodes2=500, nodes1=50, learning_rate=1e-05, epochs=3, dropout_rate=0.1, batch_size=8 \n",
      "[CV]  optimizer=Adam, nodes2=500, nodes1=50, learning_rate=1e-05, epochs=3, dropout_rate=0.1, batch_size=8, score=nan, total=   0.0s\n",
      "[CV] optimizer=Adam, nodes2=500, nodes1=50, learning_rate=1e-05, epochs=3, dropout_rate=0.1, batch_size=8 \n",
      "[CV]  optimizer=Adam, nodes2=500, nodes1=50, learning_rate=1e-05, epochs=3, dropout_rate=0.1, batch_size=8, score=nan, total=   0.0s\n",
      "[CV] optimizer=Adam, nodes2=500, nodes1=50, learning_rate=1e-05, epochs=3, dropout_rate=0.1, batch_size=8 \n",
      "[CV]  optimizer=Adam, nodes2=500, nodes1=50, learning_rate=1e-05, epochs=3, dropout_rate=0.1, batch_size=8, score=nan, total=   0.0s\n",
      "[CV] optimizer=Adam, nodes2=500, nodes1=250, learning_rate=1e-05, epochs=3, dropout_rate=0.3, batch_size=4 \n"
     ]
    },
    {
     "name": "stderr",
     "output_type": "stream",
     "text": [
      "[Parallel(n_jobs=1)]: Done   9 out of   9 | elapsed:  4.2min remaining:    0.0s\n",
      "C:\\ProgramData\\Anaconda3\\envs\\nlpenv\\lib\\site-packages\\sklearn\\model_selection\\_validation.py:536: FitFailedWarning: Estimator fit failed. The score on this train-test partition for these parameters will be set to nan. Details: \n",
      "NameError: name 'Adam' is not defined\n",
      "\n",
      "  FitFailedWarning)\n"
     ]
    },
    {
     "name": "stdout",
     "output_type": "stream",
     "text": [
      "[CV]  optimizer=Adam, nodes2=500, nodes1=250, learning_rate=1e-05, epochs=3, dropout_rate=0.3, batch_size=4, score=nan, total=   0.0s\n",
      "[CV] optimizer=Adam, nodes2=500, nodes1=250, learning_rate=1e-05, epochs=3, dropout_rate=0.3, batch_size=4 \n",
      "[CV]  optimizer=Adam, nodes2=500, nodes1=250, learning_rate=1e-05, epochs=3, dropout_rate=0.3, batch_size=4, score=nan, total=   0.0s\n",
      "[CV] optimizer=Adam, nodes2=500, nodes1=250, learning_rate=1e-05, epochs=3, dropout_rate=0.3, batch_size=4 \n",
      "[CV]  optimizer=Adam, nodes2=500, nodes1=250, learning_rate=1e-05, epochs=3, dropout_rate=0.3, batch_size=4, score=nan, total=   0.0s\n",
      "[CV] optimizer=RMSprop, nodes2=0, nodes1=50, learning_rate=1e-05, epochs=3, dropout_rate=0.3, batch_size=4 \n",
      "[CV]  optimizer=RMSprop, nodes2=0, nodes1=50, learning_rate=1e-05, epochs=3, dropout_rate=0.3, batch_size=4, score=0.714, total=  23.4s\n",
      "[CV] optimizer=RMSprop, nodes2=0, nodes1=50, learning_rate=1e-05, epochs=3, dropout_rate=0.3, batch_size=4 \n",
      "[CV]  optimizer=RMSprop, nodes2=0, nodes1=50, learning_rate=1e-05, epochs=3, dropout_rate=0.3, batch_size=4, score=0.709, total=  25.1s\n",
      "[CV] optimizer=RMSprop, nodes2=0, nodes1=50, learning_rate=1e-05, epochs=3, dropout_rate=0.3, batch_size=4 \n",
      "[CV]  optimizer=RMSprop, nodes2=0, nodes1=50, learning_rate=1e-05, epochs=3, dropout_rate=0.3, batch_size=4, score=0.718, total=  26.4s\n",
      "[CV] optimizer=RMSprop, nodes2=500, nodes1=250, learning_rate=0.001, epochs=3, dropout_rate=0.5, batch_size=8 \n",
      "[CV]  optimizer=RMSprop, nodes2=500, nodes1=250, learning_rate=0.001, epochs=3, dropout_rate=0.5, batch_size=8, score=0.834, total=  25.0s\n",
      "[CV] optimizer=RMSprop, nodes2=500, nodes1=250, learning_rate=0.001, epochs=3, dropout_rate=0.5, batch_size=8 \n",
      "[CV]  optimizer=RMSprop, nodes2=500, nodes1=250, learning_rate=0.001, epochs=3, dropout_rate=0.5, batch_size=8, score=0.834, total=  25.5s\n",
      "[CV] optimizer=RMSprop, nodes2=500, nodes1=250, learning_rate=0.001, epochs=3, dropout_rate=0.5, batch_size=8 \n",
      "[CV]  optimizer=RMSprop, nodes2=500, nodes1=250, learning_rate=0.001, epochs=3, dropout_rate=0.5, batch_size=8, score=0.804, total=  14.7s\n",
      "[CV] optimizer=Adam, nodes2=50, nodes1=500, learning_rate=1e-05, epochs=3, dropout_rate=0.3, batch_size=8 \n",
      "[CV]  optimizer=Adam, nodes2=50, nodes1=500, learning_rate=1e-05, epochs=3, dropout_rate=0.3, batch_size=8, score=nan, total=   0.0s\n",
      "[CV] optimizer=Adam, nodes2=50, nodes1=500, learning_rate=1e-05, epochs=3, dropout_rate=0.3, batch_size=8 \n",
      "[CV]  optimizer=Adam, nodes2=50, nodes1=500, learning_rate=1e-05, epochs=3, dropout_rate=0.3, batch_size=8, score=nan, total=   0.0s\n",
      "[CV] optimizer=Adam, nodes2=50, nodes1=500, learning_rate=1e-05, epochs=3, dropout_rate=0.3, batch_size=8 \n",
      "[CV]  optimizer=Adam, nodes2=50, nodes1=500, learning_rate=1e-05, epochs=3, dropout_rate=0.3, batch_size=8, score=nan, total=   0.0s\n",
      "[CV] optimizer=RMSprop, nodes2=0, nodes1=500, learning_rate=0.001, epochs=3, dropout_rate=0.1, batch_size=4 \n",
      "[CV]  optimizer=RMSprop, nodes2=0, nodes1=500, learning_rate=0.001, epochs=3, dropout_rate=0.1, batch_size=4, score=0.853, total=  21.8s\n",
      "[CV] optimizer=RMSprop, nodes2=0, nodes1=500, learning_rate=0.001, epochs=3, dropout_rate=0.1, batch_size=4 \n",
      "[CV]  optimizer=RMSprop, nodes2=0, nodes1=500, learning_rate=0.001, epochs=3, dropout_rate=0.1, batch_size=4, score=0.843, total=  21.6s\n",
      "[CV] optimizer=RMSprop, nodes2=0, nodes1=500, learning_rate=0.001, epochs=3, dropout_rate=0.1, batch_size=4 \n",
      "[CV]  optimizer=RMSprop, nodes2=0, nodes1=500, learning_rate=0.001, epochs=3, dropout_rate=0.1, batch_size=4, score=0.842, total=  21.1s\n",
      "[CV] optimizer=RMSprop, nodes2=50, nodes1=100, learning_rate=0.001, epochs=3, dropout_rate=0.3, batch_size=4 \n",
      "[CV]  optimizer=RMSprop, nodes2=50, nodes1=100, learning_rate=0.001, epochs=3, dropout_rate=0.3, batch_size=4, score=0.851, total=  16.3s\n",
      "[CV] optimizer=RMSprop, nodes2=50, nodes1=100, learning_rate=0.001, epochs=3, dropout_rate=0.3, batch_size=4 \n",
      "[CV]  optimizer=RMSprop, nodes2=50, nodes1=100, learning_rate=0.001, epochs=3, dropout_rate=0.3, batch_size=4, score=0.841, total=  16.2s\n",
      "[CV] optimizer=RMSprop, nodes2=50, nodes1=100, learning_rate=0.001, epochs=3, dropout_rate=0.3, batch_size=4 \n",
      "[CV]  optimizer=RMSprop, nodes2=50, nodes1=100, learning_rate=0.001, epochs=3, dropout_rate=0.3, batch_size=4, score=0.822, total=  16.2s\n"
     ]
    },
    {
     "name": "stderr",
     "output_type": "stream",
     "text": [
      "[Parallel(n_jobs=1)]: Done  30 out of  30 | elapsed:  8.4min finished\n"
     ]
    },
    {
     "name": "stdout",
     "output_type": "stream",
     "text": [
      "Best: 0.845880 using {'optimizer': 'RMSprop', 'nodes2': 0, 'nodes1': 500, 'learning_rate': 0.001, 'epochs': 3, 'dropout_rate': 0.1, 'batch_size': 4}\n",
      "0.838839 (0.012461) with: {'optimizer': 'RMSprop', 'nodes2': 50, 'nodes1': 500, 'learning_rate': 0.001, 'epochs': 3, 'dropout_rate': 0.1, 'batch_size': 4}\n",
      "0.718920 (0.008412) with: {'optimizer': 'RMSprop', 'nodes2': 250, 'nodes1': 100, 'learning_rate': 1e-05, 'epochs': 3, 'dropout_rate': 0.3, 'batch_size': 8}\n",
      "0.698640 (0.001603) with: {'optimizer': 'RMSprop', 'nodes2': 100, 'nodes1': 50, 'learning_rate': 1e-05, 'epochs': 3, 'dropout_rate': 0.5, 'batch_size': 4}\n",
      "nan (nan) with: {'optimizer': 'Adam', 'nodes2': 500, 'nodes1': 50, 'learning_rate': 1e-05, 'epochs': 3, 'dropout_rate': 0.1, 'batch_size': 8}\n",
      "nan (nan) with: {'optimizer': 'Adam', 'nodes2': 500, 'nodes1': 250, 'learning_rate': 1e-05, 'epochs': 3, 'dropout_rate': 0.3, 'batch_size': 4}\n",
      "0.713600 (0.003776) with: {'optimizer': 'RMSprop', 'nodes2': 0, 'nodes1': 50, 'learning_rate': 1e-05, 'epochs': 3, 'dropout_rate': 0.3, 'batch_size': 4}\n",
      "0.824240 (0.014289) with: {'optimizer': 'RMSprop', 'nodes2': 500, 'nodes1': 250, 'learning_rate': 0.001, 'epochs': 3, 'dropout_rate': 0.5, 'batch_size': 8}\n",
      "nan (nan) with: {'optimizer': 'Adam', 'nodes2': 50, 'nodes1': 500, 'learning_rate': 1e-05, 'epochs': 3, 'dropout_rate': 0.3, 'batch_size': 8}\n",
      "0.845880 (0.004970) with: {'optimizer': 'RMSprop', 'nodes2': 0, 'nodes1': 500, 'learning_rate': 0.001, 'epochs': 3, 'dropout_rate': 0.1, 'batch_size': 4}\n",
      "0.838159 (0.012018) with: {'optimizer': 'RMSprop', 'nodes2': 50, 'nodes1': 100, 'learning_rate': 0.001, 'epochs': 3, 'dropout_rate': 0.3, 'batch_size': 4}\n"
     ]
    }
   ],
   "source": [
    "model = KerasClassifier(build_fn=create_model_ff, verbose=0)\n",
    "# define the grid search parameters\n",
    "batch_size = [4, 8]\n",
    "epochs = [3]\n",
    "nodes1 = [0, 50, 100, 250, 500]\n",
    "nodes2 = [0, 50, 100, 250, 500] # 0 implies only one hidden layer \n",
    "dropout_rates = [0.1, 0.3, 0.5]\n",
    "learning_rates = [1e-3, 1e-4, 1e-5]\n",
    "optimizers = ['RMSprop','Adam']\n",
    "nn_param_grid = dict(batch_size=batch_size,\n",
    "                     epochs=epochs,\n",
    "                     nodes1=nodes1,\n",
    "                     nodes2=nodes2,\n",
    "                     dropout_rate=dropout_rates,\n",
    "                     learning_rate=learning_rates,\n",
    "                     optimizer=optimizers)\n",
    "nn_grid = RandomizedSearchCV(estimator=model,\n",
    "                             param_distributions=nn_param_grid,\n",
    "                             n_iter=10,\n",
    "                             n_jobs=1,\n",
    "                             cv=3,\n",
    "                             scoring='accuracy',\n",
    "                             verbose=10)\n",
    "\n",
    "nn_grid_result = nn_grid.fit(x_train, y_train)\n",
    "# summarize results\n",
    "print(\"Best: %f using %s\" % (nn_grid_result.best_score_, nn_grid_result.best_params_))\n",
    "means = nn_grid_result.cv_results_['mean_test_score']\n",
    "stds = nn_grid_result.cv_results_['std_test_score']\n",
    "params = nn_grid_result.cv_results_['params']\n",
    "for mean, stdev, param in zip(means, stds, params):\n",
    "    print(\"%f (%f) with: %r\" % (mean, stdev, param))"
   ]
  },
  {
   "cell_type": "code",
   "execution_count": 34,
   "metadata": {
    "scrolled": true
   },
   "outputs": [
    {
     "name": "stdout",
     "output_type": "stream",
     "text": [
      "Train on 20000 samples, validate on 5000 samples\n",
      "Epoch 1/1000000\n",
      "20000/20000 [==============================] - 31s 2ms/sample - loss: 0.4397 - acc: 0.7947 - val_loss: 0.4094 - val_acc: 0.8174\n",
      "Epoch 2/1000000\n",
      "20000/20000 [==============================] - 35s 2ms/sample - loss: 0.3887 - acc: 0.8280 - val_loss: 0.5480 - val_acc: 0.7540\n",
      "Epoch 3/1000000\n",
      "20000/20000 [==============================] - 35s 2ms/sample - loss: 0.3778 - acc: 0.8323 - val_loss: 0.3781 - val_acc: 0.8402\n",
      "Epoch 4/1000000\n",
      "20000/20000 [==============================] - 30s 1ms/sample - loss: 0.3712 - acc: 0.8398 - val_loss: 0.4113 - val_acc: 0.8316\n",
      "Epoch 5/1000000\n",
      "20000/20000 [==============================] - 24s 1ms/sample - loss: 0.3685 - acc: 0.8408 - val_loss: 0.4121 - val_acc: 0.8176\n"
     ]
    },
    {
     "ename": "TypeError",
     "evalue": "plot_results_nn() missing 2 required positional arguments: 'x_test' and 'y_test'",
     "output_type": "error",
     "traceback": [
      "\u001b[1;31m---------------------------------------------------------------------------\u001b[0m",
      "\u001b[1;31mTypeError\u001b[0m                                 Traceback (most recent call last)",
      "\u001b[1;32m<ipython-input-34-10c9a741f6ab>\u001b[0m in \u001b[0;36m<module>\u001b[1;34m\u001b[0m\n\u001b[0;32m     19\u001b[0m                                                                               \u001b[0mnn_grid_result\u001b[0m\u001b[1;33m.\u001b[0m\u001b[0mbest_params_\u001b[0m\u001b[1;33m[\u001b[0m\u001b[1;34m'nodes2'\u001b[0m\u001b[1;33m]\u001b[0m\u001b[1;33m,\u001b[0m\u001b[1;33m\u001b[0m\u001b[1;33m\u001b[0m\u001b[0m\n\u001b[0;32m     20\u001b[0m                                                                               \u001b[0mnn_grid_result\u001b[0m\u001b[1;33m.\u001b[0m\u001b[0mbest_params_\u001b[0m\u001b[1;33m[\u001b[0m\u001b[1;34m'dropout_rate'\u001b[0m\u001b[1;33m]\u001b[0m\u001b[1;33m,\u001b[0m\u001b[1;33m\u001b[0m\u001b[1;33m\u001b[0m\u001b[0m\n\u001b[1;32m---> 21\u001b[1;33m                                                                               nn_grid_result.best_params_['learning_rate']))\n\u001b[0m",
      "\u001b[1;31mTypeError\u001b[0m: plot_results_nn() missing 2 required positional arguments: 'x_test' and 'y_test'"
     ]
    }
   ],
   "source": [
    "model = create_model_ff(nodes1=nn_grid_result.best_params_['nodes1'],\n",
    "                       nodes2=nn_grid_result.best_params_['nodes2'],\n",
    "                       dropout_rate=nn_grid_result.best_params_['dropout_rate'],\n",
    "                       learning_rate=nn_grid_result.best_params_['learning_rate'],\n",
    "                       optimizer=nn_grid_result.best_params_['optimizer'])\n",
    "\n",
    "earlystop = EarlyStopping(monitor='val_acc',\n",
    "                          patience=2,\n",
    "                          restore_best_weights=True)\n",
    "                         \n",
    "history = model.fit(x_train, y_train,\n",
    "                    validation_split=0.2,\n",
    "                    epochs=1000000,\n",
    "                    batch_size=nn_grid_result.best_params_['batch_size'],\n",
    "                    callbacks=[earlystop],\n",
    "                    verbose=1)\n",
    "\n",
    "plot_results_nn(history, \n",
    "                model,\n",
    "                x_test,\n",
    "                y_test,\n",
    "                save=True,\n",
    "                name='nn_n1{}_n2{}_dr{}_lr{}'.format(nn_grid_result.best_params_['nodes1'],\n",
    "                                                     nn_grid_result.best_params_['nodes2'],\n",
    "                                                     nn_grid_result.best_params_['dropout_rate'],\n",
    "                                                     nn_grid_result.best_params_['learning_rate']))"
   ]
  },
  {
   "cell_type": "markdown",
   "metadata": {},
   "source": [
    "### Neural Network - GloVe embeddings as embedded layer\n",
    "Similar to the previous neural network, but with an embedded layer that is trained together with the weights in the feed-forward network. "
   ]
  },
  {
   "cell_type": "code",
   "execution_count": 35,
   "metadata": {},
   "outputs": [],
   "source": [
    "# Create functions for custom 'MergeEmedding'-layer which averages \n",
    "# the embeddings over all words after the embedding layer \n",
    "def merge_embeddings(x):\n",
    "    # Sum the embeddings for every word slot. If this is zero, there is no word in this slot\n",
    "    non_zero = K.sum(K.cast(K.not_equal(K.sum(x,axis=2),0),tf.float32))\n",
    "    return K.sum(x,axis=1) / non_zero\n",
    "\n",
    "def merge_output_shape(input_shape):\n",
    "    return input_shape[0], input_shape[-1]\n",
    "\n",
    "def create_model_emb_ff(nodes1=100, nodes2=50, dropout_rate=0.3, optimizer='rmsprop', learning_rate=0.001):\n",
    "    if optimizer.lower() == 'rmsprop': \n",
    "        optimizer = RMSprop(learning_rate = learning_rate)\n",
    "    elif optimizer.lower() == 'adam':\n",
    "        optimizer = Adam(learning_rate = learning_rate)\n",
    "    model = Sequential() \n",
    "    model.add(Embedding(input_dim=vocab_size+1,\n",
    "                        output_dim=300,\n",
    "                        mask_zero=True,\n",
    "                        weights=[trainable_embeddings]))\n",
    "    model.add(Lambda(merge_embeddings, output_shape=merge_output_shape))\n",
    "    if nodes1 == 0: \n",
    "        model.add(Dense(1, input_shape=x_train.shape[1:], activation='sigmoid'))\n",
    "        model.compile(optimizer=optimizer, loss='binary_crossentropy', metrics=['acc'])\n",
    "        return model \n",
    "    model.add(Dense(nodes1, input_shape=x_train.shape[1:]))\n",
    "    model.add(Dropout(dropout_rate))\n",
    "    if nodes2 == 0: \n",
    "        model.add(Dense(1, activation='sigmoid'))\n",
    "        model.compile(optimizer=optimizer, loss='binary_crossentropy', metrics=['acc'])\n",
    "        return model\n",
    "    model.add(Dense(nodes2))\n",
    "    model.add(Dropout(dropout_rate))\n",
    "    model.add(Dense(1, activation='sigmoid'))\n",
    "    model.compile(optimizer=optimizer, loss='binary_crossentropy', metrics=['acc'])\n",
    "    return model "
   ]
  },
  {
   "cell_type": "code",
   "execution_count": 38,
   "metadata": {},
   "outputs": [
    {
     "name": "stdout",
     "output_type": "stream",
     "text": [
      "Train on 20000 samples, validate on 5000 samples\n",
      "Epoch 1/5\n",
      "20000/20000 [==============================] - 17s 873us/sample - loss: 0.6651 - acc: 0.5802 - val_loss: 0.5347 - val_acc: 0.7486\n",
      "Epoch 2/5\n",
      "20000/20000 [==============================] - 19s 938us/sample - loss: 0.4179 - acc: 0.8135 - val_loss: 0.3549 - val_acc: 0.8494\n",
      "Epoch 3/5\n",
      "20000/20000 [==============================] - 19s 958us/sample - loss: 0.3215 - acc: 0.8652 - val_loss: 0.3347 - val_acc: 0.8582\n",
      "Epoch 4/5\n",
      "20000/20000 [==============================] - 19s 971us/sample - loss: 0.2842 - acc: 0.8877 - val_loss: 0.3132 - val_acc: 0.8748\n",
      "Epoch 5/5\n",
      "20000/20000 [==============================] - 19s 941us/sample - loss: 0.2614 - acc: 0.8950 - val_loss: 0.3530 - val_acc: 0.8514\n"
     ]
    }
   ],
   "source": [
    "m = create_model_emb_ff()\n",
    "h = m.fit(x_train_pad, y_train,\n",
    "         verbose=1,\n",
    "         epochs=5,\n",
    "         validation_split=0.2)"
   ]
  },
  {
   "cell_type": "code",
   "execution_count": 40,
   "metadata": {},
   "outputs": [
    {
     "name": "stdout",
     "output_type": "stream",
     "text": [
      "Fitting 3 folds for each of 2 candidates, totalling 6 fits\n",
      "[CV] optimizer=RMSprop, nodes2=0, nodes1=100, learning_rate=1e-05, epochs=5, dropout_rate=0.5, batch_size=4 \n"
     ]
    },
    {
     "name": "stderr",
     "output_type": "stream",
     "text": [
      "[Parallel(n_jobs=1)]: Using backend SequentialBackend with 1 concurrent workers.\n"
     ]
    },
    {
     "name": "stdout",
     "output_type": "stream",
     "text": [
      "[CV]  optimizer=RMSprop, nodes2=0, nodes1=100, learning_rate=1e-05, epochs=5, dropout_rate=0.5, batch_size=4, score=0.550, total= 4.3min\n",
      "[CV] optimizer=RMSprop, nodes2=0, nodes1=100, learning_rate=1e-05, epochs=5, dropout_rate=0.5, batch_size=4 \n"
     ]
    },
    {
     "name": "stderr",
     "output_type": "stream",
     "text": [
      "[Parallel(n_jobs=1)]: Done   1 out of   1 | elapsed:  4.3min remaining:    0.0s\n"
     ]
    },
    {
     "name": "stdout",
     "output_type": "stream",
     "text": [
      "[CV]  optimizer=RMSprop, nodes2=0, nodes1=100, learning_rate=1e-05, epochs=5, dropout_rate=0.5, batch_size=4, score=0.491, total= 5.3min\n",
      "[CV] optimizer=RMSprop, nodes2=0, nodes1=100, learning_rate=1e-05, epochs=5, dropout_rate=0.5, batch_size=4 \n"
     ]
    },
    {
     "name": "stderr",
     "output_type": "stream",
     "text": [
      "[Parallel(n_jobs=1)]: Done   2 out of   2 | elapsed:  9.6min remaining:    0.0s\n"
     ]
    },
    {
     "name": "stdout",
     "output_type": "stream",
     "text": [
      "[CV]  optimizer=RMSprop, nodes2=0, nodes1=100, learning_rate=1e-05, epochs=5, dropout_rate=0.5, batch_size=4, score=0.505, total= 4.4min\n",
      "[CV] optimizer=RMSprop, nodes2=100, nodes1=500, learning_rate=1e-05, epochs=5, dropout_rate=0.5, batch_size=8 \n"
     ]
    },
    {
     "name": "stderr",
     "output_type": "stream",
     "text": [
      "[Parallel(n_jobs=1)]: Done   3 out of   3 | elapsed: 14.0min remaining:    0.0s\n"
     ]
    },
    {
     "name": "stdout",
     "output_type": "stream",
     "text": [
      "[CV]  optimizer=RMSprop, nodes2=100, nodes1=500, learning_rate=1e-05, epochs=5, dropout_rate=0.5, batch_size=8, score=0.584, total= 2.7min\n",
      "[CV] optimizer=RMSprop, nodes2=100, nodes1=500, learning_rate=1e-05, epochs=5, dropout_rate=0.5, batch_size=8 \n"
     ]
    },
    {
     "name": "stderr",
     "output_type": "stream",
     "text": [
      "[Parallel(n_jobs=1)]: Done   4 out of   4 | elapsed: 16.7min remaining:    0.0s\n"
     ]
    },
    {
     "name": "stdout",
     "output_type": "stream",
     "text": [
      "[CV]  optimizer=RMSprop, nodes2=100, nodes1=500, learning_rate=1e-05, epochs=5, dropout_rate=0.5, batch_size=8, score=0.506, total= 2.7min\n",
      "[CV] optimizer=RMSprop, nodes2=100, nodes1=500, learning_rate=1e-05, epochs=5, dropout_rate=0.5, batch_size=8 \n"
     ]
    },
    {
     "name": "stderr",
     "output_type": "stream",
     "text": [
      "[Parallel(n_jobs=1)]: Done   5 out of   5 | elapsed: 19.3min remaining:    0.0s\n"
     ]
    },
    {
     "name": "stdout",
     "output_type": "stream",
     "text": [
      "[CV]  optimizer=RMSprop, nodes2=100, nodes1=500, learning_rate=1e-05, epochs=5, dropout_rate=0.5, batch_size=8, score=0.543, total= 3.4min\n"
     ]
    },
    {
     "name": "stderr",
     "output_type": "stream",
     "text": [
      "[Parallel(n_jobs=1)]: Done   6 out of   6 | elapsed: 22.8min remaining:    0.0s\n",
      "[Parallel(n_jobs=1)]: Done   6 out of   6 | elapsed: 22.8min finished\n"
     ]
    },
    {
     "name": "stdout",
     "output_type": "stream",
     "text": [
      "Best: 0.544438 using {'optimizer': 'RMSprop', 'nodes2': 100, 'nodes1': 500, 'learning_rate': 1e-05, 'epochs': 5, 'dropout_rate': 0.5, 'batch_size': 8}\n",
      "0.515439 (0.025372) with: {'optimizer': 'RMSprop', 'nodes2': 0, 'nodes1': 100, 'learning_rate': 1e-05, 'epochs': 5, 'dropout_rate': 0.5, 'batch_size': 4}\n",
      "0.544438 (0.031631) with: {'optimizer': 'RMSprop', 'nodes2': 100, 'nodes1': 500, 'learning_rate': 1e-05, 'epochs': 5, 'dropout_rate': 0.5, 'batch_size': 8}\n"
     ]
    }
   ],
   "source": [
    "# Perform a cross-validation to find good values of hyperparameters\n",
    "emb_mod = KerasClassifier(build_fn=create_model_emb_ff, verbose=0)\n",
    "# define the grid search parameters\n",
    "batch_size = [4, 8]\n",
    "epochs = [5]\n",
    "nodes1 = [50, 100, 250, 500]\n",
    "nodes2 = [0, 50, 100, 250, 500] # 0 implies only one hidden layer \n",
    "dropout_rates = [0.1, 0.3, 0.5]\n",
    "learning_rates = [1e-3, 1e-4, 1e-5]\n",
    "optimizers = ['RMSprop','Adam']\n",
    "nn_emb_param_grid = dict(batch_size=batch_size,\n",
    "                         epochs=epochs,\n",
    "                         nodes1=nodes1,\n",
    "                         nodes2=nodes2,\n",
    "                         dropout_rate=dropout_rates,\n",
    "                         learning_rate=learning_rates,\n",
    "                         optimizer=optimizers)\n",
    "nn_emb_grid = RandomizedSearchCV(estimator=emb_mod,\n",
    "                                 param_distributions=nn_emb_param_grid,\n",
    "                                 n_iter=2,\n",
    "                                 n_jobs=1,\n",
    "                                 cv=3,\n",
    "                                 scoring='accuracy',\n",
    "                                 verbose=10)\n",
    "nn_emb_grid_result = nn_emb_grid.fit(x_train_pad, y_train)\n",
    "# summarize results\n",
    "print(\"Best: %f using %s\" % (nn_emb_grid_result.best_score_, nn_emb_grid_result.best_params_))\n",
    "means = nn_emb_grid_result.cv_results_['mean_test_score']\n",
    "stds = nn_emb_grid_result.cv_results_['std_test_score']\n",
    "params = nn_emb_grid_result.cv_results_['params']\n",
    "for mean, stdev, param in zip(means, stds, params):\n",
    "    print(\"%f (%f) with: %r\" % (mean, stdev, param))"
   ]
  },
  {
   "cell_type": "code",
   "execution_count": 43,
   "metadata": {},
   "outputs": [
    {
     "name": "stdout",
     "output_type": "stream",
     "text": [
      "Train on 20000 samples, validate on 5000 samples\n",
      "Epoch 1/20\n",
      "20000/20000 [==============================] - 58s 3ms/sample - loss: 0.6973 - acc: 0.5055 - val_loss: 0.6931 - val_acc: 0.4980\n",
      "Epoch 2/20\n",
      "20000/20000 [==============================] - 58s 3ms/sample - loss: 0.6967 - acc: 0.5039 - val_loss: 0.6922 - val_acc: 0.5292\n",
      "Epoch 3/20\n",
      "20000/20000 [==============================] - 59s 3ms/sample - loss: 0.6947 - acc: 0.5095 - val_loss: 0.6920 - val_acc: 0.5256\n",
      "Epoch 4/20\n",
      "20000/20000 [==============================] - 60s 3ms/sample - loss: 0.6935 - acc: 0.5131 - val_loss: 0.6921 - val_acc: 0.4858\n",
      "Epoch 5/20\n",
      "20000/20000 [==============================] - 61s 3ms/sample - loss: 0.6929 - acc: 0.5174 - val_loss: 0.6908 - val_acc: 0.4860\n",
      "Epoch 6/20\n",
      "20000/20000 [==============================] - 61s 3ms/sample - loss: 0.6908 - acc: 0.5300 - val_loss: 0.6879 - val_acc: 0.6110\n",
      "Epoch 7/20\n",
      "20000/20000 [==============================] - 62s 3ms/sample - loss: 0.6876 - acc: 0.5434 - val_loss: 0.6855 - val_acc: 0.6340\n",
      "Epoch 8/20\n",
      "20000/20000 [==============================] - 64s 3ms/sample - loss: 0.6861 - acc: 0.5526 - val_loss: 0.6821 - val_acc: 0.6480\n",
      "Epoch 9/20\n",
      "20000/20000 [==============================] - 66s 3ms/sample - loss: 0.6811 - acc: 0.5775 - val_loss: 0.6775 - val_acc: 0.6428\n",
      "Epoch 10/20\n",
      "20000/20000 [==============================] - 68s 3ms/sample - loss: 0.6748 - acc: 0.6027 - val_loss: 0.6728 - val_acc: 0.5800\n",
      "Epoch 11/20\n",
      "20000/20000 [==============================] - 69s 3ms/sample - loss: 0.6657 - acc: 0.6288 - val_loss: 0.6587 - val_acc: 0.6636\n",
      "Epoch 12/20\n",
      "20000/20000 [==============================] - 68s 3ms/sample - loss: 0.6532 - acc: 0.6552 - val_loss: 0.6450 - val_acc: 0.6970\n",
      "Epoch 13/20\n",
      "20000/20000 [==============================] - 69s 3ms/sample - loss: 0.6366 - acc: 0.6801 - val_loss: 0.6290 - val_acc: 0.7082\n",
      "Epoch 14/20\n",
      "20000/20000 [==============================] - 69s 3ms/sample - loss: 0.6183 - acc: 0.6936 - val_loss: 0.6081 - val_acc: 0.6894\n",
      "Epoch 15/20\n",
      "20000/20000 [==============================] - 68s 3ms/sample - loss: 0.5957 - acc: 0.7085 - val_loss: 0.5858 - val_acc: 0.7284\n",
      "Epoch 16/20\n",
      "20000/20000 [==============================] - 68s 3ms/sample - loss: 0.5726 - acc: 0.7240 - val_loss: 0.5643 - val_acc: 0.7368\n",
      "Epoch 17/20\n",
      "20000/20000 [==============================] - 69s 3ms/sample - loss: 0.5504 - acc: 0.7376 - val_loss: 0.5442 - val_acc: 0.7484\n",
      "Epoch 18/20\n",
      "20000/20000 [==============================] - 70s 3ms/sample - loss: 0.5308 - acc: 0.7503 - val_loss: 0.5248 - val_acc: 0.7574\n",
      "Epoch 19/20\n",
      "20000/20000 [==============================] - 69s 3ms/sample - loss: 0.5114 - acc: 0.7632 - val_loss: 0.5076 - val_acc: 0.7686\n",
      "Epoch 20/20\n",
      "20000/20000 [==============================] - 69s 3ms/sample - loss: 0.4926 - acc: 0.7760 - val_loss: 0.4955 - val_acc: 0.7770\n"
     ]
    },
    {
     "ename": "KeyError",
     "evalue": "'nodes'",
     "output_type": "error",
     "traceback": [
      "\u001b[1;31m---------------------------------------------------------------------------\u001b[0m",
      "\u001b[1;31mKeyError\u001b[0m                                  Traceback (most recent call last)",
      "\u001b[1;32m<ipython-input-43-466127137a13>\u001b[0m in \u001b[0;36m<module>\u001b[1;34m\u001b[0m\n\u001b[0;32m     16\u001b[0m                     verbose=1)\n\u001b[0;32m     17\u001b[0m \u001b[1;33m\u001b[0m\u001b[0m\n\u001b[1;32m---> 18\u001b[1;33m plot_results_nn(history, model_emb,x_test_pad, y_test,save=True,name='nn_emb_n{}_de{}_dr{}'.format(nn_emb_grid_result.best_params_['nodes'],\n\u001b[0m\u001b[0;32m     19\u001b[0m                                                                         \u001b[0mnn_emb_grid_result\u001b[0m\u001b[1;33m.\u001b[0m\u001b[0mbest_params_\u001b[0m\u001b[1;33m[\u001b[0m\u001b[1;34m'depth'\u001b[0m\u001b[1;33m]\u001b[0m\u001b[1;33m,\u001b[0m\u001b[1;33m\u001b[0m\u001b[1;33m\u001b[0m\u001b[0m\n\u001b[0;32m     20\u001b[0m                                                                         nn_emb_grid_result.best_params_['dropout_rate']))\n",
      "\u001b[1;31mKeyError\u001b[0m: 'nodes'"
     ]
    }
   ],
   "source": [
    "model_emb = create_model_emb_ff(nodes1=nn_emb_grid_result.best_params_['nodes1'],\n",
    "                            nodes2=nn_emb_grid_result.best_params_['nodes2'],\n",
    "                            dropout_rate=nn_emb_grid_result.best_params_['dropout_rate'],\n",
    "                            learning_rate=nn_emb_grid_result.best_params_['learning_rate'],\n",
    "                            optimizer=nn_emb_grid_result.best_params_['optimizer'])\n",
    "\n",
    "earlystop = EarlyStopping(monitor='val_acc',\n",
    "                          patience=2,\n",
    "                          restore_best_weights=True)\n",
    "                         \n",
    "\n",
    "emb_history = model_emb.fit(x_train_pad, y_train,\n",
    "                            validation_split=0.2,\n",
    "                            epochs=100000,\n",
    "                            batch_size=nn_grid_result.best_params_['batch_size'],\n",
    "                            verbose=1,\n",
    "                            callbacks=[earlystop])\n",
    "\n",
    "plot_results_nn(history, model_emb,x_test_pad, y_test,\n",
    "                save=True,\n",
    "                name='nn_emb_n1{}_n2{}_dr{}_lr'.format(nn_emb_grid_result.best_params_['nodes1'],\n",
    "                                                       nn_emb_grid_result.best_params_['nodes2'],\n",
    "                                                       nn_emb_grid_result.best_params_['dropout_rate'],\n",
    "                                                       nn_emb_grid_result.best_params_['learning_rate'])"
   ]
  },
  {
   "cell_type": "code",
   "execution_count": 45,
   "metadata": {},
   "outputs": [
    {
     "data": {
      "image/png": "[encoded data removed]",
      "text/plain": [
       "<Figure size 432x288 with 2 Axes>"
      ]
     },
     "metadata": {
      "needs_background": "light"
     },
     "output_type": "display_data"
    },
    {
     "data": {
      "image/png": "[encoded data removed]",
      "text/plain": [
       "<Figure size 432x288 with 2 Axes>"
      ]
     },
     "metadata": {
      "needs_background": "light"
     },
     "output_type": "display_data"
    },
    {
     "data": {
      "image/png": "[encoded data removed]",
      "text/plain": [
       "<Figure size 432x288 with 2 Axes>"
      ]
     },
     "metadata": {
      "needs_background": "light"
     },
     "output_type": "display_data"
    },
    {
     "name": "stdout",
     "output_type": "stream",
     "text": [
      "              precision    recall  f1-score   support\n",
      "\n",
      "         0.0       0.89      0.48      0.62     12474\n",
      "         1.0       0.64      0.94      0.76     12526\n",
      "\n",
      "    accuracy                           0.71     25000\n",
      "   macro avg       0.77      0.71      0.69     25000\n",
      "weighted avg       0.77      0.71      0.69     25000\n",
      "\n",
      "Test accuracy: 0.70992\n"
     ]
    }
   ],
   "source": [
    "plot_results_nn(history, model_emb,x_test_pad, y_test,\n",
    "                save=True,\n",
    "                name='nn_emb_n1{}_n2{}_dr{}_lr'.format(nn_emb_grid_result.best_params_['nodes1'],\n",
    "                                                       nn_emb_grid_result.best_params_['nodes2'],\n",
    "                                                       nn_emb_grid_result.best_params_['dropout_rate'],\n",
    "                                                       nn_emb_grid_result.best_params_['learning_rate']))"
   ]
  },
  {
   "cell_type": "code",
   "execution_count": 397,
   "metadata": {},
   "outputs": [
    {
     "name": "stdout",
     "output_type": "stream",
     "text": [
      "Model: \"sequential_370\"\n",
      "_________________________________________________________________\n",
      "Layer (type)                 Output Shape              Param #   \n",
      "=================================================================\n",
      "embedding_16 (Embedding)     (None, None, 300)         1500300   \n",
      "_________________________________________________________________\n",
      "bidirectional_8 (Bidirection (None, None, 256)         439296    \n",
      "_________________________________________________________________\n",
      "dropout_700 (Dropout)        (None, None, 256)         0         \n",
      "_________________________________________________________________\n",
      "bidirectional_9 (Bidirection (None, 256)               394240    \n",
      "_________________________________________________________________\n",
      "dropout_701 (Dropout)        (None, 256)               0         \n",
      "_________________________________________________________________\n",
      "dense_1398 (Dense)           (None, 50)                12850     \n",
      "_________________________________________________________________\n",
      "dropout_702 (Dropout)        (None, 50)                0         \n",
      "_________________________________________________________________\n",
      "dense_1399 (Dense)           (None, 1)                 51        \n",
      "=================================================================\n",
      "Total params: 2,346,737\n",
      "Trainable params: 2,346,737\n",
      "Non-trainable params: 0\n",
      "_________________________________________________________________\n"
     ]
    }
   ],
   "source": [
    "n_lstm1 = 128\n",
    "n_lstm2 = 128\n",
    "n_dense = 50\n",
    "dr_rate = 0.3\n",
    "\n",
    "lstm_model = Sequential()\n",
    "lstm_model.add(Embedding(input_dim=vocab_size+1,\n",
    "                        output_dim=300,\n",
    "                        mask_zero=True,\n",
    "                        weights=[trainable_embeddings],\n",
    "                       trainable=True))\n",
    "lstm_model.add(Bidirectional(LSTM(n_lstm1, recurrent_dropout=0.2, return_sequences=True)))\n",
    "lstm_model.add(Dropout(dr_rate))\n",
    "lstm_model.add(Bidirectional(LSTM(n_lstm2)))\n",
    "lstm_model.add(Dropout(dr_rate))\n",
    "lstm_model.add(Dense(n_dense))\n",
    "lstm_model.add(Dropout(dr_rate))\n",
    "lstm_model.add(Dense(1,activation='sigmoid'))\n",
    "\n",
    "lstm_model.compile(optimizer='rmsprop', metrics=['acc'], loss='binary_crossentropy')\n",
    "lstm_model.summary()"
   ]
  },
  {
   "cell_type": "code",
   "execution_count": 398,
   "metadata": {},
   "outputs": [
    {
     "name": "stdout",
     "output_type": "stream",
     "text": [
      "Train on 20000 samples, validate on 5000 samples\n",
      "Epoch 1/10\n",
      "  320/20000 [..............................] - ETA: 5:34:09 - loss: 1.0789 - acc: 0.5234WARNING:tensorflow:Early stopping conditioned on metric `val_loss` which is not available. Available metrics are: loss,acc\n"
     ]
    },
    {
     "name": "stderr",
     "output_type": "stream",
     "text": [
      "WARNING:tensorflow:Early stopping conditioned on metric `val_loss` which is not available. Available metrics are: loss,acc\n"
     ]
    },
    {
     "ename": "KeyboardInterrupt",
     "evalue": "",
     "output_type": "error",
     "traceback": [
      "\u001b[1;31m---------------------------------------------------------------------------\u001b[0m",
      "\u001b[1;31mKeyboardInterrupt\u001b[0m                         Traceback (most recent call last)",
      "\u001b[1;32m<ipython-input-398-3cad8bd99955>\u001b[0m in \u001b[0;36m<module>\u001b[1;34m\u001b[0m\n\u001b[0;32m      3\u001b[0m                             \u001b[0mvalidation_split\u001b[0m\u001b[1;33m=\u001b[0m\u001b[1;36m0.2\u001b[0m\u001b[1;33m,\u001b[0m\u001b[1;33m\u001b[0m\u001b[1;33m\u001b[0m\u001b[0m\n\u001b[0;32m      4\u001b[0m                             \u001b[0mepochs\u001b[0m\u001b[1;33m=\u001b[0m\u001b[1;36m10\u001b[0m\u001b[1;33m,\u001b[0m\u001b[1;33m\u001b[0m\u001b[1;33m\u001b[0m\u001b[0m\n\u001b[1;32m----> 5\u001b[1;33m                             callbacks=[earlystop])\n\u001b[0m\u001b[0;32m      6\u001b[0m \u001b[0msave\u001b[0m \u001b[1;33m=\u001b[0m \u001b[1;32mFalse\u001b[0m\u001b[1;33m\u001b[0m\u001b[1;33m\u001b[0m\u001b[0m\n\u001b[0;32m      7\u001b[0m \u001b[1;33m\u001b[0m\u001b[0m\n",
      "\u001b[1;32mC:\\ProgramData\\Anaconda3\\envs\\nlpenv\\lib\\site-packages\\tensorflow_core\\python\\keras\\engine\\training.py\u001b[0m in \u001b[0;36mfit\u001b[1;34m(self, x, y, batch_size, epochs, verbose, callbacks, validation_split, validation_data, shuffle, class_weight, sample_weight, initial_epoch, steps_per_epoch, validation_steps, validation_freq, max_queue_size, workers, use_multiprocessing, **kwargs)\u001b[0m\n\u001b[0;32m    817\u001b[0m         \u001b[0mmax_queue_size\u001b[0m\u001b[1;33m=\u001b[0m\u001b[0mmax_queue_size\u001b[0m\u001b[1;33m,\u001b[0m\u001b[1;33m\u001b[0m\u001b[1;33m\u001b[0m\u001b[0m\n\u001b[0;32m    818\u001b[0m         \u001b[0mworkers\u001b[0m\u001b[1;33m=\u001b[0m\u001b[0mworkers\u001b[0m\u001b[1;33m,\u001b[0m\u001b[1;33m\u001b[0m\u001b[1;33m\u001b[0m\u001b[0m\n\u001b[1;32m--> 819\u001b[1;33m         use_multiprocessing=use_multiprocessing)\n\u001b[0m\u001b[0;32m    820\u001b[0m \u001b[1;33m\u001b[0m\u001b[0m\n\u001b[0;32m    821\u001b[0m   def evaluate(self,\n",
      "\u001b[1;32mC:\\ProgramData\\Anaconda3\\envs\\nlpenv\\lib\\site-packages\\tensorflow_core\\python\\keras\\engine\\training_v2.py\u001b[0m in \u001b[0;36mfit\u001b[1;34m(self, model, x, y, batch_size, epochs, verbose, callbacks, validation_split, validation_data, shuffle, class_weight, sample_weight, initial_epoch, steps_per_epoch, validation_steps, validation_freq, max_queue_size, workers, use_multiprocessing, **kwargs)\u001b[0m\n\u001b[0;32m    340\u001b[0m                 \u001b[0mmode\u001b[0m\u001b[1;33m=\u001b[0m\u001b[0mModeKeys\u001b[0m\u001b[1;33m.\u001b[0m\u001b[0mTRAIN\u001b[0m\u001b[1;33m,\u001b[0m\u001b[1;33m\u001b[0m\u001b[1;33m\u001b[0m\u001b[0m\n\u001b[0;32m    341\u001b[0m                 \u001b[0mtraining_context\u001b[0m\u001b[1;33m=\u001b[0m\u001b[0mtraining_context\u001b[0m\u001b[1;33m,\u001b[0m\u001b[1;33m\u001b[0m\u001b[1;33m\u001b[0m\u001b[0m\n\u001b[1;32m--> 342\u001b[1;33m                 total_epochs=epochs)\n\u001b[0m\u001b[0;32m    343\u001b[0m             \u001b[0mcbks\u001b[0m\u001b[1;33m.\u001b[0m\u001b[0mmake_logs\u001b[0m\u001b[1;33m(\u001b[0m\u001b[0mmodel\u001b[0m\u001b[1;33m,\u001b[0m \u001b[0mepoch_logs\u001b[0m\u001b[1;33m,\u001b[0m \u001b[0mtraining_result\u001b[0m\u001b[1;33m,\u001b[0m \u001b[0mModeKeys\u001b[0m\u001b[1;33m.\u001b[0m\u001b[0mTRAIN\u001b[0m\u001b[1;33m)\u001b[0m\u001b[1;33m\u001b[0m\u001b[1;33m\u001b[0m\u001b[0m\n\u001b[0;32m    344\u001b[0m \u001b[1;33m\u001b[0m\u001b[0m\n",
      "\u001b[1;32mC:\\ProgramData\\Anaconda3\\envs\\nlpenv\\lib\\site-packages\\tensorflow_core\\python\\keras\\engine\\training_v2.py\u001b[0m in \u001b[0;36mrun_one_epoch\u001b[1;34m(model, iterator, execution_function, dataset_size, batch_size, strategy, steps_per_epoch, num_samples, mode, training_context, total_epochs)\u001b[0m\n\u001b[0;32m    126\u001b[0m         step=step, mode=mode, size=current_batch_size) as batch_logs:\n\u001b[0;32m    127\u001b[0m       \u001b[1;32mtry\u001b[0m\u001b[1;33m:\u001b[0m\u001b[1;33m\u001b[0m\u001b[1;33m\u001b[0m\u001b[0m\n\u001b[1;32m--> 128\u001b[1;33m         \u001b[0mbatch_outs\u001b[0m \u001b[1;33m=\u001b[0m \u001b[0mexecution_function\u001b[0m\u001b[1;33m(\u001b[0m\u001b[0miterator\u001b[0m\u001b[1;33m)\u001b[0m\u001b[1;33m\u001b[0m\u001b[1;33m\u001b[0m\u001b[0m\n\u001b[0m\u001b[0;32m    129\u001b[0m       \u001b[1;32mexcept\u001b[0m \u001b[1;33m(\u001b[0m\u001b[0mStopIteration\u001b[0m\u001b[1;33m,\u001b[0m \u001b[0merrors\u001b[0m\u001b[1;33m.\u001b[0m\u001b[0mOutOfRangeError\u001b[0m\u001b[1;33m)\u001b[0m\u001b[1;33m:\u001b[0m\u001b[1;33m\u001b[0m\u001b[1;33m\u001b[0m\u001b[0m\n\u001b[0;32m    130\u001b[0m         \u001b[1;31m# TODO(kaftan): File bug about tf function and errors.OutOfRangeError?\u001b[0m\u001b[1;33m\u001b[0m\u001b[1;33m\u001b[0m\u001b[1;33m\u001b[0m\u001b[0m\n",
      "\u001b[1;32mC:\\ProgramData\\Anaconda3\\envs\\nlpenv\\lib\\site-packages\\tensorflow_core\\python\\keras\\engine\\training_v2_utils.py\u001b[0m in \u001b[0;36mexecution_function\u001b[1;34m(input_fn)\u001b[0m\n\u001b[0;32m     96\u001b[0m     \u001b[1;31m# `numpy` translates Tensors to values in Eager mode.\u001b[0m\u001b[1;33m\u001b[0m\u001b[1;33m\u001b[0m\u001b[1;33m\u001b[0m\u001b[0m\n\u001b[0;32m     97\u001b[0m     return nest.map_structure(_non_none_constant_value,\n\u001b[1;32m---> 98\u001b[1;33m                               distributed_function(input_fn))\n\u001b[0m\u001b[0;32m     99\u001b[0m \u001b[1;33m\u001b[0m\u001b[0m\n\u001b[0;32m    100\u001b[0m   \u001b[1;32mreturn\u001b[0m \u001b[0mexecution_function\u001b[0m\u001b[1;33m\u001b[0m\u001b[1;33m\u001b[0m\u001b[0m\n",
      "\u001b[1;32mC:\\ProgramData\\Anaconda3\\envs\\nlpenv\\lib\\site-packages\\tensorflow_core\\python\\eager\\def_function.py\u001b[0m in \u001b[0;36m__call__\u001b[1;34m(self, *args, **kwds)\u001b[0m\n\u001b[0;32m    566\u001b[0m         \u001b[0mxla_context\u001b[0m\u001b[1;33m.\u001b[0m\u001b[0mExit\u001b[0m\u001b[1;33m(\u001b[0m\u001b[1;33m)\u001b[0m\u001b[1;33m\u001b[0m\u001b[1;33m\u001b[0m\u001b[0m\n\u001b[0;32m    567\u001b[0m     \u001b[1;32melse\u001b[0m\u001b[1;33m:\u001b[0m\u001b[1;33m\u001b[0m\u001b[1;33m\u001b[0m\u001b[0m\n\u001b[1;32m--> 568\u001b[1;33m       \u001b[0mresult\u001b[0m \u001b[1;33m=\u001b[0m \u001b[0mself\u001b[0m\u001b[1;33m.\u001b[0m\u001b[0m_call\u001b[0m\u001b[1;33m(\u001b[0m\u001b[1;33m*\u001b[0m\u001b[0margs\u001b[0m\u001b[1;33m,\u001b[0m \u001b[1;33m**\u001b[0m\u001b[0mkwds\u001b[0m\u001b[1;33m)\u001b[0m\u001b[1;33m\u001b[0m\u001b[1;33m\u001b[0m\u001b[0m\n\u001b[0m\u001b[0;32m    569\u001b[0m \u001b[1;33m\u001b[0m\u001b[0m\n\u001b[0;32m    570\u001b[0m     \u001b[1;32mif\u001b[0m \u001b[0mtracing_count\u001b[0m \u001b[1;33m==\u001b[0m \u001b[0mself\u001b[0m\u001b[1;33m.\u001b[0m\u001b[0m_get_tracing_count\u001b[0m\u001b[1;33m(\u001b[0m\u001b[1;33m)\u001b[0m\u001b[1;33m:\u001b[0m\u001b[1;33m\u001b[0m\u001b[1;33m\u001b[0m\u001b[0m\n",
      "\u001b[1;32mC:\\ProgramData\\Anaconda3\\envs\\nlpenv\\lib\\site-packages\\tensorflow_core\\python\\eager\\def_function.py\u001b[0m in \u001b[0;36m_call\u001b[1;34m(self, *args, **kwds)\u001b[0m\n\u001b[0;32m    597\u001b[0m       \u001b[1;31m# In this case we have created variables on the first call, so we run the\u001b[0m\u001b[1;33m\u001b[0m\u001b[1;33m\u001b[0m\u001b[1;33m\u001b[0m\u001b[0m\n\u001b[0;32m    598\u001b[0m       \u001b[1;31m# defunned version which is guaranteed to never create variables.\u001b[0m\u001b[1;33m\u001b[0m\u001b[1;33m\u001b[0m\u001b[1;33m\u001b[0m\u001b[0m\n\u001b[1;32m--> 599\u001b[1;33m       \u001b[1;32mreturn\u001b[0m \u001b[0mself\u001b[0m\u001b[1;33m.\u001b[0m\u001b[0m_stateless_fn\u001b[0m\u001b[1;33m(\u001b[0m\u001b[1;33m*\u001b[0m\u001b[0margs\u001b[0m\u001b[1;33m,\u001b[0m \u001b[1;33m**\u001b[0m\u001b[0mkwds\u001b[0m\u001b[1;33m)\u001b[0m  \u001b[1;31m# pylint: disable=not-callable\u001b[0m\u001b[1;33m\u001b[0m\u001b[1;33m\u001b[0m\u001b[0m\n\u001b[0m\u001b[0;32m    600\u001b[0m     \u001b[1;32melif\u001b[0m \u001b[0mself\u001b[0m\u001b[1;33m.\u001b[0m\u001b[0m_stateful_fn\u001b[0m \u001b[1;32mis\u001b[0m \u001b[1;32mnot\u001b[0m \u001b[1;32mNone\u001b[0m\u001b[1;33m:\u001b[0m\u001b[1;33m\u001b[0m\u001b[1;33m\u001b[0m\u001b[0m\n\u001b[0;32m    601\u001b[0m       \u001b[1;31m# Release the lock early so that multiple threads can perform the call\u001b[0m\u001b[1;33m\u001b[0m\u001b[1;33m\u001b[0m\u001b[1;33m\u001b[0m\u001b[0m\n",
      "\u001b[1;32mC:\\ProgramData\\Anaconda3\\envs\\nlpenv\\lib\\site-packages\\tensorflow_core\\python\\eager\\function.py\u001b[0m in \u001b[0;36m__call__\u001b[1;34m(self, *args, **kwargs)\u001b[0m\n\u001b[0;32m   2361\u001b[0m     \u001b[1;32mwith\u001b[0m \u001b[0mself\u001b[0m\u001b[1;33m.\u001b[0m\u001b[0m_lock\u001b[0m\u001b[1;33m:\u001b[0m\u001b[1;33m\u001b[0m\u001b[1;33m\u001b[0m\u001b[0m\n\u001b[0;32m   2362\u001b[0m       \u001b[0mgraph_function\u001b[0m\u001b[1;33m,\u001b[0m \u001b[0margs\u001b[0m\u001b[1;33m,\u001b[0m \u001b[0mkwargs\u001b[0m \u001b[1;33m=\u001b[0m \u001b[0mself\u001b[0m\u001b[1;33m.\u001b[0m\u001b[0m_maybe_define_function\u001b[0m\u001b[1;33m(\u001b[0m\u001b[0margs\u001b[0m\u001b[1;33m,\u001b[0m \u001b[0mkwargs\u001b[0m\u001b[1;33m)\u001b[0m\u001b[1;33m\u001b[0m\u001b[1;33m\u001b[0m\u001b[0m\n\u001b[1;32m-> 2363\u001b[1;33m     \u001b[1;32mreturn\u001b[0m \u001b[0mgraph_function\u001b[0m\u001b[1;33m.\u001b[0m\u001b[0m_filtered_call\u001b[0m\u001b[1;33m(\u001b[0m\u001b[0margs\u001b[0m\u001b[1;33m,\u001b[0m \u001b[0mkwargs\u001b[0m\u001b[1;33m)\u001b[0m  \u001b[1;31m# pylint: disable=protected-access\u001b[0m\u001b[1;33m\u001b[0m\u001b[1;33m\u001b[0m\u001b[0m\n\u001b[0m\u001b[0;32m   2364\u001b[0m \u001b[1;33m\u001b[0m\u001b[0m\n\u001b[0;32m   2365\u001b[0m   \u001b[1;33m@\u001b[0m\u001b[0mproperty\u001b[0m\u001b[1;33m\u001b[0m\u001b[1;33m\u001b[0m\u001b[0m\n",
      "\u001b[1;32mC:\\ProgramData\\Anaconda3\\envs\\nlpenv\\lib\\site-packages\\tensorflow_core\\python\\eager\\function.py\u001b[0m in \u001b[0;36m_filtered_call\u001b[1;34m(self, args, kwargs)\u001b[0m\n\u001b[0;32m   1609\u001b[0m          if isinstance(t, (ops.Tensor,\n\u001b[0;32m   1610\u001b[0m                            resource_variable_ops.BaseResourceVariable))),\n\u001b[1;32m-> 1611\u001b[1;33m         self.captured_inputs)\n\u001b[0m\u001b[0;32m   1612\u001b[0m \u001b[1;33m\u001b[0m\u001b[0m\n\u001b[0;32m   1613\u001b[0m   \u001b[1;32mdef\u001b[0m \u001b[0m_call_flat\u001b[0m\u001b[1;33m(\u001b[0m\u001b[0mself\u001b[0m\u001b[1;33m,\u001b[0m \u001b[0margs\u001b[0m\u001b[1;33m,\u001b[0m \u001b[0mcaptured_inputs\u001b[0m\u001b[1;33m,\u001b[0m \u001b[0mcancellation_manager\u001b[0m\u001b[1;33m=\u001b[0m\u001b[1;32mNone\u001b[0m\u001b[1;33m)\u001b[0m\u001b[1;33m:\u001b[0m\u001b[1;33m\u001b[0m\u001b[1;33m\u001b[0m\u001b[0m\n",
      "\u001b[1;32mC:\\ProgramData\\Anaconda3\\envs\\nlpenv\\lib\\site-packages\\tensorflow_core\\python\\eager\\function.py\u001b[0m in \u001b[0;36m_call_flat\u001b[1;34m(self, args, captured_inputs, cancellation_manager)\u001b[0m\n\u001b[0;32m   1690\u001b[0m       \u001b[1;31m# No tape is watching; skip to running the function.\u001b[0m\u001b[1;33m\u001b[0m\u001b[1;33m\u001b[0m\u001b[1;33m\u001b[0m\u001b[0m\n\u001b[0;32m   1691\u001b[0m       return self._build_call_outputs(self._inference_function.call(\n\u001b[1;32m-> 1692\u001b[1;33m           ctx, args, cancellation_manager=cancellation_manager))\n\u001b[0m\u001b[0;32m   1693\u001b[0m     forward_backward = self._select_forward_and_backward_functions(\n\u001b[0;32m   1694\u001b[0m         \u001b[0margs\u001b[0m\u001b[1;33m,\u001b[0m\u001b[1;33m\u001b[0m\u001b[1;33m\u001b[0m\u001b[0m\n",
      "\u001b[1;32mC:\\ProgramData\\Anaconda3\\envs\\nlpenv\\lib\\site-packages\\tensorflow_core\\python\\eager\\function.py\u001b[0m in \u001b[0;36mcall\u001b[1;34m(self, ctx, args, cancellation_manager)\u001b[0m\n\u001b[0;32m    543\u001b[0m               \u001b[0minputs\u001b[0m\u001b[1;33m=\u001b[0m\u001b[0margs\u001b[0m\u001b[1;33m,\u001b[0m\u001b[1;33m\u001b[0m\u001b[1;33m\u001b[0m\u001b[0m\n\u001b[0;32m    544\u001b[0m               \u001b[0mattrs\u001b[0m\u001b[1;33m=\u001b[0m\u001b[1;33m(\u001b[0m\u001b[1;34m\"executor_type\"\u001b[0m\u001b[1;33m,\u001b[0m \u001b[0mexecutor_type\u001b[0m\u001b[1;33m,\u001b[0m \u001b[1;34m\"config_proto\"\u001b[0m\u001b[1;33m,\u001b[0m \u001b[0mconfig\u001b[0m\u001b[1;33m)\u001b[0m\u001b[1;33m,\u001b[0m\u001b[1;33m\u001b[0m\u001b[1;33m\u001b[0m\u001b[0m\n\u001b[1;32m--> 545\u001b[1;33m               ctx=ctx)\n\u001b[0m\u001b[0;32m    546\u001b[0m         \u001b[1;32melse\u001b[0m\u001b[1;33m:\u001b[0m\u001b[1;33m\u001b[0m\u001b[1;33m\u001b[0m\u001b[0m\n\u001b[0;32m    547\u001b[0m           outputs = execute.execute_with_cancellation(\n",
      "\u001b[1;32mC:\\ProgramData\\Anaconda3\\envs\\nlpenv\\lib\\site-packages\\tensorflow_core\\python\\eager\\execute.py\u001b[0m in \u001b[0;36mquick_execute\u001b[1;34m(op_name, num_outputs, inputs, attrs, ctx, name)\u001b[0m\n\u001b[0;32m     59\u001b[0m     tensors = pywrap_tensorflow.TFE_Py_Execute(ctx._handle, device_name,\n\u001b[0;32m     60\u001b[0m                                                \u001b[0mop_name\u001b[0m\u001b[1;33m,\u001b[0m \u001b[0minputs\u001b[0m\u001b[1;33m,\u001b[0m \u001b[0mattrs\u001b[0m\u001b[1;33m,\u001b[0m\u001b[1;33m\u001b[0m\u001b[1;33m\u001b[0m\u001b[0m\n\u001b[1;32m---> 61\u001b[1;33m                                                num_outputs)\n\u001b[0m\u001b[0;32m     62\u001b[0m   \u001b[1;32mexcept\u001b[0m \u001b[0mcore\u001b[0m\u001b[1;33m.\u001b[0m\u001b[0m_NotOkStatusException\u001b[0m \u001b[1;32mas\u001b[0m \u001b[0me\u001b[0m\u001b[1;33m:\u001b[0m\u001b[1;33m\u001b[0m\u001b[1;33m\u001b[0m\u001b[0m\n\u001b[0;32m     63\u001b[0m     \u001b[1;32mif\u001b[0m \u001b[0mname\u001b[0m \u001b[1;32mis\u001b[0m \u001b[1;32mnot\u001b[0m \u001b[1;32mNone\u001b[0m\u001b[1;33m:\u001b[0m\u001b[1;33m\u001b[0m\u001b[1;33m\u001b[0m\u001b[0m\n",
      "\u001b[1;31mKeyboardInterrupt\u001b[0m: "
     ]
    }
   ],
   "source": [
    "lstm_history = lstm_model.fit(x_train_pad, y_train,\n",
    "                            batch_size=64,\n",
    "                            validation_split=0.2,\n",
    "                            epochs=10,\n",
    "                            callbacks=[earlystop])\n",
    "save = False\n",
    "\n",
    "if save: \n",
    "    plot_results_nn(lstm_history, lstm_model, x_test_pad, y_test,save=save,name='lstm_l1{}_l2{}_d{}_dr{}'.format(n_lstm1,\n",
    "                                                                                                          n_lstm2,\n",
    "                                                                                                          n_dense,\n",
    "                                                                                                          dr_rate))\n",
    "else: \n",
    "    plot_results_nn(lstm_history, lstm_model, x_test_pad, y_test)"
   ]
  },
  {
   "cell_type": "code",
   "execution_count": 392,
   "metadata": {},
   "outputs": [
    {
     "name": "stdout",
     "output_type": "stream",
     "text": [
      "Model: \"sequential_368\"\n",
      "_________________________________________________________________\n",
      "Layer (type)                 Output Shape              Param #   \n",
      "=================================================================\n",
      "embedding_14 (Embedding)     (None, None, 300)         1500300   \n",
      "_________________________________________________________________\n",
      "bidirectional_4 (Bidirection (None, None, 40)          38640     \n",
      "_________________________________________________________________\n",
      "dropout_694 (Dropout)        (None, None, 40)          0         \n",
      "_________________________________________________________________\n",
      "bidirectional_5 (Bidirection (None, 40)                7440      \n",
      "_________________________________________________________________\n",
      "dropout_695 (Dropout)        (None, 40)                0         \n",
      "_________________________________________________________________\n",
      "dense_1394 (Dense)           (None, 50)                2050      \n",
      "_________________________________________________________________\n",
      "dropout_696 (Dropout)        (None, 50)                0         \n",
      "_________________________________________________________________\n",
      "dense_1395 (Dense)           (None, 1)                 51        \n",
      "=================================================================\n",
      "Total params: 1,548,481\n",
      "Trainable params: 1,548,481\n",
      "Non-trainable params: 0\n",
      "_________________________________________________________________\n"
     ]
    }
   ],
   "source": [
    "n_gru1 = 20\n",
    "n_gru2 = 20\n",
    "n_dense = 50\n",
    "dr_rate = 0.3\n",
    "\n",
    "gru_model = Sequential()\n",
    "gru_model.add(Embedding(input_dim=vocab_size+1,\n",
    "                        output_dim=300,\n",
    "                        mask_zero=True,\n",
    "                        weights=[trainable_embeddings],\n",
    "                       trainable=True))\n",
    "gru_model.add(Bidirectional(GRU(n_gru1, recurrent_dropout=0.2, return_sequences=True)))\n",
    "gru_model.add(Dropout(dr_rate))\n",
    "gru_model.add(Bidirectional(GRU(n_gru2)))\n",
    "gru_model.add(Dropout(dr_rate))\n",
    "gru_model.add(Dense(n_dense))\n",
    "gru_model.add(Dropout(dr_rate))\n",
    "gru_model.add(Dense(1,activation='sigmoid'))\n",
    "\n",
    "gru_model.compile(optimizer='rmsprop', metrics=['acc'], loss='binary_crossentropy')\n",
    "gru_model.summary()"
   ]
  },
  {
   "cell_type": "code",
   "execution_count": 393,
   "metadata": {},
   "outputs": [
    {
     "name": "stdout",
     "output_type": "stream",
     "text": [
      "Train on 20000 samples, validate on 5000 samples\n",
      "Epoch 1/4\n",
      "20000/20000 [==============================] - 1756s 88ms/sample - loss: 0.5988 - acc: 0.6631 - val_loss: 0.4256 - val_acc: 0.7984\n",
      "Epoch 2/4\n",
      "20000/20000 [==============================] - 3969s 198ms/sample - loss: 0.3425 - acc: 0.8535 - val_loss: 0.3199 - val_acc: 0.8628\n",
      "Epoch 3/4\n",
      "20000/20000 [==============================] - 2154s 108ms/sample - loss: 0.2344 - acc: 0.9098 - val_loss: 0.3024 - val_acc: 0.8784\n",
      "Epoch 4/4\n",
      "20000/20000 [==============================] - 2145s 107ms/sample - loss: 0.1832 - acc: 0.9322 - val_loss: 0.2942 - val_acc: 0.8848\n"
     ]
    },
    {
     "data": {
      "image/png": "[encoded data removed]",
      "text/plain": [
       "<Figure size 432x288 with 2 Axes>"
      ]
     },
     "metadata": {
      "needs_background": "light"
     },
     "output_type": "display_data"
    },
    {
     "data": {
      "image/png": "[encoded data removed]",
      "text/plain": [
       "<Figure size 432x288 with 2 Axes>"
      ]
     },
     "metadata": {
      "needs_background": "light"
     },
     "output_type": "display_data"
    },
    {
     "data": {
      "image/png": "[encoded data removed]",
      "text/plain": [
       "<Figure size 432x288 with 2 Axes>"
      ]
     },
     "metadata": {
      "needs_background": "light"
     },
     "output_type": "display_data"
    },
    {
     "name": "stdout",
     "output_type": "stream",
     "text": [
      "              precision    recall  f1-score   support\n",
      "\n",
      "         0.0       0.88      0.90      0.89     12474\n",
      "         1.0       0.90      0.88      0.89     12526\n",
      "\n",
      "    accuracy                           0.89     25000\n",
      "   macro avg       0.89      0.89      0.89     25000\n",
      "weighted avg       0.89      0.89      0.89     25000\n",
      "\n",
      "Test accuracy: 0.88832\n"
     ]
    }
   ],
   "source": [
    "gru_history = gru_model.fit(x_train_pad, y_train,\n",
    "                            batch_size=64,\n",
    "                            validation_split=0.2,\n",
    "                            epochs=4)\n",
    "save = False\n",
    "\n",
    "if save: \n",
    "    plot_results_nn(gru_history, gru_model, x_test_pad, y_test,save=save,name='gru_l1{}_l2{}_d{}_dr{}'.format(n_gru1,\n",
    "                                                                                                          n_gru2,\n",
    "                                                                                                          n_dense,\n",
    "                                                                                                          dr_rate))\n",
    "else: \n",
    "    plot_results_nn(gru_history, gru_model, x_test_pad, y_test)"
   ]
  },
  {
   "cell_type": "markdown",
   "metadata": {},
   "source": [
    "## Results\n",
    "\n",
    "The following results were achieved on the independent test set on the IMDB dataset. Pre-trained GloVe-embeddings were used and \n",
    "\n",
    "| Model |  Test Accuracy (%) | Hyperparameters |\n",
    "| :----- | --------------- | --- | \n",
    "| Random Classifier | 50.3 | N/A |\n",
    "| Logistic Regression | 85.2  | N/A |\n",
    "| Linear Discriminant Analysis | 85.3  | N/A |\n",
    "| Support Vector Machine | 84.1 | N/A |\n",
    "| Random Forest | 80.9  | n_estimators=5000, max_depth=50 |\n",
    "| XGBoost | __86.1__ | n_estimators=500 |\n",
    "| Multi Layer Perceptron (Pre-trained) | 85.2 | batch_size=16,depth=3,dropout_rate=0.2,nodes=250 |\n",
    "| Multi Layer Perceptron (Cont. training) |  | batch_size=16,depth=3,dropout_rate=0.2,nodes=250 |\n",
    "| LSTM | | n_lstm1=20, n_lstm2=20, nodes=50,dropout_rate=0.3 | \n",
    "\n",
    "XGBoost gives the best performance on the test set when using GloVe-embeddings. The LSTM-approach takes a lot longer to train, and it is therefore harder to conduct a decent hyperparameter search. The LSTM is the only approach that takes the order of the words into account, which could potentially give a better performance if optimized well.\n",
    "\n",
    "For comparison, the table below displays state-of-the-art models for the IMDB classification task. \n",
    "\n",
    "| Model |\tAccuracy (%) |\tPaper / Source|\n",
    "|:----- | ---------- | -------------- |  \n",
    "| XLNet (Yang et al., 2019) |\t__96.21__ |\tXLNet: Generalized Autoregressive Pretraining for Language Understanding|\n",
    "| BERT_large+ITPT (Sun et al., 2019) \t|95.79 |\tHow to Fine-Tune BERT for Text Classification?|\n",
    "| BERT_base+ITPT (Sun et al., 2019) |\t95.63 |\tHow to Fine-Tune BERT for Text Classification?|\n",
    "| ULMFiT (Howard and Ruder, 2018) |\t95.4 |\tUniversal Language Model Fine-tuning for Text Classification|\n",
    "| Block-sparse LSTM (Gray et al., 2017) |\t94.99 |\tGPU Kernels for Block-Sparse Weights|\n",
    "| oh-LSTM (Johnson and Zhang, 2016)| \t94.1| \tSupervised and Semi-Supervised Text Categorization using LSTM for Region Embeddings |\n",
    "| Virtual adversarial training (Miyato et al., 2016) |\t94.1 \t|Adversarial Training Methods for Semi-Supervised Text Classification |\n",
    "| BCN+Char+CoVe (McCann et al., 2017) |\t91.8 |\tLearned in Translation: Contextualized Word Vectors |\n",
    "\n"
   ]
  },
  {
   "cell_type": "code",
   "execution_count": null,
   "metadata": {},
   "outputs": [],
   "source": []
  },
  {
   "cell_type": "code",
   "execution_count": null,
   "metadata": {},
   "outputs": [],
   "source": []
  },
  {
   "cell_type": "code",
   "execution_count": null,
   "metadata": {},
   "outputs": [],
   "source": []
  },
  {
   "cell_type": "code",
   "execution_count": null,
   "metadata": {},
   "outputs": [],
   "source": []
  },
  {
   "cell_type": "code",
   "execution_count": null,
   "metadata": {},
   "outputs": [],
   "source": []
  },
  {
   "cell_type": "code",
   "execution_count": null,
   "metadata": {},
   "outputs": [],
   "source": []
  },
  {
   "cell_type": "code",
   "execution_count": null,
   "metadata": {},
   "outputs": [],
   "source": []
  }
 ],
 "metadata": {
  "kernelspec": {
   "display_name": "Python 3",
   "language": "python",
   "name": "python3"
  },
  "language_info": {
   "codemirror_mode": {
    "name": "ipython",
    "version": 3
   },
   "file_extension": ".py",
   "mimetype": "text/x-python",
   "name": "python",
   "nbconvert_exporter": "python",
   "pygments_lexer": "ipython3",
   "version": "3.6.10"
  }
 },
 "nbformat": 4,
 "nbformat_minor": 4
}
