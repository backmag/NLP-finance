{
 "cells": [
  {
   "cell_type": "markdown",
   "metadata": {},
   "source": [
    "### IMDB Benchmarking\n",
    "This notebook trains and evaluates different language representations and classification models on the IMDB movie review dataset. The dataset contains 50,000 highily polarized reviews of movies which is labeled as positive or negative. State of the art models currently have an accuracy of ~91 - 96 %, according to [nlpprogress.com](http://nlpprogress.com/english/sentiment_analysis.html)."
   ]
  },
  {
   "cell_type": "code",
   "execution_count": 56,
   "metadata": {},
   "outputs": [],
   "source": [
    "import pandas as pd\n",
    "import numpy as np\n",
    "import seaborn as sn\n",
    "import os\n",
    "import matplotlib.pyplot as plt\n",
    "from pathlib import Path\n",
    "from nltk.tokenize import word_tokenize\n",
    "from sklearn.metrics import classification_report, plot_confusion_matrix, confusion_matrix, f1_score\n",
    "from sklearn.linear_model import LogisticRegression\n",
    "from sklearn.discriminant_analysis import LinearDiscriminantAnalysis\n",
    "from sklearn.ensemble import RandomForestClassifier\n",
    "from sklearn.model_selection import GridSearchCV, RandomizedSearchCV\n",
    "from sklearn.dummy import DummyClassifier\n",
    "from sklearn import svm\n",
    "import tensorflow as tf\n",
    "from tensorflow.keras import backend as K\n",
    "from tensorflow.keras.models import Sequential\n",
    "from tensorflow.keras.layers import Dense, Dropout, Flatten, LSTM, Embedding, GRU, Bidirectional, Lambda\n",
    "from tensorflow.keras.optimizers import RMSprop, Adam\n",
    "from tensorflow.keras.callbacks import EarlyStopping\n",
    "from tensorflow.keras.wrappers.scikit_learn import KerasClassifier\n",
    "from tensorflow.keras.preprocessing.sequence import pad_sequences\n",
    "from tensorflow.keras.preprocessing.text import Tokenizer\n",
    "from tqdm import tqdm, trange"
   ]
  },
  {
   "cell_type": "markdown",
   "metadata": {},
   "source": [
    "#### Load the IMDB data as raw text and labels"
   ]
  },
  {
   "cell_type": "code",
   "execution_count": 2,
   "metadata": {},
   "outputs": [
    {
     "data": {
      "text/html": [
       "<div>\n",
       "<style scoped>\n",
       "    .dataframe tbody tr th:only-of-type {\n",
       "        vertical-align: middle;\n",
       "    }\n",
       "\n",
       "    .dataframe tbody tr th {\n",
       "        vertical-align: top;\n",
       "    }\n",
       "\n",
       "    .dataframe thead th {\n",
       "        text-align: right;\n",
       "    }\n",
       "</style>\n",
       "<table border=\"1\" class=\"dataframe\">\n",
       "  <thead>\n",
       "    <tr style=\"text-align: right;\">\n",
       "      <th></th>\n",
       "      <th>review</th>\n",
       "      <th>sentiment</th>\n",
       "    </tr>\n",
       "  </thead>\n",
       "  <tbody>\n",
       "    <tr>\n",
       "      <th>0</th>\n",
       "      <td>One of the other reviewers has mentioned that ...</td>\n",
       "      <td>positive</td>\n",
       "    </tr>\n",
       "    <tr>\n",
       "      <th>1</th>\n",
       "      <td>A wonderful little production. &lt;br /&gt;&lt;br /&gt;The...</td>\n",
       "      <td>positive</td>\n",
       "    </tr>\n",
       "    <tr>\n",
       "      <th>2</th>\n",
       "      <td>I thought this was a wonderful way to spend ti...</td>\n",
       "      <td>positive</td>\n",
       "    </tr>\n",
       "    <tr>\n",
       "      <th>3</th>\n",
       "      <td>Basically there's a family where a little boy ...</td>\n",
       "      <td>negative</td>\n",
       "    </tr>\n",
       "    <tr>\n",
       "      <th>4</th>\n",
       "      <td>Petter Mattei's \"Love in the Time of Money\" is...</td>\n",
       "      <td>positive</td>\n",
       "    </tr>\n",
       "  </tbody>\n",
       "</table>\n",
       "</div>"
      ],
      "text/plain": [
       "                                              review sentiment\n",
       "0  One of the other reviewers has mentioned that ...  positive\n",
       "1  A wonderful little production. <br /><br />The...  positive\n",
       "2  I thought this was a wonderful way to spend ti...  positive\n",
       "3  Basically there's a family where a little boy ...  negative\n",
       "4  Petter Mattei's \"Love in the Time of Money\" is...  positive"
      ]
     },
     "execution_count": 2,
     "metadata": {},
     "output_type": "execute_result"
    }
   ],
   "source": [
    "ONEDRIVE_PATH = Path(r\"C:\\Users\\gusta\\Kidbrooke Advisory Ab\\KidbrookeOneDrive - Gustaf Backman exjobb\")\n",
    "\n",
    "imdb_path = ONEDRIVE_PATH / \"Benchmark Datasets/IMDB Dataset.csv\"\n",
    "glove_path = ONEDRIVE_PATH / \"Benchmark Datasets/glove_embeddings.npy\"\n",
    "lengths_path = ONEDRIVE_PATH / \"Benchmark Datasets/glove_lengths.npy\"\n",
    "imdb = pd.read_csv(imdb_path)\n",
    "imdb.head()"
   ]
  },
  {
   "cell_type": "markdown",
   "metadata": {},
   "source": [
    "#### Vectorize the reviews using GloVe\n",
    "Remove line breaks and vectorize the text using pre-trained GloVe-embeddings. The reviews are tokenized into words, and a vector of length 300 is constructed by the elementwise average of the GloVe-embeddings for one review. "
   ]
  },
  {
   "cell_type": "code",
   "execution_count": 3,
   "metadata": {},
   "outputs": [],
   "source": [
    "# Remove single line breaks (<br />)\n",
    "for i in range(len(imdb)):\n",
    "    imdb.iloc[i]['review'] = imdb.iloc[i]['review'].replace('<br />', ' ')"
   ]
  },
  {
   "cell_type": "code",
   "execution_count": 4,
   "metadata": {},
   "outputs": [],
   "source": [
    "# Tokenize the text data \n",
    "tokenizer = Tokenizer()\n",
    "tokenizer.fit_on_texts(imdb['review'])\n",
    "word_index = tokenizer.word_index"
   ]
  },
  {
   "cell_type": "code",
   "execution_count": 5,
   "metadata": {},
   "outputs": [
    {
     "name": "stdout",
     "output_type": "stream",
     "text": [
      "Done. 88481 words loaded!\n"
     ]
    }
   ],
   "source": [
    "embedding_matrix = np.zeros((len(tokenizer.word_index) + 1, 300)) # Need one extra row since '0' is not an index\n",
    "glove_path = ONEDRIVE_PATH / \"Embeddings\\GloVe\\glove.42B.300d\\glove.42B.300d.txt\"\n",
    "words_found = 0\n",
    "f = open(glove_path,'r', encoding='UTF-8')\n",
    "for line in f:\n",
    "    splitLine = line.split()\n",
    "    word = splitLine[0]\n",
    "    if word in word_index.keys():\n",
    "        words_found += 1\n",
    "        embedding_matrix[word_index[word]] = np.array([float(val) for val in splitLine[1:]])\n",
    "print(\"Done.\",words_found,\"words loaded!\")"
   ]
  },
  {
   "cell_type": "code",
   "execution_count": 16,
   "metadata": {
    "scrolled": false
   },
   "outputs": [
    {
     "name": "stdout",
     "output_type": "stream",
     "text": [
      "Embeddings loaded from file. \n"
     ]
    }
   ],
   "source": [
    "if os.path.exists(glove_path):\n",
    "    x = np.load(glove_path)\n",
    "    rev_lengths = np.load(lengths_path)\n",
    "    print(\"Embeddings loaded from file. \")\n",
    "else:\n",
    "    x = np.zeros((50000, 300))\n",
    "    rev_lengths = np.zeros((50000))  # Record the length of every review to determine suitable maxlength for sequential data. \n",
    "    for i,review in tqdm(enumerate(imdb['review'])):\n",
    "        tokenized_review = tokenizer.texts_to_sequences(word_tokenize(review))\n",
    "        temp_array = np.zeros((300))\n",
    "        n_words = 0\n",
    "        rev_lengths[i] = len(tokenized_review)\n",
    "        for word in tokenized_review:     \n",
    "            if len(word) == 1:\n",
    "                temp_array += embedding_matrix[word[0]]\n",
    "                n_words += 1\n",
    "        x[i] = temp_array / n_words\n",
    "    np.save(glove_path, x)\n",
    "    np.save(lengths_path, rev_lengths)"
   ]
  },
  {
   "cell_type": "code",
   "execution_count": 17,
   "metadata": {},
   "outputs": [
    {
     "name": "stderr",
     "output_type": "stream",
     "text": [
      "100%|██████████████████████████████████████████████████████████████████████████| 50000/50000 [00:12<00:00, 4135.95it/s]\n"
     ]
    }
   ],
   "source": [
    "# Divide into training and test set. The data is already shuffled. \n",
    "x_train = x[:25000]\n",
    "x_test = x[25000:]\n",
    "\n",
    "# Assign labels to variables for convenience\n",
    "y = np.zeros((50000))\n",
    "for i in trange(len(y)): \n",
    "    if imdb.iloc[i]['sentiment'] == 'positive':\n",
    "        y[i] = 1\n",
    "        \n",
    "y_train = y[:25000]\n",
    "y_test = y[25000:]"
   ]
  },
  {
   "cell_type": "code",
   "execution_count": 18,
   "metadata": {
    "scrolled": true
   },
   "outputs": [
    {
     "name": "stdout",
     "output_type": "stream",
     "text": [
      "Shape of training data: (25000, 300)\n",
      "Shape of test data: (25000, 300)\n",
      "Ratio positive reviews in training data: 0.49896\n",
      "Ratio positive reviews in test data: 0.50104\n"
     ]
    }
   ],
   "source": [
    "# Sanity check of shapes and label balance\n",
    "print(\"Shape of training data:\",x_train.shape)\n",
    "print(\"Shape of test data:\",x_test.shape)\n",
    "print(\"Ratio positive reviews in training data:\",np.sum(y_train) / len(y_train))\n",
    "print(\"Ratio positive reviews in test data:\",np.sum(y_test) / len(y_test))"
   ]
  },
  {
   "cell_type": "markdown",
   "metadata": {},
   "source": [
    "#### Vectorize sequences using GloVe\n",
    "We'll also try a recurrent approach with sequences as input. Instead of taking the average of the GloVe-embedding in one review, a sequence of word indices is fed into an embedding layer where the embeddings are initialized as pretrained GloVe-embeddings. However, using all of the words in the vocabulary gives a too slow model so we have to re-tokenize with a restricted vocabulary size. We'll also restrict the maximum word length from oen review to cover the majority of the training samples without being too inefficient. "
   ]
  },
  {
   "cell_type": "code",
   "execution_count": 19,
   "metadata": {
    "scrolled": false
   },
   "outputs": [
    {
     "data": {
      "image/png": "[encoded data removed]",
      "text/plain": [
       "<Figure size 432x288 with 1 Axes>"
      ]
     },
     "metadata": {
      "needs_background": "light"
     },
     "output_type": "display_data"
    }
   ],
   "source": [
    "plt.hist(rev_lengths,50,label='Nbr words')\n",
    "plt.legend()\n",
    "plt.show() "
   ]
  },
  {
   "cell_type": "markdown",
   "metadata": {},
   "source": [
    "A maximum sentence length of 500 seems reasonable to cover the majority. Furthermore, we restrict the size of the vocabulary to make the task computationally feasible. "
   ]
  },
  {
   "cell_type": "code",
   "execution_count": 26,
   "metadata": {},
   "outputs": [
    {
     "name": "stdout",
     "output_type": "stream",
     "text": [
      "Loaded previously calculated data.\n"
     ]
    }
   ],
   "source": [
    "sequential_path = ONEDRIVE_PATH / \"Benchmark Datasets/glove_seq.npy\"\n",
    "embedding_path = ONEDRIVE_PATH / \"Benchmark Datasets/glove_emb_mat.npy\"\n",
    "\n",
    "# Tokenize the text data \n",
    "maxlen = 500\n",
    "# Restrict size of the vocabulary\n",
    "vocab_size = 5000\n",
    "if os.path.exists(sequential_path): \n",
    "    x_padded = np.load(sequential_path)\n",
    "    trainable_embeddings = np.load(embedding_path)\n",
    "    print(\"Loaded previously calculated data.\")\n",
    "else: \n",
    "    restricted_tokenizer = Tokenizer(num_words=vocab_size)\n",
    "    restricted_tokenizer.fit_on_texts(imdb['review'])\n",
    "    x_restr = restricted_tokenizer.texts_to_sequences(imdb['review'])\n",
    "    # Pad the data with zeroes so all samples are of equal length\n",
    "    x_padded = pad_sequences(x_restr,maxlen=maxlen)\n",
    "    \n",
    "    # Create a new embedding matrix for the restricted vocabulary ('embedding_matrix' includes the full vocaabulary)\n",
    "    trainable_embeddings = np.zeros((vocab_size + 1, 300))    \n",
    "    for i,word in enumerate(list(restricted_tokenizer.word_index.keys())[:vocab_size]):\n",
    "        trainable_embeddings[i] = embedding_matrix[word_index[word]]\n",
    "    np.save(sequential_path, x_padded)\n",
    "    np.save(embedding_path, trainable_embeddings)\n",
    "# Partition into training and test set\n",
    "x_train_pad = x_padded[:25000]\n",
    "x_test_pad = x_padded[25000:]"
   ]
  },
  {
   "cell_type": "code",
   "execution_count": 27,
   "metadata": {},
   "outputs": [],
   "source": [
    "def plot_results(model,x_test, y_test,save=False, name=''):\n",
    "    y_test_preds = model.predict(x_test)\n",
    "    print(classification_report(y_test, y_test_preds))\n",
    "    print(\"Test accuracy:\",model.score(x_test, y_test))\n",
    "    plot_confusion_matrix(model,x_test,y_test)\n",
    "    if save:\n",
    "        plt.savefig(\"Figs GloVe/\" + name + \"confmat.jpg\")\n",
    "    plt.show()\n",
    "    \n",
    "def plot_results_nn(history, model,x_test, y_test,save=False, name=''):\n",
    "    plt.subplot(121)\n",
    "    plt.plot(history.history['loss'],label='Loss')\n",
    "    plt.plot(history.history['val_loss'],label='Val loss')\n",
    "    plt.legend()\n",
    "    plt.subplot(122)\n",
    "    plt.plot(history.history['acc'],label='Acc')\n",
    "    plt.plot(history.history['val_acc'],label='Val acc')\n",
    "    plt.legend()\n",
    "    if save:\n",
    "        plt.savefig(\"Figs GloVe/\" + name + \"history.jpg\")\n",
    "    plt.show() \n",
    "    y_test_pred = np.round(model.predict(x_test))\n",
    "    plt.subplot(121)\n",
    "    plt.bar([0,1],[np.sum(y_test == 0), np.sum(y_test == 1)], label='Actual test dist')\n",
    "    plt.legend()\n",
    "    plt.xticks([0, 1])\n",
    "    plt.subplot(122)\n",
    "    plt.bar([0,1],[np.sum(y_test_pred == 0), np.sum(y_test_pred == 1)], label='Pred test dist')\n",
    "    plt.legend()\n",
    "    plt.xticks([0, 1])\n",
    "    plt.show()\n",
    "    conf_mat = confusion_matrix(y_test,y_test_pred,normalize='pred')\n",
    "    ax = sn.heatmap(conf_mat,)\n",
    "    ax.set_ylabel(\"True values\")\n",
    "    ax.set_xlabel(\"Predicted values\")\n",
    "    if save: \n",
    "        plt.savefig(\"Figs GloVe/\" + name + \"confmat.jpg\")\n",
    "    plt.show()\n",
    "    print(classification_report(y_test, y_test_pred))\n",
    "    print(\"Test accuracy:\",sum((np.transpose(y_test_pred) == y_test)[0]) / len(y_test))"
   ]
  },
  {
   "cell_type": "markdown",
   "metadata": {},
   "source": [
    "### Logistic Regression with GloVe"
   ]
  },
  {
   "cell_type": "code",
   "execution_count": 28,
   "metadata": {
    "scrolled": false
   },
   "outputs": [
    {
     "name": "stdout",
     "output_type": "stream",
     "text": [
      "              precision    recall  f1-score   support\n",
      "\n",
      "         0.0       0.85      0.85      0.85     12474\n",
      "         1.0       0.85      0.85      0.85     12526\n",
      "\n",
      "    accuracy                           0.85     25000\n",
      "   macro avg       0.85      0.85      0.85     25000\n",
      "weighted avg       0.85      0.85      0.85     25000\n",
      "\n",
      "Test accuracy: 0.85224\n"
     ]
    },
    {
     "data": {
      "image/png": "[encoded data removed]",
      "text/plain": [
       "<Figure size 432x288 with 2 Axes>"
      ]
     },
     "metadata": {
      "needs_background": "light"
     },
     "output_type": "display_data"
    }
   ],
   "source": [
    "# Logistic regression\n",
    "logreg = LogisticRegression(random_state=0,max_iter=10000).fit(x_train, y_train)\n",
    "plot_results(logreg,x_test, y_test,save=True,name='logreg')"
   ]
  },
  {
   "cell_type": "markdown",
   "metadata": {},
   "source": [
    "### Support Vector Machine with GloVe"
   ]
  },
  {
   "cell_type": "code",
   "execution_count": 16,
   "metadata": {},
   "outputs": [
    {
     "name": "stdout",
     "output_type": "stream",
     "text": [
      "              precision    recall  f1-score   support\n",
      "\n",
      "         0.0       0.84      0.85      0.84     12474\n",
      "         1.0       0.84      0.84      0.84     12526\n",
      "\n",
      "    accuracy                           0.84     25000\n",
      "   macro avg       0.84      0.84      0.84     25000\n",
      "weighted avg       0.84      0.84      0.84     25000\n",
      "\n",
      "Test accuracy: 0.84068\n"
     ]
    },
    {
     "data": {
      "image/png": "[encoded data removed]",
      "text/plain": [
       "<Figure size 432x288 with 2 Axes>"
      ]
     },
     "metadata": {
      "needs_background": "light"
     },
     "output_type": "display_data"
    }
   ],
   "source": [
    "svm_clf = svm.SVC().fit(x_train, y_train)\n",
    "plot_results(svm_clf, x_test, y_test,save=True,name='svm')"
   ]
  },
  {
   "cell_type": "markdown",
   "metadata": {},
   "source": [
    "### Random Forest with GloVe"
   ]
  },
  {
   "cell_type": "code",
   "execution_count": null,
   "metadata": {
    "scrolled": true
   },
   "outputs": [
    {
     "name": "stdout",
     "output_type": "stream",
     "text": [
      "Fitting 3 folds for each of 20 candidates, totalling 60 fits\n",
      "[CV] max_depth=None, n_estimators=1000 ...............................\n"
     ]
    },
    {
     "name": "stderr",
     "output_type": "stream",
     "text": [
      "[Parallel(n_jobs=1)]: Using backend SequentialBackend with 1 concurrent workers.\n"
     ]
    },
    {
     "name": "stdout",
     "output_type": "stream",
     "text": [
      "[CV] ... max_depth=None, n_estimators=1000, score=0.810, total= 9.4min\n",
      "[CV] max_depth=None, n_estimators=1000 ...............................\n"
     ]
    },
    {
     "name": "stderr",
     "output_type": "stream",
     "text": [
      "[Parallel(n_jobs=1)]: Done   1 out of   1 | elapsed:  9.4min remaining:    0.0s\n"
     ]
    },
    {
     "name": "stdout",
     "output_type": "stream",
     "text": [
      "[CV] ... max_depth=None, n_estimators=1000, score=0.801, total= 9.4min\n",
      "[CV] max_depth=None, n_estimators=1000 ...............................\n"
     ]
    },
    {
     "name": "stderr",
     "output_type": "stream",
     "text": [
      "[Parallel(n_jobs=1)]: Done   2 out of   2 | elapsed: 18.8min remaining:    0.0s\n"
     ]
    },
    {
     "name": "stdout",
     "output_type": "stream",
     "text": [
      "[CV] ... max_depth=None, n_estimators=1000, score=0.803, total= 8.8min\n",
      "[CV] max_depth=None, n_estimators=2500 ...............................\n"
     ]
    },
    {
     "name": "stderr",
     "output_type": "stream",
     "text": [
      "[Parallel(n_jobs=1)]: Done   3 out of   3 | elapsed: 27.6min remaining:    0.0s\n"
     ]
    },
    {
     "name": "stdout",
     "output_type": "stream",
     "text": [
      "[CV] ... max_depth=None, n_estimators=2500, score=0.809, total=20.9min\n"
     ]
    },
    {
     "name": "stderr",
     "output_type": "stream",
     "text": [
      "[Parallel(n_jobs=1)]: Done   4 out of   4 | elapsed: 48.6min remaining:    0.0s\n"
     ]
    },
    {
     "name": "stdout",
     "output_type": "stream",
     "text": [
      "[CV] max_depth=None, n_estimators=2500 ...............................\n",
      "[CV] ... max_depth=None, n_estimators=2500, score=0.803, total=15.8min\n"
     ]
    },
    {
     "name": "stderr",
     "output_type": "stream",
     "text": [
      "[Parallel(n_jobs=1)]: Done   5 out of   5 | elapsed: 64.4min remaining:    0.0s\n"
     ]
    },
    {
     "name": "stdout",
     "output_type": "stream",
     "text": [
      "[CV] max_depth=None, n_estimators=2500 ...............................\n",
      "[CV] ... max_depth=None, n_estimators=2500, score=0.808, total=15.9min\n",
      "[CV] max_depth=None, n_estimators=5000 ...............................\n"
     ]
    },
    {
     "name": "stderr",
     "output_type": "stream",
     "text": [
      "[Parallel(n_jobs=1)]: Done   6 out of   6 | elapsed: 80.3min remaining:    0.0s\n"
     ]
    },
    {
     "name": "stdout",
     "output_type": "stream",
     "text": [
      "[CV] ... max_depth=None, n_estimators=5000, score=0.809, total=20.3min\n",
      "[CV] max_depth=None, n_estimators=5000 ...............................\n"
     ]
    },
    {
     "name": "stderr",
     "output_type": "stream",
     "text": [
      "[Parallel(n_jobs=1)]: Done   7 out of   7 | elapsed: 100.5min remaining:    0.0s\n"
     ]
    },
    {
     "name": "stdout",
     "output_type": "stream",
     "text": [
      "[CV] ... max_depth=None, n_estimators=5000, score=0.803, total=18.0min\n",
      "[CV] max_depth=None, n_estimators=5000 ...............................\n"
     ]
    },
    {
     "name": "stderr",
     "output_type": "stream",
     "text": [
      "[Parallel(n_jobs=1)]: Done   8 out of   8 | elapsed: 118.6min remaining:    0.0s\n"
     ]
    },
    {
     "name": "stdout",
     "output_type": "stream",
     "text": [
      "[CV] ... max_depth=None, n_estimators=5000, score=0.807, total=20.2min\n",
      "[CV] max_depth=None, n_estimators=7500 ...............................\n"
     ]
    },
    {
     "name": "stderr",
     "output_type": "stream",
     "text": [
      "[Parallel(n_jobs=1)]: Done   9 out of   9 | elapsed: 138.8min remaining:    0.0s\n"
     ]
    },
    {
     "name": "stdout",
     "output_type": "stream",
     "text": [
      "[CV] ... max_depth=None, n_estimators=7500, score=0.811, total=25.5min\n",
      "[CV] max_depth=None, n_estimators=7500 ...............................\n",
      "[CV] ... max_depth=None, n_estimators=7500, score=0.803, total=25.2min\n",
      "[CV] max_depth=None, n_estimators=7500 ...............................\n",
      "[CV] ... max_depth=None, n_estimators=7500, score=0.808, total=25.0min\n",
      "[CV] max_depth=10, n_estimators=1000 .................................\n",
      "[CV] ..... max_depth=10, n_estimators=1000, score=0.802, total= 2.4min\n",
      "[CV] max_depth=10, n_estimators=1000 .................................\n",
      "[CV] ..... max_depth=10, n_estimators=1000, score=0.795, total= 2.4min\n",
      "[CV] max_depth=10, n_estimators=1000 .................................\n",
      "[CV] ..... max_depth=10, n_estimators=1000, score=0.801, total= 2.4min\n",
      "[CV] max_depth=10, n_estimators=2500 .................................\n",
      "[CV] ..... max_depth=10, n_estimators=2500, score=0.804, total= 6.1min\n",
      "[CV] max_depth=10, n_estimators=2500 .................................\n",
      "[CV] ..... max_depth=10, n_estimators=2500, score=0.795, total= 6.1min\n",
      "[CV] max_depth=10, n_estimators=2500 .................................\n",
      "[CV] ..... max_depth=10, n_estimators=2500, score=0.800, total= 6.0min\n",
      "[CV] max_depth=10, n_estimators=5000 .................................\n",
      "[CV] ..... max_depth=10, n_estimators=5000, score=0.804, total=12.0min\n",
      "[CV] max_depth=10, n_estimators=5000 .................................\n",
      "[CV] ..... max_depth=10, n_estimators=5000, score=0.793, total=12.1min\n",
      "[CV] max_depth=10, n_estimators=5000 .................................\n",
      "[CV] ..... max_depth=10, n_estimators=5000, score=0.799, total=12.0min\n",
      "[CV] max_depth=10, n_estimators=7500 .................................\n",
      "[CV] ..... max_depth=10, n_estimators=7500, score=0.803, total=18.2min\n",
      "[CV] max_depth=10, n_estimators=7500 .................................\n",
      "[CV] ..... max_depth=10, n_estimators=7500, score=0.793, total=18.2min\n",
      "[CV] max_depth=10, n_estimators=7500 .................................\n",
      "[CV] ..... max_depth=10, n_estimators=7500, score=0.799, total=18.1min\n",
      "[CV] max_depth=50, n_estimators=1000 .................................\n",
      "[CV] ..... max_depth=50, n_estimators=1000, score=0.810, total= 3.2min\n",
      "[CV] max_depth=50, n_estimators=1000 .................................\n",
      "[CV] ..... max_depth=50, n_estimators=1000, score=0.803, total= 3.2min\n",
      "[CV] max_depth=50, n_estimators=1000 .................................\n",
      "[CV] ..... max_depth=50, n_estimators=1000, score=0.805, total= 3.2min\n",
      "[CV] max_depth=50, n_estimators=2500 .................................\n",
      "[CV] ..... max_depth=50, n_estimators=2500, score=0.810, total= 8.1min\n",
      "[CV] max_depth=50, n_estimators=2500 .................................\n",
      "[CV] ..... max_depth=50, n_estimators=2500, score=0.805, total= 8.2min\n",
      "[CV] max_depth=50, n_estimators=2500 .................................\n",
      "[CV] ..... max_depth=50, n_estimators=2500, score=0.806, total= 8.1min\n",
      "[CV] max_depth=50, n_estimators=5000 .................................\n",
      "[CV] ..... max_depth=50, n_estimators=5000, score=0.810, total=16.5min\n",
      "[CV] max_depth=50, n_estimators=5000 .................................\n",
      "[CV] ..... max_depth=50, n_estimators=5000, score=0.803, total=16.5min\n",
      "[CV] max_depth=50, n_estimators=5000 .................................\n",
      "[CV] ..... max_depth=50, n_estimators=5000, score=0.807, total=16.4min\n",
      "[CV] max_depth=50, n_estimators=7500 .................................\n",
      "[CV] ..... max_depth=50, n_estimators=7500, score=0.810, total=25.1min\n",
      "[CV] max_depth=50, n_estimators=7500 .................................\n",
      "[CV] ..... max_depth=50, n_estimators=7500, score=0.804, total=25.4min\n",
      "[CV] max_depth=50, n_estimators=7500 .................................\n",
      "[CV] ..... max_depth=50, n_estimators=7500, score=0.806, total=32.4min\n",
      "[CV] max_depth=100, n_estimators=1000 ................................\n",
      "[CV] .... max_depth=100, n_estimators=1000, score=0.809, total= 4.2min\n",
      "[CV] max_depth=100, n_estimators=1000 ................................\n",
      "[CV] .... max_depth=100, n_estimators=1000, score=0.802, total= 4.7min\n",
      "[CV] max_depth=100, n_estimators=1000 ................................\n",
      "[CV] .... max_depth=100, n_estimators=1000, score=0.807, total= 4.6min\n",
      "[CV] max_depth=100, n_estimators=2500 ................................\n",
      "[CV] .... max_depth=100, n_estimators=2500, score=0.809, total=12.7min\n",
      "[CV] max_depth=100, n_estimators=2500 ................................\n",
      "[CV] .... max_depth=100, n_estimators=2500, score=0.804, total=12.3min\n",
      "[CV] max_depth=100, n_estimators=2500 ................................\n",
      "[CV] .... max_depth=100, n_estimators=2500, score=0.806, total=10.8min\n",
      "[CV] max_depth=100, n_estimators=5000 ................................\n",
      "[CV] .... max_depth=100, n_estimators=5000, score=0.810, total=18.9min\n",
      "[CV] max_depth=100, n_estimators=5000 ................................\n",
      "[CV] .... max_depth=100, n_estimators=5000, score=0.803, total=21.4min\n",
      "[CV] max_depth=100, n_estimators=5000 ................................\n"
     ]
    }
   ],
   "source": [
    "rf_param_grid = dict(max_depth=[None, 10, 50],\n",
    "                  n_estimators=[1000, 2500, 5000])\n",
    "\n",
    "rf_grid = GridSearchCV(estimator=RandomForestClassifier(), \n",
    "                       param_grid=rf_param_grid, \n",
    "                       n_jobs=1, \n",
    "                       cv=3, \n",
    "                       scoring='accuracy',\n",
    "                       verbose=10)\n",
    "rf_grid_result = rf_grid.fit(x_train, y_train)\n",
    "# summarize results\n",
    "print(\"Best: %f using %s\" % (rf_grid_result.best_score_, rf_grid_result.best_params_))\n",
    "rf_means = rf_grid_result.cv_results_['mean_test_score']\n",
    "rf_stds = rf_grid_result.cv_results_['std_test_score']\n",
    "rf_params = rf_grid_result.cv_results_['params']\n",
    "for mean, stdev, param in zip(rf_means, rf_stds, rf_params):\n",
    "    print(\"%f (%f) with: %r\" % (mean, stdev, param))\n",
    "\n",
    "# Fit the model with the best parameters found in the cross validation. \n",
    "randomforest = RandomForestClassifier(max_depth=rf_grid_result.best_params_['max_depth'],\n",
    "                                      n_estimators=rf_grid_result.best_params_['n_estimators']).fit(x_train, y_train)\n",
    "plot_results(randomforest,x_test, y_test,save=True,name='rf_md{}_est_{}'.format(rf_grid_result.best_params_['max_depth'],\n",
    "                                                                                rf_grid_result.best_params_['n_estimators']))"
   ]
  },
  {
   "cell_type": "markdown",
   "metadata": {},
   "source": [
    "### Neural Network - GloVe embeddings as pre-processing layer"
   ]
  },
  {
   "cell_type": "code",
   "execution_count": 57,
   "metadata": {},
   "outputs": [],
   "source": [
    "def create_model_ff(nodes1=100, nodes2=50, dropout_rate=0.3, optimizer='rmsprop', learning_rate=0.001):\n",
    "    if optimizer.lower() == 'rmsprop': \n",
    "        optimizer = RMSprop(learning_rate = learning_rate)\n",
    "    elif optimizer.lower() == 'adam':\n",
    "        optimizer = Adam(learning_rate = learning_rate)\n",
    "    model = Sequential() \n",
    "    if nodes1 == 0: \n",
    "        model.add(Dense(1, input_shape=x_train.shape[1:], activation='sigmoid'))\n",
    "        model.compile(optimizer=optimizer, loss='binary_crossentropy', metrics=['acc'])\n",
    "        return model \n",
    "    model.add(Dense(nodes1, input_shape=x_train.shape[1:]))\n",
    "    model.add(Dropout(dropout_rate))\n",
    "    if nodes2 == 0: \n",
    "        model.add(Dense(1, activation='sigmoid'))\n",
    "        model.compile(optimizer=optimizer, loss='binary_crossentropy', metrics=['acc'])\n",
    "        return model\n",
    "    model.add(Dense(nodes2))\n",
    "    model.add(Dropout(dropout_rate))\n",
    "    model.add(Dense(1, activation='sigmoid'))\n",
    "    model.compile(optimizer=optimizer, loss='binary_crossentropy', metrics=['acc'])\n",
    "    return model "
   ]
  },
  {
   "cell_type": "code",
   "execution_count": 58,
   "metadata": {
    "scrolled": true
   },
   "outputs": [
    {
     "name": "stdout",
     "output_type": "stream",
     "text": [
      "Fitting 3 folds for each of 50 candidates, totalling 150 fits\n",
      "[CV] optimizer=Adam, nodes2=0, nodes1=100, learning_rate=1e-05, epochs=3, dropout_rate=0.1, batch_size=8 \n"
     ]
    },
    {
     "name": "stderr",
     "output_type": "stream",
     "text": [
      "[Parallel(n_jobs=1)]: Using backend SequentialBackend with 1 concurrent workers.\n"
     ]
    },
    {
     "name": "stdout",
     "output_type": "stream",
     "text": [
      "[CV]  optimizer=Adam, nodes2=0, nodes1=100, learning_rate=1e-05, epochs=3, dropout_rate=0.1, batch_size=8, score=0.729, total=  23.9s\n",
      "[CV] optimizer=Adam, nodes2=0, nodes1=100, learning_rate=1e-05, epochs=3, dropout_rate=0.1, batch_size=8 \n"
     ]
    },
    {
     "name": "stderr",
     "output_type": "stream",
     "text": [
      "[Parallel(n_jobs=1)]: Done   1 out of   1 | elapsed:   23.8s remaining:    0.0s\n"
     ]
    },
    {
     "name": "stdout",
     "output_type": "stream",
     "text": [
      "[CV]  optimizer=Adam, nodes2=0, nodes1=100, learning_rate=1e-05, epochs=3, dropout_rate=0.1, batch_size=8, score=0.706, total=  21.5s\n",
      "[CV] optimizer=Adam, nodes2=0, nodes1=100, learning_rate=1e-05, epochs=3, dropout_rate=0.1, batch_size=8 \n"
     ]
    },
    {
     "name": "stderr",
     "output_type": "stream",
     "text": [
      "[Parallel(n_jobs=1)]: Done   2 out of   2 | elapsed:   45.3s remaining:    0.0s\n"
     ]
    },
    {
     "name": "stdout",
     "output_type": "stream",
     "text": [
      "[CV]  optimizer=Adam, nodes2=0, nodes1=100, learning_rate=1e-05, epochs=3, dropout_rate=0.1, batch_size=8, score=0.715, total=  21.7s\n",
      "[CV] optimizer=Adam, nodes2=100, nodes1=500, learning_rate=1e-05, epochs=3, dropout_rate=0.3, batch_size=4 \n"
     ]
    },
    {
     "name": "stderr",
     "output_type": "stream",
     "text": [
      "[Parallel(n_jobs=1)]: Done   3 out of   3 | elapsed:  1.1min remaining:    0.0s\n"
     ]
    },
    {
     "name": "stdout",
     "output_type": "stream",
     "text": [
      "[CV]  optimizer=Adam, nodes2=100, nodes1=500, learning_rate=1e-05, epochs=3, dropout_rate=0.3, batch_size=4, score=0.797, total=  56.3s\n",
      "[CV] optimizer=Adam, nodes2=100, nodes1=500, learning_rate=1e-05, epochs=3, dropout_rate=0.3, batch_size=4 \n"
     ]
    },
    {
     "name": "stderr",
     "output_type": "stream",
     "text": [
      "[Parallel(n_jobs=1)]: Done   4 out of   4 | elapsed:  2.1min remaining:    0.0s\n"
     ]
    },
    {
     "name": "stdout",
     "output_type": "stream",
     "text": [
      "[CV]  optimizer=Adam, nodes2=100, nodes1=500, learning_rate=1e-05, epochs=3, dropout_rate=0.3, batch_size=4, score=0.779, total=  56.6s\n",
      "[CV] optimizer=Adam, nodes2=100, nodes1=500, learning_rate=1e-05, epochs=3, dropout_rate=0.3, batch_size=4 \n"
     ]
    },
    {
     "name": "stderr",
     "output_type": "stream",
     "text": [
      "[Parallel(n_jobs=1)]: Done   5 out of   5 | elapsed:  3.0min remaining:    0.0s\n"
     ]
    },
    {
     "name": "stdout",
     "output_type": "stream",
     "text": [
      "[CV]  optimizer=Adam, nodes2=100, nodes1=500, learning_rate=1e-05, epochs=3, dropout_rate=0.3, batch_size=4, score=0.787, total=  56.9s\n",
      "[CV] optimizer=RMSprop, nodes2=250, nodes1=250, learning_rate=1e-05, epochs=3, dropout_rate=0.5, batch_size=8 \n"
     ]
    },
    {
     "name": "stderr",
     "output_type": "stream",
     "text": [
      "[Parallel(n_jobs=1)]: Done   6 out of   6 | elapsed:  3.9min remaining:    0.0s\n"
     ]
    },
    {
     "name": "stdout",
     "output_type": "stream",
     "text": [
      "[CV]  optimizer=RMSprop, nodes2=250, nodes1=250, learning_rate=1e-05, epochs=3, dropout_rate=0.5, batch_size=8, score=0.728, total=  46.0s\n",
      "[CV] optimizer=RMSprop, nodes2=250, nodes1=250, learning_rate=1e-05, epochs=3, dropout_rate=0.5, batch_size=8 \n"
     ]
    },
    {
     "name": "stderr",
     "output_type": "stream",
     "text": [
      "[Parallel(n_jobs=1)]: Done   7 out of   7 | elapsed:  4.7min remaining:    0.0s\n"
     ]
    },
    {
     "name": "stdout",
     "output_type": "stream",
     "text": [
      "[CV]  optimizer=RMSprop, nodes2=250, nodes1=250, learning_rate=1e-05, epochs=3, dropout_rate=0.5, batch_size=8, score=0.706, total=  50.3s\n",
      "[CV] optimizer=RMSprop, nodes2=250, nodes1=250, learning_rate=1e-05, epochs=3, dropout_rate=0.5, batch_size=8 \n"
     ]
    },
    {
     "name": "stderr",
     "output_type": "stream",
     "text": [
      "[Parallel(n_jobs=1)]: Done   8 out of   8 | elapsed:  5.6min remaining:    0.0s\n"
     ]
    },
    {
     "name": "stdout",
     "output_type": "stream",
     "text": [
      "[CV]  optimizer=RMSprop, nodes2=250, nodes1=250, learning_rate=1e-05, epochs=3, dropout_rate=0.5, batch_size=8, score=0.726, total=  50.0s\n",
      "[CV] optimizer=Adam, nodes2=100, nodes1=250, learning_rate=0.001, epochs=3, dropout_rate=0.3, batch_size=8 \n"
     ]
    },
    {
     "name": "stderr",
     "output_type": "stream",
     "text": [
      "[Parallel(n_jobs=1)]: Done   9 out of   9 | elapsed:  6.4min remaining:    0.0s\n"
     ]
    },
    {
     "name": "stdout",
     "output_type": "stream",
     "text": [
      "[CV]  optimizer=Adam, nodes2=100, nodes1=250, learning_rate=0.001, epochs=3, dropout_rate=0.3, batch_size=8, score=0.837, total=  33.4s\n",
      "[CV] optimizer=Adam, nodes2=100, nodes1=250, learning_rate=0.001, epochs=3, dropout_rate=0.3, batch_size=8 \n",
      "[CV]  optimizer=Adam, nodes2=100, nodes1=250, learning_rate=0.001, epochs=3, dropout_rate=0.3, batch_size=8, score=0.843, total=  34.1s\n",
      "[CV] optimizer=Adam, nodes2=100, nodes1=250, learning_rate=0.001, epochs=3, dropout_rate=0.3, batch_size=8 \n",
      "[CV]  optimizer=Adam, nodes2=100, nodes1=250, learning_rate=0.001, epochs=3, dropout_rate=0.3, batch_size=8, score=0.838, total=  35.0s\n",
      "[CV] optimizer=RMSprop, nodes2=0, nodes1=50, learning_rate=0.001, epochs=3, dropout_rate=0.5, batch_size=8 \n",
      "[CV]  optimizer=RMSprop, nodes2=0, nodes1=50, learning_rate=0.001, epochs=3, dropout_rate=0.5, batch_size=8, score=0.846, total=  19.9s\n",
      "[CV] optimizer=RMSprop, nodes2=0, nodes1=50, learning_rate=0.001, epochs=3, dropout_rate=0.5, batch_size=8 \n",
      "[CV]  optimizer=RMSprop, nodes2=0, nodes1=50, learning_rate=0.001, epochs=3, dropout_rate=0.5, batch_size=8, score=0.839, total=  19.4s\n",
      "[CV] optimizer=RMSprop, nodes2=0, nodes1=50, learning_rate=0.001, epochs=3, dropout_rate=0.5, batch_size=8 \n",
      "[CV]  optimizer=RMSprop, nodes2=0, nodes1=50, learning_rate=0.001, epochs=3, dropout_rate=0.5, batch_size=8, score=0.832, total=  19.6s\n",
      "[CV] optimizer=RMSprop, nodes2=500, nodes1=500, learning_rate=0.001, epochs=3, dropout_rate=0.5, batch_size=8 \n",
      "[CV]  optimizer=RMSprop, nodes2=500, nodes1=500, learning_rate=0.001, epochs=3, dropout_rate=0.5, batch_size=8, score=0.775, total=  54.2s\n",
      "[CV] optimizer=RMSprop, nodes2=500, nodes1=500, learning_rate=0.001, epochs=3, dropout_rate=0.5, batch_size=8 \n",
      "[CV]  optimizer=RMSprop, nodes2=500, nodes1=500, learning_rate=0.001, epochs=3, dropout_rate=0.5, batch_size=8, score=0.695, total=  54.5s\n",
      "[CV] optimizer=RMSprop, nodes2=500, nodes1=500, learning_rate=0.001, epochs=3, dropout_rate=0.5, batch_size=8 \n",
      "[CV]  optimizer=RMSprop, nodes2=500, nodes1=500, learning_rate=0.001, epochs=3, dropout_rate=0.5, batch_size=8, score=0.815, total=  54.4s\n",
      "[CV] optimizer=Adam, nodes2=0, nodes1=250, learning_rate=0.001, epochs=3, dropout_rate=0.3, batch_size=8 \n",
      "[CV]  optimizer=Adam, nodes2=0, nodes1=250, learning_rate=0.001, epochs=3, dropout_rate=0.3, batch_size=8, score=0.845, total=  27.8s\n",
      "[CV] optimizer=Adam, nodes2=0, nodes1=250, learning_rate=0.001, epochs=3, dropout_rate=0.3, batch_size=8 \n",
      "[CV]  optimizer=Adam, nodes2=0, nodes1=250, learning_rate=0.001, epochs=3, dropout_rate=0.3, batch_size=8, score=0.798, total=  28.2s\n",
      "[CV] optimizer=Adam, nodes2=0, nodes1=250, learning_rate=0.001, epochs=3, dropout_rate=0.3, batch_size=8 \n",
      "[CV]  optimizer=Adam, nodes2=0, nodes1=250, learning_rate=0.001, epochs=3, dropout_rate=0.3, batch_size=8, score=0.808, total=  28.6s\n",
      "[CV] optimizer=Adam, nodes2=50, nodes1=100, learning_rate=0.001, epochs=3, dropout_rate=0.1, batch_size=8 \n",
      "[CV]  optimizer=Adam, nodes2=50, nodes1=100, learning_rate=0.001, epochs=3, dropout_rate=0.1, batch_size=8, score=0.853, total=  27.6s\n",
      "[CV] optimizer=Adam, nodes2=50, nodes1=100, learning_rate=0.001, epochs=3, dropout_rate=0.1, batch_size=8 \n",
      "[CV]  optimizer=Adam, nodes2=50, nodes1=100, learning_rate=0.001, epochs=3, dropout_rate=0.1, batch_size=8, score=0.840, total=  27.9s\n",
      "[CV] optimizer=Adam, nodes2=50, nodes1=100, learning_rate=0.001, epochs=3, dropout_rate=0.1, batch_size=8 \n",
      "[CV]  optimizer=Adam, nodes2=50, nodes1=100, learning_rate=0.001, epochs=3, dropout_rate=0.1, batch_size=8, score=0.820, total=  28.1s\n",
      "[CV] optimizer=Adam, nodes2=250, nodes1=100, learning_rate=0.001, epochs=3, dropout_rate=0.1, batch_size=4 \n",
      "[CV]  optimizer=Adam, nodes2=250, nodes1=100, learning_rate=0.001, epochs=3, dropout_rate=0.1, batch_size=4, score=0.836, total= 1.1min\n",
      "[CV] optimizer=Adam, nodes2=250, nodes1=100, learning_rate=0.001, epochs=3, dropout_rate=0.1, batch_size=4 \n",
      "[CV]  optimizer=Adam, nodes2=250, nodes1=100, learning_rate=0.001, epochs=3, dropout_rate=0.1, batch_size=4, score=0.842, total= 1.1min\n",
      "[CV] optimizer=Adam, nodes2=250, nodes1=100, learning_rate=0.001, epochs=3, dropout_rate=0.1, batch_size=4 \n",
      "[CV]  optimizer=Adam, nodes2=250, nodes1=100, learning_rate=0.001, epochs=3, dropout_rate=0.1, batch_size=4, score=0.803, total= 1.1min\n",
      "[CV] optimizer=Adam, nodes2=100, nodes1=250, learning_rate=1e-05, epochs=3, dropout_rate=0.1, batch_size=4 \n",
      "[CV]  optimizer=Adam, nodes2=100, nodes1=250, learning_rate=1e-05, epochs=3, dropout_rate=0.1, batch_size=4, score=0.787, total= 1.2min\n",
      "[CV] optimizer=Adam, nodes2=100, nodes1=250, learning_rate=1e-05, epochs=3, dropout_rate=0.1, batch_size=4 \n",
      "[CV]  optimizer=Adam, nodes2=100, nodes1=250, learning_rate=1e-05, epochs=3, dropout_rate=0.1, batch_size=4, score=0.780, total= 1.2min\n",
      "[CV] optimizer=Adam, nodes2=100, nodes1=250, learning_rate=1e-05, epochs=3, dropout_rate=0.1, batch_size=4 \n",
      "[CV]  optimizer=Adam, nodes2=100, nodes1=250, learning_rate=1e-05, epochs=3, dropout_rate=0.1, batch_size=4, score=0.785, total= 1.2min\n",
      "[CV] optimizer=Adam, nodes2=50, nodes1=0, learning_rate=0.001, epochs=3, dropout_rate=0.1, batch_size=8 \n",
      "[CV]  optimizer=Adam, nodes2=50, nodes1=0, learning_rate=0.001, epochs=3, dropout_rate=0.1, batch_size=8, score=0.815, total=  21.3s\n",
      "[CV] optimizer=Adam, nodes2=50, nodes1=0, learning_rate=0.001, epochs=3, dropout_rate=0.1, batch_size=8 \n",
      "[CV]  optimizer=Adam, nodes2=50, nodes1=0, learning_rate=0.001, epochs=3, dropout_rate=0.1, batch_size=8, score=0.796, total=  21.1s\n",
      "[CV] optimizer=Adam, nodes2=50, nodes1=0, learning_rate=0.001, epochs=3, dropout_rate=0.1, batch_size=8 \n",
      "[CV]  optimizer=Adam, nodes2=50, nodes1=0, learning_rate=0.001, epochs=3, dropout_rate=0.1, batch_size=8, score=0.802, total=  21.8s\n",
      "[CV] optimizer=Adam, nodes2=500, nodes1=50, learning_rate=0.0001, epochs=3, dropout_rate=0.1, batch_size=4 \n",
      "[CV]  optimizer=Adam, nodes2=500, nodes1=50, learning_rate=0.0001, epochs=3, dropout_rate=0.1, batch_size=4, score=0.841, total=  59.5s\n",
      "[CV] optimizer=Adam, nodes2=500, nodes1=50, learning_rate=0.0001, epochs=3, dropout_rate=0.1, batch_size=4 \n",
      "[CV]  optimizer=Adam, nodes2=500, nodes1=50, learning_rate=0.0001, epochs=3, dropout_rate=0.1, batch_size=4, score=0.823, total=  59.3s\n",
      "[CV] optimizer=Adam, nodes2=500, nodes1=50, learning_rate=0.0001, epochs=3, dropout_rate=0.1, batch_size=4 \n",
      "[CV]  optimizer=Adam, nodes2=500, nodes1=50, learning_rate=0.0001, epochs=3, dropout_rate=0.1, batch_size=4, score=0.833, total= 1.0min\n",
      "[CV] optimizer=RMSprop, nodes2=500, nodes1=500, learning_rate=0.0001, epochs=3, dropout_rate=0.1, batch_size=4 \n",
      "[CV]  optimizer=RMSprop, nodes2=500, nodes1=500, learning_rate=0.0001, epochs=3, dropout_rate=0.1, batch_size=4, score=0.845, total= 2.2min\n",
      "[CV] optimizer=RMSprop, nodes2=500, nodes1=500, learning_rate=0.0001, epochs=3, dropout_rate=0.1, batch_size=4 \n",
      "[CV]  optimizer=RMSprop, nodes2=500, nodes1=500, learning_rate=0.0001, epochs=3, dropout_rate=0.1, batch_size=4, score=0.821, total= 2.1min\n",
      "[CV] optimizer=RMSprop, nodes2=500, nodes1=500, learning_rate=0.0001, epochs=3, dropout_rate=0.1, batch_size=4 \n",
      "[CV]  optimizer=RMSprop, nodes2=500, nodes1=500, learning_rate=0.0001, epochs=3, dropout_rate=0.1, batch_size=4, score=0.836, total= 2.2min\n",
      "[CV] optimizer=Adam, nodes2=500, nodes1=500, learning_rate=0.0001, epochs=3, dropout_rate=0.1, batch_size=8 \n",
      "[CV]  optimizer=Adam, nodes2=500, nodes1=500, learning_rate=0.0001, epochs=3, dropout_rate=0.1, batch_size=8, score=0.850, total=  46.9s\n",
      "[CV] optimizer=Adam, nodes2=500, nodes1=500, learning_rate=0.0001, epochs=3, dropout_rate=0.1, batch_size=8 \n",
      "[CV]  optimizer=Adam, nodes2=500, nodes1=500, learning_rate=0.0001, epochs=3, dropout_rate=0.1, batch_size=8, score=0.820, total=  47.6s\n",
      "[CV] optimizer=Adam, nodes2=500, nodes1=500, learning_rate=0.0001, epochs=3, dropout_rate=0.1, batch_size=8 \n",
      "[CV]  optimizer=Adam, nodes2=500, nodes1=500, learning_rate=0.0001, epochs=3, dropout_rate=0.1, batch_size=8, score=0.839, total=  48.4s\n",
      "[CV] optimizer=Adam, nodes2=500, nodes1=50, learning_rate=1e-05, epochs=3, dropout_rate=0.3, batch_size=4 \n",
      "[CV]  optimizer=Adam, nodes2=500, nodes1=50, learning_rate=1e-05, epochs=3, dropout_rate=0.3, batch_size=4, score=0.733, total= 1.1min\n",
      "[CV] optimizer=Adam, nodes2=500, nodes1=50, learning_rate=1e-05, epochs=3, dropout_rate=0.3, batch_size=4 \n"
     ]
    },
    {
     "name": "stdout",
     "output_type": "stream",
     "text": [
      "[CV]  optimizer=Adam, nodes2=500, nodes1=50, learning_rate=1e-05, epochs=3, dropout_rate=0.3, batch_size=4, score=0.702, total= 1.1min\n",
      "[CV] optimizer=Adam, nodes2=500, nodes1=50, learning_rate=1e-05, epochs=3, dropout_rate=0.3, batch_size=4 \n",
      "[CV]  optimizer=Adam, nodes2=500, nodes1=50, learning_rate=1e-05, epochs=3, dropout_rate=0.3, batch_size=4, score=0.728, total= 1.1min\n",
      "[CV] optimizer=Adam, nodes2=100, nodes1=500, learning_rate=0.001, epochs=3, dropout_rate=0.3, batch_size=8 \n",
      "[CV]  optimizer=Adam, nodes2=100, nodes1=500, learning_rate=0.001, epochs=3, dropout_rate=0.3, batch_size=8, score=0.809, total=  49.7s\n",
      "[CV] optimizer=Adam, nodes2=100, nodes1=500, learning_rate=0.001, epochs=3, dropout_rate=0.3, batch_size=8 \n",
      "[CV]  optimizer=Adam, nodes2=100, nodes1=500, learning_rate=0.001, epochs=3, dropout_rate=0.3, batch_size=8, score=0.839, total=  51.7s\n",
      "[CV] optimizer=Adam, nodes2=100, nodes1=500, learning_rate=0.001, epochs=3, dropout_rate=0.3, batch_size=8 \n",
      "[CV]  optimizer=Adam, nodes2=100, nodes1=500, learning_rate=0.001, epochs=3, dropout_rate=0.3, batch_size=8, score=0.836, total=  52.4s\n",
      "[CV] optimizer=RMSprop, nodes2=50, nodes1=100, learning_rate=0.0001, epochs=3, dropout_rate=0.3, batch_size=8 \n",
      "[CV]  optimizer=RMSprop, nodes2=50, nodes1=100, learning_rate=0.0001, epochs=3, dropout_rate=0.3, batch_size=8, score=0.838, total=  44.4s\n",
      "[CV] optimizer=RMSprop, nodes2=50, nodes1=100, learning_rate=0.0001, epochs=3, dropout_rate=0.3, batch_size=8 \n",
      "[CV]  optimizer=RMSprop, nodes2=50, nodes1=100, learning_rate=0.0001, epochs=3, dropout_rate=0.3, batch_size=8, score=0.779, total=  45.1s\n",
      "[CV] optimizer=RMSprop, nodes2=50, nodes1=100, learning_rate=0.0001, epochs=3, dropout_rate=0.3, batch_size=8 \n",
      "[CV]  optimizer=RMSprop, nodes2=50, nodes1=100, learning_rate=0.0001, epochs=3, dropout_rate=0.3, batch_size=8, score=0.826, total=  45.2s\n",
      "[CV] optimizer=Adam, nodes2=0, nodes1=250, learning_rate=0.0001, epochs=3, dropout_rate=0.5, batch_size=8 \n",
      "[CV]  optimizer=Adam, nodes2=0, nodes1=250, learning_rate=0.0001, epochs=3, dropout_rate=0.5, batch_size=8, score=0.833, total=  36.5s\n",
      "[CV] optimizer=Adam, nodes2=0, nodes1=250, learning_rate=0.0001, epochs=3, dropout_rate=0.5, batch_size=8 \n",
      "[CV]  optimizer=Adam, nodes2=0, nodes1=250, learning_rate=0.0001, epochs=3, dropout_rate=0.5, batch_size=8, score=0.815, total=  36.7s\n",
      "[CV] optimizer=Adam, nodes2=0, nodes1=250, learning_rate=0.0001, epochs=3, dropout_rate=0.5, batch_size=8 \n",
      "[CV]  optimizer=Adam, nodes2=0, nodes1=250, learning_rate=0.0001, epochs=3, dropout_rate=0.5, batch_size=8, score=0.822, total=  37.3s\n",
      "[CV] optimizer=RMSprop, nodes2=500, nodes1=0, learning_rate=1e-05, epochs=3, dropout_rate=0.1, batch_size=4 \n",
      "[CV]  optimizer=RMSprop, nodes2=500, nodes1=0, learning_rate=1e-05, epochs=3, dropout_rate=0.1, batch_size=4, score=0.635, total=  40.4s\n",
      "[CV] optimizer=RMSprop, nodes2=500, nodes1=0, learning_rate=1e-05, epochs=3, dropout_rate=0.1, batch_size=4 \n",
      "[CV]  optimizer=RMSprop, nodes2=500, nodes1=0, learning_rate=1e-05, epochs=3, dropout_rate=0.1, batch_size=4, score=0.626, total=  40.3s\n",
      "[CV] optimizer=RMSprop, nodes2=500, nodes1=0, learning_rate=1e-05, epochs=3, dropout_rate=0.1, batch_size=4 \n",
      "[CV]  optimizer=RMSprop, nodes2=500, nodes1=0, learning_rate=1e-05, epochs=3, dropout_rate=0.1, batch_size=4, score=0.634, total=  40.8s\n",
      "[CV] optimizer=RMSprop, nodes2=50, nodes1=0, learning_rate=0.0001, epochs=3, dropout_rate=0.3, batch_size=8 \n",
      "[CV]  optimizer=RMSprop, nodes2=50, nodes1=0, learning_rate=0.0001, epochs=3, dropout_rate=0.3, batch_size=8, score=0.716, total=  25.4s\n",
      "[CV] optimizer=RMSprop, nodes2=50, nodes1=0, learning_rate=0.0001, epochs=3, dropout_rate=0.3, batch_size=8 \n",
      "[CV]  optimizer=RMSprop, nodes2=50, nodes1=0, learning_rate=0.0001, epochs=3, dropout_rate=0.3, batch_size=8, score=0.715, total=  25.3s\n",
      "[CV] optimizer=RMSprop, nodes2=50, nodes1=0, learning_rate=0.0001, epochs=3, dropout_rate=0.3, batch_size=8 \n",
      "[CV]  optimizer=RMSprop, nodes2=50, nodes1=0, learning_rate=0.0001, epochs=3, dropout_rate=0.3, batch_size=8, score=0.717, total=  25.5s\n",
      "[CV] optimizer=Adam, nodes2=250, nodes1=50, learning_rate=0.001, epochs=3, dropout_rate=0.1, batch_size=4 \n",
      "[CV]  optimizer=Adam, nodes2=250, nodes1=50, learning_rate=0.001, epochs=3, dropout_rate=0.1, batch_size=4, score=0.830, total=  53.2s\n",
      "[CV] optimizer=Adam, nodes2=250, nodes1=50, learning_rate=0.001, epochs=3, dropout_rate=0.1, batch_size=4 \n",
      "[CV]  optimizer=Adam, nodes2=250, nodes1=50, learning_rate=0.001, epochs=3, dropout_rate=0.1, batch_size=4, score=0.831, total=  53.4s\n",
      "[CV] optimizer=Adam, nodes2=250, nodes1=50, learning_rate=0.001, epochs=3, dropout_rate=0.1, batch_size=4 \n",
      "[CV]  optimizer=Adam, nodes2=250, nodes1=50, learning_rate=0.001, epochs=3, dropout_rate=0.1, batch_size=4, score=0.833, total=  53.8s\n",
      "[CV] optimizer=Adam, nodes2=500, nodes1=500, learning_rate=1e-05, epochs=3, dropout_rate=0.5, batch_size=8 \n",
      "[CV]  optimizer=Adam, nodes2=500, nodes1=500, learning_rate=1e-05, epochs=3, dropout_rate=0.5, batch_size=8, score=0.766, total=  58.0s\n",
      "[CV] optimizer=Adam, nodes2=500, nodes1=500, learning_rate=1e-05, epochs=3, dropout_rate=0.5, batch_size=8 \n",
      "[CV]  optimizer=Adam, nodes2=500, nodes1=500, learning_rate=1e-05, epochs=3, dropout_rate=0.5, batch_size=8, score=0.758, total=  57.4s\n",
      "[CV] optimizer=Adam, nodes2=500, nodes1=500, learning_rate=1e-05, epochs=3, dropout_rate=0.5, batch_size=8 \n",
      "[CV]  optimizer=Adam, nodes2=500, nodes1=500, learning_rate=1e-05, epochs=3, dropout_rate=0.5, batch_size=8, score=0.762, total=  59.5s\n",
      "[CV] optimizer=RMSprop, nodes2=500, nodes1=100, learning_rate=0.0001, epochs=3, dropout_rate=0.5, batch_size=8 \n",
      "[CV]  optimizer=RMSprop, nodes2=500, nodes1=100, learning_rate=0.0001, epochs=3, dropout_rate=0.5, batch_size=8, score=0.836, total= 1.2min\n",
      "[CV] optimizer=RMSprop, nodes2=500, nodes1=100, learning_rate=0.0001, epochs=3, dropout_rate=0.5, batch_size=8 \n",
      "[CV]  optimizer=RMSprop, nodes2=500, nodes1=100, learning_rate=0.0001, epochs=3, dropout_rate=0.5, batch_size=8, score=0.827, total= 1.3min\n",
      "[CV] optimizer=RMSprop, nodes2=500, nodes1=100, learning_rate=0.0001, epochs=3, dropout_rate=0.5, batch_size=8 \n",
      "[CV]  optimizer=RMSprop, nodes2=500, nodes1=100, learning_rate=0.0001, epochs=3, dropout_rate=0.5, batch_size=8, score=0.830, total= 1.2min\n",
      "[CV] optimizer=Adam, nodes2=250, nodes1=100, learning_rate=1e-05, epochs=3, dropout_rate=0.1, batch_size=4 \n",
      "[CV]  optimizer=Adam, nodes2=250, nodes1=100, learning_rate=1e-05, epochs=3, dropout_rate=0.1, batch_size=4, score=0.754, total= 1.5min\n",
      "[CV] optimizer=Adam, nodes2=250, nodes1=100, learning_rate=1e-05, epochs=3, dropout_rate=0.1, batch_size=4 \n",
      "[CV]  optimizer=Adam, nodes2=250, nodes1=100, learning_rate=1e-05, epochs=3, dropout_rate=0.1, batch_size=4, score=0.761, total= 1.5min\n",
      "[CV] optimizer=Adam, nodes2=250, nodes1=100, learning_rate=1e-05, epochs=3, dropout_rate=0.1, batch_size=4 \n",
      "[CV]  optimizer=Adam, nodes2=250, nodes1=100, learning_rate=1e-05, epochs=3, dropout_rate=0.1, batch_size=4, score=0.756, total= 1.6min\n",
      "[CV] optimizer=RMSprop, nodes2=0, nodes1=500, learning_rate=0.0001, epochs=3, dropout_rate=0.3, batch_size=4 \n",
      "[CV]  optimizer=RMSprop, nodes2=0, nodes1=500, learning_rate=0.0001, epochs=3, dropout_rate=0.3, batch_size=4, score=0.847, total= 2.1min\n",
      "[CV] optimizer=RMSprop, nodes2=0, nodes1=500, learning_rate=0.0001, epochs=3, dropout_rate=0.3, batch_size=4 \n",
      "[CV]  optimizer=RMSprop, nodes2=0, nodes1=500, learning_rate=0.0001, epochs=3, dropout_rate=0.3, batch_size=4, score=0.832, total= 2.1min\n",
      "[CV] optimizer=RMSprop, nodes2=0, nodes1=500, learning_rate=0.0001, epochs=3, dropout_rate=0.3, batch_size=4 \n",
      "[CV]  optimizer=RMSprop, nodes2=0, nodes1=500, learning_rate=0.0001, epochs=3, dropout_rate=0.3, batch_size=4, score=0.826, total= 2.1min\n",
      "[CV] optimizer=RMSprop, nodes2=0, nodes1=50, learning_rate=1e-05, epochs=3, dropout_rate=0.3, batch_size=4 \n",
      "[CV]  optimizer=RMSprop, nodes2=0, nodes1=50, learning_rate=1e-05, epochs=3, dropout_rate=0.3, batch_size=4, score=0.707, total=  53.2s\n",
      "[CV] optimizer=RMSprop, nodes2=0, nodes1=50, learning_rate=1e-05, epochs=3, dropout_rate=0.3, batch_size=4 \n",
      "[CV]  optimizer=RMSprop, nodes2=0, nodes1=50, learning_rate=1e-05, epochs=3, dropout_rate=0.3, batch_size=4, score=0.703, total=  54.0s\n",
      "[CV] optimizer=RMSprop, nodes2=0, nodes1=50, learning_rate=1e-05, epochs=3, dropout_rate=0.3, batch_size=4 \n"
     ]
    },
    {
     "name": "stdout",
     "output_type": "stream",
     "text": [
      "[CV]  optimizer=RMSprop, nodes2=0, nodes1=50, learning_rate=1e-05, epochs=3, dropout_rate=0.3, batch_size=4, score=0.711, total=  53.6s\n",
      "[CV] optimizer=Adam, nodes2=250, nodes1=500, learning_rate=0.001, epochs=3, dropout_rate=0.1, batch_size=4 \n",
      "[CV]  optimizer=Adam, nodes2=250, nodes1=500, learning_rate=0.001, epochs=3, dropout_rate=0.1, batch_size=4, score=0.851, total= 2.1min\n",
      "[CV] optimizer=Adam, nodes2=250, nodes1=500, learning_rate=0.001, epochs=3, dropout_rate=0.1, batch_size=4 \n",
      "[CV]  optimizer=Adam, nodes2=250, nodes1=500, learning_rate=0.001, epochs=3, dropout_rate=0.1, batch_size=4, score=0.804, total= 2.1min\n",
      "[CV] optimizer=Adam, nodes2=250, nodes1=500, learning_rate=0.001, epochs=3, dropout_rate=0.1, batch_size=4 \n",
      "[CV]  optimizer=Adam, nodes2=250, nodes1=500, learning_rate=0.001, epochs=3, dropout_rate=0.1, batch_size=4, score=0.835, total= 2.3min\n",
      "[CV] optimizer=Adam, nodes2=50, nodes1=500, learning_rate=1e-05, epochs=3, dropout_rate=0.5, batch_size=8 \n",
      "[CV]  optimizer=Adam, nodes2=50, nodes1=500, learning_rate=1e-05, epochs=3, dropout_rate=0.5, batch_size=8, score=0.751, total= 1.0min\n",
      "[CV] optimizer=Adam, nodes2=50, nodes1=500, learning_rate=1e-05, epochs=3, dropout_rate=0.5, batch_size=8 \n",
      "[CV]  optimizer=Adam, nodes2=50, nodes1=500, learning_rate=1e-05, epochs=3, dropout_rate=0.5, batch_size=8, score=0.734, total= 1.1min\n",
      "[CV] optimizer=Adam, nodes2=50, nodes1=500, learning_rate=1e-05, epochs=3, dropout_rate=0.5, batch_size=8 \n",
      "[CV]  optimizer=Adam, nodes2=50, nodes1=500, learning_rate=1e-05, epochs=3, dropout_rate=0.5, batch_size=8, score=0.733, total= 1.0min\n",
      "[CV] optimizer=Adam, nodes2=0, nodes1=100, learning_rate=1e-05, epochs=3, dropout_rate=0.5, batch_size=4 \n",
      "[CV]  optimizer=Adam, nodes2=0, nodes1=100, learning_rate=1e-05, epochs=3, dropout_rate=0.5, batch_size=4, score=0.719, total= 1.2min\n",
      "[CV] optimizer=Adam, nodes2=0, nodes1=100, learning_rate=1e-05, epochs=3, dropout_rate=0.5, batch_size=4 \n",
      "[CV]  optimizer=Adam, nodes2=0, nodes1=100, learning_rate=1e-05, epochs=3, dropout_rate=0.5, batch_size=4, score=0.711, total= 1.2min\n",
      "[CV] optimizer=Adam, nodes2=0, nodes1=100, learning_rate=1e-05, epochs=3, dropout_rate=0.5, batch_size=4 \n",
      "[CV]  optimizer=Adam, nodes2=0, nodes1=100, learning_rate=1e-05, epochs=3, dropout_rate=0.5, batch_size=4, score=0.711, total= 1.3min\n",
      "[CV] optimizer=Adam, nodes2=250, nodes1=250, learning_rate=0.001, epochs=3, dropout_rate=0.1, batch_size=4 \n",
      "[CV]  optimizer=Adam, nodes2=250, nodes1=250, learning_rate=0.001, epochs=3, dropout_rate=0.1, batch_size=4, score=0.831, total= 2.1min\n",
      "[CV] optimizer=Adam, nodes2=250, nodes1=250, learning_rate=0.001, epochs=3, dropout_rate=0.1, batch_size=4 \n",
      "[CV]  optimizer=Adam, nodes2=250, nodes1=250, learning_rate=0.001, epochs=3, dropout_rate=0.1, batch_size=4, score=0.824, total= 2.1min\n",
      "[CV] optimizer=Adam, nodes2=250, nodes1=250, learning_rate=0.001, epochs=3, dropout_rate=0.1, batch_size=4 \n",
      "[CV]  optimizer=Adam, nodes2=250, nodes1=250, learning_rate=0.001, epochs=3, dropout_rate=0.1, batch_size=4, score=0.843, total= 2.1min\n",
      "[CV] optimizer=RMSprop, nodes2=500, nodes1=0, learning_rate=0.001, epochs=3, dropout_rate=0.1, batch_size=4 \n",
      "[CV]  optimizer=RMSprop, nodes2=500, nodes1=0, learning_rate=0.001, epochs=3, dropout_rate=0.1, batch_size=4, score=0.821, total=  49.7s\n",
      "[CV] optimizer=RMSprop, nodes2=500, nodes1=0, learning_rate=0.001, epochs=3, dropout_rate=0.1, batch_size=4 \n",
      "[CV]  optimizer=RMSprop, nodes2=500, nodes1=0, learning_rate=0.001, epochs=3, dropout_rate=0.1, batch_size=4, score=0.802, total=  48.7s\n",
      "[CV] optimizer=RMSprop, nodes2=500, nodes1=0, learning_rate=0.001, epochs=3, dropout_rate=0.1, batch_size=4 \n",
      "[CV]  optimizer=RMSprop, nodes2=500, nodes1=0, learning_rate=0.001, epochs=3, dropout_rate=0.1, batch_size=4, score=0.803, total=  48.8s\n",
      "[CV] optimizer=RMSprop, nodes2=50, nodes1=250, learning_rate=1e-05, epochs=3, dropout_rate=0.3, batch_size=4 \n",
      "[CV]  optimizer=RMSprop, nodes2=50, nodes1=250, learning_rate=1e-05, epochs=3, dropout_rate=0.3, batch_size=4, score=0.749, total= 2.2min\n",
      "[CV] optimizer=RMSprop, nodes2=50, nodes1=250, learning_rate=1e-05, epochs=3, dropout_rate=0.3, batch_size=4 \n",
      "[CV]  optimizer=RMSprop, nodes2=50, nodes1=250, learning_rate=1e-05, epochs=3, dropout_rate=0.3, batch_size=4, score=0.735, total= 2.2min\n",
      "[CV] optimizer=RMSprop, nodes2=50, nodes1=250, learning_rate=1e-05, epochs=3, dropout_rate=0.3, batch_size=4 \n",
      "[CV]  optimizer=RMSprop, nodes2=50, nodes1=250, learning_rate=1e-05, epochs=3, dropout_rate=0.3, batch_size=4, score=0.752, total= 2.2min\n",
      "[CV] optimizer=Adam, nodes2=500, nodes1=250, learning_rate=0.0001, epochs=3, dropout_rate=0.3, batch_size=8 \n",
      "[CV]  optimizer=Adam, nodes2=500, nodes1=250, learning_rate=0.0001, epochs=3, dropout_rate=0.3, batch_size=8, score=0.833, total= 1.1min\n",
      "[CV] optimizer=Adam, nodes2=500, nodes1=250, learning_rate=0.0001, epochs=3, dropout_rate=0.3, batch_size=8 \n",
      "[CV]  optimizer=Adam, nodes2=500, nodes1=250, learning_rate=0.0001, epochs=3, dropout_rate=0.3, batch_size=8, score=0.837, total= 1.1min\n",
      "[CV] optimizer=Adam, nodes2=500, nodes1=250, learning_rate=0.0001, epochs=3, dropout_rate=0.3, batch_size=8 \n",
      "[CV]  optimizer=Adam, nodes2=500, nodes1=250, learning_rate=0.0001, epochs=3, dropout_rate=0.3, batch_size=8, score=0.826, total= 1.1min\n",
      "[CV] optimizer=RMSprop, nodes2=0, nodes1=50, learning_rate=0.0001, epochs=3, dropout_rate=0.1, batch_size=4 \n",
      "[CV]  optimizer=RMSprop, nodes2=0, nodes1=50, learning_rate=0.0001, epochs=3, dropout_rate=0.1, batch_size=4, score=0.832, total= 1.0min\n",
      "[CV] optimizer=RMSprop, nodes2=0, nodes1=50, learning_rate=0.0001, epochs=3, dropout_rate=0.1, batch_size=4 \n",
      "[CV]  optimizer=RMSprop, nodes2=0, nodes1=50, learning_rate=0.0001, epochs=3, dropout_rate=0.1, batch_size=4, score=0.815, total= 1.1min\n",
      "[CV] optimizer=RMSprop, nodes2=0, nodes1=50, learning_rate=0.0001, epochs=3, dropout_rate=0.1, batch_size=4 \n",
      "[CV]  optimizer=RMSprop, nodes2=0, nodes1=50, learning_rate=0.0001, epochs=3, dropout_rate=0.1, batch_size=4, score=0.812, total= 1.1min\n",
      "[CV] optimizer=RMSprop, nodes2=500, nodes1=0, learning_rate=1e-05, epochs=3, dropout_rate=0.5, batch_size=8 \n",
      "[CV]  optimizer=RMSprop, nodes2=500, nodes1=0, learning_rate=1e-05, epochs=3, dropout_rate=0.5, batch_size=8, score=0.611, total=  37.6s\n",
      "[CV] optimizer=RMSprop, nodes2=500, nodes1=0, learning_rate=1e-05, epochs=3, dropout_rate=0.5, batch_size=8 \n",
      "[CV]  optimizer=RMSprop, nodes2=500, nodes1=0, learning_rate=1e-05, epochs=3, dropout_rate=0.5, batch_size=8, score=0.615, total=  35.5s\n",
      "[CV] optimizer=RMSprop, nodes2=500, nodes1=0, learning_rate=1e-05, epochs=3, dropout_rate=0.5, batch_size=8 \n",
      "[CV]  optimizer=RMSprop, nodes2=500, nodes1=0, learning_rate=1e-05, epochs=3, dropout_rate=0.5, batch_size=8, score=0.519, total=  39.6s\n",
      "[CV] optimizer=RMSprop, nodes2=100, nodes1=50, learning_rate=0.0001, epochs=3, dropout_rate=0.1, batch_size=8 \n",
      "[CV]  optimizer=RMSprop, nodes2=100, nodes1=50, learning_rate=0.0001, epochs=3, dropout_rate=0.1, batch_size=8, score=0.833, total=  46.9s\n",
      "[CV] optimizer=RMSprop, nodes2=100, nodes1=50, learning_rate=0.0001, epochs=3, dropout_rate=0.1, batch_size=8 \n",
      "[CV]  optimizer=RMSprop, nodes2=100, nodes1=50, learning_rate=0.0001, epochs=3, dropout_rate=0.1, batch_size=8, score=0.825, total=  45.0s\n",
      "[CV] optimizer=RMSprop, nodes2=100, nodes1=50, learning_rate=0.0001, epochs=3, dropout_rate=0.1, batch_size=8 \n",
      "[CV]  optimizer=RMSprop, nodes2=100, nodes1=50, learning_rate=0.0001, epochs=3, dropout_rate=0.1, batch_size=8, score=0.824, total=  44.3s\n",
      "[CV] optimizer=RMSprop, nodes2=100, nodes1=250, learning_rate=1e-05, epochs=3, dropout_rate=0.3, batch_size=8 \n",
      "[CV]  optimizer=RMSprop, nodes2=100, nodes1=250, learning_rate=1e-05, epochs=3, dropout_rate=0.3, batch_size=8, score=0.741, total= 1.8min\n",
      "[CV] optimizer=RMSprop, nodes2=100, nodes1=250, learning_rate=1e-05, epochs=3, dropout_rate=0.3, batch_size=8 \n",
      "[CV]  optimizer=RMSprop, nodes2=100, nodes1=250, learning_rate=1e-05, epochs=3, dropout_rate=0.3, batch_size=8, score=0.725, total= 1.8min\n",
      "[CV] optimizer=RMSprop, nodes2=100, nodes1=250, learning_rate=1e-05, epochs=3, dropout_rate=0.3, batch_size=8 \n",
      "[CV]  optimizer=RMSprop, nodes2=100, nodes1=250, learning_rate=1e-05, epochs=3, dropout_rate=0.3, batch_size=8, score=0.732, total= 1.8min\n",
      "[CV] optimizer=RMSprop, nodes2=500, nodes1=500, learning_rate=1e-05, epochs=3, dropout_rate=0.1, batch_size=4 \n"
     ]
    },
    {
     "name": "stdout",
     "output_type": "stream",
     "text": [
      "[CV]  optimizer=RMSprop, nodes2=500, nodes1=500, learning_rate=1e-05, epochs=3, dropout_rate=0.1, batch_size=4, score=0.818, total= 3.8min\n",
      "[CV] optimizer=RMSprop, nodes2=500, nodes1=500, learning_rate=1e-05, epochs=3, dropout_rate=0.1, batch_size=4 \n",
      "[CV]  optimizer=RMSprop, nodes2=500, nodes1=500, learning_rate=1e-05, epochs=3, dropout_rate=0.1, batch_size=4, score=0.802, total= 3.7min\n",
      "[CV] optimizer=RMSprop, nodes2=500, nodes1=500, learning_rate=1e-05, epochs=3, dropout_rate=0.1, batch_size=4 \n",
      "[CV]  optimizer=RMSprop, nodes2=500, nodes1=500, learning_rate=1e-05, epochs=3, dropout_rate=0.1, batch_size=4, score=0.792, total= 3.6min\n",
      "[CV] optimizer=RMSprop, nodes2=0, nodes1=100, learning_rate=1e-05, epochs=3, dropout_rate=0.3, batch_size=8 \n",
      "[CV]  optimizer=RMSprop, nodes2=0, nodes1=100, learning_rate=1e-05, epochs=3, dropout_rate=0.3, batch_size=8, score=0.714, total= 1.1min\n",
      "[CV] optimizer=RMSprop, nodes2=0, nodes1=100, learning_rate=1e-05, epochs=3, dropout_rate=0.3, batch_size=8 \n",
      "[CV]  optimizer=RMSprop, nodes2=0, nodes1=100, learning_rate=1e-05, epochs=3, dropout_rate=0.3, batch_size=8, score=0.703, total= 1.1min\n",
      "[CV] optimizer=RMSprop, nodes2=0, nodes1=100, learning_rate=1e-05, epochs=3, dropout_rate=0.3, batch_size=8 \n",
      "[CV]  optimizer=RMSprop, nodes2=0, nodes1=100, learning_rate=1e-05, epochs=3, dropout_rate=0.3, batch_size=8, score=0.699, total= 1.1min\n",
      "[CV] optimizer=Adam, nodes2=250, nodes1=100, learning_rate=0.0001, epochs=3, dropout_rate=0.1, batch_size=4 \n",
      "[CV]  optimizer=Adam, nodes2=250, nodes1=100, learning_rate=0.0001, epochs=3, dropout_rate=0.1, batch_size=4, score=0.851, total= 2.1min\n",
      "[CV] optimizer=Adam, nodes2=250, nodes1=100, learning_rate=0.0001, epochs=3, dropout_rate=0.1, batch_size=4 \n",
      "[CV]  optimizer=Adam, nodes2=250, nodes1=100, learning_rate=0.0001, epochs=3, dropout_rate=0.1, batch_size=4, score=0.840, total= 2.1min\n",
      "[CV] optimizer=Adam, nodes2=250, nodes1=100, learning_rate=0.0001, epochs=3, dropout_rate=0.1, batch_size=4 \n",
      "[CV]  optimizer=Adam, nodes2=250, nodes1=100, learning_rate=0.0001, epochs=3, dropout_rate=0.1, batch_size=4, score=0.832, total= 2.3min\n",
      "[CV] optimizer=Adam, nodes2=0, nodes1=100, learning_rate=1e-05, epochs=3, dropout_rate=0.3, batch_size=8 \n",
      "[CV]  optimizer=Adam, nodes2=0, nodes1=100, learning_rate=1e-05, epochs=3, dropout_rate=0.3, batch_size=8, score=0.733, total= 1.0min\n",
      "[CV] optimizer=Adam, nodes2=0, nodes1=100, learning_rate=1e-05, epochs=3, dropout_rate=0.3, batch_size=8 \n",
      "[CV]  optimizer=Adam, nodes2=0, nodes1=100, learning_rate=1e-05, epochs=3, dropout_rate=0.3, batch_size=8, score=0.708, total=  58.8s\n",
      "[CV] optimizer=Adam, nodes2=0, nodes1=100, learning_rate=1e-05, epochs=3, dropout_rate=0.3, batch_size=8 \n",
      "[CV]  optimizer=Adam, nodes2=0, nodes1=100, learning_rate=1e-05, epochs=3, dropout_rate=0.3, batch_size=8, score=0.718, total= 1.0min\n",
      "[CV] optimizer=Adam, nodes2=50, nodes1=500, learning_rate=0.001, epochs=3, dropout_rate=0.5, batch_size=4 \n",
      "[CV]  optimizer=Adam, nodes2=50, nodes1=500, learning_rate=0.001, epochs=3, dropout_rate=0.5, batch_size=4, score=0.819, total= 2.3min\n",
      "[CV] optimizer=Adam, nodes2=50, nodes1=500, learning_rate=0.001, epochs=3, dropout_rate=0.5, batch_size=4 \n",
      "[CV]  optimizer=Adam, nodes2=50, nodes1=500, learning_rate=0.001, epochs=3, dropout_rate=0.5, batch_size=4, score=0.827, total= 2.5min\n",
      "[CV] optimizer=Adam, nodes2=50, nodes1=500, learning_rate=0.001, epochs=3, dropout_rate=0.5, batch_size=4 \n",
      "[CV]  optimizer=Adam, nodes2=50, nodes1=500, learning_rate=0.001, epochs=3, dropout_rate=0.5, batch_size=4, score=0.838, total= 2.6min\n",
      "[CV] optimizer=RMSprop, nodes2=0, nodes1=100, learning_rate=0.0001, epochs=3, dropout_rate=0.1, batch_size=4 \n",
      "[CV]  optimizer=RMSprop, nodes2=0, nodes1=100, learning_rate=0.0001, epochs=3, dropout_rate=0.1, batch_size=4, score=0.834, total= 2.2min\n",
      "[CV] optimizer=RMSprop, nodes2=0, nodes1=100, learning_rate=0.0001, epochs=3, dropout_rate=0.1, batch_size=4 \n",
      "[CV]  optimizer=RMSprop, nodes2=0, nodes1=100, learning_rate=0.0001, epochs=3, dropout_rate=0.1, batch_size=4, score=0.818, total= 2.3min\n",
      "[CV] optimizer=RMSprop, nodes2=0, nodes1=100, learning_rate=0.0001, epochs=3, dropout_rate=0.1, batch_size=4 \n",
      "[CV]  optimizer=RMSprop, nodes2=0, nodes1=100, learning_rate=0.0001, epochs=3, dropout_rate=0.1, batch_size=4, score=0.820, total= 2.2min\n",
      "[CV] optimizer=Adam, nodes2=0, nodes1=100, learning_rate=0.001, epochs=3, dropout_rate=0.5, batch_size=8 \n",
      "[CV]  optimizer=Adam, nodes2=0, nodes1=100, learning_rate=0.001, epochs=3, dropout_rate=0.5, batch_size=8, score=0.848, total=  59.9s\n",
      "[CV] optimizer=Adam, nodes2=0, nodes1=100, learning_rate=0.001, epochs=3, dropout_rate=0.5, batch_size=8 \n",
      "[CV]  optimizer=Adam, nodes2=0, nodes1=100, learning_rate=0.001, epochs=3, dropout_rate=0.5, batch_size=8, score=0.839, total=  58.3s\n",
      "[CV] optimizer=Adam, nodes2=0, nodes1=100, learning_rate=0.001, epochs=3, dropout_rate=0.5, batch_size=8 \n",
      "[CV]  optimizer=Adam, nodes2=0, nodes1=100, learning_rate=0.001, epochs=3, dropout_rate=0.5, batch_size=8, score=0.835, total= 1.1min\n",
      "[CV] optimizer=Adam, nodes2=250, nodes1=0, learning_rate=1e-05, epochs=3, dropout_rate=0.3, batch_size=4 \n",
      "[CV]  optimizer=Adam, nodes2=250, nodes1=0, learning_rate=1e-05, epochs=3, dropout_rate=0.3, batch_size=4, score=0.659, total= 1.3min\n",
      "[CV] optimizer=Adam, nodes2=250, nodes1=0, learning_rate=1e-05, epochs=3, dropout_rate=0.3, batch_size=4 \n",
      "[CV]  optimizer=Adam, nodes2=250, nodes1=0, learning_rate=1e-05, epochs=3, dropout_rate=0.3, batch_size=4, score=0.665, total= 1.2min\n",
      "[CV] optimizer=Adam, nodes2=250, nodes1=0, learning_rate=1e-05, epochs=3, dropout_rate=0.3, batch_size=4 \n",
      "[CV]  optimizer=Adam, nodes2=250, nodes1=0, learning_rate=1e-05, epochs=3, dropout_rate=0.3, batch_size=4, score=0.652, total= 1.3min\n",
      "[CV] optimizer=RMSprop, nodes2=100, nodes1=100, learning_rate=1e-05, epochs=3, dropout_rate=0.5, batch_size=8 \n",
      "[CV]  optimizer=RMSprop, nodes2=100, nodes1=100, learning_rate=1e-05, epochs=3, dropout_rate=0.5, batch_size=8, score=0.707, total= 1.5min\n",
      "[CV] optimizer=RMSprop, nodes2=100, nodes1=100, learning_rate=1e-05, epochs=3, dropout_rate=0.5, batch_size=8 \n",
      "[CV]  optimizer=RMSprop, nodes2=100, nodes1=100, learning_rate=1e-05, epochs=3, dropout_rate=0.5, batch_size=8, score=0.707, total= 1.7min\n",
      "[CV] optimizer=RMSprop, nodes2=100, nodes1=100, learning_rate=1e-05, epochs=3, dropout_rate=0.5, batch_size=8 \n",
      "[CV]  optimizer=RMSprop, nodes2=100, nodes1=100, learning_rate=1e-05, epochs=3, dropout_rate=0.5, batch_size=8, score=0.701, total= 1.6min\n",
      "[CV] optimizer=Adam, nodes2=0, nodes1=0, learning_rate=1e-05, epochs=3, dropout_rate=0.1, batch_size=4 \n",
      "[CV]  optimizer=Adam, nodes2=0, nodes1=0, learning_rate=1e-05, epochs=3, dropout_rate=0.1, batch_size=4, score=0.662, total= 1.5min\n",
      "[CV] optimizer=Adam, nodes2=0, nodes1=0, learning_rate=1e-05, epochs=3, dropout_rate=0.1, batch_size=4 \n",
      "[CV]  optimizer=Adam, nodes2=0, nodes1=0, learning_rate=1e-05, epochs=3, dropout_rate=0.1, batch_size=4, score=0.637, total= 1.8min\n",
      "[CV] optimizer=Adam, nodes2=0, nodes1=0, learning_rate=1e-05, epochs=3, dropout_rate=0.1, batch_size=4 \n",
      "[CV]  optimizer=Adam, nodes2=0, nodes1=0, learning_rate=1e-05, epochs=3, dropout_rate=0.1, batch_size=4, score=0.627, total= 1.5min\n",
      "[CV] optimizer=Adam, nodes2=0, nodes1=100, learning_rate=0.0001, epochs=3, dropout_rate=0.3, batch_size=4 \n",
      "[CV]  optimizer=Adam, nodes2=0, nodes1=100, learning_rate=0.0001, epochs=3, dropout_rate=0.3, batch_size=4, score=0.838, total= 2.0min\n",
      "[CV] optimizer=Adam, nodes2=0, nodes1=100, learning_rate=0.0001, epochs=3, dropout_rate=0.3, batch_size=4 \n",
      "[CV]  optimizer=Adam, nodes2=0, nodes1=100, learning_rate=0.0001, epochs=3, dropout_rate=0.3, batch_size=4, score=0.823, total= 2.0min\n",
      "[CV] optimizer=Adam, nodes2=0, nodes1=100, learning_rate=0.0001, epochs=3, dropout_rate=0.3, batch_size=4 \n",
      "[CV]  optimizer=Adam, nodes2=0, nodes1=100, learning_rate=0.0001, epochs=3, dropout_rate=0.3, batch_size=4, score=0.819, total= 1.9min\n",
      "[CV] optimizer=RMSprop, nodes2=50, nodes1=50, learning_rate=0.0001, epochs=3, dropout_rate=0.5, batch_size=4 \n",
      "[CV]  optimizer=RMSprop, nodes2=50, nodes1=50, learning_rate=0.0001, epochs=3, dropout_rate=0.5, batch_size=4, score=0.833, total= 1.6min\n",
      "[CV] optimizer=RMSprop, nodes2=50, nodes1=50, learning_rate=0.0001, epochs=3, dropout_rate=0.5, batch_size=4 \n"
     ]
    },
    {
     "name": "stdout",
     "output_type": "stream",
     "text": [
      "[CV]  optimizer=RMSprop, nodes2=50, nodes1=50, learning_rate=0.0001, epochs=3, dropout_rate=0.5, batch_size=4, score=0.821, total= 1.6min\n",
      "[CV] optimizer=RMSprop, nodes2=50, nodes1=50, learning_rate=0.0001, epochs=3, dropout_rate=0.5, batch_size=4 \n",
      "[CV]  optimizer=RMSprop, nodes2=50, nodes1=50, learning_rate=0.0001, epochs=3, dropout_rate=0.5, batch_size=4, score=0.816, total= 1.5min\n",
      "[CV] optimizer=Adam, nodes2=50, nodes1=100, learning_rate=0.001, epochs=3, dropout_rate=0.5, batch_size=8 \n",
      "[CV]  optimizer=Adam, nodes2=50, nodes1=100, learning_rate=0.001, epochs=3, dropout_rate=0.5, batch_size=8, score=0.851, total= 1.1min\n",
      "[CV] optimizer=Adam, nodes2=50, nodes1=100, learning_rate=0.001, epochs=3, dropout_rate=0.5, batch_size=8 \n",
      "[CV]  optimizer=Adam, nodes2=50, nodes1=100, learning_rate=0.001, epochs=3, dropout_rate=0.5, batch_size=8, score=0.839, total= 1.1min\n",
      "[CV] optimizer=Adam, nodes2=50, nodes1=100, learning_rate=0.001, epochs=3, dropout_rate=0.5, batch_size=8 \n",
      "[CV]  optimizer=Adam, nodes2=50, nodes1=100, learning_rate=0.001, epochs=3, dropout_rate=0.5, batch_size=8, score=0.830, total= 1.1min\n"
     ]
    },
    {
     "name": "stderr",
     "output_type": "stream",
     "text": [
      "[Parallel(n_jobs=1)]: Done 150 out of 150 | elapsed: 183.7min finished\n"
     ]
    },
    {
     "name": "stdout",
     "output_type": "stream",
     "text": [
      "Best: 0.841080 using {'optimizer': 'Adam', 'nodes2': 0, 'nodes1': 100, 'learning_rate': 0.001, 'epochs': 3, 'dropout_rate': 0.5, 'batch_size': 8}\n",
      "0.716720 (0.009450) with: {'optimizer': 'Adam', 'nodes2': 0, 'nodes1': 100, 'learning_rate': 1e-05, 'epochs': 3, 'dropout_rate': 0.1, 'batch_size': 8}\n",
      "0.787360 (0.007237) with: {'optimizer': 'Adam', 'nodes2': 100, 'nodes1': 500, 'learning_rate': 1e-05, 'epochs': 3, 'dropout_rate': 0.3, 'batch_size': 4}\n",
      "0.720000 (0.009610) with: {'optimizer': 'RMSprop', 'nodes2': 250, 'nodes1': 250, 'learning_rate': 1e-05, 'epochs': 3, 'dropout_rate': 0.5, 'batch_size': 8}\n",
      "0.839280 (0.002670) with: {'optimizer': 'Adam', 'nodes2': 100, 'nodes1': 250, 'learning_rate': 0.001, 'epochs': 3, 'dropout_rate': 0.3, 'batch_size': 8}\n",
      "0.838960 (0.005791) with: {'optimizer': 'RMSprop', 'nodes2': 0, 'nodes1': 50, 'learning_rate': 0.001, 'epochs': 3, 'dropout_rate': 0.5, 'batch_size': 8}\n",
      "0.761399 (0.049672) with: {'optimizer': 'RMSprop', 'nodes2': 500, 'nodes1': 500, 'learning_rate': 0.001, 'epochs': 3, 'dropout_rate': 0.5, 'batch_size': 8}\n",
      "0.816959 (0.020159) with: {'optimizer': 'Adam', 'nodes2': 0, 'nodes1': 250, 'learning_rate': 0.001, 'epochs': 3, 'dropout_rate': 0.3, 'batch_size': 8}\n",
      "0.837879 (0.013694) with: {'optimizer': 'Adam', 'nodes2': 50, 'nodes1': 100, 'learning_rate': 0.001, 'epochs': 3, 'dropout_rate': 0.1, 'batch_size': 8}\n",
      "0.827120 (0.017047) with: {'optimizer': 'Adam', 'nodes2': 250, 'nodes1': 100, 'learning_rate': 0.001, 'epochs': 3, 'dropout_rate': 0.1, 'batch_size': 4}\n",
      "0.784040 (0.003133) with: {'optimizer': 'Adam', 'nodes2': 100, 'nodes1': 250, 'learning_rate': 1e-05, 'epochs': 3, 'dropout_rate': 0.1, 'batch_size': 4}\n",
      "0.804440 (0.007570) with: {'optimizer': 'Adam', 'nodes2': 50, 'nodes1': 0, 'learning_rate': 0.001, 'epochs': 3, 'dropout_rate': 0.1, 'batch_size': 8}\n",
      "0.832480 (0.007406) with: {'optimizer': 'Adam', 'nodes2': 500, 'nodes1': 50, 'learning_rate': 0.0001, 'epochs': 3, 'dropout_rate': 0.1, 'batch_size': 4}\n",
      "0.833840 (0.009787) with: {'optimizer': 'RMSprop', 'nodes2': 500, 'nodes1': 500, 'learning_rate': 0.0001, 'epochs': 3, 'dropout_rate': 0.1, 'batch_size': 4}\n",
      "0.836079 (0.012335) with: {'optimizer': 'Adam', 'nodes2': 500, 'nodes1': 500, 'learning_rate': 0.0001, 'epochs': 3, 'dropout_rate': 0.1, 'batch_size': 8}\n",
      "0.721320 (0.013553) with: {'optimizer': 'Adam', 'nodes2': 500, 'nodes1': 50, 'learning_rate': 1e-05, 'epochs': 3, 'dropout_rate': 0.3, 'batch_size': 4}\n",
      "0.828041 (0.013706) with: {'optimizer': 'Adam', 'nodes2': 100, 'nodes1': 500, 'learning_rate': 0.001, 'epochs': 3, 'dropout_rate': 0.3, 'batch_size': 8}\n",
      "0.814279 (0.025486) with: {'optimizer': 'RMSprop', 'nodes2': 50, 'nodes1': 100, 'learning_rate': 0.0001, 'epochs': 3, 'dropout_rate': 0.3, 'batch_size': 8}\n",
      "0.823400 (0.007674) with: {'optimizer': 'Adam', 'nodes2': 0, 'nodes1': 250, 'learning_rate': 0.0001, 'epochs': 3, 'dropout_rate': 0.5, 'batch_size': 8}\n",
      "0.631720 (0.004089) with: {'optimizer': 'RMSprop', 'nodes2': 500, 'nodes1': 0, 'learning_rate': 1e-05, 'epochs': 3, 'dropout_rate': 0.1, 'batch_size': 4}\n",
      "0.715640 (0.000735) with: {'optimizer': 'RMSprop', 'nodes2': 50, 'nodes1': 0, 'learning_rate': 0.0001, 'epochs': 3, 'dropout_rate': 0.3, 'batch_size': 8}\n",
      "0.831560 (0.001076) with: {'optimizer': 'Adam', 'nodes2': 250, 'nodes1': 50, 'learning_rate': 0.001, 'epochs': 3, 'dropout_rate': 0.1, 'batch_size': 4}\n",
      "0.762000 (0.003006) with: {'optimizer': 'Adam', 'nodes2': 500, 'nodes1': 500, 'learning_rate': 1e-05, 'epochs': 3, 'dropout_rate': 0.5, 'batch_size': 8}\n",
      "0.831040 (0.003409) with: {'optimizer': 'RMSprop', 'nodes2': 500, 'nodes1': 100, 'learning_rate': 0.0001, 'epochs': 3, 'dropout_rate': 0.5, 'batch_size': 8}\n",
      "0.757000 (0.002845) with: {'optimizer': 'Adam', 'nodes2': 250, 'nodes1': 100, 'learning_rate': 1e-05, 'epochs': 3, 'dropout_rate': 0.1, 'batch_size': 4}\n",
      "0.835080 (0.008873) with: {'optimizer': 'RMSprop', 'nodes2': 0, 'nodes1': 500, 'learning_rate': 0.0001, 'epochs': 3, 'dropout_rate': 0.3, 'batch_size': 4}\n",
      "0.707200 (0.003532) with: {'optimizer': 'RMSprop', 'nodes2': 0, 'nodes1': 50, 'learning_rate': 1e-05, 'epochs': 3, 'dropout_rate': 0.3, 'batch_size': 4}\n",
      "0.830079 (0.019603) with: {'optimizer': 'Adam', 'nodes2': 250, 'nodes1': 500, 'learning_rate': 0.001, 'epochs': 3, 'dropout_rate': 0.1, 'batch_size': 4}\n",
      "0.738920 (0.008231) with: {'optimizer': 'Adam', 'nodes2': 50, 'nodes1': 500, 'learning_rate': 1e-05, 'epochs': 3, 'dropout_rate': 0.5, 'batch_size': 8}\n",
      "0.713520 (0.003778) with: {'optimizer': 'Adam', 'nodes2': 0, 'nodes1': 100, 'learning_rate': 1e-05, 'epochs': 3, 'dropout_rate': 0.5, 'batch_size': 4}\n",
      "0.832600 (0.007830) with: {'optimizer': 'Adam', 'nodes2': 250, 'nodes1': 250, 'learning_rate': 0.001, 'epochs': 3, 'dropout_rate': 0.1, 'batch_size': 4}\n",
      "0.808560 (0.008636) with: {'optimizer': 'RMSprop', 'nodes2': 500, 'nodes1': 0, 'learning_rate': 0.001, 'epochs': 3, 'dropout_rate': 0.1, 'batch_size': 4}\n",
      "0.745200 (0.007503) with: {'optimizer': 'RMSprop', 'nodes2': 50, 'nodes1': 250, 'learning_rate': 1e-05, 'epochs': 3, 'dropout_rate': 0.3, 'batch_size': 4}\n",
      "0.832040 (0.004525) with: {'optimizer': 'Adam', 'nodes2': 500, 'nodes1': 250, 'learning_rate': 0.0001, 'epochs': 3, 'dropout_rate': 0.3, 'batch_size': 8}\n",
      "0.819560 (0.008529) with: {'optimizer': 'RMSprop', 'nodes2': 0, 'nodes1': 50, 'learning_rate': 0.0001, 'epochs': 3, 'dropout_rate': 0.1, 'batch_size': 4}\n",
      "0.581479 (0.044360) with: {'optimizer': 'RMSprop', 'nodes2': 500, 'nodes1': 0, 'learning_rate': 1e-05, 'epochs': 3, 'dropout_rate': 0.5, 'batch_size': 8}\n",
      "0.827480 (0.004140) with: {'optimizer': 'RMSprop', 'nodes2': 100, 'nodes1': 50, 'learning_rate': 0.0001, 'epochs': 3, 'dropout_rate': 0.1, 'batch_size': 8}\n",
      "0.732640 (0.006574) with: {'optimizer': 'RMSprop', 'nodes2': 100, 'nodes1': 250, 'learning_rate': 1e-05, 'epochs': 3, 'dropout_rate': 0.3, 'batch_size': 8}\n",
      "0.803959 (0.010587) with: {'optimizer': 'RMSprop', 'nodes2': 500, 'nodes1': 500, 'learning_rate': 1e-05, 'epochs': 3, 'dropout_rate': 0.1, 'batch_size': 4}\n",
      "0.705200 (0.006390) with: {'optimizer': 'RMSprop', 'nodes2': 0, 'nodes1': 100, 'learning_rate': 1e-05, 'epochs': 3, 'dropout_rate': 0.3, 'batch_size': 8}\n",
      "0.841040 (0.007673) with: {'optimizer': 'Adam', 'nodes2': 250, 'nodes1': 100, 'learning_rate': 0.0001, 'epochs': 3, 'dropout_rate': 0.1, 'batch_size': 4}\n",
      "0.719439 (0.010410) with: {'optimizer': 'Adam', 'nodes2': 0, 'nodes1': 100, 'learning_rate': 1e-05, 'epochs': 3, 'dropout_rate': 0.3, 'batch_size': 8}\n",
      "0.828080 (0.007578) with: {'optimizer': 'Adam', 'nodes2': 50, 'nodes1': 500, 'learning_rate': 0.001, 'epochs': 3, 'dropout_rate': 0.5, 'batch_size': 4}\n",
      "0.824040 (0.007124) with: {'optimizer': 'RMSprop', 'nodes2': 0, 'nodes1': 100, 'learning_rate': 0.0001, 'epochs': 3, 'dropout_rate': 0.1, 'batch_size': 4}\n",
      "0.841080 (0.005473) with: {'optimizer': 'Adam', 'nodes2': 0, 'nodes1': 100, 'learning_rate': 0.001, 'epochs': 3, 'dropout_rate': 0.5, 'batch_size': 8}\n",
      "0.658720 (0.005249) with: {'optimizer': 'Adam', 'nodes2': 250, 'nodes1': 0, 'learning_rate': 1e-05, 'epochs': 3, 'dropout_rate': 0.3, 'batch_size': 4}\n",
      "0.704920 (0.002469) with: {'optimizer': 'RMSprop', 'nodes2': 100, 'nodes1': 100, 'learning_rate': 1e-05, 'epochs': 3, 'dropout_rate': 0.5, 'batch_size': 8}\n",
      "0.642199 (0.014680) with: {'optimizer': 'Adam', 'nodes2': 0, 'nodes1': 0, 'learning_rate': 1e-05, 'epochs': 3, 'dropout_rate': 0.1, 'batch_size': 4}\n",
      "0.826480 (0.008212) with: {'optimizer': 'Adam', 'nodes2': 0, 'nodes1': 100, 'learning_rate': 0.0001, 'epochs': 3, 'dropout_rate': 0.3, 'batch_size': 4}\n",
      "0.823240 (0.007118) with: {'optimizer': 'RMSprop', 'nodes2': 50, 'nodes1': 50, 'learning_rate': 0.0001, 'epochs': 3, 'dropout_rate': 0.5, 'batch_size': 4}\n",
      "0.839920 (0.008852) with: {'optimizer': 'Adam', 'nodes2': 50, 'nodes1': 100, 'learning_rate': 0.001, 'epochs': 3, 'dropout_rate': 0.5, 'batch_size': 8}\n"
     ]
    }
   ],
   "source": [
    "model = KerasClassifier(build_fn=create_model_ff, verbose=0)\n",
    "# define the grid search parameters\n",
    "batch_size = [4, 8]\n",
    "epochs = [3]\n",
    "nodes1 = [0, 50, 100, 250, 500]\n",
    "nodes2 = [0, 50, 100, 250, 500] # 0 implies only one hidden layer \n",
    "dropout_rates = [0.1, 0.3, 0.5]\n",
    "learning_rates = [1e-3, 1e-4, 1e-5]\n",
    "optimizers = ['RMSprop','Adam']\n",
    "nn_param_grid = dict(batch_size=batch_size,\n",
    "                     epochs=epochs,\n",
    "                     nodes1=nodes1,\n",
    "                     nodes2=nodes2,\n",
    "                     dropout_rate=dropout_rates,\n",
    "                     learning_rate=learning_rates,\n",
    "                     optimizer=optimizers)\n",
    "nn_grid = RandomizedSearchCV(estimator=model,\n",
    "                             param_distributions=nn_param_grid,\n",
    "                             n_iter=50,\n",
    "                             n_jobs=1,\n",
    "                             cv=3,\n",
    "                             scoring='accuracy',\n",
    "                             verbose=10)\n",
    "\n",
    "nn_grid_result = nn_grid.fit(x_train, y_train)\n",
    "# summarize results\n",
    "print(\"Best: %f using %s\" % (nn_grid_result.best_score_, nn_grid_result.best_params_))\n",
    "means = nn_grid_result.cv_results_['mean_test_score']\n",
    "stds = nn_grid_result.cv_results_['std_test_score']\n",
    "params = nn_grid_result.cv_results_['params']\n",
    "for mean, stdev, param in zip(means, stds, params):\n",
    "    print(\"%f (%f) with: %r\" % (mean, stdev, param))"
   ]
  },
  {
   "cell_type": "code",
   "execution_count": 59,
   "metadata": {
    "scrolled": true
   },
   "outputs": [
    {
     "name": "stdout",
     "output_type": "stream",
     "text": [
      "Train on 20000 samples, validate on 5000 samples\n",
      "Epoch 1/1000000\n",
      "20000/20000 [==============================] - 31s 2ms/sample - loss: 0.4617 - acc: 0.7774 - val_loss: 0.3975 - val_acc: 0.8328\n",
      "Epoch 2/1000000\n",
      "20000/20000 [==============================] - 22s 1ms/sample - loss: 0.3899 - acc: 0.8236 - val_loss: 0.3886 - val_acc: 0.8330\n",
      "Epoch 3/1000000\n",
      "20000/20000 [==============================] - 22s 1ms/sample - loss: 0.3786 - acc: 0.8320 - val_loss: 0.3777 - val_acc: 0.8382\n",
      "Epoch 4/1000000\n",
      "20000/20000 [==============================] - 23s 1ms/sample - loss: 0.3725 - acc: 0.8359 - val_loss: 0.3809 - val_acc: 0.8370\n",
      "Epoch 5/1000000\n",
      "20000/20000 [==============================] - 23s 1ms/sample - loss: 0.3653 - acc: 0.8407 - val_loss: 0.3749 - val_acc: 0.8420\n",
      "Epoch 6/1000000\n",
      "20000/20000 [==============================] - 24s 1ms/sample - loss: 0.3642 - acc: 0.8399 - val_loss: 0.3748 - val_acc: 0.8412\n",
      "Epoch 7/1000000\n",
      "20000/20000 [==============================] - 27s 1ms/sample - loss: 0.3622 - acc: 0.8433 - val_loss: 0.3957 - val_acc: 0.8256\n"
     ]
    },
    {
     "data": {
      "image/png": "[encoded data removed]",
      "text/plain": [
       "<Figure size 432x288 with 2 Axes>"
      ]
     },
     "metadata": {
      "needs_background": "light"
     },
     "output_type": "display_data"
    },
    {
     "data": {
      "image/png": "[encoded data removed]",
      "text/plain": [
       "<Figure size 432x288 with 2 Axes>"
      ]
     },
     "metadata": {
      "needs_background": "light"
     },
     "output_type": "display_data"
    },
    {
     "data": {
      "image/png": "[encoded data removed]",
      "text/plain": [
       "<Figure size 432x288 with 2 Axes>"
      ]
     },
     "metadata": {
      "needs_background": "light"
     },
     "output_type": "display_data"
    },
    {
     "name": "stdout",
     "output_type": "stream",
     "text": [
      "              precision    recall  f1-score   support\n",
      "\n",
      "         0.0       0.84      0.86      0.85     12474\n",
      "         1.0       0.86      0.84      0.85     12526\n",
      "\n",
      "    accuracy                           0.85     25000\n",
      "   macro avg       0.85      0.85      0.85     25000\n",
      "weighted avg       0.85      0.85      0.85     25000\n",
      "\n",
      "Test accuracy: 0.84808\n"
     ]
    }
   ],
   "source": [
    "model = create_model_ff(nodes1=nn_grid_result.best_params_['nodes1'],\n",
    "                       nodes2=nn_grid_result.best_params_['nodes2'],\n",
    "                       dropout_rate=nn_grid_result.best_params_['dropout_rate'],\n",
    "                       learning_rate=nn_grid_result.best_params_['learning_rate'],\n",
    "                       optimizer=nn_grid_result.best_params_['optimizer'])\n",
    "\n",
    "earlystop = EarlyStopping(monitor='val_acc',\n",
    "                          patience=2,\n",
    "                          restore_best_weights=True)\n",
    "                         \n",
    "history = model.fit(x_train, y_train,\n",
    "                    validation_split=0.2,\n",
    "                    epochs=1000000,\n",
    "                    batch_size=nn_grid_result.best_params_['batch_size'],\n",
    "                    callbacks=[earlystop],\n",
    "                    verbose=1)\n",
    "\n",
    "plot_results_nn(history, \n",
    "                model,\n",
    "                x_test,\n",
    "                y_test,\n",
    "                save=True,\n",
    "                name='nn_n1{}_n2{}_dr{}_lr{}'.format(nn_grid_result.best_params_['nodes1'],\n",
    "                                                     nn_grid_result.best_params_['nodes2'],\n",
    "                                                     nn_grid_result.best_params_['dropout_rate'],\n",
    "                                                     nn_grid_result.best_params_['learning_rate']))"
   ]
  },
  {
   "cell_type": "markdown",
   "metadata": {},
   "source": [
    "### Neural Network - GloVe embeddings as embedded layer\n",
    "Similar to the previous neural network, but with an embedded layer that is trained together with the weights in the feed-forward network. This does however take a lot longer to train, so the found hyper parameters for the previous section with static embeddings are assumed to be good enough for this model."
   ]
  },
  {
   "cell_type": "code",
   "execution_count": 60,
   "metadata": {},
   "outputs": [],
   "source": [
    "# Create functions for custom 'MergeEmedding'-layer which averages \n",
    "# the embeddings over all words after the embedding layer \n",
    "def merge_embeddings(x):\n",
    "    # Sum the embeddings for every word slot. If this is zero, there is no word in this slot\n",
    "    non_zero = K.sum(K.cast(K.not_equal(K.sum(x,axis=2),0),tf.float32))\n",
    "    return K.sum(x,axis=1) / non_zero\n",
    "\n",
    "def merge_output_shape(input_shape):\n",
    "    return input_shape[0], input_shape[-1]\n",
    "\n",
    "def create_model_emb_ff(nodes1=100, nodes2=50, dropout_rate=0.3, optimizer='rmsprop', learning_rate=0.001):\n",
    "    if optimizer.lower() == 'rmsprop': \n",
    "        optimizer = RMSprop(learning_rate = learning_rate)\n",
    "    elif optimizer.lower() == 'adam':\n",
    "        optimizer = Adam(learning_rate = learning_rate)\n",
    "    model = Sequential() \n",
    "    model.add(Embedding(input_dim=vocab_size+1,\n",
    "                        output_dim=300,\n",
    "                        mask_zero=True,\n",
    "                        weights=[trainable_embeddings]))\n",
    "    model.add(Lambda(merge_embeddings, output_shape=merge_output_shape))\n",
    "    if nodes1 == 0: \n",
    "        model.add(Dense(1, input_shape=x_train.shape[1:], activation='sigmoid'))\n",
    "        model.compile(optimizer=optimizer, loss='binary_crossentropy', metrics=['acc'])\n",
    "        return model \n",
    "    model.add(Dense(nodes1, input_shape=x_train.shape[1:]))\n",
    "    model.add(Dropout(dropout_rate))\n",
    "    if nodes2 == 0: \n",
    "        model.add(Dense(1, activation='sigmoid'))\n",
    "        model.compile(optimizer=optimizer, loss='binary_crossentropy', metrics=['acc'])\n",
    "        return model\n",
    "    model.add(Dense(nodes2))\n",
    "    model.add(Dropout(dropout_rate))\n",
    "    model.add(Dense(1, activation='sigmoid'))\n",
    "    model.compile(optimizer=optimizer, loss='binary_crossentropy', metrics=['acc'])\n",
    "    return model "
   ]
  },
  {
   "cell_type": "code",
   "execution_count": 61,
   "metadata": {},
   "outputs": [
    {
     "name": "stdout",
     "output_type": "stream",
     "text": [
      "Train on 20000 samples, validate on 5000 samples\n",
      "Epoch 1/100000\n",
      "20000/20000 [==============================] - 83s 4ms/sample - loss: 0.5063 - acc: 0.7307 - val_loss: 0.3336 - val_acc: 0.8652\n",
      "Epoch 2/100000\n",
      "20000/20000 [==============================] - 74s 4ms/sample - loss: 0.2793 - acc: 0.8885 - val_loss: 0.3176 - val_acc: 0.8734\n",
      "Epoch 3/100000\n",
      "20000/20000 [==============================] - 77s 4ms/sample - loss: 0.2346 - acc: 0.9070 - val_loss: 0.3094 - val_acc: 0.8788\n",
      "Epoch 4/100000\n",
      "20000/20000 [==============================] - 78s 4ms/sample - loss: 0.2076 - acc: 0.9196 - val_loss: 0.3140 - val_acc: 0.8782\n",
      "Epoch 5/100000\n",
      "20000/20000 [==============================] - 79s 4ms/sample - loss: 0.1904 - acc: 0.9265 - val_loss: 0.3280 - val_acc: 0.8762\n",
      "Epoch 6/100000\n",
      "20000/20000 [==============================] - 80s 4ms/sample - loss: 0.1766 - acc: 0.9322 - val_loss: 0.3444 - val_acc: 0.8772\n",
      "Epoch 7/100000\n",
      "20000/20000 [==============================] - 79s 4ms/sample - loss: 0.1659 - acc: 0.9378 - val_loss: 0.3759 - val_acc: 0.8686\n",
      "Epoch 8/100000\n",
      "20000/20000 [==============================] - 85s 4ms/sample - loss: 0.1590 - acc: 0.9391 - val_loss: 0.3853 - val_acc: 0.8702\n"
     ]
    },
    {
     "data": {
      "image/png": "[encoded data removed]",
      "text/plain": [
       "<Figure size 432x288 with 2 Axes>"
      ]
     },
     "metadata": {
      "needs_background": "light"
     },
     "output_type": "display_data"
    },
    {
     "data": {
      "image/png": "[encoded data removed]",
      "text/plain": [
       "<Figure size 432x288 with 2 Axes>"
      ]
     },
     "metadata": {
      "needs_background": "light"
     },
     "output_type": "display_data"
    },
    {
     "data": {
      "image/png": "[encoded data removed]",
      "text/plain": [
       "<Figure size 432x288 with 2 Axes>"
      ]
     },
     "metadata": {
      "needs_background": "light"
     },
     "output_type": "display_data"
    },
    {
     "name": "stdout",
     "output_type": "stream",
     "text": [
      "              precision    recall  f1-score   support\n",
      "\n",
      "         0.0       0.86      0.91      0.89     12474\n",
      "         1.0       0.91      0.85      0.88     12526\n",
      "\n",
      "    accuracy                           0.88     25000\n",
      "   macro avg       0.88      0.88      0.88     25000\n",
      "weighted avg       0.88      0.88      0.88     25000\n",
      "\n",
      "Test accuracy: 0.88176\n"
     ]
    }
   ],
   "source": [
    "# Use the same hyper parameters as for static embeddings, too expensive to optimize. \n",
    "model_emb = create_model_emb_ff(nodes1=nn_grid_result.best_params_['nodes1'],\n",
    "                                nodes2=nn_grid_result.best_params_['nodes2'],\n",
    "                                dropout_rate=nn_grid_result.best_params_['dropout_rate'],\n",
    "                                learning_rate=nn_grid_result.best_params_['learning_rate'],\n",
    "                                optimizer=nn_grid_result.best_params_['optimizer'])\n",
    "\n",
    "\n",
    "earlystop = EarlyStopping(monitor='val_acc',\n",
    "                          patience=5,\n",
    "                          restore_best_weights=True)\n",
    "                         \n",
    "\n",
    "emb_history = model_emb.fit(x_train_pad, y_train,\n",
    "                            validation_split=0.2,\n",
    "                            epochs=100000,\n",
    "                            batch_size=nn_grid_result.best_params_['batch_size'],\n",
    "                            verbose=1,\n",
    "                            callbacks=[earlystop])\n",
    "\n",
    "plot_results_nn(emb_history, model_emb,x_test_pad, y_test,\n",
    "                save=True,\n",
    "                name='nn_emb_n1{}_n2{}_dr{}_lr'.format(nn_emb_grid_result.best_params_['nodes1'],\n",
    "                                                       nn_emb_grid_result.best_params_['nodes2'],\n",
    "                                                       nn_emb_grid_result.best_params_['dropout_rate'],\n",
    "                                                       nn_emb_grid_result.best_params_['learning_rate']))"
   ]
  },
  {
   "cell_type": "code",
   "execution_count": 63,
   "metadata": {},
   "outputs": [
    {
     "name": "stdout",
     "output_type": "stream",
     "text": [
      "Model: \"sequential_280\"\n",
      "_________________________________________________________________\n",
      "Layer (type)                 Output Shape              Param #   \n",
      "=================================================================\n",
      "embedding_18 (Embedding)     (None, None, 300)         1500300   \n",
      "_________________________________________________________________\n",
      "bidirectional_1 (Bidirection (None, 256)               439296    \n",
      "_________________________________________________________________\n",
      "dropout_403 (Dropout)        (None, 256)               0         \n",
      "_________________________________________________________________\n",
      "dense_682 (Dense)            (None, 1)                 257       \n",
      "=================================================================\n",
      "Total params: 1,939,853\n",
      "Trainable params: 1,939,853\n",
      "Non-trainable params: 0\n",
      "_________________________________________________________________\n"
     ]
    }
   ],
   "source": [
    "n_lstm1 = 128\n",
    "dr_rate = 0.3\n",
    "learning_rate = 1e-4\n",
    "optimizer = RMSprop(learning_rate=learning_rate)\n",
    "\n",
    "lstm_model = Sequential()\n",
    "lstm_model.add(Embedding(input_dim=vocab_size+1,\n",
    "                        output_dim=300,\n",
    "                        mask_zero=True,\n",
    "                        weights=[trainable_embeddings],\n",
    "                       trainable=True))\n",
    "lstm_model.add(Bidirectional(LSTM(n_lstm1, recurrent_dropout=0.2)))\n",
    "lstm_model.add(Dropout(dr_rate))\n",
    "lstm_model.add(Dense(1,activation='sigmoid'))\n",
    "\n",
    "lstm_model.compile(optimizer=optimizer, metrics=['acc'], loss='binary_crossentropy')\n",
    "lstm_model.summary()"
   ]
  },
  {
   "cell_type": "code",
   "execution_count": null,
   "metadata": {},
   "outputs": [
    {
     "name": "stdout",
     "output_type": "stream",
     "text": [
      "Train on 20000 samples, validate on 5000 samples\n",
      "Epoch 1/1000000\n",
      "20000/20000 [==============================] - 29233s 1s/sample - loss: 0.6775 - acc: 0.5663 - val_loss: 0.6471 - val_acc: 0.6390\n",
      "Epoch 2/1000000\n",
      "20000/20000 [==============================] - 20726s 1s/sample - loss: 0.6013 - acc: 0.6769 - val_loss: 0.5950 - val_acc: 0.6742\n",
      "Epoch 3/1000000\n",
      " 2240/20000 [==>...........................] - ETA: 7:31:36 - loss: 0.5295 - acc: 0.7429"
     ]
    }
   ],
   "source": [
    "lstm_history = lstm_model.fit(x_train_pad, y_train,\n",
    "                              batch_size=64,\n",
    "                              validation_split=0.2,\n",
    "                              epochs=1000000,\n",
    "                              callbacks=[EarlyStopping(monitor='val_acc',\n",
    "                                                       patience=3,\n",
    "                                                       restore_best_weights=True)])\n",
    "save = False\n",
    "\n",
    "if save: \n",
    "    plot_results_nn(lstm_history, lstm_model, x_test_pad, y_test,save=save,\n",
    "                    name='lstm_l1{}_d{}_dr{}'.format(n_lstm1,n_lstm2,dr_rate))\n",
    "else: \n",
    "    plot_results_nn(lstm_history, lstm_model, x_test_pad, y_test)"
   ]
  },
  {
   "cell_type": "code",
   "execution_count": 392,
   "metadata": {},
   "outputs": [
    {
     "name": "stdout",
     "output_type": "stream",
     "text": [
      "Model: \"sequential_368\"\n",
      "_________________________________________________________________\n",
      "Layer (type)                 Output Shape              Param #   \n",
      "=================================================================\n",
      "embedding_14 (Embedding)     (None, None, 300)         1500300   \n",
      "_________________________________________________________________\n",
      "bidirectional_4 (Bidirection (None, None, 40)          38640     \n",
      "_________________________________________________________________\n",
      "dropout_694 (Dropout)        (None, None, 40)          0         \n",
      "_________________________________________________________________\n",
      "bidirectional_5 (Bidirection (None, 40)                7440      \n",
      "_________________________________________________________________\n",
      "dropout_695 (Dropout)        (None, 40)                0         \n",
      "_________________________________________________________________\n",
      "dense_1394 (Dense)           (None, 50)                2050      \n",
      "_________________________________________________________________\n",
      "dropout_696 (Dropout)        (None, 50)                0         \n",
      "_________________________________________________________________\n",
      "dense_1395 (Dense)           (None, 1)                 51        \n",
      "=================================================================\n",
      "Total params: 1,548,481\n",
      "Trainable params: 1,548,481\n",
      "Non-trainable params: 0\n",
      "_________________________________________________________________\n"
     ]
    }
   ],
   "source": [
    "n_gru1 = 128\n",
    "dr_rate = 0.3\n",
    "\n",
    "gru_model = Sequential()\n",
    "gru_model.add(Embedding(input_dim=vocab_size+1,\n",
    "                        output_dim=300,\n",
    "                        mask_zero=True,\n",
    "                        weights=[trainable_embeddings],\n",
    "                       trainable=True))\n",
    "gru_model.add(Bidirectional(GRU(n_gru1, recurrent_dropout=0.2)))\n",
    "gru_model.add(Dropout(dr_rate))\n",
    "gru_model.add(Dense(1,activation='sigmoid'))\n",
    "\n",
    "gru_model.compile(optimizer='rmsprop', metrics=['acc'], loss='binary_crossentropy')\n",
    "gru_model.summary()"
   ]
  },
  {
   "cell_type": "code",
   "execution_count": 393,
   "metadata": {},
   "outputs": [
    {
     "name": "stdout",
     "output_type": "stream",
     "text": [
      "Train on 20000 samples, validate on 5000 samples\n",
      "Epoch 1/4\n",
      "20000/20000 [==============================] - 1756s 88ms/sample - loss: 0.5988 - acc: 0.6631 - val_loss: 0.4256 - val_acc: 0.7984\n",
      "Epoch 2/4\n",
      "20000/20000 [==============================] - 3969s 198ms/sample - loss: 0.3425 - acc: 0.8535 - val_loss: 0.3199 - val_acc: 0.8628\n",
      "Epoch 3/4\n",
      "20000/20000 [==============================] - 2154s 108ms/sample - loss: 0.2344 - acc: 0.9098 - val_loss: 0.3024 - val_acc: 0.8784\n",
      "Epoch 4/4\n",
      "20000/20000 [==============================] - 2145s 107ms/sample - loss: 0.1832 - acc: 0.9322 - val_loss: 0.2942 - val_acc: 0.8848\n"
     ]
    },
    {
     "data": {
      "image/png": "[encoded data removed]",
      "text/plain": [
       "<Figure size 432x288 with 2 Axes>"
      ]
     },
     "metadata": {
      "needs_background": "light"
     },
     "output_type": "display_data"
    },
    {
     "data": {
      "image/png": "[encoded data removed]",
      "text/plain": [
       "<Figure size 432x288 with 2 Axes>"
      ]
     },
     "metadata": {
      "needs_background": "light"
     },
     "output_type": "display_data"
    },
    {
     "data": {
      "image/png": "[encoded data removed]",
      "text/plain": [
       "<Figure size 432x288 with 2 Axes>"
      ]
     },
     "metadata": {
      "needs_background": "light"
     },
     "output_type": "display_data"
    },
    {
     "name": "stdout",
     "output_type": "stream",
     "text": [
      "              precision    recall  f1-score   support\n",
      "\n",
      "         0.0       0.88      0.90      0.89     12474\n",
      "         1.0       0.90      0.88      0.89     12526\n",
      "\n",
      "    accuracy                           0.89     25000\n",
      "   macro avg       0.89      0.89      0.89     25000\n",
      "weighted avg       0.89      0.89      0.89     25000\n",
      "\n",
      "Test accuracy: 0.88832\n"
     ]
    }
   ],
   "source": [
    "gru_history = gru_model.fit(x_train_pad, y_train,\n",
    "                            batch_size=64,\n",
    "                            validation_split=0.2,\n",
    "                            epochs=10000,\n",
    "                            callbacks=[EarlyStopping(monitor='val_acc',patience=3,restore_best_weights=True)])\n",
    "save = False\n",
    "\n",
    "if save: \n",
    "    plot_results_nn(gru_history, gru_model, x_test_pad, y_test,save=save,\n",
    "                    name='gru_l{}_dr{}'.format(n_gru1,dr_rate))\n",
    "else: \n",
    "    plot_results_nn(gru_history, gru_model, x_test_pad, y_test)"
   ]
  },
  {
   "cell_type": "markdown",
   "metadata": {},
   "source": [
    "## Results\n",
    "\n",
    "The following results were achieved on the independent test set on the IMDB dataset. Pre-trained GloVe-embeddings were used and \n",
    "\n",
    "| Model |  Test Accuracy (%) | Hyperparameters |\n",
    "| :----- | --------------- | --- | \n",
    "| Random Classifier | 50.3 | N/A |\n",
    "| Logistic Regression | 85.2  | N/A |\n",
    "| Linear Discriminant Analysis | 85.3  | N/A |\n",
    "| Support Vector Machine | 84.1 | N/A |\n",
    "| Random Forest | 80.9  | n_estimators=5000, max_depth=50 |\n",
    "| XGBoost | __86.1__ | n_estimators=500 |\n",
    "| Multi Layer Perceptron (Pre-trained) | 85.2 | batch_size=16,depth=3,dropout_rate=0.2,nodes=250 |\n",
    "| Multi Layer Perceptron (Cont. training) |  | batch_size=16,depth=3,dropout_rate=0.2,nodes=250 |\n",
    "| LSTM | | n_lstm1=20, n_lstm2=20, nodes=50,dropout_rate=0.3 | \n",
    "\n",
    "XGBoost gives the best performance on the test set when using GloVe-embeddings. The LSTM-approach takes a lot longer to train, and it is therefore harder to conduct a decent hyperparameter search. The LSTM is the only approach that takes the order of the words into account, which could potentially give a better performance if optimized well.\n",
    "\n",
    "For comparison, the table below displays state-of-the-art models for the IMDB classification task. \n",
    "\n",
    "| Model |\tAccuracy (%) |\tPaper / Source|\n",
    "|:----- | ---------- | -------------- |  \n",
    "| XLNet (Yang et al., 2019) |\t__96.21__ |\tXLNet: Generalized Autoregressive Pretraining for Language Understanding|\n",
    "| BERT_large+ITPT (Sun et al., 2019) \t|95.79 |\tHow to Fine-Tune BERT for Text Classification?|\n",
    "| BERT_base+ITPT (Sun et al., 2019) |\t95.63 |\tHow to Fine-Tune BERT for Text Classification?|\n",
    "| ULMFiT (Howard and Ruder, 2018) |\t95.4 |\tUniversal Language Model Fine-tuning for Text Classification|\n",
    "| Block-sparse LSTM (Gray et al., 2017) |\t94.99 |\tGPU Kernels for Block-Sparse Weights|\n",
    "| oh-LSTM (Johnson and Zhang, 2016)| \t94.1| \tSupervised and Semi-Supervised Text Categorization using LSTM for Region Embeddings |\n",
    "| Virtual adversarial training (Miyato et al., 2016) |\t94.1 \t|Adversarial Training Methods for Semi-Supervised Text Classification |\n",
    "| BCN+Char+CoVe (McCann et al., 2017) |\t91.8 |\tLearned in Translation: Contextualized Word Vectors |\n",
    "\n"
   ]
  },
  {
   "cell_type": "code",
   "execution_count": null,
   "metadata": {},
   "outputs": [],
   "source": []
  },
  {
   "cell_type": "code",
   "execution_count": null,
   "metadata": {},
   "outputs": [],
   "source": []
  },
  {
   "cell_type": "code",
   "execution_count": null,
   "metadata": {},
   "outputs": [],
   "source": []
  },
  {
   "cell_type": "code",
   "execution_count": null,
   "metadata": {},
   "outputs": [],
   "source": []
  },
  {
   "cell_type": "code",
   "execution_count": null,
   "metadata": {},
   "outputs": [],
   "source": []
  },
  {
   "cell_type": "code",
   "execution_count": null,
   "metadata": {},
   "outputs": [],
   "source": []
  },
  {
   "cell_type": "code",
   "execution_count": null,
   "metadata": {},
   "outputs": [],
   "source": []
  }
 ],
 "metadata": {
  "kernelspec": {
   "display_name": "Python 3",
   "language": "python",
   "name": "python3"
  },
  "language_info": {
   "codemirror_mode": {
    "name": "ipython",
    "version": 3
   },
   "file_extension": ".py",
   "mimetype": "text/x-python",
   "name": "python",
   "nbconvert_exporter": "python",
   "pygments_lexer": "ipython3",
   "version": "3.6.10"
  }
 },
 "nbformat": 4,
 "nbformat_minor": 4
}
