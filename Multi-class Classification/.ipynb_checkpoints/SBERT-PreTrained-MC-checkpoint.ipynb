{
 "cells": [
  {
   "cell_type": "code",
   "execution_count": 49,
   "metadata": {},
   "outputs": [],
   "source": [
    "from sentence_transformers import SentenceTransformer\n",
    "import tensorflow as tf\n",
    "from tensorflow.keras import backend as K\n",
    "from tensorflow.keras.layers import Dense, Dropout, Embedding, Masking, Lambda, Layer\n",
    "from tensorflow.keras.models import Sequential\n",
    "from tensorflow.keras import optimizers\n",
    "from sklearn.metrics import confusion_matrix, classification_report\n",
    "import pandas as pd\n",
    "import numpy as np\n",
    "import seaborn as sn\n",
    "import matplotlib.pyplot as plt\n",
    "from pathlib import Path\n",
    "import os\n",
    "import itertools\n",
    "from importnb import Notebook, reload\n",
    "with Notebook(): \n",
    "    import Utilities"
   ]
  },
  {
   "cell_type": "code",
   "execution_count": 2,
   "metadata": {},
   "outputs": [],
   "source": [
    "sbert_model = SentenceTransformer('bert-base-nli-mean-tokens')"
   ]
  },
  {
   "cell_type": "code",
   "execution_count": 3,
   "metadata": {},
   "outputs": [],
   "source": [
    "# Load data \n",
    "news_path = Path(\"../Datasets/data/financial_headlines_20061020-20131119.pkl\")\n",
    "data = pd.DataFrame(pd.read_pickle(news_path))\n",
    "data.set_index('date',inplace=True)\n"
   ]
  },
  {
   "cell_type": "code",
   "execution_count": 4,
   "metadata": {},
   "outputs": [
    {
     "name": "stdout",
     "output_type": "stream",
     "text": [
      "Loaded previously calculated embeddings.\n"
     ]
    }
   ],
   "source": [
    "n = len(data.index.drop_duplicates())\n",
    "\n",
    "path = Path(\"../Input Data/all_reuters_news_embedded_bert_base_nli_mean.npy\")\n",
    "if os.path.exists(path):\n",
    "    x = np.load(path)\n",
    "    embed_dim = x.shape[-1]\n",
    "    max_nbr_titles = x.shape[-2]\n",
    "    print(\"Loaded previously calculated embeddings.\")\n",
    "else:\n",
    "    texts = []\n",
    "    for i,date in enumerate(data.index.drop_duplicates()): \n",
    "        if i % 100: \n",
    "            print(\"{} % ...\".format(round(100 * i / len(data.index.drop_duplicates()),3)),end='\\r')\n",
    "        temp_titles = []\n",
    "        for title in data.loc[date].values:\n",
    "            temp_titles.append(title[0])\n",
    "        texts.append(model.encode(temp_titles))\n",
    "    print(\"100 % ...\")\n",
    "    max_nbr_titles = max([len(text) for text in texts])\n",
    "    embed_dim = texts[0][0].shape[0]\n",
    "    x = np.zeros((n,max_nbr_titles,embed_dim))\n",
    "    # Include embeddings in matrix and pad with (tensors) of zeros. \n",
    "    for i,titles in enumerate(texts): \n",
    "        for j,title in enumerate(titles): \n",
    "            x[i,j] = title\n",
    "    np.save(path,x)"
   ]
  },
  {
   "cell_type": "code",
   "execution_count": 5,
   "metadata": {},
   "outputs": [],
   "source": [
    "config = {\n",
    "    'embed_dim': embed_dim,    # Dimensions to use for the word embedding\n",
    "    'max_len': max_nbr_titles,\n",
    "    'lookback': 1,       # How far back to collect data in the recurrent layer (days)\n",
    "    'delay': 1,          # How far ahead to predict data (days)\n",
    "    'p': 1,              # Order of the AR-part of the model\n",
    "    'd': 1,              # Integrated order\n",
    "    'q': 1,              # Included moving average terms \n",
    "    'train_part' : 0.8,  # Part of data to be used for training\n",
    "    'val_part' : 0.1,    # Part of data to be used for validation\n",
    "    'test_part' : 0.1,   # Part of data to be used for testing\n",
    "    'series': '1 YEAR',   # What series we currently want to predict, '1 YEAR', '3 YEAR' or 'S&P'\n",
    "    'start_date': '2006-10-20',\n",
    "    'end_date': '2013-11-19',\n",
    "}"
   ]
  },
  {
   "cell_type": "code",
   "execution_count": 6,
   "metadata": {},
   "outputs": [
    {
     "data": {
      "text/plain": [
       "(2582, 104, 768)"
      ]
     },
     "execution_count": 6,
     "metadata": {},
     "output_type": "execute_result"
    }
   ],
   "source": [
    "x.shape"
   ]
  },
  {
   "cell_type": "code",
   "execution_count": 7,
   "metadata": {},
   "outputs": [
    {
     "name": "stdout",
     "output_type": "stream",
     "text": [
      "Loaded previously constructed labels. \n"
     ]
    },
    {
     "data": {
      "image/png": "[encoded data removed]",
      "text/plain": [
       "<Figure size 432x288 with 1 Axes>"
      ]
     },
     "metadata": {
      "needs_background": "light"
     },
     "output_type": "display_data"
    }
   ],
   "source": [
    "# Pick thresholds for the classes. Observe that these are normalized values, \n",
    "# so it's the distribution rather than the numbers that's important. \n",
    "thresholds = [-0.002,-0.0005,0.0005,0.002]\n",
    "nbr_classes = len(thresholds) + 1\n",
    "y = Utilities.load_multiclass_labels(config,thresholds,plot=True)"
   ]
  },
  {
   "cell_type": "code",
   "execution_count": 8,
   "metadata": {},
   "outputs": [],
   "source": [
    "# Need to remove some rows from the word embedding-matrix,\n",
    "# these numbers are specified in Utilities.fit_all_models()\n",
    "rm_start_rows = max(config['lookback'],5) + 1\n",
    "rm_end_rows = config['delay']\n",
    "x = x[rm_start_rows : -rm_end_rows]"
   ]
  },
  {
   "cell_type": "code",
   "execution_count": 9,
   "metadata": {},
   "outputs": [
    {
     "name": "stdout",
     "output_type": "stream",
     "text": [
      "Shape of x_train: (2317, 104, 768)\n",
      "Shape of y_train: (2317,)\n",
      "Shape of x_test: (258, 104, 768)\n",
      "Shape of y_test: (258,)\n"
     ]
    }
   ],
   "source": [
    "(x_train, y_train), (x_test, y_test) = Utilities.shuffle_and_partition(x,y,test_part = config['test_part'])\n",
    "print(\"Shape of x_train:\",x_train.shape)\n",
    "print(\"Shape of y_train:\",y_train.shape)\n",
    "print(\"Shape of x_test:\",x_test.shape)\n",
    "print(\"Shape of y_test:\",y_test.shape)"
   ]
  },
  {
   "cell_type": "code",
   "execution_count": 10,
   "metadata": {},
   "outputs": [],
   "source": [
    "# Create functions for custom 'MergeEmedding'-layer which averages \n",
    "# the embeddings over all words after the embedding layer \n",
    "def merge_embeddings(x):\n",
    "    # Sum the embeddings for every word slot. If this is zero, there is no word in this slot\n",
    "    non_zero = K.sum(K.cast(K.not_equal(K.sum(x,axis=2),0),tf.float32))\n",
    "    return K.sum(x,axis=1) / non_zero\n",
    "\n",
    "def merge_output_shape(input_shape):\n",
    "    return (input_shape[0], input_shape[2])\n",
    "\n",
    "def create_nn(n_nodes, dropout_rate, lr=0.001):\n",
    "    # n_nodes is a list with the number of nodes per layer, starting from the input \n",
    "    model = Sequential()\n",
    "    model.add(Lambda(merge_embeddings, merge_output_shape, input_shape=x_train.shape[1:]))\n",
    "    for n in n_nodes:\n",
    "        model.add(Dense(n,activation='relu'))\n",
    "        model.add(Dropout(dropout_rate))\n",
    "    model.add(Dense(nbr_classes, activation='softmax'))\n",
    "    rms = optimizers.RMSprop(learning_rate=lr)\n",
    "    model.compile(optimizer=rms, loss='sparse_categorical_crossentropy', metrics=['acc'])\n",
    "    return model\n",
    "\n",
    "def train_and_format(x,y,bs,epochs, results, layers, nodes,lr,verbose):\n",
    "    name = f\"{bs}_{layers}_{nodes}\"\n",
    "    temp_history = model.fit(x, y, batch_size=bs, validation_split=0.2, epochs = epochs,verbose=verbose)\n",
    "    return results.append(pd.Series([np.mean(temp_history.history['val_acc'][-5:]),\n",
    "                                     temp_history,model,\n",
    "                                     layers,nodes,\n",
    "                                     bs, lr],name=name,\n",
    "                                    index=['Mean Val Acc','History','Model','Layers','Nodes','Batch Size','Learning Rate']))\n"
   ]
  },
  {
   "cell_type": "code",
   "execution_count": 53,
   "metadata": {},
   "outputs": [
    {
     "name": "stdout",
     "output_type": "stream",
     "text": [
      "Testing 1 combinations. \n",
      "Train on 1853 samples, validate on 464 samples\n",
      "Epoch 1/40\n",
      "1853/1853 [==============================] - 2s 1ms/sample - loss: 1.5806 - acc: 0.2671 - val_loss: 1.5470 - val_acc: 0.3211\n",
      "Epoch 2/40\n",
      "1853/1853 [==============================] - 1s 516us/sample - loss: 1.5289 - acc: 0.3011 - val_loss: 1.5028 - val_acc: 0.3190\n",
      "Epoch 3/40\n",
      "1853/1853 [==============================] - 1s 521us/sample - loss: 1.4856 - acc: 0.3281 - val_loss: 1.4773 - val_acc: 0.3341\n",
      "Epoch 4/40\n",
      "1853/1853 [==============================] - 1s 545us/sample - loss: 1.4703 - acc: 0.3351 - val_loss: 1.4326 - val_acc: 0.3578\n",
      "Epoch 5/40\n",
      "1853/1853 [==============================] - 1s 683us/sample - loss: 1.4535 - acc: 0.3578 - val_loss: 1.4244 - val_acc: 0.3599\n",
      "Epoch 6/40\n",
      "1853/1853 [==============================] - 1s 743us/sample - loss: 1.4389 - acc: 0.3573 - val_loss: 1.4517 - val_acc: 0.3448\n",
      "Epoch 7/40\n",
      "1853/1853 [==============================] - 1s 613us/sample - loss: 1.4442 - acc: 0.3551 - val_loss: 1.4139 - val_acc: 0.3556\n",
      "Epoch 8/40\n",
      "1853/1853 [==============================] - 1s 553us/sample - loss: 1.4258 - acc: 0.3632 - val_loss: 1.4099 - val_acc: 0.3707\n",
      "Epoch 9/40\n",
      "1853/1853 [==============================] - 2s 817us/sample - loss: 1.4290 - acc: 0.3772 - val_loss: 1.4085 - val_acc: 0.3728\n",
      "Epoch 10/40\n",
      "1853/1853 [==============================] - 1s 546us/sample - loss: 1.4216 - acc: 0.3799 - val_loss: 1.3957 - val_acc: 0.3664\n",
      "Epoch 11/40\n",
      "1853/1853 [==============================] - 1s 528us/sample - loss: 1.4298 - acc: 0.3605 - val_loss: 1.4078 - val_acc: 0.3556\n",
      "Epoch 12/40\n",
      "1853/1853 [==============================] - 1s 519us/sample - loss: 1.4279 - acc: 0.3594 - val_loss: 1.4366 - val_acc: 0.3534\n",
      "Epoch 13/40\n",
      "1853/1853 [==============================] - 1s 582us/sample - loss: 1.4122 - acc: 0.3697 - val_loss: 1.4022 - val_acc: 0.3772\n",
      "Epoch 14/40\n",
      "1853/1853 [==============================] - 1s 572us/sample - loss: 1.4013 - acc: 0.3880 - val_loss: 1.3998 - val_acc: 0.3685\n",
      "Epoch 15/40\n",
      "1853/1853 [==============================] - 1s 532us/sample - loss: 1.3991 - acc: 0.3670 - val_loss: 1.4262 - val_acc: 0.3470\n",
      "Epoch 16/40\n",
      "1853/1853 [==============================] - 1s 525us/sample - loss: 1.4029 - acc: 0.3632 - val_loss: 1.3897 - val_acc: 0.3815\n",
      "Epoch 17/40\n",
      "1853/1853 [==============================] - 1s 511us/sample - loss: 1.3963 - acc: 0.3751 - val_loss: 1.4319 - val_acc: 0.3233\n",
      "Epoch 18/40\n",
      "1853/1853 [==============================] - 1s 532us/sample - loss: 1.3906 - acc: 0.3842 - val_loss: 1.3904 - val_acc: 0.3707\n",
      "Epoch 19/40\n",
      "1853/1853 [==============================] - 1s 676us/sample - loss: 1.3976 - acc: 0.3778 - val_loss: 1.4047 - val_acc: 0.3513\n",
      "Epoch 20/40\n",
      "1853/1853 [==============================] - 1s 595us/sample - loss: 1.3923 - acc: 0.3708 - val_loss: 1.4373 - val_acc: 0.3276\n",
      "Epoch 21/40\n",
      "1853/1853 [==============================] - 1s 691us/sample - loss: 1.3934 - acc: 0.3761 - val_loss: 1.4516 - val_acc: 0.3405\n",
      "Epoch 22/40\n",
      "1853/1853 [==============================] - 1s 658us/sample - loss: 1.3888 - acc: 0.3772 - val_loss: 1.4237 - val_acc: 0.3448\n",
      "Epoch 23/40\n",
      "1853/1853 [==============================] - 1s 551us/sample - loss: 1.3855 - acc: 0.3778 - val_loss: 1.4089 - val_acc: 0.3513\n",
      "Epoch 24/40\n",
      "1853/1853 [==============================] - 1s 548us/sample - loss: 1.3818 - acc: 0.3767 - val_loss: 1.4292 - val_acc: 0.3427\n",
      "Epoch 25/40\n",
      "1853/1853 [==============================] - 1s 503us/sample - loss: 1.3841 - acc: 0.3821 - val_loss: 1.4303 - val_acc: 0.3297\n",
      "Epoch 26/40\n",
      "1853/1853 [==============================] - 1s 524us/sample - loss: 1.3811 - acc: 0.3945 - val_loss: 1.4320 - val_acc: 0.3297\n",
      "Epoch 27/40\n",
      "1853/1853 [==============================] - 1s 573us/sample - loss: 1.3775 - acc: 0.3767 - val_loss: 1.3963 - val_acc: 0.3642\n",
      "Epoch 28/40\n",
      "1853/1853 [==============================] - 1s 568us/sample - loss: 1.3730 - acc: 0.3788 - val_loss: 1.4228 - val_acc: 0.3513\n",
      "Epoch 29/40\n",
      "1853/1853 [==============================] - 1s 562us/sample - loss: 1.3673 - acc: 0.3837 - val_loss: 1.4033 - val_acc: 0.3491\n",
      "Epoch 30/40\n",
      "1853/1853 [==============================] - 1s 532us/sample - loss: 1.3762 - acc: 0.3869 - val_loss: 1.3943 - val_acc: 0.3599\n",
      "Epoch 31/40\n",
      "1853/1853 [==============================] - 1s 565us/sample - loss: 1.3649 - acc: 0.3772 - val_loss: 1.4015 - val_acc: 0.3556\n",
      "Epoch 32/40\n",
      "1853/1853 [==============================] - 1s 637us/sample - loss: 1.3668 - acc: 0.3864 - val_loss: 1.4606 - val_acc: 0.3384\n",
      "Epoch 33/40\n",
      "1853/1853 [==============================] - 1s 520us/sample - loss: 1.3698 - acc: 0.3907 - val_loss: 1.4602 - val_acc: 0.3470\n",
      "Epoch 34/40\n",
      "1853/1853 [==============================] - 1s 514us/sample - loss: 1.3674 - acc: 0.3788 - val_loss: 1.4244 - val_acc: 0.3405\n",
      "Epoch 35/40\n",
      "1853/1853 [==============================] - 1s 534us/sample - loss: 1.3566 - acc: 0.3864 - val_loss: 1.4085 - val_acc: 0.3599\n",
      "Epoch 36/40\n",
      "1853/1853 [==============================] - 1s 560us/sample - loss: 1.3616 - acc: 0.3859 - val_loss: 1.4350 - val_acc: 0.3297\n",
      "Epoch 37/40\n",
      "1853/1853 [==============================] - 1s 661us/sample - loss: 1.3514 - acc: 0.3918 - val_loss: 1.4890 - val_acc: 0.3254\n",
      "Epoch 38/40\n",
      "1853/1853 [==============================] - 1s 577us/sample - loss: 1.3587 - acc: 0.3907 - val_loss: 1.4449 - val_acc: 0.3297\n",
      "Epoch 39/40\n",
      "1853/1853 [==============================] - 1s 529us/sample - loss: 1.3474 - acc: 0.4080 - val_loss: 1.4657 - val_acc: 0.3276\n",
      "Epoch 40/40\n",
      "1853/1853 [==============================] - 1s 536us/sample - loss: 1.3525 - acc: 0.3999 - val_loss: 1.4733 - val_acc: 0.3168\n",
      "100.0 %     \r"
     ]
    }
   ],
   "source": [
    "n_layers = [3]\n",
    "n_nodes = [200]\n",
    "dropout_rates = [0.3]\n",
    "learning_rates = [0.001]\n",
    "batch_sizes = [32]\n",
    "verbose = 1\n",
    "epochs = 40\n",
    "results = pd.DataFrame(columns=['Mean Val Acc','History','Model', 'Layers', 'Nodes','Batch Size','Learning Rate'])\n",
    "n_configs = sum([len(n_nodes)**l for l in n_layers]) * len(batch_sizes) * len(learning_rates) * len(dropout_rates)\n",
    "ctr = 0\n",
    "print('Testing {} combinations. '.format(n_configs))\n",
    "for layers in n_layers:\n",
    "    if layers == 1: node_configs = list(itertools.product(n_nodes))\n",
    "    elif layers == 2: node_configs = list(itertools.product(n_nodes, n_nodes))\n",
    "    elif layers == 3: node_configs = list(itertools.product(n_nodes, n_nodes, n_nodes))\n",
    "    elif layers == 4: node_configs = list(itertools.product(n_nodes, n_nodes, n_nodes, n_nodes))\n",
    "    for bs in batch_sizes: \n",
    "        for temp_nodes in node_configs:\n",
    "            for lr in learning_rates: \n",
    "                for rate in dropout_rates:\n",
    "                    ctr += 1 \n",
    "                    model = create_nn(temp_nodes, rate, lr)\n",
    "                    results = train_and_format(x_train, y_train, bs, epochs, results, layers, temp_nodes, lr,verbose=verbose)\n",
    "                    print(\"{} %     \".format(round(100 * ctr / n_configs,2)),end='\\r')\n",
    "\n"
   ]
  },
  {
   "cell_type": "code",
   "execution_count": 54,
   "metadata": {},
   "outputs": [
    {
     "name": "stdout",
     "output_type": "stream",
     "text": [
      "Top 1 configs: \n"
     ]
    },
    {
     "data": {
      "text/html": [
       "<div>\n",
       "<style scoped>\n",
       "    .dataframe tbody tr th:only-of-type {\n",
       "        vertical-align: middle;\n",
       "    }\n",
       "\n",
       "    .dataframe tbody tr th {\n",
       "        vertical-align: top;\n",
       "    }\n",
       "\n",
       "    .dataframe thead th {\n",
       "        text-align: right;\n",
       "    }\n",
       "</style>\n",
       "<table border=\"1\" class=\"dataframe\">\n",
       "  <thead>\n",
       "    <tr style=\"text-align: right;\">\n",
       "      <th></th>\n",
       "      <th>Mean Val Acc</th>\n",
       "      <th>History</th>\n",
       "      <th>Model</th>\n",
       "      <th>Layers</th>\n",
       "      <th>Nodes</th>\n",
       "      <th>Batch Size</th>\n",
       "      <th>Learning Rate</th>\n",
       "    </tr>\n",
       "  </thead>\n",
       "  <tbody>\n",
       "    <tr>\n",
       "      <th>32_3_(200, 200, 200)</th>\n",
       "      <td>0.325862</td>\n",
       "      <td>&lt;tensorflow.python.keras.callbacks.History obj...</td>\n",
       "      <td>&lt;tensorflow.python.keras.engine.sequential.Seq...</td>\n",
       "      <td>3</td>\n",
       "      <td>(200, 200, 200)</td>\n",
       "      <td>32</td>\n",
       "      <td>0.001</td>\n",
       "    </tr>\n",
       "  </tbody>\n",
       "</table>\n",
       "</div>"
      ],
      "text/plain": [
       "                      Mean Val Acc  \\\n",
       "32_3_(200, 200, 200)      0.325862   \n",
       "\n",
       "                                                                History  \\\n",
       "32_3_(200, 200, 200)  <tensorflow.python.keras.callbacks.History obj...   \n",
       "\n",
       "                                                                  Model  \\\n",
       "32_3_(200, 200, 200)  <tensorflow.python.keras.engine.sequential.Seq...   \n",
       "\n",
       "                     Layers            Nodes Batch Size  Learning Rate  \n",
       "32_3_(200, 200, 200)      3  (200, 200, 200)         32          0.001  "
      ]
     },
     "execution_count": 54,
     "metadata": {},
     "output_type": "execute_result"
    }
   ],
   "source": [
    "k = 1\n",
    "print(\"Top {} configs: \".format(k))\n",
    "k_best = np.argpartition(results['Mean Val Acc'],-k)[-k:]\n",
    "results.iloc[k_best]"
   ]
  },
  {
   "cell_type": "code",
   "execution_count": 55,
   "metadata": {
    "scrolled": false
   },
   "outputs": [
    {
     "name": "stdout",
     "output_type": "stream",
     "text": [
      "Nodes: (200, 200, 200), Mean validation accuracy: 0.3258620798587799\n"
     ]
    },
    {
     "data": {
      "image/png": "[encoded data removed]",
      "text/plain": [
       "<Figure size 432x288 with 2 Axes>"
      ]
     },
     "metadata": {
      "needs_background": "light"
     },
     "output_type": "display_data"
    },
    {
     "data": {
      "image/png": "[encoded data removed]",
      "text/plain": [
       "<Figure size 432x288 with 3 Axes>"
      ]
     },
     "metadata": {
      "needs_background": "light"
     },
     "output_type": "display_data"
    },
    {
     "name": "stdout",
     "output_type": "stream",
     "text": [
      "              precision    recall  f1-score   support\n",
      "\n",
      "         0.0       0.28      0.26      0.27        50\n",
      "         1.0       0.31      0.43      0.36        67\n",
      "         2.0       0.36      0.64      0.46        66\n",
      "         3.0       0.00      0.00      0.00        30\n",
      "         4.0       0.00      0.00      0.00        45\n",
      "\n",
      "    accuracy                           0.33       258\n",
      "   macro avg       0.19      0.27      0.22       258\n",
      "weighted avg       0.23      0.33      0.26       258\n",
      "\n"
     ]
    }
   ],
   "source": [
    "for i in k_best: \n",
    "    print(f\"Nodes: {results.iloc[i]['Nodes']}, Mean validation accuracy: {results.iloc[i]['Mean Val Acc']}\")\n",
    "    plt.subplot(121)\n",
    "    plt.plot(results.iloc[i]['History'].history['val_loss'],label='Val loss')\n",
    "    plt.plot(results.iloc[i]['History'].history['loss'],label='Training loss')\n",
    "    plt.legend()\n",
    "    plt.subplot(122)\n",
    "    plt.plot(results.iloc[i]['History'].history['val_acc'],label='Val acc')\n",
    "    plt.plot(results.iloc[i]['History'].history['acc'],label='Training acc')\n",
    "    plt.legend()\n",
    "    plt.show()\n",
    "    results.iloc[i]['Model'].evaluate(x_test,y_test,verbose=0)\n",
    "    # Calculate the predictions on the test set \n",
    "    y_test_pred_prob = model.predict(x_test)\n",
    "    y_test_pred = np.zeros(len(y_test))\n",
    "    for i,row in enumerate(y_test_pred_prob): \n",
    "        y_test_pred[i] = np.argmax(row)\n",
    "    conf_mat = confusion_matrix(y_test,y_test_pred,normalize='pred')\n",
    "    plt.subplot(121)\n",
    "    ax = sn.heatmap(conf_mat)\n",
    "    ax.set_ylabel(\"True values\")\n",
    "    ax.set_xlabel(\"Predicted values\")\n",
    "    Utilities.plot_multi_predictions(y_test_pred, nbr_classes,subplot=122,show=True)\n",
    "    print(classification_report(y_test,y_test_pred))\n"
   ]
  },
  {
   "cell_type": "code",
   "execution_count": 59,
   "metadata": {},
   "outputs": [
    {
     "data": {
      "text/plain": [
       "<tensorflow.python.keras.engine.sequential.Sequential at 0x1f50b2b5b88>"
      ]
     },
     "execution_count": 59,
     "metadata": {},
     "output_type": "execute_result"
    }
   ],
   "source": [
    "results.iloc[0]['Model'].fit(x_train, y_train, batch_size=32, validation_split=0.2, epochs=10)"
   ]
  },
  {
   "cell_type": "code",
   "execution_count": 61,
   "metadata": {},
   "outputs": [],
   "source": [
    "prev_his = results.iloc[0]['History']"
   ]
  },
  {
   "cell_type": "code",
   "execution_count": null,
   "metadata": {},
   "outputs": [],
   "source": []
  },
  {
   "cell_type": "code",
   "execution_count": null,
   "metadata": {},
   "outputs": [],
   "source": []
  },
  {
   "cell_type": "code",
   "execution_count": null,
   "metadata": {},
   "outputs": [],
   "source": []
  },
  {
   "cell_type": "code",
   "execution_count": 112,
   "metadata": {
    "scrolled": true
   },
   "outputs": [
    {
     "name": "stdout",
     "output_type": "stream",
     "text": [
      "Train on 1853 samples, validate on 464 samples\n",
      "Epoch 1/50\n",
      "1853/1853 [==============================] - 1s 418us/sample - loss: 1.3484 - acc: 0.4047 - val_loss: 1.4196 - val_acc: 0.3448\n",
      "Epoch 2/50\n",
      "1853/1853 [==============================] - 1s 428us/sample - loss: 1.3467 - acc: 0.4112 - val_loss: 1.4204 - val_acc: 0.3362\n",
      "Epoch 3/50\n",
      "1853/1853 [==============================] - 1s 464us/sample - loss: 1.3425 - acc: 0.4080 - val_loss: 1.4308 - val_acc: 0.3319\n",
      "Epoch 4/50\n",
      "1853/1853 [==============================] - 1s 447us/sample - loss: 1.3442 - acc: 0.4096 - val_loss: 1.4232 - val_acc: 0.3341\n",
      "Epoch 5/50\n",
      "1853/1853 [==============================] - 1s 430us/sample - loss: 1.3392 - acc: 0.4123 - val_loss: 1.4300 - val_acc: 0.3319\n",
      "Epoch 6/50\n",
      "1853/1853 [==============================] - 1s 418us/sample - loss: 1.3410 - acc: 0.4074 - val_loss: 1.4232 - val_acc: 0.3384\n",
      "Epoch 7/50\n",
      "1853/1853 [==============================] - 1s 449us/sample - loss: 1.3368 - acc: 0.4074 - val_loss: 1.4226 - val_acc: 0.3319\n",
      "Epoch 8/50\n",
      "1853/1853 [==============================] - 1s 485us/sample - loss: 1.3384 - acc: 0.4242 - val_loss: 1.4269 - val_acc: 0.3276\n",
      "Epoch 9/50\n",
      "1853/1853 [==============================] - 1s 474us/sample - loss: 1.3433 - acc: 0.4096 - val_loss: 1.4260 - val_acc: 0.3319\n",
      "Epoch 10/50\n",
      "1853/1853 [==============================] - 1s 507us/sample - loss: 1.3360 - acc: 0.4161 - val_loss: 1.4250 - val_acc: 0.3384\n",
      "Epoch 11/50\n",
      "1853/1853 [==============================] - 1s 464us/sample - loss: 1.3416 - acc: 0.4172 - val_loss: 1.4243 - val_acc: 0.3341\n",
      "Epoch 12/50\n",
      "1853/1853 [==============================] - 1s 442us/sample - loss: 1.3326 - acc: 0.4091 - val_loss: 1.4310 - val_acc: 0.3427\n",
      "Epoch 13/50\n",
      "1853/1853 [==============================] - 1s 477us/sample - loss: 1.3325 - acc: 0.3972 - val_loss: 1.4340 - val_acc: 0.3276\n",
      "Epoch 14/50\n",
      "1853/1853 [==============================] - 1s 477us/sample - loss: 1.3311 - acc: 0.4182 - val_loss: 1.4414 - val_acc: 0.3297\n",
      "Epoch 15/50\n",
      "1853/1853 [==============================] - 1s 494us/sample - loss: 1.3390 - acc: 0.4123 - val_loss: 1.4314 - val_acc: 0.3513\n",
      "Epoch 16/50\n",
      "1853/1853 [==============================] - 1s 569us/sample - loss: 1.3322 - acc: 0.4231 - val_loss: 1.4304 - val_acc: 0.3362\n",
      "Epoch 17/50\n",
      "1853/1853 [==============================] - 1s 536us/sample - loss: 1.3307 - acc: 0.4172 - val_loss: 1.4372 - val_acc: 0.3384\n",
      "Epoch 18/50\n",
      "1853/1853 [==============================] - 1s 541us/sample - loss: 1.3347 - acc: 0.4209 - val_loss: 1.4273 - val_acc: 0.3254\n",
      "Epoch 19/50\n",
      "1853/1853 [==============================] - 1s 490us/sample - loss: 1.3371 - acc: 0.4226 - val_loss: 1.4442 - val_acc: 0.3319\n",
      "Epoch 20/50\n",
      "1853/1853 [==============================] - 1s 487us/sample - loss: 1.3347 - acc: 0.4285 - val_loss: 1.4404 - val_acc: 0.3168\n",
      "Epoch 21/50\n",
      "1853/1853 [==============================] - 1s 497us/sample - loss: 1.3257 - acc: 0.4199 - val_loss: 1.4307 - val_acc: 0.3448\n",
      "Epoch 22/50\n",
      "1853/1853 [==============================] - 1s 507us/sample - loss: 1.3267 - acc: 0.4226 - val_loss: 1.4334 - val_acc: 0.3341\n",
      "Epoch 23/50\n",
      "1853/1853 [==============================] - 1s 523us/sample - loss: 1.3176 - acc: 0.4285 - val_loss: 1.4277 - val_acc: 0.3276\n",
      "Epoch 24/50\n",
      "1853/1853 [==============================] - 1s 502us/sample - loss: 1.3249 - acc: 0.4193 - val_loss: 1.4269 - val_acc: 0.3384\n",
      "Epoch 25/50\n",
      "1853/1853 [==============================] - 1s 494us/sample - loss: 1.3216 - acc: 0.4209 - val_loss: 1.4284 - val_acc: 0.3233\n",
      "Epoch 26/50\n",
      "1853/1853 [==============================] - 1s 506us/sample - loss: 1.3271 - acc: 0.4150 - val_loss: 1.4354 - val_acc: 0.3341\n",
      "Epoch 27/50\n",
      "1853/1853 [==============================] - 1s 514us/sample - loss: 1.3345 - acc: 0.4155 - val_loss: 1.4358 - val_acc: 0.3319\n",
      "Epoch 28/50\n",
      "1853/1853 [==============================] - 1s 497us/sample - loss: 1.3197 - acc: 0.4274 - val_loss: 1.4332 - val_acc: 0.3405\n",
      "Epoch 29/50\n",
      "1853/1853 [==============================] - 1s 515us/sample - loss: 1.3230 - acc: 0.4172 - val_loss: 1.4266 - val_acc: 0.3319\n",
      "Epoch 30/50\n",
      "1853/1853 [==============================] - 1s 518us/sample - loss: 1.3177 - acc: 0.4204 - val_loss: 1.4366 - val_acc: 0.3427\n",
      "Epoch 31/50\n",
      "1853/1853 [==============================] - 1s 616us/sample - loss: 1.3172 - acc: 0.4253 - val_loss: 1.4347 - val_acc: 0.3384\n",
      "Epoch 32/50\n",
      "1853/1853 [==============================] - 1s 563us/sample - loss: 1.3234 - acc: 0.4350 - val_loss: 1.4314 - val_acc: 0.3319\n",
      "Epoch 33/50\n",
      "1853/1853 [==============================] - 1s 590us/sample - loss: 1.3156 - acc: 0.4328 - val_loss: 1.4414 - val_acc: 0.3405\n",
      "Epoch 34/50\n",
      "1853/1853 [==============================] - 1s 577us/sample - loss: 1.3255 - acc: 0.4096 - val_loss: 1.4444 - val_acc: 0.3254\n",
      "Epoch 35/50\n",
      "1853/1853 [==============================] - 1s 593us/sample - loss: 1.3151 - acc: 0.4172 - val_loss: 1.4418 - val_acc: 0.3211\n",
      "Epoch 36/50\n",
      "1853/1853 [==============================] - 1s 529us/sample - loss: 1.3107 - acc: 0.4312 - val_loss: 1.4508 - val_acc: 0.3233\n",
      "Epoch 37/50\n",
      "1853/1853 [==============================] - 1s 529us/sample - loss: 1.3203 - acc: 0.4236 - val_loss: 1.4322 - val_acc: 0.3211\n",
      "Epoch 38/50\n",
      "1853/1853 [==============================] - 1s 567us/sample - loss: 1.3197 - acc: 0.4220 - val_loss: 1.4360 - val_acc: 0.3297\n",
      "Epoch 39/50\n",
      "1853/1853 [==============================] - 1s 524us/sample - loss: 1.3103 - acc: 0.4404 - val_loss: 1.4357 - val_acc: 0.3319\n",
      "Epoch 40/50\n",
      "1853/1853 [==============================] - 1s 529us/sample - loss: 1.3055 - acc: 0.4339 - val_loss: 1.4487 - val_acc: 0.3405\n",
      "Epoch 41/50\n",
      "1853/1853 [==============================] - 1s 550us/sample - loss: 1.3129 - acc: 0.4188 - val_loss: 1.4517 - val_acc: 0.3297\n",
      "Epoch 42/50\n",
      "1853/1853 [==============================] - 1s 550us/sample - loss: 1.3075 - acc: 0.4334 - val_loss: 1.4371 - val_acc: 0.3341\n",
      "Epoch 43/50\n",
      "1853/1853 [==============================] - 1s 583us/sample - loss: 1.3157 - acc: 0.4145 - val_loss: 1.4336 - val_acc: 0.3470\n",
      "Epoch 44/50\n",
      "1853/1853 [==============================] - 1s 545us/sample - loss: 1.3077 - acc: 0.4290 - val_loss: 1.4430 - val_acc: 0.3405\n",
      "Epoch 45/50\n",
      "1853/1853 [==============================] - 1s 545us/sample - loss: 1.3085 - acc: 0.4307 - val_loss: 1.4371 - val_acc: 0.3362\n",
      "Epoch 46/50\n",
      "1853/1853 [==============================] - 1s 545us/sample - loss: 1.2927 - acc: 0.4468 - val_loss: 1.4457 - val_acc: 0.3297\n",
      "Epoch 47/50\n",
      "1853/1853 [==============================] - 1s 534us/sample - loss: 1.3127 - acc: 0.4220 - val_loss: 1.4352 - val_acc: 0.3341\n",
      "Epoch 48/50\n",
      "1853/1853 [==============================] - 1s 540us/sample - loss: 1.3063 - acc: 0.4334 - val_loss: 1.4384 - val_acc: 0.3276\n",
      "Epoch 49/50\n",
      "1853/1853 [==============================] - 1s 534us/sample - loss: 1.3027 - acc: 0.4334 - val_loss: 1.4393 - val_acc: 0.3103\n",
      "Epoch 50/50\n",
      "1853/1853 [==============================] - 1s 540us/sample - loss: 1.2971 - acc: 0.4290 - val_loss: 1.4530 - val_acc: 0.3319\n"
     ]
    },
    {
     "data": {
      "text/plain": [
       "[None,\n",
       " None,\n",
       " None,\n",
       " None,\n",
       " None,\n",
       " None,\n",
       " None,\n",
       " None,\n",
       " None,\n",
       " None,\n",
       " None,\n",
       " None,\n",
       " None,\n",
       " None,\n",
       " None,\n",
       " None,\n",
       " None,\n",
       " None,\n",
       " None,\n",
       " None,\n",
       " None,\n",
       " None,\n",
       " None,\n",
       " None,\n",
       " None,\n",
       " None,\n",
       " None,\n",
       " None,\n",
       " None,\n",
       " None,\n",
       " None,\n",
       " None,\n",
       " None,\n",
       " None,\n",
       " None,\n",
       " None,\n",
       " None,\n",
       " None,\n",
       " None,\n",
       " None,\n",
       " None,\n",
       " None,\n",
       " None,\n",
       " None,\n",
       " None,\n",
       " None,\n",
       " None,\n",
       " None,\n",
       " None,\n",
       " None]"
      ]
     },
     "execution_count": 112,
     "metadata": {},
     "output_type": "execute_result"
    }
   ],
   "source": [
    "# Continue training the best model.\n",
    "epochs = 50\n",
    "best_index = np.argmax(results['Mean Val Acc'])\n",
    "bs = results.iloc[best_index]['Batch Size']\n",
    "best_model = results.iloc[best_index]['Model']\n",
    "best_history = results.iloc[best_index]['History']\n",
    "temp_history = best_model.fit(x_train, y_train, epochs=epochs, batch_size=bs, validation_split=0.2)\n",
    "[best_history.history['loss'].append(val) for val in temp_history.history['loss']]\n",
    "[best_history.history['acc'].append(val) for val in temp_history.history['acc']]\n",
    "[best_history.history['val_loss'].append(val) for val in temp_history.history['val_loss']]\n",
    "[best_history.history['val_acc'].append(val) for val in temp_history.history['val_acc']]\n"
   ]
  },
  {
   "cell_type": "code",
   "execution_count": 113,
   "metadata": {},
   "outputs": [
    {
     "name": "stdout",
     "output_type": "stream",
     "text": [
      "144\n",
      "144\n",
      "144\n",
      "144\n"
     ]
    }
   ],
   "source": [
    "print(len(best_history.history['acc']))\n",
    "print(len(best_history.history['val_acc']))\n",
    "print(len(best_history.history['loss']))\n",
    "print(len(best_history.history['val_loss']))"
   ]
  },
  {
   "cell_type": "code",
   "execution_count": null,
   "metadata": {},
   "outputs": [],
   "source": []
  },
  {
   "cell_type": "code",
   "execution_count": 114,
   "metadata": {},
   "outputs": [
    {
     "data": {
      "image/png": "[encoded data removed]",
      "text/plain": [
       "<Figure size 432x288 with 2 Axes>"
      ]
     },
     "metadata": {
      "needs_background": "light"
     },
     "output_type": "display_data"
    },
    {
     "data": {
      "image/png": "[encoded data removed]",
      "text/plain": [
       "<Figure size 432x288 with 3 Axes>"
      ]
     },
     "metadata": {
      "needs_background": "light"
     },
     "output_type": "display_data"
    },
    {
     "name": "stdout",
     "output_type": "stream",
     "text": [
      "              precision    recall  f1-score   support\n",
      "\n",
      "         0.0       0.31      0.22      0.26        68\n",
      "         1.0       0.28      0.59      0.38        58\n",
      "         2.0       0.43      0.47      0.45        62\n",
      "         3.0       0.00      0.00      0.00        35\n",
      "         4.0       0.41      0.26      0.32        35\n",
      "\n",
      "    accuracy                           0.34       258\n",
      "   macro avg       0.29      0.31      0.28       258\n",
      "weighted avg       0.30      0.34      0.30       258\n",
      "\n"
     ]
    }
   ],
   "source": [
    "plt.subplot(121)\n",
    "plt.plot(best_history.history['val_loss'],label='Val loss')\n",
    "plt.plot(best_history.history['loss'],label='Training loss')\n",
    "plt.legend()\n",
    "plt.subplot(122)\n",
    "plt.plot(best_history.history['val_acc'],label='Val acc')\n",
    "plt.plot(best_history.history['acc'],label='Training acc')\n",
    "plt.legend()\n",
    "plt.show()\n",
    "best_model.evaluate(x_test,y_test,verbose=0)\n",
    "# Calculate the predictions on the test set \n",
    "y_test_pred_prob = best_model.predict(x_test)\n",
    "y_test_pred = np.zeros(len(y_test))\n",
    "for i,row in enumerate(y_test_pred_prob): \n",
    "    y_test_pred[i] = np.argmax(row)\n",
    "    \n",
    "conf_mat = confusion_matrix(y_test,y_test_pred,normalize='pred')\n",
    "plt.subplot(121)\n",
    "ax = sn.heatmap(conf_mat)\n",
    "ax.set_ylabel(\"True values\")\n",
    "ax.set_xlabel(\"Predicted values\")\n",
    "Utilities.plot_multi_predictions(y_test_pred, nbr_classes,subplot=122,show=True)\n",
    "print(classification_report(y_test,y_test_pred))\n"
   ]
  },
  {
   "cell_type": "code",
   "execution_count": 226,
   "metadata": {},
   "outputs": [],
   "source": [
    "test_sents = [\n",
    "    \"Blablablab\"\n",
    "]\n",
    "enc_sents = sbert_model.encode(test_sents)\n",
    "x_inp = np.zeros((1, config['max_len'], config['embed_dim'])) \n",
    "for i,row in enumerate(enc_sents):\n",
    "    x_inp[0,i] = row\n"
   ]
  },
  {
   "cell_type": "code",
   "execution_count": 227,
   "metadata": {},
   "outputs": [],
   "source": [
    "y_pred = model.predict(x_inp)"
   ]
  },
  {
   "cell_type": "code",
   "execution_count": 228,
   "metadata": {},
   "outputs": [
    {
     "data": {
      "text/plain": [
       "array([[-0.00031726]], dtype=float32)"
      ]
     },
     "execution_count": 228,
     "metadata": {},
     "output_type": "execute_result"
    }
   ],
   "source": [
    "y_pred"
   ]
  },
  {
   "cell_type": "code",
   "execution_count": 162,
   "metadata": {},
   "outputs": [
    {
     "data": {
      "text/plain": [
       "array([[[ 0.05641313,  0.43250403,  1.2209636 , ..., -0.08560896,\n",
       "          0.06196363, -0.46169922],\n",
       "        [ 0.20730712,  0.60533875, -0.13538317, ..., -0.50943702,\n",
       "          0.40553239, -0.00730546],\n",
       "        [-0.35821676,  0.95740557,  0.50074011, ..., -1.16877079,\n",
       "          0.9151963 ,  0.11431099],\n",
       "        ...,\n",
       "        [ 0.        ,  0.        ,  0.        , ...,  0.        ,\n",
       "          0.        ,  0.        ],\n",
       "        [ 0.        ,  0.        ,  0.        , ...,  0.        ,\n",
       "          0.        ,  0.        ],\n",
       "        [ 0.        ,  0.        ,  0.        , ...,  0.        ,\n",
       "          0.        ,  0.        ]]])"
      ]
     },
     "execution_count": 162,
     "metadata": {},
     "output_type": "execute_result"
    }
   ],
   "source": []
  },
  {
   "cell_type": "code",
   "execution_count": null,
   "metadata": {},
   "outputs": [],
   "source": []
  }
 ],
 "metadata": {
  "kernelspec": {
   "display_name": "Python 3",
   "language": "python",
   "name": "python3"
  },
  "language_info": {
   "codemirror_mode": {
    "name": "ipython",
    "version": 3
   },
   "file_extension": ".py",
   "mimetype": "text/x-python",
   "name": "python",
   "nbconvert_exporter": "python",
   "pygments_lexer": "ipython3",
   "version": "3.7.6"
  }
 },
 "nbformat": 4,
 "nbformat_minor": 4
}
