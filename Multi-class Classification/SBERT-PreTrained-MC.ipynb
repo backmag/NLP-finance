{
 "cells": [
  {
   "cell_type": "code",
   "execution_count": 1,
   "metadata": {},
   "outputs": [],
   "source": [
    "from sentence_transformers import SentenceTransformer\n",
    "import tensorflow as tf\n",
    "from tensorflow.keras import backend as K\n",
    "from tensorflow.keras.layers import Dense, Dropout, Embedding, Masking, Lambda, Layer\n",
    "from tensorflow.keras.models import Sequential\n",
    "from tensorflow.keras import optimizers\n",
    "from sklearn.metrics import confusion_matrix, classification_report\n",
    "import pandas as pd\n",
    "import numpy as np\n",
    "import seaborn as sn\n",
    "import matplotlib.pyplot as plt\n",
    "from pathlib import Path\n",
    "import os\n",
    "import itertools\n",
    "from importnb import Notebook, reload\n",
    "with Notebook(): \n",
    "    import Utilities"
   ]
  },
  {
   "cell_type": "code",
   "execution_count": 2,
   "metadata": {},
   "outputs": [],
   "source": [
    "sbert_model = SentenceTransformer('bert-base-nli-mean-tokens')"
   ]
  },
  {
   "cell_type": "code",
   "execution_count": 3,
   "metadata": {},
   "outputs": [],
   "source": [
    "# Load data \n",
    "news_path = Path(\"../Datasets/data/financial_headlines_20061020-20131119.pkl\")\n",
    "data = pd.DataFrame(pd.read_pickle(news_path))\n",
    "data.set_index('date',inplace=True)\n"
   ]
  },
  {
   "cell_type": "code",
   "execution_count": 4,
   "metadata": {},
   "outputs": [
    {
     "name": "stdout",
     "output_type": "stream",
     "text": [
      "Loaded previously calculated embeddings.\n"
     ]
    }
   ],
   "source": [
    "n = len(data.index.drop_duplicates())\n",
    "\n",
    "path = Path(\"../Input Data/all_reuters_news_embedded_bert_base_nli_mean.npy\")\n",
    "if os.path.exists(path):\n",
    "    x = np.load(path)\n",
    "    embed_dim = x.shape[-1]\n",
    "    max_nbr_titles = x.shape[-2]\n",
    "    print(\"Loaded previously calculated embeddings.\")\n",
    "else:\n",
    "    texts = []\n",
    "    for i,date in enumerate(data.index.drop_duplicates()): \n",
    "        if i % 100: \n",
    "            print(\"{} % ...\".format(round(100 * i / len(data.index.drop_duplicates()),3)),end='\\r')\n",
    "        temp_titles = []\n",
    "        for title in data.loc[date].values:\n",
    "            temp_titles.append(title[0])\n",
    "        texts.append(model.encode(temp_titles))\n",
    "    print(\"100 % ...\")\n",
    "    max_nbr_titles = max([len(text) for text in texts])\n",
    "    embed_dim = texts[0][0].shape[0]\n",
    "    x = np.zeros((n,max_nbr_titles,embed_dim))\n",
    "    # Include embeddings in matrix and pad with (tensors) of zeros. \n",
    "    for i,titles in enumerate(texts): \n",
    "        for j,title in enumerate(titles): \n",
    "            x[i,j] = title\n",
    "    np.save(path,x)"
   ]
  },
  {
   "cell_type": "code",
   "execution_count": 5,
   "metadata": {},
   "outputs": [],
   "source": [
    "config = {\n",
    "    'embed_dim': embed_dim,    # Dimensions to use for the word embedding\n",
    "    'max_len': max_nbr_titles,\n",
    "    'lookback': 1,       # How far back to collect data in the recurrent layer (days)\n",
    "    'delay': 1,          # How far ahead to predict data (days)\n",
    "    'p': 1,              # Order of the AR-part of the model\n",
    "    'd': 1,              # Integrated order\n",
    "    'q': 1,              # Included moving average terms \n",
    "    'train_part' : 0.8,  # Part of data to be used for training\n",
    "    'val_part' : 0.1,    # Part of data to be used for validation\n",
    "    'test_part' : 0.1,   # Part of data to be used for testing\n",
    "    'series': '1 YEAR',   # What series we currently want to predict, '1 YEAR', '3 YEAR' or 'S&P'\n",
    "    'start_date': '2006-10-20',\n",
    "    'end_date': '2013-11-19',\n",
    "}"
   ]
  },
  {
   "cell_type": "code",
   "execution_count": 6,
   "metadata": {},
   "outputs": [
    {
     "data": {
      "text/plain": [
       "(2582, 104, 768)"
      ]
     },
     "execution_count": 6,
     "metadata": {},
     "output_type": "execute_result"
    }
   ],
   "source": [
    "x.shape"
   ]
  },
  {
   "cell_type": "code",
   "execution_count": 7,
   "metadata": {},
   "outputs": [
    {
     "name": "stdout",
     "output_type": "stream",
     "text": [
      "Loaded previously constructed labels. \n"
     ]
    },
    {
     "data": {
      "image/png": "[encoded data removed]",
      "text/plain": [
       "<Figure size 432x288 with 1 Axes>"
      ]
     },
     "metadata": {
      "needs_background": "light"
     },
     "output_type": "display_data"
    }
   ],
   "source": [
    "# Pick thresholds for the classes. Observe that these are normalized values, \n",
    "# so it's the distribution rather than the numbers that's important. \n",
    "thresholds = [-0.002,-0.0005,0.0005,0.002]\n",
    "nbr_classes = len(thresholds) + 1\n",
    "y = Utilities.load_multiclass_labels(config,thresholds,plot=True)"
   ]
  },
  {
   "cell_type": "code",
   "execution_count": 8,
   "metadata": {},
   "outputs": [],
   "source": [
    "# Need to remove some rows from the word embedding-matrix,\n",
    "# these numbers are specified in Utilities.fit_all_models()\n",
    "rm_start_rows = max(config['lookback'],5) + 1\n",
    "rm_end_rows = config['delay']\n",
    "x = x[rm_start_rows : -rm_end_rows]"
   ]
  },
  {
   "cell_type": "code",
   "execution_count": 9,
   "metadata": {},
   "outputs": [
    {
     "name": "stdout",
     "output_type": "stream",
     "text": [
      "Shape of x_train: (2317, 104, 768)\n",
      "Shape of y_train: (2317,)\n",
      "Shape of x_test: (258, 104, 768)\n",
      "Shape of y_test: (258,)\n"
     ]
    }
   ],
   "source": [
    "(x_train, y_train), (x_test, y_test) = Utilities.shuffle_and_partition(x,y,test_part = config['test_part'])\n",
    "print(\"Shape of x_train:\",x_train.shape)\n",
    "print(\"Shape of y_train:\",y_train.shape)\n",
    "print(\"Shape of x_test:\",x_test.shape)\n",
    "print(\"Shape of y_test:\",y_test.shape)"
   ]
  },
  {
   "cell_type": "code",
   "execution_count": 10,
   "metadata": {},
   "outputs": [],
   "source": [
    "# Create functions for custom 'MergeEmedding'-layer which averages \n",
    "# the embeddings over all words after the embedding layer \n",
    "def merge_embeddings(x):\n",
    "    # Sum the embeddings for every word slot. If this is zero, there is no word in this slot\n",
    "    non_zero = K.sum(K.cast(K.not_equal(K.sum(x,axis=2),0),tf.float32))\n",
    "    return K.sum(x,axis=1) / non_zero\n",
    "\n",
    "def merge_output_shape(input_shape):\n",
    "    return (input_shape[0], input_shape[2])\n",
    "\n",
    "def create_nn(n_nodes, dropout_rate, lr=0.001):\n",
    "    # n_nodes is a list with the number of nodes per layer, starting from the input \n",
    "    model = Sequential()\n",
    "    model.add(Lambda(merge_embeddings, merge_output_shape, input_shape=x_train.shape[1:]))\n",
    "    for n in n_nodes:\n",
    "        model.add(Dense(n,activation='relu'))\n",
    "        model.add(Dropout(dropout_rate))\n",
    "    model.add(Dense(nbr_classes, activation='softmax'))\n",
    "    rms = optimizers.RMSprop(learning_rate=lr)\n",
    "    model.compile(optimizer=rms, loss='sparse_categorical_crossentropy', metrics=['acc'])\n",
    "    return model\n",
    "\n",
    "def train_and_format(x,y,bs,epochs, results, layers, nodes,lr,verbose):\n",
    "    name = f\"{bs}_{layers}_{nodes}\"\n",
    "    temp_history = model.fit(x, y, batch_size=bs, validation_split=0.2, epochs = epochs,verbose=verbose)\n",
    "    return results.append(pd.Series([np.mean(temp_history.history['val_acc'][-5:]),\n",
    "                                     temp_history,model,\n",
    "                                     layers,nodes,\n",
    "                                     bs, lr],name=name,\n",
    "                                    index=['Mean Val Acc','History','Model','Layers','Nodes','Batch Size','Learning Rate']))\n"
   ]
  },
  {
   "cell_type": "code",
   "execution_count": 14,
   "metadata": {},
   "outputs": [
    {
     "name": "stdout",
     "output_type": "stream",
     "text": [
      "Testing 27 combinations. \n",
      "100.0 %     \r"
     ]
    }
   ],
   "source": [
    "n_layers = [3]\n",
    "n_nodes = [100,200,500]\n",
    "dropout_rates = [0.3]\n",
    "learning_rates = [0.001]\n",
    "batch_sizes = [32]\n",
    "verbose = 0\n",
    "epochs = 40\n",
    "results = pd.DataFrame(columns=['Mean Val Acc','History','Model', 'Layers', 'Nodes','Batch Size','Learning Rate'])\n",
    "n_configs = sum([len(n_nodes)**l for l in n_layers]) * len(batch_sizes) * len(learning_rates) * len(dropout_rates)\n",
    "ctr = 0\n",
    "print('Testing {} combinations. '.format(n_configs))\n",
    "for layers in n_layers:\n",
    "    if layers == 1: node_configs = list(itertools.product(n_nodes))\n",
    "    elif layers == 2: node_configs = list(itertools.product(n_nodes, n_nodes))\n",
    "    elif layers == 3: node_configs = list(itertools.product(n_nodes, n_nodes, n_nodes))\n",
    "    elif layers == 4: node_configs = list(itertools.product(n_nodes, n_nodes, n_nodes, n_nodes))\n",
    "    for bs in batch_sizes: \n",
    "        for temp_nodes in node_configs:\n",
    "            for lr in learning_rates: \n",
    "                for rate in dropout_rates:\n",
    "                    ctr += 1 \n",
    "                    model = create_nn(temp_nodes, rate, lr)\n",
    "                    results = train_and_format(x_train, y_train, bs, epochs, results, layers, temp_nodes, lr,verbose=verbose)\n",
    "                    print(\"{} %     \".format(round(100 * ctr / n_configs,2)),end='\\r')\n",
    "\n"
   ]
  },
  {
   "cell_type": "code",
   "execution_count": 12,
   "metadata": {},
   "outputs": [
    {
     "name": "stdout",
     "output_type": "stream",
     "text": [
      "Top 1 configs: \n"
     ]
    },
    {
     "data": {
      "text/html": [
       "<div>\n",
       "<style scoped>\n",
       "    .dataframe tbody tr th:only-of-type {\n",
       "        vertical-align: middle;\n",
       "    }\n",
       "\n",
       "    .dataframe tbody tr th {\n",
       "        vertical-align: top;\n",
       "    }\n",
       "\n",
       "    .dataframe thead th {\n",
       "        text-align: right;\n",
       "    }\n",
       "</style>\n",
       "<table border=\"1\" class=\"dataframe\">\n",
       "  <thead>\n",
       "    <tr style=\"text-align: right;\">\n",
       "      <th></th>\n",
       "      <th>Mean Val Acc</th>\n",
       "      <th>History</th>\n",
       "      <th>Model</th>\n",
       "      <th>Layers</th>\n",
       "      <th>Nodes</th>\n",
       "      <th>Batch Size</th>\n",
       "      <th>Learning Rate</th>\n",
       "    </tr>\n",
       "  </thead>\n",
       "  <tbody>\n",
       "    <tr>\n",
       "      <th>32_3_(200, 200, 200)</th>\n",
       "      <td>0.361638</td>\n",
       "      <td>&lt;tensorflow.python.keras.callbacks.History obj...</td>\n",
       "      <td>&lt;tensorflow.python.keras.engine.sequential.Seq...</td>\n",
       "      <td>3</td>\n",
       "      <td>(200, 200, 200)</td>\n",
       "      <td>32</td>\n",
       "      <td>0.001</td>\n",
       "    </tr>\n",
       "  </tbody>\n",
       "</table>\n",
       "</div>"
      ],
      "text/plain": [
       "                      Mean Val Acc  \\\n",
       "32_3_(200, 200, 200)      0.361638   \n",
       "\n",
       "                                                                History  \\\n",
       "32_3_(200, 200, 200)  <tensorflow.python.keras.callbacks.History obj...   \n",
       "\n",
       "                                                                  Model  \\\n",
       "32_3_(200, 200, 200)  <tensorflow.python.keras.engine.sequential.Seq...   \n",
       "\n",
       "                     Layers            Nodes Batch Size  Learning Rate  \n",
       "32_3_(200, 200, 200)      3  (200, 200, 200)         32          0.001  "
      ]
     },
     "execution_count": 12,
     "metadata": {},
     "output_type": "execute_result"
    }
   ],
   "source": [
    "k = 1\n",
    "print(\"Top {} configs: \".format(k))\n",
    "k_best = np.argpartition(results['Mean Val Acc'],-k)[-k:]\n",
    "results.iloc[k_best]"
   ]
  },
  {
   "cell_type": "code",
   "execution_count": 13,
   "metadata": {
    "scrolled": false
   },
   "outputs": [
    {
     "name": "stdout",
     "output_type": "stream",
     "text": [
      "Nodes: (200, 200, 200), Mean validation accuracy: 0.3616379201412201\n"
     ]
    },
    {
     "data": {
      "image/png": "[encoded data removed]",
      "text/plain": [
       "<Figure size 432x288 with 2 Axes>"
      ]
     },
     "metadata": {
      "needs_background": "light"
     },
     "output_type": "display_data"
    },
    {
     "data": {
      "image/png": "[encoded data removed]",
      "text/plain": [
       "<Figure size 432x288 with 3 Axes>"
      ]
     },
     "metadata": {
      "needs_background": "light"
     },
     "output_type": "display_data"
    },
    {
     "name": "stdout",
     "output_type": "stream",
     "text": [
      "              precision    recall  f1-score   support\n",
      "\n",
      "         0.0       0.32      0.38      0.35        55\n",
      "         1.0       0.31      0.33      0.32        51\n",
      "         2.0       0.40      0.67      0.50        72\n",
      "         3.0       0.33      0.02      0.04        47\n",
      "         4.0       0.35      0.18      0.24        33\n",
      "\n",
      "    accuracy                           0.36       258\n",
      "   macro avg       0.35      0.32      0.29       258\n",
      "weighted avg       0.35      0.36      0.32       258\n",
      "\n"
     ]
    }
   ],
   "source": [
    "for i in k_best: \n",
    "    print(f\"Nodes: {results.iloc[i]['Nodes']}, Mean validation accuracy: {results.iloc[i]['Mean Val Acc']}\")\n",
    "    plt.subplot(121)\n",
    "    plt.plot(results.iloc[i]['History'].history['val_loss'],label='Val loss')\n",
    "    plt.plot(results.iloc[i]['History'].history['loss'],label='Training loss')\n",
    "    plt.legend()\n",
    "    plt.subplot(122)\n",
    "    plt.plot(results.iloc[i]['History'].history['val_acc'],label='Val acc')\n",
    "    plt.plot(results.iloc[i]['History'].history['acc'],label='Training acc')\n",
    "    plt.legend()\n",
    "    plt.show()\n",
    "    results.iloc[i]['Model'].evaluate(x_test,y_test,verbose=0)\n",
    "    # Calculate the predictions on the test set \n",
    "    y_test_pred_prob = model.predict(x_test)\n",
    "    y_test_pred = np.zeros(len(y_test))\n",
    "    for i,row in enumerate(y_test_pred_prob): \n",
    "        y_test_pred[i] = np.argmax(row)\n",
    "    conf_mat = confusion_matrix(y_test,y_test_pred,normalize='pred')\n",
    "    plt.subplot(121)\n",
    "    ax = sn.heatmap(conf_mat)\n",
    "    ax.set_ylabel(\"True values\")\n",
    "    ax.set_xlabel(\"Predicted values\")\n",
    "    Utilities.plot_multi_predictions(y_test_pred, nbr_classes,subplot=122,show=True)\n",
    "    print(classification_report(y_test,y_test_pred))\n"
   ]
  },
  {
   "cell_type": "code",
   "execution_count": 61,
   "metadata": {},
   "outputs": [],
   "source": [
    "prev_his = results.iloc[0]['History']"
   ]
  },
  {
   "cell_type": "code",
   "execution_count": null,
   "metadata": {},
   "outputs": [],
   "source": []
  },
  {
   "cell_type": "code",
   "execution_count": null,
   "metadata": {},
   "outputs": [],
   "source": []
  },
  {
   "cell_type": "code",
   "execution_count": null,
   "metadata": {},
   "outputs": [],
   "source": []
  },
  {
   "cell_type": "code",
   "execution_count": 75,
   "metadata": {
    "scrolled": true
   },
   "outputs": [
    {
     "name": "stdout",
     "output_type": "stream",
     "text": [
      "Train on 1853 samples, validate on 464 samples\n",
      "Epoch 1/100\n",
      "1853/1853 [==============================] - 1s 581us/sample - loss: 1.0055 - acc: 0.5758 - val_loss: 1.9841 - val_acc: 0.2974\n",
      "Epoch 2/100\n",
      "1853/1853 [==============================] - 1s 562us/sample - loss: 1.0119 - acc: 0.5467 - val_loss: 1.8751 - val_acc: 0.3125\n",
      "Epoch 3/100\n",
      "1853/1853 [==============================] - 1s 564us/sample - loss: 0.9811 - acc: 0.5877 - val_loss: 1.7848 - val_acc: 0.2845\n",
      "Epoch 4/100\n",
      "1853/1853 [==============================] - 1s 594us/sample - loss: 1.0052 - acc: 0.5666 - val_loss: 1.9481 - val_acc: 0.3405\n",
      "Epoch 5/100\n",
      "1853/1853 [==============================] - 1s 562us/sample - loss: 0.9763 - acc: 0.5807 - val_loss: 1.8069 - val_acc: 0.3017\n",
      "Epoch 6/100\n",
      "1853/1853 [==============================] - 1s 577us/sample - loss: 0.9957 - acc: 0.5785 - val_loss: 1.8911 - val_acc: 0.2953\n",
      "Epoch 7/100\n",
      "1853/1853 [==============================] - 1s 532us/sample - loss: 0.9803 - acc: 0.5909 - val_loss: 1.9414 - val_acc: 0.3147\n",
      "Epoch 8/100\n",
      "1853/1853 [==============================] - 1s 566us/sample - loss: 0.9909 - acc: 0.5715 - val_loss: 1.9753 - val_acc: 0.2953\n",
      "Epoch 9/100\n",
      "1853/1853 [==============================] - 1s 550us/sample - loss: 0.9858 - acc: 0.5801 - val_loss: 1.8794 - val_acc: 0.2953\n",
      "Epoch 10/100\n",
      "1853/1853 [==============================] - 1s 528us/sample - loss: 0.9793 - acc: 0.5785 - val_loss: 2.0311 - val_acc: 0.3233\n",
      "Epoch 11/100\n",
      "1853/1853 [==============================] - 1s 531us/sample - loss: 0.9672 - acc: 0.5888 - val_loss: 1.8860 - val_acc: 0.3190\n",
      "Epoch 12/100\n",
      "1853/1853 [==============================] - 1s 555us/sample - loss: 0.9817 - acc: 0.5958 - val_loss: 2.0982 - val_acc: 0.3211\n",
      "Epoch 13/100\n",
      "1853/1853 [==============================] - 1s 540us/sample - loss: 0.9712 - acc: 0.5845 - val_loss: 2.0010 - val_acc: 0.3125\n",
      "Epoch 14/100\n",
      "1853/1853 [==============================] - 1s 551us/sample - loss: 0.9742 - acc: 0.5774 - val_loss: 1.9407 - val_acc: 0.3384\n",
      "Epoch 15/100\n",
      "1853/1853 [==============================] - 1s 568us/sample - loss: 0.9591 - acc: 0.6012 - val_loss: 1.9949 - val_acc: 0.2974\n",
      "Epoch 16/100\n",
      "1853/1853 [==============================] - 1s 536us/sample - loss: 0.9791 - acc: 0.5920 - val_loss: 1.9089 - val_acc: 0.3039\n",
      "Epoch 17/100\n",
      "1853/1853 [==============================] - 1s 499us/sample - loss: 0.9778 - acc: 0.5796 - val_loss: 1.8997 - val_acc: 0.3147\n",
      "Epoch 18/100\n",
      "1853/1853 [==============================] - 1s 509us/sample - loss: 0.9599 - acc: 0.5872 - val_loss: 2.0291 - val_acc: 0.3254\n",
      "Epoch 19/100\n",
      "1853/1853 [==============================] - 1s 543us/sample - loss: 0.9573 - acc: 0.5893 - val_loss: 1.8361 - val_acc: 0.2974\n",
      "Epoch 20/100\n",
      "1853/1853 [==============================] - 1s 555us/sample - loss: 0.9347 - acc: 0.6023 - val_loss: 2.1183 - val_acc: 0.2909\n",
      "Epoch 21/100\n",
      "1853/1853 [==============================] - 1s 542us/sample - loss: 0.9285 - acc: 0.6120 - val_loss: 2.1933 - val_acc: 0.3060\n",
      "Epoch 22/100\n",
      "1853/1853 [==============================] - 1s 530us/sample - loss: 0.9722 - acc: 0.6012 - val_loss: 2.1013 - val_acc: 0.3254\n",
      "Epoch 23/100\n",
      "1853/1853 [==============================] - 1s 542us/sample - loss: 0.9492 - acc: 0.6087 - val_loss: 2.1735 - val_acc: 0.3017\n",
      "Epoch 24/100\n",
      "1853/1853 [==============================] - 1s 541us/sample - loss: 0.9416 - acc: 0.5915 - val_loss: 2.0730 - val_acc: 0.3276\n",
      "Epoch 25/100\n",
      "1853/1853 [==============================] - 1s 598us/sample - loss: 0.9350 - acc: 0.6185 - val_loss: 2.0648 - val_acc: 0.2974\n",
      "Epoch 26/100\n",
      "1853/1853 [==============================] - 1s 603us/sample - loss: 0.9401 - acc: 0.6039 - val_loss: 1.9926 - val_acc: 0.3168\n",
      "Epoch 27/100\n",
      "1853/1853 [==============================] - 1s 556us/sample - loss: 0.9101 - acc: 0.6309 - val_loss: 2.0062 - val_acc: 0.2996\n",
      "Epoch 28/100\n",
      "1853/1853 [==============================] - 1s 545us/sample - loss: 0.8981 - acc: 0.6217 - val_loss: 2.2307 - val_acc: 0.2953\n",
      "Epoch 29/100\n",
      "1853/1853 [==============================] - 1s 584us/sample - loss: 0.9417 - acc: 0.6044 - val_loss: 2.0436 - val_acc: 0.3190\n",
      "Epoch 30/100\n",
      "1853/1853 [==============================] - 1s 559us/sample - loss: 0.9262 - acc: 0.6195 - val_loss: 2.3110 - val_acc: 0.3556\n",
      "Epoch 31/100\n",
      "1853/1853 [==============================] - 1s 537us/sample - loss: 0.9178 - acc: 0.6077 - val_loss: 2.2795 - val_acc: 0.3103\n",
      "Epoch 32/100\n",
      "1853/1853 [==============================] - 1s 602us/sample - loss: 0.9305 - acc: 0.6060 - val_loss: 2.0390 - val_acc: 0.3125\n",
      "Epoch 33/100\n",
      "1853/1853 [==============================] - 1s 602us/sample - loss: 0.9285 - acc: 0.6168 - val_loss: 2.0675 - val_acc: 0.3060\n",
      "Epoch 34/100\n",
      "1853/1853 [==============================] - 1s 601us/sample - loss: 0.9159 - acc: 0.6168 - val_loss: 2.3276 - val_acc: 0.3103\n",
      "Epoch 35/100\n",
      "1853/1853 [==============================] - 1s 535us/sample - loss: 0.9229 - acc: 0.6120 - val_loss: 2.8534 - val_acc: 0.2974\n",
      "Epoch 36/100\n",
      "1853/1853 [==============================] - 1s 540us/sample - loss: 0.9162 - acc: 0.6260 - val_loss: 2.0462 - val_acc: 0.2953\n",
      "Epoch 37/100\n",
      "1853/1853 [==============================] - 1s 692us/sample - loss: 0.8885 - acc: 0.6298 - val_loss: 2.2309 - val_acc: 0.2909\n",
      "Epoch 38/100\n",
      "1853/1853 [==============================] - 1s 786us/sample - loss: 0.9098 - acc: 0.6017 - val_loss: 2.2105 - val_acc: 0.3190\n",
      "Epoch 39/100\n",
      "1853/1853 [==============================] - 1s 796us/sample - loss: 0.9176 - acc: 0.6282 - val_loss: 2.0539 - val_acc: 0.3147\n",
      "Epoch 40/100\n",
      "1853/1853 [==============================] - 1s 763us/sample - loss: 0.9304 - acc: 0.6217 - val_loss: 2.1388 - val_acc: 0.3039\n",
      "Epoch 41/100\n",
      "1853/1853 [==============================] - 1s 641us/sample - loss: 0.8936 - acc: 0.6271 - val_loss: 2.0907 - val_acc: 0.3060\n",
      "Epoch 42/100\n",
      "1853/1853 [==============================] - 1s 695us/sample - loss: 0.8656 - acc: 0.6476 - val_loss: 2.1518 - val_acc: 0.3103\n",
      "Epoch 43/100\n",
      "1853/1853 [==============================] - 1s 596us/sample - loss: 0.8982 - acc: 0.6266 - val_loss: 2.2892 - val_acc: 0.3513\n",
      "Epoch 44/100\n",
      "1853/1853 [==============================] - 1s 643us/sample - loss: 0.9009 - acc: 0.6141 - val_loss: 2.2490 - val_acc: 0.3103\n",
      "Epoch 45/100\n",
      "1853/1853 [==============================] - 1s 611us/sample - loss: 0.8813 - acc: 0.6384 - val_loss: 2.2771 - val_acc: 0.3060\n",
      "Epoch 46/100\n",
      "1853/1853 [==============================] - 1s 626us/sample - loss: 0.8869 - acc: 0.6201 - val_loss: 2.4898 - val_acc: 0.2974\n",
      "Epoch 47/100\n",
      "1853/1853 [==============================] - 1s 634us/sample - loss: 0.8798 - acc: 0.6325 - val_loss: 2.2153 - val_acc: 0.2953\n",
      "Epoch 48/100\n",
      "1853/1853 [==============================] - 1s 616us/sample - loss: 0.8626 - acc: 0.6444 - val_loss: 2.1918 - val_acc: 0.3147\n",
      "Epoch 49/100\n",
      "1853/1853 [==============================] - 1s 525us/sample - loss: 0.8756 - acc: 0.6282 - val_loss: 2.2811 - val_acc: 0.2759\n",
      "Epoch 50/100\n",
      "1853/1853 [==============================] - 1s 764us/sample - loss: 0.8909 - acc: 0.6325 - val_loss: 2.1174 - val_acc: 0.3017\n",
      "Epoch 51/100\n",
      "1853/1853 [==============================] - 1s 770us/sample - loss: 0.8628 - acc: 0.6325 - val_loss: 2.3630 - val_acc: 0.3125\n",
      "Epoch 52/100\n",
      "1853/1853 [==============================] - 1s 736us/sample - loss: 0.9116 - acc: 0.6174 - val_loss: 2.0956 - val_acc: 0.3147\n",
      "Epoch 53/100\n",
      "1853/1853 [==============================] - 1s 770us/sample - loss: 0.8553 - acc: 0.6368 - val_loss: 2.2016 - val_acc: 0.2888\n",
      "Epoch 54/100\n",
      "1853/1853 [==============================] - 1s 686us/sample - loss: 0.8702 - acc: 0.6492 - val_loss: 2.6271 - val_acc: 0.3319\n",
      "Epoch 55/100\n",
      "1853/1853 [==============================] - 1s 625us/sample - loss: 0.8564 - acc: 0.6357 - val_loss: 2.3512 - val_acc: 0.3039\n",
      "Epoch 56/100\n",
      "1853/1853 [==============================] - 1s 777us/sample - loss: 0.8753 - acc: 0.6471 - val_loss: 2.1826 - val_acc: 0.3125\n",
      "Epoch 57/100\n",
      "1853/1853 [==============================] - 1s 786us/sample - loss: 0.9132 - acc: 0.6498 - val_loss: 2.3676 - val_acc: 0.2823\n",
      "Epoch 58/100\n",
      "1853/1853 [==============================] - 1s 800us/sample - loss: 0.8564 - acc: 0.6411 - val_loss: 2.3236 - val_acc: 0.2953\n",
      "Epoch 59/100\n",
      "1853/1853 [==============================] - 1s 572us/sample - loss: 0.8602 - acc: 0.6427 - val_loss: 2.4573 - val_acc: 0.2845\n",
      "Epoch 60/100\n",
      "1853/1853 [==============================] - 1s 696us/sample - loss: 0.8561 - acc: 0.6325 - val_loss: 2.2505 - val_acc: 0.3103\n",
      "Epoch 61/100\n",
      "1853/1853 [==============================] - 1s 534us/sample - loss: 0.8557 - acc: 0.6363 - val_loss: 2.2369 - val_acc: 0.3362\n",
      "Epoch 62/100\n",
      "1853/1853 [==============================] - 1s 743us/sample - loss: 0.8686 - acc: 0.6465 - val_loss: 2.2828 - val_acc: 0.3168\n",
      "Epoch 63/100\n",
      "1853/1853 [==============================] - 1s 693us/sample - loss: 0.8414 - acc: 0.6465 - val_loss: 2.4236 - val_acc: 0.3060\n",
      "Epoch 64/100\n",
      "1853/1853 [==============================] - 1s 785us/sample - loss: 0.8657 - acc: 0.6541 - val_loss: 2.2880 - val_acc: 0.2996\n",
      "Epoch 65/100\n",
      "1853/1853 [==============================] - 1s 611us/sample - loss: 0.8532 - acc: 0.6606 - val_loss: 2.4446 - val_acc: 0.2931\n",
      "Epoch 66/100\n",
      "1853/1853 [==============================] - 1s 715us/sample - loss: 0.8547 - acc: 0.6525 - val_loss: 2.4282 - val_acc: 0.3254\n",
      "Epoch 67/100\n",
      "1853/1853 [==============================] - 1s 517us/sample - loss: 0.8150 - acc: 0.6778 - val_loss: 2.3103 - val_acc: 0.3147\n",
      "Epoch 68/100\n",
      "1853/1853 [==============================] - 1s 547us/sample - loss: 0.8545 - acc: 0.6503 - val_loss: 2.4013 - val_acc: 0.3147\n",
      "Epoch 69/100\n",
      "1853/1853 [==============================] - 1s 611us/sample - loss: 0.8325 - acc: 0.6638 - val_loss: 2.1187 - val_acc: 0.2996\n",
      "Epoch 70/100\n",
      "1853/1853 [==============================] - 1s 667us/sample - loss: 0.8485 - acc: 0.6460 - val_loss: 2.4444 - val_acc: 0.3125\n",
      "Epoch 71/100\n",
      "1853/1853 [==============================] - 1s 544us/sample - loss: 0.8584 - acc: 0.6476 - val_loss: 2.2654 - val_acc: 0.3233\n",
      "Epoch 72/100\n",
      "1853/1853 [==============================] - 1s 555us/sample - loss: 0.8498 - acc: 0.6492 - val_loss: 2.5727 - val_acc: 0.3341\n",
      "Epoch 73/100\n",
      "1853/1853 [==============================] - 1s 563us/sample - loss: 0.8290 - acc: 0.6649 - val_loss: 2.3000 - val_acc: 0.3254\n",
      "Epoch 74/100\n",
      "1853/1853 [==============================] - 1s 667us/sample - loss: 0.8201 - acc: 0.6595 - val_loss: 2.3287 - val_acc: 0.2974\n",
      "Epoch 75/100\n",
      "1853/1853 [==============================] - 1s 778us/sample - loss: 0.8658 - acc: 0.6417 - val_loss: 2.4473 - val_acc: 0.3168\n",
      "Epoch 76/100\n",
      "1853/1853 [==============================] - 1s 731us/sample - loss: 0.8157 - acc: 0.6632 - val_loss: 2.2952 - val_acc: 0.3125\n",
      "Epoch 77/100\n",
      "1853/1853 [==============================] - 1s 535us/sample - loss: 0.8056 - acc: 0.6616 - val_loss: 2.4974 - val_acc: 0.2931\n",
      "Epoch 78/100\n",
      "1853/1853 [==============================] - 1s 629us/sample - loss: 0.8331 - acc: 0.6638 - val_loss: 2.4332 - val_acc: 0.3103\n",
      "Epoch 79/100\n",
      "1853/1853 [==============================] - 1s 625us/sample - loss: 0.8427 - acc: 0.6498 - val_loss: 2.2461 - val_acc: 0.2974\n",
      "Epoch 80/100\n",
      "1853/1853 [==============================] - 1s 551us/sample - loss: 0.8109 - acc: 0.6606 - val_loss: 2.3928 - val_acc: 0.2608\n",
      "Epoch 81/100\n",
      "1853/1853 [==============================] - 1s 508us/sample - loss: 0.8152 - acc: 0.6622 - val_loss: 2.4426 - val_acc: 0.3254\n",
      "Epoch 82/100\n",
      "1853/1853 [==============================] - 1s 639us/sample - loss: 0.8189 - acc: 0.6686 - val_loss: 2.4542 - val_acc: 0.3082\n",
      "Epoch 83/100\n",
      "1853/1853 [==============================] - 1s 564us/sample - loss: 0.8155 - acc: 0.6643 - val_loss: 2.6581 - val_acc: 0.3082\n",
      "Epoch 84/100\n",
      "1853/1853 [==============================] - 1s 735us/sample - loss: 0.7964 - acc: 0.6784 - val_loss: 2.4531 - val_acc: 0.2974\n",
      "Epoch 85/100\n",
      "1853/1853 [==============================] - 1s 661us/sample - loss: 0.7883 - acc: 0.6703 - val_loss: 2.3168 - val_acc: 0.3384\n",
      "Epoch 86/100\n",
      "1853/1853 [==============================] - 1s 539us/sample - loss: 0.8070 - acc: 0.6762 - val_loss: 2.5466 - val_acc: 0.2802\n",
      "Epoch 87/100\n",
      "1853/1853 [==============================] - 1s 551us/sample - loss: 0.7867 - acc: 0.6767 - val_loss: 2.4336 - val_acc: 0.3190\n",
      "Epoch 88/100\n",
      "1853/1853 [==============================] - 1s 530us/sample - loss: 0.8217 - acc: 0.6654 - val_loss: 2.3235 - val_acc: 0.2974\n",
      "Epoch 89/100\n",
      "1853/1853 [==============================] - 1s 551us/sample - loss: 0.8010 - acc: 0.6654 - val_loss: 2.9328 - val_acc: 0.3082\n",
      "Epoch 90/100\n",
      "1853/1853 [==============================] - 1s 516us/sample - loss: 0.8289 - acc: 0.6541 - val_loss: 2.3680 - val_acc: 0.3039\n",
      "Epoch 91/100\n",
      "1853/1853 [==============================] - 1s 673us/sample - loss: 0.8216 - acc: 0.6546 - val_loss: 2.6452 - val_acc: 0.2823\n",
      "Epoch 92/100\n",
      "1853/1853 [==============================] - 1s 575us/sample - loss: 0.7993 - acc: 0.6800 - val_loss: 2.6593 - val_acc: 0.3276\n",
      "Epoch 93/100\n",
      "1853/1853 [==============================] - 1s 641us/sample - loss: 0.7904 - acc: 0.6773 - val_loss: 2.5553 - val_acc: 0.2931\n",
      "Epoch 94/100\n",
      "1853/1853 [==============================] - 1s 707us/sample - loss: 0.7880 - acc: 0.6757 - val_loss: 2.4048 - val_acc: 0.2866\n",
      "Epoch 95/100\n",
      "1853/1853 [==============================] - 1s 670us/sample - loss: 0.8152 - acc: 0.6573 - val_loss: 2.6831 - val_acc: 0.3233\n",
      "Epoch 96/100\n",
      "1853/1853 [==============================] - 1s 586us/sample - loss: 0.8029 - acc: 0.6767 - val_loss: 2.8942 - val_acc: 0.2996\n",
      "Epoch 97/100\n",
      "1853/1853 [==============================] - 1s 665us/sample - loss: 0.7995 - acc: 0.6676 - val_loss: 2.3941 - val_acc: 0.3082\n",
      "Epoch 98/100\n",
      "1853/1853 [==============================] - 1s 508us/sample - loss: 0.7945 - acc: 0.6789 - val_loss: 2.4546 - val_acc: 0.3297\n",
      "Epoch 99/100\n",
      "1853/1853 [==============================] - 1s 608us/sample - loss: 0.7903 - acc: 0.6762 - val_loss: 2.5802 - val_acc: 0.2953\n",
      "Epoch 100/100\n",
      "1853/1853 [==============================] - 1s 559us/sample - loss: 0.7641 - acc: 0.6994 - val_loss: 2.4898 - val_acc: 0.2953\n"
     ]
    },
    {
     "data": {
      "text/plain": [
       "[None,\n",
       " None,\n",
       " None,\n",
       " None,\n",
       " None,\n",
       " None,\n",
       " None,\n",
       " None,\n",
       " None,\n",
       " None,\n",
       " None,\n",
       " None,\n",
       " None,\n",
       " None,\n",
       " None,\n",
       " None,\n",
       " None,\n",
       " None,\n",
       " None,\n",
       " None,\n",
       " None,\n",
       " None,\n",
       " None,\n",
       " None,\n",
       " None,\n",
       " None,\n",
       " None,\n",
       " None,\n",
       " None,\n",
       " None,\n",
       " None,\n",
       " None,\n",
       " None,\n",
       " None,\n",
       " None,\n",
       " None,\n",
       " None,\n",
       " None,\n",
       " None,\n",
       " None,\n",
       " None,\n",
       " None,\n",
       " None,\n",
       " None,\n",
       " None,\n",
       " None,\n",
       " None,\n",
       " None,\n",
       " None,\n",
       " None,\n",
       " None,\n",
       " None,\n",
       " None,\n",
       " None,\n",
       " None,\n",
       " None,\n",
       " None,\n",
       " None,\n",
       " None,\n",
       " None,\n",
       " None,\n",
       " None,\n",
       " None,\n",
       " None,\n",
       " None,\n",
       " None,\n",
       " None,\n",
       " None,\n",
       " None,\n",
       " None,\n",
       " None,\n",
       " None,\n",
       " None,\n",
       " None,\n",
       " None,\n",
       " None,\n",
       " None,\n",
       " None,\n",
       " None,\n",
       " None,\n",
       " None,\n",
       " None,\n",
       " None,\n",
       " None,\n",
       " None,\n",
       " None,\n",
       " None,\n",
       " None,\n",
       " None,\n",
       " None,\n",
       " None,\n",
       " None,\n",
       " None,\n",
       " None,\n",
       " None,\n",
       " None,\n",
       " None,\n",
       " None,\n",
       " None,\n",
       " None]"
      ]
     },
     "execution_count": 75,
     "metadata": {},
     "output_type": "execute_result"
    }
   ],
   "source": [
    "# Continue training the best model.\n",
    "epochs = 100\n",
    "best_index = np.argmax(results['Mean Val Acc'])\n",
    "bs = results.iloc[best_index]['Batch Size']\n",
    "best_model = results.iloc[best_index]['Model']\n",
    "best_history = results.iloc[best_index]['History']\n",
    "temp_history = best_model.fit(x_train, y_train, epochs=epochs, batch_size=bs, validation_split=0.2)\n",
    "[best_history.history['loss'].append(val) for val in temp_history.history['loss']]\n",
    "[best_history.history['acc'].append(val) for val in temp_history.history['acc']]\n",
    "[best_history.history['val_loss'].append(val) for val in temp_history.history['val_loss']]\n",
    "[best_history.history['val_acc'].append(val) for val in temp_history.history['val_acc']]\n"
   ]
  },
  {
   "cell_type": "code",
   "execution_count": null,
   "metadata": {},
   "outputs": [],
   "source": []
  },
  {
   "cell_type": "code",
   "execution_count": null,
   "metadata": {},
   "outputs": [],
   "source": []
  },
  {
   "cell_type": "code",
   "execution_count": 114,
   "metadata": {},
   "outputs": [
    {
     "data": {
      "image/png": "[encoded data removed]",
      "text/plain": [
       "<Figure size 432x288 with 2 Axes>"
      ]
     },
     "metadata": {
      "needs_background": "light"
     },
     "output_type": "display_data"
    },
    {
     "data": {
      "image/png": "[encoded data removed]",
      "text/plain": [
       "<Figure size 432x288 with 3 Axes>"
      ]
     },
     "metadata": {
      "needs_background": "light"
     },
     "output_type": "display_data"
    },
    {
     "name": "stdout",
     "output_type": "stream",
     "text": [
      "              precision    recall  f1-score   support\n",
      "\n",
      "         0.0       0.31      0.22      0.26        68\n",
      "         1.0       0.28      0.59      0.38        58\n",
      "         2.0       0.43      0.47      0.45        62\n",
      "         3.0       0.00      0.00      0.00        35\n",
      "         4.0       0.41      0.26      0.32        35\n",
      "\n",
      "    accuracy                           0.34       258\n",
      "   macro avg       0.29      0.31      0.28       258\n",
      "weighted avg       0.30      0.34      0.30       258\n",
      "\n"
     ]
    }
   ],
   "source": [
    "plt.subplot(121)\n",
    "plt.plot(best_history.history['val_loss'],label='Val loss')\n",
    "plt.plot(best_history.history['loss'],label='Training loss')\n",
    "plt.legend()\n",
    "plt.subplot(122)\n",
    "plt.plot(best_history.history['val_acc'],label='Val acc')\n",
    "plt.plot(best_history.history['acc'],label='Training acc')\n",
    "plt.legend()\n",
    "plt.show()\n",
    "best_model.evaluate(x_test,y_test,verbose=0)\n",
    "# Calculate the predictions on the test set \n",
    "y_test_pred_prob = best_model.predict(x_test)\n",
    "y_test_pred = np.zeros(len(y_test))\n",
    "for i,row in enumerate(y_test_pred_prob): \n",
    "    y_test_pred[i] = np.argmax(row)\n",
    "    \n",
    "conf_mat = confusion_matrix(y_test,y_test_pred,normalize='pred')\n",
    "plt.subplot(121)\n",
    "ax = sn.heatmap(conf_mat)\n",
    "ax.set_ylabel(\"True values\")\n",
    "ax.set_xlabel(\"Predicted values\")\n",
    "Utilities.plot_multi_predictions(y_test_pred, nbr_classes,subplot=122,show=True)\n",
    "print(classification_report(y_test,y_test_pred))\n"
   ]
  },
  {
   "cell_type": "code",
   "execution_count": 226,
   "metadata": {},
   "outputs": [],
   "source": [
    "test_sents = [\n",
    "    \"Blablablab\"\n",
    "]\n",
    "enc_sents = sbert_model.encode(test_sents)\n",
    "x_inp = np.zeros((1, config['max_len'], config['embed_dim'])) \n",
    "for i,row in enumerate(enc_sents):\n",
    "    x_inp[0,i] = row\n"
   ]
  },
  {
   "cell_type": "code",
   "execution_count": 227,
   "metadata": {},
   "outputs": [],
   "source": [
    "y_pred = model.predict(x_inp)"
   ]
  },
  {
   "cell_type": "code",
   "execution_count": 228,
   "metadata": {},
   "outputs": [
    {
     "data": {
      "text/plain": [
       "array([[-0.00031726]], dtype=float32)"
      ]
     },
     "execution_count": 228,
     "metadata": {},
     "output_type": "execute_result"
    }
   ],
   "source": [
    "y_pred"
   ]
  },
  {
   "cell_type": "code",
   "execution_count": 162,
   "metadata": {},
   "outputs": [
    {
     "data": {
      "text/plain": [
       "array([[[ 0.05641313,  0.43250403,  1.2209636 , ..., -0.08560896,\n",
       "          0.06196363, -0.46169922],\n",
       "        [ 0.20730712,  0.60533875, -0.13538317, ..., -0.50943702,\n",
       "          0.40553239, -0.00730546],\n",
       "        [-0.35821676,  0.95740557,  0.50074011, ..., -1.16877079,\n",
       "          0.9151963 ,  0.11431099],\n",
       "        ...,\n",
       "        [ 0.        ,  0.        ,  0.        , ...,  0.        ,\n",
       "          0.        ,  0.        ],\n",
       "        [ 0.        ,  0.        ,  0.        , ...,  0.        ,\n",
       "          0.        ,  0.        ],\n",
       "        [ 0.        ,  0.        ,  0.        , ...,  0.        ,\n",
       "          0.        ,  0.        ]]])"
      ]
     },
     "execution_count": 162,
     "metadata": {},
     "output_type": "execute_result"
    }
   ],
   "source": []
  },
  {
   "cell_type": "code",
   "execution_count": null,
   "metadata": {},
   "outputs": [],
   "source": []
  }
 ],
 "metadata": {
  "kernelspec": {
   "display_name": "Python 3",
   "language": "python",
   "name": "python3"
  },
  "language_info": {
   "codemirror_mode": {
    "name": "ipython",
    "version": 3
   },
   "file_extension": ".py",
   "mimetype": "text/x-python",
   "name": "python",
   "nbconvert_exporter": "python",
   "pygments_lexer": "ipython3",
   "version": "3.7.6"
  }
 },
 "nbformat": 4,
 "nbformat_minor": 4
}
