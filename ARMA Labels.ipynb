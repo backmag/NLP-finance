{
 "cells": [
  {
   "cell_type": "code",
   "execution_count": 3,
   "metadata": {},
   "outputs": [],
   "source": [
    "from statsmodels.tsa.arima_model import ARMA\n",
    "from pathlib import Path\n",
    "import matplotlib.pyplot as plt\n",
    "import os\n",
    "import numpy as np\n",
    "import pandas as pd\n",
    "from tqdm import tqdm\n",
    "from datetime import timedelta\n",
    "import warnings"
   ]
  },
  {
   "cell_type": "code",
   "execution_count": 2,
   "metadata": {},
   "outputs": [],
   "source": [
    "ONEDRIVE_PATH = Path(r\"C:\\Users\\gusta\\Kidbrooke Advisory Ab\\KidbrookeOneDrive - Gustaf Backman exjobb\")\n",
    "# Read the financial data \n",
    "fin_path = ONEDRIVE_PATH / \"Input Data/stock_data.pkl\"\n",
    "fin_data = pd.read_pickle(fin_path)\n",
    "fin_data = fin_data.loc['2006-09-01' : '2013-11-22']\n",
    "\n",
    "# Create dataframe with percental difference \n",
    "fin_pct = fin_data.pct_change()\n",
    "fin_pct = fin_pct.drop(index=fin_pct.index[0])"
   ]
  },
  {
   "cell_type": "code",
   "execution_count": 3,
   "metadata": {},
   "outputs": [],
   "source": [
    "news_path = ONEDRIVE_PATH / \"Input Data/financial_headlines_20061020-20131119.pkl\"\n",
    "news_data = pd.DataFrame(pd.read_pickle(news_path))\n",
    "news_data.set_index('date',inplace=True)\n",
    "\n",
    "news_dates = news_data.index.drop_duplicates()\n",
    "fin_dates = fin_data.index.drop_duplicates\n",
    "\n",
    "# Find the dates which are present in both the financial data and news data\n",
    "valid_dates = []\n",
    "for date in news_dates: \n",
    "    if date in fin_data.index: \n",
    "        valid_dates.append(date)"
   ]
  },
  {
   "cell_type": "markdown",
   "metadata": {},
   "source": [
    "Save plots of the regular time series and the percentual change between each day. "
   ]
  },
  {
   "cell_type": "code",
   "execution_count": 167,
   "metadata": {},
   "outputs": [
    {
     "data": {
      "text/plain": [
       "<Figure size 432x288 with 0 Axes>"
      ]
     },
     "metadata": {},
     "output_type": "display_data"
    }
   ],
   "source": [
    "plot_path = Path(os.getcwd()) / \"ARMA figs\"\n",
    "plt.plot(fin_data['1 YEAR'],label='1 YEAR RATE',linewidth=0.5)\n",
    "plt.legend() \n",
    "plt.savefig(plot_path / \"1yr.pdf\",format='pdf')\n",
    "plt.clf()\n",
    "plt.plot(fin_data['3 YEAR'], label='3 YEAR RATE',linewidth=0.5)\n",
    "plt.legend() \n",
    "plt.savefig(plot_path / \"3yr.pdf\",format='pdf')\n",
    "plt.clf()\n",
    "plt.plot(fin_data['S&P'], label='S&P 500',linewidth=0.5)\n",
    "plt.legend() \n",
    "plt.savefig(plot_path / \"sp.pdf\",format='pdf')\n",
    "plt.clf()"
   ]
  },
  {
   "cell_type": "code",
   "execution_count": 168,
   "metadata": {},
   "outputs": [
    {
     "data": {
      "text/plain": [
       "<Figure size 432x288 with 0 Axes>"
      ]
     },
     "metadata": {},
     "output_type": "display_data"
    }
   ],
   "source": [
    "plot_path = Path(os.getcwd()) / \"ARMA figs\"\n",
    "plt.plot(fin_pct['1 YEAR'],label='1 YEAR RATE',linewidth=0.5)\n",
    "plt.legend() \n",
    "plt.savefig(plot_path / \"1yr_pct.pdf\",format='pdf')\n",
    "plt.clf()\n",
    "plt.plot(fin_pct['3 YEAR'], label='3 YEAR RATE',linewidth=0.5)\n",
    "plt.legend() \n",
    "plt.savefig(plot_path / \"3yr_pct.pdf\",format='pdf')\n",
    "plt.clf()\n",
    "plt.plot(fin_pct['S&P'], label='S&P 500',linewidth=0.5)\n",
    "plt.legend() \n",
    "plt.savefig(plot_path / \"sp_pct.pdf\",format='pdf')\n",
    "plt.clf()"
   ]
  },
  {
   "cell_type": "code",
   "execution_count": 35,
   "metadata": {},
   "outputs": [],
   "source": [
    "def try_fit(data,start,maxiter=1000,disp=0,internal_request=False): \n",
    "    # Test several optimization routines to get convergence\n",
    "    with warnings.catch_warnings():\n",
    "        warnings.filterwarnings('error')\n",
    "        try: \n",
    "            m = ARMA(data,order=(1,1))\n",
    "            m_fit = m.fit(start_params=start,maxiter=maxiter,solver=\"powell\",disp=disp)\n",
    "            return m_fit\n",
    "        except Warning as e: \n",
    "            pass\n",
    "        try: \n",
    "            m = ARMA(data,order=(1,1))\n",
    "            m_fit = m.fit(start_params=start,maxiter=maxiter,solver=\"lbfgs\",disp=disp)\n",
    "            return(m_fit)\n",
    "        except Warning as e: \n",
    "            pass\n",
    "        try:\n",
    "            m = ARMA(data,order=(1,1))\n",
    "            m_fit = m.fit(start_params=start,maxiter=maxiter,solver=\"bfgs\",disp=disp)\n",
    "            return(m_fit)\n",
    "        except Warning as e: \n",
    "            pass\n",
    "        try:\n",
    "            m = ARMA(data,order=(1,1))\n",
    "            m_fit = m.fit(start_params=start,maxiter=maxiter,solver=\"newton\",disp=disp)\n",
    "            return(m_fit)\n",
    "        except Warning as e: \n",
    "            pass\n",
    "        try:\n",
    "            m = ARMA(data,order=(1,1))\n",
    "            m_fit = m.fit(start_params=start,maxiter=maxiter,solver=\"nm\",disp=disp)\n",
    "            return(m_fit)\n",
    "        except Warning as e: \n",
    "            pass\n",
    "        try:\n",
    "            m = ARMA(data,order=(1,1))\n",
    "            m_fit = m.fit(start_params=start,maxiter=maxiter,solver=\"cg\",disp=disp)\n",
    "            return(m_fit)\n",
    "        except Warning as e: \n",
    "            pass\n",
    "        try:\n",
    "            m = ARMA(data,order=(1,1))\n",
    "            m_fit = m.fit(start_params=start,maxiter=maxiter,solver=\"ncg\",disp=disp)\n",
    "            return(m_fit)\n",
    "        except Warning as e: \n",
    "            pass\n",
    "    if not internal_request:\n",
    "        return try_fit(data,start=(0.5,0.5),maxiter=2*maxiter, internal_request=True)\n",
    "    else:\n",
    "        # If no solution was found after two tries with different start_params\n",
    "        # and solvers, we'll just return a suboptimal solution. \n",
    "        print(\"Suboptimal solution returned.\")\n",
    "        m = ARMA(data,order=(1,1))\n",
    "        m_fit = m.fit(start_params=start,maxiter=maxiter,solver=\"ncg\",disp=disp)\n",
    "        return m_fit"
   ]
  },
  {
   "cell_type": "markdown",
   "metadata": {},
   "source": [
    "### Next day predictions\n",
    "We fit a model given the filtration at time $t$ and then make a prediction. Since the prediction are linear in time, a negative prediction for day $k$ implies a negative prediction for day $k + \\delta$ for all $\\delta$. "
   ]
  },
  {
   "cell_type": "code",
   "execution_count": 67,
   "metadata": {},
   "outputs": [
    {
     "name": "stderr",
     "output_type": "stream",
     "text": [
      "100%|████████████████████████████████████████████████████████████████████████████| 1846/1846 [1:10:26<00:00,  2.29s/it]\n"
     ]
    }
   ],
   "source": [
    "relative_preds = np.zeros((len(valid_dates), 3))\n",
    "start = [0,0,0]\n",
    "for i,date in enumerate(tqdm(valid_dates)): \n",
    "    for j,series in enumerate(fin_pct):\n",
    "        temp_fit = try_fit(fin_pct.loc[:date][series].values,start)\n",
    "        forec = temp_fit.forecast(steps=1)[0][0]\n",
    "        relative_preds[i,j] = forec\n",
    "        start = temp_mod.params\n",
    "        "
   ]
  },
  {
   "cell_type": "markdown",
   "metadata": {},
   "source": [
    "Create a matrix with 0 for equal or lower prediction and 1 for higher prediction, compared to the present value.  "
   ]
  },
  {
   "cell_type": "code",
   "execution_count": 110,
   "metadata": {},
   "outputs": [],
   "source": [
    "# Predicted movements \n",
    "relative_preds_binary = (relative_preds[:-1] > 0).astype(int)\n",
    "# Actual movements \n",
    "true_movements = (fin_pct.loc[valid_dates[1:]].values > 0).astype(int)"
   ]
  },
  {
   "cell_type": "code",
   "execution_count": 139,
   "metadata": {},
   "outputs": [],
   "source": [
    "accuracy_matrix = (relative_preds_binary == true_movements).astype(int)\n",
    "savename_1 = Path(os.getcwd()) / \"arma_accuracy.npy\"\n",
    "np.save(savename_1, accuracy_matrix)"
   ]
  },
  {
   "cell_type": "code",
   "execution_count": 141,
   "metadata": {},
   "outputs": [],
   "source": [
    "# Was the actual percentual change smaller/larger than the ARMA-prediction? \n",
    "arma_labels = (fin_pct.loc[valid_dates].values < relative_preds).astype(int) # 0 for outcome > pred\n",
    "savename_2 = Path(os.getcwd()) / \"arma_labels.npy\"\n",
    "np.save(savename_2, arma_labels)"
   ]
  },
  {
   "cell_type": "code",
   "execution_count": null,
   "metadata": {},
   "outputs": [],
   "source": []
  },
  {
   "cell_type": "code",
   "execution_count": 3,
   "metadata": {},
   "outputs": [],
   "source": [
    "savename_1 = Path(os.getcwd()) / \"arma_accuracy.npy\"\n",
    "accuracy_matrix = np.load(savename_1)"
   ]
  },
  {
   "cell_type": "code",
   "execution_count": 14,
   "metadata": {},
   "outputs": [
    {
     "data": {
      "text/plain": [
       "array([0.65907859, 0.5604336 , 0.47588076])"
      ]
     },
     "execution_count": 14,
     "metadata": {},
     "output_type": "execute_result"
    }
   ],
   "source": [
    "\n",
    "np.mean(accuracy_matrix,axis=0)"
   ]
  },
  {
   "cell_type": "code",
   "execution_count": 1,
   "metadata": {},
   "outputs": [],
   "source": [
    "my_accs = [69.2, 59.9, 59.1]\n",
    "rand_accs = [68.9, 59.4, 53.6]"
   ]
  },
  {
   "cell_type": "code",
   "execution_count": 39,
   "metadata": {},
   "outputs": [
    {
     "data": {
      "image/png": "[encoded data removed]",
      "text/plain": [
       "<Figure size 432x288 with 1 Axes>"
      ]
     },
     "metadata": {
      "needs_background": "light"
     },
     "output_type": "display_data"
    }
   ],
   "source": [
    "N = 3\n",
    "ind = np.arange(N)\n",
    "width = 0.3\n",
    "\n",
    "fig = plt.figure() \n",
    "ax = fig.add_subplot(111)\n",
    "\n",
    "rects1 = ax.bar(ind, rand_accs,width,color='#000000')\n",
    "rects2 = ax.bar(ind+width + 0.03, my_accs,width,color='#a76609')\n",
    "\n",
    "ax.set_ylabel('Accuracy')\n",
    "ax.set_xticks(ind + width / 2)\n",
    "ax.set_xticklabels(['1 year rate', '3 year rate', 'S&P 500'])\n",
    "ax.legend(['Random','Best Model'])\n",
    "plt.savefig('summary',format='pdf')"
   ]
  },
  {
   "cell_type": "code",
   "execution_count": null,
   "metadata": {},
   "outputs": [],
   "source": []
  },
  {
   "cell_type": "code",
   "execution_count": null,
   "metadata": {},
   "outputs": [],
   "source": []
  },
  {
   "cell_type": "code",
   "execution_count": null,
   "metadata": {},
   "outputs": [],
   "source": []
  }
 ],
 "metadata": {
  "kernelspec": {
   "display_name": "Python 3",
   "language": "python",
   "name": "python3"
  },
  "language_info": {
   "codemirror_mode": {
    "name": "ipython",
    "version": 3
   },
   "file_extension": ".py",
   "mimetype": "text/x-python",
   "name": "python",
   "nbconvert_exporter": "python",
   "pygments_lexer": "ipython3",
   "version": "3.7.4"
  }
 },
 "nbformat": 4,
 "nbformat_minor": 4
}
