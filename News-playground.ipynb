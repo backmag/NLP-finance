{
 "cells": [
  {
   "cell_type": "code",
   "execution_count": 32,
   "metadata": {},
   "outputs": [],
   "source": [
    "import tensorflow as tf\n",
    "import pandas as pd\n",
    "import numpy as np\n",
    "from datetime import datetime, timedelta\n",
    "%matplotlib inline\n",
    "import matplotlib.pyplot as plt\n",
    "from nltk.tokenize import word_tokenize\n",
    "from tensorflow.keras.preprocessing.text import Tokenizer\n",
    "from tensorflow.keras.models import Sequential\n",
    "from tensorflow.keras.layers import Dense, Activation, Dropout, GRU, Flatten"
   ]
  },
  {
   "cell_type": "code",
   "execution_count": 2,
   "metadata": {},
   "outputs": [],
   "source": [
    "news_data = pd.read_pickle(r\"./Datasets/data/financial_headlines_20061020-20131119.pkl\")\n",
    "df = pd.DataFrame(news_data)\n",
    "df.set_index('date',inplace=True)\n",
    "financial_data = pd.read_pickle(r\"./Datasets/data/stock_data.pkl\")\n",
    "oneyearrate = financial_data['1 YEAR']"
   ]
  },
  {
   "cell_type": "code",
   "execution_count": 3,
   "metadata": {},
   "outputs": [],
   "source": [
    "start_date = datetime(2006,10,20)\n",
    "end_date = datetime(2013,1,1)\n",
    "titles = df.loc[start_date.strftime(\"%Y-%m-%d\") : end_date.strftime(\"%Y-%m-%d\")]"
   ]
  },
  {
   "cell_type": "code",
   "execution_count": 20,
   "metadata": {},
   "outputs": [],
   "source": [
    "def concat_news(news,period):\n",
    "    \"\"\"Merges news headlines over a period of days as one single list of words,\n",
    "    tokenized by word_tokenize() in nltk. \n",
    "    \n",
    "    Parameters: \n",
    "    news (DataFrame): News data of headlines (str) indexed by datetime.   \n",
    "    period (int): Number of days in each period. \n",
    "    \n",
    "    Returns: \n",
    "    DataFrame of lists of words indexed by datetime.\n",
    "    \"\"\"\n",
    "    delta = timedelta(days=period)\n",
    "    t1 = news.index[0]\n",
    "    t2 = t1 + delta\n",
    "    end_date = news.index[-1]\n",
    "    data = pd.DataFrame({'titles': [], 'date': []})\n",
    "    while(t2 < end_date):\n",
    "        period_words = []\n",
    "        titles = list([word_tokenize(title) for title in news.loc[t1.strftime(\"%Y-%m-%d\") : t2.strftime(\"%Y-%m-%d\")]['title']])\n",
    "        for title in titles: \n",
    "            for word in title: \n",
    "                period_words.append(word)\n",
    "        data = data.append({'date': t1, 'titles': period_words},ignore_index=True)\n",
    "        t1 = t2\n",
    "        t2 = t2 + delta    \n",
    "    titles = list([word_tokenize(t) for t in news.loc[t1.strftime(\"%Y-%m-%d\") : end_date.strftime(\"%Y-%m-%d\")]['title']])\n",
    "    for title in titles: \n",
    "            for word in title: \n",
    "                period_words.append(word)\n",
    "    data = data.append({'date': t1, 'titles': period_words},ignore_index=True)\n",
    "    data.set_index('date',inplace=True)\n",
    "    return data\n",
    "    \n",
    "def generator(data, lookback, delay, min_index, max_index, shuffle=False, batch_size=32):\n",
    "    if max_index is None:\n",
    "        max_index = len(data) - delay - 1\n",
    "    i = min_index + lookback\n",
    "    while True: \n",
    "        if shuffle: \n",
    "            rows = np.random.randint(\n",
    "            min_index + lookback, max_index, size=batch_size)\n",
    "        else:\n",
    "            if i + batch_size >= max_index: \n",
    "                i = min_index + lookback\n",
    "            rows = np.arange(i, min(i + batch_size, max_index))\n",
    "            i += len(rows)\n",
    "        samples = np.zeros((len(rows),\n",
    "                       lookback,\n",
    "                       data.shape[-1]))\n",
    "        targets = np.zeros((len(rows),))\n",
    "        for j, row in enumerate(rows):\n",
    "            indices = range(rows[j] - lookback, rows[j])\n",
    "            samples[j] = data[indices]\n",
    "            targets[j] = data[rows[j] + delay][1]\n",
    "        yield samples, targets\n",
    "    \n",
    "def add_rate_data(x_words,x_rates,indices):\n",
    "    \"\"\"Add time-series data of the rate/returns to a data point which\n",
    "    containes some vectorized version of words.\n",
    "    \n",
    "    Parameters: \n",
    "    A numpy array x_words representing the words with shape n*d and a numpy array \n",
    "    x_rates of prices/rates with shape n. \n",
    "    \n",
    "    Returns: \n",
    "    A numpy array of shape n*(d+1) \n",
    "    \"\"\"\n",
    "    temp = np.zeros((x_words.shape[0], x_words.shape[1]+1))\n",
    "    temp[:,:-1] = x_words\n",
    "    temp[:,-1] = np.array([x_rates[d] for d in indices])\n",
    "    return temp\n",
    "\n",
    "def plot_history(history,train=True,val=True,log=True):\n",
    "    if train: \n",
    "        plt.plot(history.history['loss'],label=\"Train\")\n",
    "    if val:\n",
    "        plt.plot(history.history['val_loss'],label=\"Val\")\n",
    "    plt.legend()\n",
    "    if log : plt.yscale('log')\n",
    "    plt.show()\n",
    "    "
   ]
  },
  {
   "cell_type": "code",
   "execution_count": 5,
   "metadata": {
    "scrolled": false
   },
   "outputs": [],
   "source": [
    "# Aggregate the headlines into blocks of 7 days. \n",
    "concated_news = concat_news(titles,7)"
   ]
  },
  {
   "cell_type": "code",
   "execution_count": 29,
   "metadata": {},
   "outputs": [],
   "source": [
    "# Tokenize the data using tf-idf from Keras and split into train/test\n",
    "max_words = 1000                # Include the max_words most common words. \n",
    "tokenizer = Tokenizer(num_words=max_words)\n",
    "tokenizer.fit_on_texts(concated_news['titles'])\n",
    "x = tokenizer.texts_to_matrix(concated_news['titles'],mode='tfidf')\n",
    "# Add a column with the days numeric data\n",
    "x = add_rate_data(x,oneyearrate,concated_news.index)\n",
    "n,d = x.shape\n",
    "test_fraction = 0.1       # Use 10 % as test data.\n",
    "x_train = x[:round(len(x)*(1 - test_fraction))]\n",
    "x_test = x[round(len(x)*(1 - test_fraction)):]\n",
    "\n",
    "# Construct the labels as the US treasury rate 3 months ahead of time. \n",
    "delta = timedelta(weeks=12)\n",
    "y_train = np.zeros(len(x_train))\n",
    "y_test = np.zeros(len(x_test))\n",
    "for index, entry in enumerate(concated_news.index):\n",
    "    if index < len(y_train): \n",
    "        y_train[index] = oneyearrate.loc[entry + delta]\n",
    "    else: \n",
    "        y_test[index - len(y_train)] = oneyearrate.loc[entry + delta]\n",
    "    "
   ]
  },
  {
   "cell_type": "code",
   "execution_count": 34,
   "metadata": {},
   "outputs": [
    {
     "name": "stdout",
     "output_type": "stream",
     "text": [
      "Model: \"sequential_6\"\n",
      "_________________________________________________________________\n",
      "Layer (type)                 Output Shape              Param #   \n",
      "=================================================================\n",
      "flatten_1 (Flatten)          (None, 3003)              0         \n",
      "_________________________________________________________________\n",
      "dense_10 (Dense)             (None, 32)                96128     \n",
      "_________________________________________________________________\n",
      "dense_11 (Dense)             (None, 1)                 33        \n",
      "_________________________________________________________________\n",
      "activation_4 (Activation)    (None, 1)                 0         \n",
      "=================================================================\n",
      "Total params: 96,161\n",
      "Trainable params: 96,161\n",
      "Non-trainable params: 0\n",
      "_________________________________________________________________\n"
     ]
    }
   ],
   "source": [
    "# Create an ordinary feed-forward model \n",
    "m_ff = Sequential()\n",
    "m_ff.add(Flatten(input_shape=(lookback,x.shape[-1])))\n",
    "m_ff.add(Dense(32,activation='relu'))\n",
    "m_ff.add(Dense(1))\n",
    "m_ff.add(Activation('linear'))\n",
    "\n",
    "#m_ff.add(Dense(512, input_shape = (max_words,)))\n",
    "#m_ff.add(Dropout(0.5))\n",
    "#m_ff.add(Activation('relu'))\n",
    "#m_ff.add(Dense(10))\n",
    "#m_ff.add(Dropout(0.5))\n",
    "#m_ff.add(Dense(1))\n",
    "#m_ff.add(Activation('linear'))\n",
    "m_ff.compile(loss='MSE',optimizer='adam')\n",
    "m_ff.summary()\n",
    "batch_size = 32\n",
    "epochs = 100"
   ]
  },
  {
   "cell_type": "code",
   "execution_count": 24,
   "metadata": {
    "scrolled": true
   },
   "outputs": [],
   "source": [
    "# Create a simple RNN-model with GRU\n",
    "m_gru = Sequential() \n",
    "m_gru.add(GRU(32,\n",
    "              dropout=0.2,\n",
    "              recurrent_dropout=0.2,\n",
    "              input_shape=(None, x.shape[-1])))\n",
    "m_gru.add(Dense(1))\n",
    "\n",
    "m_gru.compile(optimizer='adam', loss='mse')"
   ]
  },
  {
   "cell_type": "code",
   "execution_count": 25,
   "metadata": {
    "scrolled": false
   },
   "outputs": [],
   "source": [
    "# Create generators \n",
    "train_split = 0.6\n",
    "val_split = 0.2\n",
    "test_split = 0.2\n",
    "lookback=3\n",
    "delay=4\n",
    "batch_size=10\n",
    "train_gen = generator(data=x,\n",
    "                      lookback=lookback,\n",
    "                      delay=delay,\n",
    "                      min_index=0,\n",
    "                      max_index=round(train_split*n),\n",
    "                      shuffle=True,\n",
    "                      batch_size=batch_size\n",
    ")\n",
    "\n",
    "val_gen = generator(data=x,\n",
    "                    lookback=lookback,\n",
    "                    delay=delay,\n",
    "                    min_index=round(train_split*n) + 1,\n",
    "                    max_index=round(train_split*n) + round(val_split*n),\n",
    "                    batch_size=batch_size\n",
    ")\n",
    "\n",
    "test_gen = generator(data=x,\n",
    "                     lookback=lookback,\n",
    "                     delay=delay,\n",
    "                     min_index=round(train_split*n) + round(val_split*n) + 1,\n",
    "                     max_index=None,\n",
    "                    batch_size=batch_size\n",
    ")\n",
    "\n",
    "val_steps = (round(val_split*n) - 1 - lookback) // batch_size\n",
    "\n",
    "test_steps = (n - round(train_split*n) - round(val_split*n) - 1 - lookback) // batch_size"
   ]
  },
  {
   "cell_type": "code",
   "execution_count": 35,
   "metadata": {
    "scrolled": true
   },
   "outputs": [
    {
     "name": "stdout",
     "output_type": "stream",
     "text": [
      "Epoch 1/50\n",
      "10/10 [==============================] - 0s 25ms/step - loss: 9.0075 - val_loss: 4.2306\n",
      "Epoch 2/50\n",
      "10/10 [==============================] - 0s 22ms/step - loss: 1.2702 - val_loss: 0.3787\n",
      "Epoch 3/50\n",
      "10/10 [==============================] - 0s 23ms/step - loss: 0.3113 - val_loss: 0.3190\n",
      "Epoch 4/50\n",
      "10/10 [==============================] - 0s 23ms/step - loss: 0.2868 - val_loss: 0.3346\n",
      "Epoch 5/50\n",
      "10/10 [==============================] - 0s 24ms/step - loss: 0.2650 - val_loss: 0.2781\n",
      "Epoch 6/50\n",
      "10/10 [==============================] - 0s 23ms/step - loss: 0.2578 - val_loss: 0.2756\n",
      "Epoch 7/50\n",
      "10/10 [==============================] - 0s 22ms/step - loss: 0.1855 - val_loss: 0.2586\n",
      "Epoch 8/50\n",
      "10/10 [==============================] - 0s 23ms/step - loss: 0.1993 - val_loss: 0.2508\n",
      "Epoch 9/50\n",
      "10/10 [==============================] - 0s 22ms/step - loss: 0.1368 - val_loss: 0.2251\n",
      "Epoch 10/50\n",
      "10/10 [==============================] - 0s 23ms/step - loss: 0.1238 - val_loss: 0.2094\n",
      "Epoch 11/50\n",
      "10/10 [==============================] - 0s 24ms/step - loss: 0.1262 - val_loss: 0.2203\n",
      "Epoch 12/50\n",
      "10/10 [==============================] - 0s 23ms/step - loss: 0.0815 - val_loss: 0.1918\n",
      "Epoch 13/50\n",
      "10/10 [==============================] - 0s 23ms/step - loss: 0.1013 - val_loss: 0.1863\n",
      "Epoch 14/50\n",
      "10/10 [==============================] - 0s 22ms/step - loss: 0.0771 - val_loss: 0.2018\n",
      "Epoch 15/50\n",
      "10/10 [==============================] - 0s 25ms/step - loss: 0.0974 - val_loss: 0.1776\n",
      "Epoch 16/50\n",
      "10/10 [==============================] - 0s 23ms/step - loss: 0.0623 - val_loss: 0.1721\n",
      "Epoch 17/50\n",
      "10/10 [==============================] - 0s 23ms/step - loss: 0.0622 - val_loss: 0.1821\n",
      "Epoch 18/50\n",
      "10/10 [==============================] - 0s 23ms/step - loss: 0.0625 - val_loss: 0.1648\n",
      "Epoch 19/50\n",
      "10/10 [==============================] - 0s 22ms/step - loss: 0.0429 - val_loss: 0.1634\n",
      "Epoch 20/50\n",
      "10/10 [==============================] - 0s 23ms/step - loss: 0.0370 - val_loss: 0.1609\n",
      "Epoch 21/50\n",
      "10/10 [==============================] - 0s 30ms/step - loss: 0.0286 - val_loss: 0.1640\n",
      "Epoch 22/50\n",
      "10/10 [==============================] - 0s 31ms/step - loss: 0.0356 - val_loss: 0.1578\n",
      "Epoch 23/50\n",
      "10/10 [==============================] - 0s 25ms/step - loss: 0.0316 - val_loss: 0.1620\n",
      "Epoch 24/50\n",
      "10/10 [==============================] - 0s 27ms/step - loss: 0.0282 - val_loss: 0.1566\n",
      "Epoch 25/50\n",
      "10/10 [==============================] - 0s 25ms/step - loss: 0.0237 - val_loss: 0.1518\n",
      "Epoch 26/50\n",
      "10/10 [==============================] - 0s 23ms/step - loss: 0.0176 - val_loss: 0.1495\n",
      "Epoch 27/50\n",
      "10/10 [==============================] - 0s 27ms/step - loss: 0.0139 - val_loss: 0.1535\n",
      "Epoch 28/50\n",
      "10/10 [==============================] - 0s 23ms/step - loss: 0.0154 - val_loss: 0.1484\n",
      "Epoch 29/50\n",
      "10/10 [==============================] - 0s 25ms/step - loss: 0.0136 - val_loss: 0.1491\n",
      "Epoch 30/50\n",
      "10/10 [==============================] - 0s 23ms/step - loss: 0.0106 - val_loss: 0.1493\n",
      "Epoch 31/50\n",
      "10/10 [==============================] - 0s 22ms/step - loss: 0.0102 - val_loss: 0.1505\n",
      "Epoch 32/50\n",
      "10/10 [==============================] - 0s 23ms/step - loss: 0.0086 - val_loss: 0.1503\n",
      "Epoch 33/50\n",
      "10/10 [==============================] - 0s 22ms/step - loss: 0.0057 - val_loss: 0.1498\n",
      "Epoch 34/50\n",
      "10/10 [==============================] - 0s 22ms/step - loss: 0.0056 - val_loss: 0.1490\n",
      "Epoch 35/50\n",
      "10/10 [==============================] - 0s 30ms/step - loss: 0.0054 - val_loss: 0.1483\n",
      "Epoch 36/50\n",
      "10/10 [==============================] - 0s 27ms/step - loss: 0.0048 - val_loss: 0.1477\n",
      "Epoch 37/50\n",
      "10/10 [==============================] - 0s 25ms/step - loss: 0.0032 - val_loss: 0.1484\n",
      "Epoch 38/50\n",
      "10/10 [==============================] - 0s 30ms/step - loss: 0.0050 - val_loss: 0.1484\n",
      "Epoch 39/50\n",
      "10/10 [==============================] - 0s 23ms/step - loss: 0.0047 - val_loss: 0.1473\n",
      "Epoch 40/50\n",
      "10/10 [==============================] - 0s 25ms/step - loss: 0.0022 - val_loss: 0.1474\n",
      "Epoch 41/50\n",
      "10/10 [==============================] - 0s 23ms/step - loss: 0.0021 - val_loss: 0.1481\n",
      "Epoch 42/50\n",
      "10/10 [==============================] - 0s 26ms/step - loss: 0.0039 - val_loss: 0.1492\n",
      "Epoch 43/50\n",
      "10/10 [==============================] - 0s 27ms/step - loss: 0.0022 - val_loss: 0.1473\n",
      "Epoch 44/50\n",
      "10/10 [==============================] - 0s 23ms/step - loss: 0.0025 - val_loss: 0.1471\n",
      "Epoch 45/50\n",
      "10/10 [==============================] - 0s 25ms/step - loss: 0.0023 - val_loss: 0.1474\n",
      "Epoch 46/50\n",
      "10/10 [==============================] - 0s 23ms/step - loss: 7.9009e-04 - val_loss: 0.1469\n",
      "Epoch 47/50\n",
      "10/10 [==============================] - 0s 22ms/step - loss: 0.0018 - val_loss: 0.1461\n",
      "Epoch 48/50\n",
      "10/10 [==============================] - 0s 25ms/step - loss: 8.5883e-04 - val_loss: 0.1461\n",
      "Epoch 49/50\n",
      "10/10 [==============================] - 0s 25ms/step - loss: 0.0011 - val_loss: 0.1463\n",
      "Epoch 50/50\n",
      "10/10 [==============================] - 0s 27ms/step - loss: 7.3328e-04 - val_loss: 0.1478\n"
     ]
    }
   ],
   "source": [
    "# Fit feed-forward model \n",
    "ff_history = m_ff.fit_generator(train_gen,\n",
    "                               steps_per_epoch=10,\n",
    "                               epochs=50,\n",
    "                               validation_data=val_gen,\n",
    "                               validation_steps=val_steps)"
   ]
  },
  {
   "cell_type": "code",
   "execution_count": 27,
   "metadata": {
    "scrolled": true
   },
   "outputs": [
    {
     "data": {
      "image/png": "[encoded data removed]",
      "text/plain": [
       "<Figure size 432x288 with 1 Axes>"
      ]
     },
     "metadata": {
      "needs_background": "light"
     },
     "output_type": "display_data"
    }
   ],
   "source": [
    "# Fit GRU-model  \n",
    "gru_history = m_gru.fit_generator(train_gen,\n",
    "                                 steps_per_epoch=10,\n",
    "                                 epochs=50,\n",
    "                                 validation_data=val_gen,\n",
    "                                 validation_steps=val_steps)\n",
    "plot_history(gru_history,log=True)"
   ]
  },
  {
   "cell_type": "code",
   "execution_count": 36,
   "metadata": {},
   "outputs": [
    {
     "data": {
      "image/png": "[encoded data removed]",
      "text/plain": [
       "<Figure size 432x288 with 1 Axes>"
      ]
     },
     "metadata": {
      "needs_background": "light"
     },
     "output_type": "display_data"
    }
   ],
   "source": [
    "plot_history(ff_history,log=True)"
   ]
  },
  {
   "cell_type": "code",
   "execution_count": null,
   "metadata": {},
   "outputs": [],
   "source": [
    "history = model.fit_generator(gen,steps_per_epoch=5,epochs=1,verbose=1)"
   ]
  },
  {
   "cell_type": "code",
   "execution_count": null,
   "metadata": {},
   "outputs": [],
   "source": [
    "score = model.evaluate(x_test,y_test,batch_size=batch_size,verbose=0)\n",
    "plt.plot(history.history['loss'],label=\"Training Loss\")\n",
    "plt.plot(history.history['val_loss'],label=\"Val Loss\")\n",
    "plt.yscale(\"log\")\n",
    "plt.legend()\n",
    "print(\"Evaluation test score: {}\".format(round(score,5)))"
   ]
  },
  {
   "cell_type": "code",
   "execution_count": null,
   "metadata": {},
   "outputs": [],
   "source": [
    "preds_train = [model.predict(np.array([xi]))[0] for xi in x_train]"
   ]
  },
  {
   "cell_type": "code",
   "execution_count": null,
   "metadata": {
    "scrolled": false
   },
   "outputs": [],
   "source": [
    "preds_test = [model.predict(np.array([xi]))[0] for xi in x_test]\n",
    "plt.close()\n",
    "plt.plot(preds_train,label=\"Pred\")\n",
    "plt.plot(y_train,label=\"Values\")\n",
    "plt.legend()\n",
    "plt.show()\n",
    "plt.plot(preds_test,label=\"Pred\")\n",
    "plt.plot(y_test,label=\"Values\")\n",
    "plt.legend()\n",
    "plt.show()"
   ]
  },
  {
   "cell_type": "code",
   "execution_count": null,
   "metadata": {},
   "outputs": [],
   "source": [
    "gen = generator(data=concated_news,lookback=3,delay=4,min_index=0,max_index=250)\n",
    "model.fit_generator(gen,steps_per_epoch=5,epochs=1,verbose=1)"
   ]
  },
  {
   "cell_type": "code",
   "execution_count": null,
   "metadata": {},
   "outputs": [],
   "source": []
  },
  {
   "cell_type": "code",
   "execution_count": null,
   "metadata": {},
   "outputs": [],
   "source": []
  }
 ],
 "metadata": {
  "kernelspec": {
   "display_name": "Python 3",
   "language": "python",
   "name": "python3"
  },
  "language_info": {
   "codemirror_mode": {
    "name": "ipython",
    "version": 3
   },
   "file_extension": ".py",
   "mimetype": "text/x-python",
   "name": "python",
   "nbconvert_exporter": "python",
   "pygments_lexer": "ipython3",
   "version": "3.7.4"
  }
 },
 "nbformat": 4,
 "nbformat_minor": 2
}
