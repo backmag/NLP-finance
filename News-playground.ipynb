{
 "cells": [
  {
   "cell_type": "code",
   "execution_count": 4,
   "metadata": {},
   "outputs": [],
   "source": [
    "import tensorflow as tf\n",
    "import pandas as pd\n",
    "import numpy as np\n",
    "from datetime import datetime, timedelta\n",
    "%matplotlib inline\n",
    "import matplotlib.pyplot as plt\n",
    "from nltk.tokenize import word_tokenize\n",
    "from pathlib import Path\n",
    "from tensorflow.keras.preprocessing.text import Tokenizer\n",
    "from tensorflow.keras.models import Sequential\n",
    "from tensorflow.keras.layers import Dense, Activation, Dropout, GRU, Flatten, LSTM, SimpleRNN\n",
    "%run WordEmbeddings.ipynb"
   ]
  },
  {
   "cell_type": "code",
   "execution_count": 33,
   "metadata": {},
   "outputs": [],
   "source": [
    "# Setup tensorboard environment\n",
    "%reload_ext tensorboard\n",
    "logdir=Path(\"./logs/fit/newsplay\" + datetime.now().strftime(\"%Y%m%d-%H%M%S\"))\n",
    "tensorboard_callback = keras.callbacks.TensorBoard(log_dir=logdir)"
   ]
  },
  {
   "cell_type": "code",
   "execution_count": 34,
   "metadata": {},
   "outputs": [],
   "source": [
    "def generator(data, lookback, delay, min_index, max_index, shuffle=False, batch_size=32):\n",
    "    if max_index is None:\n",
    "        max_index = len(data) - delay - 1\n",
    "    i = min_index + lookback\n",
    "    while True:\n",
    "        if shuffle:\n",
    "            rows = np.random.randint(\n",
    "            min_index + lookback, max_index, size=batch_size)\n",
    "        else:\n",
    "            if i + batch_size >= max_index:\n",
    "                i = min_index + lookback\n",
    "            rows = np.arange(i, min(i + batch_size, max_index))\n",
    "            i += len(rows)\n",
    "        samples = np.zeros((len(rows),\n",
    "                       lookback,\n",
    "                       data.shape[-1]))\n",
    "        targets = np.zeros((len(rows),))\n",
    "        for j, row in enumerate(rows):\n",
    "            indices = range(rows[j] - lookback, rows[j])\n",
    "            samples[j] = data[indices]\n",
    "            targets[j] = data[rows[j] + delay][1]\n",
    "        yield samples, targets\n",
    "        \n",
    "def alt_generator(data, lookback, delay, indices, batch_size=32):\n",
    "    min_index = lookback\n",
    "    max_index = len(data) - delay - 1\n",
    "    current_batch_start = 0\n",
    "    while True:\n",
    "        if current_batch_start > len(indices): \n",
    "            current_batch_start = 0\n",
    "        rows = indices[current_batch_start:min(current_batch_start+batch_size,max_index)]\n",
    "        current_batch_start += batch_size\n",
    "        samples = np.zeros((len(rows), lookback, data.shape[-1]))\n",
    "        targets = np.zeros(len(rows),)\n",
    "        for i, index in enumerate(rows): \n",
    "                if (index > min_index) and (index < max_index):\n",
    "                    samples[i] = data[range(index - lookback,index)]\n",
    "                    targets[i] = data[index + delay][-1]\n",
    "        yield samples, targets\n",
    "        \n",
    "    \n",
    "def add_rate_data(x_words,x_rates,indices):\n",
    "    \"\"\"Add time-series data of the rate/returns to a data point which\n",
    "    containes some vectorized version of words. If the word-data has a datapoint from \n",
    "    a day not included in the rate/return-date, an average of the closest datapoints \n",
    "    in time are selected. \n",
    "    \n",
    "    Parameters: \n",
    "    A numpy array x_words representing the words with shape n*d and a numpy array \n",
    "    x_rates of prices/rates with shape n. \n",
    "    \n",
    "    Returns: \n",
    "    A numpy array of shape n*(d+1) \n",
    "    \"\"\"\n",
    "    start_date = x_rates.index[0]\n",
    "    end_date = x_rates.index[-1]\n",
    "    temp = np.zeros((x_words.shape[0], x_words.shape[1]+1))\n",
    "    temp[:,:-1] = x_words\n",
    "    n_interpol = 0\n",
    "    for i, date in enumerate(indices): \n",
    "        if date not in x_rates: \n",
    "            n_interpol += 1\n",
    "            prev_valid = date\n",
    "            next_valid = date\n",
    "            while prev_valid not in x_rates:\n",
    "                prev_valid = prev_valid - timedelta(days=1)\n",
    "                if prev_valid < start_date: \n",
    "                    prev_valid = start_date\n",
    "                    break\n",
    "            while next_valid not in x_rates: \n",
    "                next_valid = next_valid + timedelta(days=1)\n",
    "                if next_valid > end_date: \n",
    "                    next_valid = end_date\n",
    "                    break\n",
    "            rate = (x_rates.loc[prev_valid] + x_rates.loc[next_valid]) / 2\n",
    "            temp[i,-1] = rate\n",
    "        else: \n",
    "            temp[i,-1] = x_rates.loc[date]\n",
    "    print(\"{} interpolated values of {} total.\".format(n_interpol, len(indices)))\n",
    "    return temp\n",
    "\n",
    "def plot_history(history,title=\"\",train=True,val=True,log=True):\n",
    "    if train: \n",
    "        plt.plot(history.history['loss'],label=\"Train\")\n",
    "    if val:\n",
    "        plt.plot(history.history['val_loss'],label=\"Val\")\n",
    "    plt.legend()\n",
    "    if log : plt.yscale('log')\n",
    "    if not title == \"\" : plt.title(title)\n",
    "    plt.show()\n",
    "\n",
    "def naive_prediction_gen(gen, steps):\n",
    "    mse = []\n",
    "    for step in range(int(steps)):\n",
    "        samples, targets = next(gen)\n",
    "        preds = samples[:, -1, 1]\n",
    "        mse.append(np.mean(np.square(preds - targets)))\n",
    "    return np.mean(mse)"
   ]
  },
  {
   "cell_type": "code",
   "execution_count": 35,
   "metadata": {},
   "outputs": [
    {
     "name": "stdout",
     "output_type": "stream",
     "text": [
      "Found 2582 days with 106494 news titles.\n",
      "Concatinated to 2587 samples with an average of 41.1651 titles per sample.\n"
     ]
    }
   ],
   "source": [
    "# Load and process the text data \n",
    "path = r\"./Datasets/data/financial_headlines_20061020-20131119.pkl\"\n",
    "start_date = datetime(2006,10,20)\n",
    "end_date = datetime(2013,1,1)\n",
    "x, indices = process_text(path,method=\"tfidf\",period=1,max_words=100)"
   ]
  },
  {
   "cell_type": "code",
   "execution_count": 36,
   "metadata": {},
   "outputs": [
    {
     "name": "stdout",
     "output_type": "stream",
     "text": [
      "740 interpolated values of 2587 total.\n"
     ]
    }
   ],
   "source": [
    "# Load the financial data\n",
    "financial_data = pd.read_pickle(r\"./Datasets/data/stock_data.pkl\")\n",
    "oneyearrate = financial_data['1 YEAR']\n",
    "threeyearrate = financial_data['3 YEAR']\n",
    "SP = financial_data['S&P']\n",
    "# Insert the 1-Year rate as a feature in the word-matrix\n",
    "x = add_rate_data(x,oneyearrate,indices)\n",
    "n,d = x.shape"
   ]
  },
  {
   "cell_type": "code",
   "execution_count": 37,
   "metadata": {},
   "outputs": [],
   "source": [
    "# Training for eps epochs\n",
    "eps = 10\n",
    "\n",
    "# Proportions of data usage\n",
    "train_split = 0.6\n",
    "val_split = 0.2\n",
    "test_split = 0.2\n",
    "\n",
    "# Shuffle the data to be used for train/val/test\n",
    "indices = [i for i in range(n)]\n",
    "np.random.shuffle(indices)\n",
    "train_indices = indices[0:round(n*train_split)]\n",
    "val_indices = indices[round(n*train_split):round(n*(train_split + val_split))]\n",
    "test_indices = indices[round(n*(train_split + val_split)): n]\n",
    "\n",
    "# Extract the financial data to be evaluated for ARIMA\n",
    "train_fin = x[train_indices,-1]\n",
    "val_fin = x[val_indices,-1]\n",
    "test_fin = x[test_indices,-1]\n",
    "\n",
    "lookback=12   # Lookback 12 weeks.\n",
    "delay=12      # Predict 12 weeks ahead. \n",
    "batch_size=10\n",
    "train_gen = alt_generator(data=x,\n",
    "                      lookback=lookback,\n",
    "                      delay=delay,\n",
    "                      indices = train_indices,\n",
    "                      batch_size=batch_size\n",
    ")\n",
    "\n",
    "val_gen = alt_generator(data=x,\n",
    "                      lookback=lookback,\n",
    "                      delay=delay,\n",
    "                      indices = val_indices,\n",
    "                      batch_size=batch_size\n",
    ")\n",
    "\n",
    "test_gen = alt_generator(data=x,\n",
    "                      lookback=lookback,\n",
    "                      delay=delay,\n",
    "                      indices = test_indices,\n",
    "                      batch_size=batch_size\n",
    ")\n",
    "\n",
    "val_steps = (val_split * n) // batch_size\n",
    "\n",
    "test_steps = (test_split * n) // batch_size\n"
   ]
  },
  {
   "cell_type": "code",
   "execution_count": 38,
   "metadata": {
    "scrolled": true
   },
   "outputs": [
    {
     "name": "stdout",
     "output_type": "stream",
     "text": [
      "Model: \"sequential_8\"\n",
      "_________________________________________________________________\n",
      "Layer (type)                 Output Shape              Param #   \n",
      "=================================================================\n",
      "flatten_2 (Flatten)          (None, 1212)              0         \n",
      "_________________________________________________________________\n",
      "dense_10 (Dense)             (None, 32)                38816     \n",
      "_________________________________________________________________\n",
      "dense_11 (Dense)             (None, 1)                 33        \n",
      "_________________________________________________________________\n",
      "activation_2 (Activation)    (None, 1)                 0         \n",
      "=================================================================\n",
      "Total params: 38,849\n",
      "Trainable params: 38,849\n",
      "Non-trainable params: 0\n",
      "_________________________________________________________________\n"
     ]
    }
   ],
   "source": [
    "# Create a simple feed-forward model (no recurrent layers)\n",
    "m_ff = Sequential()\n",
    "m_ff.add(Flatten(input_shape=(lookback,x.shape[-1])))\n",
    "m_ff.add(Dense(32,activation='relu'))\n",
    "m_ff.add(Dense(1))\n",
    "m_ff.add(Activation('linear'))\n",
    "\n",
    "m_ff.compile(loss='MSE',optimizer='adam')\n",
    "m_ff.summary()"
   ]
  },
  {
   "cell_type": "code",
   "execution_count": 39,
   "metadata": {},
   "outputs": [
    {
     "name": "stdout",
     "output_type": "stream",
     "text": [
      "Model: \"sequential_9\"\n",
      "_________________________________________________________________\n",
      "Layer (type)                 Output Shape              Param #   \n",
      "=================================================================\n",
      "simple_rnn_4 (SimpleRNN)     (None, None, 32)          4288      \n",
      "_________________________________________________________________\n",
      "simple_rnn_5 (SimpleRNN)     (None, 32)                2080      \n",
      "_________________________________________________________________\n",
      "dense_12 (Dense)             (None, 1)                 33        \n",
      "=================================================================\n",
      "Total params: 6,401\n",
      "Trainable params: 6,401\n",
      "Non-trainable params: 0\n",
      "_________________________________________________________________\n"
     ]
    }
   ],
   "source": [
    "# Create a simple RNN model\n",
    "m_rnn = Sequential()\n",
    "m_rnn.add(SimpleRNN(32, return_sequences=True,input_shape=(None, x.shape[-1])))\n",
    "m_rnn.add(SimpleRNN(32))\n",
    "m_rnn.add(Dense(1))\n",
    "m_rnn.compile(optimizer='adam',loss='mse')\n",
    "\n",
    "m_rnn.summary()"
   ]
  },
  {
   "cell_type": "code",
   "execution_count": 40,
   "metadata": {
    "scrolled": true
   },
   "outputs": [
    {
     "name": "stdout",
     "output_type": "stream",
     "text": [
      "Model: \"sequential_10\"\n",
      "_________________________________________________________________\n",
      "Layer (type)                 Output Shape              Param #   \n",
      "=================================================================\n",
      "gru_4 (GRU)                  (None, None, 32)          12960     \n",
      "_________________________________________________________________\n",
      "gru_5 (GRU)                  (None, 32)                6336      \n",
      "_________________________________________________________________\n",
      "dense_13 (Dense)             (None, 1)                 33        \n",
      "=================================================================\n",
      "Total params: 19,329\n",
      "Trainable params: 19,329\n",
      "Non-trainable params: 0\n",
      "_________________________________________________________________\n"
     ]
    }
   ],
   "source": [
    "# Create an RNN-model with GRU\n",
    "m_gru = Sequential() \n",
    "m_gru.add(GRU(32,\n",
    "              dropout=0.2,\n",
    "              recurrent_dropout=0.2,\n",
    "              return_sequences=True,\n",
    "              input_shape=(None, x.shape[-1])))\n",
    "m_gru.add(GRU(32,\n",
    "             dropout=0.2,\n",
    "             recurrent_dropout=0.2))\n",
    "m_gru.add(Dense(1))\n",
    "\n",
    "m_gru.compile(optimizer='adam', loss='mse')\n",
    "m_gru.summary()"
   ]
  },
  {
   "cell_type": "code",
   "execution_count": 41,
   "metadata": {},
   "outputs": [
    {
     "name": "stdout",
     "output_type": "stream",
     "text": [
      "Model: \"sequential_11\"\n",
      "_________________________________________________________________\n",
      "Layer (type)                 Output Shape              Param #   \n",
      "=================================================================\n",
      "lstm_4 (LSTM)                (None, None, 32)          17152     \n",
      "_________________________________________________________________\n",
      "lstm_5 (LSTM)                (None, 32)                8320      \n",
      "_________________________________________________________________\n",
      "dense_14 (Dense)             (None, 1)                 33        \n",
      "=================================================================\n",
      "Total params: 25,505\n",
      "Trainable params: 25,505\n",
      "Non-trainable params: 0\n",
      "_________________________________________________________________\n"
     ]
    }
   ],
   "source": [
    "# Create an RNN-model with LSTM\n",
    "m_lstm = Sequential() \n",
    "m_lstm.add(LSTM(32,\n",
    "                dropout=0.2,\n",
    "                recurrent_dropout=0.2,\n",
    "                return_sequences=True,\n",
    "                input_shape=(None, x.shape[-1])))\n",
    "m_lstm.add(LSTM(32,\n",
    "                dropout=0.2,\n",
    "                recurrent_dropout=0.2))\n",
    "m_lstm.add(Dense(1))\n",
    "m_lstm.compile(optimizer='adam', loss='mse')\n",
    "m_lstm.summary()"
   ]
  },
  {
   "cell_type": "code",
   "execution_count": 42,
   "metadata": {
    "scrolled": true
   },
   "outputs": [
    {
     "name": "stdout",
     "output_type": "stream",
     "text": [
      "Epoch 1/10\n",
      "10/10 [==============================] - 1s 57ms/step - loss: 3.5363 - val_loss: 2.2205\n",
      "Epoch 2/10\n",
      "10/10 [==============================] - 1s 61ms/step - loss: 1.1471 - val_loss: 0.7511\n",
      "Epoch 3/10\n",
      "10/10 [==============================] - 1s 51ms/step - loss: 0.6363 - val_loss: 0.5164\n",
      "Epoch 4/10\n",
      "10/10 [==============================] - 0s 49ms/step - loss: 0.5103 - val_loss: 0.4404\n",
      "Epoch 5/10\n",
      "10/10 [==============================] - 1s 53ms/step - loss: 0.3761 - val_loss: 0.3726\n",
      "Epoch 6/10\n",
      "10/10 [==============================] - 1s 59ms/step - loss: 0.2958 - val_loss: 0.2871\n",
      "Epoch 7/10\n",
      "10/10 [==============================] - 1s 58ms/step - loss: 0.2805 - val_loss: 0.2646\n",
      "Epoch 8/10\n",
      "10/10 [==============================] - 1s 63ms/step - loss: 0.1664 - val_loss: 0.2593\n",
      "Epoch 9/10\n",
      "10/10 [==============================] - 1s 59ms/step - loss: 0.2882 - val_loss: 0.2340\n",
      "Epoch 10/10\n",
      "10/10 [==============================] - 1s 55ms/step - loss: 0.1846 - val_loss: 0.2224\n"
     ]
    }
   ],
   "source": [
    "# Fit feed-forward model \n",
    "ff_history = m_ff.fit_generator(train_gen,\n",
    "                               steps_per_epoch=10,\n",
    "                               epochs=eps,\n",
    "                               validation_data=val_gen,\n",
    "                               validation_steps=val_steps,\n",
    "                               callbacks=[tensorboard_callback])"
   ]
  },
  {
   "cell_type": "code",
   "execution_count": 16,
   "metadata": {
    "scrolled": true
   },
   "outputs": [
    {
     "name": "stdout",
     "output_type": "stream",
     "text": [
      "Epoch 1/10\n",
      "10/10 [==============================] - 11s 1s/step - loss: 2.2340 - val_loss: 2.3136\n",
      "Epoch 2/10\n",
      "10/10 [==============================] - 12s 1s/step - loss: 1.4694 - val_loss: 1.9694\n",
      "Epoch 3/10\n",
      "10/10 [==============================] - 13s 1s/step - loss: 2.0708 - val_loss: 1.4597\n",
      "Epoch 4/10\n",
      "10/10 [==============================] - 12s 1s/step - loss: 1.6519 - val_loss: 1.2570\n",
      "Epoch 5/10\n",
      "10/10 [==============================] - 13s 1s/step - loss: 0.9471 - val_loss: 1.1440\n",
      "Epoch 6/10\n",
      "10/10 [==============================] - 12s 1s/step - loss: 0.8369 - val_loss: 1.1497\n",
      "Epoch 7/10\n",
      "10/10 [==============================] - 13s 1s/step - loss: 0.7625 - val_loss: 1.0992\n",
      "Epoch 8/10\n",
      "10/10 [==============================] - 13s 1s/step - loss: 0.9186 - val_loss: 1.0102\n",
      "Epoch 9/10\n",
      "10/10 [==============================] - 12s 1s/step - loss: 0.9481 - val_loss: 0.9922\n",
      "Epoch 10/10\n",
      "10/10 [==============================] - 12s 1s/step - loss: 1.1109 - val_loss: 0.7304\n"
     ]
    }
   ],
   "source": [
    "# Fit GRU-model  \n",
    "gru_history = m_gru.fit_generator(train_gen,\n",
    "                                 steps_per_epoch=10,\n",
    "                                 epochs=eps,\n",
    "                                 validation_data=val_gen,\n",
    "                                 validation_steps=val_steps,\n",
    "                                 callbacks=[tensorboard_callback])\n"
   ]
  },
  {
   "cell_type": "code",
   "execution_count": 17,
   "metadata": {
    "scrolled": true
   },
   "outputs": [
    {
     "name": "stdout",
     "output_type": "stream",
     "text": [
      "Epoch 1/10\n",
      "10/10 [==============================] - 3s 316ms/step - loss: 1.8511 - val_loss: 1.7531\n",
      "Epoch 2/10\n",
      "10/10 [==============================] - 3s 319ms/step - loss: 1.3605 - val_loss: 1.2174\n",
      "Epoch 3/10\n",
      "10/10 [==============================] - 3s 315ms/step - loss: 0.8439 - val_loss: 0.8036\n",
      "Epoch 4/10\n",
      "10/10 [==============================] - 3s 328ms/step - loss: 0.4974 - val_loss: 0.5716\n",
      "Epoch 5/10\n",
      "10/10 [==============================] - 3s 314ms/step - loss: 0.4763 - val_loss: 0.4541\n",
      "Epoch 6/10\n",
      "10/10 [==============================] - 3s 310ms/step - loss: 0.4574 - val_loss: 0.3752\n",
      "Epoch 7/10\n",
      "10/10 [==============================] - 3s 325ms/step - loss: 0.3249 - val_loss: 0.3009\n",
      "Epoch 8/10\n",
      "10/10 [==============================] - 3s 312ms/step - loss: 0.2231 - val_loss: 0.2211\n",
      "Epoch 9/10\n",
      "10/10 [==============================] - 3s 318ms/step - loss: 0.2264 - val_loss: 0.1869\n",
      "Epoch 10/10\n",
      "10/10 [==============================] - 3s 304ms/step - loss: 0.2742 - val_loss: 0.2710\n"
     ]
    }
   ],
   "source": [
    "rnn_history = m_rnn.fit_generator(train_gen,\n",
    "                                 steps_per_epoch=10,\n",
    "                                 epochs=eps,\n",
    "                                 validation_data=val_gen,\n",
    "                                 validation_steps=val_steps,\n",
    "                                 callbacks=[tensorboard_callback])"
   ]
  },
  {
   "cell_type": "code",
   "execution_count": 18,
   "metadata": {
    "scrolled": true
   },
   "outputs": [
    {
     "name": "stdout",
     "output_type": "stream",
     "text": [
      "Epoch 1/10\n",
      "10/10 [==============================] - 8s 833ms/step - loss: 2.6866 - val_loss: 2.8608\n",
      "Epoch 2/10\n",
      "10/10 [==============================] - 8s 816ms/step - loss: 3.0747 - val_loss: 2.3445\n",
      "Epoch 3/10\n",
      "10/10 [==============================] - 8s 816ms/step - loss: 3.1684 - val_loss: 1.6546\n",
      "Epoch 4/10\n",
      "10/10 [==============================] - 8s 820ms/step - loss: 1.3065 - val_loss: 0.7880\n",
      "Epoch 5/10\n",
      "10/10 [==============================] - 8s 822ms/step - loss: 0.8312 - val_loss: 0.5099\n",
      "Epoch 6/10\n",
      "10/10 [==============================] - 8s 819ms/step - loss: 0.5493 - val_loss: 0.3423\n",
      "Epoch 7/10\n",
      "10/10 [==============================] - 8s 823ms/step - loss: 0.9676 - val_loss: 0.2199\n",
      "Epoch 8/10\n",
      "10/10 [==============================] - 8s 846ms/step - loss: 0.3479 - val_loss: 0.1380\n",
      "Epoch 9/10\n",
      "10/10 [==============================] - 8s 824ms/step - loss: 0.4180 - val_loss: 0.2077\n",
      "Epoch 10/10\n",
      "10/10 [==============================] - 8s 826ms/step - loss: 0.7862 - val_loss: 0.1175\n"
     ]
    }
   ],
   "source": [
    "lstm_history = m_lstm.fit_generator(train_gen,\n",
    "                                   steps_per_epoch=10,\n",
    "                                   epochs=eps,\n",
    "                                   validation_data=val_gen,\n",
    "                                   validation_steps=val_steps,\n",
    "                                   callbacks=[tensorboard_callback])"
   ]
  },
  {
   "cell_type": "code",
   "execution_count": 19,
   "metadata": {},
   "outputs": [
    {
     "data": {
      "image/png": "[encoded data removed]",
      "text/plain": [
       "<Figure size 432x288 with 1 Axes>"
      ]
     },
     "metadata": {
      "needs_background": "light"
     },
     "output_type": "display_data"
    },
    {
     "data": {
      "image/png": "[encoded data removed]",
      "text/plain": [
       "<Figure size 432x288 with 1 Axes>"
      ]
     },
     "metadata": {
      "needs_background": "light"
     },
     "output_type": "display_data"
    },
    {
     "data": {
      "image/png": "[encoded data removed]",
      "text/plain": [
       "<Figure size 432x288 with 1 Axes>"
      ]
     },
     "metadata": {
      "needs_background": "light"
     },
     "output_type": "display_data"
    },
    {
     "data": {
      "image/png": "[encoded data removed]",
      "text/plain": [
       "<Figure size 432x288 with 1 Axes>"
      ]
     },
     "metadata": {
      "needs_background": "light"
     },
     "output_type": "display_data"
    }
   ],
   "source": [
    "plot_history(gru_history,log=True,title=\"GRU\")\n",
    "plot_history(ff_history,log=True, title=\"MLP\")\n",
    "plot_history(rnn_history,log=True,title=\"RNN\")\n",
    "plot_history(lstm_history,log=True,title=\"LSTM\")\n"
   ]
  },
  {
   "cell_type": "code",
   "execution_count": 20,
   "metadata": {},
   "outputs": [
    {
     "data": {
      "text/html": [
       "<div>\n",
       "<style scoped>\n",
       "    .dataframe tbody tr th:only-of-type {\n",
       "        vertical-align: middle;\n",
       "    }\n",
       "\n",
       "    .dataframe tbody tr th {\n",
       "        vertical-align: top;\n",
       "    }\n",
       "\n",
       "    .dataframe thead th {\n",
       "        text-align: right;\n",
       "    }\n",
       "</style>\n",
       "<table border=\"1\" class=\"dataframe\">\n",
       "  <thead>\n",
       "    <tr style=\"text-align: right;\">\n",
       "      <th></th>\n",
       "      <th>MLP</th>\n",
       "      <th>SimpleRNN</th>\n",
       "      <th>LSTM</th>\n",
       "      <th>GRU</th>\n",
       "      <th>Naive</th>\n",
       "    </tr>\n",
       "  </thead>\n",
       "  <tbody>\n",
       "    <tr>\n",
       "      <td>Test MSE</td>\n",
       "      <td>0.294834</td>\n",
       "      <td>0.304531</td>\n",
       "      <td>0.156218</td>\n",
       "      <td>0.647481</td>\n",
       "      <td>5.64064</td>\n",
       "    </tr>\n",
       "  </tbody>\n",
       "</table>\n",
       "</div>"
      ],
      "text/plain": [
       "               MLP  SimpleRNN      LSTM       GRU    Naive\n",
       "Test MSE  0.294834   0.304531  0.156218  0.647481  5.64064"
      ]
     },
     "execution_count": 20,
     "metadata": {},
     "output_type": "execute_result"
    }
   ],
   "source": [
    "# Evaluate the results on the test data. \n",
    "# Also evaluate the MSE of a naive approach which just predicts  the \n",
    "# rate in 3 months as the rate today. \n",
    "ff_eval = m_ff.evaluate_generator(test_gen, test_steps)\n",
    "rnn_eval = m_rnn.evaluate_generator(test_gen, test_steps)\n",
    "lstm_eval = m_lstm.evaluate_generator(test_gen, test_steps)\n",
    "gru_eval = m_gru.evaluate_generator(test_gen, test_steps)\n",
    "\n",
    "naive_eval = naive_prediction_gen(test_gen, test_steps)\n",
    "pd.DataFrame({'MLP': ff_eval, 'SimpleRNN': rnn_eval, 'LSTM': lstm_eval, 'GRU': gru_eval, 'Naive': naive_eval}, index=['Test MSE'])"
   ]
  },
  {
   "cell_type": "code",
   "execution_count": 43,
   "metadata": {},
   "outputs": [
    {
     "data": {
      "text/plain": [
       "Reusing TensorBoard on port 6006 (pid 4632), started 0:17:57 ago. (Use '!kill 4632' to kill it.)"
      ]
     },
     "metadata": {},
     "output_type": "display_data"
    },
    {
     "data": {
      "text/html": [
       "\n",
       "      <iframe id=\"tensorboard-frame-ad6bc2faeef4a42f\" width=\"100%\" height=\"800\" frameborder=\"0\">\n",
       "      </iframe>\n",
       "      <script>\n",
       "        (function() {\n",
       "          const frame = document.getElementById(\"tensorboard-frame-ad6bc2faeef4a42f\");\n",
       "          const url = new URL(\"/\", window.location);\n",
       "          url.port = 6006;\n",
       "          frame.src = url;\n",
       "        })();\n",
       "      </script>\n",
       "  "
      ],
      "text/plain": [
       "<IPython.core.display.HTML object>"
      ]
     },
     "metadata": {},
     "output_type": "display_data"
    }
   ],
   "source": [
    "%tensorboard --logdir=logs"
   ]
  },
  {
   "cell_type": "code",
   "execution_count": 38,
   "metadata": {},
   "outputs": [],
   "source": [
    "# Save the models. \n",
    "now = datetime.now().strftime(\"%m_%d\")\n",
    "m_ff.save(\"Models\\m_ff_{}.h5\".format(now))\n",
    "m_gru.save(\"Models\\m_gru_{}.h5\".format(now))\n",
    "m_rnn.save(\"Models\\m_rnn_{}.h5\".format(now))\n",
    "m_lstm.save(\"Models\\m_lstm_{}.h5\".format(now))"
   ]
  },
  {
   "cell_type": "code",
   "execution_count": null,
   "metadata": {},
   "outputs": [],
   "source": []
  },
  {
   "cell_type": "code",
   "execution_count": null,
   "metadata": {},
   "outputs": [],
   "source": []
  },
  {
   "cell_type": "code",
   "execution_count": null,
   "metadata": {},
   "outputs": [],
   "source": []
  }
 ],
 "metadata": {
  "kernelspec": {
   "display_name": "Python 3",
   "language": "python",
   "name": "python3"
  },
  "language_info": {
   "codemirror_mode": {
    "name": "ipython",
    "version": 3
   },
   "file_extension": ".py",
   "mimetype": "text/x-python",
   "name": "python",
   "nbconvert_exporter": "python",
   "pygments_lexer": "ipython3",
   "version": "3.7.4"
  }
 },
 "nbformat": 4,
 "nbformat_minor": 2
}
