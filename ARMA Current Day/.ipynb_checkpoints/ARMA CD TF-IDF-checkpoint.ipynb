{
 "cells": [
  {
   "cell_type": "markdown",
   "metadata": {},
   "source": [
    "### Financial Index Prediction\n",
    "This notebook seeks to predict if an ARMA model predicts a higher or lower price than the actual outcome. News from day $k$ are used to evaluate the outcome on day $k$. A range of different combinations between statistical and NLP-models are used. "
   ]
  },
  {
   "cell_type": "code",
   "execution_count": 1,
   "metadata": {},
   "outputs": [],
   "source": [
    "import os\n",
    "import pandas as pd\n",
    "import numpy as np\n",
    "import seaborn as sn\n",
    "import matplotlib.pyplot as plt\n",
    "from sklearn.utils import parallel_backend\n",
    "from pathlib import Path\n",
    "from sklearn.feature_extraction.text import TfidfTransformer, CountVectorizer\n",
    "from sklearn.metrics import classification_report, confusion_matrix, f1_score, plot_confusion_matrix\n",
    "from sklearn.linear_model import LogisticRegression\n",
    "from sklearn.discriminant_analysis import LinearDiscriminantAnalysis\n",
    "from sklearn.ensemble import RandomForestClassifier\n",
    "from sklearn.model_selection import GridSearchCV\n",
    "from sklearn import svm\n",
    "from tqdm import tqdm, trange\n",
    "from sklearn.dummy import DummyClassifier\n",
    "from tensorflow.keras.models import Sequential\n",
    "from tensorflow.keras.layers import Dense, Dropout, Flatten\n",
    "from tensorflow.keras.optimizers import RMSprop, Adam\n",
    "from tensorflow.keras.callbacks import EarlyStopping\n",
    "from tensorflow.keras.wrappers.scikit_learn import KerasClassifier"
   ]
  },
  {
   "cell_type": "markdown",
   "metadata": {},
   "source": [
    "#### Load financial news data and financial index data"
   ]
  },
  {
   "cell_type": "code",
   "execution_count": 2,
   "metadata": {},
   "outputs": [],
   "source": [
    "ONEDRIVE_PATH = Path(r\"C:\\Users\\gusta\\Kidbrooke Advisory Ab\\KidbrookeOneDrive - Gustaf Backman exjobb\")\n",
    "\n",
    "# Read the financial data \n",
    "fin_path = ONEDRIVE_PATH / \"Input Data/stock_data.pkl\"\n",
    "fin_data = pd.read_pickle(fin_path)\n",
    "# Read from 2006-10-20 for next day preds or from 2006-10-19 for current day preds\n",
    "fin_data = fin_data.loc['2006-10-20' : '2013-11-22']\n",
    "\n",
    "news_path = ONEDRIVE_PATH / \"Input Data/financial_headlines_20061020-20131119.pkl\"\n",
    "news_data = pd.DataFrame(pd.read_pickle(news_path))\n",
    "news_data.set_index('date',inplace=True)"
   ]
  },
  {
   "cell_type": "code",
   "execution_count": 3,
   "metadata": {},
   "outputs": [],
   "source": [
    "news_dates = news_data.index.drop_duplicates()\n",
    "fin_dates = fin_data.index.drop_duplicates()\n",
    "\n",
    "# Find the dates which are present in both the financial data and news data\n",
    "valid_dates = []\n",
    "for date in news_dates: \n",
    "    if date in fin_data.index: \n",
    "        valid_dates.append(date)\n",
    "        \n",
    "# Create targets for all 3 time series \n",
    "targets = pd.DataFrame(dtype='int8')\n",
    "prev_vals = fin_data.iloc[0]\n",
    "for date in valid_dates: \n",
    "    y_temp = []\n",
    "    # If the value has increased since yesterday, y = 1\n",
    "    if prev_vals['1 YEAR'] < fin_data.loc[date]['1 YEAR']: \n",
    "        y_temp.append(1)\n",
    "    else:\n",
    "        y_temp.append(0)\n",
    "        \n",
    "    if prev_vals['3 YEAR'] < fin_data.loc[date]['3 YEAR']: \n",
    "        y_temp.append(1)\n",
    "    else:\n",
    "        y_temp.append(0)\n",
    "        \n",
    "    if prev_vals['S&P'] < fin_data.loc[date]['S&P']: \n",
    "        y_temp.append(1)\n",
    "    else:\n",
    "        y_temp.append(0)\n",
    "    targets = targets.append({'1 YEAR':y_temp[0], '3 YEAR':y_temp[1], 'S&P':y_temp[2]}, ignore_index=True)\n",
    "    prev_vals = fin_data.loc[date]"
   ]
  },
  {
   "cell_type": "code",
   "execution_count": 4,
   "metadata": {},
   "outputs": [
    {
     "name": "stderr",
     "output_type": "stream",
     "text": [
      "100%|██████████████████████████████████████████████████████████████████████████████| 1846/1846 [00:56<00:00, 32.95it/s]"
     ]
    },
    {
     "name": "stdout",
     "output_type": "stream",
     "text": [
      "Length of texts: 1846\n",
      "Length of targets: 1846\n"
     ]
    },
    {
     "name": "stderr",
     "output_type": "stream",
     "text": [
      "\n"
     ]
    }
   ],
   "source": [
    "# Concatenate the news for each day in the valid indices, i.e. the indices that are present in both \n",
    "# the financial data and the news data \n",
    "texts = []\n",
    "for date in tqdm(valid_dates): \n",
    "    temp_texts = \"\"\n",
    "    for i,text in enumerate(news_data.loc[date]['title']): \n",
    "        if i < len(news_data.loc[date]['title']) - 1:\n",
    "            temp_texts += text + \". \"\n",
    "        else:\n",
    "            temp_texts += text\n",
    "    texts.append(temp_texts)\n",
    "texts = np.asarray(texts)\n",
    "print(\"Length of texts:\",len(texts))\n",
    "print(\"Length of targets:\",len(targets))"
   ]
  },
  {
   "cell_type": "code",
   "execution_count": 13,
   "metadata": {},
   "outputs": [
    {
     "data": {
      "text/html": [
       "<div>\n",
       "<style scoped>\n",
       "    .dataframe tbody tr th:only-of-type {\n",
       "        vertical-align: middle;\n",
       "    }\n",
       "\n",
       "    .dataframe tbody tr th {\n",
       "        vertical-align: top;\n",
       "    }\n",
       "\n",
       "    .dataframe thead th {\n",
       "        text-align: right;\n",
       "    }\n",
       "</style>\n",
       "<table border=\"1\" class=\"dataframe\">\n",
       "  <thead>\n",
       "    <tr style=\"text-align: right;\">\n",
       "      <th></th>\n",
       "      <th>1 YEAR</th>\n",
       "      <th>3 YEAR</th>\n",
       "      <th>S&amp;P</th>\n",
       "    </tr>\n",
       "  </thead>\n",
       "  <tbody>\n",
       "    <tr>\n",
       "      <th>0</th>\n",
       "      <td>1.0</td>\n",
       "      <td>0.0</td>\n",
       "      <td>1.0</td>\n",
       "    </tr>\n",
       "    <tr>\n",
       "      <th>1</th>\n",
       "      <td>0.0</td>\n",
       "      <td>0.0</td>\n",
       "      <td>0.0</td>\n",
       "    </tr>\n",
       "    <tr>\n",
       "      <th>2</th>\n",
       "      <td>0.0</td>\n",
       "      <td>1.0</td>\n",
       "      <td>1.0</td>\n",
       "    </tr>\n",
       "    <tr>\n",
       "      <th>3</th>\n",
       "      <td>1.0</td>\n",
       "      <td>1.0</td>\n",
       "      <td>0.0</td>\n",
       "    </tr>\n",
       "    <tr>\n",
       "      <th>4</th>\n",
       "      <td>1.0</td>\n",
       "      <td>1.0</td>\n",
       "      <td>0.0</td>\n",
       "    </tr>\n",
       "    <tr>\n",
       "      <th>...</th>\n",
       "      <td>...</td>\n",
       "      <td>...</td>\n",
       "      <td>...</td>\n",
       "    </tr>\n",
       "    <tr>\n",
       "      <th>1840</th>\n",
       "      <td>0.0</td>\n",
       "      <td>0.0</td>\n",
       "      <td>1.0</td>\n",
       "    </tr>\n",
       "    <tr>\n",
       "      <th>1841</th>\n",
       "      <td>0.0</td>\n",
       "      <td>1.0</td>\n",
       "      <td>0.0</td>\n",
       "    </tr>\n",
       "    <tr>\n",
       "      <th>1842</th>\n",
       "      <td>0.0</td>\n",
       "      <td>1.0</td>\n",
       "      <td>0.0</td>\n",
       "    </tr>\n",
       "    <tr>\n",
       "      <th>1843</th>\n",
       "      <td>0.0</td>\n",
       "      <td>0.0</td>\n",
       "      <td>0.0</td>\n",
       "    </tr>\n",
       "    <tr>\n",
       "      <th>1844</th>\n",
       "      <td>0.0</td>\n",
       "      <td>1.0</td>\n",
       "      <td>1.0</td>\n",
       "    </tr>\n",
       "  </tbody>\n",
       "</table>\n",
       "<p>1845 rows × 3 columns</p>\n",
       "</div>"
      ],
      "text/plain": [
       "      1 YEAR  3 YEAR  S&P\n",
       "0        1.0     0.0  1.0\n",
       "1        0.0     0.0  0.0\n",
       "2        0.0     1.0  1.0\n",
       "3        1.0     1.0  0.0\n",
       "4        1.0     1.0  0.0\n",
       "...      ...     ...  ...\n",
       "1840     0.0     0.0  1.0\n",
       "1841     0.0     1.0  0.0\n",
       "1842     0.0     1.0  0.0\n",
       "1843     0.0     0.0  0.0\n",
       "1844     0.0     1.0  1.0\n",
       "\n",
       "[1845 rows x 3 columns]"
      ]
     },
     "execution_count": 13,
     "metadata": {},
     "output_type": "execute_result"
    }
   ],
   "source": [
    "targets.drop(1845)"
   ]
  },
  {
   "cell_type": "code",
   "execution_count": 5,
   "metadata": {},
   "outputs": [],
   "source": [
    "arma_path = Path(os.getcwd()).parent / \"arma_labels.npy\"\n",
    "arma_labels = np.load(arma_path)\n",
    "# Replace the targets \n",
    "for i in range(len(targets)): \n",
    "    targets.iloc[i]['1 YEAR'] = arma_labels[i,0]\n",
    "    targets.iloc[i]['3 YEAR'] = arma_labels[i,1]\n",
    "    targets.iloc[i]['S&P'] = arma_labels[i,2]\n",
    "    \n",
    "# Drop first line of texts and last line of targets to shift \n",
    "texts = texts[1:]\n",
    "targets = targets.drop(1845)"
   ]
  },
  {
   "cell_type": "markdown",
   "metadata": {},
   "source": [
    "#### Format the text with tf-idf\n",
    "The texts have now been separated into entries in a arrays for training and testing. The next step is to transform these entries into vectors using TF-IDF. "
   ]
  },
  {
   "cell_type": "code",
   "execution_count": 8,
   "metadata": {},
   "outputs": [],
   "source": [
    "# Create a matrix with the frequency of a word in each day.\n",
    "count_vec = CountVectorizer(max_features=10000) # Includes only the 10000 most frequent words \n",
    "count_vec.fit(texts)\n",
    "\n",
    "x_count = count_vec.transform(texts)\n",
    "x_count = count_vec.transform(texts)\n",
    "\n",
    "# Create a matrix with the tfidf representation of the text\n",
    "tfidf_vec = TfidfTransformer()\n",
    "tfidf_vec.fit(x_count)\n",
    "x = tfidf_vec.transform(x_count)"
   ]
  },
  {
   "cell_type": "markdown",
   "metadata": {},
   "source": [
    "#### Partition into training and test set\n",
    "Since the data is somewhat imbalanced - mostly for the 1 year rate - the training data will be under sampled by the minority class. "
   ]
  },
  {
   "cell_type": "code",
   "execution_count": 9,
   "metadata": {},
   "outputs": [
    {
     "name": "stdout",
     "output_type": "stream",
     "text": [
      " ----- 1 YEAR RATE -----\n",
      "Ratio neg labels 1 year rate: 0.6110509209100758\n",
      "Neg labels: 1128 P o s   l a b e l s : 718\n",
      " ----- 3 YEAR RATE -----\n",
      "Ratio neg labels 3 year rate: 0.5384615384615384\n",
      "Neg labels: 994 Pos labels: 852\n",
      " -----     S&P     -----\n",
      "Ratio neg labels S&P: 0.5503791982665223\n",
      "Neg labels: 1016 Pos labels: 830\n"
     ]
    }
   ],
   "source": [
    "zero_indices_1yr = np.where(targets['1 YEAR'] == 0)[0]\n",
    "one_indices_1yr = np.where(targets['1 YEAR'] == 1)[0]\n",
    "\n",
    "zero_indices_3yr = np.where(targets['3 YEAR'] == 0)[0]\n",
    "one_indices_3yr = np.where(targets['3 YEAR'] == 1)[0]\n",
    "\n",
    "zero_indices_sp = np.where(targets['S&P'] == 0)[0]\n",
    "one_indices_sp = np.where(targets['S&P'] == 1)[0]\n",
    "\n",
    "print(\" ----- 1 YEAR RATE -----\")\n",
    "print(\"Ratio neg labels 1 year rate:\",len(zero_indices_1yr) / len(targets))\n",
    "print(\"Neg labels:\", len(zero_indices_1yr), *\"Pos labels:\",len(one_indices_1yr))\n",
    "print(\" ----- 3 YEAR RATE -----\")\n",
    "print(\"Ratio neg labels 3 year rate:\",len(zero_indices_3yr) / len(targets))\n",
    "print(\"Neg labels:\", len(zero_indices_3yr), \"Pos labels:\",len(one_indices_3yr))\n",
    "print(\" -----     S&P     -----\")\n",
    "print(\"Ratio neg labels S&P:\",len(zero_indices_sp) / len(targets))\n",
    "print(\"Neg labels:\", len(zero_indices_sp), \"Pos labels:\",len(one_indices_sp))"
   ]
  },
  {
   "cell_type": "code",
   "execution_count": 10,
   "metadata": {
    "scrolled": true
   },
   "outputs": [
    {
     "name": "stdout",
     "output_type": "stream",
     "text": [
      " ----- 1 YEAR RATE -----\n",
      "Train data shape (x,y): (1200, 10000) , (1200,)\n",
      "Train data label ratio (0 / 1): 733 / 467\n",
      "Test data shape (x,y): (646, 10000) , (646,)\n",
      "Test data label ratio (0 / 1): 395 / 251\n",
      " ----- 3 YEAR RATE -----\n",
      "Train data shape (x,y): (1200, 10000) , (1200,)\n",
      "Train data label ratio (0 / 1): 646 / 554\n",
      "Test data shape (x,y): (646, 10000) , (646,)\n",
      "Test data label ratio (0 / 1): 348 / 298\n",
      " -----     S&P     -----\n",
      "Train data shape (x,y): (1200, 10000) , (1200,)\n",
      "Train data label ratio (0 / 1): 660 / 540\n",
      "Test data shape (x,y): (646, 10000) , (646,)\n",
      "Test data label ratio (0 / 1): 356 / 290\n"
     ]
    }
   ],
   "source": [
    "n_train = 1200\n",
    "n = len(targets)\n",
    "\n",
    "np.random.shuffle(zero_indices_1yr)\n",
    "np.random.shuffle(one_indices_1yr)\n",
    "part_zeros_1yr = len(zero_indices_1yr) / n\n",
    "train_indices_1yr = np.zeros((n_train),dtype=int)\n",
    "train_indices_1yr[:round(part_zeros_1yr * n_train)] = zero_indices_1yr[:round(part_zeros_1yr * n_train)]\n",
    "train_indices_1yr[round(part_zeros_1yr * n_train):] = one_indices_1yr[:round((1 - part_zeros_1yr) * n_train)]\n",
    "np.random.shuffle(train_indices_1yr)\n",
    "# All indices not in train is in test. \n",
    "test_indices_1yr = np.setdiff1d(np.arange(len(targets)), train_indices_1yr)\n",
    "np.random.shuffle(test_indices_1yr)\n",
    "\n",
    "np.random.shuffle(zero_indices_3yr)\n",
    "np.random.shuffle(one_indices_3yr)\n",
    "part_zeros_3yr = len(zero_indices_3yr) / n\n",
    "train_indices_3yr = np.zeros((n_train),dtype=int)\n",
    "train_indices_3yr[:round(part_zeros_3yr * n_train)] = zero_indices_3yr[:round(part_zeros_3yr * n_train)]\n",
    "train_indices_3yr[round(part_zeros_3yr * n_train):] = one_indices_3yr[:round((1 - part_zeros_3yr) * n_train)]\n",
    "np.random.shuffle(train_indices_3yr)\n",
    "# All indices not in train is in test. \n",
    "test_indices_3yr = np.setdiff1d(np.arange(len(targets)), train_indices_3yr)\n",
    "np.random.shuffle(test_indices_3yr)\n",
    "\n",
    "np.random.shuffle(zero_indices_sp)\n",
    "np.random.shuffle(one_indices_sp)\n",
    "part_zeros_sp = len(zero_indices_sp) / n\n",
    "train_indices_sp = np.zeros((n_train),dtype=int)\n",
    "train_indices_sp[:round(part_zeros_sp * n_train)] = zero_indices_sp[:round(part_zeros_sp * n_train)]\n",
    "train_indices_sp[round(part_zeros_sp * n_train):] = one_indices_sp[:round((1 - part_zeros_sp) * n_train)]\n",
    "np.random.shuffle(train_indices_sp)\n",
    "# All indices not in train is in test. \n",
    "test_indices_sp = np.setdiff1d(np.arange(len(targets)), train_indices_sp)\n",
    "np.random.shuffle(test_indices_sp)\n",
    "\n",
    "texts_train_1yr = texts[train_indices_1yr]\n",
    "texts_test_1yr = texts[test_indices_1yr]\n",
    "x_train_1yr = x[train_indices_1yr]\n",
    "x_test_1yr = x[test_indices_1yr]\n",
    "y_train_1yr = targets.iloc[train_indices_1yr]['1 YEAR'].values\n",
    "y_test_1yr = targets.iloc[test_indices_1yr]['1 YEAR'].values\n",
    "\n",
    "texts_train_3yr = texts[train_indices_3yr]\n",
    "texts_test_3yr = texts[test_indices_3yr]\n",
    "x_train_3yr = x[train_indices_3yr]\n",
    "x_test_3yr = x[test_indices_3yr]\n",
    "y_train_3yr = targets.iloc[train_indices_3yr]['3 YEAR'].values\n",
    "y_test_3yr = targets.iloc[test_indices_3yr]['3 YEAR'].values\n",
    "\n",
    "texts_train_sp = texts[train_indices_sp]\n",
    "texts_test_sp = texts[test_indices_sp]\n",
    "x_train_sp = x[train_indices_sp]\n",
    "x_test_sp = x[test_indices_sp]\n",
    "y_train_sp = targets.iloc[train_indices_sp]['S&P'].values\n",
    "y_test_sp = targets.iloc[test_indices_sp]['S&P'].values\n",
    "\n",
    "# Sanity check of shapes \n",
    "\n",
    "print(\" ----- 1 YEAR RATE -----\")\n",
    "print(\"Train data shape (x,y):\",x_train_1yr.shape,\",\", y_train_1yr.shape)\n",
    "print(\"Train data label ratio (0 / 1):\",np.sum(y_train_1yr == 0),\"/\", np.sum(y_train_1yr == 1))\n",
    "print(\"Test data shape (x,y):\",x_test_1yr.shape,\",\", y_test_1yr.shape)\n",
    "print(\"Test data label ratio (0 / 1):\",np.sum(y_test_1yr == 0),\"/\", np.sum(y_test_1yr == 1))\n",
    "\n",
    "print(\" ----- 3 YEAR RATE -----\")\n",
    "print(\"Train data shape (x,y):\",x_train_3yr.shape,\",\", y_train_3yr.shape)\n",
    "print(\"Train data label ratio (0 / 1):\",np.sum(y_train_3yr == 0),\"/\", np.sum(y_train_3yr == 1))\n",
    "print(\"Test data shape (x,y):\",x_test_3yr.shape,\",\", y_test_3yr.shape)\n",
    "print(\"Test data label ratio (0 / 1):\",np.sum(y_test_3yr == 0),\"/\", np.sum(y_test_3yr == 1))\n",
    "print(\" -----     S&P     -----\")\n",
    "print(\"Train data shape (x,y):\",x_train_sp.shape,\",\", y_train_sp.shape)\n",
    "print(\"Train data label ratio (0 / 1):\",np.sum(y_train_sp == 0),\"/\", np.sum(y_train_sp == 1))\n",
    "print(\"Test data shape (x,y):\",x_test_sp.shape,\",\", y_test_sp.shape)\n",
    "print(\"Test data label ratio (0 / 1):\",np.sum(y_test_sp == 0),\"/\", np.sum(y_test_sp == 1))"
   ]
  },
  {
   "cell_type": "markdown",
   "metadata": {},
   "source": [
    "## Models \n",
    "The data has been pre-processed and the models can be evaluated. All of the models are fitted with the three data series. "
   ]
  },
  {
   "cell_type": "code",
   "execution_count": 11,
   "metadata": {},
   "outputs": [],
   "source": [
    "# Some help functions for plotting the results \n",
    "\n",
    "def plot_results(model,x_test, y_test,save=False, name=''):\n",
    "    y_test_preds = model.predict(x_test)\n",
    "    print(classification_report(y_test, y_test_preds))\n",
    "    print(\"Test accuracy:\",model.score(x_test, y_test))\n",
    "    plot_confusion_matrix(model,x_test,y_test)\n",
    "    if save:\n",
    "        plt.savefig(\"Figs TF-IDF/\" + name + \"confmat.jpg\")\n",
    "    plt.show()\n",
    "    \n",
    "def plot_results_nn(history, model,x_test, y_test,save=False, name=''):\n",
    "    plt.subplot(121)\n",
    "    plt.plot(history.history['loss'],label='Loss')\n",
    "    plt.plot(history.history['val_loss'],label='Val loss')\n",
    "    plt.legend()\n",
    "    plt.subplot(122)\n",
    "    plt.plot(history.history['acc'],label='Acc')\n",
    "    plt.plot(history.history['val_acc'],label='Val acc')\n",
    "    plt.legend()\n",
    "    if save: \n",
    "        plt.savefig(\"Figs TF-IDF/\" + name + \"history.jpg\")\n",
    "    plt.show() \n",
    "    y_test_pred = np.round(model.predict(x_test.todense()))\n",
    "    plt.subplot(121)\n",
    "    plt.bar([0,1],[np.sum(y_test == 0), np.sum(y_test == 1)], label='Actual test dist')\n",
    "    plt.legend()\n",
    "    plt.xticks([0, 1])\n",
    "    plt.subplot(122)\n",
    "    plt.bar([0,1],[np.sum(y_test_pred == 0), np.sum(y_test_pred == 1)], label='Pred test dist')\n",
    "    plt.legend()\n",
    "    plt.xticks([0, 1])\n",
    "    plt.show()\n",
    "    conf_mat = confusion_matrix(y_test,y_test_pred,normalize='pred')\n",
    "    ax = sn.heatmap(conf_mat,)\n",
    "    ax.set_ylabel(\"True values\")\n",
    "    ax.set_xlabel(\"Predicted values\")\n",
    "    if save: \n",
    "        plt.savefig(\"Figs TF-IDF/\" + name + \"confmat.jpg\")\n",
    "    plt.show()\n",
    "    print(classification_report(y_test, y_test_pred))\n",
    "    print(\"Test accuracy:\",round(np.sum(y_test == y_test_pred[:,0]) / len(y_test),3))"
   ]
  },
  {
   "cell_type": "markdown",
   "metadata": {},
   "source": [
    "### Random Classifier\n",
    "Just for real simple comparison. \n",
    "#### 1 year rate"
   ]
  },
  {
   "cell_type": "code",
   "execution_count": 12,
   "metadata": {},
   "outputs": [
    {
     "name": "stdout",
     "output_type": "stream",
     "text": [
      "              precision    recall  f1-score   support\n",
      "\n",
      "         0.0       0.61      1.00      0.76       395\n",
      "         1.0       0.00      0.00      0.00       251\n",
      "\n",
      "    accuracy                           0.61       646\n",
      "   macro avg       0.31      0.50      0.38       646\n",
      "weighted avg       0.37      0.61      0.46       646\n",
      "\n",
      "Test accuracy: 0.6114551083591331\n"
     ]
    },
    {
     "name": "stderr",
     "output_type": "stream",
     "text": [
      "C:\\ProgramData\\Anaconda3\\envs\\nlpenv\\lib\\site-packages\\sklearn\\metrics\\_classification.py:1272: UndefinedMetricWarning: Precision and F-score are ill-defined and being set to 0.0 in labels with no predicted samples. Use `zero_division` parameter to control this behavior.\n",
      "  _warn_prf(average, modifier, msg_start, len(result))\n"
     ]
    },
    {
     "data": {
      "image/png": "[encoded data removed]",
      "text/plain": [
       "<Figure size 432x288 with 2 Axes>"
      ]
     },
     "metadata": {
      "needs_background": "light"
     },
     "output_type": "display_data"
    }
   ],
   "source": [
    "# Dummy Classifier, most frequent\n",
    "dummy_clf_1yr = DummyClassifier(strategy='most_frequent').fit(x_train_1yr, y_train_1yr)\n",
    "plot_results(dummy_clf_1yr, x_test_1yr, y_test_1yr,save=True,name='randclf_1yr')"
   ]
  },
  {
   "cell_type": "code",
   "execution_count": 13,
   "metadata": {},
   "outputs": [
    {
     "name": "stdout",
     "output_type": "stream",
     "text": [
      "              precision    recall  f1-score   support\n",
      "\n",
      "         0.0       0.58      0.58      0.58       395\n",
      "         1.0       0.34      0.34      0.34       251\n",
      "\n",
      "    accuracy                           0.49       646\n",
      "   macro avg       0.46      0.46      0.46       646\n",
      "weighted avg       0.49      0.49      0.49       646\n",
      "\n",
      "Test accuracy: 0.5356037151702786\n"
     ]
    },
    {
     "data": {
      "image/png": "[encoded data removed]",
      "text/plain": [
       "<Figure size 432x288 with 2 Axes>"
      ]
     },
     "metadata": {
      "needs_background": "light"
     },
     "output_type": "display_data"
    }
   ],
   "source": [
    "# Dummy Classifier, stratified\n",
    "dummy_clf_1yr = DummyClassifier(strategy='stratified').fit(x_train_1yr, y_train_1yr)\n",
    "plot_results(dummy_clf_1yr, x_test_1yr, y_test_1yr,save=True,name='randclf_1yr')"
   ]
  },
  {
   "cell_type": "markdown",
   "metadata": {},
   "source": [
    "#### 3 year rate"
   ]
  },
  {
   "cell_type": "code",
   "execution_count": 14,
   "metadata": {},
   "outputs": [
    {
     "name": "stdout",
     "output_type": "stream",
     "text": [
      "              precision    recall  f1-score   support\n",
      "\n",
      "         0.0       0.54      1.00      0.70       348\n",
      "         1.0       0.00      0.00      0.00       298\n",
      "\n",
      "    accuracy                           0.54       646\n",
      "   macro avg       0.27      0.50      0.35       646\n",
      "weighted avg       0.29      0.54      0.38       646\n",
      "\n",
      "Test accuracy: 0.5386996904024768\n"
     ]
    },
    {
     "data": {
      "image/png": "[encoded data removed]",
      "text/plain": [
       "<Figure size 432x288 with 2 Axes>"
      ]
     },
     "metadata": {
      "needs_background": "light"
     },
     "output_type": "display_data"
    }
   ],
   "source": [
    "# Dummy Classifier, most frequent\n",
    "dummy_clf_3yr = DummyClassifier(strategy='most_frequent').fit(x_train_3yr, y_train_3yr)\n",
    "plot_results(dummy_clf_3yr, x_test_3yr, y_test_3yr,save=True,name='randclf_3yr')"
   ]
  },
  {
   "cell_type": "code",
   "execution_count": 15,
   "metadata": {},
   "outputs": [
    {
     "name": "stdout",
     "output_type": "stream",
     "text": [
      "              precision    recall  f1-score   support\n",
      "\n",
      "         0.0       0.56      0.55      0.56       348\n",
      "         1.0       0.48      0.48      0.48       298\n",
      "\n",
      "    accuracy                           0.52       646\n",
      "   macro avg       0.52      0.52      0.52       646\n",
      "weighted avg       0.52      0.52      0.52       646\n",
      "\n",
      "Test accuracy: 0.4969040247678019\n"
     ]
    },
    {
     "data": {
      "image/png": "[encoded data removed]",
      "text/plain": [
       "<Figure size 432x288 with 2 Axes>"
      ]
     },
     "metadata": {
      "needs_background": "light"
     },
     "output_type": "display_data"
    }
   ],
   "source": [
    "# Dummy Classifier, stratified\n",
    "dummy_clf_3yr = DummyClassifier(strategy='stratified').fit(x_train_3yr, y_train_3yr)\n",
    "plot_results(dummy_clf_3yr, x_test_3yr, y_test_3yr,save=True,name='randclf_3yr')"
   ]
  },
  {
   "cell_type": "markdown",
   "metadata": {},
   "source": [
    "#### S&P"
   ]
  },
  {
   "cell_type": "code",
   "execution_count": 16,
   "metadata": {},
   "outputs": [
    {
     "name": "stdout",
     "output_type": "stream",
     "text": [
      "              precision    recall  f1-score   support\n",
      "\n",
      "         0.0       0.55      1.00      0.71       356\n",
      "         1.0       0.00      0.00      0.00       290\n",
      "\n",
      "    accuracy                           0.55       646\n",
      "   macro avg       0.28      0.50      0.36       646\n",
      "weighted avg       0.30      0.55      0.39       646\n",
      "\n",
      "Test accuracy: 0.5510835913312694\n"
     ]
    },
    {
     "data": {
      "image/png": "[encoded data removed]",
      "text/plain": [
       "<Figure size 432x288 with 2 Axes>"
      ]
     },
     "metadata": {
      "needs_background": "light"
     },
     "output_type": "display_data"
    }
   ],
   "source": [
    "# Dummy Classifier, most frequent\n",
    "dummy_clf_sp = DummyClassifier(strategy='most_frequent').fit(x_train_sp, y_train_sp)\n",
    "plot_results(dummy_clf_sp, x_test_sp, y_test_sp,save=True,name='randclf_sp')"
   ]
  },
  {
   "cell_type": "code",
   "execution_count": 17,
   "metadata": {},
   "outputs": [
    {
     "name": "stdout",
     "output_type": "stream",
     "text": [
      "              precision    recall  f1-score   support\n",
      "\n",
      "         0.0       0.55      0.56      0.55       356\n",
      "         1.0       0.44      0.43      0.44       290\n",
      "\n",
      "    accuracy                           0.50       646\n",
      "   macro avg       0.49      0.50      0.49       646\n",
      "weighted avg       0.50      0.50      0.50       646\n",
      "\n",
      "Test accuracy: 0.5046439628482973\n"
     ]
    },
    {
     "data": {
      "image/png": "[encoded data removed]",
      "text/plain": [
       "<Figure size 432x288 with 2 Axes>"
      ]
     },
     "metadata": {
      "needs_background": "light"
     },
     "output_type": "display_data"
    }
   ],
   "source": [
    "# Dummy Classifier, stratified\n",
    "dummy_clf_sp = DummyClassifier(strategy='stratified').fit(x_train_sp, y_train_sp)\n",
    "plot_results(dummy_clf_sp, x_test_sp, y_test_sp,save=True,name='randclf_sp')"
   ]
  },
  {
   "cell_type": "markdown",
   "metadata": {},
   "source": [
    "### Logistic Regression with TF-IDF\n",
    "#### 1 year rate"
   ]
  },
  {
   "cell_type": "code",
   "execution_count": 18,
   "metadata": {
    "scrolled": false
   },
   "outputs": [
    {
     "name": "stdout",
     "output_type": "stream",
     "text": [
      "              precision    recall  f1-score   support\n",
      "\n",
      "         0.0       0.62      0.92      0.74       395\n",
      "         1.0       0.49      0.12      0.19       251\n",
      "\n",
      "    accuracy                           0.61       646\n",
      "   macro avg       0.56      0.52      0.47       646\n",
      "weighted avg       0.57      0.61      0.53       646\n",
      "\n",
      "Test accuracy: 0.6099071207430341\n"
     ]
    },
    {
     "data": {
      "image/png": "[encoded data removed]",
      "text/plain": [
       "<Figure size 432x288 with 2 Axes>"
      ]
     },
     "metadata": {
      "needs_background": "light"
     },
     "output_type": "display_data"
    }
   ],
   "source": [
    "# Logistic regression\n",
    "logreg_1yr = LogisticRegression(random_state=0).fit(x_train_1yr, y_train_1yr)\n",
    "plot_results(logreg_1yr,x_test_1yr, y_test_1yr,save=True,name='logreg_1yr')"
   ]
  },
  {
   "cell_type": "markdown",
   "metadata": {},
   "source": [
    "#### 3 year rate"
   ]
  },
  {
   "cell_type": "code",
   "execution_count": 19,
   "metadata": {},
   "outputs": [
    {
     "name": "stdout",
     "output_type": "stream",
     "text": [
      "              precision    recall  f1-score   support\n",
      "\n",
      "         0.0       0.57      0.80      0.67       348\n",
      "         1.0       0.56      0.29      0.38       298\n",
      "\n",
      "    accuracy                           0.57       646\n",
      "   macro avg       0.56      0.55      0.52       646\n",
      "weighted avg       0.56      0.57      0.53       646\n",
      "\n",
      "Test accuracy: 0.56656346749226\n"
     ]
    },
    {
     "data": {
      "image/png": "[encoded data removed]",
      "text/plain": [
       "<Figure size 432x288 with 2 Axes>"
      ]
     },
     "metadata": {
      "needs_background": "light"
     },
     "output_type": "display_data"
    }
   ],
   "source": [
    "# Logistic regression\n",
    "logreg_3yr = LogisticRegression(random_state=0).fit(x_train_3yr, y_train_3yr)\n",
    "plot_results(logreg_3yr,x_test_3yr, y_test_3yr,save=True,name='logreg_3yr')"
   ]
  },
  {
   "cell_type": "markdown",
   "metadata": {},
   "source": [
    "#### S&P"
   ]
  },
  {
   "cell_type": "code",
   "execution_count": 20,
   "metadata": {},
   "outputs": [
    {
     "name": "stdout",
     "output_type": "stream",
     "text": [
      "              precision    recall  f1-score   support\n",
      "\n",
      "         0.0       0.60      0.85      0.70       356\n",
      "         1.0       0.62      0.30      0.41       290\n",
      "\n",
      "    accuracy                           0.60       646\n",
      "   macro avg       0.61      0.57      0.55       646\n",
      "weighted avg       0.61      0.60      0.57       646\n",
      "\n",
      "Test accuracy: 0.6021671826625387\n"
     ]
    },
    {
     "data": {
      "image/png": "[encoded data removed]",
      "text/plain": [
       "<Figure size 432x288 with 2 Axes>"
      ]
     },
     "metadata": {
      "needs_background": "light"
     },
     "output_type": "display_data"
    }
   ],
   "source": [
    "# Logistic regression\n",
    "logreg_sp = LogisticRegression(random_state=0).fit(x_train_sp, y_train_sp)\n",
    "plot_results(logreg_sp,x_test_sp, y_test_sp,save=True,name='logreg_sp')"
   ]
  },
  {
   "cell_type": "markdown",
   "metadata": {},
   "source": [
    "### Support Vector Machine with TF-IDF\n",
    "#### 1 year rate"
   ]
  },
  {
   "cell_type": "code",
   "execution_count": 21,
   "metadata": {},
   "outputs": [
    {
     "name": "stdout",
     "output_type": "stream",
     "text": [
      "              precision    recall  f1-score   support\n",
      "\n",
      "         0.0       0.62      0.97      0.76       395\n",
      "         1.0       0.54      0.05      0.09       251\n",
      "\n",
      "    accuracy                           0.61       646\n",
      "   macro avg       0.58      0.51      0.42       646\n",
      "weighted avg       0.59      0.61      0.50       646\n",
      "\n",
      "Test accuracy: 0.6145510835913313\n"
     ]
    },
    {
     "data": {
      "image/png": "[encoded data removed]",
      "text/plain": [
       "<Figure size 432x288 with 2 Axes>"
      ]
     },
     "metadata": {
      "needs_background": "light"
     },
     "output_type": "display_data"
    }
   ],
   "source": [
    "svm_clf_1yr = svm.SVC().fit(x_train_1yr, y_train_1yr)\n",
    "plot_results(svm_clf_1yr, x_test_1yr, y_test_1yr,save=True,name='svm_1yr')"
   ]
  },
  {
   "cell_type": "markdown",
   "metadata": {},
   "source": [
    "#### 3 year rate"
   ]
  },
  {
   "cell_type": "code",
   "execution_count": 22,
   "metadata": {},
   "outputs": [
    {
     "name": "stdout",
     "output_type": "stream",
     "text": [
      "              precision    recall  f1-score   support\n",
      "\n",
      "         0.0       0.54      0.90      0.68       348\n",
      "         1.0       0.49      0.12      0.19       298\n",
      "\n",
      "    accuracy                           0.54       646\n",
      "   macro avg       0.52      0.51      0.43       646\n",
      "weighted avg       0.52      0.54      0.45       646\n",
      "\n",
      "Test accuracy: 0.5371517027863777\n"
     ]
    },
    {
     "data": {
      "image/png": "[encoded data removed]",
      "text/plain": [
       "<Figure size 432x288 with 2 Axes>"
      ]
     },
     "metadata": {
      "needs_background": "light"
     },
     "output_type": "display_data"
    }
   ],
   "source": [
    "svm_clf_3yr = svm.SVC().fit(x_train_3yr, y_train_3yr)\n",
    "plot_results(svm_clf_3yr, x_test_3yr, y_test_3yr,save=True,name='svm_3yr')"
   ]
  },
  {
   "cell_type": "markdown",
   "metadata": {},
   "source": [
    "#### S&P"
   ]
  },
  {
   "cell_type": "code",
   "execution_count": 23,
   "metadata": {},
   "outputs": [
    {
     "name": "stdout",
     "output_type": "stream",
     "text": [
      "              precision    recall  f1-score   support\n",
      "\n",
      "         0.0       0.58      0.89      0.70       356\n",
      "         1.0       0.60      0.20      0.30       290\n",
      "\n",
      "    accuracy                           0.58       646\n",
      "   macro avg       0.59      0.54      0.50       646\n",
      "weighted avg       0.59      0.58      0.52       646\n",
      "\n",
      "Test accuracy: 0.5804953560371517\n"
     ]
    },
    {
     "data": {
      "image/png": "[encoded data removed]",
      "text/plain": [
       "<Figure size 432x288 with 2 Axes>"
      ]
     },
     "metadata": {
      "needs_background": "light"
     },
     "output_type": "display_data"
    }
   ],
   "source": [
    "svm_clf_sp = svm.SVC().fit(x_train_sp, y_train_sp)\n",
    "plot_results(svm_clf_sp, x_test_sp, y_test_sp,save=True,name='svm_sp')"
   ]
  },
  {
   "cell_type": "markdown",
   "metadata": {},
   "source": [
    "### Random Forest with TF-IDF\n",
    "#### 1 year rate"
   ]
  },
  {
   "cell_type": "code",
   "execution_count": 24,
   "metadata": {},
   "outputs": [
    {
     "name": "stdout",
     "output_type": "stream",
     "text": [
      "Fitting 10 folds for each of 12 candidates, totalling 120 fits\n"
     ]
    },
    {
     "name": "stderr",
     "output_type": "stream",
     "text": [
      "[Parallel(n_jobs=-1)]: Using backend ThreadingBackend with 8 concurrent workers.\n",
      "[Parallel(n_jobs=-1)]: Done  34 tasks      | elapsed:  1.0min\n",
      "[Parallel(n_jobs=-1)]: Done 120 out of 120 | elapsed:  3.7min finished\n"
     ]
    },
    {
     "name": "stdout",
     "output_type": "stream",
     "text": [
      "Best: 0.521578 using {'max_depth': 50, 'n_estimators': 250}\n",
      "0.510883 (0.034593) with: {'max_depth': None, 'n_estimators': 250}\n",
      "0.501088 (0.030387) with: {'max_depth': None, 'n_estimators': 500}\n",
      "0.510460 (0.024822) with: {'max_depth': None, 'n_estimators': 750}\n",
      "0.508931 (0.035889) with: {'max_depth': None, 'n_estimators': 1000}\n",
      "0.521578 (0.028645) with: {'max_depth': 50, 'n_estimators': 250}\n",
      "0.519678 (0.026222) with: {'max_depth': 50, 'n_estimators': 500}\n",
      "0.518176 (0.026415) with: {'max_depth': 50, 'n_estimators': 750}\n",
      "0.515030 (0.027906) with: {'max_depth': 50, 'n_estimators': 1000}\n",
      "0.516055 (0.030590) with: {'max_depth': 100, 'n_estimators': 250}\n",
      "0.505803 (0.027673) with: {'max_depth': 100, 'n_estimators': 500}\n",
      "0.507108 (0.020446) with: {'max_depth': 100, 'n_estimators': 750}\n",
      "0.511626 (0.026360) with: {'max_depth': 100, 'n_estimators': 1000}\n",
      "              precision    recall  f1-score   support\n",
      "\n",
      "         0.0       0.62      0.95      0.75       395\n",
      "         1.0       0.51      0.09      0.15       251\n",
      "\n",
      "    accuracy                           0.61       646\n",
      "   macro avg       0.57      0.52      0.45       646\n",
      "weighted avg       0.58      0.61      0.52       646\n",
      "\n",
      "Test accuracy: 0.6130030959752322\n"
     ]
    },
    {
     "data": {
      "image/png": "[encoded data removed]",
      "text/plain": [
       "<Figure size 432x288 with 2 Axes>"
      ]
     },
     "metadata": {
      "needs_background": "light"
     },
     "output_type": "display_data"
    }
   ],
   "source": [
    "# Random Forest\n",
    "rf_param_grid = dict(max_depth=[None, 50, 100],\n",
    "                  n_estimators=[250, 500, 750, 1000])\n",
    "rf_grid = GridSearchCV(estimator=RandomForestClassifier(), \n",
    "                       param_grid=rf_param_grid, \n",
    "                       n_jobs=-1, \n",
    "                       cv=10, \n",
    "                       scoring='f1_weighted',\n",
    "                       verbose=1)\n",
    "with parallel_backend('threading'):    # This is a bug work-around mentioned in https://github.com/scikit-learn/scikit-learn/issues/12546\n",
    "    rf_grid_result = rf_grid.fit(x_train_1yr, y_train_1yr)\n",
    "# summarize results\n",
    "print(\"Best: %f using %s\" % (rf_grid_result.best_score_, rf_grid_result.best_params_))\n",
    "rf_means = rf_grid_result.cv_results_['mean_test_score']\n",
    "rf_stds = rf_grid_result.cv_results_['std_test_score']\n",
    "rf_params = rf_grid_result.cv_results_['params']\n",
    "for mean, stdev, param in zip(rf_means, rf_stds, rf_params):\n",
    "    print(\"%f (%f) with: %r\" % (mean, stdev, param))\n",
    "\n",
    "# Fit the model with the best parameters found in the cross validation. \n",
    "randomforest_1yr = RandomForestClassifier(max_depth=rf_grid_result.best_params_['max_depth'],\n",
    "                                      n_estimators=rf_grid_result.best_params_['n_estimators']).fit(x_train_1yr, y_train_1yr)\n",
    "plot_results(randomforest_1yr,x_test_1yr, y_test_1yr,save=True,name='rf_1yr_md{}_est_{}'.format(rf_grid_result.best_params_['max_depth'],\n",
    "                                                                                rf_grid_result.best_params_['n_estimators']))"
   ]
  },
  {
   "cell_type": "markdown",
   "metadata": {},
   "source": [
    "#### 3 year rate"
   ]
  },
  {
   "cell_type": "code",
   "execution_count": 25,
   "metadata": {
    "scrolled": true
   },
   "outputs": [
    {
     "name": "stdout",
     "output_type": "stream",
     "text": [
      "Fitting 10 folds for each of 12 candidates, totalling 120 fits\n"
     ]
    },
    {
     "name": "stderr",
     "output_type": "stream",
     "text": [
      "[Parallel(n_jobs=-1)]: Using backend ThreadingBackend with 8 concurrent workers.\n",
      "[Parallel(n_jobs=-1)]: Done  34 tasks      | elapsed:  1.1min\n",
      "[Parallel(n_jobs=-1)]: Done 120 out of 120 | elapsed:  4.1min finished\n"
     ]
    },
    {
     "name": "stdout",
     "output_type": "stream",
     "text": [
      "Best: 0.515601 using {'max_depth': None, 'n_estimators': 250}\n",
      "0.515601 (0.058356) with: {'max_depth': None, 'n_estimators': 250}\n",
      "0.497724 (0.037255) with: {'max_depth': None, 'n_estimators': 500}\n",
      "0.511039 (0.043736) with: {'max_depth': None, 'n_estimators': 750}\n",
      "0.491680 (0.037143) with: {'max_depth': None, 'n_estimators': 1000}\n",
      "0.500909 (0.046219) with: {'max_depth': 50, 'n_estimators': 250}\n",
      "0.498559 (0.029071) with: {'max_depth': 50, 'n_estimators': 500}\n",
      "0.498430 (0.021880) with: {'max_depth': 50, 'n_estimators': 750}\n",
      "0.495220 (0.038302) with: {'max_depth': 50, 'n_estimators': 1000}\n",
      "0.502053 (0.039507) with: {'max_depth': 100, 'n_estimators': 250}\n",
      "0.504161 (0.026958) with: {'max_depth': 100, 'n_estimators': 500}\n",
      "0.504200 (0.021927) with: {'max_depth': 100, 'n_estimators': 750}\n",
      "0.488671 (0.030238) with: {'max_depth': 100, 'n_estimators': 1000}\n",
      "              precision    recall  f1-score   support\n",
      "\n",
      "         0.0       0.56      0.78      0.65       348\n",
      "         1.0       0.51      0.27      0.36       298\n",
      "\n",
      "    accuracy                           0.54       646\n",
      "   macro avg       0.53      0.53      0.50       646\n",
      "weighted avg       0.54      0.54      0.51       646\n",
      "\n",
      "Test accuracy: 0.544891640866873\n"
     ]
    },
    {
     "data": {
      "image/png": "[encoded data removed]",
      "text/plain": [
       "<Figure size 432x288 with 2 Axes>"
      ]
     },
     "metadata": {
      "needs_background": "light"
     },
     "output_type": "display_data"
    }
   ],
   "source": [
    "# Random Forest\n",
    "rf_param_grid = dict(max_depth=[None, 50, 100],\n",
    "                  n_estimators=[250, 500, 750, 1000])\n",
    "rf_grid = GridSearchCV(estimator=RandomForestClassifier(), \n",
    "                       param_grid=rf_param_grid, \n",
    "                       n_jobs=-1, \n",
    "                       cv=10, \n",
    "                       scoring='f1_weighted',\n",
    "                       verbose=1)\n",
    "with parallel_backend('threading'):    # This is a bug work-around mentioned in https://github.com/scikit-learn/scikit-learn/issues/12546\n",
    "    rf_grid_result = rf_grid.fit(x_train_3yr, y_train_3yr)\n",
    "# summarize results\n",
    "print(\"Best: %f using %s\" % (rf_grid_result.best_score_, rf_grid_result.best_params_))\n",
    "rf_means = rf_grid_result.cv_results_['mean_test_score']\n",
    "rf_stds = rf_grid_result.cv_results_['std_test_score']\n",
    "rf_params = rf_grid_result.cv_results_['params']\n",
    "for mean, stdev, param in zip(rf_means, rf_stds, rf_params):\n",
    "    print(\"%f (%f) with: %r\" % (mean, stdev, param))\n",
    "\n",
    "# Fit the model with the best parameters found in the cross validation. \n",
    "randomforest_3yr = RandomForestClassifier(max_depth=rf_grid_result.best_params_['max_depth'],\n",
    "                                      n_estimators=rf_grid_result.best_params_['n_estimators']).fit(x_train_3yr, y_train_3yr)\n",
    "plot_results(randomforest_3yr,x_test_3yr, y_test_3yr,save=True,name='rf_3yr_md{}_est_{}'.format(rf_grid_result.best_params_['max_depth'],\n",
    "                                                                                rf_grid_result.best_params_['n_estimators']))"
   ]
  },
  {
   "cell_type": "markdown",
   "metadata": {},
   "source": [
    "#### S&P"
   ]
  },
  {
   "cell_type": "code",
   "execution_count": 26,
   "metadata": {
    "scrolled": false
   },
   "outputs": [
    {
     "name": "stdout",
     "output_type": "stream",
     "text": [
      "Fitting 10 folds for each of 12 candidates, totalling 120 fits\n"
     ]
    },
    {
     "name": "stderr",
     "output_type": "stream",
     "text": [
      "[Parallel(n_jobs=-1)]: Using backend ThreadingBackend with 8 concurrent workers.\n",
      "[Parallel(n_jobs=-1)]: Done  34 tasks      | elapsed:  1.3min\n",
      "[Parallel(n_jobs=-1)]: Done 120 out of 120 | elapsed:  4.6min finished\n"
     ]
    },
    {
     "name": "stdout",
     "output_type": "stream",
     "text": [
      "Best: 0.558593 using {'max_depth': 50, 'n_estimators': 250}\n",
      "0.545455 (0.031092) with: {'max_depth': None, 'n_estimators': 250}\n",
      "0.558532 (0.064043) with: {'max_depth': None, 'n_estimators': 500}\n",
      "0.548374 (0.052977) with: {'max_depth': None, 'n_estimators': 750}\n",
      "0.540756 (0.051888) with: {'max_depth': None, 'n_estimators': 1000}\n",
      "0.558593 (0.055701) with: {'max_depth': 50, 'n_estimators': 250}\n",
      "0.544259 (0.038916) with: {'max_depth': 50, 'n_estimators': 500}\n",
      "0.553144 (0.041576) with: {'max_depth': 50, 'n_estimators': 750}\n",
      "0.536034 (0.032322) with: {'max_depth': 50, 'n_estimators': 1000}\n",
      "0.540060 (0.035321) with: {'max_depth': 100, 'n_estimators': 250}\n",
      "0.548539 (0.059579) with: {'max_depth': 100, 'n_estimators': 500}\n",
      "0.539820 (0.048690) with: {'max_depth': 100, 'n_estimators': 750}\n",
      "0.549861 (0.059333) with: {'max_depth': 100, 'n_estimators': 1000}\n",
      "              precision    recall  f1-score   support\n",
      "\n",
      "         0.0       0.60      0.86      0.71       356\n",
      "         1.0       0.63      0.29      0.40       290\n",
      "\n",
      "    accuracy                           0.61       646\n",
      "   macro avg       0.62      0.58      0.55       646\n",
      "weighted avg       0.62      0.61      0.57       646\n",
      "\n",
      "Test accuracy: 0.6068111455108359\n"
     ]
    },
    {
     "data": {
      "image/png": "[encoded data removed]",
      "text/plain": [
       "<Figure size 432x288 with 2 Axes>"
      ]
     },
     "metadata": {
      "needs_background": "light"
     },
     "output_type": "display_data"
    }
   ],
   "source": [
    "# Random Forest\n",
    "rf_param_grid = dict(max_depth=[None, 50, 100],\n",
    "                  n_estimators=[250, 500, 750, 1000])\n",
    "rf_grid = GridSearchCV(estimator=RandomForestClassifier(), \n",
    "                       param_grid=rf_param_grid, \n",
    "                       n_jobs=-1, \n",
    "                       cv=10, \n",
    "                       scoring='f1_weighted',\n",
    "                       verbose=1)\n",
    "with parallel_backend('threading'):    # This is a bug work-around mentioned in https://github.com/scikit-learn/scikit-learn/issues/12546\n",
    "    rf_grid_result = rf_grid.fit(x_train_sp, y_train_sp)\n",
    "# summarize results\n",
    "print(\"Best: %f using %s\" % (rf_grid_result.best_score_, rf_grid_result.best_params_))\n",
    "rf_means = rf_grid_result.cv_results_['mean_test_score']\n",
    "rf_stds = rf_grid_result.cv_results_['std_test_score']\n",
    "rf_params = rf_grid_result.cv_results_['params']\n",
    "for mean, stdev, param in zip(rf_means, rf_stds, rf_params):\n",
    "    print(\"%f (%f) with: %r\" % (mean, stdev, param))\n",
    "\n",
    "# Fit the model with the best parameters found in the cross validation. \n",
    "randomforest_sp = RandomForestClassifier(max_depth=rf_grid_result.best_params_['max_depth'],\n",
    "                                      n_estimators=rf_grid_result.best_params_['n_estimators']).fit(x_train_sp, y_train_sp)\n",
    "plot_results(randomforest_sp,x_test_sp, y_test_sp,save=True,name='rf_sp_md{}_est_{}'.format(rf_grid_result.best_params_['max_depth'],\n",
    "                                                                                rf_grid_result.best_params_['n_estimators']))"
   ]
  },
  {
   "cell_type": "markdown",
   "metadata": {},
   "source": [
    "### Neural Network"
   ]
  },
  {
   "cell_type": "code",
   "execution_count": 27,
   "metadata": {},
   "outputs": [],
   "source": [
    "def create_model(nodes1=100, nodes2=50, dropout_rate=0.3, optimizer='rmsprop', learning_rate=0.001):\n",
    "    if optimizer.lower() == 'rmsprop': \n",
    "        optimizer = RMSprop(learning_rate = learning_rate)\n",
    "    elif optimizer.lower() == 'adam':\n",
    "        optimizer = Adam(learning_rate = learning_rate)\n",
    "    model = Sequential() \n",
    "    if nodes1 == 0: \n",
    "        model.add(Dense(1, input_shape=x_train_1yr.shape[1:], activation='sigmoid'))\n",
    "        model.compile(optimizer=optimizer, loss='binary_crossentropy', metrics=['acc'])\n",
    "        return model \n",
    "    model.add(Dense(nodes1, input_shape=x_train_1yr.shape[1:]))\n",
    "    model.add(Dropout(dropout_rate))\n",
    "    if nodes2 == 0: \n",
    "        model.add(Dense(1, activation='sigmoid'))\n",
    "        model.compile(optimizer=optimizer, loss='binary_crossentropy', metrics=['acc'])\n",
    "        return model\n",
    "    model.add(Dense(nodes2))\n",
    "    model.add(Dropout(dropout_rate))\n",
    "    model.add(Dense(1, activation='sigmoid'))\n",
    "    model.compile(optimizer=optimizer, loss='binary_crossentropy', metrics=['acc'])\n",
    "    return model \n",
    "\n",
    "def randomize_params(params, n):\n",
    "    test_params = []\n",
    "    for i in range(n):\n",
    "        temp_par = {}\n",
    "        while True: \n",
    "            for par in params: \n",
    "                temp_par.update({par: np.random.choice(params[par])})\n",
    "            if temp_par not in test_params: \n",
    "                test_params.append(temp_par)\n",
    "                break\n",
    "    return test_params"
   ]
  },
  {
   "cell_type": "code",
   "execution_count": 28,
   "metadata": {},
   "outputs": [],
   "source": [
    "n_tests = 50\n",
    "# Define possible parameters \n",
    "possible_params = dict(batch_size = [8, 16, 32],\n",
    "                       nodes1 = [50, 100, 250, 500],\n",
    "                       nodes2 = [0, 50, 100, 250, 500], # 0 implies only one hidden layer \n",
    "                       dropout_rate = [0.1, 0.3, 0.5],\n",
    "                       learning_rate = [1e-3, 1e-4, 1e-5],\n",
    "                       optimizer = ['RMSprop','Adam'])\n",
    "test_params = randomize_params(possible_params, n_tests)"
   ]
  },
  {
   "cell_type": "markdown",
   "metadata": {},
   "source": [
    "#### 1 year rate"
   ]
  },
  {
   "cell_type": "code",
   "execution_count": 29,
   "metadata": {},
   "outputs": [
    {
     "name": "stderr",
     "output_type": "stream",
     "text": [
      "\r",
      "  0%|                                                                                           | 0/50 [00:00<?, ?it/s]"
     ]
    },
    {
     "name": "stdout",
     "output_type": "stream",
     "text": [
      "WARNING:tensorflow:From C:\\ProgramData\\Anaconda3\\envs\\nlpenv\\lib\\site-packages\\tensorflow_core\\python\\ops\\resource_variable_ops.py:1630: calling BaseResourceVariable.__init__ (from tensorflow.python.ops.resource_variable_ops) with constraint is deprecated and will be removed in a future version.\n",
      "Instructions for updating:\n",
      "If using Keras pass *_constraint arguments to layers.\n",
      "WARNING:tensorflow:From C:\\ProgramData\\Anaconda3\\envs\\nlpenv\\lib\\site-packages\\tensorflow_core\\python\\ops\\nn_impl.py:183: where (from tensorflow.python.ops.array_ops) is deprecated and will be removed in a future version.\n",
      "Instructions for updating:\n",
      "Use tf.where in 2.0, which has the same broadcast rule as np.where\n"
     ]
    },
    {
     "name": "stderr",
     "output_type": "stream",
     "text": [
      "100%|██████████████████████████████████████████████████████████████████████████████████| 50/50 [05:15<00:00,  6.31s/it]"
     ]
    },
    {
     "name": "stdout",
     "output_type": "stream",
     "text": [
      "Best val acc: 0.64166665\n",
      "For config:  {'nodes1': 100, 'nodes2': 0, 'dropout_rate': 0.1, 'learning_rate': 0.001, 'optimizer': 'RMSprop', 'batch_size': 16}\n"
     ]
    },
    {
     "name": "stderr",
     "output_type": "stream",
     "text": [
      "\n"
     ]
    }
   ],
   "source": [
    "historylist_1yr = []\n",
    "for i,params in enumerate(tqdm(test_params)): \n",
    "    bs = params.pop('batch_size')\n",
    "    model = create_model(**params)\n",
    "    params.update({'batch_size': bs})\n",
    "    history = model.fit(x_train_1yr, y_train_1yr,\n",
    "                        epochs=10000,\n",
    "                        batch_size=params['batch_size'],\n",
    "                        verbose=0,\n",
    "                        callbacks=[EarlyStopping(monitor='val_acc', patience=2, restore_best_weights=True)],\n",
    "                        validation_split=0.2)\n",
    "    historylist_1yr.append(history)\n",
    "max_acc_1yr = -1\n",
    "max_idx_1yr = -1\n",
    "for i,hist in enumerate(historylist_1yr):\n",
    "    if max(hist.history['val_acc']) > max_acc_1yr: \n",
    "        max_acc_1yr = max(hist.history['val_acc'])\n",
    "        max_idx_1yr = i\n",
    "    \n",
    "print(\"Best val acc:\",max_acc_1yr)\n",
    "print(\"For config: \",test_params[max_idx_1yr])"
   ]
  },
  {
   "cell_type": "code",
   "execution_count": 30,
   "metadata": {},
   "outputs": [
    {
     "name": "stdout",
     "output_type": "stream",
     "text": [
      "Train on 960 samples, validate on 240 samples\n",
      "Epoch 1/100000\n",
      "960/960 [==============================] - 2s 2ms/sample - loss: 0.6624 - acc: 0.6146 - val_loss: 0.6759 - val_acc: 0.5667\n",
      "Epoch 2/100000\n",
      "960/960 [==============================] - 1s 727us/sample - loss: 0.5581 - acc: 0.7031 - val_loss: 0.6721 - val_acc: 0.5625\n",
      "Epoch 3/100000\n",
      "960/960 [==============================] - 1s 786us/sample - loss: 0.4362 - acc: 0.8510 - val_loss: 0.6733 - val_acc: 0.6167\n",
      "Epoch 4/100000\n",
      "960/960 [==============================] - 1s 787us/sample - loss: 0.3062 - acc: 0.9469 - val_loss: 0.7145 - val_acc: 0.6083\n",
      "Epoch 5/100000\n",
      "960/960 [==============================] - 1s 884us/sample - loss: 0.1937 - acc: 0.9906 - val_loss: 0.7885 - val_acc: 0.5750\n",
      "Epoch 6/100000\n",
      "960/960 [==============================] - 1s 819us/sample - loss: 0.1115 - acc: 0.9979 - val_loss: 0.8298 - val_acc: 0.5542\n",
      "Epoch 7/100000\n",
      "960/960 [==============================] - 1s 819us/sample - loss: 0.0598 - acc: 0.9990 - val_loss: 0.9806 - val_acc: 0.5625\n",
      "Epoch 8/100000\n",
      "960/960 [==============================] - 2s 2ms/sample - loss: 0.0296 - acc: 0.9990 - val_loss: 1.1274 - val_acc: 0.5500\n"
     ]
    },
    {
     "data": {
      "image/png": "[encoded data removed]",
      "text/plain": [
       "<Figure size 432x288 with 2 Axes>"
      ]
     },
     "metadata": {
      "needs_background": "light"
     },
     "output_type": "display_data"
    },
    {
     "data": {
      "image/png": "[encoded data removed]",
      "text/plain": [
       "<Figure size 432x288 with 2 Axes>"
      ]
     },
     "metadata": {
      "needs_background": "light"
     },
     "output_type": "display_data"
    },
    {
     "data": {
      "image/png": "[encoded data removed]",
      "text/plain": [
       "<Figure size 432x288 with 2 Axes>"
      ]
     },
     "metadata": {
      "needs_background": "light"
     },
     "output_type": "display_data"
    },
    {
     "name": "stdout",
     "output_type": "stream",
     "text": [
      "              precision    recall  f1-score   support\n",
      "\n",
      "         0.0       0.66      0.77      0.71       395\n",
      "         1.0       0.51      0.37      0.43       251\n",
      "\n",
      "    accuracy                           0.62       646\n",
      "   macro avg       0.59      0.57      0.57       646\n",
      "weighted avg       0.60      0.62      0.60       646\n",
      "\n",
      "Test accuracy: 0.618\n"
     ]
    }
   ],
   "source": [
    "bs = test_params[max_idx_1yr].pop('batch_size')\n",
    "model_ff_1yr = create_model(**test_params[max_idx_1yr])\n",
    "test_params[max_idx_1yr].update({'batch_size': bs})\n",
    "\n",
    "history_1yr = model_ff_1yr.fit(x_train_1yr, y_train_1yr,\n",
    "                               epochs=100000,\n",
    "                               batch_size = bs,\n",
    "                               verbose=1,\n",
    "                               callbacks = [EarlyStopping(monitor='val_acc', patience=5, restore_best_weights=True)],\n",
    "                               validation_split=0.2)\n",
    "savename_1yr = \"nn_bs{}_n1{}_n2{}_dr{}_lr{}_opt{}\".format(test_params[max_idx_1yr]['batch_size'],\n",
    "                                                          test_params[max_idx_1yr]['nodes1'],\n",
    "                                                          test_params[max_idx_1yr]['nodes2'],\n",
    "                                                          test_params[max_idx_1yr]['dropout_rate'],\n",
    "                                                          test_params[max_idx_1yr]['learning_rate'],\n",
    "                                                          test_params[max_idx_1yr]['optimizer'])\n",
    "plot_results_nn(history_1yr,model_ff_1yr,x_test_1yr, y_test_1yr,save=True, name=savename_1yr)"
   ]
  },
  {
   "cell_type": "markdown",
   "metadata": {},
   "source": [
    "#### 3 year rate"
   ]
  },
  {
   "cell_type": "code",
   "execution_count": 31,
   "metadata": {
    "scrolled": true
   },
   "outputs": [
    {
     "name": "stderr",
     "output_type": "stream",
     "text": [
      "100%|██████████████████████████████████████████████████████████████████████████████████| 50/50 [10:47<00:00, 12.95s/it]"
     ]
    },
    {
     "name": "stdout",
     "output_type": "stream",
     "text": [
      "Best val acc: 0.59583336\n",
      "For config:  {'nodes1': 100, 'nodes2': 250, 'dropout_rate': 0.5, 'learning_rate': 1e-05, 'optimizer': 'RMSprop', 'batch_size': 16}\n"
     ]
    },
    {
     "name": "stderr",
     "output_type": "stream",
     "text": [
      "\n"
     ]
    }
   ],
   "source": [
    "historylist_3yr = []\n",
    "for i,params in enumerate(tqdm(test_params)): \n",
    "    bs = params.pop('batch_size')\n",
    "    model = create_model(**params)\n",
    "    params.update({'batch_size': bs})\n",
    "    history = model.fit(x_train_3yr, y_train_3yr,\n",
    "                        epochs=10000,\n",
    "                        batch_size=params['batch_size'],\n",
    "                        verbose=0,\n",
    "                        callbacks=[EarlyStopping(monitor='val_acc', patience=2, restore_best_weights=True)],\n",
    "                        validation_split=0.2)\n",
    "    historylist_3yr.append(history)\n",
    "max_acc_3yr = -1\n",
    "max_idx_3yr = -1\n",
    "for i,hist in enumerate(historylist_3yr):\n",
    "    if max(hist.history['val_acc']) > max_acc_3yr: \n",
    "        max_acc_3yr = max(hist.history['val_acc'])\n",
    "        max_idx_3yr = i\n",
    "    \n",
    "print(\"Best val acc:\",max_acc_3yr)\n",
    "print(\"For config: \",test_params[max_idx_3yr])"
   ]
  },
  {
   "cell_type": "code",
   "execution_count": 32,
   "metadata": {},
   "outputs": [
    {
     "name": "stdout",
     "output_type": "stream",
     "text": [
      "Train on 960 samples, validate on 240 samples\n",
      "Epoch 1/100000\n",
      "960/960 [==============================] - 4s 4ms/sample - loss: 0.6938 - acc: 0.4896 - val_loss: 0.6933 - val_acc: 0.4750\n",
      "Epoch 2/100000\n",
      "960/960 [==============================] - 1s 1ms/sample - loss: 0.6933 - acc: 0.4979 - val_loss: 0.6930 - val_acc: 0.5000\n",
      "Epoch 3/100000\n",
      "960/960 [==============================] - 1s 1ms/sample - loss: 0.6926 - acc: 0.5073 - val_loss: 0.6927 - val_acc: 0.5458\n",
      "Epoch 4/100000\n",
      "960/960 [==============================] - 1s 1ms/sample - loss: 0.6918 - acc: 0.5479 - val_loss: 0.6924 - val_acc: 0.5375\n",
      "Epoch 5/100000\n",
      "960/960 [==============================] - 1s 1ms/sample - loss: 0.6914 - acc: 0.5260 - val_loss: 0.6922 - val_acc: 0.5458\n",
      "Epoch 6/100000\n",
      "960/960 [==============================] - 1s 1ms/sample - loss: 0.6912 - acc: 0.5406 - val_loss: 0.6920 - val_acc: 0.5583\n",
      "Epoch 7/100000\n",
      "960/960 [==============================] - 1s 1ms/sample - loss: 0.6906 - acc: 0.5510 - val_loss: 0.6917 - val_acc: 0.5542\n",
      "Epoch 8/100000\n",
      "960/960 [==============================] - 1s 1ms/sample - loss: 0.6904 - acc: 0.5583 - val_loss: 0.6915 - val_acc: 0.5542\n",
      "Epoch 9/100000\n",
      "960/960 [==============================] - 1s 1ms/sample - loss: 0.6897 - acc: 0.5448 - val_loss: 0.6913 - val_acc: 0.5542\n",
      "Epoch 10/100000\n",
      "960/960 [==============================] - 1s 1ms/sample - loss: 0.6892 - acc: 0.5542 - val_loss: 0.6911 - val_acc: 0.5542\n",
      "Epoch 11/100000\n",
      "960/960 [==============================] - 3s 3ms/sample - loss: 0.6894 - acc: 0.5417 - val_loss: 0.6909 - val_acc: 0.5542\n"
     ]
    },
    {
     "data": {
      "image/png": "[encoded data removed]",
      "text/plain": [
       "<Figure size 432x288 with 2 Axes>"
      ]
     },
     "metadata": {
      "needs_background": "light"
     },
     "output_type": "display_data"
    },
    {
     "data": {
      "image/png": "[encoded data removed]",
      "text/plain": [
       "<Figure size 432x288 with 2 Axes>"
      ]
     },
     "metadata": {
      "needs_background": "light"
     },
     "output_type": "display_data"
    },
    {
     "data": {
      "image/png": "[encoded data removed]",
      "text/plain": [
       "<Figure size 432x288 with 2 Axes>"
      ]
     },
     "metadata": {
      "needs_background": "light"
     },
     "output_type": "display_data"
    },
    {
     "name": "stdout",
     "output_type": "stream",
     "text": [
      "              precision    recall  f1-score   support\n",
      "\n",
      "         0.0       0.54      0.98      0.69       348\n",
      "         1.0       0.42      0.02      0.03       298\n",
      "\n",
      "    accuracy                           0.54       646\n",
      "   macro avg       0.48      0.50      0.36       646\n",
      "weighted avg       0.48      0.54      0.39       646\n",
      "\n",
      "Test accuracy: 0.536\n"
     ]
    }
   ],
   "source": [
    "bs = test_params[max_idx_3yr].pop('batch_size')\n",
    "model_ff_3yr = create_model(**test_params[max_idx_3yr])\n",
    "test_params[max_idx_3yr].update({'batch_size': bs})\n",
    "\n",
    "history_3yr = model_ff_3yr.fit(x_train_3yr, y_train_3yr,\n",
    "                               epochs=100000,\n",
    "                               batch_size = bs,\n",
    "                               verbose=1,\n",
    "                               callbacks = [EarlyStopping(monitor='val_acc', patience=5, restore_best_weights=True)],\n",
    "                               validation_split=0.2)\n",
    "savename_3yr = \"nn_bs{}_n1{}_n2{}_dr{}_lr{}_opt{}\".format(test_params[max_idx_3yr]['batch_size'],\n",
    "                                                          test_params[max_idx_3yr]['nodes1'],\n",
    "                                                          test_params[max_idx_3yr]['nodes2'],\n",
    "                                                          test_params[max_idx_3yr]['dropout_rate'],\n",
    "                                                          test_params[max_idx_3yr]['learning_rate'],\n",
    "                                                          test_params[max_idx_3yr]['optimizer'])\n",
    "plot_results_nn(history_3yr,model_ff_3yr,x_test_3yr, y_test_3yr,save=True, name=savename_3yr)\n"
   ]
  },
  {
   "cell_type": "markdown",
   "metadata": {},
   "source": [
    "#### S&P"
   ]
  },
  {
   "cell_type": "code",
   "execution_count": 33,
   "metadata": {},
   "outputs": [
    {
     "name": "stderr",
     "output_type": "stream",
     "text": [
      "100%|██████████████████████████████████████████████████████████████████████████████████| 50/50 [22:11<00:00, 26.64s/it]"
     ]
    },
    {
     "name": "stdout",
     "output_type": "stream",
     "text": [
      "Best val acc: 0.6375\n",
      "For config:  {'nodes1': 500, 'nodes2': 500, 'dropout_rate': 0.3, 'learning_rate': 0.0001, 'optimizer': 'RMSprop', 'batch_size': 16}\n"
     ]
    },
    {
     "name": "stderr",
     "output_type": "stream",
     "text": [
      "\n"
     ]
    }
   ],
   "source": [
    "historylist_sp = []\n",
    "for i,params in enumerate(tqdm(test_params)): \n",
    "    bs = params.pop('batch_size')\n",
    "    model = create_model(**params)\n",
    "    params.update({'batch_size': bs})\n",
    "    history = model.fit(x_train_sp, y_train_sp,\n",
    "                        epochs=10000,\n",
    "                        batch_size=params['batch_size'],\n",
    "                        verbose=0,\n",
    "                        callbacks=[EarlyStopping(monitor='val_acc', patience=2, restore_best_weights=True)],\n",
    "                        validation_split=0.2)\n",
    "    historylist_sp.append(history)\n",
    "max_acc_sp = -1\n",
    "max_idx_sp = -1\n",
    "for i,hist in enumerate(historylist_sp):\n",
    "    if max(hist.history['val_acc']) > max_acc_sp: \n",
    "        max_acc_sp = max(hist.history['val_acc'])\n",
    "        max_idx_sp = i\n",
    "    \n",
    "print(\"Best val acc:\",max_acc_sp)\n",
    "print(\"For config: \",test_params[max_idx_sp])"
   ]
  },
  {
   "cell_type": "code",
   "execution_count": 34,
   "metadata": {},
   "outputs": [
    {
     "name": "stdout",
     "output_type": "stream",
     "text": [
      "Train on 960 samples, validate on 240 samples\n",
      "Epoch 1/100000\n",
      "960/960 [==============================] - 16s 17ms/sample - loss: 0.6890 - acc: 0.5323 - val_loss: 0.6865 - val_acc: 0.5500\n",
      "Epoch 2/100000\n",
      "960/960 [==============================] - 5s 6ms/sample - loss: 0.6676 - acc: 0.5521 - val_loss: 0.6832 - val_acc: 0.5500\n",
      "Epoch 3/100000\n",
      "960/960 [==============================] - 6s 6ms/sample - loss: 0.6271 - acc: 0.6240 - val_loss: 0.6742 - val_acc: 0.5875\n",
      "Epoch 4/100000\n",
      "960/960 [==============================] - 6s 6ms/sample - loss: 0.5440 - acc: 0.8792 - val_loss: 0.6687 - val_acc: 0.6042\n",
      "Epoch 5/100000\n",
      "960/960 [==============================] - 6s 6ms/sample - loss: 0.4238 - acc: 0.9229 - val_loss: 0.6648 - val_acc: 0.5792\n",
      "Epoch 6/100000\n",
      "960/960 [==============================] - 5s 6ms/sample - loss: 0.2867 - acc: 0.9729 - val_loss: 0.6943 - val_acc: 0.5625\n",
      "Epoch 7/100000\n",
      "960/960 [==============================] - 5s 6ms/sample - loss: 0.1749 - acc: 0.9875 - val_loss: 0.7243 - val_acc: 0.5667\n",
      "Epoch 8/100000\n",
      "960/960 [==============================] - 6s 6ms/sample - loss: 0.0947 - acc: 0.9969 - val_loss: 0.7913 - val_acc: 0.5667\n",
      "Epoch 9/100000\n",
      "960/960 [==============================] - 11s 11ms/sample - loss: 0.0439 - acc: 0.9990 - val_loss: 0.8762 - val_acc: 0.5375\n"
     ]
    },
    {
     "data": {
      "image/png": "[encoded data removed]",
      "text/plain": [
       "<Figure size 432x288 with 2 Axes>"
      ]
     },
     "metadata": {
      "needs_background": "light"
     },
     "output_type": "display_data"
    },
    {
     "data": {
      "image/png": "[encoded data removed]",
      "text/plain": [
       "<Figure size 432x288 with 2 Axes>"
      ]
     },
     "metadata": {
      "needs_background": "light"
     },
     "output_type": "display_data"
    },
    {
     "data": {
      "image/png": "[encoded data removed]",
      "text/plain": [
       "<Figure size 432x288 with 2 Axes>"
      ]
     },
     "metadata": {
      "needs_background": "light"
     },
     "output_type": "display_data"
    },
    {
     "name": "stdout",
     "output_type": "stream",
     "text": [
      "              precision    recall  f1-score   support\n",
      "\n",
      "         0.0       0.57      0.90      0.69       356\n",
      "         1.0       0.55      0.15      0.23       290\n",
      "\n",
      "    accuracy                           0.56       646\n",
      "   macro avg       0.56      0.52      0.46       646\n",
      "weighted avg       0.56      0.56      0.49       646\n",
      "\n",
      "Test accuracy: 0.563\n"
     ]
    }
   ],
   "source": [
    "bs = test_params[max_idx_sp].pop('batch_size')\n",
    "model_ff_sp = create_model(**test_params[max_idx_sp])\n",
    "test_params[max_idx_sp].update({'batch_size': bs})\n",
    "\n",
    "history_sp = model_ff_sp.fit(x_train_sp, y_train_sp,\n",
    "                               epochs=100000,\n",
    "                               batch_size = bs,\n",
    "                               verbose=1,\n",
    "                               callbacks = [EarlyStopping(monitor='val_acc', patience=5, restore_best_weights=True)],\n",
    "                               validation_split=0.2)\n",
    "savename_sp = \"nn_bs{}_n1{}_n2{}_dr{}_lr{}_opt{}\".format(test_params[max_idx_sp]['batch_size'],\n",
    "                                                          test_params[max_idx_sp]['nodes1'],\n",
    "                                                          test_params[max_idx_sp]['nodes2'],\n",
    "                                                          test_params[max_idx_sp]['dropout_rate'],\n",
    "                                                          test_params[max_idx_sp]['learning_rate'],\n",
    "                                                          test_params[max_idx_sp]['optimizer'])\n",
    "plot_results_nn(history_sp,model_ff_sp,x_test_sp, y_test_sp,save=True, name=savename_sp)\n"
   ]
  },
  {
   "cell_type": "code",
   "execution_count": null,
   "metadata": {},
   "outputs": [],
   "source": []
  },
  {
   "cell_type": "code",
   "execution_count": null,
   "metadata": {},
   "outputs": [],
   "source": []
  },
  {
   "cell_type": "code",
   "execution_count": null,
   "metadata": {},
   "outputs": [],
   "source": []
  },
  {
   "cell_type": "code",
   "execution_count": null,
   "metadata": {},
   "outputs": [],
   "source": []
  },
  {
   "cell_type": "code",
   "execution_count": null,
   "metadata": {},
   "outputs": [],
   "source": []
  }
 ],
 "metadata": {
  "kernelspec": {
   "display_name": "Python 3",
   "language": "python",
   "name": "python3"
  },
  "language_info": {
   "codemirror_mode": {
    "name": "ipython",
    "version": 3
   },
   "file_extension": ".py",
   "mimetype": "text/x-python",
   "name": "python",
   "nbconvert_exporter": "python",
   "pygments_lexer": "ipython3",
   "version": "3.6.10"
  }
 },
 "nbformat": 4,
 "nbformat_minor": 4
}
