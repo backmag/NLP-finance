{
 "cells": [
  {
   "cell_type": "markdown",
   "metadata": {},
   "source": [
    "### Financial Index Prediction\n",
    "This notebook seeks to predict if an ARMA-model has predicted a higher or lower value than the actual outcome of a financial index from day k-1 to day k given financial news headlines from day k. A range of different combinations between statistical and NLP-models are used."
   ]
  },
  {
   "cell_type": "code",
   "execution_count": 1,
   "metadata": {},
   "outputs": [],
   "source": [
    "import pandas as pd\n",
    "import numpy as np\n",
    "import seaborn as sn\n",
    "import matplotlib.pyplot as plt\n",
    "from pathlib import Path\n",
    "from tqdm import tqdm, trange\n",
    "from sentence_transformers import SentenceTransformer\n",
    "from sklearn.utils import parallel_backend\n",
    "from nltk.tokenize import word_tokenize, sent_tokenize\n",
    "from sklearn.metrics import classification_report, plot_confusion_matrix, confusion_matrix, f1_score\n",
    "from sklearn.linear_model import LogisticRegression\n",
    "from sklearn.ensemble import RandomForestClassifier\n",
    "from sklearn.model_selection import GridSearchCV\n",
    "from sklearn import svm\n",
    "from sklearn.dummy import DummyClassifier\n",
    "from sklearn.base import ClassifierMixin, BaseEstimator\n",
    "from tensorflow.keras.optimizers import RMSprop, Adam\n",
    "from tensorflow.keras.callbacks import EarlyStopping\n",
    "from tensorflow.keras.wrappers.scikit_learn import KerasClassifier\n",
    "import tensorflow as tf\n",
    "from tensorflow.keras import backend as K\n",
    "from tensorflow.keras.layers import Dense, Dropout, Embedding, Masking, Lambda, Layer, Flatten\n",
    "from tensorflow.keras.models import Sequential\n",
    "from tensorflow.keras import optimizers\n",
    "import os\n",
    "import itertools"
   ]
  },
  {
   "cell_type": "markdown",
   "metadata": {},
   "source": [
    "#### Load financial news data and financial index data"
   ]
  },
  {
   "cell_type": "code",
   "execution_count": 2,
   "metadata": {},
   "outputs": [],
   "source": [
    "ONEDRIVE_PATH = Path(r\"C:\\Users\\gusta\\Kidbrooke Advisory Ab\\KidbrookeOneDrive - Gustaf Backman exjobb\")\n",
    "\n",
    "# Read the financial data \n",
    "fin_path = ONEDRIVE_PATH / \"Input Data/stock_data.pkl\"\n",
    "fin_data = pd.read_pickle(fin_path)\n",
    "# Read from 2006-10-20 for next day preds or from 2006-10-19 for current day preds\n",
    "fin_data = fin_data.loc['2006-10-20' : '2013-11-22']\n",
    "\n",
    "news_path = ONEDRIVE_PATH / \"Input Data/financial_headlines_20061020-20131119.pkl\"\n",
    "news_data = pd.DataFrame(pd.read_pickle(news_path))\n",
    "news_data.set_index('date',inplace=True)"
   ]
  },
  {
   "cell_type": "code",
   "execution_count": 3,
   "metadata": {},
   "outputs": [],
   "source": [
    "news_dates = news_data.index.drop_duplicates()\n",
    "fin_dates = fin_data.index.drop_duplicates\n",
    "\n",
    "# Find the dates which are present in both the financial data and news data\n",
    "valid_dates = []\n",
    "for date in news_dates: \n",
    "    if date in fin_data.index: \n",
    "        valid_dates.append(date)\n",
    "        \n",
    "# Create targets for all 3 time series \n",
    "targets = pd.DataFrame(dtype='int8')\n",
    "prev_vals = fin_data.iloc[0]\n",
    "for i in range(len(valid_dates)): \n",
    "    y_temp = []\n",
    "    # If the value has increased since yesterday, y = 1\n",
    "    if prev_vals['1 YEAR'] < fin_data.iloc[i+1]['1 YEAR']: \n",
    "        y_temp.append(1)\n",
    "    else:\n",
    "        y_temp.append(0)\n",
    "        \n",
    "    if prev_vals['3 YEAR'] < fin_data.iloc[i+1]['3 YEAR']: \n",
    "        y_temp.append(1)\n",
    "    else:\n",
    "        y_temp.append(0)\n",
    "        \n",
    "    if prev_vals['S&P'] < fin_data.iloc[i+1]['S&P']: \n",
    "        y_temp.append(1)\n",
    "    else:\n",
    "        y_temp.append(0)\n",
    "    targets = targets.append({'1 YEAR':y_temp[0], '3 YEAR':y_temp[1], 'S&P':y_temp[2]}, ignore_index=True)\n",
    "    prev_vals = fin_data.iloc[i+1]"
   ]
  },
  {
   "cell_type": "code",
   "execution_count": 4,
   "metadata": {},
   "outputs": [
    {
     "name": "stderr",
     "output_type": "stream",
     "text": [
      "100%|██████████████████████████████████████████████████████████████████████████████| 1846/1846 [00:38<00:00, 47.67it/s]"
     ]
    },
    {
     "name": "stdout",
     "output_type": "stream",
     "text": [
      "Length of texts: 1846\n",
      "Length of targets: 1846\n"
     ]
    },
    {
     "name": "stderr",
     "output_type": "stream",
     "text": [
      "\n"
     ]
    }
   ],
   "source": [
    "# Concatenate the news for each day in the valid indices, i.e. the indices that are present in both \n",
    "# the financial data and the news data \n",
    "texts = []\n",
    "for ind,date in enumerate(tqdm(valid_dates)): \n",
    "    temp_texts = \"\"\n",
    "    for i,text in enumerate(news_data.loc[date]['title']): \n",
    "        if i < len(news_data.loc[date]['title']) - 1:\n",
    "            temp_texts += text + \". \"\n",
    "        else:\n",
    "            temp_texts += text + \".\"\n",
    "    texts.append(temp_texts)\n",
    "texts = np.asarray(texts)\n",
    "print(\"Length of texts:\",len(texts))\n",
    "print(\"Length of targets:\",len(targets))"
   ]
  },
  {
   "cell_type": "markdown",
   "metadata": {},
   "source": [
    "Load the ARMA-labels"
   ]
  },
  {
   "cell_type": "code",
   "execution_count": 16,
   "metadata": {},
   "outputs": [],
   "source": [
    "arma_path = Path(os.getcwd()).parent / \"arma_labels.npy\"\n",
    "arma_labels = np.load(arma_path)\n",
    "# Replace the targets \n",
    "for i in range(len(targets)): \n",
    "    targets.iloc[i]['1 YEAR'] = arma_labels[i,0]\n",
    "    targets.iloc[i]['3 YEAR'] = arma_labels[i,1]\n",
    "    targets.iloc[i]['S&P'] = arma_labels[i,2]\n",
    "    \n",
    "# Drop first line of texts and last line of targets to shift \n",
    "texts = texts[1:]\n",
    "targets = targets.drop(1845)"
   ]
  },
  {
   "cell_type": "markdown",
   "metadata": {},
   "source": [
    "#### Format the data with SBERT\n"
   ]
  },
  {
   "cell_type": "code",
   "execution_count": 18,
   "metadata": {},
   "outputs": [],
   "source": [
    "# Load a pre-trained SBERT-model \n",
    "sbert_model = SentenceTransformer('bert-base-nli-mean-tokens')"
   ]
  },
  {
   "cell_type": "code",
   "execution_count": 19,
   "metadata": {},
   "outputs": [
    {
     "name": "stdout",
     "output_type": "stream",
     "text": [
      "Loaded previously saved embeddings.\n"
     ]
    }
   ],
   "source": [
    "# The embeddings are the same for today/tomorrow prediction, it's just the labels that change. \n",
    "path = ONEDRIVE_PATH / \"Input Data/news_embedded_today_bert_base_nli_mean.npy\" \n",
    "# Check if an embedding matrix for the news dataset has been previously constructed \n",
    "if os.path.exists(path):\n",
    "    x = np.load(path)\n",
    "    embed_dim = x.shape[-1]\n",
    "    print(\"Loaded previously saved embeddings.\")\n",
    "else:\n",
    "    # Create embedding matrix for every sample with the mean embedding over all sentences in that review\n",
    "    x = np.zeros((len(targets), 768))\n",
    "    for i,text in enumerate(tqdm(texts)):\n",
    "        sbert_texts = sbert_model.encode(sent_tokenize(text))\n",
    "        x[i] = np.mean(sbert_texts,axis=0)\n",
    "    np.save(path,x)"
   ]
  },
  {
   "cell_type": "markdown",
   "metadata": {},
   "source": [
    "#### Partition into training and test set\n",
    "Since the data is somewhat imbalanced - mostly for the 1 year rate - the training data will be under sampled by the minority class. "
   ]
  },
  {
   "cell_type": "code",
   "execution_count": 20,
   "metadata": {},
   "outputs": [
    {
     "name": "stdout",
     "output_type": "stream",
     "text": [
      " ----- 1 YEAR RATE -----\n",
      "Ratio neg labels 1 year rate: 0.6110509209100758\n",
      "Neg labels: 1128 Pos labels: 718\n",
      " ----- 3 YEAR RATE -----\n",
      "Ratio neg labels 3 year rate: 0.5384615384615384\n",
      "Neg labels: 994 Pos labels: 852\n",
      " -----     S&P     -----\n",
      "Ratio neg labels S&P: 0.5503791982665223\n",
      "Neg labels: 1016 Pos labels: 830\n"
     ]
    }
   ],
   "source": [
    "zero_indices_1yr = np.where(targets['1 YEAR'] == 0)[0]\n",
    "one_indices_1yr = np.where(targets['1 YEAR'] == 1)[0]\n",
    "\n",
    "zero_indices_3yr = np.where(targets['3 YEAR'] == 0)[0]\n",
    "one_indices_3yr = np.where(targets['3 YEAR'] == 1)[0]\n",
    "\n",
    "zero_indices_sp = np.where(targets['S&P'] == 0)[0]\n",
    "one_indices_sp = np.where(targets['S&P'] == 1)[0]\n",
    "\n",
    "print(\" ----- 1 YEAR RATE -----\")\n",
    "print(\"Ratio neg labels 1 year rate:\",len(zero_indices_1yr) / len(targets))\n",
    "print(\"Neg labels:\", len(zero_indices_1yr), \"Pos labels:\",len(one_indices_1yr))\n",
    "print(\" ----- 3 YEAR RATE -----\")\n",
    "print(\"Ratio neg labels 3 year rate:\",len(zero_indices_3yr) / len(targets))\n",
    "print(\"Neg labels:\", len(zero_indices_3yr), \"Pos labels:\",len(one_indices_3yr))\n",
    "print(\" -----     S&P     -----\")\n",
    "print(\"Ratio neg labels S&P:\",len(zero_indices_sp) / len(targets))\n",
    "print(\"Neg labels:\", len(zero_indices_sp), \"Pos labels:\",len(one_indices_sp))"
   ]
  },
  {
   "cell_type": "code",
   "execution_count": 21,
   "metadata": {},
   "outputs": [
    {
     "name": "stdout",
     "output_type": "stream",
     "text": [
      " ----- 1 YEAR RATE -----\n",
      "Train data shape (x,y): (1200, 768) , (1200,)\n",
      "Train data label ratio (0 / 1): 733 / 467\n",
      "Test data shape (x,y): (646, 768) , (646,)\n",
      "Test data label ratio (0 / 1): 395 / 251\n",
      " ----- 3 YEAR RATE -----\n",
      "Train data shape (x,y): (1200, 768) , (1200,)\n",
      "Train data label ratio (0 / 1): 646 / 554\n",
      "Test data shape (x,y): (646, 768) , (646,)\n",
      "Test data label ratio (0 / 1): 348 / 298\n",
      " -----     S&P     -----\n",
      "Train data shape (x,y): (1200, 768) , (1200,)\n",
      "Train data label ratio (0 / 1): 660 / 540\n",
      "Test data shape (x,y): (646, 768) , (646,)\n",
      "Test data label ratio (0 / 1): 356 / 290\n"
     ]
    }
   ],
   "source": [
    "n_train = 1200\n",
    "n = len(targets)\n",
    "\n",
    "np.random.shuffle(zero_indices_1yr)\n",
    "np.random.shuffle(one_indices_1yr)\n",
    "part_zeros_1yr = len(zero_indices_1yr) / n\n",
    "train_indices_1yr = np.zeros((n_train),dtype=int)\n",
    "train_indices_1yr[:round(part_zeros_1yr * n_train)] = zero_indices_1yr[:round(part_zeros_1yr * n_train)]\n",
    "train_indices_1yr[round(part_zeros_1yr * n_train):] = one_indices_1yr[:round((1 - part_zeros_1yr) * n_train)]\n",
    "np.random.shuffle(train_indices_1yr)\n",
    "# All indices not in train is in test. \n",
    "test_indices_1yr = np.setdiff1d(np.arange(len(targets)), train_indices_1yr)\n",
    "np.random.shuffle(test_indices_1yr)\n",
    "\n",
    "np.random.shuffle(zero_indices_3yr)\n",
    "np.random.shuffle(one_indices_3yr)\n",
    "part_zeros_3yr = len(zero_indices_3yr) / n\n",
    "train_indices_3yr = np.zeros((n_train),dtype=int)\n",
    "train_indices_3yr[:round(part_zeros_3yr * n_train)] = zero_indices_3yr[:round(part_zeros_3yr * n_train)]\n",
    "train_indices_3yr[round(part_zeros_3yr * n_train):] = one_indices_3yr[:round((1 - part_zeros_3yr) * n_train)]\n",
    "np.random.shuffle(train_indices_3yr)\n",
    "# All indices not in train is in test. \n",
    "test_indices_3yr = np.setdiff1d(np.arange(len(targets)), train_indices_3yr)\n",
    "np.random.shuffle(test_indices_3yr)\n",
    "\n",
    "np.random.shuffle(zero_indices_sp)\n",
    "np.random.shuffle(one_indices_sp)\n",
    "part_zeros_sp = len(zero_indices_sp) / n\n",
    "train_indices_sp = np.zeros((n_train),dtype=int)\n",
    "train_indices_sp[:round(part_zeros_sp * n_train)] = zero_indices_sp[:round(part_zeros_sp * n_train)]\n",
    "train_indices_sp[round(part_zeros_sp * n_train):] = one_indices_sp[:round((1 - part_zeros_sp) * n_train)]\n",
    "np.random.shuffle(train_indices_sp)\n",
    "# All indices not in train is in test. \n",
    "test_indices_sp = np.setdiff1d(np.arange(len(targets)), train_indices_sp)\n",
    "np.random.shuffle(test_indices_sp)\n",
    "\n",
    "x_train_1yr = x[train_indices_1yr]\n",
    "x_test_1yr = x[test_indices_1yr]\n",
    "y_train_1yr = targets.iloc[train_indices_1yr]['1 YEAR'].values\n",
    "y_test_1yr = targets.iloc[test_indices_1yr]['1 YEAR'].values\n",
    "\n",
    "x_train_3yr = x[train_indices_3yr]\n",
    "x_test_3yr = x[test_indices_3yr]\n",
    "y_train_3yr = targets.iloc[train_indices_3yr]['3 YEAR'].values\n",
    "y_test_3yr = targets.iloc[test_indices_3yr]['3 YEAR'].values\n",
    "\n",
    "x_train_sp = x[train_indices_sp]\n",
    "x_test_sp = x[test_indices_sp]\n",
    "y_train_sp = targets.iloc[train_indices_sp]['S&P'].values\n",
    "y_test_sp = targets.iloc[test_indices_sp]['S&P'].values\n",
    "\n",
    "\n",
    "# Sanity check of shapes \n",
    "\n",
    "print(\" ----- 1 YEAR RATE -----\")\n",
    "print(\"Train data shape (x,y):\",x_train_1yr.shape,\",\", y_train_1yr.shape)\n",
    "print(\"Train data label ratio (0 / 1):\",np.sum(y_train_1yr == 0),\"/\", np.sum(y_train_1yr == 1))\n",
    "print(\"Test data shape (x,y):\",x_test_1yr.shape,\",\", y_test_1yr.shape)\n",
    "print(\"Test data label ratio (0 / 1):\",np.sum(y_test_1yr == 0),\"/\", np.sum(y_test_1yr == 1))\n",
    "\n",
    "print(\" ----- 3 YEAR RATE -----\")\n",
    "print(\"Train data shape (x,y):\",x_train_3yr.shape,\",\", y_train_3yr.shape)\n",
    "print(\"Train data label ratio (0 / 1):\",np.sum(y_train_3yr == 0),\"/\", np.sum(y_train_3yr == 1))\n",
    "print(\"Test data shape (x,y):\",x_test_3yr.shape,\",\", y_test_3yr.shape)\n",
    "print(\"Test data label ratio (0 / 1):\",np.sum(y_test_3yr == 0),\"/\", np.sum(y_test_3yr == 1))\n",
    "print(\" -----     S&P     -----\")\n",
    "print(\"Train data shape (x,y):\",x_train_sp.shape,\",\", y_train_sp.shape)\n",
    "print(\"Train data label ratio (0 / 1):\",np.sum(y_train_sp == 0),\"/\", np.sum(y_train_sp == 1))\n",
    "print(\"Test data shape (x,y):\",x_test_sp.shape,\",\", y_test_sp.shape)\n",
    "print(\"Test data label ratio (0 / 1):\",np.sum(y_test_sp == 0),\"/\", np.sum(y_test_sp == 1))"
   ]
  },
  {
   "cell_type": "markdown",
   "metadata": {},
   "source": [
    "## Models \n",
    "The data has been pre-processed and the models can be evaluated. All of the models are fitted with the three data series. "
   ]
  },
  {
   "cell_type": "code",
   "execution_count": 22,
   "metadata": {},
   "outputs": [],
   "source": [
    "# Some help functions for plotting the results \n",
    "\n",
    "def plot_results(model,x_test, y_test,save=False, name=''):\n",
    "    y_test_preds = model.predict(x_test)\n",
    "    print(classification_report(y_test, y_test_preds))\n",
    "    print(\"Test accuracy:\",model.score(x_test, y_test))\n",
    "    plot_confusion_matrix(model,x_test,y_test)\n",
    "    if save:\n",
    "        plt.savefig(\"Figs SBERT/\" + name + \"confmat.jpg\")\n",
    "    plt.show()\n",
    "    \n",
    "def plot_results_nn(history, model,x_test, y_test,save=False, name=''):\n",
    "    plt.subplot(121)\n",
    "    plt.plot(history.history['loss'],label='Loss')\n",
    "    plt.plot(history.history['val_loss'],label='Val loss')\n",
    "    plt.legend()\n",
    "    plt.subplot(122)\n",
    "    plt.plot(history.history['acc'],label='Acc')\n",
    "    plt.plot(history.history['val_acc'],label='Val acc')\n",
    "    plt.legend()\n",
    "    if save: \n",
    "        plt.savefig(\"Figs SBERT/\" + name + \"history.jpg\")\n",
    "    plt.show() \n",
    "    y_test_pred = np.round(model.predict(x_test))\n",
    "    plt.subplot(121)\n",
    "    plt.bar([0,1],[np.sum(y_test == 0), np.sum(y_test == 1)], label='Actual test dist')\n",
    "    plt.legend()\n",
    "    plt.xticks([0, 1])\n",
    "    plt.subplot(122)\n",
    "    plt.bar([0,1],[np.sum(y_test_pred == 0), np.sum(y_test_pred == 1)], label='Pred test dist')\n",
    "    plt.legend()\n",
    "    plt.xticks([0, 1])\n",
    "    plt.show()\n",
    "    conf_mat = confusion_matrix(y_test,y_test_pred,normalize='pred')\n",
    "    ax = sn.heatmap(conf_mat,)\n",
    "    ax.set_ylabel(\"True values\")\n",
    "    ax.set_xlabel(\"Predicted values\")\n",
    "    if save: \n",
    "        plt.savefig(\"Figs SBERT/\" + name + \"confmat.jpg\")\n",
    "    plt.show()\n",
    "    print(classification_report(y_test, y_test_pred))\n",
    "    print(\"Test accuracy:\",round(np.sum(y_test == y_test_pred[:,0]) / len(y_test),3))"
   ]
  },
  {
   "cell_type": "markdown",
   "metadata": {},
   "source": [
    "### Random Classifiers"
   ]
  },
  {
   "cell_type": "markdown",
   "metadata": {},
   "source": [
    "#### 1 year rate"
   ]
  },
  {
   "cell_type": "code",
   "execution_count": 45,
   "metadata": {},
   "outputs": [
    {
     "name": "stdout",
     "output_type": "stream",
     "text": [
      "              precision    recall  f1-score   support\n",
      "\n",
      "         0.0       0.61      1.00      0.76       395\n",
      "         1.0       0.00      0.00      0.00       251\n",
      "\n",
      "    accuracy                           0.61       646\n",
      "   macro avg       0.31      0.50      0.38       646\n",
      "weighted avg       0.37      0.61      0.46       646\n",
      "\n",
      "Test accuracy: 0.6114551083591331\n"
     ]
    },
    {
     "data": {
      "image/png": "[encoded data removed]",
      "text/plain": [
       "<Figure size 432x288 with 2 Axes>"
      ]
     },
     "metadata": {
      "needs_background": "light"
     },
     "output_type": "display_data"
    }
   ],
   "source": [
    "rand_1yr = DummyClassifier(strategy='most_frequent').fit(x_train_1yr, y_train_1yr)\n",
    "plot_results(rand_1yr, x_test_1yr, y_test_1yr, save=True, name='rand_mf_1yr')"
   ]
  },
  {
   "cell_type": "code",
   "execution_count": 46,
   "metadata": {},
   "outputs": [
    {
     "name": "stdout",
     "output_type": "stream",
     "text": [
      "              precision    recall  f1-score   support\n",
      "\n",
      "         0.0       0.60      0.62      0.61       395\n",
      "         1.0       0.37      0.35      0.36       251\n",
      "\n",
      "    accuracy                           0.51       646\n",
      "   macro avg       0.48      0.48      0.48       646\n",
      "weighted avg       0.51      0.51      0.51       646\n",
      "\n",
      "Test accuracy: 0.5278637770897833\n"
     ]
    },
    {
     "data": {
      "image/png": "[encoded data removed]",
      "text/plain": [
       "<Figure size 432x288 with 2 Axes>"
      ]
     },
     "metadata": {
      "needs_background": "light"
     },
     "output_type": "display_data"
    }
   ],
   "source": [
    "rand_1yr = DummyClassifier(strategy='stratified').fit(x_train_1yr, y_train_1yr)\n",
    "plot_results(rand_1yr, x_test_1yr, y_test_1yr, save=True, name='rand_mf_1yr')"
   ]
  },
  {
   "cell_type": "markdown",
   "metadata": {},
   "source": [
    "#### 3 year rate"
   ]
  },
  {
   "cell_type": "code",
   "execution_count": 43,
   "metadata": {},
   "outputs": [
    {
     "name": "stdout",
     "output_type": "stream",
     "text": [
      "              precision    recall  f1-score   support\n",
      "\n",
      "         0.0       0.54      1.00      0.70       348\n",
      "         1.0       0.00      0.00      0.00       298\n",
      "\n",
      "    accuracy                           0.54       646\n",
      "   macro avg       0.27      0.50      0.35       646\n",
      "weighted avg       0.29      0.54      0.38       646\n",
      "\n",
      "Test accuracy: 0.5386996904024768\n"
     ]
    },
    {
     "data": {
      "image/png": "[encoded data removed]",
      "text/plain": [
       "<Figure size 432x288 with 2 Axes>"
      ]
     },
     "metadata": {
      "needs_background": "light"
     },
     "output_type": "display_data"
    }
   ],
   "source": [
    "rand_3yr = DummyClassifier(strategy='most_frequent').fit(x_train_3yr, y_train_3yr)\n",
    "plot_results(rand_3yr, x_test_3yr, y_test_3yr, save=True, name='rand_mf_3yr')"
   ]
  },
  {
   "cell_type": "code",
   "execution_count": 48,
   "metadata": {},
   "outputs": [
    {
     "name": "stdout",
     "output_type": "stream",
     "text": [
      "              precision    recall  f1-score   support\n",
      "\n",
      "         0.0       0.57      0.58      0.57       348\n",
      "         1.0       0.50      0.49      0.49       298\n",
      "\n",
      "    accuracy                           0.54       646\n",
      "   macro avg       0.53      0.53      0.53       646\n",
      "weighted avg       0.54      0.54      0.54       646\n",
      "\n",
      "Test accuracy: 0.5309597523219814\n"
     ]
    },
    {
     "data": {
      "image/png": "[encoded data removed]",
      "text/plain": [
       "<Figure size 432x288 with 2 Axes>"
      ]
     },
     "metadata": {
      "needs_background": "light"
     },
     "output_type": "display_data"
    }
   ],
   "source": [
    "rand_3yr = DummyClassifier(strategy='stratified').fit(x_train_3yr, y_train_3yr)\n",
    "plot_results(rand_3yr, x_test_3yr, y_test_3yr, save=True, name='rand_mf_3yr')"
   ]
  },
  {
   "cell_type": "markdown",
   "metadata": {},
   "source": [
    "#### S&P"
   ]
  },
  {
   "cell_type": "code",
   "execution_count": 44,
   "metadata": {},
   "outputs": [
    {
     "name": "stdout",
     "output_type": "stream",
     "text": [
      "              precision    recall  f1-score   support\n",
      "\n",
      "         0.0       0.55      1.00      0.71       356\n",
      "         1.0       0.00      0.00      0.00       290\n",
      "\n",
      "    accuracy                           0.55       646\n",
      "   macro avg       0.28      0.50      0.36       646\n",
      "weighted avg       0.30      0.55      0.39       646\n",
      "\n",
      "Test accuracy: 0.5510835913312694\n"
     ]
    },
    {
     "data": {
      "image/png": "[encoded data removed]",
      "text/plain": [
       "<Figure size 432x288 with 2 Axes>"
      ]
     },
     "metadata": {
      "needs_background": "light"
     },
     "output_type": "display_data"
    }
   ],
   "source": [
    "rand_sp = DummyClassifier(strategy='most_frequent').fit(x_train_sp, y_train_sp)\n",
    "plot_results(rand_sp, x_test_sp, y_test_sp, save=True, name='rand_mf_sp')"
   ]
  },
  {
   "cell_type": "code",
   "execution_count": 47,
   "metadata": {},
   "outputs": [
    {
     "name": "stdout",
     "output_type": "stream",
     "text": [
      "              precision    recall  f1-score   support\n",
      "\n",
      "         0.0       0.54      0.53      0.53       356\n",
      "         1.0       0.43      0.44      0.44       290\n",
      "\n",
      "    accuracy                           0.49       646\n",
      "   macro avg       0.48      0.48      0.48       646\n",
      "weighted avg       0.49      0.49      0.49       646\n",
      "\n",
      "Test accuracy: 0.5030959752321982\n"
     ]
    },
    {
     "data": {
      "image/png": "[encoded data removed]",
      "text/plain": [
       "<Figure size 432x288 with 2 Axes>"
      ]
     },
     "metadata": {
      "needs_background": "light"
     },
     "output_type": "display_data"
    }
   ],
   "source": [
    "rand_sp = DummyClassifier(strategy='stratified').fit(x_train_sp, y_train_sp)\n",
    "plot_results(rand_sp, x_test_sp, y_test_sp, save=True, name='rand_mf_sp')"
   ]
  },
  {
   "cell_type": "markdown",
   "metadata": {},
   "source": [
    "### Logistic Regression with SBERT\n",
    "#### 1 year rate"
   ]
  },
  {
   "cell_type": "code",
   "execution_count": 94,
   "metadata": {},
   "outputs": [],
   "source": [
    "def calc_threshold_acc(model,x_test,y_test,alpha): \n",
    "    probs = model.predict_proba(x_test)\n",
    "    pred_zero = np.where(probs[:,0]  > alpha)[0]\n",
    "    pred_one = np.where(probs[:,1]  > alpha)[0]\n",
    "    return (sum(y_test[pred_zero] == 0) + sum(y_test[pred_one] == 0)) / (len(pred_zero) + len(pred_one))"
   ]
  },
  {
   "cell_type": "code",
   "execution_count": 23,
   "metadata": {},
   "outputs": [
    {
     "name": "stdout",
     "output_type": "stream",
     "text": [
      "              precision    recall  f1-score   support\n",
      "\n",
      "         0.0       0.67      0.80      0.73       395\n",
      "         1.0       0.54      0.37      0.44       251\n",
      "\n",
      "    accuracy                           0.63       646\n",
      "   macro avg       0.60      0.58      0.58       646\n",
      "weighted avg       0.62      0.63      0.61       646\n",
      "\n",
      "Test accuracy: 0.631578947368421\n"
     ]
    },
    {
     "data": {
      "image/png": "[encoded data removed]",
      "text/plain": [
       "<Figure size 432x288 with 2 Axes>"
      ]
     },
     "metadata": {
      "needs_background": "light"
     },
     "output_type": "display_data"
    }
   ],
   "source": [
    "# Logistic regression\n",
    "logreg_1yr = LogisticRegression(random_state=0,max_iter=10000).fit(x_train_1yr, y_train_1yr)\n",
    "plot_results(logreg_1yr,x_test_1yr, y_test_1yr,save=True,name='logreg_1yr')"
   ]
  },
  {
   "cell_type": "markdown",
   "metadata": {},
   "source": [
    "#### 3 year rate"
   ]
  },
  {
   "cell_type": "code",
   "execution_count": 24,
   "metadata": {},
   "outputs": [
    {
     "name": "stdout",
     "output_type": "stream",
     "text": [
      "              precision    recall  f1-score   support\n",
      "\n",
      "         0.0       0.57      0.64      0.61       348\n",
      "         1.0       0.51      0.44      0.48       298\n",
      "\n",
      "    accuracy                           0.55       646\n",
      "   macro avg       0.54      0.54      0.54       646\n",
      "weighted avg       0.55      0.55      0.55       646\n",
      "\n",
      "Test accuracy: 0.5495356037151703\n"
     ]
    },
    {
     "data": {
      "image/png": "[encoded data removed]",
      "text/plain": [
       "<Figure size 432x288 with 2 Axes>"
      ]
     },
     "metadata": {
      "needs_background": "light"
     },
     "output_type": "display_data"
    }
   ],
   "source": [
    "# Logistic regression\n",
    "logreg_3yr = LogisticRegression(random_state=0,max_iter=10000).fit(x_train_3yr, y_train_3yr)\n",
    "plot_results(logreg_3yr,x_test_3yr, y_test_3yr,save=True,name='logreg_3yr')"
   ]
  },
  {
   "cell_type": "markdown",
   "metadata": {},
   "source": [
    "#### S&P "
   ]
  },
  {
   "cell_type": "code",
   "execution_count": 25,
   "metadata": {},
   "outputs": [
    {
     "name": "stdout",
     "output_type": "stream",
     "text": [
      "              precision    recall  f1-score   support\n",
      "\n",
      "         0.0       0.66      0.72      0.69       356\n",
      "         1.0       0.61      0.54      0.57       290\n",
      "\n",
      "    accuracy                           0.64       646\n",
      "   macro avg       0.64      0.63      0.63       646\n",
      "weighted avg       0.64      0.64      0.64       646\n",
      "\n",
      "Test accuracy: 0.6408668730650154\n"
     ]
    },
    {
     "data": {
      "image/png": "[encoded data removed]",
      "text/plain": [
       "<Figure size 432x288 with 2 Axes>"
      ]
     },
     "metadata": {
      "needs_background": "light"
     },
     "output_type": "display_data"
    }
   ],
   "source": [
    "# Logistic regression\n",
    "logreg_sp = LogisticRegression(random_state=0,max_iter=10000).fit(x_train_sp, y_train_sp)\n",
    "plot_results(logreg_sp,x_test_sp, y_test_sp,save=True,name='logreg_sp')"
   ]
  },
  {
   "cell_type": "markdown",
   "metadata": {},
   "source": [
    "### Support Vector Machine with SBERT\n",
    "#### 1 year rate"
   ]
  },
  {
   "cell_type": "code",
   "execution_count": 26,
   "metadata": {},
   "outputs": [
    {
     "name": "stderr",
     "output_type": "stream",
     "text": [
      "C:\\ProgramData\\Anaconda3\\envs\\nlpenv\\lib\\site-packages\\sklearn\\metrics\\_classification.py:1272: UndefinedMetricWarning: Precision and F-score are ill-defined and being set to 0.0 in labels with no predicted samples. Use `zero_division` parameter to control this behavior.\n",
      "  _warn_prf(average, modifier, msg_start, len(result))\n"
     ]
    },
    {
     "name": "stdout",
     "output_type": "stream",
     "text": [
      "              precision    recall  f1-score   support\n",
      "\n",
      "         0.0       0.61      1.00      0.76       395\n",
      "         1.0       0.00      0.00      0.00       251\n",
      "\n",
      "    accuracy                           0.61       646\n",
      "   macro avg       0.31      0.50      0.38       646\n",
      "weighted avg       0.37      0.61      0.46       646\n",
      "\n",
      "Test accuracy: 0.6114551083591331\n"
     ]
    },
    {
     "data": {
      "image/png": "[encoded data removed]",
      "text/plain": [
       "<Figure size 432x288 with 2 Axes>"
      ]
     },
     "metadata": {
      "needs_background": "light"
     },
     "output_type": "display_data"
    }
   ],
   "source": [
    "svm_clf_1yr = svm.SVC().fit(x_train_1yr, y_train_1yr)\n",
    "plot_results(svm_clf_1yr, x_test_1yr, y_test_1yr,save=True,name='svm_1yr')"
   ]
  },
  {
   "cell_type": "markdown",
   "metadata": {},
   "source": [
    "#### 3 year rate"
   ]
  },
  {
   "cell_type": "code",
   "execution_count": 27,
   "metadata": {},
   "outputs": [
    {
     "name": "stdout",
     "output_type": "stream",
     "text": [
      "              precision    recall  f1-score   support\n",
      "\n",
      "         0.0       0.57      0.81      0.67       348\n",
      "         1.0       0.57      0.30      0.39       298\n",
      "\n",
      "    accuracy                           0.57       646\n",
      "   macro avg       0.57      0.55      0.53       646\n",
      "weighted avg       0.57      0.57      0.54       646\n",
      "\n",
      "Test accuracy: 0.5743034055727554\n"
     ]
    },
    {
     "data": {
      "image/png": "[encoded data removed]",
      "text/plain": [
       "<Figure size 432x288 with 2 Axes>"
      ]
     },
     "metadata": {
      "needs_background": "light"
     },
     "output_type": "display_data"
    }
   ],
   "source": [
    "svm_clf_3yr = svm.SVC().fit(x_train_3yr, y_train_3yr)\n",
    "plot_results(svm_clf_3yr, x_test_3yr, y_test_3yr,save=True,name='svm_3yr')"
   ]
  },
  {
   "cell_type": "markdown",
   "metadata": {},
   "source": [
    "#### S&P "
   ]
  },
  {
   "cell_type": "code",
   "execution_count": 28,
   "metadata": {},
   "outputs": [
    {
     "name": "stdout",
     "output_type": "stream",
     "text": [
      "              precision    recall  f1-score   support\n",
      "\n",
      "         0.0       0.58      0.91      0.71       356\n",
      "         1.0       0.65      0.20      0.31       290\n",
      "\n",
      "    accuracy                           0.59       646\n",
      "   macro avg       0.62      0.56      0.51       646\n",
      "weighted avg       0.61      0.59      0.53       646\n",
      "\n",
      "Test accuracy: 0.5928792569659442\n"
     ]
    },
    {
     "data": {
      "image/png": "[encoded data removed]",
      "text/plain": [
       "<Figure size 432x288 with 2 Axes>"
      ]
     },
     "metadata": {
      "needs_background": "light"
     },
     "output_type": "display_data"
    }
   ],
   "source": [
    "svm_clf_sp = svm.SVC().fit(x_train_sp, y_train_sp)\n",
    "plot_results(svm_clf_sp, x_test_sp, y_test_sp,save=True,name='svm_sp')"
   ]
  },
  {
   "cell_type": "markdown",
   "metadata": {},
   "source": [
    "### Random forest with SBERT\n",
    "#### 1 year rate"
   ]
  },
  {
   "cell_type": "code",
   "execution_count": 29,
   "metadata": {},
   "outputs": [
    {
     "name": "stdout",
     "output_type": "stream",
     "text": [
      "Fitting 10 folds for each of 12 candidates, totalling 120 fits\n"
     ]
    },
    {
     "name": "stderr",
     "output_type": "stream",
     "text": [
      "[Parallel(n_jobs=-1)]: Using backend ThreadingBackend with 8 concurrent workers.\n",
      "[Parallel(n_jobs=-1)]: Done  34 tasks      | elapsed:  1.4min\n",
      "[Parallel(n_jobs=-1)]: Done 120 out of 120 | elapsed:  5.2min finished\n"
     ]
    },
    {
     "name": "stdout",
     "output_type": "stream",
     "text": [
      "Best: 0.578450 using {'max_depth': 50, 'n_estimators': 750}\n",
      "0.564527 (0.032231) with: {'max_depth': None, 'n_estimators': 250}\n",
      "0.576115 (0.047120) with: {'max_depth': None, 'n_estimators': 500}\n",
      "0.573097 (0.041055) with: {'max_depth': None, 'n_estimators': 750}\n",
      "0.567261 (0.046729) with: {'max_depth': None, 'n_estimators': 1000}\n",
      "0.561421 (0.050298) with: {'max_depth': 50, 'n_estimators': 250}\n",
      "0.571075 (0.056060) with: {'max_depth': 50, 'n_estimators': 500}\n",
      "0.578450 (0.027791) with: {'max_depth': 50, 'n_estimators': 750}\n",
      "0.560598 (0.044680) with: {'max_depth': 50, 'n_estimators': 1000}\n",
      "0.572942 (0.040847) with: {'max_depth': 100, 'n_estimators': 250}\n",
      "0.574259 (0.043320) with: {'max_depth': 100, 'n_estimators': 500}\n",
      "0.564585 (0.050521) with: {'max_depth': 100, 'n_estimators': 750}\n",
      "0.577586 (0.040046) with: {'max_depth': 100, 'n_estimators': 1000}\n",
      "              precision    recall  f1-score   support\n",
      "\n",
      "         0.0       0.66      0.85      0.74       395\n",
      "         1.0       0.56      0.29      0.39       251\n",
      "\n",
      "    accuracy                           0.64       646\n",
      "   macro avg       0.61      0.57      0.56       646\n",
      "weighted avg       0.62      0.64      0.60       646\n",
      "\n",
      "Test accuracy: 0.6362229102167183\n"
     ]
    },
    {
     "data": {
      "image/png": "[encoded data removed]",
      "text/plain": [
       "<Figure size 432x288 with 2 Axes>"
      ]
     },
     "metadata": {
      "needs_background": "light"
     },
     "output_type": "display_data"
    }
   ],
   "source": [
    "# Random Forest\n",
    "rf_param_grid = dict(max_depth=[None, 50, 100],\n",
    "                  n_estimators=[250, 500, 750, 1000])\n",
    "rf_grid = GridSearchCV(estimator=RandomForestClassifier(), \n",
    "                       param_grid=rf_param_grid, \n",
    "                       n_jobs=-1, \n",
    "                       cv=10, \n",
    "                       scoring='f1_weighted',\n",
    "                       verbose=1)\n",
    "with parallel_backend('threading'):    # This is a bug work-around mentioned in https://github.com/scikit-learn/scikit-learn/issues/12546\n",
    "    rf_grid_result = rf_grid.fit(x_train_1yr, y_train_1yr)\n",
    "# summarize results\n",
    "print(\"Best: %f using %s\" % (rf_grid_result.best_score_, rf_grid_result.best_params_))\n",
    "rf_means = rf_grid_result.cv_results_['mean_test_score']\n",
    "rf_stds = rf_grid_result.cv_results_['std_test_score']\n",
    "rf_params = rf_grid_result.cv_results_['params']\n",
    "for mean, stdev, param in zip(rf_means, rf_stds, rf_params):\n",
    "    print(\"%f (%f) with: %r\" % (mean, stdev, param))\n",
    "\n",
    "# Fit the model with the best parameters found in the cross validation. \n",
    "randomforest_1yr = RandomForestClassifier(max_depth=rf_grid_result.best_params_['max_depth'],\n",
    "                                      n_estimators=rf_grid_result.best_params_['n_estimators']).fit(x_train_1yr, y_train_1yr)\n",
    "plot_results(randomforest_1yr,x_test_1yr, y_test_1yr,save=True,name='rf_1yr_md{}_est_{}'.format(rf_grid_result.best_params_['max_depth'],\n",
    "                                                                                rf_grid_result.best_params_['n_estimators']))"
   ]
  },
  {
   "cell_type": "markdown",
   "metadata": {},
   "source": [
    "#### 3 year rate"
   ]
  },
  {
   "cell_type": "code",
   "execution_count": 30,
   "metadata": {},
   "outputs": [
    {
     "name": "stdout",
     "output_type": "stream",
     "text": [
      "Fitting 10 folds for each of 12 candidates, totalling 120 fits\n"
     ]
    },
    {
     "name": "stderr",
     "output_type": "stream",
     "text": [
      "[Parallel(n_jobs=-1)]: Using backend ThreadingBackend with 8 concurrent workers.\n",
      "[Parallel(n_jobs=-1)]: Done  34 tasks      | elapsed:  1.7min\n",
      "[Parallel(n_jobs=-1)]: Done 120 out of 120 | elapsed:  6.2min finished\n"
     ]
    },
    {
     "name": "stdout",
     "output_type": "stream",
     "text": [
      "Best: 0.567078 using {'max_depth': None, 'n_estimators': 750}\n",
      "0.550574 (0.038452) with: {'max_depth': None, 'n_estimators': 250}\n",
      "0.560406 (0.034734) with: {'max_depth': None, 'n_estimators': 500}\n",
      "0.567078 (0.043037) with: {'max_depth': None, 'n_estimators': 750}\n",
      "0.562337 (0.043276) with: {'max_depth': None, 'n_estimators': 1000}\n",
      "0.546315 (0.044945) with: {'max_depth': 50, 'n_estimators': 250}\n",
      "0.555761 (0.034803) with: {'max_depth': 50, 'n_estimators': 500}\n",
      "0.563752 (0.040012) with: {'max_depth': 50, 'n_estimators': 750}\n",
      "0.556201 (0.052580) with: {'max_depth': 50, 'n_estimators': 1000}\n",
      "0.548652 (0.049748) with: {'max_depth': 100, 'n_estimators': 250}\n",
      "0.546038 (0.034010) with: {'max_depth': 100, 'n_estimators': 500}\n",
      "0.545281 (0.031902) with: {'max_depth': 100, 'n_estimators': 750}\n",
      "0.558922 (0.041116) with: {'max_depth': 100, 'n_estimators': 1000}\n",
      "              precision    recall  f1-score   support\n",
      "\n",
      "         0.0       0.58      0.70      0.64       348\n",
      "         1.0       0.54      0.40      0.46       298\n",
      "\n",
      "    accuracy                           0.57       646\n",
      "   macro avg       0.56      0.55      0.55       646\n",
      "weighted avg       0.56      0.57      0.55       646\n",
      "\n",
      "Test accuracy: 0.565015479876161\n"
     ]
    },
    {
     "data": {
      "image/png": "[encoded data removed]",
      "text/plain": [
       "<Figure size 432x288 with 2 Axes>"
      ]
     },
     "metadata": {
      "needs_background": "light"
     },
     "output_type": "display_data"
    }
   ],
   "source": [
    "# Random Forest\n",
    "rf_param_grid = dict(max_depth=[None, 50, 100],\n",
    "                  n_estimators=[250, 500, 750, 1000])\n",
    "rf_grid = GridSearchCV(estimator=RandomForestClassifier(), \n",
    "                       param_grid=rf_param_grid, \n",
    "                       n_jobs=-1, \n",
    "                       cv=10, \n",
    "                       scoring='f1_weighted',\n",
    "                       verbose=1)\n",
    "with parallel_backend('threading'):    # This is a bug work-around mentioned in https://github.com/scikit-learn/scikit-learn/issues/12546\n",
    "    rf_grid_result = rf_grid.fit(x_train_3yr, y_train_3yr)\n",
    "# summarize results\n",
    "print(\"Best: %f using %s\" % (rf_grid_result.best_score_, rf_grid_result.best_params_))\n",
    "rf_means = rf_grid_result.cv_results_['mean_test_score']\n",
    "rf_stds = rf_grid_result.cv_results_['std_test_score']\n",
    "rf_params = rf_grid_result.cv_results_['params']\n",
    "for mean, stdev, param in zip(rf_means, rf_stds, rf_params):\n",
    "    print(\"%f (%f) with: %r\" % (mean, stdev, param))\n",
    "\n",
    "# Fit the model with the best parameters found in the cross validation. \n",
    "randomforest_3yr = RandomForestClassifier(max_depth=rf_grid_result.best_params_['max_depth'],\n",
    "                                      n_estimators=rf_grid_result.best_params_['n_estimators']).fit(x_train_3yr, y_train_3yr)\n",
    "plot_results(randomforest_3yr,x_test_3yr, y_test_3yr,save=True,name='rf_3yr_md{}_est_{}'.format(rf_grid_result.best_params_['max_depth'],\n",
    "                                                                                rf_grid_result.best_params_['n_estimators']))"
   ]
  },
  {
   "cell_type": "markdown",
   "metadata": {},
   "source": [
    "#### S&P "
   ]
  },
  {
   "cell_type": "code",
   "execution_count": 31,
   "metadata": {},
   "outputs": [
    {
     "name": "stdout",
     "output_type": "stream",
     "text": [
      "Fitting 10 folds for each of 12 candidates, totalling 120 fits\n"
     ]
    },
    {
     "name": "stderr",
     "output_type": "stream",
     "text": [
      "[Parallel(n_jobs=-1)]: Using backend ThreadingBackend with 8 concurrent workers.\n",
      "[Parallel(n_jobs=-1)]: Done  34 tasks      | elapsed:  1.9min\n",
      "[Parallel(n_jobs=-1)]: Done 120 out of 120 | elapsed:  6.3min finished\n"
     ]
    },
    {
     "name": "stdout",
     "output_type": "stream",
     "text": [
      "Best: 0.580853 using {'max_depth': 100, 'n_estimators': 500}\n",
      "0.557087 (0.059865) with: {'max_depth': None, 'n_estimators': 250}\n",
      "0.568082 (0.073125) with: {'max_depth': None, 'n_estimators': 500}\n",
      "0.574846 (0.064610) with: {'max_depth': None, 'n_estimators': 750}\n",
      "0.580411 (0.072619) with: {'max_depth': None, 'n_estimators': 1000}\n",
      "0.570116 (0.052135) with: {'max_depth': 50, 'n_estimators': 250}\n",
      "0.578627 (0.064401) with: {'max_depth': 50, 'n_estimators': 500}\n",
      "0.579342 (0.048269) with: {'max_depth': 50, 'n_estimators': 750}\n",
      "0.574882 (0.064079) with: {'max_depth': 50, 'n_estimators': 1000}\n",
      "0.562452 (0.051706) with: {'max_depth': 100, 'n_estimators': 250}\n",
      "0.580853 (0.047559) with: {'max_depth': 100, 'n_estimators': 500}\n",
      "0.565335 (0.051551) with: {'max_depth': 100, 'n_estimators': 750}\n",
      "0.579334 (0.054171) with: {'max_depth': 100, 'n_estimators': 1000}\n",
      "              precision    recall  f1-score   support\n",
      "\n",
      "         0.0       0.62      0.76      0.69       356\n",
      "         1.0       0.60      0.43      0.50       290\n",
      "\n",
      "    accuracy                           0.61       646\n",
      "   macro avg       0.61      0.60      0.59       646\n",
      "weighted avg       0.61      0.61      0.60       646\n",
      "\n",
      "Test accuracy: 0.6145510835913313\n"
     ]
    },
    {
     "data": {
      "image/png": "[encoded data removed]",
      "text/plain": [
       "<Figure size 432x288 with 2 Axes>"
      ]
     },
     "metadata": {
      "needs_background": "light"
     },
     "output_type": "display_data"
    }
   ],
   "source": [
    "# Random Forest\n",
    "rf_param_grid = dict(max_depth=[None, 50, 100],\n",
    "                  n_estimators=[250, 500, 750, 1000])\n",
    "rf_grid = GridSearchCV(estimator=RandomForestClassifier(), \n",
    "                       param_grid=rf_param_grid, \n",
    "                       n_jobs=-1, \n",
    "                       cv=10, \n",
    "                       scoring='f1_weighted',\n",
    "                       verbose=1)\n",
    "with parallel_backend('threading'):    # This is a bug work-around mentioned in https://github.com/scikit-learn/scikit-learn/issues/12546\n",
    "    rf_grid_result = rf_grid.fit(x_train_sp, y_train_sp)\n",
    "# summarize results\n",
    "print(\"Best: %f using %s\" % (rf_grid_result.best_score_, rf_grid_result.best_params_))\n",
    "rf_means = rf_grid_result.cv_results_['mean_test_score']\n",
    "rf_stds = rf_grid_result.cv_results_['std_test_score']\n",
    "rf_params = rf_grid_result.cv_results_['params']\n",
    "for mean, stdev, param in zip(rf_means, rf_stds, rf_params):\n",
    "    print(\"%f (%f) with: %r\" % (mean, stdev, param))\n",
    "\n",
    "# Fit the model with the best parameters found in the cross validation. \n",
    "randomforest_sp = RandomForestClassifier(max_depth=rf_grid_result.best_params_['max_depth'],\n",
    "                                      n_estimators=rf_grid_result.best_params_['n_estimators']).fit(x_train_sp, y_train_sp)\n",
    "plot_results(randomforest_sp,x_test_sp, y_test_sp,save=True,name='rf_sp_md{}_est_{}'.format(rf_grid_result.best_params_['max_depth'],\n",
    "                                                                                rf_grid_result.best_params_['n_estimators']))"
   ]
  },
  {
   "cell_type": "markdown",
   "metadata": {},
   "source": [
    "### Neural Network, feed-forward"
   ]
  },
  {
   "cell_type": "code",
   "execution_count": 32,
   "metadata": {},
   "outputs": [],
   "source": [
    "def create_model(nodes1=100, nodes2=50, dropout_rate=0.3, optimizer='rmsprop', learning_rate=0.001):\n",
    "    if optimizer.lower() == 'rmsprop': \n",
    "        optimizer = RMSprop(learning_rate = learning_rate)\n",
    "    elif optimizer.lower() == 'adam':\n",
    "        optimizer = Adam(learning_rate = learning_rate)\n",
    "    model = Sequential() \n",
    "    if nodes1 == 0: \n",
    "        model.add(Dense(1, input_shape=x_train_1yr.shape[1:], activation='sigmoid'))\n",
    "        model.compile(optimizer=optimizer, loss='binary_crossentropy', metrics=['acc'])\n",
    "        return model \n",
    "    model.add(Dense(nodes1, input_shape=x_train_1yr.shape[1:]))\n",
    "    model.add(Dropout(dropout_rate))\n",
    "    if nodes2 == 0: \n",
    "        model.add(Dense(1, activation='sigmoid'))\n",
    "        model.compile(optimizer=optimizer, loss='binary_crossentropy', metrics=['acc'])\n",
    "        return model\n",
    "    model.add(Dense(nodes2))\n",
    "    model.add(Dropout(dropout_rate))\n",
    "    model.add(Dense(1, activation='sigmoid'))\n",
    "    model.compile(optimizer=optimizer, loss='binary_crossentropy', metrics=['acc'])\n",
    "    return model \n",
    "\n",
    "def randomize_params(params, n):\n",
    "    test_params = []\n",
    "    for i in range(n):\n",
    "        temp_par = {}\n",
    "        while True: \n",
    "            for par in params: \n",
    "                temp_par.update({par: np.random.choice(params[par])})\n",
    "            if temp_par not in test_params: \n",
    "                test_params.append(temp_par)\n",
    "                break\n",
    "    return test_params"
   ]
  },
  {
   "cell_type": "code",
   "execution_count": 33,
   "metadata": {},
   "outputs": [],
   "source": [
    "n_tests = 50\n",
    "# Define possible parameters \n",
    "possible_params = dict(batch_size = [8, 16, 32],\n",
    "                       nodes1 = [50, 100, 250, 500],\n",
    "                       nodes2 = [0, 50, 100, 250, 500], # 0 implies only one hidden layer \n",
    "                       dropout_rate = [0.1, 0.3, 0.5],\n",
    "                       learning_rate = [1e-3, 1e-4, 1e-5],\n",
    "                       optimizer = ['RMSprop','Adam'])\n",
    "test_params = randomize_params(possible_params, n_tests)"
   ]
  },
  {
   "cell_type": "markdown",
   "metadata": {},
   "source": [
    "#### 1 year rate"
   ]
  },
  {
   "cell_type": "code",
   "execution_count": 34,
   "metadata": {
    "scrolled": true
   },
   "outputs": [
    {
     "name": "stderr",
     "output_type": "stream",
     "text": [
      "\r",
      "  0%|                                                                                           | 0/50 [00:00<?, ?it/s]"
     ]
    },
    {
     "name": "stdout",
     "output_type": "stream",
     "text": [
      "WARNING:tensorflow:From C:\\ProgramData\\Anaconda3\\envs\\nlpenv\\lib\\site-packages\\tensorflow_core\\python\\ops\\resource_variable_ops.py:1630: calling BaseResourceVariable.__init__ (from tensorflow.python.ops.resource_variable_ops) with constraint is deprecated and will be removed in a future version.\n",
      "Instructions for updating:\n",
      "If using Keras pass *_constraint arguments to layers.\n"
     ]
    },
    {
     "name": "stderr",
     "output_type": "stream",
     "text": [
      "WARNING:tensorflow:From C:\\ProgramData\\Anaconda3\\envs\\nlpenv\\lib\\site-packages\\tensorflow_core\\python\\ops\\resource_variable_ops.py:1630: calling BaseResourceVariable.__init__ (from tensorflow.python.ops.resource_variable_ops) with constraint is deprecated and will be removed in a future version.\n",
      "Instructions for updating:\n",
      "If using Keras pass *_constraint arguments to layers.\n"
     ]
    },
    {
     "name": "stdout",
     "output_type": "stream",
     "text": [
      "WARNING:tensorflow:From C:\\ProgramData\\Anaconda3\\envs\\nlpenv\\lib\\site-packages\\tensorflow_core\\python\\ops\\nn_impl.py:183: where (from tensorflow.python.ops.array_ops) is deprecated and will be removed in a future version.\n",
      "Instructions for updating:\n",
      "Use tf.where in 2.0, which has the same broadcast rule as np.where\n"
     ]
    },
    {
     "name": "stderr",
     "output_type": "stream",
     "text": [
      "WARNING:tensorflow:From C:\\ProgramData\\Anaconda3\\envs\\nlpenv\\lib\\site-packages\\tensorflow_core\\python\\ops\\nn_impl.py:183: where (from tensorflow.python.ops.array_ops) is deprecated and will be removed in a future version.\n",
      "Instructions for updating:\n",
      "Use tf.where in 2.0, which has the same broadcast rule as np.where\n",
      "100%|██████████████████████████████████████████████████████████████████████████████████| 50/50 [02:14<00:00,  2.69s/it]"
     ]
    },
    {
     "name": "stdout",
     "output_type": "stream",
     "text": [
      "Best val acc: 0.6791667\n",
      "For config:  {'nodes1': 50, 'nodes2': 500, 'dropout_rate': 0.1, 'learning_rate': 0.0001, 'optimizer': 'Adam', 'batch_size': 8}\n"
     ]
    },
    {
     "name": "stderr",
     "output_type": "stream",
     "text": [
      "\n"
     ]
    }
   ],
   "source": [
    "historylist_1yr = []\n",
    "for i,params in enumerate(tqdm(test_params)): \n",
    "    bs = params.pop('batch_size')\n",
    "    model = create_model(**params)\n",
    "    params.update({'batch_size': bs})\n",
    "    history = model.fit(x_train_1yr, y_train_1yr,\n",
    "                        epochs=10000,\n",
    "                        batch_size=params['batch_size'],\n",
    "                        verbose=0,\n",
    "                        callbacks=[EarlyStopping(monitor='val_acc', patience=2, restore_best_weights=True)],\n",
    "                        validation_split=0.2)\n",
    "    historylist_1yr.append(history)\n",
    "max_acc_1yr = -1\n",
    "max_idx_1yr = -1\n",
    "for i,hist in enumerate(historylist_1yr):\n",
    "    if max(hist.history['val_acc']) > max_acc_1yr: \n",
    "        max_acc_1yr = max(hist.history['val_acc'])\n",
    "        max_idx_1yr = i\n",
    "    \n",
    "print(\"Best val acc:\",max_acc_1yr)\n",
    "print(\"For config: \",test_params[max_idx_1yr])\n"
   ]
  },
  {
   "cell_type": "code",
   "execution_count": 35,
   "metadata": {},
   "outputs": [
    {
     "name": "stdout",
     "output_type": "stream",
     "text": [
      "Train on 960 samples, validate on 240 samples\n",
      "Epoch 1/100000\n",
      "960/960 [==============================] - 1s 2ms/sample - loss: 0.6794 - acc: 0.5844 - val_loss: 0.6457 - val_acc: 0.6542\n",
      "Epoch 2/100000\n",
      "960/960 [==============================] - 0s 309us/sample - loss: 0.6730 - acc: 0.6052 - val_loss: 0.6540 - val_acc: 0.6417\n",
      "Epoch 3/100000\n",
      "960/960 [==============================] - 0s 336us/sample - loss: 0.6618 - acc: 0.6031 - val_loss: 0.6509 - val_acc: 0.6708\n",
      "Epoch 4/100000\n",
      "960/960 [==============================] - 0s 313us/sample - loss: 0.6506 - acc: 0.6073 - val_loss: 0.6459 - val_acc: 0.6542\n",
      "Epoch 5/100000\n",
      "960/960 [==============================] - 0s 330us/sample - loss: 0.6546 - acc: 0.6146 - val_loss: 0.6629 - val_acc: 0.6042\n",
      "Epoch 6/100000\n",
      "960/960 [==============================] - 0s 330us/sample - loss: 0.6516 - acc: 0.6271 - val_loss: 0.6415 - val_acc: 0.6750\n",
      "Epoch 7/100000\n",
      "960/960 [==============================] - 0s 338us/sample - loss: 0.6425 - acc: 0.6229 - val_loss: 0.6648 - val_acc: 0.5958\n",
      "Epoch 8/100000\n",
      "960/960 [==============================] - 0s 321us/sample - loss: 0.6407 - acc: 0.6396 - val_loss: 0.6437 - val_acc: 0.6458\n",
      "Epoch 9/100000\n",
      "960/960 [==============================] - 0s 330us/sample - loss: 0.6432 - acc: 0.6385 - val_loss: 0.6446 - val_acc: 0.6333\n",
      "Epoch 10/100000\n",
      "960/960 [==============================] - 0s 330us/sample - loss: 0.6358 - acc: 0.6385 - val_loss: 0.6441 - val_acc: 0.6375\n",
      "Epoch 11/100000\n",
      "960/960 [==============================] - 0s 320us/sample - loss: 0.6362 - acc: 0.6490 - val_loss: 0.6892 - val_acc: 0.5667\n",
      "Epoch 12/100000\n",
      "960/960 [==============================] - 0s 313us/sample - loss: 0.6304 - acc: 0.6542 - val_loss: 0.6381 - val_acc: 0.6708\n",
      "Epoch 13/100000\n",
      "960/960 [==============================] - 0s 330us/sample - loss: 0.6299 - acc: 0.6469 - val_loss: 0.6627 - val_acc: 0.6167\n",
      "Epoch 14/100000\n",
      "960/960 [==============================] - 0s 313us/sample - loss: 0.6335 - acc: 0.6385 - val_loss: 0.6388 - val_acc: 0.6625\n",
      "Epoch 15/100000\n",
      "960/960 [==============================] - 0s 330us/sample - loss: 0.6315 - acc: 0.6438 - val_loss: 0.6428 - val_acc: 0.6417\n",
      "Epoch 16/100000\n",
      "960/960 [==============================] - 1s 968us/sample - loss: 0.6274 - acc: 0.6562 - val_loss: 0.6564 - val_acc: 0.6208\n"
     ]
    },
    {
     "data": {
      "image/png": "[encoded data removed]",
      "text/plain": [
       "<Figure size 432x288 with 2 Axes>"
      ]
     },
     "metadata": {
      "needs_background": "light"
     },
     "output_type": "display_data"
    },
    {
     "data": {
      "image/png": "[encoded data removed]",
      "text/plain": [
       "<Figure size 432x288 with 2 Axes>"
      ]
     },
     "metadata": {
      "needs_background": "light"
     },
     "output_type": "display_data"
    },
    {
     "data": {
      "image/png": "[encoded data removed]",
      "text/plain": [
       "<Figure size 432x288 with 2 Axes>"
      ]
     },
     "metadata": {
      "needs_background": "light"
     },
     "output_type": "display_data"
    },
    {
     "name": "stdout",
     "output_type": "stream",
     "text": [
      "              precision    recall  f1-score   support\n",
      "\n",
      "         0.0       0.65      0.91      0.75       395\n",
      "         1.0       0.59      0.22      0.32       251\n",
      "\n",
      "    accuracy                           0.64       646\n",
      "   macro avg       0.62      0.56      0.53       646\n",
      "weighted avg       0.62      0.64      0.58       646\n",
      "\n",
      "Test accuracy: 0.638\n"
     ]
    }
   ],
   "source": [
    "bs = test_params[max_idx_1yr].pop('batch_size')\n",
    "model_ff_1yr = create_model(**test_params[max_idx_1yr])\n",
    "test_params[max_idx_1yr].update({'batch_size': bs})\n",
    "\n",
    "history_1yr = model_ff_1yr.fit(x_train_1yr, y_train_1yr,\n",
    "                               epochs=100000,\n",
    "                               batch_size = bs,\n",
    "                               verbose=1,\n",
    "                               callbacks = [EarlyStopping(monitor='val_acc', patience=10, restore_best_weights=True)],\n",
    "                               validation_split=0.2)\n",
    "savename_1yr = \"nn_bs{}_n1{}_n2{}_dr{}_lr{}_opt{}\".format(test_params[max_idx_1yr]['batch_size'],\n",
    "                                                          test_params[max_idx_1yr]['nodes1'],\n",
    "                                                          test_params[max_idx_1yr]['nodes2'],\n",
    "                                                          test_params[max_idx_1yr]['dropout_rate'],\n",
    "                                                          test_params[max_idx_1yr]['learning_rate'],\n",
    "                                                          test_params[max_idx_1yr]['optimizer'])\n",
    "plot_results_nn(history_1yr,model_ff_1yr,x_test_1yr, y_test_1yr,save=True, name=savename_1yr)"
   ]
  },
  {
   "cell_type": "markdown",
   "metadata": {},
   "source": [
    "#### 3 year rate"
   ]
  },
  {
   "cell_type": "code",
   "execution_count": 36,
   "metadata": {},
   "outputs": [
    {
     "name": "stderr",
     "output_type": "stream",
     "text": [
      "100%|██████████████████████████████████████████████████████████████████████████████████| 50/50 [05:42<00:00,  6.84s/it]"
     ]
    },
    {
     "name": "stdout",
     "output_type": "stream",
     "text": [
      "Best val acc: 0.6666667\n",
      "For config:  {'nodes1': 50, 'nodes2': 0, 'dropout_rate': 0.5, 'learning_rate': 0.001, 'optimizer': 'RMSprop', 'batch_size': 16}\n"
     ]
    },
    {
     "name": "stderr",
     "output_type": "stream",
     "text": [
      "\n"
     ]
    }
   ],
   "source": [
    "historylist_3yr = []\n",
    "for i,params in enumerate(tqdm(test_params)): \n",
    "    bs = params.pop('batch_size')\n",
    "    model = create_model(**params)\n",
    "    params.update({'batch_size': bs})\n",
    "    history = model.fit(x_train_3yr, y_train_3yr,\n",
    "                        epochs=10000,\n",
    "                        batch_size=params['batch_size'],\n",
    "                        verbose=0,\n",
    "                        callbacks=[EarlyStopping(monitor='val_acc', patience=2, restore_best_weights=True)],\n",
    "                        validation_split=0.2)\n",
    "    historylist_3yr.append(history)\n",
    "max_acc_3yr = -1\n",
    "max_idx_3yr = -1\n",
    "for i,hist in enumerate(historylist_3yr):\n",
    "    if max(hist.history['val_acc']) > max_acc_3yr: \n",
    "        max_acc_3yr = max(hist.history['val_acc'])\n",
    "        max_idx_3yr = i\n",
    "    \n",
    "print(\"Best val acc:\",max_acc_3yr)\n",
    "print(\"For config: \",test_params[max_idx_3yr])"
   ]
  },
  {
   "cell_type": "code",
   "execution_count": 37,
   "metadata": {},
   "outputs": [
    {
     "name": "stdout",
     "output_type": "stream",
     "text": [
      "Train on 960 samples, validate on 240 samples\n",
      "Epoch 1/100000\n",
      "960/960 [==============================] - 3s 3ms/sample - loss: 0.8834 - acc: 0.5177 - val_loss: 0.7092 - val_acc: 0.6125\n",
      "Epoch 2/100000\n",
      "960/960 [==============================] - 0s 332us/sample - loss: 0.8082 - acc: 0.5188 - val_loss: 0.9122 - val_acc: 0.3917\n",
      "Epoch 3/100000\n",
      "960/960 [==============================] - 0s 307us/sample - loss: 0.7736 - acc: 0.5281 - val_loss: 0.6584 - val_acc: 0.6250\n",
      "Epoch 4/100000\n",
      "960/960 [==============================] - 0s 290us/sample - loss: 0.7697 - acc: 0.5406 - val_loss: 0.6535 - val_acc: 0.6417\n",
      "Epoch 5/100000\n",
      "960/960 [==============================] - 0s 313us/sample - loss: 0.7778 - acc: 0.5188 - val_loss: 0.6668 - val_acc: 0.6000\n",
      "Epoch 6/100000\n",
      "960/960 [==============================] - 0s 313us/sample - loss: 0.7545 - acc: 0.5365 - val_loss: 0.6756 - val_acc: 0.5792\n",
      "Epoch 7/100000\n",
      "960/960 [==============================] - 0s 319us/sample - loss: 0.7278 - acc: 0.5552 - val_loss: 0.6573 - val_acc: 0.6333\n",
      "Epoch 8/100000\n",
      "960/960 [==============================] - 0s 305us/sample - loss: 0.7232 - acc: 0.5729 - val_loss: 0.8130 - val_acc: 0.4125\n",
      "Epoch 9/100000\n",
      "960/960 [==============================] - 0s 313us/sample - loss: 0.7005 - acc: 0.5594 - val_loss: 0.6909 - val_acc: 0.5250\n",
      "Epoch 10/100000\n",
      "960/960 [==============================] - 0s 313us/sample - loss: 0.7216 - acc: 0.5417 - val_loss: 0.7047 - val_acc: 0.5125\n",
      "Epoch 11/100000\n",
      "960/960 [==============================] - 0s 313us/sample - loss: 0.6935 - acc: 0.5729 - val_loss: 0.6695 - val_acc: 0.6125\n",
      "Epoch 12/100000\n",
      "960/960 [==============================] - 0s 298us/sample - loss: 0.7246 - acc: 0.5323 - val_loss: 0.6786 - val_acc: 0.5458\n",
      "Epoch 13/100000\n",
      "960/960 [==============================] - 0s 296us/sample - loss: 0.6967 - acc: 0.5479 - val_loss: 0.6674 - val_acc: 0.5875\n",
      "Epoch 14/100000\n",
      "960/960 [==============================] - 2s 2ms/sample - loss: 0.6863 - acc: 0.5875 - val_loss: 0.7101 - val_acc: 0.5125\n"
     ]
    },
    {
     "data": {
      "image/png": "[encoded data removed]",
      "text/plain": [
       "<Figure size 432x288 with 2 Axes>"
      ]
     },
     "metadata": {
      "needs_background": "light"
     },
     "output_type": "display_data"
    },
    {
     "data": {
      "image/png": "[encoded data removed]",
      "text/plain": [
       "<Figure size 432x288 with 2 Axes>"
      ]
     },
     "metadata": {
      "needs_background": "light"
     },
     "output_type": "display_data"
    },
    {
     "data": {
      "image/png": "[encoded data removed]",
      "text/plain": [
       "<Figure size 432x288 with 2 Axes>"
      ]
     },
     "metadata": {
      "needs_background": "light"
     },
     "output_type": "display_data"
    },
    {
     "name": "stdout",
     "output_type": "stream",
     "text": [
      "              precision    recall  f1-score   support\n",
      "\n",
      "         0.0       0.55      0.91      0.69       348\n",
      "         1.0       0.57      0.14      0.23       298\n",
      "\n",
      "    accuracy                           0.55       646\n",
      "   macro avg       0.56      0.52      0.46       646\n",
      "weighted avg       0.56      0.55      0.47       646\n",
      "\n",
      "Test accuracy: 0.554\n"
     ]
    }
   ],
   "source": [
    "bs = test_params[max_idx_3yr].pop('batch_size')\n",
    "model_ff_3yr = create_model(**test_params[max_idx_3yr])\n",
    "test_params[max_idx_3yr].update({'batch_size': bs})\n",
    "\n",
    "history_3yr = model_ff_3yr.fit(x_train_3yr, y_train_3yr,\n",
    "                               epochs=100000,\n",
    "                               batch_size = bs,\n",
    "                               verbose=1,\n",
    "                               callbacks = [EarlyStopping(monitor='val_acc', patience=10, restore_best_weights=True)],\n",
    "                               validation_split=0.2)\n",
    "savename_3yr = \"nn_bs{}_n1{}_n2{}_dr{}_lr{}_opt{}\".format(test_params[max_idx_3yr]['batch_size'],\n",
    "                                                          test_params[max_idx_3yr]['nodes1'],\n",
    "                                                          test_params[max_idx_3yr]['nodes2'],\n",
    "                                                          test_params[max_idx_3yr]['dropout_rate'],\n",
    "                                                          test_params[max_idx_3yr]['learning_rate'],\n",
    "                                                          test_params[max_idx_3yr]['optimizer'])\n",
    "plot_results_nn(history_3yr,model_ff_3yr,x_test_3yr, y_test_3yr,save=True, name=savename_3yr)\n"
   ]
  },
  {
   "cell_type": "markdown",
   "metadata": {},
   "source": [
    "#### S&P"
   ]
  },
  {
   "cell_type": "code",
   "execution_count": 38,
   "metadata": {},
   "outputs": [
    {
     "name": "stderr",
     "output_type": "stream",
     "text": [
      "100%|██████████████████████████████████████████████████████████████████████████████████| 50/50 [09:54<00:00, 11.89s/it]"
     ]
    },
    {
     "name": "stdout",
     "output_type": "stream",
     "text": [
      "Best val acc: 0.60833335\n",
      "For config:  {'nodes1': 250, 'nodes2': 500, 'dropout_rate': 0.1, 'learning_rate': 1e-05, 'optimizer': 'RMSprop', 'batch_size': 8}\n"
     ]
    },
    {
     "name": "stderr",
     "output_type": "stream",
     "text": [
      "\n"
     ]
    }
   ],
   "source": [
    "historylist_sp = []\n",
    "for i,params in enumerate(tqdm(test_params)): \n",
    "    bs = params.pop('batch_size')\n",
    "    model = create_model(**params)\n",
    "    params.update({'batch_size': bs})\n",
    "    history = model.fit(x_train_sp, y_train_sp,\n",
    "                        epochs=10000,\n",
    "                        batch_size=params['batch_size'],\n",
    "                        verbose=0,\n",
    "                        callbacks=[EarlyStopping(monitor='val_acc', patience=2, restore_best_weights=True)],\n",
    "                        validation_split=0.2)\n",
    "    historylist_sp.append(history)\n",
    "max_acc_sp = -1\n",
    "max_idx_sp = -1\n",
    "for i,hist in enumerate(historylist_sp):\n",
    "    if max(hist.history['val_acc']) > max_acc_sp: \n",
    "        max_acc_sp = max(hist.history['val_acc'])\n",
    "        max_idx_sp = i\n",
    "    \n",
    "print(\"Best val acc:\",max_acc_sp)\n",
    "print(\"For config: \",test_params[max_idx_sp])"
   ]
  },
  {
   "cell_type": "code",
   "execution_count": 39,
   "metadata": {},
   "outputs": [
    {
     "name": "stdout",
     "output_type": "stream",
     "text": [
      "Train on 960 samples, validate on 240 samples\n",
      "Epoch 1/100000\n",
      "960/960 [==============================] - 6s 6ms/sample - loss: 0.7068 - acc: 0.5042 - val_loss: 0.6902 - val_acc: 0.5667\n",
      "Epoch 2/100000\n",
      "960/960 [==============================] - 1s 1ms/sample - loss: 0.7093 - acc: 0.5094 - val_loss: 0.6835 - val_acc: 0.5667\n",
      "Epoch 3/100000\n",
      "960/960 [==============================] - 1s 2ms/sample - loss: 0.7008 - acc: 0.5208 - val_loss: 0.6817 - val_acc: 0.5708\n",
      "Epoch 4/100000\n",
      "960/960 [==============================] - 1s 2ms/sample - loss: 0.6964 - acc: 0.5292 - val_loss: 0.6791 - val_acc: 0.5667\n",
      "Epoch 5/100000\n",
      "960/960 [==============================] - 1s 2ms/sample - loss: 0.6902 - acc: 0.5417 - val_loss: 0.6831 - val_acc: 0.5583\n",
      "Epoch 6/100000\n",
      "960/960 [==============================] - 1s 1ms/sample - loss: 0.6834 - acc: 0.5615 - val_loss: 0.6770 - val_acc: 0.5667\n",
      "Epoch 7/100000\n",
      "960/960 [==============================] - 1s 2ms/sample - loss: 0.6871 - acc: 0.5552 - val_loss: 0.6753 - val_acc: 0.5792\n",
      "Epoch 8/100000\n",
      "960/960 [==============================] - 1s 2ms/sample - loss: 0.6768 - acc: 0.5708 - val_loss: 0.6792 - val_acc: 0.5708\n",
      "Epoch 9/100000\n",
      "960/960 [==============================] - 1s 2ms/sample - loss: 0.6720 - acc: 0.5906 - val_loss: 0.6741 - val_acc: 0.5833\n",
      "Epoch 10/100000\n",
      "960/960 [==============================] - 1s 1ms/sample - loss: 0.6766 - acc: 0.5667 - val_loss: 0.6733 - val_acc: 0.5750\n",
      "Epoch 11/100000\n",
      "960/960 [==============================] - 1s 2ms/sample - loss: 0.6738 - acc: 0.5781 - val_loss: 0.6728 - val_acc: 0.5792\n",
      "Epoch 12/100000\n",
      "960/960 [==============================] - 1s 2ms/sample - loss: 0.6716 - acc: 0.5927 - val_loss: 0.6724 - val_acc: 0.5792\n",
      "Epoch 13/100000\n",
      "960/960 [==============================] - 1s 2ms/sample - loss: 0.6695 - acc: 0.5771 - val_loss: 0.6728 - val_acc: 0.5667\n",
      "Epoch 14/100000\n",
      "960/960 [==============================] - 1s 1ms/sample - loss: 0.6724 - acc: 0.5750 - val_loss: 0.6725 - val_acc: 0.5792\n",
      "Epoch 15/100000\n",
      "960/960 [==============================] - 1s 2ms/sample - loss: 0.6684 - acc: 0.5750 - val_loss: 0.6767 - val_acc: 0.5667\n",
      "Epoch 16/100000\n",
      "960/960 [==============================] - 1s 1ms/sample - loss: 0.6746 - acc: 0.5740 - val_loss: 0.6723 - val_acc: 0.5667\n",
      "Epoch 17/100000\n",
      "960/960 [==============================] - 1s 1ms/sample - loss: 0.6582 - acc: 0.6083 - val_loss: 0.6784 - val_acc: 0.5583\n",
      "Epoch 18/100000\n",
      "960/960 [==============================] - 1s 1ms/sample - loss: 0.6636 - acc: 0.5885 - val_loss: 0.6724 - val_acc: 0.5750\n",
      "Epoch 19/100000\n",
      "960/960 [==============================] - 4s 4ms/sample - loss: 0.6621 - acc: 0.5927 - val_loss: 0.6726 - val_acc: 0.5750\n"
     ]
    },
    {
     "data": {
      "image/png": "[encoded data removed]",
      "text/plain": [
       "<Figure size 432x288 with 2 Axes>"
      ]
     },
     "metadata": {
      "needs_background": "light"
     },
     "output_type": "display_data"
    },
    {
     "data": {
      "image/png": "[encoded data removed]",
      "text/plain": [
       "<Figure size 432x288 with 2 Axes>"
      ]
     },
     "metadata": {
      "needs_background": "light"
     },
     "output_type": "display_data"
    },
    {
     "data": {
      "image/png": "[encoded data removed]",
      "text/plain": [
       "<Figure size 432x288 with 2 Axes>"
      ]
     },
     "metadata": {
      "needs_background": "light"
     },
     "output_type": "display_data"
    },
    {
     "name": "stdout",
     "output_type": "stream",
     "text": [
      "              precision    recall  f1-score   support\n",
      "\n",
      "         0.0       0.57      0.94      0.71       356\n",
      "         1.0       0.64      0.12      0.20       290\n",
      "\n",
      "    accuracy                           0.57       646\n",
      "   macro avg       0.60      0.53      0.46       646\n",
      "weighted avg       0.60      0.57      0.48       646\n",
      "\n",
      "Test accuracy: 0.574\n"
     ]
    }
   ],
   "source": [
    "bs = test_params[max_idx_sp].pop('batch_size')\n",
    "model_ff_sp = create_model(**test_params[max_idx_sp])\n",
    "test_params[max_idx_sp].update({'batch_size': bs})\n",
    "\n",
    "history_sp = model_ff_sp.fit(x_train_sp, y_train_sp,\n",
    "                               epochs=100000,\n",
    "                               batch_size = bs,\n",
    "                               verbose=1,\n",
    "                               callbacks = [EarlyStopping(monitor='val_acc', patience=10, restore_best_weights=True)],\n",
    "                               validation_split=0.2)\n",
    "savename_sp = \"nn_bs{}_n1{}_n2{}_dr{}_lr{}_opt{}\".format(test_params[max_idx_sp]['batch_size'],\n",
    "                                                          test_params[max_idx_sp]['nodes1'],\n",
    "                                                          test_params[max_idx_sp]['nodes2'],\n",
    "                                                          test_params[max_idx_sp]['dropout_rate'],\n",
    "                                                          test_params[max_idx_sp]['learning_rate'],\n",
    "                                                          test_params[max_idx_sp]['optimizer'])\n",
    "plot_results_nn(history_sp,model_ff_sp,x_test_sp, y_test_sp,save=True, name=savename_sp)\n"
   ]
  },
  {
   "cell_type": "markdown",
   "metadata": {},
   "source": [
    "## Results\n",
    "\n",
    "The following results were achieved on the independent test set on the IMDB dataset. The reviews were encoded into 768-dimensional vectors using Sentence-BERT on each sentence in the reviews, and then reduced to one vector per review by taking the elementwise average over each dimension. \n",
    "\n",
    "| Model |  Test Accuracy (%)  | Hyperparameters |\n",
    "| :----- | --------------- | --- | \n",
    "| Random Classifier | 50.6 | N/A |\n",
    "| Logistic Regression | __90.7__  | N/A |\n",
    "| Linear Discriminant Analysis | 90.3  | N/A |\n",
    "| Support Vector Machine | 90.0 | N/A |\n",
    "| Random Forest | 87.1  | n_estimators=5000, max_depth=None |\n",
    "| XGBoost | 88.9 | n_estimators=500 |\n",
    "| Multi Layer Perceptron | 89.8 | batch_size=16,depth=3,dropout_rate=0.2,nodes=250 |\n",
    "\n",
    "Logistic Regression currently performs best. The hyperparameter tuning of the neural network-approaches is however not ideal, and would need more time/computational power to optimize further. It should however not be a too large improvement. Looking at the validation accuracy achieved from different configurations of hyperparameters on the neural network, it rarely reaches above 89 %. \n",
    "\n",
    "For comparison, the table below displays state-of-the-art models for the IMDB classification task. \n",
    "\n",
    "| Model |\tAccuracy (%) |\tPaper / Source|\n",
    "|:----- | ---------- | -------------- |  \n",
    "| XLNet (Yang et al., 2019) |\t__96.21__ |\tXLNet: Generalized Autoregressive Pretraining for Language Understanding|\n",
    "| BERT_large+ITPT (Sun et al., 2019) \t|95.79 |\tHow to Fine-Tune BERT for Text Classification?|\n",
    "| BERT_base+ITPT (Sun et al., 2019) |\t95.63 |\tHow to Fine-Tune BERT for Text Classification?|\n",
    "| ULMFiT (Howard and Ruder, 2018) |\t95.4 |\tUniversal Language Model Fine-tuning for Text Classification|\n",
    "| Block-sparse LSTM (Gray et al., 2017) |\t94.99 |\tGPU Kernels for Block-Sparse Weights|\n",
    "| oh-LSTM (Johnson and Zhang, 2016)| \t94.1| \tSupervised and Semi-Supervised Text Categorization using LSTM for Region Embeddings |\n",
    "| Virtual adversarial training (Miyato et al., 2016) |\t94.1 \t|Adversarial Training Methods for Semi-Supervised Text Classification |\n",
    "| BCN+Char+CoVe (McCann et al., 2017) |\t91.8 |\tLearned in Translation: Contextualized Word Vectors |\n"
   ]
  },
  {
   "cell_type": "code",
   "execution_count": null,
   "metadata": {},
   "outputs": [],
   "source": []
  },
  {
   "cell_type": "code",
   "execution_count": null,
   "metadata": {},
   "outputs": [],
   "source": []
  },
  {
   "cell_type": "code",
   "execution_count": null,
   "metadata": {},
   "outputs": [],
   "source": []
  }
 ],
 "metadata": {
  "kernelspec": {
   "display_name": "Python 3",
   "language": "python",
   "name": "python3"
  },
  "language_info": {
   "codemirror_mode": {
    "name": "ipython",
    "version": 3
   },
   "file_extension": ".py",
   "mimetype": "text/x-python",
   "name": "python",
   "nbconvert_exporter": "python",
   "pygments_lexer": "ipython3",
   "version": "3.6.10"
  }
 },
 "nbformat": 4,
 "nbformat_minor": 4
}
