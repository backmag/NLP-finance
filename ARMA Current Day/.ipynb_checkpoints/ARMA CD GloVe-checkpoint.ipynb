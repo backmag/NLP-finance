{
 "cells": [
  {
   "cell_type": "markdown",
   "metadata": {},
   "source": [
    "### Financial Index Prediction\n",
    "This notebook seeks to predict the direction of a financial index from day k-1 to day k given financial news headlines from day k. A range of different combinations between statistical and NLP-models are used. "
   ]
  },
  {
   "cell_type": "code",
   "execution_count": 4,
   "metadata": {},
   "outputs": [],
   "source": [
    "import os\n",
    "import pandas as pd\n",
    "import numpy as np\n",
    "import seaborn as sn\n",
    "import matplotlib.pyplot as plt\n",
    "from sklearn.utils import parallel_backend\n",
    "from pathlib import Path\n",
    "from sklearn.feature_extraction.text import TfidfTransformer, CountVectorizer\n",
    "from sklearn.metrics import classification_report, confusion_matrix, f1_score, plot_confusion_matrix\n",
    "from sklearn.linear_model import LogisticRegression\n",
    "from sklearn.discriminant_analysis import LinearDiscriminantAnalysis\n",
    "from sklearn.ensemble import RandomForestClassifier\n",
    "from sklearn.model_selection import GridSearchCV\n",
    "from sklearn import svm\n",
    "from sklearn.dummy import DummyClassifier\n",
    "import tensorflow as tf\n",
    "from tensorflow.keras import backend as K\n",
    "from tensorflow.keras.models import Sequential\n",
    "from tensorflow.keras.layers import Dense, Dropout, Flatten, LSTM, Embedding, Lambda, LSTM, Bidirectional\n",
    "from tensorflow.keras.optimizers import RMSprop, Adam\n",
    "from tensorflow.keras.callbacks import EarlyStopping, ModelCheckpoint\n",
    "from tensorflow.keras.wrappers.scikit_learn import KerasClassifier\n",
    "from tensorflow.keras.preprocessing.text import Tokenizer\n",
    "from tensorflow.keras.preprocessing.sequence import pad_sequences\n",
    "from nltk import word_tokenize\n",
    "from tqdm import tqdm, trange"
   ]
  },
  {
   "cell_type": "markdown",
   "metadata": {},
   "source": [
    "#### Load financial news data and financial index data"
   ]
  },
  {
   "cell_type": "code",
   "execution_count": 5,
   "metadata": {},
   "outputs": [],
   "source": [
    "ONEDRIVE_PATH = Path(r\"C:\\Users\\gusta\\Kidbrooke Advisory Ab\\KidbrookeOneDrive - Gustaf Backman exjobb\")\n",
    "\n",
    "# Read the financial data \n",
    "fin_path = ONEDRIVE_PATH / \"Input Data/stock_data.pkl\"\n",
    "fin_data = pd.read_pickle(fin_path)\n",
    "# Read from 2006-10-20 for next day preds or from 2006-10-19 for current day preds\n",
    "fin_data = fin_data.loc['2006-10-20' : '2013-11-22']\n",
    "\n",
    "news_path = ONEDRIVE_PATH / \"Input Data/financial_headlines_20061020-20131119.pkl\"\n",
    "news_data = pd.DataFrame(pd.read_pickle(news_path))\n",
    "news_data.set_index('date',inplace=True)"
   ]
  },
  {
   "cell_type": "code",
   "execution_count": 6,
   "metadata": {},
   "outputs": [],
   "source": [
    "news_dates = news_data.index.drop_duplicates()\n",
    "fin_dates = fin_data.index.drop_duplicates\n",
    "\n",
    "# Find the dates which are present in both the financial data and news data\n",
    "valid_dates = []\n",
    "for date in news_dates: \n",
    "    if date in fin_data.index: \n",
    "        valid_dates.append(date)\n",
    "        \n",
    "# Create targets for all 3 time series \n",
    "targets = pd.DataFrame(dtype='int8')\n",
    "prev_vals = fin_data.iloc[0]\n",
    "for date in valid_dates: \n",
    "    y_temp = []\n",
    "    # If the value has increased since yesterday, y = 1\n",
    "    if prev_vals['1 YEAR'] < fin_data.loc[date]['1 YEAR']: \n",
    "        y_temp.append(1)\n",
    "    else:\n",
    "        y_temp.append(0)\n",
    "        \n",
    "    if prev_vals['3 YEAR'] < fin_data.loc[date]['3 YEAR']: \n",
    "        y_temp.append(1)\n",
    "    else:\n",
    "        y_temp.append(0)\n",
    "        \n",
    "    if prev_vals['S&P'] < fin_data.loc[date]['S&P']: \n",
    "        y_temp.append(1)\n",
    "    else:\n",
    "        y_temp.append(0)\n",
    "    targets = targets.append({'1 YEAR':y_temp[0], '3 YEAR':y_temp[1], 'S&P':y_temp[2]}, ignore_index=True)\n",
    "    prev_vals = fin_data.loc[date]"
   ]
  },
  {
   "cell_type": "code",
   "execution_count": 7,
   "metadata": {},
   "outputs": [],
   "source": [
    "def format_word(word): \n",
    "    \"\"\" A method for formatting words to be more similar to those in the \n",
    "    pre-trained glove embeddings. For example, won't -> will not, removing 's etc. \n",
    "    \"\"\"\n",
    "    if word == \"n't\":\n",
    "        return \"not\"\n",
    "    if word == \"'s\": \n",
    "        return \"\"\n",
    "    if word == \"wo\":\n",
    "        return \"will\"\n",
    "    if len(word) > 1 and word[0] == \"'\":\n",
    "        return word[1:]\n",
    "    return word"
   ]
  },
  {
   "cell_type": "code",
   "execution_count": null,
   "metadata": {
    "scrolled": true
   },
   "outputs": [
    {
     "name": "stderr",
     "output_type": "stream",
     "text": [
      " 42%|████████████████████████████████▍                                             | 769/1846 [00:07<00:09, 110.57it/s]"
     ]
    }
   ],
   "source": [
    "# Concatenate the news for each day in the valid indices, i.e. the indices that are present in both \n",
    "# the financial data and the news data \n",
    "texts = []\n",
    "for date in tqdm(valid_dates): \n",
    "    temp_texts = \"\"\n",
    "    for i,text in enumerate(news_data.loc[date]['title']): \n",
    "        words = word_tokenize(text.lower())\n",
    "        for j,word in enumerate(words): \n",
    "            if j < len(words) - 1:\n",
    "                temp_texts += format_word(word) + \" \"\n",
    "            else:\n",
    "                temp_texts += format_word(word) + \". \"\n",
    "    texts.append(temp_texts)\n",
    "texts = np.asarray(texts)\n",
    "print(\"Length of texts:\",len(texts))\n",
    "print(\"Length of targets:\",len(targets))"
   ]
  },
  {
   "cell_type": "code",
   "execution_count": null,
   "metadata": {},
   "outputs": [],
   "source": [
    "arma_path = Path(os.getcwd()).parent / \"arma_labels.npy\"\n",
    "arma_labels = np.load(arma_path)\n",
    "# Replace the targets \n",
    "for i in range(len(targets)): \n",
    "    targets.iloc[i]['1 YEAR'] = arma_labels[i,0]\n",
    "    targets.iloc[i]['3 YEAR'] = arma_labels[i,1]\n",
    "    targets.iloc[i]['S&P'] = arma_labels[i,2]\n",
    "    \n",
    "# Drop first line of texts and last line of targets to shift \n",
    "texts = texts[1:]\n",
    "targets = targets.drop(1845)"
   ]
  },
  {
   "cell_type": "markdown",
   "metadata": {},
   "source": [
    "#### Vectorize the news titles using GloVe\n",
    "The headlines are tokenized, and a vector of length 300 is constructed by the elementwise average of the GloVe-embeddings for one review. This is used as input to the models where the embeddings are not jointly trained with the model. For the bidirectional LSTM however, the news titles are tokenized and fed into an embedding layer where the initial embeddings are given by the pre-trained GloVe embeddings. "
   ]
  },
  {
   "cell_type": "code",
   "execution_count": null,
   "metadata": {},
   "outputs": [],
   "source": [
    "# Tokenize the text data \n",
    "tokenizer = Tokenizer()\n",
    "tokenizer.fit_on_texts(texts)"
   ]
  },
  {
   "cell_type": "code",
   "execution_count": null,
   "metadata": {},
   "outputs": [],
   "source": [
    "embedding_matrix = np.zeros((len(tokenizer.word_index) + 1, 300)) # Need one extra row since '0' is not an index\n",
    "glove_path = ONEDRIVE_PATH / \"Embeddings\\GloVe\\glove.42B.300d\\glove.42B.300d.txt\"\n",
    "found_words = []\n",
    "f = open(glove_path,'r', encoding='UTF-8')\n",
    "for line in f:\n",
    "    splitLine = line.split()\n",
    "    word = splitLine[0]\n",
    "    if word in tokenizer.word_index.keys():\n",
    "        found_words.append(word)\n",
    "        embedding_matrix[tokenizer.word_index[word]] = np.array([float(val) for val in splitLine[1:]])\n",
    "print(\"Done.\",len(found_words),\"words loaded,\",len(tokenizer.word_index) - len(found_words),\"not found.\")"
   ]
  },
  {
   "cell_type": "code",
   "execution_count": null,
   "metadata": {
    "scrolled": false
   },
   "outputs": [],
   "source": [
    "x = np.zeros((len(texts), 300))\n",
    "title_lengths = np.zeros(len(texts))  # Record the length of every concatenated title to determine suitable maxlength for sequential data. \n",
    "for i,title in enumerate(tqdm(texts)):\n",
    "    tokenized_title = tokenizer.texts_to_sequences(word_tokenize(title))\n",
    "    temp_array = np.zeros((300))\n",
    "    n_words = 0\n",
    "    title_lengths[i] = len(tokenized_title)\n",
    "    for word in tokenized_title:     \n",
    "        if len(word) == 1:\n",
    "            temp_array += embedding_matrix[word[0]]\n",
    "            n_words += 1\n",
    "    x[i] = temp_array / n_words"
   ]
  },
  {
   "cell_type": "markdown",
   "metadata": {},
   "source": [
    "#### Vectorize sequences using GloVe\n",
    "We'll also try a recurrent approach with sequences as input. Instead of taking the average of the GloVe-embedding in one review, a sequence of word indices is fed into an embedding layer where the embeddings are initialized as pretrained GloVe-embeddings. However, using all of the words in the vocabulary gives a too slow model so we have to re-tokenize with a restricted vocabulary size. We'll also restrict the maximum word length from one review to cover the majority of the training samples without being too inefficient. "
   ]
  },
  {
   "cell_type": "code",
   "execution_count": null,
   "metadata": {},
   "outputs": [],
   "source": [
    "plt.hist(title_lengths,50)\n",
    "plt.xlabel('Number of words')\n",
    "plt.ylabel('Frequency')\n",
    "plt.show() "
   ]
  },
  {
   "cell_type": "markdown",
   "metadata": {},
   "source": [
    "A maximum sentence length of 800 seems reasonable to cover the majority. Furthermore, we restrict the size of the vocabulary to make the task computationally feasible. "
   ]
  },
  {
   "cell_type": "code",
   "execution_count": null,
   "metadata": {},
   "outputs": [],
   "source": [
    "# Tokenize the text data \n",
    "maxlen = 800\n",
    "# Restrict size of the vocabulary\n",
    "vocab_size = 15000\n",
    "restricted_tokenizer = Tokenizer(num_words=vocab_size,lower=True)\n",
    "restricted_tokenizer.fit_on_texts(texts)\n",
    "x_restr = restricted_tokenizer.texts_to_sequences(texts)\n",
    "# Pad the data with zeroes so all samples are of equal length\n",
    "x_padded = pad_sequences(x_restr,maxlen=maxlen)\n",
    "\n",
    "# Create a new embedding matrix for the restricted vocabulary ('embedding_matrix' includes the full vocabulary)\n",
    "trainable_embeddings = np.zeros((vocab_size + 1, 300))    \n",
    "for i,word in enumerate(list(restricted_tokenizer.word_index.keys())[:vocab_size]):\n",
    "    trainable_embeddings[i] = embedding_matrix[tokenizer.word_index[word]]\n"
   ]
  },
  {
   "cell_type": "markdown",
   "metadata": {},
   "source": [
    "#### Partition into training and test set\n",
    "The data is partitioned to a training and a test set, where the distribution of labels are respected."
   ]
  },
  {
   "cell_type": "code",
   "execution_count": null,
   "metadata": {},
   "outputs": [],
   "source": [
    "zero_indices_1yr = np.where(targets['1 YEAR'] == 0)[0]\n",
    "one_indices_1yr = np.where(targets['1 YEAR'] == 1)[0]\n",
    "\n",
    "zero_indices_3yr = np.where(targets['3 YEAR'] == 0)[0]\n",
    "one_indices_3yr = np.where(targets['3 YEAR'] == 1)[0]\n",
    "\n",
    "zero_indices_sp = np.where(targets['S&P'] == 0)[0]\n",
    "one_indices_sp = np.where(targets['S&P'] == 1)[0]\n",
    "\n",
    "print(\" ----- 1 YEAR RATE -----\")\n",
    "print(\"Ratio neg labels 1 year rate:\",len(zero_indices_1yr) / len(targets))\n",
    "print(\"Neg labels:\", len(zero_indices_1yr), \"Pos labels:\",len(one_indices_1yr))\n",
    "print(\" ----- 3 YEAR RATE -----\")\n",
    "print(\"Ratio neg labels 3 year rate:\",len(zero_indices_3yr) / len(targets))\n",
    "print(\"Neg labels:\", len(zero_indices_3yr), \"Pos labels:\",len(one_indices_3yr))\n",
    "print(\" -----     S&P     -----\")\n",
    "print(\"Ratio neg labels S&P:\",len(zero_indices_sp) / len(targets))\n",
    "print(\"Neg labels:\", len(zero_indices_sp), \"Pos labels:\",len(one_indices_sp))"
   ]
  },
  {
   "cell_type": "code",
   "execution_count": null,
   "metadata": {
    "scrolled": true
   },
   "outputs": [],
   "source": [
    "n_train = 1200\n",
    "n = len(targets)\n",
    "\n",
    "np.random.shuffle(zero_indices_1yr)\n",
    "np.random.shuffle(one_indices_1yr)\n",
    "part_zeros_1yr = len(zero_indices_1yr) / n\n",
    "train_indices_1yr = np.zeros((n_train),dtype=int)\n",
    "train_indices_1yr[:round(part_zeros_1yr * n_train)] = zero_indices_1yr[:round(part_zeros_1yr * n_train)]\n",
    "train_indices_1yr[round(part_zeros_1yr * n_train):] = one_indices_1yr[:round((1 - part_zeros_1yr) * n_train)]\n",
    "np.random.shuffle(train_indices_1yr)\n",
    "# All indices not in train is in test. \n",
    "test_indices_1yr = np.setdiff1d(np.arange(len(targets)), train_indices_1yr)\n",
    "np.random.shuffle(test_indices_1yr)\n",
    "\n",
    "np.random.shuffle(zero_indices_3yr)\n",
    "np.random.shuffle(one_indices_3yr)\n",
    "part_zeros_3yr = len(zero_indices_3yr) / n\n",
    "train_indices_3yr = np.zeros((n_train),dtype=int)\n",
    "train_indices_3yr[:round(part_zeros_3yr * n_train)] = zero_indices_3yr[:round(part_zeros_3yr * n_train)]\n",
    "train_indices_3yr[round(part_zeros_3yr * n_train):] = one_indices_3yr[:round((1 - part_zeros_3yr) * n_train)]\n",
    "np.random.shuffle(train_indices_3yr)\n",
    "# All indices not in train is in test. \n",
    "test_indices_3yr = np.setdiff1d(np.arange(len(targets)), train_indices_3yr)\n",
    "np.random.shuffle(test_indices_3yr)\n",
    "\n",
    "np.random.shuffle(zero_indices_sp)\n",
    "np.random.shuffle(one_indices_sp)\n",
    "part_zeros_sp = len(zero_indices_sp) / n\n",
    "train_indices_sp = np.zeros((n_train),dtype=int)\n",
    "train_indices_sp[:round(part_zeros_sp * n_train)] = zero_indices_sp[:round(part_zeros_sp * n_train)]\n",
    "train_indices_sp[round(part_zeros_sp * n_train):] = one_indices_sp[:round((1 - part_zeros_sp) * n_train)]\n",
    "np.random.shuffle(train_indices_sp)\n",
    "# All indices not in train is in test. \n",
    "test_indices_sp = np.setdiff1d(np.arange(len(targets)), train_indices_sp)\n",
    "np.random.shuffle(test_indices_sp)\n",
    "\n",
    "x_train_1yr = x[train_indices_1yr]\n",
    "x_test_1yr = x[test_indices_1yr]\n",
    "y_train_1yr = targets.iloc[train_indices_1yr]['1 YEAR'].values\n",
    "y_test_1yr = targets.iloc[test_indices_1yr]['1 YEAR'].values\n",
    "\n",
    "x_train_3yr = x[train_indices_3yr]\n",
    "x_test_3yr = x[test_indices_3yr]\n",
    "y_train_3yr = targets.iloc[train_indices_3yr]['3 YEAR'].values\n",
    "y_test_3yr = targets.iloc[test_indices_3yr]['3 YEAR'].values\n",
    "\n",
    "x_train_sp = x[train_indices_sp]\n",
    "x_test_sp = x[test_indices_sp]\n",
    "y_train_sp = targets.iloc[train_indices_sp]['S&P'].values\n",
    "y_test_sp = targets.iloc[test_indices_sp]['S&P'].values\n",
    "\n",
    "x_train_seq_1yr = x_padded[train_indices_1yr]\n",
    "x_test_seq_1yr = x_padded[test_indices_1yr]\n",
    "\n",
    "x_train_seq_3yr = x_padded[train_indices_3yr]\n",
    "x_test_seq_3yr = x_padded[test_indices_3yr]\n",
    "\n",
    "x_train_seq_sp = x_padded[train_indices_sp]\n",
    "x_test_seq_sp = x_padded[test_indices_sp]\n",
    "\n",
    "# Sanity check of shapes \n",
    "\n",
    "print(\" ----- 1 YEAR RATE -----\")\n",
    "print(\"Train data shape (x,y):\",x_train_1yr.shape,\",\", y_train_1yr.shape)\n",
    "print(\"Train data label ratio (0 / 1):\",np.sum(y_train_1yr == 0),\"/\", np.sum(y_train_1yr == 1))\n",
    "print(\"Test data shape (x,y):\",x_test_1yr.shape,\",\", y_test_1yr.shape)\n",
    "print(\"Test data label ratio (0 / 1):\",np.sum(y_test_1yr == 0),\"/\", np.sum(y_test_1yr == 1))\n",
    "\n",
    "print(\" ----- 3 YEAR RATE -----\")\n",
    "print(\"Train data shape (x,y):\",x_train_3yr.shape,\",\", y_train_3yr.shape)\n",
    "print(\"Train data label ratio (0 / 1):\",np.sum(y_train_3yr == 0),\"/\", np.sum(y_train_3yr == 1))\n",
    "print(\"Test data shape (x,y):\",x_test_3yr.shape,\",\", y_test_3yr.shape)\n",
    "print(\"Test data label ratio (0 / 1):\",np.sum(y_test_3yr == 0),\"/\", np.sum(y_test_3yr == 1))\n",
    "print(\" -----     S&P     -----\")\n",
    "print(\"Train data shape (x,y):\",x_train_sp.shape,\",\", y_train_sp.shape)\n",
    "print(\"Train data label ratio (0 / 1):\",np.sum(y_train_sp == 0),\"/\", np.sum(y_train_sp == 1))\n",
    "print(\"Test data shape (x,y):\",x_test_sp.shape,\",\", y_test_sp.shape)\n",
    "print(\"Test data label ratio (0 / 1):\",np.sum(y_test_sp == 0),\"/\", np.sum(y_test_sp == 1))"
   ]
  },
  {
   "cell_type": "markdown",
   "metadata": {},
   "source": [
    "## Models \n",
    "The data has been pre-processed and the models can be evaluated. All of the models are fitted with the three data series. "
   ]
  },
  {
   "cell_type": "code",
   "execution_count": null,
   "metadata": {},
   "outputs": [],
   "source": [
    "# Some help functions for plotting the results \n",
    "\n",
    "def plot_results(model,x_test, y_test,save=False, name=''):\n",
    "    y_test_preds = model.predict(x_test)\n",
    "    print(classification_report(y_test, y_test_preds))\n",
    "    print(\"Test accuracy:\",model.score(x_test, y_test))\n",
    "    plot_confusion_matrix(model,x_test,y_test)\n",
    "    if save:\n",
    "        plt.savefig(\"Figs GloVe/\" + name + \"confmat.jpg\")\n",
    "    plt.show()\n",
    "    \n",
    "def plot_results_nn(history, model,x_test, y_test,save=False, name=''):\n",
    "    plt.subplot(121)\n",
    "    plt.plot(history.history['loss'],label='Loss')\n",
    "    plt.plot(history.history['val_loss'],label='Val loss')\n",
    "    plt.legend()\n",
    "    plt.subplot(122)\n",
    "    plt.plot(history.history['acc'],label='Acc')\n",
    "    plt.plot(history.history['val_acc'],label='Val acc')\n",
    "    plt.legend()\n",
    "    if save: \n",
    "        plt.savefig(\"Figs GloVe/\" + name + \"history.jpg\")\n",
    "    plt.show() \n",
    "    y_test_pred = np.round(model.predict(x_test))\n",
    "    plt.subplot(121)\n",
    "    plt.bar([0,1],[np.sum(y_test == 0), np.sum(y_test == 1)], label='Actual test dist')\n",
    "    plt.legend()\n",
    "    plt.xticks([0, 1])\n",
    "    plt.subplot(122)\n",
    "    plt.bar([0,1],[np.sum(y_test_pred == 0), np.sum(y_test_pred == 1)], label='Pred test dist')\n",
    "    plt.legend()\n",
    "    plt.xticks([0, 1])\n",
    "    plt.show()\n",
    "    conf_mat = confusion_matrix(y_test,y_test_pred,normalize='pred')\n",
    "    ax = sn.heatmap(conf_mat,)\n",
    "    ax.set_ylabel(\"True values\")\n",
    "    ax.set_xlabel(\"Predicted values\")\n",
    "    if save: \n",
    "        plt.savefig(\"Figs GloVe/\" + name + \"confmat.jpg\")\n",
    "    plt.show()\n",
    "    print(classification_report(y_test, y_test_pred))\n",
    "    print(\"Test accuracy:\",round(np.sum(y_test == y_test_pred[:,0]) / len(y_test),3))"
   ]
  },
  {
   "cell_type": "markdown",
   "metadata": {},
   "source": [
    "### Logistic Regression with GloVe\n",
    "#### 1 year rate"
   ]
  },
  {
   "cell_type": "code",
   "execution_count": null,
   "metadata": {},
   "outputs": [],
   "source": [
    "# Logistic regression\n",
    "logreg_1yr = LogisticRegression(random_state=0).fit(x_train_1yr, y_train_1yr)\n",
    "plot_results(logreg_1yr,x_test_1yr, y_test_1yr,save=True,name='logreg_1yr')"
   ]
  },
  {
   "cell_type": "markdown",
   "metadata": {},
   "source": [
    "#### 3 year rate"
   ]
  },
  {
   "cell_type": "code",
   "execution_count": null,
   "metadata": {},
   "outputs": [],
   "source": [
    "# Logistic regression\n",
    "logreg_3yr = LogisticRegression(random_state=0).fit(x_train_3yr, y_train_3yr)\n",
    "plot_results(logreg_3yr,x_test_3yr, y_test_3yr,save=True,name='logreg_3yr')"
   ]
  },
  {
   "cell_type": "markdown",
   "metadata": {},
   "source": [
    "#### S&P"
   ]
  },
  {
   "cell_type": "code",
   "execution_count": null,
   "metadata": {},
   "outputs": [],
   "source": [
    "# Logistic regression\n",
    "logreg_sp = LogisticRegression(random_state=0).fit(x_train_sp, y_train_sp)\n",
    "plot_results(logreg_sp,x_test_sp, y_test_sp,save=True,name='logreg_sp')"
   ]
  },
  {
   "cell_type": "markdown",
   "metadata": {},
   "source": [
    "### Support Vector Machine with GloVe\n",
    "#### 1 year rate"
   ]
  },
  {
   "cell_type": "code",
   "execution_count": null,
   "metadata": {
    "scrolled": false
   },
   "outputs": [],
   "source": [
    "svm_clf_1yr = svm.SVC().fit(x_train_1yr, y_train_1yr)\n",
    "plot_results(svm_clf_1yr, x_test_1yr, y_test_1yr,save=True,name='svm_1yr')"
   ]
  },
  {
   "cell_type": "markdown",
   "metadata": {},
   "source": [
    "#### 3 year rate"
   ]
  },
  {
   "cell_type": "code",
   "execution_count": null,
   "metadata": {},
   "outputs": [],
   "source": [
    "svm_clf_3yr = svm.SVC().fit(x_train_3yr, y_train_3yr)\n",
    "plot_results(svm_clf_3yr, x_test_3yr, y_test_3yr,save=True,name='svm_3yr')"
   ]
  },
  {
   "cell_type": "markdown",
   "metadata": {},
   "source": [
    "#### S&P"
   ]
  },
  {
   "cell_type": "code",
   "execution_count": null,
   "metadata": {},
   "outputs": [],
   "source": [
    "svm_clf_sp = svm.SVC().fit(x_train_sp, y_train_sp)\n",
    "plot_results(svm_clf_sp, x_test_sp, y_test_sp,save=True,name='svm_sp')"
   ]
  },
  {
   "cell_type": "markdown",
   "metadata": {},
   "source": [
    "### Random forest with GloVe\n",
    "#### 1 year rate"
   ]
  },
  {
   "cell_type": "code",
   "execution_count": null,
   "metadata": {},
   "outputs": [],
   "source": [
    "# Random Forest\n",
    "rf_param_grid = dict(max_depth=[None, 50, 100],\n",
    "                  n_estimators=[250, 500, 750, 1000])\n",
    "rf_grid = GridSearchCV(estimator=RandomForestClassifier(), \n",
    "                       param_grid=rf_param_grid, \n",
    "                       n_jobs=-1, \n",
    "                       cv=10, \n",
    "                       scoring='f1_weighted',\n",
    "                       verbose=1)\n",
    "with parallel_backend('threading'):    # This is a bug work-around mentioned in https://github.com/scikit-learn/scikit-learn/issues/12546\n",
    "    rf_grid_result = rf_grid.fit(x_train_1yr, y_train_1yr)\n",
    "# summarize results\n",
    "print(\"Best: %f using %s\" % (rf_grid_result.best_score_, rf_grid_result.best_params_))\n",
    "rf_means = rf_grid_result.cv_results_['mean_test_score']\n",
    "rf_stds = rf_grid_result.cv_results_['std_test_score']\n",
    "rf_params = rf_grid_result.cv_results_['params']\n",
    "for mean, stdev, param in zip(rf_means, rf_stds, rf_params):\n",
    "    print(\"%f (%f) with: %r\" % (mean, stdev, param))\n",
    "\n",
    "# Fit the model with the best parameters found in the cross validation. \n",
    "randomforest_1yr = RandomForestClassifier(max_depth=rf_grid_result.best_params_['max_depth'],\n",
    "                                      n_estimators=rf_grid_result.best_params_['n_estimators']).fit(x_train_1yr, y_train_1yr)\n",
    "plot_results(randomforest_1yr,x_test_1yr, y_test_1yr,save=True,name='rf_1yr_md{}_est_{}'.format(rf_grid_result.best_params_['max_depth'],\n",
    "                                                                                rf_grid_result.best_params_['n_estimators']))"
   ]
  },
  {
   "cell_type": "markdown",
   "metadata": {},
   "source": [
    "#### 3 year rate"
   ]
  },
  {
   "cell_type": "code",
   "execution_count": null,
   "metadata": {},
   "outputs": [],
   "source": [
    "# Random Forest\n",
    "rf_param_grid = dict(max_depth=[None, 50, 100],\n",
    "                  n_estimators=[250, 500, 750, 1000])\n",
    "rf_grid = GridSearchCV(estimator=RandomForestClassifier(), \n",
    "                       param_grid=rf_param_grid, \n",
    "                       n_jobs=-1, \n",
    "                       cv=10, \n",
    "                       scoring='accuracy',\n",
    "                       verbose=1)\n",
    "with parallel_backend('threading'):    # This is a bug work-around mentioned in https://github.com/scikit-learn/scikit-learn/issues/12546\n",
    "    rf_grid_result = rf_grid.fit(x_train_3yr, y_train_3yr)\n",
    "# summarize results\n",
    "print(\"Best: %f using %s\" % (rf_grid_result.best_score_, rf_grid_result.best_params_))\n",
    "rf_means = rf_grid_result.cv_results_['mean_test_score']\n",
    "rf_stds = rf_grid_result.cv_results_['std_test_score']\n",
    "rf_params = rf_grid_result.cv_results_['params']\n",
    "for mean, stdev, param in zip(rf_means, rf_stds, rf_params):\n",
    "    print(\"%f (%f) with: %r\" % (mean, stdev, param))\n",
    "\n",
    "# Fit the model with the best parameters found in the cross validation. \n",
    "randomforest_3yr = RandomForestClassifier(max_depth=rf_grid_result.best_params_['max_depth'],\n",
    "                                      n_estimators=rf_grid_result.best_params_['n_estimators']).fit(x_train_3yr, y_train_3yr)\n",
    "plot_results(randomforest_3yr,x_test_3yr, y_test_3yr,save=True,name='rf_3yr_md{}_est_{}'.format(rf_grid_result.best_params_['max_depth'],\n",
    "                                                                                rf_grid_result.best_params_['n_estimators']))"
   ]
  },
  {
   "cell_type": "markdown",
   "metadata": {},
   "source": [
    "#### S&P"
   ]
  },
  {
   "cell_type": "code",
   "execution_count": null,
   "metadata": {},
   "outputs": [],
   "source": [
    "# Random Forest\n",
    "rf_param_grid = dict(max_depth=[None, 50, 100],\n",
    "                  n_estimators=[250, 500, 750, 1000])\n",
    "rf_grid = GridSearchCV(estimator=RandomForestClassifier(), \n",
    "                       param_grid=rf_param_grid, \n",
    "                       n_jobs=-1, \n",
    "                       cv=10, \n",
    "                       scoring='accuracy',\n",
    "                       verbose=1)\n",
    "with parallel_backend('threading'):    # This is a bug work-around mentioned in https://github.com/scikit-learn/scikit-learn/issues/12546\n",
    "    rf_grid_result = rf_grid.fit(x_train_sp, y_train_sp)\n",
    "# summarize results\n",
    "print(\"Best: %f using %s\" % (rf_grid_result.best_score_, rf_grid_result.best_params_))\n",
    "rf_means = rf_grid_result.cv_results_['mean_test_score']\n",
    "rf_stds = rf_grid_result.cv_results_['std_test_score']\n",
    "rf_params = rf_grid_result.cv_results_['params']\n",
    "for mean, stdev, param in zip(rf_means, rf_stds, rf_params):\n",
    "    print(\"%f (%f) with: %r\" % (mean, stdev, param))\n",
    "\n",
    "# Fit the model with the best parameters found in the cross validation. \n",
    "randomforest_sp = RandomForestClassifier(max_depth=rf_grid_result.best_params_['max_depth'],\n",
    "                                      n_estimators=rf_grid_result.best_params_['n_estimators']).fit(x_train_sp, y_train_sp)\n",
    "plot_results(randomforest_sp,x_test_sp, y_test_sp,save=True,name='rf_sp_md{}_est_{}'.format(rf_grid_result.best_params_['max_depth'],\n",
    "                                                                                rf_grid_result.best_params_['n_estimators']))"
   ]
  },
  {
   "cell_type": "markdown",
   "metadata": {},
   "source": [
    "### Neural Networks"
   ]
  },
  {
   "cell_type": "code",
   "execution_count": null,
   "metadata": {},
   "outputs": [],
   "source": [
    "def create_model(nodes1=100, nodes2=50, dropout_rate=0.3, optimizer='rmsprop', learning_rate=0.001):\n",
    "    if optimizer.lower() == 'rmsprop': \n",
    "        optimizer = RMSprop(learning_rate = learning_rate)\n",
    "    elif optimizer.lower() == 'adam':\n",
    "        optimizer = Adam(learning_rate = learning_rate)\n",
    "    model = Sequential() \n",
    "    if nodes1 == 0: \n",
    "        model.add(Dense(1, input_shape=x_train_1yr.shape[1:], activation='sigmoid'))\n",
    "        model.compile(optimizer=optimizer, loss='binary_crossentropy', metrics=['acc'])\n",
    "        return model \n",
    "    model.add(Dense(nodes1, input_shape=x_train_1yr.shape[1:]))\n",
    "    model.add(Dropout(dropout_rate))\n",
    "    if nodes2 == 0: \n",
    "        model.add(Dense(1, activation='sigmoid'))\n",
    "        model.compile(optimizer=optimizer, loss='binary_crossentropy', metrics=['acc'])\n",
    "        return model\n",
    "    model.add(Dense(nodes2))\n",
    "    model.add(Dropout(dropout_rate))\n",
    "    model.add(Dense(1, activation='sigmoid'))\n",
    "    model.compile(optimizer=optimizer, loss='binary_crossentropy', metrics=['acc'])\n",
    "    return model \n",
    "\n",
    "def randomize_params(params, n):\n",
    "    test_params = []\n",
    "    for i in range(n):\n",
    "        temp_par = {}\n",
    "        while True: \n",
    "            for par in params: \n",
    "                temp_par.update({par: np.random.choice(params[par])})\n",
    "            if temp_par not in test_params: \n",
    "                test_params.append(temp_par)\n",
    "                break\n",
    "    return test_params"
   ]
  },
  {
   "cell_type": "markdown",
   "metadata": {},
   "source": [
    "### Feed forward, pre-trained embeddings\n",
    "#### 1 year rate "
   ]
  },
  {
   "cell_type": "code",
   "execution_count": null,
   "metadata": {},
   "outputs": [],
   "source": [
    "n_tests = 50\n",
    "# Define possible parameters \n",
    "possible_params = dict(batch_size = [8, 16, 32],\n",
    "                       nodes1 = [50, 100, 250, 500],\n",
    "                       nodes2 = [0, 50, 100, 250, 500], # 0 implies only one hidden layer \n",
    "                       dropout_rate = [0.1, 0.3, 0.5],\n",
    "                       learning_rate = [1e-3, 1e-4, 1e-5],\n",
    "                       optimizer = ['RMSprop','Adam'])\n",
    "test_params = randomize_params(possible_params, n_tests)"
   ]
  },
  {
   "cell_type": "code",
   "execution_count": 31,
   "metadata": {
    "scrolled": true
   },
   "outputs": [
    {
     "name": "stderr",
     "output_type": "stream",
     "text": [
      "\r",
      "  0%|                                                                                           | 0/50 [00:00<?, ?it/s]"
     ]
    },
    {
     "name": "stdout",
     "output_type": "stream",
     "text": [
      "WARNING:tensorflow:From C:\\ProgramData\\Anaconda3\\envs\\nlpenv\\lib\\site-packages\\tensorflow_core\\python\\ops\\resource_variable_ops.py:1630: calling BaseResourceVariable.__init__ (from tensorflow.python.ops.resource_variable_ops) with constraint is deprecated and will be removed in a future version.\n",
      "Instructions for updating:\n",
      "If using Keras pass *_constraint arguments to layers.\n",
      "WARNING:tensorflow:From C:\\ProgramData\\Anaconda3\\envs\\nlpenv\\lib\\site-packages\\tensorflow_core\\python\\ops\\nn_impl.py:183: where (from tensorflow.python.ops.array_ops) is deprecated and will be removed in a future version.\n",
      "Instructions for updating:\n",
      "Use tf.where in 2.0, which has the same broadcast rule as np.where\n"
     ]
    },
    {
     "name": "stderr",
     "output_type": "stream",
     "text": [
      "100%|██████████████████████████████████████████████████████████████████████████████████| 50/50 [02:11<00:00,  2.63s/it]"
     ]
    },
    {
     "name": "stdout",
     "output_type": "stream",
     "text": [
      "Best val acc: 0.6458333\n",
      "For config:  {'nodes1': 250, 'nodes2': 100, 'dropout_rate': 0.1, 'learning_rate': 0.001, 'optimizer': 'RMSprop', 'batch_size': 32}\n"
     ]
    },
    {
     "name": "stderr",
     "output_type": "stream",
     "text": [
      "\n"
     ]
    }
   ],
   "source": [
    "historylist_1yr = []\n",
    "for i,params in enumerate(tqdm(test_params)): \n",
    "    bs = params.pop('batch_size')\n",
    "    model = create_model(**params)\n",
    "    params.update({'batch_size': bs})\n",
    "    history = model.fit(x_train_1yr, y_train_1yr,\n",
    "                        epochs=10000,\n",
    "                        batch_size=params['batch_size'],\n",
    "                        verbose=0,\n",
    "                        callbacks=[EarlyStopping(monitor='val_acc', patience=2, restore_best_weights=True)],\n",
    "                        validation_split=0.2)\n",
    "    historylist_1yr.append(history)\n",
    "max_acc_1yr = -1\n",
    "max_idx_1yr = -1\n",
    "for i,hist in enumerate(historylist_1yr):\n",
    "    if max(hist.history['val_acc']) > max_acc_1yr: \n",
    "        max_acc_1yr = max(hist.history['val_acc'])\n",
    "        max_idx_1yr = i\n",
    "    \n",
    "print(\"Best val acc:\",max_acc_1yr)\n",
    "print(\"For config: \",test_params[max_idx_1yr])\n"
   ]
  },
  {
   "cell_type": "code",
   "execution_count": 32,
   "metadata": {},
   "outputs": [
    {
     "name": "stdout",
     "output_type": "stream",
     "text": [
      "Train on 960 samples, validate on 240 samples\n",
      "Epoch 1/100000\n",
      "960/960 [==============================] - 1s 1ms/sample - loss: 0.7045 - acc: 0.5740 - val_loss: 0.6864 - val_acc: 0.5375\n",
      "Epoch 2/100000\n",
      "960/960 [==============================] - 0s 139us/sample - loss: 0.6711 - acc: 0.6010 - val_loss: 0.7144 - val_acc: 0.5625\n",
      "Epoch 3/100000\n",
      "960/960 [==============================] - 0s 122us/sample - loss: 0.6587 - acc: 0.6240 - val_loss: 0.6598 - val_acc: 0.6250\n",
      "Epoch 4/100000\n",
      "960/960 [==============================] - 0s 103us/sample - loss: 0.6534 - acc: 0.6250 - val_loss: 0.6728 - val_acc: 0.5667\n",
      "Epoch 5/100000\n",
      "960/960 [==============================] - 0s 138us/sample - loss: 0.6463 - acc: 0.6458 - val_loss: 0.6603 - val_acc: 0.5958\n",
      "Epoch 6/100000\n",
      "960/960 [==============================] - 0s 119us/sample - loss: 0.6407 - acc: 0.6510 - val_loss: 0.6547 - val_acc: 0.6417\n",
      "Epoch 7/100000\n",
      "960/960 [==============================] - 0s 104us/sample - loss: 0.6427 - acc: 0.6271 - val_loss: 0.6593 - val_acc: 0.6042\n",
      "Epoch 8/100000\n",
      "960/960 [==============================] - 0s 104us/sample - loss: 0.6431 - acc: 0.6365 - val_loss: 0.6571 - val_acc: 0.6292\n",
      "Epoch 9/100000\n",
      "960/960 [==============================] - 0s 104us/sample - loss: 0.6341 - acc: 0.6406 - val_loss: 0.6737 - val_acc: 0.5875\n",
      "Epoch 10/100000\n",
      "960/960 [==============================] - 0s 122us/sample - loss: 0.6287 - acc: 0.6406 - val_loss: 0.6512 - val_acc: 0.6542\n",
      "Epoch 11/100000\n",
      "960/960 [==============================] - 0s 103us/sample - loss: 0.6298 - acc: 0.6323 - val_loss: 0.6592 - val_acc: 0.6208\n",
      "Epoch 12/100000\n",
      "960/960 [==============================] - 0s 106us/sample - loss: 0.6257 - acc: 0.6594 - val_loss: 0.6700 - val_acc: 0.6125\n",
      "Epoch 13/100000\n",
      "960/960 [==============================] - 0s 119us/sample - loss: 0.6138 - acc: 0.6594 - val_loss: 0.7012 - val_acc: 0.5792\n",
      "Epoch 14/100000\n",
      "960/960 [==============================] - 0s 121us/sample - loss: 0.6192 - acc: 0.6500 - val_loss: 0.6635 - val_acc: 0.6208\n",
      "Epoch 15/100000\n",
      "960/960 [==============================] - 0s 120us/sample - loss: 0.6132 - acc: 0.6615 - val_loss: 0.6532 - val_acc: 0.6208\n",
      "Epoch 16/100000\n",
      "960/960 [==============================] - 0s 121us/sample - loss: 0.6146 - acc: 0.6656 - val_loss: 0.6527 - val_acc: 0.6458\n",
      "Epoch 17/100000\n",
      "960/960 [==============================] - 0s 104us/sample - loss: 0.6071 - acc: 0.6687 - val_loss: 0.6570 - val_acc: 0.6292\n",
      "Epoch 18/100000\n",
      "960/960 [==============================] - 0s 104us/sample - loss: 0.6081 - acc: 0.6521 - val_loss: 0.7183 - val_acc: 0.5917\n",
      "Epoch 19/100000\n",
      "960/960 [==============================] - 0s 104us/sample - loss: 0.6122 - acc: 0.6635 - val_loss: 0.6621 - val_acc: 0.6375\n",
      "Epoch 20/100000\n",
      "960/960 [==============================] - 1s 788us/sample - loss: 0.6128 - acc: 0.6656 - val_loss: 0.7267 - val_acc: 0.5875\n"
     ]
    },
    {
     "data": {
      "image/png": "[encoded data removed]",
      "text/plain": [
       "<Figure size 432x288 with 2 Axes>"
      ]
     },
     "metadata": {
      "needs_background": "light"
     },
     "output_type": "display_data"
    },
    {
     "data": {
      "image/png": "[encoded data removed]",
      "text/plain": [
       "<Figure size 432x288 with 2 Axes>"
      ]
     },
     "metadata": {
      "needs_background": "light"
     },
     "output_type": "display_data"
    },
    {
     "data": {
      "image/png": "[encoded data removed]",
      "text/plain": [
       "<Figure size 432x288 with 2 Axes>"
      ]
     },
     "metadata": {
      "needs_background": "light"
     },
     "output_type": "display_data"
    },
    {
     "name": "stdout",
     "output_type": "stream",
     "text": [
      "              precision    recall  f1-score   support\n",
      "\n",
      "         0.0       0.67      0.70      0.68       395\n",
      "         1.0       0.49      0.47      0.48       251\n",
      "\n",
      "    accuracy                           0.61       646\n",
      "   macro avg       0.58      0.58      0.58       646\n",
      "weighted avg       0.60      0.61      0.60       646\n",
      "\n",
      "Test accuracy: 0.607\n"
     ]
    }
   ],
   "source": [
    "bs = test_params[max_idx_1yr].pop('batch_size')\n",
    "model_ff_1yr = create_model(**test_params[max_idx_1yr])\n",
    "test_params[max_idx_1yr].update({'batch_size': bs})\n",
    "\n",
    "history_1yr = model_ff_1yr.fit(x_train_1yr, y_train_1yr,\n",
    "                               epochs=100000,\n",
    "                               batch_size = bs,\n",
    "                               verbose=1,\n",
    "                               callbacks = [EarlyStopping(monitor='val_acc', patience=10, restore_best_weights=True)],\n",
    "                               validation_split=0.2)\n",
    "savename_1yr = \"nn_bs{}_n1{}_n2{}_dr{}_lr{}_opt{}\".format(test_params[max_idx_1yr]['batch_size'],\n",
    "                                                          test_params[max_idx_1yr]['nodes1'],\n",
    "                                                          test_params[max_idx_1yr]['nodes2'],\n",
    "                                                          test_params[max_idx_1yr]['dropout_rate'],\n",
    "                                                          test_params[max_idx_1yr]['learning_rate'],\n",
    "                                                          test_params[max_idx_1yr]['optimizer'])\n",
    "plot_results_nn(history_1yr,model_ff_1yr,x_test_1yr, y_test_1yr,save=True, name=savename_1yr)"
   ]
  },
  {
   "cell_type": "markdown",
   "metadata": {},
   "source": [
    "### 3 year rate"
   ]
  },
  {
   "cell_type": "code",
   "execution_count": 33,
   "metadata": {},
   "outputs": [
    {
     "name": "stderr",
     "output_type": "stream",
     "text": [
      "100%|██████████████████████████████████████████████████████████████████████████████████| 50/50 [05:49<00:00,  6.99s/it]"
     ]
    },
    {
     "name": "stdout",
     "output_type": "stream",
     "text": [
      "Best val acc: 0.6125\n",
      "For config:  {'nodes1': 250, 'nodes2': 50, 'dropout_rate': 0.3, 'learning_rate': 0.0001, 'optimizer': 'RMSprop', 'batch_size': 32}\n"
     ]
    },
    {
     "name": "stderr",
     "output_type": "stream",
     "text": [
      "\n"
     ]
    }
   ],
   "source": [
    "historylist_3yr = []\n",
    "for i,params in enumerate(tqdm(test_params)): \n",
    "    bs = params.pop('batch_size')\n",
    "    model = create_model(**params)\n",
    "    params.update({'batch_size': bs})\n",
    "    history = model.fit(x_train_3yr, y_train_3yr,\n",
    "                        epochs=10000,\n",
    "                        batch_size=params['batch_size'],\n",
    "                        verbose=0,\n",
    "                        callbacks=[EarlyStopping(monitor='val_acc', patience=2, restore_best_weights=True)],\n",
    "                        validation_split=0.2)\n",
    "    historylist_3yr.append(history)\n",
    "max_acc_3yr = -1\n",
    "max_idx_3yr = -1\n",
    "for i,hist in enumerate(historylist_3yr):\n",
    "    if max(hist.history['val_acc']) > max_acc_3yr: \n",
    "        max_acc_3yr = max(hist.history['val_acc'])\n",
    "        max_idx_3yr = i\n",
    "    \n",
    "print(\"Best val acc:\",max_acc_3yr)\n",
    "print(\"For config: \",test_params[max_idx_3yr])"
   ]
  },
  {
   "cell_type": "code",
   "execution_count": 34,
   "metadata": {},
   "outputs": [
    {
     "name": "stdout",
     "output_type": "stream",
     "text": [
      "Train on 960 samples, validate on 240 samples\n",
      "Epoch 1/100000\n",
      "960/960 [==============================] - 3s 3ms/sample - loss: 0.7128 - acc: 0.5000 - val_loss: 0.6862 - val_acc: 0.5500\n",
      "Epoch 2/100000\n",
      "960/960 [==============================] - 0s 232us/sample - loss: 0.7044 - acc: 0.5427 - val_loss: 0.6859 - val_acc: 0.5500\n",
      "Epoch 3/100000\n",
      "960/960 [==============================] - 0s 209us/sample - loss: 0.7004 - acc: 0.5250 - val_loss: 0.6853 - val_acc: 0.5500\n",
      "Epoch 4/100000\n",
      "960/960 [==============================] - 0s 193us/sample - loss: 0.7043 - acc: 0.5156 - val_loss: 0.6849 - val_acc: 0.5500\n",
      "Epoch 5/100000\n",
      "960/960 [==============================] - 0s 209us/sample - loss: 0.6938 - acc: 0.5302 - val_loss: 0.6846 - val_acc: 0.5500\n",
      "Epoch 6/100000\n",
      "960/960 [==============================] - 0s 209us/sample - loss: 0.6914 - acc: 0.5375 - val_loss: 0.6844 - val_acc: 0.5583\n",
      "Epoch 7/100000\n",
      "960/960 [==============================] - 0s 193us/sample - loss: 0.6901 - acc: 0.5448 - val_loss: 0.6868 - val_acc: 0.5708\n",
      "Epoch 8/100000\n",
      "960/960 [==============================] - 0s 193us/sample - loss: 0.6971 - acc: 0.5479 - val_loss: 0.6834 - val_acc: 0.5583\n",
      "Epoch 9/100000\n",
      "960/960 [==============================] - 0s 225us/sample - loss: 0.6913 - acc: 0.5219 - val_loss: 0.6836 - val_acc: 0.5750\n",
      "Epoch 10/100000\n",
      "960/960 [==============================] - 0s 225us/sample - loss: 0.6891 - acc: 0.5375 - val_loss: 0.6862 - val_acc: 0.5583\n",
      "Epoch 11/100000\n",
      "960/960 [==============================] - 0s 193us/sample - loss: 0.6937 - acc: 0.5344 - val_loss: 0.6849 - val_acc: 0.5542\n",
      "Epoch 12/100000\n",
      "960/960 [==============================] - 0s 193us/sample - loss: 0.6857 - acc: 0.5750 - val_loss: 0.6846 - val_acc: 0.5417\n",
      "Epoch 13/100000\n",
      "960/960 [==============================] - 0s 176us/sample - loss: 0.6909 - acc: 0.5417 - val_loss: 0.6825 - val_acc: 0.5833\n",
      "Epoch 14/100000\n",
      "960/960 [==============================] - 0s 209us/sample - loss: 0.6854 - acc: 0.5479 - val_loss: 0.6825 - val_acc: 0.5625\n",
      "Epoch 15/100000\n",
      "960/960 [==============================] - 0s 209us/sample - loss: 0.6902 - acc: 0.5437 - val_loss: 0.6882 - val_acc: 0.5125\n",
      "Epoch 16/100000\n",
      "960/960 [==============================] - 0s 186us/sample - loss: 0.6831 - acc: 0.5448 - val_loss: 0.6833 - val_acc: 0.5625\n",
      "Epoch 17/100000\n",
      "960/960 [==============================] - 0s 176us/sample - loss: 0.6859 - acc: 0.5656 - val_loss: 0.6920 - val_acc: 0.5125\n",
      "Epoch 18/100000\n",
      "960/960 [==============================] - 0s 209us/sample - loss: 0.6869 - acc: 0.5542 - val_loss: 0.6828 - val_acc: 0.5667\n",
      "Epoch 19/100000\n",
      "960/960 [==============================] - 0s 225us/sample - loss: 0.6848 - acc: 0.5437 - val_loss: 0.6834 - val_acc: 0.5333\n",
      "Epoch 20/100000\n",
      "960/960 [==============================] - 0s 193us/sample - loss: 0.6817 - acc: 0.5583 - val_loss: 0.6826 - val_acc: 0.5750\n",
      "Epoch 21/100000\n",
      "960/960 [==============================] - 0s 192us/sample - loss: 0.6813 - acc: 0.5469 - val_loss: 0.6835 - val_acc: 0.5333\n",
      "Epoch 22/100000\n",
      "960/960 [==============================] - 0s 193us/sample - loss: 0.6788 - acc: 0.5646 - val_loss: 0.6831 - val_acc: 0.5375\n",
      "Epoch 23/100000\n",
      "960/960 [==============================] - 1s 2ms/sample - loss: 0.6736 - acc: 0.5823 - val_loss: 0.6832 - val_acc: 0.5708\n"
     ]
    },
    {
     "data": {
      "image/png": "[encoded data removed]",
      "text/plain": [
       "<Figure size 432x288 with 2 Axes>"
      ]
     },
     "metadata": {
      "needs_background": "light"
     },
     "output_type": "display_data"
    },
    {
     "data": {
      "image/png": "[encoded data removed]",
      "text/plain": [
       "<Figure size 432x288 with 2 Axes>"
      ]
     },
     "metadata": {
      "needs_background": "light"
     },
     "output_type": "display_data"
    },
    {
     "data": {
      "image/png": "[encoded data removed]",
      "text/plain": [
       "<Figure size 432x288 with 2 Axes>"
      ]
     },
     "metadata": {
      "needs_background": "light"
     },
     "output_type": "display_data"
    },
    {
     "name": "stdout",
     "output_type": "stream",
     "text": [
      "              precision    recall  f1-score   support\n",
      "\n",
      "         0.0       0.55      0.92      0.69       348\n",
      "         1.0       0.55      0.12      0.20       298\n",
      "\n",
      "    accuracy                           0.55       646\n",
      "   macro avg       0.55      0.52      0.44       646\n",
      "weighted avg       0.55      0.55      0.46       646\n",
      "\n",
      "Test accuracy: 0.55\n"
     ]
    }
   ],
   "source": [
    "bs = test_params[max_idx_3yr].pop('batch_size')\n",
    "model_ff_3yr = create_model(**test_params[max_idx_3yr])\n",
    "test_params[max_idx_3yr].update({'batch_size': bs})\n",
    "\n",
    "history_3yr = model_ff_3yr.fit(x_train_3yr, y_train_3yr,\n",
    "                               epochs=100000,\n",
    "                               batch_size = bs,\n",
    "                               verbose=1,\n",
    "                               callbacks = [EarlyStopping(monitor='val_acc', patience=10, restore_best_weights=True)],\n",
    "                               validation_split=0.2)\n",
    "savename_3yr = \"nn_bs{}_n1{}_n2{}_dr{}_lr{}_opt{}\".format(test_params[max_idx_3yr]['batch_size'],\n",
    "                                                          test_params[max_idx_3yr]['nodes1'],\n",
    "                                                          test_params[max_idx_3yr]['nodes2'],\n",
    "                                                          test_params[max_idx_3yr]['dropout_rate'],\n",
    "                                                          test_params[max_idx_3yr]['learning_rate'],\n",
    "                                                          test_params[max_idx_3yr]['optimizer'])\n",
    "plot_results_nn(history_3yr,model_ff_3yr,x_test_3yr, y_test_3yr,save=True, name=savename_3yr)\n"
   ]
  },
  {
   "cell_type": "markdown",
   "metadata": {},
   "source": [
    "#### S&P"
   ]
  },
  {
   "cell_type": "code",
   "execution_count": null,
   "metadata": {},
   "outputs": [
    {
     "name": "stderr",
     "output_type": "stream",
     "text": [
      " 70%|█████████████████████████████████████████████████████████▍                        | 35/50 [06:54<03:22, 13.47s/it]"
     ]
    }
   ],
   "source": [
    "historylist_sp = []\n",
    "for i,params in enumerate(tqdm(test_params)): \n",
    "    bs = params.pop('batch_size')\n",
    "    model = create_model(**params)\n",
    "    params.update({'batch_size': bs})\n",
    "    history = model.fit(x_train_sp, y_train_sp,\n",
    "                        epochs=10000,\n",
    "                        batch_size=params['batch_size'],\n",
    "                        verbose=0,\n",
    "                        callbacks=[EarlyStopping(monitor='val_acc', patience=2, restore_best_weights=True)],\n",
    "                        validation_split=0.2)\n",
    "    historylist_sp.append(history)\n",
    "max_acc_sp = -1\n",
    "max_idx_sp = -1\n",
    "for i,hist in enumerate(historylist_sp):\n",
    "    if max(hist.history['val_acc']) > max_acc_sp: \n",
    "        max_acc_sp = max(hist.history['val_acc'])\n",
    "        max_idx_sp = i\n",
    "    \n",
    "print(\"Best val acc:\",max_acc_sp)\n",
    "print(\"For config: \",test_params[max_idx_sp])"
   ]
  },
  {
   "cell_type": "code",
   "execution_count": null,
   "metadata": {
    "scrolled": false
   },
   "outputs": [],
   "source": [
    "bs = test_params[max_idx_sp].pop('batch_size')\n",
    "model_ff_sp = create_model(**test_params[max_idx_sp])\n",
    "test_params[max_idx_sp].update({'batch_size': bs})\n",
    "\n",
    "history_sp = model_ff_sp.fit(x_train_sp, y_train_sp,\n",
    "                               epochs=100000,\n",
    "                               batch_size = bs,\n",
    "                               verbose=1,\n",
    "                               callbacks = [EarlyStopping(monitor='val_acc', patience=10, restore_best_weights=True)],\n",
    "                               validation_split=0.2)\n",
    "savename_sp = \"nn_bs{}_n1{}_n2{}_dr{}_lr{}_opt{}\".format(test_params[max_idx_sp]['batch_size'],\n",
    "                                                          test_params[max_idx_sp]['nodes1'],\n",
    "                                                          test_params[max_idx_sp]['nodes2'],\n",
    "                                                          test_params[max_idx_sp]['dropout_rate'],\n",
    "                                                          test_params[max_idx_sp]['learning_rate'],\n",
    "                                                          test_params[max_idx_sp]['optimizer'])\n",
    "plot_results_nn(history_sp,model_ff_sp,x_test_sp, y_test_sp,save=True, name=savename_sp)\n"
   ]
  },
  {
   "cell_type": "markdown",
   "metadata": {},
   "source": [
    "### Neural Network - GloVe embeddings as embedded layer\n",
    "Similar to the previous neural network, but with an embedded layer that is trained together with the weights in the feed-forward network. "
   ]
  },
  {
   "cell_type": "code",
   "execution_count": null,
   "metadata": {},
   "outputs": [],
   "source": [
    "# Create functions for custom 'MergeEmedding'-layer which averages \n",
    "# the embeddings over all words after the embedding layer \n",
    "def merge_embeddings(x):\n",
    "    # Sum the embeddings for every word slot. If this is zero, there is no word in this slot\n",
    "    non_zero = K.sum(K.cast(K.not_equal(K.sum(x,axis=2),0),tf.float32))\n",
    "    return K.sum(x,axis=1) / non_zero\n",
    "\n",
    "def merge_output_shape(input_shape):\n",
    "    return input_shape[0], input_shape[-1]\n",
    "\n",
    "\n",
    "def create_model_emb_ff(nodes1=100, nodes2=50, dropout_rate=0.3, optimizer='rmsprop',learning_rate=0.001):\n",
    "    if optimizer.lower() == 'rmsprop': \n",
    "        optimizer = RMSprop(learning_rate = learning_rate)\n",
    "    elif optimizer.lower() == 'adam':\n",
    "        optimizer = Adam(learning_rate = learning_rate)\n",
    "    model = Sequential()\n",
    "    model.add(Embedding(input_dim=vocab_size+1,\n",
    "                        output_dim=300,\n",
    "                        mask_zero=True,\n",
    "                        weights=[trainable_embeddings],\n",
    "                        input_length=maxlen))\n",
    "    model.add(Lambda(merge_embeddings, output_shape=merge_output_shape))\n",
    "    if nodes1 == 0: \n",
    "        model.add(Dense(1, activation='sigmoid'))\n",
    "        model.compile(optimizer=optimizer, loss='binary_crossentropy', metrics=['acc'])\n",
    "        return model \n",
    "    model.add(Dense(nodes1))\n",
    "    model.add(Dropout(dropout_rate))\n",
    "    if nodes2 == 0: \n",
    "        model.add(Dense(1, activation='sigmoid'))\n",
    "        model.compile(optimizer=optimizer, loss='binary_crossentropy', metrics=['acc'])\n",
    "        return model\n",
    "    model.add(Dense(nodes2))\n",
    "    model.add(Dropout(dropout_rate))\n",
    "    model.add(Dense(1, activation='sigmoid'))\n",
    "    model.compile(optimizer=optimizer, loss='binary_crossentropy', metrics=['acc'])\n",
    "    return model "
   ]
  },
  {
   "cell_type": "code",
   "execution_count": null,
   "metadata": {},
   "outputs": [],
   "source": [
    "historylist_emb_1yr = []\n",
    "for i,params in enumerate(tqdm(test_params)): \n",
    "    bs = params.pop('batch_size')\n",
    "    model = create_model_emb_ff(**params)\n",
    "    params.update({'batch_size': bs})\n",
    "    history = model.fit(x_train_seq_1yr, y_train_1yr,\n",
    "                        epochs=10000,\n",
    "                        batch_size=params['batch_size'],\n",
    "                        verbose=0,\n",
    "                        callbacks=[EarlyStopping(monitor='val_acc', patience=2, restore_best_weights=True)],\n",
    "                        validation_split=0.2)\n",
    "    historylist_emb_1yr.append(history)\n",
    "max_acc_emb_1yr = -1\n",
    "max_idx_emb_1yr = -1\n",
    "for i,hist in enumerate(historylist_emb_1yr):\n",
    "    if max(hist.history['val_acc']) > max_acc_emb_1yr: \n",
    "        max_acc_emb_1yr = max(hist.history['val_acc'])\n",
    "        max_idx_emb_1yr = i\n",
    "    \n",
    "print(\"Best val acc:\",max_acc_emb_1yr)\n",
    "print(\"For config: \",test_params[max_idx_emb_1yr])"
   ]
  },
  {
   "cell_type": "code",
   "execution_count": null,
   "metadata": {},
   "outputs": [],
   "source": [
    "bs = test_params[max_idx_emb_1yr].pop('batch_size')\n",
    "model_emb_1yr = create_model_emb_ff(**test_params[max_idx_emb_1yr])\n",
    "test_params[max_idx_emb_1yr].update({'batch_size': bs})\n",
    "\n",
    "history_emb_1yr = model_emb_1yr.fit(x_train_seq_1yr, y_train_1yr,\n",
    "                                    epochs=100000,\n",
    "                                    batch_size = bs,\n",
    "                                    verbose=1,\n",
    "                                    callbacks = [EarlyStopping(monitor='val_acc', patience=5, restore_best_weights=True)],\n",
    "                                    validation_split=0.2)\n",
    "savename_emb_1yr = \"nn_emb_bs{}_n1{}_n2{}_dr{}_lr{}_opt{}\".format(test_params[max_idx_emb_1yr]['batch_size'],\n",
    "                                                              test_params[max_idx_emb_1yr]['nodes1'],\n",
    "                                                              test_params[max_idx_emb_1yr]['nodes2'],\n",
    "                                                              test_params[max_idx_emb_1yr]['dropout_rate'],\n",
    "                                                              test_params[max_idx_emb_1yr]['learning_rate'],\n",
    "                                                              test_params[max_idx_emb_1yr]['optimizer'])\n",
    "plot_results_nn(history_emb_1yr,model_emb_1yr,x_test_seq_1yr, y_test_1yr,save=True, name=savename_emb_1yr)"
   ]
  },
  {
   "cell_type": "markdown",
   "metadata": {},
   "source": [
    "#### 3 year rate"
   ]
  },
  {
   "cell_type": "code",
   "execution_count": null,
   "metadata": {},
   "outputs": [],
   "source": [
    "historylist_emb_3yr = []\n",
    "for i,params in enumerate(tqdm(test_params)): \n",
    "    bs = params.pop('batch_size')\n",
    "    model = create_model_emb_ff(**params)\n",
    "    params.update({'batch_size': bs})\n",
    "    history = model.fit(x_train_seq_3yr, y_train_3yr,\n",
    "                        epochs=10000,\n",
    "                        batch_size=params['batch_size'],\n",
    "                        verbose=0,\n",
    "                        callbacks=[EarlyStopping(monitor='val_acc', patience=2, restore_best_weights=True)],\n",
    "                        validation_split=0.2)\n",
    "    historylist_emb_3yr.append(history)\n",
    "max_acc_emb_3yr = -1\n",
    "max_idx_emb_3yr = -1\n",
    "for i,hist in enumerate(historylist_emb_3yr):\n",
    "    if max(hist.history['val_acc']) > max_acc_emb_3yr: \n",
    "        max_acc_emb_3yr = max(hist.history['val_acc'])\n",
    "        max_idx_emb_3yr = i\n",
    "    \n",
    "print(\"Best val acc:\",max_acc_emb_3yr)\n",
    "print(\"For config: \",test_params[max_idx_emb_3yr])"
   ]
  },
  {
   "cell_type": "code",
   "execution_count": null,
   "metadata": {},
   "outputs": [],
   "source": [
    "bs = test_params[max_idx_emb_3yr].pop('batch_size')\n",
    "model_emb_3yr = create_model_emb_ff(**test_params[max_idx_emb_3yr])\n",
    "test_params[max_idx_emb_3yr].update({'batch_size': bs})\n",
    "\n",
    "history_emb_3yr = model_emb_3yr.fit(x_train_seq_3yr, y_train_3yr,\n",
    "                                    epochs=100000,\n",
    "                                    batch_size = bs,\n",
    "                                    verbose=1,\n",
    "                                    callbacks = [EarlyStopping(monitor='val_acc', patience=5, restore_best_weights=True)],\n",
    "                                    validation_split=0.2)\n",
    "savename_emb_3yr = \"nn_emb_bs{}_n1{}_n2{}_dr{}_lr{}_opt{}\".format(test_params[max_idx_emb_3yr]['batch_size'],\n",
    "                                                              test_params[max_idx_emb_3yr]['nodes1'],\n",
    "                                                              test_params[max_idx_emb_3yr]['nodes2'],\n",
    "                                                              test_params[max_idx_emb_3yr]['dropout_rate'],\n",
    "                                                              test_params[max_idx_emb_3yr]['learning_rate'],\n",
    "                                                              test_params[max_idx_emb_3yr]['optimizer'])\n",
    "plot_results_nn(history_emb_3yr,model_emb_3yr,x_test_seq_3yr, y_test_3yr,save=True, name=savename_emb_3yr)"
   ]
  },
  {
   "cell_type": "markdown",
   "metadata": {},
   "source": [
    "#### S&P"
   ]
  },
  {
   "cell_type": "code",
   "execution_count": null,
   "metadata": {},
   "outputs": [],
   "source": [
    "historylist_emb_sp = []\n",
    "for i,params in enumerate(tqdm(test_params)): \n",
    "    bs = params.pop('batch_size')\n",
    "    model = create_model_emb_ff(**params)\n",
    "    params.update({'batch_size': bs})\n",
    "    history = model.fit(x_train_seq_sp, y_train_sp,\n",
    "                        epochs=10000,\n",
    "                        batch_size=params['batch_size'],\n",
    "                        verbose=0,\n",
    "                        callbacks=[EarlyStopping(monitor='val_acc', patience=2, restore_best_weights=True)],\n",
    "                        validation_split=0.2)\n",
    "    historylist_emb_sp.append(history)\n",
    "max_acc_emb_sp = -1\n",
    "max_idx_emb_sp = -1\n",
    "for i,hist in enumerate(historylist_emb_sp):\n",
    "    if max(hist.history['val_acc']) > max_acc_emb_sp: \n",
    "        max_acc_emb_sp = max(hist.history['val_acc'])\n",
    "        max_idx_emb_sp = i\n",
    "    \n",
    "print(\"Best val acc:\",max_acc_emb_sp)\n",
    "print(\"For config: \",test_params[max_idx_emb_sp])"
   ]
  },
  {
   "cell_type": "code",
   "execution_count": null,
   "metadata": {},
   "outputs": [],
   "source": [
    "bs = test_params[max_idx_emb_sp].pop('batch_size')\n",
    "model_emb_sp = create_model_emb_ff(**test_params[max_idx_emb_sp])\n",
    "test_params[max_idx_emb_sp].update({'batch_size': bs})\n",
    "\n",
    "history_emb_sp = model_emb_sp.fit(x_train_seq_sp, y_train_sp,\n",
    "                                    epochs=100000,\n",
    "                                    batch_size = bs,\n",
    "                                    verbose=1,\n",
    "                                    callbacks = [EarlyStopping(monitor='val_acc', patience=5, restore_best_weights=True)],\n",
    "                                    validation_split=0.2)\n",
    "savename_emb_sp = \"nn_emb_bs{}_n1{}_n2{}_dr{}_lr{}_opt{}\".format(test_params[max_idx_emb_sp]['batch_size'],\n",
    "                                                              test_params[max_idx_emb_sp]['nodes1'],\n",
    "                                                              test_params[max_idx_emb_sp]['nodes2'],\n",
    "                                                              test_params[max_idx_emb_sp]['dropout_rate'],\n",
    "                                                              test_params[max_idx_emb_sp]['learning_rate'],\n",
    "                                                              test_params[max_idx_emb_sp]['optimizer'])\n",
    "plot_results_nn(history_emb_sp,model_emb_sp,x_test_seq_sp, y_test_sp,save=True, name=savename_emb_sp)"
   ]
  },
  {
   "cell_type": "markdown",
   "metadata": {},
   "source": [
    "### Neural Network - GloVe embeddings and Bidirectional LSTM\n",
    "The same embeddings as in the previous model, but with a bidirectional LSTM rather than a multi layer perceptron at the top."
   ]
  },
  {
   "cell_type": "code",
   "execution_count": 38,
   "metadata": {},
   "outputs": [],
   "source": [
    "def create_model_lstm(nodes=128, dropout_rate=0.3, recurrent_dropout=0.3, optimizer='rmsprop',learning_rate=0.001):\n",
    "    if optimizer == 'rmsprop': \n",
    "        optimizer = RMSprop(learning_rate = learning_rate)\n",
    "    elif optimizer == 'adam':\n",
    "        optimizer = Adam(learning_rate = learning_rate)\n",
    "    model = Sequential()\n",
    "    model.add(Embedding(input_dim=vocab_size+1,\n",
    "                        output_dim=300,\n",
    "                        mask_zero=True,\n",
    "                        weights=[trainable_embeddings],\n",
    "                        input_length=maxlen))\n",
    "    model.add(Bidirectional(LSTM(nodes, recurrent_dropout=recurrent_dropout)))\n",
    "    model.add(Dropout(dropout_rate))\n",
    "    model.add(Dense(1, activation='sigmoid'))\n",
    "    model.compile(optimizer=optimizer,\n",
    "                  loss='binary_crossentropy',\n",
    "                  metrics=['acc'])\n",
    "    return model"
   ]
  },
  {
   "cell_type": "markdown",
   "metadata": {},
   "source": [
    "#### 1 year rate"
   ]
  },
  {
   "cell_type": "code",
   "execution_count": 39,
   "metadata": {},
   "outputs": [
    {
     "name": "stdout",
     "output_type": "stream",
     "text": [
      "WARNING:tensorflow:From C:\\ProgramData\\Anaconda3\\envs\\nlpenv\\lib\\site-packages\\tensorflow_core\\python\\ops\\init_ops.py:97: calling GlorotUniform.__init__ (from tensorflow.python.ops.init_ops) with dtype is deprecated and will be removed in a future version.\n",
      "Instructions for updating:\n",
      "Call initializer instance with the dtype argument instead of passing it to the constructor\n",
      "WARNING:tensorflow:From C:\\ProgramData\\Anaconda3\\envs\\nlpenv\\lib\\site-packages\\tensorflow_core\\python\\ops\\init_ops.py:97: calling Orthogonal.__init__ (from tensorflow.python.ops.init_ops) with dtype is deprecated and will be removed in a future version.\n",
      "Instructions for updating:\n",
      "Call initializer instance with the dtype argument instead of passing it to the constructor\n",
      "WARNING:tensorflow:From C:\\ProgramData\\Anaconda3\\envs\\nlpenv\\lib\\site-packages\\tensorflow_core\\python\\ops\\init_ops.py:97: calling Zeros.__init__ (from tensorflow.python.ops.init_ops) with dtype is deprecated and will be removed in a future version.\n",
      "Instructions for updating:\n",
      "Call initializer instance with the dtype argument instead of passing it to the constructor\n",
      "Train on 960 samples, validate on 240 samples\n",
      "Epoch 1/1000\n",
      "960/960 [==============================] - 4454s 5s/sample - loss: 0.6449 - acc: 0.6698 - val_loss: 0.6433 - val_acc: 0.6708\n",
      "Epoch 2/1000\n",
      "960/960 [==============================] - 4440s 5s/sample - loss: 0.5847 - acc: 0.7052 - val_loss: 0.6485 - val_acc: 0.6708\n",
      "Epoch 3/1000\n",
      "960/960 [==============================] - 4602s 5s/sample - loss: 0.5371 - acc: 0.7104 - val_loss: 0.6626 - val_acc: 0.6625\n",
      "Epoch 4/1000\n",
      "960/960 [==============================] - 5217s 5s/sample - loss: 0.4731 - acc: 0.7771 - val_loss: 0.7027 - val_acc: 0.5500\n",
      "Epoch 5/1000\n",
      "960/960 [==============================] - 4770s 5s/sample - loss: 0.3490 - acc: 0.8729 - val_loss: 0.7670 - val_acc: 0.5875\n"
     ]
    }
   ],
   "source": [
    "earlystop_lstm = EarlyStopping(monitor='val_acc',\n",
    "                               patience=4,\n",
    "                               restore_best_weights=True)\n",
    "\n",
    "lstm_1yr_mod = create_model_lstm() \n",
    "lstm_1yr_hist = lstm_1yr_mod.fit(x_train_seq_1yr, y_train_1yr,\n",
    "                                 epochs=1000,\n",
    "                                 validation_split=0.2, \n",
    "                                 verbose=1,\n",
    "                                 batch_size=64,\n",
    "                                 callbacks=[earlystop_lstm])"
   ]
  },
  {
   "cell_type": "code",
   "execution_count": 40,
   "metadata": {},
   "outputs": [
    {
     "data": {
      "image/png": "[encoded data removed]",
      "text/plain": [
       "<Figure size 432x288 with 2 Axes>"
      ]
     },
     "metadata": {
      "needs_background": "light"
     },
     "output_type": "display_data"
    },
    {
     "data": {
      "image/png": "[encoded data removed]",
      "text/plain": [
       "<Figure size 432x288 with 2 Axes>"
      ]
     },
     "metadata": {
      "needs_background": "light"
     },
     "output_type": "display_data"
    },
    {
     "data": {
      "image/png": "[encoded data removed]",
      "text/plain": [
       "<Figure size 432x288 with 2 Axes>"
      ]
     },
     "metadata": {
      "needs_background": "light"
     },
     "output_type": "display_data"
    },
    {
     "name": "stdout",
     "output_type": "stream",
     "text": [
      "              precision    recall  f1-score   support\n",
      "\n",
      "         0.0       0.69      1.00      0.82       445\n",
      "         1.0       0.00      0.00      0.00       201\n",
      "\n",
      "    accuracy                           0.69       646\n",
      "   macro avg       0.34      0.50      0.41       646\n",
      "weighted avg       0.47      0.69      0.56       646\n",
      "\n",
      "Test accuracy: 0.689\n"
     ]
    },
    {
     "name": "stderr",
     "output_type": "stream",
     "text": [
      "C:\\ProgramData\\Anaconda3\\envs\\nlpenv\\lib\\site-packages\\sklearn\\metrics\\_classification.py:1272: UndefinedMetricWarning: Precision and F-score are ill-defined and being set to 0.0 in labels with no predicted samples. Use `zero_division` parameter to control this behavior.\n",
      "  _warn_prf(average, modifier, msg_start, len(result))\n"
     ]
    }
   ],
   "source": [
    "plot_results_nn(lstm_1yr_hist,lstm_1yr_mod,x_test_seq_1yr, y_test_1yr,save=True, name=\"lstm_1yr\")"
   ]
  },
  {
   "cell_type": "code",
   "execution_count": 41,
   "metadata": {},
   "outputs": [
    {
     "name": "stdout",
     "output_type": "stream",
     "text": [
      "Train on 960 samples, validate on 240 samples\n",
      "Epoch 1/1000\n",
      "960/960 [==============================] - 2106s 2s/sample - loss: 0.6931 - acc: 0.5573 - val_loss: 0.6914 - val_acc: 0.5542\n",
      "Epoch 2/1000\n",
      "960/960 [==============================] - 1888s 2s/sample - loss: 0.6337 - acc: 0.6448 - val_loss: 0.6676 - val_acc: 0.6375\n",
      "Epoch 3/1000\n",
      "960/960 [==============================] - 1924s 2s/sample - loss: 0.5839 - acc: 0.6781 - val_loss: 0.7236 - val_acc: 0.5292\n",
      "Epoch 4/1000\n",
      "960/960 [==============================] - 1963s 2s/sample - loss: 0.4929 - acc: 0.7979 - val_loss: 0.7379 - val_acc: 0.6125\n",
      "Epoch 5/1000\n",
      "960/960 [==============================] - 2002s 2s/sample - loss: 0.3932 - acc: 0.8542 - val_loss: 0.9112 - val_acc: 0.4208\n",
      "Epoch 6/1000\n",
      "960/960 [==============================] - 2025s 2s/sample - loss: 0.2872 - acc: 0.9062 - val_loss: 0.9163 - val_acc: 0.5292\n"
     ]
    }
   ],
   "source": [
    "lstm_3yr_mod = create_model_lstm() \n",
    "lstm_3yr_hist = lstm_3yr_mod.fit(x_train_seq_3yr, y_train_3yr,\n",
    "                                 epochs=1000,\n",
    "                                 validation_split=0.2, \n",
    "                                 verbose=1,\n",
    "                                 batch_size=64,\n",
    "                                 callbacks=[earlystop_lstm])"
   ]
  },
  {
   "cell_type": "code",
   "execution_count": 42,
   "metadata": {},
   "outputs": [
    {
     "data": {
      "image/png": "[encoded data removed]",
      "text/plain": [
       "<Figure size 432x288 with 2 Axes>"
      ]
     },
     "metadata": {
      "needs_background": "light"
     },
     "output_type": "display_data"
    },
    {
     "data": {
      "image/png": "[encoded data removed]",
      "text/plain": [
       "<Figure size 432x288 with 2 Axes>"
      ]
     },
     "metadata": {
      "needs_background": "light"
     },
     "output_type": "display_data"
    },
    {
     "data": {
      "image/png": "[encoded data removed]",
      "text/plain": [
       "<Figure size 432x288 with 2 Axes>"
      ]
     },
     "metadata": {
      "needs_background": "light"
     },
     "output_type": "display_data"
    },
    {
     "name": "stdout",
     "output_type": "stream",
     "text": [
      "              precision    recall  f1-score   support\n",
      "\n",
      "         0.0       0.59      0.97      0.74       384\n",
      "         1.0       0.29      0.02      0.03       262\n",
      "\n",
      "    accuracy                           0.59       646\n",
      "   macro avg       0.44      0.49      0.38       646\n",
      "weighted avg       0.47      0.59      0.45       646\n",
      "\n",
      "Test accuracy: 0.585\n"
     ]
    }
   ],
   "source": [
    "plot_results_nn(lstm_3yr_hist,lstm_3yr_mod,x_test_seq_3yr, y_test_3yr,save=True, name=\"lstm_3yr\")"
   ]
  },
  {
   "cell_type": "code",
   "execution_count": 43,
   "metadata": {},
   "outputs": [
    {
     "name": "stdout",
     "output_type": "stream",
     "text": [
      "Train on 960 samples, validate on 240 samples\n",
      "Epoch 1/1000\n",
      "960/960 [==============================] - 2033s 2s/sample - loss: 0.7243 - acc: 0.4885 - val_loss: 0.7073 - val_acc: 0.5083\n",
      "Epoch 2/1000\n",
      "960/960 [==============================] - 2077s 2s/sample - loss: 0.6488 - acc: 0.6469 - val_loss: 0.7029 - val_acc: 0.5333\n",
      "Epoch 3/1000\n",
      "960/960 [==============================] - 2117s 2s/sample - loss: 0.5984 - acc: 0.7115 - val_loss: 0.7149 - val_acc: 0.5000\n",
      "Epoch 4/1000\n",
      "960/960 [==============================] - 2139s 2s/sample - loss: 0.5181 - acc: 0.7927 - val_loss: 0.7410 - val_acc: 0.5375\n",
      "Epoch 5/1000\n",
      "960/960 [==============================] - 2157s 2s/sample - loss: 0.4294 - acc: 0.8250 - val_loss: 0.7908 - val_acc: 0.5458\n",
      "Epoch 6/1000\n",
      "960/960 [==============================] - 2182s 2s/sample - loss: 0.3032 - acc: 0.8885 - val_loss: 0.9413 - val_acc: 0.5458\n",
      "Epoch 7/1000\n",
      "960/960 [==============================] - 2195s 2s/sample - loss: 0.1964 - acc: 0.9385 - val_loss: 0.9595 - val_acc: 0.5500\n",
      "Epoch 8/1000\n",
      "960/960 [==============================] - 2208s 2s/sample - loss: 0.0986 - acc: 0.9792 - val_loss: 1.0761 - val_acc: 0.5833\n",
      "Epoch 9/1000\n",
      "960/960 [==============================] - 2238s 2s/sample - loss: 0.0630 - acc: 0.9896 - val_loss: 1.2823 - val_acc: 0.5667\n",
      "Epoch 10/1000\n",
      "960/960 [==============================] - 2244s 2s/sample - loss: 0.0268 - acc: 0.9990 - val_loss: 1.3825 - val_acc: 0.5500\n",
      "Epoch 11/1000\n",
      "960/960 [==============================] - 2256s 2s/sample - loss: 0.0224 - acc: 0.9979 - val_loss: 1.4015 - val_acc: 0.5833\n",
      "Epoch 12/1000\n",
      "960/960 [==============================] - 2282s 2s/sample - loss: 0.0129 - acc: 0.9990 - val_loss: 1.9736 - val_acc: 0.5208\n"
     ]
    }
   ],
   "source": [
    "lstm_sp_mod = create_model_lstm() \n",
    "lstm_sp_hist = lstm_sp_mod.fit(x_train_seq_sp, y_train_sp,\n",
    "                                 epochs=1000,\n",
    "                                 validation_split=0.2, \n",
    "                                 verbose=1,\n",
    "                                 batch_size=64,\n",
    "                                 callbacks=[earlystop_lstm])"
   ]
  },
  {
   "cell_type": "code",
   "execution_count": 44,
   "metadata": {},
   "outputs": [
    {
     "data": {
      "image/png": "[encoded data removed]",
      "text/plain": [
       "<Figure size 432x288 with 2 Axes>"
      ]
     },
     "metadata": {
      "needs_background": "light"
     },
     "output_type": "display_data"
    },
    {
     "data": {
      "image/png": "[encoded data removed]",
      "text/plain": [
       "<Figure size 432x288 with 2 Axes>"
      ]
     },
     "metadata": {
      "needs_background": "light"
     },
     "output_type": "display_data"
    },
    {
     "data": {
      "image/png": "[encoded data removed]",
      "text/plain": [
       "<Figure size 432x288 with 2 Axes>"
      ]
     },
     "metadata": {
      "needs_background": "light"
     },
     "output_type": "display_data"
    },
    {
     "name": "stdout",
     "output_type": "stream",
     "text": [
      "              precision    recall  f1-score   support\n",
      "\n",
      "         0.0       0.46      0.58      0.51       300\n",
      "         1.0       0.53      0.40      0.46       346\n",
      "\n",
      "    accuracy                           0.49       646\n",
      "   macro avg       0.49      0.49      0.48       646\n",
      "weighted avg       0.49      0.49      0.48       646\n",
      "\n",
      "Test accuracy: 0.486\n"
     ]
    }
   ],
   "source": [
    "plot_results_nn(lstm_sp_hist,lstm_sp_mod,x_test_seq_sp, y_test_sp,save=True, name=\"lstm_sp\")"
   ]
  },
  {
   "cell_type": "code",
   "execution_count": null,
   "metadata": {},
   "outputs": [],
   "source": []
  },
  {
   "cell_type": "code",
   "execution_count": null,
   "metadata": {},
   "outputs": [],
   "source": []
  },
  {
   "cell_type": "code",
   "execution_count": null,
   "metadata": {},
   "outputs": [],
   "source": []
  },
  {
   "cell_type": "code",
   "execution_count": null,
   "metadata": {},
   "outputs": [],
   "source": []
  },
  {
   "cell_type": "code",
   "execution_count": null,
   "metadata": {},
   "outputs": [],
   "source": []
  },
  {
   "cell_type": "code",
   "execution_count": null,
   "metadata": {},
   "outputs": [],
   "source": []
  },
  {
   "cell_type": "code",
   "execution_count": null,
   "metadata": {},
   "outputs": [],
   "source": []
  },
  {
   "cell_type": "code",
   "execution_count": null,
   "metadata": {},
   "outputs": [],
   "source": []
  },
  {
   "cell_type": "code",
   "execution_count": null,
   "metadata": {},
   "outputs": [],
   "source": []
  },
  {
   "cell_type": "code",
   "execution_count": null,
   "metadata": {},
   "outputs": [],
   "source": []
  },
  {
   "cell_type": "markdown",
   "metadata": {},
   "source": [
    "## Results\n",
    "\n",
    "The following results were achieved on the independent test set on the IMDB dataset. Pre-trained GloVe-embeddings were used and \n",
    "\n",
    "| Model |  Test Accuracy (%) | Hyperparameters |\n",
    "| :----- | --------------- | --- | \n",
    "| Random Classifier | 50.3 | N/A |\n",
    "| Logistic Regression | 85.2  | N/A |\n",
    "| Linear Discriminant Analysis | 85.3  | N/A |\n",
    "| Support Vector Machine | 84.1 | N/A |\n",
    "| Random Forest | 80.9  | n_estimators=5000, max_depth=50 |\n",
    "| XGBoost | __86.1__ | n_estimators=500 |\n",
    "| Multi Layer Perceptron (Pre-trained) | 85.2 | batch_size=16,depth=3,dropout_rate=0.2,nodes=250 |\n",
    "| Multi Layer Perceptron (Cont. training) |  | batch_size=16,depth=3,dropout_rate=0.2,nodes=250 |\n",
    "| LSTM | | n_lstm1=20, n_lstm2=20, nodes=50,dropout_rate=0.3 | \n",
    "\n",
    "XGBoost gives the best performance on the test set when using GloVe-embeddings. The LSTM-approach takes a lot longer to train, and it is therefore harder to conduct a decent hyperparameter search. The LSTM is the only approach that takes the order of the words into account, which could potentially give a better performance if optimized well.\n",
    "\n",
    "For comparison, the table below displays state-of-the-art models for the IMDB classification task. \n",
    "\n",
    "| Model |\tAccuracy (%) |\tPaper / Source|\n",
    "|:----- | ---------- | -------------- |  \n",
    "| XLNet (Yang et al., 2019) |\t__96.21__ |\tXLNet: Generalized Autoregressive Pretraining for Language Understanding|\n",
    "| BERT_large+ITPT (Sun et al., 2019) \t|95.79 |\tHow to Fine-Tune BERT for Text Classification?|\n",
    "| BERT_base+ITPT (Sun et al., 2019) |\t95.63 |\tHow to Fine-Tune BERT for Text Classification?|\n",
    "| ULMFiT (Howard and Ruder, 2018) |\t95.4 |\tUniversal Language Model Fine-tuning for Text Classification|\n",
    "| Block-sparse LSTM (Gray et al., 2017) |\t94.99 |\tGPU Kernels for Block-Sparse Weights|\n",
    "| oh-LSTM (Johnson and Zhang, 2016)| \t94.1| \tSupervised and Semi-Supervised Text Categorization using LSTM for Region Embeddings |\n",
    "| Virtual adversarial training (Miyato et al., 2016) |\t94.1 \t|Adversarial Training Methods for Semi-Supervised Text Classification |\n",
    "| BCN+Char+CoVe (McCann et al., 2017) |\t91.8 |\tLearned in Translation: Contextualized Word Vectors |\n",
    "\n"
   ]
  },
  {
   "cell_type": "code",
   "execution_count": null,
   "metadata": {},
   "outputs": [],
   "source": []
  },
  {
   "cell_type": "code",
   "execution_count": null,
   "metadata": {},
   "outputs": [],
   "source": []
  },
  {
   "cell_type": "code",
   "execution_count": null,
   "metadata": {},
   "outputs": [],
   "source": []
  },
  {
   "cell_type": "code",
   "execution_count": null,
   "metadata": {},
   "outputs": [],
   "source": []
  },
  {
   "cell_type": "code",
   "execution_count": null,
   "metadata": {},
   "outputs": [],
   "source": []
  },
  {
   "cell_type": "code",
   "execution_count": null,
   "metadata": {},
   "outputs": [],
   "source": []
  },
  {
   "cell_type": "code",
   "execution_count": null,
   "metadata": {},
   "outputs": [],
   "source": []
  }
 ],
 "metadata": {
  "kernelspec": {
   "display_name": "Python 3",
   "language": "python",
   "name": "python3"
  },
  "language_info": {
   "codemirror_mode": {
    "name": "ipython",
    "version": 3
   },
   "file_extension": ".py",
   "mimetype": "text/x-python",
   "name": "python",
   "nbconvert_exporter": "python",
   "pygments_lexer": "ipython3",
   "version": "3.6.10"
  }
 },
 "nbformat": 4,
 "nbformat_minor": 4
}
