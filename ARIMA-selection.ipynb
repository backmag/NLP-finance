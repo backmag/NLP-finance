{
 "cells": [
  {
   "cell_type": "code",
   "execution_count": 9,
   "metadata": {},
   "outputs": [],
   "source": [
    "import pandas as pd\n",
    "import numpy as np\n",
    "import os \n",
    "from pathlib import Path\n",
    "from statsmodels.graphics.tsaplots import plot_acf\n",
    "from datetime import datetime\n",
    "import matplotlib.pyplot as plt"
   ]
  },
  {
   "cell_type": "code",
   "execution_count": 2,
   "metadata": {},
   "outputs": [
    {
     "data": {
      "text/html": [
       "<div>\n",
       "<style scoped>\n",
       "    .dataframe tbody tr th:only-of-type {\n",
       "        vertical-align: middle;\n",
       "    }\n",
       "\n",
       "    .dataframe tbody tr th {\n",
       "        vertical-align: top;\n",
       "    }\n",
       "\n",
       "    .dataframe thead th {\n",
       "        text-align: right;\n",
       "    }\n",
       "</style>\n",
       "<table border=\"1\" class=\"dataframe\">\n",
       "  <thead>\n",
       "    <tr style=\"text-align: right;\">\n",
       "      <th></th>\n",
       "      <th>1 YEAR</th>\n",
       "      <th>3 YEAR</th>\n",
       "      <th>S&amp;P</th>\n",
       "    </tr>\n",
       "    <tr>\n",
       "      <th>Date</th>\n",
       "      <th></th>\n",
       "      <th></th>\n",
       "      <th></th>\n",
       "    </tr>\n",
       "  </thead>\n",
       "  <tbody>\n",
       "    <tr>\n",
       "      <td>1988-01-04</td>\n",
       "      <td>7.15</td>\n",
       "      <td>8.03</td>\n",
       "      <td>256.01</td>\n",
       "    </tr>\n",
       "    <tr>\n",
       "      <td>1988-01-05</td>\n",
       "      <td>7.11</td>\n",
       "      <td>7.99</td>\n",
       "      <td>258.77</td>\n",
       "    </tr>\n",
       "    <tr>\n",
       "      <td>1988-01-06</td>\n",
       "      <td>7.14</td>\n",
       "      <td>8.03</td>\n",
       "      <td>259.03</td>\n",
       "    </tr>\n",
       "    <tr>\n",
       "      <td>1988-01-07</td>\n",
       "      <td>7.13</td>\n",
       "      <td>8.03</td>\n",
       "      <td>261.21</td>\n",
       "    </tr>\n",
       "    <tr>\n",
       "      <td>1988-01-08</td>\n",
       "      <td>7.24</td>\n",
       "      <td>8.16</td>\n",
       "      <td>243.54</td>\n",
       "    </tr>\n",
       "  </tbody>\n",
       "</table>\n",
       "</div>"
      ],
      "text/plain": [
       "            1 YEAR  3 YEAR     S&P\n",
       "Date                              \n",
       "1988-01-04    7.15    8.03  256.01\n",
       "1988-01-05    7.11    7.99  258.77\n",
       "1988-01-06    7.14    8.03  259.03\n",
       "1988-01-07    7.13    8.03  261.21\n",
       "1988-01-08    7.24    8.16  243.54"
      ]
     },
     "execution_count": 2,
     "metadata": {},
     "output_type": "execute_result"
    }
   ],
   "source": [
    "# Load the 1-year and 3-year US treasury rates and the S&P-500 index\n",
    "raw_data = pd.read_pickle(Path(os.getcwd() + \"/Datasets/data/stock_data.pkl\"))\n",
    "raw_data.head()"
   ]
  },
  {
   "cell_type": "code",
   "execution_count": 3,
   "metadata": {},
   "outputs": [
    {
     "data": {
      "text/plain": [
       "<matplotlib.axes._subplots.AxesSubplot at 0x2b462e89588>"
      ]
     },
     "execution_count": 3,
     "metadata": {},
     "output_type": "execute_result"
    }
   ],
   "source": [
    "# Extract and take a look at the 1-year treasury log rate. \n",
    "oneyear_log = np.log(raw_data['1 YEAR'])\n",
    "oneyear_log.plot()"
   ]
  },
  {
   "cell_type": "code",
   "execution_count": 4,
   "metadata": {},
   "outputs": [
    {
     "data": {
      "image/png": "[encoded data removed]",
      "text/plain": [
       "<Figure size 432x288 with 1 Axes>"
      ]
     },
     "metadata": {
      "needs_background": "light"
     },
     "output_type": "display_data"
    },
    {
     "data": {
      "image/png": "[encoded data removed]",
      "text/plain": [
       "<Figure size 432x288 with 1 Axes>"
      ]
     },
     "metadata": {
      "needs_background": "light"
     },
     "output_type": "display_data"
    }
   ],
   "source": [
    "# Try taking the integration of order 1 of the log-rates to obtain stationarity. \n",
    "oneyear_log_diff = oneyear_log.diff(periods=1)\n",
    "# Remove first value since it's NaN\n",
    "oneyear_log_diff = oneyear_log_diff[1:]\n",
    "oneyear_log_diff.plot()\n",
    "plot_acf(oneyear_log_diff)\n",
    "# plot_acf apparantly displays two graphs if put on the last line, \n",
    "# the line below is just so we only get one display. \n",
    "a = 0"
   ]
  },
  {
   "cell_type": "markdown",
   "metadata": {},
   "source": [
    "When taking a time difference of order one, it seems like we can assume stationarity. Let's now try modelling on one year of data and test on three months."
   ]
  },
  {
   "cell_type": "code",
   "execution_count": 5,
   "metadata": {},
   "outputs": [
    {
     "name": "stdout",
     "output_type": "stream",
     "text": [
      "Training samples: 260\n",
      "Test samples: 65\n"
     ]
    }
   ],
   "source": [
    "start_date_train = datetime(2010,1,1)\n",
    "end_date_train = datetime(2011,1,1)\n",
    "end_date_test = datetime(2011,4,1)\n",
    "train = oneyear_log[(oneyear_log.index > start_date_train) & (oneyear_log.index <= end_date_train)]\n",
    "test = oneyear_log[(oneyear_log.index > end_date_train) & (oneyear_log.index <= end_date_test)]\n",
    "print(f\"Training samples: {train.size}\")\n",
    "print(f\"Test samples: {test.size}\")"
   ]
  },
  {
   "cell_type": "markdown",
   "metadata": {},
   "source": [
    "#### Simple AR-model on the original data"
   ]
  },
  {
   "cell_type": "code",
   "execution_count": 21,
   "metadata": {
    "scrolled": true
   },
   "outputs": [
    {
     "name": "stderr",
     "output_type": "stream",
     "text": [
      "C:\\ProgramData\\Anaconda3\\lib\\site-packages\\statsmodels\\tsa\\base\\tsa_model.py:165: ValueWarning: No frequency information was provided, so inferred frequency B will be used.\n",
      "  % freq, ValueWarning)\n"
     ]
    }
   ],
   "source": [
    "from statsmodels.tsa.ar_model import AR\n",
    "from sklearn.metrics import mean_squared_error\n",
    "model_ar = AR(train)\n",
    "model_ar_fit = model_ar.fit()"
   ]
  },
  {
   "cell_type": "code",
   "execution_count": 44,
   "metadata": {},
   "outputs": [
    {
     "data": {
      "text/plain": [
       "[<matplotlib.lines.Line2D at 0x2b469c2be48>]"
      ]
     },
     "execution_count": 44,
     "metadata": {},
     "output_type": "execute_result"
    },
    {
     "data": {
      "image/png": "[encoded data removed]",
      "text/plain": [
       "<Figure size 432x288 with 1 Axes>"
      ]
     },
     "metadata": {
      "needs_background": "light"
     },
     "output_type": "display_data"
    }
   ],
   "source": [
    "predictions_ar = model_ar_fit.predict(start=260, end=280)\n",
    "plt.plot(test[:21],color=\"blue\")\n",
    "plt.plot(predictions_ar,color=\"red\")"
   ]
  },
  {
   "cell_type": "markdown",
   "metadata": {},
   "source": [
    "Not too good. Trying the ARIMA-model. \n",
    "#### ARIMA model \n"
   ]
  },
  {
   "cell_type": "code",
   "execution_count": 47,
   "metadata": {},
   "outputs": [
    {
     "name": "stderr",
     "output_type": "stream",
     "text": [
      "C:\\ProgramData\\Anaconda3\\lib\\site-packages\\statsmodels\\tsa\\base\\tsa_model.py:165: ValueWarning: No frequency information was provided, so inferred frequency B will be used.\n",
      "  % freq, ValueWarning)\n",
      "C:\\ProgramData\\Anaconda3\\lib\\site-packages\\statsmodels\\tsa\\base\\tsa_model.py:165: ValueWarning: No frequency information was provided, so inferred frequency B will be used.\n",
      "  % freq, ValueWarning)\n"
     ]
    }
   ],
   "source": [
    "from statsmodels.tsa.arima_model import ARIMA\n",
    "# Need to specify p, d and q. \n",
    "p = 1 # Order\n",
    "d = 1 # Integrated order, i.e. how many timesteps differencing\n",
    "q = 1 # Moving average periods \n",
    "model_arima = ARIMA(train, order=(p,d,q))\n",
    "model_arima_fit = model_arima.fit()"
   ]
  },
  {
   "cell_type": "code",
   "execution_count": 54,
   "metadata": {
    "scrolled": true
   },
   "outputs": [
    {
     "data": {
      "text/plain": [
       "[<matplotlib.lines.Line2D at 0x2b46aa60f48>]"
      ]
     },
     "execution_count": 54,
     "metadata": {},
     "output_type": "execute_result"
    },
    {
     "data": {
      "image/png": "[encoded data removed]",
      "text/plain": [
       "<Figure size 432x288 with 1 Axes>"
      ]
     },
     "metadata": {
      "needs_background": "light"
     },
     "output_type": "display_data"
    }
   ],
   "source": [
    "predictions_arima = model_arima_fit.forecast(steps=9)\n",
    "plt.plot(test[:9],color=\"blue\")\n",
    "#plt.plot(predictions_arima[0],color=\"red\")\n"
   ]
  },
  {
   "cell_type": "code",
   "execution_count": null,
   "metadata": {},
   "outputs": [],
   "source": []
  }
 ],
 "metadata": {
  "kernelspec": {
   "display_name": "Python 3",
   "language": "python",
   "name": "python3"
  },
  "language_info": {
   "codemirror_mode": {
    "name": "ipython",
    "version": 3
   },
   "file_extension": ".py",
   "mimetype": "text/x-python",
   "name": "python",
   "nbconvert_exporter": "python",
   "pygments_lexer": "ipython3",
   "version": "3.7.4"
  }
 },
 "nbformat": 4,
 "nbformat_minor": 2
}
