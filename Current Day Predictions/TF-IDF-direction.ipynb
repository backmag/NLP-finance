{
 "cells": [
  {
   "cell_type": "code",
   "execution_count": 1,
   "metadata": {},
   "outputs": [],
   "source": [
    "from sklearn.feature_extraction.text import TfidfTransformer, CountVectorizer\n",
    "from sklearn.metrics import classification_report, plot_confusion_matrix, confusion_matrix, f1_score\n",
    "from sklearn.linear_model import LogisticRegression\n",
    "from sklearn.ensemble import RandomForestClassifier\n",
    "from sklearn.model_selection import GridSearchCV\n",
    "from sklearn.dummy import DummyClassifier\n",
    "from tensorflow.keras.models import Sequential\n",
    "from tensorflow.keras.layers import Dense, Dropout, Flatten\n",
    "from tensorflow.keras.optimizers import RMSprop\n",
    "from tensorflow.keras.callbacks import EarlyStopping\n",
    "from tensorflow.keras.wrappers.scikit_learn import KerasClassifier\n",
    "import numpy as np\n",
    "import pandas as pd\n",
    "import seaborn as sn\n",
    "from datetime import datetime\n",
    "from pathlib import Path\n",
    "import matplotlib.pyplot as plt\n",
    "from xgboost import XGBClassifier\n",
    "from collections import deque"
   ]
  },
  {
   "cell_type": "markdown",
   "metadata": {},
   "source": [
    "## Load Data\n",
    "First, we load and format the news data and the financial data. The data is formatted so each entry in the financial data is kept as is, but the news data is concatenated to the indices in the financial data. The titles in the news data are concatenated to one string for every data point. "
   ]
  },
  {
   "cell_type": "code",
   "execution_count": 2,
   "metadata": {},
   "outputs": [
    {
     "data": {
      "text/html": [
       "<div>\n",
       "<style scoped>\n",
       "    .dataframe tbody tr th:only-of-type {\n",
       "        vertical-align: middle;\n",
       "    }\n",
       "\n",
       "    .dataframe tbody tr th {\n",
       "        vertical-align: top;\n",
       "    }\n",
       "\n",
       "    .dataframe thead th {\n",
       "        text-align: right;\n",
       "    }\n",
       "</style>\n",
       "<table border=\"1\" class=\"dataframe\">\n",
       "  <thead>\n",
       "    <tr style=\"text-align: right;\">\n",
       "      <th></th>\n",
       "      <th>title</th>\n",
       "    </tr>\n",
       "    <tr>\n",
       "      <th>date</th>\n",
       "      <th></th>\n",
       "    </tr>\n",
       "  </thead>\n",
       "  <tbody>\n",
       "    <tr>\n",
       "      <th>2006-10-20</th>\n",
       "      <td>Exxon Mobil offers plan to end Alaska dispute</td>\n",
       "    </tr>\n",
       "    <tr>\n",
       "      <th>2006-10-20</th>\n",
       "      <td>Hey buddy, can you spare $600 for a Google share?</td>\n",
       "    </tr>\n",
       "    <tr>\n",
       "      <th>2006-10-21</th>\n",
       "      <td>AOL CEO says sales may shrink for two years -p...</td>\n",
       "    </tr>\n",
       "    <tr>\n",
       "      <th>2006-10-22</th>\n",
       "      <td>Fed to keep hawkish tone, hold rates steady</td>\n",
       "    </tr>\n",
       "    <tr>\n",
       "      <th>2006-10-21</th>\n",
       "      <td>Pluspetrol says losing $2.4 mln/day in Peru pr...</td>\n",
       "    </tr>\n",
       "    <tr>\n",
       "      <th>...</th>\n",
       "      <td>...</td>\n",
       "    </tr>\n",
       "    <tr>\n",
       "      <th>2013-11-19</th>\n",
       "      <td>JPMorgan agrees $13 billion settlement with U....</td>\n",
       "    </tr>\n",
       "    <tr>\n",
       "      <th>2013-11-19</th>\n",
       "      <td>Dow, S&amp;P retreat for second day; Best Buy weighs</td>\n",
       "    </tr>\n",
       "    <tr>\n",
       "      <th>2013-11-19</th>\n",
       "      <td>Bernanke: looking forward to writing, speaking...</td>\n",
       "    </tr>\n",
       "    <tr>\n",
       "      <th>2013-11-19</th>\n",
       "      <td>Bernanke: Fed committed to easy policy for as ...</td>\n",
       "    </tr>\n",
       "    <tr>\n",
       "      <th>2013-11-19</th>\n",
       "      <td>Analysis: U.S. retailers brace for margin hit ...</td>\n",
       "    </tr>\n",
       "  </tbody>\n",
       "</table>\n",
       "<p>106494 rows × 1 columns</p>\n",
       "</div>"
      ],
      "text/plain": [
       "                                                        title\n",
       "date                                                         \n",
       "2006-10-20      Exxon Mobil offers plan to end Alaska dispute\n",
       "2006-10-20  Hey buddy, can you spare $600 for a Google share?\n",
       "2006-10-21  AOL CEO says sales may shrink for two years -p...\n",
       "2006-10-22        Fed to keep hawkish tone, hold rates steady\n",
       "2006-10-21  Pluspetrol says losing $2.4 mln/day in Peru pr...\n",
       "...                                                       ...\n",
       "2013-11-19  JPMorgan agrees $13 billion settlement with U....\n",
       "2013-11-19   Dow, S&P retreat for second day; Best Buy weighs\n",
       "2013-11-19  Bernanke: looking forward to writing, speaking...\n",
       "2013-11-19  Bernanke: Fed committed to easy policy for as ...\n",
       "2013-11-19  Analysis: U.S. retailers brace for margin hit ...\n",
       "\n",
       "[106494 rows x 1 columns]"
      ]
     },
     "execution_count": 2,
     "metadata": {},
     "output_type": "execute_result"
    }
   ],
   "source": [
    "# Path to the data-folder, files too large for git. \n",
    "ONEDRIVE_PATH = Path(r\"C:\\Users\\gusta\\Kidbrooke Advisory Ab\\KidbrookeOneDrive - Gustaf Backman exjobb\")\n",
    "\n",
    "news_path = ONEDRIVE_PATH / \"Input Data/financial_headlines_20061020-20131119.pkl\"\n",
    "news_data = pd.DataFrame(pd.read_pickle(news_path))\n",
    "news_data.set_index('date',inplace=True)\n",
    "news_data"
   ]
  },
  {
   "cell_type": "code",
   "execution_count": 3,
   "metadata": {},
   "outputs": [],
   "source": [
    "# Read the financial data \n",
    "fin_path = ONEDRIVE_PATH / \"Input Data/stock_data.pkl\"\n",
    "fin_data = pd.read_pickle(fin_path)\n",
    "fin_data = fin_data.loc['2006-10-19' : '2013-11-22']"
   ]
  },
  {
   "cell_type": "code",
   "execution_count": 5,
   "metadata": {},
   "outputs": [
    {
     "data": {
      "text/html": [
       "<div>\n",
       "<style scoped>\n",
       "    .dataframe tbody tr th:only-of-type {\n",
       "        vertical-align: middle;\n",
       "    }\n",
       "\n",
       "    .dataframe tbody tr th {\n",
       "        vertical-align: top;\n",
       "    }\n",
       "\n",
       "    .dataframe thead th {\n",
       "        text-align: right;\n",
       "    }\n",
       "</style>\n",
       "<table border=\"1\" class=\"dataframe\">\n",
       "  <thead>\n",
       "    <tr style=\"text-align: right;\">\n",
       "      <th></th>\n",
       "      <th>title</th>\n",
       "    </tr>\n",
       "    <tr>\n",
       "      <th>date</th>\n",
       "      <th></th>\n",
       "    </tr>\n",
       "  </thead>\n",
       "  <tbody>\n",
       "    <tr>\n",
       "      <th>2006-10-20</th>\n",
       "      <td>Exxon Mobil offers plan to end Alaska dispute ...</td>\n",
       "    </tr>\n",
       "    <tr>\n",
       "      <th>2006-10-21</th>\n",
       "      <td>AOL CEO says sales may shrink for two years -p...</td>\n",
       "    </tr>\n",
       "    <tr>\n",
       "      <th>2006-10-22</th>\n",
       "      <td>Fed to keep hawkish tone, hold rates steady EU...</td>\n",
       "    </tr>\n",
       "    <tr>\n",
       "      <th>2006-10-23</th>\n",
       "      <td>DaimlerChrysler talks to 2 firms on small car:...</td>\n",
       "    </tr>\n",
       "    <tr>\n",
       "      <th>2006-10-24</th>\n",
       "      <td>Options scandal hits 153 companies: US study J...</td>\n",
       "    </tr>\n",
       "    <tr>\n",
       "      <th>...</th>\n",
       "      <td>...</td>\n",
       "    </tr>\n",
       "    <tr>\n",
       "      <th>2013-11-15</th>\n",
       "      <td>Big Retailer is watching you: stores seek to m...</td>\n",
       "    </tr>\n",
       "    <tr>\n",
       "      <th>2013-11-16</th>\n",
       "      <td>Boeing says no plans to reopen union talks on ...</td>\n",
       "    </tr>\n",
       "    <tr>\n",
       "      <th>2013-11-17</th>\n",
       "      <td>Boeing launches new 777 with 259 orders Emirat...</td>\n",
       "    </tr>\n",
       "    <tr>\n",
       "      <th>2013-11-18</th>\n",
       "      <td>Google, Microsoft tighten online searches to c...</td>\n",
       "    </tr>\n",
       "    <tr>\n",
       "      <th>2013-11-19</th>\n",
       "      <td>Air Algerie orders three Airbus passenger airc...</td>\n",
       "    </tr>\n",
       "  </tbody>\n",
       "</table>\n",
       "<p>2582 rows × 1 columns</p>\n",
       "</div>"
      ],
      "text/plain": [
       "                                                        title\n",
       "date                                                         \n",
       "2006-10-20  Exxon Mobil offers plan to end Alaska dispute ...\n",
       "2006-10-21  AOL CEO says sales may shrink for two years -p...\n",
       "2006-10-22  Fed to keep hawkish tone, hold rates steady EU...\n",
       "2006-10-23  DaimlerChrysler talks to 2 firms on small car:...\n",
       "2006-10-24  Options scandal hits 153 companies: US study J...\n",
       "...                                                       ...\n",
       "2013-11-15  Big Retailer is watching you: stores seek to m...\n",
       "2013-11-16  Boeing says no plans to reopen union talks on ...\n",
       "2013-11-17  Boeing launches new 777 with 259 orders Emirat...\n",
       "2013-11-18  Google, Microsoft tighten online searches to c...\n",
       "2013-11-19  Air Algerie orders three Airbus passenger airc...\n",
       "\n",
       "[2582 rows x 1 columns]"
      ]
     },
     "execution_count": 5,
     "metadata": {},
     "output_type": "execute_result"
    }
   ],
   "source": [
    "concat_news = pd.DataFrame()\n",
    "for date in news_data.index.drop_duplicates():\n",
    "    temp_titles = \"\"\n",
    "    for title in news_data.loc[date]['title']: \n",
    "        temp_titles += title + \" \"\n",
    "    concat_news = concat_news.append({'date':date, 'title':temp_titles},ignore_index=True)\n",
    "concat_news.set_index('date',inplace=True)\n",
    "concat_news"
   ]
  },
  {
   "cell_type": "code",
   "execution_count": 32,
   "metadata": {},
   "outputs": [
    {
     "data": {
      "text/html": [
       "<div>\n",
       "<style scoped>\n",
       "    .dataframe tbody tr th:only-of-type {\n",
       "        vertical-align: middle;\n",
       "    }\n",
       "\n",
       "    .dataframe tbody tr th {\n",
       "        vertical-align: top;\n",
       "    }\n",
       "\n",
       "    .dataframe thead th {\n",
       "        text-align: right;\n",
       "    }\n",
       "</style>\n",
       "<table border=\"1\" class=\"dataframe\">\n",
       "  <thead>\n",
       "    <tr style=\"text-align: right;\">\n",
       "      <th></th>\n",
       "      <th>1 YEAR</th>\n",
       "      <th>3 YEAR</th>\n",
       "      <th>S&amp;P</th>\n",
       "    </tr>\n",
       "    <tr>\n",
       "      <th>date</th>\n",
       "      <th></th>\n",
       "      <th></th>\n",
       "      <th></th>\n",
       "    </tr>\n",
       "  </thead>\n",
       "  <tbody>\n",
       "    <tr>\n",
       "      <th>2006-10-20</th>\n",
       "      <td>5.05</td>\n",
       "      <td>4.80</td>\n",
       "      <td>2100.86</td>\n",
       "    </tr>\n",
       "    <tr>\n",
       "      <th>2006-10-23</th>\n",
       "      <td>5.09</td>\n",
       "      <td>4.84</td>\n",
       "      <td>2113.82</td>\n",
       "    </tr>\n",
       "    <tr>\n",
       "      <th>2006-10-24</th>\n",
       "      <td>5.10</td>\n",
       "      <td>4.84</td>\n",
       "      <td>2114.36</td>\n",
       "    </tr>\n",
       "    <tr>\n",
       "      <th>2006-10-25</th>\n",
       "      <td>5.08</td>\n",
       "      <td>4.79</td>\n",
       "      <td>2121.83</td>\n",
       "    </tr>\n",
       "    <tr>\n",
       "      <th>2006-10-26</th>\n",
       "      <td>5.06</td>\n",
       "      <td>4.74</td>\n",
       "      <td>2132.39</td>\n",
       "    </tr>\n",
       "    <tr>\n",
       "      <th>...</th>\n",
       "      <td>...</td>\n",
       "      <td>...</td>\n",
       "      <td>...</td>\n",
       "    </tr>\n",
       "    <tr>\n",
       "      <th>2013-11-13</th>\n",
       "      <td>0.13</td>\n",
       "      <td>0.61</td>\n",
       "      <td>3187.64</td>\n",
       "    </tr>\n",
       "    <tr>\n",
       "      <th>2013-11-14</th>\n",
       "      <td>0.13</td>\n",
       "      <td>0.56</td>\n",
       "      <td>3203.65</td>\n",
       "    </tr>\n",
       "    <tr>\n",
       "      <th>2013-11-15</th>\n",
       "      <td>0.13</td>\n",
       "      <td>0.58</td>\n",
       "      <td>3217.20</td>\n",
       "    </tr>\n",
       "    <tr>\n",
       "      <th>2013-11-18</th>\n",
       "      <td>0.13</td>\n",
       "      <td>0.56</td>\n",
       "      <td>3205.46</td>\n",
       "    </tr>\n",
       "    <tr>\n",
       "      <th>2013-11-19</th>\n",
       "      <td>0.14</td>\n",
       "      <td>0.58</td>\n",
       "      <td>3199.51</td>\n",
       "    </tr>\n",
       "  </tbody>\n",
       "</table>\n",
       "<p>1846 rows × 3 columns</p>\n",
       "</div>"
      ],
      "text/plain": [
       "            1 YEAR  3 YEAR      S&P\n",
       "date                               \n",
       "2006-10-20    5.05    4.80  2100.86\n",
       "2006-10-23    5.09    4.84  2113.82\n",
       "2006-10-24    5.10    4.84  2114.36\n",
       "2006-10-25    5.08    4.79  2121.83\n",
       "2006-10-26    5.06    4.74  2132.39\n",
       "...            ...     ...      ...\n",
       "2013-11-13    0.13    0.61  3187.64\n",
       "2013-11-14    0.13    0.56  3203.65\n",
       "2013-11-15    0.13    0.58  3217.20\n",
       "2013-11-18    0.13    0.56  3205.46\n",
       "2013-11-19    0.14    0.58  3199.51\n",
       "\n",
       "[1846 rows x 3 columns]"
      ]
     },
     "execution_count": 32,
     "metadata": {},
     "output_type": "execute_result"
    }
   ],
   "source": [
    "# Find dates which there are news data and financial data for, and then determine if the index has gone up/down until that day\n",
    "news_dates = concat_news.index.drop_duplicates()\n",
    "valid_dates = np.arange(len(news_dates))[[date in fin_data.index for date in news_dates]]\n",
    "fin_data.loc[news_dates[valid_dates]]"
   ]
  },
  {
   "cell_type": "code",
   "execution_count": 10,
   "metadata": {},
   "outputs": [
    {
     "data": {
      "text/html": [
       "<div>\n",
       "<style scoped>\n",
       "    .dataframe tbody tr th:only-of-type {\n",
       "        vertical-align: middle;\n",
       "    }\n",
       "\n",
       "    .dataframe tbody tr th {\n",
       "        vertical-align: top;\n",
       "    }\n",
       "\n",
       "    .dataframe thead th {\n",
       "        text-align: right;\n",
       "    }\n",
       "</style>\n",
       "<table border=\"1\" class=\"dataframe\">\n",
       "  <thead>\n",
       "    <tr style=\"text-align: right;\">\n",
       "      <th></th>\n",
       "      <th>1 YEAR</th>\n",
       "      <th>3 YEAR</th>\n",
       "      <th>S&amp;P</th>\n",
       "    </tr>\n",
       "    <tr>\n",
       "      <th>Date</th>\n",
       "      <th></th>\n",
       "      <th></th>\n",
       "      <th></th>\n",
       "    </tr>\n",
       "  </thead>\n",
       "  <tbody>\n",
       "    <tr>\n",
       "      <th>2006-10-19</th>\n",
       "      <td>0.986111</td>\n",
       "      <td>0.929897</td>\n",
       "      <td>0.469810</td>\n",
       "    </tr>\n",
       "    <tr>\n",
       "      <th>2006-10-20</th>\n",
       "      <td>0.986111</td>\n",
       "      <td>0.931959</td>\n",
       "      <td>0.471000</td>\n",
       "    </tr>\n",
       "    <tr>\n",
       "      <th>2006-10-23</th>\n",
       "      <td>0.994048</td>\n",
       "      <td>0.940206</td>\n",
       "      <td>0.477069</td>\n",
       "    </tr>\n",
       "    <tr>\n",
       "      <th>2006-10-24</th>\n",
       "      <td>0.996032</td>\n",
       "      <td>0.940206</td>\n",
       "      <td>0.477321</td>\n",
       "    </tr>\n",
       "    <tr>\n",
       "      <th>2006-10-25</th>\n",
       "      <td>0.992063</td>\n",
       "      <td>0.929897</td>\n",
       "      <td>0.480819</td>\n",
       "    </tr>\n",
       "    <tr>\n",
       "      <th>...</th>\n",
       "      <td>...</td>\n",
       "      <td>...</td>\n",
       "      <td>...</td>\n",
       "    </tr>\n",
       "    <tr>\n",
       "      <th>2013-11-18</th>\n",
       "      <td>0.009921</td>\n",
       "      <td>0.057732</td>\n",
       "      <td>0.988256</td>\n",
       "    </tr>\n",
       "    <tr>\n",
       "      <th>2013-11-19</th>\n",
       "      <td>0.011905</td>\n",
       "      <td>0.061856</td>\n",
       "      <td>0.985469</td>\n",
       "    </tr>\n",
       "    <tr>\n",
       "      <th>2013-11-20</th>\n",
       "      <td>0.007937</td>\n",
       "      <td>0.059794</td>\n",
       "      <td>0.980098</td>\n",
       "    </tr>\n",
       "    <tr>\n",
       "      <th>2013-11-21</th>\n",
       "      <td>0.007937</td>\n",
       "      <td>0.055670</td>\n",
       "      <td>0.992330</td>\n",
       "    </tr>\n",
       "    <tr>\n",
       "      <th>2013-11-22</th>\n",
       "      <td>0.007937</td>\n",
       "      <td>0.059794</td>\n",
       "      <td>1.000000</td>\n",
       "    </tr>\n",
       "  </tbody>\n",
       "</table>\n",
       "<p>1852 rows × 3 columns</p>\n",
       "</div>"
      ],
      "text/plain": [
       "              1 YEAR    3 YEAR       S&P\n",
       "Date                                    \n",
       "2006-10-19  0.986111  0.929897  0.469810\n",
       "2006-10-20  0.986111  0.931959  0.471000\n",
       "2006-10-23  0.994048  0.940206  0.477069\n",
       "2006-10-24  0.996032  0.940206  0.477321\n",
       "2006-10-25  0.992063  0.929897  0.480819\n",
       "...              ...       ...       ...\n",
       "2013-11-18  0.009921  0.057732  0.988256\n",
       "2013-11-19  0.011905  0.061856  0.985469\n",
       "2013-11-20  0.007937  0.059794  0.980098\n",
       "2013-11-21  0.007937  0.055670  0.992330\n",
       "2013-11-22  0.007937  0.059794  1.000000\n",
       "\n",
       "[1852 rows x 3 columns]"
      ]
     },
     "execution_count": 10,
     "metadata": {},
     "output_type": "execute_result"
    }
   ],
   "source": [
    "# Normalize the financial data to [0,1]\n",
    "fin_data_norm = pd.DataFrame(columns=fin_data.columns) \n",
    "fin_stats = pd.DataFrame(columns=['min', 'max'],index=fin_data.columns)\n",
    "for col in fin_data.columns:\n",
    "    fin_stats.loc[col]['min'] = np.min(fin_data[col])\n",
    "    fin_stats.loc[col]['max'] = np.max(fin_data[col])\n",
    "    \n",
    "for i in range(len(fin_data)): \n",
    "    temp_series = {}\n",
    "    for col in fin_data.columns:\n",
    "        temp_series.update({col: (fin_data.iloc[i][col] - fin_stats.loc[col]['min']) / (fin_stats.loc[col]['max'] - fin_stats.loc[col]['min'])})\n",
    "    fin_data_norm = fin_data_norm.append(temp_series,ignore_index=True)\n",
    "fin_data_norm.index = fin_data.index\n",
    "fin_data_norm"
   ]
  },
  {
   "cell_type": "code",
   "execution_count": 11,
   "metadata": {},
   "outputs": [
    {
     "data": {
      "text/html": [
       "<div>\n",
       "<style scoped>\n",
       "    .dataframe tbody tr th:only-of-type {\n",
       "        vertical-align: middle;\n",
       "    }\n",
       "\n",
       "    .dataframe tbody tr th {\n",
       "        vertical-align: top;\n",
       "    }\n",
       "\n",
       "    .dataframe thead th {\n",
       "        text-align: right;\n",
       "    }\n",
       "</style>\n",
       "<table border=\"1\" class=\"dataframe\">\n",
       "  <thead>\n",
       "    <tr style=\"text-align: right;\">\n",
       "      <th></th>\n",
       "      <th>title</th>\n",
       "    </tr>\n",
       "    <tr>\n",
       "      <th>date</th>\n",
       "      <th></th>\n",
       "    </tr>\n",
       "  </thead>\n",
       "  <tbody>\n",
       "    <tr>\n",
       "      <th>2006-10-20</th>\n",
       "      <td>Exxon Mobil offers plan to end Alaska dispute ...</td>\n",
       "    </tr>\n",
       "    <tr>\n",
       "      <th>2006-10-21</th>\n",
       "      <td>AOL CEO says sales may shrink for two years -p...</td>\n",
       "    </tr>\n",
       "    <tr>\n",
       "      <th>2006-10-22</th>\n",
       "      <td>Fed to keep hawkish tone, hold rates steady EU...</td>\n",
       "    </tr>\n",
       "    <tr>\n",
       "      <th>2006-10-23</th>\n",
       "      <td>DaimlerChrysler talks to 2 firms on small car:...</td>\n",
       "    </tr>\n",
       "    <tr>\n",
       "      <th>2006-10-24</th>\n",
       "      <td>Options scandal hits 153 companies: US study J...</td>\n",
       "    </tr>\n",
       "    <tr>\n",
       "      <th>...</th>\n",
       "      <td>...</td>\n",
       "    </tr>\n",
       "    <tr>\n",
       "      <th>2013-11-15</th>\n",
       "      <td>Big Retailer is watching you: stores seek to m...</td>\n",
       "    </tr>\n",
       "    <tr>\n",
       "      <th>2013-11-16</th>\n",
       "      <td>Boeing says no plans to reopen union talks on ...</td>\n",
       "    </tr>\n",
       "    <tr>\n",
       "      <th>2013-11-17</th>\n",
       "      <td>Boeing launches new 777 with 259 orders Emirat...</td>\n",
       "    </tr>\n",
       "    <tr>\n",
       "      <th>2013-11-18</th>\n",
       "      <td>Google, Microsoft tighten online searches to c...</td>\n",
       "    </tr>\n",
       "    <tr>\n",
       "      <th>2013-11-19</th>\n",
       "      <td>Air Algerie orders three Airbus passenger airc...</td>\n",
       "    </tr>\n",
       "  </tbody>\n",
       "</table>\n",
       "<p>2582 rows × 1 columns</p>\n",
       "</div>"
      ],
      "text/plain": [
       "                                                        title\n",
       "date                                                         \n",
       "2006-10-20  Exxon Mobil offers plan to end Alaska dispute ...\n",
       "2006-10-21  AOL CEO says sales may shrink for two years -p...\n",
       "2006-10-22  Fed to keep hawkish tone, hold rates steady EU...\n",
       "2006-10-23  DaimlerChrysler talks to 2 firms on small car:...\n",
       "2006-10-24  Options scandal hits 153 companies: US study J...\n",
       "...                                                       ...\n",
       "2013-11-15  Big Retailer is watching you: stores seek to m...\n",
       "2013-11-16  Boeing says no plans to reopen union talks on ...\n",
       "2013-11-17  Boeing launches new 777 with 259 orders Emirat...\n",
       "2013-11-18  Google, Microsoft tighten online searches to c...\n",
       "2013-11-19  Air Algerie orders three Airbus passenger airc...\n",
       "\n",
       "[2582 rows x 1 columns]"
      ]
     },
     "execution_count": 11,
     "metadata": {},
     "output_type": "execute_result"
    }
   ],
   "source": [
    "concat_news = pd.DataFrame()\n",
    "for date in news_data.index.drop_duplicates():\n",
    "    temp_titles = \"\"\n",
    "    for title in news_data.loc[date]['title']: \n",
    "        temp_titles += title + \" \"\n",
    "    concat_news = concat_news.append({'date':date, 'title':temp_titles},ignore_index=True)\n",
    "concat_news.set_index('date',inplace=True)\n",
    "concat_news"
   ]
  },
  {
   "cell_type": "code",
   "execution_count": 12,
   "metadata": {},
   "outputs": [],
   "source": [
    "# Concatenate the news title up to the day in the financial index. \n",
    "data = pd.DataFrame(columns=['title'],index=['date'])\n",
    "temp_titles = \"\"\n",
    "for date in concat_news.index:\n",
    "    temp_titles += concat_news.loc[date]['title'] + \" \"\n",
    "    if date in fin_data_norm.index: \n",
    "        data = data.append({'date':date, 'title':temp_titles}, ignore_index=True)\n",
    "        temp_titles = \"\"\n",
    "data.set_index('date', inplace=True)\n",
    "data = data.drop(data.index[0])"
   ]
  },
  {
   "cell_type": "markdown",
   "metadata": {},
   "source": [
    "## Vectorize the data \n",
    "'CountVectorizer' from the sklearn-library is used to vectorize the data into frequency-vectors, i.e. how many times each word occurs in every day. The frequency matrix is then used as input to a Tfidf-vectorizer, which normalizes the vectors based on term vs document frequency."
   ]
  },
  {
   "cell_type": "code",
   "execution_count": 13,
   "metadata": {},
   "outputs": [
    {
     "name": "stdout",
     "output_type": "stream",
     "text": [
      "Number of samples: 1846\n",
      "Size of the vocabulary: 23571\n",
      "Represantation of row 0:\n",
      "Word        Index\n",
      "600       575\n",
      "alaska       1403\n",
      "buddy       3577\n",
      "can       3852\n",
      "dispute       6633\n",
      "end       7475\n",
      "exxon       8029\n",
      "for       8672\n",
      "google       9434\n",
      "hey       10120\n",
      "mobil       13603\n",
      "offers       14562\n",
      "plan       15728\n",
      "share       18878\n",
      "spare       19683\n",
      "to       21324\n",
      "you       23465\n"
     ]
    }
   ],
   "source": [
    "# Create a matrix with the frequency of a word in each day.\n",
    "count_vec = CountVectorizer()\n",
    "count_vec.fit(data['title'])\n",
    "x_count = count_vec.transform(data['title'])\n",
    "print('Number of samples:',x_count.shape[0])\n",
    "print('Size of the vocabulary:',x_count.shape[1])\n",
    "print('Represantation of row 0:')\n",
    "indices = np.where(x_count[0].todense() != 0)[1]\n",
    "print(\"Word        Index\")\n",
    "for i in indices:\n",
    "    print(count_vec.get_feature_names()[i],\"     \",i)"
   ]
  },
  {
   "cell_type": "code",
   "execution_count": 14,
   "metadata": {},
   "outputs": [
    {
     "name": "stdout",
     "output_type": "stream",
     "text": [
      "Number of samples: 1846\n",
      "Size of the vocabulary: 23571\n",
      "Representation of row 0:\n",
      "Word      Value\n",
      "600       0.23128611217246556\n",
      "alaska       0.28466900768609965\n",
      "buddy       0.41131744879090604\n",
      "can       0.14778686826531356\n",
      "dispute       0.20252761916821657\n",
      "end       0.12276537461564675\n",
      "exxon       0.2007720710541982\n",
      "for       0.060483275600373795\n",
      "google       0.13225041938075813\n",
      "hey       0.4417160509489998\n",
      "mobil       0.3205037223791542\n",
      "offers       0.16457599923731622\n",
      "plan       0.09938755586688157\n",
      "share       0.14850126778512673\n",
      "spare       0.34209978023216314\n",
      "to       0.05957323851633483\n",
      "you       0.28190065899355005\n"
     ]
    }
   ],
   "source": [
    "# Create a matrix with the frequency of a word in each day.\n",
    "tfidf_vec = TfidfTransformer()\n",
    "tfidf_vec.fit(x_count)\n",
    "x_tfidf = tfidf_vec.transform(x_count)\n",
    "print('Number of samples:',x_tfidf.shape[0])\n",
    "print('Size of the vocabulary:',x_tfidf.shape[1])\n",
    "print('Representation of row 0:')\n",
    "indices = np.where(x_tfidf[0].todense() != 0)[1]\n",
    "print(\"Word      Value\")\n",
    "for i in indices: \n",
    "    print(count_vec.get_feature_names()[i],\"     \",x_tfidf[0,i])"
   ]
  },
  {
   "cell_type": "markdown",
   "metadata": {},
   "source": [
    "## Synchronize the data\n",
    "We have prepared the news data with TF-IDF and normalized the financial data. We'll now create labels as the direction of the price change from the previous day. If the price today is higher, y = 1. If it is equal or lower, y = 0."
   ]
  },
  {
   "cell_type": "code",
   "execution_count": 15,
   "metadata": {},
   "outputs": [],
   "source": [
    "series = 'S&P'\n",
    "y_binary = np.zeros(x_tfidf.shape[0])\n",
    "for i in range(len(y_binary)): \n",
    "    if i < len(data) - 1:\n",
    "        if fin_data_norm.loc[data.index[i]][series] < fin_data_norm.loc[data.index[i+1]][series]: \n",
    "            y_binary[i] = 1\n",
    "        else: \n",
    "            y_binary[i] = 0\n",
    "    else: \n",
    "        fin_idx = np.where(fin_data_norm.index == data.index[-1])[0][0]\n",
    "        if fin_data_norm.iloc[fin_idx][series] < fin_data_norm.iloc[fin_idx + 1][series]: \n",
    "            y_binary[i] = 1\n",
    "        else: \n",
    "            y_binary[i] = 0        "
   ]
  },
  {
   "cell_type": "code",
   "execution_count": 16,
   "metadata": {},
   "outputs": [
    {
     "name": "stdout",
     "output_type": "stream",
     "text": [
      "Shape of y: (1846,)\n",
      "Shape of x: (1846, 23571)\n"
     ]
    }
   ],
   "source": [
    "print(\"Shape of y:\",y_binary.shape)\n",
    "print(\"Shape of x:\",x_tfidf.shape)"
   ]
  },
  {
   "cell_type": "code",
   "execution_count": 61,
   "metadata": {},
   "outputs": [
    {
     "name": "stdout",
     "output_type": "stream",
     "text": [
      "Shape of x,y train: (1000, 23571) (1000,)\n",
      "Shape of x,y test: (846, 23571) (846,)\n"
     ]
    }
   ],
   "source": [
    "# Shuffle and partition into training and test set (non-sequential data)\n",
    "zero_indices = np.where(y_binary == 0)[0]\n",
    "np.random.shuffle(zero_indices)\n",
    "one_indices = np.where(y_binary == 1)[0]\n",
    "np.random.shuffle(one_indices)\n",
    "\n",
    "n_train = 1000\n",
    "n_test = len(y_binary) - n_train\n",
    "\n",
    "train_indices = np.zeros((n_train),dtype=int)\n",
    "train_indices[:int(n_train / 2)] = zero_indices[:int(n_train / 2)]\n",
    "train_indices[int(n_train / 2):] = one_indices[:int(n_train / 2)]\n",
    "np.random.shuffle(train_indices)\n",
    "\n",
    "test_indices = np.setdiff1d(np.arange(len(y_binary)), train_indices)\n",
    "np.random.shuffle(test_indices)\n",
    "\n",
    "x_train = x_tfidf[train_indices].todense()\n",
    "y_train = y_binary[train_indices]\n",
    "\n",
    "x_test = x_tfidf[test_indices].todense()\n",
    "y_test = y_binary[test_indices]\n",
    "\n",
    "print(\"Shape of x,y train:\",x_train.shape, y_train.shape)\n",
    "print(\"Shape of x,y test:\",x_test.shape, y_test.shape)"
   ]
  },
  {
   "cell_type": "code",
   "execution_count": 62,
   "metadata": {},
   "outputs": [
    {
     "name": "stdout",
     "output_type": "stream",
     "text": [
      "Shape of x,y train: (1400, 3, 23571) (1400,)\n",
      "Shape of x,y test: (444, 3, 23571) (444,)\n"
     ]
    }
   ],
   "source": [
    "# Shuffle and partition into training and test set (sequential data)\n",
    "lookback = 3\n",
    "x_seq = np.zeros((x_tfidf.shape[0] - lookback + 1, lookback, x_tfidf.shape[-1]))\n",
    "prev_data = deque(maxlen=lookback)\n",
    "index = 0\n",
    "for i,row_tfidf in enumerate(x_tfidf): \n",
    "    row = np.asarray(row_tfidf.todense()).reshape(x_tfidf.shape[-1])\n",
    "    prev_data.append(row)\n",
    "    if len(prev_data) == lookback: \n",
    "        x_seq[index,:] = np.asarray(prev_data)\n",
    "        index += 1\n",
    "y_seq = y_binary[lookback - 1 :]\n",
    "\n",
    "\n",
    "indices = np.arange(len(y_seq))\n",
    "np.random.shuffle(indices)\n",
    "n_train = 1400\n",
    "\n",
    "x_seq_train = x_seq[indices[:n_train]]\n",
    "y_seq_train = y_seq[indices[:n_train]]\n",
    "\n",
    "x_seq_test = x_seq[indices[n_train:]]\n",
    "y_seq_test = y_seq[indices[n_train:]]\n",
    "\n",
    "print(\"Shape of x,y train:\",x_seq_train.shape, y_seq_train.shape)\n",
    "print(\"Shape of x,y test:\",x_seq_test.shape, y_seq_test.shape)"
   ]
  },
  {
   "cell_type": "markdown",
   "metadata": {},
   "source": [
    "## Train and evaluate models \n",
    "A few different models are trained and compared, namely: \n",
    " - Logistic regression \n",
    " - Random Forest\n",
    " - XGBoost\n",
    " - Neural Network\n",
    " The regular data is used for the first three models, and the sequential data is used for the neural network. It is however only a regular feed-forward network, so multi-dimensional is probably a better wording than sequential. "
   ]
  },
  {
   "cell_type": "code",
   "execution_count": 63,
   "metadata": {},
   "outputs": [],
   "source": [
    "def plot_results(model,x_test, y_test):\n",
    "    y_test_preds = model.predict(x_test)\n",
    "    print(classification_report(y_test, y_test_preds))\n",
    "    print(\"Test accuracy:\",model.score(x_test, y_test))\n",
    "    plot_confusion_matrix(model,x_test,y_test)\n",
    "    plt.show()\n",
    "    plt.bar([0,1],[np.sum(y_test == 0), np.sum(y_test == 1)], label='Test distribution')\n",
    "    plt.legend()\n",
    "    plt.xticks([0, 1])\n",
    "    plt.show()\n",
    "    \n",
    "\n",
    "def plot_results_nn(history, model):\n",
    "    plt.subplot(121)\n",
    "    plt.plot(history.history['loss'],label='Loss')\n",
    "    plt.plot(history.history['val_loss'],label='Val loss')\n",
    "    plt.legend()\n",
    "    plt.subplot(122)\n",
    "    plt.plot(history.history['acc'],label='Acc')\n",
    "    plt.plot(history.history['val_acc'],label='Val acc')\n",
    "    plt.legend()\n",
    "    plt.show() \n",
    "    y_seq_test_pred = np.round(model.predict(x_seq_test))\n",
    "    plt.subplot(121)\n",
    "    plt.bar([0,1],[np.sum(y_seq_test == 0), np.sum(y_seq_test == 1)], label='Actual test dist')\n",
    "    plt.legend()\n",
    "    plt.xticks([0, 1])\n",
    "    plt.subplot(122)\n",
    "    plt.bar([0,1],[np.sum(y_seq_test_pred == 0), np.sum(y_seq_test_pred == 1)], label='Pred test dist')\n",
    "    plt.legend()\n",
    "    plt.xticks([0, 1])\n",
    "    plt.show()\n",
    "    conf_mat = confusion_matrix(y_seq_test,y_seq_test_pred,normalize='pred')\n",
    "    ax = sn.heatmap(conf_mat,)\n",
    "    ax.set_ylabel(\"True values\")\n",
    "    ax.set_xlabel(\"Predicted values\")\n",
    "    plt.show()\n",
    "    print(classification_report(y_seq_test, y_seq_test_pred))\n",
    "    print(\"Test accuracy:\",model.evaluate(x_seq_test, y_seq_test, verbose=0)[1])"
   ]
  },
  {
   "cell_type": "markdown",
   "metadata": {},
   "source": [
    "## Random Classifier\n",
    "Just for real simple comparison. "
   ]
  },
  {
   "cell_type": "code",
   "execution_count": 74,
   "metadata": {},
   "outputs": [
    {
     "name": "stdout",
     "output_type": "stream",
     "text": [
      "              precision    recall  f1-score   support\n",
      "\n",
      "         0.0       0.43      0.50      0.46       358\n",
      "         1.0       0.58      0.52      0.55       488\n",
      "\n",
      "    accuracy                           0.51       846\n",
      "   macro avg       0.51      0.51      0.51       846\n",
      "weighted avg       0.52      0.51      0.51       846\n",
      "\n",
      "Test accuracy: 0.4988179669030733\n"
     ]
    },
    {
     "data": {
      "image/png": "[encoded data removed]",
      "text/plain": [
       "<Figure size 432x288 with 2 Axes>"
      ]
     },
     "metadata": {
      "needs_background": "light"
     },
     "output_type": "display_data"
    },
    {
     "data": {
      "image/png": "[encoded data removed]",
      "text/plain": [
       "<Figure size 432x288 with 1 Axes>"
      ]
     },
     "metadata": {
      "needs_background": "light"
     },
     "output_type": "display_data"
    }
   ],
   "source": [
    "# Dummy Classifier\n",
    "dummy_clf = DummyClassifier().fit(x_train, y_train)\n",
    "plot_results(dummy_clf, x_test, y_test)"
   ]
  },
  {
   "cell_type": "markdown",
   "metadata": {},
   "source": [
    "## Logistic Regression"
   ]
  },
  {
   "cell_type": "code",
   "execution_count": 81,
   "metadata": {},
   "outputs": [
    {
     "name": "stdout",
     "output_type": "stream",
     "text": [
      "              precision    recall  f1-score   support\n",
      "\n",
      "         0.0       0.43      0.49      0.46       358\n",
      "         1.0       0.58      0.51      0.54       488\n",
      "\n",
      "    accuracy                           0.50       846\n",
      "   macro avg       0.50      0.50      0.50       846\n",
      "weighted avg       0.51      0.50      0.51       846\n",
      "\n",
      "Test accuracy: 0.5035460992907801\n"
     ]
    },
    {
     "data": {
      "image/png": "[encoded data removed]",
      "text/plain": [
       "<Figure size 432x288 with 2 Axes>"
      ]
     },
     "metadata": {
      "needs_background": "light"
     },
     "output_type": "display_data"
    },
    {
     "data": {
      "image/png": "[encoded data removed]",
      "text/plain": [
       "<Figure size 432x288 with 1 Axes>"
      ]
     },
     "metadata": {
      "needs_background": "light"
     },
     "output_type": "display_data"
    }
   ],
   "source": [
    "# Logistic regression\n",
    "logreg = LogisticRegression(random_state=0).fit(x_train, y_train)\n",
    "plot_results(logreg,x_test, y_test)"
   ]
  },
  {
   "cell_type": "markdown",
   "metadata": {},
   "source": [
    "### Results Logistic Regression\n",
    "Logistic regression yields a weighted f1-score of 0.51. "
   ]
  },
  {
   "cell_type": "markdown",
   "metadata": {},
   "source": [
    "## Random Forest"
   ]
  },
  {
   "cell_type": "code",
   "execution_count": 115,
   "metadata": {
    "scrolled": true
   },
   "outputs": [
    {
     "name": "stdout",
     "output_type": "stream",
     "text": [
      "Fitting 3 folds for each of 30 candidates, totalling 90 fits\n"
     ]
    },
    {
     "name": "stderr",
     "output_type": "stream",
     "text": [
      "[Parallel(n_jobs=-1)]: Using backend LokyBackend with 8 concurrent workers.\n",
      "[Parallel(n_jobs=-1)]: Done  34 tasks      | elapsed:  2.2min\n",
      "[Parallel(n_jobs=-1)]: Done  90 out of  90 | elapsed: 13.0min finished\n"
     ]
    },
    {
     "name": "stdout",
     "output_type": "stream",
     "text": [
      "Best: 0.504920 using {'max_depth': None, 'n_estimators': 250}\n",
      "0.498471 (0.005008) with: {'max_depth': None, 'n_estimators': 50}\n",
      "0.492100 (0.004017) with: {'max_depth': None, 'n_estimators': 100}\n",
      "0.504920 (0.009427) with: {'max_depth': None, 'n_estimators': 250}\n",
      "0.492854 (0.009209) with: {'max_depth': None, 'n_estimators': 500}\n",
      "0.468960 (0.022785) with: {'max_depth': None, 'n_estimators': 1000}\n",
      "0.481448 (0.012154) with: {'max_depth': None, 'n_estimators': 5000}\n",
      "0.468625 (0.035956) with: {'max_depth': 10, 'n_estimators': 50}\n",
      "0.464030 (0.011539) with: {'max_depth': 10, 'n_estimators': 100}\n",
      "0.493025 (0.019106) with: {'max_depth': 10, 'n_estimators': 250}\n",
      "0.485273 (0.007785) with: {'max_depth': 10, 'n_estimators': 500}\n",
      "0.487810 (0.024403) with: {'max_depth': 10, 'n_estimators': 1000}\n",
      "0.485261 (0.019796) with: {'max_depth': 10, 'n_estimators': 5000}\n",
      "0.482441 (0.017338) with: {'max_depth': 50, 'n_estimators': 50}\n",
      "0.496207 (0.023481) with: {'max_depth': 50, 'n_estimators': 100}\n",
      "0.480853 (0.013951) with: {'max_depth': 50, 'n_estimators': 250}\n",
      "0.471147 (0.018644) with: {'max_depth': 50, 'n_estimators': 500}\n",
      "0.489755 (0.010425) with: {'max_depth': 50, 'n_estimators': 1000}\n",
      "0.485826 (0.017764) with: {'max_depth': 50, 'n_estimators': 5000}\n",
      "0.500919 (0.012316) with: {'max_depth': 100, 'n_estimators': 50}\n",
      "0.497852 (0.011473) with: {'max_depth': 100, 'n_estimators': 100}\n",
      "0.485311 (0.025897) with: {'max_depth': 100, 'n_estimators': 250}\n",
      "0.480226 (0.008444) with: {'max_depth': 100, 'n_estimators': 500}\n",
      "0.503176 (0.013009) with: {'max_depth': 100, 'n_estimators': 1000}\n",
      "0.488049 (0.009626) with: {'max_depth': 100, 'n_estimators': 5000}\n",
      "0.501561 (0.021593) with: {'max_depth': 500, 'n_estimators': 50}\n",
      "0.484407 (0.018552) with: {'max_depth': 500, 'n_estimators': 100}\n",
      "0.479644 (0.032662) with: {'max_depth': 500, 'n_estimators': 250}\n",
      "0.495202 (0.012068) with: {'max_depth': 500, 'n_estimators': 500}\n",
      "0.494959 (0.015685) with: {'max_depth': 500, 'n_estimators': 1000}\n",
      "0.476771 (0.021190) with: {'max_depth': 500, 'n_estimators': 5000}\n"
     ]
    }
   ],
   "source": [
    "# Random Forest\n",
    "\n",
    "rf_param_grid = dict(max_depth=[None, 10, 50, 100, 500],\n",
    "                  n_estimators=[50, 100, 250, 500, 1000, 5000])\n",
    "rf_grid = GridSearchCV(estimator=RandomForestClassifier(), \n",
    "                       param_grid=rf_param_grid, \n",
    "                       n_jobs=-1, \n",
    "                       cv=3, \n",
    "                       scoring='f1_weighted',\n",
    "                       verbose=1)\n",
    "rf_grid_result = rf_grid.fit(x_train, y_train)\n",
    "# summarize results\n",
    "print(\"Best: %f using %s\" % (rf_grid_result.best_score_, rf_grid_result.best_params_))\n",
    "rf_means = rf_grid_result.cv_results_['mean_test_score']\n",
    "rf_stds = rf_grid_result.cv_results_['std_test_score']\n",
    "rf_params = rf_grid_result.cv_results_['params']\n",
    "for mean, stdev, param in zip(rf_means, rf_stds, rf_params):\n",
    "    print(\"%f (%f) with: %r\" % (mean, stdev, param))"
   ]
  },
  {
   "cell_type": "code",
   "execution_count": 116,
   "metadata": {},
   "outputs": [
    {
     "name": "stdout",
     "output_type": "stream",
     "text": [
      "              precision    recall  f1-score   support\n",
      "\n",
      "         0.0       0.42      0.49      0.45       358\n",
      "         1.0       0.57      0.50      0.53       488\n",
      "\n",
      "    accuracy                           0.49       846\n",
      "   macro avg       0.49      0.49      0.49       846\n",
      "weighted avg       0.50      0.49      0.50       846\n",
      "\n",
      "Test accuracy: 0.4929078014184397\n"
     ]
    },
    {
     "data": {
      "image/png": "[encoded data removed]",
      "text/plain": [
       "<Figure size 432x288 with 2 Axes>"
      ]
     },
     "metadata": {
      "needs_background": "light"
     },
     "output_type": "display_data"
    },
    {
     "data": {
      "image/png": "[encoded data removed]",
      "text/plain": [
       "<Figure size 432x288 with 1 Axes>"
      ]
     },
     "metadata": {
      "needs_background": "light"
     },
     "output_type": "display_data"
    }
   ],
   "source": [
    "# Fit the model with the best parameters found in the cross validation. \n",
    "randomforest = RandomForestClassifier(n_estimators=rf_grid_result.best_params_['n_estimators'],\n",
    "                                      max_depth=rf_grid_result.best_params_['max_depth'],\n",
    "                                     ).fit(x_train, y_train)\n",
    "plot_results(randomforest,x_test, y_test)"
   ]
  },
  {
   "cell_type": "markdown",
   "metadata": {},
   "source": [
    "### Results Random Forest \n",
    "Optimizing over the estimators (50, 100, 250, 500, 1000, 5000) gives a weighted average f1-score 0.53 for the best configuration with 50 estimators. It does however vary quite a bit for different runs. "
   ]
  },
  {
   "cell_type": "markdown",
   "metadata": {},
   "source": [
    "## XGBoost"
   ]
  },
  {
   "cell_type": "code",
   "execution_count": 123,
   "metadata": {
    "scrolled": false
   },
   "outputs": [
    {
     "name": "stdout",
     "output_type": "stream",
     "text": [
      "Fitting 3 folds for each of 60 candidates, totalling 180 fits\n"
     ]
    },
    {
     "name": "stderr",
     "output_type": "stream",
     "text": [
      "[Parallel(n_jobs=-1)]: Using backend LokyBackend with 8 concurrent workers.\n",
      "[Parallel(n_jobs=-1)]: Done   2 tasks      | elapsed:    2.5s\n",
      "[Parallel(n_jobs=-1)]: Done  56 tasks      | elapsed: 16.5min\n",
      "[Parallel(n_jobs=-1)]: Done 146 tasks      | elapsed: 48.6min\n",
      "[Parallel(n_jobs=-1)]: Done 180 out of 180 | elapsed: 82.2min finished\n"
     ]
    },
    {
     "name": "stdout",
     "output_type": "stream",
     "text": [
      "Best: 0.500840 using {'learning_rate': 0.1, 'max_depth': 3, 'n_estimators': 500}\n",
      "nan (nan) with: {'learning_rate': 0.1, 'max_depth': None, 'n_estimators': 50}\n",
      "nan (nan) with: {'learning_rate': 0.1, 'max_depth': None, 'n_estimators': 100}\n",
      "nan (nan) with: {'learning_rate': 0.1, 'max_depth': None, 'n_estimators': 250}\n",
      "nan (nan) with: {'learning_rate': 0.1, 'max_depth': None, 'n_estimators': 500}\n",
      "0.480192 (0.010359) with: {'learning_rate': 0.1, 'max_depth': 1, 'n_estimators': 50}\n",
      "0.475815 (0.004649) with: {'learning_rate': 0.1, 'max_depth': 1, 'n_estimators': 100}\n",
      "0.486787 (0.007966) with: {'learning_rate': 0.1, 'max_depth': 1, 'n_estimators': 250}\n",
      "0.485792 (0.026771) with: {'learning_rate': 0.1, 'max_depth': 1, 'n_estimators': 500}\n",
      "0.492536 (0.009035) with: {'learning_rate': 0.1, 'max_depth': 3, 'n_estimators': 50}\n",
      "0.493868 (0.007595) with: {'learning_rate': 0.1, 'max_depth': 3, 'n_estimators': 100}\n",
      "0.485831 (0.011744) with: {'learning_rate': 0.1, 'max_depth': 3, 'n_estimators': 250}\n",
      "0.500840 (0.041056) with: {'learning_rate': 0.1, 'max_depth': 3, 'n_estimators': 500}\n",
      "0.483929 (0.003911) with: {'learning_rate': 0.1, 'max_depth': 5, 'n_estimators': 50}\n",
      "0.486745 (0.006439) with: {'learning_rate': 0.1, 'max_depth': 5, 'n_estimators': 100}\n",
      "0.493682 (0.024232) with: {'learning_rate': 0.1, 'max_depth': 5, 'n_estimators': 250}\n",
      "0.496240 (0.013459) with: {'learning_rate': 0.1, 'max_depth': 5, 'n_estimators': 500}\n",
      "0.494736 (0.023624) with: {'learning_rate': 0.1, 'max_depth': 10, 'n_estimators': 50}\n",
      "0.495987 (0.020610) with: {'learning_rate': 0.1, 'max_depth': 10, 'n_estimators': 100}\n",
      "0.483925 (0.022709) with: {'learning_rate': 0.1, 'max_depth': 10, 'n_estimators': 250}\n",
      "0.489927 (0.020183) with: {'learning_rate': 0.1, 'max_depth': 10, 'n_estimators': 500}\n",
      "nan (nan) with: {'learning_rate': 0.01, 'max_depth': None, 'n_estimators': 50}\n",
      "nan (nan) with: {'learning_rate': 0.01, 'max_depth': None, 'n_estimators': 100}\n",
      "nan (nan) with: {'learning_rate': 0.01, 'max_depth': None, 'n_estimators': 250}\n",
      "nan (nan) with: {'learning_rate': 0.01, 'max_depth': None, 'n_estimators': 500}\n",
      "0.447193 (0.025320) with: {'learning_rate': 0.01, 'max_depth': 1, 'n_estimators': 50}\n",
      "0.471418 (0.020041) with: {'learning_rate': 0.01, 'max_depth': 1, 'n_estimators': 100}\n",
      "0.486403 (0.013033) with: {'learning_rate': 0.01, 'max_depth': 1, 'n_estimators': 250}\n",
      "0.483656 (0.004138) with: {'learning_rate': 0.01, 'max_depth': 1, 'n_estimators': 500}\n",
      "0.479806 (0.019241) with: {'learning_rate': 0.01, 'max_depth': 3, 'n_estimators': 50}\n",
      "0.478558 (0.002743) with: {'learning_rate': 0.01, 'max_depth': 3, 'n_estimators': 100}\n",
      "0.494656 (0.008598) with: {'learning_rate': 0.01, 'max_depth': 3, 'n_estimators': 250}\n",
      "0.474410 (0.007519) with: {'learning_rate': 0.01, 'max_depth': 3, 'n_estimators': 500}\n",
      "0.482415 (0.006232) with: {'learning_rate': 0.01, 'max_depth': 5, 'n_estimators': 50}\n",
      "0.493963 (0.003706) with: {'learning_rate': 0.01, 'max_depth': 5, 'n_estimators': 100}\n",
      "0.490469 (0.012204) with: {'learning_rate': 0.01, 'max_depth': 5, 'n_estimators': 250}\n",
      "0.499995 (0.002187) with: {'learning_rate': 0.01, 'max_depth': 5, 'n_estimators': 500}\n",
      "0.485288 (0.032453) with: {'learning_rate': 0.01, 'max_depth': 10, 'n_estimators': 50}\n",
      "0.488819 (0.026400) with: {'learning_rate': 0.01, 'max_depth': 10, 'n_estimators': 100}\n",
      "0.484445 (0.021989) with: {'learning_rate': 0.01, 'max_depth': 10, 'n_estimators': 250}\n",
      "0.496794 (0.024688) with: {'learning_rate': 0.01, 'max_depth': 10, 'n_estimators': 500}\n",
      "nan (nan) with: {'learning_rate': 0.001, 'max_depth': None, 'n_estimators': 50}\n",
      "nan (nan) with: {'learning_rate': 0.001, 'max_depth': None, 'n_estimators': 100}\n",
      "nan (nan) with: {'learning_rate': 0.001, 'max_depth': None, 'n_estimators': 250}\n",
      "nan (nan) with: {'learning_rate': 0.001, 'max_depth': None, 'n_estimators': 500}\n",
      "0.380417 (0.004457) with: {'learning_rate': 0.001, 'max_depth': 1, 'n_estimators': 50}\n",
      "0.384638 (0.009486) with: {'learning_rate': 0.001, 'max_depth': 1, 'n_estimators': 100}\n",
      "0.398065 (0.019848) with: {'learning_rate': 0.001, 'max_depth': 1, 'n_estimators': 250}\n",
      "0.429005 (0.003660) with: {'learning_rate': 0.001, 'max_depth': 1, 'n_estimators': 500}\n",
      "0.481861 (0.011958) with: {'learning_rate': 0.001, 'max_depth': 3, 'n_estimators': 50}\n",
      "0.480458 (0.008522) with: {'learning_rate': 0.001, 'max_depth': 3, 'n_estimators': 100}\n",
      "0.474294 (0.018989) with: {'learning_rate': 0.001, 'max_depth': 3, 'n_estimators': 250}\n",
      "0.479861 (0.018512) with: {'learning_rate': 0.001, 'max_depth': 3, 'n_estimators': 500}\n",
      "0.498753 (0.026054) with: {'learning_rate': 0.001, 'max_depth': 5, 'n_estimators': 50}\n",
      "0.499018 (0.022541) with: {'learning_rate': 0.001, 'max_depth': 5, 'n_estimators': 100}\n",
      "0.489330 (0.013035) with: {'learning_rate': 0.001, 'max_depth': 5, 'n_estimators': 250}\n",
      "0.486024 (0.008383) with: {'learning_rate': 0.001, 'max_depth': 5, 'n_estimators': 500}\n",
      "0.498803 (0.024549) with: {'learning_rate': 0.001, 'max_depth': 10, 'n_estimators': 50}\n",
      "0.487687 (0.030704) with: {'learning_rate': 0.001, 'max_depth': 10, 'n_estimators': 100}\n",
      "0.487276 (0.036808) with: {'learning_rate': 0.001, 'max_depth': 10, 'n_estimators': 250}\n",
      "0.486811 (0.029137) with: {'learning_rate': 0.001, 'max_depth': 10, 'n_estimators': 500}\n"
     ]
    }
   ],
   "source": [
    "# XGBoost\n",
    "xg_param_grid = dict(max_depth=[2, 3, 5, 10],\n",
    "                     n_estimators=[50, 100, 250, 500],\n",
    "                     learning_rate=[0.1, 0.01, 0.001])\n",
    "xg_grid = GridSearchCV(estimator=XGBClassifier(), \n",
    "                       param_grid=xg_param_grid, \n",
    "                       n_jobs=-1, \n",
    "                       cv=3, \n",
    "                       scoring='f1_weighted',\n",
    "                       verbose=5)\n",
    "xg_grid_result = xg_grid.fit(x_train, y_train)\n",
    "# summarize results\n",
    "print(\"Best: %f using %s\" % (xg_grid_result.best_score_, xg_grid_result.best_params_))\n",
    "xg_means = xg_grid_result.cv_results_['mean_test_score']\n",
    "xg_stds = xg_grid_result.cv_results_['std_test_score']\n",
    "xg_params = xg_grid_result.cv_results_['params']\n",
    "for mean, stdev, param in zip(xg_means, xg_stds, xg_params):\n",
    "    print(\"%f (%f) with: %r\" % (mean, stdev, param))"
   ]
  },
  {
   "cell_type": "code",
   "execution_count": 124,
   "metadata": {},
   "outputs": [
    {
     "name": "stdout",
     "output_type": "stream",
     "text": [
      "              precision    recall  f1-score   support\n",
      "\n",
      "         0.0       0.41      0.49      0.45       358\n",
      "         1.0       0.57      0.49      0.52       488\n",
      "\n",
      "    accuracy                           0.49       846\n",
      "   macro avg       0.49      0.49      0.49       846\n",
      "weighted avg       0.50      0.49      0.49       846\n",
      "\n",
      "Test accuracy: 0.48936170212765956\n"
     ]
    },
    {
     "data": {
      "image/png": "[encoded data removed]",
      "text/plain": [
       "<Figure size 432x288 with 2 Axes>"
      ]
     },
     "metadata": {
      "needs_background": "light"
     },
     "output_type": "display_data"
    },
    {
     "data": {
      "image/png": "[encoded data removed]",
      "text/plain": [
       "<Figure size 432x288 with 1 Axes>"
      ]
     },
     "metadata": {
      "needs_background": "light"
     },
     "output_type": "display_data"
    }
   ],
   "source": [
    "# Fit the model with the best parameters found in the cross validation. \n",
    "xgb = XGBClassifier(max_depth=xg_grid_result.best_params_['max_depth'],\n",
    "                     n_estimators=xg_grid_result.best_params_['n_estimators'],\n",
    "                     learning_rate=xg_grid_result.best_params_['learning_rate']).fit(x_train, y_train)\n",
    "plot_results(xgb,x_test, y_test)"
   ]
  },
  {
   "cell_type": "markdown",
   "metadata": {},
   "source": [
    "### Results XGBoost\n",
    "\n",
    "XGBoost gives a slightly worse weighted f1-score to the Random Forest-model with 0.49 using 250 estimators, which was the best of the tested (50, 100, 250, 500, 1000, 5000). The variation between runs is however quite large.\n"
   ]
  },
  {
   "cell_type": "markdown",
   "metadata": {},
   "source": [
    "## Neural Network"
   ]
  },
  {
   "cell_type": "code",
   "execution_count": 125,
   "metadata": {},
   "outputs": [],
   "source": [
    "def create_model(nodes=100, dropout_rate=0.3):\n",
    "    model = Sequential() \n",
    "    model.add(Dense(nodes, input_shape=x_seq_train.shape[1:]))\n",
    "    model.add(Flatten())\n",
    "    model.add(Dense(nodes))\n",
    "    model.add(Dropout(dropout_rate))\n",
    "    model.add(Dense(1, activation='sigmoid'))\n",
    "    \n",
    "    model.compile(optimizer='rmsprop',loss='binary_crossentropy',metrics=['acc'])\n",
    "    return model "
   ]
  },
  {
   "cell_type": "markdown",
   "metadata": {},
   "source": [
    "### Hyperparameters Grid Search\n",
    "Optimize with respect to batch size, epochs, nodes and dropout rate. Two layers are used. "
   ]
  },
  {
   "cell_type": "code",
   "execution_count": 90,
   "metadata": {
    "scrolled": true
   },
   "outputs": [
    {
     "name": "stdout",
     "output_type": "stream",
     "text": [
      "Fitting 3 folds for each of 27 candidates, totalling 81 fits\n"
     ]
    },
    {
     "name": "stderr",
     "output_type": "stream",
     "text": [
      "[Parallel(n_jobs=-1)]: Using backend LokyBackend with 8 concurrent workers.\n",
      "[Parallel(n_jobs=-1)]: Done   2 tasks      | elapsed:   39.1s\n",
      "[Parallel(n_jobs=-1)]: Done   9 tasks      | elapsed:  1.1min\n",
      "C:\\ProgramData\\Anaconda3\\envs\\nlpenv\\lib\\site-packages\\joblib\\externals\\loky\\process_executor.py:706: UserWarning: A worker stopped while some jobs were given to the executor. This can be caused by a too short worker timeout or by a memory leak.\n",
      "  \"timeout or by a memory leak.\", UserWarning\n",
      "[Parallel(n_jobs=-1)]: Done  16 tasks      | elapsed:  1.7min\n",
      "[Parallel(n_jobs=-1)]: Done  25 tasks      | elapsed:  3.2min\n",
      "[Parallel(n_jobs=-1)]: Done  34 tasks      | elapsed:  3.8min\n",
      "[Parallel(n_jobs=-1)]: Done  45 tasks      | elapsed:  4.6min\n",
      "[Parallel(n_jobs=-1)]: Done  56 tasks      | elapsed:  5.6min\n",
      "[Parallel(n_jobs=-1)]: Done  75 out of  81 | elapsed:  6.6min remaining:   31.6s\n",
      "[Parallel(n_jobs=-1)]: Done  81 out of  81 | elapsed:  7.0min finished\n",
      "C:\\ProgramData\\Anaconda3\\envs\\nlpenv\\lib\\site-packages\\joblib\\disk.py:122: UserWarning: Unable to delete folder C:\\Users\\gusta\\AppData\\Local\\Temp\\joblib_memmapping_folder_11952_5566395708 after 5 tentatives.\n",
      "  .format(folder_path, RM_SUBDIRS_N_RETRY))\n"
     ]
    },
    {
     "ename": "PermissionError",
     "evalue": "[WinError 32] Det går inte att komma åt filen eftersom den\r\nanvänds av en annan process: 'C:\\\\Users\\\\gusta\\\\AppData\\\\Local\\\\Temp\\\\joblib_memmapping_folder_11952_5566395708\\\\11952-1711934289736-06c114b9e3df4e8683851775db54c41a.pkl'",
     "output_type": "error",
     "traceback": [
      "\u001b[1;31m---------------------------------------------------------------------------\u001b[0m",
      "\u001b[1;31mPermissionError\u001b[0m                           Traceback (most recent call last)",
      "\u001b[1;32m<ipython-input-90-e9802e792e47>\u001b[0m in \u001b[0;36m<module>\u001b[1;34m\u001b[0m\n\u001b[0;32m      8\u001b[0m \u001b[0mparam_grid\u001b[0m \u001b[1;33m=\u001b[0m \u001b[0mdict\u001b[0m\u001b[1;33m(\u001b[0m\u001b[0mbatch_size\u001b[0m\u001b[1;33m=\u001b[0m\u001b[0mbatch_size\u001b[0m\u001b[1;33m,\u001b[0m \u001b[0mepochs\u001b[0m\u001b[1;33m=\u001b[0m\u001b[0mepochs\u001b[0m\u001b[1;33m,\u001b[0m \u001b[0mnodes\u001b[0m\u001b[1;33m=\u001b[0m\u001b[0mnodes\u001b[0m\u001b[1;33m,\u001b[0m \u001b[0mdropout_rate\u001b[0m\u001b[1;33m=\u001b[0m\u001b[0mdropout_rates\u001b[0m\u001b[1;33m)\u001b[0m\u001b[1;33m\u001b[0m\u001b[1;33m\u001b[0m\u001b[0m\n\u001b[0;32m      9\u001b[0m \u001b[0mgrid\u001b[0m \u001b[1;33m=\u001b[0m \u001b[0mGridSearchCV\u001b[0m\u001b[1;33m(\u001b[0m\u001b[0mestimator\u001b[0m\u001b[1;33m=\u001b[0m\u001b[0mmodel\u001b[0m\u001b[1;33m,\u001b[0m \u001b[0mparam_grid\u001b[0m\u001b[1;33m=\u001b[0m\u001b[0mparam_grid\u001b[0m\u001b[1;33m,\u001b[0m \u001b[0mn_jobs\u001b[0m\u001b[1;33m=\u001b[0m\u001b[1;33m-\u001b[0m\u001b[1;36m1\u001b[0m\u001b[1;33m,\u001b[0m \u001b[0mcv\u001b[0m\u001b[1;33m=\u001b[0m\u001b[1;36m3\u001b[0m\u001b[1;33m,\u001b[0m \u001b[0mverbose\u001b[0m\u001b[1;33m=\u001b[0m\u001b[1;36m10\u001b[0m\u001b[1;33m)\u001b[0m\u001b[1;33m\u001b[0m\u001b[1;33m\u001b[0m\u001b[0m\n\u001b[1;32m---> 10\u001b[1;33m \u001b[0mgrid_result\u001b[0m \u001b[1;33m=\u001b[0m \u001b[0mgrid\u001b[0m\u001b[1;33m.\u001b[0m\u001b[0mfit\u001b[0m\u001b[1;33m(\u001b[0m\u001b[0mx_seq_train\u001b[0m\u001b[1;33m,\u001b[0m \u001b[0my_seq_train\u001b[0m\u001b[1;33m)\u001b[0m\u001b[1;33m\u001b[0m\u001b[1;33m\u001b[0m\u001b[0m\n\u001b[0m\u001b[0;32m     11\u001b[0m \u001b[1;31m# summarize results\u001b[0m\u001b[1;33m\u001b[0m\u001b[1;33m\u001b[0m\u001b[1;33m\u001b[0m\u001b[0m\n\u001b[0;32m     12\u001b[0m \u001b[0mprint\u001b[0m\u001b[1;33m(\u001b[0m\u001b[1;34m\"Best: %f using %s\"\u001b[0m \u001b[1;33m%\u001b[0m \u001b[1;33m(\u001b[0m\u001b[0mgrid_result\u001b[0m\u001b[1;33m.\u001b[0m\u001b[0mbest_score_\u001b[0m\u001b[1;33m,\u001b[0m \u001b[0mgrid_result\u001b[0m\u001b[1;33m.\u001b[0m\u001b[0mbest_params_\u001b[0m\u001b[1;33m)\u001b[0m\u001b[1;33m)\u001b[0m\u001b[1;33m\u001b[0m\u001b[1;33m\u001b[0m\u001b[0m\n",
      "\u001b[1;32mC:\\ProgramData\\Anaconda3\\envs\\nlpenv\\lib\\site-packages\\sklearn\\model_selection\\_search.py\u001b[0m in \u001b[0;36mfit\u001b[1;34m(self, X, y, groups, **fit_params)\u001b[0m\n\u001b[0;32m    708\u001b[0m                 \u001b[1;32mreturn\u001b[0m \u001b[0mresults\u001b[0m\u001b[1;33m\u001b[0m\u001b[1;33m\u001b[0m\u001b[0m\n\u001b[0;32m    709\u001b[0m \u001b[1;33m\u001b[0m\u001b[0m\n\u001b[1;32m--> 710\u001b[1;33m             \u001b[0mself\u001b[0m\u001b[1;33m.\u001b[0m\u001b[0m_run_search\u001b[0m\u001b[1;33m(\u001b[0m\u001b[0mevaluate_candidates\u001b[0m\u001b[1;33m)\u001b[0m\u001b[1;33m\u001b[0m\u001b[1;33m\u001b[0m\u001b[0m\n\u001b[0m\u001b[0;32m    711\u001b[0m \u001b[1;33m\u001b[0m\u001b[0m\n\u001b[0;32m    712\u001b[0m         \u001b[1;31m# For multi-metric evaluation, store the best_index_, best_params_ and\u001b[0m\u001b[1;33m\u001b[0m\u001b[1;33m\u001b[0m\u001b[1;33m\u001b[0m\u001b[0m\n",
      "\u001b[1;32mC:\\ProgramData\\Anaconda3\\envs\\nlpenv\\lib\\site-packages\\joblib\\parallel.py\u001b[0m in \u001b[0;36m__exit__\u001b[1;34m(self, exc_type, exc_value, traceback)\u001b[0m\n\u001b[0;32m    702\u001b[0m \u001b[1;33m\u001b[0m\u001b[0m\n\u001b[0;32m    703\u001b[0m     \u001b[1;32mdef\u001b[0m \u001b[0m__exit__\u001b[0m\u001b[1;33m(\u001b[0m\u001b[0mself\u001b[0m\u001b[1;33m,\u001b[0m \u001b[0mexc_type\u001b[0m\u001b[1;33m,\u001b[0m \u001b[0mexc_value\u001b[0m\u001b[1;33m,\u001b[0m \u001b[0mtraceback\u001b[0m\u001b[1;33m)\u001b[0m\u001b[1;33m:\u001b[0m\u001b[1;33m\u001b[0m\u001b[1;33m\u001b[0m\u001b[0m\n\u001b[1;32m--> 704\u001b[1;33m         \u001b[0mself\u001b[0m\u001b[1;33m.\u001b[0m\u001b[0m_terminate_backend\u001b[0m\u001b[1;33m(\u001b[0m\u001b[1;33m)\u001b[0m\u001b[1;33m\u001b[0m\u001b[1;33m\u001b[0m\u001b[0m\n\u001b[0m\u001b[0;32m    705\u001b[0m         \u001b[0mself\u001b[0m\u001b[1;33m.\u001b[0m\u001b[0m_managed_backend\u001b[0m \u001b[1;33m=\u001b[0m \u001b[1;32mFalse\u001b[0m\u001b[1;33m\u001b[0m\u001b[1;33m\u001b[0m\u001b[0m\n\u001b[0;32m    706\u001b[0m \u001b[1;33m\u001b[0m\u001b[0m\n",
      "\u001b[1;32mC:\\ProgramData\\Anaconda3\\envs\\nlpenv\\lib\\site-packages\\joblib\\parallel.py\u001b[0m in \u001b[0;36m_terminate_backend\u001b[1;34m(self)\u001b[0m\n\u001b[0;32m    732\u001b[0m     \u001b[1;32mdef\u001b[0m \u001b[0m_terminate_backend\u001b[0m\u001b[1;33m(\u001b[0m\u001b[0mself\u001b[0m\u001b[1;33m)\u001b[0m\u001b[1;33m:\u001b[0m\u001b[1;33m\u001b[0m\u001b[1;33m\u001b[0m\u001b[0m\n\u001b[0;32m    733\u001b[0m         \u001b[1;32mif\u001b[0m \u001b[0mself\u001b[0m\u001b[1;33m.\u001b[0m\u001b[0m_backend\u001b[0m \u001b[1;32mis\u001b[0m \u001b[1;32mnot\u001b[0m \u001b[1;32mNone\u001b[0m\u001b[1;33m:\u001b[0m\u001b[1;33m\u001b[0m\u001b[1;33m\u001b[0m\u001b[0m\n\u001b[1;32m--> 734\u001b[1;33m             \u001b[0mself\u001b[0m\u001b[1;33m.\u001b[0m\u001b[0m_backend\u001b[0m\u001b[1;33m.\u001b[0m\u001b[0mterminate\u001b[0m\u001b[1;33m(\u001b[0m\u001b[1;33m)\u001b[0m\u001b[1;33m\u001b[0m\u001b[1;33m\u001b[0m\u001b[0m\n\u001b[0m\u001b[0;32m    735\u001b[0m \u001b[1;33m\u001b[0m\u001b[0m\n\u001b[0;32m    736\u001b[0m     \u001b[1;32mdef\u001b[0m \u001b[0m_dispatch\u001b[0m\u001b[1;33m(\u001b[0m\u001b[0mself\u001b[0m\u001b[1;33m,\u001b[0m \u001b[0mbatch\u001b[0m\u001b[1;33m)\u001b[0m\u001b[1;33m:\u001b[0m\u001b[1;33m\u001b[0m\u001b[1;33m\u001b[0m\u001b[0m\n",
      "\u001b[1;32mC:\\ProgramData\\Anaconda3\\envs\\nlpenv\\lib\\site-packages\\joblib\\_parallel_backends.py\u001b[0m in \u001b[0;36mterminate\u001b[1;34m(self)\u001b[0m\n\u001b[0;32m    569\u001b[0m             \u001b[1;31m# in latter calls but we free as much memory as we can by deleting\u001b[0m\u001b[1;33m\u001b[0m\u001b[1;33m\u001b[0m\u001b[1;33m\u001b[0m\u001b[0m\n\u001b[0;32m    570\u001b[0m             \u001b[1;31m# the shared memory\u001b[0m\u001b[1;33m\u001b[0m\u001b[1;33m\u001b[0m\u001b[1;33m\u001b[0m\u001b[0m\n\u001b[1;32m--> 571\u001b[1;33m             \u001b[0mdelete_folder\u001b[0m\u001b[1;33m(\u001b[0m\u001b[0mself\u001b[0m\u001b[1;33m.\u001b[0m\u001b[0m_workers\u001b[0m\u001b[1;33m.\u001b[0m\u001b[0m_temp_folder\u001b[0m\u001b[1;33m)\u001b[0m\u001b[1;33m\u001b[0m\u001b[1;33m\u001b[0m\u001b[0m\n\u001b[0m\u001b[0;32m    572\u001b[0m             \u001b[0mself\u001b[0m\u001b[1;33m.\u001b[0m\u001b[0m_workers\u001b[0m \u001b[1;33m=\u001b[0m \u001b[1;32mNone\u001b[0m\u001b[1;33m\u001b[0m\u001b[1;33m\u001b[0m\u001b[0m\n\u001b[0;32m    573\u001b[0m \u001b[1;33m\u001b[0m\u001b[0m\n",
      "\u001b[1;32mC:\\ProgramData\\Anaconda3\\envs\\nlpenv\\lib\\site-packages\\joblib\\disk.py\u001b[0m in \u001b[0;36mdelete_folder\u001b[1;34m(folder_path, onerror)\u001b[0m\n\u001b[0;32m    113\u001b[0m             \u001b[1;32mwhile\u001b[0m \u001b[1;32mTrue\u001b[0m\u001b[1;33m:\u001b[0m\u001b[1;33m\u001b[0m\u001b[1;33m\u001b[0m\u001b[0m\n\u001b[0;32m    114\u001b[0m                 \u001b[1;32mtry\u001b[0m\u001b[1;33m:\u001b[0m\u001b[1;33m\u001b[0m\u001b[1;33m\u001b[0m\u001b[0m\n\u001b[1;32m--> 115\u001b[1;33m                     \u001b[0mshutil\u001b[0m\u001b[1;33m.\u001b[0m\u001b[0mrmtree\u001b[0m\u001b[1;33m(\u001b[0m\u001b[0mfolder_path\u001b[0m\u001b[1;33m,\u001b[0m \u001b[1;32mFalse\u001b[0m\u001b[1;33m,\u001b[0m \u001b[1;32mNone\u001b[0m\u001b[1;33m)\u001b[0m\u001b[1;33m\u001b[0m\u001b[1;33m\u001b[0m\u001b[0m\n\u001b[0m\u001b[0;32m    116\u001b[0m                     \u001b[1;32mbreak\u001b[0m\u001b[1;33m\u001b[0m\u001b[1;33m\u001b[0m\u001b[0m\n\u001b[0;32m    117\u001b[0m                 \u001b[1;32mexcept\u001b[0m \u001b[1;33m(\u001b[0m\u001b[0mOSError\u001b[0m\u001b[1;33m,\u001b[0m \u001b[0mWindowsError\u001b[0m\u001b[1;33m)\u001b[0m\u001b[1;33m:\u001b[0m\u001b[1;33m\u001b[0m\u001b[1;33m\u001b[0m\u001b[0m\n",
      "\u001b[1;32mC:\\ProgramData\\Anaconda3\\envs\\nlpenv\\lib\\shutil.py\u001b[0m in \u001b[0;36mrmtree\u001b[1;34m(path, ignore_errors, onerror)\u001b[0m\n\u001b[0;32m    514\u001b[0m             \u001b[1;31m# can't continue even if onerror hook returns\u001b[0m\u001b[1;33m\u001b[0m\u001b[1;33m\u001b[0m\u001b[1;33m\u001b[0m\u001b[0m\n\u001b[0;32m    515\u001b[0m             \u001b[1;32mreturn\u001b[0m\u001b[1;33m\u001b[0m\u001b[1;33m\u001b[0m\u001b[0m\n\u001b[1;32m--> 516\u001b[1;33m         \u001b[1;32mreturn\u001b[0m \u001b[0m_rmtree_unsafe\u001b[0m\u001b[1;33m(\u001b[0m\u001b[0mpath\u001b[0m\u001b[1;33m,\u001b[0m \u001b[0monerror\u001b[0m\u001b[1;33m)\u001b[0m\u001b[1;33m\u001b[0m\u001b[1;33m\u001b[0m\u001b[0m\n\u001b[0m\u001b[0;32m    517\u001b[0m \u001b[1;33m\u001b[0m\u001b[0m\n\u001b[0;32m    518\u001b[0m \u001b[1;31m# Allow introspection of whether or not the hardening against symlink\u001b[0m\u001b[1;33m\u001b[0m\u001b[1;33m\u001b[0m\u001b[1;33m\u001b[0m\u001b[0m\n",
      "\u001b[1;32mC:\\ProgramData\\Anaconda3\\envs\\nlpenv\\lib\\shutil.py\u001b[0m in \u001b[0;36m_rmtree_unsafe\u001b[1;34m(path, onerror)\u001b[0m\n\u001b[0;32m    398\u001b[0m                 \u001b[0mos\u001b[0m\u001b[1;33m.\u001b[0m\u001b[0munlink\u001b[0m\u001b[1;33m(\u001b[0m\u001b[0mfullname\u001b[0m\u001b[1;33m)\u001b[0m\u001b[1;33m\u001b[0m\u001b[1;33m\u001b[0m\u001b[0m\n\u001b[0;32m    399\u001b[0m             \u001b[1;32mexcept\u001b[0m \u001b[0mOSError\u001b[0m\u001b[1;33m:\u001b[0m\u001b[1;33m\u001b[0m\u001b[1;33m\u001b[0m\u001b[0m\n\u001b[1;32m--> 400\u001b[1;33m                 \u001b[0monerror\u001b[0m\u001b[1;33m(\u001b[0m\u001b[0mos\u001b[0m\u001b[1;33m.\u001b[0m\u001b[0munlink\u001b[0m\u001b[1;33m,\u001b[0m \u001b[0mfullname\u001b[0m\u001b[1;33m,\u001b[0m \u001b[0msys\u001b[0m\u001b[1;33m.\u001b[0m\u001b[0mexc_info\u001b[0m\u001b[1;33m(\u001b[0m\u001b[1;33m)\u001b[0m\u001b[1;33m)\u001b[0m\u001b[1;33m\u001b[0m\u001b[1;33m\u001b[0m\u001b[0m\n\u001b[0m\u001b[0;32m    401\u001b[0m     \u001b[1;32mtry\u001b[0m\u001b[1;33m:\u001b[0m\u001b[1;33m\u001b[0m\u001b[1;33m\u001b[0m\u001b[0m\n\u001b[0;32m    402\u001b[0m         \u001b[0mos\u001b[0m\u001b[1;33m.\u001b[0m\u001b[0mrmdir\u001b[0m\u001b[1;33m(\u001b[0m\u001b[0mpath\u001b[0m\u001b[1;33m)\u001b[0m\u001b[1;33m\u001b[0m\u001b[1;33m\u001b[0m\u001b[0m\n",
      "\u001b[1;32mC:\\ProgramData\\Anaconda3\\envs\\nlpenv\\lib\\shutil.py\u001b[0m in \u001b[0;36m_rmtree_unsafe\u001b[1;34m(path, onerror)\u001b[0m\n\u001b[0;32m    396\u001b[0m         \u001b[1;32melse\u001b[0m\u001b[1;33m:\u001b[0m\u001b[1;33m\u001b[0m\u001b[1;33m\u001b[0m\u001b[0m\n\u001b[0;32m    397\u001b[0m             \u001b[1;32mtry\u001b[0m\u001b[1;33m:\u001b[0m\u001b[1;33m\u001b[0m\u001b[1;33m\u001b[0m\u001b[0m\n\u001b[1;32m--> 398\u001b[1;33m                 \u001b[0mos\u001b[0m\u001b[1;33m.\u001b[0m\u001b[0munlink\u001b[0m\u001b[1;33m(\u001b[0m\u001b[0mfullname\u001b[0m\u001b[1;33m)\u001b[0m\u001b[1;33m\u001b[0m\u001b[1;33m\u001b[0m\u001b[0m\n\u001b[0m\u001b[0;32m    399\u001b[0m             \u001b[1;32mexcept\u001b[0m \u001b[0mOSError\u001b[0m\u001b[1;33m:\u001b[0m\u001b[1;33m\u001b[0m\u001b[1;33m\u001b[0m\u001b[0m\n\u001b[0;32m    400\u001b[0m                 \u001b[0monerror\u001b[0m\u001b[1;33m(\u001b[0m\u001b[0mos\u001b[0m\u001b[1;33m.\u001b[0m\u001b[0munlink\u001b[0m\u001b[1;33m,\u001b[0m \u001b[0mfullname\u001b[0m\u001b[1;33m,\u001b[0m \u001b[0msys\u001b[0m\u001b[1;33m.\u001b[0m\u001b[0mexc_info\u001b[0m\u001b[1;33m(\u001b[0m\u001b[1;33m)\u001b[0m\u001b[1;33m)\u001b[0m\u001b[1;33m\u001b[0m\u001b[1;33m\u001b[0m\u001b[0m\n",
      "\u001b[1;31mPermissionError\u001b[0m: [WinError 32] Det går inte att komma åt filen eftersom den\r\nanvänds av en annan process: 'C:\\\\Users\\\\gusta\\\\AppData\\\\Local\\\\Temp\\\\joblib_memmapping_folder_11952_5566395708\\\\11952-1711934289736-06c114b9e3df4e8683851775db54c41a.pkl'"
     ]
    }
   ],
   "source": [
    "model = KerasClassifier(build_fn=create_model, verbose=0)\n",
    "# define the grid search parameters\n",
    "batch_size = [8,16, 64]\n",
    "depth = [1,2,3]\n",
    "epochs = [3,4,5]\n",
    "nodes = [10, 50, 100]\n",
    "dropout_rates = [0.5]\n",
    "#optimizer = ['SGD', 'RMSprop', 'Adagrad', 'Adadelta', 'Adam', 'Adamax', 'Nadam']\n",
    "param_grid = dict(batch_size=batch_size, epochs=epochs, nodes=nodes, dropout_rate=dropout_rates)\n",
    "grid = GridSearchCV(estimator=model, param_grid=param_grid, n_jobs=-1, cv=3, verbose=10)\n",
    "grid_result = grid.fit(x_seq_train, y_seq_train)\n",
    "# summarize results\n",
    "print(\"Best: %f using %s\" % (grid_result.best_score_, grid_result.best_params_))\n",
    "means = grid_result.cv_results_['mean_test_score']\n",
    "stds = grid_result.cv_results_['std_test_score']\n",
    "params = grid_result.cv_results_['params']\n",
    "for mean, stdev, param in zip(means, stds, params):\n",
    "    print(\"%f (%f) with: %r\" % (mean, stdev, param))"
   ]
  },
  {
   "cell_type": "markdown",
   "metadata": {},
   "source": [
    "### Model Training\n",
    "The model is trained using the hyperparameters found above. "
   ]
  },
  {
   "cell_type": "code",
   "execution_count": 341,
   "metadata": {},
   "outputs": [
    {
     "data": {
      "text/plain": [
       "{'batch_size': 8, 'dropout_rate': 0.5, 'epochs': 4, 'nodes': 100}"
      ]
     },
     "execution_count": 341,
     "metadata": {},
     "output_type": "execute_result"
    }
   ],
   "source": [
    "grid_result.best_params_"
   ]
  },
  {
   "cell_type": "code",
   "execution_count": 346,
   "metadata": {},
   "outputs": [
    {
     "name": "stdout",
     "output_type": "stream",
     "text": [
      "Train on 1120 samples, validate on 280 samples\n",
      "Epoch 1/8\n",
      "1120/1120 [==============================] - 3s 3ms/sample - loss: 0.6964 - acc: 0.5205 - val_loss: 0.7196 - val_acc: 0.4357\n",
      "Epoch 2/8\n",
      "1120/1120 [==============================] - 3s 3ms/sample - loss: 0.3177 - acc: 0.9464 - val_loss: 0.9343 - val_acc: 0.5393\n",
      "Epoch 3/8\n",
      "1120/1120 [==============================] - 4s 3ms/sample - loss: 0.0047 - acc: 1.0000 - val_loss: 1.3783 - val_acc: 0.4821\n",
      "Epoch 4/8\n",
      "1120/1120 [==============================] - 4s 3ms/sample - loss: 1.3880e-05 - acc: 1.0000 - val_loss: 1.7863 - val_acc: 0.4857\n",
      "Epoch 5/8\n",
      "1120/1120 [==============================] - 3s 3ms/sample - loss: 3.2002e-07 - acc: 1.0000 - val_loss: 1.9621 - val_acc: 0.4929\n",
      "Epoch 6/8\n",
      "1120/1120 [==============================] - 3s 3ms/sample - loss: 6.4641e-08 - acc: 1.0000 - val_loss: 2.0488 - val_acc: 0.4786\n",
      "Epoch 7/8\n",
      "1120/1120 [==============================] - 3s 3ms/sample - loss: 1.8745e-08 - acc: 1.0000 - val_loss: 2.0953 - val_acc: 0.4857\n",
      "Epoch 8/8\n",
      "1120/1120 [==============================] - 3s 3ms/sample - loss: 1.5709e-08 - acc: 1.0000 - val_loss: 2.1548 - val_acc: 0.4821\n"
     ]
    }
   ],
   "source": [
    "model = create_model(nodes=grid_result.best_params_['nodes'],\n",
    "                     dropout_rate=grid_result.best_params_['dropout_rate'])\n",
    "\n",
    "earlystop = EarlyStopping(monitor='val_loss',\n",
    "                          patience=2,\n",
    "                          restore_best_weights=True)\n",
    "                         \n",
    "\n",
    "history = model.fit(x_seq_train, y_seq_train,\n",
    "                    validation_split=0.2,\n",
    "                    epochs=8,\n",
    "                    batch_size=grid_result.best_params_['batch_size'],\n",
    "                    verbose=1)"
   ]
  },
  {
   "cell_type": "code",
   "execution_count": 366,
   "metadata": {
    "scrolled": false
   },
   "outputs": [
    {
     "data": {
      "image/png": "[encoded data removed]",
      "text/plain": [
       "<Figure size 432x288 with 2 Axes>"
      ]
     },
     "metadata": {
      "needs_background": "light"
     },
     "output_type": "display_data"
    },
    {
     "data": {
      "image/png": "[encoded data removed]",
      "text/plain": [
       "<Figure size 432x288 with 2 Axes>"
      ]
     },
     "metadata": {
      "needs_background": "light"
     },
     "output_type": "display_data"
    },
    {
     "data": {
      "image/png": "[encoded data removed]",
      "text/plain": [
       "<Figure size 432x288 with 2 Axes>"
      ]
     },
     "metadata": {
      "needs_background": "light"
     },
     "output_type": "display_data"
    },
    {
     "name": "stdout",
     "output_type": "stream",
     "text": [
      "              precision    recall  f1-score   support\n",
      "\n",
      "         0.0       0.47      0.50      0.49       201\n",
      "         1.0       0.57      0.53      0.55       243\n",
      "\n",
      "    accuracy                           0.52       444\n",
      "   macro avg       0.52      0.52      0.52       444\n",
      "weighted avg       0.52      0.52      0.52       444\n",
      "\n",
      "Test accuracy: 0.5202703\n"
     ]
    }
   ],
   "source": [
    "plot_results_nn(history, model)"
   ]
  },
  {
   "cell_type": "markdown",
   "metadata": {},
   "source": [
    "##  Summary\n",
    "None of the models performed significantly better than the other, snce the variation between fittings was rather large. \n",
    "\n",
    "| Model | Weighted avg f1-score | Test Accuracy |\n",
    "|------|------| ----|\n",
    "| Logistic Regression  | 0.51 | 0.536 |\n",
    "| Random Forest  | 0.51 | 0.513 |\n",
    "| XGBoost  | 0.49 | 0.493 |\n",
    "| Neural Network  | 0.52 | 0.520 |"
   ]
  }
 ],
 "metadata": {
  "kernelspec": {
   "display_name": "Python 3",
   "language": "python",
   "name": "python3"
  },
  "language_info": {
   "codemirror_mode": {
    "name": "ipython",
    "version": 3
   },
   "file_extension": ".py",
   "mimetype": "text/x-python",
   "name": "python",
   "nbconvert_exporter": "python",
   "pygments_lexer": "ipython3",
   "version": "3.7.6"
  }
 },
 "nbformat": 4,
 "nbformat_minor": 4
}
