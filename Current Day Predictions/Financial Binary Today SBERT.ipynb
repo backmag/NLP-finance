{
 "cells": [
  {
   "cell_type": "markdown",
   "metadata": {},
   "source": [
    "### Financial Index Prediction\n",
    "This notebook seeks to predict the direction of a financial index from day k-1 to day k given financial news headlines from day k. A range of different combinations between statistical and NLP-models are used."
   ]
  },
  {
   "cell_type": "code",
   "execution_count": 1,
   "metadata": {},
   "outputs": [],
   "source": [
    "import pandas as pd\n",
    "import numpy as np\n",
    "import seaborn as sn\n",
    "import matplotlib.pyplot as plt\n",
    "from pathlib import Path\n",
    "from tqdm import tqdm, trange\n",
    "from sentence_transformers import SentenceTransformer\n",
    "from sklearn.utils import parallel_backend\n",
    "from nltk.tokenize import word_tokenize, sent_tokenize\n",
    "from sklearn.metrics import classification_report, plot_confusion_matrix, confusion_matrix, f1_score\n",
    "from sklearn.linear_model import LogisticRegression\n",
    "from sklearn.discriminant_analysis import LinearDiscriminantAnalysis\n",
    "from sklearn.ensemble import RandomForestClassifier\n",
    "from sklearn.model_selection import GridSearchCV\n",
    "from sklearn import svm\n",
    "from sklearn.dummy import DummyClassifier\n",
    "from sklearn.base import ClassifierMixin, BaseEstimator\n",
    "from tensorflow.keras.optimizers import RMSprop, Adam\n",
    "from tensorflow.keras.callbacks import EarlyStopping\n",
    "from tensorflow.keras.wrappers.scikit_learn import KerasClassifier\n",
    "import tensorflow as tf\n",
    "from tensorflow.keras import backend as K\n",
    "from tensorflow.keras.layers import Dense, Dropout, Embedding, Masking, Lambda, Layer, Flatten\n",
    "from tensorflow.keras.models import Sequential\n",
    "from tensorflow.keras import optimizers\n",
    "import os\n",
    "import itertools"
   ]
  },
  {
   "cell_type": "markdown",
   "metadata": {},
   "source": [
    "#### Load financial news data and financial index data"
   ]
  },
  {
   "cell_type": "code",
   "execution_count": 2,
   "metadata": {},
   "outputs": [],
   "source": [
    "ONEDRIVE_PATH = Path(r\"C:\\Users\\gusta\\Kidbrooke Advisory Ab\\KidbrookeOneDrive - Gustaf Backman exjobb\")\n",
    "\n",
    "# Read the financial data \n",
    "fin_path = ONEDRIVE_PATH / \"Input Data/stock_data.pkl\"\n",
    "fin_data = pd.read_pickle(fin_path)\n",
    "fin_data = fin_data.loc['2006-10-19' : '2013-11-22']\n",
    "\n",
    "news_path = ONEDRIVE_PATH / \"Input Data/financial_headlines_20061020-20131119.pkl\"\n",
    "news_data = pd.DataFrame(pd.read_pickle(news_path))\n",
    "news_data.set_index('date',inplace=True)"
   ]
  },
  {
   "cell_type": "code",
   "execution_count": 3,
   "metadata": {},
   "outputs": [],
   "source": [
    "news_dates = news_data.index.drop_duplicates()\n",
    "fin_dates = fin_data.index.drop_duplicates\n",
    "\n",
    "# Find the dates which are present in both the financial data and news data\n",
    "valid_dates = []\n",
    "for date in news_dates: \n",
    "    if date in fin_data.index: \n",
    "        valid_dates.append(date)\n",
    "        \n",
    "# Create targets for all 3 time series \n",
    "targets = pd.DataFrame(dtype='int8')\n",
    "prev_vals = fin_data.iloc[0]\n",
    "for i in range(len(valid_dates)): \n",
    "    y_temp = []\n",
    "    # If the value has increased since yesterday, y = 1\n",
    "    if prev_vals['1 YEAR'] < fin_data.iloc[i+1]['1 YEAR']: \n",
    "        y_temp.append(1)\n",
    "    else:\n",
    "        y_temp.append(0)\n",
    "        \n",
    "    if prev_vals['3 YEAR'] < fin_data.iloc[i+1]['3 YEAR']: \n",
    "        y_temp.append(1)\n",
    "    else:\n",
    "        y_temp.append(0)\n",
    "        \n",
    "    if prev_vals['S&P'] < fin_data.iloc[i+1]['S&P']: \n",
    "        y_temp.append(1)\n",
    "    else:\n",
    "        y_temp.append(0)\n",
    "    targets = targets.append({'1 YEAR':y_temp[0], '3 YEAR':y_temp[1], 'S&P':y_temp[2]}, ignore_index=True)\n",
    "    prev_vals = fin_data.iloc[i+1]"
   ]
  },
  {
   "cell_type": "code",
   "execution_count": 4,
   "metadata": {},
   "outputs": [
    {
     "name": "stderr",
     "output_type": "stream",
     "text": [
      "100%|██████████████████████████████████████████████████████████████████████████████| 1846/1846 [07:22<00:00,  4.18it/s]\n"
     ]
    },
    {
     "name": "stdout",
     "output_type": "stream",
     "text": [
      "Length of texts: 1846\n",
      "Length of targets: 1846\n"
     ]
    }
   ],
   "source": [
    "# Concatenate the news for each day in the valid indices, i.e. the indices that are present in both \n",
    "# the financial data and the news data \n",
    "texts = []\n",
    "for ind,date in enumerate(tqdm(valid_dates)): \n",
    "    temp_texts = \"\"\n",
    "    for i,text in enumerate(news_data.loc[date]['title']): \n",
    "        if i < len(news_data.loc[date]['title']) - 1:\n",
    "            temp_texts += text + \". \"\n",
    "        else:\n",
    "            temp_texts += text + \".\"\n",
    "    texts.append(temp_texts)\n",
    "texts = np.asarray(texts)\n",
    "print(\"Length of texts:\",len(texts))\n",
    "print(\"Length of targets:\",len(targets))"
   ]
  },
  {
   "cell_type": "markdown",
   "metadata": {},
   "source": [
    "#### Format the data with SBERT\n"
   ]
  },
  {
   "cell_type": "code",
   "execution_count": 5,
   "metadata": {},
   "outputs": [],
   "source": [
    "# Load a pre-trained SBERT-model \n",
    "sbert_model = SentenceTransformer('bert-base-nli-mean-tokens')"
   ]
  },
  {
   "cell_type": "code",
   "execution_count": 6,
   "metadata": {},
   "outputs": [
    {
     "name": "stdout",
     "output_type": "stream",
     "text": [
      "Loaded previously saved embeddings.\n"
     ]
    }
   ],
   "source": [
    "path = ONEDRIVE_PATH / \"Input Data/news_embedded_today_bert_base_nli_mean.npy\"\n",
    "# Check if an embedding matrix for the news dataset has been previously constructed \n",
    "if os.path.exists(path):\n",
    "    x = np.load(path)\n",
    "    embed_dim = x.shape[-1]\n",
    "    print(\"Loaded previously saved embeddings.\")\n",
    "else:\n",
    "    # Create embedding matrix for every sample with the mean embedding over all sentences in that review\n",
    "    x = np.zeros((len(targets), 768))\n",
    "    for i,text in enumerate(tqdm(texts)):\n",
    "        sbert_texts = sbert_model.encode(sent_tokenize(text))\n",
    "        x[i] = np.mean(sbert_texts,axis=0)\n",
    "    np.save(path,x)"
   ]
  },
  {
   "cell_type": "markdown",
   "metadata": {},
   "source": [
    "#### Partition into training and test set\n",
    "Since the data is somewhat imbalanced - mostly for the 1 year rate - the training data will be under sampled by the minority class. "
   ]
  },
  {
   "cell_type": "code",
   "execution_count": 7,
   "metadata": {},
   "outputs": [
    {
     "name": "stdout",
     "output_type": "stream",
     "text": [
      " ----- 1 YEAR RATE -----\n",
      "Ratio neg labels 1 year rate: 0.6890574214517876\n",
      "Neg labels: 1272 Pos labels: 574\n",
      " ----- 3 YEAR RATE -----\n",
      "Ratio neg labels 3 year rate: 0.5937161430119177\n",
      "Neg labels: 1096 Pos labels: 750\n",
      " -----     S&P     -----\n",
      "Ratio neg labels S&P: 0.4637053087757313\n",
      "Neg labels: 856 Pos labels: 990\n"
     ]
    }
   ],
   "source": [
    "zero_indices_1yr = np.where(targets['1 YEAR'] == 0)[0]\n",
    "one_indices_1yr = np.where(targets['1 YEAR'] == 1)[0]\n",
    "\n",
    "zero_indices_3yr = np.where(targets['3 YEAR'] == 0)[0]\n",
    "one_indices_3yr = np.where(targets['3 YEAR'] == 1)[0]\n",
    "\n",
    "zero_indices_sp = np.where(targets['S&P'] == 0)[0]\n",
    "one_indices_sp = np.where(targets['S&P'] == 1)[0]\n",
    "\n",
    "print(\" ----- 1 YEAR RATE -----\")\n",
    "print(\"Ratio neg labels 1 year rate:\",len(zero_indices_1yr) / len(targets))\n",
    "print(\"Neg labels:\", len(zero_indices_1yr), \"Pos labels:\",len(one_indices_1yr))\n",
    "print(\" ----- 3 YEAR RATE -----\")\n",
    "print(\"Ratio neg labels 3 year rate:\",len(zero_indices_3yr) / len(targets))\n",
    "print(\"Neg labels:\", len(zero_indices_3yr), \"Pos labels:\",len(one_indices_3yr))\n",
    "print(\" -----     S&P     -----\")\n",
    "print(\"Ratio neg labels S&P:\",len(zero_indices_sp) / len(targets))\n",
    "print(\"Neg labels:\", len(zero_indices_sp), \"Pos labels:\",len(one_indices_sp))"
   ]
  },
  {
   "cell_type": "code",
   "execution_count": 8,
   "metadata": {},
   "outputs": [
    {
     "name": "stdout",
     "output_type": "stream",
     "text": [
      " ----- 1 YEAR RATE -----\n",
      "Train data shape (x,y): (1200, 768) , (1200,)\n",
      "Train data label ratio (0 / 1): 827 / 373\n",
      "Test data shape (x,y): (646, 768) , (646,)\n",
      "Test data label ratio (0 / 1): 445 / 201\n",
      " ----- 3 YEAR RATE -----\n",
      "Train data shape (x,y): (1200, 768) , (1200,)\n",
      "Train data label ratio (0 / 1): 712 / 488\n",
      "Test data shape (x,y): (646, 768) , (646,)\n",
      "Test data label ratio (0 / 1): 384 / 262\n",
      " -----     S&P     -----\n",
      "Train data shape (x,y): (1200, 768) , (1200,)\n",
      "Train data label ratio (0 / 1): 556 / 644\n",
      "Test data shape (x,y): (646, 768) , (646,)\n",
      "Test data label ratio (0 / 1): 300 / 346\n"
     ]
    }
   ],
   "source": [
    "n_train = 1200\n",
    "n = len(targets)\n",
    "\n",
    "np.random.shuffle(zero_indices_1yr)\n",
    "np.random.shuffle(one_indices_1yr)\n",
    "part_zeros_1yr = len(zero_indices_1yr) / n\n",
    "train_indices_1yr = np.zeros((n_train),dtype=int)\n",
    "train_indices_1yr[:round(part_zeros_1yr * n_train)] = zero_indices_1yr[:round(part_zeros_1yr * n_train)]\n",
    "train_indices_1yr[round(part_zeros_1yr * n_train):] = one_indices_1yr[:round((1 - part_zeros_1yr) * n_train)]\n",
    "np.random.shuffle(train_indices_1yr)\n",
    "# All indices not in train is in test. \n",
    "test_indices_1yr = np.setdiff1d(np.arange(len(targets)), train_indices_1yr)\n",
    "np.random.shuffle(test_indices_1yr)\n",
    "\n",
    "np.random.shuffle(zero_indices_3yr)\n",
    "np.random.shuffle(one_indices_3yr)\n",
    "part_zeros_3yr = len(zero_indices_3yr) / n\n",
    "train_indices_3yr = np.zeros((n_train),dtype=int)\n",
    "train_indices_3yr[:round(part_zeros_3yr * n_train)] = zero_indices_3yr[:round(part_zeros_3yr * n_train)]\n",
    "train_indices_3yr[round(part_zeros_3yr * n_train):] = one_indices_3yr[:round((1 - part_zeros_3yr) * n_train)]\n",
    "np.random.shuffle(train_indices_3yr)\n",
    "# All indices not in train is in test. \n",
    "test_indices_3yr = np.setdiff1d(np.arange(len(targets)), train_indices_3yr)\n",
    "np.random.shuffle(test_indices_3yr)\n",
    "\n",
    "np.random.shuffle(zero_indices_sp)\n",
    "np.random.shuffle(one_indices_sp)\n",
    "part_zeros_sp = len(zero_indices_sp) / n\n",
    "train_indices_sp = np.zeros((n_train),dtype=int)\n",
    "train_indices_sp[:round(part_zeros_sp * n_train)] = zero_indices_sp[:round(part_zeros_sp * n_train)]\n",
    "train_indices_sp[round(part_zeros_sp * n_train):] = one_indices_sp[:round((1 - part_zeros_sp) * n_train)]\n",
    "np.random.shuffle(train_indices_sp)\n",
    "# All indices not in train is in test. \n",
    "test_indices_sp = np.setdiff1d(np.arange(len(targets)), train_indices_sp)\n",
    "np.random.shuffle(test_indices_sp)\n",
    "\n",
    "x_train_1yr = x[train_indices_1yr]\n",
    "x_test_1yr = x[test_indices_1yr]\n",
    "y_train_1yr = targets.iloc[train_indices_1yr]['1 YEAR'].values\n",
    "y_test_1yr = targets.iloc[test_indices_1yr]['1 YEAR'].values\n",
    "\n",
    "x_train_3yr = x[train_indices_3yr]\n",
    "x_test_3yr = x[test_indices_3yr]\n",
    "y_train_3yr = targets.iloc[train_indices_3yr]['3 YEAR'].values\n",
    "y_test_3yr = targets.iloc[test_indices_3yr]['3 YEAR'].values\n",
    "\n",
    "x_train_sp = x[train_indices_sp]\n",
    "x_test_sp = x[test_indices_sp]\n",
    "y_train_sp = targets.iloc[train_indices_sp]['S&P'].values\n",
    "y_test_sp = targets.iloc[test_indices_sp]['S&P'].values\n",
    "\n",
    "\n",
    "# Sanity check of shapes \n",
    "\n",
    "print(\" ----- 1 YEAR RATE -----\")\n",
    "print(\"Train data shape (x,y):\",x_train_1yr.shape,\",\", y_train_1yr.shape)\n",
    "print(\"Train data label ratio (0 / 1):\",np.sum(y_train_1yr == 0),\"/\", np.sum(y_train_1yr == 1))\n",
    "print(\"Test data shape (x,y):\",x_test_1yr.shape,\",\", y_test_1yr.shape)\n",
    "print(\"Test data label ratio (0 / 1):\",np.sum(y_test_1yr == 0),\"/\", np.sum(y_test_1yr == 1))\n",
    "\n",
    "print(\" ----- 3 YEAR RATE -----\")\n",
    "print(\"Train data shape (x,y):\",x_train_3yr.shape,\",\", y_train_3yr.shape)\n",
    "print(\"Train data label ratio (0 / 1):\",np.sum(y_train_3yr == 0),\"/\", np.sum(y_train_3yr == 1))\n",
    "print(\"Test data shape (x,y):\",x_test_3yr.shape,\",\", y_test_3yr.shape)\n",
    "print(\"Test data label ratio (0 / 1):\",np.sum(y_test_3yr == 0),\"/\", np.sum(y_test_3yr == 1))\n",
    "print(\" -----     S&P     -----\")\n",
    "print(\"Train data shape (x,y):\",x_train_sp.shape,\",\", y_train_sp.shape)\n",
    "print(\"Train data label ratio (0 / 1):\",np.sum(y_train_sp == 0),\"/\", np.sum(y_train_sp == 1))\n",
    "print(\"Test data shape (x,y):\",x_test_sp.shape,\",\", y_test_sp.shape)\n",
    "print(\"Test data label ratio (0 / 1):\",np.sum(y_test_sp == 0),\"/\", np.sum(y_test_sp == 1))"
   ]
  },
  {
   "cell_type": "markdown",
   "metadata": {},
   "source": [
    "## Models \n",
    "The data has been pre-processed and the models can be evaluated. All of the models are fitted with the three data series. "
   ]
  },
  {
   "cell_type": "code",
   "execution_count": 19,
   "metadata": {},
   "outputs": [],
   "source": [
    "# Some help functions for plotting the results \n",
    "\n",
    "def plot_results(model,x_test, y_test,save=False, name=''):\n",
    "    y_test_preds = model.predict(x_test)\n",
    "    conf_mat = confusion_matrix(y_test,y_test_preds)\n",
    "    print(\"Confusion matrix:\")\n",
    "    print(conf_mat)\n",
    "    print(classification_report(y_test, y_test_preds))\n",
    "    print(\"Test accuracy:\",model.score(x_test, y_test))\n",
    "    plot_confusion_matrix(model,x_test,y_test)\n",
    "    if save:\n",
    "        plt.savefig(\"Figs SBERT/\" + name + \"confmat.jpg\")\n",
    "    plt.show()\n",
    "    \n",
    "def plot_results_nn(history, model,x_test, y_test,save=False, name=''):\n",
    "    plt.subplot(121)\n",
    "    plt.plot(history.history['loss'],label='Loss')\n",
    "    plt.plot(history.history['val_loss'],label='Val loss')\n",
    "    plt.legend()\n",
    "    plt.subplot(122)\n",
    "    plt.plot(history.history['acc'],label='Acc')\n",
    "    plt.plot(history.history['val_acc'],label='Val acc')\n",
    "    plt.legend()\n",
    "    if save: \n",
    "        plt.savefig(\"Figs SBERT/\" + name + \"history.jpg\")\n",
    "    plt.show() \n",
    "    y_test_pred = np.round(model.predict(x_test))\n",
    "    plt.subplot(121)\n",
    "    plt.bar([0,1],[np.sum(y_test == 0), np.sum(y_test == 1)], label='Actual test dist')\n",
    "    plt.legend()\n",
    "    plt.xticks([0, 1])\n",
    "    plt.subplot(122)\n",
    "    plt.bar([0,1],[np.sum(y_test_pred == 0), np.sum(y_test_pred == 1)], label='Pred test dist')\n",
    "    plt.legend()\n",
    "    plt.xticks([0, 1])\n",
    "    plt.show()\n",
    "    conf_mat = confusion_matrix(y_test,y_test_pred)\n",
    "    print(\"Confusion matrix:\")\n",
    "    print(conf_mat)\n",
    "    conf_mat = confusion_matrix(y_test,y_test_pred,normalize='pred')\n",
    "    ax = sn.heatmap(conf_mat,)\n",
    "    ax.set_ylabel(\"True values\")\n",
    "    ax.set_xlabel(\"Predicted values\")\n",
    "    if save: \n",
    "        plt.savefig(\"Figs SBERT/\" + name + \"confmat.jpg\")\n",
    "    plt.show()\n",
    "    print(classification_report(y_test, y_test_pred))\n",
    "    print(\"Test accuracy:\",round(np.sum(y_test == y_test_pred[:,0]) / len(y_test),3))"
   ]
  },
  {
   "cell_type": "markdown",
   "metadata": {},
   "source": [
    "## Random Classifier\n",
    "Just for real simple comparison. \n",
    "#### 1 year rate"
   ]
  },
  {
   "cell_type": "code",
   "execution_count": 10,
   "metadata": {},
   "outputs": [
    {
     "name": "stdout",
     "output_type": "stream",
     "text": [
      "              precision    recall  f1-score   support\n",
      "\n",
      "         0.0       0.69      0.70      0.69       445\n",
      "         1.0       0.31      0.29      0.30       201\n",
      "\n",
      "    accuracy                           0.57       646\n",
      "   macro avg       0.50      0.50      0.50       646\n",
      "weighted avg       0.57      0.57      0.57       646\n",
      "\n",
      "Test accuracy: 0.565015479876161\n"
     ]
    },
    {
     "data": {
      "image/png": "[encoded data removed]",
      "text/plain": [
       "<Figure size 432x288 with 2 Axes>"
      ]
     },
     "metadata": {
      "needs_background": "light"
     },
     "output_type": "display_data"
    }
   ],
   "source": [
    "# Dummy Classifier, stratified\n",
    "dummy_clf_1yr = DummyClassifier(strategy='stratified').fit(x_train_1yr, y_train_1yr)\n",
    "plot_results(dummy_clf_1yr, x_test_1yr, y_test_1yr,save=True,name='randclf_1yr')"
   ]
  },
  {
   "cell_type": "code",
   "execution_count": 11,
   "metadata": {
    "scrolled": false
   },
   "outputs": [
    {
     "name": "stderr",
     "output_type": "stream",
     "text": [
      "C:\\ProgramData\\Anaconda3\\envs\\nlpenv\\lib\\site-packages\\sklearn\\metrics\\_classification.py:1272: UndefinedMetricWarning: Precision and F-score are ill-defined and being set to 0.0 in labels with no predicted samples. Use `zero_division` parameter to control this behavior.\n",
      "  _warn_prf(average, modifier, msg_start, len(result))\n"
     ]
    },
    {
     "name": "stdout",
     "output_type": "stream",
     "text": [
      "              precision    recall  f1-score   support\n",
      "\n",
      "         0.0       0.69      1.00      0.82       445\n",
      "         1.0       0.00      0.00      0.00       201\n",
      "\n",
      "    accuracy                           0.69       646\n",
      "   macro avg       0.34      0.50      0.41       646\n",
      "weighted avg       0.47      0.69      0.56       646\n",
      "\n",
      "Test accuracy: 0.6888544891640866\n"
     ]
    },
    {
     "data": {
      "image/png": "[encoded data removed]",
      "text/plain": [
       "<Figure size 432x288 with 2 Axes>"
      ]
     },
     "metadata": {
      "needs_background": "light"
     },
     "output_type": "display_data"
    }
   ],
   "source": [
    "# Dummy Classifier, most frequent\n",
    "dummy_clf_1yr = DummyClassifier(strategy='most_frequent').fit(x_train_sp, y_train_1yr)\n",
    "plot_results(dummy_clf_1yr, x_test_1yr, y_test_1yr,save=True,name='randclf_1yr')"
   ]
  },
  {
   "cell_type": "markdown",
   "metadata": {},
   "source": [
    "#### 3 year rate"
   ]
  },
  {
   "cell_type": "code",
   "execution_count": 12,
   "metadata": {},
   "outputs": [
    {
     "name": "stdout",
     "output_type": "stream",
     "text": [
      "              precision    recall  f1-score   support\n",
      "\n",
      "         0.0       0.61      0.62      0.62       384\n",
      "         1.0       0.43      0.43      0.43       262\n",
      "\n",
      "    accuracy                           0.54       646\n",
      "   macro avg       0.52      0.52      0.52       646\n",
      "weighted avg       0.54      0.54      0.54       646\n",
      "\n",
      "Test accuracy: 0.5247678018575851\n"
     ]
    },
    {
     "data": {
      "image/png": "[encoded data removed]",
      "text/plain": [
       "<Figure size 432x288 with 2 Axes>"
      ]
     },
     "metadata": {
      "needs_background": "light"
     },
     "output_type": "display_data"
    }
   ],
   "source": [
    "# Dummy Classifier, stratified\n",
    "dummy_clf_3yr = DummyClassifier(strategy='stratified').fit(x_train_3yr, y_train_3yr)\n",
    "plot_results(dummy_clf_3yr, x_test_3yr, y_test_3yr,save=True,name='randclf_3yr')"
   ]
  },
  {
   "cell_type": "code",
   "execution_count": 13,
   "metadata": {},
   "outputs": [
    {
     "name": "stdout",
     "output_type": "stream",
     "text": [
      "              precision    recall  f1-score   support\n",
      "\n",
      "         0.0       0.59      1.00      0.75       384\n",
      "         1.0       0.00      0.00      0.00       262\n",
      "\n",
      "    accuracy                           0.59       646\n",
      "   macro avg       0.30      0.50      0.37       646\n",
      "weighted avg       0.35      0.59      0.44       646\n",
      "\n",
      "Test accuracy: 0.5944272445820433\n"
     ]
    },
    {
     "data": {
      "image/png": "[encoded data removed]",
      "text/plain": [
       "<Figure size 432x288 with 2 Axes>"
      ]
     },
     "metadata": {
      "needs_background": "light"
     },
     "output_type": "display_data"
    }
   ],
   "source": [
    "# Dummy Classifier, most frequent\n",
    "dummy_clf_3yr = DummyClassifier(strategy='most_frequent').fit(x_train_3yr, y_train_3yr)\n",
    "plot_results(dummy_clf_3yr, x_test_3yr, y_test_3yr,save=True,name='randclf_3yr')"
   ]
  },
  {
   "cell_type": "markdown",
   "metadata": {},
   "source": [
    "#### S&P"
   ]
  },
  {
   "cell_type": "code",
   "execution_count": 14,
   "metadata": {},
   "outputs": [
    {
     "name": "stdout",
     "output_type": "stream",
     "text": [
      "              precision    recall  f1-score   support\n",
      "\n",
      "         0.0       0.49      0.47      0.48       300\n",
      "         1.0       0.56      0.57      0.56       346\n",
      "\n",
      "    accuracy                           0.53       646\n",
      "   macro avg       0.52      0.52      0.52       646\n",
      "weighted avg       0.53      0.53      0.53       646\n",
      "\n",
      "Test accuracy: 0.5294117647058824\n"
     ]
    },
    {
     "data": {
      "image/png": "[encoded data removed]",
      "text/plain": [
       "<Figure size 432x288 with 2 Axes>"
      ]
     },
     "metadata": {
      "needs_background": "light"
     },
     "output_type": "display_data"
    }
   ],
   "source": [
    "# Dummy Classifier, stratified\n",
    "dummy_clf_sp = DummyClassifier(strategy='stratified').fit(x_train_sp, y_train_sp)\n",
    "plot_results(dummy_clf_sp, x_test_sp, y_test_sp,save=True,name='randclf_sp')"
   ]
  },
  {
   "cell_type": "code",
   "execution_count": 15,
   "metadata": {},
   "outputs": [
    {
     "name": "stdout",
     "output_type": "stream",
     "text": [
      "              precision    recall  f1-score   support\n",
      "\n",
      "         0.0       0.00      0.00      0.00       300\n",
      "         1.0       0.54      1.00      0.70       346\n",
      "\n",
      "    accuracy                           0.54       646\n",
      "   macro avg       0.27      0.50      0.35       646\n",
      "weighted avg       0.29      0.54      0.37       646\n",
      "\n",
      "Test accuracy: 0.5356037151702786\n"
     ]
    },
    {
     "data": {
      "image/png": "[encoded data removed]",
      "text/plain": [
       "<Figure size 432x288 with 2 Axes>"
      ]
     },
     "metadata": {
      "needs_background": "light"
     },
     "output_type": "display_data"
    }
   ],
   "source": [
    "# Dummy Classifier\n",
    "dummy_clf_sp = DummyClassifier(strategy='most_frequent').fit(x_train_sp, y_train_sp)\n",
    "plot_results(dummy_clf_sp, x_test_sp, y_test_sp,save=True,name='randclf_sp')"
   ]
  },
  {
   "cell_type": "markdown",
   "metadata": {},
   "source": [
    "### Logistic Regression with SBERT\n",
    "#### 1 year rate"
   ]
  },
  {
   "cell_type": "code",
   "execution_count": 16,
   "metadata": {},
   "outputs": [
    {
     "name": "stdout",
     "output_type": "stream",
     "text": [
      "              precision    recall  f1-score   support\n",
      "\n",
      "         0.0       0.71      0.91      0.80       445\n",
      "         1.0       0.47      0.19      0.27       201\n",
      "\n",
      "    accuracy                           0.68       646\n",
      "   macro avg       0.59      0.55      0.53       646\n",
      "weighted avg       0.64      0.68      0.63       646\n",
      "\n",
      "Test accuracy: 0.6826625386996904\n"
     ]
    },
    {
     "data": {
      "image/png": "[encoded data removed]",
      "text/plain": [
       "<Figure size 432x288 with 2 Axes>"
      ]
     },
     "metadata": {
      "needs_background": "light"
     },
     "output_type": "display_data"
    }
   ],
   "source": [
    "# Logistic regression\n",
    "logreg_1yr = LogisticRegression(random_state=0,max_iter=10000).fit(x_train_1yr, y_train_1yr)\n",
    "plot_results(logreg_1yr,x_test_1yr, y_test_1yr,save=True,name='logreg_1yr')"
   ]
  },
  {
   "cell_type": "markdown",
   "metadata": {},
   "source": [
    "#### 3 year rate"
   ]
  },
  {
   "cell_type": "code",
   "execution_count": 17,
   "metadata": {},
   "outputs": [
    {
     "name": "stdout",
     "output_type": "stream",
     "text": [
      "              precision    recall  f1-score   support\n",
      "\n",
      "         0.0       0.63      0.79      0.70       384\n",
      "         1.0       0.51      0.32      0.39       262\n",
      "\n",
      "    accuracy                           0.60       646\n",
      "   macro avg       0.57      0.55      0.55       646\n",
      "weighted avg       0.58      0.60      0.57       646\n",
      "\n",
      "Test accuracy: 0.5975232198142415\n"
     ]
    },
    {
     "data": {
      "image/png": "[encoded data removed]",
      "text/plain": [
       "<Figure size 432x288 with 2 Axes>"
      ]
     },
     "metadata": {
      "needs_background": "light"
     },
     "output_type": "display_data"
    }
   ],
   "source": [
    "# Logistic regression\n",
    "logreg_3yr = LogisticRegression(random_state=0,max_iter=10000).fit(x_train_3yr, y_train_3yr)\n",
    "plot_results(logreg_3yr,x_test_3yr, y_test_3yr,save=True,name='logreg_3yr')"
   ]
  },
  {
   "cell_type": "markdown",
   "metadata": {},
   "source": [
    "#### S&P "
   ]
  },
  {
   "cell_type": "code",
   "execution_count": 20,
   "metadata": {},
   "outputs": [
    {
     "name": "stdout",
     "output_type": "stream",
     "text": [
      "Confusion matrix:\n",
      "[[143 157]\n",
      " [120 226]]\n",
      "              precision    recall  f1-score   support\n",
      "\n",
      "         0.0       0.54      0.48      0.51       300\n",
      "         1.0       0.59      0.65      0.62       346\n",
      "\n",
      "    accuracy                           0.57       646\n",
      "   macro avg       0.57      0.56      0.56       646\n",
      "weighted avg       0.57      0.57      0.57       646\n",
      "\n",
      "Test accuracy: 0.5712074303405573\n"
     ]
    },
    {
     "data": {
      "image/png": "[encoded data removed]",
      "text/plain": [
       "<Figure size 432x288 with 2 Axes>"
      ]
     },
     "metadata": {
      "needs_background": "light"
     },
     "output_type": "display_data"
    }
   ],
   "source": [
    "# Logistic regression\n",
    "logreg_sp = LogisticRegression(random_state=0,max_iter=10000).fit(x_train_sp, y_train_sp)\n",
    "plot_results(logreg_sp,x_test_sp, y_test_sp,save=True,name='logreg_sp')"
   ]
  },
  {
   "cell_type": "markdown",
   "metadata": {},
   "source": [
    "### Support Vector Machine with SBERT\n",
    "#### 1 year rate"
   ]
  },
  {
   "cell_type": "code",
   "execution_count": 18,
   "metadata": {},
   "outputs": [
    {
     "name": "stderr",
     "output_type": "stream",
     "text": [
      "C:\\ProgramData\\Anaconda3\\envs\\nlpenv\\lib\\site-packages\\sklearn\\metrics\\_classification.py:1272: UndefinedMetricWarning: Precision and F-score are ill-defined and being set to 0.0 in labels with no predicted samples. Use `zero_division` parameter to control this behavior.\n",
      "  _warn_prf(average, modifier, msg_start, len(result))\n"
     ]
    },
    {
     "name": "stdout",
     "output_type": "stream",
     "text": [
      "              precision    recall  f1-score   support\n",
      "\n",
      "         0.0       0.69      1.00      0.82       445\n",
      "         1.0       0.00      0.00      0.00       201\n",
      "\n",
      "    accuracy                           0.69       646\n",
      "   macro avg       0.34      0.50      0.41       646\n",
      "weighted avg       0.47      0.69      0.56       646\n",
      "\n",
      "Test accuracy: 0.6888544891640866\n"
     ]
    },
    {
     "data": {
      "image/png": "[encoded data removed]",
      "text/plain": [
       "<Figure size 432x288 with 2 Axes>"
      ]
     },
     "metadata": {
      "needs_background": "light"
     },
     "output_type": "display_data"
    }
   ],
   "source": [
    "svm_clf_1yr = svm.SVC().fit(x_train_1yr, y_train_1yr)\n",
    "plot_results(svm_clf_1yr, x_test_1yr, y_test_1yr,save=True,name='svm_1yr')"
   ]
  },
  {
   "cell_type": "markdown",
   "metadata": {},
   "source": [
    "#### 3 year rate"
   ]
  },
  {
   "cell_type": "code",
   "execution_count": 22,
   "metadata": {},
   "outputs": [
    {
     "name": "stderr",
     "output_type": "stream",
     "text": [
      "C:\\ProgramData\\Anaconda3\\envs\\nlpenv\\lib\\site-packages\\sklearn\\metrics\\_classification.py:1272: UndefinedMetricWarning: Precision and F-score are ill-defined and being set to 0.0 in labels with no predicted samples. Use `zero_division` parameter to control this behavior.\n",
      "  _warn_prf(average, modifier, msg_start, len(result))\n"
     ]
    },
    {
     "name": "stdout",
     "output_type": "stream",
     "text": [
      "              precision    recall  f1-score   support\n",
      "\n",
      "         0.0       0.59      1.00      0.75       384\n",
      "         1.0       0.00      0.00      0.00       262\n",
      "\n",
      "    accuracy                           0.59       646\n",
      "   macro avg       0.30      0.50      0.37       646\n",
      "weighted avg       0.35      0.59      0.44       646\n",
      "\n",
      "Test accuracy: 0.5944272445820433\n"
     ]
    },
    {
     "data": {
      "image/png": "[encoded data removed]",
      "text/plain": [
       "<Figure size 432x288 with 2 Axes>"
      ]
     },
     "metadata": {
      "needs_background": "light"
     },
     "output_type": "display_data"
    }
   ],
   "source": [
    "svm_clf_3yr = svm.SVC().fit(x_train_3yr, y_train_3yr)\n",
    "plot_results(svm_clf_3yr, x_test_3yr, y_test_3yr,save=True,name='svm_3yr')"
   ]
  },
  {
   "cell_type": "markdown",
   "metadata": {},
   "source": [
    "#### S&P "
   ]
  },
  {
   "cell_type": "code",
   "execution_count": 23,
   "metadata": {},
   "outputs": [
    {
     "name": "stdout",
     "output_type": "stream",
     "text": [
      "              precision    recall  f1-score   support\n",
      "\n",
      "         0.0       0.56      0.36      0.43       300\n",
      "         1.0       0.57      0.75      0.65       346\n",
      "\n",
      "    accuracy                           0.57       646\n",
      "   macro avg       0.57      0.56      0.54       646\n",
      "weighted avg       0.57      0.57      0.55       646\n",
      "\n",
      "Test accuracy: 0.5696594427244582\n"
     ]
    },
    {
     "data": {
      "image/png": "[encoded data removed]",
      "text/plain": [
       "<Figure size 432x288 with 2 Axes>"
      ]
     },
     "metadata": {
      "needs_background": "light"
     },
     "output_type": "display_data"
    }
   ],
   "source": [
    "svm_clf_sp = svm.SVC().fit(x_train_sp, y_train_sp)\n",
    "plot_results(svm_clf_sp, x_test_sp, y_test_sp,save=True,name='svm_sp')"
   ]
  },
  {
   "cell_type": "markdown",
   "metadata": {},
   "source": [
    "### Random forest with SBERT\n",
    "#### 1 year rate"
   ]
  },
  {
   "cell_type": "code",
   "execution_count": 24,
   "metadata": {},
   "outputs": [
    {
     "name": "stdout",
     "output_type": "stream",
     "text": [
      "Fitting 10 folds for each of 12 candidates, totalling 120 fits\n"
     ]
    },
    {
     "name": "stderr",
     "output_type": "stream",
     "text": [
      "[Parallel(n_jobs=-1)]: Using backend ThreadingBackend with 8 concurrent workers.\n",
      "[Parallel(n_jobs=-1)]: Done  34 tasks      | elapsed:  1.5min\n",
      "[Parallel(n_jobs=-1)]: Done 120 out of 120 | elapsed:  6.1min finished\n"
     ]
    },
    {
     "name": "stdout",
     "output_type": "stream",
     "text": [
      "Best: 0.576635 using {'max_depth': 100, 'n_estimators': 250}\n",
      "0.569877 (0.019576) with: {'max_depth': None, 'n_estimators': 250}\n",
      "0.565324 (0.023185) with: {'max_depth': None, 'n_estimators': 500}\n",
      "0.561592 (0.009117) with: {'max_depth': None, 'n_estimators': 750}\n",
      "0.562895 (0.010439) with: {'max_depth': None, 'n_estimators': 1000}\n",
      "0.570567 (0.014747) with: {'max_depth': 50, 'n_estimators': 250}\n",
      "0.568136 (0.011918) with: {'max_depth': 50, 'n_estimators': 500}\n",
      "0.568397 (0.018738) with: {'max_depth': 50, 'n_estimators': 750}\n",
      "0.564311 (0.014255) with: {'max_depth': 50, 'n_estimators': 1000}\n",
      "0.576635 (0.021500) with: {'max_depth': 100, 'n_estimators': 250}\n",
      "0.564544 (0.012779) with: {'max_depth': 100, 'n_estimators': 500}\n",
      "0.572383 (0.014364) with: {'max_depth': 100, 'n_estimators': 750}\n",
      "0.564600 (0.013903) with: {'max_depth': 100, 'n_estimators': 1000}\n",
      "              precision    recall  f1-score   support\n",
      "\n",
      "         0.0       0.68      0.96      0.80       445\n",
      "         1.0       0.11      0.01      0.02       201\n",
      "\n",
      "    accuracy                           0.67       646\n",
      "   macro avg       0.39      0.49      0.41       646\n",
      "weighted avg       0.50      0.67      0.56       646\n",
      "\n",
      "Test accuracy: 0.6656346749226006\n"
     ]
    },
    {
     "data": {
      "image/png": "[encoded data removed]",
      "text/plain": [
       "<Figure size 432x288 with 2 Axes>"
      ]
     },
     "metadata": {
      "needs_background": "light"
     },
     "output_type": "display_data"
    }
   ],
   "source": [
    "# Random Forest\n",
    "rf_param_grid = dict(max_depth=[None, 50, 100],\n",
    "                  n_estimators=[250, 500, 750, 1000])\n",
    "rf_grid = GridSearchCV(estimator=RandomForestClassifier(), \n",
    "                       param_grid=rf_param_grid, \n",
    "                       n_jobs=-1, \n",
    "                       cv=10, \n",
    "                       scoring='f1_weighted',\n",
    "                       verbose=1)\n",
    "with parallel_backend('threading'):    # This is a bug work-around mentioned in https://github.com/scikit-learn/scikit-learn/issues/12546\n",
    "    rf_grid_result = rf_grid.fit(x_train_1yr, y_train_1yr)\n",
    "# summarize results\n",
    "print(\"Best: %f using %s\" % (rf_grid_result.best_score_, rf_grid_result.best_params_))\n",
    "rf_means = rf_grid_result.cv_results_['mean_test_score']\n",
    "rf_stds = rf_grid_result.cv_results_['std_test_score']\n",
    "rf_params = rf_grid_result.cv_results_['params']\n",
    "for mean, stdev, param in zip(rf_means, rf_stds, rf_params):\n",
    "    print(\"%f (%f) with: %r\" % (mean, stdev, param))\n",
    "\n",
    "# Fit the model with the best parameters found in the cross validation. \n",
    "randomforest_1yr = RandomForestClassifier(max_depth=rf_grid_result.best_params_['max_depth'],\n",
    "                                      n_estimators=rf_grid_result.best_params_['n_estimators']).fit(x_train_1yr, y_train_1yr)\n",
    "plot_results(randomforest_1yr,x_test_1yr, y_test_1yr,save=True,name='rf_1yr_md{}_est_{}'.format(rf_grid_result.best_params_['max_depth'],\n",
    "                                                                                rf_grid_result.best_params_['n_estimators']))"
   ]
  },
  {
   "cell_type": "markdown",
   "metadata": {},
   "source": [
    "#### 3 year rate"
   ]
  },
  {
   "cell_type": "code",
   "execution_count": 25,
   "metadata": {},
   "outputs": [
    {
     "name": "stdout",
     "output_type": "stream",
     "text": [
      "Fitting 10 folds for each of 12 candidates, totalling 120 fits\n"
     ]
    },
    {
     "name": "stderr",
     "output_type": "stream",
     "text": [
      "[Parallel(n_jobs=-1)]: Using backend ThreadingBackend with 8 concurrent workers.\n",
      "[Parallel(n_jobs=-1)]: Done  34 tasks      | elapsed:  1.7min\n",
      "[Parallel(n_jobs=-1)]: Done 120 out of 120 | elapsed:  6.2min finished\n"
     ]
    },
    {
     "name": "stdout",
     "output_type": "stream",
     "text": [
      "Best: 0.522374 using {'max_depth': 100, 'n_estimators': 250}\n",
      "0.504098 (0.030635) with: {'max_depth': None, 'n_estimators': 250}\n",
      "0.511269 (0.037066) with: {'max_depth': None, 'n_estimators': 500}\n",
      "0.504723 (0.033683) with: {'max_depth': None, 'n_estimators': 750}\n",
      "0.505797 (0.027122) with: {'max_depth': None, 'n_estimators': 1000}\n",
      "0.512588 (0.035102) with: {'max_depth': 50, 'n_estimators': 250}\n",
      "0.503768 (0.027970) with: {'max_depth': 50, 'n_estimators': 500}\n",
      "0.512445 (0.037005) with: {'max_depth': 50, 'n_estimators': 750}\n",
      "0.506655 (0.028022) with: {'max_depth': 50, 'n_estimators': 1000}\n",
      "0.522374 (0.038030) with: {'max_depth': 100, 'n_estimators': 250}\n",
      "0.506455 (0.025447) with: {'max_depth': 100, 'n_estimators': 500}\n",
      "0.509083 (0.020622) with: {'max_depth': 100, 'n_estimators': 750}\n",
      "0.503622 (0.030095) with: {'max_depth': 100, 'n_estimators': 1000}\n",
      "              precision    recall  f1-score   support\n",
      "\n",
      "         0.0       0.62      0.88      0.72       384\n",
      "         1.0       0.53      0.20      0.29       262\n",
      "\n",
      "    accuracy                           0.60       646\n",
      "   macro avg       0.57      0.54      0.51       646\n",
      "weighted avg       0.58      0.60      0.55       646\n",
      "\n",
      "Test accuracy: 0.6037151702786377\n"
     ]
    },
    {
     "data": {
      "image/png": "[encoded data removed]",
      "text/plain": [
       "<Figure size 432x288 with 2 Axes>"
      ]
     },
     "metadata": {
      "needs_background": "light"
     },
     "output_type": "display_data"
    }
   ],
   "source": [
    "# Random Forest\n",
    "rf_param_grid = dict(max_depth=[None, 50, 100],\n",
    "                  n_estimators=[250, 500, 750, 1000])\n",
    "rf_grid = GridSearchCV(estimator=RandomForestClassifier(), \n",
    "                       param_grid=rf_param_grid, \n",
    "                       n_jobs=-1, \n",
    "                       cv=10, \n",
    "                       scoring='f1_weighted',\n",
    "                       verbose=1)\n",
    "with parallel_backend('threading'):    # This is a bug work-around mentioned in https://github.com/scikit-learn/scikit-learn/issues/12546\n",
    "    rf_grid_result = rf_grid.fit(x_train_3yr, y_train_3yr)\n",
    "# summarize results\n",
    "print(\"Best: %f using %s\" % (rf_grid_result.best_score_, rf_grid_result.best_params_))\n",
    "rf_means = rf_grid_result.cv_results_['mean_test_score']\n",
    "rf_stds = rf_grid_result.cv_results_['std_test_score']\n",
    "rf_params = rf_grid_result.cv_results_['params']\n",
    "for mean, stdev, param in zip(rf_means, rf_stds, rf_params):\n",
    "    print(\"%f (%f) with: %r\" % (mean, stdev, param))\n",
    "\n",
    "# Fit the model with the best parameters found in the cross validation. \n",
    "randomforest_3yr = RandomForestClassifier(max_depth=rf_grid_result.best_params_['max_depth'],\n",
    "                                      n_estimators=rf_grid_result.best_params_['n_estimators']).fit(x_train_3yr, y_train_3yr)\n",
    "plot_results(randomforest_3yr,x_test_3yr, y_test_3yr,save=True,name='rf_3yr_md{}_est_{}'.format(rf_grid_result.best_params_['max_depth'],\n",
    "                                                                                rf_grid_result.best_params_['n_estimators']))"
   ]
  },
  {
   "cell_type": "markdown",
   "metadata": {},
   "source": [
    "#### S&P "
   ]
  },
  {
   "cell_type": "code",
   "execution_count": 26,
   "metadata": {},
   "outputs": [
    {
     "name": "stdout",
     "output_type": "stream",
     "text": [
      "Fitting 10 folds for each of 12 candidates, totalling 120 fits\n"
     ]
    },
    {
     "name": "stderr",
     "output_type": "stream",
     "text": [
      "[Parallel(n_jobs=-1)]: Using backend ThreadingBackend with 8 concurrent workers.\n",
      "[Parallel(n_jobs=-1)]: Done  34 tasks      | elapsed:  1.8min\n",
      "[Parallel(n_jobs=-1)]: Done 120 out of 120 | elapsed:  6.2min finished\n"
     ]
    },
    {
     "name": "stdout",
     "output_type": "stream",
     "text": [
      "Best: 0.614275 using {'max_depth': None, 'n_estimators': 500}\n",
      "0.604644 (0.038944) with: {'max_depth': None, 'n_estimators': 250}\n",
      "0.614275 (0.036677) with: {'max_depth': None, 'n_estimators': 500}\n",
      "0.608511 (0.051560) with: {'max_depth': None, 'n_estimators': 750}\n",
      "0.601178 (0.036399) with: {'max_depth': None, 'n_estimators': 1000}\n",
      "0.599500 (0.046825) with: {'max_depth': 50, 'n_estimators': 250}\n",
      "0.604672 (0.041962) with: {'max_depth': 50, 'n_estimators': 500}\n",
      "0.608898 (0.046791) with: {'max_depth': 50, 'n_estimators': 750}\n",
      "0.607986 (0.038883) with: {'max_depth': 50, 'n_estimators': 1000}\n",
      "0.591046 (0.037758) with: {'max_depth': 100, 'n_estimators': 250}\n",
      "0.602834 (0.036036) with: {'max_depth': 100, 'n_estimators': 500}\n",
      "0.604866 (0.036491) with: {'max_depth': 100, 'n_estimators': 750}\n",
      "0.607043 (0.043588) with: {'max_depth': 100, 'n_estimators': 1000}\n",
      "              precision    recall  f1-score   support\n",
      "\n",
      "         0.0       0.54      0.43      0.48       300\n",
      "         1.0       0.58      0.68      0.63       346\n",
      "\n",
      "    accuracy                           0.57       646\n",
      "   macro avg       0.56      0.56      0.56       646\n",
      "weighted avg       0.56      0.57      0.56       646\n",
      "\n",
      "Test accuracy: 0.5681114551083591\n"
     ]
    },
    {
     "data": {
      "image/png": "[encoded data removed]",
      "text/plain": [
       "<Figure size 432x288 with 2 Axes>"
      ]
     },
     "metadata": {
      "needs_background": "light"
     },
     "output_type": "display_data"
    }
   ],
   "source": [
    "# Random Forest\n",
    "rf_param_grid = dict(max_depth=[None, 50, 100],\n",
    "                  n_estimators=[250, 500, 750, 1000])\n",
    "rf_grid = GridSearchCV(estimator=RandomForestClassifier(), \n",
    "                       param_grid=rf_param_grid, \n",
    "                       n_jobs=-1, \n",
    "                       cv=10, \n",
    "                       scoring='f1_weighted',\n",
    "                       verbose=1)\n",
    "with parallel_backend('threading'):    # This is a bug work-around mentioned in https://github.com/scikit-learn/scikit-learn/issues/12546\n",
    "    rf_grid_result = rf_grid.fit(x_train_sp, y_train_sp)\n",
    "# summarize results\n",
    "print(\"Best: %f using %s\" % (rf_grid_result.best_score_, rf_grid_result.best_params_))\n",
    "rf_means = rf_grid_result.cv_results_['mean_test_score']\n",
    "rf_stds = rf_grid_result.cv_results_['std_test_score']\n",
    "rf_params = rf_grid_result.cv_results_['params']\n",
    "for mean, stdev, param in zip(rf_means, rf_stds, rf_params):\n",
    "    print(\"%f (%f) with: %r\" % (mean, stdev, param))\n",
    "\n",
    "# Fit the model with the best parameters found in the cross validation. \n",
    "randomforest_sp = RandomForestClassifier(max_depth=rf_grid_result.best_params_['max_depth'],\n",
    "                                      n_estimators=rf_grid_result.best_params_['n_estimators']).fit(x_train_sp, y_train_sp)\n",
    "plot_results(randomforest_sp,x_test_sp, y_test_sp,save=True,name='rf_sp_md{}_est_{}'.format(rf_grid_result.best_params_['max_depth'],\n",
    "                                                                                rf_grid_result.best_params_['n_estimators']))"
   ]
  },
  {
   "cell_type": "markdown",
   "metadata": {},
   "source": [
    "### Neural Network, feed-forward"
   ]
  },
  {
   "cell_type": "code",
   "execution_count": 29,
   "metadata": {},
   "outputs": [],
   "source": [
    "def create_model(nodes1=100, nodes2=50, dropout_rate=0.3, optimizer='rmsprop', learning_rate=0.001):\n",
    "    if optimizer.lower() == 'rmsprop': \n",
    "        optimizer = RMSprop(learning_rate = learning_rate)\n",
    "    elif optimizer.lower() == 'adam':\n",
    "        optimizer = Adam(learning_rate = learning_rate)\n",
    "    model = Sequential() \n",
    "    if nodes1 == 0: \n",
    "        model.add(Dense(1, input_shape=x_train_1yr.shape[1:], activation='sigmoid'))\n",
    "        model.compile(optimizer=optimizer, loss='binary_crossentropy', metrics=['acc'])\n",
    "        return model \n",
    "    model.add(Dense(nodes1, input_shape=x_train_1yr.shape[1:]))\n",
    "    model.add(Dropout(dropout_rate))\n",
    "    if nodes2 == 0: \n",
    "        model.add(Dense(1, activation='sigmoid'))\n",
    "        model.compile(optimizer=optimizer, loss='binary_crossentropy', metrics=['acc'])\n",
    "        return model\n",
    "    model.add(Dense(nodes2))\n",
    "    model.add(Dropout(dropout_rate))\n",
    "    model.add(Dense(1, activation='sigmoid'))\n",
    "    model.compile(optimizer=optimizer, loss='binary_crossentropy', metrics=['acc'])\n",
    "    return model \n",
    "\n",
    "def randomize_params(params, n):\n",
    "    test_params = []\n",
    "    for i in range(n):\n",
    "        temp_par = {}\n",
    "        while True: \n",
    "            for par in params: \n",
    "                temp_par.update({par: np.random.choice(params[par])})\n",
    "            if temp_par not in test_params: \n",
    "                test_params.append(temp_par)\n",
    "                break\n",
    "    return test_params"
   ]
  },
  {
   "cell_type": "code",
   "execution_count": 30,
   "metadata": {},
   "outputs": [],
   "source": [
    "n_tests = 50\n",
    "# Define possible parameters \n",
    "possible_params = dict(batch_size = [8, 16, 32],\n",
    "                       nodes1 = [50, 100, 250, 500],\n",
    "                       nodes2 = [0, 50, 100, 250, 500], # 0 implies only one hidden layer \n",
    "                       dropout_rate = [0.1, 0.3, 0.5],\n",
    "                       learning_rate = [1e-3, 1e-4, 1e-5],\n",
    "                       optimizer = ['RMSprop','Adam'])\n",
    "test_params = randomize_params(possible_params, n_tests)"
   ]
  },
  {
   "cell_type": "markdown",
   "metadata": {},
   "source": [
    "#### 1 year rate"
   ]
  },
  {
   "cell_type": "code",
   "execution_count": 31,
   "metadata": {
    "scrolled": true
   },
   "outputs": [
    {
     "name": "stderr",
     "output_type": "stream",
     "text": [
      "\r",
      "  0%|                                                                                           | 0/50 [00:00<?, ?it/s]"
     ]
    },
    {
     "name": "stdout",
     "output_type": "stream",
     "text": [
      "WARNING:tensorflow:From C:\\ProgramData\\Anaconda3\\envs\\nlpenv\\lib\\site-packages\\tensorflow_core\\python\\ops\\resource_variable_ops.py:1630: calling BaseResourceVariable.__init__ (from tensorflow.python.ops.resource_variable_ops) with constraint is deprecated and will be removed in a future version.\n",
      "Instructions for updating:\n",
      "If using Keras pass *_constraint arguments to layers.\n"
     ]
    },
    {
     "name": "stderr",
     "output_type": "stream",
     "text": [
      "WARNING:tensorflow:From C:\\ProgramData\\Anaconda3\\envs\\nlpenv\\lib\\site-packages\\tensorflow_core\\python\\ops\\resource_variable_ops.py:1630: calling BaseResourceVariable.__init__ (from tensorflow.python.ops.resource_variable_ops) with constraint is deprecated and will be removed in a future version.\n",
      "Instructions for updating:\n",
      "If using Keras pass *_constraint arguments to layers.\n"
     ]
    },
    {
     "name": "stdout",
     "output_type": "stream",
     "text": [
      "WARNING:tensorflow:From C:\\ProgramData\\Anaconda3\\envs\\nlpenv\\lib\\site-packages\\tensorflow_core\\python\\ops\\nn_impl.py:183: where (from tensorflow.python.ops.array_ops) is deprecated and will be removed in a future version.\n",
      "Instructions for updating:\n",
      "Use tf.where in 2.0, which has the same broadcast rule as np.where\n"
     ]
    },
    {
     "name": "stderr",
     "output_type": "stream",
     "text": [
      "WARNING:tensorflow:From C:\\ProgramData\\Anaconda3\\envs\\nlpenv\\lib\\site-packages\\tensorflow_core\\python\\ops\\nn_impl.py:183: where (from tensorflow.python.ops.array_ops) is deprecated and will be removed in a future version.\n",
      "Instructions for updating:\n",
      "Use tf.where in 2.0, which has the same broadcast rule as np.where\n",
      "100%|██████████████████████████████████████████████████████████████████████████████████| 50/50 [02:11<00:00,  2.64s/it]"
     ]
    },
    {
     "name": "stdout",
     "output_type": "stream",
     "text": [
      "Best val acc: 0.75416666\n",
      "For config:  {'nodes1': 500, 'nodes2': 100, 'dropout_rate': 0.3, 'learning_rate': 0.001, 'optimizer': 'RMSprop', 'batch_size': 32}\n"
     ]
    },
    {
     "name": "stderr",
     "output_type": "stream",
     "text": [
      "\n"
     ]
    }
   ],
   "source": [
    "historylist_1yr = []\n",
    "for i,params in enumerate(tqdm(test_params)): \n",
    "    bs = params.pop('batch_size')\n",
    "    model = create_model(**params)\n",
    "    params.update({'batch_size': bs})\n",
    "    history = model.fit(x_train_1yr, y_train_1yr,\n",
    "                        epochs=10000,\n",
    "                        batch_size=params['batch_size'],\n",
    "                        verbose=0,\n",
    "                        callbacks=[EarlyStopping(monitor='val_acc', patience=2, restore_best_weights=True)],\n",
    "                        validation_split=0.2)\n",
    "    historylist_1yr.append(history)\n",
    "max_acc_1yr = -1\n",
    "max_idx_1yr = -1\n",
    "for i,hist in enumerate(historylist_1yr):\n",
    "    if max(hist.history['val_acc']) > max_acc_1yr: \n",
    "        max_acc_1yr = max(hist.history['val_acc'])\n",
    "        max_idx_1yr = i\n",
    "    \n",
    "print(\"Best val acc:\",max_acc_1yr)\n",
    "print(\"For config: \",test_params[max_idx_1yr])\n"
   ]
  },
  {
   "cell_type": "code",
   "execution_count": 32,
   "metadata": {},
   "outputs": [
    {
     "name": "stdout",
     "output_type": "stream",
     "text": [
      "Train on 960 samples, validate on 240 samples\n",
      "Epoch 1/100000\n",
      "960/960 [==============================] - 1s 1ms/sample - loss: 1.4689 - acc: 0.5760 - val_loss: 0.5739 - val_acc: 0.7500\n",
      "Epoch 2/100000\n",
      "960/960 [==============================] - 0s 235us/sample - loss: 0.8519 - acc: 0.5865 - val_loss: 0.5526 - val_acc: 0.7500\n",
      "Epoch 3/100000\n",
      "960/960 [==============================] - 0s 242us/sample - loss: 0.8651 - acc: 0.5625 - val_loss: 0.5539 - val_acc: 0.7500\n",
      "Epoch 4/100000\n",
      "960/960 [==============================] - 0s 247us/sample - loss: 0.7988 - acc: 0.5938 - val_loss: 0.6753 - val_acc: 0.6167\n",
      "Epoch 5/100000\n",
      "960/960 [==============================] - 0s 241us/sample - loss: 0.8385 - acc: 0.6021 - val_loss: 1.0307 - val_acc: 0.2500\n",
      "Epoch 6/100000\n",
      "960/960 [==============================] - 0s 242us/sample - loss: 0.8255 - acc: 0.5865 - val_loss: 0.5908 - val_acc: 0.7500\n",
      "Epoch 7/100000\n",
      "960/960 [==============================] - 0s 247us/sample - loss: 0.8110 - acc: 0.5969 - val_loss: 0.5684 - val_acc: 0.7500\n",
      "Epoch 8/100000\n",
      "960/960 [==============================] - 0s 241us/sample - loss: 0.8147 - acc: 0.5823 - val_loss: 0.7618 - val_acc: 0.2833\n",
      "Epoch 9/100000\n",
      "960/960 [==============================] - 0s 258us/sample - loss: 0.7984 - acc: 0.5844 - val_loss: 0.9332 - val_acc: 0.7500\n",
      "Epoch 10/100000\n",
      "960/960 [==============================] - 0s 241us/sample - loss: 0.8050 - acc: 0.5969 - val_loss: 0.5836 - val_acc: 0.7500\n",
      "Epoch 11/100000\n",
      "960/960 [==============================] - 1s 862us/sample - loss: 0.7872 - acc: 0.5917 - val_loss: 0.6847 - val_acc: 0.5958\n"
     ]
    },
    {
     "data": {
      "image/png": "[encoded data removed]",
      "text/plain": [
       "<Figure size 432x288 with 2 Axes>"
      ]
     },
     "metadata": {
      "needs_background": "light"
     },
     "output_type": "display_data"
    },
    {
     "data": {
      "image/png": "[encoded data removed]",
      "text/plain": [
       "<Figure size 432x288 with 2 Axes>"
      ]
     },
     "metadata": {
      "needs_background": "light"
     },
     "output_type": "display_data"
    },
    {
     "data": {
      "image/png": "[encoded data removed]",
      "text/plain": [
       "<Figure size 432x288 with 2 Axes>"
      ]
     },
     "metadata": {
      "needs_background": "light"
     },
     "output_type": "display_data"
    },
    {
     "name": "stdout",
     "output_type": "stream",
     "text": [
      "              precision    recall  f1-score   support\n",
      "\n",
      "         0.0       0.69      1.00      0.82       445\n",
      "         1.0       0.00      0.00      0.00       201\n",
      "\n",
      "    accuracy                           0.69       646\n",
      "   macro avg       0.34      0.50      0.41       646\n",
      "weighted avg       0.47      0.69      0.56       646\n",
      "\n",
      "Test accuracy: 0.689\n"
     ]
    },
    {
     "name": "stderr",
     "output_type": "stream",
     "text": [
      "C:\\ProgramData\\Anaconda3\\envs\\nlpenv\\lib\\site-packages\\sklearn\\metrics\\_classification.py:1272: UndefinedMetricWarning: Precision and F-score are ill-defined and being set to 0.0 in labels with no predicted samples. Use `zero_division` parameter to control this behavior.\n",
      "  _warn_prf(average, modifier, msg_start, len(result))\n"
     ]
    }
   ],
   "source": [
    "bs = test_params[max_idx_1yr].pop('batch_size')\n",
    "model_ff_1yr = create_model(**test_params[max_idx_1yr])\n",
    "test_params[max_idx_1yr].update({'batch_size': bs})\n",
    "\n",
    "history_1yr = model_ff_1yr.fit(x_train_1yr, y_train_1yr,\n",
    "                               epochs=100000,\n",
    "                               batch_size = bs,\n",
    "                               verbose=1,\n",
    "                               callbacks = [EarlyStopping(monitor='val_acc', patience=10, restore_best_weights=True)],\n",
    "                               validation_split=0.2)\n",
    "savename_1yr = \"nn_bs{}_n1{}_n2{}_dr{}_lr{}_opt{}\".format(test_params[max_idx_1yr]['batch_size'],\n",
    "                                                          test_params[max_idx_1yr]['nodes1'],\n",
    "                                                          test_params[max_idx_1yr]['nodes2'],\n",
    "                                                          test_params[max_idx_1yr]['dropout_rate'],\n",
    "                                                          test_params[max_idx_1yr]['learning_rate'],\n",
    "                                                          test_params[max_idx_1yr]['optimizer'])\n",
    "plot_results_nn(history_1yr,model_ff_1yr,x_test_1yr, y_test_1yr,save=True, name=savename_1yr)"
   ]
  },
  {
   "cell_type": "markdown",
   "metadata": {},
   "source": [
    "#### 3 year rate"
   ]
  },
  {
   "cell_type": "code",
   "execution_count": 33,
   "metadata": {},
   "outputs": [
    {
     "name": "stderr",
     "output_type": "stream",
     "text": [
      "100%|██████████████████████████████████████████████████████████████████████████████████| 50/50 [05:32<00:00,  6.65s/it]"
     ]
    },
    {
     "name": "stdout",
     "output_type": "stream",
     "text": [
      "Best val acc: 0.6166667\n",
      "For config:  {'nodes1': 50, 'nodes2': 0, 'dropout_rate': 0.1, 'learning_rate': 0.001, 'optimizer': 'Adam', 'batch_size': 32}\n"
     ]
    },
    {
     "name": "stderr",
     "output_type": "stream",
     "text": [
      "\n"
     ]
    }
   ],
   "source": [
    "historylist_3yr = []\n",
    "for i,params in enumerate(tqdm(test_params)): \n",
    "    bs = params.pop('batch_size')\n",
    "    model = create_model(**params)\n",
    "    params.update({'batch_size': bs})\n",
    "    history = model.fit(x_train_3yr, y_train_3yr,\n",
    "                        epochs=10000,\n",
    "                        batch_size=params['batch_size'],\n",
    "                        verbose=0,\n",
    "                        callbacks=[EarlyStopping(monitor='val_acc', patience=2, restore_best_weights=True)],\n",
    "                        validation_split=0.2)\n",
    "    historylist_3yr.append(history)\n",
    "max_acc_3yr = -1\n",
    "max_idx_3yr = -1\n",
    "for i,hist in enumerate(historylist_3yr):\n",
    "    if max(hist.history['val_acc']) > max_acc_3yr: \n",
    "        max_acc_3yr = max(hist.history['val_acc'])\n",
    "        max_idx_3yr = i\n",
    "    \n",
    "print(\"Best val acc:\",max_acc_3yr)\n",
    "print(\"For config: \",test_params[max_idx_3yr])"
   ]
  },
  {
   "cell_type": "code",
   "execution_count": 34,
   "metadata": {},
   "outputs": [
    {
     "name": "stdout",
     "output_type": "stream",
     "text": [
      "Train on 960 samples, validate on 240 samples\n",
      "Epoch 1/100000\n",
      "960/960 [==============================] - 3s 3ms/sample - loss: 0.7150 - acc: 0.5490 - val_loss: 0.6855 - val_acc: 0.5833\n",
      "Epoch 2/100000\n",
      "960/960 [==============================] - 0s 172us/sample - loss: 0.6882 - acc: 0.5729 - val_loss: 0.6717 - val_acc: 0.6042\n",
      "Epoch 3/100000\n",
      "960/960 [==============================] - 0s 176us/sample - loss: 0.6899 - acc: 0.5813 - val_loss: 0.6675 - val_acc: 0.5917\n",
      "Epoch 4/100000\n",
      "960/960 [==============================] - 0s 171us/sample - loss: 0.6736 - acc: 0.5865 - val_loss: 0.6664 - val_acc: 0.6000\n",
      "Epoch 5/100000\n",
      "960/960 [==============================] - 0s 186us/sample - loss: 0.6661 - acc: 0.6010 - val_loss: 0.6696 - val_acc: 0.5708\n",
      "Epoch 6/100000\n",
      "960/960 [==============================] - 0s 181us/sample - loss: 0.6695 - acc: 0.5938 - val_loss: 0.6918 - val_acc: 0.5583\n",
      "Epoch 7/100000\n",
      "960/960 [==============================] - 0s 176us/sample - loss: 0.6477 - acc: 0.6313 - val_loss: 0.6681 - val_acc: 0.5917\n",
      "Epoch 8/100000\n",
      "960/960 [==============================] - 0s 186us/sample - loss: 0.6625 - acc: 0.5917 - val_loss: 0.6654 - val_acc: 0.6125\n",
      "Epoch 9/100000\n",
      "960/960 [==============================] - 0s 176us/sample - loss: 0.6455 - acc: 0.6208 - val_loss: 0.6694 - val_acc: 0.5792\n",
      "Epoch 10/100000\n",
      "960/960 [==============================] - 0s 179us/sample - loss: 0.6626 - acc: 0.6021 - val_loss: 0.6696 - val_acc: 0.5917\n",
      "Epoch 11/100000\n",
      "960/960 [==============================] - 0s 167us/sample - loss: 0.6439 - acc: 0.6313 - val_loss: 0.6646 - val_acc: 0.5917\n",
      "Epoch 12/100000\n",
      "960/960 [==============================] - 0s 160us/sample - loss: 0.6593 - acc: 0.6021 - val_loss: 0.6838 - val_acc: 0.5667\n",
      "Epoch 13/100000\n",
      "960/960 [==============================] - 0s 160us/sample - loss: 0.6380 - acc: 0.6302 - val_loss: 0.6730 - val_acc: 0.6000\n",
      "Epoch 14/100000\n",
      "960/960 [==============================] - 0s 176us/sample - loss: 0.6440 - acc: 0.6448 - val_loss: 0.6685 - val_acc: 0.5792\n",
      "Epoch 15/100000\n",
      "960/960 [==============================] - 0s 170us/sample - loss: 0.6310 - acc: 0.6552 - val_loss: 0.6710 - val_acc: 0.5792\n",
      "Epoch 16/100000\n",
      "960/960 [==============================] - 0s 176us/sample - loss: 0.6375 - acc: 0.6448 - val_loss: 0.6847 - val_acc: 0.5833\n",
      "Epoch 17/100000\n",
      "960/960 [==============================] - 0s 176us/sample - loss: 0.6322 - acc: 0.6354 - val_loss: 0.6717 - val_acc: 0.5792\n",
      "Epoch 18/100000\n",
      "960/960 [==============================] - 2s 2ms/sample - loss: 0.6423 - acc: 0.6271 - val_loss: 0.6755 - val_acc: 0.5750\n"
     ]
    },
    {
     "data": {
      "image/png": "[encoded data removed]",
      "text/plain": [
       "<Figure size 432x288 with 2 Axes>"
      ]
     },
     "metadata": {
      "needs_background": "light"
     },
     "output_type": "display_data"
    },
    {
     "data": {
      "image/png": "[encoded data removed]",
      "text/plain": [
       "<Figure size 432x288 with 2 Axes>"
      ]
     },
     "metadata": {
      "needs_background": "light"
     },
     "output_type": "display_data"
    },
    {
     "data": {
      "image/png": "[encoded data removed]",
      "text/plain": [
       "<Figure size 432x288 with 2 Axes>"
      ]
     },
     "metadata": {
      "needs_background": "light"
     },
     "output_type": "display_data"
    },
    {
     "name": "stdout",
     "output_type": "stream",
     "text": [
      "              precision    recall  f1-score   support\n",
      "\n",
      "         0.0       0.63      0.71      0.67       384\n",
      "         1.0       0.48      0.39      0.43       262\n",
      "\n",
      "    accuracy                           0.58       646\n",
      "   macro avg       0.56      0.55      0.55       646\n",
      "weighted avg       0.57      0.58      0.57       646\n",
      "\n",
      "Test accuracy: 0.584\n"
     ]
    }
   ],
   "source": [
    "bs = test_params[max_idx_3yr].pop('batch_size')\n",
    "model_ff_3yr = create_model(**test_params[max_idx_3yr])\n",
    "test_params[max_idx_3yr].update({'batch_size': bs})\n",
    "\n",
    "history_3yr = model_ff_3yr.fit(x_train_3yr, y_train_3yr,\n",
    "                               epochs=100000,\n",
    "                               batch_size = bs,\n",
    "                               verbose=1,\n",
    "                               callbacks = [EarlyStopping(monitor='val_acc', patience=10, restore_best_weights=True)],\n",
    "                               validation_split=0.2)\n",
    "savename_3yr = \"nn_bs{}_n1{}_n2{}_dr{}_lr{}_opt{}\".format(test_params[max_idx_3yr]['batch_size'],\n",
    "                                                          test_params[max_idx_3yr]['nodes1'],\n",
    "                                                          test_params[max_idx_3yr]['nodes2'],\n",
    "                                                          test_params[max_idx_3yr]['dropout_rate'],\n",
    "                                                          test_params[max_idx_3yr]['learning_rate'],\n",
    "                                                          test_params[max_idx_3yr]['optimizer'])\n",
    "plot_results_nn(history_3yr,model_ff_3yr,x_test_3yr, y_test_3yr,save=True, name=savename_3yr)\n"
   ]
  },
  {
   "cell_type": "markdown",
   "metadata": {},
   "source": [
    "#### S&P"
   ]
  },
  {
   "cell_type": "code",
   "execution_count": 35,
   "metadata": {},
   "outputs": [
    {
     "name": "stderr",
     "output_type": "stream",
     "text": [
      "100%|██████████████████████████████████████████████████████████████████████████████████| 50/50 [11:30<00:00, 13.81s/it]"
     ]
    },
    {
     "name": "stdout",
     "output_type": "stream",
     "text": [
      "Best val acc: 0.6125\n",
      "For config:  {'nodes1': 250, 'nodes2': 250, 'dropout_rate': 0.5, 'learning_rate': 0.0001, 'optimizer': 'Adam', 'batch_size': 32}\n"
     ]
    },
    {
     "name": "stderr",
     "output_type": "stream",
     "text": [
      "\n"
     ]
    }
   ],
   "source": [
    "historylist_sp = []\n",
    "for i,params in enumerate(tqdm(test_params)): \n",
    "    bs = params.pop('batch_size')\n",
    "    model = create_model(**params)\n",
    "    params.update({'batch_size': bs})\n",
    "    history = model.fit(x_train_sp, y_train_sp,\n",
    "                        epochs=10000,\n",
    "                        batch_size=params['batch_size'],\n",
    "                        verbose=0,\n",
    "                        callbacks=[EarlyStopping(monitor='val_acc', patience=2, restore_best_weights=True)],\n",
    "                        validation_split=0.2)\n",
    "    historylist_sp.append(history)\n",
    "max_acc_sp = -1\n",
    "max_idx_sp = -1\n",
    "for i,hist in enumerate(historylist_sp):\n",
    "    if max(hist.history['val_acc']) > max_acc_sp: \n",
    "        max_acc_sp = max(hist.history['val_acc'])\n",
    "        max_idx_sp = i\n",
    "    \n",
    "print(\"Best val acc:\",max_acc_sp)\n",
    "print(\"For config: \",test_params[max_idx_sp])"
   ]
  },
  {
   "cell_type": "code",
   "execution_count": 36,
   "metadata": {},
   "outputs": [
    {
     "name": "stdout",
     "output_type": "stream",
     "text": [
      "Train on 960 samples, validate on 240 samples\n",
      "Epoch 1/100000\n",
      "960/960 [==============================] - 5s 5ms/sample - loss: 0.7836 - acc: 0.5292 - val_loss: 0.6851 - val_acc: 0.5625\n",
      "Epoch 2/100000\n",
      "960/960 [==============================] - 0s 436us/sample - loss: 0.7483 - acc: 0.5531 - val_loss: 0.6814 - val_acc: 0.6000\n",
      "Epoch 3/100000\n",
      "960/960 [==============================] - 0s 450us/sample - loss: 0.7266 - acc: 0.5281 - val_loss: 0.6810 - val_acc: 0.5583\n",
      "Epoch 4/100000\n",
      "960/960 [==============================] - 0s 466us/sample - loss: 0.7176 - acc: 0.5521 - val_loss: 0.6997 - val_acc: 0.5458\n",
      "Epoch 5/100000\n",
      "960/960 [==============================] - 0s 457us/sample - loss: 0.7033 - acc: 0.5542 - val_loss: 0.6936 - val_acc: 0.5333\n",
      "Epoch 6/100000\n",
      "960/960 [==============================] - 0s 450us/sample - loss: 0.7073 - acc: 0.5625 - val_loss: 0.6806 - val_acc: 0.5833\n",
      "Epoch 7/100000\n",
      "960/960 [==============================] - 0s 434us/sample - loss: 0.6926 - acc: 0.5719 - val_loss: 0.6883 - val_acc: 0.5500\n",
      "Epoch 8/100000\n",
      "960/960 [==============================] - 0s 441us/sample - loss: 0.6846 - acc: 0.5833 - val_loss: 0.6849 - val_acc: 0.5667\n",
      "Epoch 9/100000\n",
      "960/960 [==============================] - 0s 434us/sample - loss: 0.6677 - acc: 0.6031 - val_loss: 0.6817 - val_acc: 0.5792\n",
      "Epoch 10/100000\n",
      "960/960 [==============================] - 0s 450us/sample - loss: 0.6833 - acc: 0.5802 - val_loss: 0.6923 - val_acc: 0.5625\n",
      "Epoch 11/100000\n",
      "960/960 [==============================] - 0s 441us/sample - loss: 0.6661 - acc: 0.6125 - val_loss: 0.6876 - val_acc: 0.5583\n",
      "Epoch 12/100000\n",
      "960/960 [==============================] - 3s 3ms/sample - loss: 0.6756 - acc: 0.5938 - val_loss: 0.6819 - val_acc: 0.5750\n"
     ]
    },
    {
     "data": {
      "image/png": "[encoded data removed]",
      "text/plain": [
       "<Figure size 432x288 with 2 Axes>"
      ]
     },
     "metadata": {
      "needs_background": "light"
     },
     "output_type": "display_data"
    },
    {
     "data": {
      "image/png": "[encoded data removed]",
      "text/plain": [
       "<Figure size 432x288 with 2 Axes>"
      ]
     },
     "metadata": {
      "needs_background": "light"
     },
     "output_type": "display_data"
    },
    {
     "data": {
      "image/png": "[encoded data removed]",
      "text/plain": [
       "<Figure size 432x288 with 2 Axes>"
      ]
     },
     "metadata": {
      "needs_background": "light"
     },
     "output_type": "display_data"
    },
    {
     "name": "stdout",
     "output_type": "stream",
     "text": [
      "              precision    recall  f1-score   support\n",
      "\n",
      "         0.0       0.54      0.52      0.53       300\n",
      "         1.0       0.59      0.61      0.60       346\n",
      "\n",
      "    accuracy                           0.57       646\n",
      "   macro avg       0.57      0.56      0.56       646\n",
      "weighted avg       0.57      0.57      0.57       646\n",
      "\n",
      "Test accuracy: 0.568\n"
     ]
    }
   ],
   "source": [
    "bs = test_params[max_idx_sp].pop('batch_size')\n",
    "model_ff_sp = create_model(**test_params[max_idx_sp])\n",
    "test_params[max_idx_sp].update({'batch_size': bs})\n",
    "\n",
    "history_sp = model_ff_sp.fit(x_train_sp, y_train_sp,\n",
    "                               epochs=100000,\n",
    "                               batch_size = bs,\n",
    "                               verbose=1,\n",
    "                               callbacks = [EarlyStopping(monitor='val_acc', patience=10, restore_best_weights=True)],\n",
    "                               validation_split=0.2)\n",
    "savename_sp = \"nn_bs{}_n1{}_n2{}_dr{}_lr{}_opt{}\".format(test_params[max_idx_sp]['batch_size'],\n",
    "                                                          test_params[max_idx_sp]['nodes1'],\n",
    "                                                          test_params[max_idx_sp]['nodes2'],\n",
    "                                                          test_params[max_idx_sp]['dropout_rate'],\n",
    "                                                          test_params[max_idx_sp]['learning_rate'],\n",
    "                                                          test_params[max_idx_sp]['optimizer'])\n",
    "plot_results_nn(history_sp,model_ff_sp,x_test_sp, y_test_sp,save=True, name=savename_sp)\n"
   ]
  },
  {
   "cell_type": "markdown",
   "metadata": {},
   "source": [
    "## Results\n",
    "\n",
    "The following results were achieved on the independent test set on the IMDB dataset. The reviews were encoded into 768-dimensional vectors using Sentence-BERT on each sentence in the reviews, and then reduced to one vector per review by taking the elementwise average over each dimension. \n",
    "\n",
    "| Model |  Test Accuracy (%)  | Hyperparameters |\n",
    "| :----- | --------------- | --- | \n",
    "| Random Classifier | 50.6 | N/A |\n",
    "| Logistic Regression | __90.7__  | N/A |\n",
    "| Linear Discriminant Analysis | 90.3  | N/A |\n",
    "| Support Vector Machine | 90.0 | N/A |\n",
    "| Random Forest | 87.1  | n_estimators=5000, max_depth=None |\n",
    "| XGBoost | 88.9 | n_estimators=500 |\n",
    "| Multi Layer Perceptron | 89.8 | batch_size=16,depth=3,dropout_rate=0.2,nodes=250 |\n",
    "\n",
    "Logistic Regression currently performs best. The hyperparameter tuning of the neural network-approaches is however not ideal, and would need more time/computational power to optimize further. It should however not be a too large improvement. Looking at the validation accuracy achieved from different configurations of hyperparameters on the neural network, it rarely reaches above 89 %. \n",
    "\n",
    "For comparison, the table below displays state-of-the-art models for the IMDB classification task. \n",
    "\n",
    "| Model |\tAccuracy (%) |\tPaper / Source|\n",
    "|:----- | ---------- | -------------- |  \n",
    "| XLNet (Yang et al., 2019) |\t__96.21__ |\tXLNet: Generalized Autoregressive Pretraining for Language Understanding|\n",
    "| BERT_large+ITPT (Sun et al., 2019) \t|95.79 |\tHow to Fine-Tune BERT for Text Classification?|\n",
    "| BERT_base+ITPT (Sun et al., 2019) |\t95.63 |\tHow to Fine-Tune BERT for Text Classification?|\n",
    "| ULMFiT (Howard and Ruder, 2018) |\t95.4 |\tUniversal Language Model Fine-tuning for Text Classification|\n",
    "| Block-sparse LSTM (Gray et al., 2017) |\t94.99 |\tGPU Kernels for Block-Sparse Weights|\n",
    "| oh-LSTM (Johnson and Zhang, 2016)| \t94.1| \tSupervised and Semi-Supervised Text Categorization using LSTM for Region Embeddings |\n",
    "| Virtual adversarial training (Miyato et al., 2016) |\t94.1 \t|Adversarial Training Methods for Semi-Supervised Text Classification |\n",
    "| BCN+Char+CoVe (McCann et al., 2017) |\t91.8 |\tLearned in Translation: Contextualized Word Vectors |\n"
   ]
  },
  {
   "cell_type": "code",
   "execution_count": null,
   "metadata": {},
   "outputs": [],
   "source": []
  },
  {
   "cell_type": "code",
   "execution_count": null,
   "metadata": {},
   "outputs": [],
   "source": []
  },
  {
   "cell_type": "code",
   "execution_count": null,
   "metadata": {},
   "outputs": [],
   "source": []
  }
 ],
 "metadata": {
  "kernelspec": {
   "display_name": "Python 3",
   "language": "python",
   "name": "python3"
  },
  "language_info": {
   "codemirror_mode": {
    "name": "ipython",
    "version": 3
   },
   "file_extension": ".py",
   "mimetype": "text/x-python",
   "name": "python",
   "nbconvert_exporter": "python",
   "pygments_lexer": "ipython3",
   "version": "3.6.10"
  }
 },
 "nbformat": 4,
 "nbformat_minor": 4
}
