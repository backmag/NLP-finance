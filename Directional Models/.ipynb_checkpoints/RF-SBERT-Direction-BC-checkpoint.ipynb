{
 "cells": [
  {
   "cell_type": "code",
   "execution_count": 11,
   "metadata": {},
   "outputs": [],
   "source": [
    "from tensorflow.keras.layers import Embedding, Dense, Dropout\n",
    "from tensorflow.keras.models import Model, Sequential\n",
    "from tensorflow.keras import optimizers\n",
    "from sentence_transformers import SentenceTransformer\n",
    "from nltk import word_tokenize\n",
    "from pathlib import Path\n",
    "from sklearn.metrics import confusion_matrix, classification_report, f1_score\n",
    "from sklearn.ensemble import RandomForestClassifier\n",
    "from sklearn.discriminant_analysis import LinearDiscriminantAnalysis\n",
    "from xgboost import XGBClassifier\n",
    "from imblearn.over_sampling import SMOTE\n",
    "import matplotlib.pyplot as plt\n",
    "import gensim\n",
    "import numpy as np\n",
    "import pandas as pd \n",
    "import seaborn as sn\n",
    "import os\n",
    "import io\n",
    "import pickle\n",
    "import random\n",
    "import itertools\n",
    "from importnb import Notebook, reload\n",
    "with Notebook(): \n",
    "    import Utilities"
   ]
  },
  {
   "cell_type": "code",
   "execution_count": 12,
   "metadata": {},
   "outputs": [],
   "source": [
    "def preprocess_text(df):\n",
    "    \"\"\" Tokenize \"\"\"\n",
    "    conc = pd.DataFrame()\n",
    "    for i in set(df.index):\n",
    "        concat_str = ''\n",
    "        for title in df.loc[i]['title']:\n",
    "            concat_str += \" \" + title.lower()\n",
    "        concat_str = word_tokenize(concat_str)\n",
    "        conc = conc.append({'date':i, 'title':concat_str},ignore_index=True)\n",
    "    conc.set_index('date',inplace=True)\n",
    "    conc = conc.sort_values('date')\n",
    "    return conc\n"
   ]
  },
  {
   "cell_type": "code",
   "execution_count": 13,
   "metadata": {},
   "outputs": [],
   "source": [
    "sbert_model = SentenceTransformer('bert-base-nli-mean-tokens')"
   ]
  },
  {
   "cell_type": "code",
   "execution_count": 14,
   "metadata": {},
   "outputs": [],
   "source": [
    "# Load data \n",
    "news_path = Path(\"../Datasets/data/financial_headlines_20061020-20131119.pkl\")\n",
    "data = pd.DataFrame(pd.read_pickle(news_path))\n",
    "data.set_index('date',inplace=True)"
   ]
  },
  {
   "cell_type": "code",
   "execution_count": 15,
   "metadata": {},
   "outputs": [
    {
     "name": "stdout",
     "output_type": "stream",
     "text": [
      "Loaded previously saved embeddings.\n"
     ]
    }
   ],
   "source": [
    "path = Path(\"../Input Data/all_reuters_news_embedded_bert_base_nli_mean.npy\")\n",
    "if os.path.exists(path):\n",
    "    x = np.load(path)\n",
    "    embed_dim = x.shape[-1]\n",
    "    max_nbr_titles = x.shape[-2]\n",
    "    print(\"Loaded previously saved embeddings.\")\n",
    "else:\n",
    "    texts = []\n",
    "    for i,date in enumerate(data.index.drop_duplicates()): \n",
    "        if i % 100: \n",
    "            print(\"{} % ...\".format(round(100 * i / len(data.index.drop_duplicates()),3)),end='\\r')\n",
    "        temp_titles = []\n",
    "        for title in data.loc[date].values:\n",
    "            temp_titles.append(title[0])\n",
    "        texts.append(sbert_model.encode(temp_titles))\n",
    "    print(\"100 % ...\")\n",
    "    max_nbr_titles = max([len(text) for text in texts])\n",
    "    embed_dim = texts[0][0].shape[0]\n",
    "    x = np.zeros((n,max_nbr_titles,embed_dim))\n",
    "    # Include embeddings in matrix and pad with (tensors) of zeros. \n",
    "    for i,titles in enumerate(texts): \n",
    "        for j,title in enumerate(titles): \n",
    "            x[i,j] = title\n",
    "    np.save(path,x)"
   ]
  },
  {
   "cell_type": "code",
   "execution_count": 16,
   "metadata": {},
   "outputs": [],
   "source": [
    "# Take the average over every SBERT-embedding to reduce the number of dimensions\n",
    "x_avg = np.zeros((x.shape[0],x.shape[-1]))\n",
    "for i in range(x.shape[0]): \n",
    "    nbr_row = 0\n",
    "    temp_row = np.zeros((x.shape[-1]))\n",
    "    for j in range(x.shape[1]):\n",
    "        if np.sum(abs(x[i,j])) != 0: \n",
    "            temp_row += x[i,j]\n",
    "            nbr_row += 1\n",
    "        else: \n",
    "            break\n",
    "    x_avg[i] = temp_row / nbr_row"
   ]
  },
  {
   "cell_type": "code",
   "execution_count": 17,
   "metadata": {},
   "outputs": [],
   "source": [
    "config = {\n",
    "    'embed_dim': embed_dim,    # Dimensions to use for the word embedding\n",
    "    'max_len': max_nbr_titles,\n",
    "    'lookback': 1,        # How far back to collect data in the recurrent layer (days)\n",
    "    'delay': 1,           # How far ahead to predict data (days)\n",
    "    'p': 1,               # Order of the AR-part of the model\n",
    "    'd': 1,               # Integrated order\n",
    "    'q': 1,               # Included moving average terms \n",
    "    'train_part' : 0.8,   # Part of data to be used for training\n",
    "    'val_part' : 0.1,     # Part of data to be used for validation\n",
    "    'test_part' : 0.1,    # Part of data to be used for testing\n",
    "    'series': '1 YEAR',   # What series we currently want to predict, '1 YEAR', '3 YEAR' or 'S&P'\n",
    "    'start_date': '2006-10-20',\n",
    "    'end_date': '2013-11-19',\n",
    "}"
   ]
  },
  {
   "cell_type": "code",
   "execution_count": 18,
   "metadata": {},
   "outputs": [],
   "source": [
    "y = Utilities.load_direction_labels(config)\n",
    "# Remove last row of the x-matrix, since there's no label for that entry\n",
    "if x_avg.shape[0] != len(y): \n",
    "    x_avg = x_avg[:-1]"
   ]
  },
  {
   "cell_type": "code",
   "execution_count": 19,
   "metadata": {},
   "outputs": [
    {
     "name": "stdout",
     "output_type": "stream",
     "text": [
      "Shape of x_train: (2322, 768)\n",
      "Shape of y_train: (2322,)\n",
      "Shape of x_test: (259, 768)\n",
      "Shape of y_test: (259,)\n"
     ]
    }
   ],
   "source": [
    "(x_train, y_train), (x_test, y_test) = Utilities.shuffle_and_partition(x_avg,y,test_part = config['test_part'])\n",
    "print(\"Shape of x_train:\",x_train.shape)\n",
    "print(\"Shape of y_train:\",y_train.shape)\n",
    "print(\"Shape of x_test:\",x_test.shape)\n",
    "print(\"Shape of y_test:\",y_test.shape)"
   ]
  },
  {
   "cell_type": "code",
   "execution_count": 20,
   "metadata": {},
   "outputs": [
    {
     "name": "stdout",
     "output_type": "stream",
     "text": [
      "Shape of x_train:  (3170, 768)\n",
      "Shape of y_train:  (3170,)\n"
     ]
    }
   ],
   "source": [
    "smote = SMOTE('minority')\n",
    "x_train, y_train = smote.fit_sample(x_train, y_train)\n",
    "print(\"Shape of x_train: \",x_train.shape)\n",
    "print(\"Shape of y_train: \",y_train.shape)"
   ]
  },
  {
   "cell_type": "code",
   "execution_count": 21,
   "metadata": {},
   "outputs": [],
   "source": [
    "def print_test_data(y_test, y_test_pred): \n",
    "    conf_mat = confusion_matrix(y_test,y_test_pred,normalize='pred')\n",
    "    ax = sn.heatmap(conf_mat,)\n",
    "    ax.set_ylabel(\"True values\")\n",
    "    ax.set_xlabel(\"Predicted values\")\n",
    "    plt.show()\n",
    "    y_sums = np.zeros(2)\n",
    "    y_sums[0] = sum(y_test_pred == 0)\n",
    "    y_sums[1] = sum(y_test_pred == 1)\n",
    "    plt.bar([0,1],y_sums,label='Number of preds (test)')\n",
    "    plt.xticks([0,1])\n",
    "    plt.legend()\n",
    "    plt.show()\n",
    "    y_train_sums = np.zeros(2)\n",
    "    y_train_sums[0] = sum(y_train == 0)\n",
    "    y_train_sums[1] = sum(y_train == 1)\n",
    "    plt.bar([0,1],y_train_sums,label='Distribution (train)')\n",
    "    plt.xticks([0,1])\n",
    "    plt.legend()\n",
    "    plt.show()\n",
    "    print(classification_report(y_test, y_test_pred))"
   ]
  },
  {
   "cell_type": "code",
   "execution_count": 22,
   "metadata": {
    "scrolled": false
   },
   "outputs": [
    {
     "name": "stdout",
     "output_type": "stream",
     "text": [
      "NUMBER OF ESTIMATORS: 50\n",
      "f1: 0.23357664233576642\n",
      "              precision    recall  f1-score   support\n",
      "\n",
      "         0.0       0.67      0.78      0.72       176\n",
      "         1.0       0.30      0.19      0.23        83\n",
      "\n",
      "    accuracy                           0.59       259\n",
      "   macro avg       0.48      0.49      0.48       259\n",
      "weighted avg       0.55      0.59      0.57       259\n",
      "\n",
      "14.286 %\n",
      "NUMBER OF ESTIMATORS: 100\n",
      "f1: 0.2809917355371901\n",
      "              precision    recall  f1-score   support\n",
      "\n",
      "         0.0       0.70      0.88      0.78       176\n",
      "         1.0       0.45      0.20      0.28        83\n",
      "\n",
      "    accuracy                           0.66       259\n",
      "   macro avg       0.57      0.54      0.53       259\n",
      "weighted avg       0.62      0.66      0.62       259\n",
      "\n",
      "28.571 %\n",
      "NUMBER OF ESTIMATORS: 250\n",
      "f1: 0.272\n",
      "              precision    recall  f1-score   support\n",
      "\n",
      "         0.0       0.70      0.86      0.77       176\n",
      "         1.0       0.40      0.20      0.27        83\n",
      "\n",
      "    accuracy                           0.65       259\n",
      "   macro avg       0.55      0.53      0.52       259\n",
      "weighted avg       0.60      0.65      0.61       259\n",
      "\n",
      "42.857 %\n",
      "NUMBER OF ESTIMATORS: 500\n",
      "f1: 0.31746031746031744\n",
      "              precision    recall  f1-score   support\n",
      "\n",
      "         0.0       0.71      0.87      0.78       176\n",
      "         1.0       0.47      0.24      0.32        83\n",
      "\n",
      "    accuracy                           0.67       259\n",
      "   macro avg       0.59      0.56      0.55       259\n",
      "weighted avg       0.63      0.67      0.63       259\n",
      "\n",
      "57.143 %\n",
      "NUMBER OF ESTIMATORS: 750\n",
      "f1: 0.26016260162601623\n",
      "              precision    recall  f1-score   support\n",
      "\n",
      "         0.0       0.69      0.86      0.77       176\n",
      "         1.0       0.40      0.19      0.26        83\n",
      "\n",
      "    accuracy                           0.65       259\n",
      "   macro avg       0.55      0.53      0.51       259\n",
      "weighted avg       0.60      0.65      0.61       259\n",
      "\n",
      "71.429 %\n",
      "NUMBER OF ESTIMATORS: 1000\n",
      "f1: 0.2833333333333333\n",
      "              precision    recall  f1-score   support\n",
      "\n",
      "         0.0       0.70      0.89      0.78       176\n",
      "         1.0       0.46      0.20      0.28        83\n",
      "\n",
      "    accuracy                           0.67       259\n",
      "   macro avg       0.58      0.55      0.53       259\n",
      "weighted avg       0.62      0.67      0.62       259\n",
      "\n",
      "85.714 %\n",
      "NUMBER OF ESTIMATORS: 1500\n",
      "f1: 0.2666666666666667\n",
      "              precision    recall  f1-score   support\n",
      "\n",
      "         0.0       0.70      0.88      0.78       176\n",
      "         1.0       0.43      0.19      0.27        83\n",
      "\n",
      "    accuracy                           0.66       259\n",
      "   macro avg       0.57      0.54      0.52       259\n",
      "weighted avg       0.61      0.66      0.61       259\n",
      "\n",
      "100.0 %\n",
      "Best f1 score (0.31746031746031744) achieved with 500 estimators.\n"
     ]
    }
   ],
   "source": [
    "# Random forest classifier\n",
    "estimators = [50, 100, 250, 500, 750, 1000, 1500]\n",
    "ctr = 0\n",
    "n_configs = len(estimators)\n",
    "best_f1 = [-1, 0]\n",
    "for est in estimators: \n",
    "    rf_model = RandomForestClassifier(n_estimators=est)\n",
    "    rf_model.fit(x_train,y_train)\n",
    "    print(\"NUMBER OF ESTIMATORS:\",est)\n",
    "    y_test_pred = rf_model.predict(x_test)\n",
    "    #print_test_data(y_test, y_test_pred)\n",
    "    f1 = f1_score(y_test, y_test_pred)\n",
    "    print(\"f1:\",f1)\n",
    "    print(classification_report(y_test, y_test_pred))\n",
    "    if f1 > best_f1[0]: \n",
    "        best_f1 = [f1, est]\n",
    "    ctr += 1\n",
    "    print(\"{} %\".format(round(100 * ctr / n_configs, 3)))\n",
    "print(\"Best f1 score ({}) achieved with {} estimators.\".format(best_f1[0], best_f1[1]))"
   ]
  },
  {
   "cell_type": "code",
   "execution_count": 25,
   "metadata": {
    "scrolled": false
   },
   "outputs": [
    {
     "data": {
      "image/png": "[encoded data removed]",
      "text/plain": [
       "<Figure size 432x288 with 2 Axes>"
      ]
     },
     "metadata": {
      "needs_background": "light"
     },
     "output_type": "display_data"
    },
    {
     "data": {
      "image/png": "[encoded data removed]",
      "text/plain": [
       "<Figure size 432x288 with 1 Axes>"
      ]
     },
     "metadata": {
      "needs_background": "light"
     },
     "output_type": "display_data"
    },
    {
     "data": {
      "image/png": "[encoded data removed]",
      "text/plain": [
       "<Figure size 432x288 with 1 Axes>"
      ]
     },
     "metadata": {
      "needs_background": "light"
     },
     "output_type": "display_data"
    },
    {
     "name": "stdout",
     "output_type": "stream",
     "text": [
      "              precision    recall  f1-score   support\n",
      "\n",
      "         0.0       0.70      0.66      0.68       176\n",
      "         1.0       0.35      0.40      0.38        83\n",
      "\n",
      "    accuracy                           0.58       259\n",
      "   macro avg       0.53      0.53      0.53       259\n",
      "weighted avg       0.59      0.58      0.58       259\n",
      "\n",
      "100.0 %\n",
      "Best f1 score (0.37500000000000006) achieved with 100 estimators.\n"
     ]
    }
   ],
   "source": [
    "# XGBoost classifier\n",
    "estimators = [100]\n",
    "max_depth = [3]\n",
    "n_configs = len(estimators) * len(max_depth)\n",
    "ctr = 0\n",
    "best_f1 = [f1, est]\n",
    "for est in estimators: \n",
    "    for md in max_depth: \n",
    "        xgb_model = XGBClassifier(max_depth=md,n_estimators=est)\n",
    "        xgb_model.fit(x_train,y_train)\n",
    "        y_test_pred = xgb_model.predict(x_test)\n",
    "        print_test_data(y_test, y_test_pred)\n",
    "        f1 = f1_score(y_test, y_test_pred)\n",
    "        if f1 > best_f1[0]: \n",
    "            best_f1 = [f1, est]\n",
    "        ctr += 1\n",
    "        print(\"{} %\".format(round(100 * ctr / n_configs, 3)))\n",
    "print(\"Best f1 score ({}) achieved with {} estimators.\".format(best_f1[0], best_f1[1]))"
   ]
  },
  {
   "cell_type": "code",
   "execution_count": 26,
   "metadata": {},
   "outputs": [
    {
     "data": {
      "image/png": "[encoded data removed]",
      "text/plain": [
       "<Figure size 432x288 with 2 Axes>"
      ]
     },
     "metadata": {
      "needs_background": "light"
     },
     "output_type": "display_data"
    },
    {
     "data": {
      "image/png": "[encoded data removed]",
      "text/plain": [
       "<Figure size 432x288 with 1 Axes>"
      ]
     },
     "metadata": {
      "needs_background": "light"
     },
     "output_type": "display_data"
    },
    {
     "data": {
      "image/png": "[encoded data removed]",
      "text/plain": [
       "<Figure size 432x288 with 1 Axes>"
      ]
     },
     "metadata": {
      "needs_background": "light"
     },
     "output_type": "display_data"
    },
    {
     "name": "stdout",
     "output_type": "stream",
     "text": [
      "              precision    recall  f1-score   support\n",
      "\n",
      "         0.0       0.70      0.66      0.68       176\n",
      "         1.0       0.35      0.40      0.38        83\n",
      "\n",
      "    accuracy                           0.58       259\n",
      "   macro avg       0.53      0.53      0.53       259\n",
      "weighted avg       0.59      0.58      0.58       259\n",
      "\n",
      "f1-score: 0.37500000000000006\n"
     ]
    }
   ],
   "source": [
    "# LDA \n",
    "model_lda = LinearDiscriminantAnalysis()\n",
    "model_lda.fit(x_train, y_train)\n",
    "y_test_preds = model_lda.predict(x_test)\n",
    "f1 = f1_score(y_test, y_test_pred)\n",
    "print_test_data(y_test, y_test_pred)\n",
    "print(\"f1-score:\",f1)"
   ]
  },
  {
   "cell_type": "code",
   "execution_count": null,
   "metadata": {},
   "outputs": [],
   "source": []
  },
  {
   "cell_type": "code",
   "execution_count": null,
   "metadata": {},
   "outputs": [],
   "source": []
  }
 ],
 "metadata": {
  "kernelspec": {
   "display_name": "Python 3",
   "language": "python",
   "name": "python3"
  },
  "language_info": {
   "codemirror_mode": {
    "name": "ipython",
    "version": 3
   },
   "file_extension": ".py",
   "mimetype": "text/x-python",
   "name": "python",
   "nbconvert_exporter": "python",
   "pygments_lexer": "ipython3",
   "version": "3.7.6"
  }
 },
 "nbformat": 4,
 "nbformat_minor": 4
}
