{
 "cells": [
  {
   "cell_type": "markdown",
   "metadata": {},
   "source": [
    "## Model description \n",
    "\n",
    "This model takes all words from the headlines in one day and extracts the sentiment as the elementwise addition of the word embeddings for that day. Each dimension of the embedding is then weighted and combined with an ARIMA-prediction of the value 'delay' days ahead.\n"
   ]
  },
  {
   "cell_type": "code",
   "execution_count": 1,
   "metadata": {},
   "outputs": [],
   "source": [
    "from tensorflow.keras.layers import Embedding, Dense, Input\n",
    "from tensorflow.keras.models import Model\n",
    "from nltk import word_tokenize\n",
    "from pathlib import Path\n",
    "import matplotlib.pyplot as plt\n",
    "import gensim\n",
    "import numpy as np\n",
    "import pandas as pd \n",
    "import os\n",
    "import io\n",
    "import pickle\n",
    "import random\n",
    "import itertools\n",
    "from importnb import Notebook, reload\n",
    "with Notebook(): \n",
    "    import Utilities"
   ]
  },
  {
   "cell_type": "code",
   "execution_count": 2,
   "metadata": {},
   "outputs": [],
   "source": [
    "def preprocess_text(df):\n",
    "    \"\"\" Tokenize \"\"\"\n",
    "    conc = pd.DataFrame()\n",
    "    for i in set(df.index):\n",
    "        concat_str = ''\n",
    "        for title in df.loc[i]['title']:\n",
    "            concat_str += \" \" + title.lower()\n",
    "        concat_str = word_tokenize(concat_str)\n",
    "        conc = conc.append({'date':i, 'title':concat_str},ignore_index=True)\n",
    "    conc.set_index('date',inplace=True)\n",
    "    conc = conc.sort_values('date')\n",
    "    return conc\n",
    "\n",
    "def title2vec(data, emb_dict,index): \n",
    "    \"\"\"Embed a title with an arbitrary number of words to a vector \n",
    "     with shape(d), where d is the dimension of the embedding. \"\"\"\n",
    "    d = 300\n",
    "    x = np.zeros((len(data), d))\n",
    "    for i,row in enumerate(data.values): \n",
    "        n = 0\n",
    "        temp = np.zeros(d)\n",
    "        for word in row[0]: \n",
    "            if word in emb_dict.keys(): \n",
    "                n += 1\n",
    "                temp = np.add(temp, emb_dict.get(word))\n",
    "        x[i] = temp / n\n",
    "    return x"
   ]
  },
  {
   "cell_type": "code",
   "execution_count": 3,
   "metadata": {},
   "outputs": [],
   "source": [
    "config = {\n",
    "    'start_date': '2006-10-20',\n",
    "    'end_date': '2013-11-19',\n",
    "    'lookback': 1,       # Using lookback > 1 is not yet implemented\n",
    "    'delay': 5,\n",
    "    'p': 1,\n",
    "    'd': 1,\n",
    "    'q': 1,\n",
    "    'series': '1 YEAR',\n",
    "}"
   ]
  },
  {
   "cell_type": "code",
   "execution_count": 10,
   "metadata": {},
   "outputs": [
    {
     "data": {
      "text/plain": [
       "'C:\\\\Users\\\\gusta\\\\Documents\\\\Skola\\\\Lund\\\\Indek år 5\\\\Exjobb\\\\Repos\\\\NLP-finance\\\\Regression'"
      ]
     },
     "execution_count": 10,
     "metadata": {},
     "output_type": "execute_result"
    }
   ],
   "source": [
    "os.getcwd()"
   ]
  },
  {
   "cell_type": "code",
   "execution_count": 30,
   "metadata": {},
   "outputs": [],
   "source": [
    "# Load data \n",
    "news_path = Path(\"../Datasets/data/financial_headlines_20061020-20131119.pkl\")\n",
    "stock_path = Path(\"../Datasets/data/stock_data.pkl\")\n",
    "news_data = pd.DataFrame(pd.read_pickle(news_path))\n",
    "news_data.set_index('date',inplace=True)\n",
    "stock_data = pd.DataFrame(pd.read_pickle(stock_path))\n",
    "# Tokenize\n",
    "data = preprocess_text(news_data)"
   ]
  },
  {
   "cell_type": "code",
   "execution_count": 31,
   "metadata": {},
   "outputs": [],
   "source": [
    "# Load dictionary of embeddings for this vocabulary (previously constructed)\n",
    "subset_embeddings = Path(\"../Embeddings/GloVe/saved.42B.300d.pkl\")\n",
    "with open(subset_embeddings,'rb') as handle: \n",
    "    emb_dict = pickle.load(handle)"
   ]
  },
  {
   "cell_type": "code",
   "execution_count": 32,
   "metadata": {},
   "outputs": [],
   "source": [
    "# Create an index mapping for all words in the vocabulary\n",
    "word_index = {}\n",
    "i = 1\n",
    "for word in emb_dict.keys(): \n",
    "    word_index.update({word:i})\n",
    "    i += 1"
   ]
  },
  {
   "cell_type": "code",
   "execution_count": 33,
   "metadata": {},
   "outputs": [
    {
     "name": "stdout",
     "output_type": "stream",
     "text": [
      "Total vocabulary size: 29083\n",
      "Words not included in GloVe: 2850\n"
     ]
    }
   ],
   "source": [
    "unique_words = set() \n",
    "for title in data['title']:\n",
    "    for word in title: \n",
    "        unique_words.add(word)\n",
    "print(\"Total vocabulary size:\",len(unique_words))\n",
    "print(\"Words not included in GloVe:\",len(unique_words) - len(emb_dict))\n"
   ]
  },
  {
   "cell_type": "code",
   "execution_count": 34,
   "metadata": {},
   "outputs": [],
   "source": [
    "# Transform the data to the average word embedding each day\n",
    "x = title2vec(data,emb_dict,word_index)\n",
    "\n",
    "# Format financial data and interpolate missing values\n",
    "fin_data, fin_stats = Utilities.format_financial_data(stock_data, data.index, config['start_date'], config['end_date'])"
   ]
  },
  {
   "cell_type": "code",
   "execution_count": 35,
   "metadata": {},
   "outputs": [
    {
     "name": "stdout",
     "output_type": "stream",
     "text": [
      "Found and loaded previously constructed models.\n"
     ]
    }
   ],
   "source": [
    "# Check if the ARIMA-models has been previously calculated for this config\n",
    "# or if they have to be constructed\n",
    "path = Path(f\"../Models/ARIMA/all_mods_del{config['delay']}.pkl\")\n",
    "if os.path.exists(path):\n",
    "    # Load model if it already exists\n",
    "    ARIMA_models = pd.read_pickle(path)\n",
    "    print(\"Found and loaded previously constructed models.\")\n",
    "else: \n",
    "    # Fit ARIMA-models to all of the dates in the training data \n",
    "    print(\"Model not found, fitting models. \")\n",
    "    ARIMA_models = Utilities.fit_all_models(config, fin_data)\n",
    "    ARIMA_models.to_pickle(path)"
   ]
  },
  {
   "cell_type": "code",
   "execution_count": 36,
   "metadata": {},
   "outputs": [],
   "source": [
    "# Generate predictions from the fitted ARIMA-models\n",
    "arima_preds = Utilities.predict_arima(ARIMA_models, config['delay'])"
   ]
  },
  {
   "cell_type": "code",
   "execution_count": 37,
   "metadata": {},
   "outputs": [],
   "source": [
    "# Drop the values not in arima_preds. This is just values in the beginning where\n",
    "# there isn't enough data to make a prediction, varies depending on lookback and delay. \n",
    "for date in fin_data.index: \n",
    "    if not date in arima_preds.index : fin_data.drop(index=date,inplace=True)"
   ]
  },
  {
   "cell_type": "code",
   "execution_count": 38,
   "metadata": {},
   "outputs": [],
   "source": [
    "# Create a target feature which is simply the deviance between actual value in \n",
    "# delay days and the predicted value \n",
    "y = np.zeros(len(fin_data) - config['delay'])\n",
    "for i in range(len(y)):\n",
    "    y[i] = arima_preds[config['series']].iloc[i] - fin_data[config['series']].iloc[i + config['delay']]"
   ]
  },
  {
   "cell_type": "code",
   "execution_count": 39,
   "metadata": {},
   "outputs": [],
   "source": [
    "# Need to remove some rows from the word embedding-matrix,\n",
    "# these numbers are specified in Utilities.fit_all_models()\n",
    "rm_start_rows = max(config['lookback'],5) + 1\n",
    "rm_end_rows = config['delay']\n",
    "x = x[rm_start_rows : -rm_end_rows]"
   ]
  },
  {
   "cell_type": "code",
   "execution_count": 40,
   "metadata": {},
   "outputs": [],
   "source": [
    "(x_train,y_train), (x_test, y_test) = Utilities.shuffle_and_partition(x,y, test_part=0.2)"
   ]
  },
  {
   "cell_type": "code",
   "execution_count": 41,
   "metadata": {},
   "outputs": [
    {
     "name": "stdout",
     "output_type": "stream",
     "text": [
      "Shape of x_train:  (2056, 300)\n",
      "Shape of y_train:  (2056,)\n"
     ]
    }
   ],
   "source": [
    "print(\"Shape of x_train: \",x_train.shape)\n",
    "print(\"Shape of y_train: \",y_train.shape)"
   ]
  },
  {
   "cell_type": "markdown",
   "metadata": {},
   "source": [
    "## Model construction \n",
    "\n",
    "We'll do a simple hyper parameter optimization including batch size, number of layers and numer of nodes per layer. "
   ]
  },
  {
   "cell_type": "code",
   "execution_count": 16,
   "metadata": {},
   "outputs": [],
   "source": [
    "def create_nn(n_nodes, activation='relu'): \n",
    "    # n_nodes is a list with the number of nodes per layer, starting from the input \n",
    "    input_layer = Input(shape=300, name='input')\n",
    "    prev_layer = input_layer\n",
    "    for n in n_nodes: \n",
    "        prev_layer = Dense(n, activation=activation)(prev_layer)\n",
    "    output_layer = Dense(1, activation='linear', name='output')(prev_layer)\n",
    "    \n",
    "    model = Model(inputs =[input_layer], outputs=[output_layer])\n",
    "    model.compile(optimizer='rmsprop', loss='mse')\n",
    "    return model\n",
    "\n",
    "def train_and_format(x,y,bs,epochs, results, layers, nodes):\n",
    "    name = f\"{bs}_{layers}_{nodes}\"\n",
    "    temp_history = model.fit(x, y, batch_size=bs, validation_split=0.2, epochs = epochs,verbose=0)\n",
    "    return results.append(pd.Series([np.mean(temp_history.history['val_loss'][-5:]),\n",
    "                                                temp_history, model, layers, \n",
    "                                                nodes, bs], \n",
    "                                                name=name,index=['Mean Val MSE','History','Model','Layers','Nodes','Batch Size']))\n"
   ]
  },
  {
   "cell_type": "code",
   "execution_count": 25,
   "metadata": {
    "scrolled": false
   },
   "outputs": [
    {
     "name": "stdout",
     "output_type": "stream",
     "text": [
      "Testing 192 combinations. \n",
      "100.0 %     \r"
     ]
    }
   ],
   "source": [
    "n_layers = np.arange(2,3)\n",
    "n_nodes = [25, 50, 75, 100, 200, 300, 400, 500]\n",
    "batch_sizes = [8, 12, 16]\n",
    "epochs = 10\n",
    "results = pd.DataFrame(columns=['Mean Val MSE','History','Model', 'Layers', 'Nodes','Batch Size'])\n",
    "n_configs = sum([len(n_nodes)**l for l in n_layers]) * len(batch_sizes)\n",
    "ctr = 0\n",
    "print('Testing {} combinations. '.format(n_configs))\n",
    "for layers in n_layers:\n",
    "    if layers == 1: node_configs = list(itertools.product(n_nodes))\n",
    "    elif layers == 2: node_configs = list(itertools.product(n_nodes, n_nodes))\n",
    "    elif layers == 3: node_configs = list(itertools.product(n_nodes, n_nodes, n_nodes))\n",
    "    elif layers == 4: node_configs = list(itertools.product(n_nodes, n_nodes, n_nodes, n_nodes))\n",
    "    for bs in batch_sizes: \n",
    "        for temp_nodes in node_configs: \n",
    "            ctr += 1 \n",
    "            print(\"{} %     \".format(round(100 * ctr / n_configs,2)),end='\\r')\n",
    "            model = create_nn(temp_nodes)\n",
    "            results = train_and_format(x_train, y_train, bs, epochs, results, layers, temp_nodes)\n",
    "            \n",
    "            "
   ]
  },
  {
   "cell_type": "code",
   "execution_count": 24,
   "metadata": {},
   "outputs": [
    {
     "name": "stdout",
     "output_type": "stream",
     "text": [
      "Top 20 configs: \n"
     ]
    },
    {
     "data": {
      "text/html": [
       "<div>\n",
       "<style scoped>\n",
       "    .dataframe tbody tr th:only-of-type {\n",
       "        vertical-align: middle;\n",
       "    }\n",
       "\n",
       "    .dataframe tbody tr th {\n",
       "        vertical-align: top;\n",
       "    }\n",
       "\n",
       "    .dataframe thead th {\n",
       "        text-align: right;\n",
       "    }\n",
       "</style>\n",
       "<table border=\"1\" class=\"dataframe\">\n",
       "  <thead>\n",
       "    <tr style=\"text-align: right;\">\n",
       "      <th></th>\n",
       "      <th>Mean Val MSE</th>\n",
       "      <th>History</th>\n",
       "      <th>Model</th>\n",
       "      <th>Layers</th>\n",
       "      <th>Nodes</th>\n",
       "      <th>Batch Size</th>\n",
       "    </tr>\n",
       "  </thead>\n",
       "  <tbody>\n",
       "    <tr>\n",
       "      <td>16_2_(200, 25)</td>\n",
       "      <td>0.000217</td>\n",
       "      <td>&lt;tensorflow.python.keras.callbacks.History obj...</td>\n",
       "      <td>&lt;tensorflow.python.keras.engine.training.Model...</td>\n",
       "      <td>2</td>\n",
       "      <td>(200, 25)</td>\n",
       "      <td>16</td>\n",
       "    </tr>\n",
       "    <tr>\n",
       "      <td>8_2_(500, 50)</td>\n",
       "      <td>0.000221</td>\n",
       "      <td>&lt;tensorflow.python.keras.callbacks.History obj...</td>\n",
       "      <td>&lt;tensorflow.python.keras.engine.training.Model...</td>\n",
       "      <td>2</td>\n",
       "      <td>(500, 50)</td>\n",
       "      <td>8</td>\n",
       "    </tr>\n",
       "    <tr>\n",
       "      <td>8_2_(400, 25)</td>\n",
       "      <td>0.000216</td>\n",
       "      <td>&lt;tensorflow.python.keras.callbacks.History obj...</td>\n",
       "      <td>&lt;tensorflow.python.keras.engine.training.Model...</td>\n",
       "      <td>2</td>\n",
       "      <td>(400, 25)</td>\n",
       "      <td>8</td>\n",
       "    </tr>\n",
       "    <tr>\n",
       "      <td>8_2_(300, 25)</td>\n",
       "      <td>0.000218</td>\n",
       "      <td>&lt;tensorflow.python.keras.callbacks.History obj...</td>\n",
       "      <td>&lt;tensorflow.python.keras.engine.training.Model...</td>\n",
       "      <td>2</td>\n",
       "      <td>(300, 25)</td>\n",
       "      <td>8</td>\n",
       "    </tr>\n",
       "    <tr>\n",
       "      <td>16_2_(400, 25)</td>\n",
       "      <td>0.000216</td>\n",
       "      <td>&lt;tensorflow.python.keras.callbacks.History obj...</td>\n",
       "      <td>&lt;tensorflow.python.keras.engine.training.Model...</td>\n",
       "      <td>2</td>\n",
       "      <td>(400, 25)</td>\n",
       "      <td>16</td>\n",
       "    </tr>\n",
       "    <tr>\n",
       "      <td>12_2_(50, 300)</td>\n",
       "      <td>0.000219</td>\n",
       "      <td>&lt;tensorflow.python.keras.callbacks.History obj...</td>\n",
       "      <td>&lt;tensorflow.python.keras.engine.training.Model...</td>\n",
       "      <td>2</td>\n",
       "      <td>(50, 300)</td>\n",
       "      <td>12</td>\n",
       "    </tr>\n",
       "    <tr>\n",
       "      <td>16_2_(500, 25)</td>\n",
       "      <td>0.000218</td>\n",
       "      <td>&lt;tensorflow.python.keras.callbacks.History obj...</td>\n",
       "      <td>&lt;tensorflow.python.keras.engine.training.Model...</td>\n",
       "      <td>2</td>\n",
       "      <td>(500, 25)</td>\n",
       "      <td>16</td>\n",
       "    </tr>\n",
       "    <tr>\n",
       "      <td>8_2_(500, 25)</td>\n",
       "      <td>0.000222</td>\n",
       "      <td>&lt;tensorflow.python.keras.callbacks.History obj...</td>\n",
       "      <td>&lt;tensorflow.python.keras.engine.training.Model...</td>\n",
       "      <td>2</td>\n",
       "      <td>(500, 25)</td>\n",
       "      <td>8</td>\n",
       "    </tr>\n",
       "    <tr>\n",
       "      <td>8_2_(25, 500)</td>\n",
       "      <td>0.000224</td>\n",
       "      <td>&lt;tensorflow.python.keras.callbacks.History obj...</td>\n",
       "      <td>&lt;tensorflow.python.keras.engine.training.Model...</td>\n",
       "      <td>2</td>\n",
       "      <td>(25, 500)</td>\n",
       "      <td>8</td>\n",
       "    </tr>\n",
       "    <tr>\n",
       "      <td>8_2_(400, 75)</td>\n",
       "      <td>0.000222</td>\n",
       "      <td>&lt;tensorflow.python.keras.callbacks.History obj...</td>\n",
       "      <td>&lt;tensorflow.python.keras.engine.training.Model...</td>\n",
       "      <td>2</td>\n",
       "      <td>(400, 75)</td>\n",
       "      <td>8</td>\n",
       "    </tr>\n",
       "    <tr>\n",
       "      <td>12_2_(500, 100)</td>\n",
       "      <td>0.000223</td>\n",
       "      <td>&lt;tensorflow.python.keras.callbacks.History obj...</td>\n",
       "      <td>&lt;tensorflow.python.keras.engine.training.Model...</td>\n",
       "      <td>2</td>\n",
       "      <td>(500, 100)</td>\n",
       "      <td>12</td>\n",
       "    </tr>\n",
       "    <tr>\n",
       "      <td>12_2_(25, 300)</td>\n",
       "      <td>0.000225</td>\n",
       "      <td>&lt;tensorflow.python.keras.callbacks.History obj...</td>\n",
       "      <td>&lt;tensorflow.python.keras.engine.training.Model...</td>\n",
       "      <td>2</td>\n",
       "      <td>(25, 300)</td>\n",
       "      <td>12</td>\n",
       "    </tr>\n",
       "    <tr>\n",
       "      <td>12_2_(300, 25)</td>\n",
       "      <td>0.000223</td>\n",
       "      <td>&lt;tensorflow.python.keras.callbacks.History obj...</td>\n",
       "      <td>&lt;tensorflow.python.keras.engine.training.Model...</td>\n",
       "      <td>2</td>\n",
       "      <td>(300, 25)</td>\n",
       "      <td>12</td>\n",
       "    </tr>\n",
       "    <tr>\n",
       "      <td>8_2_(25, 400)</td>\n",
       "      <td>0.000222</td>\n",
       "      <td>&lt;tensorflow.python.keras.callbacks.History obj...</td>\n",
       "      <td>&lt;tensorflow.python.keras.engine.training.Model...</td>\n",
       "      <td>2</td>\n",
       "      <td>(25, 400)</td>\n",
       "      <td>8</td>\n",
       "    </tr>\n",
       "    <tr>\n",
       "      <td>8_2_(50, 400)</td>\n",
       "      <td>0.000223</td>\n",
       "      <td>&lt;tensorflow.python.keras.callbacks.History obj...</td>\n",
       "      <td>&lt;tensorflow.python.keras.engine.training.Model...</td>\n",
       "      <td>2</td>\n",
       "      <td>(50, 400)</td>\n",
       "      <td>8</td>\n",
       "    </tr>\n",
       "    <tr>\n",
       "      <td>8_2_(25, 300)</td>\n",
       "      <td>0.000222</td>\n",
       "      <td>&lt;tensorflow.python.keras.callbacks.History obj...</td>\n",
       "      <td>&lt;tensorflow.python.keras.engine.training.Model...</td>\n",
       "      <td>2</td>\n",
       "      <td>(25, 300)</td>\n",
       "      <td>8</td>\n",
       "    </tr>\n",
       "    <tr>\n",
       "      <td>8_2_(75, 400)</td>\n",
       "      <td>0.000225</td>\n",
       "      <td>&lt;tensorflow.python.keras.callbacks.History obj...</td>\n",
       "      <td>&lt;tensorflow.python.keras.engine.training.Model...</td>\n",
       "      <td>2</td>\n",
       "      <td>(75, 400)</td>\n",
       "      <td>8</td>\n",
       "    </tr>\n",
       "    <tr>\n",
       "      <td>12_2_(75, 500)</td>\n",
       "      <td>0.000226</td>\n",
       "      <td>&lt;tensorflow.python.keras.callbacks.History obj...</td>\n",
       "      <td>&lt;tensorflow.python.keras.engine.training.Model...</td>\n",
       "      <td>2</td>\n",
       "      <td>(75, 500)</td>\n",
       "      <td>12</td>\n",
       "    </tr>\n",
       "    <tr>\n",
       "      <td>12_2_(25, 400)</td>\n",
       "      <td>0.000225</td>\n",
       "      <td>&lt;tensorflow.python.keras.callbacks.History obj...</td>\n",
       "      <td>&lt;tensorflow.python.keras.engine.training.Model...</td>\n",
       "      <td>2</td>\n",
       "      <td>(25, 400)</td>\n",
       "      <td>12</td>\n",
       "    </tr>\n",
       "    <tr>\n",
       "      <td>12_2_(400, 400)</td>\n",
       "      <td>0.000226</td>\n",
       "      <td>&lt;tensorflow.python.keras.callbacks.History obj...</td>\n",
       "      <td>&lt;tensorflow.python.keras.engine.training.Model...</td>\n",
       "      <td>2</td>\n",
       "      <td>(400, 400)</td>\n",
       "      <td>12</td>\n",
       "    </tr>\n",
       "  </tbody>\n",
       "</table>\n",
       "</div>"
      ],
      "text/plain": [
       "                 Mean Val MSE  \\\n",
       "16_2_(200, 25)       0.000217   \n",
       "8_2_(500, 50)        0.000221   \n",
       "8_2_(400, 25)        0.000216   \n",
       "8_2_(300, 25)        0.000218   \n",
       "16_2_(400, 25)       0.000216   \n",
       "12_2_(50, 300)       0.000219   \n",
       "16_2_(500, 25)       0.000218   \n",
       "8_2_(500, 25)        0.000222   \n",
       "8_2_(25, 500)        0.000224   \n",
       "8_2_(400, 75)        0.000222   \n",
       "12_2_(500, 100)      0.000223   \n",
       "12_2_(25, 300)       0.000225   \n",
       "12_2_(300, 25)       0.000223   \n",
       "8_2_(25, 400)        0.000222   \n",
       "8_2_(50, 400)        0.000223   \n",
       "8_2_(25, 300)        0.000222   \n",
       "8_2_(75, 400)        0.000225   \n",
       "12_2_(75, 500)       0.000226   \n",
       "12_2_(25, 400)       0.000225   \n",
       "12_2_(400, 400)      0.000226   \n",
       "\n",
       "                                                           History  \\\n",
       "16_2_(200, 25)   <tensorflow.python.keras.callbacks.History obj...   \n",
       "8_2_(500, 50)    <tensorflow.python.keras.callbacks.History obj...   \n",
       "8_2_(400, 25)    <tensorflow.python.keras.callbacks.History obj...   \n",
       "8_2_(300, 25)    <tensorflow.python.keras.callbacks.History obj...   \n",
       "16_2_(400, 25)   <tensorflow.python.keras.callbacks.History obj...   \n",
       "12_2_(50, 300)   <tensorflow.python.keras.callbacks.History obj...   \n",
       "16_2_(500, 25)   <tensorflow.python.keras.callbacks.History obj...   \n",
       "8_2_(500, 25)    <tensorflow.python.keras.callbacks.History obj...   \n",
       "8_2_(25, 500)    <tensorflow.python.keras.callbacks.History obj...   \n",
       "8_2_(400, 75)    <tensorflow.python.keras.callbacks.History obj...   \n",
       "12_2_(500, 100)  <tensorflow.python.keras.callbacks.History obj...   \n",
       "12_2_(25, 300)   <tensorflow.python.keras.callbacks.History obj...   \n",
       "12_2_(300, 25)   <tensorflow.python.keras.callbacks.History obj...   \n",
       "8_2_(25, 400)    <tensorflow.python.keras.callbacks.History obj...   \n",
       "8_2_(50, 400)    <tensorflow.python.keras.callbacks.History obj...   \n",
       "8_2_(25, 300)    <tensorflow.python.keras.callbacks.History obj...   \n",
       "8_2_(75, 400)    <tensorflow.python.keras.callbacks.History obj...   \n",
       "12_2_(75, 500)   <tensorflow.python.keras.callbacks.History obj...   \n",
       "12_2_(25, 400)   <tensorflow.python.keras.callbacks.History obj...   \n",
       "12_2_(400, 400)  <tensorflow.python.keras.callbacks.History obj...   \n",
       "\n",
       "                                                             Model Layers  \\\n",
       "16_2_(200, 25)   <tensorflow.python.keras.engine.training.Model...      2   \n",
       "8_2_(500, 50)    <tensorflow.python.keras.engine.training.Model...      2   \n",
       "8_2_(400, 25)    <tensorflow.python.keras.engine.training.Model...      2   \n",
       "8_2_(300, 25)    <tensorflow.python.keras.engine.training.Model...      2   \n",
       "16_2_(400, 25)   <tensorflow.python.keras.engine.training.Model...      2   \n",
       "12_2_(50, 300)   <tensorflow.python.keras.engine.training.Model...      2   \n",
       "16_2_(500, 25)   <tensorflow.python.keras.engine.training.Model...      2   \n",
       "8_2_(500, 25)    <tensorflow.python.keras.engine.training.Model...      2   \n",
       "8_2_(25, 500)    <tensorflow.python.keras.engine.training.Model...      2   \n",
       "8_2_(400, 75)    <tensorflow.python.keras.engine.training.Model...      2   \n",
       "12_2_(500, 100)  <tensorflow.python.keras.engine.training.Model...      2   \n",
       "12_2_(25, 300)   <tensorflow.python.keras.engine.training.Model...      2   \n",
       "12_2_(300, 25)   <tensorflow.python.keras.engine.training.Model...      2   \n",
       "8_2_(25, 400)    <tensorflow.python.keras.engine.training.Model...      2   \n",
       "8_2_(50, 400)    <tensorflow.python.keras.engine.training.Model...      2   \n",
       "8_2_(25, 300)    <tensorflow.python.keras.engine.training.Model...      2   \n",
       "8_2_(75, 400)    <tensorflow.python.keras.engine.training.Model...      2   \n",
       "12_2_(75, 500)   <tensorflow.python.keras.engine.training.Model...      2   \n",
       "12_2_(25, 400)   <tensorflow.python.keras.engine.training.Model...      2   \n",
       "12_2_(400, 400)  <tensorflow.python.keras.engine.training.Model...      2   \n",
       "\n",
       "                      Nodes Batch Size  \n",
       "16_2_(200, 25)    (200, 25)         16  \n",
       "8_2_(500, 50)     (500, 50)          8  \n",
       "8_2_(400, 25)     (400, 25)          8  \n",
       "8_2_(300, 25)     (300, 25)          8  \n",
       "16_2_(400, 25)    (400, 25)         16  \n",
       "12_2_(50, 300)    (50, 300)         12  \n",
       "16_2_(500, 25)    (500, 25)         16  \n",
       "8_2_(500, 25)     (500, 25)          8  \n",
       "8_2_(25, 500)     (25, 500)          8  \n",
       "8_2_(400, 75)     (400, 75)          8  \n",
       "12_2_(500, 100)  (500, 100)         12  \n",
       "12_2_(25, 300)    (25, 300)         12  \n",
       "12_2_(300, 25)    (300, 25)         12  \n",
       "8_2_(25, 400)     (25, 400)          8  \n",
       "8_2_(50, 400)     (50, 400)          8  \n",
       "8_2_(25, 300)     (25, 300)          8  \n",
       "8_2_(75, 400)     (75, 400)          8  \n",
       "12_2_(75, 500)    (75, 500)         12  \n",
       "12_2_(25, 400)    (25, 400)         12  \n",
       "12_2_(400, 400)  (400, 400)         12  "
      ]
     },
     "execution_count": 24,
     "metadata": {},
     "output_type": "execute_result"
    }
   ],
   "source": [
    "k = 20\n",
    "print(\"Top {} configs: \".format(k))\n",
    "k_best = np.argpartition(results['Mean Val MSE'],k)[:k]\n",
    "k_best = pd.DataFrame(results.iloc[k_best])\n",
    "k_best"
   ]
  },
  {
   "cell_type": "code",
   "execution_count": 56,
   "metadata": {},
   "outputs": [
    {
     "data": {
      "image/png": "[encoded data removed]",
      "text/plain": [
       "<Figure size 432x288 with 1 Axes>"
      ]
     },
     "metadata": {
      "needs_background": "light"
     },
     "output_type": "display_data"
    },
    {
     "name": "stdout",
     "output_type": "stream",
     "text": [
      "3lay300nodes128bs\n"
     ]
    },
    {
     "data": {
      "image/png": "[encoded data removed]",
      "text/plain": [
       "<Figure size 432x288 with 1 Axes>"
      ]
     },
     "metadata": {
      "needs_background": "light"
     },
     "output_type": "display_data"
    },
    {
     "name": "stdout",
     "output_type": "stream",
     "text": [
      "2lay300nodes64bs\n"
     ]
    },
    {
     "data": {
      "image/png": "[encoded data removed]",
      "text/plain": [
       "<Figure size 432x288 with 1 Axes>"
      ]
     },
     "metadata": {
      "needs_background": "light"
     },
     "output_type": "display_data"
    },
    {
     "name": "stdout",
     "output_type": "stream",
     "text": [
      "3lay100nodes8bs\n"
     ]
    },
    {
     "data": {
      "image/png": "[encoded data removed]",
      "text/plain": [
       "<Figure size 432x288 with 1 Axes>"
      ]
     },
     "metadata": {
      "needs_background": "light"
     },
     "output_type": "display_data"
    },
    {
     "name": "stdout",
     "output_type": "stream",
     "text": [
      "3lay500nodes64bs\n"
     ]
    },
    {
     "data": {
      "image/png": "[encoded data removed]",
      "text/plain": [
       "<Figure size 432x288 with 1 Axes>"
      ]
     },
     "metadata": {
      "needs_background": "light"
     },
     "output_type": "display_data"
    },
    {
     "name": "stdout",
     "output_type": "stream",
     "text": [
      "3lay75nodes16bs\n"
     ]
    }
   ],
   "source": [
    "k = 5\n",
    "k_best = np.argpartition(results['Mean Val MSE'],k)[:k]\n",
    "for i in k_best: \n",
    "    plt.plot(results.iloc[i]['History'].history['val_loss'])\n",
    "    plt.show()\n",
    "    print(results.index[i])\n"
   ]
  },
  {
   "cell_type": "code",
   "execution_count": 43,
   "metadata": {},
   "outputs": [
    {
     "name": "stdout",
     "output_type": "stream",
     "text": [
      "Model test score: 0.0003197104006335173\n",
      "Zero test score: 0.00032025349693868817\n"
     ]
    }
   ],
   "source": [
    "best = np.argpartition(results['Mean Val MSE'],1)[1]\n",
    "model_test = results.iloc[best]['Model'].evaluate(x_test,y_test,verbose=0)\n",
    "zero_test = np.dot(y_test,y_test) / len(y_test)\n",
    "print(\"Model test score:\",model_test)\n",
    "print(\"Zero test score:\",zero_test)"
   ]
  },
  {
   "cell_type": "code",
   "execution_count": null,
   "metadata": {},
   "outputs": [],
   "source": []
  }
 ],
 "metadata": {
  "kernelspec": {
   "display_name": "Python 3",
   "language": "python",
   "name": "python3"
  },
  "language_info": {
   "codemirror_mode": {
    "name": "ipython",
    "version": 3
   },
   "file_extension": ".py",
   "mimetype": "text/x-python",
   "name": "python",
   "nbconvert_exporter": "python",
   "pygments_lexer": "ipython3",
   "version": "3.7.4"
  }
 },
 "nbformat": 4,
 "nbformat_minor": 2
}
