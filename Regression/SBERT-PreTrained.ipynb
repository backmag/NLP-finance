{
 "cells": [
  {
   "cell_type": "code",
   "execution_count": 119,
   "metadata": {},
   "outputs": [],
   "source": [
    "from sentence_transformers import SentenceTransformer\n",
    "import tensorflow as tf\n",
    "from tensorflow.keras import backend as K\n",
    "from tensorflow.keras.layers import Dense, Dropout, Embedding, Masking, Lambda, Layer\n",
    "from tensorflow.keras.models import Sequential\n",
    "import pandas as pd\n",
    "import numpy as np\n",
    "import matplotlib.pyplot as plt\n",
    "from pathlib import Path\n",
    "import os\n",
    "\n",
    "from importnb import Notebook\n",
    "with Notebook(): \n",
    "    import Utilities"
   ]
  },
  {
   "cell_type": "code",
   "execution_count": 125,
   "metadata": {},
   "outputs": [],
   "source": [
    "sbert_model = SentenceTransformer('bert-base-nli-mean-tokens')"
   ]
  },
  {
   "cell_type": "code",
   "execution_count": 4,
   "metadata": {},
   "outputs": [],
   "source": [
    "sentences = ['This framework generates embeddings for each input sentence',\n",
    "    'Sentences are passed as a list of string.', \n",
    "    'The quick brown fox jumps over the lazy dog.']\n",
    "sentence_embeddings = model.encode(sentences)"
   ]
  },
  {
   "cell_type": "code",
   "execution_count": 14,
   "metadata": {},
   "outputs": [],
   "source": [
    "# Load data \n",
    "news_path = Path(\"../Datasets/data/financial_headlines_20061020-20131119.pkl\")\n",
    "data = pd.DataFrame(pd.read_pickle(news_path))\n",
    "data.set_index('date',inplace=True)\n"
   ]
  },
  {
   "cell_type": "code",
   "execution_count": 32,
   "metadata": {},
   "outputs": [
    {
     "name": "stdout",
     "output_type": "stream",
     "text": [
      "99.961 % ...\r"
     ]
    }
   ],
   "source": [
    "n = len(data.index.drop_duplicates())\n",
    "\n",
    "path = Path(\"../Input Data/all_reuters_news_embedded_bert_base_nli_mean\")\n",
    "if os.path.exists(path)\n",
    "    x = np.load(path)\n",
    "    embed_dim = x.shape[-1]\n",
    "    max_nbr_titles = x.shape[-2]\n",
    "else:\n",
    "    texts = []\n",
    "    for i,date in enumerate(data.index.drop_duplicates()): \n",
    "        if i % 100: \n",
    "            print(\"{} % ...\".format(round(100 * i / len(data.index.drop_duplicates()),3)),end='\\r')\n",
    "        temp_titles = []\n",
    "        for title in data.loc[date].values:\n",
    "            temp_titles.append(title[0])\n",
    "        texts.append(model.encode(temp_titles))\n",
    "    print(\"100 % ...\")\n",
    "    max_nbr_titles = max([len(text) for text in texts])\n",
    "    embed_dim = texts[0][0].shape[0]\n",
    "    x = np.zeros((n,max_nbr_titles,embed_dim))\n",
    "    # Include embeddings in matrix and pad with (tensors) of zeros. \n",
    "    for i,titles in enumerate(texts): \n",
    "        for j,title in enumerate(titles): \n",
    "            x[i,j] = title\n",
    "    np.save(path,x)"
   ]
  },
  {
   "cell_type": "code",
   "execution_count": 148,
   "metadata": {},
   "outputs": [],
   "source": [
    "config = {\n",
    "    'embed_dim': embed_dim,    # Dimensions to use for the word embedding\n",
    "    'max_len': max_nbr_titles,\n",
    "    'lookback': 1,       # How far back to collect data in the recurrent layer (days)\n",
    "    'delay': 1,          # How far ahead to predict data (days)\n",
    "    'p': 1,              # Order of the AR-part of the model\n",
    "    'd': 1,              # Integrated order\n",
    "    'q': 1,              # Included moving average terms \n",
    "    'train_part' : 0.8,  # Part of data to be used for training\n",
    "    'val_part' : 0.1,    # Part of data to be used for validation\n",
    "    'test_part' : 0.1,   # Part of data to be used for testing\n",
    "    'series': '1 YEAR',   # What series we currently want to predict, '1 YEAR', '3 YEAR' or 'S&P'\n",
    "    'start_date': '2006-10-20',\n",
    "    'end_date': '2013-11-19',\n",
    "}"
   ]
  },
  {
   "cell_type": "code",
   "execution_count": 58,
   "metadata": {},
   "outputs": [
    {
     "data": {
      "text/plain": [
       "(2582, 104, 768)"
      ]
     },
     "execution_count": 58,
     "metadata": {},
     "output_type": "execute_result"
    }
   ],
   "source": [
    "x.shape"
   ]
  },
  {
   "cell_type": "code",
   "execution_count": 66,
   "metadata": {},
   "outputs": [
    {
     "name": "stdout",
     "output_type": "stream",
     "text": [
      "Loaded previously constructed labels. \n"
     ]
    }
   ],
   "source": [
    "y = Utilities.load_regression_labels(config)"
   ]
  },
  {
   "cell_type": "code",
   "execution_count": 72,
   "metadata": {},
   "outputs": [],
   "source": [
    "# Need to remove some rows from the word embedding-matrix,\n",
    "# these numbers are specified in Utilities.fit_all_models()\n",
    "rm_start_rows = max(config['lookback'],5) + 1\n",
    "rm_end_rows = config['delay']\n",
    "x = x[rm_start_rows : -rm_end_rows]"
   ]
  },
  {
   "cell_type": "code",
   "execution_count": 110,
   "metadata": {},
   "outputs": [
    {
     "name": "stdout",
     "output_type": "stream",
     "text": [
      "Shape of x_train: (2317, 104, 768)\n",
      "Shape of y_train: (2317,)\n",
      "Shape of x_test: (258, 104, 768)\n",
      "Shape of y_test: (258,)\n"
     ]
    }
   ],
   "source": [
    "(x_train, y_train), (x_test, y_test) = Utilities.shuffle_and_partition(x,y,test_part = config['test_part'])\n",
    "print(\"Shape of x_train:\",x_train.shape)\n",
    "print(\"Shape of y_train:\",y_train.shape)\n",
    "print(\"Shape of x_test:\",x_test.shape)\n",
    "print(\"Shape of y_test:\",y_test.shape)"
   ]
  },
  {
   "cell_type": "code",
   "execution_count": 99,
   "metadata": {},
   "outputs": [],
   "source": [
    "# Create functions for custom 'MergeEmedding'-layer which averages \n",
    "# the embeddings over all words after the embedding layer \n",
    "def merge_embeddings(x):\n",
    "    # Sum the embeddings for every word slot. If this is zero, there is no word in this slot\n",
    "    non_zero = K.sum(K.cast(K.not_equal(K.sum(x,axis=2),0),tf.float32))\n",
    "    return K.sum(x,axis=1) / non_zero\n",
    "\n",
    "def merge_output_shape(input_shape):\n",
    "    return (input_shape[0], input_shape[2])"
   ]
  },
  {
   "cell_type": "code",
   "execution_count": 229,
   "metadata": {
    "scrolled": false
   },
   "outputs": [
    {
     "name": "stdout",
     "output_type": "stream",
     "text": [
      "Model: \"sequential_21\"\n",
      "_________________________________________________________________\n",
      "Layer (type)                 Output Shape              Param #   \n",
      "=================================================================\n",
      "lambda_9 (Lambda)            (None, 768)               0         \n",
      "_________________________________________________________________\n",
      "dense_34 (Dense)             (None, 1)                 769       \n",
      "=================================================================\n",
      "Total params: 769\n",
      "Trainable params: 769\n",
      "Non-trainable params: 0\n",
      "_________________________________________________________________\n"
     ]
    }
   ],
   "source": [
    "model = Sequential()\n",
    "model.add(Lambda(merge_embeddings, input_shape=x_train.shape[1:], output_shape=merge_output_shape))\n",
    "          \n",
    "model.add(Dense(1, activation='linear'))\n",
    "model.compile(optimizer='rmsprop', loss='mse')\n",
    "model.summary()"
   ]
  },
  {
   "cell_type": "code",
   "execution_count": 232,
   "metadata": {},
   "outputs": [],
   "source": [
    "epochs = 100\n",
    "\n",
    "h = model.fit(x_train, y_train, epochs = epochs, validation_split=config['val_part'],verbose=0)"
   ]
  },
  {
   "cell_type": "code",
   "execution_count": 233,
   "metadata": {},
   "outputs": [
    {
     "data": {
      "image/png": "[encoded data removed]",
      "text/plain": [
       "<Figure size 432x288 with 1 Axes>"
      ]
     },
     "metadata": {
      "needs_background": "light"
     },
     "output_type": "display_data"
    },
    {
     "name": "stdout",
     "output_type": "stream",
     "text": [
      "Model test score: 0.0004279944060240374\n",
      "Zero test score: 4.023111572553152e-05\n"
     ]
    }
   ],
   "source": [
    "plt.plot(h.history['val_loss'], label='Val loss')\n",
    "plt.plot(h.history['loss'], label='Training Loss')\n",
    "plt.yscale('log')\n",
    "plt.legend()\n",
    "plt.show() \n",
    "score = model.evaluate(x_test, y_test, verbose=0)\n",
    "zero_score = np.dot(y_test, y_test) / len(y_test)\n",
    "print(\"Model test score:\",score)\n",
    "print(\"Zero test score:\",zero_score)"
   ]
  },
  {
   "cell_type": "code",
   "execution_count": 226,
   "metadata": {},
   "outputs": [],
   "source": [
    "test_sents = [\n",
    "    \"Veberöd Mushroom Factory claims quality award.\"\n",
    "    \"The economy is dead.\",\n",
    "    \"The American President has committed suicide.\", \n",
    "    \"Worst crisis in 1000 years. \",\n",
    "    \"Corona virus stopps all production in 100 countries.\",\n",
    "    \"BEST DAY EVER!\",\n",
    "    \"Amazing comeback from american stocks\",\n",
    "    \"Truly awesome day on the market today.\"\n",
    "]\n",
    "enc_sents = sbert_model.encode(test_sents)\n",
    "x_inp = np.zeros((1, config['max_len'], config['embed_dim'])) \n",
    "for i,row in enumerate(enc_sents):\n",
    "    x_inp[0,i] = row\n"
   ]
  },
  {
   "cell_type": "code",
   "execution_count": 227,
   "metadata": {},
   "outputs": [],
   "source": [
    "y_pred = model.predict(x_inp)"
   ]
  },
  {
   "cell_type": "code",
   "execution_count": 228,
   "metadata": {},
   "outputs": [
    {
     "data": {
      "text/plain": [
       "array([[-0.00031726]], dtype=float32)"
      ]
     },
     "execution_count": 228,
     "metadata": {},
     "output_type": "execute_result"
    }
   ],
   "source": [
    "y_pred"
   ]
  },
  {
   "cell_type": "code",
   "execution_count": 162,
   "metadata": {},
   "outputs": [
    {
     "data": {
      "text/plain": [
       "array([[[ 0.05641313,  0.43250403,  1.2209636 , ..., -0.08560896,\n",
       "          0.06196363, -0.46169922],\n",
       "        [ 0.20730712,  0.60533875, -0.13538317, ..., -0.50943702,\n",
       "          0.40553239, -0.00730546],\n",
       "        [-0.35821676,  0.95740557,  0.50074011, ..., -1.16877079,\n",
       "          0.9151963 ,  0.11431099],\n",
       "        ...,\n",
       "        [ 0.        ,  0.        ,  0.        , ...,  0.        ,\n",
       "          0.        ,  0.        ],\n",
       "        [ 0.        ,  0.        ,  0.        , ...,  0.        ,\n",
       "          0.        ,  0.        ],\n",
       "        [ 0.        ,  0.        ,  0.        , ...,  0.        ,\n",
       "          0.        ,  0.        ]]])"
      ]
     },
     "execution_count": 162,
     "metadata": {},
     "output_type": "execute_result"
    }
   ],
   "source": []
  },
  {
   "cell_type": "code",
   "execution_count": null,
   "metadata": {},
   "outputs": [],
   "source": []
  }
 ],
 "metadata": {
  "kernelspec": {
   "display_name": "Python 3",
   "language": "python",
   "name": "python3"
  },
  "language_info": {
   "codemirror_mode": {
    "name": "ipython",
    "version": 3
   },
   "file_extension": ".py",
   "mimetype": "text/x-python",
   "name": "python",
   "nbconvert_exporter": "python",
   "pygments_lexer": "ipython3",
   "version": "3.7.6"
  }
 },
 "nbformat": 4,
 "nbformat_minor": 4
}
