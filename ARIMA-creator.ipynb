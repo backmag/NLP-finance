{
 "cells": [
  {
   "cell_type": "code",
   "execution_count": 23,
   "metadata": {},
   "outputs": [],
   "source": [
    "from statsmodels.tsa.arima_model import ARIMA\n",
    "import pandas as pd\n",
    "import numpy as np\n",
    "from datetime import datetime"
   ]
  },
  {
   "cell_type": "code",
   "execution_count": 24,
   "metadata": {},
   "outputs": [],
   "source": [
    "def fit_all_models(par,one_year,three_year,SP_log,dates):\n",
    "    \"\"\" Fits ARIMA models with the parameters specified in par\n",
    "    to the provided data for every index. \n",
    "    \n",
    "    Parameters: \n",
    "    par - Dictionary of parameters\n",
    "    one_year - Series of one year rates\n",
    "    three_year - Series of three year rates\n",
    "    SP_log - Logarithmed S&P500-index data \n",
    "    dates - The dates to be fitted \n",
    "    \n",
    "    Returns:\n",
    "    A pandas dataframe containing three series with fitted models\n",
    "    for every date in the data\n",
    "    \n",
    "    \"\"\"\n",
    "    ARIMA_models = pd.DataFrame()\n",
    "    d = timedelta(days=par['lookback'])\n",
    "    start_params_oyr = [0,0.5,0.5]\n",
    "    start_params_tyr = [0,0.5,0.5]\n",
    "    start_params_sp = [0,0.5,0.5]\n",
    "    ctr = 0\n",
    "    t = time.time()\n",
    "    for date in dates: \n",
    "        if not ctr % 50: \n",
    "            print(\"Processing {}\".format(date.strftime(\"%Y-%m-%d\")))\n",
    "        if date > dates[0] + timedelta(days=par['lookback']):\n",
    "            m_oyr = ARIMA(one_year[:date.strftime('%Y-%m-%d')],order=(par['p'],par['d'],par['q']))\n",
    "            m_oyr_fit = m_oyr.fit(start_params=start_params_oyr)\n",
    "            m_tyr = ARIMA(three_year[:date.strftime('%Y-%m-%d')],order=(par['p'],par['d'],par['q']))\n",
    "            m_tyr_fit = m_tyr.fit(start_params=start_params_tyr)\n",
    "            m_sp = ARIMA(SP_log[:date.strftime('%Y-%m-%d')],order=(par['p'],par['d'],par['q']))\n",
    "            m_sp_fit = m_sp.fit(start_params=start_params_sp)\n",
    "            ARIMA_models = ARIMA_models.append({'date':date,\n",
    "                                                '1 YEAR':m_oyr_fit,\n",
    "                                                '3 YEAR':m_tyr_fit,\n",
    "                                                'S&P':m_sp_fit\n",
    "                                               },ignore_index=True) \n",
    "            start_params_oyr = m_oyr_fit.params.values\n",
    "            start_params_tyr = m_tyr_fit.params.values\n",
    "            start_params_sp = m_sp_fit.params.values\n",
    "        ctr += 1\n",
    "    ARIMA_models.set_index('date',inplace=True)\n",
    "    total_time = round(time.time() - t,3)\n",
    "    print(\"Total time: {} s\".format(total_time))\n",
    "    print(\"Average time per fitting: {} s\".format(round(total_time/(3 * len(dates)),3)))\n",
    "    return ARIMA_models\n",
    "\n",
    "def predict_arima(ARIMA_models, steps):\n",
    "    \"\"\" Predicts the values steps ahead from the models in ARIMA_models. \n",
    "    \n",
    "    Parameters: \n",
    "    ARIMA_models - A dataframe with models named as implied above.\n",
    "    steps - How many days ahead to predict. \n",
    "    \n",
    "    Returns: \n",
    "    A dataframe containing the prediction steps ahead for each category. \n",
    "    The date is the date when the forecast is made and not the day we want to forecast. \n",
    "    \"\"\"\n",
    "    ARIMA_preds = pd.DataFrame({'date':[], '1 YEAR':[], '3 YEAR': [], 'S&P': []})\n",
    "    for d in ARIMA_models.index:\n",
    "        ARIMA_preds = ARIMA_preds.append({'date': d,\n",
    "                                          '1 YEAR': ARIMA_models.loc[d]['1 YEAR'].forecast(steps=steps)[0][-1],\n",
    "                                          '3 YEAR': ARIMA_models.loc[d]['3 YEAR'].forecast(steps=steps)[0][-1],\n",
    "                                          'S&P': ARIMA_models.loc[d]['S&P'].forecast(steps=steps)[0][-1]},\n",
    "                                        ignore_index=True)\n",
    "    ARIMA_preds.set_index('date',inplace=True)  \n",
    "    return ARIMA_preds"
   ]
  },
  {
   "cell_type": "code",
   "execution_count": null,
   "metadata": {},
   "outputs": [],
   "source": []
  },
  {
   "cell_type": "code",
   "execution_count": null,
   "metadata": {},
   "outputs": [],
   "source": []
  },
  {
   "cell_type": "code",
   "execution_count": null,
   "metadata": {},
   "outputs": [],
   "source": []
  },
  {
   "cell_type": "code",
   "execution_count": null,
   "metadata": {},
   "outputs": [],
   "source": []
  }
 ],
 "metadata": {
  "kernelspec": {
   "display_name": "Python 3",
   "language": "python",
   "name": "python3"
  },
  "language_info": {
   "codemirror_mode": {
    "name": "ipython",
    "version": 3
   },
   "file_extension": ".py",
   "mimetype": "text/x-python",
   "name": "python",
   "nbconvert_exporter": "python",
   "pygments_lexer": "ipython3",
   "version": "3.7.4"
  }
 },
 "nbformat": 4,
 "nbformat_minor": 2
}
