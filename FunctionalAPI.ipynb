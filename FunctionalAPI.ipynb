{
 "cells": [
  {
   "cell_type": "code",
   "execution_count": 1,
   "metadata": {},
   "outputs": [],
   "source": [
    "from pathlib import Path\n",
    "import tensorflow as tf\n",
    "from tensorflow.keras.layers import Input, Dense, Flatten, Dropout, LSTM, GRU, SimpleRNN, Embedding\n",
    "from tensorflow.keras.models import Sequential, Model\n",
    "from tensorflow.keras.utils import plot_model, model_to_dot\n",
    "from tensorflow.keras.preprocessing.text import one_hot\n",
    "from tensorflow.keras.preprocessing.sequence import pad_sequences\n",
    "from tensorflow import keras\n",
    "from datetime import datetime\n",
    "from IPython.display import Image\n",
    "from statsmodels.tsa.arima_model import ARIMA\n",
    "from sklearn import preprocessing\n",
    "from collections import deque\n",
    "import numpy as np\n",
    "import random\n",
    "import os\n",
    "%run WordEmbeddings.ipynb\n",
    "%run ARIMA-creator.ipynb"
   ]
  },
  {
   "cell_type": "code",
   "execution_count": 2,
   "metadata": {},
   "outputs": [],
   "source": [
    "def smooth_data(data,indices):\n",
    "    \"\"\"Interpolate/average financial data where values are missing. \n",
    "    \n",
    "    Parameters: \n",
    "    data - A pandas dataframe indexed by datetime\n",
    "    indices - Datetime indices of the values to interpolate to. \n",
    "    \n",
    "    Returns: \n",
    "    A pandas dataframe\n",
    "    \"\"\"\n",
    "    \n",
    "    start_date = indices[0]\n",
    "    end_date = indices[-1]\n",
    "    temp = pd.DataFrame({'data':[], 'date':[]})\n",
    "    n_interpol = 0\n",
    "    for i, date in enumerate(indices): \n",
    "        if date not in data.index: \n",
    "            n_interpol += 1\n",
    "            prev_valid = date\n",
    "            next_valid = date\n",
    "            while prev_valid not in data.index:\n",
    "                prev_valid = prev_valid - timedelta(days=1)\n",
    "                if prev_valid < start_date: \n",
    "                    prev_valid = data.index[0]\n",
    "                    break\n",
    "            while next_valid not in data.index: \n",
    "                next_valid = next_valid + timedelta(days=1)\n",
    "                if next_valid > end_date: \n",
    "                    next_valid = data.index[-1]\n",
    "                    break\n",
    "            rate = (data.loc[prev_valid] + data.loc[next_valid]) / 2\n",
    "            temp = temp.append({'data':rate,'date':date},ignore_index=True)\n",
    "        else: \n",
    "            temp = temp.append({'data': data.loc[date],'date':date},ignore_index=True)\n",
    "    print(\"{} interpolated values of {} total.\".format(n_interpol, len(indices)))\n",
    "    temp.set_index('date',inplace=True)\n",
    "    return temp\n",
    "\n",
    "def interpolate_indices(data,indices): \n",
    "    start_date = indices[0]\n",
    "    end_date = indices[-1]\n",
    "    merged_df = pd.DataFrame({'data':data.values, 'date':data.index})\n",
    "    n_interpol = 0\n",
    "    for i, date in enumerate(indices):\n",
    "        if date not in data.index: \n",
    "            n_interpol += 1\n",
    "            prev_valid = date\n",
    "            next_valid = date\n",
    "            while prev_valid not in data.index:\n",
    "                prev_valid = prev_valid - timedelta(days=1)\n",
    "                if prev_valid < start_date: \n",
    "                    prev_valid = data.index[0]\n",
    "                    break\n",
    "            while next_valid not in data.index: \n",
    "                next_valid = next_valid + timedelta(days=1)\n",
    "                if next_valid > end_date: \n",
    "                    next_valid = data.index[-1]\n",
    "                    break\n",
    "            val = (data.loc[prev_valid] + data.loc[next_valid]) / 2\n",
    "            merged_df = merged_df.append({'data':val,'date':date},ignore_index=True)\n",
    "    print(\"{} interpolated values of {} total.\".format(n_interpol, len(indices)))\n",
    "    merged_df.set_index('date',inplace=True)\n",
    "    return merged_df\n",
    "\n",
    "\n",
    "def generator(data, arima_data, fin_data, lookback, delay, indices, batch_size=32):\n",
    "    \"\"\" Creates a generator for the given data. Returns each \n",
    "    batch with separate word embeddings and ARIMA-predictions. \n",
    "    \n",
    "    Parameters: \n",
    "    data - Sorted data of size (n,d)\n",
    "    arima_data - Predictions from the arima-models \n",
    "    lookback - How far back to include data (days)\n",
    "    delay - How far ahead to predict (days)\n",
    "    indices - Shuffled indices to include, where the order is followed\n",
    "    batch_size - How many samples to return each call \n",
    "    \n",
    "    Returns: \n",
    "    samples_words - Word-related data \n",
    "    samples_arima - The ARIMA-predicted future value \n",
    "    targets - The value of the times series delay days ahead\n",
    "    \n",
    "    \"\"\"\n",
    "    min_index = lookback\n",
    "    max_index = len(data) - delay - 1\n",
    "    current_batch_start = 0\n",
    "    while True:\n",
    "        if current_batch_start > len(indices): \n",
    "            current_batch_start = 0\n",
    "        rows = indices[current_batch_start:min(current_batch_start+batch_size,max_index)]\n",
    "        current_batch_start += batch_size\n",
    "        samples_words = np.zeros((len(rows), lookback, data.shape[-1]))\n",
    "        samples_arima = np.zeros(len(rows),)\n",
    "        targets = np.zeros(len(rows),)\n",
    "        dates = []\n",
    "        for i, index in enumerate(rows): \n",
    "            date = arima_data.index[index]\n",
    "            dates.append(date)\n",
    "            target_date = date + timedelta(days=delay)     # Does this always give a viable date? \n",
    "            if (index > min_index) and (index < max_index):\n",
    "                samples_words[i] = data[range(index - lookback,index)]\n",
    "                samples_arima[i] = arima_data[date]\n",
    "                targets[i] = fin_data.loc[target_date]\n",
    "        yield [samples_words, samples_arima], targets\n",
    "\n",
    "def preprocess_df(df,par):\n",
    "    \"\"\" Shift the actual values 'delay' steps so that they are targets in the \n",
    "    correct row of the data frame.\n",
    "    Normalize so that the numerical data is in the interval [0,1]. \n",
    "    \"\"\"\n",
    "    df['1 YEAR'].shift(-par['delay'])\n",
    "    df['3 YEAR'].shift(-par['delay'])\n",
    "    df['S&P'].shift(-par['delay'])\n",
    "    df.dropna(inplace=True)\n",
    "    for col in df.columns:\n",
    "        if col != 'WORDS':\n",
    "            df.dropna(inplace=True)\n",
    "            df[col] = preprocessing.scale(df[col].values)\n",
    "    return df\n",
    "\n",
    "def format_for_training(df,par):\n",
    "    sequential_data = []\n",
    "    prev_data = deque(maxlen=par['lookback'])\n",
    "    for i in df.values: \n",
    "        prev_data.append(i[0])\n",
    "        if len(prev_data) == par['lookback']: \n",
    "            if par['series'] == '1 YEAR': \n",
    "                sequential_data.append([np.array(prev_data), i[4], i[1]])\n",
    "            elif par['series'] == '3 YEAR': \n",
    "                sequential_data.append([np.array(prev_data), i[5], i[2]])\n",
    "            elif par['series'] == 'S&P': \n",
    "                sequential_data.append([np.array(prev_data), i[6], i[3]])\n",
    "    random.shuffle(sequential_data)\n",
    "    x_words = []\n",
    "    x_arima = []\n",
    "    y = []\n",
    "    for row in sequential_data: \n",
    "        x_words.append(row[0])\n",
    "        x_arima.append(row[1])\n",
    "        y.append(row[2])\n",
    "    return np.asarray(x_words), np.asarray(x_arima), np.asarray(y)\n",
    "    \n",
    "    "
   ]
  },
  {
   "cell_type": "code",
   "execution_count": null,
   "metadata": {},
   "outputs": [],
   "source": []
  },
  {
   "cell_type": "code",
   "execution_count": 3,
   "metadata": {},
   "outputs": [],
   "source": [
    "# Set up hyperparameters to be saved in a config file later. \n",
    "par = {\n",
    "    'embed_dim': 100,    # Dimensions to use for the word embedding\n",
    "    'concat_period': 1,  # How many days to concatinate new from \n",
    "    'vocab_part': 0.6,   # How large part of the total vocabulary to include\n",
    "    'lookback': 20,       # How far back to collect data in the recurrent layer (days)\n",
    "    'delay': 5,          # How far ahead to predict data (days)\n",
    "    'batch_size': 10,    # Batch size used in generator\n",
    "    'p': 1,              # Order of the AR-part of the model\n",
    "    'd': 1,              # Integrated order\n",
    "    'q': 1,              # Included moving average terms \n",
    "    'train_part' : 0.6,  # Part of data to be used for training\n",
    "    'val_part' : 0.2,    # Part of data to be used for validation\n",
    "    'test_part' : 0.2,   # Part of data to be used for testing\n",
    "    'series': '1 YEAR'   # What series we currently want to predict, '1 YEAR', '3 YEAR' or 'S&P'\n",
    "}"
   ]
  },
  {
   "cell_type": "code",
   "execution_count": 4,
   "metadata": {},
   "outputs": [],
   "source": [
    "# Initialize logging folder for TensorBoard\n",
    "logdir=Path(\"./logs/fit/\" + datetime.now().strftime(\"%Y%m%d-%H%M%S\"))\n",
    "tensorboard_callback = keras.callbacks.TensorBoard(log_dir=logdir)"
   ]
  },
  {
   "cell_type": "code",
   "execution_count": 5,
   "metadata": {},
   "outputs": [
    {
     "name": "stdout",
     "output_type": "stream",
     "text": [
      "Time to load news: 17.328 s\n",
      "Time to calculate unique words: 0.172 s\n"
     ]
    }
   ],
   "source": [
    "# Load and process text data \n",
    "t = time.time()\n",
    "path_text = Path(\"./Datasets/data/financial_headlines_20061020-20131119.pkl\")\n",
    "news_data = pd.DataFrame(pd.read_pickle(path_text))\n",
    "news_data.set_index('date',inplace=True)\n",
    "data = concat_news(news_data, par['concat_period']) \n",
    "max_length = max([len(line) for line in data['titles']])\n",
    "print(\"Time to load news: {} s\".format(round(time.time() - t,3)))\n",
    "t = time.time()\n",
    "# Update environment variable config\n",
    "par.update({'input_dim': max_length})\n",
    "par.update({'start_date' : news_data.index[0]})\n",
    "par.update({'end_date' : news_data.index[-1]})\n",
    "\n",
    "\n",
    "# Calculate number of uniques words. \n",
    "uniques = set()\n",
    "for d in data['titles']:\n",
    "    [uniques.add(word) for word in d]\n",
    "\n",
    "print(\"Time to calculate unique words: {} s\".format(round(time.time() - t,3)))\n",
    "par.update({'vocab_size': round(par['vocab_part']*len(uniques))})"
   ]
  },
  {
   "cell_type": "code",
   "execution_count": 6,
   "metadata": {},
   "outputs": [],
   "source": [
    "# Dataframe containing all data\n",
    "df = pd.DataFrame()\n",
    "# Prepare the data as integer encoded and pad with zeroes after entries where needed. \n",
    "encoded_data = [one_hot(str(d),par['vocab_size']) for d in data['titles']]\n",
    "x_words = pad_sequences(encoded_data,maxlen=par['input_dim'],padding='post')\n",
    "for x in x_words: \n",
    "    df = df.append({'WORDS': x},ignore_index=True)\n",
    "n,d = x_words.shape"
   ]
  },
  {
   "cell_type": "code",
   "execution_count": 7,
   "metadata": {},
   "outputs": [],
   "source": [
    "# Load and process the financial time series \n",
    "path_ts = Path(\"./Datasets/data/stock_data.pkl\")\n",
    "fin_data = pd.read_pickle(path_ts)\n",
    "\n",
    "# Extract the times and series we are interested in\n",
    "one_year = fin_data['1 YEAR'][par['start_date'] : par['end_date']]\n",
    "three_year = fin_data['3 YEAR'][par['start_date'] : par['end_date']]\n",
    "SP = fin_data['S&P'][par['start_date'] : par['end_date']]"
   ]
  },
  {
   "cell_type": "code",
   "execution_count": 8,
   "metadata": {
    "scrolled": true
   },
   "outputs": [
    {
     "name": "stdout",
     "output_type": "stream",
     "text": [
      "Processing one year rate...\n",
      "740 interpolated values of 2587 total.\n",
      "Processing three year rate...\n",
      "740 interpolated values of 2587 total.\n",
      "Processing S&P...\n",
      "740 interpolated values of 2587 total.\n"
     ]
    }
   ],
   "source": [
    "# Interpolate the indices not present in the original data\n",
    "print(\"Processing one year rate...\")\n",
    "one_year = interpolate_indices(one_year,data.index)\n",
    "print(\"Processing three year rate...\")\n",
    "three_year = interpolate_indices(three_year,data.index)\n",
    "print(\"Processing S&P...\")\n",
    "SP = interpolate_indices(SP,data.index)\n",
    "\n",
    "# Add to the dataframe \n",
    "df['1 YEAR'] = ([one_year.loc[d][0] for d in data.index])\n",
    "df['3 YEAR'] = ([three_year.loc[d][0] for d in data.index])\n",
    "df['S&P'] = ([SP.loc[d][0] for d in data.index])\n",
    "df['date'] = data.index.values\n",
    "df.set_index('date',inplace=True)\n",
    "\n",
    "\n",
    "# Set period as daily data\n",
    "#one_year.index = pd.DatetimeIndex(one_year.index).to_period('D')\n",
    "#three_year.index= pd.DatetimeIndex(three_year.index).to_period('D')\n",
    "#SP_log.index = pd.DatetimeIndex(SP_log.index).to_period('D')"
   ]
  },
  {
   "cell_type": "code",
   "execution_count": 9,
   "metadata": {
    "scrolled": true
   },
   "outputs": [
    {
     "name": "stdout",
     "output_type": "stream",
     "text": [
      "Found and loaded previously constructed model.\n"
     ]
    }
   ],
   "source": [
    "# Check if the ARIMA-models has been previously calculated for this config\n",
    "# or if they have to be constructed\n",
    "path = Path(f\"./Models/ARIMA/all_mods_per{par['concat_period']}_del{par['delay']}.pkl\")\n",
    "if os.path.exists(path):\n",
    "    # Load model if if already exists\n",
    "    ARIMA_models = pd.read_pickle(path)    \n",
    "    print(\"Found and loaded previously constructed model.\")\n",
    "else: \n",
    "    # Fit ARIMA-models to all of the dates in the training data \n",
    "    print(\"Model not found, fitting models...\")\n",
    "    ARIMA_models = fit_all_models(par, one_year, three_year, SP, data.index)\n",
    "    ARIMA_models.to_pickle(path)    "
   ]
  },
  {
   "cell_type": "code",
   "execution_count": 10,
   "metadata": {},
   "outputs": [],
   "source": [
    "# Predict \n",
    "arima_preds = predict_arima(ARIMA_models, par['delay'])"
   ]
  },
  {
   "cell_type": "code",
   "execution_count": 11,
   "metadata": {},
   "outputs": [],
   "source": [
    "# Drop the values not in arima_preds. This is just values in the beginning where\n",
    "# there isn't enough data to make a prediction, varies depending on lookback and delay. \n",
    "for date in df.index: \n",
    "    if not date in arima_preds.index : df.drop(index=date,inplace=True)\n",
    "        \n",
    "# Add the predicitons to the training data \n",
    "df['1 YEAR PRED'] = arima_preds['1 YEAR'].values\n",
    "df['3 YEAR PRED'] = arima_preds['3 YEAR'].values\n",
    "df['S&P PRED'] = arima_preds['S&P'].values"
   ]
  },
  {
   "cell_type": "code",
   "execution_count": 12,
   "metadata": {},
   "outputs": [],
   "source": [
    "# Preprocess the data with scaling, removing NaN's etc\n",
    "df = preprocess_df(df, par)\n",
    "\n",
    "# Divide the data into training, validation and test segments. \n",
    "indices = [i for i in range(len(df))]\n",
    "train_indices = indices[0:round(len(df)*par['train_part'])]\n",
    "val_indices = indices[round(len(df)*par['train_part']):round(len(df)*(par['train_part'] + par['val_part']))]\n",
    "test_indices = indices[round(len(df)*(par['train_part'] + par['val_part'])): len(df)]\n",
    "\n",
    "# Formats the data into (word, ARIMA-prediction, target), shuffled\n",
    "train_seq, train_arima, train_label = format_for_training(df.iloc[train_indices],par)\n",
    "val_seq, val_arima, val_label = format_for_training(df.iloc[val_indices],par)\n",
    "test_seq, test_arima, test_label = format_for_training(df.iloc[test_indices],par)"
   ]
  },
  {
   "cell_type": "code",
   "execution_count": 13,
   "metadata": {},
   "outputs": [],
   "source": [
    "# This only takes the first samples from 'WORDS', i.e. doesn't take the order into account\n",
    "train = []\n",
    "val = []\n",
    "for i in range(2000): \n",
    "    train.append([df.iloc[i]['WORDS'],df.iloc[i]['1 YEAR PRED'],df.iloc[i]['1 YEAR']])\n",
    "for i in range(2000,len(df)): \n",
    "    val.append([df.iloc[i]['WORDS'],df.iloc[i]['1 YEAR PRED'],df.iloc[i]['1 YEAR']])\n",
    "train = np.asarray(train)\n",
    "val = np.asarray(val)"
   ]
  },
  {
   "cell_type": "code",
   "execution_count": 14,
   "metadata": {},
   "outputs": [],
   "source": [
    "x1 = []\n",
    "x2 = []\n",
    "y = []\n",
    "for i in train: \n",
    "    x1.append(i[0])\n",
    "    x2.append(i[1])\n",
    "    y.append(i[2])\n",
    "x1 = np.asarray(x1)\n",
    "x2 = np.asarray(x2)\n",
    "y = np.asarray(y)\n",
    "\n",
    "vx1 = []\n",
    "vx2 = []\n",
    "vy = []\n",
    "for i in val: \n",
    "    vx1.append(i[0])\n",
    "    vx2.append(i[1])\n",
    "    vy.append(i[2])\n",
    "vx1 = np.asarray(vx1)\n",
    "vx2 = np.asarray(vx2)\n",
    "vy = np.asarray(vy)"
   ]
  },
  {
   "cell_type": "code",
   "execution_count": null,
   "metadata": {},
   "outputs": [],
   "source": []
  },
  {
   "cell_type": "code",
   "execution_count": 15,
   "metadata": {},
   "outputs": [
    {
     "name": "stdout",
     "output_type": "stream",
     "text": [
      "Model: \"model\"\n",
      "__________________________________________________________________________________________________\n",
      "Layer (type)                    Output Shape         Param #     Connected to                     \n",
      "==================================================================================================\n",
      "Text_Input (InputLayer)         [(None, 2419)]       0                                            \n",
      "__________________________________________________________________________________________________\n",
      "Embedding_Layer (Embedding)     (None, 2419, 100)    1375700     Text_Input[0][0]                 \n",
      "__________________________________________________________________________________________________\n",
      "lstm (LSTM)                     (None, 10)           4440        Embedding_Layer[0][0]            \n",
      "__________________________________________________________________________________________________\n",
      "dropout (Dropout)               (None, 10)           0           lstm[0][0]                       \n",
      "__________________________________________________________________________________________________\n",
      "ARIMA_input (InputLayer)        [(None, 1)]          0                                            \n",
      "__________________________________________________________________________________________________\n",
      "concatenate (Concatenate)       (None, 11)           0           dropout[0][0]                    \n",
      "                                                                 ARIMA_input[0][0]                \n",
      "__________________________________________________________________________________________________\n",
      "Dense_1 (Dense)                 (None, 64)           768         concatenate[0][0]                \n",
      "__________________________________________________________________________________________________\n",
      "dropout_1 (Dropout)             (None, 64)           0           Dense_1[0][0]                    \n",
      "__________________________________________________________________________________________________\n",
      "Dense_2 (Dense)                 (None, 64)           4160        dropout_1[0][0]                  \n",
      "__________________________________________________________________________________________________\n",
      "dropout_2 (Dropout)             (None, 64)           0           Dense_2[0][0]                    \n",
      "__________________________________________________________________________________________________\n",
      "Main_Output (Dense)             (None, 1)            65          dropout_2[0][0]                  \n",
      "==================================================================================================\n",
      "Total params: 1,385,133\n",
      "Trainable params: 1,385,133\n",
      "Non-trainable params: 0\n",
      "__________________________________________________________________________________________________\n"
     ]
    }
   ],
   "source": [
    "# Initialize the neural network\n",
    "text_inputs = Input(shape=(par['input_dim']), name='Text_Input')\n",
    "\n",
    "# Layer for word embedding\n",
    "embedded_layer = Embedding(input_dim=par['vocab_size'],\n",
    "                           output_dim=par['embed_dim'],\n",
    "                           input_length=(par['input_dim']), name='Embedding_Layer')(text_inputs)\n",
    "\n",
    "# LSTM-layer over the embedding layer \n",
    "lstm_out = LSTM(10)(embedded_layer)\n",
    "dropout = Dropout(0.2)(lstm_out)\n",
    "\n",
    "# Output from the LSTM-layer to be able to train embeddings separately (?)\n",
    "#auxiliary_output = Dense(1,activation='sigmoid', name='AUX_output')(lstm_out)\n",
    "\n",
    "# Input from an ARIMA-model independently fitted to the training data. \n",
    "ARIMA_input = Input(shape=(1,), name='ARIMA_input')\n",
    "\n",
    "# Merging the ARIMA-input and the input from the LSTM-layer. \n",
    "hidden = keras.layers.concatenate([dropout, ARIMA_input])\n",
    "\n",
    "# Stack of dense layers \n",
    "hidden = Dense(64, activation='relu',name='Dense_1')(hidden)\n",
    "hidden = Dropout(0.2)(hidden)\n",
    "\n",
    "hidden = Dense(64, activation='relu',name='Dense_2')(hidden)\n",
    "hidden = Dropout(0.2)(hidden)\n",
    "\n",
    "# Main output of the model\n",
    "main_output = Dense(1,activation='linear',name='Main_Output')(hidden)\n",
    "\n",
    "model = Model(inputs=[text_inputs, ARIMA_input],outputs=[main_output])\n",
    "\n",
    "model.compile(optimizer='adam',\n",
    "             loss='mse')\n",
    "model.summary()\n"
   ]
  },
  {
   "cell_type": "code",
   "execution_count": 16,
   "metadata": {},
   "outputs": [
    {
     "data": {
      "image/png": "[encoded data removed]",
      "text/plain": [
       "<IPython.core.display.Image object>"
      ]
     },
     "execution_count": 16,
     "metadata": {},
     "output_type": "execute_result"
    }
   ],
   "source": [
    "plot_model(model)"
   ]
  },
  {
   "cell_type": "code",
   "execution_count": null,
   "metadata": {},
   "outputs": [],
   "source": []
  },
  {
   "cell_type": "code",
   "execution_count": null,
   "metadata": {},
   "outputs": [],
   "source": []
  },
  {
   "cell_type": "code",
   "execution_count": 17,
   "metadata": {
    "scrolled": true
   },
   "outputs": [
    {
     "name": "stdout",
     "output_type": "stream",
     "text": [
      "Train on 2000 samples, validate on 566 samples\n",
      "Epoch 1/5\n",
      "2000/2000 [==============================] - 245s 122ms/sample - loss: 0.1817 - val_loss: 7.8407e-04\n",
      "Epoch 2/5\n",
      "2000/2000 [==============================] - 241s 120ms/sample - loss: 0.0336 - val_loss: 8.3807e-04\n",
      "Epoch 3/5\n",
      "2000/2000 [==============================] - 260s 130ms/sample - loss: 0.0270 - val_loss: 0.0019\n",
      "Epoch 4/5\n",
      "2000/2000 [==============================] - 315s 157ms/sample - loss: 0.0278 - val_loss: 0.0013\n",
      "Epoch 5/5\n",
      "2000/2000 [==============================] - 363s 182ms/sample - loss: 0.0265 - val_loss: 1.5188e-04\n"
     ]
    }
   ],
   "source": [
    "h = model.fit({'Text_Input': np.asarray(x1), 'ARIMA_input': np.asarray(x2)},\n",
    "              {'Main_Output': y},\n",
    "              validation_data=({'Text_Input': np.asarray(vx1), 'ARIMA_input': np.asarray(vx2)},\n",
    "              {'Main_Output': vy}),\n",
    "              batch_size=par['batch_size'],\n",
    "              epochs=5)"
   ]
  },
  {
   "cell_type": "code",
   "execution_count": 29,
   "metadata": {},
   "outputs": [
    {
     "data": {
      "image/png": "[encoded data removed]",
      "text/plain": [
       "<Figure size 432x288 with 1 Axes>"
      ]
     },
     "metadata": {
      "needs_background": "light"
     },
     "output_type": "display_data"
    }
   ],
   "source": [
    "plt.plot(h.history['loss'],color=\"blue\",label=\"Loss\")\n",
    "plt.plot(h.history['val_loss'],color=\"red\",label=\"Val_Loss\")\n",
    "plt.legend()\n",
    "plt.yscale('log')\n",
    "plt.ylabel('Loss')\n",
    "plt.xlabel('Epochs')\n",
    "plt.xticks(range(5))\n",
    "plt.show()"
   ]
  },
  {
   "cell_type": "markdown",
   "metadata": {},
   "source": [
    "\n"
   ]
  },
  {
   "cell_type": "code",
   "execution_count": 92,
   "metadata": {},
   "outputs": [],
   "source": [
    "# Save model and parameters\n",
    "date_str = date.today().strftime(\"%y%h%d-%Hh%Mm\")\n",
    "dir_path = Path(f\"./Models/model_per_{par['concat_period']}_del_{par['delay']}_t{date_str}\")\n",
    "os.mkdir(dir_path)\n",
    "model_path = dir_path / \"m.h5\"\n",
    "model.save(model_path)\n",
    "config_path = dir_path / \"config.pkl\""
   ]
  },
  {
   "cell_type": "code",
   "execution_count": null,
   "metadata": {},
   "outputs": [],
   "source": []
  },
  {
   "cell_type": "code",
   "execution_count": null,
   "metadata": {},
   "outputs": [],
   "source": []
  },
  {
   "cell_type": "code",
   "execution_count": null,
   "metadata": {},
   "outputs": [],
   "source": []
  },
  {
   "cell_type": "code",
   "execution_count": null,
   "metadata": {},
   "outputs": [],
   "source": []
  },
  {
   "cell_type": "code",
   "execution_count": null,
   "metadata": {},
   "outputs": [],
   "source": []
  }
 ],
 "metadata": {
  "kernelspec": {
   "display_name": "Python 3",
   "language": "python",
   "name": "python3"
  },
  "language_info": {
   "codemirror_mode": {
    "name": "ipython",
    "version": 3
   },
   "file_extension": ".py",
   "mimetype": "text/x-python",
   "name": "python",
   "nbconvert_exporter": "python",
   "pygments_lexer": "ipython3",
   "version": "3.7.4"
  }
 },
 "nbformat": 4,
 "nbformat_minor": 2
}
