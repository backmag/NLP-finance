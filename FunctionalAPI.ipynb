{
 "cells": [
  {
   "cell_type": "code",
   "execution_count": 1,
   "metadata": {},
   "outputs": [],
   "source": [
    "from pathlib import Path\n",
    "import tensorflow as tf\n",
    "from tensorflow.keras.layers import Input, Dense, Flatten, Dropout, LSTM, GRU, SimpleRNN, Embedding, TimeDistributed\n",
    "from tensorflow.keras.models import Sequential, Model\n",
    "from tensorflow.keras.utils import plot_model, model_to_dot\n",
    "from tensorflow.keras.preprocessing.text import Tokenizer\n",
    "from tensorflow.keras.preprocessing.sequence import pad_sequences\n",
    "from tensorflow import keras\n",
    "from datetime import datetime\n",
    "from IPython.display import Image\n",
    "from collections import deque\n",
    "from statsmodels.tsa.arima_model import ARIMA\n",
    "import matplotlib.pyplot as plt\n",
    "import numpy as np\n",
    "import random\n",
    "import pickle\n",
    "import time\n",
    "import os\n",
    "%run ARIMA-creator.ipynb"
   ]
  },
  {
   "cell_type": "code",
   "execution_count": 39,
   "metadata": {},
   "outputs": [],
   "source": [
    "def generator(data, arima_data, fin_data, lookback, delay, indices, batch_size=32):\n",
    "    \"\"\" Creates a generator for the given data. Returns each \n",
    "    batch with separate word embeddings and ARIMA-predictions. \n",
    "    \n",
    "    Parameters: \n",
    "    data - Sorted data of size (n,d)\n",
    "    arima_data - Predictions from the arima-models \n",
    "    lookback - How far back to include data (days)\n",
    "    delay - How far ahead to predict (days)\n",
    "    indices - Shuffled indices to include, where the order is followed\n",
    "    batch_size - How many samples to return each call \n",
    "    \n",
    "    Returns: \n",
    "    samples_words - Word-related data \n",
    "    samples_arima - The ARIMA-predicted future value \n",
    "    targets - The value of the times series delay days ahead\n",
    "    \n",
    "    \"\"\"\n",
    "    min_index = lookback\n",
    "    max_index = len(data) - delay - 1\n",
    "    current_batch_start = 0\n",
    "    while True:\n",
    "        if current_batch_start > len(indices): \n",
    "            current_batch_start = 0\n",
    "        rows = indices[current_batch_start:min(current_batch_start+batch_size,max_index)]\n",
    "        current_batch_start += batch_size\n",
    "        samples_words = np.zeros((len(rows), lookback, data.shape[-1]))\n",
    "        samples_arima = np.zeros(len(rows),)\n",
    "        targets = np.zeros(len(rows),)\n",
    "        dates = []\n",
    "        for i, index in enumerate(rows): \n",
    "            date = arima_data.index[index]\n",
    "            dates.append(date)\n",
    "            target_date = date + timedelta(days=delay)     # Does this always give a viable date? \n",
    "            if (index > min_index) and (index < max_index):\n",
    "                samples_words[i] = data[range(index - lookback,index)]\n",
    "                samples_arima[i] = arima_data[date]\n",
    "                targets[i] = fin_data.loc[target_date]\n",
    "        yield [samples_words, samples_arima], targets\n",
    "\n",
    "        \n",
    "def concat_daily(df):\n",
    "    conc = pd.DataFrame()\n",
    "    for i in set(df.index):\n",
    "        concat_str = ''\n",
    "        for title in df.loc[i]['title']:\n",
    "            concat_str += \" \" + title\n",
    "        conc = conc.append({'date':i, 'title':concat_str},ignore_index=True)\n",
    "    conc.set_index('date',inplace=True)\n",
    "    conc = conc.sort_values('date')\n",
    "    return conc\n",
    "\n",
    "def pad_data(seq,maxlen):\n",
    "    data = np.zeros((len(seq), maxlen),dtype=int)\n",
    "    for i,s in enumerate(seq): \n",
    "        if len(s) <= maxlen: \n",
    "            data[i,:len(s)] = s\n",
    "        else: \n",
    "            s = np.array(s)\n",
    "            indices = np.sort(np.random.choice(len(s),maxlen,replace=False))\n",
    "            data[i,:] = s[indices]\n",
    "    return data\n",
    "\n",
    "def eval_preds(preds,targets): \n",
    "    \"\"\" Calculate the MSE of the ARIMA-predictions \n",
    "    and the actual prices \"\"\"\n",
    "    return (np.square(preds - targets)).mean(axis=0)\n",
    "    \n",
    "    "
   ]
  },
  {
   "cell_type": "code",
   "execution_count": 3,
   "metadata": {},
   "outputs": [],
   "source": [
    "# Set up hyperparameters to be saved in a config file later. \n",
    "par = {\n",
    "    'embed_dim': 100,    # Dimensions to use for the word embedding\n",
    "    'vocab_part': 0.6,   # How large part of the total vocabulary to include\n",
    "    'lookback': 20,      # How far back to collect data in the recurrent layer (days)\n",
    "    'delay': 5,          # How far ahead to predict data (days)\n",
    "    'batch_size': 10,    # Batch size used in generator\n",
    "    'p': 1,              # Order of the AR-part of the model\n",
    "    'd': 1,              # Integrated order\n",
    "    'q': 1,              # Included moving average terms \n",
    "    'train_part' : 0.6,  # Part of data to be used for training\n",
    "    'val_part' : 0.2,    # Part of data to be used for validation\n",
    "    'test_part' : 0.2,   # Part of data to be used for testing\n",
    "    'series': '1 YEAR'   # What series we currently want to predict, '1 YEAR', '3 YEAR' or 'S&P'\n",
    "}"
   ]
  },
  {
   "cell_type": "code",
   "execution_count": 4,
   "metadata": {},
   "outputs": [],
   "source": [
    "# Load data \n",
    "news_path = Path(os.getcwd()) / \"Datasets/data/financial_headlines_20061020-20131119.pkl\"\n",
    "stock_path = Path(os.getcwd()) / \"Datasets/data/stock_data.pkl\"\n",
    "data = pd.DataFrame(pd.read_pickle(news_path))\n",
    "data.set_index('date',inplace=True)\n",
    "stock_data = pd.DataFrame(pd.read_pickle(stock_path))\n",
    "data = concat_daily(data)"
   ]
  },
  {
   "cell_type": "code",
   "execution_count": 5,
   "metadata": {},
   "outputs": [],
   "source": [
    "# Load and process text data \n",
    "\n",
    "len_words = [len(title) for title in data['title'].values]\n",
    "mean_words = np.mean(len_words)\n",
    "std_words = np.std(len_words)\n",
    "\n",
    "sent_len = int(mean_words + 2 * std_words)  # THIS MAKES IT SLOW!?                                                                                                                                                        \n",
    "sent_len = 500\n",
    "\n",
    "\n",
    "# Update environment variable config\n",
    "par.update({'input_dim': sent_len})\n",
    "par.update({'start_date' : data.index[0]})\n",
    "par.update({'end_date' : data.index[-1]})\n",
    "\n",
    "# Tokenize the text data\n",
    "tokenizer = Tokenizer(num_words=None)  # Tokenize without limitation first, just because it's a cheap way \n",
    "tokenizer.fit_on_texts(data['title'])  # of calculating the number of unique words in the data\n",
    "par.update({'vocab_size': len(tokenizer.word_index)})\n",
    "\n",
    "tokenizer = Tokenizer(num_words=par['vocab_size'] * par['vocab_part'])\n",
    "\n",
    "tokenizer.fit_on_texts(data['title'])\n",
    "sequences = tokenizer.texts_to_sequences(data['title'])\n",
    "\n",
    "word_index = tokenizer.word_index\n",
    "\n",
    "par.update({'vocab_size': len(word_index)})"
   ]
  },
  {
   "cell_type": "code",
   "execution_count": 6,
   "metadata": {},
   "outputs": [],
   "source": [
    "# Pad sequences to the same length sent_len. End-padded.\n",
    "# If a sequence is longer than sent_len, words are randomly sampled.\n",
    "text_data = pad_data(sequences,sent_len)\n",
    "\n",
    "# Extract financial data\n",
    "stock_data = stock_data[par['start_date'] : par['end_date']]\n",
    "\n",
    "# Add indicies which are present in the news data but not in the \n",
    "# financial data and interpolate missing values \n",
    "stock_data = stock_data.reindex(data.index.drop_duplicates())\n",
    "stock_data = stock_data.interpolate()\n",
    "\n",
    "# Normalize the financial data to [0,1]\n",
    "fin_stats = pd.DataFrame(columns=['min','max'])\n",
    "for col in stock_data: \n",
    "    minimum = min(stock_data[col])\n",
    "    maximum = max(stock_data[col])\n",
    "    fin_stats = fin_stats.append({'min':minimum, 'max':maximum},ignore_index=True)\n",
    "    stock_data[col] = [(row - minimum) / (maximum - minimum) for row in stock_data[col]]\n",
    "fin_stats.index = stock_data.columns\n",
    "\n",
    "# Concatinate all data to one dataframe \n",
    "data = pd.DataFrame()\n",
    "for text in text_data:\n",
    "    data = data.append({'WORDS':text},ignore_index=True)\n",
    "data['DATE'] = stock_data.index\n",
    "data.set_index('DATE',inplace=True)\n",
    "for col in stock_data: \n",
    "    data[col] = stock_data[col]"
   ]
  },
  {
   "cell_type": "code",
   "execution_count": 7,
   "metadata": {
    "scrolled": true
   },
   "outputs": [
    {
     "name": "stdout",
     "output_type": "stream",
     "text": [
      "Found and loaded previously constructed models.\n"
     ]
    }
   ],
   "source": [
    "# Check if the ARIMA-models has been previously calculated for this config\n",
    "# or if they have to be constructed\n",
    "path = Path(f\"./Models/ARIMA/all_mods_del{par['delay']}.pkl\")\n",
    "if os.path.exists(path):\n",
    "    # Load model if if already exists\n",
    "    ARIMA_models = pd.read_pickle(path)    \n",
    "    print(\"Found and loaded previously constructed models.\")\n",
    "else: \n",
    "    # Fit ARIMA-models to all of the dates in the training data \n",
    "    print(\"Model not found, fitting models...\")\n",
    "    ARIMA_models = fit_all_models(par, data)\n",
    "    ARIMA_models.to_pickle(path)    "
   ]
  },
  {
   "cell_type": "code",
   "execution_count": 8,
   "metadata": {},
   "outputs": [],
   "source": [
    "# Predict \n",
    "arima_preds = predict_arima(ARIMA_models, par['delay'])"
   ]
  },
  {
   "cell_type": "code",
   "execution_count": 9,
   "metadata": {},
   "outputs": [
    {
     "data": {
      "text/html": [
       "<div>\n",
       "<style scoped>\n",
       "    .dataframe tbody tr th:only-of-type {\n",
       "        vertical-align: middle;\n",
       "    }\n",
       "\n",
       "    .dataframe tbody tr th {\n",
       "        vertical-align: top;\n",
       "    }\n",
       "\n",
       "    .dataframe thead th {\n",
       "        text-align: right;\n",
       "    }\n",
       "</style>\n",
       "<table border=\"1\" class=\"dataframe\">\n",
       "  <thead>\n",
       "    <tr style=\"text-align: right;\">\n",
       "      <th></th>\n",
       "      <th>1 YEAR</th>\n",
       "      <th>3 YEAR</th>\n",
       "      <th>S&amp;P</th>\n",
       "    </tr>\n",
       "    <tr>\n",
       "      <th>date</th>\n",
       "      <th></th>\n",
       "      <th></th>\n",
       "      <th></th>\n",
       "    </tr>\n",
       "  </thead>\n",
       "  <tbody>\n",
       "    <tr>\n",
       "      <td>2006-11-10</td>\n",
       "      <td>0.975805</td>\n",
       "      <td>0.885219</td>\n",
       "      <td>0.486327</td>\n",
       "    </tr>\n",
       "    <tr>\n",
       "      <td>2006-11-11</td>\n",
       "      <td>0.978997</td>\n",
       "      <td>0.894900</td>\n",
       "      <td>0.487505</td>\n",
       "    </tr>\n",
       "    <tr>\n",
       "      <td>2006-11-12</td>\n",
       "      <td>0.979915</td>\n",
       "      <td>0.894458</td>\n",
       "      <td>0.488468</td>\n",
       "    </tr>\n",
       "    <tr>\n",
       "      <td>2006-11-13</td>\n",
       "      <td>0.981899</td>\n",
       "      <td>0.898712</td>\n",
       "      <td>0.489512</td>\n",
       "    </tr>\n",
       "    <tr>\n",
       "      <td>2006-11-14</td>\n",
       "      <td>0.975154</td>\n",
       "      <td>0.887344</td>\n",
       "      <td>0.497077</td>\n",
       "    </tr>\n",
       "    <tr>\n",
       "      <td>...</td>\n",
       "      <td>...</td>\n",
       "      <td>...</td>\n",
       "      <td>...</td>\n",
       "    </tr>\n",
       "    <tr>\n",
       "      <td>2013-11-15</td>\n",
       "      <td>0.008057</td>\n",
       "      <td>0.060185</td>\n",
       "      <td>0.999512</td>\n",
       "    </tr>\n",
       "    <tr>\n",
       "      <td>2013-11-16</td>\n",
       "      <td>0.008060</td>\n",
       "      <td>0.058758</td>\n",
       "      <td>0.998117</td>\n",
       "    </tr>\n",
       "    <tr>\n",
       "      <td>2013-11-17</td>\n",
       "      <td>0.008060</td>\n",
       "      <td>0.057422</td>\n",
       "      <td>0.996633</td>\n",
       "    </tr>\n",
       "    <tr>\n",
       "      <td>2013-11-18</td>\n",
       "      <td>0.008061</td>\n",
       "      <td>0.056013</td>\n",
       "      <td>0.995077</td>\n",
       "    </tr>\n",
       "    <tr>\n",
       "      <td>2013-11-19</td>\n",
       "      <td>0.010248</td>\n",
       "      <td>0.060271</td>\n",
       "      <td>0.992574</td>\n",
       "    </tr>\n",
       "  </tbody>\n",
       "</table>\n",
       "<p>2561 rows × 3 columns</p>\n",
       "</div>"
      ],
      "text/plain": [
       "              1 YEAR    3 YEAR       S&P\n",
       "date                                    \n",
       "2006-11-10  0.975805  0.885219  0.486327\n",
       "2006-11-11  0.978997  0.894900  0.487505\n",
       "2006-11-12  0.979915  0.894458  0.488468\n",
       "2006-11-13  0.981899  0.898712  0.489512\n",
       "2006-11-14  0.975154  0.887344  0.497077\n",
       "...              ...       ...       ...\n",
       "2013-11-15  0.008057  0.060185  0.999512\n",
       "2013-11-16  0.008060  0.058758  0.998117\n",
       "2013-11-17  0.008060  0.057422  0.996633\n",
       "2013-11-18  0.008061  0.056013  0.995077\n",
       "2013-11-19  0.010248  0.060271  0.992574\n",
       "\n",
       "[2561 rows x 3 columns]"
      ]
     },
     "execution_count": 9,
     "metadata": {},
     "output_type": "execute_result"
    }
   ],
   "source": [
    "arima_preds"
   ]
  },
  {
   "cell_type": "code",
   "execution_count": 10,
   "metadata": {},
   "outputs": [],
   "source": [
    "sequential_data = []\n",
    "sequence_dates = []\n",
    "prev_data = deque(maxlen=par['lookback'])\n",
    "for i,row in enumerate(data['WORDS']): \n",
    "    prev_data.append(row)\n",
    "    if len(prev_data) == par['lookback']:\n",
    "        sequential_data.append(np.array(prev_data))\n",
    "        sequence_dates.append(data.index[i])\n",
    "sequential_data = np.asarray(sequential_data)\n",
    "\n"
   ]
  },
  {
   "cell_type": "code",
   "execution_count": 11,
   "metadata": {},
   "outputs": [],
   "source": [
    "# Drop the values not in arima_preds. This is just values in the beginning where\n",
    "# there isn't enough data to make a prediction, varies depending on lookback and delay. \n",
    "for date in data.index: \n",
    "    if not date in arima_preds.index : data.drop(index=date,inplace=True)\n",
    "        \n",
    "# Add the predicitons to the training data \n",
    "data['1 YEAR PRED'] = arima_preds['1 YEAR'].values\n",
    "data['3 YEAR PRED'] = arima_preds['3 YEAR'].values\n",
    "data['S&P PRED'] = arima_preds['S&P'].values"
   ]
  },
  {
   "cell_type": "code",
   "execution_count": 12,
   "metadata": {},
   "outputs": [],
   "source": [
    "# Shift the target data (the actual rates) so that each row has a target rate 'delay' days in the future\n",
    "data['1 YEAR'] = data['1 YEAR'].shift(-par['delay'])\n",
    "data['3 YEAR'] = data['3 YEAR'].shift(-par['delay'])\n",
    "data['S&P'] = data['S&P'].shift(-par['delay'])\n",
    "data.dropna(inplace=True)"
   ]
  },
  {
   "cell_type": "code",
   "execution_count": 24,
   "metadata": {},
   "outputs": [],
   "source": [
    "arima_preds = pd.DataFrame(np.zeros(2556))"
   ]
  },
  {
   "cell_type": "code",
   "execution_count": 25,
   "metadata": {},
   "outputs": [
    {
     "data": {
      "text/plain": [
       "(2556, 1)"
      ]
     },
     "execution_count": 25,
     "metadata": {},
     "output_type": "execute_result"
    }
   ],
   "source": [
    "arima_preds.shape"
   ]
  },
  {
   "cell_type": "code",
   "execution_count": null,
   "metadata": {
    "scrolled": false
   },
   "outputs": [],
   "source": []
  },
  {
   "cell_type": "code",
   "execution_count": 13,
   "metadata": {},
   "outputs": [],
   "source": [
    "del_rows = []\n",
    "for i,date in enumerate(sequence_dates): \n",
    "    if date not in data.index: del_rows.append(i)\n",
    "keep_rows = np.setdiff1d(np.arange(len(sequential_data)),del_rows)\n",
    "sequential_data = sequential_data[keep_rows]\n",
    "        "
   ]
  },
  {
   "cell_type": "code",
   "execution_count": 14,
   "metadata": {},
   "outputs": [],
   "source": [
    "# Divide the data into training, validation and test segments. \n",
    "indices = np.arange(len(data))\n",
    "np.random.shuffle(indices)\n",
    "\n",
    "# Here we extract the time series specified in 'par' (for some reason...)\n",
    "words = np.array([row for row in data['WORDS'].values])\n",
    "arima_preds = np.array([row for row in data[par['series'] + ' PRED'].values])\n",
    "targets = np.array([row for row in data[par['series']].values])\n",
    "\n",
    "\n",
    "training_samples = round(par['train_part'] * len(data))\n",
    "validation_samples = round(par['val_part'] * len(data))\n",
    "test_samples = round(par['test_part'] * len(data))\n",
    "\n",
    "train_words = words[:training_samples - par['delay']]\n",
    "train_seq = sequential_data[:training_samples - par['delay']]\n",
    "train_arima = arima_preds[:training_samples - par['delay']]\n",
    "train_targets = targets[:training_samples - par['delay']]\n",
    "\n",
    "val_words = words[training_samples:training_samples + validation_samples - par['delay']]\n",
    "val_seq = sequential_data[training_samples:training_samples + validation_samples - par['delay']]\n",
    "val_arima = arima_preds[training_samples:training_samples + validation_samples - par['delay']]\n",
    "val_targets = targets[training_samples:training_samples + validation_samples - par['delay']]\n",
    "\n",
    "test_words = words[-test_samples:]\n",
    "test_seq = sequential_data[-test_samples:]\n",
    "test_arima = arima_preds[-test_samples:]\n",
    "test_targets = targets[-test_samples:]\n"
   ]
  },
  {
   "cell_type": "code",
   "execution_count": 71,
   "metadata": {},
   "outputs": [
    {
     "data": {
      "text/plain": [
       "(2556, 20, 500)"
      ]
     },
     "execution_count": 71,
     "metadata": {},
     "output_type": "execute_result"
    }
   ],
   "source": [
    "sequential_data.shape"
   ]
  },
  {
   "cell_type": "code",
   "execution_count": 15,
   "metadata": {},
   "outputs": [],
   "source": [
    "# Shuffle the data \n",
    "train_indices = np.arange(len(train_targets))\n",
    "random.shuffle(train_indices)\n",
    "train_words = train_words[train_indices]\n",
    "train_seq = train_seq[train_indices]\n",
    "train_arima = train_arima[train_indices]\n",
    "train_targets = train_targets[train_indices]\n",
    "\n",
    "val_indices = np.arange(len(val_targets))\n",
    "val_words = val_words[val_indices]\n",
    "val_seq = val_seq[val_indices]\n",
    "val_arima = val_arima[val_indices]\n",
    "val_targets = val_targets[val_indices]\n",
    "\n",
    "test_indices = np.arange(len(test_targets))\n",
    "test_words = test_words[test_indices]\n",
    "test_seq = test_seq[test_indices]\n",
    "test_arima = test_arima[test_indices]\n",
    "test_targets = test_targets[test_indices]"
   ]
  },
  {
   "cell_type": "code",
   "execution_count": 16,
   "metadata": {},
   "outputs": [],
   "source": [
    "# Initialize logging folder for TensorBoard\n",
    "logdir=Path(\"./logs/fit/\" + datetime.now().strftime(\"%Y%m%d-%H%M%S\"))\n",
    "tensorboard_callback = keras.callbacks.TensorBoard(log_dir=logdir)"
   ]
  },
  {
   "cell_type": "code",
   "execution_count": 17,
   "metadata": {},
   "outputs": [
    {
     "name": "stdout",
     "output_type": "stream",
     "text": [
      "(1529, 500)\n",
      "(1529, 20, 500)\n"
     ]
    }
   ],
   "source": [
    "print(train_words.shape)\n",
    "print(train_seq.shape)"
   ]
  },
  {
   "cell_type": "code",
   "execution_count": 77,
   "metadata": {},
   "outputs": [
    {
     "name": "stdout",
     "output_type": "stream",
     "text": [
      "Model: \"model_3\"\n",
      "__________________________________________________________________________________________________\n",
      "Layer (type)                    Output Shape         Param #     Connected to                     \n",
      "==================================================================================================\n",
      "Text_Input (InputLayer)         [(None, 500)]        0                                            \n",
      "__________________________________________________________________________________________________\n",
      "Embedding_Layer (Embedding)     (None, 500, 100)     2566400     Text_Input[0][0]                 \n",
      "__________________________________________________________________________________________________\n",
      "lstm_3 (LSTM)                   (None, 10)           4440        Embedding_Layer[0][0]            \n",
      "__________________________________________________________________________________________________\n",
      "dropout_7 (Dropout)             (None, 10)           0           lstm_3[0][0]                     \n",
      "__________________________________________________________________________________________________\n",
      "ARIMA_input (InputLayer)        [(None, 1)]          0                                            \n",
      "__________________________________________________________________________________________________\n",
      "concatenate_3 (Concatenate)     (None, 11)           0           dropout_7[0][0]                  \n",
      "                                                                 ARIMA_input[0][0]                \n",
      "__________________________________________________________________________________________________\n",
      "Dense_2 (Dense)                 (None, 64)           768         concatenate_3[0][0]              \n",
      "__________________________________________________________________________________________________\n",
      "Main_Output (Dense)             (None, 1)            65          Dense_2[0][0]                    \n",
      "==================================================================================================\n",
      "Total params: 2,571,673\n",
      "Trainable params: 2,571,673\n",
      "Non-trainable params: 0\n",
      "__________________________________________________________________________________________________\n"
     ]
    }
   ],
   "source": [
    "# Initialize the neural network\n",
    "text_inputs = Input(shape=(par['input_dim']), name='Text_Input')\n",
    "\n",
    "# Layer for word embedding\n",
    "embedded_layer = Embedding(input_dim=par['vocab_size'],\n",
    "                           output_dim=par['embed_dim'],\n",
    "                           input_length=(par['input_dim']), name='Embedding_Layer')(text_inputs)\n",
    "\n",
    "# LSTM-layer over the embedding layer \n",
    "lstm_out = LSTM(10)(embedded_layer)\n",
    "dropout = Dropout(0.2)(lstm_out)\n",
    "\n",
    "# Input from an ARIMA-model independently fitted to the training data. \n",
    "ARIMA_input = Input(shape=(1,), name='ARIMA_input')\n",
    "\n",
    "# Merging the ARIMA-input and the input from the LSTM-layer. \n",
    "hidden = keras.layers.concatenate([dropout, ARIMA_input])\n",
    "\n",
    "# Stack of dense layers \n",
    "#hidden = Dense(64, activation='relu',name='Dense_1')(hidden)\n",
    "#hidden = Dropout(0.2)(hidden)\n",
    "\n",
    "hidden = Dense(64, activation='relu',name='Dense_2')(hidden)\n",
    "#hidden = Dropout(0.2)(hidden)\n",
    "\n",
    "# Main output of the model\n",
    "main_output = Dense(1,activation='linear',name='Main_Output')(hidden)\n",
    "\n",
    "model_word = Model(inputs=[text_inputs, ARIMA_input],outputs=[main_output])\n",
    "\n",
    "model_word.compile(optimizer='rmsprop',\n",
    "             loss='mse')\n",
    "model_word.summary()\n"
   ]
  },
  {
   "cell_type": "code",
   "execution_count": 20,
   "metadata": {},
   "outputs": [
    {
     "data": {
      "text/plain": [
       "(1529, 500)"
      ]
     },
     "execution_count": 20,
     "metadata": {},
     "output_type": "execute_result"
    }
   ],
   "source": [
    "train_words.shape"
   ]
  },
  {
   "cell_type": "code",
   "execution_count": 21,
   "metadata": {},
   "outputs": [
    {
     "data": {
      "text/plain": [
       "(1529, 20, 500)"
      ]
     },
     "execution_count": 21,
     "metadata": {},
     "output_type": "execute_result"
    }
   ],
   "source": [
    "train_seq.shape"
   ]
  },
  {
   "cell_type": "code",
   "execution_count": 22,
   "metadata": {
    "scrolled": false
   },
   "outputs": [
    {
     "data": {
      "image/png": "[encoded data removed]",
      "text/plain": [
       "<IPython.core.display.Image object>"
      ]
     },
     "execution_count": 22,
     "metadata": {},
     "output_type": "execute_result"
    }
   ],
   "source": [
    "plot_model(model)"
   ]
  },
  {
   "cell_type": "code",
   "execution_count": null,
   "metadata": {},
   "outputs": [],
   "source": []
  },
  {
   "cell_type": "code",
   "execution_count": null,
   "metadata": {},
   "outputs": [
    {
     "name": "stdout",
     "output_type": "stream",
     "text": [
      "Train on 1529 samples, validate on 506 samples\n",
      "Epoch 1/10\n",
      "1529/1529 [==============================] - 135s 88ms/sample - loss: 0.0153 - val_loss: 5.1277e-05\n",
      "Epoch 2/10\n",
      "1529/1529 [==============================] - 125s 82ms/sample - loss: 6.9694e-04 - val_loss: 1.2164e-04\n",
      "Epoch 3/10\n",
      "1529/1529 [==============================] - 114s 75ms/sample - loss: 5.8280e-04 - val_loss: 4.1564e-05\n",
      "Epoch 4/10\n",
      "1529/1529 [==============================] - 113s 74ms/sample - loss: 5.0970e-04 - val_loss: 2.4564e-05\n",
      "Epoch 5/10\n",
      "1529/1529 [==============================] - 126s 82ms/sample - loss: 4.8401e-04 - val_loss: 3.6600e-05\n",
      "Epoch 6/10\n",
      " 590/1529 [==========>...................] - ETA: 1:12 - loss: 5.2871e-04"
     ]
    }
   ],
   "source": [
    "h = model_word.fit({'Text_Input': train_words, 'ARIMA_input': train_arima},\n",
    "              {'Main_Output': train_targets},\n",
    "              validation_data=({'Text_Input': val_words, 'ARIMA_input': val_arima},\n",
    "              {'Main_Output': val_targets}),\n",
    "              batch_size=par['batch_size'],\n",
    "              epochs=10)"
   ]
  },
  {
   "cell_type": "code",
   "execution_count": 25,
   "metadata": {},
   "outputs": [
    {
     "data": {
      "image/png": "[encoded data removed]",
      "text/plain": [
       "<Figure size 432x288 with 1 Axes>"
      ]
     },
     "metadata": {
      "needs_background": "light"
     },
     "output_type": "display_data"
    }
   ],
   "source": [
    "plt.plot(h.history['loss'],color=\"blue\",label=\"Loss\")\n",
    "plt.plot(h.history['val_loss'],color=\"red\",label=\"Val_Loss\")\n",
    "plt.legend()\n",
    "plt.yscale('log')\n",
    "plt.ylabel('Loss')\n",
    "plt.xlabel('Epochs')\n",
    "plt.xticks(range(5))\n",
    "plt.show()"
   ]
  },
  {
   "cell_type": "markdown",
   "metadata": {},
   "source": [
    "\n"
   ]
  },
  {
   "cell_type": "code",
   "execution_count": null,
   "metadata": {},
   "outputs": [],
   "source": [
    "# Save model and parameters\n",
    "date_str = date.today().strftime(\"%y%h%d-%Hh%Mm\")\n",
    "dir_path = Path(f\"./Models/model_del_{par['delay']}_t{date_str}\")\n",
    "os.mkdir(dir_path)\n",
    "model_path = dir_path / \"m.h5\"\n",
    "model.save(model_path)\n",
    "config_path = dir_path / \"config.pkl\"\n",
    "pickle.dump(par,open(config_path,'wb'))"
   ]
  },
  {
   "cell_type": "code",
   "execution_count": null,
   "metadata": {},
   "outputs": [],
   "source": [
    "par"
   ]
  },
  {
   "cell_type": "code",
   "execution_count": 73,
   "metadata": {},
   "outputs": [
    {
     "name": "stdout",
     "output_type": "stream",
     "text": [
      "Model: \"model_2\"\n",
      "__________________________________________________________________________________________________\n",
      "Layer (type)                    Output Shape         Param #     Connected to                     \n",
      "==================================================================================================\n",
      "Text_Input (InputLayer)         [(None, 20, 500)]    0                                            \n",
      "__________________________________________________________________________________________________\n",
      "time_distributed_2 (TimeDistrib (None, 20, 500, 100) 2566400     Text_Input[0][0]                 \n",
      "__________________________________________________________________________________________________\n",
      "time_distributed_3 (TimeDistrib (None, 20, 50000)    0           time_distributed_2[0][0]         \n",
      "__________________________________________________________________________________________________\n",
      "lstm_2 (LSTM)                   (None, 10)           2000440     time_distributed_3[0][0]         \n",
      "__________________________________________________________________________________________________\n",
      "dropout_4 (Dropout)             (None, 10)           0           lstm_2[0][0]                     \n",
      "__________________________________________________________________________________________________\n",
      "ARIMA_input (InputLayer)        [(None, 1)]          0                                            \n",
      "__________________________________________________________________________________________________\n",
      "concatenate_2 (Concatenate)     (None, 11)           0           dropout_4[0][0]                  \n",
      "                                                                 ARIMA_input[0][0]                \n",
      "__________________________________________________________________________________________________\n",
      "Dense_1 (Dense)                 (None, 64)           768         concatenate_2[0][0]              \n",
      "__________________________________________________________________________________________________\n",
      "dropout_5 (Dropout)             (None, 64)           0           Dense_1[0][0]                    \n",
      "__________________________________________________________________________________________________\n",
      "Dense_2 (Dense)                 (None, 64)           4160        dropout_5[0][0]                  \n",
      "__________________________________________________________________________________________________\n",
      "dropout_6 (Dropout)             (None, 64)           0           Dense_2[0][0]                    \n",
      "__________________________________________________________________________________________________\n",
      "Main_Output (Dense)             (None, 1)            65          dropout_6[0][0]                  \n",
      "==================================================================================================\n",
      "Total params: 4,571,833\n",
      "Trainable params: 4,571,833\n",
      "Non-trainable params: 0\n",
      "__________________________________________________________________________________________________\n"
     ]
    },
    {
     "data": {
      "image/png": "[encoded data removed]",
      "text/plain": [
       "<IPython.core.display.Image object>"
      ]
     },
     "execution_count": 73,
     "metadata": {},
     "output_type": "execute_result"
    }
   ],
   "source": [
    "# Pierre's model\n",
    "# Initialize the neural network\n",
    "text_inputs = Input(shape=(par['lookback'],par['input_dim']), name='Text_Input')\n",
    "\n",
    "# Layer for word embedding\n",
    "embedded_layer = TimeDistributed(Embedding(input_dim=par['vocab_size'],\n",
    "                           output_dim=par['embed_dim'],\n",
    "                           input_length=par['input_dim'], name='Embedding_Layer'))(text_inputs)\n",
    "\n",
    "embedded_layer = TimeDistributed(Flatten())(embedded_layer)\n",
    "\n",
    "# LSTM-layer over the embedding layer \n",
    "lstm_out = LSTM(10, input_shape=(None,par['lookback'],par['embed_dim']))(embedded_layer)\n",
    "dropout = Dropout(0.2)(lstm_out)\n",
    "\n",
    "# Input from an ARIMA-model independently fitted to the training data. \n",
    "ARIMA_input = Input(shape=(1,), name='ARIMA_input')\n",
    "\n",
    "# Merging the ARIMA-input and the input from the LSTM-layer. \n",
    "hidden = keras.layers.concatenate([dropout, ARIMA_input])\n",
    "\n",
    "# Stack of dense layers \n",
    "hidden = Dense(64, activation='relu',name='Dense_1')(hidden)\n",
    "hidden = Dropout(0.2)(hidden)\n",
    "\n",
    "hidden = Dense(64, activation='relu',name='Dense_2')(hidden)\n",
    "hidden = Dropout(0.2)(hidden)\n",
    "\n",
    "# Main output of the model\n",
    "main_output = Dense(1,activation='linear',name='Main_Output')(hidden)\n",
    "\n",
    "model_p = Model(inputs=[text_inputs, ARIMA_input],outputs=[main_output])\n",
    "\n",
    "model_p.compile(optimizer='rmsprop',\n",
    "             loss='mse')\n",
    "\n",
    "model_p.summary()\n",
    "\n",
    "plot_model(model_p)"
   ]
  },
  {
   "cell_type": "code",
   "execution_count": null,
   "metadata": {},
   "outputs": [],
   "source": [
    "par"
   ]
  },
  {
   "cell_type": "code",
   "execution_count": 74,
   "metadata": {
    "scrolled": true
   },
   "outputs": [
    {
     "name": "stdout",
     "output_type": "stream",
     "text": [
      "Train on 1529 samples, validate on 506 samples\n",
      "Epoch 1/10\n",
      "1529/1529 [==============================] - 44s 28ms/sample - loss: 0.0307 - val_loss: 1.2937e-04\n",
      "Epoch 2/10\n",
      "1529/1529 [==============================] - 34s 22ms/sample - loss: 0.0067 - val_loss: 4.1659e-04\n",
      "Epoch 3/10\n",
      "1529/1529 [==============================] - 35s 23ms/sample - loss: 0.0055 - val_loss: 4.6916e-05\n",
      "Epoch 4/10\n",
      "1529/1529 [==============================] - 35s 23ms/sample - loss: 0.0048 - val_loss: 4.9541e-04\n",
      "Epoch 5/10\n",
      "1529/1529 [==============================] - 35s 23ms/sample - loss: 0.0041 - val_loss: 1.4373e-04\n",
      "Epoch 6/10\n",
      "1529/1529 [==============================] - 35s 23ms/sample - loss: 0.0037 - val_loss: 3.4452e-04\n",
      "Epoch 7/10\n",
      "1529/1529 [==============================] - 35s 23ms/sample - loss: 0.0038 - val_loss: 0.0010\n",
      "Epoch 8/10\n",
      "1529/1529 [==============================] - 35s 23ms/sample - loss: 0.0033 - val_loss: 2.7224e-04\n",
      "Epoch 9/10\n",
      "1529/1529 [==============================] - 34s 23ms/sample - loss: 0.0030 - val_loss: 3.4661e-04\n",
      "Epoch 10/10\n",
      "1529/1529 [==============================] - 33s 21ms/sample - loss: 0.0031 - val_loss: 5.2521e-05\n"
     ]
    }
   ],
   "source": [
    "h_p = model_p.fit({'Text_Input': train_seq, 'ARIMA_input': train_arima},\n",
    "              {'Main_Output': train_targets},\n",
    "              validation_data=({'Text_Input': val_seq, 'ARIMA_input': val_arima},\n",
    "              {'Main_Output': val_targets}),\n",
    "              batch_size=par['batch_size'],\n",
    "              epochs=10)"
   ]
  },
  {
   "cell_type": "code",
   "execution_count": 75,
   "metadata": {},
   "outputs": [
    {
     "data": {
      "image/png": "[encoded data removed]",
      "text/plain": [
       "<Figure size 432x288 with 1 Axes>"
      ]
     },
     "metadata": {
      "needs_background": "light"
     },
     "output_type": "display_data"
    }
   ],
   "source": [
    "plt.plot(h_p.history['loss'],color=\"blue\",label=\"Loss\")\n",
    "plt.plot(h_p.history['val_loss'],color=\"red\",label=\"Val_Loss\")\n",
    "plt.legend()\n",
    "plt.yscale('log')\n",
    "plt.ylabel('Loss')\n",
    "plt.xlabel('Epochs')\n",
    "plt.xticks(range(10))\n",
    "plt.show()"
   ]
  },
  {
   "cell_type": "code",
   "execution_count": 76,
   "metadata": {},
   "outputs": [
    {
     "name": "stdout",
     "output_type": "stream",
     "text": [
      " ------ TRAIN RESULTS ------ \n",
      "NLP MSE:  0.0006400492876625581\n",
      "ARIMA MSE:  0.00041789812732734527\n",
      "Percentage nlp vs arima: 34.699999999999996 %\n",
      " ------ VAL RESULTS ------ \n",
      "NLP MSE:  5.252104885671417e-05\n",
      "ARIMA MSE:  2.0982900708183788e-05\n",
      "Percentage nlp vs arima: 60.0 %\n",
      " ------ TEST RESULTS ------ \n",
      "NLP MSE:  6.06547813315114e-05\n",
      "ARIMA MSE:  1.066499868060035e-05\n",
      "Percentage nlp vs arima: 82.39999999999999 %\n"
     ]
    }
   ],
   "source": [
    "# Evaluate the model and compare to the ARIMA-predictions\n",
    "\n",
    "train_mse_nlp_seq = model_p.evaluate({'Text_Input': train_seq, 'ARIMA_input': train_arima},\n",
    "                {'Main_Output': train_targets},verbose=0)\n",
    "train_mse_nlp_word = model_word.evaluate({'Text_Input': train_word, 'ARIMA_input': train_arima},\n",
    "                {'Main_Output': train_targets},verbose=0)\n",
    "train_mse_arima = eval_preds(train_arima, train_targets)\n",
    "print(\" ------ TRAIN RESULTS ------ \")\n",
    "print(\"NLP MSE WORDS: \",train_mse_nlp_word)\n",
    "print(\"NLP MSE SEQUENCE: \",train_mse_nlp_seq)\n",
    "print(\"ARIMA MSE: \",train_mse_arima)\n",
    "print(\"Percentage nlp seq vs arima: {} %\".format(round((train_mse_nlp_seq - train_mse_arima) / train_mse_nlp_seq,3) * 100))\n",
    "\n",
    "val_mse_nlp_seq = model_p.evaluate({'Text_Input': val_seq, 'ARIMA_input': val_arima},\n",
    "                {'Main_Output': val_targets},verbose=0)\n",
    "val_mse_nlp_word = model_word.evaluate({'Text_Input': val_seq, 'ARIMA_input': val_arima},\n",
    "                {'Main_Output': val_targets},verbose=0)\n",
    "val_mse_arima = eval_preds(val_arima, val_targets)\n",
    "print(\" ------ VAL RESULTS ------ \")\n",
    "print(\"NLP MSE WORD: \",val_mse_nlp_word)\n",
    "print(\"NLP MSE SEQUENCE: \",val_mse_nlp_seq)\n",
    "print(\"ARIMA MSE: \",val_mse_arima)\n",
    "print(\"Percentage nlp seq vs arima: {} %\".format(round((val_mse_nlp_seq - val_mse_arima) / val_mse_nlp_seq,3) * 100))\n",
    "\n",
    "test_mse_nlp_seq = model_p.evaluate({'Text_Input': test_seq, 'ARIMA_input': test_arima},\n",
    "                {'Main_Output': test_targets},verbose=0)\n",
    "test_mse_nlp_word = model_word.evaluate({'Text_Input': test_word, 'ARIMA_input': test_arima},\n",
    "                {'Main_Output': test_targets},verbose=0)\n",
    "\n",
    "print(\" ------ TEST RESULTS ------ \")\n",
    "print(\"NLP MSE WORD: \",test_mse_nlp_word)\n",
    "print(\"NLP MSE SEQUENCE: \",test_mse_nlp_seq)\n",
    "test_mse_arima = eval_preds(test_arima, test_targets)\n",
    "print(\"ARIMA MSE: \",test_mse_arima)\n",
    "print(\"Percentage nlp seq vs arima: {} %\".format(round((test_mse_nlp_seq - test_mse_arima) / test_mse_nlp_seq,3) * 100))\n"
   ]
  },
  {
   "cell_type": "code",
   "execution_count": null,
   "metadata": {},
   "outputs": [],
   "source": []
  },
  {
   "cell_type": "code",
   "execution_count": null,
   "metadata": {},
   "outputs": [],
   "source": []
  },
  {
   "cell_type": "code",
   "execution_count": null,
   "metadata": {},
   "outputs": [],
   "source": []
  },
  {
   "cell_type": "code",
   "execution_count": null,
   "metadata": {},
   "outputs": [],
   "source": []
  },
  {
   "cell_type": "code",
   "execution_count": null,
   "metadata": {},
   "outputs": [],
   "source": []
  },
  {
   "cell_type": "code",
   "execution_count": null,
   "metadata": {},
   "outputs": [],
   "source": []
  }
 ],
 "metadata": {
  "kernelspec": {
   "display_name": "Python 3",
   "language": "python",
   "name": "python3"
  },
  "language_info": {
   "codemirror_mode": {
    "name": "ipython",
    "version": 3
   },
   "file_extension": ".py",
   "mimetype": "text/x-python",
   "name": "python",
   "nbconvert_exporter": "python",
   "pygments_lexer": "ipython3",
   "version": "3.7.4"
  }
 },
 "nbformat": 4,
 "nbformat_minor": 2
}
